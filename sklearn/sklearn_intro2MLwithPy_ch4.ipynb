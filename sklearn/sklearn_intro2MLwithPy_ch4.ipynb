{
 "cells": [
  {
   "cell_type": "markdown",
   "metadata": {},
   "source": [
    "# 4章データの表現と特徴量エンジニアリング"
   ]
  },
  {
   "cell_type": "code",
   "execution_count": 1,
   "metadata": {
    "collapsed": true
   },
   "outputs": [],
   "source": [
    "%matplotlib inline\n",
    "import matplotlib.pyplot as plt\n",
    "import numpy as np\n",
    "\n",
    "import mglearn"
   ]
  },
  {
   "cell_type": "code",
   "execution_count": 2,
   "metadata": {},
   "outputs": [
    {
     "data": {
      "text/plain": [
       "(100, 1)"
      ]
     },
     "execution_count": 2,
     "metadata": {},
     "output_type": "execute_result"
    }
   ],
   "source": [
    "X, y = mglearn.datasets.make_wave(n_samples=100)\n",
    "\n",
    "X.shape"
   ]
  },
  {
   "cell_type": "code",
   "execution_count": 3,
   "metadata": {},
   "outputs": [
    {
     "data": {
      "text/plain": [
       "(array([[-0.75275929],\n",
       "        [ 2.70428584],\n",
       "        [ 1.39196365],\n",
       "        [ 0.59195091],\n",
       "        [-2.06388816],\n",
       "        [-2.06403288],\n",
       "        [-2.65149833],\n",
       "        [ 2.19705687],\n",
       "        [ 0.60669007],\n",
       "        [ 1.24843547],\n",
       "        [-2.87649303],\n",
       "        [ 2.81945911],\n",
       "        [ 1.99465584],\n",
       "        [-1.72596534],\n",
       "        [-1.9090502 ],\n",
       "        [-1.89957294],\n",
       "        [-1.17454654],\n",
       "        [ 0.14853859],\n",
       "        [-0.40832989],\n",
       "        [-1.25262516],\n",
       "        [ 0.67111737],\n",
       "        [-2.16303684],\n",
       "        [-1.24713211],\n",
       "        [-0.80182894],\n",
       "        [-0.26358009],\n",
       "        [ 1.71105577],\n",
       "        [-1.80195731],\n",
       "        [ 0.08540663],\n",
       "        [ 0.55448741],\n",
       "        [-2.72129752],\n",
       "        [ 0.64526911],\n",
       "        [-1.97685526],\n",
       "        [-2.60969044],\n",
       "        [ 2.69331322],\n",
       "        [ 2.7937922 ],\n",
       "        [ 1.85038409],\n",
       "        [-1.17231738],\n",
       "        [-2.41396732],\n",
       "        [ 1.10539816],\n",
       "        [-0.35908504],\n",
       "        [-2.26777059],\n",
       "        [-0.02893854],\n",
       "        [-2.79366887],\n",
       "        [ 2.45592241],\n",
       "        [-1.44732011],\n",
       "        [ 0.97513371],\n",
       "        [-1.12973354],\n",
       "        [ 0.12040813],\n",
       "        [ 0.28026168],\n",
       "        [-1.89087327],\n",
       "        [ 2.81750777],\n",
       "        [ 1.65079694],\n",
       "        [ 2.63699365],\n",
       "        [ 2.3689641 ],\n",
       "        [ 0.58739987],\n",
       "        [ 2.53124541],\n",
       "        [-2.46904499],\n",
       "        [-1.82410283],\n",
       "        [-2.72863627],\n",
       "        [-1.04801802],\n",
       "        [-0.66793626],\n",
       "        [-1.37190581],\n",
       "        [ 1.97242505],\n",
       "        [-0.85948004],\n",
       "        [-1.31439294],\n",
       "        [ 0.2561765 ],\n",
       "        [-2.15445465],\n",
       "        [ 1.81318188],\n",
       "        [-2.55269614],\n",
       "        [ 2.92132162],\n",
       "        [ 1.63346862],\n",
       "        [-1.80770591],\n",
       "        [-2.9668673 ],\n",
       "        [ 1.89276857],\n",
       "        [ 1.24114406],\n",
       "        [ 1.37404301],\n",
       "        [ 1.62762208],\n",
       "        [-2.55573209],\n",
       "        [-0.84920563],\n",
       "        [-2.30478564],\n",
       "        [ 2.17862056],\n",
       "        [ 0.73978876],\n",
       "        [-1.01461185],\n",
       "        [-2.6186499 ],\n",
       "        [-1.13410607],\n",
       "        [-1.04890007],\n",
       "        [ 1.37763707],\n",
       "        [ 0.82534483],\n",
       "        [ 2.32327646],\n",
       "        [-0.16671045],\n",
       "        [-2.28243452],\n",
       "        [ 1.27946872],\n",
       "        [ 1.56471029],\n",
       "        [ 0.36766319],\n",
       "        [ 1.62580308],\n",
       "        [-0.03722642],\n",
       "        [ 0.13639698],\n",
       "        [-0.43475389],\n",
       "        [-2.84748524],\n",
       "        [-2.35265144]]),\n",
       " array([-0.39794858,  0.71057755,  0.41392867, -0.34838379, -1.60200406,\n",
       "        -1.31357099, -0.124268  ,  1.13660585,  0.22684365, -0.10700113,\n",
       "        -0.54427035,  1.0938912 ,  1.22856895, -0.89714157, -1.39417599,\n",
       "        -0.9492085 , -0.43835025,  0.19034234, -0.89924205, -0.88012364,\n",
       "         0.70430307, -1.30000147, -0.13995175, -0.48537014, -1.27425783,\n",
       "         0.91123781, -1.47153912, -0.19092529,  0.59550252, -0.66166641,\n",
       "         1.53153925, -1.40042495, -0.75159805,  0.82173954, -0.05444761,\n",
       "         1.36162551, -0.05617721,  0.13915737, -0.02248933, -0.52425604,\n",
       "        -1.32442468, -0.6565562 , -0.33342093,  1.40971987, -0.09111024,\n",
       "        -0.31120403,  0.62720334, -0.40910817,  0.88383737, -0.32926085,\n",
       "         0.43219944,  0.69953405,  0.91757823,  0.9072161 , -0.12575441,\n",
       "         0.97771746, -1.54756059, -1.0995268 , -1.32567079,  0.68478903,\n",
       "        -0.95196998, -0.48985511,  1.89265222, -0.8991673 , -0.11595025,\n",
       "         1.20894039, -2.2420626 ,  1.4112213 , -0.79263824,  1.46585765,\n",
       "         0.32229477, -1.97010101, -0.90077433,  1.57500058,  0.26163397,\n",
       "         0.50612165,  0.58647405, -0.80370608, -0.15183266, -1.61166313,\n",
       "         2.34822654,  0.69752447, -0.70611156, -0.54738091, -0.56211481,\n",
       "         0.30379743,  0.91910334, -0.07722254,  1.70897229, -0.18621847,\n",
       "        -0.87557618,  1.12867544,  0.64749022,  0.30445842,  0.47727232,\n",
       "        -0.50069636,  0.289108  , -0.5397432 , -0.82377718, -0.76981996]))"
      ]
     },
     "execution_count": 3,
     "metadata": {},
     "output_type": "execute_result"
    }
   ],
   "source": [
    "X, y"
   ]
  },
  {
   "cell_type": "code",
   "execution_count": 4,
   "metadata": {},
   "outputs": [
    {
     "data": {
      "text/plain": [
       "(100, 10)"
      ]
     },
     "execution_count": 4,
     "metadata": {},
     "output_type": "execute_result"
    }
   ],
   "source": [
    "from sklearn.preprocessing import PolynomialFeatures\n",
    "\n",
    "poly = PolynomialFeatures(degree=10, include_bias=False)\n",
    "poly.fit(X)\n",
    "X_poly = poly.transform(X)\n",
    "X_poly.shape"
   ]
  },
  {
   "cell_type": "code",
   "execution_count": 5,
   "metadata": {},
   "outputs": [
    {
     "data": {
      "text/plain": [
       "array([[-7.52759287e-01,  5.66646544e-01, -4.26548448e-01,\n",
       "         3.21088306e-01, -2.41702204e-01,  1.81943579e-01,\n",
       "        -1.36959719e-01,  1.03097700e-01, -7.76077513e-02,\n",
       "         5.84199555e-02],\n",
       "       [ 2.70428584e+00,  7.31316190e+00,  1.97768801e+01,\n",
       "         5.34823369e+01,  1.44631526e+02,  3.91124988e+02,\n",
       "         1.05771377e+03,  2.86036036e+03,  7.73523202e+03,\n",
       "         2.09182784e+04],\n",
       "       [ 1.39196365e+00,  1.93756281e+00,  2.69701700e+00,\n",
       "         3.75414962e+00,  5.22563982e+00,  7.27390068e+00,\n",
       "         1.01250053e+01,  1.40936394e+01,  1.96178338e+01,\n",
       "         2.73073115e+01],\n",
       "       [ 5.91950905e-01,  3.50405874e-01,  2.07423074e-01,\n",
       "         1.22784277e-01,  7.26822637e-02,  4.30243318e-02,\n",
       "         2.54682921e-02,  1.50759786e-02,  8.92423917e-03,\n",
       "         5.28271146e-03],\n",
       "       [-2.06388816e+00,  4.25963433e+00, -8.79140884e+00,\n",
       "         1.81444846e+01, -3.74481869e+01,  7.72888694e+01,\n",
       "        -1.59515582e+02,  3.29222321e+02, -6.79478050e+02,\n",
       "         1.40236670e+03],\n",
       "       [-2.06403288e+00,  4.26023172e+00, -8.79325834e+00,\n",
       "         1.81495743e+01, -3.74613181e+01,  7.73213922e+01,\n",
       "        -1.59593896e+02,  3.29407048e+02, -6.79906977e+02,\n",
       "         1.40335036e+03]])"
      ]
     },
     "execution_count": 5,
     "metadata": {},
     "output_type": "execute_result"
    }
   ],
   "source": [
    "X_poly[:6]"
   ]
  },
  {
   "cell_type": "code",
   "execution_count": 6,
   "metadata": {},
   "outputs": [
    {
     "data": {
      "text/plain": [
       "['x0', 'x0^2', 'x0^3', 'x0^4', 'x0^5', 'x0^6', 'x0^7', 'x0^8', 'x0^9', 'x0^10']"
      ]
     },
     "execution_count": 6,
     "metadata": {},
     "output_type": "execute_result"
    }
   ],
   "source": [
    "poly.get_feature_names()"
   ]
  },
  {
   "cell_type": "code",
   "execution_count": 7,
   "metadata": {},
   "outputs": [
    {
     "data": {
      "text/plain": [
       "10"
      ]
     },
     "execution_count": 7,
     "metadata": {},
     "output_type": "execute_result"
    }
   ],
   "source": [
    "poly.degree"
   ]
  },
  {
   "cell_type": "code",
   "execution_count": 8,
   "metadata": {},
   "outputs": [
    {
     "data": {
      "text/plain": [
       "{'degree': 10, 'include_bias': False, 'interaction_only': False}"
      ]
     },
     "execution_count": 8,
     "metadata": {},
     "output_type": "execute_result"
    }
   ],
   "source": [
    "poly.get_params()"
   ]
  },
  {
   "cell_type": "markdown",
   "metadata": {
    "collapsed": true
   },
   "source": [
    "# 4.4 単変量非線形変換"
   ]
  },
  {
   "cell_type": "code",
   "execution_count": 9,
   "metadata": {
    "collapsed": true
   },
   "outputs": [],
   "source": [
    "rnd = np.random.RandomState(0)\n",
    "X_org = rnd.normal(size=(1000, 3))\n",
    "w= rnd.normal(size=3)"
   ]
  },
  {
   "cell_type": "code",
   "execution_count": 10,
   "metadata": {},
   "outputs": [
    {
     "data": {
      "text/plain": [
       "array([[ 1.76405235,  0.40015721,  0.97873798],\n",
       "       [ 2.2408932 ,  1.86755799, -0.97727788],\n",
       "       [ 0.95008842, -0.15135721, -0.10321885],\n",
       "       [ 0.4105985 ,  0.14404357,  1.45427351],\n",
       "       [ 0.76103773,  0.12167502,  0.44386323],\n",
       "       [ 0.33367433,  1.49407907, -0.20515826]])"
      ]
     },
     "execution_count": 10,
     "metadata": {},
     "output_type": "execute_result"
    }
   ],
   "source": [
    "X_org[:6]"
   ]
  },
  {
   "cell_type": "code",
   "execution_count": 11,
   "metadata": {},
   "outputs": [
    {
     "data": {
      "text/plain": [
       "(1000, 3)"
      ]
     },
     "execution_count": 11,
     "metadata": {},
     "output_type": "execute_result"
    }
   ],
   "source": [
    "X_org.shape"
   ]
  },
  {
   "cell_type": "code",
   "execution_count": 12,
   "metadata": {},
   "outputs": [
    {
     "data": {
      "text/plain": [
       "array([ 1.59327362,  0.5687224 , -0.11448705])"
      ]
     },
     "execution_count": 12,
     "metadata": {},
     "output_type": "execute_result"
    }
   ],
   "source": [
    "w"
   ]
  },
  {
   "cell_type": "code",
   "execution_count": 13,
   "metadata": {},
   "outputs": [
    {
     "data": {
      "text/plain": [
       "(array([[56, 18, 27],\n",
       "        [81, 57,  3],\n",
       "        [25,  9, 11],\n",
       "        [20, 13, 30],\n",
       "        [27, 13, 13],\n",
       "        [18, 46,  7]]),\n",
       " array([2.92614361, 4.74436373, 1.4394878 , 0.56962109, 1.23092405,\n",
       "        1.4048387 ]))"
      ]
     },
     "execution_count": 13,
     "metadata": {},
     "output_type": "execute_result"
    }
   ],
   "source": [
    "X = rnd.poisson(10 * np.exp(X_org))\n",
    "y = np.dot(X_org, w)\n",
    "X[:6], y[:6]"
   ]
  },
  {
   "cell_type": "code",
   "execution_count": 14,
   "metadata": {},
   "outputs": [
    {
     "data": {
      "text/plain": [
       "array([28, 38, 68, 48, 61, 59, 45, 56, 37, 40, 35, 34, 36, 26, 23, 26, 27,\n",
       "       21, 23, 23, 18, 21, 10,  9, 17,  9,  7, 14, 12,  7,  3,  8,  4,  5,\n",
       "        5,  3,  4,  2,  4,  1,  1,  3,  2,  5,  3,  8,  2,  5,  2,  1,  2,\n",
       "        3,  3,  2,  2,  3,  3,  0,  1,  2,  1,  0,  0,  3,  1,  0,  0,  0,\n",
       "        1,  3,  0,  1,  0,  2,  0,  1,  1,  0,  0,  0,  0,  1,  0,  0,  2,\n",
       "        2,  0,  1,  1,  0,  0,  0,  0,  1,  1,  0,  0,  0,  0,  0,  0,  0,\n",
       "        1,  0,  0,  0,  0,  0,  1,  1,  0,  0,  1,  0,  0,  0,  0,  0,  0,\n",
       "        0,  1,  0,  0,  0,  0,  1,  0,  0,  0,  0,  0,  0,  0,  0,  0,  0,\n",
       "        0,  0,  0,  0,  1])"
      ]
     },
     "execution_count": 14,
     "metadata": {},
     "output_type": "execute_result"
    }
   ],
   "source": [
    "np.bincount(X[:, 0])"
   ]
  },
  {
   "cell_type": "code",
   "execution_count": 15,
   "metadata": {},
   "outputs": [
    {
     "data": {
      "text/plain": [
       "Text(0.5,0,'Value')"
      ]
     },
     "execution_count": 15,
     "metadata": {},
     "output_type": "execute_result"
    },
    {
     "data": {
      "image/png": "[encoded data removed]",
      "text/plain": [
       "<matplotlib.figure.Figure at 0x7f29aa5a83c8>"
      ]
     },
     "metadata": {},
     "output_type": "display_data"
    }
   ],
   "source": [
    "bins = np.bincount(X[:, 0])\n",
    "plt.bar(range(len(bins)), bins, color='b')\n",
    "plt.ylabel(\"Number of appearances\")\n",
    "plt.xlabel(\"Value\")"
   ]
  },
  {
   "cell_type": "markdown",
   "metadata": {
    "collapsed": true
   },
   "source": [
    "# 4.5 自動特徴量選択\n",
    "\n",
    "# 4.5.1 単変量統計"
   ]
  },
  {
   "cell_type": "code",
   "execution_count": 16,
   "metadata": {},
   "outputs": [
    {
     "name": "stdout",
     "output_type": "stream",
     "text": [
      "(569, 30)\n",
      "569\n",
      "(569, 50)\n",
      "(569, 80)\n"
     ]
    },
    {
     "data": {
      "text/plain": [
       "(284, 40)"
      ]
     },
     "execution_count": 16,
     "metadata": {},
     "output_type": "execute_result"
    }
   ],
   "source": [
    "from sklearn.datasets import load_breast_cancer\n",
    "from sklearn.feature_selection import SelectPercentile\n",
    "from sklearn.model_selection import train_test_split\n",
    "\n",
    "cancer = load_breast_cancer()\n",
    "print(cancer.data.shape)\n",
    "\n",
    "rng = np.random.RandomState(42)\n",
    "noise = rng.normal(size=(len(cancer.data), 50))\n",
    "print(len(cancer.data))\n",
    "print(noise.shape)\n",
    "\n",
    "X_w_noise = np.hstack([cancer.data, noise])\n",
    "print(X_w_noise.shape)\n",
    "X_train, X_test, y_train, y_test = train_test_split(X_w_noise, cancer.target, \n",
    "                                                    random_state=0,\n",
    "                                                   test_size=.5)\n",
    "select = SelectPercentile(percentile=50)\n",
    "select.fit(X_train, y_train)\n",
    "X_train_selected = select.transform(X_train)\n",
    "X_train_selected.shape"
   ]
  },
  {
   "cell_type": "code",
   "execution_count": 17,
   "metadata": {},
   "outputs": [
    {
     "data": {
      "text/plain": [
       "(80,)"
      ]
     },
     "execution_count": 17,
     "metadata": {},
     "output_type": "execute_result"
    }
   ],
   "source": [
    "mask = select.get_support()\n",
    "mask.shape"
   ]
  },
  {
   "cell_type": "code",
   "execution_count": 18,
   "metadata": {},
   "outputs": [
    {
     "data": {
      "text/plain": [
       "array([ True,  True,  True,  True,  True,  True,  True,  True,  True,\n",
       "       False,  True, False,  True,  True,  True,  True,  True,  True,\n",
       "       False, False,  True,  True,  True,  True,  True,  True,  True,\n",
       "        True,  True,  True, False, False, False,  True, False,  True,\n",
       "       False, False,  True, False, False, False, False,  True, False,\n",
       "       False,  True, False, False,  True, False,  True, False, False,\n",
       "       False, False, False, False,  True, False,  True, False, False,\n",
       "       False, False,  True, False,  True, False, False, False, False,\n",
       "        True,  True, False,  True, False, False, False, False])"
      ]
     },
     "execution_count": 18,
     "metadata": {},
     "output_type": "execute_result"
    }
   ],
   "source": [
    "mask"
   ]
  },
  {
   "cell_type": "code",
   "execution_count": 19,
   "metadata": {},
   "outputs": [
    {
     "data": {
      "text/plain": [
       "<matplotlib.image.AxesImage at 0x7f29a8372978>"
      ]
     },
     "execution_count": 19,
     "metadata": {},
     "output_type": "execute_result"
    },
    {
     "data": {
      "image/png": "[encoded data removed]",
      "text/plain": [
       "<matplotlib.figure.Figure at 0x7f29a851dc18>"
      ]
     },
     "metadata": {},
     "output_type": "display_data"
    }
   ],
   "source": [
    "plt.matshow(mask.reshape(1,-1), cmap='gray_r')"
   ]
  },
  {
   "cell_type": "code",
   "execution_count": 20,
   "metadata": {},
   "outputs": [
    {
     "data": {
      "text/plain": [
       "array([[ True,  True,  True,  True,  True,  True,  True,  True,  True,\n",
       "        False,  True, False,  True,  True,  True,  True,  True,  True,\n",
       "        False, False,  True,  True,  True,  True,  True,  True,  True,\n",
       "         True,  True,  True, False, False, False,  True, False,  True,\n",
       "        False, False,  True, False, False, False, False,  True, False,\n",
       "        False,  True, False, False,  True, False,  True, False, False,\n",
       "        False, False, False, False,  True, False,  True, False, False,\n",
       "        False, False,  True, False,  True, False, False, False, False,\n",
       "         True,  True, False,  True, False, False, False, False]])"
      ]
     },
     "execution_count": 20,
     "metadata": {},
     "output_type": "execute_result"
    }
   ],
   "source": [
    "mask.reshape(1,-1)"
   ]
  },
  {
   "cell_type": "code",
   "execution_count": 21,
   "metadata": {},
   "outputs": [
    {
     "data": {
      "text/plain": [
       "array([[ True],\n",
       "       [ True],\n",
       "       [ True],\n",
       "       [ True],\n",
       "       [ True],\n",
       "       [ True],\n",
       "       [ True],\n",
       "       [ True],\n",
       "       [ True],\n",
       "       [False],\n",
       "       [ True],\n",
       "       [False],\n",
       "       [ True],\n",
       "       [ True],\n",
       "       [ True],\n",
       "       [ True],\n",
       "       [ True],\n",
       "       [ True],\n",
       "       [False],\n",
       "       [False],\n",
       "       [ True],\n",
       "       [ True],\n",
       "       [ True],\n",
       "       [ True],\n",
       "       [ True],\n",
       "       [ True],\n",
       "       [ True],\n",
       "       [ True],\n",
       "       [ True],\n",
       "       [ True],\n",
       "       [False],\n",
       "       [False],\n",
       "       [False],\n",
       "       [ True],\n",
       "       [False],\n",
       "       [ True],\n",
       "       [False],\n",
       "       [False],\n",
       "       [ True],\n",
       "       [False],\n",
       "       [False],\n",
       "       [False],\n",
       "       [False],\n",
       "       [ True],\n",
       "       [False],\n",
       "       [False],\n",
       "       [ True],\n",
       "       [False],\n",
       "       [False],\n",
       "       [ True],\n",
       "       [False],\n",
       "       [ True],\n",
       "       [False],\n",
       "       [False],\n",
       "       [False],\n",
       "       [False],\n",
       "       [False],\n",
       "       [False],\n",
       "       [ True],\n",
       "       [False],\n",
       "       [ True],\n",
       "       [False],\n",
       "       [False],\n",
       "       [False],\n",
       "       [False],\n",
       "       [ True],\n",
       "       [False],\n",
       "       [ True],\n",
       "       [False],\n",
       "       [False],\n",
       "       [False],\n",
       "       [False],\n",
       "       [ True],\n",
       "       [ True],\n",
       "       [False],\n",
       "       [ True],\n",
       "       [False],\n",
       "       [False],\n",
       "       [False],\n",
       "       [False]])"
      ]
     },
     "execution_count": 21,
     "metadata": {},
     "output_type": "execute_result"
    }
   ],
   "source": [
    "mask.reshape(-1, 1)"
   ]
  },
  {
   "cell_type": "code",
   "execution_count": 23,
   "metadata": {},
   "outputs": [
    {
     "data": {
      "text/plain": [
       "PolynomialFeatures(degree=2, include_bias=False, interaction_only=True)"
      ]
     },
     "execution_count": 23,
     "metadata": {},
     "output_type": "execute_result"
    }
   ],
   "source": [
    "poly_transformer = PolynomialFeatures(degree=2, interaction_only=True,\n",
    "                                      include_bias=False)\n",
    "poly_transformer"
   ]
  },
  {
   "cell_type": "code",
   "execution_count": 34,
   "metadata": {},
   "outputs": [
    {
     "name": "stdout",
     "output_type": "stream",
     "text": [
      "Int64Index([ 0,  3,  6,  9, 12, 15, 18, 21,  0,  3,\n",
      "            ...\n",
      "            18, 21,  0,  3,  6,  9, 12, 15, 18, 21],\n",
      "           dtype='int64', name='starttime', length=248)\n"
     ]
    },
    {
     "ename": "NotImplementedError",
     "evalue": "reshaping is not supported for Index objects",
     "output_type": "error",
     "traceback": [
      "\u001b[0;31m---------------------------------------------------------------------------\u001b[0m",
      "\u001b[0;31mNotImplementedError\u001b[0m                       Traceback (most recent call last)",
      "\u001b[0;32m<ipython-input-34-17d1fde9075c>\u001b[0m in \u001b[0;36m<module>\u001b[0;34m()\u001b[0m\n\u001b[1;32m      5\u001b[0m \u001b[0mcitibike\u001b[0m \u001b[0;34m=\u001b[0m \u001b[0mmglearn\u001b[0m\u001b[0;34m.\u001b[0m\u001b[0mdatasets\u001b[0m\u001b[0;34m.\u001b[0m\u001b[0mload_citibike\u001b[0m\u001b[0;34m(\u001b[0m\u001b[0;34m)\u001b[0m\u001b[0;34m\u001b[0m\u001b[0m\n\u001b[1;32m      6\u001b[0m \u001b[0mprint\u001b[0m\u001b[0;34m(\u001b[0m\u001b[0mcitibike\u001b[0m\u001b[0;34m.\u001b[0m\u001b[0mindex\u001b[0m\u001b[0;34m.\u001b[0m\u001b[0mhour\u001b[0m\u001b[0;34m)\u001b[0m\u001b[0;34m\u001b[0m\u001b[0m\n\u001b[0;32m----> 7\u001b[0;31m X_hour_week = np.hstack([citibike.index.dayofweek.reshape(-1, 1),\n\u001b[0m\u001b[1;32m      8\u001b[0m                          citibike.index.hour.reshape(-1, 1)])\n\u001b[1;32m      9\u001b[0m \u001b[0;34m\u001b[0m\u001b[0m\n",
      "\u001b[0;32m~/.local/lib/python3.6/site-packages/pandas/core/indexes/base.py\u001b[0m in \u001b[0;36mreshape\u001b[0;34m(self, *args, **kwargs)\u001b[0m\n\u001b[1;32m   1204\u001b[0m         \u001b[0mReshape\u001b[0m \u001b[0man\u001b[0m \u001b[0mIndex\u001b[0m\u001b[0;34m.\u001b[0m\u001b[0;34m\u001b[0m\u001b[0m\n\u001b[1;32m   1205\u001b[0m         \"\"\"\n\u001b[0;32m-> 1206\u001b[0;31m         raise NotImplementedError(\"reshaping is not supported \"\n\u001b[0m\u001b[1;32m   1207\u001b[0m                                   \"for Index objects\")\n\u001b[1;32m   1208\u001b[0m \u001b[0;34m\u001b[0m\u001b[0m\n",
      "\u001b[0;31mNotImplementedError\u001b[0m: reshaping is not supported for Index objects"
     ]
    }
   ],
   "source": [
    "from sklearn.preprocessing import OneHotEncoder\n",
    "\n",
    "enc = OneHotEncoder()\n",
    "\n",
    "citibike = mglearn.datasets.load_citibike()\n",
    "print(citibike.index.hour)\n",
    "X_hour_week = np.hstack([citibike.index.dayofweek.reshape(-1, 1),\n",
    "                         citibike.index.hour.reshape(-1, 1)])\n",
    "\n",
    "X_hour_week_onehot = enc.fit_transform(X_hour_week).toarray()"
   ]
  },
  {
   "cell_type": "code",
   "execution_count": 36,
   "metadata": {},
   "outputs": [
    {
     "ename": "NotImplementedError",
     "evalue": "reshaping is not supported for Index objects",
     "output_type": "error",
     "traceback": [
      "\u001b[0;31m---------------------------------------------------------------------------\u001b[0m",
      "\u001b[0;31mNotImplementedError\u001b[0m                       Traceback (most recent call last)",
      "\u001b[0;32m<ipython-input-36-29e9e9f51807>\u001b[0m in \u001b[0;36m<module>\u001b[0;34m()\u001b[0m\n\u001b[0;32m----> 1\u001b[0;31m \u001b[0mcitibike\u001b[0m\u001b[0;34m.\u001b[0m\u001b[0mindex\u001b[0m\u001b[0;34m.\u001b[0m\u001b[0mhour\u001b[0m\u001b[0;34m.\u001b[0m\u001b[0mreshape\u001b[0m\u001b[0;34m(\u001b[0m\u001b[0;34m-\u001b[0m\u001b[0;36m1\u001b[0m\u001b[0;34m,\u001b[0m \u001b[0;36m1\u001b[0m\u001b[0;34m)\u001b[0m\u001b[0;34m\u001b[0m\u001b[0m\n\u001b[0m",
      "\u001b[0;32m~/.local/lib/python3.6/site-packages/pandas/core/indexes/base.py\u001b[0m in \u001b[0;36mreshape\u001b[0;34m(self, *args, **kwargs)\u001b[0m\n\u001b[1;32m   1204\u001b[0m         \u001b[0mReshape\u001b[0m \u001b[0man\u001b[0m \u001b[0mIndex\u001b[0m\u001b[0;34m.\u001b[0m\u001b[0;34m\u001b[0m\u001b[0m\n\u001b[1;32m   1205\u001b[0m         \"\"\"\n\u001b[0;32m-> 1206\u001b[0;31m         raise NotImplementedError(\"reshaping is not supported \"\n\u001b[0m\u001b[1;32m   1207\u001b[0m                                   \"for Index objects\")\n\u001b[1;32m   1208\u001b[0m \u001b[0;34m\u001b[0m\u001b[0m\n",
      "\u001b[0;31mNotImplementedError\u001b[0m: reshaping is not supported for Index objects"
     ]
    }
   ],
   "source": [
    "citibike.index.hour.reshape(-1, 1)"
   ]
  },
  {
   "cell_type": "code",
   "execution_count": null,
   "metadata": {
    "collapsed": true
   },
   "outputs": [],
   "source": []
  },
  {
   "cell_type": "code",
   "execution_count": null,
   "metadata": {
    "collapsed": true
   },
   "outputs": [],
   "source": []
  },
  {
   "cell_type": "code",
   "execution_count": null,
   "metadata": {
    "collapsed": true
   },
   "outputs": [],
   "source": []
  },
  {
   "cell_type": "code",
   "execution_count": null,
   "metadata": {
    "collapsed": true
   },
   "outputs": [],
   "source": []
  },
  {
   "cell_type": "code",
   "execution_count": null,
   "metadata": {
    "collapsed": true
   },
   "outputs": [],
   "source": []
  },
  {
   "cell_type": "code",
   "execution_count": null,
   "metadata": {
    "collapsed": true
   },
   "outputs": [],
   "source": []
  },
  {
   "cell_type": "code",
   "execution_count": null,
   "metadata": {
    "collapsed": true
   },
   "outputs": [],
   "source": []
  },
  {
   "cell_type": "code",
   "execution_count": null,
   "metadata": {
    "collapsed": true
   },
   "outputs": [],
   "source": []
  },
  {
   "cell_type": "code",
   "execution_count": null,
   "metadata": {
    "collapsed": true
   },
   "outputs": [],
   "source": []
  },
  {
   "cell_type": "code",
   "execution_count": null,
   "metadata": {
    "collapsed": true
   },
   "outputs": [],
   "source": []
  }
 ],
 "metadata": {
  "kernelspec": {
   "display_name": "Python 3",
   "language": "python",
   "name": "python3"
  },
  "language_info": {
   "codemirror_mode": {
    "name": "ipython",
    "version": 3
   },
   "file_extension": ".py",
   "mimetype": "text/x-python",
   "name": "python",
   "nbconvert_exporter": "python",
   "pygments_lexer": "ipython3",
   "version": "3.6.4"
  }
 },
 "nbformat": 4,
 "nbformat_minor": 2
}
