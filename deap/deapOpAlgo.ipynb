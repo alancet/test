{
 "cells": [
  {
   "cell_type": "markdown",
   "metadata": {},
   "source": [
    "https://deap.readthedocs.io/en/master/tutorials/basic/part2.html"
   ]
  },
  {
   "cell_type": "code",
   "execution_count": 3,
   "metadata": {},
   "outputs": [
    {
     "name": "stderr",
     "output_type": "stream",
     "text": [
      "/home/yuki/anaconda3/lib/python3.6/site-packages/deap/creator.py:141: RuntimeWarning: A class named 'FitnessMin' has already been created and it will be overwritten. Consider deleting previous creation of that class or rename it.\n",
      "  RuntimeWarning)\n",
      "/home/yuki/anaconda3/lib/python3.6/site-packages/deap/creator.py:141: RuntimeWarning: A class named 'Individual' has already been created and it will be overwritten. Consider deleting previous creation of that class or rename it.\n",
      "  RuntimeWarning)\n"
     ]
    }
   ],
   "source": [
    "import random\n",
    "\n",
    "from deap import base\n",
    "from deap import creator\n",
    "from deap import tools\n",
    "\n",
    "IND_SIZE = 5\n",
    "\n",
    "creator.create(\"FitnessMin\", base.Fitness, weights=(-1.0, -1.0))\n",
    "creator.create(\"Individual\", list, fitness=creator.FitnessMin)"
   ]
  },
  {
   "cell_type": "code",
   "execution_count": 5,
   "metadata": {},
   "outputs": [],
   "source": [
    "toolbox = base.Toolbox()\n",
    "toolbox.register(\"attr_float\", random.random)\n",
    "toolbox.register(\"individual\", tools.initRepeat, creator.Individual, \n",
    "                toolbox.attr_float, n=IND_SIZE)"
   ]
  },
  {
   "cell_type": "code",
   "execution_count": 11,
   "metadata": {},
   "outputs": [
    {
     "name": "stdout",
     "output_type": "stream",
     "text": [
      "[0.762544364109863, 0.9409068350101778, 0.8377895059030583, 0.5324252325671645, 0.8075305776371624] () False\n",
      "<class 'deap.creator.Individual'>\n",
      "['__add__', '__class__', '__contains__', '__delattr__', '__delitem__', '__dict__', '__dir__', '__doc__', '__eq__', '__format__', '__ge__', '__getattribute__', '__getitem__', '__gt__', '__hash__', '__iadd__', '__imul__', '__init__', '__init_subclass__', '__iter__', '__le__', '__len__', '__lt__', '__module__', '__mul__', '__ne__', '__new__', '__reduce__', '__reduce_ex__', '__repr__', '__reversed__', '__rmul__', '__setattr__', '__setitem__', '__sizeof__', '__str__', '__subclasshook__', '__weakref__', 'append', 'clear', 'copy', 'count', 'extend', 'fitness', 'index', 'insert', 'pop', 'remove', 'reverse', 'sort']\n"
     ]
    }
   ],
   "source": [
    "ind1 = toolbox.individual()\n",
    "print(ind1, ind1.fitness.values, ind1.fitness.valid)\n",
    "# fitness.values が空ならば、validがFalse。\n",
    "# なるほど、評価できるかできないかでvalidの判定か。\n",
    "# なら、評価関数が遺伝子の妥当性検証をしているということか\n",
    "\n",
    "print(type(ind1))\n",
    "print(dir(ind1))"
   ]
  },
  {
   "cell_type": "code",
   "execution_count": 15,
   "metadata": {},
   "outputs": [
    {
     "name": "stdout",
     "output_type": "stream",
     "text": [
      "True (3.881196515227426, 0.2) (3.881196515227426, 0.2)\n"
     ]
    }
   ],
   "source": [
    "# 評価処理は自分で書く必要がある\n",
    "# > The evaluation is the most personal part of an evolutionary algorithm, \n",
    "# > it is the only part of the library that you must write yourself. \n",
    "\n",
    "# 評価値の典型例が、タプルと書いてある。1つの値ではないのか\n",
    "# > A typical evaluation function takes one individual as argument \n",
    "# > and returns its fitness as a tuple.\n",
    "# そうか、多目的最適化の場合があるか。それだったら評価値が複数の場合もある\n",
    "# だが、それらをまとめて1つの評価値にすることもある。\n",
    "# だが、パレート最適を求めるから、複数の評価値を返すのがデフォルトのほうが勝手が良いな。\n",
    "\n",
    "def evaluate(individual):\n",
    "    a = sum(individual)\n",
    "    b = len(individual)\n",
    "    return a, 1./b\n",
    "\n",
    "ind1.fitness.values = evaluate(ind1)\n",
    "print(ind1.fitness.valid, ind1.fitness, ind1.fitness.values)"
   ]
  },
  {
   "cell_type": "code",
   "execution_count": 26,
   "metadata": {},
   "outputs": [
    {
     "name": "stdout",
     "output_type": "stream",
     "text": [
      "True False\n",
      "[0.762544364109863, 0.9409068350101778, 0.8377895059030583, 0.5324252325671645, 0.8075305776371624] \n",
      " [0.762544364109863, 0.9409068350101778, 0.8377895059030583, 0.30604731181510525, 0.8075305776371624] \n",
      " [0.762544364109863, 0.9409068350101778, 0.8377895059030583, 0.30604731181510525, 0.8075305776371624]\n"
     ]
    }
   ],
   "source": [
    "# 突然変異は、個体に対して適用するが、当然個体の遺伝子を上書きする。\n",
    "# つまり、子を作ってから突然変異適用しないと、親が改変されてしまう\n",
    "# The general rule for mutation operators is that they only mutate, \n",
    "# this means that an independent copy must be made prior to mutating the individual \n",
    "# if the original individual has to be kept or is a reference to another individual \n",
    "# (see the selection operator).\n",
    "\n",
    "# mutateは遺伝子全部にmutateするのか。遺伝子の一部だけじゃなく。\n",
    "# つまり、突然変異が起こると、全遺伝子が改変されているってことか？これはおかしい\n",
    "# 全くの別の個体になるじゃないか。\n",
    "# 突然変異が強すぎる。\n",
    "# いや、大丈夫だ。par indpbが各遺伝子に適用するかどうかの確率だな。\n",
    "\n",
    "mutant = toolbox.clone(ind1)\n",
    "ind2, = tools.mutGaussian(mutant, mu=0.0, sigma=0.2, indpb=0.2)\n",
    "del mutant.fitness.values\n",
    "\n",
    "print(ind2 is mutant, mutant is ind1)\n",
    "print(ind1, '\\n', ind2, '\\n', mutant)"
   ]
  },
  {
   "cell_type": "code",
   "execution_count": 28,
   "metadata": {},
   "outputs": [],
   "source": [
    "child1, child2 = [toolbox.clone(ind) for ind in (ind1, ind2)]\n",
    "tools.cxBlend(child1, child2, 0.5)\n",
    "del child1.fitness.values\n",
    "del child2.fitness.values"
   ]
  },
  {
   "cell_type": "code",
   "execution_count": 29,
   "metadata": {},
   "outputs": [
    {
     "name": "stdout",
     "output_type": "stream",
     "text": [
      "True\n"
     ]
    }
   ],
   "source": [
    "selected = tools.selBest([child1, child2], 2)\n",
    "print(child1 in selected)\n",
    "\n",
    "# selectionはただ選ぶだけで、個体の複製はしない\n",
    "# 最低限の機能しかモジュール側は提供しないんだな\n",
    "# 複製はユーザー任せ。\n",
    "# deapは細かいことは自由にできるが、手間が減らせる量が少ないのか。\n",
    "\n"
   ]
  },
  {
   "cell_type": "code",
   "execution_count": null,
   "metadata": {
    "collapsed": true
   },
   "outputs": [],
   "source": []
  }
 ],
 "metadata": {
  "kernelspec": {
   "display_name": "Python 3",
   "language": "python",
   "name": "python3"
  },
  "language_info": {
   "codemirror_mode": {
    "name": "ipython",
    "version": 3
   },
   "file_extension": ".py",
   "mimetype": "text/x-python",
   "name": "python",
   "nbconvert_exporter": "python",
   "pygments_lexer": "ipython3",
   "version": "3.6.4"
  }
 },
 "nbformat": 4,
 "nbformat_minor": 2
}
