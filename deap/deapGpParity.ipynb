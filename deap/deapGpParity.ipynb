{
 "cells": [
  {
   "cell_type": "markdown",
   "metadata": {},
   "source": [
    "https://deap.readthedocs.io/en/master/examples/gp_parity.html\n",
    "https://github.com/DEAP/deap/blob/4db155fb3c4fe1678f8d7cd03a638248a1a2f447/examples/gp/parity.py"
   ]
  },
  {
   "cell_type": "code",
   "execution_count": 1,
   "metadata": {},
   "outputs": [],
   "source": [
    "import random\n",
    "import operator\n",
    "\n",
    "import numpy\n",
    "\n",
    "from deap import algorithms\n",
    "from deap import base\n",
    "from deap import creator\n",
    "from deap import tools\n",
    "from deap import gp"
   ]
  },
  {
   "cell_type": "code",
   "execution_count": 6,
   "metadata": {},
   "outputs": [
    {
     "data": {
      "text/plain": [
       "([[0, 0, 0, 0, 0, 0],\n",
       "  [0, 0, 0, 0, 0, 1],\n",
       "  [0, 0, 0, 0, 1, 0],\n",
       "  [0, 0, 0, 0, 1, 1],\n",
       "  [0, 0, 0, 1, 0, 0],\n",
       "  [0, 0, 0, 1, 0, 1],\n",
       "  [0, 0, 0, 1, 1, 0],\n",
       "  [0, 0, 0, 1, 1, 1],\n",
       "  [0, 0, 1, 0, 0, 0],\n",
       "  [0, 0, 1, 0, 0, 1],\n",
       "  [0, 0, 1, 0, 1, 0],\n",
       "  [0, 0, 1, 0, 1, 1],\n",
       "  [0, 0, 1, 1, 0, 0],\n",
       "  [0, 0, 1, 1, 0, 1],\n",
       "  [0, 0, 1, 1, 1, 0],\n",
       "  [0, 0, 1, 1, 1, 1],\n",
       "  [0, 1, 0, 0, 0, 0],\n",
       "  [0, 1, 0, 0, 0, 1],\n",
       "  [0, 1, 0, 0, 1, 0],\n",
       "  [0, 1, 0, 0, 1, 1],\n",
       "  [0, 1, 0, 1, 0, 0],\n",
       "  [0, 1, 0, 1, 0, 1],\n",
       "  [0, 1, 0, 1, 1, 0],\n",
       "  [0, 1, 0, 1, 1, 1],\n",
       "  [0, 1, 1, 0, 0, 0],\n",
       "  [0, 1, 1, 0, 0, 1],\n",
       "  [0, 1, 1, 0, 1, 0],\n",
       "  [0, 1, 1, 0, 1, 1],\n",
       "  [0, 1, 1, 1, 0, 0],\n",
       "  [0, 1, 1, 1, 0, 1],\n",
       "  [0, 1, 1, 1, 1, 0],\n",
       "  [0, 1, 1, 1, 1, 1],\n",
       "  [1, 0, 0, 0, 0, 0],\n",
       "  [1, 0, 0, 0, 0, 1],\n",
       "  [1, 0, 0, 0, 1, 0],\n",
       "  [1, 0, 0, 0, 1, 1],\n",
       "  [1, 0, 0, 1, 0, 0],\n",
       "  [1, 0, 0, 1, 0, 1],\n",
       "  [1, 0, 0, 1, 1, 0],\n",
       "  [1, 0, 0, 1, 1, 1],\n",
       "  [1, 0, 1, 0, 0, 0],\n",
       "  [1, 0, 1, 0, 0, 1],\n",
       "  [1, 0, 1, 0, 1, 0],\n",
       "  [1, 0, 1, 0, 1, 1],\n",
       "  [1, 0, 1, 1, 0, 0],\n",
       "  [1, 0, 1, 1, 0, 1],\n",
       "  [1, 0, 1, 1, 1, 0],\n",
       "  [1, 0, 1, 1, 1, 1],\n",
       "  [1, 1, 0, 0, 0, 0],\n",
       "  [1, 1, 0, 0, 0, 1],\n",
       "  [1, 1, 0, 0, 1, 0],\n",
       "  [1, 1, 0, 0, 1, 1],\n",
       "  [1, 1, 0, 1, 0, 0],\n",
       "  [1, 1, 0, 1, 0, 1],\n",
       "  [1, 1, 0, 1, 1, 0],\n",
       "  [1, 1, 0, 1, 1, 1],\n",
       "  [1, 1, 1, 0, 0, 0],\n",
       "  [1, 1, 1, 0, 0, 1],\n",
       "  [1, 1, 1, 0, 1, 0],\n",
       "  [1, 1, 1, 0, 1, 1],\n",
       "  [1, 1, 1, 1, 0, 0],\n",
       "  [1, 1, 1, 1, 0, 1],\n",
       "  [1, 1, 1, 1, 1, 0],\n",
       "  [1, 1, 1, 1, 1, 1]],\n",
       " [1,\n",
       "  0,\n",
       "  0,\n",
       "  1,\n",
       "  0,\n",
       "  1,\n",
       "  1,\n",
       "  0,\n",
       "  0,\n",
       "  1,\n",
       "  1,\n",
       "  0,\n",
       "  1,\n",
       "  0,\n",
       "  0,\n",
       "  1,\n",
       "  0,\n",
       "  1,\n",
       "  1,\n",
       "  0,\n",
       "  1,\n",
       "  0,\n",
       "  0,\n",
       "  1,\n",
       "  1,\n",
       "  0,\n",
       "  0,\n",
       "  1,\n",
       "  0,\n",
       "  1,\n",
       "  1,\n",
       "  0,\n",
       "  0,\n",
       "  1,\n",
       "  1,\n",
       "  0,\n",
       "  1,\n",
       "  0,\n",
       "  0,\n",
       "  1,\n",
       "  1,\n",
       "  0,\n",
       "  0,\n",
       "  1,\n",
       "  0,\n",
       "  1,\n",
       "  1,\n",
       "  0,\n",
       "  1,\n",
       "  0,\n",
       "  0,\n",
       "  1,\n",
       "  0,\n",
       "  1,\n",
       "  1,\n",
       "  0,\n",
       "  0,\n",
       "  1,\n",
       "  1,\n",
       "  0,\n",
       "  1,\n",
       "  0,\n",
       "  0,\n",
       "  1])"
      ]
     },
     "execution_count": 6,
     "metadata": {},
     "output_type": "execute_result"
    }
   ],
   "source": [
    "# Initialize Parity problem input and output matrices\n",
    "PARITY_FANIN_M = 6\n",
    "PARITY_SIZE_M = 2**PARITY_FANIN_M\n",
    "\n",
    "inputs = [None] * PARITY_SIZE_M\n",
    "outputs = [None] * PARITY_SIZE_M\n",
    "\n",
    "for i in range(PARITY_SIZE_M):\n",
    "    inputs[i] = [None] * PARITY_FANIN_M\n",
    "    value = i\n",
    "    dividor = PARITY_SIZE_M\n",
    "    parity = 1\n",
    "    for j in range(PARITY_FANIN_M):\n",
    "        dividor /= 2\n",
    "        if value >= dividor:\n",
    "            inputs[i][j] = 1\n",
    "            parity = int(not parity)\n",
    "            value -= dividor\n",
    "        else:\n",
    "            inputs[i][j] = 0\n",
    "    outputs[i] = parity\n",
    "\n",
    "inputs, outputs"
   ]
  },
  {
   "cell_type": "code",
   "execution_count": 27,
   "metadata": {},
   "outputs": [
    {
     "name": "stdout",
     "output_type": "stream",
     "text": [
      "[0, 0, 0, 0, 0, 0] 1\n",
      "[0, 0, 0, 0, 0, 1] 0\n",
      "[0, 0, 0, 0, 1, 0] 0\n",
      "[0, 0, 0, 0, 1, 1] 1\n",
      "[0, 0, 0, 1, 0, 0] 0\n",
      "[0, 0, 0, 1, 0, 1] 1\n",
      "[0, 0, 0, 1, 1, 0] 1\n",
      "[0, 0, 0, 1, 1, 1] 0\n",
      "[0, 0, 1, 0, 0, 0] 0\n",
      "[0, 0, 1, 0, 0, 1] 1\n",
      "[0, 0, 1, 0, 1, 0] 1\n",
      "[0, 0, 1, 0, 1, 1] 0\n",
      "[0, 0, 1, 1, 0, 0] 1\n",
      "[0, 0, 1, 1, 0, 1] 0\n",
      "[0, 0, 1, 1, 1, 0] 0\n",
      "[0, 0, 1, 1, 1, 1] 1\n",
      "[0, 1, 0, 0, 0, 0] 0\n",
      "[0, 1, 0, 0, 0, 1] 1\n",
      "[0, 1, 0, 0, 1, 0] 1\n",
      "[0, 1, 0, 0, 1, 1] 0\n",
      "[0, 1, 0, 1, 0, 0] 1\n",
      "[0, 1, 0, 1, 0, 1] 0\n",
      "[0, 1, 0, 1, 1, 0] 0\n",
      "[0, 1, 0, 1, 1, 1] 1\n",
      "[0, 1, 1, 0, 0, 0] 1\n",
      "[0, 1, 1, 0, 0, 1] 0\n",
      "[0, 1, 1, 0, 1, 0] 0\n",
      "[0, 1, 1, 0, 1, 1] 1\n",
      "[0, 1, 1, 1, 0, 0] 0\n",
      "[0, 1, 1, 1, 0, 1] 1\n",
      "[0, 1, 1, 1, 1, 0] 1\n",
      "[0, 1, 1, 1, 1, 1] 0\n",
      "[1, 0, 0, 0, 0, 0] 0\n",
      "[1, 0, 0, 0, 0, 1] 1\n",
      "[1, 0, 0, 0, 1, 0] 1\n",
      "[1, 0, 0, 0, 1, 1] 0\n",
      "[1, 0, 0, 1, 0, 0] 1\n",
      "[1, 0, 0, 1, 0, 1] 0\n",
      "[1, 0, 0, 1, 1, 0] 0\n",
      "[1, 0, 0, 1, 1, 1] 1\n",
      "[1, 0, 1, 0, 0, 0] 1\n",
      "[1, 0, 1, 0, 0, 1] 0\n",
      "[1, 0, 1, 0, 1, 0] 0\n",
      "[1, 0, 1, 0, 1, 1] 1\n",
      "[1, 0, 1, 1, 0, 0] 0\n",
      "[1, 0, 1, 1, 0, 1] 1\n",
      "[1, 0, 1, 1, 1, 0] 1\n",
      "[1, 0, 1, 1, 1, 1] 0\n",
      "[1, 1, 0, 0, 0, 0] 1\n",
      "[1, 1, 0, 0, 0, 1] 0\n",
      "[1, 1, 0, 0, 1, 0] 0\n",
      "[1, 1, 0, 0, 1, 1] 1\n",
      "[1, 1, 0, 1, 0, 0] 0\n",
      "[1, 1, 0, 1, 0, 1] 1\n",
      "[1, 1, 0, 1, 1, 0] 1\n",
      "[1, 1, 0, 1, 1, 1] 0\n",
      "[1, 1, 1, 0, 0, 0] 0\n",
      "[1, 1, 1, 0, 0, 1] 1\n",
      "[1, 1, 1, 0, 1, 0] 1\n",
      "[1, 1, 1, 0, 1, 1] 0\n",
      "[1, 1, 1, 1, 0, 0] 1\n",
      "[1, 1, 1, 1, 0, 1] 0\n",
      "[1, 1, 1, 1, 1, 0] 0\n",
      "[1, 1, 1, 1, 1, 1] 1\n"
     ]
    }
   ],
   "source": [
    "for i, j in zip(inputs, outputs):\n",
    "    print(i, j)\n",
    "# 1の数が偶数なら1,奇数なら0を出す"
   ]
  },
  {
   "cell_type": "code",
   "execution_count": 29,
   "metadata": {},
   "outputs": [
    {
     "data": {
      "text/plain": [
       "64"
      ]
     },
     "execution_count": 29,
     "metadata": {},
     "output_type": "execute_result"
    }
   ],
   "source": [
    "len(outputs)"
   ]
  },
  {
   "cell_type": "code",
   "execution_count": 11,
   "metadata": {},
   "outputs": [],
   "source": [
    "pset = gp.PrimitiveSet(\"MAIN\", PARITY_FANIN_M, \"IN\") # PARITY_FANIN_M==6 は引数の数\n",
    "pset.addPrimitive(operator.and_, 2)\n",
    "pset.addPrimitive(operator.or_, 2)\n",
    "pset.addPrimitive(operator.xor, 2)\n",
    "pset.addPrimitive(operator.not_, 1)\n",
    "pset.addTerminal(1)\n",
    "pset.addTerminal(0)"
   ]
  },
  {
   "cell_type": "code",
   "execution_count": 12,
   "metadata": {},
   "outputs": [],
   "source": [
    "creator.create(\"FitnessMax\", base.Fitness, weights=(1.0,))\n",
    "creator.create(\"Individual\", gp.PrimitiveTree, fitness=creator.FitnessMax)"
   ]
  },
  {
   "cell_type": "code",
   "execution_count": 13,
   "metadata": {},
   "outputs": [],
   "source": [
    "toolbox = base.Toolbox()\n",
    "toolbox.register(\"expr\", gp.genFull, pset=pset, min_=3, max_=5)\n",
    "toolbox.register(\"individual\", tools.initIterate, creator.Individual, toolbox.expr)\n",
    "toolbox.register(\"population\", tools.initRepeat, list, toolbox.individual)\n",
    "toolbox.register(\"compile\", gp.compile, pset=pset)"
   ]
  },
  {
   "cell_type": "code",
   "execution_count": 15,
   "metadata": {},
   "outputs": [],
   "source": [
    "def evalParity(individual):\n",
    "    func = toolbox.compile(expr=individual)\n",
    "    return sum(func(*in_) == out for in_, out in zip(inputs, outputs)),\n",
    "\n",
    "toolbox.register(\"evaluate\", evalParity)\n",
    "toolbox.register(\"select\", tools.selTournament, tournsize=3)\n",
    "toolbox.register(\"mate\", gp.cxOnePoint)\n",
    "toolbox.register(\"expr_mut\", gp.genGrow, min_=0, max_=2)\n",
    "toolbox.register(\"mutate\", gp.mutUniform, expr=toolbox.expr_mut, pset=pset)"
   ]
  },
  {
   "cell_type": "code",
   "execution_count": 25,
   "metadata": {},
   "outputs": [],
   "source": [
    "def main():\n",
    "    random.seed(21)\n",
    "    pop = toolbox.population(n=300)\n",
    "    hof = tools.HallOfFame(1)\n",
    "    stats = tools.Statistics(lambda ind: ind.fitness.values)\n",
    "    stats.register(\"avg\", numpy.mean)\n",
    "    stats.register(\"std\", numpy.std)\n",
    "    stats.register(\"min\", numpy.min)\n",
    "    stats.register(\"max\", numpy.max)\n",
    "    \n",
    "    algorithms.eaSimple(pop, toolbox, 0.5, 0.2, 40, stats, halloffame=hof)\n",
    "    \n",
    "    return pop, stats, hof"
   ]
  },
  {
   "cell_type": "code",
   "execution_count": 26,
   "metadata": {},
   "outputs": [
    {
     "name": "stdout",
     "output_type": "stream",
     "text": [
      "gen\tnevals\tavg    \tstd    \tmin\tmax\n",
      "0  \t300   \t31.9867\t1.23551\t24 \t48 \n",
      "1  \t185   \t31.9933\t0.565646\t24 \t36 \n",
      "2  \t175   \t32.0633\t0.415518\t30 \t36 \n",
      "3  \t184   \t32.1567\t0.65227 \t30 \t37 \n",
      "4  \t182   \t32.25  \t0.852936\t30 \t37 \n",
      "5  \t194   \t32.4667\t1.20922 \t28 \t37 \n",
      "6  \t183   \t32.91  \t1.62129 \t28 \t38 \n",
      "7  \t199   \t33.3   \t1.84842 \t28 \t40 \n",
      "8  \t175   \t33.7433\t2.03735 \t28 \t40 \n",
      "9  \t183   \t34.2033\t2.17148 \t28 \t40 \n",
      "10 \t182   \t34.3933\t2.27126 \t28 \t40 \n",
      "11 \t192   \t34.6667\t2.34852 \t22 \t40 \n",
      "12 \t173   \t34.9267\t2.4889  \t28 \t40 \n",
      "13 \t165   \t35.1533\t2.70736 \t24 \t42 \n",
      "14 \t164   \t35.51  \t2.72578 \t26 \t42 \n",
      "15 \t174   \t35.7467\t3.00153 \t24 \t44 \n",
      "16 \t166   \t36.06  \t3.30501 \t28 \t44 \n",
      "17 \t179   \t36.3633\t3.84075 \t20 \t44 \n",
      "18 \t183   \t37.01  \t3.96357 \t20 \t44 \n",
      "19 \t181   \t37.87  \t3.79558 \t26 \t44 \n",
      "20 \t183   \t38.1267\t4.41633 \t24 \t44 \n",
      "21 \t185   \t38.57  \t4.43679 \t24 \t46 \n",
      "22 \t201   \t38.5933\t5.01942 \t18 \t46 \n",
      "23 \t165   \t39.67  \t4.82159 \t21 \t48 \n",
      "24 \t178   \t40.65  \t4.8943  \t20 \t48 \n",
      "25 \t177   \t41.0133\t5.06029 \t25 \t48 \n",
      "26 \t158   \t41.51  \t5.65537 \t18 \t48 \n",
      "27 \t187   \t41.72  \t6.06973 \t18 \t48 \n",
      "28 \t171   \t42.17  \t5.97616 \t23 \t48 \n",
      "29 \t179   \t42.4067\t6.19096 \t16 \t48 \n",
      "30 \t193   \t42.2   \t6.51102 \t20 \t48 \n",
      "31 \t168   \t43.4167\t6.00525 \t24 \t48 \n",
      "32 \t175   \t43.76  \t6.37409 \t16 \t48 \n",
      "33 \t183   \t43.2533\t6.50045 \t16 \t48 \n",
      "34 \t184   \t43.81  \t6.11615 \t24 \t48 \n",
      "35 \t192   \t43.5433\t6.74202 \t16 \t48 \n",
      "36 \t177   \t43.56  \t6.2391  \t24 \t48 \n",
      "37 \t163   \t44.58  \t5.76341 \t24 \t48 \n",
      "38 \t167   \t44.6933\t5.91489 \t24 \t48 \n",
      "39 \t186   \t44.2933\t6.04764 \t24 \t48 \n",
      "40 \t191   \t43.5667\t7.15674 \t16 \t48 \n"
     ]
    }
   ],
   "source": [
    "pop, stats, hof = main()"
   ]
  },
  {
   "cell_type": "code",
   "execution_count": 22,
   "metadata": {},
   "outputs": [
    {
     "data": {
      "text/plain": [
       "<deap.gp.Primitive at 0x6b62778>"
      ]
     },
     "execution_count": 22,
     "metadata": {},
     "output_type": "execute_result"
    }
   ],
   "source": []
  }
 ],
 "metadata": {
  "kernelspec": {
   "display_name": "Python [conda root]",
   "language": "python",
   "name": "conda-root-py"
  },
  "language_info": {
   "codemirror_mode": {
    "name": "ipython",
    "version": 3
   },
   "file_extension": ".py",
   "mimetype": "text/x-python",
   "name": "python",
   "nbconvert_exporter": "python",
   "pygments_lexer": "ipython3",
   "version": "3.5.4"
  }
 },
 "nbformat": 4,
 "nbformat_minor": 2
}
