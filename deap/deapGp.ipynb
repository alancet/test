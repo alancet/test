{
 "cells": [
  {
   "cell_type": "markdown",
   "metadata": {},
   "source": [
    "https://deap.readthedocs.io/en/master/tutorials/advanced/gp.html"
   ]
  },
  {
   "cell_type": "code",
   "execution_count": 3,
   "metadata": {},
   "outputs": [],
   "source": [
    "import operator\n",
    "\n",
    "from deap import base, creator, gp\n",
    "from deap import tools"
   ]
  },
  {
   "cell_type": "code",
   "execution_count": 43,
   "metadata": {},
   "outputs": [
    {
     "name": "stdout",
     "output_type": "stream",
     "text": [
      "add(max(x, y), max(x, 3))\n"
     ]
    }
   ],
   "source": [
    "pset = gp.PrimitiveSet(\"main\", 2)\n",
    "pset.addPrimitive(max, 2)\n",
    "pset.addPrimitive(operator.add, 2)\n",
    "pset.addPrimitive(operator.mul, 2)\n",
    "pset.addTerminal(3)\n",
    "pset.addPrimitive(operator.neg, 1)\n",
    "\n",
    "pset.renameArguments(ARG0=\"x\")\n",
    "pset.renameArguments(ARG1=\"y\")\n",
    "\n",
    "expr = gp.genFull(pset, min_=1, max_=3)\n",
    "tree = gp.PrimitiveTree(expr)\n",
    "print(tree)"
   ]
  },
  {
   "cell_type": "code",
   "execution_count": 35,
   "metadata": {
    "scrolled": true
   },
   "outputs": [
    {
     "name": "stdout",
     "output_type": "stream",
     "text": [
      "add(max(neg(3), neg(3)), mul(add(ARG1, ARG1), max(ARG0, ARG1)))\n",
      "max(max(neg(ARG1), neg(ARG0)), add(max(ARG0, ARG0), mul(ARG1, ARG0)))\n",
      "mul(mul(add(ARG1, ARG0), neg(ARG0)), max(mul(ARG0, 3), mul(3, ARG1)))\n",
      "max(mul(neg(ARG0), add(ARG1, ARG1)), mul(neg(3), neg(3)))\n",
      "max(neg(max(ARG0, 3)), max(add(ARG0, ARG1), max(ARG1, ARG0)))\n"
     ]
    }
   ],
   "source": [
    "for i in range(5):\n",
    "    expr = gp.genFull(pset, min_=3, max_=3)\n",
    "    print(gp.PrimitiveTree(expr))"
   ]
  },
  {
   "cell_type": "code",
   "execution_count": 39,
   "metadata": {},
   "outputs": [
    {
     "name": "stdout",
     "output_type": "stream",
     "text": [
      "mul(if_then_else(1, 3.0, y), if_then_else(x, y, y))\n",
      "if_then_else(x, 3.0, y)\n",
      "mul(mul(3.0, 3.0), if_then_else(x, y, y))\n",
      "if_then_else(xor(x, 1), if_then_else(x, 3.0, y), mul(y, 3.0))\n",
      "if_then_else(xor(x, 1), mul(y, 3.0), if_then_else(1, y, y))\n"
     ]
    }
   ],
   "source": [
    "def if_then_else(input, output1, output2):\n",
    "    return output1 if input else output2\n",
    "\n",
    "pset2 = gp.PrimitiveSetTyped(\"main\", [bool, float], float)\n",
    "pset2.addPrimitive(operator.xor, [bool, bool], bool)\n",
    "pset2.addPrimitive(operator.mul, [float, float], float)\n",
    "pset2.addPrimitive(if_then_else, [bool, float, float], float)\n",
    "pset2.addTerminal(3.0, float)\n",
    "pset2.addTerminal(1, bool)\n",
    "\n",
    "pset2.renameArguments(ARG0=\"x\")\n",
    "pset2.renameArguments(ARG1=\"y\")\n",
    "\n",
    "for i in range(5):\n",
    "    expr = gp.genFull(pset2, min_=1, max_=3)\n",
    "    print(gp.PrimitiveTree(expr))"
   ]
  },
  {
   "cell_type": "code",
   "execution_count": 54,
   "metadata": {},
   "outputs": [
    {
     "name": "stdout",
     "output_type": "stream",
     "text": [
      "mul(neg(-0.9031891062745501), neg(0.4668172400962889))\n"
     ]
    }
   ],
   "source": [
    "import random\n",
    "pset3 = None\n",
    "\n",
    "pset3 = gp.PrimitiveSet(\"main\", 2)\n",
    "pset3.addPrimitive(max, 2)\n",
    "pset3.addPrimitive(operator.add, 2)\n",
    "pset3.addPrimitive(operator.mul, 2)\n",
    "pset.addTerminal(3)\n",
    "pset3.addPrimitive(operator.neg, 1)\n",
    "\n",
    "pset3.renameArguments(ARG0=\"x\")\n",
    "pset3.renameArguments(ARG1=\"y\")\n",
    "\n",
    "\n",
    "pset3.addEphemeralConstant(\"constant3\", lambda: random.uniform(-1, 1))\n",
    "\n",
    "expr = gp.genFull(pset3, min_=1, max_=3)\n",
    "tree = gp.PrimitiveTree(expr)\n",
    "print(tree)"
   ]
  },
  {
   "cell_type": "code",
   "execution_count": 60,
   "metadata": {},
   "outputs": [
    {
     "name": "stderr",
     "output_type": "stream",
     "text": [
      "C:\\Program Files\\Anaconda3\\lib\\site-packages\\deap\\creator.py:141: RuntimeWarning: A class named 'FitnessMin' has already been created and it will be overwritten. Consider deleting previous creation of that class or rename it.\n",
      "  RuntimeWarning)\n",
      "C:\\Program Files\\Anaconda3\\lib\\site-packages\\deap\\creator.py:141: RuntimeWarning: A class named 'Individual' has already been created and it will be overwritten. Consider deleting previous creation of that class or rename it.\n",
      "  RuntimeWarning)\n"
     ]
    }
   ],
   "source": [
    "creator.create(\"FitnessMin\", base.Fitness, weights=(-1.0,))\n",
    "creator.create(\"Individual\", gp.PrimitiveTree, fitness=creator.FitnessMin,\n",
    "               pset=pset)\n",
    "\n",
    "toolbox = base.Toolbox()\n",
    "toolbox.register(\"expr\", gp.genFull, pset=pset, min_=1, max_=3)\n",
    "toolbox.register(\"individual\", tools.initIterate, creator.Individual,\n",
    "                 toolbox.expr)\n"
   ]
  },
  {
   "cell_type": "code",
   "execution_count": 63,
   "metadata": {},
   "outputs": [
    {
     "name": "stdout",
     "output_type": "stream",
     "text": [
      "add(max(max(3, y), add(3, 3)), mul(mul(3, 3), neg(3)))\n"
     ]
    }
   ],
   "source": [
    "a = toolbox.individual()\n",
    "print(a)"
   ]
  },
  {
   "cell_type": "code",
   "execution_count": null,
   "metadata": {},
   "outputs": [],
   "source": []
  },
  {
   "cell_type": "code",
   "execution_count": 68,
   "metadata": {},
   "outputs": [
    {
     "name": "stdout",
     "output_type": "stream",
     "text": [
      "mul(3, x)\n",
      "mul(3, x)\n",
      "3\n",
      "<class 'function'>\n"
     ]
    }
   ],
   "source": [
    "expr = gp.genFull(pset, min_=1, max_=3)\n",
    "tree = gp.PrimitiveTree(expr)\n",
    "print(str(tree))\n",
    "print(tree)\n",
    "function = gp.compile(tree, pset)\n",
    "print(function(1, 2))\n",
    "print(type(function))"
   ]
  },
  {
   "cell_type": "code",
   "execution_count": null,
   "metadata": {},
   "outputs": [],
   "source": []
  },
  {
   "cell_type": "code",
   "execution_count": 69,
   "metadata": {
    "scrolled": true
   },
   "outputs": [
    {
     "name": "stderr",
     "output_type": "stream",
     "text": [
      "C:\\Program Files\\Anaconda3\\lib\\site-packages\\deap\\creator.py:141: RuntimeWarning: A class named 'Individual' has already been created and it will be overwritten. Consider deleting previous creation of that class or rename it.\n",
      "  RuntimeWarning)\n"
     ]
    },
    {
     "ename": "ImportError",
     "evalue": "No module named 'pygraphviz'",
     "output_type": "error",
     "traceback": [
      "\u001b[1;31m---------------------------------------------------------------------------\u001b[0m",
      "\u001b[1;31mImportError\u001b[0m                               Traceback (most recent call last)",
      "\u001b[1;32m<ipython-input-69-a7858d1c3316>\u001b[0m in \u001b[0;36m<module>\u001b[1;34m()\u001b[0m\n\u001b[0;32m     17\u001b[0m \u001b[1;33m\u001b[0m\u001b[0m\n\u001b[0;32m     18\u001b[0m \u001b[1;31m### Graphviz Section ###\u001b[0m\u001b[1;33m\u001b[0m\u001b[1;33m\u001b[0m\u001b[0m\n\u001b[1;32m---> 19\u001b[1;33m \u001b[1;32mimport\u001b[0m \u001b[0mpygraphviz\u001b[0m \u001b[1;32mas\u001b[0m \u001b[0mpgv\u001b[0m\u001b[1;33m\u001b[0m\u001b[0m\n\u001b[0m\u001b[0;32m     20\u001b[0m \u001b[1;33m\u001b[0m\u001b[0m\n\u001b[0;32m     21\u001b[0m \u001b[0mg\u001b[0m \u001b[1;33m=\u001b[0m \u001b[0mpgv\u001b[0m\u001b[1;33m.\u001b[0m\u001b[0mAGraph\u001b[0m\u001b[1;33m(\u001b[0m\u001b[1;33m)\u001b[0m\u001b[1;33m\u001b[0m\u001b[0m\n",
      "\u001b[1;31mImportError\u001b[0m: No module named 'pygraphviz'"
     ]
    }
   ],
   "source": [
    "from deap import base, creator, gp\n",
    "\n",
    "pset = gp.PrimitiveSet(\"MAIN\", 1)\n",
    "pset.addPrimitive(operator.add, 2)\n",
    "pset.addPrimitive(operator.sub, 2)\n",
    "pset.addPrimitive(operator.mul, 2)\n",
    "pset.renameArguments(ARG0='x')\n",
    "\n",
    "creator.create(\"Individual\", gp.PrimitiveTree)\n",
    "\n",
    "toolbox = base.Toolbox()\n",
    "toolbox.register(\"expr\", gp.genHalfAndHalf, pset=pset, min_=1, max_=2)\n",
    "toolbox.register(\"individual\", tools.initIterate, creator.Individual, toolbox.expr)\n",
    "\n",
    "expr = toolbox.individual()\n",
    "nodes, edges, labels = gp.graph(expr)\n",
    "\n",
    "### Graphviz Section ###\n",
    "import pygraphviz as pgv\n",
    "\n",
    "g = pgv.AGraph()\n",
    "g.add_nodes_from(nodes)\n",
    "g.add_edges_from(edges)\n",
    "g.layout(prog=\"dot\")\n",
    "\n",
    "for i in nodes:\n",
    "    n = g.get_node(i)\n",
    "    n.attr[\"label\"] = labels[i]\n",
    "\n",
    "g.draw(\"tree.pdf\")"
   ]
  },
  {
   "cell_type": "code",
   "execution_count": 7,
   "metadata": {},
   "outputs": [
    {
     "name": "stderr",
     "output_type": "stream",
     "text": [
      "C:\\Program Files\\Anaconda3\\lib\\site-packages\\deap\\creator.py:141: RuntimeWarning: A class named 'Individual' has already been created and it will be overwritten. Consider deleting previous creation of that class or rename it.\n",
      "  RuntimeWarning)\n"
     ]
    },
    {
     "ename": "ImportError",
     "evalue": "('requires pygraphviz ', 'http://pygraphviz.github.io/')",
     "output_type": "error",
     "traceback": [
      "\u001b[1;31m---------------------------------------------------------------------------\u001b[0m",
      "\u001b[1;31mImportError\u001b[0m                               Traceback (most recent call last)",
      "\u001b[1;32mC:\\Program Files\\Anaconda3\\lib\\site-packages\\networkx\\drawing\\nx_agraph.py\u001b[0m in \u001b[0;36mpygraphviz_layout\u001b[1;34m(G, prog, root, args)\u001b[0m\n\u001b[0;32m    263\u001b[0m     \u001b[1;32mtry\u001b[0m\u001b[1;33m:\u001b[0m\u001b[1;33m\u001b[0m\u001b[0m\n\u001b[1;32m--> 264\u001b[1;33m         \u001b[1;32mimport\u001b[0m \u001b[0mpygraphviz\u001b[0m\u001b[1;33m\u001b[0m\u001b[0m\n\u001b[0m\u001b[0;32m    265\u001b[0m     \u001b[1;32mexcept\u001b[0m \u001b[0mImportError\u001b[0m\u001b[1;33m:\u001b[0m\u001b[1;33m\u001b[0m\u001b[0m\n",
      "\u001b[1;31mImportError\u001b[0m: No module named 'pygraphviz'",
      "\nDuring handling of the above exception, another exception occurred:\n",
      "\u001b[1;31mImportError\u001b[0m                               Traceback (most recent call last)",
      "\u001b[1;32m<ipython-input-7-85dcaafe85d6>\u001b[0m in \u001b[0;36m<module>\u001b[1;34m()\u001b[0m\n\u001b[0;32m     25\u001b[0m \u001b[0mg\u001b[0m\u001b[1;33m.\u001b[0m\u001b[0madd_nodes_from\u001b[0m\u001b[1;33m(\u001b[0m\u001b[0mnodes\u001b[0m\u001b[1;33m)\u001b[0m\u001b[1;33m\u001b[0m\u001b[0m\n\u001b[0;32m     26\u001b[0m \u001b[0mg\u001b[0m\u001b[1;33m.\u001b[0m\u001b[0madd_edges_from\u001b[0m\u001b[1;33m(\u001b[0m\u001b[0medges\u001b[0m\u001b[1;33m)\u001b[0m\u001b[1;33m\u001b[0m\u001b[0m\n\u001b[1;32m---> 27\u001b[1;33m \u001b[0mpos\u001b[0m \u001b[1;33m=\u001b[0m \u001b[0mgraphviz_layout\u001b[0m\u001b[1;33m(\u001b[0m\u001b[0mg\u001b[0m\u001b[1;33m,\u001b[0m \u001b[0mprog\u001b[0m\u001b[1;33m=\u001b[0m\u001b[1;34m\"dot\"\u001b[0m\u001b[1;33m)\u001b[0m\u001b[1;33m\u001b[0m\u001b[0m\n\u001b[0m\u001b[0;32m     28\u001b[0m \u001b[1;33m\u001b[0m\u001b[0m\n\u001b[0;32m     29\u001b[0m \u001b[1;33m\u001b[0m\u001b[0m\n",
      "\u001b[1;32mC:\\Program Files\\Anaconda3\\lib\\site-packages\\networkx\\drawing\\nx_agraph.py\u001b[0m in \u001b[0;36mgraphviz_layout\u001b[1;34m(G, prog, root, args)\u001b[0m\n\u001b[0;32m    234\u001b[0m \u001b[1;33m\u001b[0m\u001b[0m\n\u001b[0;32m    235\u001b[0m     \"\"\"\n\u001b[1;32m--> 236\u001b[1;33m     \u001b[1;32mreturn\u001b[0m \u001b[0mpygraphviz_layout\u001b[0m\u001b[1;33m(\u001b[0m\u001b[0mG\u001b[0m\u001b[1;33m,\u001b[0m \u001b[0mprog\u001b[0m\u001b[1;33m=\u001b[0m\u001b[0mprog\u001b[0m\u001b[1;33m,\u001b[0m \u001b[0mroot\u001b[0m\u001b[1;33m=\u001b[0m\u001b[0mroot\u001b[0m\u001b[1;33m,\u001b[0m \u001b[0margs\u001b[0m\u001b[1;33m=\u001b[0m\u001b[0margs\u001b[0m\u001b[1;33m)\u001b[0m\u001b[1;33m\u001b[0m\u001b[0m\n\u001b[0m\u001b[0;32m    237\u001b[0m \u001b[1;33m\u001b[0m\u001b[0m\n\u001b[0;32m    238\u001b[0m \u001b[1;33m\u001b[0m\u001b[0m\n",
      "\u001b[1;32mC:\\Program Files\\Anaconda3\\lib\\site-packages\\networkx\\drawing\\nx_agraph.py\u001b[0m in \u001b[0;36mpygraphviz_layout\u001b[1;34m(G, prog, root, args)\u001b[0m\n\u001b[0;32m    265\u001b[0m     \u001b[1;32mexcept\u001b[0m \u001b[0mImportError\u001b[0m\u001b[1;33m:\u001b[0m\u001b[1;33m\u001b[0m\u001b[0m\n\u001b[0;32m    266\u001b[0m         raise ImportError('requires pygraphviz ',\n\u001b[1;32m--> 267\u001b[1;33m                           'http://pygraphviz.github.io/')\n\u001b[0m\u001b[0;32m    268\u001b[0m     \u001b[1;32mif\u001b[0m \u001b[0mroot\u001b[0m \u001b[1;32mis\u001b[0m \u001b[1;32mnot\u001b[0m \u001b[1;32mNone\u001b[0m\u001b[1;33m:\u001b[0m\u001b[1;33m\u001b[0m\u001b[0m\n\u001b[0;32m    269\u001b[0m         \u001b[0margs\u001b[0m \u001b[1;33m+=\u001b[0m \u001b[1;34m\"-Groot=%s\"\u001b[0m \u001b[1;33m%\u001b[0m \u001b[0mroot\u001b[0m\u001b[1;33m\u001b[0m\u001b[0m\n",
      "\u001b[1;31mImportError\u001b[0m: ('requires pygraphviz ', 'http://pygraphviz.github.io/')"
     ]
    }
   ],
   "source": [
    "from deap import base, creator, gp\n",
    "\n",
    "pset = gp.PrimitiveSet(\"MAIN\", 1)\n",
    "pset.addPrimitive(operator.add, 2)\n",
    "pset.addPrimitive(operator.sub, 2)\n",
    "pset.addPrimitive(operator.mul, 2)\n",
    "pset.renameArguments(ARG0='x')\n",
    "\n",
    "creator.create(\"Individual\", gp.PrimitiveTree)\n",
    "\n",
    "toolbox = base.Toolbox()\n",
    "toolbox.register(\"expr\", gp.genHalfAndHalf, pset=pset, min_=1, max_=2)\n",
    "toolbox.register(\"individual\", tools.initIterate, creator.Individual, toolbox.expr)\n",
    "\n",
    "expr = toolbox.individual()\n",
    "nodes, edges, labels = gp.graph(expr)\n",
    "\n",
    "\n",
    "\n",
    "import matplotlib.pyplot as plt\n",
    "import networkx as nx\n",
    "from networkx.drawing.nx_agraph import graphviz_layout\n",
    "\n",
    "g = nx.Graph()\n",
    "g.add_nodes_from(nodes)\n",
    "g.add_edges_from(edges)\n",
    "pos = graphviz_layout(g, prog=\"dot\")\n",
    "\n",
    "\n",
    "nx.draw_networkx_nodes(g, pos)\n",
    "nx.draw_networkx_edges(g, pos)\n",
    "nx.draw_networkx_labels(g, pos, labels)\n",
    "plt.show()"
   ]
  }
 ],
 "metadata": {
  "kernelspec": {
   "display_name": "Python [conda root]",
   "language": "python",
   "name": "conda-root-py"
  },
  "language_info": {
   "codemirror_mode": {
    "name": "ipython",
    "version": 3
   },
   "file_extension": ".py",
   "mimetype": "text/x-python",
   "name": "python",
   "nbconvert_exporter": "python",
   "pygments_lexer": "ipython3",
   "version": "3.5.4"
  }
 },
 "nbformat": 4,
 "nbformat_minor": 2
}
