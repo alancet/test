{
 "cells": [
  {
   "cell_type": "markdown",
   "metadata": {},
   "source": [
    "https://deap.readthedocs.io/en/master/tutorials/advanced/gp.html"
   ]
  },
  {
   "cell_type": "code",
   "execution_count": 1,
   "metadata": {
    "collapsed": true
   },
   "outputs": [],
   "source": [
    "import operator\n",
    "\n",
    "from deap import base, creator, gp\n",
    "from deap import tools"
   ]
  },
  {
   "cell_type": "code",
   "execution_count": 2,
   "metadata": {},
   "outputs": [
    {
     "name": "stdout",
     "output_type": "stream",
     "text": [
      "mul(add(y, y), max(y, x))\n"
     ]
    }
   ],
   "source": [
    "pset = gp.PrimitiveSet(\"main\", 2)\n",
    "pset.addPrimitive(max, 2)\n",
    "pset.addPrimitive(operator.add, 2)\n",
    "pset.addPrimitive(operator.mul, 2)\n",
    "pset.addTerminal(3)\n",
    "pset.addPrimitive(operator.neg, 1)\n",
    "\n",
    "pset.renameArguments(ARG0=\"x\")\n",
    "pset.renameArguments(ARG1=\"y\")\n",
    "\n",
    "expr = gp.genFull(pset, min_=1, max_=3)\n",
    "tree = gp.PrimitiveTree(expr)\n",
    "print(tree)"
   ]
  },
  {
   "cell_type": "code",
   "execution_count": 3,
   "metadata": {
    "scrolled": true
   },
   "outputs": [
    {
     "name": "stdout",
     "output_type": "stream",
     "text": [
      "max(mul(neg(y), add(x, x)), max(max(y, y), neg(3)))\n",
      "add(neg(neg(3)), neg(add(3, x)))\n",
      "mul(add(mul(3, y), max(3, y)), max(max(x, x), neg(y)))\n",
      "mul(mul(max(y, 3), add(x, x)), mul(mul(x, 3), mul(3, 3)))\n",
      "add(add(max(3, y), neg(x)), mul(mul(x, x), max(y, 3)))\n"
     ]
    }
   ],
   "source": [
    "for i in range(5):\n",
    "    expr = gp.genFull(pset, min_=3, max_=3)\n",
    "    print(gp.PrimitiveTree(expr))"
   ]
  },
  {
   "cell_type": "code",
   "execution_count": 4,
   "metadata": {},
   "outputs": [
    {
     "name": "stdout",
     "output_type": "stream",
     "text": [
      "mul(mul(if_then_else(1, 3.0, y), if_then_else(x, 3.0, y)), if_then_else(xor(1, 1), if_then_else(x, y, y), if_then_else(1, 3.0, 3.0)))\n",
      "mul(3.0, 3.0)\n",
      "mul(mul(3.0, y), mul(y, y))\n",
      "mul(if_then_else(xor(1, 1), mul(3.0, y), mul(y, y)), if_then_else(xor(1, 1), mul(3.0, 3.0), if_then_else(1, y, y)))\n",
      "if_then_else(1, 3.0, 3.0)\n"
     ]
    }
   ],
   "source": [
    "def if_then_else(input, output1, output2):\n",
    "    return output1 if input else output2\n",
    "\n",
    "pset2 = gp.PrimitiveSetTyped(\"main\", [bool, float], float)\n",
    "pset2.addPrimitive(operator.xor, [bool, bool], bool)\n",
    "pset2.addPrimitive(operator.mul, [float, float], float)\n",
    "pset2.addPrimitive(if_then_else, [bool, float, float], float)\n",
    "pset2.addTerminal(3.0, float)\n",
    "pset2.addTerminal(1, bool)\n",
    "\n",
    "pset2.renameArguments(ARG0=\"x\")\n",
    "pset2.renameArguments(ARG1=\"y\")\n",
    "\n",
    "for i in range(5):\n",
    "    expr = gp.genFull(pset2, min_=1, max_=3)\n",
    "    print(gp.PrimitiveTree(expr))"
   ]
  },
  {
   "cell_type": "code",
   "execution_count": 5,
   "metadata": {},
   "outputs": [
    {
     "name": "stdout",
     "output_type": "stream",
     "text": [
      "max(neg(max(-0.025980285106392165, x)), max(add(0.5077303078413582, y), neg(0.10268165634995885)))\n"
     ]
    }
   ],
   "source": [
    "import random\n",
    "pset3 = None\n",
    "\n",
    "pset3 = gp.PrimitiveSet(\"main\", 2)\n",
    "pset3.addPrimitive(max, 2)\n",
    "pset3.addPrimitive(operator.add, 2)\n",
    "pset3.addPrimitive(operator.mul, 2)\n",
    "pset.addTerminal(3)\n",
    "pset3.addPrimitive(operator.neg, 1)\n",
    "\n",
    "pset3.renameArguments(ARG0=\"x\")\n",
    "pset3.renameArguments(ARG1=\"y\")\n",
    "\n",
    "\n",
    "pset3.addEphemeralConstant(\"constant3\", lambda: random.uniform(-1, 1))\n",
    "\n",
    "expr = gp.genFull(pset3, min_=1, max_=3)\n",
    "tree = gp.PrimitiveTree(expr)\n",
    "print(tree)"
   ]
  },
  {
   "cell_type": "code",
   "execution_count": 6,
   "metadata": {
    "collapsed": true
   },
   "outputs": [],
   "source": [
    "creator.create(\"FitnessMin\", base.Fitness, weights=(-1.0,))\n",
    "creator.create(\"Individual\", gp.PrimitiveTree, fitness=creator.FitnessMin,\n",
    "               pset=pset)\n",
    "\n",
    "toolbox = base.Toolbox()\n",
    "toolbox.register(\"expr\", gp.genFull, pset=pset, min_=1, max_=3)\n",
    "toolbox.register(\"individual\", tools.initIterate, creator.Individual,\n",
    "                 toolbox.expr)\n"
   ]
  },
  {
   "cell_type": "code",
   "execution_count": 7,
   "metadata": {},
   "outputs": [
    {
     "name": "stdout",
     "output_type": "stream",
     "text": [
      "max(neg(x), add(3, 3))\n"
     ]
    }
   ],
   "source": [
    "a = toolbox.individual()\n",
    "print(a)"
   ]
  },
  {
   "cell_type": "code",
   "execution_count": null,
   "metadata": {
    "collapsed": true
   },
   "outputs": [],
   "source": []
  },
  {
   "cell_type": "code",
   "execution_count": 8,
   "metadata": {},
   "outputs": [
    {
     "name": "stdout",
     "output_type": "stream",
     "text": [
      "neg(mul(x, 3))\n",
      "neg(mul(x, 3))\n",
      "-3\n",
      "<class 'function'>\n"
     ]
    }
   ],
   "source": [
    "expr = gp.genFull(pset, min_=1, max_=3)\n",
    "tree = gp.PrimitiveTree(expr)\n",
    "print(str(tree))\n",
    "print(tree)\n",
    "function = gp.compile(tree, pset)\n",
    "print(function(1, 2))\n",
    "print(type(function))"
   ]
  },
  {
   "cell_type": "code",
   "execution_count": null,
   "metadata": {
    "collapsed": true
   },
   "outputs": [],
   "source": []
  },
  {
   "cell_type": "code",
   "execution_count": 9,
   "metadata": {
    "scrolled": true
   },
   "outputs": [
    {
     "name": "stderr",
     "output_type": "stream",
     "text": [
      "/home/yuki/anaconda3/lib/python3.6/site-packages/deap/creator.py:141: RuntimeWarning: A class named 'Individual' has already been created and it will be overwritten. Consider deleting previous creation of that class or rename it.\n",
      "  RuntimeWarning)\n"
     ]
    }
   ],
   "source": [
    "from deap import base, creator, gp\n",
    "\n",
    "pset = gp.PrimitiveSet(\"MAIN\", 1)\n",
    "pset.addPrimitive(operator.add, 2)\n",
    "pset.addPrimitive(operator.sub, 2)\n",
    "pset.addPrimitive(operator.mul, 2)\n",
    "pset.renameArguments(ARG0='x')\n",
    "\n",
    "creator.create(\"Individual\", gp.PrimitiveTree)\n",
    "\n",
    "toolbox = base.Toolbox()\n",
    "toolbox.register(\"expr\", gp.genHalfAndHalf, pset=pset, min_=1, max_=2)\n",
    "toolbox.register(\"individual\", tools.initIterate, creator.Individual, toolbox.expr)\n",
    "\n",
    "expr = toolbox.individual()\n",
    "nodes, edges, labels = gp.graph(expr)\n",
    "\n",
    "### Graphviz Section ###\n",
    "import pygraphviz as pgv\n",
    "\n",
    "g = pgv.AGraph()\n",
    "g.add_nodes_from(nodes)\n",
    "g.add_edges_from(edges)\n",
    "g.layout(prog=\"dot\")\n",
    "\n",
    "for i in nodes:\n",
    "    n = g.get_node(i)\n",
    "    n.attr[\"label\"] = labels[i]\n",
    "\n",
    "g.draw(\"tree.pdf\")\n"
   ]
  },
  {
   "cell_type": "code",
   "execution_count": 10,
   "metadata": {},
   "outputs": [
    {
     "name": "stderr",
     "output_type": "stream",
     "text": [
      "/home/yuki/anaconda3/lib/python3.6/site-packages/deap/creator.py:141: RuntimeWarning: A class named 'Individual' has already been created and it will be overwritten. Consider deleting previous creation of that class or rename it.\n",
      "  RuntimeWarning)\n"
     ]
    },
    {
     "data": {
      "image/png": "[encoded data removed]",
      "text/plain": [
       "<matplotlib.figure.Figure at 0x7fc2d1028128>"
      ]
     },
     "metadata": {},
     "output_type": "display_data"
    }
   ],
   "source": [
    "from deap import base, creator, gp\n",
    "\n",
    "pset = gp.PrimitiveSet(\"MAIN\", 1)\n",
    "pset.addPrimitive(operator.add, 2)\n",
    "pset.addPrimitive(operator.sub, 2)\n",
    "pset.addPrimitive(operator.mul, 2)\n",
    "pset.renameArguments(ARG0='x')\n",
    "\n",
    "creator.create(\"Individual\", gp.PrimitiveTree)\n",
    "\n",
    "toolbox = base.Toolbox()\n",
    "toolbox.register(\"expr\", gp.genHalfAndHalf, pset=pset, min_=1, max_=2)\n",
    "toolbox.register(\"individual\", tools.initIterate, creator.Individual, toolbox.expr)\n",
    "\n",
    "expr = toolbox.individual()\n",
    "nodes, edges, labels = gp.graph(expr)\n",
    "\n",
    "\n",
    "\n",
    "import matplotlib.pyplot as plt\n",
    "import networkx as nx\n",
    "from networkx.drawing.nx_agraph import graphviz_layout\n",
    "\n",
    "g = nx.Graph()\n",
    "g.add_nodes_from(nodes)\n",
    "g.add_edges_from(edges)\n",
    "pos = graphviz_layout(g, prog=\"dot\")\n",
    "\n",
    "\n",
    "nx.draw_networkx_nodes(g, pos)\n",
    "nx.draw_networkx_edges(g, pos)\n",
    "nx.draw_networkx_labels(g, pos, labels)\n",
    "plt.show()"
   ]
  }
 ],
 "metadata": {
  "kernelspec": {
   "display_name": "Python 3",
   "language": "python",
   "name": "python3"
  },
  "language_info": {
   "codemirror_mode": {
    "name": "ipython",
    "version": 3
   },
   "file_extension": ".py",
   "mimetype": "text/x-python",
   "name": "python",
   "nbconvert_exporter": "python",
   "pygments_lexer": "ipython3",
   "version": "3.6.4"
  }
 },
 "nbformat": 4,
 "nbformat_minor": 2
}
