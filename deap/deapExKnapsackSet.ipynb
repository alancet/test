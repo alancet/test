{
 "cells": [
  {
   "cell_type": "code",
   "execution_count": 4,
   "metadata": {
    "collapsed": true
   },
   "outputs": [],
   "source": [
    "import random\n",
    "\n",
    "import numpy\n",
    "\n",
    "from deap import algorithms\n",
    "from deap import base\n",
    "from deap import creator\n",
    "from deap import tools\n",
    "\n",
    "IND_INIT_SIZE = 5\n",
    "MAX_ITEM = 50\n",
    "MAX_WEIGHT = 50\n",
    "NBR_ITEMS = 20"
   ]
  },
  {
   "cell_type": "code",
   "execution_count": 35,
   "metadata": {},
   "outputs": [
    {
     "data": {
      "text/plain": [
       "{0: (8, 12.48509930835593),\n",
       " 1: (10, 40.396096956847295),\n",
       " 2: (1, 20.351113369770758),\n",
       " 3: (5, 70.41144439033413),\n",
       " 4: (4, 69.86574666158654),\n",
       " 5: (3, 7.981206373372229),\n",
       " 6: (7, 44.003630577221465),\n",
       " 7: (1, 8.366591038506865),\n",
       " 8: (1, 92.7646786450061),\n",
       " 9: (3, 10.541265149933377),\n",
       " 10: (1, 95.00359117156347),\n",
       " 11: (5, 21.924990817330915),\n",
       " 12: (4, 8.882167797500228),\n",
       " 13: (1, 76.96797658382238),\n",
       " 14: (7, 89.16384444665715),\n",
       " 15: (5, 74.23923323846317),\n",
       " 16: (9, 42.688343941286256),\n",
       " 17: (9, 30.701913496381728),\n",
       " 18: (6, 68.83604339265639),\n",
       " 19: (9, 17.89634902035938)}"
      ]
     },
     "execution_count": 35,
     "metadata": {},
     "output_type": "execute_result"
    }
   ],
   "source": [
    "# To assure reproductibility, the RNG seed is set prior to the items\n",
    "# dict initialization. It is also seeded in main().\n",
    "random.seed(64)\n",
    "\n",
    "# Create the item dictionary: item name is an integer, and value is \n",
    "# a (weight, value) 2-uple.\n",
    "items = {}\n",
    "# Create random items and store them in the items' dictionary.\n",
    "for i in range(NBR_ITEMS):\n",
    "    items[i] = (random.randint(1, 10), random.uniform(0, 100))\n",
    "    \n",
    "items # item id: (重さ, 価値) ref => https://ja.wikipedia.org/wiki/%E3%83%8A%E3%83%83%E3%83%97%E3%82%B5%E3%83%83%E3%82%AF%E5%95%8F%E9%A1%8C"
   ]
  },
  {
   "cell_type": "code",
   "execution_count": 46,
   "metadata": {},
   "outputs": [
    {
     "name": "stderr",
     "output_type": "stream",
     "text": [
      "/home/yuki/anaconda3/lib/python3.6/site-packages/deap/creator.py:141: RuntimeWarning: A class named 'Fitness' has already been created and it will be overwritten. Consider deleting previous creation of that class or rename it.\n",
      "  RuntimeWarning)\n",
      "/home/yuki/anaconda3/lib/python3.6/site-packages/deap/creator.py:141: RuntimeWarning: A class named 'Individual' has already been created and it will be overwritten. Consider deleting previous creation of that class or rename it.\n",
      "  RuntimeWarning)\n"
     ]
    }
   ],
   "source": [
    "creator.create(\"Fitness\", base.Fitness, weights=(-1.0, 1.0))\n",
    "creator.create(\"Individual\", set, fitness=creator.Fitness)\n",
    "\n",
    "# indは集合なので、ナップザックに入れるアイテムは1種類1個だけ。"
   ]
  },
  {
   "cell_type": "code",
   "execution_count": 2,
   "metadata": {},
   "outputs": [
    {
     "data": {
      "text/plain": [
       "{1, 2, 3}"
      ]
     },
     "execution_count": 2,
     "metadata": {},
     "output_type": "execute_result"
    }
   ],
   "source": [
    "set1 = set([1,2,2,3])\n",
    "set1"
   ]
  },
  {
   "cell_type": "code",
   "execution_count": 37,
   "metadata": {
    "collapsed": true
   },
   "outputs": [],
   "source": [
    "toolbox = base.Toolbox()\n",
    "\n",
    "# Attribute generator\n",
    "toolbox.register(\"attr_item\", random.randrange, NBR_ITEMS)\n",
    "\n",
    "# Structure initializers\n",
    "toolbox.register(\"individual\", tools.initRepeat, creator.Individual, \n",
    "    toolbox.attr_item, IND_INIT_SIZE)\n",
    "toolbox.register(\"population\", tools.initRepeat, list, toolbox.individual)"
   ]
  },
  {
   "cell_type": "code",
   "execution_count": 38,
   "metadata": {
    "collapsed": true
   },
   "outputs": [],
   "source": [
    "def evalKnapsack(individual):\n",
    "    weight = 0.0\n",
    "    value = 0.0\n",
    "    for item in individual:\n",
    "        weight += items[item][0]\n",
    "        value += items[item][1]\n",
    "    if len(individual) > MAX_ITEM or weight > MAX_WEIGHT:\n",
    "        return 10000, 0             # Ensure overweighted bags are dominated\n",
    "    return weight, value\n",
    "\n",
    "def cxSet(ind1, ind2):\n",
    "    \"\"\"Apply a crossover operation on input sets. The first child is the\n",
    "    intersection of the two sets, the second child is the difference of the\n",
    "    two sets.\n",
    "    \"\"\"\n",
    "    temp = set(ind1)                # Used in order to keep type\n",
    "    ind1 &= ind2                    # Intersection (inplace)\n",
    "    ind2 ^= temp                    # Symmetric Difference (inplace)\n",
    "    return ind1, ind2\n",
    "    \n",
    "def mutSet(individual):\n",
    "    \"\"\"Mutation that pops or add an element.\"\"\"\n",
    "    if random.random() < 0.5:\n",
    "        if len(individual) > 0:     # We cannot pop from an empty set\n",
    "            individual.remove(random.choice(sorted(tuple(individual))))\n",
    "    else:\n",
    "        individual.add(random.randrange(NBR_ITEMS))\n",
    "    return individual,\n",
    "\n",
    "toolbox.register(\"evaluate\", evalKnapsack)\n",
    "toolbox.register(\"mate\", cxSet)\n",
    "toolbox.register(\"mutate\", mutSet)\n",
    "toolbox.register(\"select\", tools.selNSGA2)"
   ]
  },
  {
   "cell_type": "code",
   "execution_count": 39,
   "metadata": {},
   "outputs": [
    {
     "data": {
      "text/plain": [
       "5"
      ]
     },
     "execution_count": 39,
     "metadata": {},
     "output_type": "execute_result"
    }
   ],
   "source": [
    "7 & 5 # bit and"
   ]
  },
  {
   "cell_type": "code",
   "execution_count": 40,
   "metadata": {},
   "outputs": [
    {
     "data": {
      "text/plain": [
       "6"
      ]
     },
     "execution_count": 40,
     "metadata": {},
     "output_type": "execute_result"
    }
   ],
   "source": [
    "10 ^ 12 # bit xor"
   ]
  },
  {
   "cell_type": "code",
   "execution_count": 41,
   "metadata": {
    "collapsed": true
   },
   "outputs": [],
   "source": [
    "def main():\n",
    "    random.seed(64)\n",
    "    NGEN = 50\n",
    "    MU = 50\n",
    "    LAMBDA = 100\n",
    "    CXPB = 0.7\n",
    "    MUTPB = 0.2\n",
    "    \n",
    "    pop = toolbox.population(n=MU)\n",
    "    hof = tools.ParetoFront()\n",
    "    stats = tools.Statistics(lambda ind: ind.fitness.values)\n",
    "    stats.register(\"avg\", numpy.mean, axis=0)\n",
    "    stats.register(\"std\", numpy.std, axis=0)\n",
    "    stats.register(\"min\", numpy.min, axis=0)\n",
    "    stats.register(\"max\", numpy.max, axis=0)\n",
    "    \n",
    "    algorithms.eaMuPlusLambda(pop, toolbox, MU, LAMBDA, CXPB, MUTPB, NGEN, stats,\n",
    "                              halloffame=hof)\n",
    "    \n",
    "    return pop, stats, hof"
   ]
  },
  {
   "cell_type": "code",
   "execution_count": 42,
   "metadata": {},
   "outputs": [
    {
     "name": "stdout",
     "output_type": "stream",
     "text": [
      "gen\tnevals\tavg                          \tstd                        \tmin                        \tmax                          \n",
      "0  \t50    \t[  22.78        210.00877715]\t[  5.88316241  71.09309649]\t[ 10.          49.69958685]\t[  38.          345.35491309]\n",
      "1  \t87    \t[   9.96        145.20790666]\t[  10.61312395  139.1868852 ]\t[ 0.  0.]                  \t[  45.          414.48478381]\n",
      "2  \t91    \t[  3.26        61.20087478]  \t[   7.44797959  125.53892809]\t[ 0.  0.]                  \t[  28.          414.48478381]\n",
      "3  \t88    \t[  4.6         84.51641114]  \t[   8.57438044  140.51459866]\t[ 0.  0.]                  \t[  28.          414.48478381]\n",
      "4  \t92    \t[  2.4         52.24310488]  \t[   5.82065288  108.88598622]\t[ 0.  0.]                  \t[  28.          414.48478381]\n",
      "5  \t87    \t[  3.66        74.97342258]  \t[   6.99316809  127.02866009]\t[ 0.  0.]                  \t[  28.          414.48478381]\n",
      "6  \t82    \t[   5.3         111.43072783]\t[   7.61117599  142.76899122]\t[ 0.  0.]                  \t[  28.          414.48478381]\n",
      "7  \t90    \t[  3.38        76.37304048]  \t[   6.06593769  116.8118772 ]\t[ 0.  0.]                  \t[  28.          414.48478381]\n",
      "8  \t86    \t[  3.12        71.66806998]  \t[   6.50427552  126.61232639]\t[ 0.  0.]                  \t[  28.          414.48478381]\n",
      "9  \t89    \t[  4.28        96.82282974]  \t[   7.61587815  140.68614155]\t[ 0.  0.]                  \t[  28.          414.48478381]\n",
      "10 \t91    \t[  4.66        94.20965502]  \t[   8.72607586  154.59704209]\t[ 0.  0.]                  \t[  33.          436.40977463]\n",
      "11 \t94    \t[  3.38        82.54801261]  \t[   7.42937413  143.83372367]\t[ 0.  0.]                  \t[  34.         483.3208272]  \n",
      "12 \t92    \t[   4.72        112.19978461]\t[   8.5370721   164.14270307]\t[ 0.  0.]                  \t[  34.         483.3208272]  \n",
      "13 \t89    \t[  4.14        95.86909694]  \t[   8.66258622  165.78275753]\t[ 0.  0.]                  \t[  34.         483.3208272]  \n",
      "14 \t86    \t[   5.7         125.59256851]\t[  10.31552228  184.80667754]\t[ 0.  0.]                  \t[  38.        492.202995]    \n",
      "15 \t86    \t[   9.02       201.1503762]  \t[  11.73625153  198.65247411]\t[ 0.  0.]                  \t[  38.        492.202995]    \n",
      "16 \t90    \t[   6.          121.10597089]\t[  11.05621997  186.00117203]\t[ 0.  0.]                  \t[  38.        492.202995]    \n",
      "17 \t91    \t[   7.02        145.26997395]\t[  11.35163424  195.13724753]\t[ 0.  0.]                  \t[  38.        492.202995]    \n",
      "18 \t87    \t[   8.88        176.19932087]\t[  12.36064723  206.72218973]\t[ 0.  0.]                  \t[  38.        492.202995]    \n",
      "19 \t89    \t[   9.          185.80512507]\t[  13.14990494  205.56098522]\t[ 0.  0.]                  \t[  38.        492.202995]    \n",
      "20 \t90    \t[  14.26        270.31330726]\t[  14.86312215  209.42601383]\t[ 0.  0.]                  \t[  38.        492.202995]    \n",
      "21 \t89    \t[  18.56        320.11359043]\t[  16.31828422  199.16225476]\t[ 0.  0.]                  \t[  46.          504.68809431]\n",
      "22 \t92    \t[  10.44        224.04582546]\t[  13.46723431  208.40787182]\t[ 0.  0.]                  \t[  46.          504.68809431]\n",
      "23 \t89    \t[   7.88        208.66031791]\t[   9.97524937  203.26322025]\t[ 0.  0.]                  \t[  31.          551.23467984]\n",
      "24 \t88    \t[   9.48        249.03636129]\t[  10.43310117  198.35214182]\t[ 0.  0.]                  \t[  31.          551.23467984]\n",
      "25 \t89    \t[   9.74        259.22144876]\t[  10.21921719  193.68124563]\t[ 0.  0.]                  \t[  31.          551.23467984]\n",
      "26 \t86    \t[  12.24        290.69068602]\t[  11.2045705  198.7052511]  \t[ 0.  0.]                  \t[  32.          559.60127088]\n",
      "27 \t87    \t[   6.12        200.12601646]\t[   7.6305701   188.98511995]\t[ 0.  0.]                  \t[  32.          559.60127088]\n",
      "28 \t90    \t[   5.46        173.68629391]\t[   8.35035329  194.13713321]\t[ 0.  0.]                  \t[  32.          559.60127088]\n",
      "29 \t94    \t[   5.14        153.60942869]\t[   8.53465875  196.89251588]\t[ 0.  0.]                  \t[  32.          559.60127088]\n",
      "30 \t93    \t[   5.7         160.04836138]\t[   9.55667306  202.73012538]\t[ 0.  0.]                  \t[  36.          568.48343867]\n",
      "31 \t95    \t[   5.7         175.36993944]\t[   8.74585616  196.02530582]\t[ 0.  0.]                  \t[  36.          568.48343867]\n",
      "32 \t78    \t[   5.74        175.66843167]\t[   8.75856153  196.28166654]\t[ 0.  0.]                  \t[  36.          568.48343867]\n",
      "33 \t91    \t[   6.72        192.14030284]\t[   9.63335871  208.7809893 ]\t[ 0.  0.]                  \t[  36.          568.48343867]\n",
      "34 \t92    \t[   7.28        196.69424357]\t[  10.39815368  216.27735816]\t[ 0.  0.]                  \t[  36.          568.48343867]\n",
      "35 \t89    \t[   8.02        231.63771291]\t[   9.80711986  209.75037701]\t[ 0.  0.]                  \t[  36.          568.48343867]\n",
      "36 \t90    \t[   8.04        232.59848901]\t[   9.8080783   207.02589326]\t[ 0.  0.]                  \t[  36.          568.48343867]\n",
      "37 \t85    \t[   8.72        254.17230119]\t[   9.31244329  204.65321872]\t[ 0.  0.]                  \t[  36.          568.48343867]\n",
      "38 \t89    \t[   7.48        207.61125864]\t[   9.98847336  213.49904673]\t[ 0.  0.]                  \t[  36.          568.48343867]\n",
      "39 \t92    \t[   9.36       245.9486636]  \t[  11.3256523   215.87109513]\t[ 0.  0.]                  \t[  42.          637.31948207]\n",
      "40 \t92    \t[  10.98        271.16188039]\t[  12.40401548  223.61565328]\t[ 0.  0.]                  \t[  42.          637.31948207]\n",
      "41 \t93    \t[  10.8         272.43239273]\t[  12.13424905  220.99277855]\t[ 0.  0.]                  \t[  42.          637.31948207]\n",
      "42 \t91    \t[  11.86        304.07117362]\t[  12.03995017  211.20576324]\t[ 0.  0.]                  \t[  42.          637.31948207]\n",
      "43 \t93    \t[  11.38       288.3292047]  \t[  12.25706327  222.63153571]\t[ 0.  0.]                  \t[  42.          637.31948207]\n",
      "44 \t87    \t[  11.62      302.244937]    \t[  12.38691245  217.55803025]\t[ 0.  0.]                  \t[  42.          637.31948207]\n",
      "45 \t87    \t[  11.7         297.43893553]\t[  12.64634335  223.48730523]\t[ 0.  0.]                  \t[  42.          637.31948207]\n",
      "46 \t91    \t[  16.7         368.89821598]\t[  14.88925787  230.18959314]\t[ 0.  0.]                  \t[  47.          707.73092646]\n",
      "47 \t88    \t[  15.02        344.98372128]\t[  14.04776139  235.63811278]\t[ 0.  0.]                  \t[  47.          707.73092646]\n",
      "48 \t86    \t[  12.66        307.94602816]\t[  13.67422393  237.85697412]\t[ 0.  0.]                  \t[  47.          707.73092646]\n",
      "49 \t90    \t[  15.78        366.45278023]\t[  14.21870599  222.95780236]\t[ 0.  0.]                  \t[  47.          707.73092646]\n",
      "50 \t87    \t[  16.92        386.82265016]\t[  14.89005037  220.57801282]\t[ 0.  0.]                  \t[  47.          707.73092646]\n"
     ]
    }
   ],
   "source": [
    "pop, stats, hof = main()"
   ]
  },
  {
   "cell_type": "code",
   "execution_count": 43,
   "metadata": {
    "scrolled": true
   },
   "outputs": [
    {
     "data": {
      "text/plain": [
       "[{3, 4, 7, 8, 9, 10, 12, 13, 14, 15, 16, 18},\n",
       " {3, 4, 7, 8, 9, 10, 12, 13, 14, 15, 16, 18},\n",
       " set(),\n",
       " {2, 4, 7, 8, 10, 13, 15},\n",
       " {2, 4, 8, 10, 13, 14, 15, 18},\n",
       " {4, 7, 8, 9, 10, 12, 13, 14, 15, 16, 18},\n",
       " {4, 7, 8, 9, 10, 12, 13, 14, 15, 16, 18},\n",
       " {4, 7, 8, 9, 10, 12, 13, 14, 15, 16, 18},\n",
       " {4, 7, 8, 9, 10, 12, 13, 14, 15, 16, 18},\n",
       " {4, 7, 8, 9, 10, 12, 13, 14, 15, 16, 18},\n",
       " {4, 7, 8, 10, 12, 13, 14, 15, 16, 18},\n",
       " {3, 4, 6, 8, 9, 10, 13, 14, 15},\n",
       " {4, 7, 8, 9, 10, 12, 13, 14, 15, 18},\n",
       " set(),\n",
       " {10},\n",
       " {10},\n",
       " {2, 8, 10, 13},\n",
       " {4, 8, 10, 13},\n",
       " {8, 10},\n",
       " {8, 10, 13},\n",
       " {2, 4, 7, 8, 10, 13},\n",
       " {2, 4, 7, 8, 10, 13},\n",
       " {2, 4, 7, 8, 10, 13},\n",
       " {2, 4, 7, 8, 10, 13},\n",
       " {4, 8, 10, 13, 15},\n",
       " {4, 8, 10, 13, 14, 15, 18},\n",
       " {4, 7, 8, 9, 10, 13, 14, 15},\n",
       " {4, 7, 8, 9, 10, 13, 14, 15},\n",
       " {4, 7, 8, 9, 10, 13, 14, 15},\n",
       " {2, 4, 8, 10, 13, 15},\n",
       " {4, 7, 8, 9, 10, 12, 13, 14, 15, 18},\n",
       " {2, 8, 10, 13},\n",
       " {8, 10, 13},\n",
       " {4, 8, 10, 13},\n",
       " {4, 8, 10, 13, 15},\n",
       " {4, 8, 10, 13, 14, 15, 18},\n",
       " {2, 4, 8, 10, 13},\n",
       " {4, 7, 8, 10, 13, 14, 15},\n",
       " {4, 7, 8, 9, 10, 13, 14, 15},\n",
       " {4, 8, 9, 10, 13, 14, 15},\n",
       " {4, 8, 10, 13, 14, 15},\n",
       " {4, 8, 10, 13, 14, 15},\n",
       " {2, 4, 8, 10, 13},\n",
       " {4, 7, 8, 10, 13, 14, 15},\n",
       " set(),\n",
       " set(),\n",
       " set(),\n",
       " set(),\n",
       " set(),\n",
       " set()]"
      ]
     },
     "execution_count": 43,
     "metadata": {},
     "output_type": "execute_result"
    }
   ],
   "source": [
    "pop"
   ]
  },
  {
   "cell_type": "code",
   "execution_count": 44,
   "metadata": {
    "scrolled": true
   },
   "outputs": [
    {
     "data": {
      "text/plain": [
       "[set(),\n",
       " {10},\n",
       " {8, 10},\n",
       " {8, 10, 13},\n",
       " {2, 8, 10, 13},\n",
       " {4, 8, 10, 13},\n",
       " {2, 4, 8, 10, 13},\n",
       " {2, 4, 7, 8, 10, 13},\n",
       " {4, 8, 10, 13, 15},\n",
       " {2, 4, 8, 10, 13, 15},\n",
       " {2, 4, 7, 8, 10, 13, 15},\n",
       " {4, 8, 10, 13, 14, 15},\n",
       " {4, 7, 8, 10, 13, 14, 15},\n",
       " {4, 8, 9, 10, 13, 14, 15},\n",
       " {4, 7, 8, 9, 10, 13, 14, 15},\n",
       " {4, 8, 10, 13, 14, 15, 18},\n",
       " {2, 4, 8, 10, 13, 14, 15, 18},\n",
       " {4, 7, 8, 9, 10, 12, 13, 14, 15, 18},\n",
       " {3, 4, 6, 8, 9, 10, 13, 14, 15},\n",
       " {4, 7, 8, 10, 12, 13, 14, 15, 16, 18},\n",
       " {4, 7, 8, 9, 10, 12, 13, 14, 15, 16, 18},\n",
       " {3, 4, 7, 8, 9, 10, 12, 13, 14, 15, 16, 18}]"
      ]
     },
     "execution_count": 44,
     "metadata": {},
     "output_type": "execute_result"
    }
   ],
   "source": [
    "hof.items"
   ]
  },
  {
   "cell_type": "code",
   "execution_count": 45,
   "metadata": {},
   "outputs": [
    {
     "data": {
      "text/plain": [
       "['avg', 'std', 'min', 'max']"
      ]
     },
     "execution_count": 45,
     "metadata": {},
     "output_type": "execute_result"
    }
   ],
   "source": [
    "stats.fields"
   ]
  }
 ],
 "metadata": {
  "kernelspec": {
   "display_name": "Python 3",
   "language": "python",
   "name": "python3"
  },
  "language_info": {
   "codemirror_mode": {
    "name": "ipython",
    "version": 3
   },
   "file_extension": ".py",
   "mimetype": "text/x-python",
   "name": "python",
   "nbconvert_exporter": "python",
   "pygments_lexer": "ipython3",
   "version": "3.6.4"
  }
 },
 "nbformat": 4,
 "nbformat_minor": 2
}
