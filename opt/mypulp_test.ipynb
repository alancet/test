{
 "cells": [
  {
   "cell_type": "markdown",
   "metadata": {},
   "source": [
    "# mypulp"
   ]
  },
  {
   "cell_type": "markdown",
   "metadata": {},
   "source": [
    "## Linear Optimization 線形最適化"
   ]
  },
  {
   "cell_type": "code",
   "execution_count": 1,
   "metadata": {},
   "outputs": [],
   "source": [
    "from mypulp import *"
   ]
  },
  {
   "cell_type": "raw",
   "metadata": {},
   "source": [
    "# in case use gurobi\n",
    "from gurobipy import *"
   ]
  },
  {
   "cell_type": "code",
   "execution_count": 2,
   "metadata": {},
   "outputs": [
    {
     "data": {
      "text/plain": [
       "lo1:\n",
       "MINIMIZE\n",
       "None\n",
       "VARIABLES"
      ]
     },
     "execution_count": 2,
     "metadata": {},
     "output_type": "execute_result"
    }
   ],
   "source": [
    "model = Model('lo1')\n",
    "model"
   ]
  },
  {
   "cell_type": "code",
   "execution_count": 3,
   "metadata": {},
   "outputs": [
    {
     "data": {
      "text/plain": [
       "Variable: x1 lb=0.0 ub=1e+100 vtype=C X=None RC=None"
      ]
     },
     "execution_count": 3,
     "metadata": {},
     "output_type": "execute_result"
    }
   ],
   "source": [
    "x1 = model.addVar(vtype='C', name='x1')\n",
    "x1"
   ]
  },
  {
   "cell_type": "raw",
   "metadata": {},
   "source": [
    "x1 = model.addVar(name='x1')# default vtype is 'C' == GRB.CONTINUOUS\n",
    "x1 = model.addVar()# if no need to ref the var name"
   ]
  },
  {
   "cell_type": "code",
   "execution_count": 4,
   "metadata": {},
   "outputs": [],
   "source": [
    "x2 = model.addVar(name='x2')\n",
    "x3 = model.addVar(name='x3')"
   ]
  },
  {
   "cell_type": "code",
   "execution_count": 5,
   "metadata": {},
   "outputs": [
    {
     "data": {
      "text/plain": [
       "(Variable: x1 lb=0.0 ub=1e+100 vtype=C X=None RC=None,\n",
       " Variable: x2 lb=0.0 ub=1e+100 vtype=C X=None RC=None,\n",
       " Variable: x3 lb=0.0 ub=1e+100 vtype=C X=None RC=None)"
      ]
     },
     "execution_count": 5,
     "metadata": {},
     "output_type": "execute_result"
    }
   ],
   "source": [
    "x1, x2, x3"
   ]
  },
  {
   "cell_type": "code",
   "execution_count": 6,
   "metadata": {},
   "outputs": [
    {
     "data": {
      "text/plain": [
       "lo1:\n",
       "MINIMIZE\n",
       "None\n",
       "VARIABLES"
      ]
     },
     "execution_count": 6,
     "metadata": {},
     "output_type": "execute_result"
    }
   ],
   "source": [
    "model"
   ]
  },
  {
   "cell_type": "code",
   "execution_count": 7,
   "metadata": {},
   "outputs": [],
   "source": [
    "model.update()"
   ]
  },
  {
   "cell_type": "code",
   "execution_count": 8,
   "metadata": {},
   "outputs": [
    {
     "data": {
      "text/plain": [
       "2*x1 + 1*x2 + 1*x3 + -60 <= 0"
      ]
     },
     "execution_count": 8,
     "metadata": {},
     "output_type": "execute_result"
    }
   ],
   "source": [
    "model.addConstr(2*x1+x2+x3 <= 60)"
   ]
  },
  {
   "cell_type": "code",
   "execution_count": 9,
   "metadata": {},
   "outputs": [
    {
     "data": {
      "text/plain": [
       "lo1:\n",
       "MINIMIZE\n",
       "None\n",
       "SUBJECT TO\n",
       "c_1: 2 x1 + x2 + x3 <= 60\n",
       "\n",
       "VARIABLES\n",
       "x1 <= 1e+100 Continuous\n",
       "x2 <= 1e+100 Continuous\n",
       "x3 <= 1e+100 Continuous"
      ]
     },
     "execution_count": 9,
     "metadata": {},
     "output_type": "execute_result"
    }
   ],
   "source": [
    "model"
   ]
  },
  {
   "cell_type": "raw",
   "metadata": {},
   "source": [
    "L1 = LinExpr([2,1,1], [x1,x2,x3])\n",
    "L1"
   ]
  },
  {
   "cell_type": "raw",
   "metadata": {},
   "source": [
    "L1 = LinExpr()\n",
    "L1.addTerms(2,x1)\n",
    "L1"
   ]
  },
  {
   "cell_type": "raw",
   "metadata": {},
   "source": [
    "L1.addTerms(1,x2)\n",
    "L1.addTerms(1,x3)\n",
    "L1"
   ]
  },
  {
   "cell_type": "raw",
   "metadata": {},
   "source": [
    "model.addConstr(L1, '<', 60)"
   ]
  },
  {
   "cell_type": "raw",
   "metadata": {},
   "source": [
    "model.addConstr(lhs=L1, sense='<', rhs=60)"
   ]
  },
  {
   "cell_type": "code",
   "execution_count": 10,
   "metadata": {},
   "outputs": [
    {
     "data": {
      "text/plain": [
       "lo1:\n",
       "MINIMIZE\n",
       "None\n",
       "SUBJECT TO\n",
       "c_1: 2 x1 + x2 + x3 <= 60\n",
       "\n",
       "c_2: x1 + 2 x2 + x3 <= 60\n",
       "\n",
       "c_3: x3 <= 30\n",
       "\n",
       "VARIABLES\n",
       "x1 <= 1e+100 Continuous\n",
       "x2 <= 1e+100 Continuous\n",
       "x3 <= 1e+100 Continuous"
      ]
     },
     "execution_count": 10,
     "metadata": {},
     "output_type": "execute_result"
    }
   ],
   "source": [
    "model.addConstr(x1+2*x2+x3 <= 60)\n",
    "model.addConstr(x3<=30)\n",
    "model"
   ]
  },
  {
   "cell_type": "code",
   "execution_count": 11,
   "metadata": {},
   "outputs": [
    {
     "data": {
      "text/plain": [
       "lo1:\n",
       "MAXIMIZE\n",
       "15*x1 + 18*x2 + 30*x3 + 0\n",
       "SUBJECT TO\n",
       "c_1: 2 x1 + x2 + x3 <= 60\n",
       "\n",
       "c_2: x1 + 2 x2 + x3 <= 60\n",
       "\n",
       "c_3: x3 <= 30\n",
       "\n",
       "VARIABLES\n",
       "x1 <= 1e+100 Continuous\n",
       "x2 <= 1e+100 Continuous\n",
       "x3 <= 1e+100 Continuous"
      ]
     },
     "execution_count": 11,
     "metadata": {},
     "output_type": "execute_result"
    }
   ],
   "source": [
    "model.setObjective(15*x1 + 18*x2 + 30*x3, GRB.MAXIMIZE)\n",
    "model"
   ]
  },
  {
   "cell_type": "code",
   "execution_count": 12,
   "metadata": {},
   "outputs": [
    {
     "name": "stdout",
     "output_type": "stream",
     "text": [
      "CPU times: user 3.31 ms, sys: 8.06 ms, total: 11.4 ms\n",
      "Wall time: 27 ms\n"
     ]
    }
   ],
   "source": [
    "%%time\n",
    "model.optimize()"
   ]
  },
  {
   "cell_type": "code",
   "execution_count": 13,
   "metadata": {},
   "outputs": [
    {
     "data": {
      "text/plain": [
       "1230.0"
      ]
     },
     "execution_count": 13,
     "metadata": {},
     "output_type": "execute_result"
    }
   ],
   "source": [
    "model.ObjVal"
   ]
  },
  {
   "cell_type": "code",
   "execution_count": 14,
   "metadata": {},
   "outputs": [
    {
     "data": {
      "text/plain": [
       "[Variable: x1 lb=0.0 ub=1e+100 vtype=C X=10.0 RC=0.0,\n",
       " Variable: x2 lb=0.0 ub=1e+100 vtype=C X=10.0 RC=0.0,\n",
       " Variable: x3 lb=0.0 ub=1e+100 vtype=C X=30.0 RC=0.0]"
      ]
     },
     "execution_count": 14,
     "metadata": {},
     "output_type": "execute_result"
    }
   ],
   "source": [
    "model.getVars()"
   ]
  },
  {
   "cell_type": "code",
   "execution_count": 15,
   "metadata": {},
   "outputs": [
    {
     "name": "stdout",
     "output_type": "stream",
     "text": [
      "x1 10.0\n",
      "x2 10.0\n",
      "x3 30.0\n"
     ]
    }
   ],
   "source": [
    "for v in model.getVars():\n",
    "    print(v.VarName, v.X)"
   ]
  },
  {
   "cell_type": "code",
   "execution_count": 16,
   "metadata": {},
   "outputs": [
    {
     "data": {
      "text/plain": [
       "[2*x1 + 1*x2 + 1*x3 + -60 <= 0, 1*x1 + 2*x2 + 1*x3 + -60 <= 0, 1*x3 + -30 <= 0]"
      ]
     },
     "execution_count": 16,
     "metadata": {},
     "output_type": "execute_result"
    }
   ],
   "source": [
    "model.getConstrs()"
   ]
  },
  {
   "cell_type": "code",
   "execution_count": 17,
   "metadata": {},
   "outputs": [
    {
     "name": "stdout",
     "output_type": "stream",
     "text": [
      "c_1 4.0\n",
      "c_2 7.0\n",
      "c_3 19.0\n"
     ]
    }
   ],
   "source": [
    "for c in model.getConstrs():\n",
    "    print(c.ConstrName, c.Pi)"
   ]
  },
  {
   "cell_type": "markdown",
   "metadata": {},
   "source": [
    "## Integer Optimization 整数最適化"
   ]
  },
  {
   "cell_type": "code",
   "execution_count": 18,
   "metadata": {},
   "outputs": [
    {
     "data": {
      "text/plain": [
       "<function mypulp.multidict(dic)>"
      ]
     },
     "execution_count": 18,
     "metadata": {},
     "output_type": "execute_result"
    }
   ],
   "source": [
    "multidict"
   ]
  },
  {
   "cell_type": "code",
   "execution_count": 19,
   "metadata": {},
   "outputs": [
    {
     "data": {
      "text/plain": [
       "(['Taro', 'Jiro', 'Sabu'],\n",
       " {'Taro': 1, 'Jiro': 3, 'Sabu': 5},\n",
       " {'Taro': 2, 'Jiro': 4, 'Sabu': 6})"
      ]
     },
     "execution_count": 19,
     "metadata": {},
     "output_type": "execute_result"
    }
   ],
   "source": [
    "name, height, weight = multidict({'Taro':[1,2], 'Jiro':[3,4], 'Sabu':[5,6]})\n",
    "name, height, weight"
   ]
  },
  {
   "cell_type": "code",
   "execution_count": 20,
   "metadata": {},
   "outputs": [],
   "source": [
    "def example():\n",
    "    J, v = multidict({1:16, 2:19, 3:23, 4:28})\n",
    "    a = {(1,1):2, (1,2):3, (1,3):4, (1,4):5,\n",
    "        (2,1):3000, (2,2):3500, (2,3):5100, (2,4):7200}\n",
    "    I, b = multidict({1:7, 2:10000})\n",
    "    return I, J, v, a, b"
   ]
  },
  {
   "cell_type": "code",
   "execution_count": 22,
   "metadata": {},
   "outputs": [
    {
     "data": {
      "text/plain": [
       "([1, 2],\n",
       " [1, 2, 3, 4],\n",
       " {1: 16, 2: 19, 3: 23, 4: 28},\n",
       " {(1, 1): 2,\n",
       "  (1, 2): 3,\n",
       "  (1, 3): 4,\n",
       "  (1, 4): 5,\n",
       "  (2, 1): 3000,\n",
       "  (2, 2): 3500,\n",
       "  (2, 3): 5100,\n",
       "  (2, 4): 7200},\n",
       " {1: 7, 2: 10000})"
      ]
     },
     "execution_count": 22,
     "metadata": {},
     "output_type": "execute_result"
    }
   ],
   "source": [
    "example()"
   ]
  },
  {
   "cell_type": "code",
   "execution_count": 23,
   "metadata": {},
   "outputs": [],
   "source": [
    "def mkp(I, J, v, a, b):\n",
    "    model = Model('mkp')\n",
    "    x = {}\n",
    "    for j in J:\n",
    "        x[j] = model.addVar(vtype='B', name='x(%d)'%j)\n",
    "    model.update()\n",
    "    for i in I:\n",
    "        model.addConstr(quicksum(a[i,j]*x[j] for j in J)<=b[i])\n",
    "    model.setObjective(quicksum(v[j]*x[j] for j in J), GRB.MAXIMIZE)\n",
    "    model.update()\n",
    "    return model"
   ]
  },
  {
   "cell_type": "code",
   "execution_count": 24,
   "metadata": {},
   "outputs": [
    {
     "data": {
      "text/plain": [
       "2*x1 + 1*x2 + 1*x3 + 0"
      ]
     },
     "execution_count": 24,
     "metadata": {},
     "output_type": "execute_result"
    }
   ],
   "source": [
    "quicksum([2*x1, x2, x3])"
   ]
  },
  {
   "cell_type": "code",
   "execution_count": 26,
   "metadata": {},
   "outputs": [],
   "source": [
    "I, J, v, a, b = example()\n",
    "model = mkp(I, J, v, a, b)\n",
    "model.update()\n",
    "model.write('mkp.lp')"
   ]
  },
  {
   "cell_type": "code",
   "execution_count": 27,
   "metadata": {},
   "outputs": [],
   "source": [
    "model.update()\n",
    "model.write('mkp.mps')"
   ]
  },
  {
   "cell_type": "code",
   "execution_count": 29,
   "metadata": {},
   "outputs": [
    {
     "name": "stdout",
     "output_type": "stream",
     "text": [
      "CPU times: user 4.56 ms, sys: 8.27 ms, total: 12.8 ms\n",
      "Wall time: 39.2 ms\n"
     ]
    }
   ],
   "source": [
    "%%time\n",
    "model.optimize()"
   ]
  },
  {
   "cell_type": "code",
   "execution_count": 30,
   "metadata": {},
   "outputs": [
    {
     "data": {
      "text/plain": [
       "42.0"
      ]
     },
     "execution_count": 30,
     "metadata": {},
     "output_type": "execute_result"
    }
   ],
   "source": [
    "model.ObjVal"
   ]
  },
  {
   "cell_type": "code",
   "execution_count": 33,
   "metadata": {},
   "outputs": [
    {
     "name": "stdout",
     "output_type": "stream",
     "text": [
      "x(1) 0.0\n",
      "x(2) 1.0\n",
      "x(3) 1.0\n",
      "x(4) 0.0\n"
     ]
    }
   ],
   "source": [
    "for v in model.getVars():\n",
    "    print(v.VarName, v.X)\n"
   ]
  },
  {
   "cell_type": "code",
   "execution_count": null,
   "metadata": {},
   "outputs": [],
   "source": []
  },
  {
   "cell_type": "markdown",
   "metadata": {},
   "source": [
    "## diet problem 栄養問題"
   ]
  },
  {
   "cell_type": "raw",
   "metadata": {},
   "source": [
    "infeasible case 実行不可能、実行不能"
   ]
  },
  {
   "cell_type": "code",
   "execution_count": 8,
   "metadata": {},
   "outputs": [],
   "source": [
    "model = Model('lo infeas')\n",
    "x1 = model.addVar(vtype='C', name='x1')\n",
    "x2 = model.addVar(vtype='C', name='x2')\n",
    "model.update()\n",
    "model.addConstr(x1-x2<=-1)\n",
    "model.addConstr(x2-x1<=-1)\n",
    "model.setObjective(x1+x2, GRB.MAXIMIZE)\n",
    "model.optimize()"
   ]
  },
  {
   "cell_type": "code",
   "execution_count": 9,
   "metadata": {},
   "outputs": [
    {
     "data": {
      "text/plain": [
       "lo infeas:\n",
       "MAXIMIZE\n",
       "1*x1 + 1*x2 + 0\n",
       "SUBJECT TO\n",
       "c_1: x1 - x2 <= -1\n",
       "\n",
       "c_2: - x1 + x2 <= -1\n",
       "\n",
       "VARIABLES\n",
       "x1 <= 1e+100 Continuous\n",
       "x2 <= 1e+100 Continuous"
      ]
     },
     "execution_count": 9,
     "metadata": {},
     "output_type": "execute_result"
    }
   ],
   "source": [
    "model"
   ]
  },
  {
   "cell_type": "code",
   "execution_count": 7,
   "metadata": {},
   "outputs": [
    {
     "data": {
      "text/plain": [
       "(3, 1)"
      ]
     },
     "execution_count": 7,
     "metadata": {},
     "output_type": "execute_result"
    }
   ],
   "source": [
    "model.Status, GRB.Status.OPTIMAL"
   ]
  },
  {
   "cell_type": "code",
   "execution_count": 5,
   "metadata": {},
   "outputs": [],
   "source": [
    "if model.Status == GRB.Status.OPTIMAL:\n",
    "    print(model.ObjVal)\n",
    "    for v in model.getVars():\n",
    "        print(v.VarName, v.X)"
   ]
  },
  {
   "cell_type": "raw",
   "metadata": {},
   "source": [
    "diet problem def"
   ]
  },
  {
   "cell_type": "code",
   "execution_count": 13,
   "metadata": {},
   "outputs": [],
   "source": [
    "F, c, n = multidict({\n",
    "    'CQPounder':[360, {'Cal':556, 'Carbo':39, 'Protein':30, 'VitA':147, 'VitC':10, 'Calc':221, 'Iron':2.4}],\n",
    "    'Big M':[320, {'Cal':556, 'Carbo':46, 'Protein':26, 'VitA':97, 'VitC':9, 'Calc':142, 'Iron':2.4}],\n",
    "    'FFilet':[270, {'Cal':356, 'Carbo':42, 'Protein':14, 'VitA':28, 'VitC':1, 'Calc':76, 'Iron':0.7}],\n",
    "    'Chicken':[290, {'Cal':431, 'Carbo':45, 'Protein':20, 'VitA':9, 'VitC':2, 'Calc':37, 'Iron':0.9}],\n",
    "    'Fries':[190, {'Cal':248, 'Carbo':30, 'Protein':3, 'VitA':0, 'VitC':5, 'Calc':7, 'Iron':0.6}],\n",
    "    'Milk':[170, {'Cal':138, 'Carbo':10, 'Protein':7, 'VitA':80, 'VitC':2, 'Calc':227, 'Iron':0}],\n",
    "    'VegJuice':[100, {'Cal':69, 'Carbo':17, 'Protein':1, 'VitA':750, 'VitC':2, 'Calc':18, 'Iron':0}],\n",
    "    \n",
    "})\n",
    "N, a, b = multidict({\n",
    "    'Cal':[2000, 3000],\n",
    "    'Carbo':[300, 375],\n",
    "    'Protein':[50, 60],\n",
    "    'VitA':[500, 750],\n",
    "    'VitC':[85, 100],\n",
    "    'Calc':[660, 900],\n",
    "    'Iron':[6.0, 7.5],\n",
    "    \n",
    "})"
   ]
  },
  {
   "cell_type": "code",
   "execution_count": 15,
   "metadata": {},
   "outputs": [
    {
     "data": {
      "text/plain": [
       "(['CQPounder', 'Big M', 'FFilet', 'Chicken', 'Fries', 'Milk', 'VegJuice'],\n",
       " {'CQPounder': 360,\n",
       "  'Big M': 320,\n",
       "  'FFilet': 270,\n",
       "  'Chicken': 290,\n",
       "  'Fries': 190,\n",
       "  'Milk': 170,\n",
       "  'VegJuice': 100},\n",
       " {'CQPounder': {'Cal': 556,\n",
       "   'Carbo': 39,\n",
       "   'Protein': 30,\n",
       "   'VitA': 147,\n",
       "   'VitC': 10,\n",
       "   'Calc': 221,\n",
       "   'Iron': 2.4},\n",
       "  'Big M': {'Cal': 556,\n",
       "   'Carbo': 46,\n",
       "   'Protein': 26,\n",
       "   'VitA': 97,\n",
       "   'VitC': 9,\n",
       "   'Calc': 142,\n",
       "   'Iron': 2.4},\n",
       "  'FFilet': {'Cal': 356,\n",
       "   'Carbo': 42,\n",
       "   'Protein': 14,\n",
       "   'VitA': 28,\n",
       "   'VitC': 1,\n",
       "   'Calc': 76,\n",
       "   'Iron': 0.7},\n",
       "  'Chicken': {'Cal': 431,\n",
       "   'Carbo': 45,\n",
       "   'Protein': 20,\n",
       "   'VitA': 9,\n",
       "   'VitC': 2,\n",
       "   'Calc': 37,\n",
       "   'Iron': 0.9},\n",
       "  'Fries': {'Cal': 248,\n",
       "   'Carbo': 30,\n",
       "   'Protein': 3,\n",
       "   'VitA': 0,\n",
       "   'VitC': 5,\n",
       "   'Calc': 7,\n",
       "   'Iron': 0.6},\n",
       "  'Milk': {'Cal': 138,\n",
       "   'Carbo': 10,\n",
       "   'Protein': 7,\n",
       "   'VitA': 80,\n",
       "   'VitC': 2,\n",
       "   'Calc': 227,\n",
       "   'Iron': 0},\n",
       "  'VegJuice': {'Cal': 69,\n",
       "   'Carbo': 17,\n",
       "   'Protein': 1,\n",
       "   'VitA': 750,\n",
       "   'VitC': 2,\n",
       "   'Calc': 18,\n",
       "   'Iron': 0}})"
      ]
     },
     "execution_count": 15,
     "metadata": {},
     "output_type": "execute_result"
    }
   ],
   "source": [
    "F, c, n"
   ]
  },
  {
   "cell_type": "code",
   "execution_count": 16,
   "metadata": {
    "scrolled": false
   },
   "outputs": [
    {
     "data": {
      "text/plain": [
       "(['Cal', 'Carbo', 'Protein', 'VitA', 'VitC', 'Calc', 'Iron'],\n",
       " {'Cal': 2000,\n",
       "  'Carbo': 300,\n",
       "  'Protein': 50,\n",
       "  'VitA': 500,\n",
       "  'VitC': 85,\n",
       "  'Calc': 660,\n",
       "  'Iron': 6.0},\n",
       " {'Cal': 3000,\n",
       "  'Carbo': 375,\n",
       "  'Protein': 60,\n",
       "  'VitA': 750,\n",
       "  'VitC': 100,\n",
       "  'Calc': 900,\n",
       "  'Iron': 7.5})"
      ]
     },
     "execution_count": 16,
     "metadata": {},
     "output_type": "execute_result"
    }
   ],
   "source": [
    " N, a, b"
   ]
  },
  {
   "cell_type": "code",
   "execution_count": 22,
   "metadata": {
    "scrolled": false
   },
   "outputs": [
    {
     "data": {
      "text/plain": [
       "modern diet:\n",
       "MINIMIZE\n",
       "320*x(Big_M) + 360*x(CQPounder) + 290*x(Chicken) + 270*x(FFilet) + 190*x(Fries) + 170*x(Milk) + 100*x(VegJuice) + 0\n",
       "SUBJECT TO\n",
       "NutrLB(Cal): 556 x(Big_M) + 556 x(CQPounder) + 431 x(Chicken) + 356 x(FFilet)\n",
       " + 248 x(Fries) + 138 x(Milk) + 69 x(VegJuice) >= 2000\n",
       "\n",
       "NutrUB(Cal): 556 x(Big_M) + 556 x(CQPounder) + 431 x(Chicken) + 356 x(FFilet)\n",
       " + 248 x(Fries) + 138 x(Milk) + 69 x(VegJuice) <= 3000\n",
       "\n",
       "NutrLB(Carbo): 46 x(Big_M) + 39 x(CQPounder) + 45 x(Chicken) + 42 x(FFilet)\n",
       " + 30 x(Fries) + 10 x(Milk) + 17 x(VegJuice) >= 300\n",
       "\n",
       "NutrUB(Carbo): 46 x(Big_M) + 39 x(CQPounder) + 45 x(Chicken) + 42 x(FFilet)\n",
       " + 30 x(Fries) + 10 x(Milk) + 17 x(VegJuice) <= 375\n",
       "\n",
       "NutrLB(Protein): 26 x(Big_M) + 30 x(CQPounder) + 20 x(Chicken) + 14 x(FFilet)\n",
       " + 3 x(Fries) + 7 x(Milk) + x(VegJuice) >= 50\n",
       "\n",
       "NutrUB(Protein): 26 x(Big_M) + 30 x(CQPounder) + 20 x(Chicken) + 14 x(FFilet)\n",
       " + 3 x(Fries) + 7 x(Milk) + x(VegJuice) <= 60\n",
       "\n",
       "NutrLB(VitA): 97 x(Big_M) + 147 x(CQPounder) + 9 x(Chicken) + 28 x(FFilet)\n",
       " + 80 x(Milk) + 750 x(VegJuice) >= 500\n",
       "\n",
       "NutrUB(VitA): 97 x(Big_M) + 147 x(CQPounder) + 9 x(Chicken) + 28 x(FFilet)\n",
       " + 80 x(Milk) + 750 x(VegJuice) <= 750\n",
       "\n",
       "NutrLB(VitC): 9 x(Big_M) + 10 x(CQPounder) + 2 x(Chicken) + x(FFilet)\n",
       " + 5 x(Fries) + 2 x(Milk) + 2 x(VegJuice) >= 85\n",
       "\n",
       "NutrUB(VitC): 9 x(Big_M) + 10 x(CQPounder) + 2 x(Chicken) + x(FFilet)\n",
       " + 5 x(Fries) + 2 x(Milk) + 2 x(VegJuice) <= 100\n",
       "\n",
       "NutrLB(Calc): 142 x(Big_M) + 221 x(CQPounder) + 37 x(Chicken) + 76 x(FFilet)\n",
       " + 7 x(Fries) + 227 x(Milk) + 18 x(VegJuice) >= 660\n",
       "\n",
       "NutrUB(Calc): 142 x(Big_M) + 221 x(CQPounder) + 37 x(Chicken) + 76 x(FFilet)\n",
       " + 7 x(Fries) + 227 x(Milk) + 18 x(VegJuice) <= 900\n",
       "\n",
       "NutrLB(Iron): 2.4 x(Big_M) + 2.4 x(CQPounder) + 0.9 x(Chicken) + 0.7 x(FFilet)\n",
       " + 0.6 x(Fries) >= 6\n",
       "\n",
       "NutrUB(Iron): 2.4 x(Big_M) + 2.4 x(CQPounder) + 0.9 x(Chicken) + 0.7 x(FFilet)\n",
       " + 0.6 x(Fries) <= 7.5\n",
       "\n",
       "VARIABLES\n",
       "x(Big_M) <= 1e+100 Continuous\n",
       "x(CQPounder) <= 1e+100 Continuous\n",
       "x(Chicken) <= 1e+100 Continuous\n",
       "x(FFilet) <= 1e+100 Continuous\n",
       "x(Fries) <= 1e+100 Continuous\n",
       "x(Milk) <= 1e+100 Continuous\n",
       "x(VegJuice) <= 1e+100 Continuous"
      ]
     },
     "execution_count": 22,
     "metadata": {},
     "output_type": "execute_result"
    }
   ],
   "source": [
    "model = Model('modern diet')\n",
    "x = {}\n",
    "for j in F:\n",
    "    x[j] = model.addVar(vtype='C', name='x({0})'.format(j))\n",
    "model.update()\n",
    "for i in N:\n",
    "    model.addConstr(quicksum(n[j][i]*x[j] for j in F) >= a[i], 'NutrLB({0})'.format(i))\n",
    "    model.addConstr(quicksum(n[j][i]*x[j] for j in F) <= b[i], 'NutrUB({0})'.format(i))\n",
    "model.setObjective(quicksum(c[j]*x[j] for j in F), GRB.MINIMIZE)\n",
    "model.update()\n",
    "model"
   ]
  },
  {
   "cell_type": "code",
   "execution_count": 26,
   "metadata": {},
   "outputs": [],
   "source": [
    "model.optimize()"
   ]
  },
  {
   "cell_type": "code",
   "execution_count": 25,
   "metadata": {
    "scrolled": true
   },
   "outputs": [
    {
     "data": {
      "text/plain": [
       "False"
      ]
     },
     "execution_count": 25,
     "metadata": {},
     "output_type": "execute_result"
    }
   ],
   "source": [
    "model.Status == GRB.Status.OPTIMAL"
   ]
  },
  {
   "cell_type": "code",
   "execution_count": 27,
   "metadata": {
    "scrolled": false
   },
   "outputs": [
    {
     "data": {
      "text/plain": [
       "(['CQPounder', 'Big M', 'FFilet', 'Chicken', 'Fries', 'Milk', 'VegJuice'],\n",
       " ['Cal', 'Carbo', 'Protein', 'VitA', 'VitC', 'Calc', 'Iron'])"
      ]
     },
     "execution_count": 27,
     "metadata": {},
     "output_type": "execute_result"
    }
   ],
   "source": [
    "F, N"
   ]
  },
  {
   "cell_type": "code",
   "execution_count": 37,
   "metadata": {
    "scrolled": false
   },
   "outputs": [
    {
     "data": {
      "text/plain": [
       "revised modern diet:\n",
       "MINIMIZE\n",
       "9999*deficit(Cal) + 9999*deficit(Calc) + 9999*deficit(Carbo) + 9999*deficit(Iron) + 9999*deficit(Protein) + 9999*deficit(VitA) + 9999*deficit(VitC) + 9999*surplus(Cal) + 9999*surplus(Calc) + 9999*surplus(Carbo) + 9999*surplus(Iron) + 9999*surplus(Protein) + 9999*surplus(VitA) + 9999*surplus(VitC) + 320*x(Big_M) + 360*x(CQPounder) + 290*x(Chicken) + 270*x(FFilet) + 190*x(Fries) + 170*x(Milk) + 100*x(VegJuice) + 0\n",
       "SUBJECT TO\n",
       "NutrLB(Cal): deficit(Cal) + 556 x(Big_M) + 556 x(CQPounder) + 431 x(Chicken)\n",
       " + 356 x(FFilet) + 248 x(Fries) + 138 x(Milk) + 69 x(VegJuice) >= 2000\n",
       "\n",
       "NutrUB(Cal): - surplus(Cal) + 556 x(Big_M) + 556 x(CQPounder) + 431 x(Chicken)\n",
       " + 356 x(FFilet) + 248 x(Fries) + 138 x(Milk) + 69 x(VegJuice) <= 3000\n",
       "\n",
       "NutrLB(Carbo): deficit(Carbo) + 46 x(Big_M) + 39 x(CQPounder) + 45 x(Chicken)\n",
       " + 42 x(FFilet) + 30 x(Fries) + 10 x(Milk) + 17 x(VegJuice) >= 300\n",
       "\n",
       "NutrUB(Carbo): - surplus(Carbo) + 46 x(Big_M) + 39 x(CQPounder)\n",
       " + 45 x(Chicken) + 42 x(FFilet) + 30 x(Fries) + 10 x(Milk) + 17 x(VegJuice)\n",
       " <= 375\n",
       "\n",
       "NutrLB(Protein): deficit(Protein) + 26 x(Big_M) + 30 x(CQPounder)\n",
       " + 20 x(Chicken) + 14 x(FFilet) + 3 x(Fries) + 7 x(Milk) + x(VegJuice) >= 50\n",
       "\n",
       "NutrUB(Protein): - surplus(Protein) + 26 x(Big_M) + 30 x(CQPounder)\n",
       " + 20 x(Chicken) + 14 x(FFilet) + 3 x(Fries) + 7 x(Milk) + x(VegJuice) <= 60\n",
       "\n",
       "NutrLB(VitA): deficit(VitA) + 97 x(Big_M) + 147 x(CQPounder) + 9 x(Chicken)\n",
       " + 28 x(FFilet) + 80 x(Milk) + 750 x(VegJuice) >= 500\n",
       "\n",
       "NutrUB(VitA): - surplus(VitA) + 97 x(Big_M) + 147 x(CQPounder) + 9 x(Chicken)\n",
       " + 28 x(FFilet) + 80 x(Milk) + 750 x(VegJuice) <= 750\n",
       "\n",
       "NutrLB(VitC): deficit(VitC) + 9 x(Big_M) + 10 x(CQPounder) + 2 x(Chicken)\n",
       " + x(FFilet) + 5 x(Fries) + 2 x(Milk) + 2 x(VegJuice) >= 85\n",
       "\n",
       "NutrUB(VitC): - surplus(VitC) + 9 x(Big_M) + 10 x(CQPounder) + 2 x(Chicken)\n",
       " + x(FFilet) + 5 x(Fries) + 2 x(Milk) + 2 x(VegJuice) <= 100\n",
       "\n",
       "NutrLB(Calc): deficit(Calc) + 142 x(Big_M) + 221 x(CQPounder) + 37 x(Chicken)\n",
       " + 76 x(FFilet) + 7 x(Fries) + 227 x(Milk) + 18 x(VegJuice) >= 660\n",
       "\n",
       "NutrUB(Calc): - surplus(Calc) + 142 x(Big_M) + 221 x(CQPounder)\n",
       " + 37 x(Chicken) + 76 x(FFilet) + 7 x(Fries) + 227 x(Milk) + 18 x(VegJuice)\n",
       " <= 900\n",
       "\n",
       "NutrLB(Iron): deficit(Iron) + 2.4 x(Big_M) + 2.4 x(CQPounder) + 0.9 x(Chicken)\n",
       " + 0.7 x(FFilet) + 0.6 x(Fries) >= 6\n",
       "\n",
       "NutrUB(Iron): - surplus(Iron) + 2.4 x(Big_M) + 2.4 x(CQPounder)\n",
       " + 0.9 x(Chicken) + 0.7 x(FFilet) + 0.6 x(Fries) <= 7.5\n",
       "\n",
       "VARIABLES\n",
       "deficit(Cal) <= 1e+100 Continuous\n",
       "deficit(Calc) <= 1e+100 Continuous\n",
       "deficit(Carbo) <= 1e+100 Continuous\n",
       "deficit(Iron) <= 1e+100 Continuous\n",
       "deficit(Protein) <= 1e+100 Continuous\n",
       "deficit(VitA) <= 1e+100 Continuous\n",
       "deficit(VitC) <= 1e+100 Continuous\n",
       "surplus(Cal) <= 1e+100 Continuous\n",
       "surplus(Calc) <= 1e+100 Continuous\n",
       "surplus(Carbo) <= 1e+100 Continuous\n",
       "surplus(Iron) <= 1e+100 Continuous\n",
       "surplus(Protein) <= 1e+100 Continuous\n",
       "surplus(VitA) <= 1e+100 Continuous\n",
       "surplus(VitC) <= 1e+100 Continuous\n",
       "x(Big_M) <= 1e+100 Continuous\n",
       "x(CQPounder) <= 1e+100 Continuous\n",
       "x(Chicken) <= 1e+100 Continuous\n",
       "x(FFilet) <= 1e+100 Continuous\n",
       "x(Fries) <= 1e+100 Continuous\n",
       "x(Milk) <= 1e+100 Continuous\n",
       "x(VegJuice) <= 1e+100 Continuous"
      ]
     },
     "execution_count": 37,
     "metadata": {},
     "output_type": "execute_result"
    }
   ],
   "source": [
    "model = Model('revised modern diet')\n",
    "x, s, d = {}, {}, {}\n",
    "for j in F:\n",
    "    x[j] = model.addVar(vtype='C', name='x({0})'.format(j))\n",
    "for i in N:\n",
    "    s[i] = model.addVar(vtype='C', name='surplus({0})'.format(i))\n",
    "    d[i] = model.addVar(vtype='C', name='deficit({0})'.format(i))\n",
    "    \n",
    "model.update()\n",
    "for i in N:\n",
    "    model.addConstr(quicksum(n[j][i]*x[j] for j in F) >= a[i]-d[i], 'NutrLB({0})'.format(i))\n",
    "    model.addConstr(quicksum(n[j][i]*x[j] for j in F) <= b[i]+s[i], 'NutrUB({0})'.format(i))\n",
    "model.setObjective(quicksum(c[j]*x[j] for j in F) + \n",
    "                   quicksum(9999*d[i] + 9999*s[i] for i in N), GRB.MINIMIZE)\n",
    "model.update()\n",
    "model"
   ]
  },
  {
   "cell_type": "code",
   "execution_count": 38,
   "metadata": {},
   "outputs": [
    {
     "name": "stdout",
     "output_type": "stream",
     "text": [
      "CPU times: user 4.9 ms, sys: 11.8 ms, total: 16.7 ms\n",
      "Wall time: 26.4 ms\n"
     ]
    }
   ],
   "source": [
    "%%time\n",
    "model.optimize()"
   ]
  },
  {
   "cell_type": "code",
   "execution_count": 52,
   "metadata": {},
   "outputs": [
    {
     "name": "stdout",
     "output_type": "stream",
     "text": [
      "ObjVal:  262979.603553112\n",
      "\n",
      "# opt variables\n",
      "CQPounder 0.0066833892\n",
      "Big M 0.0\n",
      "FFilet 0.0\n",
      "Chicken 0.0\n",
      "Fries 10.476435\n",
      "Milk 2.520044\n",
      "VegJuice 0.72988536\n",
      "\n",
      "# deficit and surplus of\n",
      "Cal\t0.0\t0.0\n",
      "Carbo\t0.0\t0.0\n",
      "Protein\t0.0\t0.0\n",
      "VitA\t0.0\t0.0\n",
      "VitC\t26.051133\t0.0\n",
      "Calc\t0.0\t0.0\n",
      "Iron\t0.0\t0.0\n"
     ]
    }
   ],
   "source": [
    "if model.Status == GRB.Status.OPTIMAL:\n",
    "    print('ObjVal: ', model.ObjVal)\n",
    "    print('\\n# opt variables')\n",
    "    for j in F:\n",
    "        print(j, x[j].X)\n",
    "    print('\\n# deficit and surplus of')\n",
    "    for i in N:\n",
    "        print('{0}\\t{1}\\t{2}'.format(i, d[i].X, s[i].X))\n"
   ]
  },
  {
   "cell_type": "code",
   "execution_count": null,
   "metadata": {},
   "outputs": [],
   "source": []
  },
  {
   "cell_type": "code",
   "execution_count": null,
   "metadata": {},
   "outputs": [],
   "source": []
  },
  {
   "cell_type": "code",
   "execution_count": null,
   "metadata": {},
   "outputs": [],
   "source": []
  },
  {
   "cell_type": "code",
   "execution_count": null,
   "metadata": {},
   "outputs": [],
   "source": []
  },
  {
   "cell_type": "code",
   "execution_count": null,
   "metadata": {},
   "outputs": [],
   "source": []
  },
  {
   "cell_type": "code",
   "execution_count": null,
   "metadata": {},
   "outputs": [],
   "source": []
  }
 ],
 "metadata": {
  "kernelspec": {
   "display_name": "Python 3",
   "language": "python",
   "name": "python3"
  },
  "language_info": {
   "codemirror_mode": {
    "name": "ipython",
    "version": 3
   },
   "file_extension": ".py",
   "mimetype": "text/x-python",
   "name": "python",
   "nbconvert_exporter": "python",
   "pygments_lexer": "ipython3",
   "version": "3.6.6"
  },
  "toc": {
   "base_numbering": 1,
   "nav_menu": {
    "height": "122px",
    "width": "436px"
   },
   "number_sections": true,
   "sideBar": true,
   "skip_h1_title": false,
   "title_cell": "Table of Contents",
   "title_sidebar": "Contents",
   "toc_cell": false,
   "toc_position": {},
   "toc_section_display": true,
   "toc_window_display": false
  },
  "varInspector": {
   "cols": {
    "lenName": 16,
    "lenType": 16,
    "lenVar": 40
   },
   "kernels_config": {
    "python": {
     "delete_cmd_postfix": "",
     "delete_cmd_prefix": "del ",
     "library": "var_list.py",
     "varRefreshCmd": "print(var_dic_list())"
    },
    "r": {
     "delete_cmd_postfix": ") ",
     "delete_cmd_prefix": "rm(",
     "library": "var_list.r",
     "varRefreshCmd": "cat(var_dic_list()) "
    }
   },
   "types_to_exclude": [
    "module",
    "function",
    "builtin_function_or_method",
    "instance",
    "_Feature"
   ],
   "window_display": false
  }
 },
 "nbformat": 4,
 "nbformat_minor": 2
}
