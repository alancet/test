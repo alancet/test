{
 "cells": [
  {
   "cell_type": "markdown",
   "metadata": {},
   "source": [
    "# mypulp"
   ]
  },
  {
   "cell_type": "markdown",
   "metadata": {},
   "source": [
    "## Linear Optimization 線形最適化"
   ]
  },
  {
   "cell_type": "code",
   "execution_count": 1,
   "metadata": {},
   "outputs": [],
   "source": [
    "from mypulp import *"
   ]
  },
  {
   "cell_type": "raw",
   "metadata": {},
   "source": [
    "# in case use gurobi\n",
    "from gurobipy import *"
   ]
  },
  {
   "cell_type": "code",
   "execution_count": 2,
   "metadata": {},
   "outputs": [
    {
     "data": {
      "text/plain": [
       "lo1:\n",
       "MINIMIZE\n",
       "None\n",
       "VARIABLES"
      ]
     },
     "execution_count": 2,
     "metadata": {},
     "output_type": "execute_result"
    }
   ],
   "source": [
    "model = Model('lo1')\n",
    "model"
   ]
  },
  {
   "cell_type": "code",
   "execution_count": 3,
   "metadata": {},
   "outputs": [
    {
     "data": {
      "text/plain": [
       "Variable: x1 lb=0.0 ub=1e+100 vtype=C X=None RC=None"
      ]
     },
     "execution_count": 3,
     "metadata": {},
     "output_type": "execute_result"
    }
   ],
   "source": [
    "x1 = model.addVar(vtype='C', name='x1')\n",
    "x1"
   ]
  },
  {
   "cell_type": "raw",
   "metadata": {},
   "source": [
    "x1 = model.addVar(name='x1')# default vtype is 'C' == GRB.CONTINUOUS\n",
    "x1 = model.addVar()# if no need to ref the var name"
   ]
  },
  {
   "cell_type": "code",
   "execution_count": 4,
   "metadata": {},
   "outputs": [],
   "source": [
    "x2 = model.addVar(name='x2')\n",
    "x3 = model.addVar(name='x3')"
   ]
  },
  {
   "cell_type": "code",
   "execution_count": 5,
   "metadata": {},
   "outputs": [
    {
     "data": {
      "text/plain": [
       "(Variable: x1 lb=0.0 ub=1e+100 vtype=C X=None RC=None,\n",
       " Variable: x2 lb=0.0 ub=1e+100 vtype=C X=None RC=None,\n",
       " Variable: x3 lb=0.0 ub=1e+100 vtype=C X=None RC=None)"
      ]
     },
     "execution_count": 5,
     "metadata": {},
     "output_type": "execute_result"
    }
   ],
   "source": [
    "x1, x2, x3"
   ]
  },
  {
   "cell_type": "code",
   "execution_count": 6,
   "metadata": {},
   "outputs": [
    {
     "data": {
      "text/plain": [
       "lo1:\n",
       "MINIMIZE\n",
       "None\n",
       "VARIABLES"
      ]
     },
     "execution_count": 6,
     "metadata": {},
     "output_type": "execute_result"
    }
   ],
   "source": [
    "model"
   ]
  },
  {
   "cell_type": "code",
   "execution_count": 7,
   "metadata": {},
   "outputs": [],
   "source": [
    "model.update()"
   ]
  },
  {
   "cell_type": "code",
   "execution_count": 8,
   "metadata": {},
   "outputs": [
    {
     "data": {
      "text/plain": [
       "2*x1 + 1*x2 + 1*x3 + -60 <= 0"
      ]
     },
     "execution_count": 8,
     "metadata": {},
     "output_type": "execute_result"
    }
   ],
   "source": [
    "model.addConstr(2*x1+x2+x3 <= 60)"
   ]
  },
  {
   "cell_type": "code",
   "execution_count": 9,
   "metadata": {},
   "outputs": [
    {
     "data": {
      "text/plain": [
       "lo1:\n",
       "MINIMIZE\n",
       "None\n",
       "SUBJECT TO\n",
       "c_1: 2 x1 + x2 + x3 <= 60\n",
       "\n",
       "VARIABLES\n",
       "x1 <= 1e+100 Continuous\n",
       "x2 <= 1e+100 Continuous\n",
       "x3 <= 1e+100 Continuous"
      ]
     },
     "execution_count": 9,
     "metadata": {},
     "output_type": "execute_result"
    }
   ],
   "source": [
    "model"
   ]
  },
  {
   "cell_type": "raw",
   "metadata": {},
   "source": [
    "L1 = LinExpr([2,1,1], [x1,x2,x3])\n",
    "L1"
   ]
  },
  {
   "cell_type": "raw",
   "metadata": {},
   "source": [
    "L1 = LinExpr()\n",
    "L1.addTerms(2,x1)\n",
    "L1"
   ]
  },
  {
   "cell_type": "raw",
   "metadata": {},
   "source": [
    "L1.addTerms(1,x2)\n",
    "L1.addTerms(1,x3)\n",
    "L1"
   ]
  },
  {
   "cell_type": "raw",
   "metadata": {},
   "source": [
    "model.addConstr(L1, '<', 60)"
   ]
  },
  {
   "cell_type": "raw",
   "metadata": {},
   "source": [
    "model.addConstr(lhs=L1, sense='<', rhs=60)"
   ]
  },
  {
   "cell_type": "code",
   "execution_count": 10,
   "metadata": {},
   "outputs": [
    {
     "data": {
      "text/plain": [
       "lo1:\n",
       "MINIMIZE\n",
       "None\n",
       "SUBJECT TO\n",
       "c_1: 2 x1 + x2 + x3 <= 60\n",
       "\n",
       "c_2: x1 + 2 x2 + x3 <= 60\n",
       "\n",
       "c_3: x3 <= 30\n",
       "\n",
       "VARIABLES\n",
       "x1 <= 1e+100 Continuous\n",
       "x2 <= 1e+100 Continuous\n",
       "x3 <= 1e+100 Continuous"
      ]
     },
     "execution_count": 10,
     "metadata": {},
     "output_type": "execute_result"
    }
   ],
   "source": [
    "model.addConstr(x1+2*x2+x3 <= 60)\n",
    "model.addConstr(x3<=30)\n",
    "model"
   ]
  },
  {
   "cell_type": "code",
   "execution_count": 11,
   "metadata": {},
   "outputs": [
    {
     "data": {
      "text/plain": [
       "lo1:\n",
       "MAXIMIZE\n",
       "15*x1 + 18*x2 + 30*x3 + 0\n",
       "SUBJECT TO\n",
       "c_1: 2 x1 + x2 + x3 <= 60\n",
       "\n",
       "c_2: x1 + 2 x2 + x3 <= 60\n",
       "\n",
       "c_3: x3 <= 30\n",
       "\n",
       "VARIABLES\n",
       "x1 <= 1e+100 Continuous\n",
       "x2 <= 1e+100 Continuous\n",
       "x3 <= 1e+100 Continuous"
      ]
     },
     "execution_count": 11,
     "metadata": {},
     "output_type": "execute_result"
    }
   ],
   "source": [
    "model.setObjective(15*x1 + 18*x2 + 30*x3, GRB.MAXIMIZE)\n",
    "model"
   ]
  },
  {
   "cell_type": "code",
   "execution_count": 12,
   "metadata": {},
   "outputs": [
    {
     "name": "stdout",
     "output_type": "stream",
     "text": [
      "CPU times: user 3.31 ms, sys: 8.06 ms, total: 11.4 ms\n",
      "Wall time: 27 ms\n"
     ]
    }
   ],
   "source": [
    "%%time\n",
    "model.optimize()"
   ]
  },
  {
   "cell_type": "code",
   "execution_count": 13,
   "metadata": {},
   "outputs": [
    {
     "data": {
      "text/plain": [
       "1230.0"
      ]
     },
     "execution_count": 13,
     "metadata": {},
     "output_type": "execute_result"
    }
   ],
   "source": [
    "model.ObjVal"
   ]
  },
  {
   "cell_type": "code",
   "execution_count": 14,
   "metadata": {},
   "outputs": [
    {
     "data": {
      "text/plain": [
       "[Variable: x1 lb=0.0 ub=1e+100 vtype=C X=10.0 RC=0.0,\n",
       " Variable: x2 lb=0.0 ub=1e+100 vtype=C X=10.0 RC=0.0,\n",
       " Variable: x3 lb=0.0 ub=1e+100 vtype=C X=30.0 RC=0.0]"
      ]
     },
     "execution_count": 14,
     "metadata": {},
     "output_type": "execute_result"
    }
   ],
   "source": [
    "model.getVars()"
   ]
  },
  {
   "cell_type": "code",
   "execution_count": 15,
   "metadata": {},
   "outputs": [
    {
     "name": "stdout",
     "output_type": "stream",
     "text": [
      "x1 10.0\n",
      "x2 10.0\n",
      "x3 30.0\n"
     ]
    }
   ],
   "source": [
    "for v in model.getVars():\n",
    "    print(v.VarName, v.X)"
   ]
  },
  {
   "cell_type": "code",
   "execution_count": 16,
   "metadata": {},
   "outputs": [
    {
     "data": {
      "text/plain": [
       "[2*x1 + 1*x2 + 1*x3 + -60 <= 0, 1*x1 + 2*x2 + 1*x3 + -60 <= 0, 1*x3 + -30 <= 0]"
      ]
     },
     "execution_count": 16,
     "metadata": {},
     "output_type": "execute_result"
    }
   ],
   "source": [
    "model.getConstrs()"
   ]
  },
  {
   "cell_type": "code",
   "execution_count": 17,
   "metadata": {},
   "outputs": [
    {
     "name": "stdout",
     "output_type": "stream",
     "text": [
      "c_1 4.0\n",
      "c_2 7.0\n",
      "c_3 19.0\n"
     ]
    }
   ],
   "source": [
    "for c in model.getConstrs():\n",
    "    print(c.ConstrName, c.Pi)"
   ]
  },
  {
   "cell_type": "markdown",
   "metadata": {},
   "source": [
    "## Integer Optimization 整数最適化"
   ]
  },
  {
   "cell_type": "code",
   "execution_count": 18,
   "metadata": {},
   "outputs": [
    {
     "data": {
      "text/plain": [
       "<function mypulp.multidict(dic)>"
      ]
     },
     "execution_count": 18,
     "metadata": {},
     "output_type": "execute_result"
    }
   ],
   "source": [
    "multidict"
   ]
  },
  {
   "cell_type": "code",
   "execution_count": 19,
   "metadata": {},
   "outputs": [
    {
     "data": {
      "text/plain": [
       "(['Taro', 'Jiro', 'Sabu'],\n",
       " {'Taro': 1, 'Jiro': 3, 'Sabu': 5},\n",
       " {'Taro': 2, 'Jiro': 4, 'Sabu': 6})"
      ]
     },
     "execution_count": 19,
     "metadata": {},
     "output_type": "execute_result"
    }
   ],
   "source": [
    "name, height, weight = multidict({'Taro':[1,2], 'Jiro':[3,4], 'Sabu':[5,6]})\n",
    "name, height, weight"
   ]
  },
  {
   "cell_type": "code",
   "execution_count": 20,
   "metadata": {},
   "outputs": [],
   "source": [
    "def example():\n",
    "    J, v = multidict({1:16, 2:19, 3:23, 4:28})\n",
    "    a = {(1,1):2, (1,2):3, (1,3):4, (1,4):5,\n",
    "        (2,1):3000, (2,2):3500, (2,3):5100, (2,4):7200}\n",
    "    I, b = multidict({1:7, 2:10000})\n",
    "    return I, J, v, a, b"
   ]
  },
  {
   "cell_type": "code",
   "execution_count": 22,
   "metadata": {},
   "outputs": [
    {
     "data": {
      "text/plain": [
       "([1, 2],\n",
       " [1, 2, 3, 4],\n",
       " {1: 16, 2: 19, 3: 23, 4: 28},\n",
       " {(1, 1): 2,\n",
       "  (1, 2): 3,\n",
       "  (1, 3): 4,\n",
       "  (1, 4): 5,\n",
       "  (2, 1): 3000,\n",
       "  (2, 2): 3500,\n",
       "  (2, 3): 5100,\n",
       "  (2, 4): 7200},\n",
       " {1: 7, 2: 10000})"
      ]
     },
     "execution_count": 22,
     "metadata": {},
     "output_type": "execute_result"
    }
   ],
   "source": [
    "example()"
   ]
  },
  {
   "cell_type": "code",
   "execution_count": 23,
   "metadata": {},
   "outputs": [],
   "source": [
    "def mkp(I, J, v, a, b):\n",
    "    model = Model('mkp')\n",
    "    x = {}\n",
    "    for j in J:\n",
    "        x[j] = model.addVar(vtype='B', name='x(%d)'%j)\n",
    "    model.update()\n",
    "    for i in I:\n",
    "        model.addConstr(quicksum(a[i,j]*x[j] for j in J)<=b[i])\n",
    "    model.setObjective(quicksum(v[j]*x[j] for j in J), GRB.MAXIMIZE)\n",
    "    model.update()\n",
    "    return model"
   ]
  },
  {
   "cell_type": "code",
   "execution_count": 24,
   "metadata": {},
   "outputs": [
    {
     "data": {
      "text/plain": [
       "2*x1 + 1*x2 + 1*x3 + 0"
      ]
     },
     "execution_count": 24,
     "metadata": {},
     "output_type": "execute_result"
    }
   ],
   "source": [
    "quicksum([2*x1, x2, x3])"
   ]
  },
  {
   "cell_type": "code",
   "execution_count": 26,
   "metadata": {},
   "outputs": [],
   "source": [
    "I, J, v, a, b = example()\n",
    "model = mkp(I, J, v, a, b)\n",
    "model.update()\n",
    "model.write('mkp.lp')"
   ]
  },
  {
   "cell_type": "code",
   "execution_count": 27,
   "metadata": {},
   "outputs": [],
   "source": [
    "model.update()\n",
    "model.write('mkp.mps')"
   ]
  },
  {
   "cell_type": "code",
   "execution_count": 29,
   "metadata": {},
   "outputs": [
    {
     "name": "stdout",
     "output_type": "stream",
     "text": [
      "CPU times: user 4.56 ms, sys: 8.27 ms, total: 12.8 ms\n",
      "Wall time: 39.2 ms\n"
     ]
    }
   ],
   "source": [
    "%%time\n",
    "model.optimize()"
   ]
  },
  {
   "cell_type": "code",
   "execution_count": 30,
   "metadata": {},
   "outputs": [
    {
     "data": {
      "text/plain": [
       "42.0"
      ]
     },
     "execution_count": 30,
     "metadata": {},
     "output_type": "execute_result"
    }
   ],
   "source": [
    "model.ObjVal"
   ]
  },
  {
   "cell_type": "code",
   "execution_count": 33,
   "metadata": {},
   "outputs": [
    {
     "name": "stdout",
     "output_type": "stream",
     "text": [
      "x(1) 0.0\n",
      "x(2) 1.0\n",
      "x(3) 1.0\n",
      "x(4) 0.0\n"
     ]
    }
   ],
   "source": [
    "for v in model.getVars():\n",
    "    print(v.VarName, v.X)\n"
   ]
  },
  {
   "cell_type": "code",
   "execution_count": null,
   "metadata": {},
   "outputs": [],
   "source": []
  },
  {
   "cell_type": "markdown",
   "metadata": {},
   "source": [
    "## hoge"
   ]
  },
  {
   "cell_type": "code",
   "execution_count": null,
   "metadata": {},
   "outputs": [],
   "source": []
  },
  {
   "cell_type": "code",
   "execution_count": null,
   "metadata": {},
   "outputs": [],
   "source": []
  },
  {
   "cell_type": "code",
   "execution_count": null,
   "metadata": {},
   "outputs": [],
   "source": []
  },
  {
   "cell_type": "code",
   "execution_count": null,
   "metadata": {},
   "outputs": [],
   "source": []
  }
 ],
 "metadata": {
  "kernelspec": {
   "display_name": "Python 3",
   "language": "python",
   "name": "python3"
  },
  "language_info": {
   "codemirror_mode": {
    "name": "ipython",
    "version": 3
   },
   "file_extension": ".py",
   "mimetype": "text/x-python",
   "name": "python",
   "nbconvert_exporter": "python",
   "pygments_lexer": "ipython3",
   "version": "3.6.6"
  },
  "toc": {
   "base_numbering": 1,
   "nav_menu": {
    "height": "122px",
    "width": "436px"
   },
   "number_sections": true,
   "sideBar": true,
   "skip_h1_title": false,
   "title_cell": "Table of Contents",
   "title_sidebar": "Contents",
   "toc_cell": false,
   "toc_position": {},
   "toc_section_display": true,
   "toc_window_display": false
  },
  "varInspector": {
   "cols": {
    "lenName": 16,
    "lenType": 16,
    "lenVar": 40
   },
   "kernels_config": {
    "python": {
     "delete_cmd_postfix": "",
     "delete_cmd_prefix": "del ",
     "library": "var_list.py",
     "varRefreshCmd": "print(var_dic_list())"
    },
    "r": {
     "delete_cmd_postfix": ") ",
     "delete_cmd_prefix": "rm(",
     "library": "var_list.r",
     "varRefreshCmd": "cat(var_dic_list()) "
    }
   },
   "types_to_exclude": [
    "module",
    "function",
    "builtin_function_or_method",
    "instance",
    "_Feature"
   ],
   "window_display": false
  }
 },
 "nbformat": 4,
 "nbformat_minor": 2
}
