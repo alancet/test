{
 "cells": [
  {
   "cell_type": "markdown",
   "metadata": {
    "toc": true
   },
   "source": [
    "<h1>Table of Contents<span class=\"tocSkip\"></span></h1>\n",
    "<div class=\"toc\"><ul class=\"toc-item\"><li><span><a href=\"#py-modules\" data-toc-modified-id=\"py-modules-1\"><span class=\"toc-item-num\">1&nbsp;&nbsp;</span>py modules</a></span></li><li><span><a href=\"#def-util-func\" data-toc-modified-id=\"def-util-func-2\"><span class=\"toc-item-num\">2&nbsp;&nbsp;</span>def util func</a></span></li><li><span><a href=\"#線形計画問題-LP\" data-toc-modified-id=\"線形計画問題-LP-3\"><span class=\"toc-item-num\">3&nbsp;&nbsp;</span>線形計画問題 LP</a></span><ul class=\"toc-item\"><li><span><a href=\"#general\" data-toc-modified-id=\"general-3.1\"><span class=\"toc-item-num\">3.1&nbsp;&nbsp;</span>general</a></span><ul class=\"toc-item\"><li><span><a href=\"#pulp\" data-toc-modified-id=\"pulp-3.1.1\"><span class=\"toc-item-num\">3.1.1&nbsp;&nbsp;</span>pulp</a></span></li><li><span><a href=\"#pulp-by-vector-style-todo\" data-toc-modified-id=\"pulp-by-vector-style-todo-3.1.2\"><span class=\"toc-item-num\">3.1.2&nbsp;&nbsp;</span>pulp by vector style <strong>todo</strong></a></span></li></ul></li><li><span><a href=\"#メニュー計画,ダイエット問題\" data-toc-modified-id=\"メニュー計画,ダイエット問題-3.2\"><span class=\"toc-item-num\">3.2&nbsp;&nbsp;</span>メニュー計画,ダイエット問題</a></span><ul class=\"toc-item\"><li><span><a href=\"#pulp\" data-toc-modified-id=\"pulp-3.2.1\"><span class=\"toc-item-num\">3.2.1&nbsp;&nbsp;</span>pulp</a></span></li><li><span><a href=\"#mypulp(gurobi)-todo\" data-toc-modified-id=\"mypulp(gurobi)-todo-3.2.2\"><span class=\"toc-item-num\">3.2.2&nbsp;&nbsp;</span>mypulp(gurobi) <strong>todo</strong></a></span></li></ul></li><li><span><a href=\"#生産計画問題\" data-toc-modified-id=\"生産計画問題-3.3\"><span class=\"toc-item-num\">3.3&nbsp;&nbsp;</span>生産計画問題</a></span><ul class=\"toc-item\"><li><span><a href=\"#http://www.me.titech.ac.jp/~mizu_lab/text/PDF-LP/LP1-problem.pdf\" data-toc-modified-id=\"http://www.me.titech.ac.jp/~mizu_lab/text/PDF-LP/LP1-problem.pdf-3.3.1\"><span class=\"toc-item-num\">3.3.1&nbsp;&nbsp;</span><a href=\"http://www.me.titech.ac.jp/~mizu_lab/text/PDF-LP/LP1-problem.pdf\" target=\"_blank\">http://www.me.titech.ac.jp/~mizu_lab/text/PDF-LP/LP1-problem.pdf</a></a></span><ul class=\"toc-item\"><li><span><a href=\"#pulp\" data-toc-modified-id=\"pulp-3.3.1.1\"><span class=\"toc-item-num\">3.3.1.1&nbsp;&nbsp;</span>pulp</a></span></li></ul></li><li><span><a href=\"#https://www.slideshare.net/shunjiumetani/ss-17197023\" data-toc-modified-id=\"https://www.slideshare.net/shunjiumetani/ss-17197023-3.3.2\"><span class=\"toc-item-num\">3.3.2&nbsp;&nbsp;</span><a href=\"https://www.slideshare.net/shunjiumetani/ss-17197023\" target=\"_blank\">https://www.slideshare.net/shunjiumetani/ss-17197023</a></a></span><ul class=\"toc-item\"><li><span><a href=\"#pulp-todo\" data-toc-modified-id=\"pulp-todo-3.3.2.1\"><span class=\"toc-item-num\">3.3.2.1&nbsp;&nbsp;</span>pulp <strong>todo</strong></a></span></li></ul></li></ul></li></ul></li><li><span><a href=\"#混合整数最適化問題-MIP\" data-toc-modified-id=\"混合整数最適化問題-MIP-4\"><span class=\"toc-item-num\">4&nbsp;&nbsp;</span>混合整数最適化問題 MIP</a></span></li></ul></div>"
   ]
  },
  {
   "cell_type": "markdown",
   "metadata": {},
   "source": [
    "複数の最適化問題を、各モジュールで解いてみて、比較してみる"
   ]
  },
  {
   "cell_type": "markdown",
   "metadata": {},
   "source": [
    "# py modules\n",
    "\n",
    "- pulp\n",
    "- mypulp(gurobi)\n",
    "- deap"
   ]
  },
  {
   "cell_type": "code",
   "execution_count": 1,
   "metadata": {},
   "outputs": [],
   "source": [
    "from pulp import *\n",
    "from mypulp import *\n",
    "\n",
    "#import pulp\n",
    "#import mypulp"
   ]
  },
  {
   "cell_type": "markdown",
   "metadata": {},
   "source": [
    "# def util func"
   ]
  },
  {
   "cell_type": "code",
   "execution_count": 11,
   "metadata": {},
   "outputs": [],
   "source": [
    "def showPulpResult(problem):\n",
    "    print(\"result status: \", LpStatus[problem.status])\n",
    "    print(\"best objective: \", value(problem.objective))\n",
    "    #print(\"vars: \", value(x1), value(x2), value(x3), value(x4), value(x5), )\n",
    "    for v in problem.variables():\n",
    "        print(v.name, \"=\", v.varValue)"
   ]
  },
  {
   "cell_type": "markdown",
   "metadata": {},
   "source": [
    "# 線形計画問題 LP"
   ]
  },
  {
   "cell_type": "markdown",
   "metadata": {},
   "source": [
    "## general"
   ]
  },
  {
   "cell_type": "markdown",
   "metadata": {},
   "source": [
    "- var: x1, x2, x3, x4, x5\n",
    "- 最小化: 2*x1 - 4*x2 - x4 + 3*x5\n",
    "- 制約条件: \n",
    "    - 3x1 + x3 - 5*x5 >= 16\n",
    "    - -2*x1 + 2*x2 + 3*x4 >= 21\n",
    "    - 4*x1 - 2*x2 + x3 - 3*x5 = 18\n",
    "    - -x2 + 3*x4 + 2*x5 = 9\n",
    "    - x1 >= 0 \n",
    "    - x2 >= 0\n"
   ]
  },
  {
   "cell_type": "markdown",
   "metadata": {},
   "source": [
    "### pulp"
   ]
  },
  {
   "cell_type": "code",
   "execution_count": 10,
   "metadata": {},
   "outputs": [
    {
     "name": "stdout",
     "output_type": "stream",
     "text": [
      "result status:  Optimal\n",
      "best objective:  -12.75\n",
      "x1 = 0.0\n",
      "x2 = 10.5\n",
      "x3 = 68.25\n",
      "x4 = 0.0\n",
      "x5 = 9.75\n"
     ]
    }
   ],
   "source": [
    "problem = LpProblem('lp1', LpMaximize)\n",
    "x1 = LpVariable('x1', 0, None, cat=LpContinuous)\n",
    "x2 = LpVariable('x2', 0, None, cat=LpContinuous)\n",
    "x3 = LpVariable('x3', 0, None, cat=LpContinuous)\n",
    "x4 = LpVariable('x4', 0, None, cat=LpContinuous)\n",
    "x5 = LpVariable('x5', 0, None, cat=LpContinuous)\n",
    "\n",
    "problem += (2*x1 - 4*x2 - x4 + 3*x5, 'Objective')\n",
    "\n",
    "problem += (3*x1 + x3 - 5*x5 >= 16, 'Constraint_1')\n",
    "problem += (-2*x1 + 2*x2 + 3*x4 >= 21, 'Constraint_2')\n",
    "problem += (4*x1 - 2*x2 + x3 - 3*x5 == 18, 'Constraint_3')\n",
    "problem += (-x2 + 3*x4 + 2*x5 == 9, 'Constraint_4')\n",
    "solver = solvers.PULP_CBC_CMD()\n",
    "\n",
    "result_status = problem.solve(solver)\n",
    "\n",
    "showPulpResult(problem)\n",
    "\n",
    "#print(\"result status: \", LpStatus[result_status])\n",
    "#print(\"best objective: \", value(problem.objective))\n",
    "##print(\"vars: \", value(x1), value(x2), value(x3), value(x4), value(x5), )\n",
    "#for v in problem.variables():\n",
    "#    print(v.name, \"=\", v.varValue)"
   ]
  },
  {
   "cell_type": "code",
   "execution_count": null,
   "metadata": {},
   "outputs": [],
   "source": []
  },
  {
   "cell_type": "markdown",
   "metadata": {},
   "source": [
    "### pulp by vector style **todo**"
   ]
  },
  {
   "cell_type": "code",
   "execution_count": null,
   "metadata": {},
   "outputs": [],
   "source": []
  },
  {
   "cell_type": "code",
   "execution_count": null,
   "metadata": {},
   "outputs": [],
   "source": []
  },
  {
   "cell_type": "code",
   "execution_count": null,
   "metadata": {},
   "outputs": [],
   "source": []
  },
  {
   "cell_type": "code",
   "execution_count": null,
   "metadata": {},
   "outputs": [],
   "source": []
  },
  {
   "cell_type": "code",
   "execution_count": null,
   "metadata": {},
   "outputs": [],
   "source": []
  },
  {
   "cell_type": "code",
   "execution_count": null,
   "metadata": {},
   "outputs": [],
   "source": []
  },
  {
   "cell_type": "code",
   "execution_count": null,
   "metadata": {},
   "outputs": [],
   "source": []
  },
  {
   "cell_type": "markdown",
   "metadata": {},
   "source": [
    "## メニュー計画,ダイエット問題"
   ]
  },
  {
   "cell_type": "markdown",
   "metadata": {},
   "source": [
    "http://www.cs.tsukuba.ac.jp/~takahito/sys_math/part1.pdf\n",
    "\n",
    "\n",
    "- min: sum of price\n",
    "  - 50*x1 + 65*x2\n",
    "- var\n",
    "  - x1: milk, 1unit:1/2, 50yen\n",
    "  - x2: cereal, 1unit:1/4, 65yen\n",
    "- const\n",
    "  - 3*x1 + 2*x2 >= 9\n",
    "  - 1/15*x1 * 2/15*x2 >= 1/3\n",
    "  - 1/6*x1 >=1/4\n",
    "  - ratio\n",
    "    - x2/x1 >=1/3\n",
    "    - x2/x1 <= 2\n",
    "  - x1 >0\n",
    "  - x2 >0\n",
    "  \n",
    "\n",
    "\n"
   ]
  },
  {
   "cell_type": "markdown",
   "metadata": {},
   "source": [
    "### pulp"
   ]
  },
  {
   "cell_type": "code",
   "execution_count": 3,
   "metadata": {},
   "outputs": [
    {
     "name": "stdout",
     "output_type": "stream",
     "text": [
      "result_status: 1 Optimal\n",
      "objective value 197.5\n",
      "x1, x2: 2.0 1.5\n"
     ]
    }
   ],
   "source": [
    "problem = pulp.LpProblem('lp1', pulp.LpMinimize)\n",
    "x1 = pulp.LpVariable('x1', 0, 999, pulp.LpContinuous)\n",
    "x2 = pulp.LpVariable('x2', 0, 999, pulp.LpContinuous)\n",
    "\n",
    "problem += (50*x1 + 65*x2, 'Objective')\n",
    "problem += (3*x1 + 2*x2 >= 9, 'Constraint_1')\n",
    "problem += (1/15*x1 + 2/15*x2 >= 1/3, 'Constraint_2')\n",
    "problem += (1/6*x1 >= 1/4, 'Constraint_3')\n",
    "problem += (3*x2 >= x1, 'Constraint_4')\n",
    "problem += (x2 <= 2*x1, 'Constraint_5')\n",
    "\n",
    "result_status = problem.solve()\n",
    "print('result_status:', result_status, pulp.LpStatus[result_status])\n",
    "print('objective value', pulp.value(problem.objective))\n",
    "print('x1, x2:', pulp.value(x1), pulp.value(x2))"
   ]
  },
  {
   "cell_type": "code",
   "execution_count": null,
   "metadata": {},
   "outputs": [],
   "source": []
  },
  {
   "cell_type": "markdown",
   "metadata": {},
   "source": [
    "### mypulp(gurobi) **todo**"
   ]
  },
  {
   "cell_type": "code",
   "execution_count": null,
   "metadata": {},
   "outputs": [],
   "source": []
  },
  {
   "cell_type": "code",
   "execution_count": null,
   "metadata": {},
   "outputs": [],
   "source": []
  },
  {
   "cell_type": "markdown",
   "metadata": {},
   "source": [
    "## 生産計画問題"
   ]
  },
  {
   "cell_type": "markdown",
   "metadata": {},
   "source": [
    "### http://www.me.titech.ac.jp/~mizu_lab/text/PDF-LP/LP1-problem.pdf\n",
    "\n",
    "問題1.1(生産計画問題) A社では，3種類の原料(原料１，２，３)を使って，2種類の製品(製品１，２)を生産している．製品１を1トン生産するには，表1にあるように原料１，２，３がそれぞれ1トン，4トン，3トン必要であり，製品２を1トン生産するには，原料１，２，３がそれぞれ2トン，4トン，1トン必要である．1日の原料１，２，３の使用可能量は，それぞれ80トン，180トン，90トンである．また，製品１，２を生産したときの1トンあたりの利益はそれぞれ5万円，4万円である．1日あたりの利益を最大にするには，製品１，２をそれぞれ何トンずつ生産すればよいか．\n",
    "\n",
    "- var: product1, 2: x1, x2: integer\n",
    "- objective: max: 5*x1 + 4*x2\n",
    "- constraint\n",
    "  - x1 + 2*x2 <= 80\n",
    "  - 4*x1 + 4*x2<= 180\n",
    "  - 3*x1 + x2 <= 90\n",
    "  - x1 >= 0\n",
    "  - x2 >= 0 "
   ]
  },
  {
   "cell_type": "markdown",
   "metadata": {},
   "source": [
    "#### pulp"
   ]
  },
  {
   "cell_type": "code",
   "execution_count": 4,
   "metadata": {
    "scrolled": false
   },
   "outputs": [
    {
     "name": "stdout",
     "output_type": "stream",
     "text": [
      "result_status:  1 Optimal\n",
      "best objective val:  202.5\n",
      "best variables: x1, x2, :  22.5 22.5\n"
     ]
    }
   ],
   "source": [
    "problem = pulp.LpProblem('productionPlanning1', pulp.LpMaximize)\n",
    "#x1 = pulp.LpVariable('product1', 0, 999, pulp.LpInteger)\n",
    "#x2 = pulp.LpVariable('product2', 0, 999, pulp.LpInteger)\n",
    "x1 = pulp.LpVariable('product1', 0, 999, pulp.LpContinuous)\n",
    "x2 = pulp.LpVariable('product2', 0, 999, pulp.LpContinuous)\n",
    "\n",
    "problem += (5*x1 + 4*x2, 'Objective')\n",
    "problem += (x1 + 2*x2 <= 80, 'Constraint_A')\n",
    "problem += (4*x1 + 4*x2 <= 180, 'Constraint_B')\n",
    "problem += (3*x1 + x2 <= 90, 'Constraints_C')\n",
    "\n",
    "solver = pulp.solvers.PULP_CBC_CMD()\n",
    "result_status = problem.solve(solver)\n",
    "print(\"result_status: \", result_status, pulp.LpStatus[result_status])\n",
    "print(\"best objective val: \", pulp.value(problem.objective))\n",
    "print(\"best variables: x1, x2, : \", pulp.value(x1), pulp.value(x2))"
   ]
  },
  {
   "cell_type": "code",
   "execution_count": null,
   "metadata": {},
   "outputs": [],
   "source": []
  },
  {
   "cell_type": "markdown",
   "metadata": {},
   "source": [
    "### https://www.slideshare.net/shunjiumetani/ss-17197023"
   ]
  },
  {
   "cell_type": "markdown",
   "metadata": {},
   "source": [
    "#### pulp **todo**"
   ]
  },
  {
   "cell_type": "code",
   "execution_count": null,
   "metadata": {},
   "outputs": [],
   "source": []
  },
  {
   "cell_type": "code",
   "execution_count": null,
   "metadata": {},
   "outputs": [],
   "source": []
  },
  {
   "cell_type": "code",
   "execution_count": null,
   "metadata": {},
   "outputs": [],
   "source": []
  },
  {
   "cell_type": "markdown",
   "metadata": {},
   "source": [
    "# 混合整数最適化問題 MIP"
   ]
  },
  {
   "cell_type": "code",
   "execution_count": null,
   "metadata": {},
   "outputs": [],
   "source": []
  },
  {
   "cell_type": "code",
   "execution_count": null,
   "metadata": {},
   "outputs": [],
   "source": []
  },
  {
   "cell_type": "code",
   "execution_count": null,
   "metadata": {},
   "outputs": [],
   "source": []
  },
  {
   "cell_type": "code",
   "execution_count": null,
   "metadata": {},
   "outputs": [],
   "source": []
  },
  {
   "cell_type": "code",
   "execution_count": null,
   "metadata": {},
   "outputs": [],
   "source": []
  }
 ],
 "metadata": {
  "kernelspec": {
   "display_name": "Python 3",
   "language": "python",
   "name": "python3"
  },
  "language_info": {
   "codemirror_mode": {
    "name": "ipython",
    "version": 3
   },
   "file_extension": ".py",
   "mimetype": "text/x-python",
   "name": "python",
   "nbconvert_exporter": "python",
   "pygments_lexer": "ipython3",
   "version": "3.6.6"
  },
  "toc": {
   "base_numbering": 1,
   "nav_menu": {
    "height": "112px",
    "width": "257px"
   },
   "number_sections": true,
   "sideBar": true,
   "skip_h1_title": false,
   "title_cell": "Table of Contents",
   "title_sidebar": "Contents",
   "toc_cell": true,
   "toc_position": {
    "height": "calc(100% - 180px)",
    "left": "10px",
    "top": "150px",
    "width": "273px"
   },
   "toc_section_display": true,
   "toc_window_display": true
  },
  "varInspector": {
   "cols": {
    "lenName": 16,
    "lenType": 16,
    "lenVar": 40
   },
   "kernels_config": {
    "python": {
     "delete_cmd_postfix": "",
     "delete_cmd_prefix": "del ",
     "library": "var_list.py",
     "varRefreshCmd": "print(var_dic_list())"
    },
    "r": {
     "delete_cmd_postfix": ") ",
     "delete_cmd_prefix": "rm(",
     "library": "var_list.r",
     "varRefreshCmd": "cat(var_dic_list()) "
    }
   },
   "types_to_exclude": [
    "module",
    "function",
    "builtin_function_or_method",
    "instance",
    "_Feature"
   ],
   "window_display": false
  }
 },
 "nbformat": 4,
 "nbformat_minor": 2
}
