{
 "cells": [
  {
   "cell_type": "markdown",
   "metadata": {
    "toc": true
   },
   "source": [
    "<h1>Table of Contents<span class=\"tocSkip\"></span></h1>\n",
    "<div class=\"toc\"><ul class=\"toc-item\"><li><span><a href=\"#py-modules\" data-toc-modified-id=\"py-modules-1\"><span class=\"toc-item-num\">1&nbsp;&nbsp;</span>py modules</a></span></li><li><span><a href=\"#def-util-func\" data-toc-modified-id=\"def-util-func-2\"><span class=\"toc-item-num\">2&nbsp;&nbsp;</span>def util func</a></span></li><li><span><a href=\"#線形計画問題-LP\" data-toc-modified-id=\"線形計画問題-LP-3\"><span class=\"toc-item-num\">3&nbsp;&nbsp;</span>線形計画問題 LP</a></span><ul class=\"toc-item\"><li><span><a href=\"#general\" data-toc-modified-id=\"general-3.1\"><span class=\"toc-item-num\">3.1&nbsp;&nbsp;</span>general</a></span><ul class=\"toc-item\"><li><span><a href=\"#pulp\" data-toc-modified-id=\"pulp-3.1.1\"><span class=\"toc-item-num\">3.1.1&nbsp;&nbsp;</span>pulp</a></span></li><li><span><a href=\"#pulp-by-vector-style\" data-toc-modified-id=\"pulp-by-vector-style-3.1.2\"><span class=\"toc-item-num\">3.1.2&nbsp;&nbsp;</span>pulp by vector style</a></span></li></ul></li><li><span><a href=\"#Blending-or-mixing-problem-混合問題\" data-toc-modified-id=\"Blending-or-mixing-problem-混合問題-3.2\"><span class=\"toc-item-num\">3.2&nbsp;&nbsp;</span>Blending or mixing problem 混合問題</a></span><ul class=\"toc-item\"><li><span><a href=\"#https://www.coin-or.org/PuLP/CaseStudies/a_blending_problem.html\" data-toc-modified-id=\"https://www.coin-or.org/PuLP/CaseStudies/a_blending_problem.html-3.2.1\"><span class=\"toc-item-num\">3.2.1&nbsp;&nbsp;</span><a href=\"https://www.coin-or.org/PuLP/CaseStudies/a_blending_problem.html\" target=\"_blank\">https://www.coin-or.org/PuLP/CaseStudies/a_blending_problem.html</a></a></span><ul class=\"toc-item\"><li><span><a href=\"#pulp\" data-toc-modified-id=\"pulp-3.2.1.1\"><span class=\"toc-item-num\">3.2.1.1&nbsp;&nbsp;</span>pulp</a></span></li><li><span><a href=\"#pulp-by-vector\" data-toc-modified-id=\"pulp-by-vector-3.2.1.2\"><span class=\"toc-item-num\">3.2.1.2&nbsp;&nbsp;</span>pulp by vector</a></span></li></ul></li></ul></li><li><span><a href=\"#栄養問題、メニュー計画,ダイエット問題\" data-toc-modified-id=\"栄養問題、メニュー計画,ダイエット問題-3.3\"><span class=\"toc-item-num\">3.3&nbsp;&nbsp;</span>栄養問題、メニュー計画,ダイエット問題</a></span><ul class=\"toc-item\"><li><span><a href=\"#pulp\" data-toc-modified-id=\"pulp-3.3.1\"><span class=\"toc-item-num\">3.3.1&nbsp;&nbsp;</span>pulp</a></span></li><li><span><a href=\"#mypulp(gurobi)-todo\" data-toc-modified-id=\"mypulp(gurobi)-todo-3.3.2\"><span class=\"toc-item-num\">3.3.2&nbsp;&nbsp;</span>mypulp(gurobi) <strong>todo</strong></a></span></li></ul></li><li><span><a href=\"#配合問題\" data-toc-modified-id=\"配合問題-3.4\"><span class=\"toc-item-num\">3.4&nbsp;&nbsp;</span>配合問題</a></span><ul class=\"toc-item\"><li><span><a href=\"#pulp\" data-toc-modified-id=\"pulp-3.4.1\"><span class=\"toc-item-num\">3.4.1&nbsp;&nbsp;</span>pulp</a></span></li></ul></li><li><span><a href=\"#生産計画問題\" data-toc-modified-id=\"生産計画問題-3.5\"><span class=\"toc-item-num\">3.5&nbsp;&nbsp;</span>生産計画問題</a></span><ul class=\"toc-item\"><li><span><a href=\"#http://www.me.titech.ac.jp/~mizu_lab/text/PDF-LP/LP1-problem.pdf\" data-toc-modified-id=\"http://www.me.titech.ac.jp/~mizu_lab/text/PDF-LP/LP1-problem.pdf-3.5.1\"><span class=\"toc-item-num\">3.5.1&nbsp;&nbsp;</span><a href=\"http://www.me.titech.ac.jp/~mizu_lab/text/PDF-LP/LP1-problem.pdf\" target=\"_blank\">http://www.me.titech.ac.jp/~mizu_lab/text/PDF-LP/LP1-problem.pdf</a></a></span><ul class=\"toc-item\"><li><span><a href=\"#pulp\" data-toc-modified-id=\"pulp-3.5.1.1\"><span class=\"toc-item-num\">3.5.1.1&nbsp;&nbsp;</span>pulp</a></span></li></ul></li><li><span><a href=\"#https://www.slideshare.net/shunjiumetani/ss-17197023\" data-toc-modified-id=\"https://www.slideshare.net/shunjiumetani/ss-17197023-3.5.2\"><span class=\"toc-item-num\">3.5.2&nbsp;&nbsp;</span><a href=\"https://www.slideshare.net/shunjiumetani/ss-17197023\" target=\"_blank\">https://www.slideshare.net/shunjiumetani/ss-17197023</a></a></span><ul class=\"toc-item\"><li><span><a href=\"#pulp\" data-toc-modified-id=\"pulp-3.5.2.1\"><span class=\"toc-item-num\">3.5.2.1&nbsp;&nbsp;</span>pulp</a></span></li></ul></li></ul></li><li><span><a href=\"#輸送計画、輸送問題\" data-toc-modified-id=\"輸送計画、輸送問題-3.6\"><span class=\"toc-item-num\">3.6&nbsp;&nbsp;</span>輸送計画、輸送問題</a></span><ul class=\"toc-item\"><li><span><a href=\"#http://www.wakayama-u.ac.jp/~makino/lectures/eip/lp\" data-toc-modified-id=\"http://www.wakayama-u.ac.jp/~makino/lectures/eip/lp-3.6.1\"><span class=\"toc-item-num\">3.6.1&nbsp;&nbsp;</span><a href=\"http://www.wakayama-u.ac.jp/~makino/lectures/eip/lp\" target=\"_blank\">http://www.wakayama-u.ac.jp/~makino/lectures/eip/lp</a></a></span><ul class=\"toc-item\"><li><span><a href=\"#pulp-todo\" data-toc-modified-id=\"pulp-todo-3.6.1.1\"><span class=\"toc-item-num\">3.6.1.1&nbsp;&nbsp;</span>pulp <strong>todo</strong></a></span></li></ul></li><li><span><a href=\"#http://www.msi.co.jp/nuopt/docs/v20/examples/html/02-02-00.html\" data-toc-modified-id=\"http://www.msi.co.jp/nuopt/docs/v20/examples/html/02-02-00.html-3.6.2\"><span class=\"toc-item-num\">3.6.2&nbsp;&nbsp;</span><a href=\"http://www.msi.co.jp/nuopt/docs/v20/examples/html/02-02-00.html\" target=\"_blank\">http://www.msi.co.jp/nuopt/docs/v20/examples/html/02-02-00.html</a></a></span><ul class=\"toc-item\"><li><span><a href=\"#pulp-todo\" data-toc-modified-id=\"pulp-todo-3.6.2.1\"><span class=\"toc-item-num\">3.6.2.1&nbsp;&nbsp;</span>pulp <strong>todo</strong></a></span></li></ul></li></ul></li><li><span><a href=\"#割当計画\" data-toc-modified-id=\"割当計画-3.7\"><span class=\"toc-item-num\">3.7&nbsp;&nbsp;</span>割当計画</a></span><ul class=\"toc-item\"><li><span><a href=\"#pulp-todo\" data-toc-modified-id=\"pulp-todo-3.7.1\"><span class=\"toc-item-num\">3.7.1&nbsp;&nbsp;</span>pulp <strong>todo</strong></a></span></li></ul></li></ul></li><li><span><a href=\"#混合整数最適化問題-MIP\" data-toc-modified-id=\"混合整数最適化問題-MIP-4\"><span class=\"toc-item-num\">4&nbsp;&nbsp;</span>混合整数最適化問題 MIP</a></span></li></ul></div>"
   ]
  },
  {
   "cell_type": "markdown",
   "metadata": {},
   "source": [
    "複数の最適化問題を、各モジュールで解いてみて、比較してみる"
   ]
  },
  {
   "cell_type": "markdown",
   "metadata": {},
   "source": [
    "# py modules\n",
    "\n",
    "- pulp\n",
    "- mypulp(gurobi)\n",
    "- deap"
   ]
  },
  {
   "cell_type": "code",
   "execution_count": 1,
   "metadata": {},
   "outputs": [],
   "source": [
    "from pulp import *\n",
    "from mypulp import *\n",
    "\n",
    "#import pulp\n",
    "#import mypulp"
   ]
  },
  {
   "cell_type": "markdown",
   "metadata": {},
   "source": [
    "# def util func"
   ]
  },
  {
   "cell_type": "code",
   "execution_count": 2,
   "metadata": {},
   "outputs": [],
   "source": [
    "def showPulpResult(problem):\n",
    "    print(\"result status: \", LpStatus[problem.status])\n",
    "    print(\"best objective: \", value(problem.objective))\n",
    "    #print(\"vars: \", value(x1), value(x2), value(x3), value(x4), value(x5), )\n",
    "    for v in problem.variables():\n",
    "        print(v.name, \"=\", v.varValue)"
   ]
  },
  {
   "cell_type": "markdown",
   "metadata": {},
   "source": [
    "# 線形計画問題 LP"
   ]
  },
  {
   "cell_type": "markdown",
   "metadata": {},
   "source": [
    "## general"
   ]
  },
  {
   "cell_type": "markdown",
   "metadata": {},
   "source": [
    "http://www.me.titech.ac.jp/~mizu_lab/text/PDF-LP/LP1-problem.pdf\n",
    "\n",
    "- var: x1, x2, x3, x4, x5\n",
    "- 最小化: 2*x1 - 4*x2 - x4 + 3*x5\n",
    "- 制約条件: \n",
    "    - 3x1 + x3 - 5*x5 >= 16\n",
    "    - -2*x1 + 2*x2 + 3*x4 >= 21\n",
    "    - 4*x1 - 2*x2 + x3 - 3*x5 = 18\n",
    "    - -x2 + 3*x4 + 2*x5 = 9\n",
    "    - x1 >= 0 \n",
    "    - x2 >= 0\n"
   ]
  },
  {
   "cell_type": "markdown",
   "metadata": {},
   "source": [
    "### pulp"
   ]
  },
  {
   "cell_type": "code",
   "execution_count": 3,
   "metadata": {},
   "outputs": [
    {
     "name": "stdout",
     "output_type": "stream",
     "text": [
      "result status:  Optimal\n",
      "best objective:  -12.75\n",
      "x1 = 0.0\n",
      "x2 = 10.5\n",
      "x3 = 68.25\n",
      "x4 = 0.0\n",
      "x5 = 9.75\n"
     ]
    }
   ],
   "source": [
    "problem = LpProblem('lp1', LpMaximize)\n",
    "x1 = LpVariable('x1', 0, None, cat=LpContinuous)\n",
    "x2 = LpVariable('x2', 0, None, cat=LpContinuous)\n",
    "x3 = LpVariable('x3', 0, None, cat=LpContinuous)\n",
    "x4 = LpVariable('x4', 0, None, cat=LpContinuous)\n",
    "x5 = LpVariable('x5', 0, None, cat=LpContinuous)\n",
    "\n",
    "problem += 2*x1 - 4*x2 - x4 + 3*x5, 'Objective func'\n",
    "\n",
    "problem += 3*x1 + x3 - 5*x5 >= 16, 'Constraint_1'\n",
    "problem += -2*x1 + 2*x2 + 3*x4 >= 21, 'Constraint_2'\n",
    "problem += 4*x1 - 2*x2 + x3 - 3*x5 == 18, 'Constraint_3'\n",
    "problem += -x2 + 3*x4 + 2*x5 == 9, 'Constraint_4'\n",
    "\n",
    "problem.writeLP(\"lp_example.lp\")\n",
    "\n",
    "\n",
    "solver = solvers.PULP_CBC_CMD()\n",
    "\n",
    "result_status = problem.solve(solver)\n",
    "\n",
    "showPulpResult(problem)\n",
    "\n",
    "#print(\"result status: \", LpStatus[result_status])\n",
    "#print(\"best objective: \", value(problem.objective))\n",
    "##print(\"vars: \", value(x1), value(x2), value(x3), value(x4), value(x5), )\n",
    "#for v in problem.variables():\n",
    "#    print(v.name, \"=\", v.varValue)"
   ]
  },
  {
   "cell_type": "code",
   "execution_count": null,
   "metadata": {},
   "outputs": [],
   "source": []
  },
  {
   "cell_type": "markdown",
   "metadata": {},
   "source": [
    "### pulp by vector style"
   ]
  },
  {
   "cell_type": "code",
   "execution_count": 4,
   "metadata": {
    "scrolled": true
   },
   "outputs": [
    {
     "name": "stdout",
     "output_type": "stream",
     "text": [
      "problem.objective: -2*var_x1 + 4*var_x2 + var_x4 - 3*var_x5\n",
      "problem.constraints:  OrderedDict([('const1', -3*var_x1 + 1*var_x3 + 5*var_x5 + 16 <= 0), ('const2', 2*var_x1 + -2*var_x2 + -3*var_x4 + 21 <= 0), ('const3', 4*var_x1 + -2*var_x2 + 1*var_x3 + -3*var_x5 + -18 = 0), ('const4', -1*var_x2 + 3*var_x4 + 2*var_x5 + -9 = 0)])\n",
      "result status:  Unbounded\n",
      "best objective:  29.0\n",
      "var_x1 = 9.75\n",
      "var_x2 = 10.5\n",
      "var_x3 = 0.0\n",
      "var_x4 = 6.5\n",
      "var_x5 = 0.0\n"
     ]
    }
   ],
   "source": [
    "var_names = ['x1', 'x2', 'x3', 'x4', 'x5']\n",
    "objective = {'x1': -2,\n",
    "             'x2': 4,\n",
    "             'x3': 0,\n",
    "             'x4': 1,\n",
    "             'x5': -3,\n",
    "             }\n",
    "const1 = {'x1': -3,\n",
    "          'x2': 0,\n",
    "          'x3': 1,\n",
    "          'x4': 0,\n",
    "          'x5': 5,\n",
    "          }\n",
    "const2 = {'x1': 2,\n",
    "          'x2': -2,\n",
    "          'x3': 0,\n",
    "          'x4': -3,\n",
    "          'x5': 0,\n",
    "          }\n",
    "const3 = {'x1': 4,\n",
    "          'x2': -2,\n",
    "          'x3': 1,\n",
    "          'x4': 0,\n",
    "          'x5': -3,\n",
    "          }\n",
    "const4 = {'x1': 0,\n",
    "          'x2': -1,\n",
    "          'x3': 0,\n",
    "          'x4': 3,\n",
    "          'x5': 2,\n",
    "          }\n",
    "\n",
    "problem = LpProblem(\"problem\", LpMaximize)\n",
    "\n",
    "lp_vars = LpVariable.dicts(\"var\", var_names, 0, None, )\n",
    "\n",
    "problem += lpSum([objective[i]*lp_vars[i] for i in var_names]), \"objective\"\n",
    "print(\"problem.objective:\", problem.objective)\n",
    "\n",
    "problem += lpSum([const1[i]*lp_vars[i] for i in var_names]) <= -16, \"const1\"\n",
    "problem += lpSum([const2[i]*lp_vars[i] for i in var_names]) <= -21, \"const2\"\n",
    "problem += lpSum([const3[i]*lp_vars[i] for i in var_names]) == 18, \"const3\"\n",
    "problem += lpSum([const4[i]*lp_vars[i] for i in var_names]) == 9, \"const4\"\n",
    "\n",
    "print(\"problem.constraints: \", problem.constraints)\n",
    "\n",
    "problem.solve()\n",
    "\n",
    "showPulpResult(problem)"
   ]
  },
  {
   "cell_type": "code",
   "execution_count": null,
   "metadata": {},
   "outputs": [],
   "source": []
  },
  {
   "cell_type": "code",
   "execution_count": null,
   "metadata": {},
   "outputs": [],
   "source": []
  },
  {
   "cell_type": "code",
   "execution_count": null,
   "metadata": {},
   "outputs": [],
   "source": []
  },
  {
   "cell_type": "code",
   "execution_count": null,
   "metadata": {},
   "outputs": [],
   "source": []
  },
  {
   "cell_type": "code",
   "execution_count": null,
   "metadata": {},
   "outputs": [],
   "source": []
  },
  {
   "cell_type": "code",
   "execution_count": null,
   "metadata": {},
   "outputs": [],
   "source": []
  },
  {
   "cell_type": "code",
   "execution_count": null,
   "metadata": {},
   "outputs": [],
   "source": []
  },
  {
   "cell_type": "code",
   "execution_count": null,
   "metadata": {},
   "outputs": [],
   "source": []
  },
  {
   "cell_type": "markdown",
   "metadata": {},
   "source": [
    "## Blending or mixing problem 混合問題\n",
    "https://www.ibm.com/support/knowledgecenter/en/SSSA5P_12.5.1/ilog.odms.ide.help/OPL_Studio/usroplexamples/topics/opl_mp_examples_blending.html\n",
    "https://www.me.utexas.edu/~jensen/ORMM/models/unit/linear/subunits/blending/index.html\n",
    "\n",
    "Blending problems are a typical application of mixed integer-linear programming (MILP). They involve blending several resources or materials to create one or more products corresponding to a demand."
   ]
  },
  {
   "cell_type": "markdown",
   "metadata": {},
   "source": [
    "### https://www.coin-or.org/PuLP/CaseStudies/a_blending_problem.html"
   ]
  },
  {
   "cell_type": "markdown",
   "metadata": {},
   "source": [
    "#### pulp"
   ]
  },
  {
   "cell_type": "code",
   "execution_count": 5,
   "metadata": {
    "scrolled": true
   },
   "outputs": [
    {
     "name": "stdout",
     "output_type": "stream",
     "text": [
      "result status:  Optimal\n",
      "best objective:  0.97\n",
      "beef = 66.0\n",
      "chekin = 34.0\n"
     ]
    }
   ],
   "source": [
    "problem = LpProblem(\"blending problem\", LpMinimize)\n",
    "\n",
    "x1 = LpVariable(\"chekin\", 0, 100, LpInteger)\n",
    "x2 = LpVariable(\"beef\", 0, 100, LpInteger)\n",
    "\n",
    "problem += 0.013*x1 + 0.008*x2, \"total cost of ingredient\"\n",
    "\n",
    "problem += x1 + x2 == 100, \"sum of percentage\"\n",
    "problem += 0.1*x1 + 0.2*x2 >= 8.0, \"protein req\"\n",
    "problem += 0.08*x1 + 0.1*x2 >= 6.0, \"fat req\"\n",
    "problem += 0.001*x1 + 0.005*x2 <= 2.0, \"fibre req\"\n",
    "problem += 0.002*x1 + 0.005*x2 <= 0.4, \"salt req\"\n",
    "\n",
    "problem.solve()\n",
    "showPulpResult(problem)"
   ]
  },
  {
   "cell_type": "markdown",
   "metadata": {},
   "source": [
    "#### pulp by vector"
   ]
  },
  {
   "cell_type": "code",
   "execution_count": 6,
   "metadata": {
    "scrolled": false
   },
   "outputs": [
    {
     "name": "stdout",
     "output_type": "stream",
     "text": [
      "problem.objective:  0.008*Ingre_BEEF + 0.013*Ingre_CHICKEN + 0.001*Ingre_GEL + 0.01*Ingre_MUTTON + 0.002*Ingre_RICE + 0.005*Ingre_WHEAT\n",
      "problem.constraints:  OrderedDict([('PercentagesSum', 1*Ingre_BEEF + 1*Ingre_CHICKEN + 1*Ingre_GEL + 1*Ingre_MUTTON + 1*Ingre_RICE + 1*Ingre_WHEAT + -100 = 0), ('ProteinReq', 0.2*Ingre_BEEF + 0.1*Ingre_CHICKEN + 0.15*Ingre_MUTTON + 0.04*Ingre_WHEAT + -8.0 >= 0), ('FatReq', 0.1*Ingre_BEEF + 0.08*Ingre_CHICKEN + 0.11*Ingre_MUTTON + 0.01*Ingre_RICE + 0.01*Ingre_WHEAT + -6.0 >= 0), ('FibreReq', 0.005*Ingre_BEEF + 0.001*Ingre_CHICKEN + 0.003*Ingre_MUTTON + 0.1*Ingre_RICE + 0.15*Ingre_WHEAT + -2.0 <= 0), ('SaltReq', 0.005*Ingre_BEEF + 0.002*Ingre_CHICKEN + 0.007*Ingre_MUTTON + 0.002*Ingre_RICE + 0.008*Ingre_WHEAT + -0.4 <= 0)])\n",
      "result status:  Optimal\n",
      "best objective:  0.52\n",
      "Ingre_BEEF = 60.0\n",
      "Ingre_CHICKEN = 0.0\n",
      "Ingre_GEL = 40.0\n",
      "Ingre_MUTTON = 0.0\n",
      "Ingre_RICE = 0.0\n",
      "Ingre_WHEAT = 0.0\n"
     ]
    }
   ],
   "source": [
    "Ingredients = ['CHICKEN', 'BEEF', 'MUTTON', 'RICE', 'WHEAT', 'GEL']\n",
    "\n",
    "costs = {'CHICKEN':0.013,\n",
    "        'BEEF':0.008,\n",
    "        'MUTTON':0.010,\n",
    "        'RICE':0.002,\n",
    "        'WHEAT':0.005,\n",
    "        'GEL':0.001}\n",
    "\n",
    "protein = {'CHICKEN':0.100,\n",
    "        'BEEF':0.200,\n",
    "        'MUTTON':0.150,\n",
    "        'RICE':0.000,\n",
    "        'WHEAT':0.040,\n",
    "        'GEL':0.000}\n",
    "fat = {'CHICKEN':0.080,\n",
    "        'BEEF':0.100,\n",
    "        'MUTTON':0.110,\n",
    "        'RICE':0.010,\n",
    "        'WHEAT':0.010,\n",
    "        'GEL':0.000}\n",
    "fibre = {'CHICKEN':0.001,\n",
    "        'BEEF':0.005,\n",
    "        'MUTTON':0.003,\n",
    "        'RICE':0.100,\n",
    "        'WHEAT':0.150,\n",
    "        'GEL':0.000}\n",
    "salt = {'CHICKEN':0.002,\n",
    "        'BEEF':0.005,\n",
    "        'MUTTON':0.007,\n",
    "        'RICE':0.002,\n",
    "        'WHEAT':0.008,\n",
    "        'GEL':0.000}\n",
    "\n",
    "problem = LpProblem('blending problem', LpMinimize)\n",
    "\n",
    "ingredient_vars = LpVariable.dicts('Ingre', Ingredients, 0)\n",
    "\n",
    "problem += lpSum([costs[i]*ingredient_vars[i] for i in Ingredients]), 'objective func'\n",
    "print(\"problem.objective: \", problem.objective)\n",
    "\n",
    "problem += lpSum([ingredient_vars[i] for i in Ingredients]) == 100, 'PercentagesSum'\n",
    "problem += lpSum([protein[i]*ingredient_vars[i] for i in Ingredients]) >= 8.0, 'ProteinReq'\n",
    "problem += lpSum([fat[i]*ingredient_vars[i] for i in Ingredients]) >= 6.0, 'FatReq'\n",
    "problem += lpSum([fibre[i]*ingredient_vars[i] for i in Ingredients]) <= 2.0, 'FibreReq'\n",
    "problem += lpSum([salt[i]*ingredient_vars[i] for i in Ingredients]) <= 0.4, 'SaltReq'\n",
    "print(\"problem.constraints: \", problem.constraints)\n",
    "\n",
    "problem.solve()\n",
    "showPulpResult(problem)\n",
    "\n",
    "\n"
   ]
  },
  {
   "cell_type": "code",
   "execution_count": null,
   "metadata": {},
   "outputs": [],
   "source": []
  },
  {
   "cell_type": "code",
   "execution_count": null,
   "metadata": {},
   "outputs": [],
   "source": []
  },
  {
   "cell_type": "code",
   "execution_count": null,
   "metadata": {},
   "outputs": [],
   "source": []
  },
  {
   "cell_type": "markdown",
   "metadata": {},
   "source": [
    "## 栄養問題、メニュー計画,ダイエット問題"
   ]
  },
  {
   "cell_type": "markdown",
   "metadata": {},
   "source": [
    "http://www.cs.tsukuba.ac.jp/~takahito/sys_math/part1.pdf\n",
    "\n",
    "\n",
    "- min: sum of price\n",
    "  - 50*x1 + 65*x2\n",
    "- var\n",
    "  - x1: milk, 1unit:1/2, 50yen\n",
    "  - x2: cereal, 1unit:1/4, 65yen\n",
    "- const\n",
    "  - 3*x1 + 2*x2 >= 9\n",
    "  - 1/15*x1 * 2/15*x2 >= 1/3\n",
    "  - 1/6*x1 >=1/4\n",
    "  - ratio\n",
    "    - x2/x1 >=1/3\n",
    "    - x2/x1 <= 2\n",
    "  - x1 >0\n",
    "  - x2 >0\n",
    "  \n",
    "\n",
    "\n"
   ]
  },
  {
   "cell_type": "markdown",
   "metadata": {},
   "source": [
    "### pulp"
   ]
  },
  {
   "cell_type": "code",
   "execution_count": 7,
   "metadata": {},
   "outputs": [
    {
     "name": "stdout",
     "output_type": "stream",
     "text": [
      "result status:  Optimal\n",
      "best objective:  197.5\n",
      "x1 = 2.0\n",
      "x2 = 1.5\n"
     ]
    }
   ],
   "source": [
    "problem = LpProblem('lp1', LpMinimize)\n",
    "x1 = LpVariable('x1', 0, 999, LpContinuous)\n",
    "x2 = LpVariable('x2', 0, 999, LpContinuous)\n",
    "\n",
    "problem += (50*x1 + 65*x2, 'Objective')\n",
    "problem += (3*x1 + 2*x2 >= 9, 'Constraint_1')\n",
    "problem += (1/15*x1 + 2/15*x2 >= 1/3, 'Constraint_2')\n",
    "problem += (1/6*x1 >= 1/4, 'Constraint_3')\n",
    "problem += (3*x2 >= x1, 'Constraint_4')\n",
    "problem += (x2 <= 2*x1, 'Constraint_5')\n",
    "\n",
    "result_status = problem.solve()\n",
    "showPulpResult(problem)\n",
    "#print('result_status:', result_status, LpStatus[result_status])\n",
    "#print('objective value', value(problem.objective))\n",
    "#print('x1, x2:', value(x1), value(x2))"
   ]
  },
  {
   "cell_type": "code",
   "execution_count": null,
   "metadata": {},
   "outputs": [],
   "source": []
  },
  {
   "cell_type": "markdown",
   "metadata": {},
   "source": [
    "### mypulp(gurobi) **todo**"
   ]
  },
  {
   "cell_type": "code",
   "execution_count": null,
   "metadata": {},
   "outputs": [],
   "source": []
  },
  {
   "cell_type": "code",
   "execution_count": null,
   "metadata": {},
   "outputs": [],
   "source": []
  },
  {
   "cell_type": "markdown",
   "metadata": {},
   "source": [
    "## 配合問題\n",
    "\n",
    "http://www.msi.co.jp/nuopt/docs/v20/examples/html/02-01-00.html\n",
    "\n",
    "配合問題の例として，ここでは特定の組成を持つ合金を生成する問題を扱います．この他にも薬剤の調合や必要な栄養素を含む献立を考える**ダイエット問題など配合問題として扱えるもの**は多岐にわたります．\n"
   ]
  },
  {
   "cell_type": "markdown",
   "metadata": {},
   "source": [
    "### pulp"
   ]
  },
  {
   "cell_type": "code",
   "execution_count": 22,
   "metadata": {},
   "outputs": [
    {
     "name": "stdout",
     "output_type": "stream",
     "text": [
      "7.3*material_x1 + 6.9*material_x2 + 7.3*material_x3 + 7.5*material_x4 + 7.6*material_x5 + 6.0*material_x6 + 5.8*material_x7 + 4.3*material_x8 + 4.1*material_x9\n",
      "result status:  Optimal\n",
      "best objective:  4.98\n",
      "material_x1 = 0.0\n",
      "material_x2 = 0.0\n",
      "material_x3 = 0.0\n",
      "material_x4 = 0.0\n",
      "material_x5 = 0.0\n",
      "material_x6 = 0.4\n",
      "material_x7 = 0.0\n",
      "material_x8 = 0.6\n",
      "material_x9 = 0.0\n"
     ]
    }
   ],
   "source": [
    "var_names = ['x1', 'x2', 'x3', 'x4', 'x5', 'x6', 'x7', 'x8', 'x9']\n",
    "objective = {'x1': 7.3, 'x2': 6.9, 'x3': 7.3, 'x4': 7.5, 'x5': 7.6,\n",
    "             'x6': 6.0, 'x7': 5.8, 'x8': 4.3, 'x9': 4.1}\n",
    "\n",
    "lead = {'x1': 0.20, 'x2': 0.50, 'x3': 0.30, 'x4': 0.30, 'x5': 0.30,\n",
    "        'x6': 0.60, 'x7': 0.40, 'x8': 0.10, 'x9': 0.10}\n",
    "zinc = {'x1': 0.30, 'x2': 0.40, 'x3': 0.20, 'x4': 0.40, 'x5': 0.30,\n",
    "        'x6': 0.30, 'x7': 0.50, 'x8': 0.30, 'x9': 0.10}\n",
    "tin = {'x1': 0.50, 'x2': 0.10, 'x3': 0.50, 'x4': 0.30, 'x5': 0.40,\n",
    "       'x6': 0.10, 'x7': 0.10, 'x8': 0.60, 'x9': 0.80}\n",
    "\n",
    "problem = LpProblem(\"配合問題\", LpMinimize)\n",
    "\n",
    "lpvars = LpVariable.dicts(\"material\", var_names, 0, 1, LpContinuous)\n",
    "\n",
    "problem += lpSum([objective[i]*lpvars[i] for i in var_names]), \"objective\"\n",
    "print(problem.objective)\n",
    "\n",
    "problem += lpSum([lpvars[i] for i in var_names]) == 1, \"sum of material ratio\"\n",
    "problem += lpSum([lead[i]*lpvars[i]\n",
    "                  for i in var_names]) == 0.3, \"lead constraint\"\n",
    "problem += lpSum([zinc[i]*lpvars[i]\n",
    "                  for i in var_names]) == 0.3, \"zinc constraint\"\n",
    "problem += lpSum([tin[i]*lpvars[i]\n",
    "                  for i in var_names]) == 0.4, \"tin constraint\"\n",
    "\n",
    "problem.solve()\n",
    "\n",
    "showPulpResult(problem)"
   ]
  },
  {
   "cell_type": "code",
   "execution_count": null,
   "metadata": {},
   "outputs": [],
   "source": []
  },
  {
   "cell_type": "code",
   "execution_count": null,
   "metadata": {},
   "outputs": [],
   "source": []
  },
  {
   "cell_type": "code",
   "execution_count": null,
   "metadata": {},
   "outputs": [],
   "source": []
  },
  {
   "cell_type": "code",
   "execution_count": null,
   "metadata": {},
   "outputs": [],
   "source": []
  },
  {
   "cell_type": "markdown",
   "metadata": {},
   "source": [
    "## 生産計画問題"
   ]
  },
  {
   "cell_type": "markdown",
   "metadata": {},
   "source": [
    "### http://www.me.titech.ac.jp/~mizu_lab/text/PDF-LP/LP1-problem.pdf\n",
    "\n",
    "問題1.1(生産計画問題) A社では，3種類の原料(原料１，２，３)を使って，2種類の製品(製品１，２)を生産している．製品１を1トン生産するには，表1にあるように原料１，２，３がそれぞれ1トン，4トン，3トン必要であり，製品２を1トン生産するには，原料１，２，３がそれぞれ2トン，4トン，1トン必要である．1日の原料１，２，３の使用可能量は，それぞれ80トン，180トン，90トンである．また，製品１，２を生産したときの1トンあたりの利益はそれぞれ5万円，4万円である．1日あたりの利益を最大にするには，製品１，２をそれぞれ何トンずつ生産すればよいか．\n",
    "\n",
    "- var: product1, 2: x1, x2: integer\n",
    "- objective: max: 5*x1 + 4*x2\n",
    "- constraint\n",
    "  - x1 + 2*x2 <= 80\n",
    "  - 4*x1 + 4*x2<= 180\n",
    "  - 3*x1 + x2 <= 90\n",
    "  - x1 >= 0\n",
    "  - x2 >= 0 "
   ]
  },
  {
   "cell_type": "markdown",
   "metadata": {},
   "source": [
    "#### pulp"
   ]
  },
  {
   "cell_type": "code",
   "execution_count": 8,
   "metadata": {
    "scrolled": false
   },
   "outputs": [
    {
     "name": "stdout",
     "output_type": "stream",
     "text": [
      "result status:  Optimal\n",
      "best objective:  202.5\n",
      "product1 = 22.5\n",
      "product2 = 22.5\n"
     ]
    }
   ],
   "source": [
    "problem = LpProblem('productionPlanning1', LpMaximize)\n",
    "#x1 = LpVariable('product1', 0, 999, LpInteger)\n",
    "#x2 = LpVariable('product2', 0, 999, LpInteger)\n",
    "x1 = LpVariable('product1', 0, 999, LpContinuous)\n",
    "x2 = LpVariable('product2', 0, 999, LpContinuous)\n",
    "\n",
    "problem += (5*x1 + 4*x2, 'Objective')\n",
    "problem += (x1 + 2*x2 <= 80, 'Constraint_A')\n",
    "problem += (4*x1 + 4*x2 <= 180, 'Constraint_B')\n",
    "problem += (3*x1 + x2 <= 90, 'Constraints_C')\n",
    "\n",
    "solver = solvers.PULP_CBC_CMD()\n",
    "result_status = problem.solve(solver)\n",
    "showPulpResult(problem)\n",
    "#print(\"result_status: \", result_status, LpStatus[result_status])\n",
    "#print(\"best objective val: \", value(problem.objective))\n",
    "#print(\"best variables: x1, x2, : \", value(x1), value(x2))"
   ]
  },
  {
   "cell_type": "code",
   "execution_count": null,
   "metadata": {},
   "outputs": [],
   "source": []
  },
  {
   "cell_type": "markdown",
   "metadata": {},
   "source": [
    "### https://www.slideshare.net/shunjiumetani/ss-17197023"
   ]
  },
  {
   "cell_type": "markdown",
   "metadata": {},
   "source": [
    "#### pulp"
   ]
  },
  {
   "cell_type": "code",
   "execution_count": 17,
   "metadata": {},
   "outputs": [
    {
     "name": "stdout",
     "output_type": "stream",
     "text": [
      "{'red': var_wine_red, 'white': var_wine_white, 'rose': var_wine_rose}\n",
      "objective:  3*var_wine_red + 2*var_wine_rose + 4*var_wine_white\n",
      "constraints:  OrderedDict([('karubene', 2*var_wine_red + -4 <= 0), ('meruro', 1*var_wine_red + 2*var_wine_rose + -8 <= 0), ('semiyon', 1*var_wine_rose + 3*var_wine_white + -6 <= 0)])\n",
      "result status:  Optimal\n",
      "best objective:  16.0\n",
      "var_wine_red = 2.0\n",
      "var_wine_rose = 3.0\n",
      "var_wine_white = 1.0\n"
     ]
    }
   ],
   "source": [
    "var_names = ['red', 'white', 'rose']\n",
    "gains = {'red': 3,\n",
    "         'white': 4,\n",
    "         'rose': 2}\n",
    "\n",
    "karubene = {'red': 2,\n",
    "            'white': 0,\n",
    "            'rose': 0}\n",
    "\n",
    "meruro = {'red': 1,\n",
    "          'white': 0,\n",
    "          'rose': 2}\n",
    "\n",
    "semiyon = {'red': 0,\n",
    "           'white': 3,\n",
    "           'rose': 1}\n",
    "\n",
    "problem = LpProblem(\"wine problem\", LpMaximize)\n",
    "\n",
    "lpVars = LpVariable.dict(\"var_wine\", var_names)\n",
    "print(lpVars)\n",
    "\n",
    "problem += lpSum([gains[i]*lpVars[i] for i in var_names]), \"objective\"\n",
    "print('objective: ', problem.objective)\n",
    "\n",
    "problem += lpSum([karubene[i]*lpVars[i] for i in var_names]) <= 4, \"karubene\"\n",
    "problem += lpSum([meruro[i]*lpVars[i] for i in var_names]) <= 8, \"meruro\"\n",
    "problem += lpSum([semiyon[i]*lpVars[i] for i in var_names]) <= 6, \"semiyon\"\n",
    "\n",
    "print('constraints: ', problem.constraints)\n",
    "\n",
    "problem.solve()\n",
    "\n",
    "showPulpResult(problem)"
   ]
  },
  {
   "cell_type": "code",
   "execution_count": null,
   "metadata": {},
   "outputs": [],
   "source": []
  },
  {
   "cell_type": "markdown",
   "metadata": {},
   "source": [
    "## 輸送計画、輸送問題\n",
    "### http://www.wakayama-u.ac.jp/~makino/lectures/eip/lp\n",
    "\n"
   ]
  },
  {
   "cell_type": "markdown",
   "metadata": {},
   "source": [
    "#### pulp **todo**"
   ]
  },
  {
   "cell_type": "code",
   "execution_count": null,
   "metadata": {},
   "outputs": [],
   "source": []
  },
  {
   "cell_type": "code",
   "execution_count": null,
   "metadata": {},
   "outputs": [],
   "source": []
  },
  {
   "cell_type": "markdown",
   "metadata": {},
   "source": [
    "### http://www.msi.co.jp/nuopt/docs/v20/examples/html/02-02-00.html\n"
   ]
  },
  {
   "cell_type": "markdown",
   "metadata": {},
   "source": [
    "#### pulp **todo**"
   ]
  },
  {
   "cell_type": "code",
   "execution_count": null,
   "metadata": {},
   "outputs": [],
   "source": []
  },
  {
   "cell_type": "code",
   "execution_count": null,
   "metadata": {},
   "outputs": [],
   "source": []
  },
  {
   "cell_type": "code",
   "execution_count": null,
   "metadata": {},
   "outputs": [],
   "source": []
  },
  {
   "cell_type": "markdown",
   "metadata": {},
   "source": [
    "## 割当計画\n",
    "http://www.wakayama-u.ac.jp/~makino/lectures/eip/lp\n"
   ]
  },
  {
   "cell_type": "markdown",
   "metadata": {},
   "source": [
    "### pulp **todo**"
   ]
  },
  {
   "cell_type": "code",
   "execution_count": null,
   "metadata": {},
   "outputs": [],
   "source": []
  },
  {
   "cell_type": "code",
   "execution_count": null,
   "metadata": {},
   "outputs": [],
   "source": []
  },
  {
   "cell_type": "code",
   "execution_count": null,
   "metadata": {},
   "outputs": [],
   "source": []
  },
  {
   "cell_type": "code",
   "execution_count": null,
   "metadata": {},
   "outputs": [],
   "source": []
  },
  {
   "cell_type": "markdown",
   "metadata": {},
   "source": [
    "# 混合整数最適化問題 MIP"
   ]
  },
  {
   "cell_type": "code",
   "execution_count": null,
   "metadata": {},
   "outputs": [],
   "source": []
  },
  {
   "cell_type": "code",
   "execution_count": null,
   "metadata": {},
   "outputs": [],
   "source": []
  },
  {
   "cell_type": "code",
   "execution_count": null,
   "metadata": {},
   "outputs": [],
   "source": []
  },
  {
   "cell_type": "code",
   "execution_count": null,
   "metadata": {},
   "outputs": [],
   "source": []
  },
  {
   "cell_type": "code",
   "execution_count": null,
   "metadata": {},
   "outputs": [],
   "source": []
  }
 ],
 "metadata": {
  "kernelspec": {
   "display_name": "Python 3",
   "language": "python",
   "name": "python3"
  },
  "language_info": {
   "codemirror_mode": {
    "name": "ipython",
    "version": 3
   },
   "file_extension": ".py",
   "mimetype": "text/x-python",
   "name": "python",
   "nbconvert_exporter": "python",
   "pygments_lexer": "ipython3",
   "version": "3.6.6"
  },
  "toc": {
   "base_numbering": 1,
   "nav_menu": {
    "height": "112px",
    "width": "257px"
   },
   "number_sections": true,
   "sideBar": true,
   "skip_h1_title": false,
   "title_cell": "Table of Contents",
   "title_sidebar": "Contents",
   "toc_cell": true,
   "toc_position": {
    "height": "calc(100% - 180px)",
    "left": "10px",
    "top": "150px",
    "width": "302px"
   },
   "toc_section_display": true,
   "toc_window_display": true
  },
  "varInspector": {
   "cols": {
    "lenName": 16,
    "lenType": 16,
    "lenVar": 40
   },
   "kernels_config": {
    "python": {
     "delete_cmd_postfix": "",
     "delete_cmd_prefix": "del ",
     "library": "var_list.py",
     "varRefreshCmd": "print(var_dic_list())"
    },
    "r": {
     "delete_cmd_postfix": ") ",
     "delete_cmd_prefix": "rm(",
     "library": "var_list.r",
     "varRefreshCmd": "cat(var_dic_list()) "
    }
   },
   "types_to_exclude": [
    "module",
    "function",
    "builtin_function_or_method",
    "instance",
    "_Feature"
   ],
   "window_display": false
  }
 },
 "nbformat": 4,
 "nbformat_minor": 2
}
