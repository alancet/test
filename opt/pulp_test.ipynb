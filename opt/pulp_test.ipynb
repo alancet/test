{
 "cells": [
  {
   "cell_type": "markdown",
   "metadata": {},
   "source": [
    "# example code from Qiita - Python+PuLPによるタダで仕事に使える数理最適化\n",
    "\n",
    "https://qiita.com/samuelladoco/items/703bf78ea66e8369c455"
   ]
  },
  {
   "cell_type": "markdown",
   "metadata": {},
   "source": [
    "## 問題(1): 線形最適化問題（線形計画問題）\n",
    "最大化 x+y\n",
    "\n",
    "制約\n",
    "2x+y≤2\n",
    "x+2y≤2\n",
    "x≥0\n",
    "y≥0"
   ]
  },
  {
   "cell_type": "code",
   "execution_count": 24,
   "metadata": {},
   "outputs": [],
   "source": [
    "import pulp\n",
    "import sys"
   ]
  },
  {
   "cell_type": "code",
   "execution_count": 61,
   "metadata": {
    "scrolled": true
   },
   "outputs": [
    {
     "name": "stdout",
     "output_type": "stream",
     "text": [
      "\t Testing zero subtraction\n",
      "\t Testing inconsistant lp solution\n",
      "\t Testing continuous LP solution\n",
      "\t Testing maximize continuous LP solution\n",
      "\t Testing unbounded continuous LP solution\n",
      "\t Testing Long Names\n",
      "\t Testing repeated Names\n",
      "\t Testing zero constraint\n",
      "\t Testing zero objective\n",
      "\t Testing LpVariable (not LpAffineExpression) objective\n",
      "\t Testing Long lines in LP\n",
      "\t Testing LpAffineExpression divide\n",
      "\t Testing MIP solution\n",
      "\t Testing MIP solution with floats in objective\n",
      "\t Testing MIP relaxation\n",
      "\t Testing feasibility problem (no objective)\n",
      "\t Testing an infeasible problem\n",
      "\t Testing an integer infeasible problem\n",
      "\t Testing column based modelling\n",
      "\t Testing dual variables and slacks reporting\n",
      "\t Testing fractional constraints\n",
      "\t Testing elastic constraints (no change)\n",
      "\t Testing elastic constraints (freebound)\n",
      "\t Testing elastic constraints (penalty unchanged)\n",
      "\t Testing elastic constraints (penalty unbounded)\n",
      "* Solver <class 'pulp.solvers.PULP_CBC_CMD'> passed.\n",
      "Solver <class 'pulp.solvers.CPLEX_DLL'> unavailable\n",
      "Solver <class 'pulp.solvers.CPLEX_CMD'> unavailable\n",
      "Solver <class 'pulp.solvers.CPLEX_PY'> unavailable\n",
      "Solver <class 'pulp.solvers.COIN_CMD'> unavailable\n",
      "Solver <class 'pulp.solvers.COINMP_DLL'> unavailable\n",
      "Solver <class 'pulp.solvers.GLPK_CMD'> unavailable\n",
      "Solver <class 'pulp.solvers.XPRESS'> unavailable\n",
      "Solver <class 'pulp.solvers.GUROBI'> unavailable\n",
      "Solver <class 'pulp.solvers.GUROBI_CMD'> unavailable\n",
      "Solver <class 'pulp.solvers.PYGLPK'> unavailable\n",
      "Solver <class 'pulp.solvers.YAPOSIB'> unavailable\n"
     ]
    }
   ],
   "source": [
    "pulp.pulpTestAll()"
   ]
  },
  {
   "cell_type": "code",
   "execution_count": 63,
   "metadata": {},
   "outputs": [
    {
     "data": {
      "text/plain": [
       "{0: 'Not Solved',\n",
       " 1: 'Optimal',\n",
       " -1: 'Infeasible',\n",
       " -2: 'Unbounded',\n",
       " -3: 'Undefined'}"
      ]
     },
     "execution_count": 63,
     "metadata": {},
     "output_type": "execute_result"
    }
   ],
   "source": [
    "pulp.LpStatus"
   ]
  },
  {
   "cell_type": "code",
   "execution_count": 60,
   "metadata": {},
   "outputs": [
    {
     "data": {
      "text/plain": [
       "'Continuous'"
      ]
     },
     "execution_count": 60,
     "metadata": {},
     "output_type": "execute_result"
    }
   ],
   "source": [
    "pulp.LpContinuous"
   ]
  },
  {
   "cell_type": "code",
   "execution_count": 25,
   "metadata": {},
   "outputs": [
    {
     "name": "stdout",
     "output_type": "stream",
     "text": [
      "problem 1:\n",
      "MAXIMIZE\n",
      "1*x + 1*y + 0\n",
      "SUBJECT TO\n",
      "Constraint_1: 2 x + y <= 2\n",
      "\n",
      "Constraint_2: x + 2 y <= 2\n",
      "\n",
      "VARIABLES\n",
      "x <= 999 Continuous\n",
      "y <= 9.22337203685e+18 Continuous\n",
      "\n"
     ]
    }
   ],
   "source": [
    "problem = pulp.LpProblem('problem 1', pulp.LpMaximize)\n",
    "x = pulp.LpVariable('x', 0, 999, pulp.LpContinuous)\n",
    "y = pulp.LpVariable('y', 0, sys.maxsize, pulp.LpContinuous)\n",
    "# sys.maxsize == 9223372036854775807\n",
    "problem += (x+y, 'Objective')\n",
    "problem += (2*x + y <= 2, \"Constraint_1\")\n",
    "problem += (x + 2*y <= 2, \"Constraint_2\")\n",
    "print(problem)\n"
   ]
  },
  {
   "cell_type": "code",
   "execution_count": 26,
   "metadata": {},
   "outputs": [
    {
     "name": "stdout",
     "output_type": "stream",
     "text": [
      "CPU times: user 4.66 ms, sys: 12.1 ms, total: 16.8 ms\n",
      "Wall time: 25.5 ms\n"
     ]
    }
   ],
   "source": [
    "%%time\n",
    "result_status = problem.solve()"
   ]
  },
  {
   "cell_type": "code",
   "execution_count": 27,
   "metadata": {
    "scrolled": true
   },
   "outputs": [
    {
     "data": {
      "text/plain": [
       "1"
      ]
     },
     "execution_count": 27,
     "metadata": {},
     "output_type": "execute_result"
    }
   ],
   "source": [
    "result_status"
   ]
  },
  {
   "cell_type": "code",
   "execution_count": 28,
   "metadata": {},
   "outputs": [
    {
     "data": {
      "text/plain": [
       "'Optimal'"
      ]
     },
     "execution_count": 28,
     "metadata": {},
     "output_type": "execute_result"
    }
   ],
   "source": [
    "pulp.LpStatus[result_status]"
   ]
  },
  {
   "cell_type": "code",
   "execution_count": 29,
   "metadata": {},
   "outputs": [
    {
     "data": {
      "text/plain": [
       "1.33333334"
      ]
     },
     "execution_count": 29,
     "metadata": {},
     "output_type": "execute_result"
    }
   ],
   "source": [
    "pulp.value(problem.objective)"
   ]
  },
  {
   "cell_type": "code",
   "execution_count": 30,
   "metadata": {
    "scrolled": true
   },
   "outputs": [
    {
     "data": {
      "text/plain": [
       "(0.66666667, 0.66666667)"
      ]
     },
     "execution_count": 30,
     "metadata": {},
     "output_type": "execute_result"
    }
   ],
   "source": [
    "pulp.value(x), pulp.value(y)"
   ]
  },
  {
   "cell_type": "markdown",
   "metadata": {},
   "source": [
    "## 問題(2): 整数最適化問題（整数計画問題）"
   ]
  },
  {
   "cell_type": "code",
   "execution_count": 31,
   "metadata": {
    "scrolled": true
   },
   "outputs": [
    {
     "name": "stdout",
     "output_type": "stream",
     "text": [
      "workers I == ['A', 'B', 'C']\n",
      "works J == ['work1', 'work2', 'work3']\n",
      "cost costIJ_WorkersWork == [[1, 2, 3], [4, 6, 8], [10, 13, 16]]\n",
      "costDict == {('A', 'work1'): 1, ('A', 'work2'): 2, ('A', 'work3'): 3, ('B', 'work1'): 4, ('B', 'work2'): 6, ('B', 'work3'): 8, ('C', 'work1'): 10, ('C', 'work2'): 13, ('C', 'work3'): 16}\n"
     ]
    }
   ],
   "source": [
    "import pulp\n",
    "\n",
    "I = ['A', \"B\", \"C\"]\n",
    "J = ['work1', \"work2\", \"work3\"]\n",
    "\n",
    "costIJ_WorkersWork = [\n",
    "    [1,2,3],\n",
    "    [4,6,8],\n",
    "    [10,13,16]\n",
    "]\n",
    "\n",
    "print(\"workers I == {0}\".format(I))\n",
    "print(\"works J == {0}\".format(J))\n",
    "print(\"cost costIJ_WorkersWork == {0}\".format(costIJ_WorkersWork))\n",
    "costDict = {}\n",
    "for i in I:\n",
    "    for j in J:\n",
    "        costDict[i,j] = costIJ_WorkersWork[I.index(i)][J.index(j)]\n",
    "print(\"costDict == {0}\".format(costDict))"
   ]
  },
  {
   "cell_type": "code",
   "execution_count": 32,
   "metadata": {
    "scrolled": false
   },
   "outputs": [
    {
     "data": {
      "text/plain": [
       "{('A', 'work1'): 1,\n",
       " ('A', 'work2'): 2,\n",
       " ('A', 'work3'): 3,\n",
       " ('B', 'work1'): 4,\n",
       " ('B', 'work2'): 6,\n",
       " ('B', 'work3'): 8,\n",
       " ('C', 'work1'): 10,\n",
       " ('C', 'work2'): 13,\n",
       " ('C', 'work3'): 16}"
      ]
     },
     "execution_count": 32,
     "metadata": {},
     "output_type": "execute_result"
    }
   ],
   "source": [
    "costDict"
   ]
  },
  {
   "cell_type": "code",
   "execution_count": 33,
   "metadata": {
    "scrolled": true
   },
   "outputs": [
    {
     "data": {
      "text/plain": [
       "{('A', 'work1'): x(A,work1),\n",
       " ('A', 'work2'): x(A,work2),\n",
       " ('A', 'work3'): x(A,work3),\n",
       " ('B', 'work1'): x(B,work1),\n",
       " ('B', 'work2'): x(B,work2),\n",
       " ('B', 'work3'): x(B,work3),\n",
       " ('C', 'work1'): x(C,work1),\n",
       " ('C', 'work2'): x(C,work2),\n",
       " ('C', 'work3'): x(C,work3)}"
      ]
     },
     "execution_count": 33,
     "metadata": {},
     "output_type": "execute_result"
    }
   ],
   "source": [
    "problem = pulp.LpProblem(\"problem2\", pulp.LpMinimize)\n",
    "x = {}\n",
    "for i in I:\n",
    "    for j in J:\n",
    "        x[i,j] = pulp.LpVariable(\"x({:},{:})\".format(i,j), \n",
    "                                 0, 1, \n",
    "                                 pulp.LpInteger)\n",
    "x   "
   ]
  },
  {
   "cell_type": "code",
   "execution_count": 34,
   "metadata": {
    "scrolled": true
   },
   "outputs": [
    {
     "name": "stdout",
     "output_type": "stream",
     "text": [
      "problem2:\n",
      "MINIMIZE\n",
      "1*x(A,work1) + 2*x(A,work2) + 3*x(A,work3) + 4*x(B,work1) + 6*x(B,work2) + 8*x(B,work3) + 10*x(C,work1) + 13*x(C,work2) + 16*x(C,work3) + 0\n",
      "SUBJECT TO\n",
      "constraint_leq_A: x(A,work1) + x(A,work2) + x(A,work3) <= 1\n",
      "\n",
      "constraint_leq_B: x(B,work1) + x(B,work2) + x(B,work3) <= 1\n",
      "\n",
      "constraint_leq_C: x(C,work1) + x(C,work2) + x(C,work3) <= 1\n",
      "\n",
      "constraint_eq_work1: x(A,work1) + x(B,work1) + x(C,work1) = 1\n",
      "\n",
      "constraint_eq_work2: x(A,work2) + x(B,work2) + x(C,work2) = 1\n",
      "\n",
      "constraint_eq_work3: x(A,work3) + x(B,work3) + x(C,work3) = 1\n",
      "\n",
      "VARIABLES\n",
      "0 <= x(A,work1) <= 1 Integer\n",
      "0 <= x(A,work2) <= 1 Integer\n",
      "0 <= x(A,work3) <= 1 Integer\n",
      "0 <= x(B,work1) <= 1 Integer\n",
      "0 <= x(B,work2) <= 1 Integer\n",
      "0 <= x(B,work3) <= 1 Integer\n",
      "0 <= x(C,work1) <= 1 Integer\n",
      "0 <= x(C,work2) <= 1 Integer\n",
      "0 <= x(C,work3) <= 1 Integer\n",
      "\n"
     ]
    }
   ],
   "source": [
    "problem += pulp.lpSum(costDict[i,j]*x[i,j] for i in I for j in J), \"TotalCost\"\n",
    "\n",
    "for i in I:\n",
    "    problem += sum(x[i,j] for j in J)<=1, \"constraint_leq_{:}\".format(i)\n",
    "for j in J:\n",
    "    problem += sum(x[i,j] for i in I)==1, \"constraint_eq_{:}\".format(j)\n",
    "print(problem)\n"
   ]
  },
  {
   "cell_type": "code",
   "execution_count": 36,
   "metadata": {},
   "outputs": [
    {
     "name": "stdout",
     "output_type": "stream",
     "text": [
      "CPU times: user 9.97 ms, sys: 4.78 ms, total: 14.7 ms\n",
      "Wall time: 35.2 ms\n"
     ]
    }
   ],
   "source": [
    "%%time\n",
    "solver = pulp.solvers.PULP_CBC_CMD()\n",
    "result_status = problem.solve(solver)"
   ]
  },
  {
   "cell_type": "code",
   "execution_count": 37,
   "metadata": {
    "scrolled": true
   },
   "outputs": [
    {
     "name": "stdout",
     "output_type": "stream",
     "text": [
      "Optimal 19.0\n",
      "x(A,work1) 0.0\n",
      "x(A,work2) 0.0\n",
      "x(A,work3) 1.0\n",
      "x(B,work1) 0.0\n",
      "x(B,work2) 1.0\n",
      "x(B,work3) 0.0\n",
      "x(C,work1) 1.0\n",
      "x(C,work2) 0.0\n",
      "x(C,work3) 0.0\n"
     ]
    }
   ],
   "source": [
    "print(pulp.LpStatus[result_status], pulp.value(problem.objective))\n",
    "for i in I:\n",
    "    for j in J:\n",
    "        print(x[i,j].name, x[i,j].value())"
   ]
  },
  {
   "cell_type": "code",
   "execution_count": 40,
   "metadata": {},
   "outputs": [
    {
     "data": {
      "text/plain": [
       "(0.0, 0.0)"
      ]
     },
     "execution_count": 40,
     "metadata": {},
     "output_type": "execute_result"
    }
   ],
   "source": [
    "pulp.value(x[\"A\", \"work1\"]), x[\"A\", \"work1\"].value()\n"
   ]
  },
  {
   "cell_type": "code",
   "execution_count": null,
   "metadata": {},
   "outputs": [],
   "source": []
  },
  {
   "cell_type": "code",
   "execution_count": null,
   "metadata": {},
   "outputs": [],
   "source": []
  },
  {
   "cell_type": "markdown",
   "metadata": {},
   "source": [
    "# Qiita example - 最適化におけるPython\n",
    "https://qiita.com/SaitoTsutomu/items/070ca9cb37c6b2b492f0\n"
   ]
  },
  {
   "cell_type": "code",
   "execution_count": 45,
   "metadata": {
    "scrolled": true
   },
   "outputs": [],
   "source": [
    "import pulp"
   ]
  },
  {
   "cell_type": "code",
   "execution_count": 43,
   "metadata": {
    "scrolled": true
   },
   "outputs": [
    {
     "name": "stdout",
     "output_type": "stream",
     "text": [
      "4.0 6.0\n"
     ]
    }
   ],
   "source": [
    "m = pulp.LpProblem(sense=pulp.LpMaximize)\n",
    "x = pulp.LpVariable('x', lowBound=0)\n",
    "y = pulp.LpVariable('y', lowBound=0)\n",
    "\n",
    "m += 100 * x + 100 * y\n",
    "\n",
    "m += x + 2 * y <= 16\n",
    "m += 3 * x + y <= 18\n",
    "m.solve()\n",
    "print(pulp.value(x), pulp.value(y))\n"
   ]
  },
  {
   "cell_type": "markdown",
   "metadata": {},
   "source": [
    "## 輸送最適化問題\n",
    "\n",
    "- 倉庫群から工場群への輸送量を決めたい → 変数\n",
    "- 輸送コストを最小化したい → 目的関数\n",
    "- 各倉庫からの搬出は、供給可能量以下 → 制約\n",
    "- 各工場への搬入は、需要量以上 → 制約\n"
   ]
  },
  {
   "cell_type": "code",
   "execution_count": 46,
   "metadata": {},
   "outputs": [],
   "source": [
    "import numpy as np\n",
    "import pandas as pd\n",
    "from itertools import product\n",
    "from pulp import *"
   ]
  },
  {
   "cell_type": "code",
   "execution_count": 47,
   "metadata": {},
   "outputs": [
    {
     "name": "stdout",
     "output_type": "stream",
     "text": [
      "[(0, 0), (0, 1), (0, 2), (0, 3), (1, 0), (1, 1), (1, 2), (1, 3), (2, 0), (2, 1), (2, 2), (2, 3)]\n"
     ]
    }
   ],
   "source": [
    "# next code\n",
    "np.random.seed(1)\n",
    "nw, nf = 3, 4\n",
    "pr = list(product(range(nw), range(nf)))\n",
    "print(pr)\n"
   ]
  },
  {
   "cell_type": "code",
   "execution_count": 49,
   "metadata": {
    "scrolled": true
   },
   "outputs": [
    {
     "name": "stdout",
     "output_type": "stream",
     "text": [
      "[34 39 47] [20 33 29 29] [[17 16 19 11]\n",
      " [10 11 18 18]\n",
      " [13 19 18 17]]\n"
     ]
    }
   ],
   "source": [
    "supply = np.random.randint(30, 50, nw)\n",
    "demand = np.random.randint(20, 40, nf)\n",
    "cost = np.random.randint(10, 20, (nw, nf))\n",
    "print(supply, demand, cost)"
   ]
  },
  {
   "cell_type": "markdown",
   "metadata": {},
   "source": [
    "### not use pandas case"
   ]
  },
  {
   "cell_type": "code",
   "execution_count": 50,
   "metadata": {},
   "outputs": [],
   "source": [
    "\n",
    "\n",
    "m1 = pulp.LpProblem()\n",
    "v1 = {(i, j): pulp.LpVariable('v%d_%d' % (i, j), lowBound=0) for i, j in pr}\n",
    "\n",
    "m1 += pulp.lpSum(cost[i][j] * v1[i, j] for i, j in pr)\n",
    "\n",
    "for i in range(nw):\n",
    "    m1 += pulp.lpSum(v1[i, j] for j in range(nf)) <= supply[i]\n",
    "for j in range(nf):\n",
    "    m1 += pulp.lpSum(v1[i, j] for i in range(nw)) >= demand[j]\n",
    "\n"
   ]
  },
  {
   "cell_type": "code",
   "execution_count": 51,
   "metadata": {},
   "outputs": [
    {
     "name": "stdout",
     "output_type": "stream",
     "text": [
      "CPU times: user 393 µs, sys: 16.1 ms, total: 16.5 ms\n",
      "Wall time: 24.8 ms\n"
     ]
    },
    {
     "data": {
      "text/plain": [
       "1"
      ]
     },
     "execution_count": 51,
     "metadata": {},
     "output_type": "execute_result"
    }
   ],
   "source": [
    "%%time\n",
    "m1.solve()"
   ]
  },
  {
   "cell_type": "code",
   "execution_count": 52,
   "metadata": {},
   "outputs": [
    {
     "name": "stdout",
     "output_type": "stream",
     "text": [
      "{(0, 3): 29.0, (1, 0): 6.0, (1, 1): 33.0, (2, 0): 14.0, (2, 2): 29.0}\n"
     ]
    }
   ],
   "source": [
    "print({k: pulp.value(x) for k, x in v1.items() if pulp.value(x) > 0})"
   ]
  },
  {
   "cell_type": "markdown",
   "metadata": {},
   "source": [
    "### use pandas case"
   ]
  },
  {
   "cell_type": "code",
   "execution_count": 56,
   "metadata": {},
   "outputs": [
    {
     "name": "stdout",
     "output_type": "stream",
     "text": [
      "    warehouse  factory  cost\n",
      "0           0        0    17\n",
      "1           0        1    16\n",
      "2           0        2    19\n",
      "3           0        3    11\n",
      "4           1        0    10\n",
      "5           1        1    11\n",
      "6           1        2    18\n",
      "7           1        3    18\n",
      "8           2        0    13\n",
      "9           2        1    19\n",
      "10          2        2    18\n",
      "11          2        3    17\n"
     ]
    }
   ],
   "source": [
    "a = pd.DataFrame([(i, j) for i, j in pr], \n",
    "                 columns=['warehouse', \"factory\"])\n",
    "a['cost'] = cost.flatten()\n",
    "print(a)\n"
   ]
  },
  {
   "cell_type": "code",
   "execution_count": 57,
   "metadata": {},
   "outputs": [],
   "source": [
    "m2 = pulp.LpProblem()\n",
    "a['Var'] = [pulp.LpVariable('v%d' % i, lowBound=0) for i in a.index]\n",
    "\n",
    "m2 += pulp.lpDot(a.cost, a.Var)\n",
    "\n",
    "for k, v in a.groupby('warehouse'):\n",
    "    m2 += pulp.lpSum(v.Var) <= supply[k]\n",
    "for k, v in a.groupby('factory'):\n",
    "    m2 += pulp.lpSum(v.Var) >= demand[k]\n",
    "\n"
   ]
  },
  {
   "cell_type": "code",
   "execution_count": 58,
   "metadata": {},
   "outputs": [
    {
     "name": "stdout",
     "output_type": "stream",
     "text": [
      "CPU times: user 5.43 ms, sys: 8.2 ms, total: 13.6 ms\n",
      "Wall time: 26.2 ms\n"
     ]
    },
    {
     "data": {
      "text/plain": [
       "1"
      ]
     },
     "execution_count": 58,
     "metadata": {},
     "output_type": "execute_result"
    }
   ],
   "source": [
    "%%time\n",
    "m2.solve()\n"
   ]
  },
  {
   "cell_type": "code",
   "execution_count": 59,
   "metadata": {
    "scrolled": false
   },
   "outputs": [
    {
     "name": "stdout",
     "output_type": "stream",
     "text": [
      "    warehouse  factory  cost  Var   Val\n",
      "0           0        0    17   v0   0.0\n",
      "1           0        1    16   v1   0.0\n",
      "2           0        2    19   v2   0.0\n",
      "3           0        3    11   v3  29.0\n",
      "4           1        0    10   v4   6.0\n",
      "5           1        1    11   v5  33.0\n",
      "6           1        2    18   v6   0.0\n",
      "7           1        3    18   v7   0.0\n",
      "8           2        0    13   v8  14.0\n",
      "9           2        1    19   v9   0.0\n",
      "10          2        2    18  v10  29.0\n",
      "11          2        3    17  v11   0.0\n"
     ]
    }
   ],
   "source": [
    "a['Val'] = a.Var.apply(pulp.value)\n",
    "a[a.Val > 0]\n",
    "print(a)"
   ]
  },
  {
   "cell_type": "code",
   "execution_count": null,
   "metadata": {},
   "outputs": [],
   "source": []
  },
  {
   "cell_type": "code",
   "execution_count": null,
   "metadata": {},
   "outputs": [],
   "source": []
  },
  {
   "cell_type": "code",
   "execution_count": null,
   "metadata": {},
   "outputs": [],
   "source": []
  }
 ],
 "metadata": {
  "kernelspec": {
   "display_name": "Python 3",
   "language": "python",
   "name": "python3"
  },
  "language_info": {
   "codemirror_mode": {
    "name": "ipython",
    "version": 3
   },
   "file_extension": ".py",
   "mimetype": "text/x-python",
   "name": "python",
   "nbconvert_exporter": "python",
   "pygments_lexer": "ipython3",
   "version": "3.6.6"
  },
  "toc": {
   "base_numbering": 1,
   "nav_menu": {
    "height": "233px",
    "width": "275px"
   },
   "number_sections": true,
   "sideBar": true,
   "skip_h1_title": false,
   "title_cell": "Table of Contents",
   "title_sidebar": "Contents",
   "toc_cell": false,
   "toc_position": {},
   "toc_section_display": true,
   "toc_window_display": false
  },
  "varInspector": {
   "cols": {
    "lenName": 16,
    "lenType": 16,
    "lenVar": 40
   },
   "kernels_config": {
    "python": {
     "delete_cmd_postfix": "",
     "delete_cmd_prefix": "del ",
     "library": "var_list.py",
     "varRefreshCmd": "print(var_dic_list())"
    },
    "r": {
     "delete_cmd_postfix": ") ",
     "delete_cmd_prefix": "rm(",
     "library": "var_list.r",
     "varRefreshCmd": "cat(var_dic_list()) "
    }
   },
   "types_to_exclude": [
    "module",
    "function",
    "builtin_function_or_method",
    "instance",
    "_Feature"
   ],
   "window_display": false
  }
 },
 "nbformat": 4,
 "nbformat_minor": 2
}
