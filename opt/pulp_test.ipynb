{
 "cells": [
  {
   "cell_type": "markdown",
   "metadata": {},
   "source": [
    "# example code from Qiita - Python+PuLPによるタダで仕事に使える数理最適化\n",
    "\n",
    "https://qiita.com/samuelladoco/items/703bf78ea66e8369c455"
   ]
  },
  {
   "cell_type": "raw",
   "metadata": {},
   "source": [
    "最大化 x+y\n",
    "\n",
    "制約\n",
    "2x+y≤2\n",
    "x+2y≤2\n",
    "x≥0\n",
    "y≥0"
   ]
  },
  {
   "cell_type": "code",
   "execution_count": 6,
   "metadata": {},
   "outputs": [],
   "source": [
    "import pulp\n",
    "import sys"
   ]
  },
  {
   "cell_type": "code",
   "execution_count": 14,
   "metadata": {},
   "outputs": [
    {
     "name": "stdout",
     "output_type": "stream",
     "text": [
      "problem 1:\n",
      "MAXIMIZE\n",
      "1*x + 1*y + 0\n",
      "SUBJECT TO\n",
      "Constraint_1: 2 x + y <= 2\n",
      "\n",
      "Constraint_2: x + 2 y <= 2\n",
      "\n",
      "VARIABLES\n",
      "x <= 999 Continuous\n",
      "y <= 9.22337203685e+18 Continuous\n",
      "\n"
     ]
    }
   ],
   "source": [
    "problem = pulp.LpProblem('problem 1', pulp.LpMaximize)\n",
    "x = pulp.LpVariable('x', 0, 999, pulp.LpContinuous)\n",
    "y = pulp.LpVariable('y', 0, sys.maxsize, pulp.LpContinuous)\n",
    "# sys.maxsize == 9223372036854775807\n",
    "problem += (x+y, 'Objective')\n",
    "problem += (2*x + y <= 2, \"Constraint_1\")\n",
    "problem += (x + 2*y <= 2, \"Constraint_2\")\n",
    "print(problem)\n"
   ]
  },
  {
   "cell_type": "code",
   "execution_count": 17,
   "metadata": {},
   "outputs": [
    {
     "name": "stdout",
     "output_type": "stream",
     "text": [
      "CPU times: user 4.04 ms, sys: 12.6 ms, total: 16.7 ms\n",
      "Wall time: 25.3 ms\n"
     ]
    }
   ],
   "source": [
    "%%time\n",
    "result_status = problem.solve()"
   ]
  },
  {
   "cell_type": "code",
   "execution_count": 18,
   "metadata": {
    "scrolled": true
   },
   "outputs": [
    {
     "data": {
      "text/plain": [
       "1"
      ]
     },
     "execution_count": 18,
     "metadata": {},
     "output_type": "execute_result"
    }
   ],
   "source": [
    "result_status"
   ]
  },
  {
   "cell_type": "code",
   "execution_count": 20,
   "metadata": {},
   "outputs": [
    {
     "data": {
      "text/plain": [
       "'Optimal'"
      ]
     },
     "execution_count": 20,
     "metadata": {},
     "output_type": "execute_result"
    }
   ],
   "source": [
    "pulp.LpStatus[result_status]"
   ]
  },
  {
   "cell_type": "code",
   "execution_count": 22,
   "metadata": {},
   "outputs": [
    {
     "data": {
      "text/plain": [
       "1.33333334"
      ]
     },
     "execution_count": 22,
     "metadata": {},
     "output_type": "execute_result"
    }
   ],
   "source": [
    "pulp.value(problem.objective)"
   ]
  },
  {
   "cell_type": "code",
   "execution_count": 24,
   "metadata": {},
   "outputs": [
    {
     "data": {
      "text/plain": [
       "(0.66666667, 0.66666667)"
      ]
     },
     "execution_count": 24,
     "metadata": {},
     "output_type": "execute_result"
    }
   ],
   "source": [
    "pulp.value(x), pulp.value(y)"
   ]
  },
  {
   "cell_type": "raw",
   "metadata": {},
   "source": [
    "ex 2"
   ]
  },
  {
   "cell_type": "code",
   "execution_count": null,
   "metadata": {},
   "outputs": [],
   "source": []
  },
  {
   "cell_type": "code",
   "execution_count": null,
   "metadata": {},
   "outputs": [],
   "source": []
  },
  {
   "cell_type": "code",
   "execution_count": null,
   "metadata": {},
   "outputs": [],
   "source": []
  },
  {
   "cell_type": "code",
   "execution_count": null,
   "metadata": {},
   "outputs": [],
   "source": []
  },
  {
   "cell_type": "code",
   "execution_count": null,
   "metadata": {},
   "outputs": [],
   "source": []
  },
  {
   "cell_type": "code",
   "execution_count": null,
   "metadata": {},
   "outputs": [],
   "source": []
  },
  {
   "cell_type": "code",
   "execution_count": null,
   "metadata": {},
   "outputs": [],
   "source": []
  },
  {
   "cell_type": "code",
   "execution_count": null,
   "metadata": {},
   "outputs": [],
   "source": []
  },
  {
   "cell_type": "code",
   "execution_count": null,
   "metadata": {},
   "outputs": [],
   "source": []
  },
  {
   "cell_type": "markdown",
   "metadata": {},
   "source": [
    "# Qiita example - 最適化におけるPython\n",
    "https://qiita.com/SaitoTsutomu/items/070ca9cb37c6b2b492f0\n"
   ]
  },
  {
   "cell_type": "code",
   "execution_count": 4,
   "metadata": {
    "scrolled": true
   },
   "outputs": [],
   "source": [
    "import numpy as np\n",
    "import pandas as pd\n",
    "from itertools import product\n",
    "import pulp"
   ]
  },
  {
   "cell_type": "code",
   "execution_count": null,
   "metadata": {},
   "outputs": [],
   "source": [
    "\n",
    "m = pulp.LpProblem(sense=pulp.LpMaximize)\n",
    "x = pulp.LpVariable('x', lowBound=0)\n",
    "y = pulp.LpVariable('y', lowBound=0)\n",
    "\n",
    "m += 100 * x + 100 * y\n",
    "\n",
    "m += x + 2 * y <= 16\n",
    "m += 3 * x + y <= 18\n",
    "m.solve()\n",
    "print(pulp.value(x), pulp.value(y))\n",
    "\n",
    "\n",
    "# next code\n",
    "np.random.seed(1)\n",
    "nw, nf = 3, 4\n",
    "pr = list(product(range(nw), range(nf)))\n",
    "print(pr)\n",
    "\n",
    "supply = np.random.randint(30, 50, nw)\n",
    "demand = np.random.randint(20, 40, nf)\n",
    "cost = np.random.randint(10, 20, (nw, nf))\n",
    "\n",
    "# not use pandas\n",
    "\n",
    "m1 = pulp.LpProblem()\n",
    "v1 = {(i, j): pulp.LpVariable('v%d_%d' % (i, j), lowBound=0) for i, j in pr}\n",
    "m1 += pulp.lpSum(cost[i][j] * v1[i, j] for i, j in pr)\n",
    "for i in range(nw):\n",
    "    m1 += pulp.lpSum(v1[i, j] for j in range(nf)) <= supply[i]\n",
    "for j in range(nf):\n",
    "    m1 += pulp.lpSum(v1[i, j] for i in range(nw)) >= demand[j]\n",
    "m1.solve()\n",
    "print({k: pulp.value(x) for k, x in v1.items() if pulp.value(x) > 0})\n",
    "\n",
    "# use pandas\n",
    "\n",
    "a = pd.DataFrame([(i, j) for i, j in pr], columns=['warehouse', \"factory\"])\n",
    "a['cost'] = cost.flatten()\n",
    "print(a)\n",
    "\n",
    "m2 = pulp.LpProblem()\n",
    "a['Var'] = [pulp.LpVariable('v%d' % i, lowBound=0) for i in a.index]\n",
    "m2 += pulp.lpDot(a.cost, a.Var)\n",
    "for k, v in a.groupby('warehouse'):\n",
    "    m2 += pulp.lpSum(v.Var) <= supply[k]\n",
    "for k, v in a.groupby('factory'):\n",
    "    m2 += pulp.lpSum(v.Var) >= demand[k]\n",
    "m2.solve()\n",
    "a['Val'] = a.Var.apply(pulp.value)\n",
    "a[a.Val > 0]\n",
    "print(a)"
   ]
  },
  {
   "cell_type": "code",
   "execution_count": null,
   "metadata": {},
   "outputs": [],
   "source": []
  },
  {
   "cell_type": "code",
   "execution_count": null,
   "metadata": {},
   "outputs": [],
   "source": []
  }
 ],
 "metadata": {
  "kernelspec": {
   "display_name": "Python 3",
   "language": "python",
   "name": "python3"
  },
  "language_info": {
   "codemirror_mode": {
    "name": "ipython",
    "version": 3
   },
   "file_extension": ".py",
   "mimetype": "text/x-python",
   "name": "python",
   "nbconvert_exporter": "python",
   "pygments_lexer": "ipython3",
   "version": "3.6.6"
  },
  "toc": {
   "base_numbering": 1,
   "nav_menu": {},
   "number_sections": true,
   "sideBar": true,
   "skip_h1_title": false,
   "title_cell": "Table of Contents",
   "title_sidebar": "Contents",
   "toc_cell": false,
   "toc_position": {},
   "toc_section_display": true,
   "toc_window_display": false
  },
  "varInspector": {
   "cols": {
    "lenName": 16,
    "lenType": 16,
    "lenVar": 40
   },
   "kernels_config": {
    "python": {
     "delete_cmd_postfix": "",
     "delete_cmd_prefix": "del ",
     "library": "var_list.py",
     "varRefreshCmd": "print(var_dic_list())"
    },
    "r": {
     "delete_cmd_postfix": ") ",
     "delete_cmd_prefix": "rm(",
     "library": "var_list.r",
     "varRefreshCmd": "cat(var_dic_list()) "
    }
   },
   "types_to_exclude": [
    "module",
    "function",
    "builtin_function_or_method",
    "instance",
    "_Feature"
   ],
   "window_display": false
  }
 },
 "nbformat": 4,
 "nbformat_minor": 2
}
