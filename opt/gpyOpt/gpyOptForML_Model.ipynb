{
 "cells": [
  {
   "cell_type": "markdown",
   "metadata": {},
   "source": [
    "https://github.com/SheffieldML/GPyOpt/blob/master/manual/GPyOpt_scikitlearn.ipynb"
   ]
  },
  {
   "cell_type": "code",
   "execution_count": 9,
   "metadata": {},
   "outputs": [
    {
     "name": "stdout",
     "output_type": "stream",
     "text": [
      "Populating the interactive namespace from numpy and matplotlib\n"
     ]
    }
   ],
   "source": [
    "%pylab inline  \n",
    "import GPy\n",
    "import GPyOpt\n",
    "import numpy as np\n",
    "from sklearn import svm\n",
    "from numpy.random import seed\n",
    "seed(12345)"
   ]
  },
  {
   "cell_type": "code",
   "execution_count": 10,
   "metadata": {},
   "outputs": [
    {
     "name": "stdout",
     "output_type": "stream",
     "text": [
      "olympicMarathonTimes.csv\n",
      "Downloading  http://staffwww.dcs.shef.ac.uk/people/N.Lawrence/dataset_mirror/olympic_marathon_men/olympicMarathonTimes.csv -> $HOME/tmp/GPy-datasets/olympic_marathon_men\\olympicMarathonTimes.csv\n",
      "[==============================]   0.001/0.001MB\n"
     ]
    }
   ],
   "source": [
    "# Let's load the dataset\n",
    "GPy.util.datasets.authorize_download = lambda x: True # prevents requesting authorization for download.\n",
    "data = GPy.util.datasets.olympic_marathon_men()\n",
    "X = data['X']\n",
    "Y = data['Y']\n",
    "X_train = X[:20]\n",
    "Y_train = Y[:20,0]\n",
    "X_test = X[20:]\n",
    "Y_test = Y[20:,0]"
   ]
  },
  {
   "cell_type": "code",
   "execution_count": 11,
   "metadata": {},
   "outputs": [
    {
     "name": "stdout",
     "output_type": "stream",
     "text": [
      "(27, 1) (27, 1)\n"
     ]
    }
   ],
   "source": [
    "print(X.shape, Y.shape)"
   ]
  },
  {
   "cell_type": "code",
   "execution_count": 12,
   "metadata": {},
   "outputs": [
    {
     "name": "stdout",
     "output_type": "stream",
     "text": [
      "(20, 1) (7, 1)\n"
     ]
    }
   ],
   "source": [
    "print(X_train.shape, X_test.shape)"
   ]
  },
  {
   "cell_type": "code",
   "execution_count": null,
   "metadata": {},
   "outputs": [],
   "source": []
  },
  {
   "cell_type": "code",
   "execution_count": 15,
   "metadata": {},
   "outputs": [
    {
     "name": "stdout",
     "output_type": "stream",
     "text": [
      "The default parameters obtained: C=1.0, epilson=0.1, gamma=auto\n",
      "RMSE = 0.56330740612\n"
     ]
    },
    {
     "data": {
      "image/png": "[encoded data removed]",
      "text/plain": [
       "<Figure size 432x288 with 1 Axes>"
      ]
     },
     "metadata": {},
     "output_type": "display_data"
    }
   ],
   "source": [
    "from sklearn import svm\n",
    "svr = svm.SVR()\n",
    "svr.fit(X_train,Y_train)\n",
    "Y_train_pred = svr.predict(X_train)\n",
    "Y_test_pred = svr.predict(X_test)\n",
    "print(\"The default parameters obtained: C=\"+str(svr.C)+\", epilson=\"+str(svr.epsilon)+\", gamma=\"+str(svr.gamma))\n",
    "\n",
    "plot(X_train,Y_train_pred,'b',label='pred-train')\n",
    "plot(X_test,Y_test_pred,'g',label='pred-test')\n",
    "plot(X_train,Y_train,'rx',label='ground truth')\n",
    "plot(X_test,Y_test,'rx')\n",
    "legend(loc='best')\n",
    "print(\"RMSE = \"+str(np.sqrt(np.square(Y_test_pred-Y_test).mean())))"
   ]
  },
  {
   "cell_type": "markdown",
   "metadata": {},
   "source": [
    "# use GPyOpt"
   ]
  },
  {
   "cell_type": "markdown",
   "metadata": {},
   "source": [
    "**We first write a wrap function for fitting with SVR. The objective is the RMSE from cross-validation. We optimize the parameters in log space.**"
   ]
  },
  {
   "cell_type": "code",
   "execution_count": 18,
   "metadata": {},
   "outputs": [],
   "source": [
    "nfold = 3\n",
    "def fit_svr_val(x):\n",
    "    x = np.atleast_2d(np.exp(x))\n",
    "    fs = np.zeros((x.shape[0],1))\n",
    "    \n",
    "    for i in range(x.shape[0]):\n",
    "        fs[i] = 0\n",
    "        \n",
    "        for n in range(nfold):\n",
    "            idx = np.array(range(X_train.shape[0]))\n",
    "            idx_valid = np.logical_and(idx>=X_train.shape[0]/nfold*n, idx<X_train.shape[0]/nfold*(n+1))\n",
    "            idx_train = np.logical_not(idx_valid)\n",
    "            \n",
    "            svr = svm.SVR(C=x[i,0], epsilon=x[i,1], gamma=x[i,2])\n",
    "            svr.fit(X_train[idx_train], Y_train[idx_train])\n",
    "            fs[i] += np.sqrt(np.square(svr.predict(X_train[idx_valid])-Y_train[idx_valid]).mean())\n",
    "        fs[i] *= 1./nfold\n",
    "    return fs\n",
    "\n",
    "## -- Note that similar wrapper functions can be used to tune other Scikit-learn methods"
   ]
  },
  {
   "cell_type": "code",
   "execution_count": 19,
   "metadata": {},
   "outputs": [],
   "source": [
    "domain =[{'name': 'C', 'type': 'continuous', 'domain': (0.,7.)},\n",
    "         {'name': 'epsilon', 'type': 'continuous', 'domain': (-12.,-2.)},\n",
    "         {'name': 'gamma', 'type': 'continuous', 'domain': (-12.,-2.)}]"
   ]
  },
  {
   "cell_type": "code",
   "execution_count": 20,
   "metadata": {},
   "outputs": [
    {
     "name": "stdout",
     "output_type": "stream",
     "text": [
      "The set cost function is ignored! LCB acquisition does not make sense with cost.\n"
     ]
    }
   ],
   "source": [
    "opt = GPyOpt.methods.BayesianOptimization(\n",
    "    f = fit_svr_val, # function to optimize       \n",
    "    domain = domain, # box-constraints of the problem\n",
    "    acquisition_type ='LCB', # LCB acquisition\n",
    "    acquisition_weight = 0.1 # Exploration exploitation\n",
    ") "
   ]
  },
  {
   "cell_type": "code",
   "execution_count": 23,
   "metadata": {},
   "outputs": [
    {
     "data": {
      "image/png": "[encoded data removed]",
      "text/plain": [
       "<Figure size 720x360 with 2 Axes>"
      ]
     },
     "metadata": {},
     "output_type": "display_data"
    }
   ],
   "source": [
    "opt.run_optimization(max_iter=50)\n",
    "opt.plot_convergence()"
   ]
  },
  {
   "cell_type": "code",
   "execution_count": 27,
   "metadata": {},
   "outputs": [
    {
     "data": {
      "text/plain": [
       "array([[  2.21462888,  -2.3548548 ,  -2.38693264],\n",
       "       [  1.28743168,  -5.46822903, -11.91611702],\n",
       "       [  1.43192195,  -4.51093362, -10.93555623],\n",
       "       [  3.9740752 ,  -5.46430129,  -9.01296286],\n",
       "       [  4.16881292,  -4.52285191,  -5.43588817],\n",
       "       [  2.08269137,  -4.39912475, -11.08516125],\n",
       "       [  1.02919555,  -4.09370928, -10.92998221],\n",
       "       [  1.47048947,  -5.00857206, -10.54801098],\n",
       "       [  1.49527106,  -4.80280623, -10.71383645],\n",
       "       [  1.62191499,  -4.74013678, -10.65823257],\n",
       "       [  1.20925827,  -4.94985161, -10.75654815],\n",
       "       [  1.45168697,  -4.9279702 , -10.7740568 ],\n",
       "       [  1.46729303,  -4.93460754, -10.78826549],\n",
       "       [  1.47158125,  -4.93130527, -10.79651533],\n",
       "       [  1.4559191 ,  -4.91441335, -10.79250899],\n",
       "       [  1.44502943,  -4.90212321, -10.78851185],\n",
       "       [  1.43768378,  -4.89338626, -10.78483029],\n",
       "       [  1.43253641,  -4.88686856, -10.78155616],\n",
       "       [  2.57366529,  -6.23421812, -11.5645348 ],\n",
       "       [  0.05503735,  -4.9565193 , -10.0497453 ],\n",
       "       [  1.7146118 ,  -5.87043531, -11.01578752],\n",
       "       [  2.83253399,  -4.96849284, -12.        ],\n",
       "       [  5.45143251,  -6.78183528, -12.        ],\n",
       "       [  3.82653539,  -6.00267791, -11.62264452],\n",
       "       [  7.        , -10.06737745, -12.        ],\n",
       "       [  7.        ,  -7.8783241 , -12.        ],\n",
       "       [  5.17406904,  -8.70440087, -12.        ],\n",
       "       [  1.47631228,  -4.93219421, -10.78282723],\n",
       "       [  1.47828041,  -4.93084844, -10.78638031],\n",
       "       [  1.47720414,  -4.92770207, -10.78783666],\n",
       "       [  1.47382538,  -4.9232574 , -10.78762801],\n",
       "       [  0.9958182 ,  -4.5096042 , -10.38516254],\n",
       "       [  0.90238219,  -5.31655474, -10.52913545],\n",
       "       [  0.82579014,  -5.50886247, -10.5520192 ],\n",
       "       [  1.95304513,  -5.39245911, -11.25964832],\n",
       "       [  2.51199375,  -3.26443071, -12.        ],\n",
       "       [  0.87158767,  -5.05969405, -10.38608451],\n",
       "       [  1.10554252,  -5.32441744, -10.61148576],\n",
       "       [  0.49865653,  -5.16464591, -10.71882151],\n",
       "       [  1.20264933,  -4.21845864, -10.49096321],\n",
       "       [  2.48624582,  -3.96214674, -11.82439629],\n",
       "       [  1.22115812,  -4.50387787, -10.56189351],\n",
       "       [  0.50584568,  -3.44817501,  -9.86636683],\n",
       "       [  1.11224828,  -4.9935016 , -10.19449348],\n",
       "       [  1.11677655,  -4.93935487, -10.23694559],\n",
       "       [  1.1105208 ,  -4.93711205, -10.22602032],\n",
       "       [  1.10477116,  -4.9312329 , -10.21948763],\n",
       "       [  1.02940213,  -4.31807419,  -9.84149574],\n",
       "       [  1.8287759 ,  -3.54055674, -11.34733903],\n",
       "       [  1.13705385,  -4.56879982, -10.14849404],\n",
       "       [  0.29775672,  -4.56443931,  -9.13249411],\n",
       "       [  0.94532042,  -3.98759781, -10.14661192],\n",
       "       [  1.13640677,  -4.82926633, -10.26508557],\n",
       "       [  0.90878877,  -4.37196125, -10.00038089],\n",
       "       [  1.03725932,  -4.28159192, -10.26357675],\n",
       "       [  1.09357269,  -4.80429122, -10.21813873],\n",
       "       [  1.09006152,  -4.80841516, -10.21759775],\n",
       "       [  1.08649172,  -4.81183156, -10.21638048],\n",
       "       [  1.32971841,  -3.76938351, -10.60407592],\n",
       "       [  1.08769403,  -4.91083318, -10.26328661],\n",
       "       [  1.09509557,  -4.14551541, -10.45330718],\n",
       "       [  1.542933  ,  -3.24984978, -10.45184875],\n",
       "       [  1.09925611,  -4.82666131, -10.08390062],\n",
       "       [  0.85834357,  -5.27206659, -10.53933221],\n",
       "       [  0.        ,  -4.66509274, -11.10299963],\n",
       "       [  0.88549955,  -5.00025293, -10.12265484],\n",
       "       [  1.0245416 ,  -4.82492369, -10.19127266],\n",
       "       [  1.02939011,  -4.83037639, -10.19496899],\n",
       "       [  1.033113  ,  -4.8342181 , -10.19729823],\n",
       "       [  1.03615366,  -4.83705616, -10.1988091 ],\n",
       "       [  0.94200081,  -5.44216631, -10.28503349],\n",
       "       [  1.04318179,  -4.80557322, -10.19962407],\n",
       "       [  1.04512941,  -4.80951723, -10.20071483],\n",
       "       [  0.91919642,  -4.65522544, -10.03705171],\n",
       "       [  0.95962318,  -5.33347091, -10.43427422],\n",
       "       [  0.96994663,  -5.72750911,  -9.60407287],\n",
       "       [  1.14797146, -12.        , -10.74613484],\n",
       "       [  0.        , -12.        ,  -9.83226118],\n",
       "       [  2.60381661, -12.        , -12.        ],\n",
       "       [  1.81506544, -11.16160525, -10.61971093],\n",
       "       [  1.11423943, -12.        , -11.34200009],\n",
       "       [  2.62403936, -12.        ,  -9.67072441],\n",
       "       [  1.27476955, -11.72048377, -10.54919   ],\n",
       "       [  2.75298501,  -9.76435115, -11.13209959],\n",
       "       [  1.96088539, -12.        , -10.92953841],\n",
       "       [  2.10559096, -10.8833497 , -10.80773064],\n",
       "       [  1.05093171,  -4.76680818, -10.16897361],\n",
       "       [  1.05582324, -12.        , -10.70479073],\n",
       "       [  1.0522513 ,  -4.77310645, -10.16832771],\n",
       "       [  0.78650249, -12.        , -10.68998042],\n",
       "       [  1.35355644, -12.        , -10.50102822],\n",
       "       [  1.05623272,  -4.78417417, -10.16924266],\n",
       "       [  0.        , -12.        ,  -7.49033232],\n",
       "       [  1.05651265,  -4.78705859, -10.16644414],\n",
       "       [  1.34696771, -12.        , -10.91208222],\n",
       "       [  1.87141858, -11.25114972, -11.13743994],\n",
       "       [  1.96388316, -10.50589334, -10.38906584],\n",
       "       [  2.42027174, -11.05270644, -10.71755847],\n",
       "       [  1.0504711 ,  -4.76381076, -10.16807441],\n",
       "       [  0.88640702,  -5.49058512,  -9.96603882],\n",
       "       [  0.69736769,  -4.80516114, -10.26646631],\n",
       "       [  1.78075321, -10.8609935 , -10.75510394],\n",
       "       [  2.3700718 ,  -3.76039055, -11.35605247],\n",
       "       [  1.46282603,  -3.90763515, -10.86745602],\n",
       "       [  2.06022637,  -3.75091448, -12.        ],\n",
       "       [  1.27096659, -12.        , -10.7878548 ],\n",
       "       [  1.25590018, -12.        , -10.00277783],\n",
       "       [  1.58925185, -12.        , -11.2387251 ],\n",
       "       [  0.98862063,  -4.49241996, -10.09867896],\n",
       "       [  1.21493927, -12.        , -10.28501693],\n",
       "       [  2.82786678,  -4.06018688, -12.        ],\n",
       "       [  0.9152778 ,  -4.84089993, -10.12364897],\n",
       "       [  1.53421519, -11.96274681, -10.04447903],\n",
       "       [  1.41949698, -12.        , -10.10240154],\n",
       "       [  1.54637652,  -3.37165476, -11.32043831],\n",
       "       [  1.41420954, -11.79629814,  -9.93990091],\n",
       "       [  0.9488889 ,  -4.80596807, -10.15721105],\n",
       "       [  0.95771008,  -4.8006332 , -10.16221924],\n",
       "       [  0.96610994,  -4.79642451, -10.16686456],\n",
       "       [  1.26971933,  -4.92947717, -10.17030663],\n",
       "       [  1.35345572, -12.        , -11.12403603],\n",
       "       [  1.01486999,  -4.79914187, -10.16821407],\n",
       "       [  1.01874587,  -4.61618129, -10.05278514],\n",
       "       [  1.81368621, -12.        , -11.32438258],\n",
       "       [  1.04478058, -12.        , -10.85238742],\n",
       "       [  1.13263138,  -3.97443695,  -9.84074131],\n",
       "       [  1.03073916,  -4.777671  , -10.19626482],\n",
       "       [  1.01258279, -12.        , -12.        ],\n",
       "       [  1.27412564,  -3.95808722, -10.52454021],\n",
       "       [  0.94201883,  -5.36325463, -10.70682839],\n",
       "       [  2.13758165,  -5.97045756, -10.95296172],\n",
       "       [  0.73099661,  -4.95340481, -10.22619994],\n",
       "       [  0.87719779,  -5.63943008, -10.1486616 ],\n",
       "       [  1.07579105,  -4.25249076, -10.05918066],\n",
       "       [  1.62063757, -12.        , -11.04982531],\n",
       "       [  2.3216788 ,  -4.22939338, -11.87445493],\n",
       "       [  1.51693701, -12.        , -11.42028465],\n",
       "       [  2.38801428, -12.        , -10.82146285],\n",
       "       [  1.04431855,  -4.82743391, -10.20314894],\n",
       "       [  1.04465816,  -4.82792776, -10.20277338],\n",
       "       [  1.09180783, -12.        , -10.57969039],\n",
       "       [  1.04495038,  -4.82814907, -10.20257499],\n",
       "       [  1.56383828, -11.97520825, -11.25302904],\n",
       "       [  0.73894641,  -4.54282599, -10.13077887],\n",
       "       [  0.92283038,  -4.17307925,  -9.75400723],\n",
       "       [  1.70484129, -11.85389891, -10.28762414],\n",
       "       [  1.20582376,  -4.92880441, -10.18588292],\n",
       "       [  1.66303483,  -5.00357525,  -9.84897538],\n",
       "       [  1.45293599,  -4.9248138 , -10.14871562],\n",
       "       [  1.51291868, -11.96321967, -10.28626431],\n",
       "       [  1.36629311, -12.        , -10.24723335],\n",
       "       [  0.92332937,  -5.36225271, -10.55731991],\n",
       "       [  1.39374853,  -4.92860104, -10.12411997],\n",
       "       [  1.68562381, -11.78320314, -10.31326351],\n",
       "       [  0.9251777 ,  -5.32573281, -10.55286797]])"
      ]
     },
     "execution_count": 27,
     "metadata": {},
     "output_type": "execute_result"
    }
   ],
   "source": [
    "opt.X"
   ]
  },
  {
   "cell_type": "code",
   "execution_count": 28,
   "metadata": {},
   "outputs": [
    {
     "data": {
      "text/plain": [
       "array([[ 0.66652881],\n",
       "       [ 0.32152603],\n",
       "       [ 0.28825905],\n",
       "       [ 0.4051212 ],\n",
       "       [ 0.77834455],\n",
       "       [ 0.29533129],\n",
       "       [ 0.29680493],\n",
       "       [ 0.28710111],\n",
       "       [ 0.28384716],\n",
       "       [ 0.28867136],\n",
       "       [ 0.2866513 ],\n",
       "       [ 0.2854632 ],\n",
       "       [ 0.2854242 ],\n",
       "       [ 0.28564983],\n",
       "       [ 0.28570647],\n",
       "       [ 0.28572226],\n",
       "       [ 0.28571423],\n",
       "       [ 0.28569577],\n",
       "       [ 0.29514171],\n",
       "       [ 0.30771618],\n",
       "       [ 0.29300065],\n",
       "       [ 0.29653385],\n",
       "       [ 0.2940052 ],\n",
       "       [ 0.30318418],\n",
       "       [ 0.29876002],\n",
       "       [ 0.29926508],\n",
       "       [ 0.29679778],\n",
       "       [ 0.28535318],\n",
       "       [ 0.28539135],\n",
       "       [ 0.28542115],\n",
       "       [ 0.28544385],\n",
       "       [ 0.28364738],\n",
       "       [ 0.27917792],\n",
       "       [ 0.28945206],\n",
       "       [ 0.29366547],\n",
       "       [ 0.28863511],\n",
       "       [ 0.28557087],\n",
       "       [ 0.28827632],\n",
       "       [ 0.3030611 ],\n",
       "       [ 0.28258438],\n",
       "       [ 0.28583582],\n",
       "       [ 0.28366442],\n",
       "       [ 0.30049578],\n",
       "       [ 0.28195066],\n",
       "       [ 0.28104831],\n",
       "       [ 0.28105142],\n",
       "       [ 0.28100884],\n",
       "       [ 0.28318416],\n",
       "       [ 0.28604986],\n",
       "       [ 0.28328569],\n",
       "       [ 0.3215584 ],\n",
       "       [ 0.28450295],\n",
       "       [ 0.28145771],\n",
       "       [ 0.28228584],\n",
       "       [ 0.28253059],\n",
       "       [ 0.28136744],\n",
       "       [ 0.28122003],\n",
       "       [ 0.28120982],\n",
       "       [ 0.28294382],\n",
       "       [ 0.28165643],\n",
       "       [ 0.28313616],\n",
       "       [ 0.30218048],\n",
       "       [ 0.28142984],\n",
       "       [ 0.28459892],\n",
       "       [ 0.41049532],\n",
       "       [ 0.28268957],\n",
       "       [ 0.28156012],\n",
       "       [ 0.28154047],\n",
       "       [ 0.28152139],\n",
       "       [ 0.28150232],\n",
       "       [ 0.28724009],\n",
       "       [ 0.28145344],\n",
       "       [ 0.28144104],\n",
       "       [ 0.28213234],\n",
       "       [ 0.28857033],\n",
       "       [ 0.29683994],\n",
       "       [ 0.27904267],\n",
       "       [ 0.31478603],\n",
       "       [ 0.29961943],\n",
       "       [ 0.28433478],\n",
       "       [ 0.29641692],\n",
       "       [ 0.3448637 ],\n",
       "       [ 0.29031297],\n",
       "       [ 0.30874727],\n",
       "       [ 0.28973685],\n",
       "       [ 0.28465362],\n",
       "       [ 0.28136098],\n",
       "       [ 0.2774336 ],\n",
       "       [ 0.28132531],\n",
       "       [ 0.2990278 ],\n",
       "       [ 0.28811583],\n",
       "       [ 0.28123432],\n",
       "       [ 0.45667822],\n",
       "       [ 0.28124971],\n",
       "       [ 0.28448008],\n",
       "       [ 0.2944419 ],\n",
       "       [ 0.29691666],\n",
       "       [ 0.30036099],\n",
       "       [ 0.28136278],\n",
       "       [ 0.28438779],\n",
       "       [ 0.28259397],\n",
       "       [ 0.28833052],\n",
       "       [ 0.30630245],\n",
       "       [ 0.28346507],\n",
       "       [ 0.29286159],\n",
       "       [ 0.28934744],\n",
       "       [ 0.28317837],\n",
       "       [ 0.27597847],\n",
       "       [ 0.2816352 ],\n",
       "       [ 0.28493706],\n",
       "       [ 0.2960287 ],\n",
       "       [ 0.28211298],\n",
       "       [ 0.28236759],\n",
       "       [ 0.281603  ],\n",
       "       [ 0.29713106],\n",
       "       [ 0.28758568],\n",
       "       [ 0.28205268],\n",
       "       [ 0.28222849],\n",
       "       [ 0.28213303],\n",
       "       [ 0.28005968],\n",
       "       [ 0.28530438],\n",
       "       [ 0.28149141],\n",
       "       [ 0.2828201 ],\n",
       "       [ 0.29371484],\n",
       "       [ 0.29270313],\n",
       "       [ 0.28514605],\n",
       "       [ 0.28156739],\n",
       "       [ 0.39206286],\n",
       "       [ 0.28244142],\n",
       "       [ 0.29136298],\n",
       "       [ 0.28648294],\n",
       "       [ 0.28526506],\n",
       "       [ 0.28647061],\n",
       "       [ 0.28415747],\n",
       "       [ 0.29528111],\n",
       "       [ 0.29290543],\n",
       "       [ 0.29303487],\n",
       "       [ 0.30620351],\n",
       "       [ 0.28146216],\n",
       "       [ 0.28145491],\n",
       "       [ 0.28983331],\n",
       "       [ 0.2814499 ],\n",
       "       [ 0.27545207],\n",
       "       [ 0.28409056],\n",
       "       [ 0.28497531],\n",
       "       [ 0.27932866],\n",
       "       [ 0.28152739],\n",
       "       [ 0.29479082],\n",
       "       [ 0.27800147],\n",
       "       [ 0.2807627 ],\n",
       "       [ 0.28190826],\n",
       "       [ 0.27928514],\n",
       "       [ 0.27824707],\n",
       "       [ 0.27958354],\n",
       "       [ 0.2789485 ]])"
      ]
     },
     "execution_count": 28,
     "metadata": {},
     "output_type": "execute_result"
    }
   ],
   "source": [
    "opt.Y"
   ]
  },
  {
   "cell_type": "code",
   "execution_count": 31,
   "metadata": {},
   "outputs": [
    {
     "name": "stdout",
     "output_type": "stream",
     "text": [
      "The best parameters obtained: C=4.77712204161, epilson=6.29844201416e-06, gamma=1.29679575816e-05\n"
     ]
    }
   ],
   "source": [
    "x_best = np.exp(opt.X[np.argmin(opt.Y)])\n",
    "print(\"The best parameters obtained: C=\"\n",
    "      + str(x_best[0])\n",
    "      + \", epilson=\"\n",
    "      + str(x_best[1])\n",
    "      + \", gamma=\"\n",
    "      + str(x_best[2]))\n"
   ]
  },
  {
   "cell_type": "code",
   "execution_count": 32,
   "metadata": {},
   "outputs": [
    {
     "data": {
      "text/plain": [
       "6.1442123533282098e-06"
      ]
     },
     "execution_count": 32,
     "metadata": {},
     "output_type": "execute_result"
    }
   ],
   "source": [
    "np.exp(-12)"
   ]
  },
  {
   "cell_type": "code",
   "execution_count": 33,
   "metadata": {},
   "outputs": [
    {
     "data": {
      "text/plain": [
       "0.1353352832366127"
      ]
     },
     "execution_count": 33,
     "metadata": {},
     "output_type": "execute_result"
    }
   ],
   "source": [
    "np.exp(-2)"
   ]
  },
  {
   "cell_type": "code",
   "execution_count": null,
   "metadata": {},
   "outputs": [],
   "source": []
  },
  {
   "cell_type": "markdown",
   "metadata": {},
   "source": [
    "https://qiita.com/koji-murakami/items/b7887f1cef11ddc443a4"
   ]
  },
  {
   "cell_type": "code",
   "execution_count": 35,
   "metadata": {},
   "outputs": [],
   "source": [
    "import GPyOpt\n",
    "import numpy as np\n",
    "from numpy.random import seed\n",
    "from sklearn import datasets\n",
    "from sklearn.model_selection import cross_val_predict\n",
    "from sklearn.model_selection import train_test_split\n",
    "from sklearn.metrics import f1_score\n",
    "from sklearn.metrics import classification_report\n",
    "from sklearn.svm import SVC\n",
    "\n",
    "seed(0)"
   ]
  },
  {
   "cell_type": "code",
   "execution_count": 36,
   "metadata": {},
   "outputs": [
    {
     "name": "stdout",
     "output_type": "stream",
     "text": [
      "(1797, 64)\n"
     ]
    }
   ],
   "source": [
    "digits = datasets.load_digits()\n",
    "\n",
    "n_samples = len(digits.images)\n",
    "X = digits.images.reshape((n_samples, -1))\n",
    "y = digits.target\n",
    "print(X.shape)"
   ]
  },
  {
   "cell_type": "code",
   "execution_count": 37,
   "metadata": {},
   "outputs": [],
   "source": [
    "X_train, X_test, y_train, y_test = train_test_split(\n",
    "    X, y, test_size=0.5, random_state=0)\n"
   ]
  },
  {
   "cell_type": "code",
   "execution_count": 38,
   "metadata": {},
   "outputs": [],
   "source": [
    "kernel2domains = {\n",
    "    'rbf':[\n",
    "        {'name': 'C', 'type': 'continuous', 'domain': (1, 1100)},\n",
    "        {'name': 'gamma', 'type': 'continuous', 'domain': (0.00005, 0.0015)}\n",
    "    ],\n",
    "    'linear': [\n",
    "        {'name': 'C', 'type': 'continuous', 'domain': (1, 1100)},\n",
    "    ],\n",
    "}"
   ]
  },
  {
   "cell_type": "code",
   "execution_count": 39,
   "metadata": {},
   "outputs": [],
   "source": [
    "def _get_model(param, kernel):\n",
    "    _param = _refine_param(param, kernel)\n",
    "    model = SVC(**_param)\n",
    "    return model\n",
    "\n",
    "def _refine_param(param, kernel):\n",
    "    assert kernel in ['rbf', 'linear']\n",
    "    if kernel == 'rbf':\n",
    "        ret = {'kernel': kernel, 'C': param[0], 'gamma': param[1]}\n",
    "    else:\n",
    "        ret = {'kernel': kernel, 'C': param[0]}\n",
    "    return ret\n",
    "\n",
    "def _optimize(params, kernel):\n",
    "    scores = np.zeros((params.shape[0], 1))\n",
    "    for i, param in enumerate(params):\n",
    "        model = _get_model(param, kernel)\n",
    "        y_pred = cross_val_predict(model, X_train, y_train, cv=5)\n",
    "        scores[i] -= f1_score(y_train, y_pred, average='macro')\n",
    "    return scores\n"
   ]
  },
  {
   "cell_type": "code",
   "execution_count": 42,
   "metadata": {},
   "outputs": [],
   "source": [
    "bests_per_kernel = []\n",
    "\n",
    "for k, d in kernel2domains.items():\n",
    "    \n",
    "    f = lambda x: _optimize(x, k)\n",
    "    \n",
    "    opt = GPyOpt.methods.BayesianOptimization(f=f, domain=d)\n",
    "    opt.run_optimization(max_iter=15)\n",
    "    \n",
    "    idx = np.argmin(opt.Y)\n",
    "    x_best = opt.X[idx]  \n",
    "    best_score = opt.Y[idx]\n",
    "    \n",
    "    bests_per_kernel.append((x_best, best_score, opt, k))\n",
    "\n",
    "x_best, _, optimizer, kernel = min(bests_per_kernel, key=lambda x: x[1])"
   ]
  },
  {
   "cell_type": "code",
   "execution_count": 43,
   "metadata": {},
   "outputs": [
    {
     "name": "stdout",
     "output_type": "stream",
     "text": [
      "0.988 for {'kernel': 'rbf', 'C': 967.3858888911418, 'gamma': 0.0010639038560208572}\n",
      "0.987 for {'kernel': 'rbf', 'C': 250.00316105593728, 'gamma': 0.00060529876210854738}\n",
      "0.987 for {'kernel': 'rbf', 'C': 645.07304986090094, 'gamma': 0.00092951805928823095}\n",
      "0.986 for {'kernel': 'rbf', 'C': 657.31554804316966, 'gamma': 0.00072620510919961198}\n",
      "0.986 for {'kernel': 'rbf', 'C': 1003.7388216067376, 'gamma': 0.00072838799486515016}\n",
      "0.988 for {'kernel': 'rbf', 'C': 250.27666613304311, 'gamma': 0.0010860243034402845}\n",
      "0.988 for {'kernel': 'rbf', 'C': 967.40816581901947, 'gamma': 0.0010533233054055363}\n",
      "0.983 for {'kernel': 'rbf', 'C': 250.50302370615228, 'gamma': 0.0014838813374997875}\n",
      "0.980 for {'kernel': 'rbf', 'C': 967.26166065413111, 'gamma': 5.0000000000000002e-05}\n",
      "0.986 for {'kernel': 'rbf', 'C': 249.92239512117337, 'gamma': 0.00082869281252773901}\n",
      "0.988 for {'kernel': 'rbf', 'C': 645.15465094545982, 'gamma': 0.0010398693951380142}\n",
      "0.980 for {'kernel': 'rbf', 'C': 250.32390641388287, 'gamma': 5.0000000000000002e-05}\n",
      "0.987 for {'kernel': 'rbf', 'C': 657.36304295254672, 'gamma': 0.00087427671802146043}\n",
      "0.986 for {'kernel': 'rbf', 'C': 249.97631922159533, 'gamma': 0.00076385759324646145}\n",
      "0.986 for {'kernel': 'rbf', 'C': 967.437373164831, 'gamma': 0.00051739432480655905}\n",
      "0.986 for {'kernel': 'rbf', 'C': 645.03975013574075, 'gamma': 0.00056743748298677824}\n",
      "0.986 for {'kernel': 'rbf', 'C': 1003.4503808484982, 'gamma': 0.0012467243953533423}\n",
      "0.983 for {'kernel': 'rbf', 'C': 250.26107720190254, 'gamma': 0.0014282135270666488}\n",
      "0.984 for {'kernel': 'rbf', 'C': 645.02019866839601, 'gamma': 0.0013677798993196036}\n",
      "0.987 for {'kernel': 'rbf', 'C': 126.76223464415845, 'gamma': 0.00096045033268874109}\n"
     ]
    }
   ],
   "source": [
    "for param, score in zip(optimizer.X, optimizer.Y):\n",
    "    _score = -score\n",
    "    _param = _refine_param(param, kernel)\n",
    "    print(\"%0.3f for %r\" % (_score, _param))"
   ]
  },
  {
   "cell_type": "code",
   "execution_count": 47,
   "metadata": {},
   "outputs": [
    {
     "name": "stdout",
     "output_type": "stream",
     "text": [
      "20 experiments were performed.\n",
      "Best parameters set found on development set:\n",
      "{'kernel': 'rbf', 'C': 967.3858888911418, 'gamma': 0.0010639038560208572}\n",
      "             precision    recall  f1-score   support\n",
      "\n",
      "          0       1.00      1.00      1.00        89\n",
      "          1       0.97      1.00      0.98        90\n",
      "          2       0.99      0.98      0.98        92\n",
      "          3       1.00      0.99      0.99        93\n",
      "          4       1.00      1.00      1.00        76\n",
      "          5       0.99      0.98      0.99       108\n",
      "          6       0.99      1.00      0.99        89\n",
      "          7       0.99      1.00      0.99        78\n",
      "          8       1.00      0.98      0.99        92\n",
      "          9       0.99      0.99      0.99        92\n",
      "\n",
      "avg / total       0.99      0.99      0.99       899\n",
      "\n"
     ]
    }
   ],
   "source": [
    "print(\"%d experiments were performed.\" % len(optimizer.X))\n",
    "print(\"Best parameters set found on development set:\")\n",
    "print(_refine_param(x_best, kernel))\n",
    "\n",
    "clf = _get_model(x_best, kernel)\n",
    "clf.fit(X_train, y_train)\n",
    "\n",
    "y_true, y_pred = y_test, clf.predict(X_test)\n",
    "\n",
    "print(classification_report(y_true, y_pred))"
   ]
  },
  {
   "cell_type": "code",
   "execution_count": null,
   "metadata": {},
   "outputs": [],
   "source": []
  }
 ],
 "metadata": {
  "kernelspec": {
   "display_name": "Python [default]",
   "language": "python",
   "name": "python3"
  },
  "language_info": {
   "codemirror_mode": {
    "name": "ipython",
    "version": 3
   },
   "file_extension": ".py",
   "mimetype": "text/x-python",
   "name": "python",
   "nbconvert_exporter": "python",
   "pygments_lexer": "ipython3",
   "version": "3.6.5"
  }
 },
 "nbformat": 4,
 "nbformat_minor": 2
}
