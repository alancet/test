{
 "cells": [
  {
   "cell_type": "markdown",
   "metadata": {
    "toc": true
   },
   "source": [
    "<h1>Table of Contents<span class=\"tocSkip\"></span></h1>\n",
    "<div class=\"toc\"><ul class=\"toc-item\"><li><span><a href=\"#py-modules\" data-toc-modified-id=\"py-modules-1\"><span class=\"toc-item-num\">1&nbsp;&nbsp;</span>py modules</a></span></li><li><span><a href=\"#def-util-func\" data-toc-modified-id=\"def-util-func-2\"><span class=\"toc-item-num\">2&nbsp;&nbsp;</span>def util func</a></span></li><li><span><a href=\"#線形計画問題-LP\" data-toc-modified-id=\"線形計画問題-LP-3\"><span class=\"toc-item-num\">3&nbsp;&nbsp;</span>線形計画問題 LP</a></span><ul class=\"toc-item\"><li><span><a href=\"#general\" data-toc-modified-id=\"general-3.1\"><span class=\"toc-item-num\">3.1&nbsp;&nbsp;</span>general</a></span><ul class=\"toc-item\"><li><span><a href=\"#pulp\" data-toc-modified-id=\"pulp-3.1.1\"><span class=\"toc-item-num\">3.1.1&nbsp;&nbsp;</span>pulp</a></span></li><li><span><a href=\"#pulp-by-vector-style\" data-toc-modified-id=\"pulp-by-vector-style-3.1.2\"><span class=\"toc-item-num\">3.1.2&nbsp;&nbsp;</span>pulp by vector style</a></span></li></ul></li><li><span><a href=\"#栄養問題、メニュー計画,ダイエット問題\" data-toc-modified-id=\"栄養問題、メニュー計画,ダイエット問題-3.2\"><span class=\"toc-item-num\">3.2&nbsp;&nbsp;</span>栄養問題、メニュー計画,ダイエット問題</a></span><ul class=\"toc-item\"><li><span><a href=\"#pulp\" data-toc-modified-id=\"pulp-3.2.1\"><span class=\"toc-item-num\">3.2.1&nbsp;&nbsp;</span>pulp</a></span></li><li><span><a href=\"#mypulp(gurobi)-todo\" data-toc-modified-id=\"mypulp(gurobi)-todo-3.2.2\"><span class=\"toc-item-num\">3.2.2&nbsp;&nbsp;</span>mypulp(gurobi) <strong>todo</strong></a></span></li></ul></li><li><span><a href=\"#配合問題\" data-toc-modified-id=\"配合問題-3.3\"><span class=\"toc-item-num\">3.3&nbsp;&nbsp;</span>配合問題</a></span><ul class=\"toc-item\"><li><span><a href=\"#pulp\" data-toc-modified-id=\"pulp-3.3.1\"><span class=\"toc-item-num\">3.3.1&nbsp;&nbsp;</span>pulp</a></span></li></ul></li><li><span><a href=\"#生産計画問題\" data-toc-modified-id=\"生産計画問題-3.4\"><span class=\"toc-item-num\">3.4&nbsp;&nbsp;</span>生産計画問題</a></span><ul class=\"toc-item\"><li><span><a href=\"#http://www.me.titech.ac.jp/~mizu_lab/text/PDF-LP/LP1-problem.pdf\" data-toc-modified-id=\"http://www.me.titech.ac.jp/~mizu_lab/text/PDF-LP/LP1-problem.pdf-3.4.1\"><span class=\"toc-item-num\">3.4.1&nbsp;&nbsp;</span><a href=\"http://www.me.titech.ac.jp/~mizu_lab/text/PDF-LP/LP1-problem.pdf\" target=\"_blank\">http://www.me.titech.ac.jp/~mizu_lab/text/PDF-LP/LP1-problem.pdf</a></a></span><ul class=\"toc-item\"><li><span><a href=\"#pulp\" data-toc-modified-id=\"pulp-3.4.1.1\"><span class=\"toc-item-num\">3.4.1.1&nbsp;&nbsp;</span>pulp</a></span></li></ul></li><li><span><a href=\"#https://www.slideshare.net/shunjiumetani/ss-17197023\" data-toc-modified-id=\"https://www.slideshare.net/shunjiumetani/ss-17197023-3.4.2\"><span class=\"toc-item-num\">3.4.2&nbsp;&nbsp;</span><a href=\"https://www.slideshare.net/shunjiumetani/ss-17197023\" target=\"_blank\">https://www.slideshare.net/shunjiumetani/ss-17197023</a></a></span><ul class=\"toc-item\"><li><span><a href=\"#pulp\" data-toc-modified-id=\"pulp-3.4.2.1\"><span class=\"toc-item-num\">3.4.2.1&nbsp;&nbsp;</span>pulp</a></span></li></ul></li></ul></li><li><span><a href=\"#輸送計画、輸送問題\" data-toc-modified-id=\"輸送計画、輸送問題-3.5\"><span class=\"toc-item-num\">3.5&nbsp;&nbsp;</span>輸送計画、輸送問題</a></span><ul class=\"toc-item\"><li><span><a href=\"#http://www.msi.co.jp/nuopt/docs/v20/examples/html/02-02-00.html\" data-toc-modified-id=\"http://www.msi.co.jp/nuopt/docs/v20/examples/html/02-02-00.html-3.5.1\"><span class=\"toc-item-num\">3.5.1&nbsp;&nbsp;</span><a href=\"http://www.msi.co.jp/nuopt/docs/v20/examples/html/02-02-00.html\" target=\"_blank\">http://www.msi.co.jp/nuopt/docs/v20/examples/html/02-02-00.html</a></a></span><ul class=\"toc-item\"><li><span><a href=\"#pulp\" data-toc-modified-id=\"pulp-3.5.1.1\"><span class=\"toc-item-num\">3.5.1.1&nbsp;&nbsp;</span>pulp</a></span></li></ul></li><li><span><a href=\"#http://www.wakayama-u.ac.jp/~makino/lectures/eip/lp\" data-toc-modified-id=\"http://www.wakayama-u.ac.jp/~makino/lectures/eip/lp-3.5.2\"><span class=\"toc-item-num\">3.5.2&nbsp;&nbsp;</span><a href=\"http://www.wakayama-u.ac.jp/~makino/lectures/eip/lp\" target=\"_blank\">http://www.wakayama-u.ac.jp/~makino/lectures/eip/lp</a></a></span><ul class=\"toc-item\"><li><span><a href=\"#pulp\" data-toc-modified-id=\"pulp-3.5.2.1\"><span class=\"toc-item-num\">3.5.2.1&nbsp;&nbsp;</span>pulp</a></span></li></ul></li></ul></li><li><span><a href=\"#割当計画\" data-toc-modified-id=\"割当計画-3.6\"><span class=\"toc-item-num\">3.6&nbsp;&nbsp;</span>割当計画</a></span><ul class=\"toc-item\"><li><span><a href=\"#pulp-todo\" data-toc-modified-id=\"pulp-todo-3.6.1\"><span class=\"toc-item-num\">3.6.1&nbsp;&nbsp;</span>pulp <strong>todo</strong></a></span></li></ul></li><li><span><a href=\"#施設配置問題（p-メディアン）\" data-toc-modified-id=\"施設配置問題（p-メディアン）-3.7\"><span class=\"toc-item-num\">3.7&nbsp;&nbsp;</span>施設配置問題（p-メディアン）</a></span><ul class=\"toc-item\"><li><span><a href=\"#pulp\" data-toc-modified-id=\"pulp-3.7.1\"><span class=\"toc-item-num\">3.7.1&nbsp;&nbsp;</span>pulp</a></span></li></ul></li></ul></li><li><span><a href=\"#混合整数最適化問題-MIP\" data-toc-modified-id=\"混合整数最適化問題-MIP-4\"><span class=\"toc-item-num\">4&nbsp;&nbsp;</span>混合整数最適化問題 MIP</a></span></li></ul></div>"
   ]
  },
  {
   "cell_type": "markdown",
   "metadata": {},
   "source": [
    "複数の最適化問題を、各モジュールで解いてみて、比較してみる"
   ]
  },
  {
   "cell_type": "markdown",
   "metadata": {},
   "source": [
    "# py modules\n",
    "\n",
    "- pulp\n",
    "- mypulp(gurobi)\n",
    "- deap"
   ]
  },
  {
   "cell_type": "code",
   "execution_count": 4,
   "metadata": {},
   "outputs": [],
   "source": [
    "from pulp import *\n",
    "from mypulp import *\n",
    "\n",
    "#import pulp\n",
    "#import mypulp"
   ]
  },
  {
   "cell_type": "markdown",
   "metadata": {},
   "source": [
    "# def util func"
   ]
  },
  {
   "cell_type": "code",
   "execution_count": 5,
   "metadata": {},
   "outputs": [],
   "source": [
    "def showPulpResult(problem):\n",
    "    print(\"result status: \", LpStatus[problem.status])\n",
    "    print(\"best objective: \", value(problem.objective))\n",
    "    #print(\"vars: \", value(x1), value(x2), value(x3), value(x4), value(x5), )\n",
    "    for v in problem.variables():\n",
    "        print(v.name, \"=\", v.varValue)"
   ]
  },
  {
   "cell_type": "markdown",
   "metadata": {},
   "source": [
    "# 線形計画問題 LP"
   ]
  },
  {
   "cell_type": "markdown",
   "metadata": {},
   "source": [
    "## general"
   ]
  },
  {
   "cell_type": "markdown",
   "metadata": {},
   "source": [
    "http://www.me.titech.ac.jp/~mizu_lab/text/PDF-LP/LP1-problem.pdf\n",
    "\n",
    "- var: x1, x2, x3, x4, x5\n",
    "- 最小化: 2*x1 - 4*x2 - x4 + 3*x5\n",
    "- 制約条件: \n",
    "    - 3x1 + x3 - 5*x5 >= 16\n",
    "    - -2*x1 + 2*x2 + 3*x4 >= 21\n",
    "    - 4*x1 - 2*x2 + x3 - 3*x5 = 18\n",
    "    - -x2 + 3*x4 + 2*x5 = 9\n",
    "    - x1 >= 0 \n",
    "    - x2 >= 0\n"
   ]
  },
  {
   "cell_type": "markdown",
   "metadata": {},
   "source": [
    "### pulp"
   ]
  },
  {
   "cell_type": "code",
   "execution_count": 3,
   "metadata": {},
   "outputs": [
    {
     "name": "stdout",
     "output_type": "stream",
     "text": [
      "result status:  Optimal\n",
      "best objective:  -12.75\n",
      "x1 = 0.0\n",
      "x2 = 10.5\n",
      "x3 = 68.25\n",
      "x4 = 0.0\n",
      "x5 = 9.75\n"
     ]
    }
   ],
   "source": [
    "problem = LpProblem('lp1', LpMaximize)\n",
    "x1 = LpVariable('x1', 0, None, cat=LpContinuous)\n",
    "x2 = LpVariable('x2', 0, None, cat=LpContinuous)\n",
    "x3 = LpVariable('x3', 0, None, cat=LpContinuous)\n",
    "x4 = LpVariable('x4', 0, None, cat=LpContinuous)\n",
    "x5 = LpVariable('x5', 0, None, cat=LpContinuous)\n",
    "\n",
    "problem += 2*x1 - 4*x2 - x4 + 3*x5, 'Objective func'\n",
    "\n",
    "problem += 3*x1 + x3 - 5*x5 >= 16, 'Constraint_1'\n",
    "problem += -2*x1 + 2*x2 + 3*x4 >= 21, 'Constraint_2'\n",
    "problem += 4*x1 - 2*x2 + x3 - 3*x5 == 18, 'Constraint_3'\n",
    "problem += -x2 + 3*x4 + 2*x5 == 9, 'Constraint_4'\n",
    "\n",
    "problem.writeLP(\"lp_example.lp\")\n",
    "\n",
    "\n",
    "solver = solvers.PULP_CBC_CMD()\n",
    "\n",
    "result_status = problem.solve(solver)\n",
    "\n",
    "showPulpResult(problem)\n",
    "\n",
    "#print(\"result status: \", LpStatus[result_status])\n",
    "#print(\"best objective: \", value(problem.objective))\n",
    "##print(\"vars: \", value(x1), value(x2), value(x3), value(x4), value(x5), )\n",
    "#for v in problem.variables():\n",
    "#    print(v.name, \"=\", v.varValue)"
   ]
  },
  {
   "cell_type": "code",
   "execution_count": null,
   "metadata": {},
   "outputs": [],
   "source": []
  },
  {
   "cell_type": "markdown",
   "metadata": {},
   "source": [
    "### pulp by vector style"
   ]
  },
  {
   "cell_type": "code",
   "execution_count": 4,
   "metadata": {
    "scrolled": true
   },
   "outputs": [
    {
     "name": "stdout",
     "output_type": "stream",
     "text": [
      "problem.objective: -2*var_x1 + 4*var_x2 + var_x4 - 3*var_x5\n",
      "problem.constraints:  OrderedDict([('const1', -3*var_x1 + 1*var_x3 + 5*var_x5 + 16 <= 0), ('const2', 2*var_x1 + -2*var_x2 + -3*var_x4 + 21 <= 0), ('const3', 4*var_x1 + -2*var_x2 + 1*var_x3 + -3*var_x5 + -18 = 0), ('const4', -1*var_x2 + 3*var_x4 + 2*var_x5 + -9 = 0)])\n",
      "result status:  Unbounded\n",
      "best objective:  29.0\n",
      "var_x1 = 9.75\n",
      "var_x2 = 10.5\n",
      "var_x3 = 0.0\n",
      "var_x4 = 6.5\n",
      "var_x5 = 0.0\n"
     ]
    }
   ],
   "source": [
    "var_names = ['x1', 'x2', 'x3', 'x4', 'x5']\n",
    "objective = {'x1': -2,\n",
    "             'x2': 4,\n",
    "             'x3': 0,\n",
    "             'x4': 1,\n",
    "             'x5': -3,\n",
    "             }\n",
    "const1 = {'x1': -3,\n",
    "          'x2': 0,\n",
    "          'x3': 1,\n",
    "          'x4': 0,\n",
    "          'x5': 5,\n",
    "          }\n",
    "const2 = {'x1': 2,\n",
    "          'x2': -2,\n",
    "          'x3': 0,\n",
    "          'x4': -3,\n",
    "          'x5': 0,\n",
    "          }\n",
    "const3 = {'x1': 4,\n",
    "          'x2': -2,\n",
    "          'x3': 1,\n",
    "          'x4': 0,\n",
    "          'x5': -3,\n",
    "          }\n",
    "const4 = {'x1': 0,\n",
    "          'x2': -1,\n",
    "          'x3': 0,\n",
    "          'x4': 3,\n",
    "          'x5': 2,\n",
    "          }\n",
    "\n",
    "problem = LpProblem(\"problem\", LpMaximize)\n",
    "\n",
    "lp_vars = LpVariable.dicts(\"var\", var_names, 0, None, )\n",
    "\n",
    "problem += lpSum([objective[i]*lp_vars[i] for i in var_names]), \"objective\"\n",
    "print(\"problem.objective:\", problem.objective)\n",
    "\n",
    "problem += lpSum([const1[i]*lp_vars[i] for i in var_names]) <= -16, \"const1\"\n",
    "problem += lpSum([const2[i]*lp_vars[i] for i in var_names]) <= -21, \"const2\"\n",
    "problem += lpSum([const3[i]*lp_vars[i] for i in var_names]) == 18, \"const3\"\n",
    "problem += lpSum([const4[i]*lp_vars[i] for i in var_names]) == 9, \"const4\"\n",
    "\n",
    "print(\"problem.constraints: \", problem.constraints)\n",
    "\n",
    "problem.solve()\n",
    "\n",
    "showPulpResult(problem)"
   ]
  },
  {
   "cell_type": "code",
   "execution_count": null,
   "metadata": {},
   "outputs": [],
   "source": []
  },
  {
   "cell_type": "code",
   "execution_count": null,
   "metadata": {},
   "outputs": [],
   "source": []
  },
  {
   "cell_type": "code",
   "execution_count": null,
   "metadata": {},
   "outputs": [],
   "source": []
  },
  {
   "cell_type": "markdown",
   "metadata": {},
   "source": [
    "## 栄養問題、メニュー計画,ダイエット問題"
   ]
  },
  {
   "cell_type": "markdown",
   "metadata": {},
   "source": [
    "http://www.cs.tsukuba.ac.jp/~takahito/sys_math/part1.pdf\n",
    "\n",
    "\n",
    "- min: sum of price\n",
    "  - 50*x1 + 65*x2\n",
    "- var\n",
    "  - x1: milk, 1unit:1/2, 50yen\n",
    "  - x2: cereal, 1unit:1/4, 65yen\n",
    "- const\n",
    "  - 3*x1 + 2*x2 >= 9\n",
    "  - 1/15*x1 * 2/15*x2 >= 1/3\n",
    "  - 1/6*x1 >=1/4\n",
    "  - ratio\n",
    "    - x2/x1 >=1/3\n",
    "    - x2/x1 <= 2\n",
    "  - x1 >0\n",
    "  - x2 >0\n",
    "  \n",
    "\n",
    "\n"
   ]
  },
  {
   "cell_type": "markdown",
   "metadata": {},
   "source": [
    "### pulp"
   ]
  },
  {
   "cell_type": "code",
   "execution_count": 7,
   "metadata": {},
   "outputs": [
    {
     "name": "stdout",
     "output_type": "stream",
     "text": [
      "result status:  Optimal\n",
      "best objective:  197.5\n",
      "x1 = 2.0\n",
      "x2 = 1.5\n"
     ]
    }
   ],
   "source": [
    "problem = LpProblem('lp1', LpMinimize)\n",
    "x1 = LpVariable('x1', 0, 999, LpContinuous)\n",
    "x2 = LpVariable('x2', 0, 999, LpContinuous)\n",
    "\n",
    "problem += (50*x1 + 65*x2, 'Objective')\n",
    "problem += (3*x1 + 2*x2 >= 9, 'Constraint_1')\n",
    "problem += (1/15*x1 + 2/15*x2 >= 1/3, 'Constraint_2')\n",
    "problem += (1/6*x1 >= 1/4, 'Constraint_3')\n",
    "problem += (3*x2 >= x1, 'Constraint_4')\n",
    "problem += (x2 <= 2*x1, 'Constraint_5')\n",
    "\n",
    "result_status = problem.solve()\n",
    "showPulpResult(problem)\n",
    "#print('result_status:', result_status, LpStatus[result_status])\n",
    "#print('objective value', value(problem.objective))\n",
    "#print('x1, x2:', value(x1), value(x2))"
   ]
  },
  {
   "cell_type": "code",
   "execution_count": null,
   "metadata": {},
   "outputs": [],
   "source": []
  },
  {
   "cell_type": "markdown",
   "metadata": {},
   "source": [
    "### mypulp(gurobi) **todo**"
   ]
  },
  {
   "cell_type": "code",
   "execution_count": null,
   "metadata": {},
   "outputs": [],
   "source": []
  },
  {
   "cell_type": "code",
   "execution_count": null,
   "metadata": {},
   "outputs": [],
   "source": []
  },
  {
   "cell_type": "markdown",
   "metadata": {},
   "source": [
    "## 配合問題\n",
    "\n",
    "http://www.msi.co.jp/nuopt/docs/v20/examples/html/02-01-00.html\n",
    "\n",
    "配合問題の例として，ここでは特定の組成を持つ合金を生成する問題を扱います．この他にも薬剤の調合や必要な栄養素を含む献立を考える**ダイエット問題など配合問題として扱えるもの**は多岐にわたります．\n"
   ]
  },
  {
   "cell_type": "markdown",
   "metadata": {},
   "source": [
    "### pulp"
   ]
  },
  {
   "cell_type": "code",
   "execution_count": 8,
   "metadata": {},
   "outputs": [
    {
     "name": "stdout",
     "output_type": "stream",
     "text": [
      "7.3*material_x1 + 6.9*material_x2 + 7.3*material_x3 + 7.5*material_x4 + 7.6*material_x5 + 6.0*material_x6 + 5.8*material_x7 + 4.3*material_x8 + 4.1*material_x9\n",
      "result status:  Optimal\n",
      "best objective:  4.98\n",
      "material_x1 = 0.0\n",
      "material_x2 = 0.0\n",
      "material_x3 = 0.0\n",
      "material_x4 = 0.0\n",
      "material_x5 = 0.0\n",
      "material_x6 = 0.4\n",
      "material_x7 = 0.0\n",
      "material_x8 = 0.6\n",
      "material_x9 = 0.0\n"
     ]
    }
   ],
   "source": [
    "var_names = ['x1', 'x2', 'x3', 'x4', 'x5', 'x6', 'x7', 'x8', 'x9']\n",
    "objective = {'x1': 7.3, 'x2': 6.9, 'x3': 7.3, 'x4': 7.5, 'x5': 7.6,\n",
    "             'x6': 6.0, 'x7': 5.8, 'x8': 4.3, 'x9': 4.1}\n",
    "\n",
    "lead = {'x1': 0.20, 'x2': 0.50, 'x3': 0.30, 'x4': 0.30, 'x5': 0.30,\n",
    "        'x6': 0.60, 'x7': 0.40, 'x8': 0.10, 'x9': 0.10}\n",
    "zinc = {'x1': 0.30, 'x2': 0.40, 'x3': 0.20, 'x4': 0.40, 'x5': 0.30,\n",
    "        'x6': 0.30, 'x7': 0.50, 'x8': 0.30, 'x9': 0.10}\n",
    "tin = {'x1': 0.50, 'x2': 0.10, 'x3': 0.50, 'x4': 0.30, 'x5': 0.40,\n",
    "       'x6': 0.10, 'x7': 0.10, 'x8': 0.60, 'x9': 0.80}\n",
    "\n",
    "problem = LpProblem(\"配合問題\", LpMinimize)\n",
    "\n",
    "lpvars = LpVariable.dicts(\"material\", var_names, 0, 1, LpContinuous)\n",
    "\n",
    "problem += lpSum([objective[i]*lpvars[i] for i in var_names]), \"objective\"\n",
    "print(problem.objective)\n",
    "\n",
    "problem += lpSum([lpvars[i] for i in var_names]) == 1, \"sum of material ratio\"\n",
    "problem += lpSum([lead[i]*lpvars[i]\n",
    "                  for i in var_names]) == 0.3, \"lead constraint\"\n",
    "problem += lpSum([zinc[i]*lpvars[i]\n",
    "                  for i in var_names]) == 0.3, \"zinc constraint\"\n",
    "problem += lpSum([tin[i]*lpvars[i]\n",
    "                  for i in var_names]) == 0.4, \"tin constraint\"\n",
    "\n",
    "problem.solve()\n",
    "\n",
    "showPulpResult(problem)"
   ]
  },
  {
   "cell_type": "code",
   "execution_count": null,
   "metadata": {},
   "outputs": [],
   "source": []
  },
  {
   "cell_type": "code",
   "execution_count": null,
   "metadata": {},
   "outputs": [],
   "source": []
  },
  {
   "cell_type": "code",
   "execution_count": null,
   "metadata": {},
   "outputs": [],
   "source": []
  },
  {
   "cell_type": "code",
   "execution_count": null,
   "metadata": {},
   "outputs": [],
   "source": []
  },
  {
   "cell_type": "markdown",
   "metadata": {},
   "source": [
    "## 生産計画問題"
   ]
  },
  {
   "cell_type": "markdown",
   "metadata": {},
   "source": [
    "### http://www.me.titech.ac.jp/~mizu_lab/text/PDF-LP/LP1-problem.pdf\n",
    "\n",
    "問題1.1(生産計画問題) A社では，3種類の原料(原料１，２，３)を使って，2種類の製品(製品１，２)を生産している．製品１を1トン生産するには，表1にあるように原料１，２，３がそれぞれ1トン，4トン，3トン必要であり，製品２を1トン生産するには，原料１，２，３がそれぞれ2トン，4トン，1トン必要である．1日の原料１，２，３の使用可能量は，それぞれ80トン，180トン，90トンである．また，製品１，２を生産したときの1トンあたりの利益はそれぞれ5万円，4万円である．1日あたりの利益を最大にするには，製品１，２をそれぞれ何トンずつ生産すればよいか．\n",
    "\n",
    "- var: product1, 2: x1, x2: integer\n",
    "- objective: max: 5*x1 + 4*x2\n",
    "- constraint\n",
    "  - x1 + 2*x2 <= 80\n",
    "  - 4*x1 + 4*x2<= 180\n",
    "  - 3*x1 + x2 <= 90\n",
    "  - x1 >= 0\n",
    "  - x2 >= 0 "
   ]
  },
  {
   "cell_type": "markdown",
   "metadata": {},
   "source": [
    "#### pulp"
   ]
  },
  {
   "cell_type": "code",
   "execution_count": 9,
   "metadata": {
    "scrolled": false
   },
   "outputs": [
    {
     "name": "stdout",
     "output_type": "stream",
     "text": [
      "result status:  Optimal\n",
      "best objective:  202.5\n",
      "product1 = 22.5\n",
      "product2 = 22.5\n"
     ]
    }
   ],
   "source": [
    "problem = LpProblem('productionPlanning1', LpMaximize)\n",
    "#x1 = LpVariable('product1', 0, 999, LpInteger)\n",
    "#x2 = LpVariable('product2', 0, 999, LpInteger)\n",
    "x1 = LpVariable('product1', 0, 999, LpContinuous)\n",
    "x2 = LpVariable('product2', 0, 999, LpContinuous)\n",
    "\n",
    "problem += (5*x1 + 4*x2, 'Objective')\n",
    "problem += (x1 + 2*x2 <= 80, 'Constraint_A')\n",
    "problem += (4*x1 + 4*x2 <= 180, 'Constraint_B')\n",
    "problem += (3*x1 + x2 <= 90, 'Constraints_C')\n",
    "\n",
    "solver = solvers.PULP_CBC_CMD()\n",
    "result_status = problem.solve(solver)\n",
    "showPulpResult(problem)\n",
    "#print(\"result_status: \", result_status, LpStatus[result_status])\n",
    "#print(\"best objective val: \", value(problem.objective))\n",
    "#print(\"best variables: x1, x2, : \", value(x1), value(x2))"
   ]
  },
  {
   "cell_type": "code",
   "execution_count": null,
   "metadata": {},
   "outputs": [],
   "source": []
  },
  {
   "cell_type": "markdown",
   "metadata": {},
   "source": [
    "### https://www.slideshare.net/shunjiumetani/ss-17197023"
   ]
  },
  {
   "cell_type": "markdown",
   "metadata": {},
   "source": [
    "#### pulp"
   ]
  },
  {
   "cell_type": "code",
   "execution_count": 10,
   "metadata": {},
   "outputs": [
    {
     "name": "stdout",
     "output_type": "stream",
     "text": [
      "{'red': var_wine_red, 'white': var_wine_white, 'rose': var_wine_rose}\n",
      "objective:  3*var_wine_red + 2*var_wine_rose + 4*var_wine_white\n",
      "constraints:  OrderedDict([('karubene', 2*var_wine_red + -4 <= 0), ('meruro', 1*var_wine_red + 2*var_wine_rose + -8 <= 0), ('semiyon', 1*var_wine_rose + 3*var_wine_white + -6 <= 0)])\n",
      "result status:  Optimal\n",
      "best objective:  16.0\n",
      "var_wine_red = 2.0\n",
      "var_wine_rose = 3.0\n",
      "var_wine_white = 1.0\n"
     ]
    }
   ],
   "source": [
    "var_names = ['red', 'white', 'rose']\n",
    "gains = {'red': 3,\n",
    "         'white': 4,\n",
    "         'rose': 2}\n",
    "\n",
    "karubene = {'red': 2,\n",
    "            'white': 0,\n",
    "            'rose': 0}\n",
    "\n",
    "meruro = {'red': 1,\n",
    "          'white': 0,\n",
    "          'rose': 2}\n",
    "\n",
    "semiyon = {'red': 0,\n",
    "           'white': 3,\n",
    "           'rose': 1}\n",
    "\n",
    "problem = LpProblem(\"wine problem\", LpMaximize)\n",
    "\n",
    "lpVars = LpVariable.dict(\"var_wine\", var_names)\n",
    "print(lpVars)\n",
    "\n",
    "problem += lpSum([gains[i]*lpVars[i] for i in var_names]), \"objective\"\n",
    "print('objective: ', problem.objective)\n",
    "\n",
    "problem += lpSum([karubene[i]*lpVars[i] for i in var_names]) <= 4, \"karubene\"\n",
    "problem += lpSum([meruro[i]*lpVars[i] for i in var_names]) <= 8, \"meruro\"\n",
    "problem += lpSum([semiyon[i]*lpVars[i] for i in var_names]) <= 6, \"semiyon\"\n",
    "\n",
    "print('constraints: ', problem.constraints)\n",
    "\n",
    "problem.solve()\n",
    "\n",
    "showPulpResult(problem)"
   ]
  },
  {
   "cell_type": "code",
   "execution_count": null,
   "metadata": {},
   "outputs": [],
   "source": []
  },
  {
   "cell_type": "markdown",
   "metadata": {},
   "source": [
    "## 輸送計画、輸送問題\n",
    "\n"
   ]
  },
  {
   "cell_type": "markdown",
   "metadata": {},
   "source": [
    "### http://www.msi.co.jp/nuopt/docs/v20/examples/html/02-02-00.html\n"
   ]
  },
  {
   "cell_type": "markdown",
   "metadata": {},
   "source": [
    "#### pulp"
   ]
  },
  {
   "cell_type": "code",
   "execution_count": 11,
   "metadata": {},
   "outputs": [
    {
     "name": "stdout",
     "output_type": "stream",
     "text": [
      "{'x1a': transport_x1a, 'x1b': transport_x1b, 'x1c': transport_x1c, 'x2a': transport_x2a, 'x2b': transport_x2b, 'x2c': transport_x2c}\n",
      "objective:  3.4*transport_x1a + 2.2*transport_x1b + 2.9*transport_x1c + 3.4*transport_x2a + 2.4*transport_x2b + 2.5*transport_x2c\n",
      "constraints:  OrderedDict([('factory1', 1*transport_x1a + 1*transport_x1b + 1*transport_x1c + -250 <= 0), ('factory2', 1*transport_x2a + 1*transport_x2b + 1*transport_x2c + -450 <= 0), ('shopA', 1*transport_x1a + 1*transport_x2a + -200 = 0), ('shopB', 1*transport_x1b + 1*transport_x2b + -200 = 0), ('shopC', 1*transport_x1c + 1*transport_x2c + -200 = 0)])\n",
      "result status:  Optimal\n",
      "best objective:  1620.0\n",
      "transport_x1a = 0.0\n",
      "transport_x1b = 200.0\n",
      "transport_x1c = 0.0\n",
      "transport_x2a = 200.0\n",
      "transport_x2b = 0.0\n",
      "transport_x2c = 200.0\n"
     ]
    }
   ],
   "source": [
    "var_names = ['x1a', 'x1b', 'x1c', 'x2a', 'x2b', 'x2c']\n",
    "\n",
    "costs = {'x1a': 3.4, 'x1b': 2.2, 'x1c': 2.9,\n",
    "         'x2a': 3.4, 'x2b': 2.4, 'x2c': 2.5}\n",
    "# costs = [[3.4, 2.2, 2.9],\n",
    "#         [3.4, 2.4, 2.5]]\n",
    "factory1 = {'x1a': 1, 'x1b': 1, 'x1c': 1,\n",
    "            'x2a': 0, 'x2b': 0, 'x2c': 0}\n",
    "factory2 = {'x1a': 0, 'x1b': 0, 'x1c': 0,\n",
    "            'x2a': 1, 'x2b': 1, 'x2c': 1}\n",
    "shopA = {'x1a': 1, 'x1b': 0, 'x1c': 0,\n",
    "         'x2a': 1, 'x2b': 0, 'x2c': 0}\n",
    "shopB = {'x1a': 0, 'x1b': 1, 'x1c': 0,\n",
    "         'x2a': 0, 'x2b': 1, 'x2c': 0}\n",
    "shopC = {'x1a': 0, 'x1b': 0, 'x1c': 1,\n",
    "         'x2a': 0, 'x2b': 0, 'x2c': 1}\n",
    "\n",
    "problem = LpProblem(\"transport problem\", LpMinimize)\n",
    "\n",
    "lpVars = LpVariable.dict(\"transport\", var_names, 0, None, LpContinuous)\n",
    "print(lpVars)\n",
    "\n",
    "problem += lpSum([costs[i]*lpVars[i] for i in var_names]), 'sum of costs'\n",
    "print(\"objective: \", problem.objective)\n",
    "\n",
    "problem += lpSum([factory1[i]*lpVars[i] for i in var_names]) <= 250, 'factory1'\n",
    "problem += lpSum([factory2[i]*lpVars[i] for i in var_names]) <= 450, 'factory2'\n",
    "problem += lpSum([shopA[i]*lpVars[i] for i in var_names]) == 200, 'shopA'\n",
    "problem += lpSum([shopB[i]*lpVars[i] for i in var_names]) == 200, 'shopB'\n",
    "problem += lpSum([shopC[i]*lpVars[i] for i in var_names]) == 200, 'shopC'\n",
    "print(\"constraints: \", problem.constraints)\n",
    "\n",
    "problem.solve()\n",
    "\n",
    "showPulpResult(problem)"
   ]
  },
  {
   "cell_type": "code",
   "execution_count": null,
   "metadata": {},
   "outputs": [],
   "source": []
  },
  {
   "cell_type": "code",
   "execution_count": null,
   "metadata": {},
   "outputs": [],
   "source": []
  },
  {
   "cell_type": "markdown",
   "metadata": {},
   "source": [
    "### http://www.wakayama-u.ac.jp/~makino/lectures/eip/lp\n"
   ]
  },
  {
   "cell_type": "markdown",
   "metadata": {},
   "source": [
    "#### pulp"
   ]
  },
  {
   "cell_type": "code",
   "execution_count": 12,
   "metadata": {},
   "outputs": [
    {
     "name": "stdout",
     "output_type": "stream",
     "text": [
      "['x11', 'x12', 'x13', 'x14', 'x15', 'x21', 'x22', 'x23', 'x24', 'x25', 'x31', 'x32', 'x33', 'x34', 'x35']\n",
      "objective:  6*transport_x11 + 4*transport_x12 + 6*transport_x13 + 8*transport_x14 + 2*transport_x15 + 8*transport_x21 + 2*transport_x22 + 4*transport_x23 + 8*transport_x24 + 4*transport_x25 + 2*transport_x31 + 10*transport_x33 + 6*transport_x34 + 4*transport_x35\n",
      "constraints:  OrderedDict([('factory1', 1*transport_x11 + 1*transport_x12 + 1*transport_x13 + 1*transport_x14 + 1*transport_x15 + -240 <= 0), ('factory2', 1*transport_x21 + 1*transport_x22 + 1*transport_x23 + 1*transport_x24 + 1*transport_x25 + -250 <= 0), ('factory3', 1*transport_x31 + 1*transport_x32 + 1*transport_x33 + 1*transport_x34 + 1*transport_x35 + -150 <= 0), ('shop1', 1*transport_x11 + 1*transport_x21 + 1*transport_x31 + -200 = 0), ('shop2', 1*transport_x12 + 1*transport_x22 + 1*transport_x32 + -120 = 0), ('shop3', 1*transport_x13 + 1*transport_x23 + 1*transport_x33 + -80 = 0), ('shop4', 1*transport_x14 + 1*transport_x24 + 1*transport_x34 + -150 = 0), ('shop5', 1*transport_x15 + 1*transport_x25 + 1*transport_x35 + -50 = 0)])\n",
      "result status:  Optimal\n",
      "best objective:  2460.0\n",
      "transport_x11 = 50.0\n",
      "transport_x12 = 0.0\n",
      "transport_x13 = 0.0\n",
      "transport_x14 = 140.0\n",
      "transport_x15 = 50.0\n",
      "transport_x21 = 0.0\n",
      "transport_x22 = 120.0\n",
      "transport_x23 = 80.0\n",
      "transport_x24 = 10.0\n",
      "transport_x25 = 0.0\n",
      "transport_x31 = 150.0\n",
      "transport_x32 = 0.0\n",
      "transport_x33 = 0.0\n",
      "transport_x34 = 0.0\n",
      "transport_x35 = 0.0\n"
     ]
    }
   ],
   "source": [
    "# var_names = ['x11', 'x12', 'x13', 'x14', 'x15',\n",
    "#             'x21', 'x22', 'x23', 'x24', 'x25',\n",
    "#             'x31', 'x32', 'x33', 'x34', 'x35']\n",
    "var_names = ['x'+str(i)+str(j) for i in range(1, 4) for j in range(1, 6)]\n",
    "print(var_names)\n",
    "costs = [6, 4, 6, 8, 2,\n",
    "         8, 2, 4, 8, 4,\n",
    "         2, 0, 10, 6, 4]\n",
    "\n",
    "problem = LpProblem(\"transport problem\", LpMinimize)\n",
    "\n",
    "lpVars = LpVariable.dict(\"transport\", var_names, 0, None, LpContinuous)\n",
    "\n",
    "problem += lpSum([costs[i]*lpVars[var_names[i]]\n",
    "                  for i in range(len(var_names))]), 'sum of costs'\n",
    "print(\"objective: \", problem.objective)\n",
    "\n",
    "\n",
    "problem += lpSum([lpVars[i] for i in var_names[:5]]) <= 240, 'factory1'\n",
    "problem += lpSum([lpVars[i] for i in var_names[5:10]]) <= 250, 'factory2'\n",
    "problem += lpSum([lpVars[i] for i in var_names[10:]]) <= 150, 'factory3'\n",
    "\n",
    "problem += lpSum([lpVars[i] for i in ['x11', 'x21', 'x31']]) == 200, 'shop1'\n",
    "problem += lpSum([lpVars[i] for i in ['x12', 'x22', 'x32']]) == 120, 'shop2'\n",
    "problem += lpSum([lpVars[i] for i in ['x13', 'x23', 'x33']]) == 80, 'shop3'\n",
    "problem += lpSum([lpVars[i] for i in ['x14', 'x24', 'x34']]) == 150, 'shop4'\n",
    "problem += lpSum([lpVars[i] for i in ['x15', 'x25', 'x35']]) == 50, 'shop5'\n",
    "print(\"constraints: \", problem.constraints)\n",
    "\n",
    "problem.solve()\n",
    "\n",
    "showPulpResult(problem)"
   ]
  },
  {
   "cell_type": "code",
   "execution_count": null,
   "metadata": {},
   "outputs": [],
   "source": []
  },
  {
   "cell_type": "code",
   "execution_count": null,
   "metadata": {},
   "outputs": [],
   "source": []
  },
  {
   "cell_type": "code",
   "execution_count": null,
   "metadata": {},
   "outputs": [],
   "source": []
  },
  {
   "cell_type": "markdown",
   "metadata": {},
   "source": [
    "## 施設配置問題（p-メディアン）\n",
    "\n",
    "https://qiita.com/makora9143/items/9e90a533c95c24b85a94\n",
    "\n",
    "施設候補の中からp個を選び、需要点から施設への距離の総和を最小化する問題\n",
    "\n",
    "例\n",
    "\n",
    "避難所の候補から4カ所の避難所を選び、住民から避難所への移動距離の総和を最小する (p == 4)\n",
    "\n",
    "xijxij を住民jが施設iに避難するかどうかを、yiyiを施設iを選ぶかどうかを表すとする(距離はdijdij)\n",
    "\n",
    "### pulp"
   ]
  },
  {
   "cell_type": "code",
   "execution_count": null,
   "metadata": {},
   "outputs": [],
   "source": []
  },
  {
   "cell_type": "code",
   "execution_count": null,
   "metadata": {},
   "outputs": [],
   "source": []
  },
  {
   "cell_type": "code",
   "execution_count": 8,
   "metadata": {
    "scrolled": true
   },
   "outputs": [
    {
     "data": {
      "text/plain": [
       "9"
      ]
     },
     "execution_count": 8,
     "metadata": {},
     "output_type": "execute_result"
    }
   ],
   "source": [
    "len(Boxes)"
   ]
  },
  {
   "cell_type": "code",
   "execution_count": null,
   "metadata": {},
   "outputs": [],
   "source": []
  },
  {
   "cell_type": "code",
   "execution_count": null,
   "metadata": {},
   "outputs": [],
   "source": []
  },
  {
   "cell_type": "code",
   "execution_count": null,
   "metadata": {},
   "outputs": [],
   "source": []
  },
  {
   "cell_type": "code",
   "execution_count": null,
   "metadata": {},
   "outputs": [],
   "source": []
  },
  {
   "cell_type": "code",
   "execution_count": null,
   "metadata": {},
   "outputs": [],
   "source": []
  },
  {
   "cell_type": "code",
   "execution_count": null,
   "metadata": {},
   "outputs": [],
   "source": []
  }
 ],
 "metadata": {
  "kernelspec": {
   "display_name": "Python 3",
   "language": "python",
   "name": "python3"
  },
  "language_info": {
   "codemirror_mode": {
    "name": "ipython",
    "version": 3
   },
   "file_extension": ".py",
   "mimetype": "text/x-python",
   "name": "python",
   "nbconvert_exporter": "python",
   "pygments_lexer": "ipython3",
   "version": "3.6.5"
  },
  "toc": {
   "base_numbering": 1,
   "nav_menu": {
    "height": "112px",
    "width": "257px"
   },
   "number_sections": true,
   "sideBar": true,
   "skip_h1_title": false,
   "title_cell": "Table of Contents",
   "title_sidebar": "Contents",
   "toc_cell": true,
   "toc_position": {
    "height": "calc(100% - 180px)",
    "left": "10px",
    "top": "150px",
    "width": "165px"
   },
   "toc_section_display": true,
   "toc_window_display": true
  },
  "varInspector": {
   "cols": {
    "lenName": 16,
    "lenType": 16,
    "lenVar": 40
   },
   "kernels_config": {
    "python": {
     "delete_cmd_postfix": "",
     "delete_cmd_prefix": "del ",
     "library": "var_list.py",
     "varRefreshCmd": "print(var_dic_list())"
    },
    "r": {
     "delete_cmd_postfix": ") ",
     "delete_cmd_prefix": "rm(",
     "library": "var_list.r",
     "varRefreshCmd": "cat(var_dic_list()) "
    }
   },
   "types_to_exclude": [
    "module",
    "function",
    "builtin_function_or_method",
    "instance",
    "_Feature"
   ],
   "window_display": false
  }
 },
 "nbformat": 4,
 "nbformat_minor": 2
}
