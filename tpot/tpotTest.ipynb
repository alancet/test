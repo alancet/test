{
 "cells": [
  {
   "cell_type": "markdown",
   "metadata": {},
   "source": [
    "https://github.com/EpistasisLab/tpot"
   ]
  },
  {
   "cell_type": "code",
   "execution_count": 3,
   "metadata": {},
   "outputs": [],
   "source": [
    "%matplotlib inline\n",
    "\n",
    "from tpot import TPOTClassifier\n",
    "from sklearn.datasets import load_digits\n",
    "from sklearn.model_selection import train_test_split\n",
    "\n",
    "digits = load_digits()\n",
    "X_train, X_test, y_train, y_test = train_test_split(digits.data, digits.target,\n",
    "                                                   train_size=0.75, test_size=0.25)"
   ]
  },
  {
   "cell_type": "code",
   "execution_count": 5,
   "metadata": {},
   "outputs": [
    {
     "name": "stderr",
     "output_type": "stream",
     "text": [
      "\r",
      "Optimization Progress:   0%|          | 0/120 [00:00<?, ?pipeline/s]\r",
      "Optimization Progress:   1%|          | 1/120 [00:00<01:44,  1.14pipeline/s]\r",
      "Optimization Progress:   2%|▎         | 3/120 [00:03<01:59,  1.02s/pipeline]\r",
      "Optimization Progress:   3%|▎         | 4/120 [00:11<06:02,  3.13s/pipeline]\r",
      "Optimization Progress:   4%|▍         | 5/120 [00:16<07:11,  3.75s/pipeline]\r",
      "Optimization Progress:   5%|▌         | 6/120 [00:18<06:12,  3.27s/pipeline]\r",
      "Optimization Progress:   6%|▌         | 7/120 [00:24<07:17,  3.87s/pipeline]\r",
      "Optimization Progress:   7%|▋         | 8/120 [00:24<05:09,  2.76s/pipeline]\r",
      "Optimization Progress:   8%|▊         | 9/120 [00:29<06:15,  3.38s/pipeline]\r",
      "Optimization Progress:   8%|▊         | 10/120 [00:31<05:37,  3.07s/pipeline]\r",
      "Optimization Progress:  10%|█         | 12/120 [00:33<04:25,  2.46s/pipeline]\r",
      "Optimization Progress:  11%|█         | 13/120 [00:38<05:24,  3.03s/pipeline]\r",
      "Optimization Progress:  13%|█▎        | 16/120 [00:39<03:52,  2.23s/pipeline]\r",
      "Optimization Progress:  14%|█▍        | 17/120 [00:44<05:20,  3.11s/pipeline]\r",
      "Optimization Progress:  15%|█▌        | 18/120 [00:51<07:24,  4.35s/pipeline]\r",
      "Optimization Progress:  17%|█▋        | 20/120 [01:14<10:41,  6.41s/pipeline]\r",
      "Optimization Progress:  18%|█▊        | 21/120 [01:14<07:40,  4.65s/pipeline]\r",
      "Optimization Progress:  18%|█▊        | 22/120 [01:16<06:19,  3.87s/pipeline]\r",
      "Optimization Progress:  19%|█▉        | 23/120 [01:21<06:35,  4.08s/pipeline]\r",
      "Optimization Progress:  20%|██        | 24/120 [01:21<04:49,  3.02s/pipeline]\r",
      "Optimization Progress:  22%|██▏       | 26/120 [01:27<04:38,  2.96s/pipeline]\r",
      "Optimization Progress:  23%|██▎       | 28/120 [01:27<03:14,  2.11s/pipeline]\r",
      "Optimization Progress:  24%|██▍       | 29/120 [01:28<02:39,  1.75s/pipeline]\r",
      "Optimization Progress:  26%|██▌       | 31/120 [01:28<01:51,  1.25s/pipeline]\r",
      "Optimization Progress:  27%|██▋       | 32/120 [01:28<01:21,  1.08pipeline/s]\r",
      "Optimization Progress:  30%|███       | 36/120 [01:29<00:56,  1.50pipeline/s]\r",
      "Optimization Progress:  32%|███▏      | 38/120 [01:34<01:42,  1.25s/pipeline]\r",
      "Optimization Progress:  32%|███▎      | 39/120 [01:38<02:58,  2.20s/pipeline]\r",
      "Optimization Progress:  33%|███▎      | 40/120 [01:39<02:20,  1.76s/pipeline]\r",
      "                                                                             \r",
      "\r",
      "Optimization Progress:  33%|███▎      | 40/120 [01:39<02:20,  1.76s/pipeline]"
     ]
    },
    {
     "name": "stdout",
     "output_type": "stream",
     "text": [
      "Generation 1 - Current best internal CV score: 0.9718131290471319\n"
     ]
    },
    {
     "name": "stderr",
     "output_type": "stream",
     "text": [
      "\r",
      "Optimization Progress:  34%|███▍      | 41/120 [01:40<02:03,  1.56s/pipeline]\r",
      "Optimization Progress:  35%|███▌      | 42/120 [02:03<10:10,  7.83s/pipeline]\r",
      "Optimization Progress:  36%|███▌      | 43/120 [02:06<08:11,  6.38s/pipeline]\r",
      "Optimization Progress:  38%|███▊      | 45/120 [02:11<06:35,  5.28s/pipeline]\r",
      "Optimization Progress:  38%|███▊      | 46/120 [02:11<04:36,  3.74s/pipeline]\r",
      "Optimization Progress:  39%|███▉      | 47/120 [02:16<05:00,  4.11s/pipeline]\r",
      "Optimization Progress:  40%|████      | 48/120 [02:17<03:45,  3.13s/pipeline]\r",
      "Optimization Progress:  41%|████      | 49/120 [02:17<02:42,  2.29s/pipeline]\r",
      "Optimization Progress:  42%|████▏     | 50/120 [02:20<02:50,  2.44s/pipeline]\r",
      "Optimization Progress:  42%|████▎     | 51/120 [02:33<06:29,  5.64s/pipeline]\r",
      "Optimization Progress:  43%|████▎     | 52/120 [02:35<05:06,  4.51s/pipeline]\r",
      "Optimization Progress:  44%|████▍     | 53/120 [05:17<57:55, 51.87s/pipeline]\r",
      "Optimization Progress:  45%|████▌     | 54/120 [05:26<42:45, 38.87s/pipeline]\r",
      "Optimization Progress:  46%|████▌     | 55/120 [05:42<34:32, 31.88s/pipeline]\r",
      "Optimization Progress:  47%|████▋     | 56/120 [05:42<24:02, 22.53s/pipeline]\r",
      "Optimization Progress:  48%|████▊     | 57/120 [05:43<16:48, 16.01s/pipeline]\r",
      "Optimization Progress:  48%|████▊     | 58/120 [05:47<12:56, 12.53s/pipeline]\r",
      "Optimization Progress:  49%|████▉     | 59/120 [05:48<09:11,  9.04s/pipeline]\r",
      "Optimization Progress:  50%|█████     | 60/120 [05:49<06:39,  6.66s/pipeline]\r",
      "                                                                             \r",
      "\r",
      "Optimization Progress:  50%|█████     | 60/120 [05:49<06:39,  6.66s/pipeline]"
     ]
    },
    {
     "name": "stdout",
     "output_type": "stream",
     "text": [
      "Generation 2 - Current best internal CV score: 0.9769741959616638\n"
     ]
    },
    {
     "name": "stderr",
     "output_type": "stream",
     "text": [
      "\r",
      "Optimization Progress:  51%|█████     | 61/120 [05:54<05:48,  5.90s/pipeline]\r",
      "Optimization Progress:  52%|█████▏    | 62/120 [06:00<05:49,  6.03s/pipeline]\r",
      "Optimization Progress:  52%|█████▎    | 63/120 [06:01<04:16,  4.50s/pipeline]\r",
      "Optimization Progress:  53%|█████▎    | 64/120 [06:01<02:59,  3.20s/pipeline]\r",
      "Optimization Progress:  54%|█████▍    | 65/120 [06:03<02:34,  2.81s/pipeline]\r",
      "Optimization Progress:  55%|█████▌    | 66/120 [06:03<01:49,  2.02s/pipeline]\r",
      "Optimization Progress:  56%|█████▌    | 67/120 [06:07<02:17,  2.60s/pipeline]\r",
      "Optimization Progress:  57%|█████▋    | 68/120 [06:12<02:45,  3.19s/pipeline]\r",
      "Optimization Progress:  57%|█████▊    | 69/120 [06:24<05:05,  5.98s/pipeline]\r",
      "Optimization Progress:  58%|█████▊    | 70/120 [06:25<03:41,  4.42s/pipeline]\r",
      "Optimization Progress:  59%|█████▉    | 71/120 [06:26<02:44,  3.36s/pipeline]\r",
      "Optimization Progress:  60%|██████    | 72/120 [06:26<02:01,  2.52s/pipeline]\r",
      "Optimization Progress:  61%|██████    | 73/120 [06:37<03:57,  5.06s/pipeline]\r",
      "Optimization Progress:  62%|██████▏   | 74/120 [06:42<03:46,  4.92s/pipeline]\r",
      "Optimization Progress:  62%|██████▎   | 75/120 [06:48<03:53,  5.19s/pipeline]\r",
      "Optimization Progress:  63%|██████▎   | 76/120 [06:49<02:49,  3.86s/pipeline]\r",
      "Optimization Progress:  64%|██████▍   | 77/120 [06:58<04:00,  5.58s/pipeline]\r",
      "Optimization Progress:  65%|██████▌   | 78/120 [06:59<02:53,  4.13s/pipeline]\r",
      "Optimization Progress:  66%|██████▌   | 79/120 [06:59<02:02,  3.00s/pipeline]\r",
      "Optimization Progress:  67%|██████▋   | 80/120 [07:01<01:46,  2.66s/pipeline]\r",
      "                                                                             \r",
      "\r",
      "Optimization Progress:  67%|██████▋   | 80/120 [07:01<01:46,  2.66s/pipeline]"
     ]
    },
    {
     "name": "stdout",
     "output_type": "stream",
     "text": [
      "Generation 3 - Current best internal CV score: 0.9769741959616638\n"
     ]
    },
    {
     "name": "stderr",
     "output_type": "stream",
     "text": [
      "\r",
      "Optimization Progress:  68%|██████▊   | 81/120 [07:02<01:27,  2.24s/pipeline]\r",
      "Optimization Progress:  68%|██████▊   | 82/120 [07:04<01:23,  2.19s/pipeline]\r",
      "Optimization Progress:  69%|██████▉   | 83/120 [07:10<01:56,  3.14s/pipeline]\r",
      "Optimization Progress:  70%|███████   | 84/120 [07:12<01:38,  2.72s/pipeline]\r",
      "Optimization Progress:  71%|███████   | 85/120 [07:13<01:21,  2.32s/pipeline]\r",
      "Optimization Progress:  72%|███████▏  | 86/120 [07:13<00:56,  1.67s/pipeline]\r",
      "Optimization Progress:  73%|███████▎  | 88/120 [07:14<00:41,  1.30s/pipeline]\r",
      "Optimization Progress:  74%|███████▍  | 89/120 [07:14<00:29,  1.04pipeline/s]\r",
      "Optimization Progress:  75%|███████▌  | 90/120 [07:17<00:43,  1.47s/pipeline]\r",
      "Optimization Progress:  76%|███████▌  | 91/120 [07:18<00:37,  1.31s/pipeline]\r",
      "Optimization Progress:  77%|███████▋  | 92/120 [08:01<06:32, 14.01s/pipeline]\r",
      "Optimization Progress:  78%|███████▊  | 93/120 [08:02<04:33, 10.14s/pipeline]\r",
      "Optimization Progress:  78%|███████▊  | 94/120 [08:03<03:10,  7.32s/pipeline]\r",
      "Optimization Progress:  79%|███████▉  | 95/120 [08:03<02:09,  5.17s/pipeline]\r",
      "Optimization Progress:  80%|████████  | 96/120 [08:04<01:33,  3.91s/pipeline]\r",
      "Optimization Progress:  81%|████████  | 97/120 [08:05<01:07,  2.94s/pipeline]\r",
      "Optimization Progress:  82%|████████▏ | 98/120 [08:06<00:51,  2.33s/pipeline]\r",
      "Optimization Progress:  82%|████████▎ | 99/120 [08:07<00:42,  2.01s/pipeline]\r",
      "Optimization Progress:  83%|████████▎ | 100/120 [08:08<00:35,  1.75s/pipeline]\r",
      "                                                                              \r",
      "\r",
      "Optimization Progress:  83%|████████▎ | 100/120 [08:08<00:35,  1.75s/pipeline]"
     ]
    },
    {
     "name": "stdout",
     "output_type": "stream",
     "text": [
      "Generation 4 - Current best internal CV score: 0.9769741959616638\n"
     ]
    },
    {
     "name": "stderr",
     "output_type": "stream",
     "text": [
      "\r",
      "Optimization Progress:  84%|████████▍ | 101/120 [08:10<00:32,  1.69s/pipeline]\r",
      "Optimization Progress:  85%|████████▌ | 102/120 [08:30<02:11,  7.28s/pipeline]\r",
      "Optimization Progress:  86%|████████▌ | 103/120 [08:30<01:27,  5.14s/pipeline]\r",
      "Optimization Progress:  87%|████████▋ | 104/120 [08:32<01:03,  3.95s/pipeline]\r",
      "Optimization Progress:  88%|████████▊ | 105/120 [08:32<00:45,  3.02s/pipeline]\r",
      "Optimization Progress:  88%|████████▊ | 106/120 [08:33<00:33,  2.37s/pipeline]\r",
      "Optimization Progress:  89%|████████▉ | 107/120 [08:34<00:24,  1.85s/pipeline]\r",
      "Optimization Progress:  90%|█████████ | 108/120 [08:34<00:16,  1.35s/pipeline]\r",
      "Optimization Progress:  91%|█████████ | 109/120 [08:35<00:12,  1.16s/pipeline]\r",
      "Optimization Progress:  92%|█████████▏| 110/120 [08:37<00:15,  1.60s/pipeline]\r",
      "Optimization Progress:  92%|█████████▎| 111/120 [08:38<00:12,  1.38s/pipeline]\r",
      "Optimization Progress:  93%|█████████▎| 112/120 [08:41<00:14,  1.87s/pipeline]\r",
      "Optimization Progress:  94%|█████████▍| 113/120 [08:43<00:13,  1.87s/pipeline]\r",
      "Optimization Progress:  95%|█████████▌| 114/120 [08:44<00:09,  1.59s/pipeline]\r",
      "Optimization Progress:  96%|█████████▌| 115/120 [08:45<00:06,  1.34s/pipeline]\r",
      "Optimization Progress:  97%|█████████▋| 116/120 [08:46<00:04,  1.17s/pipeline]\r",
      "Optimization Progress:  98%|█████████▊| 117/120 [08:46<00:03,  1.08s/pipeline]\r",
      "Optimization Progress:  99%|█████████▉| 119/120 [08:49<00:01,  1.13s/pipeline]\r",
      "Optimization Progress: 100%|██████████| 120/120 [08:51<00:00,  1.28s/pipeline]\r",
      "                                                                              \r",
      "\r",
      "Optimization Progress: 100%|██████████| 120/120 [08:51<00:00,  1.28s/pipeline]\r",
      "                                                                              \r"
     ]
    },
    {
     "name": "stdout",
     "output_type": "stream",
     "text": [
      "Generation 5 - Current best internal CV score: 0.9777730261691279\n",
      "\n",
      "Best pipeline: ExtraTreesClassifier(input_matrix, bootstrap=False, criterion=entropy, max_features=0.1, min_samples_leaf=2, min_samples_split=6, n_estimators=100)\n",
      "0.9755555555555555\n"
     ]
    },
    {
     "data": {
      "text/plain": [
       "True"
      ]
     },
     "execution_count": 5,
     "metadata": {},
     "output_type": "execute_result"
    }
   ],
   "source": [
    "from tpot import TPOTRegressor\n",
    "from sklearn.datasets import load_boston\n",
    "from sklearn.model_selection import train_test_split\n",
    "\n",
    "housing = load_boston()\n",
    "X_train, X_test, y_train, y_test = train_test_split(housing.data, housing.target,\n",
    "                                                    train_size=0.75, test_size=0.25)\n",
    "\n",
    "tpot = TPOTClassifier"
   ]
  },
  {
   "cell_type": "code",
   "execution_count": 6,
   "metadata": {},
   "outputs": [
    {
     "name": "stderr",
     "output_type": "stream",
     "text": [
      "\r",
      "Optimization Progress:   0%|          | 0/120 [00:00<?, ?pipeline/s]\r",
      "Optimization Progress:   2%|▏         | 2/120 [00:00<00:06, 17.78pipeline/s]\r",
      "Optimization Progress:   2%|▎         | 3/120 [00:00<00:27,  4.26pipeline/s]\r",
      "Optimization Progress:   3%|▎         | 4/120 [00:00<00:23,  4.87pipeline/s]\r",
      "Optimization Progress:   5%|▌         | 6/120 [00:01<00:19,  5.76pipeline/s]\r",
      "Optimization Progress:   6%|▌         | 7/120 [00:01<00:23,  4.76pipeline/s]\r",
      "Optimization Progress:   8%|▊         | 10/120 [00:01<00:17,  6.31pipeline/s]\r",
      "Optimization Progress:  10%|█         | 12/120 [00:02<00:20,  5.37pipeline/s]\r",
      "Optimization Progress:  11%|█         | 13/120 [00:02<00:24,  4.33pipeline/s]\r",
      "Optimization Progress:  12%|█▎        | 15/120 [00:02<00:19,  5.36pipeline/s]\r",
      "Optimization Progress:  14%|█▍        | 17/120 [00:02<00:15,  6.83pipeline/s]\r",
      "Optimization Progress:  16%|█▌        | 19/120 [00:03<00:27,  3.64pipeline/s]\r",
      "Optimization Progress:  17%|█▋        | 20/120 [00:04<00:29,  3.38pipeline/s]\r",
      "Optimization Progress:  18%|█▊        | 21/120 [00:04<00:41,  2.41pipeline/s]\r",
      "Optimization Progress:  18%|█▊        | 22/120 [00:04<00:31,  3.11pipeline/s]\r",
      "Optimization Progress:  19%|█▉        | 23/120 [00:05<00:25,  3.80pipeline/s]\r",
      "Optimization Progress:  22%|██▏       | 26/120 [00:05<00:21,  4.47pipeline/s]\r",
      "Optimization Progress:  23%|██▎       | 28/120 [00:05<00:17,  5.14pipeline/s]\r",
      "Optimization Progress:  24%|██▍       | 29/120 [00:05<00:16,  5.40pipeline/s]\r",
      "Optimization Progress:  25%|██▌       | 30/120 [00:06<00:20,  4.44pipeline/s]\r",
      "Optimization Progress:  27%|██▋       | 32/120 [00:06<00:16,  5.37pipeline/s]\r",
      "Optimization Progress:  28%|██▊       | 33/120 [00:06<00:21,  4.08pipeline/s]\r",
      "Optimization Progress:  31%|███       | 37/120 [00:06<00:15,  5.44pipeline/s]\r",
      "Optimization Progress:  32%|███▎      | 39/120 [00:07<00:18,  4.41pipeline/s]\r",
      "                                                                             \r",
      "\r",
      "Optimization Progress:  33%|███▎      | 40/120 [00:07<00:18,  4.41pipeline/s]"
     ]
    },
    {
     "name": "stdout",
     "output_type": "stream",
     "text": [
      "Generation 1 - Current best internal CV score: -10.136209528831904\n"
     ]
    },
    {
     "name": "stderr",
     "output_type": "stream",
     "text": [
      "\r",
      "Optimization Progress:  33%|███▎      | 40/120 [00:07<00:20,  3.83pipeline/s]\r",
      "Optimization Progress:  34%|███▍      | 41/120 [00:08<00:24,  3.19pipeline/s]\r",
      "Optimization Progress:  35%|███▌      | 42/120 [00:08<00:22,  3.41pipeline/s]\r",
      "Optimization Progress:  36%|███▌      | 43/120 [00:09<00:29,  2.64pipeline/s]\r",
      "Optimization Progress:  37%|███▋      | 44/120 [00:09<00:28,  2.63pipeline/s]\r",
      "Optimization Progress:  38%|███▊      | 45/120 [00:09<00:27,  2.70pipeline/s]\r",
      "Optimization Progress:  38%|███▊      | 46/120 [00:10<00:26,  2.85pipeline/s]\r",
      "Optimization Progress:  39%|███▉      | 47/120 [00:10<00:20,  3.49pipeline/s]\r",
      "Optimization Progress:  42%|████▏     | 50/120 [00:10<00:15,  4.59pipeline/s]\r",
      "Optimization Progress:  43%|████▎     | 52/120 [00:10<00:11,  5.79pipeline/s]\r",
      "Optimization Progress:  45%|████▌     | 54/120 [00:10<00:10,  6.57pipeline/s]\r",
      "Optimization Progress:  47%|████▋     | 56/120 [00:11<00:11,  5.70pipeline/s]\r",
      "Optimization Progress:  48%|████▊     | 57/120 [00:11<00:16,  3.91pipeline/s]\r",
      "Optimization Progress:  48%|████▊     | 58/120 [00:12<00:18,  3.42pipeline/s]\r",
      "Optimization Progress:  49%|████▉     | 59/120 [00:12<00:18,  3.30pipeline/s]\r",
      "Optimization Progress:  50%|█████     | 60/120 [00:12<00:15,  3.88pipeline/s]\r",
      "                                                                             \r",
      "\r",
      "Optimization Progress:  50%|█████     | 60/120 [00:12<00:15,  3.88pipeline/s]"
     ]
    },
    {
     "name": "stdout",
     "output_type": "stream",
     "text": [
      "Generation 2 - Current best internal CV score: -10.136209528831904\n"
     ]
    },
    {
     "name": "stderr",
     "output_type": "stream",
     "text": [
      "\r",
      "Optimization Progress:  51%|█████     | 61/120 [00:14<00:35,  1.65pipeline/s]\r",
      "Optimization Progress:  52%|█████▏    | 62/120 [00:14<00:31,  1.87pipeline/s]\r",
      "Optimization Progress:  53%|█████▎    | 64/120 [00:14<00:25,  2.16pipeline/s]\r",
      "Optimization Progress:  54%|█████▍    | 65/120 [00:15<00:23,  2.34pipeline/s]\r",
      "Optimization Progress:  55%|█████▌    | 66/120 [00:15<00:21,  2.54pipeline/s]\r",
      "Optimization Progress:  56%|█████▌    | 67/120 [00:16<00:21,  2.46pipeline/s]\r",
      "Optimization Progress:  57%|█████▊    | 69/120 [00:16<00:18,  2.72pipeline/s]\r",
      "Optimization Progress:  58%|█████▊    | 70/120 [00:17<00:18,  2.64pipeline/s]\r",
      "Optimization Progress:  59%|█████▉    | 71/120 [00:17<00:24,  1.97pipeline/s]\r",
      "Optimization Progress:  60%|██████    | 72/120 [00:17<00:18,  2.56pipeline/s]\r",
      "Optimization Progress:  62%|██████▎   | 75/120 [00:18<00:13,  3.34pipeline/s]\r",
      "Optimization Progress:  63%|██████▎   | 76/120 [00:18<00:16,  2.64pipeline/s]\r",
      "Optimization Progress:  65%|██████▌   | 78/120 [00:19<00:16,  2.56pipeline/s]\r",
      "Optimization Progress:  66%|██████▌   | 79/120 [00:19<00:13,  3.12pipeline/s]\r",
      "Optimization Progress:  67%|██████▋   | 80/120 [00:20<00:16,  2.46pipeline/s]\r",
      "                                                                             \r",
      "\r",
      "Optimization Progress:  67%|██████▋   | 80/120 [00:20<00:16,  2.46pipeline/s]"
     ]
    },
    {
     "name": "stdout",
     "output_type": "stream",
     "text": [
      "Generation 3 - Current best internal CV score: -10.136209528831904\n"
     ]
    },
    {
     "name": "stderr",
     "output_type": "stream",
     "text": [
      "\r",
      "Optimization Progress:  68%|██████▊   | 81/120 [00:21<00:25,  1.51pipeline/s]\r",
      "Optimization Progress:  68%|██████▊   | 82/120 [00:22<00:24,  1.57pipeline/s]\r",
      "Optimization Progress:  69%|██████▉   | 83/120 [00:22<00:18,  2.05pipeline/s]\r",
      "Optimization Progress:  70%|███████   | 84/120 [00:22<00:17,  2.10pipeline/s]\r",
      "Optimization Progress:  71%|███████   | 85/120 [00:23<00:13,  2.51pipeline/s]\r",
      "Optimization Progress:  72%|███████▏  | 86/120 [00:23<00:15,  2.13pipeline/s]\r",
      "Optimization Progress:  72%|███████▎  | 87/120 [00:24<00:15,  2.07pipeline/s]\r",
      "Optimization Progress:  73%|███████▎  | 88/120 [00:24<00:12,  2.62pipeline/s]\r",
      "Optimization Progress:  74%|███████▍  | 89/120 [00:24<00:13,  2.36pipeline/s]\r",
      "Optimization Progress:  75%|███████▌  | 90/120 [00:25<00:12,  2.38pipeline/s]\r",
      "Optimization Progress:  76%|███████▌  | 91/120 [00:25<00:12,  2.34pipeline/s]\r",
      "Optimization Progress:  77%|███████▋  | 92/120 [00:26<00:11,  2.34pipeline/s]\r",
      "Optimization Progress:  78%|███████▊  | 93/120 [00:26<00:08,  3.00pipeline/s]\r",
      "Optimization Progress:  78%|███████▊  | 94/120 [00:26<00:08,  3.14pipeline/s]\r",
      "Optimization Progress:  79%|███████▉  | 95/120 [00:26<00:07,  3.21pipeline/s]\r",
      "Optimization Progress:  80%|████████  | 96/120 [00:26<00:06,  3.79pipeline/s]\r",
      "Optimization Progress:  81%|████████  | 97/120 [00:27<00:07,  2.92pipeline/s]\r",
      "Optimization Progress:  82%|████████▏ | 98/120 [00:27<00:08,  2.64pipeline/s]\r",
      "Optimization Progress:  82%|████████▎ | 99/120 [00:28<00:06,  3.12pipeline/s]\r",
      "Optimization Progress:  83%|████████▎ | 100/120 [00:28<00:07,  2.84pipeline/s]\r",
      "                                                                              \r",
      "\r",
      "Optimization Progress:  83%|████████▎ | 100/120 [00:28<00:07,  2.84pipeline/s]"
     ]
    },
    {
     "name": "stdout",
     "output_type": "stream",
     "text": [
      "Generation 4 - Current best internal CV score: -10.136209528831904\n"
     ]
    },
    {
     "name": "stderr",
     "output_type": "stream",
     "text": [
      "\r",
      "Optimization Progress:  85%|████████▌ | 102/120 [00:29<00:06,  2.83pipeline/s]\r",
      "Optimization Progress:  86%|████████▌ | 103/120 [00:30<00:08,  2.05pipeline/s]\r",
      "Optimization Progress:  87%|████████▋ | 104/120 [00:30<00:07,  2.22pipeline/s]\r",
      "Optimization Progress:  88%|████████▊ | 105/120 [00:30<00:05,  2.81pipeline/s]\r",
      "Optimization Progress:  89%|████████▉ | 107/120 [00:30<00:03,  3.68pipeline/s]\r",
      "Optimization Progress:  90%|█████████ | 108/120 [00:30<00:02,  4.28pipeline/s]\r",
      "Optimization Progress:  91%|█████████ | 109/120 [00:31<00:02,  4.90pipeline/s]\r",
      "Optimization Progress:  92%|█████████▏| 110/120 [00:31<00:02,  4.35pipeline/s]\r",
      "Optimization Progress:  92%|█████████▎| 111/120 [00:31<00:01,  4.65pipeline/s]\r",
      "Optimization Progress:  94%|█████████▍| 113/120 [00:31<00:01,  4.94pipeline/s]\r",
      "Optimization Progress:  95%|█████████▌| 114/120 [00:32<00:01,  3.30pipeline/s]\r",
      "Optimization Progress:  96%|█████████▌| 115/120 [00:32<00:01,  3.05pipeline/s]\r",
      "Optimization Progress:  97%|█████████▋| 116/120 [00:39<00:09,  2.26s/pipeline]\r",
      "Optimization Progress:  98%|█████████▊| 117/120 [00:39<00:04,  1.64s/pipeline]\r",
      "Optimization Progress:  98%|█████████▊| 118/120 [00:39<00:02,  1.19s/pipeline]\r",
      "Optimization Progress:  99%|█████████▉| 119/120 [00:40<00:00,  1.11pipeline/s]\r",
      "Optimization Progress: 100%|██████████| 120/120 [00:40<00:00,  1.48pipeline/s]\r",
      "                                                                              \r",
      "\r",
      "Optimization Progress: 100%|██████████| 120/120 [00:40<00:00,  1.48pipeline/s]\r",
      "                                                                              \r"
     ]
    },
    {
     "name": "stdout",
     "output_type": "stream",
     "text": [
      "Generation 5 - Current best internal CV score: -9.485647052995645\n",
      "\n",
      "Best pipeline: GradientBoostingRegressor(CombineDFs(input_matrix, input_matrix), alpha=0.85, learning_rate=0.1, loss=ls, max_depth=5, max_features=0.25, min_samples_leaf=1, min_samples_split=16, n_estimators=100, subsample=0.6000000000000001)\n",
      "-9.128819913427503\n"
     ]
    },
    {
     "data": {
      "text/plain": [
       "True"
      ]
     },
     "execution_count": 6,
     "metadata": {},
     "output_type": "execute_result"
    }
   ],
   "source": [
    "from tpot import TPOTRegressor\n",
    "from sklearn.datasets import load_boston\n",
    "from sklearn.model_selection import train_test_split\n",
    "\n",
    "housing = load_boston()\n",
    "X_train, X_test, y_train, y_test = train_test_split(housing.data, housing.target,\n",
    "                                                    train_size=0.75, test_size=0.25)\n",
    "\n",
    "tpot = TPOTRegressor(generations=5, population_size=20, verbosity=2)\n",
    "tpot.fit(X_train, y_train)\n",
    "print(tpot.score(X_test, y_test))\n",
    "tpot.export(\"tpot_boston_pipeline.py\")\n"
   ]
  }
 ],
 "metadata": {
  "kernelspec": {
   "display_name": "Python 3",
   "language": "python",
   "name": "python3"
  },
  "language_info": {
   "codemirror_mode": {
    "name": "ipython",
    "version": 3
   },
   "file_extension": ".py",
   "mimetype": "text/x-python",
   "name": "python",
   "nbconvert_exporter": "python",
   "pygments_lexer": "ipython3",
   "version": "3.6.4"
  }
 },
 "nbformat": 4,
 "nbformat_minor": 2
}
