{
 "cells": [
  {
   "cell_type": "markdown",
   "metadata": {},
   "source": [
    "# Estimator\n",
    "\n",
    "http://tensorflow.classcat.com/2017/09/18/tensorflow-get-started-estimator/\n",
    "https://www.tensorflow.org/get_started/estimator\n",
    "https://book.mynavi.jp/manatee/detail/id=79420\n"
   ]
  },
  {
   "cell_type": "code",
   "execution_count": 2,
   "metadata": {
    "collapsed": false
   },
   "outputs": [],
   "source": [
    "import os\n",
    "import urllib.request\n",
    "\n",
    "import numpy as np\n",
    "import tensorflow as tf"
   ]
  },
  {
   "cell_type": "code",
   "execution_count": 3,
   "metadata": {
    "collapsed": true
   },
   "outputs": [],
   "source": [
    "IRIS_TRAINING = \"iris_training.csv\"\n",
    "IRIS_TRAINING_URL = \"http://download.tensorflow.org/data/iris_training.csv\"\n",
    "\n",
    "IRIS_TEST = \"iris_test.csv\"\n",
    "IRIS_TEST_URL = \"http://download.tensorflow.org/data/iris_test.csv\""
   ]
  },
  {
   "cell_type": "code",
   "execution_count": 8,
   "metadata": {
    "collapsed": false
   },
   "outputs": [
    {
     "name": "stdout",
     "output_type": "stream",
     "text": [
      "INFO:tensorflow:Using default config.\n",
      "INFO:tensorflow:Using config: {'_save_checkpoints_steps': None, '_save_checkpoints_secs': 600, '_keep_checkpoint_max': 5, '_model_dir': '/tmp/iris_model', '_log_step_count_steps': 100, '_session_config': None, '_tf_random_seed': 1, '_save_summary_steps': 100, '_keep_checkpoint_every_n_hours': 10000}\n",
      "INFO:tensorflow:Create CheckpointSaverHook.\n",
      "INFO:tensorflow:Saving checkpoints for 1 into /tmp/iris_model/model.ckpt.\n",
      "INFO:tensorflow:step = 1, loss = 292.973\n",
      "INFO:tensorflow:global_step/sec: 1013.67\n",
      "INFO:tensorflow:step = 101, loss = 14.446 (0.100 sec)\n",
      "INFO:tensorflow:global_step/sec: 1021.22\n",
      "INFO:tensorflow:step = 201, loss = 7.75755 (0.098 sec)\n",
      "INFO:tensorflow:global_step/sec: 997.039\n",
      "INFO:tensorflow:step = 301, loss = 12.0455 (0.101 sec)\n",
      "INFO:tensorflow:global_step/sec: 989.255\n",
      "INFO:tensorflow:step = 401, loss = 6.32394 (0.101 sec)\n",
      "INFO:tensorflow:global_step/sec: 945.513\n",
      "INFO:tensorflow:step = 501, loss = 8.52233 (0.106 sec)\n",
      "INFO:tensorflow:global_step/sec: 989.174\n",
      "INFO:tensorflow:step = 601, loss = 3.69041 (0.102 sec)\n",
      "INFO:tensorflow:global_step/sec: 861.117\n",
      "INFO:tensorflow:step = 701, loss = 3.99931 (0.116 sec)\n",
      "INFO:tensorflow:global_step/sec: 1077.02\n",
      "INFO:tensorflow:step = 801, loss = 9.14598 (0.092 sec)\n",
      "INFO:tensorflow:global_step/sec: 1032.42\n",
      "INFO:tensorflow:step = 901, loss = 7.63193 (0.097 sec)\n",
      "INFO:tensorflow:global_step/sec: 1117.25\n",
      "INFO:tensorflow:step = 1001, loss = 4.25006 (0.089 sec)\n",
      "INFO:tensorflow:global_step/sec: 1095.24\n",
      "INFO:tensorflow:step = 1101, loss = 10.0574 (0.091 sec)\n",
      "INFO:tensorflow:global_step/sec: 1054.25\n",
      "INFO:tensorflow:step = 1201, loss = 5.68954 (0.095 sec)\n",
      "INFO:tensorflow:global_step/sec: 1080.57\n",
      "INFO:tensorflow:step = 1301, loss = 3.36231 (0.093 sec)\n",
      "INFO:tensorflow:global_step/sec: 1008.79\n",
      "INFO:tensorflow:step = 1401, loss = 7.54228 (0.100 sec)\n",
      "INFO:tensorflow:global_step/sec: 724.882\n",
      "INFO:tensorflow:step = 1501, loss = 11.7248 (0.138 sec)\n",
      "INFO:tensorflow:global_step/sec: 643.81\n",
      "INFO:tensorflow:step = 1601, loss = 4.97661 (0.154 sec)\n",
      "INFO:tensorflow:global_step/sec: 1156.76\n",
      "INFO:tensorflow:step = 1701, loss = 9.70141 (0.087 sec)\n",
      "INFO:tensorflow:global_step/sec: 1095.27\n",
      "INFO:tensorflow:step = 1801, loss = 6.11958 (0.092 sec)\n",
      "INFO:tensorflow:global_step/sec: 1055.38\n",
      "INFO:tensorflow:step = 1901, loss = 10.7622 (0.095 sec)\n",
      "INFO:tensorflow:Saving checkpoints for 2000 into /tmp/iris_model/model.ckpt.\n",
      "INFO:tensorflow:Loss for final step: 9.15364.\n",
      "INFO:tensorflow:Starting evaluation at 2017-10-26-22:20:52\n",
      "INFO:tensorflow:Restoring parameters from /tmp/iris_model/model.ckpt-2000\n",
      "INFO:tensorflow:Finished evaluation at 2017-10-26-22:20:52\n",
      "INFO:tensorflow:Saving dict for global step 2000: accuracy = 0.966667, average_loss = 0.0596, global_step = 2000, loss = 1.788\n",
      "\n",
      "Test Accuracy: 0.966667\n",
      "\n",
      "INFO:tensorflow:Restoring parameters from /tmp/iris_model/model.ckpt-2000\n",
      "New Sample, Class Predictions: [array([b'1'], dtype=object), array([b'2'], dtype=object)]\n",
      "\n"
     ]
    }
   ],
   "source": [
    "def main():\n",
    "    if not os.path.exists(IRIS_TRAINING):\n",
    "        urllib.request.urlretrieve(IRIS_TRAINING_URL, IRIS_TRAINING)\n",
    "    if not os.path.exists(IRIS_TEST):\n",
    "        urllib.request.urlretrieve(IRIS_TEST_URL, IRIS_TEST)\n",
    "    \n",
    "    training_set = tf.contrib.learn.datasets.base.load_csv_with_header(\n",
    "        filename=IRIS_TRAINING,\n",
    "        target_dtype=np.int,\n",
    "        features_dtype=np.float32)\n",
    "    test_set = tf.contrib.learn.datasets.base.load_csv_with_header(\n",
    "        filename=IRIS_TEST,\n",
    "        target_dtype=np.int,\n",
    "        features_dtype=np.float32)\n",
    "\n",
    "    feature_columns = [tf.feature_column.numeric_column('x', shape=[4])]\n",
    "    \n",
    "    classifier = tf.estimator.DNNClassifier(feature_columns=feature_columns,\n",
    "                                            hidden_units=[10,20,10],\n",
    "                                           n_classes=3,\n",
    "                                           model_dir='/tmp/iris_model')\n",
    "    train_input_fn = tf.estimator.inputs.numpy_input_fn(\n",
    "        x = {'x':np.array(training_set.data)},\n",
    "        y = np.array(training_set.target),\n",
    "        num_epochs=None,\n",
    "        shuffle=True)\n",
    "    \n",
    "    classifier.train(input_fn=train_input_fn, steps=2000)\n",
    "    \n",
    "    test_input_fn = tf.estimator.inputs.numpy_input_fn(\n",
    "        x = {'x':np.array(test_set.data)},\n",
    "        y = np.array(test_set.target),\n",
    "        num_epochs=1,\n",
    "        shuffle=False)\n",
    "    \n",
    "    accuracy_score = classifier.evaluate(input_fn=test_input_fn)['accuracy']\n",
    "    \n",
    "    print('\\nTest Accuracy: {0:f}\\n'.format(accuracy_score))\n",
    "    \n",
    "    new_samples = np.array(\n",
    "        [[6.4, 3.2, 4.5, 1.5],\n",
    "        [5.8, 3.1, 5.0, 1.7]], dtype=np.float32)\n",
    "    predict_input_fn = tf.estimator.inputs.numpy_input_fn(\n",
    "        x={'x':new_samples},\n",
    "        num_epochs=1,\n",
    "        shuffle=False)\n",
    "    predictions = list(classifier.predict(input_fn=predict_input_fn))\n",
    "    predicted_classes = [p['classes'] for p in predictions]\n",
    "    \n",
    "    print(\n",
    "        'New Sample, Class Predictions: {}\\n'.format(predicted_classes))\n",
    "    \n",
    "    \n",
    "if __name__ == \"__main__\":\n",
    "    main()\n"
   ]
  }
 ],
 "metadata": {
  "kernelspec": {
   "display_name": "Python 3",
   "language": "python",
   "name": "python3"
  },
  "language_info": {
   "codemirror_mode": {
    "name": "ipython",
    "version": 3
   },
   "file_extension": ".py",
   "mimetype": "text/x-python",
   "name": "python",
   "nbconvert_exporter": "python",
   "pygments_lexer": "ipython3",
   "version": "3.5.4"
  }
 },
 "nbformat": 4,
 "nbformat_minor": 1
}
