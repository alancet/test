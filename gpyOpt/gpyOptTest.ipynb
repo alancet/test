{
 "cells": [
  {
   "cell_type": "markdown",
   "metadata": {},
   "source": [
    "# Pythonでベイズ最適化を行うパッケージ GPyOpt\n",
    "https://qiita.com/marshi/items/51b82a7b990d51bd98cd"
   ]
  },
  {
   "cell_type": "code",
   "execution_count": 2,
   "metadata": {},
   "outputs": [],
   "source": [
    "import GPy\n",
    "import GPyOpt\n",
    "import numpy as np"
   ]
  },
  {
   "cell_type": "code",
   "execution_count": 6,
   "metadata": {},
   "outputs": [
    {
     "data": {
      "text/plain": [
       "0.1707372016677029"
      ]
     },
     "execution_count": 6,
     "metadata": {},
     "output_type": "execute_result"
    }
   ],
   "source": [
    "def f(x):\n",
    "    return np.cos(1.5*x) + 0.1*x\n",
    "f(1.0)"
   ]
  },
  {
   "cell_type": "code",
   "execution_count": 7,
   "metadata": {},
   "outputs": [
    {
     "name": "stdout",
     "output_type": "stream",
     "text": [
      "The set cost function is ignored! LCB acquisition does not make sense with cost.\n"
     ]
    }
   ],
   "source": [
    "bounds = [{'name':'x', 'type':'continuous', 'domain':(0, 10)}]\n",
    "myBopt = GPyOpt.methods.BayesianOptimization(f=f, domain=bounds, \n",
    "                                            initial_design_numdata=5,\n",
    "                                            acquisition_type='LCB')"
   ]
  },
  {
   "cell_type": "code",
   "execution_count": 9,
   "metadata": {},
   "outputs": [],
   "source": [
    "myBopt.run_optimization(max_iter=15)"
   ]
  },
  {
   "cell_type": "code",
   "execution_count": 11,
   "metadata": {},
   "outputs": [
    {
     "name": "stdout",
     "output_type": "stream",
     "text": [
      "[2.04991477] [-0.79278354]\n"
     ]
    }
   ],
   "source": [
    "print(myBopt.x_opt, myBopt.fx_opt)"
   ]
  },
  {
   "cell_type": "code",
   "execution_count": 12,
   "metadata": {},
   "outputs": [
    {
     "data": {
      "text/html": [
       "<style type=\"text/css\">\n",
       ".pd{\n",
       "    font-family: \"Courier New\", Courier, monospace !important;\n",
       "    width: 100%;\n",
       "    padding: 3px;\n",
       "}\n",
       "</style>\n",
       "\n",
       "<p class=pd>\n",
       "<b>Model</b>: GP regression<br>\n",
       "<b>Objective</b>: -106.78094492952613<br>\n",
       "<b>Number of Parameters</b>: 3<br>\n",
       "<b>Number of Optimization Parameters</b>: 3<br>\n",
       "<b>Updates</b>: True<br>\n",
       "</p>\n",
       "<style type=\"text/css\">\n",
       ".tg  {font-family:\"Courier New\", Courier, monospace !important;padding:2px 3px;word-break:normal;border-collapse:collapse;border-spacing:0;border-color:#DCDCDC;margin:0px auto;width:100%;}\n",
       ".tg td{font-family:\"Courier New\", Courier, monospace !important;font-weight:bold;color:#444;background-color:#F7FDFA;border-style:solid;border-width:1px;overflow:hidden;word-break:normal;border-color:#DCDCDC;}\n",
       ".tg th{font-family:\"Courier New\", Courier, monospace !important;font-weight:normal;color:#fff;background-color:#26ADE4;border-style:solid;border-width:1px;overflow:hidden;word-break:normal;border-color:#DCDCDC;}\n",
       ".tg .tg-left{font-family:\"Courier New\", Courier, monospace !important;font-weight:normal;text-align:left;}\n",
       ".tg .tg-center{font-family:\"Courier New\", Courier, monospace !important;font-weight:normal;text-align:center;}\n",
       ".tg .tg-right{font-family:\"Courier New\", Courier, monospace !important;font-weight:normal;text-align:right;}\n",
       "</style>\n",
       "<table class=\"tg\"><tr><th><b>  GP_regression.         </b></th><th><b>             value</b></th><th><b>  constraints  </b></th><th><b>priors</b></th></tr>\n",
       "<tr><td class=tg-left>  Mat52.variance         </td><td class=tg-right> 4.453781212771483</td><td class=tg-center>      +ve      </td><td class=tg-center>      </td></tr>\n",
       "<tr><td class=tg-left>  Mat52.lengthscale      </td><td class=tg-right>2.0721623433633187</td><td class=tg-center>      +ve      </td><td class=tg-center>      </td></tr>\n",
       "<tr><td class=tg-left>  Gaussian_noise.variance</td><td class=tg-right>             1e-09</td><td class=tg-center>1e-09,1000000.0</td><td class=tg-center>      </td></tr>\n",
       "</table>"
      ],
      "text/plain": [
       "<GPy.models.gp_regression.GPRegression at 0x1b2e1f6aa20>"
      ]
     },
     "execution_count": 12,
     "metadata": {},
     "output_type": "execute_result"
    }
   ],
   "source": [
    "myBopt.model.model"
   ]
  },
  {
   "cell_type": "code",
   "execution_count": 13,
   "metadata": {},
   "outputs": [
    {
     "data": {
      "text/plain": [
       "<bound method GP.predict of <GPy.models.gp_regression.GPRegression object at 0x000001B2E1F6AA20>>"
      ]
     },
     "execution_count": 13,
     "metadata": {},
     "output_type": "execute_result"
    }
   ],
   "source": [
    "myBopt.model.model.predict"
   ]
  },
  {
   "cell_type": "code",
   "execution_count": 14,
   "metadata": {},
   "outputs": [
    {
     "data": {
      "text/plain": [
       "(array([[9.35178426],\n",
       "        [9.81800959],\n",
       "        [8.81091001],\n",
       "        [1.80641677],\n",
       "        [6.66369607],\n",
       "        [2.88677893],\n",
       "        [0.79622973],\n",
       "        [2.21471322],\n",
       "        [5.37441281],\n",
       "        [2.0183147 ],\n",
       "        [2.09163425],\n",
       "        [2.05125221],\n",
       "        [2.05004328],\n",
       "        [2.04998714],\n",
       "        [2.04996102],\n",
       "        [2.04994454],\n",
       "        [2.04993423],\n",
       "        [2.04992325],\n",
       "        [2.04991477],\n",
       "        [2.04991123],\n",
       "        [2.04990279],\n",
       "        [2.0499018 ],\n",
       "        [2.04989602],\n",
       "        [2.04989609],\n",
       "        [2.04988876]]), array([[ 1.04445034],\n",
       "        [ 0.42556671],\n",
       "        [ 1.67717819],\n",
       "        [-0.72750212],\n",
       "        [-0.17511769],\n",
       "        [-0.08430384],\n",
       "        [ 0.44724596],\n",
       "        [-0.76228683],\n",
       "        [ 0.33129249],\n",
       "        [-0.79166384],\n",
       "        [-0.790828  ],\n",
       "        [-0.79278154],\n",
       "        [-0.79278352],\n",
       "        [-0.79278353],\n",
       "        [-0.79278353],\n",
       "        [-0.79278354],\n",
       "        [-0.79278354],\n",
       "        [-0.79278354],\n",
       "        [-0.79278354],\n",
       "        [-0.79278354],\n",
       "        [-0.79278354],\n",
       "        [-0.79278354],\n",
       "        [-0.79278354],\n",
       "        [-0.79278354],\n",
       "        [-0.79278354]]))"
      ]
     },
     "execution_count": 14,
     "metadata": {},
     "output_type": "execute_result"
    }
   ],
   "source": [
    "myBopt.X, myBopt.Y"
   ]
  },
  {
   "cell_type": "code",
   "execution_count": 16,
   "metadata": {},
   "outputs": [],
   "source": [
    "# 二次元\n",
    "\n",
    "def f(x):\n",
    "    '''\n",
    "    今回最適化する非線形関数\n",
    "    '''\n",
    "    x0,x1 = x[:,0],x[:,1]\n",
    "    f0 = np.log(10.5-x0) + 0.1*np.sin(15*x0)\n",
    "    f1 = np.cos(1.5*x0) + 0.1*x0\n",
    "    return (1-x1)*f0 + x1*f1\n",
    "\n",
    "bounds = [{'name': 'x0', 'type': 'continuous', 'domain': (0,10)},\n",
    "          {'name': 'x1', 'type': 'discrete', 'domain': (0,1)}]\n",
    "myBopt = GPyOpt.methods.BayesianOptimization(f=f, domain=bounds)\n",
    "\n",
    "myBopt.run_optimization(max_iter=30)"
   ]
  },
  {
   "cell_type": "code",
   "execution_count": 17,
   "metadata": {},
   "outputs": [
    {
     "name": "stdout",
     "output_type": "stream",
     "text": [
      "[2.05746814 1.        ] [-0.79271953]\n"
     ]
    }
   ],
   "source": [
    "print(myBopt.x_opt, myBopt.fx_opt)"
   ]
  },
  {
   "cell_type": "code",
   "execution_count": null,
   "metadata": {},
   "outputs": [],
   "source": []
  },
  {
   "cell_type": "code",
   "execution_count": null,
   "metadata": {},
   "outputs": [],
   "source": []
  },
  {
   "cell_type": "code",
   "execution_count": null,
   "metadata": {},
   "outputs": [],
   "source": []
  },
  {
   "cell_type": "code",
   "execution_count": null,
   "metadata": {},
   "outputs": [],
   "source": []
  },
  {
   "cell_type": "code",
   "execution_count": null,
   "metadata": {},
   "outputs": [],
   "source": []
  },
  {
   "cell_type": "code",
   "execution_count": null,
   "metadata": {},
   "outputs": [],
   "source": []
  },
  {
   "cell_type": "code",
   "execution_count": null,
   "metadata": {},
   "outputs": [],
   "source": []
  },
  {
   "cell_type": "code",
   "execution_count": null,
   "metadata": {},
   "outputs": [],
   "source": []
  }
 ],
 "metadata": {
  "kernelspec": {
   "display_name": "Python 3",
   "language": "python",
   "name": "python3"
  },
  "language_info": {
   "codemirror_mode": {
    "name": "ipython",
    "version": 3
   },
   "file_extension": ".py",
   "mimetype": "text/x-python",
   "name": "python",
   "nbconvert_exporter": "python",
   "pygments_lexer": "ipython3",
   "version": "3.6.4"
  }
 },
 "nbformat": 4,
 "nbformat_minor": 2
}
