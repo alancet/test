{
 "cells": [
  {
   "cell_type": "code",
   "execution_count": 4,
   "id": "8122f121",
   "metadata": {},
   "outputs": [
    {
     "name": "stdout",
     "output_type": "stream",
     "text": [
      "abc = 111\n"
     ]
    }
   ],
   "source": [
    "str1 = \"abc = {}\"\n",
    "print(str1.format(111))"
   ]
  },
  {
   "cell_type": "code",
   "execution_count": 6,
   "id": "19b03e04",
   "metadata": {},
   "outputs": [
    {
     "name": "stdout",
     "output_type": "stream",
     "text": [
      "abc=aa\n"
     ]
    }
   ],
   "source": [
    "str2 = \"abc={}\".format(\"aa\")\n",
    "print(str2)"
   ]
  }
 ],
 "metadata": {
  "kernelspec": {
   "display_name": "Python 3 (ipykernel)",
   "language": "python",
   "name": "python3"
  },
  "language_info": {
   "codemirror_mode": {
    "name": "ipython",
    "version": 3
   },
   "file_extension": ".py",
   "mimetype": "text/x-python",
   "name": "python",
   "nbconvert_exporter": "python",
   "pygments_lexer": "ipython3",
   "version": "3.9.6"
  }
 },
 "nbformat": 4,
 "nbformat_minor": 5
}
