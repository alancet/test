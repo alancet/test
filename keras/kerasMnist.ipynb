{
 "cells": [
  {
   "cell_type": "markdown",
   "metadata": {},
   "source": [
    "https://qiita.com/yampy/items/706d44417c433e68db0d\n",
    "\n"
   ]
  },
  {
   "cell_type": "code",
   "execution_count": 37,
   "metadata": {},
   "outputs": [],
   "source": [
    "import matplotlib.pyplot as plt"
   ]
  },
  {
   "cell_type": "code",
   "execution_count": 28,
   "metadata": {},
   "outputs": [],
   "source": [
    "import keras\n",
    "\n",
    "from keras.layers import Input, Dense, Dropout\n",
    "from keras.models import Model"
   ]
  },
  {
   "cell_type": "code",
   "execution_count": 5,
   "metadata": {},
   "outputs": [],
   "source": [
    "from keras.datasets import mnist\n",
    "\n",
    "(X_train, y_train), (X_test, y_test) = mnist.load_data()"
   ]
  },
  {
   "cell_type": "code",
   "execution_count": 17,
   "metadata": {},
   "outputs": [
    {
     "data": {
      "text/plain": [
       "((60000, 784), (60000,))"
      ]
     },
     "execution_count": 17,
     "metadata": {},
     "output_type": "execute_result"
    }
   ],
   "source": [
    "X_train.shape, y_train.shape"
   ]
  },
  {
   "cell_type": "code",
   "execution_count": null,
   "metadata": {},
   "outputs": [],
   "source": []
  },
  {
   "cell_type": "code",
   "execution_count": 10,
   "metadata": {},
   "outputs": [
    {
     "data": {
      "text/plain": [
       "((60000, 784), array([[0., 0., 0., ..., 0., 0., 0.],\n",
       "        [0., 0., 0., ..., 0., 0., 0.],\n",
       "        [0., 0., 0., ..., 0., 0., 0.],\n",
       "        [0., 0., 0., ..., 0., 0., 0.],\n",
       "        [0., 0., 0., ..., 0., 0., 0.]], dtype=float32))"
      ]
     },
     "execution_count": 10,
     "metadata": {},
     "output_type": "execute_result"
    }
   ],
   "source": [
    "X_train = X_train.reshape(60000, 784).astype('float32')/255\n",
    "X_train.shape, X_train[:5]"
   ]
  },
  {
   "cell_type": "code",
   "execution_count": 23,
   "metadata": {},
   "outputs": [],
   "source": [
    "X_test = X_test.reshape(10000, 784).astype('float32')/255\n",
    "\n",
    "y_train = keras.utils.np_utils.to_categorical(y_train.astype('int32'), 10)\n",
    "y_test = keras.utils.np_utils.to_categorical(y_test.astype('int32'), 10)\n"
   ]
  },
  {
   "cell_type": "code",
   "execution_count": 24,
   "metadata": {},
   "outputs": [
    {
     "data": {
      "text/plain": [
       "(60000, 10)"
      ]
     },
     "execution_count": 24,
     "metadata": {},
     "output_type": "execute_result"
    }
   ],
   "source": [
    "y_train.shape"
   ]
  },
  {
   "cell_type": "markdown",
   "metadata": {},
   "source": [
    "# 手書き文字の認識(1): 全結合層のみ"
   ]
  },
  {
   "cell_type": "code",
   "execution_count": 33,
   "metadata": {},
   "outputs": [],
   "source": [
    "inputs = Input(shape=(784,))\n",
    "\n",
    "nw = Dense(512, activation='relu')(inputs)\n",
    "nw = Dropout(.5)(nw)\n",
    "nw = Dense(512, activation='relu')(nw)\n",
    "nw = Dropout(.5)(nw)\n",
    "predictions = Dense(10, activation='softmax')(nw)\n",
    "\n",
    "model = Model(inputs=inputs, outputs=predictions)\n",
    "\n",
    "model.compile(optimizer='rmsprop',\n",
    "             loss='categorical_crossentropy',\n",
    "             metrics=['accuracy'])"
   ]
  },
  {
   "cell_type": "code",
   "execution_count": 34,
   "metadata": {},
   "outputs": [
    {
     "name": "stdout",
     "output_type": "stream",
     "text": [
      "Train on 60000 samples, validate on 10000 samples\n",
      "Epoch 1/20\n",
      "60000/60000 [==============================] - 35s 587us/step - loss: 2.3018 - acc: 0.1109 - val_loss: 2.2948 - val_acc: 0.1135\n",
      "Epoch 2/20\n",
      "60000/60000 [==============================] - 42s 697us/step - loss: 2.3016 - acc: 0.1122 - val_loss: 2.2954 - val_acc: 0.1135\n",
      "Epoch 3/20\n",
      "60000/60000 [==============================] - 36s 600us/step - loss: 2.3015 - acc: 0.1124 - val_loss: 2.2955 - val_acc: 0.1135\n",
      "Epoch 4/20\n",
      "60000/60000 [==============================] - 35s 581us/step - loss: 2.3015 - acc: 0.1124 - val_loss: 2.2934 - val_acc: 0.1135\n",
      "Epoch 5/20\n",
      "60000/60000 [==============================] - 35s 584us/step - loss: 2.3014 - acc: 0.1124 - val_loss: 2.2906 - val_acc: 0.1135\n",
      "Epoch 6/20\n",
      "60000/60000 [==============================] - 35s 588us/step - loss: 2.3013 - acc: 0.1124 - val_loss: 2.2873 - val_acc: 0.1135\n",
      "Epoch 7/20\n",
      "60000/60000 [==============================] - 36s 602us/step - loss: 2.3012 - acc: 0.1124 - val_loss: 2.2774 - val_acc: 0.1135\n",
      "Epoch 8/20\n",
      "60000/60000 [==============================] - 37s 623us/step - loss: 2.3011 - acc: 0.1124 - val_loss: 2.2618 - val_acc: 0.1135\n",
      "Epoch 9/20\n",
      "60000/60000 [==============================] - 37s 617us/step - loss: 2.3007 - acc: 0.1124 - val_loss: 2.2220 - val_acc: 0.1135\n",
      "Epoch 10/20\n",
      "60000/60000 [==============================] - 37s 616us/step - loss: 2.2998 - acc: 0.1124 - val_loss: 2.1577 - val_acc: 0.1135\n",
      "Epoch 11/20\n",
      "60000/60000 [==============================] - 36s 599us/step - loss: 2.2976 - acc: 0.1126 - val_loss: 2.1009 - val_acc: 0.1135\n",
      "Epoch 12/20\n",
      "60000/60000 [==============================] - 35s 589us/step - loss: 2.2929 - acc: 0.1136 - val_loss: 2.1535 - val_acc: 0.1494\n",
      "Epoch 13/20\n",
      "60000/60000 [==============================] - 35s 579us/step - loss: 2.2846 - acc: 0.1182 - val_loss: 2.3616 - val_acc: 0.1987\n",
      "Epoch 14/20\n",
      "60000/60000 [==============================] - 35s 591us/step - loss: 2.2742 - acc: 0.1279 - val_loss: 2.6535 - val_acc: 0.2069\n",
      "Epoch 15/20\n",
      "60000/60000 [==============================] - 35s 583us/step - loss: 2.2604 - acc: 0.1345 - val_loss: 2.9340 - val_acc: 0.1499\n",
      "Epoch 16/20\n",
      "60000/60000 [==============================] - 35s 586us/step - loss: 2.2488 - acc: 0.1410 - val_loss: 3.2266 - val_acc: 0.1910\n",
      "Epoch 17/20\n",
      "60000/60000 [==============================] - 35s 584us/step - loss: 2.2321 - acc: 0.1483 - val_loss: 3.4920 - val_acc: 0.1684\n",
      "Epoch 18/20\n",
      "60000/60000 [==============================] - 35s 591us/step - loss: 2.2224 - acc: 0.1493 - val_loss: 3.6945 - val_acc: 0.1811\n",
      "Epoch 19/20\n",
      "60000/60000 [==============================] - 37s 615us/step - loss: 2.2111 - acc: 0.1532 - val_loss: 3.8709 - val_acc: 0.1767\n",
      "Epoch 20/20\n",
      "60000/60000 [==============================] - 42s 692us/step - loss: 2.2028 - acc: 0.1548 - val_loss: 3.9971 - val_acc: 0.2028\n"
     ]
    }
   ],
   "source": [
    "history = model.fit(X_train, y_train, batch_size=128,\n",
    "                   epochs=20, verbose=1,\n",
    "                   validation_data=(X_test, y_test))\n"
   ]
  },
  {
   "cell_type": "code",
   "execution_count": 40,
   "metadata": {},
   "outputs": [
    {
     "data": {
      "image/png": "[encoded data removed]",
      "text/plain": [
       "<Figure size 432x288 with 1 Axes>"
      ]
     },
     "metadata": {},
     "output_type": "display_data"
    }
   ],
   "source": [
    "plt.plot(history.history['acc'])\n",
    "plt.plot(history.history['val_acc'])\n",
    "plt.title('model accuracy')\n",
    "plt.ylabel('accuracy')\n",
    "plt.xlabel('epoch')\n",
    "plt.legend(['train, test'], loc='upper left')\n",
    "plt.show()"
   ]
  },
  {
   "cell_type": "code",
   "execution_count": 41,
   "metadata": {},
   "outputs": [
    {
     "data": {
      "image/png": "[encoded data removed]",
      "text/plain": [
       "<Figure size 432x288 with 1 Axes>"
      ]
     },
     "metadata": {},
     "output_type": "display_data"
    }
   ],
   "source": [
    "plt.plot(history.history['loss'])\n",
    "plt.plot(history.history['val_loss'])\n",
    "plt.title('model loss')\n",
    "plt.ylabel('loss')\n",
    "plt.xlabel('epoch')\n",
    "plt.legend(['train', 'test'], loc='upper left')\n",
    "plt.show()"
   ]
  },
  {
   "cell_type": "code",
   "execution_count": null,
   "metadata": {},
   "outputs": [],
   "source": []
  },
  {
   "cell_type": "code",
   "execution_count": null,
   "metadata": {},
   "outputs": [],
   "source": []
  },
  {
   "cell_type": "markdown",
   "metadata": {},
   "source": [
    "# 手書き文字の認識(2): CNNモデル"
   ]
  },
  {
   "cell_type": "code",
   "execution_count": 61,
   "metadata": {},
   "outputs": [],
   "source": [
    "from keras.layers import Conv2D, MaxPooling2D, Flatten"
   ]
  },
  {
   "cell_type": "code",
   "execution_count": 42,
   "metadata": {},
   "outputs": [
    {
     "data": {
      "text/plain": [
       "'channels_last'"
      ]
     },
     "execution_count": 42,
     "metadata": {},
     "output_type": "execute_result"
    }
   ],
   "source": [
    "from keras import backend\n",
    "\n",
    "backend.image_data_format()"
   ]
  },
  {
   "cell_type": "code",
   "execution_count": 46,
   "metadata": {},
   "outputs": [
    {
     "data": {
      "text/plain": [
       "'tensorflow'"
      ]
     },
     "execution_count": 46,
     "metadata": {},
     "output_type": "execute_result"
    }
   ],
   "source": [
    "backend.backend()"
   ]
  },
  {
   "cell_type": "code",
   "execution_count": 73,
   "metadata": {},
   "outputs": [],
   "source": [
    "(X_train, y_train), (X_test, y_test) = mnist.load_data()\n",
    "\n",
    "if backend.image_data_format() == 'channels_first':\n",
    "    inputs = Input(shape=(1, 28, 28))\n",
    "    X_train = X_train.reshape(X_train.shape[0], 1, 28, 28).astype('float32')/255\n",
    "    X_test = X_test.reshape(X_train.shape[0], 1, 28, 28).astype('float32')/255\n",
    "else:\n",
    "    inputs = Input(shape=(28, 28, 1))\n",
    "    X_train = X_train.reshape(X_train.shape[0], 28, 28, 1).astype('float32')/255\n",
    "    X_test = X_test.reshape(X_test.shape[0], 28, 28, 1).astype('float32')/255\n"
   ]
  },
  {
   "cell_type": "code",
   "execution_count": 74,
   "metadata": {},
   "outputs": [],
   "source": [
    "y_train = keras.utils.np_utils.to_categorical(y_train, 10)\n",
    "y_test =  keras.utils.np_utils.to_categorical(y_test, 10)\n"
   ]
  },
  {
   "cell_type": "code",
   "execution_count": 75,
   "metadata": {},
   "outputs": [
    {
     "data": {
      "text/plain": [
       "((60000, 28, 28, 1), (60000, 10))"
      ]
     },
     "execution_count": 75,
     "metadata": {},
     "output_type": "execute_result"
    }
   ],
   "source": [
    "X_train.shape, y_train.shape"
   ]
  },
  {
   "cell_type": "code",
   "execution_count": 76,
   "metadata": {},
   "outputs": [
    {
     "data": {
      "text/plain": [
       "((10000, 28, 28, 1), (10000, 10))"
      ]
     },
     "execution_count": 76,
     "metadata": {},
     "output_type": "execute_result"
    }
   ],
   "source": [
    "X_test.shape, y_test.shape"
   ]
  },
  {
   "cell_type": "code",
   "execution_count": 81,
   "metadata": {},
   "outputs": [],
   "source": [
    "conv1_1 = Conv2D(32, (3,3), activation='relu', \n",
    "                 name='conv1_1')(inputs)\n",
    "conv1_2 = Conv2D(64, (3,3), activation='relu', \n",
    "                 name='conv1_2')(conv1_1)\n",
    "pool1 = MaxPooling2D(pool_size=(2,2), name='pool1')(conv1_2)\n",
    "\n",
    "nw = Dropout(.25)(pool1)\n",
    "nw = Flatten()(nw)\n",
    "nw = Dense(128, activation='relu')(nw)\n",
    "nw= Dropout(.5)(nw)\n",
    "\n",
    "predictions = Dense(10, activation='softmax')(nw)\n",
    "\n",
    "model = Model(inputs=inputs, outputs=predictions)\n",
    "model.compile(loss=keras.losses.categorical_crossentropy,\n",
    "             optimizer=keras.optimizers.Adadelta(),\n",
    "             metrics=['accuracy'])\n",
    "\n"
   ]
  },
  {
   "cell_type": "code",
   "execution_count": 82,
   "metadata": {},
   "outputs": [],
   "source": [
    "cb_cp = keras.callbacks.ModelCheckpoint('./out/checkpoints/weights.{epoch:02d}-{val_loss:.2f}.hdf5',\n",
    "                                        verbose=1, \n",
    "                                        save_weights_only=True)\n",
    "cb_tf = keras.callbacks.TensorBoard(log_dir='./out/tensorBoard',\n",
    "                                    histogram_freq=0)\n"
   ]
  },
  {
   "cell_type": "code",
   "execution_count": 84,
   "metadata": {},
   "outputs": [
    {
     "name": "stdout",
     "output_type": "stream",
     "text": [
      "Train on 60000 samples, validate on 10000 samples\n",
      "Epoch 1/10\n",
      "60000/60000 [==============================] - 467s 8ms/step - loss: 0.0901 - acc: 0.9731 - val_loss: 0.0448 - val_acc: 0.9856\n",
      "\n",
      "Epoch 00001: saving model to ./out/checkpoints/weights.01-0.04.hdf5\n",
      "Epoch 2/10\n",
      "60000/60000 [==============================] - 448s 7ms/step - loss: 0.0656 - acc: 0.9804 - val_loss: 0.0323 - val_acc: 0.9888\n",
      "\n",
      "Epoch 00002: saving model to ./out/checkpoints/weights.02-0.03.hdf5\n",
      "Epoch 3/10\n",
      "60000/60000 [==============================] - 442s 7ms/step - loss: 0.0547 - acc: 0.9836 - val_loss: 0.0313 - val_acc: 0.9901\n",
      "\n",
      "Epoch 00003: saving model to ./out/checkpoints/weights.03-0.03.hdf5\n",
      "Epoch 4/10\n",
      "60000/60000 [==============================] - 440s 7ms/step - loss: 0.0486 - acc: 0.9856 - val_loss: 0.0281 - val_acc: 0.9897\n",
      "\n",
      "Epoch 00004: saving model to ./out/checkpoints/weights.04-0.03.hdf5\n",
      "Epoch 5/10\n",
      "60000/60000 [==============================] - 444s 7ms/step - loss: 0.0417 - acc: 0.9868 - val_loss: 0.0298 - val_acc: 0.9900\n",
      "\n",
      "Epoch 00005: saving model to ./out/checkpoints/weights.05-0.03.hdf5\n",
      "Epoch 6/10\n",
      "60000/60000 [==============================] - 445s 7ms/step - loss: 0.0374 - acc: 0.9887 - val_loss: 0.0274 - val_acc: 0.9900\n",
      "\n",
      "Epoch 00006: saving model to ./out/checkpoints/weights.06-0.03.hdf5\n",
      "Epoch 7/10\n",
      "60000/60000 [==============================] - 452s 8ms/step - loss: 0.0355 - acc: 0.9893 - val_loss: 0.0273 - val_acc: 0.9913\n",
      "\n",
      "Epoch 00007: saving model to ./out/checkpoints/weights.07-0.03.hdf5\n",
      "Epoch 8/10\n",
      "60000/60000 [==============================] - 455s 8ms/step - loss: 0.0318 - acc: 0.9902 - val_loss: 0.0289 - val_acc: 0.9911\n",
      "\n",
      "Epoch 00008: saving model to ./out/checkpoints/weights.08-0.03.hdf5\n",
      "Epoch 9/10\n",
      "60000/60000 [==============================] - 457s 8ms/step - loss: 0.0286 - acc: 0.9910 - val_loss: 0.0267 - val_acc: 0.9915\n",
      "\n",
      "Epoch 00009: saving model to ./out/checkpoints/weights.09-0.03.hdf5\n",
      "Epoch 10/10\n",
      "60000/60000 [==============================] - 460s 8ms/step - loss: 0.0267 - acc: 0.9917 - val_loss: 0.0269 - val_acc: 0.9910\n",
      "\n",
      "Epoch 00010: saving model to ./out/checkpoints/weights.10-0.03.hdf5\n"
     ]
    }
   ],
   "source": [
    "history = model.fit(X_train, y_train, batch_size=128,\n",
    "                    epochs=10, verbose=1, \n",
    "                    callbacks=[cb_cp, cb_tf],\n",
    "                    validation_data=(X_test, y_test))\n"
   ]
  },
  {
   "cell_type": "code",
   "execution_count": 85,
   "metadata": {},
   "outputs": [
    {
     "data": {
      "image/png": "[encoded data removed]",
      "text/plain": [
       "<Figure size 432x288 with 1 Axes>"
      ]
     },
     "metadata": {},
     "output_type": "display_data"
    }
   ],
   "source": [
    "plt.plot(history.history['acc'])\n",
    "plt.plot(history.history['val_acc'])\n",
    "plt.title('model accuracy')\n",
    "plt.ylabel('accuracy')\n",
    "plt.xlabel('epoch')\n",
    "plt.legend(['train, test'], loc='upper left')\n",
    "plt.show()"
   ]
  },
  {
   "cell_type": "code",
   "execution_count": 86,
   "metadata": {},
   "outputs": [
    {
     "data": {
      "image/png": "[encoded data removed]",
      "text/plain": [
       "<Figure size 432x288 with 1 Axes>"
      ]
     },
     "metadata": {},
     "output_type": "display_data"
    }
   ],
   "source": [
    "plt.plot(history.history['loss'])\n",
    "plt.plot(history.history['val_loss'])\n",
    "plt.title('model loss')\n",
    "plt.ylabel('loss')\n",
    "plt.xlabel('epoch')\n",
    "plt.legend(['train', 'test'], loc='upper left')\n",
    "plt.show()"
   ]
  },
  {
   "cell_type": "code",
   "execution_count": null,
   "metadata": {},
   "outputs": [],
   "source": []
  },
  {
   "cell_type": "code",
   "execution_count": null,
   "metadata": {},
   "outputs": [],
   "source": []
  },
  {
   "cell_type": "code",
   "execution_count": null,
   "metadata": {},
   "outputs": [],
   "source": []
  },
  {
   "cell_type": "code",
   "execution_count": null,
   "metadata": {},
   "outputs": [],
   "source": []
  }
 ],
 "metadata": {
  "kernelspec": {
   "display_name": "Python 3",
   "language": "python",
   "name": "python3"
  },
  "language_info": {
   "codemirror_mode": {
    "name": "ipython",
    "version": 3
   },
   "file_extension": ".py",
   "mimetype": "text/x-python",
   "name": "python",
   "nbconvert_exporter": "python",
   "pygments_lexer": "ipython3",
   "version": "3.6.5"
  }
 },
 "nbformat": 4,
 "nbformat_minor": 2
}
