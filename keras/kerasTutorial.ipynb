{
 "cells": [
  {
   "cell_type": "markdown",
   "metadata": {},
   "source": [
    "https://keras.io/ja/getting-started/sequential-model-guide/    "
   ]
  },
  {
   "cell_type": "markdown",
   "metadata": {},
   "source": [
    "# 多層パーセプトロン (MLP) を用いた多値分類:"
   ]
  },
  {
   "cell_type": "code",
   "execution_count": 10,
   "metadata": {},
   "outputs": [],
   "source": [
    "import keras\n",
    "\n",
    "from keras.models import Sequential\n",
    "from keras.layers import Dense, Dropout, Activation\n",
    "from keras.optimizers import SGD\n",
    "\n",
    "import numpy as np"
   ]
  },
  {
   "cell_type": "code",
   "execution_count": 35,
   "metadata": {},
   "outputs": [
    {
     "data": {
      "text/plain": [
       "array([[0., 1., 0., 0., 0., 0., 0., 0., 0., 0.],\n",
       "       [0., 0., 0., 0., 0., 0., 0., 0., 1., 0.],\n",
       "       [0., 0., 0., 0., 0., 0., 0., 0., 1., 0.],\n",
       "       [0., 0., 0., 0., 0., 0., 0., 0., 0., 1.],\n",
       "       [0., 0., 0., 1., 0., 0., 0., 0., 0., 0.],\n",
       "       [0., 1., 0., 0., 0., 0., 0., 0., 0., 0.],\n",
       "       [0., 1., 0., 0., 0., 0., 0., 0., 0., 0.],\n",
       "       [0., 0., 0., 0., 0., 0., 0., 1., 0., 0.],\n",
       "       [0., 0., 1., 0., 0., 0., 0., 0., 0., 0.],\n",
       "       [0., 0., 0., 0., 0., 0., 1., 0., 0., 0.]], dtype=float32)"
      ]
     },
     "execution_count": 35,
     "metadata": {},
     "output_type": "execute_result"
    }
   ],
   "source": [
    "X_train = np.random.random((1000, 20))\n",
    "y_train = keras.utils.to_categorical(\n",
    "    np.random.randint(10, size=(1000, 1)), num_classes=10)\n",
    "X_test = np.random.random((100, 20))\n",
    "y_test = keras.utils.to_categorical(\n",
    "    np.random.randint(10, size=(100, 1)), num_classes=10)\n",
    "\n",
    "y_train[:10]"
   ]
  },
  {
   "cell_type": "code",
   "execution_count": 36,
   "metadata": {},
   "outputs": [
    {
     "name": "stdout",
     "output_type": "stream",
     "text": [
      "Epoch 1/20\n",
      "1000/1000 [==============================] - 1s 586us/step - loss: 2.3735 - acc: 0.1130\n",
      "Epoch 2/20\n",
      "1000/1000 [==============================] - 0s 73us/step - loss: 2.3685 - acc: 0.1060\n",
      "Epoch 3/20\n",
      "1000/1000 [==============================] - 0s 89us/step - loss: 2.3227 - acc: 0.1050\n",
      "Epoch 4/20\n",
      "1000/1000 [==============================] - 0s 79us/step - loss: 2.3226 - acc: 0.1020\n",
      "Epoch 5/20\n",
      "1000/1000 [==============================] - 0s 72us/step - loss: 2.3185 - acc: 0.1000\n",
      "Epoch 6/20\n",
      "1000/1000 [==============================] - 0s 64us/step - loss: 2.3204 - acc: 0.1040\n",
      "Epoch 7/20\n",
      "1000/1000 [==============================] - 0s 61us/step - loss: 2.3162 - acc: 0.0850\n",
      "Epoch 8/20\n",
      "1000/1000 [==============================] - 0s 64us/step - loss: 2.3132 - acc: 0.0920\n",
      "Epoch 9/20\n",
      "1000/1000 [==============================] - 0s 80us/step - loss: 2.3087 - acc: 0.0990\n",
      "Epoch 10/20\n",
      "1000/1000 [==============================] - 0s 69us/step - loss: 2.2965 - acc: 0.1130\n",
      "Epoch 11/20\n",
      "1000/1000 [==============================] - 0s 82us/step - loss: 2.3044 - acc: 0.1010\n",
      "Epoch 12/20\n",
      "1000/1000 [==============================] - 0s 71us/step - loss: 2.2907 - acc: 0.1280\n",
      "Epoch 13/20\n",
      "1000/1000 [==============================] - 0s 72us/step - loss: 2.2980 - acc: 0.1190\n",
      "Epoch 14/20\n",
      "1000/1000 [==============================] - 0s 75us/step - loss: 2.3056 - acc: 0.1260\n",
      "Epoch 15/20\n",
      "1000/1000 [==============================] - 0s 64us/step - loss: 2.3037 - acc: 0.1110\n",
      "Epoch 16/20\n",
      "1000/1000 [==============================] - 0s 58us/step - loss: 2.3025 - acc: 0.1040\n",
      "Epoch 17/20\n",
      "1000/1000 [==============================] - 0s 67us/step - loss: 2.2988 - acc: 0.1260\n",
      "Epoch 18/20\n",
      "1000/1000 [==============================] - 0s 76us/step - loss: 2.3073 - acc: 0.1070\n",
      "Epoch 19/20\n",
      "1000/1000 [==============================] - 0s 58us/step - loss: 2.2952 - acc: 0.1190\n",
      "Epoch 20/20\n",
      "1000/1000 [==============================] - 0s 63us/step - loss: 2.3035 - acc: 0.1080\n",
      "100/100 [==============================] - 0s 1ms/step\n"
     ]
    }
   ],
   "source": [
    "model = Sequential()\n",
    "\n",
    "model.add(Dense(64, activation='relu', input_dim=20))\n",
    "model.add(Dropout(0.5))\n",
    "model.add(Dense(64, activation='relu'))\n",
    "model.add(Dropout(0.5))\n",
    "model.add(Dense(10, activation='softmax'))\n",
    "\n",
    "sgd = SGD(lr=0.01, decay=1e-6, momentum=0.9, nesterov=True)\n",
    "model.compile(loss='categorical_crossentropy',\n",
    "             optimizer=sgd,\n",
    "             metrics=['accuracy'])\n",
    "model.fit(X_train, y_train,\n",
    "         epochs=20,\n",
    "         batch_size=128)\n",
    "score = model.evaluate(X_test, y_test, batch_size=128)"
   ]
  },
  {
   "cell_type": "code",
   "execution_count": 37,
   "metadata": {},
   "outputs": [
    {
     "data": {
      "text/plain": [
       "[2.307941198348999, 0.11999999731779099]"
      ]
     },
     "execution_count": 37,
     "metadata": {},
     "output_type": "execute_result"
    }
   ],
   "source": [
    "score"
   ]
  },
  {
   "cell_type": "markdown",
   "metadata": {},
   "source": [
    "# MLPを用いた二値分類:"
   ]
  },
  {
   "cell_type": "code",
   "execution_count": 26,
   "metadata": {},
   "outputs": [],
   "source": [
    "import numpy as np\n",
    "from keras.models import Sequential\n",
    "from keras.layers import Dense, Dropout"
   ]
  },
  {
   "cell_type": "code",
   "execution_count": 29,
   "metadata": {},
   "outputs": [
    {
     "data": {
      "text/plain": [
       "array([[0],\n",
       "       [0],\n",
       "       [1],\n",
       "       [0],\n",
       "       [1],\n",
       "       [1],\n",
       "       [1],\n",
       "       [0],\n",
       "       [1],\n",
       "       [0]])"
      ]
     },
     "execution_count": 29,
     "metadata": {},
     "output_type": "execute_result"
    }
   ],
   "source": [
    "X_train = np.random.random((1000, 20))\n",
    "y_train = np.random.randint(2, size=(1000, 1))\n",
    "X_test = np.random.random((100, 20))\n",
    "y_test = np.random.randint(2, size=(100, 1))\n",
    "\n",
    "y_train[:10]"
   ]
  },
  {
   "cell_type": "code",
   "execution_count": 31,
   "metadata": {},
   "outputs": [
    {
     "name": "stdout",
     "output_type": "stream",
     "text": [
      "Epoch 1/20\n",
      "1000/1000 [==============================] - 0s 469us/step - loss: 0.7363 - acc: 0.5040\n",
      "Epoch 2/20\n",
      "1000/1000 [==============================] - 0s 54us/step - loss: 0.7115 - acc: 0.4990\n",
      "Epoch 3/20\n",
      "1000/1000 [==============================] - 0s 61us/step - loss: 0.7135 - acc: 0.5250\n",
      "Epoch 4/20\n",
      "1000/1000 [==============================] - 0s 54us/step - loss: 0.7015 - acc: 0.5120\n",
      "Epoch 5/20\n",
      "1000/1000 [==============================] - 0s 51us/step - loss: 0.7049 - acc: 0.5140\n",
      "Epoch 6/20\n",
      "1000/1000 [==============================] - 0s 65us/step - loss: 0.7001 - acc: 0.5230\n",
      "Epoch 7/20\n",
      "1000/1000 [==============================] - 0s 73us/step - loss: 0.6988 - acc: 0.5190\n",
      "Epoch 8/20\n",
      "1000/1000 [==============================] - 0s 63us/step - loss: 0.7015 - acc: 0.5170\n",
      "Epoch 9/20\n",
      "1000/1000 [==============================] - 0s 68us/step - loss: 0.6984 - acc: 0.5260\n",
      "Epoch 10/20\n",
      "1000/1000 [==============================] - 0s 74us/step - loss: 0.6929 - acc: 0.5150\n",
      "Epoch 11/20\n",
      "1000/1000 [==============================] - 0s 61us/step - loss: 0.6933 - acc: 0.5170\n",
      "Epoch 12/20\n",
      "1000/1000 [==============================] - 0s 59us/step - loss: 0.6923 - acc: 0.5160\n",
      "Epoch 13/20\n",
      "1000/1000 [==============================] - 0s 62us/step - loss: 0.6939 - acc: 0.5320\n",
      "Epoch 14/20\n",
      "1000/1000 [==============================] - 0s 60us/step - loss: 0.6996 - acc: 0.4970\n",
      "Epoch 15/20\n",
      "1000/1000 [==============================] - 0s 59us/step - loss: 0.6973 - acc: 0.5070\n",
      "Epoch 16/20\n",
      "1000/1000 [==============================] - 0s 96us/step - loss: 0.6911 - acc: 0.5280\n",
      "Epoch 17/20\n",
      "1000/1000 [==============================] - 0s 63us/step - loss: 0.6954 - acc: 0.5080\n",
      "Epoch 18/20\n",
      "1000/1000 [==============================] - 0s 69us/step - loss: 0.6929 - acc: 0.5200\n",
      "Epoch 19/20\n",
      "1000/1000 [==============================] - 0s 62us/step - loss: 0.6930 - acc: 0.5250\n",
      "Epoch 20/20\n",
      "1000/1000 [==============================] - 0s 65us/step - loss: 0.6934 - acc: 0.5120\n",
      "100/100 [==============================] - 0s 894us/step\n"
     ]
    }
   ],
   "source": [
    "model = Sequential()\n",
    "model.add(Dense(64, input_dim=20, activation='relu'))\n",
    "model.add(Dropout(0.5))\n",
    "model.add(Dense(64, activation='relu'))\n",
    "model.add(Dropout(0.5))\n",
    "model.add(Dense(1, activation='sigmoid'))\n",
    "\n",
    "model.compile(loss=\"binary_crossentropy\",\n",
    "             optimizer='rmsprop',\n",
    "             metrics=['accuracy'])\n",
    "\n",
    "model.fit(X_train, y_train,\n",
    "         epochs=20,\n",
    "         batch_size=128)\n",
    "score = model.evaluate(X_test, y_test, batch_size=128)"
   ]
  },
  {
   "cell_type": "code",
   "execution_count": 33,
   "metadata": {},
   "outputs": [
    {
     "data": {
      "text/plain": [
       "[0.6891276836395264, 0.5400000214576721]"
      ]
     },
     "execution_count": 33,
     "metadata": {},
     "output_type": "execute_result"
    }
   ],
   "source": [
    "score"
   ]
  },
  {
   "cell_type": "code",
   "execution_count": null,
   "metadata": {},
   "outputs": [],
   "source": []
  },
  {
   "cell_type": "markdown",
   "metadata": {},
   "source": [
    "# VGG-likeなconvnet"
   ]
  },
  {
   "cell_type": "code",
   "execution_count": 39,
   "metadata": {},
   "outputs": [],
   "source": [
    "import numpy as np\n",
    "import keras\n",
    "from keras.models import Sequential\n",
    "from keras.layers import Dense, Dropout, Flatten\n",
    "from keras.layers import Conv2D, MaxPooling2D\n",
    "from keras.optimizers import SGD"
   ]
  },
  {
   "cell_type": "code",
   "execution_count": 42,
   "metadata": {},
   "outputs": [
    {
     "data": {
      "text/plain": [
       "array([[0., 0., 0., 0., 0., 0., 0., 0., 0., 1.],\n",
       "       [1., 0., 0., 0., 0., 0., 0., 0., 0., 0.],\n",
       "       [0., 0., 0., 0., 0., 0., 0., 0., 0., 1.],\n",
       "       [0., 0., 0., 0., 0., 0., 0., 0., 0., 1.],\n",
       "       [0., 0., 0., 0., 0., 1., 0., 0., 0., 0.],\n",
       "       [0., 0., 0., 0., 1., 0., 0., 0., 0., 0.],\n",
       "       [0., 1., 0., 0., 0., 0., 0., 0., 0., 0.],\n",
       "       [0., 0., 0., 0., 0., 1., 0., 0., 0., 0.],\n",
       "       [0., 0., 0., 0., 0., 0., 0., 1., 0., 0.],\n",
       "       [1., 0., 0., 0., 0., 0., 0., 0., 0., 0.]], dtype=float32)"
      ]
     },
     "execution_count": 42,
     "metadata": {},
     "output_type": "execute_result"
    }
   ],
   "source": [
    "X_train = np.random.random((100, 100, 100, 3))\n",
    "y_train = keras.utils.to_categorical(\n",
    "    np.random.randint(10, size=(100, 1)),\n",
    "    num_classes=10\n",
    ")\n",
    "y_train[:10]"
   ]
  },
  {
   "cell_type": "code",
   "execution_count": 45,
   "metadata": {},
   "outputs": [],
   "source": [
    "X_test = np.random.random((20, 100, 100, 3))\n",
    "y_test = keras.utils.to_categorical(\n",
    "    np.random.randint(10, size=(20, 1)),\n",
    "    num_classes=10\n",
    ")"
   ]
  },
  {
   "cell_type": "code",
   "execution_count": 47,
   "metadata": {},
   "outputs": [
    {
     "name": "stdout",
     "output_type": "stream",
     "text": [
      "Epoch 1/10\n",
      "100/100 [==============================] - 14s 140ms/step - loss: 2.3306\n",
      "Epoch 2/10\n",
      "100/100 [==============================] - 13s 134ms/step - loss: 2.3756\n",
      "Epoch 3/10\n",
      "100/100 [==============================] - 19s 185ms/step - loss: 2.2935\n",
      "Epoch 4/10\n",
      "100/100 [==============================] - 17s 171ms/step - loss: 2.2941\n",
      "Epoch 5/10\n",
      "100/100 [==============================] - 19s 193ms/step - loss: 2.2981\n",
      "Epoch 6/10\n",
      "100/100 [==============================] - 16s 162ms/step - loss: 2.2893\n",
      "Epoch 7/10\n",
      "100/100 [==============================] - 15s 146ms/step - loss: 2.2886\n",
      "Epoch 8/10\n",
      "100/100 [==============================] - 17s 171ms/step - loss: 2.2873\n",
      "Epoch 9/10\n",
      "100/100 [==============================] - 15s 149ms/step - loss: 2.2622\n",
      "Epoch 10/10\n",
      "100/100 [==============================] - 15s 150ms/step - loss: 2.3464\n",
      "20/20 [==============================] - 1s 51ms/step\n"
     ]
    },
    {
     "data": {
      "text/plain": [
       "2.32685923576355"
      ]
     },
     "execution_count": 47,
     "metadata": {},
     "output_type": "execute_result"
    }
   ],
   "source": [
    "model = Sequential()\n",
    "model.add(Conv2D(32, (3, 3), activation='relu',\n",
    "                 input_shape=(100, 100, 3)))\n",
    "model.add(Conv2D(32, (3, 3), activation='relu'))\n",
    "model.add(MaxPooling2D(pool_size=(2, 2)))\n",
    "model.add(Dropout(0.25))\n",
    "\n",
    "model.add(Conv2D(64, (3, 3), activation='relu'))\n",
    "model.add(Conv2D(64, (3, 3), activation='relu'))\n",
    "model.add(MaxPooling2D(pool_size=(2, 2)))\n",
    "model.add(Dropout(0.25))\n",
    "\n",
    "model.add(Flatten())\n",
    "model.add(Dense(256, activation='relu'))\n",
    "model.add(Dropout(0.5))\n",
    "model.add(Dense(10, activation='softmax'))\n",
    "\n",
    "sgd = SGD(lr=0.01, decay=1e-6, momentum=0.9, nesterov=True)\n",
    "model.compile(loss='categorical_crossentropy', optimizer=sgd)\n",
    "\n",
    "model.fit(X_train, y_train, batch_size=32, epochs=10)\n",
    "score = model.evaluate(X_test, y_test, batch_size=32)\n",
    "score"
   ]
  },
  {
   "cell_type": "code",
   "execution_count": null,
   "metadata": {},
   "outputs": [],
   "source": []
  },
  {
   "cell_type": "markdown",
   "metadata": {},
   "source": [
    "# LSTMを用いた系列データ分類:"
   ]
  },
  {
   "cell_type": "raw",
   "metadata": {},
   "source": [
    "from keras.models import Sequential\n",
    "from keras.layers import Dense, Dropout\n",
    "from keras.layers import Embedding\n",
    "from keras.layers import LSTM\n",
    "\n",
    "model = Sequential()\n",
    "model.add(Embedding(max_features, output_dim=256))\n",
    "model.add(LSTM(128))\n",
    "model.add(Dropout(0.5))\n",
    "model.add(Dense(1, activation='sigmoid'))\n",
    "\n",
    "model.compile(loss='binary_crossentropy',\n",
    "              optimizer='rmsprop',\n",
    "              metrics=['accuracy'])\n",
    "\n",
    "model.fit(x_train, y_train, batch_size=16, epochs=10)\n",
    "score = model.evaluate(x_test, y_test, batch_size=16)\n",
    "score"
   ]
  },
  {
   "cell_type": "markdown",
   "metadata": {},
   "source": [
    "データがないから試せられない。max_features変数は下記URLを参照\n",
    "\n",
    "https://github.com/keras-team/keras/issues/5394"
   ]
  },
  {
   "cell_type": "code",
   "execution_count": null,
   "metadata": {},
   "outputs": [],
   "source": []
  },
  {
   "cell_type": "markdown",
   "metadata": {},
   "source": [
    "# 手書き文字の認識(1): 全結合層のみ\n",
    "https://qiita.com/yampy/items/706d44417c433e68db0d"
   ]
  },
  {
   "cell_type": "code",
   "execution_count": 59,
   "metadata": {},
   "outputs": [
    {
     "data": {
      "text/plain": [
       "(60000, 28, 28)"
      ]
     },
     "execution_count": 59,
     "metadata": {},
     "output_type": "execute_result"
    }
   ],
   "source": [
    "from keras.datasets import mnist\n",
    "\n",
    "# 内容は10種類の数字の白黒画像(28x28)です。\n",
    "# 訓練データが60000枚、テストデータが10000枚となっております。\n",
    "(x_train, y_train), (x_test, y_test) = mnist.load_data()\n",
    "x_train.shape"
   ]
  },
  {
   "cell_type": "code",
   "execution_count": 58,
   "metadata": {},
   "outputs": [
    {
     "data": {
      "text/plain": [
       "(28, 28)"
      ]
     },
     "execution_count": 58,
     "metadata": {},
     "output_type": "execute_result"
    }
   ],
   "source": [
    "x_train[0].shape"
   ]
  },
  {
   "cell_type": "code",
   "execution_count": null,
   "metadata": {},
   "outputs": [],
   "source": []
  },
  {
   "cell_type": "code",
   "execution_count": null,
   "metadata": {},
   "outputs": [],
   "source": []
  },
  {
   "cell_type": "code",
   "execution_count": null,
   "metadata": {},
   "outputs": [],
   "source": []
  },
  {
   "cell_type": "code",
   "execution_count": null,
   "metadata": {},
   "outputs": [],
   "source": []
  }
 ],
 "metadata": {
  "kernelspec": {
   "display_name": "Python 3",
   "language": "python",
   "name": "python3"
  },
  "language_info": {
   "codemirror_mode": {
    "name": "ipython",
    "version": 3
   },
   "file_extension": ".py",
   "mimetype": "text/x-python",
   "name": "python",
   "nbconvert_exporter": "python",
   "pygments_lexer": "ipython3",
   "version": "3.6.5"
  }
 },
 "nbformat": 4,
 "nbformat_minor": 2
}
