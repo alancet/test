{
 "cells": [
  {
   "cell_type": "markdown",
   "metadata": {},
   "source": [
    "http://www.yunabe.jp/docs/pandas_basics.html"
   ]
  },
  {
   "cell_type": "code",
   "execution_count": 10,
   "metadata": {
    "collapsed": false
   },
   "outputs": [],
   "source": [
    "import math\n",
    "import numpy as np\n",
    "import pandas as pd\n",
    "import matplotlib.pyplot as plt\n",
    "%matplotlib inline"
   ]
  },
  {
   "cell_type": "code",
   "execution_count": 4,
   "metadata": {
    "collapsed": false
   },
   "outputs": [
    {
     "name": "stdout",
     "output_type": "stream",
     "text": [
      "a    1\n",
      "b    2\n",
      "c    3\n",
      "dtype: int64\n"
     ]
    }
   ],
   "source": [
    "series = pd.Series([1,2,3], index=['a', 'b', 'c'])\n",
    "print(series)"
   ]
  },
  {
   "cell_type": "code",
   "execution_count": 5,
   "metadata": {
    "collapsed": false
   },
   "outputs": [
    {
     "name": "stdout",
     "output_type": "stream",
     "text": [
      "0    1\n",
      "1    2\n",
      "2    3\n",
      "dtype: int64\n"
     ]
    }
   ],
   "source": [
    "series = pd.Series([1,2,3])\n",
    "print(series)"
   ]
  },
  {
   "cell_type": "code",
   "execution_count": 20,
   "metadata": {
    "collapsed": false
   },
   "outputs": [
    {
     "name": "stdout",
     "output_type": "stream",
     "text": [
      "   a\n",
      "0  1\n",
      "1  2\n",
      "2  3\n",
      "     0    1    2\n",
      "0    1    2    3\n",
      "1    a    b    c\n",
      "2  4.5  6.7  8.9\n",
      "     0    1    2    3\n",
      "0  1.0  0.0  0.0  0.0\n",
      "1  0.0  1.0  0.0  0.0\n",
      "2  0.0  0.0  1.0  0.0\n",
      "3  0.0  0.0  0.0  1.0\n"
     ]
    }
   ],
   "source": [
    "print(pd.DataFrame({'a': [1,2,3]}))\n",
    "print(pd.DataFrame([[1,2,3], ['a', 'b', 'c'], [4.5, 6.7, 8.9]]))\n",
    "print(pd.DataFrame(np.eye(4)))"
   ]
  },
  {
   "cell_type": "code",
   "execution_count": 7,
   "metadata": {
    "collapsed": false
   },
   "outputs": [
    {
     "name": "stdout",
     "output_type": "stream",
     "text": [
      "[-0.54268327 -2.47136123  0.46289378]\n",
      "[-0.04982647 -0.44819506 -0.56236475 -0.92625649]\n",
      "[[ 2.1211886  -0.30951147]\n",
      " [-0.20735133 -1.18345389]\n",
      " [ 0.9635353   1.08984613]\n",
      " [-0.32243794  0.58001905]]\n",
      "[[ 1.72637465  0.92553615  0.80577854 -0.09751241]\n",
      " [-0.17032811  0.93051873 -1.7269931   1.72795655]\n",
      " [ 0.83790407  0.25688713  0.22699219  1.66852554]\n",
      " [-1.76249142  0.84398723  1.44918511  1.36448823]]\n",
      "[[-0.55187362]\n",
      " [ 0.44592008]\n",
      " [ 1.27671735]\n",
      " [-0.4737393 ]]\n"
     ]
    }
   ],
   "source": [
    "print(np.random.randn(3))\n",
    "print(np.random.randn(4))\n",
    "print(np.random.randn(4,2))\n",
    "print(np.random.randn(4,4))\n",
    "print(np.random.randn(4,1))"
   ]
  },
  {
   "cell_type": "code",
   "execution_count": 29,
   "metadata": {
    "collapsed": false
   },
   "outputs": [
    {
     "name": "stdout",
     "output_type": "stream",
     "text": [
      "        one     three       two\n",
      "a  0.948704       NaN  1.377392\n",
      "b -0.009489  0.114422 -0.202882\n",
      "c  1.633352 -0.094811  0.196455\n",
      "d       NaN -1.645152 -0.951077\n"
     ]
    },
    {
     "data": {
      "text/html": [
       "<div>\n",
       "<table border=\"1\" class=\"dataframe\">\n",
       "  <thead>\n",
       "    <tr style=\"text-align: right;\">\n",
       "      <th></th>\n",
       "      <th>one</th>\n",
       "      <th>three</th>\n",
       "      <th>two</th>\n",
       "    </tr>\n",
       "  </thead>\n",
       "  <tbody>\n",
       "    <tr>\n",
       "      <th>count</th>\n",
       "      <td>3.000000</td>\n",
       "      <td>3.000000</td>\n",
       "      <td>4.000000</td>\n",
       "    </tr>\n",
       "    <tr>\n",
       "      <th>mean</th>\n",
       "      <td>0.857523</td>\n",
       "      <td>-0.541847</td>\n",
       "      <td>0.104972</td>\n",
       "    </tr>\n",
       "    <tr>\n",
       "      <th>std</th>\n",
       "      <td>0.825207</td>\n",
       "      <td>0.961200</td>\n",
       "      <td>0.972529</td>\n",
       "    </tr>\n",
       "    <tr>\n",
       "      <th>min</th>\n",
       "      <td>-0.009489</td>\n",
       "      <td>-1.645152</td>\n",
       "      <td>-0.951077</td>\n",
       "    </tr>\n",
       "    <tr>\n",
       "      <th>25%</th>\n",
       "      <td>0.469608</td>\n",
       "      <td>-0.869981</td>\n",
       "      <td>-0.389931</td>\n",
       "    </tr>\n",
       "    <tr>\n",
       "      <th>50%</th>\n",
       "      <td>0.948704</td>\n",
       "      <td>-0.094811</td>\n",
       "      <td>-0.003213</td>\n",
       "    </tr>\n",
       "    <tr>\n",
       "      <th>75%</th>\n",
       "      <td>1.291028</td>\n",
       "      <td>0.009806</td>\n",
       "      <td>0.491689</td>\n",
       "    </tr>\n",
       "    <tr>\n",
       "      <th>max</th>\n",
       "      <td>1.633352</td>\n",
       "      <td>0.114422</td>\n",
       "      <td>1.377392</td>\n",
       "    </tr>\n",
       "  </tbody>\n",
       "</table>\n",
       "</div>"
      ],
      "text/plain": [
       "            one     three       two\n",
       "count  3.000000  3.000000  4.000000\n",
       "mean   0.857523 -0.541847  0.104972\n",
       "std    0.825207  0.961200  0.972529\n",
       "min   -0.009489 -1.645152 -0.951077\n",
       "25%    0.469608 -0.869981 -0.389931\n",
       "50%    0.948704 -0.094811 -0.003213\n",
       "75%    1.291028  0.009806  0.491689\n",
       "max    1.633352  0.114422  1.377392"
      ]
     },
     "execution_count": 29,
     "metadata": {},
     "output_type": "execute_result"
    }
   ],
   "source": [
    "df = pd.DataFrame({'one': pd.Series(np.random.randn(3), index=['a', 'b', 'c']),\n",
    "                   'two': pd.Series(np.random.randn(4), index=['a', 'b', 'c', 'd']),\n",
    "                   'three': pd.Series(np.random.randn(3), index=['b', 'c', 'd'])})\n",
    "print(df)\n",
    "df.describe()"
   ]
  },
  {
   "cell_type": "code",
   "execution_count": 35,
   "metadata": {
    "collapsed": false
   },
   "outputs": [
    {
     "data": {
      "text/plain": [
       "one      0.857523\n",
       "three   -0.541847\n",
       "two      0.104972\n",
       "dtype: float64"
      ]
     },
     "execution_count": 35,
     "metadata": {},
     "output_type": "execute_result"
    }
   ],
   "source": [
    "df.mean()"
   ]
  },
  {
   "cell_type": "code",
   "execution_count": 39,
   "metadata": {
    "collapsed": false
   },
   "outputs": [
    {
     "data": {
      "text/plain": [
       "0.85752256719038866"
      ]
     },
     "execution_count": 39,
     "metadata": {},
     "output_type": "execute_result"
    }
   ],
   "source": [
    "df['one'].mean()"
   ]
  },
  {
   "cell_type": "code",
   "execution_count": 47,
   "metadata": {
    "collapsed": false,
    "scrolled": true
   },
   "outputs": [
    {
     "name": "stdout",
     "output_type": "stream",
     "text": [
      "        one     three       two\n",
      "a  0.948704       NaN  1.377392\n",
      "b -0.009489  0.114422 -0.202882\n",
      "c  1.633352 -0.094811  0.196455\n",
      "d       NaN -1.645152 -0.951077 \n",
      "\n",
      "a    0.948704\n",
      "b   -0.009489\n",
      "c    1.633352\n",
      "d         NaN\n",
      "Name: one, dtype: float64 \n",
      "\n",
      "-0.00948873912235 \n",
      "\n"
     ]
    }
   ],
   "source": [
    "print(df, '\\n')\n",
    "\n",
    "print(df['one'], '\\n')\n",
    "\n",
    "print(df['one']['b'], '\\n')"
   ]
  },
  {
   "cell_type": "code",
   "execution_count": 51,
   "metadata": {
    "collapsed": false
   },
   "outputs": [
    {
     "name": "stdout",
     "output_type": "stream",
     "text": [
      "        one     three       two\n",
      "a  0.948704       NaN  1.377392\n",
      "b -0.009489  0.114422 -0.202882\n",
      "c  1.633352 -0.094811  0.196455\n",
      "d       NaN -1.645152 -0.951077\n"
     ]
    },
    {
     "data": {
      "text/html": [
       "<div>\n",
       "<table border=\"1\" class=\"dataframe\">\n",
       "  <thead>\n",
       "    <tr style=\"text-align: right;\">\n",
       "      <th></th>\n",
       "      <th>one</th>\n",
       "      <th>three</th>\n",
       "      <th>two</th>\n",
       "    </tr>\n",
       "  </thead>\n",
       "  <tbody>\n",
       "    <tr>\n",
       "      <th>one</th>\n",
       "      <td>1.000000</td>\n",
       "      <td>-1.000000</td>\n",
       "      <td>0.334697</td>\n",
       "    </tr>\n",
       "    <tr>\n",
       "      <th>three</th>\n",
       "      <td>-1.000000</td>\n",
       "      <td>1.000000</td>\n",
       "      <td>0.896538</td>\n",
       "    </tr>\n",
       "    <tr>\n",
       "      <th>two</th>\n",
       "      <td>0.334697</td>\n",
       "      <td>0.896538</td>\n",
       "      <td>1.000000</td>\n",
       "    </tr>\n",
       "  </tbody>\n",
       "</table>\n",
       "</div>"
      ],
      "text/plain": [
       "            one     three       two\n",
       "one    1.000000 -1.000000  0.334697\n",
       "three -1.000000  1.000000  0.896538\n",
       "two    0.334697  0.896538  1.000000"
      ]
     },
     "execution_count": 51,
     "metadata": {},
     "output_type": "execute_result"
    }
   ],
   "source": [
    "print(df)\n",
    "df.corr()"
   ]
  },
  {
   "cell_type": "code",
   "execution_count": 62,
   "metadata": {
    "collapsed": false
   },
   "outputs": [
    {
     "data": {
      "text/html": [
       "<div>\n",
       "<table border=\"1\" class=\"dataframe\">\n",
       "  <thead>\n",
       "    <tr style=\"text-align: right;\">\n",
       "      <th></th>\n",
       "      <th>one</th>\n",
       "      <th>three</th>\n",
       "      <th>two</th>\n",
       "    </tr>\n",
       "  </thead>\n",
       "  <tbody>\n",
       "    <tr>\n",
       "      <th>d</th>\n",
       "      <td>NaN</td>\n",
       "      <td>-1.645152</td>\n",
       "      <td>-0.951077</td>\n",
       "    </tr>\n",
       "    <tr>\n",
       "      <th>a</th>\n",
       "      <td>0.948704</td>\n",
       "      <td>NaN</td>\n",
       "      <td>1.377392</td>\n",
       "    </tr>\n",
       "  </tbody>\n",
       "</table>\n",
       "</div>"
      ],
      "text/plain": [
       "        one     three       two\n",
       "d       NaN -1.645152 -0.951077\n",
       "a  0.948704       NaN  1.377392"
      ]
     },
     "execution_count": 62,
     "metadata": {},
     "output_type": "execute_result"
    }
   ],
   "source": [
    "df.reindex(['d', 'a'])"
   ]
  },
  {
   "cell_type": "code",
   "execution_count": 72,
   "metadata": {
    "collapsed": false
   },
   "outputs": [
    {
     "name": "stdout",
     "output_type": "stream",
     "text": [
      "Index(['a', 'b', 'c', 'd'], dtype='object')\n"
     ]
    },
    {
     "data": {
      "text/html": [
       "<div>\n",
       "<table border=\"1\" class=\"dataframe\">\n",
       "  <thead>\n",
       "    <tr style=\"text-align: right;\">\n",
       "      <th></th>\n",
       "      <th>one</th>\n",
       "      <th>three</th>\n",
       "      <th>two</th>\n",
       "    </tr>\n",
       "  </thead>\n",
       "  <tbody>\n",
       "    <tr>\n",
       "      <th>d</th>\n",
       "      <td>NaN</td>\n",
       "      <td>-1.645152</td>\n",
       "      <td>-0.951077</td>\n",
       "    </tr>\n",
       "    <tr>\n",
       "      <th>b</th>\n",
       "      <td>-0.009489</td>\n",
       "      <td>0.114422</td>\n",
       "      <td>-0.202882</td>\n",
       "    </tr>\n",
       "    <tr>\n",
       "      <th>a</th>\n",
       "      <td>0.948704</td>\n",
       "      <td>NaN</td>\n",
       "      <td>1.377392</td>\n",
       "    </tr>\n",
       "    <tr>\n",
       "      <th>c</th>\n",
       "      <td>1.633352</td>\n",
       "      <td>-0.094811</td>\n",
       "      <td>0.196455</td>\n",
       "    </tr>\n",
       "  </tbody>\n",
       "</table>\n",
       "</div>"
      ],
      "text/plain": [
       "        one     three       two\n",
       "d       NaN -1.645152 -0.951077\n",
       "b -0.009489  0.114422 -0.202882\n",
       "a  0.948704       NaN  1.377392\n",
       "c  1.633352 -0.094811  0.196455"
      ]
     },
     "execution_count": 72,
     "metadata": {},
     "output_type": "execute_result"
    }
   ],
   "source": [
    "print(df.index)\n",
    "df.reindex(np.random.permutation(df.index))"
   ]
  },
  {
   "cell_type": "code",
   "execution_count": 52,
   "metadata": {
    "collapsed": false
   },
   "outputs": [
    {
     "data": {
      "text/plain": [
       "array([[<matplotlib.axes._subplots.AxesSubplot object at 0x7f527cbaa550>,\n",
       "        <matplotlib.axes._subplots.AxesSubplot object at 0x7f527cb1e358>],\n",
       "       [<matplotlib.axes._subplots.AxesSubplot object at 0x7f527cae7860>,\n",
       "        <matplotlib.axes._subplots.AxesSubplot object at 0x7f527ca8cb38>]], dtype=object)"
      ]
     },
     "execution_count": 52,
     "metadata": {},
     "output_type": "execute_result"
    },
    {
     "data": {
      "image/png": "[encoded data removed]",
      "text/plain": [
       "<matplotlib.figure.Figure at 0x7f527cbb00f0>"
      ]
     },
     "metadata": {},
     "output_type": "display_data"
    }
   ],
   "source": [
    "df.hist()"
   ]
  },
  {
   "cell_type": "code",
   "execution_count": 55,
   "metadata": {
    "collapsed": false
   },
   "outputs": [
    {
     "data": {
      "text/html": [
       "<div>\n",
       "<table border=\"1\" class=\"dataframe\">\n",
       "  <thead>\n",
       "    <tr style=\"text-align: right;\">\n",
       "      <th></th>\n",
       "      <th>one</th>\n",
       "      <th>three</th>\n",
       "      <th>two</th>\n",
       "    </tr>\n",
       "  </thead>\n",
       "  <tbody>\n",
       "    <tr>\n",
       "      <th>b</th>\n",
       "      <td>-0.009489</td>\n",
       "      <td>0.114422</td>\n",
       "      <td>-0.202882</td>\n",
       "    </tr>\n",
       "    <tr>\n",
       "      <th>a</th>\n",
       "      <td>0.948704</td>\n",
       "      <td>NaN</td>\n",
       "      <td>1.377392</td>\n",
       "    </tr>\n",
       "  </tbody>\n",
       "</table>\n",
       "</div>"
      ],
      "text/plain": [
       "        one     three       two\n",
       "b -0.009489  0.114422 -0.202882\n",
       "a  0.948704       NaN  1.377392"
      ]
     },
     "execution_count": 55,
     "metadata": {},
     "output_type": "execute_result"
    }
   ],
   "source": [
    "df.sample(n=2)"
   ]
  }
 ],
 "metadata": {
  "kernelspec": {
   "display_name": "Python 3",
   "language": "python",
   "name": "python3"
  },
  "language_info": {
   "codemirror_mode": {
    "name": "ipython",
    "version": 3
   },
   "file_extension": ".py",
   "mimetype": "text/x-python",
   "name": "python",
   "nbconvert_exporter": "python",
   "pygments_lexer": "ipython3",
   "version": "3.5.2+"
  }
 },
 "nbformat": 4,
 "nbformat_minor": 1
}
