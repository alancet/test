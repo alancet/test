{
 "cells": [
  {
   "cell_type": "markdown",
   "metadata": {},
   "source": [
    "http://www.madopro.net/entry/2016/10/14/022723"
   ]
  },
  {
   "cell_type": "code",
   "execution_count": 5,
   "metadata": {
    "collapsed": true
   },
   "outputs": [],
   "source": [
    "import pandas as pd\n",
    "import numpy as np\n"
   ]
  },
  {
   "cell_type": "code",
   "execution_count": 15,
   "metadata": {
    "collapsed": false
   },
   "outputs": [
    {
     "data": {
      "text/plain": [
       "N225     16860.089844\n",
       "GSPC      2153.739990\n",
       "GDAXI    10490.860352\n",
       "dtype: float64"
      ]
     },
     "execution_count": 15,
     "metadata": {},
     "output_type": "execute_result"
    }
   ],
   "source": [
    "# 10月7日の終値のSeriesを作る\n",
    "\n",
    "# 配列から\n",
    "s = pd.Series([16860.089844, 2153.73999, 10490.860352], index=['N225', 'GSPC', 'GDAXI'])\n",
    "s"
   ]
  },
  {
   "cell_type": "code",
   "execution_count": 16,
   "metadata": {
    "collapsed": false
   },
   "outputs": [
    {
     "data": {
      "text/plain": [
       "GDAXI    10490.860352\n",
       "GSPC      2153.739990\n",
       "N225     16860.089844\n",
       "dtype: float64"
      ]
     },
     "execution_count": 16,
     "metadata": {},
     "output_type": "execute_result"
    }
   ],
   "source": [
    "# 辞書から\n",
    "s = pd.Series({'N225':16860.089844 , 'GSPC':2153.73999 , 'GDAXI':10490.860352 })\n",
    "s"
   ]
  },
  {
   "cell_type": "code",
   "execution_count": 36,
   "metadata": {
    "collapsed": false
   },
   "outputs": [
    {
     "data": {
      "text/html": [
       "<div>\n",
       "<table border=\"1\" class=\"dataframe\">\n",
       "  <thead>\n",
       "    <tr style=\"text-align: right;\">\n",
       "      <th></th>\n",
       "      <th>close</th>\n",
       "      <th>open</th>\n",
       "    </tr>\n",
       "  </thead>\n",
       "  <tbody>\n",
       "    <tr>\n",
       "      <th>N225</th>\n",
       "      <td>16860.089844</td>\n",
       "      <td>16883.119141</td>\n",
       "    </tr>\n",
       "    <tr>\n",
       "      <th>GSPC</th>\n",
       "      <td>2153.739990</td>\n",
       "      <td>2164.189941</td>\n",
       "    </tr>\n",
       "    <tr>\n",
       "      <th>GDAXI</th>\n",
       "      <td>10490.860352</td>\n",
       "      <td>10549.690430</td>\n",
       "    </tr>\n",
       "  </tbody>\n",
       "</table>\n",
       "</div>"
      ],
      "text/plain": [
       "              close          open\n",
       "N225   16860.089844  16883.119141\n",
       "GSPC    2153.739990   2164.189941\n",
       "GDAXI  10490.860352  10549.690430"
      ]
     },
     "execution_count": 36,
     "metadata": {},
     "output_type": "execute_result"
    }
   ],
   "source": [
    "# Seriesの辞書から\n",
    "df = pd.DataFrame({\n",
    "        'open': pd.Series([16883.119141, 2164.189941, 10549.69043], index=['N225', 'GSPC', 'GDAXI']),\n",
    "        'close': pd.Series([16860.089844, 2153.73999, 10490.860352], index=['N225', 'GSPC', 'GDAXI'])\n",
    "    })\n",
    "df"
   ]
  },
  {
   "cell_type": "code",
   "execution_count": 19,
   "metadata": {
    "collapsed": false
   },
   "outputs": [
    {
     "data": {
      "text/html": [
       "<div>\n",
       "<table border=\"1\" class=\"dataframe\">\n",
       "  <thead>\n",
       "    <tr style=\"text-align: right;\">\n",
       "      <th></th>\n",
       "      <th>close</th>\n",
       "      <th>open</th>\n",
       "    </tr>\n",
       "  </thead>\n",
       "  <tbody>\n",
       "    <tr>\n",
       "      <th>N225</th>\n",
       "      <td>16860.089844</td>\n",
       "      <td>16883.119141</td>\n",
       "    </tr>\n",
       "    <tr>\n",
       "      <th>GSPC</th>\n",
       "      <td>2153.739990</td>\n",
       "      <td>2164.189941</td>\n",
       "    </tr>\n",
       "    <tr>\n",
       "      <th>GDAXI</th>\n",
       "      <td>10490.860352</td>\n",
       "      <td>10549.690430</td>\n",
       "    </tr>\n",
       "  </tbody>\n",
       "</table>\n",
       "</div>"
      ],
      "text/plain": [
       "              close          open\n",
       "N225   16860.089844  16883.119141\n",
       "GSPC    2153.739990   2164.189941\n",
       "GDAXI  10490.860352  10549.690430"
      ]
     },
     "execution_count": 19,
     "metadata": {},
     "output_type": "execute_result"
    }
   ],
   "source": [
    "# 配列の辞書から\n",
    "df = pd.DataFrame({\n",
    "        'open': [16883.119141, 2164.189941, 10549.69043],\n",
    "        'close': [16860.089844, 2153.73999, 10490.860352]\n",
    "    }, index=['N225', 'GSPC', 'GDAXI'])\n",
    "df"
   ]
  },
  {
   "cell_type": "code",
   "execution_count": 29,
   "metadata": {
    "collapsed": false
   },
   "outputs": [
    {
     "name": "stdout",
     "output_type": "stream",
     "text": [
      "N225     16860.089844\n",
      "GSPC      2153.739990\n",
      "GDAXI    10490.860352\n",
      "Name: close, dtype: float64 \n",
      "\n",
      "N225     16860.089844\n",
      "GSPC      2153.739990\n",
      "GDAXI    10490.860352\n",
      "Name: close, dtype: float64 \n",
      "\n"
     ]
    }
   ],
   "source": [
    "print(df['close'], '\\n')\n",
    "print(df.close, '\\n')"
   ]
  },
  {
   "cell_type": "code",
   "execution_count": 38,
   "metadata": {
    "collapsed": false
   },
   "outputs": [
    {
     "name": "stdout",
     "output_type": "stream",
     "text": [
      "close    16860.089844\n",
      "open     16883.119141\n",
      "Name: N225, dtype: float64 \n",
      "\n",
      "close    16860.089844\n",
      "open     16883.119141\n",
      "Name: N225, dtype: float64 \n",
      "\n",
      "             close          open\n",
      "N225  16860.089844  16883.119141\n",
      "GSPC   2153.739990   2164.189941 \n",
      "\n",
      "             close          open\n",
      "N225  16860.089844  16883.119141\n",
      "GSPC   2153.739990   2164.189941 \n",
      "\n"
     ]
    }
   ],
   "source": [
    "print(df.loc['N225'], '\\n')\n",
    "print(df.iloc[0], '\\n')\n",
    "print(df.iloc[0:2], '\\n')\n",
    "print(df.iloc[[True, True, False]], '\\n')\n"
   ]
  },
  {
   "cell_type": "code",
   "execution_count": null,
   "metadata": {},
   "outputs": [],
   "source": []
  },
  {
   "cell_type": "code",
   "execution_count": null,
   "metadata": {},
   "outputs": [],
   "source": []
  },
  {
   "cell_type": "markdown",
   "metadata": {},
   "source": [
    "http://cocodrips.hateblo.jp/entry/2017/07/30/185430"
   ]
  },
  {
   "cell_type": "code",
   "execution_count": null,
   "metadata": {},
   "outputs": [],
   "source": []
  },
  {
   "cell_type": "code",
   "execution_count": null,
   "metadata": {},
   "outputs": [],
   "source": []
  },
  {
   "cell_type": "code",
   "execution_count": null,
   "metadata": {},
   "outputs": [],
   "source": []
  },
  {
   "cell_type": "code",
   "execution_count": null,
   "metadata": {},
   "outputs": [],
   "source": []
  },
  {
   "cell_type": "code",
   "execution_count": null,
   "metadata": {},
   "outputs": [],
   "source": []
  },
  {
   "cell_type": "code",
   "execution_count": null,
   "metadata": {},
   "outputs": [],
   "source": []
  },
  {
   "cell_type": "code",
   "execution_count": null,
   "metadata": {},
   "outputs": [],
   "source": []
  },
  {
   "cell_type": "code",
   "execution_count": null,
   "metadata": {},
   "outputs": [],
   "source": []
  },
  {
   "cell_type": "code",
   "execution_count": null,
   "metadata": {},
   "outputs": [],
   "source": []
  },
  {
   "cell_type": "code",
   "execution_count": null,
   "metadata": {},
   "outputs": [],
   "source": []
  },
  {
   "cell_type": "code",
   "execution_count": null,
   "metadata": {},
   "outputs": [],
   "source": []
  }
 ],
 "metadata": {
  "anaconda-cloud": {},
  "kernelspec": {
   "display_name": "Python [conda root]",
   "language": "python",
   "name": "conda-root-py"
  },
  "language_info": {
   "codemirror_mode": {
    "name": "ipython",
    "version": 3
   },
   "file_extension": ".py",
   "mimetype": "text/x-python",
   "name": "python",
   "nbconvert_exporter": "python",
   "pygments_lexer": "ipython3",
   "version": "3.6.4"
  }
 },
 "nbformat": 4,
 "nbformat_minor": 2
}
