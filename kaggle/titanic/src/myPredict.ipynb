{
 "cells": [
  {
   "cell_type": "markdown",
   "metadata": {},
   "source": [
    "Go to <a href=#bookmark>my bookmark</a>"
   ]
  },
  {
   "cell_type": "markdown",
   "metadata": {},
   "source": [
    "<a name='bookmark' /> my bookmark"
   ]
  },
  {
   "cell_type": "code",
   "execution_count": 95,
   "metadata": {},
   "outputs": [],
   "source": [
    "import warnings\n",
    "\n",
    "warnings.simplefilter(\"ignore\")\n",
    "\n",
    "import time\n",
    "\n",
    "# data analysis and wrangling\n",
    "import pandas as pd\n",
    "import numpy as np\n",
    "import random as rnd\n",
    "import scipy as sp\n",
    "\n",
    "# visualization\n",
    "import seaborn as sns\n",
    "import matplotlib.pyplot as plt\n",
    "%matplotlib inline\n",
    "\n",
    "# train, test, validate\n",
    "from sklearn.model_selection import GridSearchCV\n",
    "from sklearn.model_selection import RandomizedSearchCV\n",
    "from sklearn.model_selection import cross_val_score\n",
    "from sklearn.model_selection import StratifiedKFold\n",
    "\n",
    "from sklearn import metrics\n",
    "from sklearn.model_selection import train_test_split\n",
    "from sklearn.pipeline import Pipeline\n",
    "from sklearn.pipeline import make_pipeline\n",
    "from sklearn.metrics import confusion_matrix\n",
    "\n",
    "# models\n",
    "from sklearn.linear_model import LogisticRegression\n",
    "from sklearn.svm import SVC, LinearSVC\n",
    "from sklearn.ensemble import RandomForestClassifier\n",
    "from sklearn.neighbors import KNeighborsClassifier\n",
    "from sklearn.naive_bayes import GaussianNB\n",
    "from sklearn.linear_model import Perceptron\n",
    "from sklearn.linear_model import SGDClassifier\n",
    "from sklearn.tree import DecisionTreeClassifier\n",
    "from sklearn.ensemble import RandomForestClassifier\n",
    "from sklearn.ensemble import GradientBoostingClassifier\n",
    "from sklearn.ensemble import AdaBoostClassifier\n",
    "\n",
    "import xgboost as xgb\n",
    "from xgboost.sklearn import XGBClassifier\n",
    "\n",
    "\n",
    "# scaling\n",
    "from sklearn.preprocessing import MinMaxScaler\n",
    "from sklearn.preprocessing import StandardScaler\n",
    "from sklearn.preprocessing import RobustScaler\n",
    "from sklearn.preprocessing import Normalizer\n",
    "\n",
    "# decomposition\n",
    "from sklearn.decomposition import PCA\n",
    "from sklearn.decomposition import NMF\n",
    "\n",
    "# feature engineering\n",
    "from sklearn.preprocessing import PolynomialFeatures\n",
    "from sklearn.manifold import TSNE\n",
    "\n",
    "# feature selection\n",
    "from sklearn.feature_selection import SelectPercentile\n",
    "from sklearn.feature_selection import SelectFromModel\n",
    "from sklearn.feature_selection import RFE"
   ]
  },
  {
   "cell_type": "code",
   "execution_count": 2,
   "metadata": {},
   "outputs": [],
   "source": [
    "# Utility function to report best scores\n",
    "def report(results, n_top=3):\n",
    "    \"\"\"Utility function to report best scores\n",
    "    \"\"\"\n",
    "    for i in range(1, n_top + 1):\n",
    "        candidates = np.flatnonzero(results['rank_test_score'] == i)\n",
    "        for candidate in candidates:\n",
    "            print(\"Rank: {0}\".format(i))\n",
    "            print(\"Score: {0:f} (std: {1:f})\".format(\n",
    "                  results['mean_test_score'][candidate],\n",
    "                  results['std_test_score'][candidate]))\n",
    "            print(\"Pars: {0}\".format(results['params'][candidate]))\n",
    "            print(\"\")\n",
    "            \n",
    "\n",
    "def report2(results, n_top=3):\n",
    "    \"\"\"Utility function to report best scores\n",
    "    \"\"\"\n",
    "    print(\"Rank|Score(std)|Params\", list(results['params'][0].keys()))\n",
    "    for i in range(1, n_top + 1):\n",
    "        candidates = np.flatnonzero(results['rank_test_score'] == i)\n",
    "        for candidate in candidates:\n",
    "            print(\"{0}|\".format(i), end=\"\")\n",
    "            print(\"{0:f}(std:{1:f})|\".format(\n",
    "                  results['mean_test_score'][candidate],\n",
    "                  results['std_test_score'][candidate]), end=\"\")\n",
    "            print(\"{0}\".format(list(results['params'][candidate].values())))"
   ]
  },
  {
   "cell_type": "code",
   "execution_count": 3,
   "metadata": {},
   "outputs": [],
   "source": [
    "train_df = pd.read_csv('../input/train.csv')\n",
    "test_df = pd.read_csv('../input/test.csv')\n",
    "combine = [train_df, test_df]"
   ]
  },
  {
   "cell_type": "raw",
   "metadata": {},
   "source": [
    "train_df.head()"
   ]
  },
  {
   "cell_type": "markdown",
   "metadata": {},
   "source": [
    "----\n",
    "# modify features"
   ]
  },
  {
   "cell_type": "markdown",
   "metadata": {},
   "source": [
    "## fill na of Fare in test data "
   ]
  },
  {
   "cell_type": "raw",
   "metadata": {},
   "source": [
    "# fill by Fare median of test_df\n",
    "test_df['Fare'].fillna(test_df['Fare'].dropna().median(), inplace=True)\n",
    "combine = [train_df, test_df]"
   ]
  },
  {
   "cell_type": "markdown",
   "metadata": {},
   "source": [
    "missing Fare is Pclass 3 member's fare.\n",
    "Fill it by Pclass's Fare median 8.05"
   ]
  },
  {
   "cell_type": "raw",
   "metadata": {},
   "source": [
    "# fill by Pclass base Fare median\n",
    "data_df = train_df.append(test_df) # The entire data: train + test.\n",
    "\n",
    "test_df['Fare'].fillna(data_df[data_df.Pclass == 3].Fare.median(), inplace=True)\n",
    "combine = [train_df, test_df]"
   ]
  },
  {
   "cell_type": "raw",
   "metadata": {},
   "source": [
    "test_df[\"Fare\"].head()"
   ]
  },
  {
   "cell_type": "raw",
   "metadata": {},
   "source": [
    "test_df.Fare.isna().any()"
   ]
  },
  {
   "cell_type": "code",
   "execution_count": null,
   "metadata": {},
   "outputs": [],
   "source": []
  },
  {
   "cell_type": "raw",
   "metadata": {},
   "source": [
    "train_df.groupby(\"Pclass\").Fare.median()"
   ]
  },
  {
   "cell_type": "raw",
   "metadata": {},
   "source": [
    "test_df.groupby(\"Pclass\").Fare.median()"
   ]
  },
  {
   "cell_type": "code",
   "execution_count": 4,
   "metadata": {},
   "outputs": [
    {
     "data": {
      "text/html": [
       "<div>\n",
       "<style scoped>\n",
       "    .dataframe tbody tr th:only-of-type {\n",
       "        vertical-align: middle;\n",
       "    }\n",
       "\n",
       "    .dataframe tbody tr th {\n",
       "        vertical-align: top;\n",
       "    }\n",
       "\n",
       "    .dataframe thead th {\n",
       "        text-align: right;\n",
       "    }\n",
       "</style>\n",
       "<table border=\"1\" class=\"dataframe\">\n",
       "  <thead>\n",
       "    <tr style=\"text-align: right;\">\n",
       "      <th></th>\n",
       "      <th>PassengerId</th>\n",
       "      <th>Pclass</th>\n",
       "      <th>Name</th>\n",
       "      <th>Sex</th>\n",
       "      <th>Age</th>\n",
       "      <th>SibSp</th>\n",
       "      <th>Parch</th>\n",
       "      <th>Ticket</th>\n",
       "      <th>Fare</th>\n",
       "      <th>Cabin</th>\n",
       "      <th>Embarked</th>\n",
       "    </tr>\n",
       "  </thead>\n",
       "  <tbody>\n",
       "    <tr>\n",
       "      <th>152</th>\n",
       "      <td>1044</td>\n",
       "      <td>3</td>\n",
       "      <td>Storey, Mr. Thomas</td>\n",
       "      <td>male</td>\n",
       "      <td>60.5</td>\n",
       "      <td>0</td>\n",
       "      <td>0</td>\n",
       "      <td>3701</td>\n",
       "      <td>NaN</td>\n",
       "      <td>NaN</td>\n",
       "      <td>S</td>\n",
       "    </tr>\n",
       "  </tbody>\n",
       "</table>\n",
       "</div>"
      ],
      "text/plain": [
       "     PassengerId  Pclass                Name   Sex   Age  SibSp  Parch Ticket  \\\n",
       "152         1044       3  Storey, Mr. Thomas  male  60.5      0      0   3701   \n",
       "\n",
       "     Fare Cabin Embarked  \n",
       "152   NaN   NaN        S  "
      ]
     },
     "execution_count": 4,
     "metadata": {},
     "output_type": "execute_result"
    }
   ],
   "source": [
    "test_df[test_df.Fare.isna()]"
   ]
  },
  {
   "cell_type": "raw",
   "metadata": {},
   "source": [
    "test_df['Fare'].dropna().median()"
   ]
  },
  {
   "cell_type": "raw",
   "metadata": {},
   "source": [
    "data_df = train_df.append(test_df) # The entire data: train + test.\n",
    "data_df.groupby(\"Pclass\").Fare.median()"
   ]
  },
  {
   "cell_type": "raw",
   "metadata": {},
   "source": [
    "data_df[data_df.Pclass == 3].Fare.median()"
   ]
  },
  {
   "cell_type": "markdown",
   "metadata": {},
   "source": [
    "## make Family_Survival feature\n",
    "### fill na of Fare in test data by mean of all data too\n",
    "https://www.kaggle.com/konstantinmasich/titanic-0-82-0-83/\n"
   ]
  },
  {
   "cell_type": "code",
   "execution_count": 5,
   "metadata": {},
   "outputs": [
    {
     "name": "stdout",
     "output_type": "stream",
     "text": [
      "Number of passengers with family survival information: 420\n"
     ]
    }
   ],
   "source": [
    "data_df = train_df.append(test_df) # The entire data: train + test.\n",
    "\n",
    "data_df['Last_Name'] = data_df['Name'].apply(lambda x: str.split(x, \",\")[0])\n",
    "#data_df['Fare'].fillna(data_df['Fare'].mean(), inplace=True)\n",
    "data_df['Fare'].fillna(data_df[data_df.Pclass == 3].Fare.median(), inplace=True)\n",
    "\n",
    "\n",
    "DEFAULT_SURVIVAL_VALUE = 0.5\n",
    "data_df['Family_Survival'] = DEFAULT_SURVIVAL_VALUE\n",
    "\n",
    "for grp, grp_df in data_df[['Survived','Name', 'Last_Name', 'Fare', 'Ticket', 'PassengerId',\n",
    "                           'SibSp', 'Parch', 'Age', 'Cabin']].groupby(['Last_Name', 'Fare']):\n",
    "    \n",
    "    if (len(grp_df) != 1):\n",
    "        # A Family group is found.\n",
    "        for ind, row in grp_df.iterrows():\n",
    "            smax = grp_df.drop(ind)['Survived'].max()\n",
    "            smin = grp_df.drop(ind)['Survived'].min()\n",
    "            passID = row['PassengerId']\n",
    "            if (smax == 1.0):\n",
    "                data_df.loc[data_df['PassengerId'] == passID, 'Family_Survival'] = 1\n",
    "            elif (smin==0.0):\n",
    "                data_df.loc[data_df['PassengerId'] == passID, 'Family_Survival'] = 0\n",
    "\n",
    "print(\"Number of passengers with family survival information:\", \n",
    "      data_df.loc[data_df['Family_Survival']!=0.5].shape[0])\n"
   ]
  },
  {
   "cell_type": "code",
   "execution_count": 6,
   "metadata": {},
   "outputs": [
    {
     "data": {
      "text/html": [
       "<div>\n",
       "<style scoped>\n",
       "    .dataframe tbody tr th:only-of-type {\n",
       "        vertical-align: middle;\n",
       "    }\n",
       "\n",
       "    .dataframe tbody tr th {\n",
       "        vertical-align: top;\n",
       "    }\n",
       "\n",
       "    .dataframe thead th {\n",
       "        text-align: right;\n",
       "    }\n",
       "</style>\n",
       "<table border=\"1\" class=\"dataframe\">\n",
       "  <thead>\n",
       "    <tr style=\"text-align: right;\">\n",
       "      <th></th>\n",
       "      <th>Age</th>\n",
       "      <th>Cabin</th>\n",
       "      <th>Embarked</th>\n",
       "      <th>Fare</th>\n",
       "      <th>Name</th>\n",
       "      <th>Parch</th>\n",
       "      <th>PassengerId</th>\n",
       "      <th>Pclass</th>\n",
       "      <th>Sex</th>\n",
       "      <th>SibSp</th>\n",
       "      <th>Survived</th>\n",
       "      <th>Ticket</th>\n",
       "      <th>Last_Name</th>\n",
       "      <th>Family_Survival</th>\n",
       "    </tr>\n",
       "  </thead>\n",
       "  <tbody>\n",
       "    <tr>\n",
       "      <th>0</th>\n",
       "      <td>22.0</td>\n",
       "      <td>NaN</td>\n",
       "      <td>S</td>\n",
       "      <td>7.2500</td>\n",
       "      <td>Braund, Mr. Owen Harris</td>\n",
       "      <td>0</td>\n",
       "      <td>1</td>\n",
       "      <td>3</td>\n",
       "      <td>male</td>\n",
       "      <td>1</td>\n",
       "      <td>0.0</td>\n",
       "      <td>A/5 21171</td>\n",
       "      <td>Braund</td>\n",
       "      <td>0.5</td>\n",
       "    </tr>\n",
       "    <tr>\n",
       "      <th>1</th>\n",
       "      <td>38.0</td>\n",
       "      <td>C85</td>\n",
       "      <td>C</td>\n",
       "      <td>71.2833</td>\n",
       "      <td>Cumings, Mrs. John Bradley (Florence Briggs Th...</td>\n",
       "      <td>0</td>\n",
       "      <td>2</td>\n",
       "      <td>1</td>\n",
       "      <td>female</td>\n",
       "      <td>1</td>\n",
       "      <td>1.0</td>\n",
       "      <td>PC 17599</td>\n",
       "      <td>Cumings</td>\n",
       "      <td>0.5</td>\n",
       "    </tr>\n",
       "    <tr>\n",
       "      <th>2</th>\n",
       "      <td>26.0</td>\n",
       "      <td>NaN</td>\n",
       "      <td>S</td>\n",
       "      <td>7.9250</td>\n",
       "      <td>Heikkinen, Miss. Laina</td>\n",
       "      <td>0</td>\n",
       "      <td>3</td>\n",
       "      <td>3</td>\n",
       "      <td>female</td>\n",
       "      <td>0</td>\n",
       "      <td>1.0</td>\n",
       "      <td>STON/O2. 3101282</td>\n",
       "      <td>Heikkinen</td>\n",
       "      <td>0.5</td>\n",
       "    </tr>\n",
       "    <tr>\n",
       "      <th>3</th>\n",
       "      <td>35.0</td>\n",
       "      <td>C123</td>\n",
       "      <td>S</td>\n",
       "      <td>53.1000</td>\n",
       "      <td>Futrelle, Mrs. Jacques Heath (Lily May Peel)</td>\n",
       "      <td>0</td>\n",
       "      <td>4</td>\n",
       "      <td>1</td>\n",
       "      <td>female</td>\n",
       "      <td>1</td>\n",
       "      <td>1.0</td>\n",
       "      <td>113803</td>\n",
       "      <td>Futrelle</td>\n",
       "      <td>0.0</td>\n",
       "    </tr>\n",
       "    <tr>\n",
       "      <th>4</th>\n",
       "      <td>35.0</td>\n",
       "      <td>NaN</td>\n",
       "      <td>S</td>\n",
       "      <td>8.0500</td>\n",
       "      <td>Allen, Mr. William Henry</td>\n",
       "      <td>0</td>\n",
       "      <td>5</td>\n",
       "      <td>3</td>\n",
       "      <td>male</td>\n",
       "      <td>0</td>\n",
       "      <td>0.0</td>\n",
       "      <td>373450</td>\n",
       "      <td>Allen</td>\n",
       "      <td>0.5</td>\n",
       "    </tr>\n",
       "  </tbody>\n",
       "</table>\n",
       "</div>"
      ],
      "text/plain": [
       "    Age Cabin Embarked     Fare  \\\n",
       "0  22.0   NaN        S   7.2500   \n",
       "1  38.0   C85        C  71.2833   \n",
       "2  26.0   NaN        S   7.9250   \n",
       "3  35.0  C123        S  53.1000   \n",
       "4  35.0   NaN        S   8.0500   \n",
       "\n",
       "                                                Name  Parch  PassengerId  \\\n",
       "0                            Braund, Mr. Owen Harris      0            1   \n",
       "1  Cumings, Mrs. John Bradley (Florence Briggs Th...      0            2   \n",
       "2                             Heikkinen, Miss. Laina      0            3   \n",
       "3       Futrelle, Mrs. Jacques Heath (Lily May Peel)      0            4   \n",
       "4                           Allen, Mr. William Henry      0            5   \n",
       "\n",
       "   Pclass     Sex  SibSp  Survived            Ticket  Last_Name  \\\n",
       "0       3    male      1       0.0         A/5 21171     Braund   \n",
       "1       1  female      1       1.0          PC 17599    Cumings   \n",
       "2       3  female      0       1.0  STON/O2. 3101282  Heikkinen   \n",
       "3       1  female      1       1.0            113803   Futrelle   \n",
       "4       3    male      0       0.0            373450      Allen   \n",
       "\n",
       "   Family_Survival  \n",
       "0              0.5  \n",
       "1              0.5  \n",
       "2              0.5  \n",
       "3              0.0  \n",
       "4              0.5  "
      ]
     },
     "execution_count": 6,
     "metadata": {},
     "output_type": "execute_result"
    }
   ],
   "source": [
    "data_df.head()"
   ]
  },
  {
   "cell_type": "code",
   "execution_count": 7,
   "metadata": {},
   "outputs": [
    {
     "data": {
      "text/plain": [
       "False"
      ]
     },
     "execution_count": 7,
     "metadata": {},
     "output_type": "execute_result"
    }
   ],
   "source": [
    "data_df.Fare.isna().any()"
   ]
  },
  {
   "cell_type": "code",
   "execution_count": 8,
   "metadata": {},
   "outputs": [
    {
     "data": {
      "text/plain": [
       "True"
      ]
     },
     "execution_count": 8,
     "metadata": {},
     "output_type": "execute_result"
    }
   ],
   "source": [
    "test_df.Fare.isna().any()"
   ]
  },
  {
   "cell_type": "code",
   "execution_count": 9,
   "metadata": {},
   "outputs": [
    {
     "name": "stdout",
     "output_type": "stream",
     "text": [
      "Number of passenger with family/group survival information: 546\n"
     ]
    }
   ],
   "source": [
    "for _, grp_df in data_df.groupby('Ticket'):\n",
    "    if (len(grp_df) != 1):\n",
    "        for ind, row in grp_df.iterrows():\n",
    "            if (row['Family_Survival'] == 0) | (row['Family_Survival']== 0.5):\n",
    "                smax = grp_df.drop(ind)['Survived'].max()\n",
    "                smin = grp_df.drop(ind)['Survived'].min()\n",
    "                passID = row['PassengerId']\n",
    "                if (smax == 1.0):\n",
    "                    data_df.loc[data_df['PassengerId'] == passID, 'Family_Survival'] = 1\n",
    "                elif (smin==0.0):\n",
    "                    data_df.loc[data_df['PassengerId'] == passID, 'Family_Survival'] = 0\n",
    "                        \n",
    "print(\"Number of passenger with family/group survival information: \" \n",
    "      +str(data_df[data_df['Family_Survival']!=0.5].shape[0]))\n",
    "\n",
    "# # Family_Survival in TRAIN_DF and TEST_DF:\n",
    "#train_df['Family_Survival'] = data_df['Family_Survival'][:891]\n",
    "#test_df['Family_Survival'] = data_df['Family_Survival'][891:]\n",
    "\n",
    "train_df = data_df.iloc[:train_df.shape[0]]\n",
    "test_df = data_df.iloc[train_df.shape[0]:]\n",
    "\n",
    "train_df = train_df.drop(['Last_Name'], axis=1)\n",
    "test_df = test_df.drop(['Last_Name'], axis=1)\n",
    "combine = [train_df, test_df]\n",
    "\n",
    "combine = [train_df, test_df]"
   ]
  },
  {
   "cell_type": "raw",
   "metadata": {},
   "source": [
    "data_df.Fare.isna().any()"
   ]
  },
  {
   "cell_type": "raw",
   "metadata": {},
   "source": [
    "test_df.Fare.isna().any()"
   ]
  },
  {
   "cell_type": "code",
   "execution_count": 10,
   "metadata": {},
   "outputs": [
    {
     "data": {
      "text/html": [
       "<div>\n",
       "<style scoped>\n",
       "    .dataframe tbody tr th:only-of-type {\n",
       "        vertical-align: middle;\n",
       "    }\n",
       "\n",
       "    .dataframe tbody tr th {\n",
       "        vertical-align: top;\n",
       "    }\n",
       "\n",
       "    .dataframe thead th {\n",
       "        text-align: right;\n",
       "    }\n",
       "</style>\n",
       "<table border=\"1\" class=\"dataframe\">\n",
       "  <thead>\n",
       "    <tr style=\"text-align: right;\">\n",
       "      <th></th>\n",
       "      <th>Age</th>\n",
       "      <th>Cabin</th>\n",
       "      <th>Embarked</th>\n",
       "      <th>Fare</th>\n",
       "      <th>Name</th>\n",
       "      <th>Parch</th>\n",
       "      <th>PassengerId</th>\n",
       "      <th>Pclass</th>\n",
       "      <th>Sex</th>\n",
       "      <th>SibSp</th>\n",
       "      <th>Survived</th>\n",
       "      <th>Ticket</th>\n",
       "      <th>Family_Survival</th>\n",
       "    </tr>\n",
       "  </thead>\n",
       "  <tbody>\n",
       "    <tr>\n",
       "      <th>0</th>\n",
       "      <td>22.0</td>\n",
       "      <td>NaN</td>\n",
       "      <td>S</td>\n",
       "      <td>7.2500</td>\n",
       "      <td>Braund, Mr. Owen Harris</td>\n",
       "      <td>0</td>\n",
       "      <td>1</td>\n",
       "      <td>3</td>\n",
       "      <td>male</td>\n",
       "      <td>1</td>\n",
       "      <td>0.0</td>\n",
       "      <td>A/5 21171</td>\n",
       "      <td>0.5</td>\n",
       "    </tr>\n",
       "    <tr>\n",
       "      <th>1</th>\n",
       "      <td>38.0</td>\n",
       "      <td>C85</td>\n",
       "      <td>C</td>\n",
       "      <td>71.2833</td>\n",
       "      <td>Cumings, Mrs. John Bradley (Florence Briggs Th...</td>\n",
       "      <td>0</td>\n",
       "      <td>2</td>\n",
       "      <td>1</td>\n",
       "      <td>female</td>\n",
       "      <td>1</td>\n",
       "      <td>1.0</td>\n",
       "      <td>PC 17599</td>\n",
       "      <td>0.5</td>\n",
       "    </tr>\n",
       "    <tr>\n",
       "      <th>2</th>\n",
       "      <td>26.0</td>\n",
       "      <td>NaN</td>\n",
       "      <td>S</td>\n",
       "      <td>7.9250</td>\n",
       "      <td>Heikkinen, Miss. Laina</td>\n",
       "      <td>0</td>\n",
       "      <td>3</td>\n",
       "      <td>3</td>\n",
       "      <td>female</td>\n",
       "      <td>0</td>\n",
       "      <td>1.0</td>\n",
       "      <td>STON/O2. 3101282</td>\n",
       "      <td>0.5</td>\n",
       "    </tr>\n",
       "    <tr>\n",
       "      <th>3</th>\n",
       "      <td>35.0</td>\n",
       "      <td>C123</td>\n",
       "      <td>S</td>\n",
       "      <td>53.1000</td>\n",
       "      <td>Futrelle, Mrs. Jacques Heath (Lily May Peel)</td>\n",
       "      <td>0</td>\n",
       "      <td>4</td>\n",
       "      <td>1</td>\n",
       "      <td>female</td>\n",
       "      <td>1</td>\n",
       "      <td>1.0</td>\n",
       "      <td>113803</td>\n",
       "      <td>0.0</td>\n",
       "    </tr>\n",
       "    <tr>\n",
       "      <th>4</th>\n",
       "      <td>35.0</td>\n",
       "      <td>NaN</td>\n",
       "      <td>S</td>\n",
       "      <td>8.0500</td>\n",
       "      <td>Allen, Mr. William Henry</td>\n",
       "      <td>0</td>\n",
       "      <td>5</td>\n",
       "      <td>3</td>\n",
       "      <td>male</td>\n",
       "      <td>0</td>\n",
       "      <td>0.0</td>\n",
       "      <td>373450</td>\n",
       "      <td>0.5</td>\n",
       "    </tr>\n",
       "  </tbody>\n",
       "</table>\n",
       "</div>"
      ],
      "text/plain": [
       "    Age Cabin Embarked     Fare  \\\n",
       "0  22.0   NaN        S   7.2500   \n",
       "1  38.0   C85        C  71.2833   \n",
       "2  26.0   NaN        S   7.9250   \n",
       "3  35.0  C123        S  53.1000   \n",
       "4  35.0   NaN        S   8.0500   \n",
       "\n",
       "                                                Name  Parch  PassengerId  \\\n",
       "0                            Braund, Mr. Owen Harris      0            1   \n",
       "1  Cumings, Mrs. John Bradley (Florence Briggs Th...      0            2   \n",
       "2                             Heikkinen, Miss. Laina      0            3   \n",
       "3       Futrelle, Mrs. Jacques Heath (Lily May Peel)      0            4   \n",
       "4                           Allen, Mr. William Henry      0            5   \n",
       "\n",
       "   Pclass     Sex  SibSp  Survived            Ticket  Family_Survival  \n",
       "0       3    male      1       0.0         A/5 21171              0.5  \n",
       "1       1  female      1       1.0          PC 17599              0.5  \n",
       "2       3  female      0       1.0  STON/O2. 3101282              0.5  \n",
       "3       1  female      1       1.0            113803              0.0  \n",
       "4       3    male      0       0.0            373450              0.5  "
      ]
     },
     "execution_count": 10,
     "metadata": {},
     "output_type": "execute_result"
    }
   ],
   "source": [
    "train_df.head()"
   ]
  },
  {
   "cell_type": "code",
   "execution_count": 11,
   "metadata": {},
   "outputs": [
    {
     "data": {
      "text/plain": [
       "0.5    516\n",
       "1.0    205\n",
       "0.0    170\n",
       "Name: Family_Survival, dtype: int64"
      ]
     },
     "execution_count": 11,
     "metadata": {},
     "output_type": "execute_result"
    }
   ],
   "source": [
    "train_df.Family_Survival.value_counts()"
   ]
  },
  {
   "cell_type": "code",
   "execution_count": 12,
   "metadata": {},
   "outputs": [
    {
     "data": {
      "text/html": [
       "<div>\n",
       "<style scoped>\n",
       "    .dataframe tbody tr th:only-of-type {\n",
       "        vertical-align: middle;\n",
       "    }\n",
       "\n",
       "    .dataframe tbody tr th {\n",
       "        vertical-align: top;\n",
       "    }\n",
       "\n",
       "    .dataframe thead th {\n",
       "        text-align: right;\n",
       "    }\n",
       "</style>\n",
       "<table border=\"1\" class=\"dataframe\">\n",
       "  <thead>\n",
       "    <tr style=\"text-align: right;\">\n",
       "      <th></th>\n",
       "      <th>Age</th>\n",
       "      <th>Cabin</th>\n",
       "      <th>Embarked</th>\n",
       "      <th>Fare</th>\n",
       "      <th>Name</th>\n",
       "      <th>Parch</th>\n",
       "      <th>PassengerId</th>\n",
       "      <th>Pclass</th>\n",
       "      <th>Sex</th>\n",
       "      <th>SibSp</th>\n",
       "      <th>Survived</th>\n",
       "      <th>Ticket</th>\n",
       "      <th>Family_Survival</th>\n",
       "    </tr>\n",
       "  </thead>\n",
       "  <tbody>\n",
       "    <tr>\n",
       "      <th>0</th>\n",
       "      <td>34.5</td>\n",
       "      <td>NaN</td>\n",
       "      <td>Q</td>\n",
       "      <td>7.8292</td>\n",
       "      <td>Kelly, Mr. James</td>\n",
       "      <td>0</td>\n",
       "      <td>892</td>\n",
       "      <td>3</td>\n",
       "      <td>male</td>\n",
       "      <td>0</td>\n",
       "      <td>NaN</td>\n",
       "      <td>330911</td>\n",
       "      <td>0.5</td>\n",
       "    </tr>\n",
       "    <tr>\n",
       "      <th>1</th>\n",
       "      <td>47.0</td>\n",
       "      <td>NaN</td>\n",
       "      <td>S</td>\n",
       "      <td>7.0000</td>\n",
       "      <td>Wilkes, Mrs. James (Ellen Needs)</td>\n",
       "      <td>0</td>\n",
       "      <td>893</td>\n",
       "      <td>3</td>\n",
       "      <td>female</td>\n",
       "      <td>1</td>\n",
       "      <td>NaN</td>\n",
       "      <td>363272</td>\n",
       "      <td>0.5</td>\n",
       "    </tr>\n",
       "    <tr>\n",
       "      <th>2</th>\n",
       "      <td>62.0</td>\n",
       "      <td>NaN</td>\n",
       "      <td>Q</td>\n",
       "      <td>9.6875</td>\n",
       "      <td>Myles, Mr. Thomas Francis</td>\n",
       "      <td>0</td>\n",
       "      <td>894</td>\n",
       "      <td>2</td>\n",
       "      <td>male</td>\n",
       "      <td>0</td>\n",
       "      <td>NaN</td>\n",
       "      <td>240276</td>\n",
       "      <td>0.5</td>\n",
       "    </tr>\n",
       "    <tr>\n",
       "      <th>3</th>\n",
       "      <td>27.0</td>\n",
       "      <td>NaN</td>\n",
       "      <td>S</td>\n",
       "      <td>8.6625</td>\n",
       "      <td>Wirz, Mr. Albert</td>\n",
       "      <td>0</td>\n",
       "      <td>895</td>\n",
       "      <td>3</td>\n",
       "      <td>male</td>\n",
       "      <td>0</td>\n",
       "      <td>NaN</td>\n",
       "      <td>315154</td>\n",
       "      <td>0.5</td>\n",
       "    </tr>\n",
       "    <tr>\n",
       "      <th>4</th>\n",
       "      <td>22.0</td>\n",
       "      <td>NaN</td>\n",
       "      <td>S</td>\n",
       "      <td>12.2875</td>\n",
       "      <td>Hirvonen, Mrs. Alexander (Helga E Lindqvist)</td>\n",
       "      <td>1</td>\n",
       "      <td>896</td>\n",
       "      <td>3</td>\n",
       "      <td>female</td>\n",
       "      <td>1</td>\n",
       "      <td>NaN</td>\n",
       "      <td>3101298</td>\n",
       "      <td>1.0</td>\n",
       "    </tr>\n",
       "  </tbody>\n",
       "</table>\n",
       "</div>"
      ],
      "text/plain": [
       "    Age Cabin Embarked     Fare                                          Name  \\\n",
       "0  34.5   NaN        Q   7.8292                              Kelly, Mr. James   \n",
       "1  47.0   NaN        S   7.0000              Wilkes, Mrs. James (Ellen Needs)   \n",
       "2  62.0   NaN        Q   9.6875                     Myles, Mr. Thomas Francis   \n",
       "3  27.0   NaN        S   8.6625                              Wirz, Mr. Albert   \n",
       "4  22.0   NaN        S  12.2875  Hirvonen, Mrs. Alexander (Helga E Lindqvist)   \n",
       "\n",
       "   Parch  PassengerId  Pclass     Sex  SibSp  Survived   Ticket  \\\n",
       "0      0          892       3    male      0       NaN   330911   \n",
       "1      0          893       3  female      1       NaN   363272   \n",
       "2      0          894       2    male      0       NaN   240276   \n",
       "3      0          895       3    male      0       NaN   315154   \n",
       "4      1          896       3  female      1       NaN  3101298   \n",
       "\n",
       "   Family_Survival  \n",
       "0              0.5  \n",
       "1              0.5  \n",
       "2              0.5  \n",
       "3              0.5  \n",
       "4              1.0  "
      ]
     },
     "execution_count": 12,
     "metadata": {},
     "output_type": "execute_result"
    }
   ],
   "source": [
    "test_df.head()"
   ]
  },
  {
   "cell_type": "code",
   "execution_count": 13,
   "metadata": {},
   "outputs": [
    {
     "data": {
      "text/plain": [
       "0.5    247\n",
       "1.0     98\n",
       "0.0     73\n",
       "Name: Family_Survival, dtype: int64"
      ]
     },
     "execution_count": 13,
     "metadata": {},
     "output_type": "execute_result"
    }
   ],
   "source": [
    "test_df.Family_Survival.value_counts()"
   ]
  },
  {
   "cell_type": "markdown",
   "metadata": {},
   "source": [
    "<a name='bookmark' /> my bookmark"
   ]
  },
  {
   "cell_type": "markdown",
   "metadata": {},
   "source": [
    "----"
   ]
  },
  {
   "cell_type": "markdown",
   "metadata": {},
   "source": [
    "## make ticket length feature\n",
    "https://www.kaggle.com/yuanxuan/titanic-random-forest-82-78/notebook"
   ]
  },
  {
   "cell_type": "code",
   "execution_count": 14,
   "metadata": {},
   "outputs": [],
   "source": [
    "train_df['Ticket_Len'] = train_df['Ticket'].apply(lambda x: len(x))\n",
    "test_df['Ticket_Len'] = test_df['Ticket'].apply(lambda x: len(x))\n",
    "combine = [train_df, test_df]"
   ]
  },
  {
   "cell_type": "code",
   "execution_count": 15,
   "metadata": {},
   "outputs": [
    {
     "data": {
      "text/plain": [
       "<matplotlib.axes._subplots.AxesSubplot at 0x7f31c305d668>"
      ]
     },
     "execution_count": 15,
     "metadata": {},
     "output_type": "execute_result"
    },
    {
     "data": {
      "image/png": "[encoded data removed]",
      "text/plain": [
       "<matplotlib.figure.Figure at 0x7f31c305dc50>"
      ]
     },
     "metadata": {},
     "output_type": "display_data"
    }
   ],
   "source": [
    "sns.barplot(data=train_df, x=\"Ticket_Len\", y=\"Survived\")"
   ]
  },
  {
   "cell_type": "code",
   "execution_count": 16,
   "metadata": {},
   "outputs": [
    {
     "data": {
      "text/plain": [
       "6     419\n",
       "5     131\n",
       "4     101\n",
       "8      76\n",
       "10     41\n",
       "7      27\n",
       "9      26\n",
       "17     14\n",
       "16     11\n",
       "13     10\n",
       "12     10\n",
       "15      9\n",
       "11      8\n",
       "18      6\n",
       "3       2\n",
       "Name: Ticket_Len, dtype: int64"
      ]
     },
     "execution_count": 16,
     "metadata": {},
     "output_type": "execute_result"
    }
   ],
   "source": [
    "train_df['Ticket_Len'].value_counts(dropna=False)"
   ]
  },
  {
   "cell_type": "code",
   "execution_count": 17,
   "metadata": {},
   "outputs": [
    {
     "data": {
      "text/plain": [
       "6     183\n",
       "5      62\n",
       "4      47\n",
       "8      42\n",
       "10     22\n",
       "9      11\n",
       "11     10\n",
       "13      9\n",
       "7       9\n",
       "18      8\n",
       "12      6\n",
       "15      3\n",
       "17      2\n",
       "16      2\n",
       "3       2\n",
       "Name: Ticket_Len, dtype: int64"
      ]
     },
     "execution_count": 17,
     "metadata": {},
     "output_type": "execute_result"
    }
   ],
   "source": [
    "test_df['Ticket_Len'].value_counts(dropna=False)"
   ]
  },
  {
   "cell_type": "raw",
   "metadata": {},
   "source": [
    "# first char of Ticket seems Pclass\n",
    "train_df[[\"Pclass\", \"Ticket\", \"Ticket_Len\"]]"
   ]
  },
  {
   "cell_type": "markdown",
   "metadata": {},
   "source": [
    "----"
   ]
  },
  {
   "cell_type": "markdown",
   "metadata": {},
   "source": [
    "## make Cabin First character feature"
   ]
  },
  {
   "cell_type": "code",
   "execution_count": 18,
   "metadata": {},
   "outputs": [],
   "source": [
    "train_df[\"Cabin_Letter\"] = train_df[\"Cabin\"].fillna('0').apply(lambda x: x[0])\n",
    "test_df[\"Cabin_Letter\"] = test_df[\"Cabin\"].fillna('0').apply(lambda x: x[0])\n",
    "combine = [train_df, test_df]"
   ]
  },
  {
   "cell_type": "code",
   "execution_count": 19,
   "metadata": {},
   "outputs": [
    {
     "data": {
      "text/plain": [
       "<matplotlib.axes._subplots.AxesSubplot at 0x7f31c312ca90>"
      ]
     },
     "execution_count": 19,
     "metadata": {},
     "output_type": "execute_result"
    },
    {
     "data": {
      "image/png": "[encoded data removed]",
      "text/plain": [
       "<matplotlib.figure.Figure at 0x7f31c0fc2400>"
      ]
     },
     "metadata": {},
     "output_type": "display_data"
    }
   ],
   "source": [
    "sns.barplot(data=train_df, x=\"Cabin_Letter\", y=\"Survived\")"
   ]
  },
  {
   "cell_type": "code",
   "execution_count": 20,
   "metadata": {},
   "outputs": [
    {
     "data": {
      "text/plain": [
       "<matplotlib.axes._subplots.AxesSubplot at 0x7f31c1043ef0>"
      ]
     },
     "execution_count": 20,
     "metadata": {},
     "output_type": "execute_result"
    },
    {
     "data": {
      "image/png": "[encoded data removed]",
      "text/plain": [
       "<matplotlib.figure.Figure at 0x7f31c0f0e048>"
      ]
     },
     "metadata": {},
     "output_type": "display_data"
    }
   ],
   "source": [
    "sns.countplot(data=train_df, x=\"Cabin_Letter\", hue=\"Pclass\")"
   ]
  },
  {
   "cell_type": "raw",
   "metadata": {},
   "source": [
    "train_df[\"Cabin_Letter\"].value_counts(dropna=False)"
   ]
  },
  {
   "cell_type": "raw",
   "metadata": {},
   "source": [
    "test_df[\"Cabin_Letter\"].value_counts(dropna=False)"
   ]
  },
  {
   "cell_type": "raw",
   "metadata": {},
   "source": [
    "train_df[[\"Cabin\", \"Cabin_Letter\"]]"
   ]
  },
  {
   "cell_type": "markdown",
   "metadata": {},
   "source": [
    "### make one Cabin_Letter feature by numerical"
   ]
  },
  {
   "cell_type": "raw",
   "metadata": {},
   "source": [
    "train_test_df = pd.concat((train_df, test_df))\n",
    "train_test_df.Cabin_Letter.value_counts(dropna=False)"
   ]
  },
  {
   "cell_type": "raw",
   "metadata": {},
   "source": [
    "cabin_letter_map = {'0': 0, 'A': 1, 'B': 2,\n",
    "                   'C':3, 'D':4, 'E':5,\n",
    "                   'F':6, 'G':7, 'T':8}\n",
    "for dataset in combine:\n",
    "    dataset['Cabin_Letter'] = dataset['Cabin_Letter'].map(cabin_letter_map).astype(int)"
   ]
  },
  {
   "cell_type": "raw",
   "metadata": {},
   "source": [
    "train_df.head()"
   ]
  },
  {
   "cell_type": "markdown",
   "metadata": {},
   "source": [
    "### make dummy variable for Cabin_Letter"
   ]
  },
  {
   "cell_type": "code",
   "execution_count": 21,
   "metadata": {},
   "outputs": [],
   "source": [
    "train_test_df = pd.concat((train_df, test_df))\n",
    "\n",
    "# apply get_dummies for Cabin_Letter\n",
    "train_test_df = pd.get_dummies(train_test_df, columns=[\"Cabin_Letter\"])\n",
    "\n",
    "train_df = train_test_df.iloc[:train_df.shape[0]]\n",
    "\n",
    "test_df = train_test_df.iloc[train_df.shape[0]:]\n",
    "test_df = test_df.drop(\"Survived\", axis=1) # drop added Survived column from test_df\n",
    "\n",
    "combine = [train_df, test_df]"
   ]
  },
  {
   "cell_type": "markdown",
   "metadata": {},
   "source": [
    "**if you made Cabin_num features too, duplicate feature for NaN. delete one of these**"
   ]
  },
  {
   "cell_type": "raw",
   "metadata": {},
   "source": [
    "train_df = train_df.drop(\"Cabin_Letter_0\", axis=1)\n",
    "test_df = test_df.drop(\"Cabin_Letter_0\", axis=1)\n",
    "combine = [train_df, test_df]"
   ]
  },
  {
   "cell_type": "raw",
   "metadata": {},
   "source": [
    "train_df.head()"
   ]
  },
  {
   "cell_type": "raw",
   "metadata": {},
   "source": [
    "train_df.columns"
   ]
  },
  {
   "cell_type": "raw",
   "metadata": {},
   "source": [
    "test_df.head()"
   ]
  },
  {
   "cell_type": "markdown",
   "metadata": {},
   "source": [
    "----"
   ]
  },
  {
   "cell_type": "markdown",
   "metadata": {},
   "source": [
    "## make CabinBool feature\n",
    "**I think the idea here is that people with recorded cabin numbers are of higher socioeconomic class, and thus more likely to survive. **\n",
    "https://www.kaggle.com/nadintamer/titanic-survival-predictions-beginner\n",
    "\n",
    "- I tried it\n",
    "  - but gradient boosting result became worse. from 0.79904 to 0.77990\n",
    "  - more than cabinbool is necessary? should i use first letter of cabin name?\n",
    "\n",
    "**CabinBool is inclueded in Cabin letter and cabin number**\n",
    "**no need to use**"
   ]
  },
  {
   "cell_type": "raw",
   "metadata": {},
   "source": [
    "train_df[\"CabinBool\"] = (train_df[\"Cabin\"].notnull().astype('int'))\n",
    "test_df[\"CabinBool\"] = (test_df[\"Cabin\"].notnull().astype('int'))\n",
    "combine = [train_df, test_df]"
   ]
  },
  {
   "cell_type": "markdown",
   "metadata": {},
   "source": [
    "----"
   ]
  },
  {
   "cell_type": "markdown",
   "metadata": {},
   "source": [
    "## make Cabin number feature\n",
    "https://www.kaggle.com/yuanxuan/titanic-random-forest-82-78/notebook"
   ]
  },
  {
   "cell_type": "raw",
   "metadata": {},
   "source": [
    "train_df['Cabin'].apply(lambda x: str(x).split(' ')[-1][1:]).head()"
   ]
  },
  {
   "cell_type": "raw",
   "metadata": {},
   "source": [
    "#for i in [train_df, test_df]:\n",
    "for i in combine:\n",
    "    i['Cabin_num1'] = i['Cabin'].apply(lambda x: str(x).split(' ')[-1][1:])\n",
    "    i['Cabin_num1'].replace('an', np.NaN, inplace = True)\n",
    "    i['Cabin_num1'] = i['Cabin_num1'].apply(lambda x: int(x) if not pd.isnull(x) and x != '' else np.NaN)\n",
    "\n",
    "    i['Cabin_num'] = pd.qcut(train_df['Cabin_num1'], 3) # divide based on train_df num\n",
    "    \n",
    "    i['Cabin_num'] = i['Cabin_num'].cat.add_categories([\"nan_category\"])\n",
    "    i['Cabin_num'] = i['Cabin_num'].fillna(\"nan_category\")"
   ]
  },
  {
   "cell_type": "code",
   "execution_count": 22,
   "metadata": {},
   "outputs": [],
   "source": [
    "#for i in [train_df, test_df]:\n",
    "for i in combine:\n",
    "    i['Cabin_num'] = i['Cabin'].apply(lambda x: str(x).split(' ')[-1][1:])\n",
    "    i['Cabin_num'].replace('an', np.NaN, inplace = True)\n",
    "    i['Cabin_num'] = i['Cabin_num'].apply(lambda x: int(x) if not pd.isnull(x) and x != '' else np.NaN)\n"
   ]
  },
  {
   "cell_type": "raw",
   "metadata": {},
   "source": [
    "train_df[[\"Cabin\", \"Cabin_num\"]]"
   ]
  },
  {
   "cell_type": "raw",
   "metadata": {},
   "source": [
    "test_df[[\"Cabin\", \"Cabin_num\"]]"
   ]
  },
  {
   "cell_type": "code",
   "execution_count": 23,
   "metadata": {},
   "outputs": [
    {
     "data": {
      "text/plain": [
       "NaN                 691\n",
       "(65.667, 148.0]      67\n",
       "(1.999, 28.667]      67\n",
       "(28.667, 65.667]     66\n",
       "Name: Cabin_num_Band, dtype: int64"
      ]
     },
     "execution_count": 23,
     "metadata": {},
     "output_type": "execute_result"
    }
   ],
   "source": [
    "train_df['Cabin_num_Band'] = pd.qcut(train_df['Cabin_num'], 3)\n",
    "\n",
    "train_df['Cabin_num_Band'].value_counts(dropna=False) \n",
    "\n",
    "#NaN                 691\n",
    "#(65.667, 148.0]      67\n",
    "#(1.999, 28.667]      67\n",
    "#(28.667, 65.667]     66\n"
   ]
  },
  {
   "cell_type": "code",
   "execution_count": 24,
   "metadata": {},
   "outputs": [],
   "source": [
    "train_df['Cabin_num_Band'] = train_df['Cabin_num_Band'].cat.add_categories(\"nan_category\")\n",
    "train_df['Cabin_num_Band'] = train_df['Cabin_num_Band'].fillna(\"nan_category\")\n"
   ]
  },
  {
   "cell_type": "code",
   "execution_count": 25,
   "metadata": {},
   "outputs": [
    {
     "data": {
      "text/plain": [
       "Cabin_num_Band    Survived\n",
       "(1.999, 28.667]   1.0          48\n",
       "                  0.0          19\n",
       "(28.667, 65.667]  1.0          43\n",
       "                  0.0          23\n",
       "(65.667, 148.0]   1.0          43\n",
       "                  0.0          24\n",
       "nan_category      0.0         483\n",
       "                  1.0         208\n",
       "Name: Survived, dtype: int64"
      ]
     },
     "execution_count": 25,
     "metadata": {},
     "output_type": "execute_result"
    }
   ],
   "source": [
    "train_df.groupby([\"Cabin_num_Band\"])[\"Survived\"].value_counts(dropna=False)"
   ]
  },
  {
   "cell_type": "code",
   "execution_count": 26,
   "metadata": {},
   "outputs": [
    {
     "data": {
      "text/plain": [
       "<matplotlib.axes._subplots.AxesSubplot at 0x7f31c305def0>"
      ]
     },
     "execution_count": 26,
     "metadata": {},
     "output_type": "execute_result"
    },
    {
     "data": {
      "image/png": "[encoded data removed]",
      "text/plain": [
       "<matplotlib.figure.Figure at 0x7f31c0e887f0>"
      ]
     },
     "metadata": {},
     "output_type": "display_data"
    }
   ],
   "source": [
    "sns.barplot(data=train_df, x=\"Cabin_num_Band\", y=\"Survived\")"
   ]
  },
  {
   "cell_type": "code",
   "execution_count": 27,
   "metadata": {},
   "outputs": [],
   "source": [
    "# 3 cabin num band\n",
    "combine = [train_df, test_df]\n",
    "for dataset in combine:\n",
    "    dataset.loc[ dataset['Cabin_num'] <= 28.667, 'Cabin_num'] = 0\n",
    "    dataset.loc[(dataset['Cabin_num'] > 28.667) & (dataset['Cabin_num'] <= 65.667), 'Cabin_num'] = 1\n",
    "    dataset.loc[ dataset['Cabin_num'] > 65.667, 'Cabin_num'] = 2\n",
    "combine = [train_df, test_df]\n"
   ]
  },
  {
   "cell_type": "raw",
   "metadata": {},
   "source": [
    "train_df[['Cabin_num', 'Cabin_num_Band']]"
   ]
  },
  {
   "cell_type": "raw",
   "metadata": {},
   "source": [
    "test_df[['Cabin_num']]"
   ]
  },
  {
   "cell_type": "code",
   "execution_count": 28,
   "metadata": {},
   "outputs": [],
   "source": [
    "train_df = train_df.drop(['Cabin_num_Band'], axis=1)\n",
    "combine = [train_df, test_df]"
   ]
  },
  {
   "cell_type": "raw",
   "metadata": {},
   "source": [
    "train_df.head()"
   ]
  },
  {
   "cell_type": "raw",
   "metadata": {},
   "source": [
    "test_df.head()"
   ]
  },
  {
   "cell_type": "code",
   "execution_count": 29,
   "metadata": {},
   "outputs": [],
   "source": [
    "train_df = pd.concat((train_df, pd.get_dummies(train_df['Cabin_num'], prefix='Cabin_num', dummy_na=True)), axis = 1)\n",
    "test_df = pd.concat((test_df, pd.get_dummies(test_df['Cabin_num'], prefix='Cabin_num', dummy_na=True)), axis = 1)\n",
    "combine = [train_df, test_df]"
   ]
  },
  {
   "cell_type": "raw",
   "metadata": {},
   "source": [
    "train_df.head()"
   ]
  },
  {
   "cell_type": "raw",
   "metadata": {},
   "source": [
    "test_df.head()"
   ]
  },
  {
   "cell_type": "raw",
   "metadata": {},
   "source": [
    "train_df.columns"
   ]
  },
  {
   "cell_type": "code",
   "execution_count": null,
   "metadata": {},
   "outputs": [],
   "source": []
  },
  {
   "cell_type": "code",
   "execution_count": 30,
   "metadata": {},
   "outputs": [],
   "source": [
    "del train_df['Cabin_num']\n",
    "del test_df['Cabin_num']\n",
    "combine = [train_df, test_df]"
   ]
  },
  {
   "cell_type": "code",
   "execution_count": 31,
   "metadata": {},
   "outputs": [
    {
     "data": {
      "text/plain": [
       "Index(['Age', 'Cabin', 'Embarked', 'Fare', 'Name', 'Parch', 'PassengerId',\n",
       "       'Pclass', 'Sex', 'SibSp', 'Survived', 'Ticket', 'Family_Survival',\n",
       "       'Ticket_Len', 'Cabin_Letter_0', 'Cabin_Letter_A', 'Cabin_Letter_B',\n",
       "       'Cabin_Letter_C', 'Cabin_Letter_D', 'Cabin_Letter_E', 'Cabin_Letter_F',\n",
       "       'Cabin_Letter_G', 'Cabin_Letter_T', 'Cabin_num_0.0', 'Cabin_num_1.0',\n",
       "       'Cabin_num_2.0', 'Cabin_num_nan'],\n",
       "      dtype='object')"
      ]
     },
     "execution_count": 31,
     "metadata": {},
     "output_type": "execute_result"
    }
   ],
   "source": [
    "train_df.columns"
   ]
  },
  {
   "cell_type": "markdown",
   "metadata": {},
   "source": [
    "----"
   ]
  },
  {
   "cell_type": "markdown",
   "metadata": {},
   "source": [
    "## del Ticket, Cabin columns"
   ]
  },
  {
   "cell_type": "code",
   "execution_count": 32,
   "metadata": {},
   "outputs": [],
   "source": [
    "# del Ticket, Cabin columns\n",
    "train_df = train_df.drop(['Ticket', 'Cabin'], axis=1)\n",
    "test_df = test_df.drop(['Ticket', 'Cabin'], axis=1)\n",
    "combine = [train_df, test_df]"
   ]
  },
  {
   "cell_type": "raw",
   "metadata": {},
   "source": [
    "train_df.head()"
   ]
  },
  {
   "cell_type": "raw",
   "metadata": {},
   "source": [
    "train_df.columns"
   ]
  },
  {
   "cell_type": "markdown",
   "metadata": {},
   "source": [
    "----"
   ]
  },
  {
   "cell_type": "markdown",
   "metadata": {},
   "source": [
    "## add title"
   ]
  },
  {
   "cell_type": "code",
   "execution_count": 33,
   "metadata": {},
   "outputs": [],
   "source": [
    "# add title\n",
    "for dataset in combine:\n",
    "    dataset['Title'] = dataset.Name.str.extract(' ([A-Za-z]+)\\.', expand=False)"
   ]
  },
  {
   "cell_type": "code",
   "execution_count": 34,
   "metadata": {},
   "outputs": [
    {
     "data": {
      "text/plain": [
       "<matplotlib.axes._subplots.AxesSubplot at 0x7f31c0e965f8>"
      ]
     },
     "execution_count": 34,
     "metadata": {},
     "output_type": "execute_result"
    },
    {
     "data": {
      "image/png": "[encoded data removed]",
      "text/plain": [
       "<matplotlib.figure.Figure at 0x7f31c49bdb70>"
      ]
     },
     "metadata": {},
     "output_type": "display_data"
    }
   ],
   "source": [
    "sns.barplot(data=train_df, x=\"Title\", y=\"Survived\")"
   ]
  },
  {
   "cell_type": "code",
   "execution_count": 35,
   "metadata": {},
   "outputs": [
    {
     "data": {
      "text/plain": [
       "Mr          517\n",
       "Miss        182\n",
       "Mrs         125\n",
       "Master       40\n",
       "Dr            7\n",
       "Rev           6\n",
       "Mlle          2\n",
       "Major         2\n",
       "Col           2\n",
       "Countess      1\n",
       "Ms            1\n",
       "Jonkheer      1\n",
       "Mme           1\n",
       "Lady          1\n",
       "Sir           1\n",
       "Don           1\n",
       "Capt          1\n",
       "Name: Title, dtype: int64"
      ]
     },
     "execution_count": 35,
     "metadata": {},
     "output_type": "execute_result"
    }
   ],
   "source": [
    "train_df.Title.value_counts(dropna=False)"
   ]
  },
  {
   "cell_type": "markdown",
   "metadata": {},
   "source": [
    "----"
   ]
  },
  {
   "cell_type": "markdown",
   "metadata": {},
   "source": [
    "## make name length feature"
   ]
  },
  {
   "cell_type": "code",
   "execution_count": 36,
   "metadata": {},
   "outputs": [],
   "source": [
    "train_df['Name_Len'] = train_df['Name'].apply(lambda x: len(x))\n",
    "test_df['Name_Len'] = test_df['Name'].apply(lambda x: len(x))\n",
    "combine = [train_df, test_df]"
   ]
  },
  {
   "cell_type": "raw",
   "metadata": {},
   "source": [
    "train_df.head()"
   ]
  },
  {
   "cell_type": "raw",
   "metadata": {},
   "source": [
    "train_df[\"Name_Len\"].value_counts(dropna=False)"
   ]
  },
  {
   "cell_type": "code",
   "execution_count": 37,
   "metadata": {},
   "outputs": [
    {
     "data": {
      "text/plain": [
       "<matplotlib.axes._subplots.AxesSubplot at 0x7f31c0d4a0b8>"
      ]
     },
     "execution_count": 37,
     "metadata": {},
     "output_type": "execute_result"
    },
    {
     "data": {
      "image/png": "[encoded data removed]",
      "text/plain": [
       "<matplotlib.figure.Figure at 0x7f31c0d4c588>"
      ]
     },
     "metadata": {},
     "output_type": "display_data"
    }
   ],
   "source": [
    "sns.barplot(data=train_df, x=\"Name_Len\", y=\"Survived\")"
   ]
  },
  {
   "cell_type": "raw",
   "metadata": {},
   "source": [
    "train_df.groupby(\"Name_Len\").Survived.mean()"
   ]
  },
  {
   "cell_type": "markdown",
   "metadata": {},
   "source": [
    "----"
   ]
  },
  {
   "cell_type": "markdown",
   "metadata": {},
   "source": [
    "## map value to Sex "
   ]
  },
  {
   "cell_type": "code",
   "execution_count": 38,
   "metadata": {},
   "outputs": [],
   "source": [
    "for dataset in combine:\n",
    "    dataset[\"Sex\"] = dataset[\"Sex\"].map({'female':1, 'male':0}).astype(int)"
   ]
  },
  {
   "cell_type": "raw",
   "metadata": {},
   "source": [
    "train_df.head()"
   ]
  },
  {
   "cell_type": "markdown",
   "metadata": {},
   "source": [
    "----"
   ]
  },
  {
   "cell_type": "markdown",
   "metadata": {},
   "source": [
    "## make Age_Null_Flag if the Age is nulll"
   ]
  },
  {
   "cell_type": "code",
   "execution_count": 39,
   "metadata": {},
   "outputs": [],
   "source": [
    "train_df['Age_Null_Flag'] = train_df['Age'].apply(lambda x: 1 if pd.isnull(x) else 0)\n",
    "test_df['Age_Null_Flag'] = test_df['Age'].apply(lambda x: 1 if pd.isnull(x) else 0)\n",
    "combine = [train_df, test_df]"
   ]
  },
  {
   "cell_type": "code",
   "execution_count": 40,
   "metadata": {},
   "outputs": [
    {
     "data": {
      "text/plain": [
       "<matplotlib.axes._subplots.AxesSubplot at 0x7f31c0b9ab00>"
      ]
     },
     "execution_count": 40,
     "metadata": {},
     "output_type": "execute_result"
    },
    {
     "data": {
      "image/png": "[encoded data removed]",
      "text/plain": [
       "<matplotlib.figure.Figure at 0x7f31c0cef940>"
      ]
     },
     "metadata": {},
     "output_type": "display_data"
    }
   ],
   "source": [
    "sns.barplot(data=train_df, x=\"Age_Null_Flag\", y=\"Survived\")"
   ]
  },
  {
   "cell_type": "code",
   "execution_count": 41,
   "metadata": {},
   "outputs": [
    {
     "data": {
      "text/plain": [
       "0    714\n",
       "1    177\n",
       "Name: Age_Null_Flag, dtype: int64"
      ]
     },
     "execution_count": 41,
     "metadata": {},
     "output_type": "execute_result"
    }
   ],
   "source": [
    "train_df[\"Age_Null_Flag\"].value_counts(dropna=False)"
   ]
  },
  {
   "cell_type": "code",
   "execution_count": 42,
   "metadata": {},
   "outputs": [
    {
     "data": {
      "text/plain": [
       "0    332\n",
       "1     86\n",
       "Name: Age_Null_Flag, dtype: int64"
      ]
     },
     "execution_count": 42,
     "metadata": {},
     "output_type": "execute_result"
    }
   ],
   "source": [
    "test_df[\"Age_Null_Flag\"].value_counts(dropna=False)"
   ]
  },
  {
   "cell_type": "raw",
   "metadata": {},
   "source": [
    "train_df.head(20)"
   ]
  },
  {
   "cell_type": "raw",
   "metadata": {},
   "source": [
    "test_df.head(20)"
   ]
  },
  {
   "cell_type": "markdown",
   "metadata": {},
   "source": [
    "----"
   ]
  },
  {
   "cell_type": "markdown",
   "metadata": {},
   "source": [
    "## fill na of Age\n",
    "\n",
    "options\n",
    "\n",
    "- by Sex and Pclass\n",
    "- by Title and Pclass"
   ]
  },
  {
   "cell_type": "code",
   "execution_count": 43,
   "metadata": {},
   "outputs": [
    {
     "data": {
      "text/plain": [
       "(16.336, 32.252]    346\n",
       "(32.252, 48.168]    188\n",
       "NaN                 177\n",
       "(0.34, 16.336]      100\n",
       "(48.168, 64.084]     69\n",
       "(64.084, 80.0]       11\n",
       "Name: Age, dtype: int64"
      ]
     },
     "execution_count": 43,
     "metadata": {},
     "output_type": "execute_result"
    }
   ],
   "source": [
    "pd.cut(train_df['Age'], 5).value_counts(dropna=False)"
   ]
  },
  {
   "cell_type": "markdown",
   "metadata": {},
   "source": [
    "### by Sex and Pclass"
   ]
  },
  {
   "cell_type": "raw",
   "metadata": {},
   "source": [
    "guess_ages = np.zeros((2,3))\n",
    "\n",
    "for dataset in combine:\n",
    "    for i in range(0, 2):\n",
    "        for j in range(0, 3):\n",
    "            guess_df = dataset[(dataset['Sex'] == i) & \\\n",
    "                                  (dataset['Pclass'] == j+1)]['Age'].dropna()\n",
    "\n",
    "            # age_mean = guess_df.mean()\n",
    "            # age_std = guess_df.std()\n",
    "            # age_guess = rnd.uniform(age_mean - age_std, age_mean + age_std)\n",
    "\n",
    "            age_guess = guess_df.median()\n",
    "\n",
    "            # Convert random age float to nearest .5 age\n",
    "            guess_ages[i,j] = int( age_guess/0.5 + 0.5 ) * 0.5\n",
    "            \n",
    "    for i in range(0, 2):\n",
    "        for j in range(0, 3):\n",
    "            dataset.loc[ (dataset.Age.isnull()) & (dataset.Sex == i) & (dataset.Pclass == j+1),\\\n",
    "                    'Age'] = guess_ages[i,j]\n",
    "\n",
    "    dataset['Age'] = dataset['Age'].astype(int)"
   ]
  },
  {
   "cell_type": "raw",
   "metadata": {},
   "source": [
    "sns.barplot(data=train_df, x=\"Age\", y=\"Survived\")"
   ]
  },
  {
   "cell_type": "markdown",
   "metadata": {},
   "source": [
    "### fill nan of Age by Title and Pclass\n",
    "https://www.kaggle.com/yuanxuan/titanic-random-forest-82-78/notebook\n",
    "\n",
    "There is mistake in the original notebook.\n",
    "test_df was filled by train_df.\n",
    "So I modified."
   ]
  },
  {
   "cell_type": "raw",
   "metadata": {},
   "source": [
    "groupedAge_train = train_df.groupby(['Title', 'Pclass'])['Age']\n",
    "groupedAge_train.mean()"
   ]
  },
  {
   "cell_type": "raw",
   "metadata": {},
   "source": [
    "train_test_df = pd.concat((train_df, test_df))\n",
    "groupedAge_train_test = train_test_df.groupby(['Title', 'Pclass'])['Age']\n",
    "filledAge = groupedAge_train_test.transform(lambda x:x.fillna(x.mean()))\n",
    "train_test_df[filledAge.isna()]"
   ]
  },
  {
   "cell_type": "raw",
   "metadata": {},
   "source": [
    "groupedByTitleOnly_Age_train_test = train_test_df.groupby(['Title'])['Age']\n",
    "groupedByTitleOnly_Age_train_test.mean()"
   ]
  },
  {
   "cell_type": "code",
   "execution_count": 44,
   "metadata": {},
   "outputs": [],
   "source": [
    "train_test_df = pd.concat((train_df, test_df))\n",
    "\n",
    "groupedAge_train_test = train_test_df.groupby(['Title', 'Pclass'])['Age']\n",
    "\n",
    "# fill by title and pclass. \n",
    "# but one grouped row doesn't have Age num. \n",
    "# So need to group by only Title and fill of the mean value.\n",
    "train_test_df.Age = groupedAge_train_test.transform(lambda x:x.fillna(x.mean()))\n",
    "\n",
    "# fill by just title because no value row if group by title and pclass\n",
    "groupedByTitleOnly_Age_train_test = train_test_df.groupby(['Title'])['Age']\n",
    "train_test_df.Age = groupedByTitleOnly_Age_train_test.transform(lambda x:x.fillna(x.mean()))\n",
    "\n",
    "train_df = train_test_df.iloc[:train_df.shape[0]]\n",
    "test_df = train_test_df.iloc[train_df.shape[0]:]\n",
    "\n",
    "test_df = test_df.drop([\"Survived\"], axis=1)\n",
    "\n",
    "combine = [train_df, test_df]"
   ]
  },
  {
   "cell_type": "raw",
   "metadata": {},
   "source": [
    "groupedAge_train_test.mean()"
   ]
  },
  {
   "cell_type": "raw",
   "metadata": {},
   "source": [
    "train_test_df.Age.isna().any()"
   ]
  },
  {
   "cell_type": "raw",
   "metadata": {},
   "source": [
    "train_df.shape, test_df.shape"
   ]
  },
  {
   "cell_type": "raw",
   "metadata": {},
   "source": [
    "train_df.head(30)"
   ]
  },
  {
   "cell_type": "raw",
   "metadata": {},
   "source": [
    "test_df.head(30)"
   ]
  },
  {
   "cell_type": "raw",
   "metadata": {},
   "source": [
    "train_df.isna().any()"
   ]
  },
  {
   "cell_type": "raw",
   "metadata": {},
   "source": [
    "test_df.isna().any()"
   ]
  },
  {
   "cell_type": "markdown",
   "metadata": {},
   "source": [
    "#### tried keep Age feature and don't add AgeBand numerical feature\n",
    "if both are there, it is duplicate information\n",
    "\n",
    "**2018/03/17 tried Age instead of Age band. But AgeBand is better score for almost all models.**\n",
    "svc score was same of little bit better.\n",
    "random forest score became worse.\n",
    "so AgeBand is better"
   ]
  },
  {
   "cell_type": "markdown",
   "metadata": {},
   "source": [
    "----"
   ]
  },
  {
   "cell_type": "markdown",
   "metadata": {},
   "source": [
    "### add age band\n",
    "\n",
    "- 5 age band by pd.cut\n",
    "- 10 age band by pd.cut: this is better score.\n",
    "\n",
    "if i use pd.qcut, band become too short for young adult around 25."
   ]
  },
  {
   "cell_type": "markdown",
   "metadata": {},
   "source": [
    "**first, check age band and Survived feature in train_df**"
   ]
  },
  {
   "cell_type": "code",
   "execution_count": 45,
   "metadata": {},
   "outputs": [
    {
     "data": {
      "text/plain": [
       "(16.336, 32.252]    472\n",
       "(32.252, 48.168]    235\n",
       "(0.34, 16.336]      104\n",
       "(48.168, 64.084]     69\n",
       "(64.084, 80.0]       11\n",
       "Name: Age, dtype: int64"
      ]
     },
     "execution_count": 45,
     "metadata": {},
     "output_type": "execute_result"
    }
   ],
   "source": [
    "pd.cut(train_df['Age'], 5).value_counts(dropna=False)"
   ]
  },
  {
   "cell_type": "code",
   "execution_count": 46,
   "metadata": {},
   "outputs": [
    {
     "data": {
      "text/plain": [
       "(24.294, 32.252]    260\n",
       "(16.336, 24.294]    212\n",
       "(32.252, 40.21]     136\n",
       "(40.21, 48.168]      99\n",
       "(0.34, 8.378]        58\n",
       "(8.378, 16.336]      46\n",
       "(48.168, 56.126]     45\n",
       "(56.126, 64.084]     24\n",
       "(64.084, 72.042]      9\n",
       "(72.042, 80.0]        2\n",
       "Name: Age, dtype: int64"
      ]
     },
     "execution_count": 46,
     "metadata": {},
     "output_type": "execute_result"
    }
   ],
   "source": [
    "pd.cut(train_df['Age'], 10).value_counts(dropna=False)"
   ]
  },
  {
   "cell_type": "code",
   "execution_count": 47,
   "metadata": {},
   "outputs": [],
   "source": [
    "train_df['AgeBand'] = pd.cut(train_df['Age'], 5)\n",
    "combine = [train_df, test_df]"
   ]
  },
  {
   "cell_type": "raw",
   "metadata": {},
   "source": [
    "train_df['AgeBand'] = pd.cut(train_df['Age'], 10)"
   ]
  },
  {
   "cell_type": "code",
   "execution_count": 48,
   "metadata": {},
   "outputs": [
    {
     "data": {
      "text/plain": [
       "<matplotlib.axes._subplots.AxesSubplot at 0x7f31c0dc3c18>"
      ]
     },
     "execution_count": 48,
     "metadata": {},
     "output_type": "execute_result"
    },
    {
     "data": {
      "image/png": "[encoded data removed]",
      "text/plain": [
       "<matplotlib.figure.Figure at 0x7f31c0d09cf8>"
      ]
     },
     "metadata": {},
     "output_type": "display_data"
    }
   ],
   "source": [
    "sns.barplot(x=\"AgeBand\", data=train_df, y=\"Survived\")"
   ]
  },
  {
   "cell_type": "code",
   "execution_count": 49,
   "metadata": {},
   "outputs": [
    {
     "data": {
      "text/plain": [
       "AgeBand           Survived\n",
       "(0.34, 16.336]    1.0          57\n",
       "                  0.0          47\n",
       "(16.336, 32.252]  0.0         315\n",
       "                  1.0         157\n",
       "(32.252, 48.168]  0.0         138\n",
       "                  1.0          97\n",
       "(48.168, 64.084]  0.0          39\n",
       "                  1.0          30\n",
       "(64.084, 80.0]    0.0          10\n",
       "                  1.0           1\n",
       "Name: Survived, dtype: int64"
      ]
     },
     "execution_count": 49,
     "metadata": {},
     "output_type": "execute_result"
    }
   ],
   "source": [
    "train_df.groupby([\"AgeBand\"]).Survived.value_counts()"
   ]
  },
  {
   "cell_type": "raw",
   "metadata": {},
   "source": [
    "train_df[[\"Age\", \"AgeBand\"]]"
   ]
  },
  {
   "cell_type": "markdown",
   "metadata": {},
   "source": [
    "### Overwrite AgeBand number on Age. means, drop Age and AgeBand text column"
   ]
  },
  {
   "cell_type": "code",
   "execution_count": 50,
   "metadata": {},
   "outputs": [],
   "source": [
    "# 5 age band\n",
    "combine = [train_df, test_df]\n",
    "for dataset in combine:\n",
    "    dataset.loc[ dataset['Age'] <= 16, 'Age'] = 0\n",
    "    dataset.loc[(dataset['Age'] > 16) & (dataset['Age'] <= 32), 'Age'] = 1\n",
    "    dataset.loc[(dataset['Age'] > 32) & (dataset['Age'] <= 48), 'Age'] = 2\n",
    "    dataset.loc[(dataset['Age'] > 48) & (dataset['Age'] <= 64), 'Age'] = 3\n",
    "    dataset.loc[ dataset['Age'] > 64, 'Age'] = 4\n",
    "train_df = train_df.drop(['AgeBand'], axis=1)\n",
    "combine = [train_df, test_df]"
   ]
  },
  {
   "cell_type": "raw",
   "metadata": {},
   "source": [
    "# 10 age band\n",
    "combine = [train_df, test_df]\n",
    "for dataset in combine:\n",
    "    dataset.loc[ dataset['Age'] <= 8, 'Age'] = 0\n",
    "    dataset.loc[(dataset['Age'] > 8) & (dataset['Age'] <= 16), 'Age'] = 1\n",
    "    dataset.loc[(dataset['Age'] > 16) & (dataset['Age'] <= 24), 'Age'] = 2\n",
    "    dataset.loc[(dataset['Age'] > 24) & (dataset['Age'] <= 32), 'Age'] = 3\n",
    "    dataset.loc[(dataset['Age'] > 32) & (dataset['Age'] <= 40), 'Age'] = 4\n",
    "    dataset.loc[(dataset['Age'] > 40) & (dataset['Age'] <= 48), 'Age'] = 5\n",
    "    dataset.loc[(dataset['Age'] > 48) & (dataset['Age'] <= 56), 'Age'] = 6\n",
    "    dataset.loc[(dataset['Age'] > 56) & (dataset['Age'] <= 64), 'Age'] = 7\n",
    "    dataset.loc[(dataset['Age'] > 64) & (dataset['Age'] <= 72), 'Age'] = 8\n",
    "    dataset.loc[ dataset['Age'] > 72, 'Age'] = 9\n",
    "train_df = train_df.drop(['AgeBand'], axis=1)\n",
    "combine = [train_df, test_df]\n",
    "\n",
    "\"\"\"\n",
    "(24.0, 32.0]    275\n",
    "(16.0, 24.0]    220\n",
    "(32.0, 40.0]    148\n",
    "(40.0, 48.0]     68\n",
    "(-0.08, 8.0]     54\n",
    "(8.0, 16.0]      46\n",
    "(48.0, 56.0]     45\n",
    "(56.0, 64.0]     24\n",
    "(64.0, 72.0]      9\n",
    "(72.0, 80.0]      2\n",
    "\"\"\""
   ]
  },
  {
   "cell_type": "raw",
   "metadata": {},
   "source": [
    "train_df.head()"
   ]
  },
  {
   "cell_type": "raw",
   "metadata": {},
   "source": [
    "test_df.head()"
   ]
  },
  {
   "cell_type": "code",
   "execution_count": 51,
   "metadata": {},
   "outputs": [
    {
     "data": {
      "text/plain": [
       "<matplotlib.axes._subplots.AxesSubplot at 0x7f31c0ae38d0>"
      ]
     },
     "execution_count": 51,
     "metadata": {},
     "output_type": "execute_result"
    },
    {
     "data": {
      "image/png": "[encoded data removed]",
      "text/plain": [
       "<matplotlib.figure.Figure at 0x7f31c0ebfda0>"
      ]
     },
     "metadata": {},
     "output_type": "display_data"
    }
   ],
   "source": [
    "sns.barplot(data=train_df, x=\"Age\", y=\"Survived\")"
   ]
  },
  {
   "cell_type": "code",
   "execution_count": null,
   "metadata": {},
   "outputs": [],
   "source": []
  },
  {
   "cell_type": "code",
   "execution_count": null,
   "metadata": {},
   "outputs": [],
   "source": []
  },
  {
   "cell_type": "markdown",
   "metadata": {},
   "source": [
    "----"
   ]
  },
  {
   "cell_type": "markdown",
   "metadata": {},
   "source": [
    "## convert Title to numerical or one hot encoding\n",
    "\n",
    "several options\n",
    "\n",
    "1. one hot encoding, no deleting rare title\n",
    "2. change rare title to \"Rare\" and map value\n",
    "  - 2.1. Replacing rare titles with more common ones\n",
    "3. modify known title to usual, change rare title to \"Rare\" and one hot encoding"
   ]
  },
  {
   "cell_type": "raw",
   "metadata": {},
   "source": [
    "train_df.Title.value_counts()"
   ]
  },
  {
   "cell_type": "markdown",
   "metadata": {},
   "source": [
    "### 1. one hot encoding, no deleteing rare title"
   ]
  },
  {
   "cell_type": "raw",
   "metadata": {},
   "source": [
    "train_test_df = pd.concat((train_df, test_df))\n",
    "train_test_df = pd.get_dummies(train_test_df, columns=[\"Title\"])\n",
    "\n",
    "train_df = train_test_df.iloc[:train_df.shape[0]]\n",
    "test_df = train_test_df.iloc[train_df.shape[0]:]\n",
    "\n",
    "test_df = test_df.drop(\"Survived\", axis=1)\n",
    "\n",
    "combine = [train_df, test_df]"
   ]
  },
  {
   "cell_type": "raw",
   "metadata": {},
   "source": [
    "train_df.head()"
   ]
  },
  {
   "cell_type": "raw",
   "metadata": {},
   "source": [
    "test_df.head()"
   ]
  },
  {
   "cell_type": "raw",
   "metadata": {},
   "source": [
    "train_df.columns"
   ]
  },
  {
   "cell_type": "markdown",
   "metadata": {},
   "source": [
    "### 2. change rare titles to \"Rare\" and map value"
   ]
  },
  {
   "cell_type": "raw",
   "metadata": {},
   "source": [
    "train_test_df = pd.concat((train_df, test_df))\n",
    "\n",
    "print(train_test_df.Title.value_counts(dropna=False))\n",
    "\n",
    "f, ax = plt.subplots(figsize=(20, 6))\n",
    "sns.barplot(data=train_test_df, x=\"Title\", y=\"Survived\", ax=ax)"
   ]
  },
  {
   "cell_type": "markdown",
   "metadata": {},
   "source": [
    "**del rare title and map value**"
   ]
  },
  {
   "cell_type": "raw",
   "metadata": {},
   "source": [
    "# del rare title and map value\n",
    "for dataset in combine:\n",
    "    dataset['Title'] = dataset['Title'].replace(['Lady', 'Countess','Capt', 'Col',\n",
    "                                                 'Don', 'Dr', 'Major', 'Rev', 'Sir',\n",
    "                                                 'Jonkheer', 'Dona'], 'Rare')\n",
    "\n",
    "    dataset['Title'] = dataset['Title'].replace('Mlle', 'Miss')\n",
    "    dataset['Title'] = dataset['Title'].replace('Ms', 'Miss')\n",
    "    dataset['Title'] = dataset['Title'].replace('Mme', 'Mrs')\n",
    "    \n",
    "title_mapping = {\"Mr\": 1, \"Miss\": 2, \"Mrs\": 3, \"Master\": 4, \"Rave\": 5}\n",
    "for dataset in combine:\n",
    "    dataset['Title'] = dataset['Title'].map(title_mapping)\n",
    "    dataset['Title'] = dataset['Title'].fillna(0)\n"
   ]
  },
  {
   "cell_type": "markdown",
   "metadata": {},
   "source": [
    "#### 2.1. Replacing rare titles with more common ones**\n",
    "\n",
    "https://www.kaggle.com/konstantinmasich/titanic-0-82-0-83/"
   ]
  },
  {
   "cell_type": "raw",
   "metadata": {},
   "source": [
    "mapping = {'Mlle': 'Miss', \n",
    "            'Major': 'Mr', \n",
    "            'Col': 'Mr', \n",
    "            'Sir': 'Mr',\n",
    "            'Don': 'Mr', \n",
    "            'Mme': 'Miss',\n",
    "            'Jonkheer': 'Mr',\n",
    "            'Lady': 'Mrs', \n",
    "            'Capt': 'Mr', \n",
    "            'Countess': 'Mrs',\n",
    "            'Ms': 'Miss',\n",
    "            'Dona': 'Mrs'}\n",
    "\n",
    "train_df.replace({'Title': mapping}, inplace=True)\n",
    "test_df.replace({'Title': mapping}, inplace=True)\n",
    "\n",
    "combine = [train_df, test_df]\n",
    "\n",
    "title_mapping = {\"Mr\": 1, \"Miss\": 2, \"Mrs\": 3, \"Master\": 4, \"Rev\": 5, \"Dr\":6}\n",
    "\n",
    "train_df['Title'] = train_df['Title'].map(title_mapping)\n",
    "test_df['Title'] = test_df['Title'].map(title_mapping)\n",
    "\n",
    "combine = [train_df, test_df]"
   ]
  },
  {
   "cell_type": "raw",
   "metadata": {},
   "source": [
    "train_df.Title.value_counts(dropna=False)"
   ]
  },
  {
   "cell_type": "raw",
   "metadata": {},
   "source": [
    "sns.countplot(data=train_df, x=\"Title\", hue=\"Survived\")"
   ]
  },
  {
   "cell_type": "markdown",
   "metadata": {},
   "source": [
    "### 3. modify known title to usual, change rare title to \"Rare\" and one hot encoding"
   ]
  },
  {
   "cell_type": "code",
   "execution_count": 52,
   "metadata": {},
   "outputs": [
    {
     "name": "stdout",
     "output_type": "stream",
     "text": [
      "(891, 33) (418, 32)\n"
     ]
    }
   ],
   "source": [
    "mapping = {'Mlle': 'Miss', \n",
    "            'Major': 'Mr', \n",
    "            'Col': 'Mr', \n",
    "            'Sir': 'Mr',\n",
    "            'Don': 'Mr', \n",
    "            'Mme': 'Miss',\n",
    "            'Jonkheer': 'Mr',\n",
    "            'Lady': 'Mrs', \n",
    "            'Capt': 'Mr', \n",
    "            'Countess': 'Mrs',\n",
    "            'Ms': 'Miss',\n",
    "            'Dona': 'Mrs'}\n",
    "\n",
    "train_df.replace({'Title': mapping}, inplace=True)\n",
    "test_df.replace({'Title': mapping}, inplace=True)\n",
    "\n",
    "combine = [train_df, test_df]\n",
    "\n",
    "train_test_df = pd.concat((train_df, test_df))\n",
    "train_test_df = pd.get_dummies(train_test_df, columns=[\"Title\"])\n",
    "\n",
    "train_df = train_test_df.iloc[:train_df.shape[0]]\n",
    "test_df = train_test_df.iloc[train_df.shape[0]:]\n",
    "\n",
    "test_df = test_df.drop(\"Survived\", axis=1)\n",
    "print(train_df.shape, test_df.shape)\n",
    "\n",
    "combine = [train_df, test_df]"
   ]
  },
  {
   "cell_type": "code",
   "execution_count": 53,
   "metadata": {},
   "outputs": [
    {
     "data": {
      "text/plain": [
       "Index(['Age', 'Age_Null_Flag', 'Cabin_Letter_0', 'Cabin_Letter_A',\n",
       "       'Cabin_Letter_B', 'Cabin_Letter_C', 'Cabin_Letter_D', 'Cabin_Letter_E',\n",
       "       'Cabin_Letter_F', 'Cabin_Letter_G', 'Cabin_Letter_T', 'Cabin_num_0.0',\n",
       "       'Cabin_num_1.0', 'Cabin_num_2.0', 'Cabin_num_nan', 'Embarked',\n",
       "       'Family_Survival', 'Fare', 'Name', 'Name_Len', 'Parch', 'PassengerId',\n",
       "       'Pclass', 'Sex', 'SibSp', 'Survived', 'Ticket_Len', 'Title_Dr',\n",
       "       'Title_Master', 'Title_Miss', 'Title_Mr', 'Title_Mrs', 'Title_Rev'],\n",
       "      dtype='object')"
      ]
     },
     "execution_count": 53,
     "metadata": {},
     "output_type": "execute_result"
    }
   ],
   "source": [
    "train_df.columns"
   ]
  },
  {
   "cell_type": "raw",
   "metadata": {},
   "source": [
    "train_df.head()"
   ]
  },
  {
   "cell_type": "raw",
   "metadata": {},
   "source": [
    "train_df.tail()"
   ]
  },
  {
   "cell_type": "raw",
   "metadata": {},
   "source": [
    "test_df.head()"
   ]
  },
  {
   "cell_type": "raw",
   "metadata": {},
   "source": [
    "test_df.tail()"
   ]
  },
  {
   "cell_type": "markdown",
   "metadata": {},
   "source": [
    "----"
   ]
  },
  {
   "cell_type": "markdown",
   "metadata": {},
   "source": [
    "## Create new feature \"FamilySize\", \"IsAlone\", \"Age*Class\""
   ]
  },
  {
   "cell_type": "code",
   "execution_count": 54,
   "metadata": {},
   "outputs": [],
   "source": [
    "for dataset in combine:\n",
    "    dataset['FamilySize'] = dataset['SibSp'] + dataset['Parch'] + 1\n",
    "\n",
    "for dataset in combine:\n",
    "    dataset['IsAlone'] = 0\n",
    "    dataset.loc[dataset['FamilySize'] == 1, 'IsAlone'] = 1\n",
    "\n",
    "for dataset in combine:\n",
    "    dataset['Age*Class'] = dataset.Age * dataset.Pclass"
   ]
  },
  {
   "cell_type": "code",
   "execution_count": 55,
   "metadata": {},
   "outputs": [
    {
     "data": {
      "text/plain": [
       "<matplotlib.axes._subplots.AxesSubplot at 0x7f31c0a7e048>"
      ]
     },
     "execution_count": 55,
     "metadata": {},
     "output_type": "execute_result"
    },
    {
     "data": {
      "image/png": "[encoded data removed]",
      "text/plain": [
       "<matplotlib.figure.Figure at 0x7f31c0b4d748>"
      ]
     },
     "metadata": {},
     "output_type": "display_data"
    }
   ],
   "source": [
    "sns.barplot(data=train_df, x=\"FamilySize\", y=\"Survived\")"
   ]
  },
  {
   "cell_type": "code",
   "execution_count": 56,
   "metadata": {},
   "outputs": [
    {
     "data": {
      "text/plain": [
       "<matplotlib.axes._subplots.AxesSubplot at 0x7f31c0a407f0>"
      ]
     },
     "execution_count": 56,
     "metadata": {},
     "output_type": "execute_result"
    },
    {
     "data": {
      "image/png": "[encoded data removed]",
      "text/plain": [
       "<matplotlib.figure.Figure at 0x7f31c0a10c88>"
      ]
     },
     "metadata": {},
     "output_type": "display_data"
    }
   ],
   "source": [
    "sns.barplot(data=train_df, x=\"IsAlone\", y=\"Survived\")"
   ]
  },
  {
   "cell_type": "code",
   "execution_count": 57,
   "metadata": {},
   "outputs": [
    {
     "data": {
      "text/plain": [
       "<matplotlib.axes._subplots.AxesSubplot at 0x7f31f8377898>"
      ]
     },
     "execution_count": 57,
     "metadata": {},
     "output_type": "execute_result"
    },
    {
     "data": {
      "image/png": "[encoded data removed]",
      "text/plain": [
       "<matplotlib.figure.Figure at 0x7f31f8382a58>"
      ]
     },
     "metadata": {},
     "output_type": "display_data"
    }
   ],
   "source": [
    "sns.countplot(data=train_df, x=\"Age*Class\", hue=\"Survived\")"
   ]
  },
  {
   "cell_type": "raw",
   "metadata": {},
   "source": [
    "train_df.head()"
   ]
  },
  {
   "cell_type": "raw",
   "metadata": {},
   "source": [
    "test_df.head()"
   ]
  },
  {
   "cell_type": "markdown",
   "metadata": {},
   "source": [
    "----"
   ]
  },
  {
   "cell_type": "markdown",
   "metadata": {},
   "source": [
    "## fill missing Embarked "
   ]
  },
  {
   "cell_type": "code",
   "execution_count": 58,
   "metadata": {},
   "outputs": [],
   "source": [
    "freq_port = train_df.Embarked.dropna().mode()[0]\n",
    "for dataset in combine:\n",
    "    dataset['Embarked'] = dataset['Embarked'].fillna(freq_port)"
   ]
  },
  {
   "cell_type": "markdown",
   "metadata": {},
   "source": [
    "----"
   ]
  },
  {
   "cell_type": "markdown",
   "metadata": {},
   "source": [
    "## Embarked categorical feature"
   ]
  },
  {
   "cell_type": "markdown",
   "metadata": {},
   "source": [
    "### 1. Converting Embarked categorical feature to numeric"
   ]
  },
  {
   "cell_type": "raw",
   "metadata": {},
   "source": [
    "for dataset in combine:\n",
    "    dataset['Embarked'] = dataset['Embarked'].map( {'S': 0, 'C': 1, 'Q': 2} ).astype(int)\n",
    "\n",
    "train_df.head()"
   ]
  },
  {
   "cell_type": "markdown",
   "metadata": {},
   "source": [
    "### 2. one hot encoding for Embarked categorical feature\n",
    "2018/03/18 this is better than using converting categorical to numeric"
   ]
  },
  {
   "cell_type": "code",
   "execution_count": 59,
   "metadata": {},
   "outputs": [],
   "source": [
    "train_test_df = pd.concat((train_df, test_df))\n",
    "train_test_df = pd.get_dummies(train_test_df, columns=[\"Embarked\"])\n",
    "\n",
    "combine = [train_df, test_df]\n",
    "\n",
    "train_df = train_test_df.iloc[:train_df.shape[0]]\n",
    "test_df = train_test_df.iloc[train_df.shape[0]:]\n",
    "\n",
    "test_df = test_df.drop(\"Survived\", axis=1)\n",
    "\n",
    "combine = [train_df, test_df]"
   ]
  },
  {
   "cell_type": "raw",
   "metadata": {},
   "source": [
    "train_df.head()"
   ]
  },
  {
   "cell_type": "raw",
   "metadata": {},
   "source": [
    "test_df.head()"
   ]
  },
  {
   "cell_type": "markdown",
   "metadata": {},
   "source": [
    "----"
   ]
  },
  {
   "cell_type": "markdown",
   "metadata": {},
   "source": [
    "## make Fareband feature"
   ]
  },
  {
   "cell_type": "code",
   "execution_count": 60,
   "metadata": {},
   "outputs": [
    {
     "data": {
      "text/plain": [
       "(7.91, 14.454]     224\n",
       "(-0.001, 7.91]     223\n",
       "(31.0, 512.329]    222\n",
       "(14.454, 31.0]     222\n",
       "Name: Fare, dtype: int64"
      ]
     },
     "execution_count": 60,
     "metadata": {},
     "output_type": "execute_result"
    }
   ],
   "source": [
    "pd.qcut(train_df['Fare'], 4).value_counts(dropna=False)"
   ]
  },
  {
   "cell_type": "code",
   "execution_count": 61,
   "metadata": {},
   "outputs": [
    {
     "data": {
      "text/plain": [
       "False"
      ]
     },
     "execution_count": 61,
     "metadata": {},
     "output_type": "execute_result"
    }
   ],
   "source": [
    "test_df.Fare.isna().any()"
   ]
  },
  {
   "cell_type": "code",
   "execution_count": 62,
   "metadata": {},
   "outputs": [],
   "source": [
    "train_df['FareBand'] = pd.qcut(train_df['Fare'], 4)\n",
    "\n",
    "for dataset in combine:\n",
    "    dataset.loc[ dataset['Fare'] <= 7.91, 'Fare'] = 0\n",
    "    dataset.loc[(dataset['Fare'] > 7.91) & (dataset['Fare'] <= 14.454), 'Fare'] = 1\n",
    "    dataset.loc[(dataset['Fare'] > 14.454) & (dataset['Fare'] <= 31), 'Fare']   = 2\n",
    "    dataset.loc[ dataset['Fare'] > 31, 'Fare'] = 3\n",
    "    #print(dataset['Fare'].value_counts(dropna=False))\n",
    "    dataset['Fare'] = dataset['Fare'].astype(int)\n",
    "\n",
    "train_df = train_df.drop(['FareBand'], axis=1)\n",
    "\n",
    "combine = [train_df, test_df]"
   ]
  },
  {
   "cell_type": "raw",
   "metadata": {},
   "source": [
    "train_df.Fare.head(10)"
   ]
  },
  {
   "cell_type": "raw",
   "metadata": {},
   "source": [
    "test_df.Fare.head(10)"
   ]
  },
  {
   "cell_type": "markdown",
   "metadata": {},
   "source": [
    "### try more fare band number\n",
    "\n",
    "- no difference\n",
    "\n",
    "### keep Fare feature and add FareBand numerical feature¶\n",
    "\n",
    "- not good result"
   ]
  },
  {
   "cell_type": "raw",
   "metadata": {},
   "source": [
    "fareband = pd.qcut(train_df['Fare'], 6)\n",
    "fareband.unique()"
   ]
  },
  {
   "cell_type": "raw",
   "metadata": {},
   "source": [
    "train_df['FareBand'] = pd.qcut(train_df['Fare'], 6)\n",
    "\n",
    "for dataset in combine:\n",
    "    dataset.loc[ dataset['Fare'] <= 7.775, 'Fare'] = 0\n",
    "    dataset.loc[(dataset['Fare'] > 7.775) & (dataset['Fare'] <= 8.662), 'Fare'] = 1\n",
    "    dataset.loc[(dataset['Fare'] > 8.662) & (dataset['Fare'] <= 14.454), 'Fare']   = 2\n",
    "    dataset.loc[(dataset['Fare'] > 14.454) & (dataset['Fare'] <= 26.0), 'Fare']   = 3\n",
    "    dataset.loc[(dataset['Fare'] > 26.0) & (dataset['Fare'] <= 52.369), 'Fare']   = 4\n",
    "    \n",
    "    dataset.loc[ dataset['Fare'] > 52.369, 'Fare'] = 5\n",
    "    dataset['Fare'] = dataset['Fare'].astype(int)\n",
    "\n",
    "train_df = train_df.drop(['FareBand'], axis=1)\n",
    "\n",
    "combine = [train_df, test_df]\n",
    "    \n",
    "train_df.head(10)"
   ]
  },
  {
   "cell_type": "markdown",
   "metadata": {},
   "source": [
    "----"
   ]
  },
  {
   "cell_type": "markdown",
   "metadata": {},
   "source": [
    "## drop Name, PassengerId"
   ]
  },
  {
   "cell_type": "code",
   "execution_count": 63,
   "metadata": {},
   "outputs": [],
   "source": [
    "train_df = train_df.drop(['Name', 'PassengerId'], axis=1)\n",
    "test_df = test_df.drop(['Name'], axis=1)\n",
    "combine = [train_df, test_df]"
   ]
  },
  {
   "cell_type": "markdown",
   "metadata": {},
   "source": [
    "----"
   ]
  },
  {
   "cell_type": "markdown",
   "metadata": {},
   "source": [
    "## final check data"
   ]
  },
  {
   "cell_type": "code",
   "execution_count": 64,
   "metadata": {},
   "outputs": [
    {
     "data": {
      "text/html": [
       "<div>\n",
       "<style scoped>\n",
       "    .dataframe tbody tr th:only-of-type {\n",
       "        vertical-align: middle;\n",
       "    }\n",
       "\n",
       "    .dataframe tbody tr th {\n",
       "        vertical-align: top;\n",
       "    }\n",
       "\n",
       "    .dataframe thead th {\n",
       "        text-align: right;\n",
       "    }\n",
       "</style>\n",
       "<table border=\"1\" class=\"dataframe\">\n",
       "  <thead>\n",
       "    <tr style=\"text-align: right;\">\n",
       "      <th></th>\n",
       "      <th>Age</th>\n",
       "      <th>Age*Class</th>\n",
       "      <th>Age_Null_Flag</th>\n",
       "      <th>Cabin_Letter_0</th>\n",
       "      <th>Cabin_Letter_A</th>\n",
       "      <th>Cabin_Letter_B</th>\n",
       "      <th>Cabin_Letter_C</th>\n",
       "      <th>Cabin_Letter_D</th>\n",
       "      <th>Cabin_Letter_E</th>\n",
       "      <th>Cabin_Letter_F</th>\n",
       "      <th>...</th>\n",
       "      <th>Ticket_Len</th>\n",
       "      <th>Title_Dr</th>\n",
       "      <th>Title_Master</th>\n",
       "      <th>Title_Miss</th>\n",
       "      <th>Title_Mr</th>\n",
       "      <th>Title_Mrs</th>\n",
       "      <th>Title_Rev</th>\n",
       "      <th>Embarked_C</th>\n",
       "      <th>Embarked_Q</th>\n",
       "      <th>Embarked_S</th>\n",
       "    </tr>\n",
       "  </thead>\n",
       "  <tbody>\n",
       "    <tr>\n",
       "      <th>0</th>\n",
       "      <td>1.0</td>\n",
       "      <td>3.0</td>\n",
       "      <td>0</td>\n",
       "      <td>1</td>\n",
       "      <td>0</td>\n",
       "      <td>0</td>\n",
       "      <td>0</td>\n",
       "      <td>0</td>\n",
       "      <td>0</td>\n",
       "      <td>0</td>\n",
       "      <td>...</td>\n",
       "      <td>9</td>\n",
       "      <td>0</td>\n",
       "      <td>0</td>\n",
       "      <td>0</td>\n",
       "      <td>1</td>\n",
       "      <td>0</td>\n",
       "      <td>0</td>\n",
       "      <td>0</td>\n",
       "      <td>0</td>\n",
       "      <td>1</td>\n",
       "    </tr>\n",
       "    <tr>\n",
       "      <th>1</th>\n",
       "      <td>2.0</td>\n",
       "      <td>2.0</td>\n",
       "      <td>0</td>\n",
       "      <td>0</td>\n",
       "      <td>0</td>\n",
       "      <td>0</td>\n",
       "      <td>1</td>\n",
       "      <td>0</td>\n",
       "      <td>0</td>\n",
       "      <td>0</td>\n",
       "      <td>...</td>\n",
       "      <td>8</td>\n",
       "      <td>0</td>\n",
       "      <td>0</td>\n",
       "      <td>0</td>\n",
       "      <td>0</td>\n",
       "      <td>1</td>\n",
       "      <td>0</td>\n",
       "      <td>1</td>\n",
       "      <td>0</td>\n",
       "      <td>0</td>\n",
       "    </tr>\n",
       "    <tr>\n",
       "      <th>2</th>\n",
       "      <td>1.0</td>\n",
       "      <td>3.0</td>\n",
       "      <td>0</td>\n",
       "      <td>1</td>\n",
       "      <td>0</td>\n",
       "      <td>0</td>\n",
       "      <td>0</td>\n",
       "      <td>0</td>\n",
       "      <td>0</td>\n",
       "      <td>0</td>\n",
       "      <td>...</td>\n",
       "      <td>16</td>\n",
       "      <td>0</td>\n",
       "      <td>0</td>\n",
       "      <td>1</td>\n",
       "      <td>0</td>\n",
       "      <td>0</td>\n",
       "      <td>0</td>\n",
       "      <td>0</td>\n",
       "      <td>0</td>\n",
       "      <td>1</td>\n",
       "    </tr>\n",
       "    <tr>\n",
       "      <th>3</th>\n",
       "      <td>2.0</td>\n",
       "      <td>2.0</td>\n",
       "      <td>0</td>\n",
       "      <td>0</td>\n",
       "      <td>0</td>\n",
       "      <td>0</td>\n",
       "      <td>1</td>\n",
       "      <td>0</td>\n",
       "      <td>0</td>\n",
       "      <td>0</td>\n",
       "      <td>...</td>\n",
       "      <td>6</td>\n",
       "      <td>0</td>\n",
       "      <td>0</td>\n",
       "      <td>0</td>\n",
       "      <td>0</td>\n",
       "      <td>1</td>\n",
       "      <td>0</td>\n",
       "      <td>0</td>\n",
       "      <td>0</td>\n",
       "      <td>1</td>\n",
       "    </tr>\n",
       "    <tr>\n",
       "      <th>4</th>\n",
       "      <td>2.0</td>\n",
       "      <td>6.0</td>\n",
       "      <td>0</td>\n",
       "      <td>1</td>\n",
       "      <td>0</td>\n",
       "      <td>0</td>\n",
       "      <td>0</td>\n",
       "      <td>0</td>\n",
       "      <td>0</td>\n",
       "      <td>0</td>\n",
       "      <td>...</td>\n",
       "      <td>6</td>\n",
       "      <td>0</td>\n",
       "      <td>0</td>\n",
       "      <td>0</td>\n",
       "      <td>1</td>\n",
       "      <td>0</td>\n",
       "      <td>0</td>\n",
       "      <td>0</td>\n",
       "      <td>0</td>\n",
       "      <td>1</td>\n",
       "    </tr>\n",
       "  </tbody>\n",
       "</table>\n",
       "<p>5 rows × 36 columns</p>\n",
       "</div>"
      ],
      "text/plain": [
       "   Age  Age*Class  Age_Null_Flag  Cabin_Letter_0  Cabin_Letter_A  \\\n",
       "0  1.0        3.0              0               1               0   \n",
       "1  2.0        2.0              0               0               0   \n",
       "2  1.0        3.0              0               1               0   \n",
       "3  2.0        2.0              0               0               0   \n",
       "4  2.0        6.0              0               1               0   \n",
       "\n",
       "   Cabin_Letter_B  Cabin_Letter_C  Cabin_Letter_D  Cabin_Letter_E  \\\n",
       "0               0               0               0               0   \n",
       "1               0               1               0               0   \n",
       "2               0               0               0               0   \n",
       "3               0               1               0               0   \n",
       "4               0               0               0               0   \n",
       "\n",
       "   Cabin_Letter_F     ...      Ticket_Len  Title_Dr  Title_Master  Title_Miss  \\\n",
       "0               0     ...               9         0             0           0   \n",
       "1               0     ...               8         0             0           0   \n",
       "2               0     ...              16         0             0           1   \n",
       "3               0     ...               6         0             0           0   \n",
       "4               0     ...               6         0             0           0   \n",
       "\n",
       "   Title_Mr  Title_Mrs  Title_Rev  Embarked_C  Embarked_Q  Embarked_S  \n",
       "0         1          0          0           0           0           1  \n",
       "1         0          1          0           1           0           0  \n",
       "2         0          0          0           0           0           1  \n",
       "3         0          1          0           0           0           1  \n",
       "4         1          0          0           0           0           1  \n",
       "\n",
       "[5 rows x 36 columns]"
      ]
     },
     "execution_count": 64,
     "metadata": {},
     "output_type": "execute_result"
    }
   ],
   "source": [
    "train_df.head()"
   ]
  },
  {
   "cell_type": "code",
   "execution_count": 65,
   "metadata": {},
   "outputs": [
    {
     "data": {
      "text/plain": [
       "Index(['Age', 'Age*Class', 'Age_Null_Flag', 'Cabin_Letter_0', 'Cabin_Letter_A',\n",
       "       'Cabin_Letter_B', 'Cabin_Letter_C', 'Cabin_Letter_D', 'Cabin_Letter_E',\n",
       "       'Cabin_Letter_F', 'Cabin_Letter_G', 'Cabin_Letter_T', 'Cabin_num_0.0',\n",
       "       'Cabin_num_1.0', 'Cabin_num_2.0', 'Cabin_num_nan', 'FamilySize',\n",
       "       'Family_Survival', 'Fare', 'IsAlone', 'Name_Len', 'Parch', 'Pclass',\n",
       "       'Sex', 'SibSp', 'Survived', 'Ticket_Len', 'Title_Dr', 'Title_Master',\n",
       "       'Title_Miss', 'Title_Mr', 'Title_Mrs', 'Title_Rev', 'Embarked_C',\n",
       "       'Embarked_Q', 'Embarked_S'],\n",
       "      dtype='object')"
      ]
     },
     "execution_count": 65,
     "metadata": {},
     "output_type": "execute_result"
    }
   ],
   "source": [
    "train_df.columns"
   ]
  },
  {
   "cell_type": "code",
   "execution_count": 66,
   "metadata": {},
   "outputs": [
    {
     "data": {
      "text/html": [
       "<div>\n",
       "<style scoped>\n",
       "    .dataframe tbody tr th:only-of-type {\n",
       "        vertical-align: middle;\n",
       "    }\n",
       "\n",
       "    .dataframe tbody tr th {\n",
       "        vertical-align: top;\n",
       "    }\n",
       "\n",
       "    .dataframe thead th {\n",
       "        text-align: right;\n",
       "    }\n",
       "</style>\n",
       "<table border=\"1\" class=\"dataframe\">\n",
       "  <thead>\n",
       "    <tr style=\"text-align: right;\">\n",
       "      <th></th>\n",
       "      <th>Age</th>\n",
       "      <th>Age*Class</th>\n",
       "      <th>Age_Null_Flag</th>\n",
       "      <th>Cabin_Letter_0</th>\n",
       "      <th>Cabin_Letter_A</th>\n",
       "      <th>Cabin_Letter_B</th>\n",
       "      <th>Cabin_Letter_C</th>\n",
       "      <th>Cabin_Letter_D</th>\n",
       "      <th>Cabin_Letter_E</th>\n",
       "      <th>Cabin_Letter_F</th>\n",
       "      <th>...</th>\n",
       "      <th>Ticket_Len</th>\n",
       "      <th>Title_Dr</th>\n",
       "      <th>Title_Master</th>\n",
       "      <th>Title_Miss</th>\n",
       "      <th>Title_Mr</th>\n",
       "      <th>Title_Mrs</th>\n",
       "      <th>Title_Rev</th>\n",
       "      <th>Embarked_C</th>\n",
       "      <th>Embarked_Q</th>\n",
       "      <th>Embarked_S</th>\n",
       "    </tr>\n",
       "  </thead>\n",
       "  <tbody>\n",
       "    <tr>\n",
       "      <th>0</th>\n",
       "      <td>2.0</td>\n",
       "      <td>6.0</td>\n",
       "      <td>0</td>\n",
       "      <td>1</td>\n",
       "      <td>0</td>\n",
       "      <td>0</td>\n",
       "      <td>0</td>\n",
       "      <td>0</td>\n",
       "      <td>0</td>\n",
       "      <td>0</td>\n",
       "      <td>...</td>\n",
       "      <td>6</td>\n",
       "      <td>0</td>\n",
       "      <td>0</td>\n",
       "      <td>0</td>\n",
       "      <td>1</td>\n",
       "      <td>0</td>\n",
       "      <td>0</td>\n",
       "      <td>0</td>\n",
       "      <td>1</td>\n",
       "      <td>0</td>\n",
       "    </tr>\n",
       "    <tr>\n",
       "      <th>1</th>\n",
       "      <td>2.0</td>\n",
       "      <td>6.0</td>\n",
       "      <td>0</td>\n",
       "      <td>1</td>\n",
       "      <td>0</td>\n",
       "      <td>0</td>\n",
       "      <td>0</td>\n",
       "      <td>0</td>\n",
       "      <td>0</td>\n",
       "      <td>0</td>\n",
       "      <td>...</td>\n",
       "      <td>6</td>\n",
       "      <td>0</td>\n",
       "      <td>0</td>\n",
       "      <td>0</td>\n",
       "      <td>0</td>\n",
       "      <td>1</td>\n",
       "      <td>0</td>\n",
       "      <td>0</td>\n",
       "      <td>0</td>\n",
       "      <td>1</td>\n",
       "    </tr>\n",
       "    <tr>\n",
       "      <th>2</th>\n",
       "      <td>3.0</td>\n",
       "      <td>6.0</td>\n",
       "      <td>0</td>\n",
       "      <td>1</td>\n",
       "      <td>0</td>\n",
       "      <td>0</td>\n",
       "      <td>0</td>\n",
       "      <td>0</td>\n",
       "      <td>0</td>\n",
       "      <td>0</td>\n",
       "      <td>...</td>\n",
       "      <td>6</td>\n",
       "      <td>0</td>\n",
       "      <td>0</td>\n",
       "      <td>0</td>\n",
       "      <td>1</td>\n",
       "      <td>0</td>\n",
       "      <td>0</td>\n",
       "      <td>0</td>\n",
       "      <td>1</td>\n",
       "      <td>0</td>\n",
       "    </tr>\n",
       "    <tr>\n",
       "      <th>3</th>\n",
       "      <td>1.0</td>\n",
       "      <td>3.0</td>\n",
       "      <td>0</td>\n",
       "      <td>1</td>\n",
       "      <td>0</td>\n",
       "      <td>0</td>\n",
       "      <td>0</td>\n",
       "      <td>0</td>\n",
       "      <td>0</td>\n",
       "      <td>0</td>\n",
       "      <td>...</td>\n",
       "      <td>6</td>\n",
       "      <td>0</td>\n",
       "      <td>0</td>\n",
       "      <td>0</td>\n",
       "      <td>1</td>\n",
       "      <td>0</td>\n",
       "      <td>0</td>\n",
       "      <td>0</td>\n",
       "      <td>0</td>\n",
       "      <td>1</td>\n",
       "    </tr>\n",
       "    <tr>\n",
       "      <th>4</th>\n",
       "      <td>1.0</td>\n",
       "      <td>3.0</td>\n",
       "      <td>0</td>\n",
       "      <td>1</td>\n",
       "      <td>0</td>\n",
       "      <td>0</td>\n",
       "      <td>0</td>\n",
       "      <td>0</td>\n",
       "      <td>0</td>\n",
       "      <td>0</td>\n",
       "      <td>...</td>\n",
       "      <td>7</td>\n",
       "      <td>0</td>\n",
       "      <td>0</td>\n",
       "      <td>0</td>\n",
       "      <td>0</td>\n",
       "      <td>1</td>\n",
       "      <td>0</td>\n",
       "      <td>0</td>\n",
       "      <td>0</td>\n",
       "      <td>1</td>\n",
       "    </tr>\n",
       "  </tbody>\n",
       "</table>\n",
       "<p>5 rows × 36 columns</p>\n",
       "</div>"
      ],
      "text/plain": [
       "   Age  Age*Class  Age_Null_Flag  Cabin_Letter_0  Cabin_Letter_A  \\\n",
       "0  2.0        6.0              0               1               0   \n",
       "1  2.0        6.0              0               1               0   \n",
       "2  3.0        6.0              0               1               0   \n",
       "3  1.0        3.0              0               1               0   \n",
       "4  1.0        3.0              0               1               0   \n",
       "\n",
       "   Cabin_Letter_B  Cabin_Letter_C  Cabin_Letter_D  Cabin_Letter_E  \\\n",
       "0               0               0               0               0   \n",
       "1               0               0               0               0   \n",
       "2               0               0               0               0   \n",
       "3               0               0               0               0   \n",
       "4               0               0               0               0   \n",
       "\n",
       "   Cabin_Letter_F     ...      Ticket_Len  Title_Dr  Title_Master  Title_Miss  \\\n",
       "0               0     ...               6         0             0           0   \n",
       "1               0     ...               6         0             0           0   \n",
       "2               0     ...               6         0             0           0   \n",
       "3               0     ...               6         0             0           0   \n",
       "4               0     ...               7         0             0           0   \n",
       "\n",
       "   Title_Mr  Title_Mrs  Title_Rev  Embarked_C  Embarked_Q  Embarked_S  \n",
       "0         1          0          0           0           1           0  \n",
       "1         0          1          0           0           0           1  \n",
       "2         1          0          0           0           1           0  \n",
       "3         1          0          0           0           0           1  \n",
       "4         0          1          0           0           0           1  \n",
       "\n",
       "[5 rows x 36 columns]"
      ]
     },
     "execution_count": 66,
     "metadata": {},
     "output_type": "execute_result"
    }
   ],
   "source": [
    "test_df.head()"
   ]
  },
  {
   "cell_type": "code",
   "execution_count": 67,
   "metadata": {},
   "outputs": [
    {
     "data": {
      "text/plain": [
       "Index(['Age', 'Age*Class', 'Age_Null_Flag', 'Cabin_Letter_0', 'Cabin_Letter_A',\n",
       "       'Cabin_Letter_B', 'Cabin_Letter_C', 'Cabin_Letter_D', 'Cabin_Letter_E',\n",
       "       'Cabin_Letter_F', 'Cabin_Letter_G', 'Cabin_Letter_T', 'Cabin_num_0.0',\n",
       "       'Cabin_num_1.0', 'Cabin_num_2.0', 'Cabin_num_nan', 'FamilySize',\n",
       "       'Family_Survival', 'Fare', 'IsAlone', 'Name_Len', 'Parch',\n",
       "       'PassengerId', 'Pclass', 'Sex', 'SibSp', 'Ticket_Len', 'Title_Dr',\n",
       "       'Title_Master', 'Title_Miss', 'Title_Mr', 'Title_Mrs', 'Title_Rev',\n",
       "       'Embarked_C', 'Embarked_Q', 'Embarked_S'],\n",
       "      dtype='object')"
      ]
     },
     "execution_count": 67,
     "metadata": {},
     "output_type": "execute_result"
    }
   ],
   "source": [
    "test_df.columns"
   ]
  },
  {
   "cell_type": "raw",
   "metadata": {},
   "source": [
    "colormap = plt.cm.viridis\n",
    "plt.figure(figsize=(30,30))\n",
    "plt.title('Pearson Correlation of Features', y=1.05, size=15)\n",
    "sns.heatmap(train_df.astype(float).corr(), \n",
    "            linewidths=0.1,vmax=1.0,\n",
    "            square=True, cmap=colormap, \n",
    "            linecolor='white', annot=True)"
   ]
  },
  {
   "cell_type": "markdown",
   "metadata": {},
   "source": [
    "----\n",
    "# try to delete some features"
   ]
  },
  {
   "cell_type": "code",
   "execution_count": 68,
   "metadata": {},
   "outputs": [
    {
     "data": {
      "text/html": [
       "<div>\n",
       "<style scoped>\n",
       "    .dataframe tbody tr th:only-of-type {\n",
       "        vertical-align: middle;\n",
       "    }\n",
       "\n",
       "    .dataframe tbody tr th {\n",
       "        vertical-align: top;\n",
       "    }\n",
       "\n",
       "    .dataframe thead th {\n",
       "        text-align: right;\n",
       "    }\n",
       "</style>\n",
       "<table border=\"1\" class=\"dataframe\">\n",
       "  <thead>\n",
       "    <tr style=\"text-align: right;\">\n",
       "      <th></th>\n",
       "      <th>Age</th>\n",
       "      <th>Age*Class</th>\n",
       "      <th>Age_Null_Flag</th>\n",
       "      <th>Cabin_Letter_0</th>\n",
       "      <th>Cabin_Letter_A</th>\n",
       "      <th>Cabin_Letter_B</th>\n",
       "      <th>Cabin_Letter_C</th>\n",
       "      <th>Cabin_Letter_D</th>\n",
       "      <th>Cabin_Letter_E</th>\n",
       "      <th>Cabin_Letter_F</th>\n",
       "      <th>...</th>\n",
       "      <th>Ticket_Len</th>\n",
       "      <th>Title_Dr</th>\n",
       "      <th>Title_Master</th>\n",
       "      <th>Title_Miss</th>\n",
       "      <th>Title_Mr</th>\n",
       "      <th>Title_Mrs</th>\n",
       "      <th>Title_Rev</th>\n",
       "      <th>Embarked_C</th>\n",
       "      <th>Embarked_Q</th>\n",
       "      <th>Embarked_S</th>\n",
       "    </tr>\n",
       "  </thead>\n",
       "  <tbody>\n",
       "    <tr>\n",
       "      <th>Age</th>\n",
       "      <td>1.000000</td>\n",
       "      <td>0.684130</td>\n",
       "      <td>-0.057694</td>\n",
       "      <td>-0.276799</td>\n",
       "      <td>0.135993</td>\n",
       "      <td>0.091321</td>\n",
       "      <td>0.163440</td>\n",
       "      <td>0.134956</td>\n",
       "      <td>0.124876</td>\n",
       "      <td>-0.061076</td>\n",
       "      <td>...</td>\n",
       "      <td>-0.019132</td>\n",
       "      <td>0.086342</td>\n",
       "      <td>-0.350364</td>\n",
       "      <td>-0.256790</td>\n",
       "      <td>0.184627</td>\n",
       "      <td>0.205183</td>\n",
       "      <td>0.082258</td>\n",
       "      <td>0.055608</td>\n",
       "      <td>-0.092074</td>\n",
       "      <td>0.009227</td>\n",
       "    </tr>\n",
       "    <tr>\n",
       "      <th>Age*Class</th>\n",
       "      <td>0.684130</td>\n",
       "      <td>1.000000</td>\n",
       "      <td>0.039749</td>\n",
       "      <td>0.258002</td>\n",
       "      <td>-0.044161</td>\n",
       "      <td>-0.150679</td>\n",
       "      <td>-0.142165</td>\n",
       "      <td>-0.074792</td>\n",
       "      <td>-0.063121</td>\n",
       "      <td>-0.033765</td>\n",
       "      <td>...</td>\n",
       "      <td>0.038026</td>\n",
       "      <td>-0.004538</td>\n",
       "      <td>-0.338859</td>\n",
       "      <td>-0.261334</td>\n",
       "      <td>0.268054</td>\n",
       "      <td>0.112053</td>\n",
       "      <td>0.070061</td>\n",
       "      <td>-0.144458</td>\n",
       "      <td>0.051066</td>\n",
       "      <td>0.094416</td>\n",
       "    </tr>\n",
       "    <tr>\n",
       "      <th>Age_Null_Flag</th>\n",
       "      <td>-0.057694</td>\n",
       "      <td>0.039749</td>\n",
       "      <td>1.000000</td>\n",
       "      <td>0.144111</td>\n",
       "      <td>0.000442</td>\n",
       "      <td>-0.092326</td>\n",
       "      <td>-0.042088</td>\n",
       "      <td>-0.067855</td>\n",
       "      <td>-0.065864</td>\n",
       "      <td>-0.013665</td>\n",
       "      <td>...</td>\n",
       "      <td>-0.066531</td>\n",
       "      <td>-0.012444</td>\n",
       "      <td>-0.053607</td>\n",
       "      <td>-0.006572</td>\n",
       "      <td>0.084091</td>\n",
       "      <td>-0.066212</td>\n",
       "      <td>-0.040996</td>\n",
       "      <td>0.033270</td>\n",
       "      <td>0.337413</td>\n",
       "      <td>-0.241480</td>\n",
       "    </tr>\n",
       "    <tr>\n",
       "      <th>Cabin_Letter_0</th>\n",
       "      <td>-0.276799</td>\n",
       "      <td>0.258002</td>\n",
       "      <td>0.144111</td>\n",
       "      <td>1.000000</td>\n",
       "      <td>-0.240136</td>\n",
       "      <td>-0.433053</td>\n",
       "      <td>-0.488683</td>\n",
       "      <td>-0.359896</td>\n",
       "      <td>-0.354194</td>\n",
       "      <td>-0.223299</td>\n",
       "      <td>...</td>\n",
       "      <td>0.092648</td>\n",
       "      <td>-0.042277</td>\n",
       "      <td>0.027841</td>\n",
       "      <td>-0.048730</td>\n",
       "      <td>0.120547</td>\n",
       "      <td>-0.129301</td>\n",
       "      <td>0.044868</td>\n",
       "      <td>-0.208528</td>\n",
       "      <td>0.129572</td>\n",
       "      <td>0.101139</td>\n",
       "    </tr>\n",
       "    <tr>\n",
       "      <th>Cabin_Letter_A</th>\n",
       "      <td>0.135993</td>\n",
       "      <td>-0.044161</td>\n",
       "      <td>0.000442</td>\n",
       "      <td>-0.240136</td>\n",
       "      <td>1.000000</td>\n",
       "      <td>-0.030880</td>\n",
       "      <td>-0.034846</td>\n",
       "      <td>-0.025663</td>\n",
       "      <td>-0.025256</td>\n",
       "      <td>-0.015923</td>\n",
       "      <td>...</td>\n",
       "      <td>-0.035807</td>\n",
       "      <td>-0.011644</td>\n",
       "      <td>0.013759</td>\n",
       "      <td>-0.067213</td>\n",
       "      <td>0.073794</td>\n",
       "      <td>-0.028398</td>\n",
       "      <td>-0.010775</td>\n",
       "      <td>0.093040</td>\n",
       "      <td>-0.040246</td>\n",
       "      <td>-0.056180</td>\n",
       "    </tr>\n",
       "    <tr>\n",
       "      <th>Cabin_Letter_B</th>\n",
       "      <td>0.091321</td>\n",
       "      <td>-0.150679</td>\n",
       "      <td>-0.092326</td>\n",
       "      <td>-0.433053</td>\n",
       "      <td>-0.030880</td>\n",
       "      <td>1.000000</td>\n",
       "      <td>-0.062841</td>\n",
       "      <td>-0.046280</td>\n",
       "      <td>-0.045547</td>\n",
       "      <td>-0.028715</td>\n",
       "      <td>...</td>\n",
       "      <td>-0.027977</td>\n",
       "      <td>0.035871</td>\n",
       "      <td>-0.026914</td>\n",
       "      <td>0.076453</td>\n",
       "      <td>-0.098929</td>\n",
       "      <td>0.061767</td>\n",
       "      <td>-0.019430</td>\n",
       "      <td>0.168642</td>\n",
       "      <td>-0.072579</td>\n",
       "      <td>-0.102063</td>\n",
       "    </tr>\n",
       "    <tr>\n",
       "      <th>Cabin_Letter_C</th>\n",
       "      <td>0.163440</td>\n",
       "      <td>-0.142165</td>\n",
       "      <td>-0.042088</td>\n",
       "      <td>-0.488683</td>\n",
       "      <td>-0.034846</td>\n",
       "      <td>-0.062841</td>\n",
       "      <td>1.000000</td>\n",
       "      <td>-0.052225</td>\n",
       "      <td>-0.051398</td>\n",
       "      <td>-0.032403</td>\n",
       "      <td>...</td>\n",
       "      <td>-0.064643</td>\n",
       "      <td>0.027426</td>\n",
       "      <td>-0.035937</td>\n",
       "      <td>0.007591</td>\n",
       "      <td>-0.043709</td>\n",
       "      <td>0.072174</td>\n",
       "      <td>-0.021926</td>\n",
       "      <td>0.113952</td>\n",
       "      <td>-0.049776</td>\n",
       "      <td>-0.068502</td>\n",
       "    </tr>\n",
       "    <tr>\n",
       "      <th>Cabin_Letter_D</th>\n",
       "      <td>0.134956</td>\n",
       "      <td>-0.074792</td>\n",
       "      <td>-0.067855</td>\n",
       "      <td>-0.359896</td>\n",
       "      <td>-0.025663</td>\n",
       "      <td>-0.046280</td>\n",
       "      <td>-0.052225</td>\n",
       "      <td>1.000000</td>\n",
       "      <td>-0.037852</td>\n",
       "      <td>-0.023864</td>\n",
       "      <td>...</td>\n",
       "      <td>-0.045001</td>\n",
       "      <td>0.049862</td>\n",
       "      <td>-0.042519</td>\n",
       "      <td>0.016247</td>\n",
       "      <td>-0.053688</td>\n",
       "      <td>0.073034</td>\n",
       "      <td>-0.016148</td>\n",
       "      <td>0.102977</td>\n",
       "      <td>-0.060318</td>\n",
       "      <td>-0.052254</td>\n",
       "    </tr>\n",
       "    <tr>\n",
       "      <th>Cabin_Letter_E</th>\n",
       "      <td>0.124876</td>\n",
       "      <td>-0.063121</td>\n",
       "      <td>-0.065864</td>\n",
       "      <td>-0.354194</td>\n",
       "      <td>-0.025256</td>\n",
       "      <td>-0.045547</td>\n",
       "      <td>-0.051398</td>\n",
       "      <td>-0.037852</td>\n",
       "      <td>1.000000</td>\n",
       "      <td>-0.023486</td>\n",
       "      <td>...</td>\n",
       "      <td>-0.006654</td>\n",
       "      <td>-0.017175</td>\n",
       "      <td>-0.012717</td>\n",
       "      <td>0.019588</td>\n",
       "      <td>-0.035005</td>\n",
       "      <td>0.042077</td>\n",
       "      <td>-0.015892</td>\n",
       "      <td>-0.015939</td>\n",
       "      <td>-0.037897</td>\n",
       "      <td>0.037812</td>\n",
       "    </tr>\n",
       "    <tr>\n",
       "      <th>Cabin_Letter_F</th>\n",
       "      <td>-0.061076</td>\n",
       "      <td>-0.033765</td>\n",
       "      <td>-0.013665</td>\n",
       "      <td>-0.223299</td>\n",
       "      <td>-0.015923</td>\n",
       "      <td>-0.028715</td>\n",
       "      <td>-0.032403</td>\n",
       "      <td>-0.023864</td>\n",
       "      <td>-0.023486</td>\n",
       "      <td>1.000000</td>\n",
       "      <td>...</td>\n",
       "      <td>-0.012829</td>\n",
       "      <td>-0.010828</td>\n",
       "      <td>0.109227</td>\n",
       "      <td>0.006591</td>\n",
       "      <td>-0.050607</td>\n",
       "      <td>0.003936</td>\n",
       "      <td>-0.010019</td>\n",
       "      <td>-0.034726</td>\n",
       "      <td>-0.004113</td>\n",
       "      <td>0.033010</td>\n",
       "    </tr>\n",
       "    <tr>\n",
       "      <th>Cabin_Letter_G</th>\n",
       "      <td>-0.067998</td>\n",
       "      <td>-0.048848</td>\n",
       "      <td>-0.033435</td>\n",
       "      <td>-0.123234</td>\n",
       "      <td>-0.008787</td>\n",
       "      <td>-0.015847</td>\n",
       "      <td>-0.017883</td>\n",
       "      <td>-0.013170</td>\n",
       "      <td>-0.012961</td>\n",
       "      <td>-0.008171</td>\n",
       "      <td>...</td>\n",
       "      <td>-0.006139</td>\n",
       "      <td>-0.005976</td>\n",
       "      <td>-0.014559</td>\n",
       "      <td>0.048123</td>\n",
       "      <td>-0.080428</td>\n",
       "      <td>0.068664</td>\n",
       "      <td>-0.005529</td>\n",
       "      <td>-0.032371</td>\n",
       "      <td>-0.020654</td>\n",
       "      <td>0.041356</td>\n",
       "    </tr>\n",
       "    <tr>\n",
       "      <th>Cabin_Letter_T</th>\n",
       "      <td>0.026744</td>\n",
       "      <td>-0.015047</td>\n",
       "      <td>-0.016689</td>\n",
       "      <td>-0.061513</td>\n",
       "      <td>-0.004386</td>\n",
       "      <td>-0.007910</td>\n",
       "      <td>-0.008926</td>\n",
       "      <td>-0.006574</td>\n",
       "      <td>-0.006470</td>\n",
       "      <td>-0.004079</td>\n",
       "      <td>...</td>\n",
       "      <td>-0.009172</td>\n",
       "      <td>-0.002983</td>\n",
       "      <td>-0.007267</td>\n",
       "      <td>-0.017217</td>\n",
       "      <td>0.027988</td>\n",
       "      <td>-0.013667</td>\n",
       "      <td>-0.002760</td>\n",
       "      <td>-0.016158</td>\n",
       "      <td>-0.010310</td>\n",
       "      <td>0.020643</td>\n",
       "    </tr>\n",
       "    <tr>\n",
       "      <th>Cabin_num_0.0</th>\n",
       "      <td>0.104229</td>\n",
       "      <td>-0.165933</td>\n",
       "      <td>-0.109974</td>\n",
       "      <td>-0.523284</td>\n",
       "      <td>0.326578</td>\n",
       "      <td>0.180224</td>\n",
       "      <td>0.095220</td>\n",
       "      <td>0.282117</td>\n",
       "      <td>0.150812</td>\n",
       "      <td>0.142774</td>\n",
       "      <td>...</td>\n",
       "      <td>-0.060965</td>\n",
       "      <td>0.022832</td>\n",
       "      <td>0.020392</td>\n",
       "      <td>0.031557</td>\n",
       "      <td>-0.081993</td>\n",
       "      <td>0.066348</td>\n",
       "      <td>-0.023479</td>\n",
       "      <td>0.003993</td>\n",
       "      <td>-0.087701</td>\n",
       "      <td>0.051692</td>\n",
       "    </tr>\n",
       "    <tr>\n",
       "      <th>Cabin_num_1.0</th>\n",
       "      <td>0.173946</td>\n",
       "      <td>-0.122190</td>\n",
       "      <td>-0.076380</td>\n",
       "      <td>-0.519049</td>\n",
       "      <td>0.096230</td>\n",
       "      <td>0.220829</td>\n",
       "      <td>0.148725</td>\n",
       "      <td>0.284914</td>\n",
       "      <td>0.267839</td>\n",
       "      <td>0.144285</td>\n",
       "      <td>...</td>\n",
       "      <td>-0.058654</td>\n",
       "      <td>0.023371</td>\n",
       "      <td>-0.040625</td>\n",
       "      <td>0.023432</td>\n",
       "      <td>-0.033875</td>\n",
       "      <td>0.044039</td>\n",
       "      <td>-0.023289</td>\n",
       "      <td>0.236164</td>\n",
       "      <td>-0.071740</td>\n",
       "      <td>-0.161744</td>\n",
       "    </tr>\n",
       "    <tr>\n",
       "      <th>Cabin_num_2.0</th>\n",
       "      <td>0.155596</td>\n",
       "      <td>-0.125630</td>\n",
       "      <td>-0.035305</td>\n",
       "      <td>-0.523284</td>\n",
       "      <td>-0.037314</td>\n",
       "      <td>0.294461</td>\n",
       "      <td>0.540223</td>\n",
       "      <td>-0.055923</td>\n",
       "      <td>0.150812</td>\n",
       "      <td>0.071785</td>\n",
       "      <td>...</td>\n",
       "      <td>-0.047006</td>\n",
       "      <td>0.022832</td>\n",
       "      <td>-0.020715</td>\n",
       "      <td>0.031557</td>\n",
       "      <td>-0.073343</td>\n",
       "      <td>0.078522</td>\n",
       "      <td>-0.023479</td>\n",
       "      <td>0.080157</td>\n",
       "      <td>-0.042261</td>\n",
       "      <td>-0.043626</td>\n",
       "    </tr>\n",
       "    <tr>\n",
       "      <th>Cabin_num_nan</th>\n",
       "      <td>-0.273405</td>\n",
       "      <td>0.260978</td>\n",
       "      <td>0.139766</td>\n",
       "      <td>0.987278</td>\n",
       "      <td>-0.243230</td>\n",
       "      <td>-0.438633</td>\n",
       "      <td>-0.494981</td>\n",
       "      <td>-0.321802</td>\n",
       "      <td>-0.358759</td>\n",
       "      <td>-0.226177</td>\n",
       "      <td>...</td>\n",
       "      <td>0.105059</td>\n",
       "      <td>-0.043531</td>\n",
       "      <td>0.025704</td>\n",
       "      <td>-0.054599</td>\n",
       "      <td>0.119442</td>\n",
       "      <td>-0.119207</td>\n",
       "      <td>0.044298</td>\n",
       "      <td>-0.201425</td>\n",
       "      <td>0.127173</td>\n",
       "      <td>0.096427</td>\n",
       "    </tr>\n",
       "    <tr>\n",
       "      <th>FamilySize</th>\n",
       "      <td>-0.247971</td>\n",
       "      <td>-0.244061</td>\n",
       "      <td>-0.049043</td>\n",
       "      <td>0.009175</td>\n",
       "      <td>-0.051767</td>\n",
       "      <td>0.004620</td>\n",
       "      <td>0.035347</td>\n",
       "      <td>-0.021566</td>\n",
       "      <td>-0.033466</td>\n",
       "      <td>0.013003</td>\n",
       "      <td>...</td>\n",
       "      <td>-0.019576</td>\n",
       "      <td>-0.018386</td>\n",
       "      <td>0.372472</td>\n",
       "      <td>0.105738</td>\n",
       "      <td>-0.345069</td>\n",
       "      <td>0.153525</td>\n",
       "      <td>-0.029170</td>\n",
       "      <td>-0.046215</td>\n",
       "      <td>-0.058592</td>\n",
       "      <td>0.077359</td>\n",
       "    </tr>\n",
       "    <tr>\n",
       "      <th>Family_Survival</th>\n",
       "      <td>0.079777</td>\n",
       "      <td>-0.127638</td>\n",
       "      <td>-0.038891</td>\n",
       "      <td>-0.301072</td>\n",
       "      <td>-0.007938</td>\n",
       "      <td>0.187277</td>\n",
       "      <td>0.172036</td>\n",
       "      <td>0.089055</td>\n",
       "      <td>0.090749</td>\n",
       "      <td>0.079345</td>\n",
       "      <td>...</td>\n",
       "      <td>-0.051970</td>\n",
       "      <td>0.033864</td>\n",
       "      <td>-0.013152</td>\n",
       "      <td>0.071190</td>\n",
       "      <td>-0.069130</td>\n",
       "      <td>0.014928</td>\n",
       "      <td>-0.004995</td>\n",
       "      <td>0.152428</td>\n",
       "      <td>-0.018657</td>\n",
       "      <td>-0.121792</td>\n",
       "    </tr>\n",
       "    <tr>\n",
       "      <th>Fare</th>\n",
       "      <td>0.110882</td>\n",
       "      <td>-0.361193</td>\n",
       "      <td>-0.169641</td>\n",
       "      <td>-0.497108</td>\n",
       "      <td>0.120407</td>\n",
       "      <td>0.252781</td>\n",
       "      <td>0.303729</td>\n",
       "      <td>0.193219</td>\n",
       "      <td>0.139456</td>\n",
       "      <td>-0.021489</td>\n",
       "      <td>...</td>\n",
       "      <td>-0.021184</td>\n",
       "      <td>0.050787</td>\n",
       "      <td>0.154223</td>\n",
       "      <td>0.064399</td>\n",
       "      <td>-0.314682</td>\n",
       "      <td>0.263886</td>\n",
       "      <td>-0.000372</td>\n",
       "      <td>0.200659</td>\n",
       "      <td>-0.242653</td>\n",
       "      <td>-0.023084</td>\n",
       "    </tr>\n",
       "    <tr>\n",
       "      <th>IsAlone</th>\n",
       "      <td>0.143911</td>\n",
       "      <td>0.262252</td>\n",
       "      <td>0.151319</td>\n",
       "      <td>0.158029</td>\n",
       "      <td>0.052762</td>\n",
       "      <td>-0.064914</td>\n",
       "      <td>-0.125062</td>\n",
       "      <td>-0.083664</td>\n",
       "      <td>-0.028179</td>\n",
       "      <td>-0.015972</td>\n",
       "      <td>...</td>\n",
       "      <td>0.064192</td>\n",
       "      <td>0.020293</td>\n",
       "      <td>-0.267024</td>\n",
       "      <td>-0.045717</td>\n",
       "      <td>0.403660</td>\n",
       "      <td>-0.364387</td>\n",
       "      <td>0.010764</td>\n",
       "      <td>-0.095298</td>\n",
       "      <td>0.086464</td>\n",
       "      <td>0.029074</td>\n",
       "    </tr>\n",
       "    <tr>\n",
       "      <th>Name_Len</th>\n",
       "      <td>0.077615</td>\n",
       "      <td>-0.086740</td>\n",
       "      <td>-0.157636</td>\n",
       "      <td>-0.190943</td>\n",
       "      <td>0.040929</td>\n",
       "      <td>0.084238</td>\n",
       "      <td>0.134802</td>\n",
       "      <td>0.059675</td>\n",
       "      <td>0.019580</td>\n",
       "      <td>0.020637</td>\n",
       "      <td>...</td>\n",
       "      <td>-0.017184</td>\n",
       "      <td>-0.027074</td>\n",
       "      <td>0.053399</td>\n",
       "      <td>-0.038262</td>\n",
       "      <td>-0.451942</td>\n",
       "      <td>0.657690</td>\n",
       "      <td>-0.008567</td>\n",
       "      <td>0.027481</td>\n",
       "      <td>-0.140941</td>\n",
       "      <td>0.064620</td>\n",
       "    </tr>\n",
       "    <tr>\n",
       "      <th>Parch</th>\n",
       "      <td>-0.160146</td>\n",
       "      <td>-0.142782</td>\n",
       "      <td>-0.124104</td>\n",
       "      <td>-0.036987</td>\n",
       "      <td>-0.040325</td>\n",
       "      <td>0.056498</td>\n",
       "      <td>0.030736</td>\n",
       "      <td>-0.019125</td>\n",
       "      <td>-0.016554</td>\n",
       "      <td>0.023694</td>\n",
       "      <td>...</td>\n",
       "      <td>-0.020454</td>\n",
       "      <td>-0.042150</td>\n",
       "      <td>0.267344</td>\n",
       "      <td>0.099490</td>\n",
       "      <td>-0.340766</td>\n",
       "      <td>0.221318</td>\n",
       "      <td>-0.021967</td>\n",
       "      <td>-0.011069</td>\n",
       "      <td>-0.081228</td>\n",
       "      <td>0.060814</td>\n",
       "    </tr>\n",
       "    <tr>\n",
       "      <th>Pclass</th>\n",
       "      <td>-0.412104</td>\n",
       "      <td>0.290595</td>\n",
       "      <td>0.172933</td>\n",
       "      <td>0.725541</td>\n",
       "      <td>-0.204934</td>\n",
       "      <td>-0.369572</td>\n",
       "      <td>-0.417048</td>\n",
       "      <td>-0.278690</td>\n",
       "      <td>-0.230091</td>\n",
       "      <td>0.011063</td>\n",
       "      <td>...</td>\n",
       "      <td>0.054098</td>\n",
       "      <td>-0.108935</td>\n",
       "      <td>0.082081</td>\n",
       "      <td>-0.014566</td>\n",
       "      <td>0.114564</td>\n",
       "      <td>-0.158279</td>\n",
       "      <td>-0.030413</td>\n",
       "      <td>-0.243292</td>\n",
       "      <td>0.221009</td>\n",
       "      <td>0.074053</td>\n",
       "    </tr>\n",
       "    <tr>\n",
       "      <th>Sex</th>\n",
       "      <td>-0.063598</td>\n",
       "      <td>-0.140073</td>\n",
       "      <td>-0.055215</td>\n",
       "      <td>-0.140391</td>\n",
       "      <td>-0.078271</td>\n",
       "      <td>0.109689</td>\n",
       "      <td>0.058649</td>\n",
       "      <td>0.079248</td>\n",
       "      <td>0.047003</td>\n",
       "      <td>0.008202</td>\n",
       "      <td>...</td>\n",
       "      <td>-0.080280</td>\n",
       "      <td>-0.039034</td>\n",
       "      <td>-0.159934</td>\n",
       "      <td>0.696282</td>\n",
       "      <td>-0.883519</td>\n",
       "      <td>0.552686</td>\n",
       "      <td>-0.060741</td>\n",
       "      <td>0.082853</td>\n",
       "      <td>0.074115</td>\n",
       "      <td>-0.119224</td>\n",
       "    </tr>\n",
       "    <tr>\n",
       "      <th>SibSp</th>\n",
       "      <td>-0.245754</td>\n",
       "      <td>-0.252726</td>\n",
       "      <td>0.018958</td>\n",
       "      <td>0.040460</td>\n",
       "      <td>-0.046266</td>\n",
       "      <td>-0.034538</td>\n",
       "      <td>0.029251</td>\n",
       "      <td>-0.017575</td>\n",
       "      <td>-0.036865</td>\n",
       "      <td>0.001706</td>\n",
       "      <td>...</td>\n",
       "      <td>-0.013691</td>\n",
       "      <td>0.003910</td>\n",
       "      <td>0.349559</td>\n",
       "      <td>0.081986</td>\n",
       "      <td>-0.255796</td>\n",
       "      <td>0.062854</td>\n",
       "      <td>-0.026622</td>\n",
       "      <td>-0.059528</td>\n",
       "      <td>-0.026354</td>\n",
       "      <td>0.068734</td>\n",
       "    </tr>\n",
       "    <tr>\n",
       "      <th>Survived</th>\n",
       "      <td>-0.035985</td>\n",
       "      <td>-0.260449</td>\n",
       "      <td>-0.092197</td>\n",
       "      <td>-0.316912</td>\n",
       "      <td>0.022287</td>\n",
       "      <td>0.175095</td>\n",
       "      <td>0.114652</td>\n",
       "      <td>0.150716</td>\n",
       "      <td>0.145321</td>\n",
       "      <td>0.057935</td>\n",
       "      <td>...</td>\n",
       "      <td>-0.055331</td>\n",
       "      <td>0.008185</td>\n",
       "      <td>0.085221</td>\n",
       "      <td>0.338468</td>\n",
       "      <td>-0.551255</td>\n",
       "      <td>0.344935</td>\n",
       "      <td>-0.064988</td>\n",
       "      <td>0.168240</td>\n",
       "      <td>0.003650</td>\n",
       "      <td>-0.149683</td>\n",
       "    </tr>\n",
       "    <tr>\n",
       "      <th>Ticket_Len</th>\n",
       "      <td>-0.019132</td>\n",
       "      <td>0.038026</td>\n",
       "      <td>-0.066531</td>\n",
       "      <td>0.092648</td>\n",
       "      <td>-0.035807</td>\n",
       "      <td>-0.027977</td>\n",
       "      <td>-0.064643</td>\n",
       "      <td>-0.045001</td>\n",
       "      <td>-0.006654</td>\n",
       "      <td>-0.012829</td>\n",
       "      <td>...</td>\n",
       "      <td>1.000000</td>\n",
       "      <td>-0.033615</td>\n",
       "      <td>-0.021794</td>\n",
       "      <td>-0.045949</td>\n",
       "      <td>0.091292</td>\n",
       "      <td>-0.054236</td>\n",
       "      <td>0.002475</td>\n",
       "      <td>-0.086939</td>\n",
       "      <td>-0.100172</td>\n",
       "      <td>0.139200</td>\n",
       "    </tr>\n",
       "    <tr>\n",
       "      <th>Title_Dr</th>\n",
       "      <td>0.086342</td>\n",
       "      <td>-0.004538</td>\n",
       "      <td>-0.012444</td>\n",
       "      <td>-0.042277</td>\n",
       "      <td>-0.011644</td>\n",
       "      <td>0.035871</td>\n",
       "      <td>0.027426</td>\n",
       "      <td>0.049862</td>\n",
       "      <td>-0.017175</td>\n",
       "      <td>-0.010828</td>\n",
       "      <td>...</td>\n",
       "      <td>-0.033615</td>\n",
       "      <td>1.000000</td>\n",
       "      <td>-0.019292</td>\n",
       "      <td>-0.045707</td>\n",
       "      <td>-0.106577</td>\n",
       "      <td>-0.036281</td>\n",
       "      <td>-0.007327</td>\n",
       "      <td>0.022104</td>\n",
       "      <td>0.017874</td>\n",
       "      <td>-0.030612</td>\n",
       "    </tr>\n",
       "    <tr>\n",
       "      <th>Title_Master</th>\n",
       "      <td>-0.350364</td>\n",
       "      <td>-0.338859</td>\n",
       "      <td>-0.053607</td>\n",
       "      <td>0.027841</td>\n",
       "      <td>0.013759</td>\n",
       "      <td>-0.026914</td>\n",
       "      <td>-0.035937</td>\n",
       "      <td>-0.042519</td>\n",
       "      <td>-0.012717</td>\n",
       "      <td>0.109227</td>\n",
       "      <td>...</td>\n",
       "      <td>-0.021794</td>\n",
       "      <td>-0.019292</td>\n",
       "      <td>1.000000</td>\n",
       "      <td>-0.111359</td>\n",
       "      <td>-0.259660</td>\n",
       "      <td>-0.088394</td>\n",
       "      <td>-0.017851</td>\n",
       "      <td>-0.035225</td>\n",
       "      <td>0.010478</td>\n",
       "      <td>0.024264</td>\n",
       "    </tr>\n",
       "    <tr>\n",
       "      <th>Title_Miss</th>\n",
       "      <td>-0.256790</td>\n",
       "      <td>-0.261334</td>\n",
       "      <td>-0.006572</td>\n",
       "      <td>-0.048730</td>\n",
       "      <td>-0.067213</td>\n",
       "      <td>0.076453</td>\n",
       "      <td>0.007591</td>\n",
       "      <td>0.016247</td>\n",
       "      <td>0.019588</td>\n",
       "      <td>0.006591</td>\n",
       "      <td>...</td>\n",
       "      <td>-0.045949</td>\n",
       "      <td>-0.045707</td>\n",
       "      <td>-0.111359</td>\n",
       "      <td>1.000000</td>\n",
       "      <td>-0.615178</td>\n",
       "      <td>-0.209419</td>\n",
       "      <td>-0.042293</td>\n",
       "      <td>0.041861</td>\n",
       "      <td>0.166350</td>\n",
       "      <td>-0.141356</td>\n",
       "    </tr>\n",
       "    <tr>\n",
       "      <th>Title_Mr</th>\n",
       "      <td>0.184627</td>\n",
       "      <td>0.268054</td>\n",
       "      <td>0.084091</td>\n",
       "      <td>0.120547</td>\n",
       "      <td>0.073794</td>\n",
       "      <td>-0.098929</td>\n",
       "      <td>-0.043709</td>\n",
       "      <td>-0.053688</td>\n",
       "      <td>-0.035005</td>\n",
       "      <td>-0.050607</td>\n",
       "      <td>...</td>\n",
       "      <td>0.091292</td>\n",
       "      <td>-0.106577</td>\n",
       "      <td>-0.259660</td>\n",
       "      <td>-0.615178</td>\n",
       "      <td>1.000000</td>\n",
       "      <td>-0.488309</td>\n",
       "      <td>-0.098615</td>\n",
       "      <td>-0.064095</td>\n",
       "      <td>-0.084197</td>\n",
       "      <td>0.109135</td>\n",
       "    </tr>\n",
       "    <tr>\n",
       "      <th>Title_Mrs</th>\n",
       "      <td>0.205183</td>\n",
       "      <td>0.112053</td>\n",
       "      <td>-0.066212</td>\n",
       "      <td>-0.129301</td>\n",
       "      <td>-0.028398</td>\n",
       "      <td>0.061767</td>\n",
       "      <td>0.072174</td>\n",
       "      <td>0.073034</td>\n",
       "      <td>0.042077</td>\n",
       "      <td>0.003936</td>\n",
       "      <td>...</td>\n",
       "      <td>-0.054236</td>\n",
       "      <td>-0.036281</td>\n",
       "      <td>-0.088394</td>\n",
       "      <td>-0.209419</td>\n",
       "      <td>-0.488309</td>\n",
       "      <td>1.000000</td>\n",
       "      <td>-0.033571</td>\n",
       "      <td>0.066101</td>\n",
       "      <td>-0.091121</td>\n",
       "      <td>-0.000565</td>\n",
       "    </tr>\n",
       "    <tr>\n",
       "      <th>Title_Rev</th>\n",
       "      <td>0.082258</td>\n",
       "      <td>0.070061</td>\n",
       "      <td>-0.040996</td>\n",
       "      <td>0.044868</td>\n",
       "      <td>-0.010775</td>\n",
       "      <td>-0.019430</td>\n",
       "      <td>-0.021926</td>\n",
       "      <td>-0.016148</td>\n",
       "      <td>-0.015892</td>\n",
       "      <td>-0.010019</td>\n",
       "      <td>...</td>\n",
       "      <td>0.002475</td>\n",
       "      <td>-0.007327</td>\n",
       "      <td>-0.017851</td>\n",
       "      <td>-0.042293</td>\n",
       "      <td>-0.098615</td>\n",
       "      <td>-0.033571</td>\n",
       "      <td>1.000000</td>\n",
       "      <td>-0.039691</td>\n",
       "      <td>0.023515</td>\n",
       "      <td>0.019972</td>\n",
       "    </tr>\n",
       "    <tr>\n",
       "      <th>Embarked_C</th>\n",
       "      <td>0.055608</td>\n",
       "      <td>-0.144458</td>\n",
       "      <td>0.033270</td>\n",
       "      <td>-0.208528</td>\n",
       "      <td>0.093040</td>\n",
       "      <td>0.168642</td>\n",
       "      <td>0.113952</td>\n",
       "      <td>0.102977</td>\n",
       "      <td>-0.015939</td>\n",
       "      <td>-0.034726</td>\n",
       "      <td>...</td>\n",
       "      <td>-0.086939</td>\n",
       "      <td>0.022104</td>\n",
       "      <td>-0.035225</td>\n",
       "      <td>0.041861</td>\n",
       "      <td>-0.064095</td>\n",
       "      <td>0.066101</td>\n",
       "      <td>-0.039691</td>\n",
       "      <td>1.000000</td>\n",
       "      <td>-0.148258</td>\n",
       "      <td>-0.782742</td>\n",
       "    </tr>\n",
       "    <tr>\n",
       "      <th>Embarked_Q</th>\n",
       "      <td>-0.092074</td>\n",
       "      <td>0.051066</td>\n",
       "      <td>0.337413</td>\n",
       "      <td>0.129572</td>\n",
       "      <td>-0.040246</td>\n",
       "      <td>-0.072579</td>\n",
       "      <td>-0.049776</td>\n",
       "      <td>-0.060318</td>\n",
       "      <td>-0.037897</td>\n",
       "      <td>-0.004113</td>\n",
       "      <td>...</td>\n",
       "      <td>-0.100172</td>\n",
       "      <td>0.017874</td>\n",
       "      <td>0.010478</td>\n",
       "      <td>0.166350</td>\n",
       "      <td>-0.084197</td>\n",
       "      <td>-0.091121</td>\n",
       "      <td>0.023515</td>\n",
       "      <td>-0.148258</td>\n",
       "      <td>1.000000</td>\n",
       "      <td>-0.499421</td>\n",
       "    </tr>\n",
       "    <tr>\n",
       "      <th>Embarked_S</th>\n",
       "      <td>0.009227</td>\n",
       "      <td>0.094416</td>\n",
       "      <td>-0.241480</td>\n",
       "      <td>0.101139</td>\n",
       "      <td>-0.056180</td>\n",
       "      <td>-0.102063</td>\n",
       "      <td>-0.068502</td>\n",
       "      <td>-0.052254</td>\n",
       "      <td>0.037812</td>\n",
       "      <td>0.033010</td>\n",
       "      <td>...</td>\n",
       "      <td>0.139200</td>\n",
       "      <td>-0.030612</td>\n",
       "      <td>0.024264</td>\n",
       "      <td>-0.141356</td>\n",
       "      <td>0.109135</td>\n",
       "      <td>-0.000565</td>\n",
       "      <td>0.019972</td>\n",
       "      <td>-0.782742</td>\n",
       "      <td>-0.499421</td>\n",
       "      <td>1.000000</td>\n",
       "    </tr>\n",
       "  </tbody>\n",
       "</table>\n",
       "<p>36 rows × 36 columns</p>\n",
       "</div>"
      ],
      "text/plain": [
       "                      Age  Age*Class  Age_Null_Flag  Cabin_Letter_0  \\\n",
       "Age              1.000000   0.684130      -0.057694       -0.276799   \n",
       "Age*Class        0.684130   1.000000       0.039749        0.258002   \n",
       "Age_Null_Flag   -0.057694   0.039749       1.000000        0.144111   \n",
       "Cabin_Letter_0  -0.276799   0.258002       0.144111        1.000000   \n",
       "Cabin_Letter_A   0.135993  -0.044161       0.000442       -0.240136   \n",
       "Cabin_Letter_B   0.091321  -0.150679      -0.092326       -0.433053   \n",
       "Cabin_Letter_C   0.163440  -0.142165      -0.042088       -0.488683   \n",
       "Cabin_Letter_D   0.134956  -0.074792      -0.067855       -0.359896   \n",
       "Cabin_Letter_E   0.124876  -0.063121      -0.065864       -0.354194   \n",
       "Cabin_Letter_F  -0.061076  -0.033765      -0.013665       -0.223299   \n",
       "Cabin_Letter_G  -0.067998  -0.048848      -0.033435       -0.123234   \n",
       "Cabin_Letter_T   0.026744  -0.015047      -0.016689       -0.061513   \n",
       "Cabin_num_0.0    0.104229  -0.165933      -0.109974       -0.523284   \n",
       "Cabin_num_1.0    0.173946  -0.122190      -0.076380       -0.519049   \n",
       "Cabin_num_2.0    0.155596  -0.125630      -0.035305       -0.523284   \n",
       "Cabin_num_nan   -0.273405   0.260978       0.139766        0.987278   \n",
       "FamilySize      -0.247971  -0.244061      -0.049043        0.009175   \n",
       "Family_Survival  0.079777  -0.127638      -0.038891       -0.301072   \n",
       "Fare             0.110882  -0.361193      -0.169641       -0.497108   \n",
       "IsAlone          0.143911   0.262252       0.151319        0.158029   \n",
       "Name_Len         0.077615  -0.086740      -0.157636       -0.190943   \n",
       "Parch           -0.160146  -0.142782      -0.124104       -0.036987   \n",
       "Pclass          -0.412104   0.290595       0.172933        0.725541   \n",
       "Sex             -0.063598  -0.140073      -0.055215       -0.140391   \n",
       "SibSp           -0.245754  -0.252726       0.018958        0.040460   \n",
       "Survived        -0.035985  -0.260449      -0.092197       -0.316912   \n",
       "Ticket_Len      -0.019132   0.038026      -0.066531        0.092648   \n",
       "Title_Dr         0.086342  -0.004538      -0.012444       -0.042277   \n",
       "Title_Master    -0.350364  -0.338859      -0.053607        0.027841   \n",
       "Title_Miss      -0.256790  -0.261334      -0.006572       -0.048730   \n",
       "Title_Mr         0.184627   0.268054       0.084091        0.120547   \n",
       "Title_Mrs        0.205183   0.112053      -0.066212       -0.129301   \n",
       "Title_Rev        0.082258   0.070061      -0.040996        0.044868   \n",
       "Embarked_C       0.055608  -0.144458       0.033270       -0.208528   \n",
       "Embarked_Q      -0.092074   0.051066       0.337413        0.129572   \n",
       "Embarked_S       0.009227   0.094416      -0.241480        0.101139   \n",
       "\n",
       "                 Cabin_Letter_A  Cabin_Letter_B  Cabin_Letter_C  \\\n",
       "Age                    0.135993        0.091321        0.163440   \n",
       "Age*Class             -0.044161       -0.150679       -0.142165   \n",
       "Age_Null_Flag          0.000442       -0.092326       -0.042088   \n",
       "Cabin_Letter_0        -0.240136       -0.433053       -0.488683   \n",
       "Cabin_Letter_A         1.000000       -0.030880       -0.034846   \n",
       "Cabin_Letter_B        -0.030880        1.000000       -0.062841   \n",
       "Cabin_Letter_C        -0.034846       -0.062841        1.000000   \n",
       "Cabin_Letter_D        -0.025663       -0.046280       -0.052225   \n",
       "Cabin_Letter_E        -0.025256       -0.045547       -0.051398   \n",
       "Cabin_Letter_F        -0.015923       -0.028715       -0.032403   \n",
       "Cabin_Letter_G        -0.008787       -0.015847       -0.017883   \n",
       "Cabin_Letter_T        -0.004386       -0.007910       -0.008926   \n",
       "Cabin_num_0.0          0.326578        0.180224        0.095220   \n",
       "Cabin_num_1.0          0.096230        0.220829        0.148725   \n",
       "Cabin_num_2.0         -0.037314        0.294461        0.540223   \n",
       "Cabin_num_nan         -0.243230       -0.438633       -0.494981   \n",
       "FamilySize            -0.051767        0.004620        0.035347   \n",
       "Family_Survival       -0.007938        0.187277        0.172036   \n",
       "Fare                   0.120407        0.252781        0.303729   \n",
       "IsAlone                0.052762       -0.064914       -0.125062   \n",
       "Name_Len               0.040929        0.084238        0.134802   \n",
       "Parch                 -0.040325        0.056498        0.030736   \n",
       "Pclass                -0.204934       -0.369572       -0.417048   \n",
       "Sex                   -0.078271        0.109689        0.058649   \n",
       "SibSp                 -0.046266       -0.034538        0.029251   \n",
       "Survived               0.022287        0.175095        0.114652   \n",
       "Ticket_Len            -0.035807       -0.027977       -0.064643   \n",
       "Title_Dr              -0.011644        0.035871        0.027426   \n",
       "Title_Master           0.013759       -0.026914       -0.035937   \n",
       "Title_Miss            -0.067213        0.076453        0.007591   \n",
       "Title_Mr               0.073794       -0.098929       -0.043709   \n",
       "Title_Mrs             -0.028398        0.061767        0.072174   \n",
       "Title_Rev             -0.010775       -0.019430       -0.021926   \n",
       "Embarked_C             0.093040        0.168642        0.113952   \n",
       "Embarked_Q            -0.040246       -0.072579       -0.049776   \n",
       "Embarked_S            -0.056180       -0.102063       -0.068502   \n",
       "\n",
       "                 Cabin_Letter_D  Cabin_Letter_E  Cabin_Letter_F     ...      \\\n",
       "Age                    0.134956        0.124876       -0.061076     ...       \n",
       "Age*Class             -0.074792       -0.063121       -0.033765     ...       \n",
       "Age_Null_Flag         -0.067855       -0.065864       -0.013665     ...       \n",
       "Cabin_Letter_0        -0.359896       -0.354194       -0.223299     ...       \n",
       "Cabin_Letter_A        -0.025663       -0.025256       -0.015923     ...       \n",
       "Cabin_Letter_B        -0.046280       -0.045547       -0.028715     ...       \n",
       "Cabin_Letter_C        -0.052225       -0.051398       -0.032403     ...       \n",
       "Cabin_Letter_D         1.000000       -0.037852       -0.023864     ...       \n",
       "Cabin_Letter_E        -0.037852        1.000000       -0.023486     ...       \n",
       "Cabin_Letter_F        -0.023864       -0.023486        1.000000     ...       \n",
       "Cabin_Letter_G        -0.013170       -0.012961       -0.008171     ...       \n",
       "Cabin_Letter_T        -0.006574       -0.006470       -0.004079     ...       \n",
       "Cabin_num_0.0          0.282117        0.150812        0.142774     ...       \n",
       "Cabin_num_1.0          0.284914        0.267839        0.144285     ...       \n",
       "Cabin_num_2.0         -0.055923        0.150812        0.071785     ...       \n",
       "Cabin_num_nan         -0.321802       -0.358759       -0.226177     ...       \n",
       "FamilySize            -0.021566       -0.033466        0.013003     ...       \n",
       "Family_Survival        0.089055        0.090749        0.079345     ...       \n",
       "Fare                   0.193219        0.139456       -0.021489     ...       \n",
       "IsAlone               -0.083664       -0.028179       -0.015972     ...       \n",
       "Name_Len               0.059675        0.019580        0.020637     ...       \n",
       "Parch                 -0.019125       -0.016554        0.023694     ...       \n",
       "Pclass                -0.278690       -0.230091        0.011063     ...       \n",
       "Sex                    0.079248        0.047003        0.008202     ...       \n",
       "SibSp                 -0.017575       -0.036865        0.001706     ...       \n",
       "Survived               0.150716        0.145321        0.057935     ...       \n",
       "Ticket_Len            -0.045001       -0.006654       -0.012829     ...       \n",
       "Title_Dr               0.049862       -0.017175       -0.010828     ...       \n",
       "Title_Master          -0.042519       -0.012717        0.109227     ...       \n",
       "Title_Miss             0.016247        0.019588        0.006591     ...       \n",
       "Title_Mr              -0.053688       -0.035005       -0.050607     ...       \n",
       "Title_Mrs              0.073034        0.042077        0.003936     ...       \n",
       "Title_Rev             -0.016148       -0.015892       -0.010019     ...       \n",
       "Embarked_C             0.102977       -0.015939       -0.034726     ...       \n",
       "Embarked_Q            -0.060318       -0.037897       -0.004113     ...       \n",
       "Embarked_S            -0.052254        0.037812        0.033010     ...       \n",
       "\n",
       "                 Ticket_Len  Title_Dr  Title_Master  Title_Miss  Title_Mr  \\\n",
       "Age               -0.019132  0.086342     -0.350364   -0.256790  0.184627   \n",
       "Age*Class          0.038026 -0.004538     -0.338859   -0.261334  0.268054   \n",
       "Age_Null_Flag     -0.066531 -0.012444     -0.053607   -0.006572  0.084091   \n",
       "Cabin_Letter_0     0.092648 -0.042277      0.027841   -0.048730  0.120547   \n",
       "Cabin_Letter_A    -0.035807 -0.011644      0.013759   -0.067213  0.073794   \n",
       "Cabin_Letter_B    -0.027977  0.035871     -0.026914    0.076453 -0.098929   \n",
       "Cabin_Letter_C    -0.064643  0.027426     -0.035937    0.007591 -0.043709   \n",
       "Cabin_Letter_D    -0.045001  0.049862     -0.042519    0.016247 -0.053688   \n",
       "Cabin_Letter_E    -0.006654 -0.017175     -0.012717    0.019588 -0.035005   \n",
       "Cabin_Letter_F    -0.012829 -0.010828      0.109227    0.006591 -0.050607   \n",
       "Cabin_Letter_G    -0.006139 -0.005976     -0.014559    0.048123 -0.080428   \n",
       "Cabin_Letter_T    -0.009172 -0.002983     -0.007267   -0.017217  0.027988   \n",
       "Cabin_num_0.0     -0.060965  0.022832      0.020392    0.031557 -0.081993   \n",
       "Cabin_num_1.0     -0.058654  0.023371     -0.040625    0.023432 -0.033875   \n",
       "Cabin_num_2.0     -0.047006  0.022832     -0.020715    0.031557 -0.073343   \n",
       "Cabin_num_nan      0.105059 -0.043531      0.025704   -0.054599  0.119442   \n",
       "FamilySize        -0.019576 -0.018386      0.372472    0.105738 -0.345069   \n",
       "Family_Survival   -0.051970  0.033864     -0.013152    0.071190 -0.069130   \n",
       "Fare              -0.021184  0.050787      0.154223    0.064399 -0.314682   \n",
       "IsAlone            0.064192  0.020293     -0.267024   -0.045717  0.403660   \n",
       "Name_Len          -0.017184 -0.027074      0.053399   -0.038262 -0.451942   \n",
       "Parch             -0.020454 -0.042150      0.267344    0.099490 -0.340766   \n",
       "Pclass             0.054098 -0.108935      0.082081   -0.014566  0.114564   \n",
       "Sex               -0.080280 -0.039034     -0.159934    0.696282 -0.883519   \n",
       "SibSp             -0.013691  0.003910      0.349559    0.081986 -0.255796   \n",
       "Survived          -0.055331  0.008185      0.085221    0.338468 -0.551255   \n",
       "Ticket_Len         1.000000 -0.033615     -0.021794   -0.045949  0.091292   \n",
       "Title_Dr          -0.033615  1.000000     -0.019292   -0.045707 -0.106577   \n",
       "Title_Master      -0.021794 -0.019292      1.000000   -0.111359 -0.259660   \n",
       "Title_Miss        -0.045949 -0.045707     -0.111359    1.000000 -0.615178   \n",
       "Title_Mr           0.091292 -0.106577     -0.259660   -0.615178  1.000000   \n",
       "Title_Mrs         -0.054236 -0.036281     -0.088394   -0.209419 -0.488309   \n",
       "Title_Rev          0.002475 -0.007327     -0.017851   -0.042293 -0.098615   \n",
       "Embarked_C        -0.086939  0.022104     -0.035225    0.041861 -0.064095   \n",
       "Embarked_Q        -0.100172  0.017874      0.010478    0.166350 -0.084197   \n",
       "Embarked_S         0.139200 -0.030612      0.024264   -0.141356  0.109135   \n",
       "\n",
       "                 Title_Mrs  Title_Rev  Embarked_C  Embarked_Q  Embarked_S  \n",
       "Age               0.205183   0.082258    0.055608   -0.092074    0.009227  \n",
       "Age*Class         0.112053   0.070061   -0.144458    0.051066    0.094416  \n",
       "Age_Null_Flag    -0.066212  -0.040996    0.033270    0.337413   -0.241480  \n",
       "Cabin_Letter_0   -0.129301   0.044868   -0.208528    0.129572    0.101139  \n",
       "Cabin_Letter_A   -0.028398  -0.010775    0.093040   -0.040246   -0.056180  \n",
       "Cabin_Letter_B    0.061767  -0.019430    0.168642   -0.072579   -0.102063  \n",
       "Cabin_Letter_C    0.072174  -0.021926    0.113952   -0.049776   -0.068502  \n",
       "Cabin_Letter_D    0.073034  -0.016148    0.102977   -0.060318   -0.052254  \n",
       "Cabin_Letter_E    0.042077  -0.015892   -0.015939   -0.037897    0.037812  \n",
       "Cabin_Letter_F    0.003936  -0.010019   -0.034726   -0.004113    0.033010  \n",
       "Cabin_Letter_G    0.068664  -0.005529   -0.032371   -0.020654    0.041356  \n",
       "Cabin_Letter_T   -0.013667  -0.002760   -0.016158   -0.010310    0.020643  \n",
       "Cabin_num_0.0     0.066348  -0.023479    0.003993   -0.087701    0.051692  \n",
       "Cabin_num_1.0     0.044039  -0.023289    0.236164   -0.071740   -0.161744  \n",
       "Cabin_num_2.0     0.078522  -0.023479    0.080157   -0.042261   -0.043626  \n",
       "Cabin_num_nan    -0.119207   0.044298   -0.201425    0.127173    0.096427  \n",
       "FamilySize        0.153525  -0.029170   -0.046215   -0.058592    0.077359  \n",
       "Family_Survival   0.014928  -0.004995    0.152428   -0.018657   -0.121792  \n",
       "Fare              0.263886  -0.000372    0.200659   -0.242653   -0.023084  \n",
       "IsAlone          -0.364387   0.010764   -0.095298    0.086464    0.029074  \n",
       "Name_Len          0.657690  -0.008567    0.027481   -0.140941    0.064620  \n",
       "Parch             0.221318  -0.021967   -0.011069   -0.081228    0.060814  \n",
       "Pclass           -0.158279  -0.030413   -0.243292    0.221009    0.074053  \n",
       "Sex               0.552686  -0.060741    0.082853    0.074115   -0.119224  \n",
       "SibSp             0.062854  -0.026622   -0.059528   -0.026354    0.068734  \n",
       "Survived          0.344935  -0.064988    0.168240    0.003650   -0.149683  \n",
       "Ticket_Len       -0.054236   0.002475   -0.086939   -0.100172    0.139200  \n",
       "Title_Dr         -0.036281  -0.007327    0.022104    0.017874   -0.030612  \n",
       "Title_Master     -0.088394  -0.017851   -0.035225    0.010478    0.024264  \n",
       "Title_Miss       -0.209419  -0.042293    0.041861    0.166350   -0.141356  \n",
       "Title_Mr         -0.488309  -0.098615   -0.064095   -0.084197    0.109135  \n",
       "Title_Mrs         1.000000  -0.033571    0.066101   -0.091121   -0.000565  \n",
       "Title_Rev        -0.033571   1.000000   -0.039691    0.023515    0.019972  \n",
       "Embarked_C        0.066101  -0.039691    1.000000   -0.148258   -0.782742  \n",
       "Embarked_Q       -0.091121   0.023515   -0.148258    1.000000   -0.499421  \n",
       "Embarked_S       -0.000565   0.019972   -0.782742   -0.499421    1.000000  \n",
       "\n",
       "[36 rows x 36 columns]"
      ]
     },
     "execution_count": 68,
     "metadata": {},
     "output_type": "execute_result"
    }
   ],
   "source": [
    "corrmat = train_df.corr()\n",
    "corrmat"
   ]
  },
  {
   "cell_type": "code",
   "execution_count": 69,
   "metadata": {},
   "outputs": [
    {
     "data": {
      "text/plain": [
       "0.7255412418289479"
      ]
     },
     "execution_count": 69,
     "metadata": {},
     "output_type": "execute_result"
    }
   ],
   "source": [
    "corrmat.loc[\"Pclass\", \"Cabin_Letter_0\"]"
   ]
  },
  {
   "cell_type": "code",
   "execution_count": 70,
   "metadata": {},
   "outputs": [
    {
     "data": {
      "text/plain": [
       "Cabin_Letter_0  Pclass\n",
       "0               1         176\n",
       "                2          16\n",
       "                3          12\n",
       "1               3         479\n",
       "                2         168\n",
       "                1          40\n",
       "Name: Pclass, dtype: int64"
      ]
     },
     "execution_count": 70,
     "metadata": {},
     "output_type": "execute_result"
    }
   ],
   "source": [
    "train_df.groupby(\"Cabin_Letter_0\").Pclass.value_counts()"
   ]
  },
  {
   "cell_type": "code",
   "execution_count": 71,
   "metadata": {},
   "outputs": [
    {
     "data": {
      "text/plain": [
       "Pclass  Cabin_Letter_0\n",
       "1       0                 176\n",
       "        1                  40\n",
       "2       1                 168\n",
       "        0                  16\n",
       "3       1                 479\n",
       "        0                  12\n",
       "Name: Cabin_Letter_0, dtype: int64"
      ]
     },
     "execution_count": 71,
     "metadata": {},
     "output_type": "execute_result"
    }
   ],
   "source": [
    "train_df.groupby(\"Pclass\").Cabin_Letter_0.value_counts()"
   ]
  },
  {
   "cell_type": "code",
   "execution_count": 72,
   "metadata": {},
   "outputs": [
    {
     "data": {
      "text/plain": [
       "-0.6284587233322473"
      ]
     },
     "execution_count": 72,
     "metadata": {},
     "output_type": "execute_result"
    }
   ],
   "source": [
    "corrmat.loc[\"Pclass\", \"Fare\"]"
   ]
  },
  {
   "cell_type": "code",
   "execution_count": 73,
   "metadata": {},
   "outputs": [
    {
     "data": {
      "text/plain": [
       "0.6962817243033682"
      ]
     },
     "execution_count": 73,
     "metadata": {},
     "output_type": "execute_result"
    }
   ],
   "source": [
    "corrmat.loc[\"Sex\", \"Title_Miss\"]"
   ]
  },
  {
   "cell_type": "code",
   "execution_count": 74,
   "metadata": {},
   "outputs": [
    {
     "data": {
      "text/plain": [
       "-0.15993449120927897"
      ]
     },
     "execution_count": 74,
     "metadata": {},
     "output_type": "execute_result"
    }
   ],
   "source": [
    "corrmat.loc[\"Sex\", \"Title_Master\"]"
   ]
  },
  {
   "cell_type": "code",
   "execution_count": 75,
   "metadata": {},
   "outputs": [
    {
     "data": {
      "text/plain": [
       "-0.615178321248465"
      ]
     },
     "execution_count": 75,
     "metadata": {},
     "output_type": "execute_result"
    }
   ],
   "source": [
    "corrmat.loc[\"Title_Mr\", \"Title_Miss\"]"
   ]
  },
  {
   "cell_type": "code",
   "execution_count": 76,
   "metadata": {},
   "outputs": [
    {
     "data": {
      "text/plain": [
       "0.6576902718829735"
      ]
     },
     "execution_count": 76,
     "metadata": {},
     "output_type": "execute_result"
    }
   ],
   "source": [
    "corrmat.loc[\"Name_Len\", \"Title_Mrs\"]"
   ]
  },
  {
   "cell_type": "code",
   "execution_count": 77,
   "metadata": {},
   "outputs": [
    {
     "data": {
      "text/plain": [
       "Name_Len  Title_Mrs\n",
       "12        0             2\n",
       "13        0             2\n",
       "14        0             3\n",
       "15        0            15\n",
       "16        0            25\n",
       "          1             1\n",
       "17        0            41\n",
       "          1             1\n",
       "18        0            49\n",
       "          1             1\n",
       "19        0            63\n",
       "          1             1\n",
       "20        0            39\n",
       "21        0            40\n",
       "22        0            37\n",
       "          1             1\n",
       "23        0            37\n",
       "          1             2\n",
       "24        0            42\n",
       "          1             1\n",
       "25        0            55\n",
       "26        0            48\n",
       "          1             1\n",
       "27        0            49\n",
       "          1             1\n",
       "28        0            41\n",
       "          1             2\n",
       "29        0            29\n",
       "          1             3\n",
       "30        0            35\n",
       "                       ..\n",
       "40        1             2\n",
       "41        1             7\n",
       "          0             1\n",
       "42        0             3\n",
       "          1             2\n",
       "43        1             5\n",
       "44        1             6\n",
       "          0             2\n",
       "45        1             7\n",
       "          0             2\n",
       "46        1             6\n",
       "          0             1\n",
       "47        1             9\n",
       "          0             2\n",
       "48        1             2\n",
       "          0             1\n",
       "49        1             4\n",
       "          0             1\n",
       "50        1             4\n",
       "51        1             7\n",
       "52        1             4\n",
       "53        1             2\n",
       "54        1             1\n",
       "55        1             2\n",
       "56        1             3\n",
       "57        1             2\n",
       "61        1             1\n",
       "65        1             1\n",
       "67        0             1\n",
       "82        1             1\n",
       "Name: Title_Mrs, Length: 79, dtype: int64"
      ]
     },
     "execution_count": 77,
     "metadata": {},
     "output_type": "execute_result"
    }
   ],
   "source": [
    "train_df.groupby(\"Name_Len\").Title_Mrs.value_counts()"
   ]
  },
  {
   "cell_type": "code",
   "execution_count": 78,
   "metadata": {},
   "outputs": [
    {
     "data": {
      "text/plain": [
       "Title_Mrs  Name_Len\n",
       "0          19          63\n",
       "           25          55\n",
       "           18          49\n",
       "           27          49\n",
       "           26          48\n",
       "           24          42\n",
       "           17          41\n",
       "           28          41\n",
       "           21          40\n",
       "           20          39\n",
       "           22          37\n",
       "           23          37\n",
       "           30          35\n",
       "           29          29\n",
       "           31          28\n",
       "           16          25\n",
       "           33          19\n",
       "           32          18\n",
       "           15          15\n",
       "           34           7\n",
       "           36           6\n",
       "           38           5\n",
       "           40           5\n",
       "           35           4\n",
       "           37           4\n",
       "           14           3\n",
       "           42           3\n",
       "           12           2\n",
       "           13           2\n",
       "           39           2\n",
       "                       ..\n",
       "1          49           4\n",
       "           50           4\n",
       "           52           4\n",
       "           29           3\n",
       "           33           3\n",
       "           36           3\n",
       "           56           3\n",
       "           23           2\n",
       "           28           2\n",
       "           30           2\n",
       "           31           2\n",
       "           35           2\n",
       "           40           2\n",
       "           42           2\n",
       "           48           2\n",
       "           53           2\n",
       "           55           2\n",
       "           57           2\n",
       "           16           1\n",
       "           17           1\n",
       "           18           1\n",
       "           19           1\n",
       "           22           1\n",
       "           24           1\n",
       "           26           1\n",
       "           27           1\n",
       "           54           1\n",
       "           61           1\n",
       "           65           1\n",
       "           82           1\n",
       "Name: Name_Len, Length: 79, dtype: int64"
      ]
     },
     "execution_count": 78,
     "metadata": {},
     "output_type": "execute_result"
    }
   ],
   "source": [
    "train_df.groupby(\"Title_Mrs\").Name_Len.value_counts()"
   ]
  },
  {
   "cell_type": "code",
   "execution_count": 79,
   "metadata": {},
   "outputs": [
    {
     "data": {
      "text/plain": [
       "<matplotlib.axes._subplots.AxesSubplot at 0x7f31f82e3fd0>"
      ]
     },
     "execution_count": 79,
     "metadata": {},
     "output_type": "execute_result"
    },
    {
     "data": {
      "image/png": "[encoded data removed]",
      "text/plain": [
       "<matplotlib.figure.Figure at 0x7f31f83360b8>"
      ]
     },
     "metadata": {},
     "output_type": "display_data"
    }
   ],
   "source": [
    "f, ax = plt.subplots(figsize=(15,15))\n",
    "sns.heatmap(corrmat, vmax=.8, square=True,)"
   ]
  },
  {
   "cell_type": "markdown",
   "metadata": {},
   "source": [
    "### select family related feature\n",
    "Parch, SibSp, FaimilySize, IsAlone\n",
    "\n",
    "2018/03/18 Parch and SibSp only was best for almost all models"
   ]
  },
  {
   "cell_type": "raw",
   "metadata": {},
   "source": [
    "# keep all"
   ]
  },
  {
   "cell_type": "raw",
   "metadata": {},
   "source": [
    "# keep Parch, SibSp only. this was best amoung familly related features\n",
    "\n",
    "train_df = train_df.drop(['FamilySize', 'IsAlone'], axis=1)\n",
    "test_df = test_df.drop(['FamilySize', 'IsAlone'], axis=1)\n",
    "combine = [train_df, test_df]"
   ]
  },
  {
   "cell_type": "code",
   "execution_count": 80,
   "metadata": {},
   "outputs": [],
   "source": [
    "# keep FamilySize only\n",
    "\n",
    "train_df = train_df.drop(['Parch', 'SibSp', 'IsAlone'], axis=1)\n",
    "test_df = test_df.drop(['Parch', 'SibSp', 'IsAlone'], axis=1)\n",
    "combine = [train_df, test_df]"
   ]
  },
  {
   "cell_type": "raw",
   "metadata": {},
   "source": [
    "# keep IsAlone only (drop Parch, SibSp, FaimilySize)\n",
    "\n",
    "train_df = train_df.drop(['Parch', 'SibSp', 'FamilySize'], axis=1)\n",
    "test_df = test_df.drop(['Parch', 'SibSp', 'FamilySize'], axis=1)\n",
    "combine = [train_df, test_df]"
   ]
  },
  {
   "cell_type": "markdown",
   "metadata": {},
   "source": [
    "- Age*Class is duplicated. Age and Pclass is enough, i think"
   ]
  },
  {
   "cell_type": "raw",
   "metadata": {},
   "source": [
    "train_df = train_df.drop(['Age*Class'], axis=1)\n",
    "test_df = test_df.drop(['Age*Class'], axis=1)\n",
    "combine = [train_df, test_df]"
   ]
  },
  {
   "cell_type": "markdown",
   "metadata": {},
   "source": [
    "- Name_Len looks no meaning"
   ]
  },
  {
   "cell_type": "code",
   "execution_count": 81,
   "metadata": {},
   "outputs": [],
   "source": [
    "train_df = train_df.drop(['Name_Len'], axis=1)\n",
    "test_df = test_df.drop(['Name_Len'], axis=1)\n",
    "combine = [train_df, test_df]"
   ]
  },
  {
   "cell_type": "markdown",
   "metadata": {},
   "source": [
    "- Ticket_Len looks no meaning"
   ]
  },
  {
   "cell_type": "code",
   "execution_count": 82,
   "metadata": {},
   "outputs": [],
   "source": [
    "train_df = train_df.drop(['Ticket_Len'], axis=1)\n",
    "test_df = test_df.drop(['Ticket_Len'], axis=1)\n",
    "combine = [train_df, test_df]"
   ]
  },
  {
   "cell_type": "markdown",
   "metadata": {},
   "source": [
    "- Cabin_Num looks no meaning. Cabin null feature is included in Cabinb_Letter value."
   ]
  },
  {
   "cell_type": "code",
   "execution_count": 83,
   "metadata": {},
   "outputs": [],
   "source": [
    "train_df = train_df.drop(['Cabin_num_0.0', 'Cabin_num_1.0',\n",
    "                          'Cabin_num_2.0', 'Cabin_num_nan'], axis=1)\n",
    "test_df = test_df.drop(['Cabin_num_0.0', 'Cabin_num_1.0',\n",
    "                        'Cabin_num_2.0', 'Cabin_num_nan'], axis=1)\n",
    "\n",
    "combine = [train_df, test_df]"
   ]
  },
  {
   "cell_type": "markdown",
   "metadata": {},
   "source": [
    "- Cabin_Letter looks not so effective"
   ]
  },
  {
   "cell_type": "code",
   "execution_count": 84,
   "metadata": {},
   "outputs": [],
   "source": [
    "train_df = train_df.drop(['Cabin_Letter_0', 'Cabin_Letter_A', 'Cabin_Letter_B',\n",
    "                          'Cabin_Letter_C', 'Cabin_Letter_D', 'Cabin_Letter_E',\n",
    "                          'Cabin_Letter_F', 'Cabin_Letter_G', 'Cabin_Letter_T'],\n",
    "                         axis=1)\n",
    "test_df = test_df.drop(['Cabin_Letter_0', 'Cabin_Letter_A', 'Cabin_Letter_B',\n",
    "                          'Cabin_Letter_C', 'Cabin_Letter_D', 'Cabin_Letter_E',\n",
    "                          'Cabin_Letter_F', 'Cabin_Letter_G', 'Cabin_Letter_T'],\n",
    "                         axis=1)\n",
    "\n",
    "combine = [train_df, test_df]"
   ]
  },
  {
   "cell_type": "markdown",
   "metadata": {},
   "source": [
    "- Title looks not so effective"
   ]
  },
  {
   "cell_type": "code",
   "execution_count": 85,
   "metadata": {},
   "outputs": [],
   "source": [
    "train_df = train_df.drop(['Title_Dr', 'Title_Master', 'Title_Miss', \n",
    "                         'Title_Mr', 'Title_Mrs', 'Title_Rev'],\n",
    "                         axis=1)\n",
    "test_df = test_df.drop(['Title_Dr', 'Title_Master', 'Title_Miss', \n",
    "                         'Title_Mr', 'Title_Mrs', 'Title_Rev'],\n",
    "                         axis=1)\n",
    "combine = [train_df, test_df]"
   ]
  },
  {
   "cell_type": "markdown",
   "metadata": {},
   "source": [
    "**reduce so many features except very important features**"
   ]
  },
  {
   "cell_type": "code",
   "execution_count": 86,
   "metadata": {},
   "outputs": [],
   "source": [
    "train_df = train_df.drop(['Embarked_C', 'Embarked_Q',\n",
    "                          'Embarked_S'], axis=1)\n",
    "test_df = test_df.drop(['Embarked_C', 'Embarked_Q',\n",
    "                          'Embarked_S'], axis=1)\n",
    "\n",
    "\n",
    "train_df = train_df.drop(['Age_Null_Flag'], axis=1)\n",
    "test_df = test_df.drop(['Age_Null_Flag'], axis=1)\n",
    "\n",
    "combine = [train_df, test_df]"
   ]
  },
  {
   "cell_type": "code",
   "execution_count": 87,
   "metadata": {},
   "outputs": [
    {
     "name": "stdout",
     "output_type": "stream",
     "text": [
      "(891, 8) (418, 8)\n",
      "Index(['Age', 'Age*Class', 'FamilySize', 'Family_Survival', 'Fare', 'Pclass',\n",
      "       'Sex', 'Survived'],\n",
      "      dtype='object') Index(['Age', 'Age*Class', 'FamilySize', 'Family_Survival', 'Fare',\n",
      "       'PassengerId', 'Pclass', 'Sex'],\n",
      "      dtype='object')\n"
     ]
    }
   ],
   "source": [
    "print(train_df.shape, test_df.shape)\n",
    "print(train_df.columns, test_df.columns)"
   ]
  },
  {
   "cell_type": "code",
   "execution_count": 88,
   "metadata": {},
   "outputs": [
    {
     "data": {
      "text/html": [
       "<div>\n",
       "<style scoped>\n",
       "    .dataframe tbody tr th:only-of-type {\n",
       "        vertical-align: middle;\n",
       "    }\n",
       "\n",
       "    .dataframe tbody tr th {\n",
       "        vertical-align: top;\n",
       "    }\n",
       "\n",
       "    .dataframe thead th {\n",
       "        text-align: right;\n",
       "    }\n",
       "</style>\n",
       "<table border=\"1\" class=\"dataframe\">\n",
       "  <thead>\n",
       "    <tr style=\"text-align: right;\">\n",
       "      <th></th>\n",
       "      <th>Age</th>\n",
       "      <th>Age*Class</th>\n",
       "      <th>FamilySize</th>\n",
       "      <th>Family_Survival</th>\n",
       "      <th>Fare</th>\n",
       "      <th>Pclass</th>\n",
       "      <th>Sex</th>\n",
       "      <th>Survived</th>\n",
       "    </tr>\n",
       "  </thead>\n",
       "  <tbody>\n",
       "    <tr>\n",
       "      <th>0</th>\n",
       "      <td>1.0</td>\n",
       "      <td>3.0</td>\n",
       "      <td>2</td>\n",
       "      <td>0.5</td>\n",
       "      <td>0</td>\n",
       "      <td>3</td>\n",
       "      <td>0</td>\n",
       "      <td>0.0</td>\n",
       "    </tr>\n",
       "    <tr>\n",
       "      <th>1</th>\n",
       "      <td>2.0</td>\n",
       "      <td>2.0</td>\n",
       "      <td>2</td>\n",
       "      <td>0.5</td>\n",
       "      <td>3</td>\n",
       "      <td>1</td>\n",
       "      <td>1</td>\n",
       "      <td>1.0</td>\n",
       "    </tr>\n",
       "    <tr>\n",
       "      <th>2</th>\n",
       "      <td>1.0</td>\n",
       "      <td>3.0</td>\n",
       "      <td>1</td>\n",
       "      <td>0.5</td>\n",
       "      <td>1</td>\n",
       "      <td>3</td>\n",
       "      <td>1</td>\n",
       "      <td>1.0</td>\n",
       "    </tr>\n",
       "    <tr>\n",
       "      <th>3</th>\n",
       "      <td>2.0</td>\n",
       "      <td>2.0</td>\n",
       "      <td>2</td>\n",
       "      <td>0.0</td>\n",
       "      <td>3</td>\n",
       "      <td>1</td>\n",
       "      <td>1</td>\n",
       "      <td>1.0</td>\n",
       "    </tr>\n",
       "    <tr>\n",
       "      <th>4</th>\n",
       "      <td>2.0</td>\n",
       "      <td>6.0</td>\n",
       "      <td>1</td>\n",
       "      <td>0.5</td>\n",
       "      <td>1</td>\n",
       "      <td>3</td>\n",
       "      <td>0</td>\n",
       "      <td>0.0</td>\n",
       "    </tr>\n",
       "  </tbody>\n",
       "</table>\n",
       "</div>"
      ],
      "text/plain": [
       "   Age  Age*Class  FamilySize  Family_Survival  Fare  Pclass  Sex  Survived\n",
       "0  1.0        3.0           2              0.5     0       3    0       0.0\n",
       "1  2.0        2.0           2              0.5     3       1    1       1.0\n",
       "2  1.0        3.0           1              0.5     1       3    1       1.0\n",
       "3  2.0        2.0           2              0.0     3       1    1       1.0\n",
       "4  2.0        6.0           1              0.5     1       3    0       0.0"
      ]
     },
     "execution_count": 88,
     "metadata": {},
     "output_type": "execute_result"
    }
   ],
   "source": [
    "train_df.head()"
   ]
  },
  {
   "cell_type": "code",
   "execution_count": 89,
   "metadata": {},
   "outputs": [
    {
     "data": {
      "text/html": [
       "<div>\n",
       "<style scoped>\n",
       "    .dataframe tbody tr th:only-of-type {\n",
       "        vertical-align: middle;\n",
       "    }\n",
       "\n",
       "    .dataframe tbody tr th {\n",
       "        vertical-align: top;\n",
       "    }\n",
       "\n",
       "    .dataframe thead th {\n",
       "        text-align: right;\n",
       "    }\n",
       "</style>\n",
       "<table border=\"1\" class=\"dataframe\">\n",
       "  <thead>\n",
       "    <tr style=\"text-align: right;\">\n",
       "      <th></th>\n",
       "      <th>Age</th>\n",
       "      <th>Age*Class</th>\n",
       "      <th>FamilySize</th>\n",
       "      <th>Family_Survival</th>\n",
       "      <th>Fare</th>\n",
       "      <th>PassengerId</th>\n",
       "      <th>Pclass</th>\n",
       "      <th>Sex</th>\n",
       "    </tr>\n",
       "  </thead>\n",
       "  <tbody>\n",
       "    <tr>\n",
       "      <th>0</th>\n",
       "      <td>2.0</td>\n",
       "      <td>6.0</td>\n",
       "      <td>1</td>\n",
       "      <td>0.5</td>\n",
       "      <td>0</td>\n",
       "      <td>892</td>\n",
       "      <td>3</td>\n",
       "      <td>0</td>\n",
       "    </tr>\n",
       "    <tr>\n",
       "      <th>1</th>\n",
       "      <td>2.0</td>\n",
       "      <td>6.0</td>\n",
       "      <td>2</td>\n",
       "      <td>0.5</td>\n",
       "      <td>0</td>\n",
       "      <td>893</td>\n",
       "      <td>3</td>\n",
       "      <td>1</td>\n",
       "    </tr>\n",
       "    <tr>\n",
       "      <th>2</th>\n",
       "      <td>3.0</td>\n",
       "      <td>6.0</td>\n",
       "      <td>1</td>\n",
       "      <td>0.5</td>\n",
       "      <td>1</td>\n",
       "      <td>894</td>\n",
       "      <td>2</td>\n",
       "      <td>0</td>\n",
       "    </tr>\n",
       "    <tr>\n",
       "      <th>3</th>\n",
       "      <td>1.0</td>\n",
       "      <td>3.0</td>\n",
       "      <td>1</td>\n",
       "      <td>0.5</td>\n",
       "      <td>1</td>\n",
       "      <td>895</td>\n",
       "      <td>3</td>\n",
       "      <td>0</td>\n",
       "    </tr>\n",
       "    <tr>\n",
       "      <th>4</th>\n",
       "      <td>1.0</td>\n",
       "      <td>3.0</td>\n",
       "      <td>3</td>\n",
       "      <td>1.0</td>\n",
       "      <td>1</td>\n",
       "      <td>896</td>\n",
       "      <td>3</td>\n",
       "      <td>1</td>\n",
       "    </tr>\n",
       "  </tbody>\n",
       "</table>\n",
       "</div>"
      ],
      "text/plain": [
       "   Age  Age*Class  FamilySize  Family_Survival  Fare  PassengerId  Pclass  Sex\n",
       "0  2.0        6.0           1              0.5     0          892       3    0\n",
       "1  2.0        6.0           2              0.5     0          893       3    1\n",
       "2  3.0        6.0           1              0.5     1          894       2    0\n",
       "3  1.0        3.0           1              0.5     1          895       3    0\n",
       "4  1.0        3.0           3              1.0     1          896       3    1"
      ]
     },
     "execution_count": 89,
     "metadata": {},
     "output_type": "execute_result"
    }
   ],
   "source": [
    "test_df.head()"
   ]
  },
  {
   "cell_type": "code",
   "execution_count": 90,
   "metadata": {},
   "outputs": [
    {
     "data": {
      "text/html": [
       "<div>\n",
       "<style scoped>\n",
       "    .dataframe tbody tr th:only-of-type {\n",
       "        vertical-align: middle;\n",
       "    }\n",
       "\n",
       "    .dataframe tbody tr th {\n",
       "        vertical-align: top;\n",
       "    }\n",
       "\n",
       "    .dataframe thead th {\n",
       "        text-align: right;\n",
       "    }\n",
       "</style>\n",
       "<table border=\"1\" class=\"dataframe\">\n",
       "  <thead>\n",
       "    <tr style=\"text-align: right;\">\n",
       "      <th></th>\n",
       "      <th>Age</th>\n",
       "      <th>Age*Class</th>\n",
       "      <th>FamilySize</th>\n",
       "      <th>Family_Survival</th>\n",
       "      <th>Fare</th>\n",
       "      <th>Pclass</th>\n",
       "      <th>Sex</th>\n",
       "      <th>Survived</th>\n",
       "    </tr>\n",
       "  </thead>\n",
       "  <tbody>\n",
       "    <tr>\n",
       "      <th>Age</th>\n",
       "      <td>1.000000</td>\n",
       "      <td>0.684130</td>\n",
       "      <td>-0.247971</td>\n",
       "      <td>0.079777</td>\n",
       "      <td>0.110882</td>\n",
       "      <td>-0.412104</td>\n",
       "      <td>-0.063598</td>\n",
       "      <td>-0.035985</td>\n",
       "    </tr>\n",
       "    <tr>\n",
       "      <th>Age*Class</th>\n",
       "      <td>0.684130</td>\n",
       "      <td>1.000000</td>\n",
       "      <td>-0.244061</td>\n",
       "      <td>-0.127638</td>\n",
       "      <td>-0.361193</td>\n",
       "      <td>0.290595</td>\n",
       "      <td>-0.140073</td>\n",
       "      <td>-0.260449</td>\n",
       "    </tr>\n",
       "    <tr>\n",
       "      <th>FamilySize</th>\n",
       "      <td>-0.247971</td>\n",
       "      <td>-0.244061</td>\n",
       "      <td>1.000000</td>\n",
       "      <td>-0.133986</td>\n",
       "      <td>0.465815</td>\n",
       "      <td>0.065997</td>\n",
       "      <td>0.200988</td>\n",
       "      <td>0.016639</td>\n",
       "    </tr>\n",
       "    <tr>\n",
       "      <th>Family_Survival</th>\n",
       "      <td>0.079777</td>\n",
       "      <td>-0.127638</td>\n",
       "      <td>-0.133986</td>\n",
       "      <td>1.000000</td>\n",
       "      <td>0.188162</td>\n",
       "      <td>-0.325234</td>\n",
       "      <td>0.071347</td>\n",
       "      <td>0.365530</td>\n",
       "    </tr>\n",
       "    <tr>\n",
       "      <th>Fare</th>\n",
       "      <td>0.110882</td>\n",
       "      <td>-0.361193</td>\n",
       "      <td>0.465815</td>\n",
       "      <td>0.188162</td>\n",
       "      <td>1.000000</td>\n",
       "      <td>-0.628459</td>\n",
       "      <td>0.248940</td>\n",
       "      <td>0.295875</td>\n",
       "    </tr>\n",
       "    <tr>\n",
       "      <th>Pclass</th>\n",
       "      <td>-0.412104</td>\n",
       "      <td>0.290595</td>\n",
       "      <td>0.065997</td>\n",
       "      <td>-0.325234</td>\n",
       "      <td>-0.628459</td>\n",
       "      <td>1.000000</td>\n",
       "      <td>-0.131900</td>\n",
       "      <td>-0.338481</td>\n",
       "    </tr>\n",
       "    <tr>\n",
       "      <th>Sex</th>\n",
       "      <td>-0.063598</td>\n",
       "      <td>-0.140073</td>\n",
       "      <td>0.200988</td>\n",
       "      <td>0.071347</td>\n",
       "      <td>0.248940</td>\n",
       "      <td>-0.131900</td>\n",
       "      <td>1.000000</td>\n",
       "      <td>0.543351</td>\n",
       "    </tr>\n",
       "    <tr>\n",
       "      <th>Survived</th>\n",
       "      <td>-0.035985</td>\n",
       "      <td>-0.260449</td>\n",
       "      <td>0.016639</td>\n",
       "      <td>0.365530</td>\n",
       "      <td>0.295875</td>\n",
       "      <td>-0.338481</td>\n",
       "      <td>0.543351</td>\n",
       "      <td>1.000000</td>\n",
       "    </tr>\n",
       "  </tbody>\n",
       "</table>\n",
       "</div>"
      ],
      "text/plain": [
       "                      Age  Age*Class  FamilySize  Family_Survival      Fare  \\\n",
       "Age              1.000000   0.684130   -0.247971         0.079777  0.110882   \n",
       "Age*Class        0.684130   1.000000   -0.244061        -0.127638 -0.361193   \n",
       "FamilySize      -0.247971  -0.244061    1.000000        -0.133986  0.465815   \n",
       "Family_Survival  0.079777  -0.127638   -0.133986         1.000000  0.188162   \n",
       "Fare             0.110882  -0.361193    0.465815         0.188162  1.000000   \n",
       "Pclass          -0.412104   0.290595    0.065997        -0.325234 -0.628459   \n",
       "Sex             -0.063598  -0.140073    0.200988         0.071347  0.248940   \n",
       "Survived        -0.035985  -0.260449    0.016639         0.365530  0.295875   \n",
       "\n",
       "                   Pclass       Sex  Survived  \n",
       "Age             -0.412104 -0.063598 -0.035985  \n",
       "Age*Class        0.290595 -0.140073 -0.260449  \n",
       "FamilySize       0.065997  0.200988  0.016639  \n",
       "Family_Survival -0.325234  0.071347  0.365530  \n",
       "Fare            -0.628459  0.248940  0.295875  \n",
       "Pclass           1.000000 -0.131900 -0.338481  \n",
       "Sex             -0.131900  1.000000  0.543351  \n",
       "Survived        -0.338481  0.543351  1.000000  "
      ]
     },
     "execution_count": 90,
     "metadata": {},
     "output_type": "execute_result"
    }
   ],
   "source": [
    "corrmat = train_df.corr()\n",
    "corrmat"
   ]
  },
  {
   "cell_type": "code",
   "execution_count": 91,
   "metadata": {},
   "outputs": [
    {
     "data": {
      "text/plain": [
       "<matplotlib.axes._subplots.AxesSubplot at 0x7f31f81d0da0>"
      ]
     },
     "execution_count": 91,
     "metadata": {},
     "output_type": "execute_result"
    },
    {
     "data": {
      "image/png": "[encoded data removed]",
      "text/plain": [
       "<matplotlib.figure.Figure at 0x7f31f8229be0>"
      ]
     },
     "metadata": {},
     "output_type": "display_data"
    }
   ],
   "source": [
    "f, ax = plt.subplots(figsize=(12,9))\n",
    "sns.heatmap(corrmat, vmax=.8, square=True, annot=True)"
   ]
  },
  {
   "cell_type": "code",
   "execution_count": null,
   "metadata": {},
   "outputs": [],
   "source": []
  },
  {
   "cell_type": "markdown",
   "metadata": {},
   "source": [
    "----"
   ]
  },
  {
   "cell_type": "markdown",
   "metadata": {},
   "source": [
    "# model and estimate"
   ]
  },
  {
   "cell_type": "code",
   "execution_count": 92,
   "metadata": {},
   "outputs": [],
   "source": [
    "X_train_df = train_df.drop(\"Survived\", axis=1)\n",
    "y_train_df = train_df[\"Survived\"]"
   ]
  },
  {
   "cell_type": "code",
   "execution_count": 93,
   "metadata": {},
   "outputs": [
    {
     "name": "stdout",
     "output_type": "stream",
     "text": [
      "train/test data shape (596, 7) (295, 7)\n"
     ]
    }
   ],
   "source": [
    "X_train, X_test, y_train, y_test = train_test_split(X_train_df, y_train_df, test_size=0.33, random_state=42)\n",
    "print(\"train/test data shape\", X_train.shape, X_test.shape)\n",
    "# 33, "
   ]
  },
  {
   "cell_type": "markdown",
   "metadata": {},
   "source": [
    "----"
   ]
  },
  {
   "cell_type": "markdown",
   "metadata": {},
   "source": [
    "## SVC"
   ]
  },
  {
   "cell_type": "code",
   "execution_count": 125,
   "metadata": {},
   "outputs": [
    {
     "name": "stdout",
     "output_type": "stream",
     "text": [
      "Fitting 5 folds for each of 240 candidates, totalling 1200 fits\n"
     ]
    },
    {
     "name": "stderr",
     "output_type": "stream",
     "text": [
      "[Parallel(n_jobs=3)]: Done 614 tasks      | elapsed:    2.8s\n",
      "[Parallel(n_jobs=3)]: Done 1200 out of 1200 | elapsed:    5.8s finished\n"
     ]
    },
    {
     "name": "stdout",
     "output_type": "stream",
     "text": [
      "best parameters: {'svc__C': 500, 'svc__gamma': 0.008}\n",
      "Mean cross-validated score of the best_estimator:  0.8338926174496645\n",
      "test:  0.8542372881355932\n",
      "confusion matrix:  [[164  11]\n",
      " [ 32  88]]\n",
      "\n",
      "Rank|Score(std)|Params ['svc__C', 'svc__gamma']\n",
      "1|0.833893(std:0.038351)|[500, 0.008]\n",
      "2|0.832215(std:0.040640)|[1000, 0.005]\n",
      "3|0.830537(std:0.039462)|[500, 0.01]\n",
      "3|0.830537(std:0.040520)|[1000, 0.008]\n",
      "5|0.827181(std:0.047538)|[500, 0.005]\n",
      "6|0.825503(std:0.040923)|[30, 0.04]\n",
      "6|0.825503(std:0.044298)|[90, 0.04]\n",
      "6|0.825503(std:0.047240)|[100, 0.01]\n",
      "9|0.823826(std:0.036672)|[10, 0.05]\n",
      "9|0.823826(std:0.033847)|[50, 0.03]\n",
      "9|0.823826(std:0.045441)|[50, 0.05]\n",
      "9|0.823826(std:0.049399)|[90, 0.01]\n",
      "9|0.823826(std:0.045989)|[100, 0.04]\n"
     ]
    },
    {
     "data": {
      "image/png": "[encoded data removed]",
      "text/plain": [
       "<matplotlib.figure.Figure at 0x7f7b07371fd0>"
      ]
     },
     "metadata": {},
     "output_type": "display_data"
    }
   ],
   "source": [
    "param_grid = {'svc__C': [0.000001, 0.00001, 0.0001, 0.001, 0.01, 0.1, 1, 10, 30, 50, 70, 80, 90, 100, 500, 1000],\n",
    "              'svc__gamma': [0.001, 0.005, 0.008, 0.01, 0.03, 0.04, 0.05, 0.1, 1, 10, 100, 1000, 10000, 100000, 1000000]}\n",
    "\n",
    "pipe = make_pipeline(SVC())\n",
    "\n",
    "grid_search = GridSearchCV(pipe, param_grid, cv=5, n_jobs=3, verbose=1)\n",
    "\n",
    "# no meaning to use cross_val for grid_search model because it is incluced in grid search\n",
    "#scores = cross_val_score(grid_search, X_train, y_train, cv=5, n_jobs=6)\n",
    "#print(\"mean of train scores\", scores.mean())\n",
    "\n",
    "grid_search.fit(X_train, y_train)\n",
    "\n",
    "plt.matshow(grid_search.cv_results_['mean_test_score'].reshape(16, -1),\n",
    "            vmin=0, cmap=\"viridis\")\n",
    "plt.xlabel(\"C\")\n",
    "plt.ylabel(\"gamma\")\n",
    "plt.xticks(range(len(param_grid['svc__C'])), param_grid['svc__C'])\n",
    "plt.yticks(range(len(param_grid['svc__gamma'])), param_grid['svc__C'])\n",
    "plt.colorbar()\n",
    "\n",
    "print(\"best parameters:\", grid_search.best_params_)\n",
    "print(\"Mean cross-validated score of the best_estimator: \", grid_search.best_score_)\n",
    "print(\"test: \", grid_search.score(X_test, y_test))\n",
    "print(\"confusion matrix: \", confusion_matrix(y_test, grid_search.best_estimator_.predict(X_test)))\n",
    "print(\"\")\n",
    "report2(grid_search.cv_results_, n_top=10)"
   ]
  },
  {
   "cell_type": "raw",
   "metadata": {},
   "source": [
    "grid_search.best_estimator_.support_vectors_"
   ]
  },
  {
   "cell_type": "raw",
   "metadata": {},
   "source": [
    "grid_search.best_estimator_.dual_coef_"
   ]
  },
  {
   "cell_type": "markdown",
   "metadata": {},
   "source": [
    "### svc, minmax scaler"
   ]
  },
  {
   "cell_type": "code",
   "execution_count": 126,
   "metadata": {},
   "outputs": [
    {
     "name": "stdout",
     "output_type": "stream",
     "text": [
      "Fitting 5 folds for each of 240 candidates, totalling 1200 fits\n"
     ]
    },
    {
     "name": "stderr",
     "output_type": "stream",
     "text": [
      "[Parallel(n_jobs=3)]: Done 614 tasks      | elapsed:    2.6s\n",
      "[Parallel(n_jobs=3)]: Done 1200 out of 1200 | elapsed:    5.0s finished\n"
     ]
    },
    {
     "name": "stdout",
     "output_type": "stream",
     "text": [
      "best parameters: {'svc__C': 1000, 'svc__gamma': 0.03}\n",
      "Mean cross-validated score of the best_estimator:  0.8338926174496645\n",
      "test:  0.864406779661017\n",
      "confusion matrix:  [[167   8]\n",
      " [ 32  88]]\n",
      "\n",
      "Rank|Score(std)|Params ['svc__C', 'svc__gamma']\n",
      "1|0.833893(std:0.044706)|[1000, 0.03]\n",
      "2|0.830537(std:0.042098)|[1000, 0.04]\n",
      "3|0.828859(std:0.028114)|[80, 1]\n",
      "3|0.828859(std:0.036739)|[500, 0.04]\n",
      "3|0.828859(std:0.036739)|[500, 0.05]\n",
      "6|0.827181(std:0.039988)|[10, 0.1]\n",
      "6|0.827181(std:0.039988)|[50, 0.04]\n",
      "6|0.827181(std:0.039988)|[50, 0.05]\n",
      "6|0.827181(std:0.039988)|[70, 0.04]\n",
      "6|0.827181(std:0.028045)|[70, 1]\n",
      "6|0.827181(std:0.039988)|[90, 0.03]\n",
      "6|0.827181(std:0.036038)|[90, 0.1]\n",
      "6|0.827181(std:0.025574)|[90, 1]\n",
      "6|0.827181(std:0.039988)|[100, 0.03]\n",
      "6|0.827181(std:0.036038)|[100, 0.1]\n",
      "6|0.827181(std:0.039988)|[1000, 0.01]\n"
     ]
    },
    {
     "data": {
      "image/png": "[encoded data removed]",
      "text/plain": [
       "<matplotlib.figure.Figure at 0x7f7b0749d240>"
      ]
     },
     "metadata": {},
     "output_type": "display_data"
    }
   ],
   "source": [
    "param_grid = {'svc__C': [0.000001, 0.00001, 0.0001, 0.001, 0.01, 0.1, 1, 10, 30, 50, 70, 80, 90, 100, 500, 1000],\n",
    "              'svc__gamma': [0.001, 0.005, 0.008, 0.01, 0.03, 0.04, 0.05, 0.1, 1, 10, 100, 1000, 10000, 100000, 1000000]}\n",
    "\n",
    "pipe = make_pipeline(MinMaxScaler(), SVC())\n",
    "\n",
    "grid_search = GridSearchCV(pipe, param_grid, cv=5, n_jobs=3, verbose=1)\n",
    "\n",
    "# no meaning to use cross_val for grid_search model because it is incluced in grid search\n",
    "#scores = cross_val_score(grid_search, X_train, y_train, cv=5, n_jobs=6)\n",
    "#print(\"mean of train scores\", scores.mean())\n",
    "\n",
    "grid_search.fit(X_train, y_train)\n",
    "\n",
    "plt.matshow(grid_search.cv_results_['mean_test_score'].reshape(16, -1),\n",
    "            vmin=0, cmap=\"viridis\")\n",
    "plt.xlabel(\"C\")\n",
    "plt.ylabel(\"gamma\")\n",
    "plt.xticks(range(len(param_grid['svc__C'])), param_grid['svc__C'])\n",
    "plt.yticks(range(len(param_grid['svc__gamma'])), param_grid['svc__C'])\n",
    "plt.colorbar()\n",
    "\n",
    "print(\"best parameters:\", grid_search.best_params_)\n",
    "print(\"Mean cross-validated score of the best_estimator: \", grid_search.best_score_)\n",
    "print(\"test: \", grid_search.score(X_test, y_test))\n",
    "print(\"confusion matrix: \", confusion_matrix(y_test, grid_search.best_estimator_.predict(X_test)))\n",
    "print(\"\")\n",
    "report2(grid_search.cv_results_, n_top=10)"
   ]
  },
  {
   "cell_type": "markdown",
   "metadata": {},
   "source": [
    "### svc, robust scaler"
   ]
  },
  {
   "cell_type": "code",
   "execution_count": 127,
   "metadata": {},
   "outputs": [
    {
     "name": "stdout",
     "output_type": "stream",
     "text": [
      "Fitting 5 folds for each of 240 candidates, totalling 1200 fits\n"
     ]
    },
    {
     "name": "stderr",
     "output_type": "stream",
     "text": [
      "[Parallel(n_jobs=3)]: Done 810 tasks      | elapsed:    4.1s\n",
      "[Parallel(n_jobs=3)]: Done 1200 out of 1200 | elapsed:    6.5s finished\n"
     ]
    },
    {
     "name": "stdout",
     "output_type": "stream",
     "text": [
      "best parameters: {'svc__C': 500, 'svc__gamma': 0.008}\n",
      "Mean cross-validated score of the best_estimator:  0.8322147651006712\n",
      "test:  0.8610169491525423\n",
      "confusion matrix:  [[164  11]\n",
      " [ 30  90]]\n",
      "\n",
      "Rank|Score(std)|Params ['svc__C', 'svc__gamma']\n",
      "1|0.832215(std:0.035498)|[500, 0.008]\n",
      "1|0.832215(std:0.040640)|[1000, 0.005]\n",
      "1|0.832215(std:0.040640)|[1000, 0.008]\n",
      "4|0.830537(std:0.040790)|[500, 0.01]\n",
      "5|0.827181(std:0.042295)|[10, 0.05]\n",
      "5|0.827181(std:0.033350)|[50, 0.03]\n",
      "7|0.825503(std:0.041586)|[70, 0.04]\n",
      "7|0.825503(std:0.044298)|[80, 0.04]\n",
      "7|0.825503(std:0.044298)|[90, 0.04]\n",
      "7|0.825503(std:0.047240)|[500, 0.005]\n"
     ]
    },
    {
     "data": {
      "image/png": "[encoded data removed]",
      "text/plain": [
       "<matplotlib.figure.Figure at 0x7f7b073f4438>"
      ]
     },
     "metadata": {},
     "output_type": "display_data"
    }
   ],
   "source": [
    "param_grid = {'svc__C': [0.000001, 0.00001, 0.0001, 0.001, 0.01, 0.1, 1, 10, 30, 50, 70, 80, 90, 100, 500, 1000],\n",
    "              'svc__gamma': [0.001, 0.005, 0.008, 0.01, 0.03, 0.04, 0.05, 0.1, 1, 10, 100, 1000, 10000, 100000, 1000000]}\n",
    "\n",
    "pipe = make_pipeline(RobustScaler(), SVC())\n",
    "\n",
    "grid_search = GridSearchCV(pipe, param_grid, cv=5, n_jobs=3, verbose=1)\n",
    "\n",
    "# no meaning to use cross_val for grid_search model because it is incluced in grid search\n",
    "#scores = cross_val_score(grid_search, X_train, y_train, cv=5, n_jobs=6)\n",
    "#print(\"mean of train scores\", scores.mean())\n",
    "\n",
    "grid_search.fit(X_train, y_train)\n",
    "\n",
    "plt.matshow(grid_search.cv_results_['mean_test_score'].reshape(16, -1),\n",
    "            vmin=0, cmap=\"viridis\")\n",
    "plt.xlabel(\"C\")\n",
    "plt.ylabel(\"gamma\")\n",
    "plt.xticks(range(len(param_grid['svc__C'])), param_grid['svc__C'])\n",
    "plt.yticks(range(len(param_grid['svc__gamma'])), param_grid['svc__C'])\n",
    "plt.colorbar()\n",
    "\n",
    "print(\"best parameters:\", grid_search.best_params_)\n",
    "print(\"Mean cross-validated score of the best_estimator: \", grid_search.best_score_)\n",
    "print(\"test: \", grid_search.score(X_test, y_test))\n",
    "print(\"confusion matrix: \", confusion_matrix(y_test, grid_search.best_estimator_.predict(X_test)))\n",
    "print(\"\")\n",
    "report2(grid_search.cv_results_, n_top=10)"
   ]
  },
  {
   "cell_type": "markdown",
   "metadata": {},
   "source": [
    "### svc, StandardScaler scaler"
   ]
  },
  {
   "cell_type": "code",
   "execution_count": 128,
   "metadata": {},
   "outputs": [
    {
     "name": "stdout",
     "output_type": "stream",
     "text": [
      "Fitting 5 folds for each of 240 candidates, totalling 1200 fits\n"
     ]
    },
    {
     "name": "stderr",
     "output_type": "stream",
     "text": [
      "[Parallel(n_jobs=3)]: Done 614 tasks      | elapsed:    2.8s\n",
      "[Parallel(n_jobs=3)]: Done 1200 out of 1200 | elapsed:    5.7s finished\n"
     ]
    },
    {
     "name": "stdout",
     "output_type": "stream",
     "text": [
      "best parameters: {'svc__C': 10, 'svc__gamma': 0.03}\n",
      "Mean cross-validated score of the best_estimator:  0.8305369127516778\n",
      "test:  0.8745762711864407\n",
      "confusion matrix:  [[167   8]\n",
      " [ 29  91]]\n",
      "\n",
      "Rank|Score(std)|Params ['svc__C', 'svc__gamma']\n",
      "1|0.830537(std:0.036516)|[10, 0.03]\n",
      "1|0.830537(std:0.036452)|[30, 0.01]\n",
      "1|0.830537(std:0.036452)|[50, 0.008]\n",
      "1|0.830537(std:0.042918)|[50, 0.01]\n",
      "1|0.830537(std:0.043588)|[50, 0.04]\n",
      "1|0.830537(std:0.042918)|[70, 0.008]\n",
      "1|0.830537(std:0.042918)|[80, 0.008]\n",
      "8|0.828859(std:0.033687)|[1, 0.05]\n",
      "8|0.828859(std:0.036948)|[70, 0.04]\n",
      "8|0.828859(std:0.042721)|[90, 0.008]\n",
      "8|0.828859(std:0.039247)|[90, 0.01]\n",
      "8|0.828859(std:0.036543)|[100, 0.005]\n",
      "8|0.828859(std:0.039247)|[1000, 0.005]\n"
     ]
    },
    {
     "data": {
      "image/png": "[encoded data removed]",
      "text/plain": [
       "<matplotlib.figure.Figure at 0x7f7b073e46d8>"
      ]
     },
     "metadata": {},
     "output_type": "display_data"
    }
   ],
   "source": [
    "param_grid = {'svc__C': [0.000001, 0.00001, 0.0001, 0.001, 0.01, 0.1, 1, 10, 30, 50, 70, 80, 90, 100, 500, 1000],\n",
    "              'svc__gamma': [0.001, 0.005, 0.008, 0.01, 0.03, 0.04, 0.05, 0.1, 1, 10, 100, 1000, 10000, 100000, 1000000]}\n",
    "\n",
    "pipe = make_pipeline(StandardScaler(), SVC())\n",
    "\n",
    "grid_search = GridSearchCV(pipe, param_grid, cv=5, n_jobs=3, verbose=1)\n",
    "\n",
    "# no meaning to use cross_val for grid_search model because it is incluced in grid search\n",
    "#scores = cross_val_score(grid_search, X_train, y_train, cv=5, n_jobs=6)\n",
    "#print(\"mean of train scores\", scores.mean())\n",
    "\n",
    "grid_search.fit(X_train, y_train)\n",
    "\n",
    "plt.matshow(grid_search.cv_results_['mean_test_score'].reshape(16, -1),\n",
    "            vmin=0, cmap=\"viridis\")\n",
    "plt.xlabel(\"C\")\n",
    "plt.ylabel(\"gamma\")\n",
    "plt.xticks(range(len(param_grid['svc__C'])), param_grid['svc__C'])\n",
    "plt.yticks(range(len(param_grid['svc__gamma'])), param_grid['svc__C'])\n",
    "plt.colorbar()\n",
    "\n",
    "print(\"best parameters:\", grid_search.best_params_)\n",
    "print(\"Mean cross-validated score of the best_estimator: \", grid_search.best_score_)\n",
    "print(\"test: \", grid_search.score(X_test, y_test))\n",
    "print(\"confusion matrix: \", confusion_matrix(y_test, grid_search.best_estimator_.predict(X_test)))\n",
    "print(\"\")\n",
    "report2(grid_search.cv_results_, n_top=10)"
   ]
  },
  {
   "cell_type": "code",
   "execution_count": 142,
   "metadata": {},
   "outputs": [
    {
     "name": "stdout",
     "output_type": "stream",
     "text": [
      "Fitting 5 folds for each of 240 candidates, totalling 1200 fits\n"
     ]
    },
    {
     "name": "stderr",
     "output_type": "stream",
     "text": [
      "[Parallel(n_jobs=3)]: Done 310 tasks      | elapsed:    3.0s\n"
     ]
    },
    {
     "name": "stdout",
     "output_type": "stream",
     "text": [
      "best parameters: {'svc__C': 30, 'svc__gamma': 0.03}\n",
      "Mean cross-validated score of the best_estimator:  0.8484848484848485\n",
      "Rank|Score(std)|Params ['svc__C', 'svc__gamma']\n",
      "1|0.848485(std:0.018602)|[30, 0.03]\n",
      "2|0.847363(std:0.018459)|[10, 0.05]\n",
      "2|0.847363(std:0.017302)|[500, 0.01]\n",
      "4|0.846240(std:0.017075)|[1000, 0.008]\n",
      "5|0.845118(std:0.021094)|[1, 0.04]\n",
      "5|0.845118(std:0.021483)|[1, 0.05]\n",
      "5|0.845118(std:0.020535)|[1, 0.1]\n",
      "5|0.845118(std:0.020535)|[10, 0.04]\n",
      "5|0.845118(std:0.015887)|[30, 0.04]\n",
      "5|0.845118(std:0.015887)|[50, 0.03]\n",
      "5|0.845118(std:0.015887)|[70, 0.03]\n",
      "5|0.845118(std:0.012741)|[80, 0.03]\n",
      "5|0.845118(std:0.012741)|[90, 0.03]\n",
      "5|0.845118(std:0.013690)|[100, 0.03]\n",
      "5|0.845118(std:0.015366)|[1000, 0.01]\n"
     ]
    },
    {
     "name": "stderr",
     "output_type": "stream",
     "text": [
      "[Parallel(n_jobs=3)]: Done 1200 out of 1200 | elapsed:   10.8s finished\n"
     ]
    }
   ],
   "source": [
    "param_grid = {'svc__C': [0.000001, 0.00001, 0.0001, 0.001, 0.01, 0.1, 1, 10, 30, 50, 70, 80, 90, 100, 500, 1000],\n",
    "              'svc__gamma': [0.001, 0.005, 0.008, 0.01, 0.03, 0.04, 0.05, 0.1, 1, 10, 100, 1000, 10000, 100000, 1000000]}\n",
    "\n",
    "pipe = make_pipeline(StandardScaler(), SVC())\n",
    "\n",
    "grid_search = GridSearchCV(pipe, param_grid, cv=5, n_jobs=3, verbose=1)\n",
    "\n",
    "grid_search.fit(X_train_df, y_train_df)\n",
    "\n",
    "print(\"best parameters:\", grid_search.best_params_)\n",
    "print(\"Mean cross-validated score of the best_estimator: \", grid_search.best_score_)\n",
    "report2(grid_search.cv_results_, n_top=10)\n",
    "\n",
    "test_df_noid = test_df.drop(\"PassengerId\", axis=1).copy()\n",
    "y_pred = grid_search.predict(test_df_noid).astype(int)\n",
    "\n",
    "submission = pd.DataFrame({\n",
    "        \"PassengerId\": test_df[\"PassengerId\"].astype(int),\n",
    "        \"Survived\": y_pred\n",
    "    })\n",
    "submission.to_csv('../output/submission_svcStandardScaler.csv', index=False)"
   ]
  },
  {
   "cell_type": "markdown",
   "metadata": {},
   "source": [
    "----"
   ]
  },
  {
   "cell_type": "markdown",
   "metadata": {},
   "source": [
    "## KNeighborsClassifier"
   ]
  },
  {
   "cell_type": "code",
   "execution_count": 129,
   "metadata": {},
   "outputs": [
    {
     "name": "stdout",
     "output_type": "stream",
     "text": [
      "Fitting 5 folds for each of 11 candidates, totalling 55 fits\n",
      "best parameters: {'kneighborsclassifier__n_neighbors': 9}\n",
      "Mean cross-validated score of the best_estimator:  0.7969798657718121\n",
      "test:  0.8067796610169492\n",
      "confusion matrix:  [[145  30]\n",
      " [ 27  93]]\n",
      "\n",
      "Rank|Score(std)|Params ['kneighborsclassifier__n_neighbors']\n",
      "1|0.796980(std:0.058592)|[9]\n",
      "1|0.796980(std:0.034392)|[15]\n",
      "3|0.790268(std:0.040655)|[7]\n",
      "4|0.788591(std:0.038446)|[8]\n",
      "5|0.781879(std:0.024371)|[4]\n",
      "6|0.780201(std:0.039844)|[5]\n",
      "6|0.780201(std:0.051858)|[10]\n",
      "8|0.778523(std:0.037331)|[6]\n",
      "9|0.761745(std:0.043072)|[20]\n",
      "10|0.758389(std:0.050018)|[3]\n"
     ]
    },
    {
     "name": "stderr",
     "output_type": "stream",
     "text": [
      "[Parallel(n_jobs=3)]: Done  55 out of  55 | elapsed:    0.2s finished\n"
     ]
    }
   ],
   "source": [
    "# no cale\n",
    "param_grid = {'kneighborsclassifier__n_neighbors': [2, 3, 4, 5, 6, 7, 8, 9, 10, 15, 20]}\n",
    "\n",
    "pipe = make_pipeline(KNeighborsClassifier())\n",
    "\n",
    "grid_search = GridSearchCV(pipe, param_grid, cv=5, n_jobs=3, verbose=1)\n",
    "grid_search.fit(X_train, y_train)\n",
    "\n",
    "print(\"best parameters:\", grid_search.best_params_)\n",
    "print(\"Mean cross-validated score of the best_estimator: \", grid_search.best_score_)\n",
    "print(\"test: \", grid_search.score(X_test, y_test))\n",
    "print(\"confusion matrix: \", confusion_matrix(y_test, grid_search.best_estimator_.predict(X_test)))\n",
    "print(\"\")\n",
    "report2(grid_search.cv_results_, n_top=10)"
   ]
  },
  {
   "cell_type": "markdown",
   "metadata": {},
   "source": [
    "### minmax scaler"
   ]
  },
  {
   "cell_type": "code",
   "execution_count": 130,
   "metadata": {},
   "outputs": [
    {
     "name": "stdout",
     "output_type": "stream",
     "text": [
      "Fitting 5 folds for each of 11 candidates, totalling 55 fits\n",
      "best parameters: {'kneighborsclassifier__n_neighbors': 5}\n",
      "Mean cross-validated score of the best_estimator:  0.825503355704698\n",
      "test:  0.8203389830508474\n",
      "confusion matrix:  [[152  23]\n",
      " [ 30  90]]\n",
      "\n",
      "Rank|Score(std)|Params ['kneighborsclassifier__n_neighbors']\n",
      "1|0.825503(std:0.032289)|[5]\n",
      "2|0.822148(std:0.022472)|[4]\n",
      "3|0.818792(std:0.035580)|[6]\n",
      "4|0.812081(std:0.015415)|[15]\n",
      "5|0.810403(std:0.029501)|[9]\n",
      "6|0.807047(std:0.038369)|[7]\n",
      "6|0.807047(std:0.024705)|[8]\n",
      "6|0.807047(std:0.021003)|[10]\n",
      "9|0.800336(std:0.027111)|[20]\n",
      "10|0.778523(std:0.038448)|[3]\n"
     ]
    },
    {
     "name": "stderr",
     "output_type": "stream",
     "text": [
      "[Parallel(n_jobs=3)]: Done  55 out of  55 | elapsed:    0.2s finished\n"
     ]
    }
   ],
   "source": [
    "# minmax scaler\n",
    "param_grid = {'kneighborsclassifier__n_neighbors': [2, 3, 4, 5, 6, 7, 8, 9, 10, 15, 20]}\n",
    "\n",
    "pipe = make_pipeline(MinMaxScaler(), KNeighborsClassifier())\n",
    "\n",
    "grid_search = GridSearchCV(pipe, param_grid, cv=5, n_jobs=3, verbose=1)\n",
    "grid_search.fit(X_train, y_train)\n",
    "\n",
    "print(\"best parameters:\", grid_search.best_params_)\n",
    "print(\"Mean cross-validated score of the best_estimator: \", grid_search.best_score_)\n",
    "print(\"test: \", grid_search.score(X_test, y_test))\n",
    "print(\"confusion matrix: \", confusion_matrix(y_test, grid_search.best_estimator_.predict(X_test)))\n",
    "print(\"\")\n",
    "report2(grid_search.cv_results_, n_top=10)"
   ]
  },
  {
   "cell_type": "markdown",
   "metadata": {},
   "source": [
    "### robust scaler"
   ]
  },
  {
   "cell_type": "code",
   "execution_count": 131,
   "metadata": {},
   "outputs": [
    {
     "name": "stdout",
     "output_type": "stream",
     "text": [
      "Fitting 5 folds for each of 11 candidates, totalling 55 fits\n",
      "best parameters: {'kneighborsclassifier__n_neighbors': 15}\n",
      "Mean cross-validated score of the best_estimator:  0.8003355704697986\n",
      "test:  0.8305084745762712\n",
      "confusion matrix:  [[156  19]\n",
      " [ 31  89]]\n",
      "\n",
      "Rank|Score(std)|Params ['kneighborsclassifier__n_neighbors']\n",
      "1|0.800336(std:0.047347)|[15]\n",
      "2|0.791946(std:0.036246)|[7]\n",
      "3|0.786913(std:0.034982)|[8]\n",
      "3|0.786913(std:0.048017)|[10]\n",
      "5|0.781879(std:0.025067)|[4]\n",
      "5|0.781879(std:0.034439)|[5]\n",
      "5|0.781879(std:0.033459)|[6]\n",
      "8|0.780201(std:0.049112)|[9]\n",
      "9|0.770134(std:0.060153)|[2]\n",
      "10|0.763423(std:0.043949)|[20]\n"
     ]
    },
    {
     "name": "stderr",
     "output_type": "stream",
     "text": [
      "[Parallel(n_jobs=3)]: Done  55 out of  55 | elapsed:    0.2s finished\n"
     ]
    }
   ],
   "source": [
    "# robust scaler\n",
    "param_grid = {'kneighborsclassifier__n_neighbors': [2, 3, 4, 5, 6, 7, 8, 9, 10, 15, 20]}\n",
    "\n",
    "pipe = make_pipeline(RobustScaler(), KNeighborsClassifier())\n",
    "\n",
    "grid_search = GridSearchCV(pipe, param_grid, cv=5, n_jobs=3, verbose=1)\n",
    "grid_search.fit(X_train, y_train)\n",
    "\n",
    "print(\"best parameters:\", grid_search.best_params_)\n",
    "print(\"Mean cross-validated score of the best_estimator: \", grid_search.best_score_)\n",
    "print(\"test: \", grid_search.score(X_test, y_test))\n",
    "print(\"confusion matrix: \", confusion_matrix(y_test, grid_search.best_estimator_.predict(X_test)))\n",
    "print(\"\")\n",
    "report2(grid_search.cv_results_, n_top=10)"
   ]
  },
  {
   "cell_type": "markdown",
   "metadata": {},
   "source": [
    "### StandardScaler"
   ]
  },
  {
   "cell_type": "code",
   "execution_count": 132,
   "metadata": {},
   "outputs": [
    {
     "name": "stdout",
     "output_type": "stream",
     "text": [
      "Fitting 5 folds for each of 11 candidates, totalling 55 fits\n",
      "best parameters: {'kneighborsclassifier__n_neighbors': 20}\n",
      "Mean cross-validated score of the best_estimator:  0.825503355704698\n",
      "test:  0.8576271186440678\n",
      "confusion matrix:  [[167   8]\n",
      " [ 34  86]]\n",
      "\n",
      "Rank|Score(std)|Params ['kneighborsclassifier__n_neighbors']\n",
      "1|0.825503(std:0.047862)|[20]\n",
      "2|0.817114(std:0.047809)|[15]\n",
      "3|0.810403(std:0.038511)|[4]\n",
      "3|0.810403(std:0.031741)|[10]\n",
      "5|0.805369(std:0.026794)|[5]\n",
      "5|0.805369(std:0.028227)|[8]\n",
      "7|0.802013(std:0.023978)|[6]\n",
      "8|0.798658(std:0.032234)|[7]\n",
      "8|0.798658(std:0.040124)|[9]\n",
      "10|0.796980(std:0.051915)|[3]\n"
     ]
    },
    {
     "name": "stderr",
     "output_type": "stream",
     "text": [
      "[Parallel(n_jobs=3)]: Done  55 out of  55 | elapsed:    0.2s finished\n"
     ]
    }
   ],
   "source": [
    "# StandardScaler\n",
    "param_grid = {'kneighborsclassifier__n_neighbors': [2, 3, 4, 5, 6, 7, 8, 9, 10, 15, 20]}\n",
    "\n",
    "pipe = make_pipeline(StandardScaler(), KNeighborsClassifier())\n",
    "\n",
    "grid_search = GridSearchCV(pipe, param_grid, cv=5, n_jobs=3, verbose=1)\n",
    "grid_search.fit(X_train, y_train)\n",
    "\n",
    "print(\"best parameters:\", grid_search.best_params_)\n",
    "print(\"Mean cross-validated score of the best_estimator: \", grid_search.best_score_)\n",
    "print(\"test: \", grid_search.score(X_test, y_test))\n",
    "print(\"confusion matrix: \", confusion_matrix(y_test, grid_search.best_estimator_.predict(X_test)))\n",
    "print(\"\")\n",
    "report2(grid_search.cv_results_, n_top=10)"
   ]
  },
  {
   "cell_type": "raw",
   "metadata": {},
   "source": [
    "## try several SVC, KNeighborsClassifier models and preprocessing conbinations"
   ]
  },
  {
   "cell_type": "raw",
   "metadata": {},
   "source": [
    "param_grid = dict(scaling=[None, MinMaxScaler(), RobustScaler()],\n",
    "                  reduce_dim=[None, PCA(), PCA(5)],\n",
    "                  clf=[SVC(C=100, gamma=0.01), KNeighborsClassifier(n_neighbors=8)]\n",
    "                 )\n",
    "pipe = Pipeline([('scaling', StandardScaler()), ('reduce_dim', PCA()), ('clf', SVC())]) \n",
    "\n",
    "grid_search = GridSearchCV(pipe, param_grid=param_grid, cv=5, n_jobs=3, verbose=1)\n",
    "grid_search.fit(X_train, y_train)\n",
    "\n",
    "print(\"best parameters:\", grid_search.best_params_)\n",
    "print(\"Mean cross-validated score of the best_estimator: \", grid_search.best_score_)\n",
    "print(\"test: \", grid_search.score(X_test, y_test))\n",
    "print(\"confusion matrix: \", confusion_matrix(y_test, grid_search.best_estimator_.predict(X_test)))\n",
    "print(\"\")\n",
    "report2(grid_search.cv_results_, n_top=10)"
   ]
  },
  {
   "cell_type": "markdown",
   "metadata": {},
   "source": [
    "----"
   ]
  },
  {
   "cell_type": "markdown",
   "metadata": {},
   "source": [
    "# random forest result for compare"
   ]
  },
  {
   "cell_type": "markdown",
   "metadata": {},
   "source": [
    "**normal**"
   ]
  },
  {
   "cell_type": "code",
   "execution_count": 133,
   "metadata": {},
   "outputs": [
    {
     "name": "stdout",
     "output_type": "stream",
     "text": [
      "Fitting 5 folds for each of 1320 candidates, totalling 6600 fits\n"
     ]
    },
    {
     "name": "stderr",
     "output_type": "stream",
     "text": [
      "[Parallel(n_jobs=6)]: Done 316 tasks      | elapsed:   12.4s\n",
      "[Parallel(n_jobs=6)]: Done 598 tasks      | elapsed:   25.0s\n",
      "[Parallel(n_jobs=6)]: Done 1011 tasks      | elapsed:   42.5s\n",
      "[Parallel(n_jobs=6)]: Done 1642 tasks      | elapsed:  1.2min\n",
      "[Parallel(n_jobs=6)]: Done 2542 tasks      | elapsed:  1.8min\n",
      "[Parallel(n_jobs=6)]: Done 3507 tasks      | elapsed:  2.6min\n",
      "[Parallel(n_jobs=6)]: Done 4632 tasks      | elapsed:  3.4min\n",
      "[Parallel(n_jobs=6)]: Done 5915 tasks      | elapsed:  4.3min\n",
      "[Parallel(n_jobs=6)]: Done 6589 out of 6600 | elapsed:  4.9min remaining:    0.5s\n"
     ]
    },
    {
     "name": "stdout",
     "output_type": "stream",
     "text": [
      "best parameters: {'randomforestclassifier__max_depth': 5, 'randomforestclassifier__max_features': 1, 'randomforestclassifier__min_samples_split': 6, 'randomforestclassifier__n_estimators': 40}\n",
      "Mean cross-validated score of the best_estimator:  0.8389261744966443\n",
      "test:  0.8372881355932204\n",
      "confusion matrix:  [[169   6]\n",
      " [ 42  78]]\n",
      "\n",
      "Rank|Score(std)|Params ['randomforestclassifier__max_depth', 'randomforestclassifier__max_features', 'randomforestclassifier__min_samples_split', 'randomforestclassifier__n_estimators']\n",
      "1|0.838926(std:0.048392)|[5, 1, 6, 40]\n",
      "1|0.838926(std:0.043068)|[7, 'log2', 4, 10]\n",
      "3|0.837248(std:0.027141)|[6, 'log2', 6, 50]\n",
      "3|0.837248(std:0.031437)|[7, 'sqrt', 6, 700]\n",
      "3|0.837248(std:0.028431)|[7, 'log2', 4, 50]\n",
      "3|0.837248(std:0.036504)|[7, 'log2', 9, 20]\n",
      "3|0.837248(std:0.033632)|[8, 1, 5, 30]\n",
      "3|0.837248(std:0.037093)|[8, 'sqrt', 6, 50]\n",
      "3|0.837248(std:0.031437)|[8, 'sqrt', 8, 40]\n",
      "3|0.837248(std:0.035045)|[9, 'sqrt', 8, 10]\n"
     ]
    },
    {
     "name": "stderr",
     "output_type": "stream",
     "text": [
      "[Parallel(n_jobs=6)]: Done 6600 out of 6600 | elapsed:  4.9min finished\n"
     ]
    }
   ],
   "source": [
    "\"\"\"\n",
    "# too wide\n",
    "param_grid = {'randomforestclassifier__max_depth':[1, 2, 3, 4, 5, 6, 7, 8, 9, 10, 13, 15, 20, 25 None],\n",
    "             'randomforestclassifier__max_features': [1, 'sqrt', 'log2', None],\n",
    "             'randomforestclassifier__min_samples_leaf': [1,2,3,4,5],\n",
    "             \"randomforestclassifier__min_samples_split\" : [2,3,4,5,6,7],\n",
    "             'randomforestclassifier__n_estimators': [10, 20, 30, 40, 50, 60, 70, 100],\n",
    "              }\n",
    "\"\"\"\n",
    "# narrow down\n",
    "param_grid = {'randomforestclassifier__max_depth':[5,6,7,8,9],\n",
    "             'randomforestclassifier__max_features': [1,'sqrt','log2'],\n",
    "#             'randomforestclassifier__min_samples_leaf': [1,2,3,5],\n",
    "             \"randomforestclassifier__min_samples_split\" : [2,3,4,5,6,7,8,9],\n",
    "             'randomforestclassifier__n_estimators': [10,20,30,40,50,60,100,200,300,500,700],\n",
    "              }\n",
    "pipe = make_pipeline(\n",
    "#    SelectFromModel(RandomForestClassifier(n_estimators=100), threshold=\"median\"), \n",
    "#    SelectFromModel(RandomForestClassifier(n_estimators=500), threshold=\"median\"), \n",
    "#    SelectFromModel(\n",
    "#        RandomForestClassifier(\n",
    "#            max_depth=6, max_features=\"sqrt\", \n",
    "#            min_samples_split=4,n_estimators=40)\n",
    "#    ),\n",
    "#    SelectPercentile(percentile=70),\n",
    "    RandomForestClassifier()\n",
    ")\n",
    "\n",
    "grid_search = GridSearchCV(pipe, param_grid=param_grid, cv=5, n_jobs=6, verbose=1)\n",
    "#grid_search = GridSearchCV(pipe, param_grid=param_grid, cv=10, n_jobs=6, verbose=1)\n",
    "grid_search.fit(X_train, y_train)\n",
    "\n",
    "print(\"best parameters:\", grid_search.best_params_)\n",
    "print(\"Mean cross-validated score of the best_estimator: \", grid_search.best_score_)\n",
    "print(\"test: \", grid_search.score(X_test, y_test))\n",
    "print(\"confusion matrix: \", confusion_matrix(y_test, grid_search.best_estimator_.predict(X_test)))\n",
    "print(\"\")\n",
    "report2(grid_search.cv_results_, n_top=10)"
   ]
  },
  {
   "cell_type": "code",
   "execution_count": 134,
   "metadata": {},
   "outputs": [
    {
     "data": {
      "text/html": [
       "<div>\n",
       "<style scoped>\n",
       "    .dataframe tbody tr th:only-of-type {\n",
       "        vertical-align: middle;\n",
       "    }\n",
       "\n",
       "    .dataframe tbody tr th {\n",
       "        vertical-align: top;\n",
       "    }\n",
       "\n",
       "    .dataframe thead th {\n",
       "        text-align: right;\n",
       "    }\n",
       "</style>\n",
       "<table border=\"1\" class=\"dataframe\">\n",
       "  <thead>\n",
       "    <tr style=\"text-align: right;\">\n",
       "      <th></th>\n",
       "      <th>variable</th>\n",
       "      <th>importance</th>\n",
       "    </tr>\n",
       "  </thead>\n",
       "  <tbody>\n",
       "    <tr>\n",
       "      <th>6</th>\n",
       "      <td>Sex</td>\n",
       "      <td>0.380396</td>\n",
       "    </tr>\n",
       "    <tr>\n",
       "      <th>3</th>\n",
       "      <td>Family_Survival</td>\n",
       "      <td>0.185836</td>\n",
       "    </tr>\n",
       "    <tr>\n",
       "      <th>5</th>\n",
       "      <td>Pclass</td>\n",
       "      <td>0.117579</td>\n",
       "    </tr>\n",
       "    <tr>\n",
       "      <th>1</th>\n",
       "      <td>Age*Class</td>\n",
       "      <td>0.106884</td>\n",
       "    </tr>\n",
       "    <tr>\n",
       "      <th>2</th>\n",
       "      <td>FamilySize</td>\n",
       "      <td>0.083877</td>\n",
       "    </tr>\n",
       "    <tr>\n",
       "      <th>4</th>\n",
       "      <td>Fare</td>\n",
       "      <td>0.066629</td>\n",
       "    </tr>\n",
       "    <tr>\n",
       "      <th>0</th>\n",
       "      <td>Age</td>\n",
       "      <td>0.058799</td>\n",
       "    </tr>\n",
       "  </tbody>\n",
       "</table>\n",
       "</div>"
      ],
      "text/plain": [
       "          variable  importance\n",
       "6              Sex    0.380396\n",
       "3  Family_Survival    0.185836\n",
       "5           Pclass    0.117579\n",
       "1        Age*Class    0.106884\n",
       "2       FamilySize    0.083877\n",
       "4             Fare    0.066629\n",
       "0              Age    0.058799"
      ]
     },
     "execution_count": 134,
     "metadata": {},
     "output_type": "execute_result"
    }
   ],
   "source": [
    "pd.concat((pd.DataFrame(X_train.columns, columns = ['variable']), \n",
    "           pd.DataFrame(grid_search.best_estimator_.named_steps[\"randomforestclassifier\"].feature_importances_, columns = ['importance'])), \n",
    "          axis = 1).sort_values(by='importance', ascending = False)"
   ]
  },
  {
   "cell_type": "raw",
   "metadata": {},
   "source": [
    "test_df.isnull().any()"
   ]
  },
  {
   "cell_type": "raw",
   "metadata": {},
   "source": [
    "test_df"
   ]
  },
  {
   "cell_type": "code",
   "execution_count": 135,
   "metadata": {},
   "outputs": [
    {
     "name": "stdout",
     "output_type": "stream",
     "text": [
      "Fitting 5 folds for each of 1320 candidates, totalling 6600 fits\n"
     ]
    },
    {
     "name": "stderr",
     "output_type": "stream",
     "text": [
      "[Parallel(n_jobs=6)]: Done 301 tasks      | elapsed:   13.2s\n",
      "[Parallel(n_jobs=6)]: Done 562 tasks      | elapsed:   25.8s\n",
      "[Parallel(n_jobs=6)]: Done 935 tasks      | elapsed:   43.4s\n",
      "[Parallel(n_jobs=6)]: Done 1533 tasks      | elapsed:  1.2min\n",
      "[Parallel(n_jobs=6)]: Done 2280 tasks      | elapsed:  1.7min\n",
      "[Parallel(n_jobs=6)]: Done 3093 tasks      | elapsed:  2.4min\n",
      "[Parallel(n_jobs=6)]: Done 3993 tasks      | elapsed:  3.1min\n",
      "[Parallel(n_jobs=6)]: Done 5195 tasks      | elapsed:  4.0min\n",
      "[Parallel(n_jobs=6)]: Done 6378 tasks      | elapsed:  5.0min\n",
      "[Parallel(n_jobs=6)]: Done 6589 out of 6600 | elapsed:  5.2min remaining:    0.5s\n"
     ]
    },
    {
     "name": "stdout",
     "output_type": "stream",
     "text": [
      "best parameters: {'randomforestclassifier__max_depth': 5, 'randomforestclassifier__max_features': 'sqrt', 'randomforestclassifier__min_samples_split': 4, 'randomforestclassifier__n_estimators': 20}\n",
      "Mean cross-validated score of the best_estimator:  0.8451178451178452\n",
      "Rank|Score(std)|Params ['randomforestclassifier__max_depth', 'randomforestclassifier__max_features', 'randomforestclassifier__min_samples_split', 'randomforestclassifier__n_estimators']\n",
      "1|0.845118(std:0.016380)|[5, 'sqrt', 4, 20]\n",
      "2|0.843996(std:0.010699)|[6, 1, 5, 10]\n",
      "2|0.843996(std:0.010423)|[7, 'sqrt', 4, 60]\n",
      "2|0.843996(std:0.023070)|[9, 'log2', 9, 30]\n",
      "5|0.842873(std:0.023210)|[6, 'sqrt', 6, 10]\n",
      "5|0.842873(std:0.015031)|[6, 'log2', 3, 30]\n",
      "5|0.842873(std:0.011367)|[7, 'log2', 7, 30]\n",
      "5|0.842873(std:0.013722)|[8, 'log2', 7, 40]\n",
      "9|0.841751(std:0.012644)|[5, 'sqrt', 4, 30]\n",
      "9|0.841751(std:0.014132)|[5, 'log2', 2, 50]\n",
      "9|0.841751(std:0.014132)|[6, 'sqrt', 3, 700]\n",
      "9|0.841751(std:0.015288)|[6, 'sqrt', 4, 30]\n",
      "9|0.841751(std:0.014132)|[6, 'sqrt', 4, 700]\n",
      "9|0.841751(std:0.012644)|[6, 'sqrt', 7, 60]\n",
      "9|0.841751(std:0.011679)|[6, 'sqrt', 8, 20]\n",
      "9|0.841751(std:0.015753)|[6, 'log2', 2, 100]\n",
      "9|0.841751(std:0.014861)|[6, 'log2', 3, 40]\n",
      "9|0.841751(std:0.014132)|[6, 'log2', 3, 700]\n",
      "9|0.841751(std:0.013681)|[6, 'log2', 4, 100]\n",
      "9|0.841751(std:0.012878)|[6, 'log2', 5, 20]\n",
      "9|0.841751(std:0.015480)|[6, 'log2', 6, 200]\n",
      "9|0.841751(std:0.016018)|[7, 'sqrt', 2, 20]\n",
      "9|0.841751(std:0.011041)|[7, 'sqrt', 4, 500]\n",
      "9|0.841751(std:0.012559)|[7, 'sqrt', 5, 40]\n",
      "9|0.841751(std:0.015277)|[7, 'sqrt', 6, 40]\n",
      "9|0.841751(std:0.013911)|[7, 'log2', 4, 50]\n",
      "9|0.841751(std:0.015613)|[7, 'log2', 5, 30]\n",
      "9|0.841751(std:0.021464)|[7, 'log2', 6, 10]\n",
      "9|0.841751(std:0.010133)|[7, 'log2', 6, 40]\n",
      "9|0.841751(std:0.010636)|[7, 'log2', 6, 60]\n",
      "9|0.841751(std:0.013600)|[7, 'log2', 6, 300]\n",
      "9|0.841751(std:0.019391)|[8, 'sqrt', 4, 60]\n",
      "9|0.841751(std:0.017465)|[8, 'log2', 8, 60]\n",
      "9|0.841751(std:0.019617)|[9, 'sqrt', 8, 40]\n"
     ]
    },
    {
     "name": "stderr",
     "output_type": "stream",
     "text": [
      "[Parallel(n_jobs=6)]: Done 6600 out of 6600 | elapsed:  5.2min finished\n"
     ]
    }
   ],
   "source": [
    "#pipe.fit(X_train_df, y_train_df)\n",
    "grid_search.fit(X_train_df, y_train_df)\n",
    "\n",
    "print(\"best parameters:\", grid_search.best_params_)\n",
    "print(\"Mean cross-validated score of the best_estimator: \", grid_search.best_score_)\n",
    "report2(grid_search.cv_results_, n_top=10)\n",
    "\n",
    "test_df_noid = test_df.drop(\"PassengerId\", axis=1).copy()\n",
    "y_pred = grid_search.predict(test_df_noid).astype(int)\n",
    "\n",
    "submission = pd.DataFrame({\n",
    "        \"PassengerId\": test_df[\"PassengerId\"].astype(int),\n",
    "        \"Survived\": y_pred\n",
    "    })\n",
    "submission.to_csv('../output/submission_randomforest.csv', index=False)"
   ]
  },
  {
   "cell_type": "raw",
   "metadata": {},
   "source": [
    "output of upper code\n"
   ]
  },
  {
   "cell_type": "markdown",
   "metadata": {},
   "source": [
    "**just trial of PolynomialFeatures(degree=2)**"
   ]
  },
  {
   "cell_type": "raw",
   "metadata": {},
   "source": [
    "\"\"\"\n",
    "# too wide\n",
    "param_grid = {'randomforestclassifier__max_depth':[1, 2, 3, 4, 5, 6, 7, 8, 9, 10, 13, 15, 20, 25 None],\n",
    "             'randomforestclassifier__max_features': [1, 'sqrt', 'log2', None],\n",
    "             'randomforestclassifier__min_samples_leaf': [1,2,3,4,5],\n",
    "             \"randomforestclassifier__min_samples_split\" : [2,3,4,5,6,7],\n",
    "             'randomforestclassifier__n_estimators': [10, 20, 30, 40, 50, 60, 70, 100],\n",
    "              }\n",
    "\"\"\"\n",
    "# narrow down\n",
    "param_grid = {'randomforestclassifier__max_depth':[5, 7, 8, 9,  13, 15, 20, 25, None],\n",
    "             'randomforestclassifier__max_features': [1, 'sqrt', 'log2'],\n",
    "#             'randomforestclassifier__min_samples_leaf': [1,2,3 ,5],\n",
    "             \"randomforestclassifier__min_samples_split\" : [2,3, 5,6,7],\n",
    "             'randomforestclassifier__n_estimators': [20, 30, 40,  60, 100],\n",
    "              }\n",
    "pipe = make_pipeline(PolynomialFeatures(degree=2), RandomForestClassifier())\n",
    "\n",
    "grid_search = GridSearchCV(pipe, param_grid=param_grid, cv=5, n_jobs=6, verbose=1)\n",
    "grid_search.fit(X_train, y_train)\n",
    "\n",
    "print(\"best parameters:\", grid_search.best_params_)\n",
    "print(\"Mean cross-validated score of the best_estimator: \", grid_search.best_score_)\n",
    "print(\"test: \", grid_search.score(X_test, y_test))\n",
    "print(\"confusion matrix: \", confusion_matrix(y_test, grid_search.best_estimator_.predict(X_test)))\n",
    "print(\"\")\n",
    "report2(grid_search.cv_results_, n_top=10)"
   ]
  },
  {
   "cell_type": "code",
   "execution_count": 136,
   "metadata": {},
   "outputs": [
    {
     "data": {
      "text/html": [
       "<div>\n",
       "<style scoped>\n",
       "    .dataframe tbody tr th:only-of-type {\n",
       "        vertical-align: middle;\n",
       "    }\n",
       "\n",
       "    .dataframe tbody tr th {\n",
       "        vertical-align: top;\n",
       "    }\n",
       "\n",
       "    .dataframe thead th {\n",
       "        text-align: right;\n",
       "    }\n",
       "</style>\n",
       "<table border=\"1\" class=\"dataframe\">\n",
       "  <thead>\n",
       "    <tr style=\"text-align: right;\">\n",
       "      <th></th>\n",
       "      <th>variable</th>\n",
       "      <th>importance</th>\n",
       "    </tr>\n",
       "  </thead>\n",
       "  <tbody>\n",
       "    <tr>\n",
       "      <th>6</th>\n",
       "      <td>Sex</td>\n",
       "      <td>0.414616</td>\n",
       "    </tr>\n",
       "    <tr>\n",
       "      <th>3</th>\n",
       "      <td>Family_Survival</td>\n",
       "      <td>0.211309</td>\n",
       "    </tr>\n",
       "    <tr>\n",
       "      <th>5</th>\n",
       "      <td>Pclass</td>\n",
       "      <td>0.118390</td>\n",
       "    </tr>\n",
       "    <tr>\n",
       "      <th>1</th>\n",
       "      <td>Age*Class</td>\n",
       "      <td>0.103607</td>\n",
       "    </tr>\n",
       "    <tr>\n",
       "      <th>2</th>\n",
       "      <td>FamilySize</td>\n",
       "      <td>0.069360</td>\n",
       "    </tr>\n",
       "    <tr>\n",
       "      <th>0</th>\n",
       "      <td>Age</td>\n",
       "      <td>0.045865</td>\n",
       "    </tr>\n",
       "    <tr>\n",
       "      <th>4</th>\n",
       "      <td>Fare</td>\n",
       "      <td>0.036852</td>\n",
       "    </tr>\n",
       "  </tbody>\n",
       "</table>\n",
       "</div>"
      ],
      "text/plain": [
       "          variable  importance\n",
       "6              Sex    0.414616\n",
       "3  Family_Survival    0.211309\n",
       "5           Pclass    0.118390\n",
       "1        Age*Class    0.103607\n",
       "2       FamilySize    0.069360\n",
       "0              Age    0.045865\n",
       "4             Fare    0.036852"
      ]
     },
     "execution_count": 136,
     "metadata": {},
     "output_type": "execute_result"
    }
   ],
   "source": [
    "pd.concat((pd.DataFrame(X_train.columns, columns = ['variable']), \n",
    "           pd.DataFrame(grid_search.best_estimator_.named_steps[\"randomforestclassifier\"].feature_importances_, columns = ['importance'])), \n",
    "          axis = 1).sort_values(by='importance', ascending = False)"
   ]
  },
  {
   "cell_type": "raw",
   "metadata": {},
   "source": [
    "X_train_df.head()"
   ]
  },
  {
   "cell_type": "raw",
   "metadata": {},
   "source": [
    "pipe = make_pipeline(RandomForestClassifier(max_depth=7, \n",
    "                                            max_features=\"auto\",\n",
    "                                            min_samples_leaf=1, \n",
    "                                            min_samples_split=3, \n",
    "                                            n_estimators=100))\n",
    "pipe.fit(X_train, y_train)\n",
    "print(\"test: \", pipe.score(X_test, y_test))\n",
    "\n",
    "scores = cross_val_score(pipe, X_train_df, y_train_df, n_jobs=3)\n",
    "print(\"mean of cross val score: \", scores.mean())"
   ]
  },
  {
   "cell_type": "raw",
   "metadata": {},
   "source": [
    "pd.concat((pd.DataFrame(X_train.columns, columns = ['variable']), \n",
    "           pd.DataFrame(pipe.named_steps[\"randomforestclassifier\"].feature_importances_, columns = ['importance'])), \n",
    "          axis = 1).sort_values(by='importance', ascending = False)"
   ]
  },
  {
   "cell_type": "raw",
   "metadata": {},
   "source": [
    "### try several scaling and feature selections for random forest"
   ]
  },
  {
   "cell_type": "raw",
   "metadata": {},
   "source": [
    "param_grid = dict(scaling=[None, MinMaxScaler(), RobustScaler()],\n",
    "                  reduce_dim=[None, PCA(), PCA(5)],\n",
    "                  clf=[RandomForestClassifier(max_depth=7, \n",
    "                                            max_features=\"auto\",\n",
    "                                            min_samples_leaf=1, \n",
    "                                            min_samples_split=3, \n",
    "                                            n_estimators=100)]\n",
    "                 )\n",
    "pipe = Pipeline([('scaling', StandardScaler()), ('reduce_dim', PCA()), ('clf', RandomForestClassifier())]) \n",
    "\n",
    "grid_search = GridSearchCV(pipe, param_grid=param_grid, cv=5, n_jobs=3, verbose=1)\n",
    "grid_search.fit(X_train, y_train)\n",
    "\n",
    "print(\"best parameters:\", grid_search.best_params_)\n",
    "print(\"Mean cross-validated score of the best_estimator: \", grid_search.best_score_)\n",
    "print(\"test: \", grid_search.score(X_test, y_test))\n",
    "print(\"confusion matrix: \", confusion_matrix(y_test, grid_search.best_estimator_.predict(X_test)))\n",
    "print(\"\")\n",
    "report2(grid_search.cv_results_, n_top=10)"
   ]
  },
  {
   "cell_type": "raw",
   "metadata": {},
   "source": [
    "**try scaling for random forest**"
   ]
  },
  {
   "cell_type": "raw",
   "metadata": {},
   "source": [
    "# RobustScaler(), \n",
    "pipe = make_pipeline(RobustScaler(), RandomForestClassifier(max_depth=10, \n",
    "                                            max_features=1,\n",
    "                                            min_samples_leaf=1, \n",
    "                                            min_samples_split=13, \n",
    "                                            n_estimators=300))\n",
    "pipe.fit(X_train, y_train)\n",
    "print(\"test: \", pipe.score(X_test, y_test))\n",
    "\n",
    "scores = cross_val_score(pipe, X_train_df, y_train_df, n_jobs=3)\n",
    "print(\"mean of cross val score: \", scores.mean())"
   ]
  },
  {
   "cell_type": "raw",
   "metadata": {},
   "source": [
    "# MinMaxScaler(), \n",
    "pipe = make_pipeline(MinMaxScaler(), RandomForestClassifier(max_depth=10, \n",
    "                                            max_features=1,\n",
    "                                            min_samples_leaf=1, \n",
    "                                            min_samples_split=13, \n",
    "                                            n_estimators=300))\n",
    "pipe.fit(X_train, y_train)\n",
    "print(\"test: \", pipe.score(X_test, y_test))\n",
    "\n",
    "scores = cross_val_score(pipe, X_train_df, y_train_df, n_jobs=3)\n",
    "print(\"mean of cross val score: \", scores.mean())"
   ]
  },
  {
   "cell_type": "raw",
   "metadata": {},
   "source": [
    "**try feature selection**"
   ]
  },
  {
   "cell_type": "raw",
   "metadata": {},
   "source": [
    "#pca\n",
    "param_grid = {'pca__n_components':[5, 10, 15, 20, 24, 25, 26, 27, 28, 29, 30, 31, 32, 33, 34, 35, 40]}\n",
    "\n",
    "pipe = make_pipeline(PCA(n_components=30), RandomForestClassifier(max_depth=10, \n",
    "                                            max_features=1,\n",
    "                                            min_samples_leaf=1, \n",
    "                                            min_samples_split=13, \n",
    "                                            n_estimators=300))\n",
    "\n",
    "grid_search = GridSearchCV(pipe, param_grid=param_grid, cv=5, n_jobs=6)\n",
    "grid_search.fit(X_train, y_train)\n",
    "\n",
    "print(\"best parameters:\", grid_search.best_params_)\n",
    "print(\"Mean cross-validated score of the best_estimator: \", grid_search.best_score_)\n",
    "print(\"test: \", grid_search.score(X_test, y_test))"
   ]
  },
  {
   "cell_type": "raw",
   "metadata": {},
   "source": [
    "pipe = make_pipeline(PCA(n_components=15), RandomForestClassifier(max_depth=10, \n",
    "                                            max_features=1,\n",
    "                                            min_samples_leaf=1, \n",
    "                                            min_samples_split=13, \n",
    "                                            n_estimators=300))\n",
    "pipe.fit(X_train, y_train)\n",
    "print(\"test: \", pipe.score(X_test, y_test))\n",
    "\n",
    "scores = cross_val_score(pipe, X_train_df, y_train_df, n_jobs=3)\n",
    "print(\"mean of cross val score: \", scores.mean())"
   ]
  },
  {
   "cell_type": "raw",
   "metadata": {},
   "source": [
    "test:  0.840677966102\n",
    "mean of cross val score:  0.82379349046"
   ]
  },
  {
   "cell_type": "markdown",
   "metadata": {},
   "source": [
    "----"
   ]
  },
  {
   "cell_type": "markdown",
   "metadata": {},
   "source": [
    "## XGBoost"
   ]
  },
  {
   "cell_type": "raw",
   "metadata": {},
   "source": [
    "param_grid = {'max_depth': [0,1,2,3,4,5,6,7],\n",
    "              'min_child_weight':[0.8,0.9, 1],\n",
    "              'gamma':[0, 0.1, 0.2],\n",
    "            'subsample': [0.5, 0.7, 0.95],\n",
    "            'colsample_bytree': [1.0]}\n",
    "    \n",
    "grid_search = GridSearchCV(xgb.XGBClassifier(), param_grid, cv=5, n_jobs=6, verbose=1)\n",
    "grid_search.fit(X_train, y_train)\n",
    "\n",
    "\n",
    "\n",
    "\n"
   ]
  },
  {
   "cell_type": "markdown",
   "metadata": {},
   "source": [
    "----"
   ]
  },
  {
   "cell_type": "markdown",
   "metadata": {},
   "source": [
    "## AdaBoostClassifier"
   ]
  },
  {
   "cell_type": "raw",
   "metadata": {},
   "source": [
    "AdaBoostClassifier(base_estimator=None, n_estimators=50,\n",
    "                   learning_rate=1.0, algorithm='SAMME.R',\n",
    "                   random_state=None)"
   ]
  },
  {
   "cell_type": "markdown",
   "metadata": {},
   "source": [
    "----"
   ]
  },
  {
   "cell_type": "markdown",
   "metadata": {},
   "source": [
    "## GradientBoostingClassifier"
   ]
  },
  {
   "cell_type": "code",
   "execution_count": 137,
   "metadata": {},
   "outputs": [
    {
     "name": "stdout",
     "output_type": "stream",
     "text": [
      "Fitting 5 folds for each of 4200 candidates, totalling 21000 fits\n"
     ]
    },
    {
     "name": "stderr",
     "output_type": "stream",
     "text": [
      "[Parallel(n_jobs=6)]: Done 490 tasks      | elapsed:   10.0s\n",
      "[Parallel(n_jobs=6)]: Done 979 tasks      | elapsed:   22.4s\n",
      "[Parallel(n_jobs=6)]: Done 1463 tasks      | elapsed:   39.7s\n",
      "[Parallel(n_jobs=6)]: Done 2067 tasks      | elapsed:  1.2min\n",
      "[Parallel(n_jobs=6)]: Done 2517 tasks      | elapsed:  1.6min\n",
      "[Parallel(n_jobs=6)]: Done 3113 tasks      | elapsed:  2.3min\n",
      "[Parallel(n_jobs=6)]: Done 4413 tasks      | elapsed:  2.9min\n",
      "[Parallel(n_jobs=6)]: Done 5601 tasks      | elapsed:  4.1min\n",
      "[Parallel(n_jobs=6)]: Done 6879 tasks      | elapsed:  5.0min\n",
      "[Parallel(n_jobs=6)]: Done 8351 tasks      | elapsed:  6.2min\n",
      "[Parallel(n_jobs=6)]: Done 9746 tasks      | elapsed:  7.3min\n",
      "[Parallel(n_jobs=6)]: Done 11489 tasks      | elapsed:  8.6min\n",
      "[Parallel(n_jobs=6)]: Done 13453 tasks      | elapsed: 10.0min\n",
      "[Parallel(n_jobs=6)]: Done 15039 tasks      | elapsed: 11.7min\n",
      "[Parallel(n_jobs=6)]: Done 17696 tasks      | elapsed: 13.5min\n",
      "[Parallel(n_jobs=6)]: Done 20473 tasks      | elapsed: 15.3min\n"
     ]
    },
    {
     "name": "stdout",
     "output_type": "stream",
     "text": [
      "best parameters: {'learning_rate': 0.05, 'max_depth': 3, 'max_features': 'log2', 'min_samples_split': 4, 'n_estimators': 100}\n",
      "Mean cross-validated score of the best_estimator:  0.837248322147651\n",
      "test:  0.8542372881355932\n",
      "confusion matrix:  [[164  11]\n",
      " [ 32  88]]\n",
      "\n",
      "Rank|Score(std)|Params ['learning_rate', 'max_depth', 'max_features', 'min_samples_split', 'n_estimators']\n",
      "1|0.837248(std:0.035970)|[0.05, 3, 'log2', 4, 100]\n",
      "1|0.837248(std:0.027764)|[0.05, 5, 'log2', 5, 100]\n",
      "1|0.837248(std:0.033065)|[0.1, 3, 'sqrt', 6, 50]\n",
      "1|0.837248(std:0.039018)|[0.1, 3, 'log2', 5, 50]\n",
      "5|0.835570(std:0.030142)|[0.007, 5, 'sqrt', 5, 500]\n",
      "5|0.835570(std:0.036758)|[0.01, 3, 'sqrt', 2, 500]\n",
      "5|0.835570(std:0.033502)|[0.02, 3, 'log2', 2, 300]\n",
      "5|0.835570(std:0.030142)|[0.02, 5, 'sqrt', 2, 200]\n",
      "5|0.835570(std:0.033280)|[0.1, 4, None, 5, 50]\n",
      "5|0.835570(std:0.031426)|[0.2, 5, 'sqrt', 5, 7]\n"
     ]
    },
    {
     "name": "stderr",
     "output_type": "stream",
     "text": [
      "[Parallel(n_jobs=6)]: Done 21000 out of 21000 | elapsed: 15.8min finished\n"
     ]
    }
   ],
   "source": [
    "\"\"\"\n",
    "# too wide\n",
    "param_grid = {'learning_rate': [0.001, 0.005, 0.007, 0.01, 0.02, 0.05, 0.1, 0.2],\n",
    "              'max_depth':[1,2,3,4,5,6,7,8],\n",
    "              'max_features': [None, 'sqrt', 'log2'],\n",
    "              'min_samples_leaf': [1, 2, 3, 4, 5, 6],\n",
    "              'min_samples_split':[2, 3, 4, 5, 6],\n",
    "              'n_estimators': [3, 5, 7, 10, 50, 100, 200, 300, 400, 500],\n",
    "              }\n",
    "\"\"\"\n",
    "\n",
    "# narrow in specific region\n",
    "param_grid = {'learning_rate': [0.005, 0.007, 0.01, 0.02, 0.05, 0.1, 0.2],\n",
    "              'max_depth':[3,4,5,6,7],\n",
    "              'max_features': [None, 'sqrt', 'log2'],\n",
    "#              'min_samples_leaf': [1, 2, 3, 4, 5],\n",
    "              'min_samples_split':[2, 3, 4, 5, 6],\n",
    "              'n_estimators': [7, 10, 50, 100, 200, 300, 400, 500],\n",
    "              }\n",
    "\n",
    "grid_search = GridSearchCV(GradientBoostingClassifier(), param_grid, cv=5, n_jobs=6, verbose=1)\n",
    "grid_search.fit(X_train, y_train)\n",
    "\n",
    "print(\"best parameters:\", grid_search.best_params_)\n",
    "print(\"Mean cross-validated score of the best_estimator: \", grid_search.best_score_)\n",
    "print(\"test: \", grid_search.score(X_test, y_test))\n",
    "print(\"confusion matrix: \", confusion_matrix(y_test, grid_search.best_estimator_.predict(X_test)))\n",
    "print(\"\")\n",
    "report2(grid_search.cv_results_, n_top=10)"
   ]
  },
  {
   "cell_type": "code",
   "execution_count": 138,
   "metadata": {},
   "outputs": [
    {
     "data": {
      "text/html": [
       "<div>\n",
       "<style scoped>\n",
       "    .dataframe tbody tr th:only-of-type {\n",
       "        vertical-align: middle;\n",
       "    }\n",
       "\n",
       "    .dataframe tbody tr th {\n",
       "        vertical-align: top;\n",
       "    }\n",
       "\n",
       "    .dataframe thead th {\n",
       "        text-align: right;\n",
       "    }\n",
       "</style>\n",
       "<table border=\"1\" class=\"dataframe\">\n",
       "  <thead>\n",
       "    <tr style=\"text-align: right;\">\n",
       "      <th></th>\n",
       "      <th>variable</th>\n",
       "      <th>importance</th>\n",
       "    </tr>\n",
       "  </thead>\n",
       "  <tbody>\n",
       "    <tr>\n",
       "      <th>6</th>\n",
       "      <td>Sex</td>\n",
       "      <td>0.329089</td>\n",
       "    </tr>\n",
       "    <tr>\n",
       "      <th>3</th>\n",
       "      <td>Family_Survival</td>\n",
       "      <td>0.190390</td>\n",
       "    </tr>\n",
       "    <tr>\n",
       "      <th>1</th>\n",
       "      <td>Age*Class</td>\n",
       "      <td>0.132186</td>\n",
       "    </tr>\n",
       "    <tr>\n",
       "      <th>5</th>\n",
       "      <td>Pclass</td>\n",
       "      <td>0.109928</td>\n",
       "    </tr>\n",
       "    <tr>\n",
       "      <th>2</th>\n",
       "      <td>FamilySize</td>\n",
       "      <td>0.106728</td>\n",
       "    </tr>\n",
       "    <tr>\n",
       "      <th>4</th>\n",
       "      <td>Fare</td>\n",
       "      <td>0.079120</td>\n",
       "    </tr>\n",
       "    <tr>\n",
       "      <th>0</th>\n",
       "      <td>Age</td>\n",
       "      <td>0.052558</td>\n",
       "    </tr>\n",
       "  </tbody>\n",
       "</table>\n",
       "</div>"
      ],
      "text/plain": [
       "          variable  importance\n",
       "6              Sex    0.329089\n",
       "3  Family_Survival    0.190390\n",
       "1        Age*Class    0.132186\n",
       "5           Pclass    0.109928\n",
       "2       FamilySize    0.106728\n",
       "4             Fare    0.079120\n",
       "0              Age    0.052558"
      ]
     },
     "execution_count": 138,
     "metadata": {},
     "output_type": "execute_result"
    }
   ],
   "source": [
    "pd.concat((pd.DataFrame(X_train.columns, columns = ['variable']), \n",
    "           pd.DataFrame(grid_search.best_estimator_.feature_importances_, columns = ['importance'])), \n",
    "          axis = 1).sort_values(by='importance', ascending = False)"
   ]
  },
  {
   "cell_type": "markdown",
   "metadata": {},
   "source": [
    "**for submit, make model by best par and fit to all train data**"
   ]
  },
  {
   "cell_type": "code",
   "execution_count": 139,
   "metadata": {},
   "outputs": [
    {
     "name": "stdout",
     "output_type": "stream",
     "text": [
      "Fitting 5 folds for each of 4200 candidates, totalling 21000 fits\n"
     ]
    },
    {
     "name": "stderr",
     "output_type": "stream",
     "text": [
      "[Parallel(n_jobs=6)]: Done 354 tasks      | elapsed:    7.8s\n",
      "[Parallel(n_jobs=6)]: Done 668 tasks      | elapsed:   15.3s\n",
      "[Parallel(n_jobs=6)]: Done 1168 tasks      | elapsed:   30.9s\n",
      "[Parallel(n_jobs=6)]: Done 1868 tasks      | elapsed:  1.1min\n",
      "[Parallel(n_jobs=6)]: Done 2326 tasks      | elapsed:  1.6min\n",
      "[Parallel(n_jobs=6)]: Done 2876 tasks      | elapsed:  2.4min\n",
      "[Parallel(n_jobs=6)]: Done 3995 tasks      | elapsed:  3.0min\n",
      "[Parallel(n_jobs=6)]: Done 5190 tasks      | elapsed:  4.0min\n",
      "[Parallel(n_jobs=6)]: Done 6040 tasks      | elapsed:  5.2min\n",
      "[Parallel(n_jobs=6)]: Done 7905 tasks      | elapsed:  6.3min\n",
      "[Parallel(n_jobs=6)]: Done 8956 tasks      | elapsed:  7.8min\n",
      "[Parallel(n_jobs=6)]: Done 11039 tasks      | elapsed:  9.1min\n",
      "[Parallel(n_jobs=6)]: Done 12516 tasks      | elapsed: 10.6min\n",
      "[Parallel(n_jobs=6)]: Done 14546 tasks      | elapsed: 12.3min\n",
      "[Parallel(n_jobs=6)]: Done 16928 tasks      | elapsed: 14.2min\n",
      "[Parallel(n_jobs=6)]: Done 18898 tasks      | elapsed: 16.0min\n",
      "[Parallel(n_jobs=6)]: Done 21000 out of 21000 | elapsed: 18.1min finished\n"
     ]
    },
    {
     "name": "stdout",
     "output_type": "stream",
     "text": [
      "best parameters: {'learning_rate': 0.005, 'max_depth': 3, 'max_features': None, 'min_samples_split': 2, 'n_estimators': 200}\n",
      "Mean cross-validated score of the best_estimator:  0.8473625140291807\n",
      "Rank|Score(std)|Params ['learning_rate', 'max_depth', 'max_features', 'min_samples_split', 'n_estimators']\n",
      "1|0.847363(std:0.018459)|[0.005, 3, None, 2, 200]\n",
      "1|0.847363(std:0.018459)|[0.005, 3, None, 3, 200]\n",
      "1|0.847363(std:0.018459)|[0.005, 3, None, 4, 200]\n",
      "1|0.847363(std:0.018459)|[0.005, 3, None, 5, 200]\n",
      "1|0.847363(std:0.018459)|[0.005, 3, None, 6, 200]\n",
      "1|0.847363(std:0.018696)|[0.007, 3, None, 6, 500]\n",
      "1|0.847363(std:0.018459)|[0.01, 3, None, 2, 100]\n",
      "1|0.847363(std:0.018696)|[0.01, 3, None, 2, 300]\n",
      "1|0.847363(std:0.018459)|[0.01, 3, None, 3, 100]\n",
      "1|0.847363(std:0.018696)|[0.01, 3, None, 3, 300]\n",
      "1|0.847363(std:0.018459)|[0.01, 3, None, 4, 100]\n",
      "1|0.847363(std:0.018459)|[0.01, 3, None, 5, 100]\n",
      "1|0.847363(std:0.018459)|[0.01, 3, None, 6, 100]\n",
      "1|0.847363(std:0.018459)|[0.02, 3, None, 2, 50]\n",
      "1|0.847363(std:0.018459)|[0.02, 3, None, 3, 50]\n",
      "1|0.847363(std:0.018459)|[0.02, 3, None, 4, 50]\n",
      "1|0.847363(std:0.018459)|[0.02, 3, None, 5, 50]\n",
      "1|0.847363(std:0.018459)|[0.02, 3, None, 6, 50]\n",
      "1|0.847363(std:0.018459)|[0.1, 3, None, 2, 10]\n",
      "1|0.847363(std:0.018459)|[0.1, 3, None, 3, 10]\n",
      "1|0.847363(std:0.018459)|[0.1, 3, None, 4, 10]\n",
      "1|0.847363(std:0.018459)|[0.1, 3, None, 5, 10]\n",
      "1|0.847363(std:0.018459)|[0.1, 3, None, 6, 10]\n"
     ]
    }
   ],
   "source": [
    "#pipe.fit(X_train_df, y_train_df)\n",
    "grid_search.fit(X_train_df, y_train_df)\n",
    "\n",
    "print(\"best parameters:\", grid_search.best_params_)\n",
    "print(\"Mean cross-validated score of the best_estimator: \", grid_search.best_score_)\n",
    "report2(grid_search.cv_results_, n_top=10)\n",
    "\n",
    "test_df_noid = test_df.drop(\"PassengerId\", axis=1).copy()\n",
    "y_pred = grid_search.predict(test_df_noid).astype(int)\n",
    "\n",
    "submission = pd.DataFrame({\n",
    "        \"PassengerId\": test_df[\"PassengerId\"].astype(int),\n",
    "        \"Survived\": y_pred\n",
    "    })\n",
    "submission.to_csv('../output/submission_gradientboosting.csv', index=False)"
   ]
  },
  {
   "cell_type": "code",
   "execution_count": 140,
   "metadata": {},
   "outputs": [
    {
     "data": {
      "text/html": [
       "<div>\n",
       "<style scoped>\n",
       "    .dataframe tbody tr th:only-of-type {\n",
       "        vertical-align: middle;\n",
       "    }\n",
       "\n",
       "    .dataframe tbody tr th {\n",
       "        vertical-align: top;\n",
       "    }\n",
       "\n",
       "    .dataframe thead th {\n",
       "        text-align: right;\n",
       "    }\n",
       "</style>\n",
       "<table border=\"1\" class=\"dataframe\">\n",
       "  <thead>\n",
       "    <tr style=\"text-align: right;\">\n",
       "      <th></th>\n",
       "      <th>variable</th>\n",
       "      <th>importance</th>\n",
       "    </tr>\n",
       "  </thead>\n",
       "  <tbody>\n",
       "    <tr>\n",
       "      <th>6</th>\n",
       "      <td>Sex</td>\n",
       "      <td>0.564469</td>\n",
       "    </tr>\n",
       "    <tr>\n",
       "      <th>3</th>\n",
       "      <td>Family_Survival</td>\n",
       "      <td>0.195352</td>\n",
       "    </tr>\n",
       "    <tr>\n",
       "      <th>5</th>\n",
       "      <td>Pclass</td>\n",
       "      <td>0.146711</td>\n",
       "    </tr>\n",
       "    <tr>\n",
       "      <th>1</th>\n",
       "      <td>Age*Class</td>\n",
       "      <td>0.052570</td>\n",
       "    </tr>\n",
       "    <tr>\n",
       "      <th>2</th>\n",
       "      <td>FamilySize</td>\n",
       "      <td>0.030484</td>\n",
       "    </tr>\n",
       "    <tr>\n",
       "      <th>0</th>\n",
       "      <td>Age</td>\n",
       "      <td>0.009835</td>\n",
       "    </tr>\n",
       "    <tr>\n",
       "      <th>4</th>\n",
       "      <td>Fare</td>\n",
       "      <td>0.000579</td>\n",
       "    </tr>\n",
       "  </tbody>\n",
       "</table>\n",
       "</div>"
      ],
      "text/plain": [
       "          variable  importance\n",
       "6              Sex    0.564469\n",
       "3  Family_Survival    0.195352\n",
       "5           Pclass    0.146711\n",
       "1        Age*Class    0.052570\n",
       "2       FamilySize    0.030484\n",
       "0              Age    0.009835\n",
       "4             Fare    0.000579"
      ]
     },
     "execution_count": 140,
     "metadata": {},
     "output_type": "execute_result"
    }
   ],
   "source": [
    "pd.concat((pd.DataFrame(X_train_df.columns, columns = ['variable']), \n",
    "           pd.DataFrame(grid_search.best_estimator_.feature_importances_, columns = ['importance'])), \n",
    "          axis = 1).sort_values(by='importance', ascending = False)"
   ]
  },
  {
   "cell_type": "code",
   "execution_count": null,
   "metadata": {},
   "outputs": [],
   "source": []
  },
  {
   "cell_type": "raw",
   "metadata": {},
   "source": [
    "pipe = make_pipeline(GradientBoostingClassifier(learning_rate=0.2,\n",
    "                                                max_depth=5,\n",
    "                                                max_features=\"sqrt\",\n",
    "#                                                min_samples_leaf=2,\n",
    "                                                min_samples_split=6,\n",
    "                                                n_estimators=10))\n",
    "pipe.fit(X_train, y_train)\n",
    "print(\"test: \", pipe.score(X_test, y_test))\n",
    "print(\"confusion matrix: \", confusion_matrix(y_test, pipe.predict(X_test)))\n",
    "\n",
    "scores = cross_val_score(pipe, X_train_df, y_train_df, n_jobs=3)\n",
    "print(\"mean of cross val score for X_train_df: \", scores.mean())"
   ]
  },
  {
   "cell_type": "raw",
   "metadata": {},
   "source": [
    "pipe.fit(X_train_df, y_train_df)\n",
    "\n",
    "test_df_noid = test_df.drop(\"PassengerId\", axis=1).copy()\n",
    "y_pred = pipe.predict(test_df_noid).astype(int)\n",
    "\n",
    "submission = pd.DataFrame({\n",
    "        \"PassengerId\": test_df[\"PassengerId\"].astype(int),\n",
    "        \"Survived\": y_pred\n",
    "    })\n",
    "submission.to_csv('../output/submission_gradientboosting.csv', index=False)"
   ]
  },
  {
   "cell_type": "raw",
   "metadata": {},
   "source": [
    "pd.concat((pd.DataFrame(X_train.columns, columns = ['variable']), \n",
    "           pd.DataFrame(pipe.named_steps[\"gradientboostingclassifier\"].feature_importances_, columns = ['importance'])), \n",
    "          axis = 1).sort_values(by='importance', ascending = False)"
   ]
  },
  {
   "cell_type": "markdown",
   "metadata": {},
   "source": [
    "**just trial of PolynomialFeatures**"
   ]
  },
  {
   "cell_type": "raw",
   "metadata": {},
   "source": [
    "# !!!! caution !!!!!\n",
    "# pca needs too much memory, and stopped!\n",
    "\n",
    "param_grid = {\n",
    "    'polynomialfeatures__degree':[2,3,4,5],\n",
    "    'polynomialfeatures__interaction_only':[True, False],\n",
    "#    'pca__n_components':[None, 10]\n",
    "}\n",
    "\n",
    "pipe = make_pipeline(PolynomialFeatures(degree=2), \n",
    "#                     PCA(),\n",
    "                     GradientBoostingClassifier(learning_rate=0.05,\n",
    "                                                max_depth=4,\n",
    "                                                max_features=\"sqrt\",\n",
    "#                                                min_samples_leaf=2,\n",
    "                                                min_samples_split=5,\n",
    "                                                n_estimators=50))\n",
    "\n",
    "grid_search = GridSearchCV(pipe, param_grid=param_grid, cv=5, n_jobs=3, verbose=1)\n",
    "grid_search.fit(X_train, y_train)\n",
    "\n",
    "print(\"best parameters:\", grid_search.best_params_)\n",
    "print(\"Mean cross-validated score of the best_estimator: \", grid_search.best_score_)\n",
    "print(\"test: \", grid_search.score(X_test, y_test))\n",
    "print(\"confusion matrix: \", confusion_matrix(y_test, grid_search.best_estimator_.predict(X_test)))\n",
    "print(\"\")\n",
    "report2(grid_search.cv_results_, n_top=10)"
   ]
  },
  {
   "cell_type": "raw",
   "metadata": {},
   "source": [
    "pd.concat((pd.DataFrame(X_train.columns, columns = ['variable']), \n",
    "           pd.DataFrame(pipe.named_steps[\"gradientboostingclassifier\"].feature_importances_, columns = ['importance'])), \n",
    "          axis = 1).sort_values(by='importance', ascending = False)"
   ]
  },
  {
   "cell_type": "code",
   "execution_count": null,
   "metadata": {},
   "outputs": [],
   "source": []
  },
  {
   "cell_type": "raw",
   "metadata": {},
   "source": [
    "### try scaling and feature selection"
   ]
  },
  {
   "cell_type": "raw",
   "metadata": {},
   "source": [
    "param_grid = dict(scaling=[None, MinMaxScaler(), RobustScaler()],\n",
    "                  reduce_dim=[None, PCA(), PCA(5), PCA(10), PCA(15), PCA(20), PCA(25), PCA(30)],\n",
    "                  clf=[GradientBoostingClassifier(learning_rate=0.01,\n",
    "                                                max_depth=6,\n",
    "                                                max_features=\"sqrt\",\n",
    "                                                min_samples_leaf=3,\n",
    "                                                min_samples_split=3,\n",
    "                                                n_estimators=200)]\n",
    "                 )\n",
    "pipe = Pipeline([('scaling', StandardScaler()), ('reduce_dim', PCA()), ('clf', RandomForestClassifier())]) \n",
    "\n",
    "grid_search = GridSearchCV(pipe, param_grid=param_grid, cv=5, n_jobs=3, verbose=1)\n",
    "grid_search.fit(X_train, y_train)\n",
    "\n",
    "print(\"Mean cross-validated score of the best_estimator: \", grid_search.best_score_)\n",
    "print(\"best parameters:\", grid_search.best_params_)\n",
    "print(\"test: \", grid_search.score(X_test, y_test))"
   ]
  },
  {
   "cell_type": "raw",
   "metadata": {},
   "source": [
    "**try scaling for Gradient boosting**"
   ]
  },
  {
   "cell_type": "raw",
   "metadata": {},
   "source": [
    "# RobustScaler\n",
    "pipe = make_pipeline(RobustScaler(), GradientBoostingClassifier(learning_rate=0.01,\n",
    "                                                max_depth=6,\n",
    "                                                max_features=\"sqrt\",\n",
    "                                                min_samples_leaf=3,\n",
    "                                                min_samples_split=3,\n",
    "                                                n_estimators=200))\n",
    "pipe.fit(X_train, y_train)\n",
    "print(\"test: \", pipe.score(X_test, y_test))\n",
    "\n",
    "scores = cross_val_score(pipe, X_train_df, y_train_df, n_jobs=3)\n",
    "print(\"mean of cross val score for X_train_df: \", scores.mean())"
   ]
  },
  {
   "cell_type": "raw",
   "metadata": {},
   "source": [
    "pd.concat((pd.DataFrame(X_train.columns, columns = ['variable']), \n",
    "           pd.DataFrame(pipe.named_steps[\"gradientboostingclassifier\"].feature_importances_, columns = ['importance'])), \n",
    "          axis = 1).sort_values(by='importance', ascending = False)"
   ]
  },
  {
   "cell_type": "raw",
   "metadata": {},
   "source": [
    "# MinMaxScaler\n",
    "pipe = make_pipeline(MinMaxScaler(), GradientBoostingClassifier(learning_rate=0.01,\n",
    "                                                max_depth=6,\n",
    "                                                max_features=\"sqrt\",\n",
    "                                                min_samples_leaf=3,\n",
    "                                                min_samples_split=3,\n",
    "                                                n_estimators=200))\n",
    "pipe.fit(X_train, y_train)\n",
    "print(\"test: \", pipe.score(X_test, y_test))\n",
    "\n",
    "scores = cross_val_score(pipe, X_train_df, y_train_df, n_jobs=3)\n",
    "print(\"mean of cross val score for X_train_df: \", scores.mean())"
   ]
  },
  {
   "cell_type": "raw",
   "metadata": {},
   "source": [
    "pd.concat((pd.DataFrame(X_train.columns, columns = ['variable']), \n",
    "           pd.DataFrame(pipe.named_steps[\"gradientboostingclassifier\"].feature_importances_, columns = ['importance'])), \n",
    "          axis = 1).sort_values(by='importance', ascending = False)"
   ]
  },
  {
   "cell_type": "raw",
   "metadata": {},
   "source": [
    "**try feature selection**"
   ]
  },
  {
   "cell_type": "raw",
   "metadata": {},
   "source": [
    "#PCA\n",
    "param_grid = {'pca__n_components':[5, 10, 15, 20, 24, 25, 26, 27, 28, 29, 30, 31, 32, 33, 34, 35, 40]}\n",
    "\n",
    "pipe = make_pipeline(PCA(n_components=30), GradientBoostingClassifier(learning_rate=0.01,\n",
    "                                                max_depth=6,\n",
    "                                                max_features=\"sqrt\",\n",
    "                                                min_samples_leaf=3,\n",
    "                                                min_samples_split=3,\n",
    "                                                n_estimators=200))\n",
    "\n",
    "grid_search = GridSearchCV(pipe, param_grid, cv=5, n_jobs=3)\n",
    "grid_search.fit(X_train, y_train)\n",
    "\n",
    "print(\"Mean cross-validated score of the best_estimator: \", grid_search.best_score_)\n",
    "print(\"best parameters:\", grid_search.best_params_)\n",
    "print(\"test: \", grid_search.score(X_test, y_test))"
   ]
  },
  {
   "cell_type": "code",
   "execution_count": null,
   "metadata": {},
   "outputs": [],
   "source": []
  },
  {
   "cell_type": "code",
   "execution_count": 141,
   "metadata": {},
   "outputs": [],
   "source": [
    "import warnings\n",
    "warnings.simplefilter(\"ignore\")"
   ]
  },
  {
   "cell_type": "raw",
   "metadata": {},
   "source": [
    "# !!!!! without disabling warning, too much output and freezed almost!!!!\n",
    "# neet to watch output everytime\n",
    "\n",
    "param_distributions = {\n",
    "    #'learning_rate': sp.stats.uniform(0.001, 0.5),\n",
    "    'learning_rate': [0.001, 0.005, 0.007, 0.01, 0.02, 0.05, 0.1, 0.2],\n",
    "    'max_depth':sp.stats.randint(1, 11),\n",
    "    'max_features': sp.stats.randint(2, 11),\n",
    "    'min_samples_leaf': sp.stats.randint(1, 11),\n",
    "    'min_samples_split': sp.stats.randint(2, 11),\n",
    "    'n_estimators': sp.stats.randint(3, 1000)\n",
    "}\n",
    "\n",
    "random_search = RandomizedSearchCV(GradientBoostingClassifier(),\n",
    "                                   param_distributions,\n",
    "                                   cv=5,\n",
    "                                   n_iter=5000,\n",
    "                                   scoring=\"log_loss\",\n",
    "                                   n_jobs=6,\n",
    "                                   verbose=1)\n",
    "random_search.fit(X_train, y_train)\n",
    "\n",
    "print(\"best parameters:\", random_search.best_params_)\n",
    "print(\"Mean cross-validated score of the best_estimator: \", random_search.best_score_)\n",
    "print(\"test: \", random_search.score(X_test, y_test))\n",
    "print(\"confusion matrix: \", confusion_matrix(y_test, random_search.best_estimator_.predict(X_test)))\n",
    "print(\"\")\n",
    "report2(random_search.cv_results_, n_top=10)"
   ]
  },
  {
   "cell_type": "markdown",
   "metadata": {},
   "source": [
    "### search hyper parameter by sklearn-deap\n"
   ]
  },
  {
   "cell_type": "code",
   "execution_count": 105,
   "metadata": {},
   "outputs": [
    {
     "name": "stdout",
     "output_type": "stream",
     "text": [
      "Types [2, 1, 1, 1, 1, 1] and maxint [7, 9, 2, 7, 7, 998] detected\n",
      "--- Evolve in 15344640 possible combinations ---\n",
      "gen\tnevals\tavg     \tmin     \tmax     \tstd      \n",
      "0  \t100   \t0.808624\t0.627517\t0.842282\t0.0304962\n",
      "1  \t74    \t0.819463\t0.627517\t0.842282\t0.0234636\n",
      "2  \t70    \t0.827181\t0.748322\t0.842282\t0.0128987\n",
      "3  \t55    \t0.828289\t0.627517\t0.842282\t0.0284852\n",
      "4  \t60    \t0.835034\t0.699664\t0.840604\t0.0148523\n",
      "5  \t58    \t0.83693 \t0.788591\t0.840604\t0.00809099\n",
      "6  \t53    \t0.835822\t0.709732\t0.842282\t0.0180451 \n",
      "7  \t61    \t0.838238\t0.807047\t0.842282\t0.00533808\n",
      "8  \t51    \t0.838993\t0.803691\t0.842282\t0.00442597\n",
      "9  \t64    \t0.837718\t0.72651 \t0.842282\t0.0126721 \n",
      "10 \t59    \t0.83698 \t0.652685\t0.84396 \t0.0189764 \n",
      "Best individual is: {'learning_rate': 0.01, 'max_depth': 4, 'max_features': 'sqrt', 'min_samples_leaf': 5, 'min_samples_split': 4, 'n_estimators': 440}\n",
      "with fitness: 0.8439597315436241\n",
      "best parameters: {'learning_rate': 0.01, 'max_depth': 4, 'max_features': 'sqrt', 'min_samples_leaf': 5, 'min_samples_split': 4, 'n_estimators': 440}\n",
      "Mean cross-validated score of the best_estimator:  0.8439597315436241\n"
     ]
    },
    {
     "ename": "AttributeError",
     "evalue": "'EvolutionaryAlgorithmSearchCV' object has no attribute 'multimetric_'",
     "output_type": "error",
     "traceback": [
      "\u001b[0;31m---------------------------------------------------------------------------\u001b[0m",
      "\u001b[0;31mAttributeError\u001b[0m                            Traceback (most recent call last)",
      "\u001b[0;32m<ipython-input-105-a3fd2d002acf>\u001b[0m in \u001b[0;36m<module>\u001b[0;34m()\u001b[0m\n\u001b[1;32m     31\u001b[0m \u001b[0mprint\u001b[0m\u001b[0;34m(\u001b[0m\u001b[0;34m\"best parameters:\"\u001b[0m\u001b[0;34m,\u001b[0m \u001b[0mea_search\u001b[0m\u001b[0;34m.\u001b[0m\u001b[0mbest_params_\u001b[0m\u001b[0;34m)\u001b[0m\u001b[0;34m\u001b[0m\u001b[0m\n\u001b[1;32m     32\u001b[0m \u001b[0mprint\u001b[0m\u001b[0;34m(\u001b[0m\u001b[0;34m\"Mean cross-validated score of the best_estimator: \"\u001b[0m\u001b[0;34m,\u001b[0m \u001b[0mea_search\u001b[0m\u001b[0;34m.\u001b[0m\u001b[0mbest_score_\u001b[0m\u001b[0;34m)\u001b[0m\u001b[0;34m\u001b[0m\u001b[0m\n\u001b[0;32m---> 33\u001b[0;31m \u001b[0mprint\u001b[0m\u001b[0;34m(\u001b[0m\u001b[0;34m\"test: \"\u001b[0m\u001b[0;34m,\u001b[0m \u001b[0mea_search\u001b[0m\u001b[0;34m.\u001b[0m\u001b[0mscore\u001b[0m\u001b[0;34m(\u001b[0m\u001b[0mX_test\u001b[0m\u001b[0;34m,\u001b[0m \u001b[0my_test\u001b[0m\u001b[0;34m)\u001b[0m\u001b[0;34m)\u001b[0m\u001b[0;34m\u001b[0m\u001b[0m\n\u001b[0m\u001b[1;32m     34\u001b[0m \u001b[0mprint\u001b[0m\u001b[0;34m(\u001b[0m\u001b[0;34m\"confusion matrix: \"\u001b[0m\u001b[0;34m,\u001b[0m \u001b[0mconfusion_matrix\u001b[0m\u001b[0;34m(\u001b[0m\u001b[0my_test\u001b[0m\u001b[0;34m,\u001b[0m \u001b[0mea_search\u001b[0m\u001b[0;34m.\u001b[0m\u001b[0mbest_estimator_\u001b[0m\u001b[0;34m.\u001b[0m\u001b[0mpredict\u001b[0m\u001b[0;34m(\u001b[0m\u001b[0mX_test\u001b[0m\u001b[0;34m)\u001b[0m\u001b[0;34m)\u001b[0m\u001b[0;34m)\u001b[0m\u001b[0;34m\u001b[0m\u001b[0m\n\u001b[1;32m     35\u001b[0m \u001b[0mprint\u001b[0m\u001b[0;34m(\u001b[0m\u001b[0;34m\"\"\u001b[0m\u001b[0;34m)\u001b[0m\u001b[0;34m\u001b[0m\u001b[0m\n",
      "\u001b[0;32m~/.local/lib/python3.6/site-packages/sklearn/model_selection/_search.py\u001b[0m in \u001b[0;36mscore\u001b[0;34m(self, X, y)\u001b[0m\n\u001b[1;32m    435\u001b[0m                              \u001b[0;34m\"and the estimator doesn't provide one %s\"\u001b[0m\u001b[0;34m\u001b[0m\u001b[0m\n\u001b[1;32m    436\u001b[0m                              % self.best_estimator_)\n\u001b[0;32m--> 437\u001b[0;31m         \u001b[0mscore\u001b[0m \u001b[0;34m=\u001b[0m \u001b[0mself\u001b[0m\u001b[0;34m.\u001b[0m\u001b[0mscorer_\u001b[0m\u001b[0;34m[\u001b[0m\u001b[0mself\u001b[0m\u001b[0;34m.\u001b[0m\u001b[0mrefit\u001b[0m\u001b[0;34m]\u001b[0m \u001b[0;32mif\u001b[0m \u001b[0mself\u001b[0m\u001b[0;34m.\u001b[0m\u001b[0mmultimetric_\u001b[0m \u001b[0;32melse\u001b[0m \u001b[0mself\u001b[0m\u001b[0;34m.\u001b[0m\u001b[0mscorer_\u001b[0m\u001b[0;34m\u001b[0m\u001b[0m\n\u001b[0m\u001b[1;32m    438\u001b[0m         \u001b[0;32mreturn\u001b[0m \u001b[0mscore\u001b[0m\u001b[0;34m(\u001b[0m\u001b[0mself\u001b[0m\u001b[0;34m.\u001b[0m\u001b[0mbest_estimator_\u001b[0m\u001b[0;34m,\u001b[0m \u001b[0mX\u001b[0m\u001b[0;34m,\u001b[0m \u001b[0my\u001b[0m\u001b[0;34m)\u001b[0m\u001b[0;34m\u001b[0m\u001b[0m\n\u001b[1;32m    439\u001b[0m \u001b[0;34m\u001b[0m\u001b[0m\n",
      "\u001b[0;31mAttributeError\u001b[0m: 'EvolutionaryAlgorithmSearchCV' object has no attribute 'multimetric_'"
     ]
    }
   ],
   "source": [
    "# !!!!! without disabling warning, too much output and freezed almost!!!!\n",
    "# neet to watch output everytime\n",
    "\n",
    "param_distributions = {\n",
    "    #'learning_rate': sp.stats.uniform(0.001, 0.5),\n",
    "    'learning_rate': [0.001, 0.005, 0.007, 0.01, 0.02, 0.05, 0.1, 0.2],\n",
    "    'max_depth':[1,2,3,4,5,6,7,8,9,10],\n",
    "    'max_features': [None, 'sqrt', 'log2'],\n",
    "    'min_samples_leaf': [1, 2, 3, 4, 5, 6,7,8],\n",
    "    'min_samples_split':[2, 3, 4, 5, 6,7,8,9],\n",
    "#    'n_estimators': [3, 5, 7, 10, 50, 100, 200, 300, 400, 500],\n",
    "    'n_estimators': range(1,1000),\n",
    "}\n",
    "\n",
    "from evolutionary_search import EvolutionaryAlgorithmSearchCV\n",
    "\n",
    "ea_search = EvolutionaryAlgorithmSearchCV(estimator=GradientBoostingClassifier(),\n",
    "                                   params=param_distributions,\n",
    "                                   scoring=\"accuracy\",\n",
    "                                   cv=StratifiedKFold(n_splits=4),\n",
    "                                   verbose=1,\n",
    "                                   population_size=100,\n",
    "                                   gene_mutation_prob=0.10,\n",
    "                                   gene_crossover_prob=0.5,\n",
    "                                   tournament_size=3,\n",
    "                                   generations_number=10,\n",
    "                                   n_jobs=6)\n",
    "ea_search.fit(X_train, y_train)\n",
    "\n",
    "\n",
    "print(\"best parameters:\", ea_search.best_params_)\n",
    "print(\"Mean cross-validated score of the best_estimator: \", ea_search.best_score_)\n",
    "print(\"test: \", ea_search.score(X_test, y_test))\n",
    "print(\"confusion matrix: \", confusion_matrix(y_test, ea_search.best_estimator_.predict(X_test)))\n",
    "print(\"\")\n",
    "report2(ea_search.cv_results_, n_top=10)"
   ]
  },
  {
   "cell_type": "code",
   "execution_count": null,
   "metadata": {},
   "outputs": [],
   "source": []
  },
  {
   "cell_type": "raw",
   "metadata": {},
   "source": [
    "param_grid = [\n",
    "{'classifier': [SVC()], \n",
    " 'preprocessing': [StandardScaler(), None], \n",
    " 'classifier__gamma': [0.001, 0.01, 0.1, 1, 10, 100], \n",
    " 'classifier__C': [0.001, 0.01, 0.1, 1, 10, 100]},\n",
    "{'classifier': [RandomForestClassifier(n_estimators=100)], \n",
    " 'preprocessing': [None], \n",
    " 'classifier__max_features': [1, 2, 3]}]"
   ]
  },
  {
   "cell_type": "raw",
   "metadata": {},
   "source": [
    "# Individual steps may also be replaced as parameters, and non-final steps may be ignored by setting them to None:\n",
    "# http://scikit-learn.org/stable/modules/pipeline.html\n",
    "\n",
    "from sklearn.linear_model import LogisticRegression\n",
    "param_grid = dict(reduce_dim=[None, PCA(5), PCA(10)],\n",
    "                   clf=[SVC(), LogisticRegression()],\n",
    "                   clf__C=[0.1, 10, 100])\n",
    "grid_search = GridSearchCV(pipe, param_grid=param_grid)"
   ]
  }
 ],
 "metadata": {
  "kernelspec": {
   "display_name": "Python 3",
   "language": "python",
   "name": "python3"
  },
  "language_info": {
   "codemirror_mode": {
    "name": "ipython",
    "version": 3
   },
   "file_extension": ".py",
   "mimetype": "text/x-python",
   "name": "python",
   "nbconvert_exporter": "python",
   "pygments_lexer": "ipython3",
   "version": "3.6.4"
  }
 },
 "nbformat": 4,
 "nbformat_minor": 2
}
