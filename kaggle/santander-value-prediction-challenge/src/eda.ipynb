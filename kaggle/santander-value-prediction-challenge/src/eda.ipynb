{
 "cells": [
  {
   "cell_type": "code",
   "execution_count": null,
   "metadata": {
    "_uuid": "e459ee3754132b61ab349eecdfbdd333a93b80b1",
    "collapsed": true
   },
   "outputs": [],
   "source": []
  },
  {
   "cell_type": "markdown",
   "metadata": {},
   "source": [
    "# init"
   ]
  },
  {
   "cell_type": "code",
   "execution_count": 1,
   "metadata": {
    "_uuid": "3667b38d14a7f7278c6c2c6f99cae4b1ebd74976",
    "collapsed": true
   },
   "outputs": [],
   "source": [
    "%matplotlib inline"
   ]
  },
  {
   "cell_type": "code",
   "execution_count": 2,
   "metadata": {
    "_cell_guid": "b1076dfc-b9ad-4769-8c92-a6c4dae69d19",
    "_uuid": "8f2839f25d086af736a60e9eeb907d3b93b6e0e5",
    "collapsed": true,
    "scrolled": true
   },
   "outputs": [
    {
     "name": "stdout",
     "output_type": "stream",
     "text": [
      "['sample_submission.csv', 'sample_submission.csv.zip', 'test.csv', 'test.csv.zip', 'train.csv', 'train.csv.zip']\n"
     ]
    }
   ],
   "source": [
    "import numpy as np # linear algebra\n",
    "import pandas as pd # data processing, CSV file I/O (e.g. pd.read_csv)\n",
    "\n",
    "import os\n",
    "print(os.listdir(\"../input\"))\n"
   ]
  },
  {
   "cell_type": "code",
   "execution_count": 3,
   "metadata": {
    "_cell_guid": "146f2f45-7136-4a87-a674-c1ea4b89cc33",
    "_uuid": "c7ccf983dddbd502eea5fc4d380e57fc7fb7da05",
    "collapsed": true,
    "scrolled": false
   },
   "outputs": [
    {
     "name": "stderr",
     "output_type": "stream",
     "text": [
      "C:\\Program Files\\Anaconda3\\lib\\site-packages\\pandas_profiling\\plot.py:15: UserWarning: \n",
      "This call to matplotlib.use() has no effect because the backend has already\n",
      "been chosen; matplotlib.use() must be called *before* pylab, matplotlib.pyplot,\n",
      "or matplotlib.backends is imported for the first time.\n",
      "\n",
      "The backend was *originally* set to 'module://ipykernel.pylab.backend_inline' by the following code:\n",
      "  File \"C:\\Program Files\\Anaconda3\\lib\\runpy.py\", line 193, in _run_module_as_main\n",
      "    \"__main__\", mod_spec)\n",
      "  File \"C:\\Program Files\\Anaconda3\\lib\\runpy.py\", line 85, in _run_code\n",
      "    exec(code, run_globals)\n",
      "  File \"C:\\Program Files\\Anaconda3\\lib\\site-packages\\ipykernel\\__main__.py\", line 3, in <module>\n",
      "    app.launch_new_instance()\n",
      "  File \"C:\\Program Files\\Anaconda3\\lib\\site-packages\\traitlets\\config\\application.py\", line 658, in launch_instance\n",
      "    app.start()\n",
      "  File \"C:\\Program Files\\Anaconda3\\lib\\site-packages\\ipykernel\\kernelapp.py\", line 486, in start\n",
      "    self.io_loop.start()\n",
      "  File \"C:\\Program Files\\Anaconda3\\lib\\site-packages\\tornado\\platform\\asyncio.py\", line 127, in start\n",
      "    self.asyncio_loop.run_forever()\n",
      "  File \"C:\\Program Files\\Anaconda3\\lib\\asyncio\\base_events.py\", line 422, in run_forever\n",
      "    self._run_once()\n",
      "  File \"C:\\Program Files\\Anaconda3\\lib\\asyncio\\base_events.py\", line 1434, in _run_once\n",
      "    handle._run()\n",
      "  File \"C:\\Program Files\\Anaconda3\\lib\\asyncio\\events.py\", line 145, in _run\n",
      "    self._callback(*self._args)\n",
      "  File \"C:\\Program Files\\Anaconda3\\lib\\site-packages\\tornado\\platform\\asyncio.py\", line 117, in _handle_events\n",
      "    handler_func(fileobj, events)\n",
      "  File \"C:\\Program Files\\Anaconda3\\lib\\site-packages\\tornado\\stack_context.py\", line 276, in null_wrapper\n",
      "    return fn(*args, **kwargs)\n",
      "  File \"C:\\Program Files\\Anaconda3\\lib\\site-packages\\zmq\\eventloop\\zmqstream.py\", line 450, in _handle_events\n",
      "    self._handle_recv()\n",
      "  File \"C:\\Program Files\\Anaconda3\\lib\\site-packages\\zmq\\eventloop\\zmqstream.py\", line 480, in _handle_recv\n",
      "    self._run_callback(callback, msg)\n",
      "  File \"C:\\Program Files\\Anaconda3\\lib\\site-packages\\zmq\\eventloop\\zmqstream.py\", line 432, in _run_callback\n",
      "    callback(*args, **kwargs)\n",
      "  File \"C:\\Program Files\\Anaconda3\\lib\\site-packages\\tornado\\stack_context.py\", line 276, in null_wrapper\n",
      "    return fn(*args, **kwargs)\n",
      "  File \"C:\\Program Files\\Anaconda3\\lib\\site-packages\\ipykernel\\kernelbase.py\", line 283, in dispatcher\n",
      "    return self.dispatch_shell(stream, msg)\n",
      "  File \"C:\\Program Files\\Anaconda3\\lib\\site-packages\\ipykernel\\kernelbase.py\", line 233, in dispatch_shell\n",
      "    handler(stream, idents, msg)\n",
      "  File \"C:\\Program Files\\Anaconda3\\lib\\site-packages\\ipykernel\\kernelbase.py\", line 399, in execute_request\n",
      "    user_expressions, allow_stdin)\n",
      "  File \"C:\\Program Files\\Anaconda3\\lib\\site-packages\\ipykernel\\ipkernel.py\", line 208, in do_execute\n",
      "    res = shell.run_cell(code, store_history=store_history, silent=silent)\n",
      "  File \"C:\\Program Files\\Anaconda3\\lib\\site-packages\\ipykernel\\zmqshell.py\", line 537, in run_cell\n",
      "    return super(ZMQInteractiveShell, self).run_cell(*args, **kwargs)\n",
      "  File \"C:\\Program Files\\Anaconda3\\lib\\site-packages\\IPython\\core\\interactiveshell.py\", line 2666, in run_cell\n",
      "    self.events.trigger('post_run_cell', result)\n",
      "  File \"C:\\Program Files\\Anaconda3\\lib\\site-packages\\IPython\\core\\events.py\", line 88, in trigger\n",
      "    func(*args, **kwargs)\n",
      "  File \"C:\\Program Files\\Anaconda3\\lib\\site-packages\\ipykernel\\pylab\\backend_inline.py\", line 160, in configure_once\n",
      "    activate_matplotlib(backend)\n",
      "  File \"C:\\Program Files\\Anaconda3\\lib\\site-packages\\IPython\\core\\pylabtools.py\", line 311, in activate_matplotlib\n",
      "    matplotlib.pyplot.switch_backend(backend)\n",
      "  File \"C:\\Program Files\\Anaconda3\\lib\\site-packages\\matplotlib\\pyplot.py\", line 231, in switch_backend\n",
      "    matplotlib.use(newbackend, warn=False, force=True)\n",
      "  File \"C:\\Program Files\\Anaconda3\\lib\\site-packages\\matplotlib\\__init__.py\", line 1410, in use\n",
      "    reload(sys.modules['matplotlib.backends'])\n",
      "  File \"C:\\Program Files\\Anaconda3\\lib\\importlib\\__init__.py\", line 166, in reload\n",
      "    _bootstrap._exec(spec, module)\n",
      "  File \"C:\\Program Files\\Anaconda3\\lib\\site-packages\\matplotlib\\backends\\__init__.py\", line 16, in <module>\n",
      "    line for line in traceback.format_stack()\n",
      "\n",
      "\n",
      "  matplotlib.use(BACKEND)\n"
     ]
    }
   ],
   "source": [
    "import mlxtend\n",
    "import pandas_profiling\n",
    "\n",
    "import seaborn as sns\n",
    "\n",
    "from scipy import stats\n",
    "from scipy.stats import norm, skew #for some statistics\n",
    "\n",
    "import matplotlib.pyplot as plt\n",
    "\n",
    "\n",
    "from tqdm import tqdm\n"
   ]
  },
  {
   "cell_type": "code",
   "execution_count": 4,
   "metadata": {
    "_cell_guid": "79c7e3d0-c299-4dcb-8224-4455121ee9b0",
    "_uuid": "d629ff2d2480ee46fbb7e2d37f6b5fab8052498a",
    "collapsed": true,
    "scrolled": true
   },
   "outputs": [
    {
     "name": "stdout",
     "output_type": "stream",
     "text": [
      "Wall time: 3.9 s\n"
     ]
    }
   ],
   "source": [
    "%%time\n",
    "train_df = pd.read_csv(\"../input/train.csv\")\n"
   ]
  },
  {
   "cell_type": "code",
   "execution_count": 5,
   "metadata": {
    "_uuid": "0c312371b3dc2d71311371d133f79c46d771a89c",
    "collapsed": true
   },
   "outputs": [
    {
     "data": {
      "text/plain": [
       "(4459, 4993)"
      ]
     },
     "execution_count": 5,
     "metadata": {},
     "output_type": "execute_result"
    }
   ],
   "source": [
    "train_df.shape"
   ]
  },
  {
   "cell_type": "code",
   "execution_count": 6,
   "metadata": {
    "_uuid": "4754e1ec02444dff2ba09dc55778dab923b4d523",
    "collapsed": true
   },
   "outputs": [],
   "source": [
    "TRAIN_SIZE = train_df.shape[0]"
   ]
  },
  {
   "cell_type": "code",
   "execution_count": 7,
   "metadata": {
    "_uuid": "51edb6e160626da1ffafe62adeb6a577208c59ac",
    "collapsed": true
   },
   "outputs": [
    {
     "name": "stdout",
     "output_type": "stream",
     "text": [
      "Wall time: 54.7 s\n"
     ]
    }
   ],
   "source": [
    "%%time\n",
    "#test_df = pd.read_csv(\"../input/test.csv\", nrows=TRAIN_SIZE)\n",
    "test_df = pd.read_csv(\"../input/test.csv\")\n"
   ]
  },
  {
   "cell_type": "raw",
   "metadata": {
    "_uuid": "37b774a251528bffdff0359e00a1f12f73eac2ea"
   },
   "source": [
    "%%time\n",
    "train_df.head()"
   ]
  },
  {
   "cell_type": "raw",
   "metadata": {
    "_cell_guid": "0ebfb2fa-2344-4c99-9d17-5ada90f22705",
    "_uuid": "bb1e12878db2f74ce89bfc913712742f31e24b25"
   },
   "source": [
    "%%time\n",
    "test_df.head()"
   ]
  },
  {
   "cell_type": "code",
   "execution_count": null,
   "metadata": {
    "_uuid": "6af23fce60b5a3eb928f7075c715343e0623ea21",
    "collapsed": true
   },
   "outputs": [],
   "source": []
  },
  {
   "cell_type": "markdown",
   "metadata": {
    "_uuid": "252d02c68bbbca9924bcb8e1f792540fd43c9ea2"
   },
   "source": [
    "# defining useful functions"
   ]
  },
  {
   "cell_type": "code",
   "execution_count": 8,
   "metadata": {
    "_uuid": "33056a35c8466ce5811f089b8b131b67f6e22bee",
    "code_folding": [
     34
    ],
    "collapsed": true
   },
   "outputs": [],
   "source": [
    "\n",
    "%matplotlib inline\n",
    "\n",
    "import os\n",
    "\n",
    "import numpy as np\n",
    "import pandas as pd\n",
    "from scipy import stats\n",
    "from scipy.stats import norm, skew #for some statistics\n",
    "\n",
    "import matplotlib.pyplot as plt\n",
    "import seaborn as sns\n",
    "\n",
    "from sklearn.model_selection import cross_val_score, train_test_split\n",
    "from sklearn.model_selection import learning_curve\n",
    "\n",
    "import mlxtend\n",
    "from mlxtend.plotting import plot_learning_curves\n",
    "\n",
    "import pandas_profiling\n",
    "\n",
    "\n",
    "\n",
    "\n",
    "\n",
    "def checkNaValues(dataframe):\n",
    "    \"\"\"check nan values in dataframe\"\"\"\n",
    "    \n",
    "    print(\"\\n# Is there any nan values?: \", dataframe.isna().all().all())\n",
    "    \n",
    "    print(\"## detail missing data ratio\")\n",
    "    #if dataframe.isna().all().all()\n",
    "    dataframe_na = (dataframe.isna().sum()/len(dataframe))*100\n",
    "    print(dataframe_na)\n",
    "    dataframe_na = dataframe_na.drop(\n",
    "        dataframe_na[dataframe_na == 0].index\n",
    "    ).sort_values(ascending=False)\n",
    "    missing_data = pd.DataFrame({'Missing Ratio':dataframe_na})\n",
    "    print(missing_data)\n",
    "    \n",
    "    \n",
    "    \"\"\"there is error. so not implemented yet\n",
    "    # just plot the rate\n",
    "    f, ax = plt.subplots(figsize=(15, 12))\n",
    "    plt.xticks(rotation='90')\n",
    "    sns.barplot(x=dataframe_na.index, y=dataframe_na.values)\n",
    "    plt.xlabel('Features', fontsize=15)\n",
    "    plt.ylabel('Percent of missing values', fontsize=15)\n",
    "    plt.title('Percent missing data by feature', fontsize=15)\n",
    "    \"\"\"\n",
    "\n",
    "    \n",
    "def checkObjTypeColumns(dataframe):\n",
    "    \"\"\"Check object dtype columns\"\"\"\n",
    "\n",
    "    print(\"\\n# object dtype columns\")\n",
    "    # object dtypeの列名からその列のデータのみを抽出\n",
    "    df_object_type = dataframe[dataframe.select_dtypes(['object']).columns]\n",
    "    #df_object_type = dataframe[[x for x in dataframe.columns if dataframe[x].dtypes == \"object\"]]\n",
    "    print(df_object_type.head())\n",
    "    #print(df_object_type.info()) # not useful info\n",
    "    print(df_object_type.describe())\n",
    "\n",
    "    \n",
    "def checkValueCounts(dataframe):\n",
    "    \"\"\"check value counts of each features and find boolean feature or not.\"\"\"\n",
    "\n",
    "    print(\"# value_counts of each feature: \")\n",
    "    for column in dataframe.columns:\n",
    "        #print(\"## \", column, \": \")\n",
    "        #print(dataframe[column].value_counts().head())\n",
    "        value_counts = dataframe[column].value_counts().shape[0]\n",
    "        if value_counts == 1:\n",
    "            print(column, \" -> single value. value count:  \", dataframe[column].value_counts().shape[0])            \n",
    "        elif value_counts == 2:\n",
    "            print(column, \" -> maybe boolean. value count:  \", dataframe[column].value_counts().shape[0])\n",
    "        else:\n",
    "            print(column, \" -> not boolean. value count:  \", dataframe[column].value_counts().shape[0])\n",
    "            \n",
    "\n",
    "def findSingleValueColmuns(dataframe):\n",
    "    \"\"\"check value counts of each features and find single value feature.\n",
    "    Such column is no meaning to learn.\n",
    "    \"\"\"\n",
    "\n",
    "    single_val_columns = []\n",
    "    for column in dataframe.columns:\n",
    "        value_counts = dataframe[column].value_counts().shape[0]\n",
    "        if value_counts == 1:\n",
    "            single_val_columns.append(column)\n",
    "    return single_val_columns\n",
    "\n",
    "            \n",
    "def checkCorrelationOfFeatures(dataframe):\n",
    "    \"\"\"check correlation matix of each features\"\"\"\n",
    "\n",
    "    # plot corr\n",
    "    print(\"\\n# correlation matrix\")\n",
    "    corrmat = dataframe.corr()\n",
    "    plt.subplots(figsize=(12,9))\n",
    "    sns.heatmap(corrmat, vmax=0.9, square=True)\n",
    "    plt.show()\n",
    "    print(corrmat)\n",
    "    print()\n",
    "    \n",
    "    corr_values = corrmat.iloc[0]\n",
    "    print(\"## highest correlation: \", corr_values.sort_values().head())\n",
    "    print(\"## lowest correlation: \", corr_values.sort_values().tail())\n",
    "\n",
    "    \n",
    "def checkSkewness(dataframe):\n",
    "    \"\"\"check skewness of each features\"\"\"\n",
    "    \n",
    "    #numeric_feats = dataframe.dtypes[all_data.dtypes != \"object\"].index\n",
    "    numeric_feats = dataframe.select_dtypes(exclude=['object'])\n",
    "    #print(numeric_feats)\n",
    "    # Check the skew of all numerical features\n",
    "    skewed_feats = numeric_feats.apply(\n",
    "        lambda x: skew(x.dropna())).sort_values(ascending=False)\n",
    "    print(\"\\n# Skew in numerical features: \\n\")\n",
    "    skewness = pd.DataFrame({'Skew' :skewed_feats})\n",
    "    print(skewness)\n",
    "    \n",
    "    return skewness\n",
    "    \n",
    "    \n",
    "def checkAllDataInfo(dataframe):\n",
    "    \"\"\"print all dataframe info\"\"\"\n",
    "\n",
    "    print(dataframe.head())\n",
    "    print(\"\\n# shape: \", dataframe.shape)\n",
    "    print(\"\\n# columns names: \", train_df.columns.values)\n",
    "    \n",
    "    print(\"\\n# df.info(): \")\n",
    "    print(dataframe.info())\n",
    "    #print(\"\\n# counts dtypes: \\n\", dataframe.dtypes.value_counts())# it is included in dataframe.info()\n",
    "\n",
    "    print(\"\\n# df.describe(): \")\n",
    "    print(dataframe.describe())\n",
    "    print()\n",
    "    \n",
    "    #print()\n",
    "    #pandas_profiling.ProfileReport(dataframe)\n",
    "    print()\n",
    "    checkNaValues(dataframe)\n",
    "    print()\n",
    "    checkObjTypeColumns(dataframe)\n",
    "    print()\n",
    "    checkValueCounts(dataframe)\n",
    "    print()\n",
    "    #checkCorrelationOfFeatures(dataframe)\n",
    "    \n",
    "    print()\n",
    "    checkSkewness(dataframe)\n",
    "    \n",
    "    \n",
    "    \n",
    "def my_plot_learning_curve(estimator, title, X, y, ylim=None, cv=None,\n",
    "                        scoring=\"r2\",\n",
    "                        n_jobs=1, train_sizes=np.linspace(.1, 1.0, 5)):\n",
    "    \"\"\"\n",
    "    Generate a simple plot of the test and training learning curve.\n",
    "\n",
    "    Parameters\n",
    "    ----------\n",
    "    estimator : object type that implements the \"fit\" and \"predict\" methods\n",
    "        An object of that type which is cloned for each validation.\n",
    "\n",
    "    title : string\n",
    "        Title for the chart.\n",
    "\n",
    "    X : array-like, shape (n_samples, n_features)\n",
    "        Training vector, where n_samples is the number of samples and\n",
    "        n_features is the number of features.\n",
    "\n",
    "    y : array-like, shape (n_samples) or (n_samples, n_features), optional\n",
    "        Target relative to X for classification or regression;\n",
    "        None for unsupervised learning.\n",
    "\n",
    "    ylim : tuple, shape (ymin, ymax), optional\n",
    "        Defines minimum and maximum yvalues plotted.\n",
    "\n",
    "    cv : int, cross-validation generator or an iterable, optional\n",
    "        Determines the cross-validation splitting strategy.\n",
    "        Possible inputs for cv are:\n",
    "          - None, to use the default 3-fold cross-validation,\n",
    "          - integer, to specify the number of folds.\n",
    "          - An object to be used as a cross-validation generator.\n",
    "          - An iterable yielding train/test splits.\n",
    "\n",
    "        For integer/None inputs, if ``y`` is binary or multiclass,\n",
    "        :class:`StratifiedKFold` used. If the estimator is not a classifier\n",
    "        or if ``y`` is neither binary nor multiclass, :class:`KFold` is used.\n",
    "\n",
    "        Refer :ref:`User Guide <cross_validation>` for the various\n",
    "        cross-validators that can be used here.\n",
    "\n",
    "    n_jobs : integer, optional\n",
    "        Number of jobs to run in parallel (default 1).\n",
    "    \"\"\"\n",
    "    plt.figure()\n",
    "    plt.title(title)\n",
    "    if ylim is not None:\n",
    "        plt.ylim(*ylim)\n",
    "    plt.xlabel(\"Training examples\")\n",
    "    plt.ylabel(\"Score\")\n",
    "    train_sizes, train_scores, test_scores = learning_curve(\n",
    "        estimator, X, y, cv=cv, scoring=scoring, n_jobs=n_jobs, train_sizes=train_sizes)\n",
    "    train_scores_mean = np.mean(train_scores, axis=1)\n",
    "    train_scores_std = np.std(train_scores, axis=1)\n",
    "    test_scores_mean = np.mean(test_scores, axis=1)\n",
    "    test_scores_std = np.std(test_scores, axis=1)\n",
    "    plt.grid()\n",
    "\n",
    "    plt.fill_between(train_sizes, train_scores_mean - train_scores_std,\n",
    "                     train_scores_mean + train_scores_std, alpha=0.1,\n",
    "                     color=\"r\")\n",
    "    plt.fill_between(train_sizes, test_scores_mean - test_scores_std,\n",
    "                     test_scores_mean + test_scores_std, alpha=0.1, color=\"g\")\n",
    "    plt.plot(train_sizes, train_scores_mean, 'o-', color=\"r\",\n",
    "             label=\"Training score\")\n",
    "    plt.plot(train_sizes, test_scores_mean, 'o-', color=\"g\",\n",
    "             label=\"Cross-validation score\")\n",
    "\n",
    "    plt.legend(loc=\"best\")\n",
    "    return plt\n",
    "\n",
    "\n",
    "\n",
    "def checkTargetInfo(dataframe, target_name=\"y\"):\n",
    "    \"\"\"print target y value info\"\"\"\n",
    " \n",
    "    # plot distribution\n",
    "    sns.distplot(train_df[target_name], fit=norm)\n",
    "    (mu, sigma) = norm.fit(train_df[target_name])\n",
    "    print(\"mu, sigma:\", mu, sigma)\n",
    "\n",
    "    plt.legend(['Normal dist. ($\\mu=$ {:.2f} and $\\sigma=$ {:.2f} )'.format(mu, sigma)],\n",
    "                loc='best')\n",
    "    plt.ylabel('Frequency')\n",
    "    plt.title('target value distribution')\n",
    "\n",
    "    \n",
    "    # plot skewness\n",
    "\n",
    "    #print(\"skewness of y\", skew(dataframe[target_name]))\n",
    "    print(\"skewness of y\", train_df[target_name].skew())\n",
    "    fig = plt.figure()\n",
    "    res = stats.probplot(train_df[target_name], plot=plt)\n",
    "    plt.show()\n",
    "\n",
    "    \n",
    "    \n",
    "def checkCorrelationOfSelectedFeatures(dataframe, columns):\n",
    "    \"\"\"check correlation matix of each features\"\"\"\n",
    "\n",
    "    # plot corr\n",
    "    print(\"\\n# correlation matrix\")\n",
    "    corrmat = dataframe[columns].corr()\n",
    "    plt.subplots(figsize=(12,9))\n",
    "    sns.heatmap(corrmat, vmax=0.9, square=True, annot=True)\n",
    "    plt.show()\n",
    "    print(corrmat)\n",
    "    \n",
    "\n",
    "    \n",
    "def splitToIdTargetFeatures(dataframe, id_name, target_name):\n",
    "    \"\"\"split train df to data, id and taret dataframes\n",
    "    \"\"\"\n",
    "    id_df = dataframe[id_name]\n",
    "    target_df = dataframe[target_name]\n",
    "    features_df = dataframe.drop([id_name, target_name], axis=1)\n",
    "    \n",
    "    return id_df, target_df, features_df\n",
    "\n",
    "\n"
   ]
  },
  {
   "cell_type": "markdown",
   "metadata": {
    "_uuid": "265f20419600ef026c3b8fe35d5ca8101e3fba63"
   },
   "source": [
    "# EDA"
   ]
  },
  {
   "cell_type": "markdown",
   "metadata": {
    "_uuid": "2ebbca87e4400693c8d2703a0aaa37dbdf02848e"
   },
   "source": [
    "## general info"
   ]
  },
  {
   "cell_type": "raw",
   "metadata": {
    "_uuid": "6c27f2a7ade9476cf76bf41a8514f256c757c9bd"
   },
   "source": [
    "%%time\n",
    "checkAllDataInfo(train_df)"
   ]
  },
  {
   "cell_type": "raw",
   "metadata": {
    "_uuid": "8c9853766c7b8ec4845bac641733fb4c794051f8"
   },
   "source": [
    "%%time\n",
    "checkAllDataInfo(test_df)"
   ]
  },
  {
   "cell_type": "code",
   "execution_count": null,
   "metadata": {
    "_uuid": "9deff4965292041304fa60b8e66935c7d3a192f2",
    "collapsed": true
   },
   "outputs": [],
   "source": []
  },
  {
   "cell_type": "raw",
   "metadata": {
    "_uuid": "04f001485387a5589f3910fe25455f922b02278c"
   },
   "source": [
    "train_df.describe()"
   ]
  },
  {
   "cell_type": "raw",
   "metadata": {
    "_uuid": "9aa1484a3a6bdc1cc44a6989d6a5a85ccee7ed49"
   },
   "source": [
    "test_df.describe()"
   ]
  },
  {
   "cell_type": "code",
   "execution_count": null,
   "metadata": {
    "_uuid": "2aaf498dfb0b840b62956795aac85c5182628d30",
    "collapsed": true
   },
   "outputs": [],
   "source": []
  },
  {
   "cell_type": "markdown",
   "metadata": {
    "_uuid": "3b4fcbab9c223df74e904a60bccec10d1ab6bf5a"
   },
   "source": [
    "## checking in details"
   ]
  },
  {
   "cell_type": "raw",
   "metadata": {
    "_uuid": "e4ea0e22459c1c243edee24fc7aaa8038beb492e"
   },
   "source": [
    "train_df.iloc[0, :].describe()"
   ]
  },
  {
   "cell_type": "raw",
   "metadata": {
    "_uuid": "88de0feb8aa6cf48dc75c5ac14048b97d8cdcc8e"
   },
   "source": [
    "for column in train_df.columns:\n",
    "    print(column, train_df[column].value_counts().shape[0])"
   ]
  },
  {
   "cell_type": "raw",
   "metadata": {
    "_uuid": "4b7c4d6f03f6b0348dcf7eaab862d7b3f415db4d"
   },
   "source": [
    "for column in train_df.columns:\n",
    "    if train_df[column].value_counts().shape[0] <= 1:\n",
    "        print(train_df[column].value_counts())\n",
    "        print()"
   ]
  },
  {
   "cell_type": "raw",
   "metadata": {
    "_uuid": "c408c7d6b66236e80f06a1e053ceccda587ce3a0"
   },
   "source": [
    "for column in train_df.columns:\n",
    "    print(train_df[column].value_counts())\n",
    "    print()"
   ]
  },
  {
   "cell_type": "raw",
   "metadata": {
    "_uuid": "5463cf6041380f4c9ef304177e1e49f780463d33"
   },
   "source": [
    "for column in train_df.columns:\n",
    "    if train_df[column].value_counts().shape[0] == 2:\n",
    "        print(train_df[column].value_counts())\n",
    "        print()"
   ]
  },
  {
   "cell_type": "code",
   "execution_count": null,
   "metadata": {
    "_uuid": "b831ac2217b12608c7558b87ff3f561d486a6962",
    "collapsed": true
   },
   "outputs": [],
   "source": []
  },
  {
   "cell_type": "code",
   "execution_count": null,
   "metadata": {
    "_uuid": "f9d01c92741f137570d75381cd043f614a7219da",
    "collapsed": true
   },
   "outputs": [],
   "source": []
  },
  {
   "cell_type": "markdown",
   "metadata": {
    "_uuid": "46cca2c7db1b434a440754067d64653906b1962f"
   },
   "source": [
    "## checkTargetInfo"
   ]
  },
  {
   "cell_type": "raw",
   "metadata": {
    "_uuid": "a76f2b7a39fcd6272a283050c56fa3dada4366c2"
   },
   "source": [
    "checkTargetInfo(train_df, target_name=\"target\")"
   ]
  },
  {
   "cell_type": "markdown",
   "metadata": {
    "_uuid": "c8c46bb335cc510cbf2d78b7c8ed44dce9a53c19"
   },
   "source": [
    "### apply logarithm transformation to tareget"
   ]
  },
  {
   "cell_type": "code",
   "execution_count": 9,
   "metadata": {
    "_uuid": "2b0b0c73d7321b007edc20f6836981ec083c3ce1",
    "collapsed": true,
    "scrolled": false
   },
   "outputs": [
    {
     "name": "stderr",
     "output_type": "stream",
     "text": [
      "C:\\Program Files\\Anaconda3\\lib\\site-packages\\matplotlib\\axes\\_axes.py:6462: UserWarning: The 'normed' kwarg is deprecated, and has been replaced by the 'density' kwarg.\n",
      "  warnings.warn(\"The 'normed' kwarg is deprecated, and has been \"\n"
     ]
    },
    {
     "name": "stdout",
     "output_type": "stream",
     "text": [
      "14.490239292748585 1.7507504829494496\n"
     ]
    },
    {
     "data": {
      "image/png": "[encoded data removed]",
      "text/plain": [
       "<Figure size 432x288 with 1 Axes>"
      ]
     },
     "metadata": {},
     "output_type": "display_data"
    },
    {
     "data": {
      "image/png": "[encoded data removed]",
      "text/plain": [
       "<Figure size 432x288 with 1 Axes>"
      ]
     },
     "metadata": {},
     "output_type": "display_data"
    }
   ],
   "source": [
    "# apply logarithm transformation\n",
    "\n",
    "train_df[\"target\"] = np.log1p(train_df[\"target\"])\n",
    "sns.distplot(train_df[\"target\"], fit=norm)\n",
    "\n",
    "(mu, sigma) = norm.fit(train_df[\"target\"])\n",
    "print(mu, sigma)\n",
    "\n",
    "plt.legend(['Normal dist. ($\\mu=$ {:.2f} and $\\sigma=$ {:.2f} )'.format(mu, sigma)],\n",
    "            loc='best')\n",
    "plt.ylabel('Frequency')\n",
    "plt.title('y distribution')\n",
    "\n",
    "fig = plt.figure()\n",
    "res = stats.probplot(train_df[\"target\"], plot=plt)\n",
    "plt.show()\n"
   ]
  },
  {
   "cell_type": "code",
   "execution_count": null,
   "metadata": {
    "_uuid": "e64999c25ecb341e5ec8083d6aa23a309b41033c",
    "collapsed": true
   },
   "outputs": [],
   "source": []
  },
  {
   "cell_type": "code",
   "execution_count": null,
   "metadata": {
    "_uuid": "19892e1e59cc54da57b466f057c9607dae04f30f",
    "collapsed": true
   },
   "outputs": [],
   "source": []
  },
  {
   "cell_type": "raw",
   "metadata": {
    "_uuid": "ced61a01d9f3243564093be7f8f2bab0152b4099"
   },
   "source": [
    "## check Correlation\n",
    "\n",
    "- if a feature have only one value, correlation become NAN.\n",
    "- so better to check correlation after dropped one value features"
   ]
  },
  {
   "cell_type": "raw",
   "metadata": {
    "_uuid": "9dcb8e7fd8f40c14d22f700e7549d2fca9af860a"
   },
   "source": [
    "    \n",
    "columns = [\"y\", \"X10\", \"X11\", \"X12\", \"X13\", \"X14\"]\n",
    "checkCorrelationOfSelectedFeatures(train_df, columns)"
   ]
  },
  {
   "cell_type": "raw",
   "metadata": {
    "_uuid": "d3cab6321d521bec8dbea6ae3bb61102c7edc68a"
   },
   "source": [
    "%%time\n",
    "corrmat = train_df.corr(method=\"spearman\")"
   ]
  },
  {
   "cell_type": "raw",
   "metadata": {
    "_uuid": "6ee3f845f00cf7c29ba03fd656d2b4e02b9d2008"
   },
   "source": [
    "corrmat.shape"
   ]
  },
  {
   "cell_type": "raw",
   "metadata": {
    "_uuid": "ea17a539bfd1e8b23fdcdde35425f96b4c504d0b"
   },
   "source": [
    "corrmat.head()"
   ]
  },
  {
   "cell_type": "raw",
   "metadata": {
    "_uuid": "004f7b29817c93421b0cda61a267efa9b0b3a498"
   },
   "source": [
    "corrmat[\"target\"].sort_values(ascending=False).head(10)"
   ]
  },
  {
   "cell_type": "raw",
   "metadata": {
    "_uuid": "c36f94c7a7d53381b6f958b97feb126f40c1f1d1"
   },
   "source": [
    "corrmat[\"target\"].sort_values(ascending=False).tail(10)"
   ]
  },
  {
   "cell_type": "raw",
   "metadata": {
    "_uuid": "eb48053fa2b4e93b1b160338fee0266b8339907e"
   },
   "source": [
    "\n",
    "corrmat = dataframe[columns].corr()\n",
    "plt.subplots(figsize=(12,9))\n",
    "sns.heatmap(corrmat, vmax=0.9, square=True, annot=True)\n",
    "plt.show()\n",
    "print(corrmat)"
   ]
  },
  {
   "cell_type": "code",
   "execution_count": null,
   "metadata": {
    "_uuid": "f3ca0e31640dcb6a5ad4034cc49a52ee98ca3f9f",
    "collapsed": true
   },
   "outputs": [],
   "source": []
  },
  {
   "cell_type": "code",
   "execution_count": null,
   "metadata": {
    "_uuid": "3ba6472c077720a06aa76e16c7c69302717f6d75",
    "collapsed": true
   },
   "outputs": [],
   "source": []
  },
  {
   "cell_type": "markdown",
   "metadata": {
    "_uuid": "6eb9700becb427f1d27118448c2b1e043b7a6c30"
   },
   "source": [
    "## pairplot\n",
    "\n",
    "- not good idea to make function\n",
    "- better to use pairplot() directly. more useful."
   ]
  },
  {
   "cell_type": "raw",
   "metadata": {
    "_uuid": "4aa1abaa2ff4417dcad9e7a71aeeb5fb4a6831de"
   },
   "source": [
    "sns.pairplot(train_df, vars=[\"y\", \"X10\", \"X11\", \"X12\", \"X13\"]) # takes too much time\n",
    "\n"
   ]
  },
  {
   "cell_type": "code",
   "execution_count": null,
   "metadata": {
    "_uuid": "d1c397b4be1706da9989c492a18537ee0b3069b9",
    "collapsed": true
   },
   "outputs": [],
   "source": []
  },
  {
   "cell_type": "markdown",
   "metadata": {
    "_uuid": "860635918f740c46fa398c096adc3d297266cb1f"
   },
   "source": [
    "## pandas_profiling"
   ]
  },
  {
   "cell_type": "raw",
   "metadata": {
    "_uuid": "20b376ea7647d19830dfb9137f9c0ffbb1e0a7ce"
   },
   "source": [
    "pandas_profiling.ProfileReport(train_df)"
   ]
  },
  {
   "cell_type": "code",
   "execution_count": null,
   "metadata": {
    "_uuid": "1e0cbd174c529c239639463a9d246fbca9cc76d5",
    "collapsed": true
   },
   "outputs": [],
   "source": []
  },
  {
   "cell_type": "code",
   "execution_count": null,
   "metadata": {
    "_uuid": "214584fd6388aa7540d1e8738be6a710b7cd413f",
    "collapsed": true
   },
   "outputs": [],
   "source": []
  },
  {
   "cell_type": "markdown",
   "metadata": {
    "_uuid": "b3f788599c2986f31a5784e4396ed13444570895"
   },
   "source": [
    "----\n",
    "\n",
    "# feature eng"
   ]
  },
  {
   "cell_type": "code",
   "execution_count": null,
   "metadata": {
    "_uuid": "97d6ce2738738434f8dea6e3f389acb60bc217a1",
    "collapsed": true
   },
   "outputs": [],
   "source": []
  },
  {
   "cell_type": "markdown",
   "metadata": {
    "_uuid": "933f8d872fd1d00146515adc1f446ffb68e9332a"
   },
   "source": []
  },
  {
   "cell_type": "markdown",
   "metadata": {
    "_uuid": "a58558e01a92e1f5ed629271b7f1a1822964dcd2"
   },
   "source": [
    "## add some features before drop some columns\n"
   ]
  },
  {
   "cell_type": "markdown",
   "metadata": {
    "_uuid": "4d092bebbdf95e599e6f357b53db19bf534b12e0"
   },
   "source": [
    "### add sum of zeros feature"
   ]
  },
  {
   "cell_type": "code",
   "execution_count": 10,
   "metadata": {
    "_uuid": "5ebbd84fec254f29bae1d9666ed36b12e809b98a",
    "collapsed": true
   },
   "outputs": [],
   "source": [
    "def add_SumZeros(train, test):\n",
    "    flist = [x for x in train.columns if not x in ['ID','target']]\n",
    "    train.insert(1, 'SumZeros', (train[flist] == 0).astype(int).sum(axis=1))\n",
    "    test.insert(1, 'SumZeros', (test[flist] == 0).astype(int).sum(axis=1))\n",
    "    return train, test\n"
   ]
  },
  {
   "cell_type": "code",
   "execution_count": 11,
   "metadata": {
    "_uuid": "f28b4d89d83b190b684e4a4b292aebf5e8f2cadb",
    "collapsed": true
   },
   "outputs": [
    {
     "name": "stdout",
     "output_type": "stream",
     "text": [
      "Wall time: 6.82 s\n"
     ]
    }
   ],
   "source": [
    "%%time\n",
    "train_df, test_df = add_SumZeros(train_df, test_df)\n"
   ]
  },
  {
   "cell_type": "code",
   "execution_count": 12,
   "metadata": {
    "_uuid": "bf89c8546cbc8196dab04cc62ea02f1c478fa889",
    "collapsed": true,
    "scrolled": true
   },
   "outputs": [
    {
     "data": {
      "text/plain": [
       "0    4889\n",
       "1    4924\n",
       "2    4973\n",
       "3    4969\n",
       "4    4965\n",
       "Name: SumZeros, dtype: int64"
      ]
     },
     "execution_count": 12,
     "metadata": {},
     "output_type": "execute_result"
    }
   ],
   "source": [
    "train_df.SumZeros.head()"
   ]
  },
  {
   "cell_type": "code",
   "execution_count": 13,
   "metadata": {
    "_uuid": "9bf79eac72d6bc371ca7cf4e618247109b094ce7",
    "collapsed": true
   },
   "outputs": [
    {
     "data": {
      "text/plain": [
       "0    4913\n",
       "1    4979\n",
       "2    4892\n",
       "3    4871\n",
       "4    4983\n",
       "Name: SumZeros, dtype: int64"
      ]
     },
     "execution_count": 13,
     "metadata": {},
     "output_type": "execute_result"
    }
   ],
   "source": [
    "test_df.SumZeros.head()"
   ]
  },
  {
   "cell_type": "markdown",
   "metadata": {
    "_uuid": "2442c5b1343771248dafeab9ce526dba58ad2772"
   },
   "source": [
    "### add sum of values"
   ]
  },
  {
   "cell_type": "code",
   "execution_count": 14,
   "metadata": {
    "_uuid": "cc835bde95a0f7bffe5bda5bcd6c37f4e7d77d40",
    "collapsed": true
   },
   "outputs": [],
   "source": [
    "def add_SumValues(train, test):\n",
    "    flist = [x for x in train.columns if not x in ['ID','target']]\n",
    "    \n",
    "    train.insert(1, 'SumValues', (train[flist] != 0).astype(int).sum(axis=1))\n",
    "    test.insert(1, 'SumValues', (test[flist] != 0).astype(int).sum(axis=1))\n",
    "\n",
    "    return train, test"
   ]
  },
  {
   "cell_type": "code",
   "execution_count": 15,
   "metadata": {
    "_uuid": "21a0bf4399430d2e473fe30ea31f2e0528541bee",
    "collapsed": true
   },
   "outputs": [
    {
     "name": "stdout",
     "output_type": "stream",
     "text": [
      "Wall time: 6.56 s\n"
     ]
    }
   ],
   "source": [
    "%%time\n",
    "train_df, test_df = add_SumValues(train_df, test_df)\n"
   ]
  },
  {
   "cell_type": "code",
   "execution_count": 16,
   "metadata": {
    "_uuid": "d8b0b5156361ce4c83a8e913fb960db81fe0c288",
    "collapsed": true
   },
   "outputs": [
    {
     "data": {
      "text/plain": [
       "0    103\n",
       "1     68\n",
       "2     19\n",
       "3     23\n",
       "4     27\n",
       "Name: SumValues, dtype: int64"
      ]
     },
     "execution_count": 16,
     "metadata": {},
     "output_type": "execute_result"
    }
   ],
   "source": [
    "train_df.SumValues.head()"
   ]
  },
  {
   "cell_type": "code",
   "execution_count": 17,
   "metadata": {
    "_uuid": "65d3a1733cbe98dd68d1b81fad54fe8ff0a3f373",
    "collapsed": true
   },
   "outputs": [
    {
     "data": {
      "text/plain": [
       "0     79\n",
       "1     13\n",
       "2    100\n",
       "3    121\n",
       "4      9\n",
       "Name: SumValues, dtype: int64"
      ]
     },
     "execution_count": 17,
     "metadata": {},
     "output_type": "execute_result"
    }
   ],
   "source": [
    "test_df.SumValues.head()"
   ]
  },
  {
   "cell_type": "raw",
   "metadata": {},
   "source": [
    "### Add other Agg"
   ]
  },
  {
   "cell_type": "raw",
   "metadata": {
    "_uuid": "7d1c9158c50df29f304ac141a201ce4f7542bd4d"
   },
   "source": [
    "other_agg_list = ['Mean', 'Median', 'Mode', 'Max', 'Var', 'Std']\n",
    "\n",
    "def add_OtherAgg(train, test):\n",
    "    flist = [x for x in train.columns if not x in ['ID','target','SumZeros','SumValues']]\n",
    "    train['Mean']   = train[flist].mean(axis=1)\n",
    "    train['Median'] = train[flist].median(axis=1)\n",
    "    train['Mode']   = train[flist].mode(axis=1)\n",
    "    train['Max']    = train[flist].max(axis=1)\n",
    "    train['Var']    = train[flist].var(axis=1)\n",
    "    train['Std']    = train[flist].std(axis=1)\n",
    "\n",
    "    test['Mean']   = test[flist].mean(axis=1)\n",
    "    test['Median'] = test[flist].median(axis=1)\n",
    "    test['Mode']   = test[flist].mode(axis=1)\n",
    "    test['Max']    = test[flist].max(axis=1)\n",
    "    test['Var']    = test[flist].var(axis=1)\n",
    "    test['Std']    = test[flist].std(axis=1)\n",
    "\n",
    "    return train, test"
   ]
  },
  {
   "cell_type": "raw",
   "metadata": {
    "_uuid": "ade5135ed9b5563e445db603b9725680b4cad5c5"
   },
   "source": [
    "%%time\n",
    "train_df, test_df = add_OtherAgg(train_df, test_df)\n"
   ]
  },
  {
   "cell_type": "raw",
   "metadata": {
    "_uuid": "da787897cf16fa4b89e5ccef90ef3dccc9d1e173"
   },
   "source": [
    "train_df[other_agg_list].head()"
   ]
  },
  {
   "cell_type": "raw",
   "metadata": {
    "_uuid": "d95b726d8875381ac9cd0f24b6d825036a349b19"
   },
   "source": [
    "test_df[other_agg_list].head()"
   ]
  },
  {
   "cell_type": "raw",
   "metadata": {
    "_uuid": "a63dfc7330bd6f52bc210ef14303371f39391574"
   },
   "source": [
    "added_cols_pls_target = [\"target\", 'SumZeros', 'SumValues']+other_agg_list\n",
    "train_df[added_cols_pls_target].head()"
   ]
  },
  {
   "cell_type": "raw",
   "metadata": {
    "_uuid": "a9e00381dce579e6b236e5e3ee2fdceff5473169"
   },
   "source": [
    "corr = train_df[added_cols_pls_target].corr()\n",
    "corr"
   ]
  },
  {
   "cell_type": "raw",
   "metadata": {
    "_uuid": "72d8a32f065a130b70b06e6d7e884259905ac6f3"
   },
   "source": [
    "plt.subplots(figsize=(12,9))\n",
    "sns.heatmap(corr, vmax=0.9, square=True, annot=True)\n",
    "plt.show()"
   ]
  },
  {
   "cell_type": "code",
   "execution_count": null,
   "metadata": {
    "_uuid": "1679e358f7644c9a8f8681db625c86ca4c32ab34",
    "collapsed": true
   },
   "outputs": [],
   "source": []
  },
  {
   "cell_type": "code",
   "execution_count": null,
   "metadata": {
    "_uuid": "57a607ee1fefd90f1eaed3a026c87eae0135092f",
    "collapsed": true
   },
   "outputs": [],
   "source": []
  },
  {
   "cell_type": "code",
   "execution_count": null,
   "metadata": {
    "_uuid": "2fb4471d43d9c4d608b0a4627d2620069a5bd116",
    "collapsed": true
   },
   "outputs": [],
   "source": []
  },
  {
   "cell_type": "markdown",
   "metadata": {
    "_uuid": "2e212f67e4d327b1a43c01cfe6571ed0b77bb1dc"
   },
   "source": [
    "## remove single value column"
   ]
  },
  {
   "cell_type": "code",
   "execution_count": 18,
   "metadata": {
    "_uuid": "e46b09e64ff06603acaa1c9982d3873d52bf354a",
    "collapsed": true
   },
   "outputs": [],
   "source": [
    "single_val_columns = findSingleValueColmuns(train_df)"
   ]
  },
  {
   "cell_type": "raw",
   "metadata": {
    "_uuid": "a0503769c89e89766c3477aee4d5f5057d3cd49d"
   },
   "source": [
    "for column in single_val_columns:\n",
    "    print(train_df[column].value_counts())"
   ]
  },
  {
   "cell_type": "code",
   "execution_count": 19,
   "metadata": {
    "_uuid": "21f4162cac5ccb61781cd22bd3722489b6a7d0fa",
    "collapsed": true,
    "scrolled": true
   },
   "outputs": [
    {
     "name": "stdout",
     "output_type": "stream",
     "text": [
      "drop single value columns,  256 columns were dropped\n"
     ]
    }
   ],
   "source": [
    "print(\"drop single value columns, \", len(single_val_columns), \"columns were dropped\")"
   ]
  },
  {
   "cell_type": "code",
   "execution_count": 20,
   "metadata": {
    "_uuid": "bdb66f182a60b60bf1873d9f5bef84abd262fcf8",
    "collapsed": true
   },
   "outputs": [
    {
     "name": "stdout",
     "output_type": "stream",
     "text": [
      "train_df.shape, test_df.shape\n",
      "(4459, 4995) (49343, 4994)\n",
      "(4459, 4739) (49343, 4738)\n"
     ]
    }
   ],
   "source": [
    "print(\"train_df.shape, test_df.shape\")\n",
    "print(train_df.shape, test_df.shape)\n",
    "\n",
    "train_df.drop(single_val_columns, axis=1, inplace=True)\n",
    "test_df.drop(single_val_columns, axis=1, inplace=True)\n",
    "\n",
    "print(train_df.shape, test_df.shape)"
   ]
  },
  {
   "cell_type": "code",
   "execution_count": null,
   "metadata": {
    "_uuid": "554684bde74821da2226c341256095b2ae619aa4",
    "collapsed": true
   },
   "outputs": [],
   "source": []
  },
  {
   "cell_type": "markdown",
   "metadata": {
    "_uuid": "c5ff82f216d94b10c776d857c74814972456efab"
   },
   "source": [
    "## remove dupulicate column\n",
    "\n",
    "remove if train_df data is same even if test_df data is not same.\n",
    "because if train_df data is same, it cannot learn the differece."
   ]
  },
  {
   "cell_type": "raw",
   "metadata": {
    "_uuid": "6c5a2d04b6ce7a33a3c48fd2f92c782552f2f30a"
   },
   "source": [
    "train_df[\"34ceb0081\"].equals(train_df[\"d60ddde1b\"]) # True"
   ]
  },
  {
   "cell_type": "raw",
   "metadata": {
    "_uuid": "a7263660aa7a848f6263696901af9252acb04d49"
   },
   "source": [
    "test_df[\"34ceb0081\"].equals(test_df[\"d60ddde1b\"]) # False"
   ]
  },
  {
   "cell_type": "raw",
   "metadata": {
    "_uuid": "4e52d8c27e3b93312182b735e5e247a4b9c73c24"
   },
   "source": [
    "columns = train_df.columns\n",
    "columns = columns.drop([\"ID\", \"target\"])\n",
    "columns"
   ]
  },
  {
   "cell_type": "markdown",
   "metadata": {
    "_uuid": "a8a60badf6beb88cf19bd94e3391beb3837e9236"
   },
   "source": [
    "comment out to reduce time"
   ]
  },
  {
   "cell_type": "raw",
   "metadata": {
    "_uuid": "5875f464b4f924beec1c32d9ecc4ba0a246323d8"
   },
   "source": [
    "%%time\n",
    "\n",
    "\n",
    "# Check and remove duplicate columns\n",
    "colsToRemove = []\n",
    "colsScaned = []\n",
    "dupList = {}\n",
    "\n",
    "\n",
    "#for i in tqdm(range(len(columns)-1)):\n",
    "for i in range(len(columns)-1):\n",
    "    v = train_df[columns[i]].values\n",
    "    dupCols = []\n",
    "    for j in range(i+1,len(columns)):\n",
    "        if np.array_equal(v, train_df[columns[j]].values):\n",
    "            colsToRemove.append(columns[j])\n",
    "            if columns[j] not in colsScaned:\n",
    "                dupCols.append(columns[j]) \n",
    "                colsScaned.append(columns[j])\n",
    "                dupList[columns[i]] = dupCols\n",
    "                \n",
    "                \n",
    "print(\"colsToRemove = \", colsToRemove)\n",
    "print(\"colsScaned = \", colsScaned)\n",
    "print(\"dupList = \", dupList)"
   ]
  },
  {
   "cell_type": "code",
   "execution_count": 21,
   "metadata": {
    "_uuid": "484261c4c62a10d19396f2aab2e47897c6c7bf0f",
    "collapsed": true
   },
   "outputs": [],
   "source": [
    "colsToRemove =  ['d60ddde1b', 'acc5b709d', 'f333a5f60', 'f8d75792f', '912836770', 'f333a5f60']\n",
    "colsScaned =  ['d60ddde1b', 'acc5b709d', 'f333a5f60', 'f8d75792f', '912836770']\n",
    "dupList =  {'34ceb0081': ['d60ddde1b'], '8d57e2749': ['acc5b709d', 'f333a5f60'], '168b3e5bc': ['f8d75792f'], 'a765da8bc': ['912836770']}"
   ]
  },
  {
   "cell_type": "code",
   "execution_count": 22,
   "metadata": {
    "_uuid": "68a31e6dc8ccdcd8ae7bd8eb95b83870531479be",
    "collapsed": true
   },
   "outputs": [
    {
     "name": "stdout",
     "output_type": "stream",
     "text": [
      "train_df.shape, test_df.shape\n",
      "(4459, 4739) (49343, 4738)\n",
      "(4459, 4734) (49343, 4733)\n"
     ]
    }
   ],
   "source": [
    "print(\"train_df.shape, test_df.shape\")\n",
    "print(train_df.shape, test_df.shape)\n",
    "\n",
    "train_df.drop(colsToRemove, axis=1, inplace=True)\n",
    "test_df.drop(colsToRemove, axis=1, inplace=True)\n",
    "\n",
    "print(train_df.shape, test_df.shape)"
   ]
  },
  {
   "cell_type": "code",
   "execution_count": null,
   "metadata": {
    "_uuid": "75a26ee806776ad9936033ea797931feeb916f40",
    "collapsed": true
   },
   "outputs": [],
   "source": []
  },
  {
   "cell_type": "code",
   "execution_count": null,
   "metadata": {
    "_uuid": "a85f0ddefc618c78c0639bb888070c04a89cb9cb",
    "collapsed": true
   },
   "outputs": [],
   "source": []
  },
  {
   "cell_type": "markdown",
   "metadata": {
    "_uuid": "ced61a01d9f3243564093be7f8f2bab0152b4099"
   },
   "source": [
    "## check Correlation and reduce high corr features\n",
    "\n",
    "- if a feature have only one value, correlation become NAN.\n",
    "- so better to check correlation after dropped one value features"
   ]
  },
  {
   "cell_type": "raw",
   "metadata": {
    "_uuid": "9dcb8e7fd8f40c14d22f700e7549d2fca9af860a"
   },
   "source": [
    "    \n",
    "columns = [\"y\", \"X10\", \"X11\", \"X12\", \"X13\", \"X14\"]\n",
    "checkCorrelationOfSelectedFeatures(train_df, columns)"
   ]
  },
  {
   "cell_type": "raw",
   "metadata": {
    "_uuid": "d3cab6321d521bec8dbea6ae3bb61102c7edc68a"
   },
   "source": [
    "%%time\n",
    "corrmat = train_df.corr(method=\"spearman\")\n",
    "corrmat.to_csv('../output/correlation.csv')"
   ]
  },
  {
   "cell_type": "raw",
   "metadata": {
    "_uuid": "004f7b29817c93421b0cda61a267efa9b0b3a498"
   },
   "source": [
    "corrmat[\"target\"].sort_values(ascending=False).head(10)"
   ]
  },
  {
   "cell_type": "raw",
   "metadata": {
    "_uuid": "c36f94c7a7d53381b6f958b97feb126f40c1f1d1"
   },
   "source": [
    "corrmat[\"target\"].sort_values(ascending=False).tail(10)"
   ]
  },
  {
   "cell_type": "raw",
   "metadata": {
    "_uuid": "4d5103fef0d583527df0e68b1913d0a4a46fed11"
   },
   "source": []
  },
  {
   "cell_type": "code",
   "execution_count": null,
   "metadata": {
    "_uuid": "456e11d8b26879e2ca302abc71853173c815e310",
    "collapsed": true
   },
   "outputs": [],
   "source": []
  },
  {
   "cell_type": "code",
   "execution_count": null,
   "metadata": {
    "_uuid": "fc302528e38ac36edd4a3031a51924d6ce02d3e3",
    "collapsed": true
   },
   "outputs": [],
   "source": []
  },
  {
   "cell_type": "code",
   "execution_count": null,
   "metadata": {
    "_uuid": "5223c37885377f3d5e64c0944feb092fface8892",
    "collapsed": true
   },
   "outputs": [],
   "source": []
  },
  {
   "cell_type": "code",
   "execution_count": null,
   "metadata": {
    "_uuid": "8c9c174a517938f6d3d7ce82c112bff401cfce6f",
    "collapsed": true
   },
   "outputs": [],
   "source": []
  },
  {
   "cell_type": "markdown",
   "metadata": {
    "_uuid": "5117c06944c3a4456e05478a74f7a70ed60fe086"
   },
   "source": [
    "## combine train/test to all_data"
   ]
  },
  {
   "cell_type": "code",
   "execution_count": null,
   "metadata": {
    "_uuid": "3a7686e13357f1fe37e90f52cdf5398c667161ad",
    "collapsed": true
   },
   "outputs": [],
   "source": []
  },
  {
   "cell_type": "code",
   "execution_count": 23,
   "metadata": {
    "_uuid": "efb76057931a075ce0f51228cef440850dd5883d",
    "collapsed": true
   },
   "outputs": [
    {
     "name": "stderr",
     "output_type": "stream",
     "text": [
      "C:\\Program Files\\Anaconda3\\lib\\site-packages\\ipykernel\\__main__.py:2: FutureWarning: Sorting because non-concatenation axis is not aligned. A future version\n",
      "of pandas will change to not sort by default.\n",
      "\n",
      "To accept the future behavior, pass 'sort=False'.\n",
      "\n",
      "To retain the current behavior and silence the warning, pass 'sort=True'.\n",
      "\n",
      "  from ipykernel import kernelapp as app\n"
     ]
    }
   ],
   "source": [
    "ntrain = train_df.shape[0]\n",
    "all_data = pd.concat((train_df, test_df)).reset_index(drop=True)\n",
    "\n",
    "all_id, all_target, all_data = splitToIdTargetFeatures(all_data, id_name=\"ID\", target_name=\"target\")\n"
   ]
  },
  {
   "cell_type": "raw",
   "metadata": {
    "_uuid": "d28110829253bbf4efa337ef61822d7be5261e6b"
   },
   "source": [
    "all_data.shape"
   ]
  },
  {
   "cell_type": "code",
   "execution_count": 24,
   "metadata": {
    "_uuid": "9b89e93cb805518c6f8e6d9c286c9bce0c6edfd7",
    "collapsed": true
   },
   "outputs": [
    {
     "data": {
      "text/html": [
       "<div>\n",
       "<style scoped>\n",
       "    .dataframe tbody tr th:only-of-type {\n",
       "        vertical-align: middle;\n",
       "    }\n",
       "\n",
       "    .dataframe tbody tr th {\n",
       "        vertical-align: top;\n",
       "    }\n",
       "\n",
       "    .dataframe thead th {\n",
       "        text-align: right;\n",
       "    }\n",
       "</style>\n",
       "<table border=\"1\" class=\"dataframe\">\n",
       "  <thead>\n",
       "    <tr style=\"text-align: right;\">\n",
       "      <th></th>\n",
       "      <th>001476ffa</th>\n",
       "      <th>0019109c4</th>\n",
       "      <th>0022de2b3</th>\n",
       "      <th>0024cd760</th>\n",
       "      <th>002d634dc</th>\n",
       "      <th>00302fe51</th>\n",
       "      <th>003da5628</th>\n",
       "      <th>006e72749</th>\n",
       "      <th>007d71f12</th>\n",
       "      <th>007ee91d1</th>\n",
       "      <th>...</th>\n",
       "      <th>ffa45bf70</th>\n",
       "      <th>ffa6b80e2</th>\n",
       "      <th>ffa903344</th>\n",
       "      <th>ffb34b926</th>\n",
       "      <th>ffca57b7b</th>\n",
       "      <th>ffcec956f</th>\n",
       "      <th>ffd2f9409</th>\n",
       "      <th>ffd50f0bf</th>\n",
       "      <th>ffdc4bcf8</th>\n",
       "      <th>ffec49dae</th>\n",
       "    </tr>\n",
       "  </thead>\n",
       "  <tbody>\n",
       "    <tr>\n",
       "      <th>0</th>\n",
       "      <td>0.0</td>\n",
       "      <td>0.0</td>\n",
       "      <td>0.0</td>\n",
       "      <td>0.0</td>\n",
       "      <td>0.0</td>\n",
       "      <td>0.0</td>\n",
       "      <td>0.0</td>\n",
       "      <td>0.0</td>\n",
       "      <td>0.0</td>\n",
       "      <td>0.0</td>\n",
       "      <td>...</td>\n",
       "      <td>0.0</td>\n",
       "      <td>0.0</td>\n",
       "      <td>0.0</td>\n",
       "      <td>0.0</td>\n",
       "      <td>0.0</td>\n",
       "      <td>0.0</td>\n",
       "      <td>0.0</td>\n",
       "      <td>0.0</td>\n",
       "      <td>0.0</td>\n",
       "      <td>0.0</td>\n",
       "    </tr>\n",
       "    <tr>\n",
       "      <th>1</th>\n",
       "      <td>0.0</td>\n",
       "      <td>0.0</td>\n",
       "      <td>0.0</td>\n",
       "      <td>0.0</td>\n",
       "      <td>0.0</td>\n",
       "      <td>0.0</td>\n",
       "      <td>0.0</td>\n",
       "      <td>0.0</td>\n",
       "      <td>0.0</td>\n",
       "      <td>0.0</td>\n",
       "      <td>...</td>\n",
       "      <td>0.0</td>\n",
       "      <td>0.0</td>\n",
       "      <td>0.0</td>\n",
       "      <td>0.0</td>\n",
       "      <td>0.0</td>\n",
       "      <td>0.0</td>\n",
       "      <td>0.0</td>\n",
       "      <td>0.0</td>\n",
       "      <td>0.0</td>\n",
       "      <td>0.0</td>\n",
       "    </tr>\n",
       "    <tr>\n",
       "      <th>2</th>\n",
       "      <td>0.0</td>\n",
       "      <td>0.0</td>\n",
       "      <td>0.0</td>\n",
       "      <td>0.0</td>\n",
       "      <td>0.0</td>\n",
       "      <td>0.0</td>\n",
       "      <td>0.0</td>\n",
       "      <td>0.0</td>\n",
       "      <td>0.0</td>\n",
       "      <td>0.0</td>\n",
       "      <td>...</td>\n",
       "      <td>0.0</td>\n",
       "      <td>0.0</td>\n",
       "      <td>0.0</td>\n",
       "      <td>0.0</td>\n",
       "      <td>0.0</td>\n",
       "      <td>0.0</td>\n",
       "      <td>0.0</td>\n",
       "      <td>0.0</td>\n",
       "      <td>0.0</td>\n",
       "      <td>0.0</td>\n",
       "    </tr>\n",
       "    <tr>\n",
       "      <th>3</th>\n",
       "      <td>0.0</td>\n",
       "      <td>0.0</td>\n",
       "      <td>0.0</td>\n",
       "      <td>0.0</td>\n",
       "      <td>0.0</td>\n",
       "      <td>0.0</td>\n",
       "      <td>0.0</td>\n",
       "      <td>0.0</td>\n",
       "      <td>0.0</td>\n",
       "      <td>0.0</td>\n",
       "      <td>...</td>\n",
       "      <td>0.0</td>\n",
       "      <td>0.0</td>\n",
       "      <td>0.0</td>\n",
       "      <td>0.0</td>\n",
       "      <td>0.0</td>\n",
       "      <td>0.0</td>\n",
       "      <td>0.0</td>\n",
       "      <td>0.0</td>\n",
       "      <td>0.0</td>\n",
       "      <td>0.0</td>\n",
       "    </tr>\n",
       "    <tr>\n",
       "      <th>4</th>\n",
       "      <td>0.0</td>\n",
       "      <td>0.0</td>\n",
       "      <td>0.0</td>\n",
       "      <td>0.0</td>\n",
       "      <td>0.0</td>\n",
       "      <td>0.0</td>\n",
       "      <td>0.0</td>\n",
       "      <td>0.0</td>\n",
       "      <td>0.0</td>\n",
       "      <td>0.0</td>\n",
       "      <td>...</td>\n",
       "      <td>0.0</td>\n",
       "      <td>0.0</td>\n",
       "      <td>0.0</td>\n",
       "      <td>0.0</td>\n",
       "      <td>0.0</td>\n",
       "      <td>0.0</td>\n",
       "      <td>0.0</td>\n",
       "      <td>0.0</td>\n",
       "      <td>0.0</td>\n",
       "      <td>0.0</td>\n",
       "    </tr>\n",
       "  </tbody>\n",
       "</table>\n",
       "<p>5 rows × 4732 columns</p>\n",
       "</div>"
      ],
      "text/plain": [
       "   001476ffa  0019109c4  0022de2b3  0024cd760  002d634dc  00302fe51  \\\n",
       "0        0.0        0.0        0.0        0.0        0.0        0.0   \n",
       "1        0.0        0.0        0.0        0.0        0.0        0.0   \n",
       "2        0.0        0.0        0.0        0.0        0.0        0.0   \n",
       "3        0.0        0.0        0.0        0.0        0.0        0.0   \n",
       "4        0.0        0.0        0.0        0.0        0.0        0.0   \n",
       "\n",
       "   003da5628  006e72749  007d71f12  007ee91d1    ...      ffa45bf70  \\\n",
       "0        0.0        0.0        0.0        0.0    ...            0.0   \n",
       "1        0.0        0.0        0.0        0.0    ...            0.0   \n",
       "2        0.0        0.0        0.0        0.0    ...            0.0   \n",
       "3        0.0        0.0        0.0        0.0    ...            0.0   \n",
       "4        0.0        0.0        0.0        0.0    ...            0.0   \n",
       "\n",
       "   ffa6b80e2  ffa903344  ffb34b926  ffca57b7b  ffcec956f  ffd2f9409  \\\n",
       "0        0.0        0.0        0.0        0.0        0.0        0.0   \n",
       "1        0.0        0.0        0.0        0.0        0.0        0.0   \n",
       "2        0.0        0.0        0.0        0.0        0.0        0.0   \n",
       "3        0.0        0.0        0.0        0.0        0.0        0.0   \n",
       "4        0.0        0.0        0.0        0.0        0.0        0.0   \n",
       "\n",
       "   ffd50f0bf  ffdc4bcf8  ffec49dae  \n",
       "0        0.0        0.0        0.0  \n",
       "1        0.0        0.0        0.0  \n",
       "2        0.0        0.0        0.0  \n",
       "3        0.0        0.0        0.0  \n",
       "4        0.0        0.0        0.0  \n",
       "\n",
       "[5 rows x 4732 columns]"
      ]
     },
     "execution_count": 24,
     "metadata": {},
     "output_type": "execute_result"
    }
   ],
   "source": [
    "all_data.head()"
   ]
  },
  {
   "cell_type": "raw",
   "metadata": {
    "_uuid": "d1fb3db28e659f6efa172dc25d53e865bbe014ec"
   },
   "source": [
    "all_data.tail()"
   ]
  },
  {
   "cell_type": "code",
   "execution_count": 25,
   "metadata": {
    "_uuid": "635edf0c93700223cbcc54da44c957e9b4656f37",
    "collapsed": true
   },
   "outputs": [
    {
     "data": {
      "text/plain": [
       "0    000d6aaf2\n",
       "1    000fbd867\n",
       "2    0027d6b71\n",
       "3    0028cbf45\n",
       "4    002a68644\n",
       "Name: ID, dtype: object"
      ]
     },
     "execution_count": 25,
     "metadata": {},
     "output_type": "execute_result"
    }
   ],
   "source": [
    "all_id.head()"
   ]
  },
  {
   "cell_type": "raw",
   "metadata": {
    "_uuid": "52082f1312deaf89e0bc6dea3b8fbba19ea311ff"
   },
   "source": [
    "all_id.tail()"
   ]
  },
  {
   "cell_type": "code",
   "execution_count": 26,
   "metadata": {
    "_uuid": "97ea7e7bf8cb28bb41ad3e411d3be46c96da81f9",
    "collapsed": true
   },
   "outputs": [
    {
     "data": {
      "text/plain": [
       "0    17.453097\n",
       "1    13.304687\n",
       "2    16.118096\n",
       "3    14.508658\n",
       "4    16.482739\n",
       "Name: target, dtype: float64"
      ]
     },
     "execution_count": 26,
     "metadata": {},
     "output_type": "execute_result"
    }
   ],
   "source": [
    "all_target.head()"
   ]
  },
  {
   "cell_type": "raw",
   "metadata": {
    "_uuid": "378337eb7899636a44ae10e58443cd989cc0ccbf"
   },
   "source": [
    "all_target.tail()"
   ]
  },
  {
   "cell_type": "code",
   "execution_count": null,
   "metadata": {
    "_uuid": "4651999ba4e764b391f66cf4e747d7f0256668f5",
    "collapsed": true
   },
   "outputs": [],
   "source": []
  },
  {
   "cell_type": "markdown",
   "metadata": {
    "_uuid": "1495b61e0767575e331029fd4f48a063ff5d83e3"
   },
   "source": [
    "## skew feature"
   ]
  },
  {
   "cell_type": "code",
   "execution_count": 27,
   "metadata": {
    "_uuid": "f6301835471a0cb61411d079b10b93f6d9b95fd4",
    "collapsed": true
   },
   "outputs": [
    {
     "name": "stdout",
     "output_type": "stream",
     "text": [
      "\n",
      "# Skew in numerical features: \n",
      "\n",
      "                 Skew\n",
      "55e30b08f  230.974841\n",
      "455b51392  230.305953\n",
      "28690ae0d  229.500405\n",
      "470cea05f  228.830922\n",
      "1614f0f84  228.321276\n",
      "39896d3dd  228.283309\n",
      "ed0860a34  228.029425\n",
      "fe33df1c4  227.846197\n",
      "f7f2e3896  227.770747\n",
      "5c7eb01b4  227.529761\n",
      "940c3b22f  227.510908\n",
      "ba480f343  227.436025\n",
      "3be4dad48  226.677297\n",
      "6eebf3ca4  226.649999\n",
      "2b85882ad  226.365177\n",
      "6dcac05e7  226.123123\n",
      "b3bfbc1fa  225.886324\n",
      "5878b703c  225.658195\n",
      "e9f57e5c6  225.652363\n",
      "e325dec5e  225.601039\n",
      "9685f5e16  225.469768\n",
      "1b41a7ee2  225.438692\n",
      "95bbebdd4  225.085799\n",
      "907e76fa9  225.066646\n",
      "8706aa459  224.786776\n",
      "cf3841208  224.728656\n",
      "e2c21c4bc  224.713659\n",
      "07cb6041d  224.654121\n",
      "625525b5d  223.480189\n",
      "bf8150471  223.452716\n",
      "...               ...\n",
      "bd6da0cca   12.633439\n",
      "1db387535   12.518144\n",
      "324921c7b   12.396595\n",
      "02861e414   12.310006\n",
      "f02ecb19c   12.288383\n",
      "70feb1494   12.160715\n",
      "20aa07010   12.082064\n",
      "5c6487af1   11.971548\n",
      "1702b5bf0   11.822818\n",
      "58e056e12   11.785038\n",
      "58e2e02e6   11.678247\n",
      "b43a7cfd5   11.550002\n",
      "024c577b9   11.488630\n",
      "58232a6fb   11.405308\n",
      "f74e8f13d   11.401261\n",
      "eeb9cd3aa   11.388772\n",
      "ea772e115   11.098558\n",
      "bb0ce54e9   10.946994\n",
      "ad009c8b9   10.934152\n",
      "15ace8c9f   10.883168\n",
      "241f0f867   10.736346\n",
      "0572565c2   10.663581\n",
      "fb0f5dbfe   10.497856\n",
      "6eef030c1   10.340222\n",
      "6619d81fc    9.929671\n",
      "fb49e4212    9.867674\n",
      "e176a204a    9.795367\n",
      "f190486d6    9.356704\n",
      "SumValues    4.846865\n",
      "SumZeros    -4.846865\n",
      "\n",
      "[4732 rows x 1 columns]\n"
     ]
    },
    {
     "data": {
      "text/html": [
       "<div>\n",
       "<style scoped>\n",
       "    .dataframe tbody tr th:only-of-type {\n",
       "        vertical-align: middle;\n",
       "    }\n",
       "\n",
       "    .dataframe tbody tr th {\n",
       "        vertical-align: top;\n",
       "    }\n",
       "\n",
       "    .dataframe thead th {\n",
       "        text-align: right;\n",
       "    }\n",
       "</style>\n",
       "<table border=\"1\" class=\"dataframe\">\n",
       "  <thead>\n",
       "    <tr style=\"text-align: right;\">\n",
       "      <th></th>\n",
       "      <th>Skew</th>\n",
       "    </tr>\n",
       "  </thead>\n",
       "  <tbody>\n",
       "    <tr>\n",
       "      <th>55e30b08f</th>\n",
       "      <td>230.974841</td>\n",
       "    </tr>\n",
       "    <tr>\n",
       "      <th>455b51392</th>\n",
       "      <td>230.305953</td>\n",
       "    </tr>\n",
       "    <tr>\n",
       "      <th>28690ae0d</th>\n",
       "      <td>229.500405</td>\n",
       "    </tr>\n",
       "    <tr>\n",
       "      <th>470cea05f</th>\n",
       "      <td>228.830922</td>\n",
       "    </tr>\n",
       "    <tr>\n",
       "      <th>1614f0f84</th>\n",
       "      <td>228.321276</td>\n",
       "    </tr>\n",
       "  </tbody>\n",
       "</table>\n",
       "</div>"
      ],
      "text/plain": [
       "                 Skew\n",
       "55e30b08f  230.974841\n",
       "455b51392  230.305953\n",
       "28690ae0d  229.500405\n",
       "470cea05f  228.830922\n",
       "1614f0f84  228.321276"
      ]
     },
     "execution_count": 27,
     "metadata": {},
     "output_type": "execute_result"
    }
   ],
   "source": [
    "skewness = checkSkewness(all_data)\n",
    "skewness.head(5)"
   ]
  },
  {
   "cell_type": "code",
   "execution_count": 28,
   "metadata": {
    "_uuid": "991fea89962d4b5635b97d44f10de5a5aefb13e5",
    "collapsed": true
   },
   "outputs": [
    {
     "data": {
      "text/html": [
       "<div>\n",
       "<style scoped>\n",
       "    .dataframe tbody tr th:only-of-type {\n",
       "        vertical-align: middle;\n",
       "    }\n",
       "\n",
       "    .dataframe tbody tr th {\n",
       "        vertical-align: top;\n",
       "    }\n",
       "\n",
       "    .dataframe thead th {\n",
       "        text-align: right;\n",
       "    }\n",
       "</style>\n",
       "<table border=\"1\" class=\"dataframe\">\n",
       "  <thead>\n",
       "    <tr style=\"text-align: right;\">\n",
       "      <th></th>\n",
       "      <th>Skew</th>\n",
       "    </tr>\n",
       "  </thead>\n",
       "  <tbody>\n",
       "    <tr>\n",
       "      <th>fb49e4212</th>\n",
       "      <td>9.867674</td>\n",
       "    </tr>\n",
       "    <tr>\n",
       "      <th>e176a204a</th>\n",
       "      <td>9.795367</td>\n",
       "    </tr>\n",
       "    <tr>\n",
       "      <th>f190486d6</th>\n",
       "      <td>9.356704</td>\n",
       "    </tr>\n",
       "    <tr>\n",
       "      <th>SumValues</th>\n",
       "      <td>4.846865</td>\n",
       "    </tr>\n",
       "    <tr>\n",
       "      <th>SumZeros</th>\n",
       "      <td>-4.846865</td>\n",
       "    </tr>\n",
       "  </tbody>\n",
       "</table>\n",
       "</div>"
      ],
      "text/plain": [
       "               Skew\n",
       "fb49e4212  9.867674\n",
       "e176a204a  9.795367\n",
       "f190486d6  9.356704\n",
       "SumValues  4.846865\n",
       "SumZeros  -4.846865"
      ]
     },
     "execution_count": 28,
     "metadata": {},
     "output_type": "execute_result"
    }
   ],
   "source": [
    "skewness.tail(5)"
   ]
  },
  {
   "cell_type": "code",
   "execution_count": null,
   "metadata": {
    "_uuid": "d01c8b71957be7098751e7393decdfda7db0c30a",
    "collapsed": true
   },
   "outputs": [],
   "source": []
  },
  {
   "cell_type": "code",
   "execution_count": null,
   "metadata": {
    "_uuid": "eb5bc8562eb6c57d2fafafa442154173fad072ff",
    "collapsed": true
   },
   "outputs": [],
   "source": []
  },
  {
   "cell_type": "raw",
   "metadata": {
    "_uuid": "5e0df80f8b19dc329076ec5bfea93239c1575251"
   },
   "source": [
    "for column in skewness.index[:5]:\n",
    "    print(column)\n",
    "    plt.subplots(figsize=(12,9))\n",
    "    sns.distplot(all_data[column], fit=norm)\n",
    "    plt.show()\n",
    "    print(\"skewness: \", skewness.loc[column, \"Skew\"])\n",
    "    print(all_data[column].value_counts())"
   ]
  },
  {
   "cell_type": "code",
   "execution_count": null,
   "metadata": {
    "_uuid": "b53ce1b6d410fa9a188d1fee079ede315d254e6a",
    "collapsed": true
   },
   "outputs": [],
   "source": []
  },
  {
   "cell_type": "raw",
   "metadata": {
    "_uuid": "3b1dfcb49c35f9f2ed3147bac4fd8f47c6d28cb7"
   },
   "source": [
    "for column in skewness.index[-10:]:\n",
    "    print(\"column: \", column)\n",
    "    plt.subplots(figsize=(12,9))\n",
    "    sns.distplot(all_data[column], fit=norm)\n",
    "    plt.show()\n",
    "    print(all_data[column].value_counts())"
   ]
  },
  {
   "cell_type": "code",
   "execution_count": null,
   "metadata": {
    "_uuid": "04c94661386207f568748826656218c4d0c001a6",
    "collapsed": true
   },
   "outputs": [],
   "source": []
  },
  {
   "cell_type": "code",
   "execution_count": null,
   "metadata": {
    "_uuid": "07288bc7d2e6ac2e5083dd8ca189d9e991a0823f",
    "collapsed": true
   },
   "outputs": [],
   "source": []
  },
  {
   "cell_type": "code",
   "execution_count": null,
   "metadata": {
    "_uuid": "41237f7acd6ad78d2483b82a102805592c2717f0",
    "collapsed": true
   },
   "outputs": [],
   "source": []
  },
  {
   "cell_type": "raw",
   "metadata": {
    "_uuid": "a3abea0303439e945a19c30d7afcd45ce8f770d6"
   },
   "source": [
    "## find boolean feature"
   ]
  },
  {
   "cell_type": "raw",
   "metadata": {
    "_uuid": "edab56e3add995549258984a237b34b7109184db"
   },
   "source": [
    "checkValueCounts(all_data)"
   ]
  },
  {
   "cell_type": "code",
   "execution_count": null,
   "metadata": {
    "_uuid": "f0cf2084bec126ea545cc19d8218dac83b44a41b",
    "collapsed": true
   },
   "outputs": [],
   "source": []
  },
  {
   "cell_type": "markdown",
   "metadata": {
    "_uuid": "971f54c3900d307e78bfa23f48685d0ff90a1835"
   },
   "source": [
    "## Box Cox Transformation of (highly) skewed features\n",
    "\n"
   ]
  },
  {
   "cell_type": "raw",
   "metadata": {
    "_uuid": "5c9305406e4b1a655bb55f05bcfa56d9b585e0c1"
   },
   "source": [
    "all_data.head()"
   ]
  },
  {
   "cell_type": "code",
   "execution_count": 29,
   "metadata": {
    "_uuid": "dc2f7ab0966280465ae8c6727e929c42189668c9",
    "collapsed": true
   },
   "outputs": [
    {
     "name": "stdout",
     "output_type": "stream",
     "text": [
      "feature num 4732\n",
      "skewed feature number: 4732\n"
     ]
    }
   ],
   "source": [
    "skewnessBig = skewness[abs(skewness) > 0.75]\n",
    "print(\"feature num {}\\nskewed feature number: {}\".format(skewness.shape[0], \n",
    "                                                         skewnessBig.shape[0]))\n",
    "\n",
    "from scipy.special import boxcox1p\n",
    "\n",
    "skewed_features = skewnessBig.index\n",
    "lam = 0.15\n",
    "for feat in skewed_features:\n",
    "    all_data[feat] = boxcox1p(all_data[feat], lam)\n"
   ]
  },
  {
   "cell_type": "raw",
   "metadata": {
    "_uuid": "96063ed3f5574f368f3eae0af3b6728fa8a6bbde"
   },
   "source": [
    "all_data.head()"
   ]
  },
  {
   "cell_type": "code",
   "execution_count": 30,
   "metadata": {
    "_uuid": "2fea1d856a376a625b24b20c4fd27b813e1aabf9",
    "collapsed": true,
    "scrolled": true
   },
   "outputs": [
    {
     "data": {
      "text/plain": [
       "76c1e9617    20.916623\n",
       "770d3a11c    20.810153\n",
       "969d32625    20.743998\n",
       "73a32cd05    20.653564\n",
       "ae82c2c99    20.505281\n",
       "d0e4129cb    20.486538\n",
       "5a1183b8c    20.399093\n",
       "1b6c8debf    20.355620\n",
       "f30ab5791    20.322188\n",
       "f9a30f20a    20.251084\n",
       "05d95861b    20.139686\n",
       "eeae7ad90    20.084741\n",
       "f66c58ca7    20.067355\n",
       "47d17d395    20.065222\n",
       "2f0771a37    20.063581\n",
       "59de861ff    20.055486\n",
       "2ce7f870e    20.051730\n",
       "7cc424ffd    20.036406\n",
       "a77d3eb03    20.020546\n",
       "8c00634d1    20.008353\n",
       "8d57e2749    19.983028\n",
       "1b48a4b5b    19.976911\n",
       "38a5a3497    19.952202\n",
       "0c5eaf8a7    19.914264\n",
       "96fec9b38    19.910349\n",
       "c6d27ddbb    19.870341\n",
       "bacadce94    19.859173\n",
       "de23dceb1    19.847534\n",
       "f49c1d119    19.829197\n",
       "9a3f53be7    19.825382\n",
       "               ...    \n",
       "e176a204a     2.421524\n",
       "70feb1494     2.394977\n",
       "1931ccfdd     2.392556\n",
       "703885424     2.364293\n",
       "26fc93eb7     2.356518\n",
       "963a49cdc     2.344293\n",
       "5c6487af1     2.320992\n",
       "66ace2992     2.317875\n",
       "f74e8f13d     2.310005\n",
       "241f0f867     2.294727\n",
       "2ec5b290f     2.285365\n",
       "fb49e4212     2.279558\n",
       "62e59a501     2.278538\n",
       "d6bb78916     2.258060\n",
       "b43a7cfd5     2.252367\n",
       "324921c7b     2.250519\n",
       "58232a6fb     2.249385\n",
       "1702b5bf0     2.241272\n",
       "024c577b9     2.235269\n",
       "58e056e12     2.214114\n",
       "20aa07010     2.190474\n",
       "fb0f5dbfe     2.172095\n",
       "6eef030c1     2.167938\n",
       "15ace8c9f     2.167066\n",
       "9fd594eec     2.135562\n",
       "58e2e02e6     2.133884\n",
       "eeb9cd3aa     2.132216\n",
       "f190486d6     2.079078\n",
       "SumValues     0.310499\n",
       "SumZeros     -5.564176\n",
       "Length: 4732, dtype: float64"
      ]
     },
     "execution_count": 30,
     "metadata": {},
     "output_type": "execute_result"
    }
   ],
   "source": [
    "all_data.apply(\n",
    "    lambda x: skew(x.dropna())).sort_values(ascending=False)"
   ]
  },
  {
   "cell_type": "raw",
   "metadata": {
    "_uuid": "202061d4237529ea7ccbb15894ba72d5872723ac"
   },
   "source": [
    "checkValueCounts(all_data)"
   ]
  },
  {
   "cell_type": "raw",
   "metadata": {
    "_uuid": "894f3cdff38473217f8fc25456246703966b239f"
   },
   "source": [
    "all_data.iloc[0, :].value_counts()"
   ]
  },
  {
   "cell_type": "code",
   "execution_count": null,
   "metadata": {
    "_uuid": "7657911f5840322ed71b399ea606546b9ab4b492",
    "collapsed": true
   },
   "outputs": [],
   "source": []
  },
  {
   "cell_type": "markdown",
   "metadata": {
    "_uuid": "7e2e44436d22047d10a5541c43522d776fb4149a"
   },
   "source": [
    "----\n",
    "\n",
    "# prepare train/test data"
   ]
  },
  {
   "cell_type": "raw",
   "metadata": {
    "_uuid": "bc3f53667d5c5d2e3ac2705368e78250b12a4980"
   },
   "source": [
    "train_df.head()"
   ]
  },
  {
   "cell_type": "code",
   "execution_count": 31,
   "metadata": {
    "_uuid": "c3055e82371f8e706524ae3cd18d4c0e626110bb",
    "collapsed": true
   },
   "outputs": [],
   "source": [
    "id_train_df, y_train_df, X_train_df = splitToIdTargetFeatures(train_df,\n",
    "                                                              id_name=\"ID\",\n",
    "                                                              target_name=\"target\")"
   ]
  },
  {
   "cell_type": "code",
   "execution_count": 32,
   "metadata": {
    "_uuid": "4366e9d46021cb516bf8c07652f98c3d7addbd53",
    "collapsed": true,
    "scrolled": true
   },
   "outputs": [
    {
     "name": "stdout",
     "output_type": "stream",
     "text": [
      "0    000d6aaf2\n",
      "1    000fbd867\n",
      "2    0027d6b71\n",
      "3    0028cbf45\n",
      "4    002a68644\n",
      "Name: ID, dtype: object\n",
      "0    17.453097\n",
      "1    13.304687\n",
      "2    16.118096\n",
      "3    14.508658\n",
      "4    16.482739\n",
      "Name: target, dtype: float64\n",
      "   SumValues  SumZeros  48df886f9  0deb4b6a8  34b15f335  a8cb14b00  2f0771a37  \\\n",
      "0        103      4889        0.0          0        0.0          0          0   \n",
      "1         68      4924        0.0          0        0.0          0          0   \n",
      "2         19      4973        0.0          0        0.0          0          0   \n",
      "3         23      4969        0.0          0        0.0          0          0   \n",
      "4         27      4965        0.0          0        0.0          0          0   \n",
      "\n",
      "   30347e683  d08d1fbe3  6ee66e115    ...      3ecc09859  9281abeea  \\\n",
      "0          0          0          0    ...            0.0        0.0   \n",
      "1          0          0          0    ...            0.0        0.0   \n",
      "2          0          0          0    ...            0.0        0.0   \n",
      "3          0          0          0    ...            0.0        0.0   \n",
      "4          0          0          0    ...            0.0        0.0   \n",
      "\n",
      "   8675bec0b  3a13ed79a  f677d4d13  71b203550  137efaa80  fb36b89d9  \\\n",
      "0        0.0          0          0          0          0          0   \n",
      "1        0.0          0          0          0          0          0   \n",
      "2        0.0          0          0          0          0          0   \n",
      "3        0.0          0          0          0          0          0   \n",
      "4        0.0          0          0          0          0          0   \n",
      "\n",
      "   7e293fbaf  9fc776466  \n",
      "0          0          0  \n",
      "1          0          0  \n",
      "2          0          0  \n",
      "3          0          0  \n",
      "4          0          0  \n",
      "\n",
      "[5 rows x 4732 columns]\n"
     ]
    }
   ],
   "source": [
    "print(id_train_df.head())\n",
    "print(y_train_df.head())\n",
    "print(X_train_df.head())"
   ]
  },
  {
   "cell_type": "code",
   "execution_count": 33,
   "metadata": {
    "_uuid": "85e096919e504df779736dece2ccc86a9139b69a",
    "collapsed": true
   },
   "outputs": [
    {
     "name": "stdout",
     "output_type": "stream",
     "text": [
      "train/test data shape (2987, 4732) (1472, 4732)\n"
     ]
    }
   ],
   "source": [
    "X_train, X_test, y_train, y_test = train_test_split(\n",
    "    X_train_df, y_train_df, \n",
    "    test_size=0.33, random_state=42)\n",
    "print(\"train/test data shape\", X_train.shape, X_test.shape)\n"
   ]
  },
  {
   "cell_type": "raw",
   "metadata": {
    "_uuid": "834e43e9a1a54145c8d956dedfff715ee443c787"
   },
   "source": [
    "X_train_df.head()"
   ]
  },
  {
   "cell_type": "code",
   "execution_count": 34,
   "metadata": {
    "_uuid": "4e852449566448da5728214b012a38d8eefbffd9",
    "collapsed": true
   },
   "outputs": [],
   "source": [
    "id_test_df = test_df[\"ID\"]\n",
    "test_df.drop([\"ID\"], axis=1, inplace=True)"
   ]
  },
  {
   "cell_type": "code",
   "execution_count": 35,
   "metadata": {
    "_uuid": "dea939dff01ec1c050cfb25f6bdb54934c9fc1d1",
    "collapsed": true,
    "scrolled": true
   },
   "outputs": [
    {
     "data": {
      "text/html": [
       "<div>\n",
       "<style scoped>\n",
       "    .dataframe tbody tr th:only-of-type {\n",
       "        vertical-align: middle;\n",
       "    }\n",
       "\n",
       "    .dataframe tbody tr th {\n",
       "        vertical-align: top;\n",
       "    }\n",
       "\n",
       "    .dataframe thead th {\n",
       "        text-align: right;\n",
       "    }\n",
       "</style>\n",
       "<table border=\"1\" class=\"dataframe\">\n",
       "  <thead>\n",
       "    <tr style=\"text-align: right;\">\n",
       "      <th></th>\n",
       "      <th>SumValues</th>\n",
       "      <th>SumZeros</th>\n",
       "      <th>48df886f9</th>\n",
       "      <th>0deb4b6a8</th>\n",
       "      <th>34b15f335</th>\n",
       "      <th>a8cb14b00</th>\n",
       "      <th>2f0771a37</th>\n",
       "      <th>30347e683</th>\n",
       "      <th>d08d1fbe3</th>\n",
       "      <th>6ee66e115</th>\n",
       "      <th>...</th>\n",
       "      <th>3ecc09859</th>\n",
       "      <th>9281abeea</th>\n",
       "      <th>8675bec0b</th>\n",
       "      <th>3a13ed79a</th>\n",
       "      <th>f677d4d13</th>\n",
       "      <th>71b203550</th>\n",
       "      <th>137efaa80</th>\n",
       "      <th>fb36b89d9</th>\n",
       "      <th>7e293fbaf</th>\n",
       "      <th>9fc776466</th>\n",
       "    </tr>\n",
       "  </thead>\n",
       "  <tbody>\n",
       "    <tr>\n",
       "      <th>0</th>\n",
       "      <td>79</td>\n",
       "      <td>4913</td>\n",
       "      <td>0.0</td>\n",
       "      <td>0.0</td>\n",
       "      <td>0.0</td>\n",
       "      <td>0.0</td>\n",
       "      <td>0.0</td>\n",
       "      <td>0.0</td>\n",
       "      <td>0.0</td>\n",
       "      <td>0.0</td>\n",
       "      <td>...</td>\n",
       "      <td>0.0</td>\n",
       "      <td>0.0</td>\n",
       "      <td>0.0</td>\n",
       "      <td>0.0</td>\n",
       "      <td>0.0</td>\n",
       "      <td>0.0</td>\n",
       "      <td>0.0</td>\n",
       "      <td>0.0</td>\n",
       "      <td>0.0</td>\n",
       "      <td>0.0</td>\n",
       "    </tr>\n",
       "    <tr>\n",
       "      <th>1</th>\n",
       "      <td>13</td>\n",
       "      <td>4979</td>\n",
       "      <td>0.0</td>\n",
       "      <td>0.0</td>\n",
       "      <td>0.0</td>\n",
       "      <td>0.0</td>\n",
       "      <td>0.0</td>\n",
       "      <td>0.0</td>\n",
       "      <td>0.0</td>\n",
       "      <td>0.0</td>\n",
       "      <td>...</td>\n",
       "      <td>0.0</td>\n",
       "      <td>0.0</td>\n",
       "      <td>0.0</td>\n",
       "      <td>0.0</td>\n",
       "      <td>0.0</td>\n",
       "      <td>0.0</td>\n",
       "      <td>0.0</td>\n",
       "      <td>0.0</td>\n",
       "      <td>0.0</td>\n",
       "      <td>0.0</td>\n",
       "    </tr>\n",
       "    <tr>\n",
       "      <th>2</th>\n",
       "      <td>100</td>\n",
       "      <td>4892</td>\n",
       "      <td>0.0</td>\n",
       "      <td>0.0</td>\n",
       "      <td>0.0</td>\n",
       "      <td>0.0</td>\n",
       "      <td>0.0</td>\n",
       "      <td>0.0</td>\n",
       "      <td>0.0</td>\n",
       "      <td>0.0</td>\n",
       "      <td>...</td>\n",
       "      <td>0.0</td>\n",
       "      <td>0.0</td>\n",
       "      <td>0.0</td>\n",
       "      <td>0.0</td>\n",
       "      <td>0.0</td>\n",
       "      <td>0.0</td>\n",
       "      <td>0.0</td>\n",
       "      <td>0.0</td>\n",
       "      <td>0.0</td>\n",
       "      <td>0.0</td>\n",
       "    </tr>\n",
       "    <tr>\n",
       "      <th>3</th>\n",
       "      <td>121</td>\n",
       "      <td>4871</td>\n",
       "      <td>0.0</td>\n",
       "      <td>0.0</td>\n",
       "      <td>0.0</td>\n",
       "      <td>0.0</td>\n",
       "      <td>0.0</td>\n",
       "      <td>0.0</td>\n",
       "      <td>0.0</td>\n",
       "      <td>0.0</td>\n",
       "      <td>...</td>\n",
       "      <td>0.0</td>\n",
       "      <td>0.0</td>\n",
       "      <td>0.0</td>\n",
       "      <td>0.0</td>\n",
       "      <td>0.0</td>\n",
       "      <td>0.0</td>\n",
       "      <td>0.0</td>\n",
       "      <td>0.0</td>\n",
       "      <td>0.0</td>\n",
       "      <td>0.0</td>\n",
       "    </tr>\n",
       "    <tr>\n",
       "      <th>4</th>\n",
       "      <td>9</td>\n",
       "      <td>4983</td>\n",
       "      <td>0.0</td>\n",
       "      <td>0.0</td>\n",
       "      <td>0.0</td>\n",
       "      <td>0.0</td>\n",
       "      <td>0.0</td>\n",
       "      <td>0.0</td>\n",
       "      <td>0.0</td>\n",
       "      <td>0.0</td>\n",
       "      <td>...</td>\n",
       "      <td>0.0</td>\n",
       "      <td>0.0</td>\n",
       "      <td>0.0</td>\n",
       "      <td>0.0</td>\n",
       "      <td>0.0</td>\n",
       "      <td>0.0</td>\n",
       "      <td>0.0</td>\n",
       "      <td>0.0</td>\n",
       "      <td>0.0</td>\n",
       "      <td>0.0</td>\n",
       "    </tr>\n",
       "  </tbody>\n",
       "</table>\n",
       "<p>5 rows × 4732 columns</p>\n",
       "</div>"
      ],
      "text/plain": [
       "   SumValues  SumZeros  48df886f9  0deb4b6a8  34b15f335  a8cb14b00  2f0771a37  \\\n",
       "0         79      4913        0.0        0.0        0.0        0.0        0.0   \n",
       "1         13      4979        0.0        0.0        0.0        0.0        0.0   \n",
       "2        100      4892        0.0        0.0        0.0        0.0        0.0   \n",
       "3        121      4871        0.0        0.0        0.0        0.0        0.0   \n",
       "4          9      4983        0.0        0.0        0.0        0.0        0.0   \n",
       "\n",
       "   30347e683  d08d1fbe3  6ee66e115    ...      3ecc09859  9281abeea  \\\n",
       "0        0.0        0.0        0.0    ...            0.0        0.0   \n",
       "1        0.0        0.0        0.0    ...            0.0        0.0   \n",
       "2        0.0        0.0        0.0    ...            0.0        0.0   \n",
       "3        0.0        0.0        0.0    ...            0.0        0.0   \n",
       "4        0.0        0.0        0.0    ...            0.0        0.0   \n",
       "\n",
       "   8675bec0b  3a13ed79a  f677d4d13  71b203550  137efaa80  fb36b89d9  \\\n",
       "0        0.0        0.0        0.0        0.0        0.0        0.0   \n",
       "1        0.0        0.0        0.0        0.0        0.0        0.0   \n",
       "2        0.0        0.0        0.0        0.0        0.0        0.0   \n",
       "3        0.0        0.0        0.0        0.0        0.0        0.0   \n",
       "4        0.0        0.0        0.0        0.0        0.0        0.0   \n",
       "\n",
       "   7e293fbaf  9fc776466  \n",
       "0        0.0        0.0  \n",
       "1        0.0        0.0  \n",
       "2        0.0        0.0  \n",
       "3        0.0        0.0  \n",
       "4        0.0        0.0  \n",
       "\n",
       "[5 rows x 4732 columns]"
      ]
     },
     "execution_count": 35,
     "metadata": {},
     "output_type": "execute_result"
    }
   ],
   "source": [
    "test_df.head()"
   ]
  },
  {
   "cell_type": "code",
   "execution_count": 36,
   "metadata": {
    "_uuid": "009467eb6a25fc9c5c568e0118f9e5ea668d3ad1",
    "collapsed": true
   },
   "outputs": [
    {
     "data": {
      "text/plain": [
       "0    000137c73\n",
       "1    00021489f\n",
       "2    0004d7953\n",
       "3    00056a333\n",
       "4    00056d8eb\n",
       "Name: ID, dtype: object"
      ]
     },
     "execution_count": 36,
     "metadata": {},
     "output_type": "execute_result"
    }
   ],
   "source": [
    "id_test_df.head()"
   ]
  },
  {
   "cell_type": "code",
   "execution_count": null,
   "metadata": {
    "_uuid": "8375bf41d4c9e6fbac856a732019a95e1c4bd741",
    "collapsed": true
   },
   "outputs": [],
   "source": []
  },
  {
   "cell_type": "markdown",
   "metadata": {
    "_uuid": "b19b65be531e8af2ed1e207a9cac73bdd88d2329"
   },
   "source": [
    "# base model"
   ]
  },
  {
   "cell_type": "code",
   "execution_count": 37,
   "metadata": {
    "_uuid": "6e0cfa1e4ce49b26d3a4a15046ef4fc984907876",
    "collapsed": true
   },
   "outputs": [],
   "source": [
    "from sklearn.pipeline import make_pipeline\n",
    "from sklearn.preprocessing import RobustScaler\n",
    "\n",
    "from sklearn.decomposition import PCA\n",
    "from sklearn.decomposition import TruncatedSVD\n",
    "from sklearn.decomposition import NMF\n",
    "from sklearn.manifold import TSNE\n",
    "\n",
    "from hyperopt import hp, tpe, Trials, fmin\n",
    "\n",
    "from sklearn.svm import SVR\n",
    "from sklearn.linear_model import ElasticNet\n",
    "from sklearn.linear_model import Lasso\n",
    "from sklearn.kernel_ridge import KernelRidge\n",
    "from sklearn.neighbors import KNeighborsRegressor\n",
    "from sklearn.ensemble import BaggingRegressor\n",
    "from sklearn.tree import DecisionTreeRegressor\n",
    "\n",
    "from sklearn.ensemble import RandomForestRegressor\n",
    "from sklearn.ensemble import GradientBoostingRegressor\n",
    "\n",
    "\n",
    "\n",
    "import lightgbm as lgb\n",
    "from lightgbm import LGBMRegressor\n",
    "\n",
    "from mlxtend.regressor import StackingRegressor"
   ]
  },
  {
   "cell_type": "code",
   "execution_count": 38,
   "metadata": {},
   "outputs": [
    {
     "ename": "OSError",
     "evalue": "[WinError 126] 指定されたモジュールが見つかりません。",
     "output_type": "error",
     "traceback": [
      "\u001b[1;31m---------------------------------------------------------------------------\u001b[0m",
      "\u001b[1;31mOSError\u001b[0m                                   Traceback (most recent call last)",
      "\u001b[1;32m<ipython-input-38-9b276f7e2c7d>\u001b[0m in \u001b[0;36m<module>\u001b[1;34m()\u001b[0m\n\u001b[1;32m----> 1\u001b[1;33m \u001b[1;32mimport\u001b[0m \u001b[0mxgboost\u001b[0m \u001b[1;32mas\u001b[0m \u001b[0mxgb\u001b[0m\u001b[1;33m\u001b[0m\u001b[0m\n\u001b[0m\u001b[0;32m      2\u001b[0m \u001b[1;32mfrom\u001b[0m \u001b[0mxgboost\u001b[0m \u001b[1;32mimport\u001b[0m \u001b[0mXGBRegressor\u001b[0m\u001b[1;33m\u001b[0m\u001b[0m\n",
      "\u001b[1;32mC:\\Program Files\\Anaconda3\\lib\\site-packages\\xgboost\\__init__.py\u001b[0m in \u001b[0;36m<module>\u001b[1;34m()\u001b[0m\n\u001b[0;32m      9\u001b[0m \u001b[1;32mimport\u001b[0m \u001b[0mos\u001b[0m\u001b[1;33m\u001b[0m\u001b[0m\n\u001b[0;32m     10\u001b[0m \u001b[1;33m\u001b[0m\u001b[0m\n\u001b[1;32m---> 11\u001b[1;33m \u001b[1;32mfrom\u001b[0m \u001b[1;33m.\u001b[0m\u001b[0mcore\u001b[0m \u001b[1;32mimport\u001b[0m \u001b[0mDMatrix\u001b[0m\u001b[1;33m,\u001b[0m \u001b[0mBooster\u001b[0m\u001b[1;33m\u001b[0m\u001b[0m\n\u001b[0m\u001b[0;32m     12\u001b[0m \u001b[1;32mfrom\u001b[0m \u001b[1;33m.\u001b[0m\u001b[0mtraining\u001b[0m \u001b[1;32mimport\u001b[0m \u001b[0mtrain\u001b[0m\u001b[1;33m,\u001b[0m \u001b[0mcv\u001b[0m\u001b[1;33m\u001b[0m\u001b[0m\n\u001b[0;32m     13\u001b[0m \u001b[1;32mfrom\u001b[0m \u001b[1;33m.\u001b[0m \u001b[1;32mimport\u001b[0m \u001b[0mrabit\u001b[0m                   \u001b[1;31m# noqa\u001b[0m\u001b[1;33m\u001b[0m\u001b[0m\n",
      "\u001b[1;32mC:\\Program Files\\Anaconda3\\lib\\site-packages\\xgboost\\core.py\u001b[0m in \u001b[0;36m<module>\u001b[1;34m()\u001b[0m\n\u001b[0;32m    113\u001b[0m \u001b[1;33m\u001b[0m\u001b[0m\n\u001b[0;32m    114\u001b[0m \u001b[1;31m# load the XGBoost library globally\u001b[0m\u001b[1;33m\u001b[0m\u001b[1;33m\u001b[0m\u001b[0m\n\u001b[1;32m--> 115\u001b[1;33m \u001b[0m_LIB\u001b[0m \u001b[1;33m=\u001b[0m \u001b[0m_load_lib\u001b[0m\u001b[1;33m(\u001b[0m\u001b[1;33m)\u001b[0m\u001b[1;33m\u001b[0m\u001b[0m\n\u001b[0m\u001b[0;32m    116\u001b[0m \u001b[1;33m\u001b[0m\u001b[0m\n\u001b[0;32m    117\u001b[0m \u001b[1;33m\u001b[0m\u001b[0m\n",
      "\u001b[1;32mC:\\Program Files\\Anaconda3\\lib\\site-packages\\xgboost\\core.py\u001b[0m in \u001b[0;36m_load_lib\u001b[1;34m()\u001b[0m\n\u001b[0;32m    107\u001b[0m     \u001b[1;32mif\u001b[0m \u001b[0mlen\u001b[0m\u001b[1;33m(\u001b[0m\u001b[0mlib_path\u001b[0m\u001b[1;33m)\u001b[0m \u001b[1;33m==\u001b[0m \u001b[1;36m0\u001b[0m\u001b[1;33m:\u001b[0m\u001b[1;33m\u001b[0m\u001b[0m\n\u001b[0;32m    108\u001b[0m         \u001b[1;32mreturn\u001b[0m \u001b[1;32mNone\u001b[0m\u001b[1;33m\u001b[0m\u001b[0m\n\u001b[1;32m--> 109\u001b[1;33m     \u001b[0mlib\u001b[0m \u001b[1;33m=\u001b[0m \u001b[0mctypes\u001b[0m\u001b[1;33m.\u001b[0m\u001b[0mcdll\u001b[0m\u001b[1;33m.\u001b[0m\u001b[0mLoadLibrary\u001b[0m\u001b[1;33m(\u001b[0m\u001b[0mlib_path\u001b[0m\u001b[1;33m[\u001b[0m\u001b[1;36m0\u001b[0m\u001b[1;33m]\u001b[0m\u001b[1;33m)\u001b[0m\u001b[1;33m\u001b[0m\u001b[0m\n\u001b[0m\u001b[0;32m    110\u001b[0m     \u001b[0mlib\u001b[0m\u001b[1;33m.\u001b[0m\u001b[0mXGBGetLastError\u001b[0m\u001b[1;33m.\u001b[0m\u001b[0mrestype\u001b[0m \u001b[1;33m=\u001b[0m \u001b[0mctypes\u001b[0m\u001b[1;33m.\u001b[0m\u001b[0mc_char_p\u001b[0m\u001b[1;33m\u001b[0m\u001b[0m\n\u001b[0;32m    111\u001b[0m     \u001b[1;32mreturn\u001b[0m \u001b[0mlib\u001b[0m\u001b[1;33m\u001b[0m\u001b[0m\n",
      "\u001b[1;32mC:\\Program Files\\Anaconda3\\lib\\ctypes\\__init__.py\u001b[0m in \u001b[0;36mLoadLibrary\u001b[1;34m(self, name)\u001b[0m\n\u001b[0;32m    424\u001b[0m \u001b[1;33m\u001b[0m\u001b[0m\n\u001b[0;32m    425\u001b[0m     \u001b[1;32mdef\u001b[0m \u001b[0mLoadLibrary\u001b[0m\u001b[1;33m(\u001b[0m\u001b[0mself\u001b[0m\u001b[1;33m,\u001b[0m \u001b[0mname\u001b[0m\u001b[1;33m)\u001b[0m\u001b[1;33m:\u001b[0m\u001b[1;33m\u001b[0m\u001b[0m\n\u001b[1;32m--> 426\u001b[1;33m         \u001b[1;32mreturn\u001b[0m \u001b[0mself\u001b[0m\u001b[1;33m.\u001b[0m\u001b[0m_dlltype\u001b[0m\u001b[1;33m(\u001b[0m\u001b[0mname\u001b[0m\u001b[1;33m)\u001b[0m\u001b[1;33m\u001b[0m\u001b[0m\n\u001b[0m\u001b[0;32m    427\u001b[0m \u001b[1;33m\u001b[0m\u001b[0m\n\u001b[0;32m    428\u001b[0m \u001b[0mcdll\u001b[0m \u001b[1;33m=\u001b[0m \u001b[0mLibraryLoader\u001b[0m\u001b[1;33m(\u001b[0m\u001b[0mCDLL\u001b[0m\u001b[1;33m)\u001b[0m\u001b[1;33m\u001b[0m\u001b[0m\n",
      "\u001b[1;32mC:\\Program Files\\Anaconda3\\lib\\ctypes\\__init__.py\u001b[0m in \u001b[0;36m__init__\u001b[1;34m(self, name, mode, handle, use_errno, use_last_error)\u001b[0m\n\u001b[0;32m    346\u001b[0m \u001b[1;33m\u001b[0m\u001b[0m\n\u001b[0;32m    347\u001b[0m         \u001b[1;32mif\u001b[0m \u001b[0mhandle\u001b[0m \u001b[1;32mis\u001b[0m \u001b[1;32mNone\u001b[0m\u001b[1;33m:\u001b[0m\u001b[1;33m\u001b[0m\u001b[0m\n\u001b[1;32m--> 348\u001b[1;33m             \u001b[0mself\u001b[0m\u001b[1;33m.\u001b[0m\u001b[0m_handle\u001b[0m \u001b[1;33m=\u001b[0m \u001b[0m_dlopen\u001b[0m\u001b[1;33m(\u001b[0m\u001b[0mself\u001b[0m\u001b[1;33m.\u001b[0m\u001b[0m_name\u001b[0m\u001b[1;33m,\u001b[0m \u001b[0mmode\u001b[0m\u001b[1;33m)\u001b[0m\u001b[1;33m\u001b[0m\u001b[0m\n\u001b[0m\u001b[0;32m    349\u001b[0m         \u001b[1;32melse\u001b[0m\u001b[1;33m:\u001b[0m\u001b[1;33m\u001b[0m\u001b[0m\n\u001b[0;32m    350\u001b[0m             \u001b[0mself\u001b[0m\u001b[1;33m.\u001b[0m\u001b[0m_handle\u001b[0m \u001b[1;33m=\u001b[0m \u001b[0mhandle\u001b[0m\u001b[1;33m\u001b[0m\u001b[0m\n",
      "\u001b[1;31mOSError\u001b[0m: [WinError 126] 指定されたモジュールが見つかりません。"
     ]
    }
   ],
   "source": [
    "import xgboost as xgb\n",
    "from xgboost import XGBRegressor"
   ]
  },
  {
   "cell_type": "markdown",
   "metadata": {
    "_uuid": "6b6b2e6579c7401f3ed54e3c987c9924d7c95d7f"
   },
   "source": [
    "## Defined find best parameter function by hyperopt module"
   ]
  },
  {
   "cell_type": "markdown",
   "metadata": {
    "_uuid": "7026026a95cb3183b19b9140337027346b12527d"
   },
   "source": [
    "### give model for hyperopt my funcs"
   ]
  },
  {
   "cell_type": "code",
   "execution_count": 39,
   "metadata": {
    "_uuid": "ae6711d01a4e2e031c3b0d5200a7da8268f1f8ad",
    "code_folding": [],
    "collapsed": true
   },
   "outputs": [],
   "source": [
    "count_hyperopt = 0\n",
    "\n",
    "def hyperopt_objective(model, X_train, y_train, scoring=\"neg_mean_squared_log_error\", cv_size=5, n_jobs=3):\n",
    "    \"\"\"return objective function for hyperopt\"\"\"\n",
    "\n",
    "    def objective(args):\n",
    "        global count_hyperopt\n",
    "        print(\"Trial \", count_hyperopt, \", Params \", args, \" -> \", end=\"\")\n",
    "        \n",
    "#        print(model.steps[-1])\n",
    "        model.steps[-1][1].set_params(**args)\n",
    "\n",
    "        score = cross_val_score(model, X_train, y_train, scoring=scoring, cv=cv_size, n_jobs=n_jobs)\n",
    "        print(score, end=\"\")\n",
    "        \n",
    "        print(\"Done. Score : \", np.sqrt(-score.mean()))\n",
    "        count_hyperopt += 1\n",
    "  \n",
    "        return np.sqrt(-score.mean())\n",
    "\n",
    "    return objective\n",
    "\n",
    "\n",
    "\n",
    "\n",
    "\n",
    "def searchHyperParam(model, par_space, X_train, y_train, scoring=\"r2\", max_evals=100, cv_size=5, n_jobs=3):\n",
    "    \"\"\"search hyper parameter of a selected model\"\"\"\n",
    "\n",
    "    \n",
    "    global count_hyperopt\n",
    "    count_hyperopt = 0\n",
    "    \n",
    "    objective = hyperopt_objective(model, X_train, y_train, scoring=scoring, cv_size=cv_size, n_jobs=n_jobs)\n",
    "    \n",
    "    #best_params = findBestParm(objective, par_space, X_train, y_train, scoring=scoring, max_evals=max_evals)\n",
    "\n",
    "    trials = Trials()\n",
    "\n",
    "    best = fmin(\n",
    "        objective, \n",
    "        par_space, # 探索するパラメータのdictもしくはlist\n",
    "        algo=tpe.suggest, # どのロジックを利用するか、基本的にはtpe.suggestでok\n",
    "        max_evals=max_evals,\n",
    "        trials=trials,\n",
    "        #verbose=1\n",
    "    )\n",
    "    print(\"best par: \", best)\n",
    "    print(\"best trial: \", trials.best_trial[\"result\"])\n",
    "    #print(\"trials losses: \", trials.losses())\n",
    "\n",
    "    count_hyperopt = 0\n",
    "    \n",
    "    return best\n",
    "\n",
    "\n",
    "def evalModelByCV(model, X_train, y_train, scoring=\"neg_mean_squared_log_error\"):\n",
    "    \"\"\"evaluate model by cross validation\"\"\"\n",
    "    \n",
    "    score = cross_val_score(model, X_train, y_train, scoring=scoring, cv=5)\n",
    "\n",
    "    print(\"model score: {:f} ({:f})\\n\" .format(\n",
    "        score.mean(), score.std()))\n",
    "    print(\"all scores: \", score)\n",
    "\n",
    "    \n",
    "def plot_my_learning_curves(X_train, y_train, X_test, y_test, model, scoring=\"r2\", cv=5, n_jobs=3):\n",
    "    \"\"\"plot learning curves by mlxtend and my func my_plot_learning_curve()\"\"\"\n",
    "    plot_learning_curves(X_train, y_train, X_test, y_test, \n",
    "                     model, scoring=scoring)\n",
    "    plt.show()\n",
    "    \n",
    "    title = \"Learning Curves\"\n",
    "    my_plot_learning_curve(model, title, \n",
    "                        X_train, y_train,\n",
    "                        #ylim=(0.7, 1.01), \n",
    "                        cv=cv, scoring=scoring,\n",
    "                        n_jobs=n_jobs)\n",
    "    plt.show()\n",
    "\n",
    "    \n",
    "    "
   ]
  },
  {
   "cell_type": "raw",
   "metadata": {
    "_uuid": "67042ec2fc150b4cdf42a4855af9f62fef8dd62b"
   },
   "source": []
  },
  {
   "cell_type": "raw",
   "metadata": {
    "_uuid": "564ded076ca634ce737e9d114761a3bd5eddcab1"
   },
   "source": [
    "Finally, I found why the svr doesn't finish.\n",
    "Here is the output just before the stop.\n",
    "\n",
    "Trial  0 , Params  {'C': 0.015601187011911637, 'epsilon': 0.5516972232183148, 'gamma': 0.06236609322180074, 'kernel': 'rbf'}  -> Done\n",
    "Trial  1 , Params  {'C': 0.7244447849579089, 'epsilon': 1.358464177771488, 'gamma': 0.7165688120262619, 'kernel': 'sigmoid'}  -> Done\n",
    "Trial  2 , Params  {'C': 0.006556279706811856, 'epsilon': 0.1067903873366066, 'gamma': 0.0005180756828484195, 'kernel': 'poly'}  -> \n",
    "\n",
    "The 'poly' kernel was used. Because of that, the parameters increased dramatically.\n",
    "In this time, better not to use poly.\n",
    "Of course, this param trial can be finished, I watched it. But better to not use.\n",
    "\n"
   ]
  },
  {
   "cell_type": "raw",
   "metadata": {
    "_uuid": "0242121ad452c0dba819d13a90e238d86e95daf7"
   },
   "source": [
    "raise Exception()"
   ]
  },
  {
   "cell_type": "markdown",
   "metadata": {
    "_uuid": "70e5733edd035eb317195a79c244d29b2a05d901"
   },
   "source": [
    "## Def hyperopt param"
   ]
  },
  {
   "cell_type": "code",
   "execution_count": 40,
   "metadata": {
    "_uuid": "fce6dcf503b79b3b34fd2a9d60c65497e528be43",
    "collapsed": true
   },
   "outputs": [],
   "source": [
    "cv_size = 5\n",
    "#max_evals = 100\n",
    "max_evals = 100\n",
    "n_jobs = 1"
   ]
  },
  {
   "cell_type": "raw",
   "metadata": {
    "_uuid": "a3a62da8ed38e13b5f300f646f66dda3d997b8aa"
   },
   "source": [
    "raise Exception(\"Just to stop execution\")"
   ]
  },
  {
   "cell_type": "markdown",
   "metadata": {
    "_uuid": "9dc9666722289d95b04670ed2adfa3384d0b211d"
   },
   "source": [
    "## SVR"
   ]
  },
  {
   "cell_type": "code",
   "execution_count": 41,
   "metadata": {
    "_uuid": "b9e465213020cda8a81698dc13ff83c0eab2d48b",
    "collapsed": true
   },
   "outputs": [],
   "source": [
    "svr = make_pipeline(\n",
    "#    PCA(n_components=0.80),\n",
    "#    NMF(n_components=100),\n",
    "#    TruncatedSVD(n_components=390),\n",
    "#    TruncatedSVD(n_components=100),\n",
    "    \n",
    "    RobustScaler(),\n",
    "    SVR()\n",
    "\n",
    ")\n",
    "\n",
    "kernel_list = [\n",
    "    'rbf',\n",
    "#    'poly',\n",
    "    'sigmoid']\n",
    "par_space = {\n",
    "    'C':hp.loguniform('C', -8, 2),\n",
    "    'gamma':hp.loguniform('gamma', -8, 2),\n",
    "    'epsilon':hp.loguniform('epsilon', -8, 2),\n",
    "    'kernel':hp.choice('kernel', kernel_list)\n",
    "}\n"
   ]
  },
  {
   "cell_type": "code",
   "execution_count": 42,
   "metadata": {
    "_uuid": "5f8356d746d019774ebc641851280e135a8c99bb",
    "collapsed": true,
    "scrolled": true
   },
   "outputs": [
    {
     "name": "stdout",
     "output_type": "stream",
     "text": [
      "Trial  0 , Params  {'C': 0.004538580403771924, 'epsilon': 0.10263994893049057, 'gamma': 0.036096638804256245, 'kernel': 'rbf'}  -> [-0.01372107 -0.01444386 -0.01421166 -0.01382051 -0.01377625]Done. Score :  0.1182990731242911\n",
      "Trial  1 , Params  {'C': 0.0007758756984479297, 'epsilon': 0.007462970830558342, 'gamma': 0.018217361127987393, 'kernel': 'sigmoid'}  -> [-0.01369217 -0.01444684 -0.01415883 -0.01372001 -0.01368794]Done. Score :  0.11807268865249865\n",
      "Trial  2 , Params  {'C': 0.06384809991681104, 'epsilon': 0.0004884607623230601, 'gamma': 0.0011286333160694308, 'kernel': 'sigmoid'}  -> "
     ]
    },
    {
     "name": "stderr",
     "output_type": "stream",
     "text": [
      "C:\\Program Files\\Anaconda3\\lib\\site-packages\\sklearn\\metrics\\regression.py:314: RuntimeWarning: invalid value encountered in log\n",
      "  return mean_squared_error(np.log(y_true + 1), np.log(y_pred + 1),\n"
     ]
    },
    {
     "ename": "ValueError",
     "evalue": "Input contains NaN, infinity or a value too large for dtype('float64').",
     "output_type": "error",
     "traceback": [
      "\u001b[1;31m---------------------------------------------------------------------------\u001b[0m",
      "\u001b[1;31mValueError\u001b[0m                                Traceback (most recent call last)",
      "\u001b[1;32m<timed exec>\u001b[0m in \u001b[0;36m<module>\u001b[1;34m()\u001b[0m\n",
      "\u001b[1;32m<ipython-input-39-53e7219379d9>\u001b[0m in \u001b[0;36msearchHyperParam\u001b[1;34m(model, par_space, X_train, y_train, scoring, max_evals, cv_size, n_jobs)\u001b[0m\n\u001b[0;32m     43\u001b[0m         \u001b[0malgo\u001b[0m\u001b[1;33m=\u001b[0m\u001b[0mtpe\u001b[0m\u001b[1;33m.\u001b[0m\u001b[0msuggest\u001b[0m\u001b[1;33m,\u001b[0m \u001b[1;31m# どのロジックを利用するか、基本的にはtpe.suggestでok\u001b[0m\u001b[1;33m\u001b[0m\u001b[0m\n\u001b[0;32m     44\u001b[0m         \u001b[0mmax_evals\u001b[0m\u001b[1;33m=\u001b[0m\u001b[0mmax_evals\u001b[0m\u001b[1;33m,\u001b[0m\u001b[1;33m\u001b[0m\u001b[0m\n\u001b[1;32m---> 45\u001b[1;33m         \u001b[0mtrials\u001b[0m\u001b[1;33m=\u001b[0m\u001b[0mtrials\u001b[0m\u001b[1;33m,\u001b[0m\u001b[1;33m\u001b[0m\u001b[0m\n\u001b[0m\u001b[0;32m     46\u001b[0m         \u001b[1;31m#verbose=1\u001b[0m\u001b[1;33m\u001b[0m\u001b[1;33m\u001b[0m\u001b[0m\n\u001b[0;32m     47\u001b[0m     )\n",
      "\u001b[1;32mC:\\Program Files\\Anaconda3\\lib\\site-packages\\hyperopt\\fmin.py\u001b[0m in \u001b[0;36mfmin\u001b[1;34m(fn, space, algo, max_evals, trials, rstate, allow_trials_fmin, pass_expr_memo_ctrl, catch_eval_exceptions, verbose, return_argmin)\u001b[0m\n\u001b[0;32m    305\u001b[0m             \u001b[0mverbose\u001b[0m\u001b[1;33m=\u001b[0m\u001b[0mverbose\u001b[0m\u001b[1;33m,\u001b[0m\u001b[1;33m\u001b[0m\u001b[0m\n\u001b[0;32m    306\u001b[0m             \u001b[0mcatch_eval_exceptions\u001b[0m\u001b[1;33m=\u001b[0m\u001b[0mcatch_eval_exceptions\u001b[0m\u001b[1;33m,\u001b[0m\u001b[1;33m\u001b[0m\u001b[0m\n\u001b[1;32m--> 307\u001b[1;33m             \u001b[0mreturn_argmin\u001b[0m\u001b[1;33m=\u001b[0m\u001b[0mreturn_argmin\u001b[0m\u001b[1;33m,\u001b[0m\u001b[1;33m\u001b[0m\u001b[0m\n\u001b[0m\u001b[0;32m    308\u001b[0m         )\n\u001b[0;32m    309\u001b[0m \u001b[1;33m\u001b[0m\u001b[0m\n",
      "\u001b[1;32mC:\\Program Files\\Anaconda3\\lib\\site-packages\\hyperopt\\base.py\u001b[0m in \u001b[0;36mfmin\u001b[1;34m(self, fn, space, algo, max_evals, rstate, verbose, pass_expr_memo_ctrl, catch_eval_exceptions, return_argmin)\u001b[0m\n\u001b[0;32m    633\u001b[0m             \u001b[0mpass_expr_memo_ctrl\u001b[0m\u001b[1;33m=\u001b[0m\u001b[0mpass_expr_memo_ctrl\u001b[0m\u001b[1;33m,\u001b[0m\u001b[1;33m\u001b[0m\u001b[0m\n\u001b[0;32m    634\u001b[0m             \u001b[0mcatch_eval_exceptions\u001b[0m\u001b[1;33m=\u001b[0m\u001b[0mcatch_eval_exceptions\u001b[0m\u001b[1;33m,\u001b[0m\u001b[1;33m\u001b[0m\u001b[0m\n\u001b[1;32m--> 635\u001b[1;33m             return_argmin=return_argmin)\n\u001b[0m\u001b[0;32m    636\u001b[0m \u001b[1;33m\u001b[0m\u001b[0m\n\u001b[0;32m    637\u001b[0m \u001b[1;33m\u001b[0m\u001b[0m\n",
      "\u001b[1;32mC:\\Program Files\\Anaconda3\\lib\\site-packages\\hyperopt\\fmin.py\u001b[0m in \u001b[0;36mfmin\u001b[1;34m(fn, space, algo, max_evals, trials, rstate, allow_trials_fmin, pass_expr_memo_ctrl, catch_eval_exceptions, verbose, return_argmin)\u001b[0m\n\u001b[0;32m    318\u001b[0m                     verbose=verbose)\n\u001b[0;32m    319\u001b[0m     \u001b[0mrval\u001b[0m\u001b[1;33m.\u001b[0m\u001b[0mcatch_eval_exceptions\u001b[0m \u001b[1;33m=\u001b[0m \u001b[0mcatch_eval_exceptions\u001b[0m\u001b[1;33m\u001b[0m\u001b[0m\n\u001b[1;32m--> 320\u001b[1;33m     \u001b[0mrval\u001b[0m\u001b[1;33m.\u001b[0m\u001b[0mexhaust\u001b[0m\u001b[1;33m(\u001b[0m\u001b[1;33m)\u001b[0m\u001b[1;33m\u001b[0m\u001b[0m\n\u001b[0m\u001b[0;32m    321\u001b[0m     \u001b[1;32mif\u001b[0m \u001b[0mreturn_argmin\u001b[0m\u001b[1;33m:\u001b[0m\u001b[1;33m\u001b[0m\u001b[0m\n\u001b[0;32m    322\u001b[0m         \u001b[1;32mreturn\u001b[0m \u001b[0mtrials\u001b[0m\u001b[1;33m.\u001b[0m\u001b[0margmin\u001b[0m\u001b[1;33m\u001b[0m\u001b[0m\n",
      "\u001b[1;32mC:\\Program Files\\Anaconda3\\lib\\site-packages\\hyperopt\\fmin.py\u001b[0m in \u001b[0;36mexhaust\u001b[1;34m(self)\u001b[0m\n\u001b[0;32m    197\u001b[0m     \u001b[1;32mdef\u001b[0m \u001b[0mexhaust\u001b[0m\u001b[1;33m(\u001b[0m\u001b[0mself\u001b[0m\u001b[1;33m)\u001b[0m\u001b[1;33m:\u001b[0m\u001b[1;33m\u001b[0m\u001b[0m\n\u001b[0;32m    198\u001b[0m         \u001b[0mn_done\u001b[0m \u001b[1;33m=\u001b[0m \u001b[0mlen\u001b[0m\u001b[1;33m(\u001b[0m\u001b[0mself\u001b[0m\u001b[1;33m.\u001b[0m\u001b[0mtrials\u001b[0m\u001b[1;33m)\u001b[0m\u001b[1;33m\u001b[0m\u001b[0m\n\u001b[1;32m--> 199\u001b[1;33m         \u001b[0mself\u001b[0m\u001b[1;33m.\u001b[0m\u001b[0mrun\u001b[0m\u001b[1;33m(\u001b[0m\u001b[0mself\u001b[0m\u001b[1;33m.\u001b[0m\u001b[0mmax_evals\u001b[0m \u001b[1;33m-\u001b[0m \u001b[0mn_done\u001b[0m\u001b[1;33m,\u001b[0m \u001b[0mblock_until_done\u001b[0m\u001b[1;33m=\u001b[0m\u001b[0mself\u001b[0m\u001b[1;33m.\u001b[0m\u001b[0masync\u001b[0m\u001b[1;33m)\u001b[0m\u001b[1;33m\u001b[0m\u001b[0m\n\u001b[0m\u001b[0;32m    200\u001b[0m         \u001b[0mself\u001b[0m\u001b[1;33m.\u001b[0m\u001b[0mtrials\u001b[0m\u001b[1;33m.\u001b[0m\u001b[0mrefresh\u001b[0m\u001b[1;33m(\u001b[0m\u001b[1;33m)\u001b[0m\u001b[1;33m\u001b[0m\u001b[0m\n\u001b[0;32m    201\u001b[0m         \u001b[1;32mreturn\u001b[0m \u001b[0mself\u001b[0m\u001b[1;33m\u001b[0m\u001b[0m\n",
      "\u001b[1;32mC:\\Program Files\\Anaconda3\\lib\\site-packages\\hyperopt\\fmin.py\u001b[0m in \u001b[0;36mrun\u001b[1;34m(self, N, block_until_done)\u001b[0m\n\u001b[0;32m    171\u001b[0m             \u001b[1;32melse\u001b[0m\u001b[1;33m:\u001b[0m\u001b[1;33m\u001b[0m\u001b[0m\n\u001b[0;32m    172\u001b[0m                 \u001b[1;31m# -- loop over trials and do the jobs directly\u001b[0m\u001b[1;33m\u001b[0m\u001b[1;33m\u001b[0m\u001b[0m\n\u001b[1;32m--> 173\u001b[1;33m                 \u001b[0mself\u001b[0m\u001b[1;33m.\u001b[0m\u001b[0mserial_evaluate\u001b[0m\u001b[1;33m(\u001b[0m\u001b[1;33m)\u001b[0m\u001b[1;33m\u001b[0m\u001b[0m\n\u001b[0m\u001b[0;32m    174\u001b[0m \u001b[1;33m\u001b[0m\u001b[0m\n\u001b[0;32m    175\u001b[0m             \u001b[1;32mif\u001b[0m \u001b[0mstopped\u001b[0m\u001b[1;33m:\u001b[0m\u001b[1;33m\u001b[0m\u001b[0m\n",
      "\u001b[1;32mC:\\Program Files\\Anaconda3\\lib\\site-packages\\hyperopt\\fmin.py\u001b[0m in \u001b[0;36mserial_evaluate\u001b[1;34m(self, N)\u001b[0m\n\u001b[0;32m     90\u001b[0m                 \u001b[0mctrl\u001b[0m \u001b[1;33m=\u001b[0m \u001b[0mbase\u001b[0m\u001b[1;33m.\u001b[0m\u001b[0mCtrl\u001b[0m\u001b[1;33m(\u001b[0m\u001b[0mself\u001b[0m\u001b[1;33m.\u001b[0m\u001b[0mtrials\u001b[0m\u001b[1;33m,\u001b[0m \u001b[0mcurrent_trial\u001b[0m\u001b[1;33m=\u001b[0m\u001b[0mtrial\u001b[0m\u001b[1;33m)\u001b[0m\u001b[1;33m\u001b[0m\u001b[0m\n\u001b[0;32m     91\u001b[0m                 \u001b[1;32mtry\u001b[0m\u001b[1;33m:\u001b[0m\u001b[1;33m\u001b[0m\u001b[0m\n\u001b[1;32m---> 92\u001b[1;33m                     \u001b[0mresult\u001b[0m \u001b[1;33m=\u001b[0m \u001b[0mself\u001b[0m\u001b[1;33m.\u001b[0m\u001b[0mdomain\u001b[0m\u001b[1;33m.\u001b[0m\u001b[0mevaluate\u001b[0m\u001b[1;33m(\u001b[0m\u001b[0mspec\u001b[0m\u001b[1;33m,\u001b[0m \u001b[0mctrl\u001b[0m\u001b[1;33m)\u001b[0m\u001b[1;33m\u001b[0m\u001b[0m\n\u001b[0m\u001b[0;32m     93\u001b[0m                 \u001b[1;32mexcept\u001b[0m \u001b[0mException\u001b[0m \u001b[1;32mas\u001b[0m \u001b[0me\u001b[0m\u001b[1;33m:\u001b[0m\u001b[1;33m\u001b[0m\u001b[0m\n\u001b[0;32m     94\u001b[0m                     \u001b[0mlogger\u001b[0m\u001b[1;33m.\u001b[0m\u001b[0minfo\u001b[0m\u001b[1;33m(\u001b[0m\u001b[1;34m'job exception: %s'\u001b[0m \u001b[1;33m%\u001b[0m \u001b[0mstr\u001b[0m\u001b[1;33m(\u001b[0m\u001b[0me\u001b[0m\u001b[1;33m)\u001b[0m\u001b[1;33m)\u001b[0m\u001b[1;33m\u001b[0m\u001b[0m\n",
      "\u001b[1;32mC:\\Program Files\\Anaconda3\\lib\\site-packages\\hyperopt\\base.py\u001b[0m in \u001b[0;36mevaluate\u001b[1;34m(self, config, ctrl, attach_attachments)\u001b[0m\n\u001b[0;32m    838\u001b[0m                 \u001b[0mmemo\u001b[0m\u001b[1;33m=\u001b[0m\u001b[0mmemo\u001b[0m\u001b[1;33m,\u001b[0m\u001b[1;33m\u001b[0m\u001b[0m\n\u001b[0;32m    839\u001b[0m                 print_node_on_error=self.rec_eval_print_node_on_error)\n\u001b[1;32m--> 840\u001b[1;33m             \u001b[0mrval\u001b[0m \u001b[1;33m=\u001b[0m \u001b[0mself\u001b[0m\u001b[1;33m.\u001b[0m\u001b[0mfn\u001b[0m\u001b[1;33m(\u001b[0m\u001b[0mpyll_rval\u001b[0m\u001b[1;33m)\u001b[0m\u001b[1;33m\u001b[0m\u001b[0m\n\u001b[0m\u001b[0;32m    841\u001b[0m \u001b[1;33m\u001b[0m\u001b[0m\n\u001b[0;32m    842\u001b[0m         \u001b[1;32mif\u001b[0m \u001b[0misinstance\u001b[0m\u001b[1;33m(\u001b[0m\u001b[0mrval\u001b[0m\u001b[1;33m,\u001b[0m \u001b[1;33m(\u001b[0m\u001b[0mfloat\u001b[0m\u001b[1;33m,\u001b[0m \u001b[0mint\u001b[0m\u001b[1;33m,\u001b[0m \u001b[0mnp\u001b[0m\u001b[1;33m.\u001b[0m\u001b[0mnumber\u001b[0m\u001b[1;33m)\u001b[0m\u001b[1;33m)\u001b[0m\u001b[1;33m:\u001b[0m\u001b[1;33m\u001b[0m\u001b[0m\n",
      "\u001b[1;32m<ipython-input-39-53e7219379d9>\u001b[0m in \u001b[0;36mobjective\u001b[1;34m(args)\u001b[0m\n\u001b[0;32m     11\u001b[0m         \u001b[0mmodel\u001b[0m\u001b[1;33m.\u001b[0m\u001b[0msteps\u001b[0m\u001b[1;33m[\u001b[0m\u001b[1;33m-\u001b[0m\u001b[1;36m1\u001b[0m\u001b[1;33m]\u001b[0m\u001b[1;33m[\u001b[0m\u001b[1;36m1\u001b[0m\u001b[1;33m]\u001b[0m\u001b[1;33m.\u001b[0m\u001b[0mset_params\u001b[0m\u001b[1;33m(\u001b[0m\u001b[1;33m**\u001b[0m\u001b[0margs\u001b[0m\u001b[1;33m)\u001b[0m\u001b[1;33m\u001b[0m\u001b[0m\n\u001b[0;32m     12\u001b[0m \u001b[1;33m\u001b[0m\u001b[0m\n\u001b[1;32m---> 13\u001b[1;33m         \u001b[0mscore\u001b[0m \u001b[1;33m=\u001b[0m \u001b[0mcross_val_score\u001b[0m\u001b[1;33m(\u001b[0m\u001b[0mmodel\u001b[0m\u001b[1;33m,\u001b[0m \u001b[0mX_train\u001b[0m\u001b[1;33m,\u001b[0m \u001b[0my_train\u001b[0m\u001b[1;33m,\u001b[0m \u001b[0mscoring\u001b[0m\u001b[1;33m=\u001b[0m\u001b[0mscoring\u001b[0m\u001b[1;33m,\u001b[0m \u001b[0mcv\u001b[0m\u001b[1;33m=\u001b[0m\u001b[0mcv_size\u001b[0m\u001b[1;33m,\u001b[0m \u001b[0mn_jobs\u001b[0m\u001b[1;33m=\u001b[0m\u001b[0mn_jobs\u001b[0m\u001b[1;33m)\u001b[0m\u001b[1;33m\u001b[0m\u001b[0m\n\u001b[0m\u001b[0;32m     14\u001b[0m         \u001b[0mprint\u001b[0m\u001b[1;33m(\u001b[0m\u001b[0mscore\u001b[0m\u001b[1;33m,\u001b[0m \u001b[0mend\u001b[0m\u001b[1;33m=\u001b[0m\u001b[1;34m\"\"\u001b[0m\u001b[1;33m)\u001b[0m\u001b[1;33m\u001b[0m\u001b[0m\n\u001b[0;32m     15\u001b[0m \u001b[1;33m\u001b[0m\u001b[0m\n",
      "\u001b[1;32mC:\\Program Files\\Anaconda3\\lib\\site-packages\\sklearn\\model_selection\\_validation.py\u001b[0m in \u001b[0;36mcross_val_score\u001b[1;34m(estimator, X, y, groups, scoring, cv, n_jobs, verbose, fit_params, pre_dispatch)\u001b[0m\n\u001b[0;32m    340\u001b[0m                                 \u001b[0mn_jobs\u001b[0m\u001b[1;33m=\u001b[0m\u001b[0mn_jobs\u001b[0m\u001b[1;33m,\u001b[0m \u001b[0mverbose\u001b[0m\u001b[1;33m=\u001b[0m\u001b[0mverbose\u001b[0m\u001b[1;33m,\u001b[0m\u001b[1;33m\u001b[0m\u001b[0m\n\u001b[0;32m    341\u001b[0m                                 \u001b[0mfit_params\u001b[0m\u001b[1;33m=\u001b[0m\u001b[0mfit_params\u001b[0m\u001b[1;33m,\u001b[0m\u001b[1;33m\u001b[0m\u001b[0m\n\u001b[1;32m--> 342\u001b[1;33m                                 pre_dispatch=pre_dispatch)\n\u001b[0m\u001b[0;32m    343\u001b[0m     \u001b[1;32mreturn\u001b[0m \u001b[0mcv_results\u001b[0m\u001b[1;33m[\u001b[0m\u001b[1;34m'test_score'\u001b[0m\u001b[1;33m]\u001b[0m\u001b[1;33m\u001b[0m\u001b[0m\n\u001b[0;32m    344\u001b[0m \u001b[1;33m\u001b[0m\u001b[0m\n",
      "\u001b[1;32mC:\\Program Files\\Anaconda3\\lib\\site-packages\\sklearn\\model_selection\\_validation.py\u001b[0m in \u001b[0;36mcross_validate\u001b[1;34m(estimator, X, y, groups, scoring, cv, n_jobs, verbose, fit_params, pre_dispatch, return_train_score)\u001b[0m\n\u001b[0;32m    204\u001b[0m             \u001b[0mfit_params\u001b[0m\u001b[1;33m,\u001b[0m \u001b[0mreturn_train_score\u001b[0m\u001b[1;33m=\u001b[0m\u001b[0mreturn_train_score\u001b[0m\u001b[1;33m,\u001b[0m\u001b[1;33m\u001b[0m\u001b[0m\n\u001b[0;32m    205\u001b[0m             return_times=True)\n\u001b[1;32m--> 206\u001b[1;33m         for train, test in cv.split(X, y, groups))\n\u001b[0m\u001b[0;32m    207\u001b[0m \u001b[1;33m\u001b[0m\u001b[0m\n\u001b[0;32m    208\u001b[0m     \u001b[1;32mif\u001b[0m \u001b[0mreturn_train_score\u001b[0m\u001b[1;33m:\u001b[0m\u001b[1;33m\u001b[0m\u001b[0m\n",
      "\u001b[1;32mC:\\Program Files\\Anaconda3\\lib\\site-packages\\sklearn\\externals\\joblib\\parallel.py\u001b[0m in \u001b[0;36m__call__\u001b[1;34m(self, iterable)\u001b[0m\n\u001b[0;32m    777\u001b[0m             \u001b[1;31m# was dispatched. In particular this covers the edge\u001b[0m\u001b[1;33m\u001b[0m\u001b[1;33m\u001b[0m\u001b[0m\n\u001b[0;32m    778\u001b[0m             \u001b[1;31m# case of Parallel used with an exhausted iterator.\u001b[0m\u001b[1;33m\u001b[0m\u001b[1;33m\u001b[0m\u001b[0m\n\u001b[1;32m--> 779\u001b[1;33m             \u001b[1;32mwhile\u001b[0m \u001b[0mself\u001b[0m\u001b[1;33m.\u001b[0m\u001b[0mdispatch_one_batch\u001b[0m\u001b[1;33m(\u001b[0m\u001b[0miterator\u001b[0m\u001b[1;33m)\u001b[0m\u001b[1;33m:\u001b[0m\u001b[1;33m\u001b[0m\u001b[0m\n\u001b[0m\u001b[0;32m    780\u001b[0m                 \u001b[0mself\u001b[0m\u001b[1;33m.\u001b[0m\u001b[0m_iterating\u001b[0m \u001b[1;33m=\u001b[0m \u001b[1;32mTrue\u001b[0m\u001b[1;33m\u001b[0m\u001b[0m\n\u001b[0;32m    781\u001b[0m             \u001b[1;32melse\u001b[0m\u001b[1;33m:\u001b[0m\u001b[1;33m\u001b[0m\u001b[0m\n",
      "\u001b[1;32mC:\\Program Files\\Anaconda3\\lib\\site-packages\\sklearn\\externals\\joblib\\parallel.py\u001b[0m in \u001b[0;36mdispatch_one_batch\u001b[1;34m(self, iterator)\u001b[0m\n\u001b[0;32m    623\u001b[0m                 \u001b[1;32mreturn\u001b[0m \u001b[1;32mFalse\u001b[0m\u001b[1;33m\u001b[0m\u001b[0m\n\u001b[0;32m    624\u001b[0m             \u001b[1;32melse\u001b[0m\u001b[1;33m:\u001b[0m\u001b[1;33m\u001b[0m\u001b[0m\n\u001b[1;32m--> 625\u001b[1;33m                 \u001b[0mself\u001b[0m\u001b[1;33m.\u001b[0m\u001b[0m_dispatch\u001b[0m\u001b[1;33m(\u001b[0m\u001b[0mtasks\u001b[0m\u001b[1;33m)\u001b[0m\u001b[1;33m\u001b[0m\u001b[0m\n\u001b[0m\u001b[0;32m    626\u001b[0m                 \u001b[1;32mreturn\u001b[0m \u001b[1;32mTrue\u001b[0m\u001b[1;33m\u001b[0m\u001b[0m\n\u001b[0;32m    627\u001b[0m \u001b[1;33m\u001b[0m\u001b[0m\n",
      "\u001b[1;32mC:\\Program Files\\Anaconda3\\lib\\site-packages\\sklearn\\externals\\joblib\\parallel.py\u001b[0m in \u001b[0;36m_dispatch\u001b[1;34m(self, batch)\u001b[0m\n\u001b[0;32m    586\u001b[0m         \u001b[0mdispatch_timestamp\u001b[0m \u001b[1;33m=\u001b[0m \u001b[0mtime\u001b[0m\u001b[1;33m.\u001b[0m\u001b[0mtime\u001b[0m\u001b[1;33m(\u001b[0m\u001b[1;33m)\u001b[0m\u001b[1;33m\u001b[0m\u001b[0m\n\u001b[0;32m    587\u001b[0m         \u001b[0mcb\u001b[0m \u001b[1;33m=\u001b[0m \u001b[0mBatchCompletionCallBack\u001b[0m\u001b[1;33m(\u001b[0m\u001b[0mdispatch_timestamp\u001b[0m\u001b[1;33m,\u001b[0m \u001b[0mlen\u001b[0m\u001b[1;33m(\u001b[0m\u001b[0mbatch\u001b[0m\u001b[1;33m)\u001b[0m\u001b[1;33m,\u001b[0m \u001b[0mself\u001b[0m\u001b[1;33m)\u001b[0m\u001b[1;33m\u001b[0m\u001b[0m\n\u001b[1;32m--> 588\u001b[1;33m         \u001b[0mjob\u001b[0m \u001b[1;33m=\u001b[0m \u001b[0mself\u001b[0m\u001b[1;33m.\u001b[0m\u001b[0m_backend\u001b[0m\u001b[1;33m.\u001b[0m\u001b[0mapply_async\u001b[0m\u001b[1;33m(\u001b[0m\u001b[0mbatch\u001b[0m\u001b[1;33m,\u001b[0m \u001b[0mcallback\u001b[0m\u001b[1;33m=\u001b[0m\u001b[0mcb\u001b[0m\u001b[1;33m)\u001b[0m\u001b[1;33m\u001b[0m\u001b[0m\n\u001b[0m\u001b[0;32m    589\u001b[0m         \u001b[0mself\u001b[0m\u001b[1;33m.\u001b[0m\u001b[0m_jobs\u001b[0m\u001b[1;33m.\u001b[0m\u001b[0mappend\u001b[0m\u001b[1;33m(\u001b[0m\u001b[0mjob\u001b[0m\u001b[1;33m)\u001b[0m\u001b[1;33m\u001b[0m\u001b[0m\n\u001b[0;32m    590\u001b[0m \u001b[1;33m\u001b[0m\u001b[0m\n",
      "\u001b[1;32mC:\\Program Files\\Anaconda3\\lib\\site-packages\\sklearn\\externals\\joblib\\_parallel_backends.py\u001b[0m in \u001b[0;36mapply_async\u001b[1;34m(self, func, callback)\u001b[0m\n\u001b[0;32m    109\u001b[0m     \u001b[1;32mdef\u001b[0m \u001b[0mapply_async\u001b[0m\u001b[1;33m(\u001b[0m\u001b[0mself\u001b[0m\u001b[1;33m,\u001b[0m \u001b[0mfunc\u001b[0m\u001b[1;33m,\u001b[0m \u001b[0mcallback\u001b[0m\u001b[1;33m=\u001b[0m\u001b[1;32mNone\u001b[0m\u001b[1;33m)\u001b[0m\u001b[1;33m:\u001b[0m\u001b[1;33m\u001b[0m\u001b[0m\n\u001b[0;32m    110\u001b[0m         \u001b[1;34m\"\"\"Schedule a func to be run\"\"\"\u001b[0m\u001b[1;33m\u001b[0m\u001b[0m\n\u001b[1;32m--> 111\u001b[1;33m         \u001b[0mresult\u001b[0m \u001b[1;33m=\u001b[0m \u001b[0mImmediateResult\u001b[0m\u001b[1;33m(\u001b[0m\u001b[0mfunc\u001b[0m\u001b[1;33m)\u001b[0m\u001b[1;33m\u001b[0m\u001b[0m\n\u001b[0m\u001b[0;32m    112\u001b[0m         \u001b[1;32mif\u001b[0m \u001b[0mcallback\u001b[0m\u001b[1;33m:\u001b[0m\u001b[1;33m\u001b[0m\u001b[0m\n\u001b[0;32m    113\u001b[0m             \u001b[0mcallback\u001b[0m\u001b[1;33m(\u001b[0m\u001b[0mresult\u001b[0m\u001b[1;33m)\u001b[0m\u001b[1;33m\u001b[0m\u001b[0m\n",
      "\u001b[1;32mC:\\Program Files\\Anaconda3\\lib\\site-packages\\sklearn\\externals\\joblib\\_parallel_backends.py\u001b[0m in \u001b[0;36m__init__\u001b[1;34m(self, batch)\u001b[0m\n\u001b[0;32m    330\u001b[0m         \u001b[1;31m# Don't delay the application, to avoid keeping the input\u001b[0m\u001b[1;33m\u001b[0m\u001b[1;33m\u001b[0m\u001b[0m\n\u001b[0;32m    331\u001b[0m         \u001b[1;31m# arguments in memory\u001b[0m\u001b[1;33m\u001b[0m\u001b[1;33m\u001b[0m\u001b[0m\n\u001b[1;32m--> 332\u001b[1;33m         \u001b[0mself\u001b[0m\u001b[1;33m.\u001b[0m\u001b[0mresults\u001b[0m \u001b[1;33m=\u001b[0m \u001b[0mbatch\u001b[0m\u001b[1;33m(\u001b[0m\u001b[1;33m)\u001b[0m\u001b[1;33m\u001b[0m\u001b[0m\n\u001b[0m\u001b[0;32m    333\u001b[0m \u001b[1;33m\u001b[0m\u001b[0m\n\u001b[0;32m    334\u001b[0m     \u001b[1;32mdef\u001b[0m \u001b[0mget\u001b[0m\u001b[1;33m(\u001b[0m\u001b[0mself\u001b[0m\u001b[1;33m)\u001b[0m\u001b[1;33m:\u001b[0m\u001b[1;33m\u001b[0m\u001b[0m\n",
      "\u001b[1;32mC:\\Program Files\\Anaconda3\\lib\\site-packages\\sklearn\\externals\\joblib\\parallel.py\u001b[0m in \u001b[0;36m__call__\u001b[1;34m(self)\u001b[0m\n\u001b[0;32m    129\u001b[0m \u001b[1;33m\u001b[0m\u001b[0m\n\u001b[0;32m    130\u001b[0m     \u001b[1;32mdef\u001b[0m \u001b[0m__call__\u001b[0m\u001b[1;33m(\u001b[0m\u001b[0mself\u001b[0m\u001b[1;33m)\u001b[0m\u001b[1;33m:\u001b[0m\u001b[1;33m\u001b[0m\u001b[0m\n\u001b[1;32m--> 131\u001b[1;33m         \u001b[1;32mreturn\u001b[0m \u001b[1;33m[\u001b[0m\u001b[0mfunc\u001b[0m\u001b[1;33m(\u001b[0m\u001b[1;33m*\u001b[0m\u001b[0margs\u001b[0m\u001b[1;33m,\u001b[0m \u001b[1;33m**\u001b[0m\u001b[0mkwargs\u001b[0m\u001b[1;33m)\u001b[0m \u001b[1;32mfor\u001b[0m \u001b[0mfunc\u001b[0m\u001b[1;33m,\u001b[0m \u001b[0margs\u001b[0m\u001b[1;33m,\u001b[0m \u001b[0mkwargs\u001b[0m \u001b[1;32min\u001b[0m \u001b[0mself\u001b[0m\u001b[1;33m.\u001b[0m\u001b[0mitems\u001b[0m\u001b[1;33m]\u001b[0m\u001b[1;33m\u001b[0m\u001b[0m\n\u001b[0m\u001b[0;32m    132\u001b[0m \u001b[1;33m\u001b[0m\u001b[0m\n\u001b[0;32m    133\u001b[0m     \u001b[1;32mdef\u001b[0m \u001b[0m__len__\u001b[0m\u001b[1;33m(\u001b[0m\u001b[0mself\u001b[0m\u001b[1;33m)\u001b[0m\u001b[1;33m:\u001b[0m\u001b[1;33m\u001b[0m\u001b[0m\n",
      "\u001b[1;32mC:\\Program Files\\Anaconda3\\lib\\site-packages\\sklearn\\externals\\joblib\\parallel.py\u001b[0m in \u001b[0;36m<listcomp>\u001b[1;34m(.0)\u001b[0m\n\u001b[0;32m    129\u001b[0m \u001b[1;33m\u001b[0m\u001b[0m\n\u001b[0;32m    130\u001b[0m     \u001b[1;32mdef\u001b[0m \u001b[0m__call__\u001b[0m\u001b[1;33m(\u001b[0m\u001b[0mself\u001b[0m\u001b[1;33m)\u001b[0m\u001b[1;33m:\u001b[0m\u001b[1;33m\u001b[0m\u001b[0m\n\u001b[1;32m--> 131\u001b[1;33m         \u001b[1;32mreturn\u001b[0m \u001b[1;33m[\u001b[0m\u001b[0mfunc\u001b[0m\u001b[1;33m(\u001b[0m\u001b[1;33m*\u001b[0m\u001b[0margs\u001b[0m\u001b[1;33m,\u001b[0m \u001b[1;33m**\u001b[0m\u001b[0mkwargs\u001b[0m\u001b[1;33m)\u001b[0m \u001b[1;32mfor\u001b[0m \u001b[0mfunc\u001b[0m\u001b[1;33m,\u001b[0m \u001b[0margs\u001b[0m\u001b[1;33m,\u001b[0m \u001b[0mkwargs\u001b[0m \u001b[1;32min\u001b[0m \u001b[0mself\u001b[0m\u001b[1;33m.\u001b[0m\u001b[0mitems\u001b[0m\u001b[1;33m]\u001b[0m\u001b[1;33m\u001b[0m\u001b[0m\n\u001b[0m\u001b[0;32m    132\u001b[0m \u001b[1;33m\u001b[0m\u001b[0m\n\u001b[0;32m    133\u001b[0m     \u001b[1;32mdef\u001b[0m \u001b[0m__len__\u001b[0m\u001b[1;33m(\u001b[0m\u001b[0mself\u001b[0m\u001b[1;33m)\u001b[0m\u001b[1;33m:\u001b[0m\u001b[1;33m\u001b[0m\u001b[0m\n",
      "\u001b[1;32mC:\\Program Files\\Anaconda3\\lib\\site-packages\\sklearn\\model_selection\\_validation.py\u001b[0m in \u001b[0;36m_fit_and_score\u001b[1;34m(estimator, X, y, scorer, train, test, verbose, parameters, fit_params, return_train_score, return_parameters, return_n_test_samples, return_times, error_score)\u001b[0m\n\u001b[0;32m    486\u001b[0m         \u001b[0mfit_time\u001b[0m \u001b[1;33m=\u001b[0m \u001b[0mtime\u001b[0m\u001b[1;33m.\u001b[0m\u001b[0mtime\u001b[0m\u001b[1;33m(\u001b[0m\u001b[1;33m)\u001b[0m \u001b[1;33m-\u001b[0m \u001b[0mstart_time\u001b[0m\u001b[1;33m\u001b[0m\u001b[0m\n\u001b[0;32m    487\u001b[0m         \u001b[1;31m# _score will return dict if is_multimetric is True\u001b[0m\u001b[1;33m\u001b[0m\u001b[1;33m\u001b[0m\u001b[0m\n\u001b[1;32m--> 488\u001b[1;33m         \u001b[0mtest_scores\u001b[0m \u001b[1;33m=\u001b[0m \u001b[0m_score\u001b[0m\u001b[1;33m(\u001b[0m\u001b[0mestimator\u001b[0m\u001b[1;33m,\u001b[0m \u001b[0mX_test\u001b[0m\u001b[1;33m,\u001b[0m \u001b[0my_test\u001b[0m\u001b[1;33m,\u001b[0m \u001b[0mscorer\u001b[0m\u001b[1;33m,\u001b[0m \u001b[0mis_multimetric\u001b[0m\u001b[1;33m)\u001b[0m\u001b[1;33m\u001b[0m\u001b[0m\n\u001b[0m\u001b[0;32m    489\u001b[0m         \u001b[0mscore_time\u001b[0m \u001b[1;33m=\u001b[0m \u001b[0mtime\u001b[0m\u001b[1;33m.\u001b[0m\u001b[0mtime\u001b[0m\u001b[1;33m(\u001b[0m\u001b[1;33m)\u001b[0m \u001b[1;33m-\u001b[0m \u001b[0mstart_time\u001b[0m \u001b[1;33m-\u001b[0m \u001b[0mfit_time\u001b[0m\u001b[1;33m\u001b[0m\u001b[0m\n\u001b[0;32m    490\u001b[0m         \u001b[1;32mif\u001b[0m \u001b[0mreturn_train_score\u001b[0m\u001b[1;33m:\u001b[0m\u001b[1;33m\u001b[0m\u001b[0m\n",
      "\u001b[1;32mC:\\Program Files\\Anaconda3\\lib\\site-packages\\sklearn\\model_selection\\_validation.py\u001b[0m in \u001b[0;36m_score\u001b[1;34m(estimator, X_test, y_test, scorer, is_multimetric)\u001b[0m\n\u001b[0;32m    521\u001b[0m     \"\"\"\n\u001b[0;32m    522\u001b[0m     \u001b[1;32mif\u001b[0m \u001b[0mis_multimetric\u001b[0m\u001b[1;33m:\u001b[0m\u001b[1;33m\u001b[0m\u001b[0m\n\u001b[1;32m--> 523\u001b[1;33m         \u001b[1;32mreturn\u001b[0m \u001b[0m_multimetric_score\u001b[0m\u001b[1;33m(\u001b[0m\u001b[0mestimator\u001b[0m\u001b[1;33m,\u001b[0m \u001b[0mX_test\u001b[0m\u001b[1;33m,\u001b[0m \u001b[0my_test\u001b[0m\u001b[1;33m,\u001b[0m \u001b[0mscorer\u001b[0m\u001b[1;33m)\u001b[0m\u001b[1;33m\u001b[0m\u001b[0m\n\u001b[0m\u001b[0;32m    524\u001b[0m     \u001b[1;32melse\u001b[0m\u001b[1;33m:\u001b[0m\u001b[1;33m\u001b[0m\u001b[0m\n\u001b[0;32m    525\u001b[0m         \u001b[1;32mif\u001b[0m \u001b[0my_test\u001b[0m \u001b[1;32mis\u001b[0m \u001b[1;32mNone\u001b[0m\u001b[1;33m:\u001b[0m\u001b[1;33m\u001b[0m\u001b[0m\n",
      "\u001b[1;32mC:\\Program Files\\Anaconda3\\lib\\site-packages\\sklearn\\model_selection\\_validation.py\u001b[0m in \u001b[0;36m_multimetric_score\u001b[1;34m(estimator, X_test, y_test, scorers)\u001b[0m\n\u001b[0;32m    551\u001b[0m             \u001b[0mscore\u001b[0m \u001b[1;33m=\u001b[0m \u001b[0mscorer\u001b[0m\u001b[1;33m(\u001b[0m\u001b[0mestimator\u001b[0m\u001b[1;33m,\u001b[0m \u001b[0mX_test\u001b[0m\u001b[1;33m)\u001b[0m\u001b[1;33m\u001b[0m\u001b[0m\n\u001b[0;32m    552\u001b[0m         \u001b[1;32melse\u001b[0m\u001b[1;33m:\u001b[0m\u001b[1;33m\u001b[0m\u001b[0m\n\u001b[1;32m--> 553\u001b[1;33m             \u001b[0mscore\u001b[0m \u001b[1;33m=\u001b[0m \u001b[0mscorer\u001b[0m\u001b[1;33m(\u001b[0m\u001b[0mestimator\u001b[0m\u001b[1;33m,\u001b[0m \u001b[0mX_test\u001b[0m\u001b[1;33m,\u001b[0m \u001b[0my_test\u001b[0m\u001b[1;33m)\u001b[0m\u001b[1;33m\u001b[0m\u001b[0m\n\u001b[0m\u001b[0;32m    554\u001b[0m \u001b[1;33m\u001b[0m\u001b[0m\n\u001b[0;32m    555\u001b[0m         \u001b[1;32mif\u001b[0m \u001b[0mhasattr\u001b[0m\u001b[1;33m(\u001b[0m\u001b[0mscore\u001b[0m\u001b[1;33m,\u001b[0m \u001b[1;34m'item'\u001b[0m\u001b[1;33m)\u001b[0m\u001b[1;33m:\u001b[0m\u001b[1;33m\u001b[0m\u001b[0m\n",
      "\u001b[1;32mC:\\Program Files\\Anaconda3\\lib\\site-packages\\sklearn\\metrics\\scorer.py\u001b[0m in \u001b[0;36m__call__\u001b[1;34m(self, estimator, X, y_true, sample_weight)\u001b[0m\n\u001b[0;32m    106\u001b[0m         \u001b[1;32melse\u001b[0m\u001b[1;33m:\u001b[0m\u001b[1;33m\u001b[0m\u001b[0m\n\u001b[0;32m    107\u001b[0m             return self._sign * self._score_func(y_true, y_pred,\n\u001b[1;32m--> 108\u001b[1;33m                                                  **self._kwargs)\n\u001b[0m\u001b[0;32m    109\u001b[0m \u001b[1;33m\u001b[0m\u001b[0m\n\u001b[0;32m    110\u001b[0m \u001b[1;33m\u001b[0m\u001b[0m\n",
      "\u001b[1;32mC:\\Program Files\\Anaconda3\\lib\\site-packages\\sklearn\\metrics\\regression.py\u001b[0m in \u001b[0;36mmean_squared_log_error\u001b[1;34m(y_true, y_pred, sample_weight, multioutput)\u001b[0m\n\u001b[0;32m    313\u001b[0m \u001b[1;33m\u001b[0m\u001b[0m\n\u001b[0;32m    314\u001b[0m     return mean_squared_error(np.log(y_true + 1), np.log(y_pred + 1),\n\u001b[1;32m--> 315\u001b[1;33m                               sample_weight, multioutput)\n\u001b[0m\u001b[0;32m    316\u001b[0m \u001b[1;33m\u001b[0m\u001b[0m\n\u001b[0;32m    317\u001b[0m \u001b[1;33m\u001b[0m\u001b[0m\n",
      "\u001b[1;32mC:\\Program Files\\Anaconda3\\lib\\site-packages\\sklearn\\metrics\\regression.py\u001b[0m in \u001b[0;36mmean_squared_error\u001b[1;34m(y_true, y_pred, sample_weight, multioutput)\u001b[0m\n\u001b[0;32m    236\u001b[0m     \"\"\"\n\u001b[0;32m    237\u001b[0m     y_type, y_true, y_pred, multioutput = _check_reg_targets(\n\u001b[1;32m--> 238\u001b[1;33m         y_true, y_pred, multioutput)\n\u001b[0m\u001b[0;32m    239\u001b[0m     output_errors = np.average((y_true - y_pred) ** 2, axis=0,\n\u001b[0;32m    240\u001b[0m                                weights=sample_weight)\n",
      "\u001b[1;32mC:\\Program Files\\Anaconda3\\lib\\site-packages\\sklearn\\metrics\\regression.py\u001b[0m in \u001b[0;36m_check_reg_targets\u001b[1;34m(y_true, y_pred, multioutput)\u001b[0m\n\u001b[0;32m     75\u001b[0m     \u001b[0mcheck_consistent_length\u001b[0m\u001b[1;33m(\u001b[0m\u001b[0my_true\u001b[0m\u001b[1;33m,\u001b[0m \u001b[0my_pred\u001b[0m\u001b[1;33m)\u001b[0m\u001b[1;33m\u001b[0m\u001b[0m\n\u001b[0;32m     76\u001b[0m     \u001b[0my_true\u001b[0m \u001b[1;33m=\u001b[0m \u001b[0mcheck_array\u001b[0m\u001b[1;33m(\u001b[0m\u001b[0my_true\u001b[0m\u001b[1;33m,\u001b[0m \u001b[0mensure_2d\u001b[0m\u001b[1;33m=\u001b[0m\u001b[1;32mFalse\u001b[0m\u001b[1;33m)\u001b[0m\u001b[1;33m\u001b[0m\u001b[0m\n\u001b[1;32m---> 77\u001b[1;33m     \u001b[0my_pred\u001b[0m \u001b[1;33m=\u001b[0m \u001b[0mcheck_array\u001b[0m\u001b[1;33m(\u001b[0m\u001b[0my_pred\u001b[0m\u001b[1;33m,\u001b[0m \u001b[0mensure_2d\u001b[0m\u001b[1;33m=\u001b[0m\u001b[1;32mFalse\u001b[0m\u001b[1;33m)\u001b[0m\u001b[1;33m\u001b[0m\u001b[0m\n\u001b[0m\u001b[0;32m     78\u001b[0m \u001b[1;33m\u001b[0m\u001b[0m\n\u001b[0;32m     79\u001b[0m     \u001b[1;32mif\u001b[0m \u001b[0my_true\u001b[0m\u001b[1;33m.\u001b[0m\u001b[0mndim\u001b[0m \u001b[1;33m==\u001b[0m \u001b[1;36m1\u001b[0m\u001b[1;33m:\u001b[0m\u001b[1;33m\u001b[0m\u001b[0m\n",
      "\u001b[1;32mC:\\Program Files\\Anaconda3\\lib\\site-packages\\sklearn\\utils\\validation.py\u001b[0m in \u001b[0;36mcheck_array\u001b[1;34m(array, accept_sparse, dtype, order, copy, force_all_finite, ensure_2d, allow_nd, ensure_min_samples, ensure_min_features, warn_on_dtype, estimator)\u001b[0m\n\u001b[0;32m    451\u001b[0m                              % (array.ndim, estimator_name))\n\u001b[0;32m    452\u001b[0m         \u001b[1;32mif\u001b[0m \u001b[0mforce_all_finite\u001b[0m\u001b[1;33m:\u001b[0m\u001b[1;33m\u001b[0m\u001b[0m\n\u001b[1;32m--> 453\u001b[1;33m             \u001b[0m_assert_all_finite\u001b[0m\u001b[1;33m(\u001b[0m\u001b[0marray\u001b[0m\u001b[1;33m)\u001b[0m\u001b[1;33m\u001b[0m\u001b[0m\n\u001b[0m\u001b[0;32m    454\u001b[0m \u001b[1;33m\u001b[0m\u001b[0m\n\u001b[0;32m    455\u001b[0m     \u001b[0mshape_repr\u001b[0m \u001b[1;33m=\u001b[0m \u001b[0m_shape_repr\u001b[0m\u001b[1;33m(\u001b[0m\u001b[0marray\u001b[0m\u001b[1;33m.\u001b[0m\u001b[0mshape\u001b[0m\u001b[1;33m)\u001b[0m\u001b[1;33m\u001b[0m\u001b[0m\n",
      "\u001b[1;32mC:\\Program Files\\Anaconda3\\lib\\site-packages\\sklearn\\utils\\validation.py\u001b[0m in \u001b[0;36m_assert_all_finite\u001b[1;34m(X)\u001b[0m\n\u001b[0;32m     42\u001b[0m             and not np.isfinite(X).all()):\n\u001b[0;32m     43\u001b[0m         raise ValueError(\"Input contains NaN, infinity\"\n\u001b[1;32m---> 44\u001b[1;33m                          \" or a value too large for %r.\" % X.dtype)\n\u001b[0m\u001b[0;32m     45\u001b[0m \u001b[1;33m\u001b[0m\u001b[0m\n\u001b[0;32m     46\u001b[0m \u001b[1;33m\u001b[0m\u001b[0m\n",
      "\u001b[1;31mValueError\u001b[0m: Input contains NaN, infinity or a value too large for dtype('float64')."
     ]
    }
   ],
   "source": [
    "%%time\n",
    "best_params = searchHyperParam(svr, par_space, X_train, y_train, scoring=\"neg_mean_squared_log_error\", max_evals=max_evals, cv_size=cv_size, n_jobs=n_jobs)\n",
    "best_params[\"kernel\"] = kernel_list[best_params[\"kernel\"]]\n",
    "print(best_params)\n"
   ]
  },
  {
   "cell_type": "raw",
   "metadata": {
    "_uuid": "11997de5f59be2f6f04a16a152c1c245289ed319"
   },
   "source": [
    "#pca 0.80, 100 trial\n",
    "\n",
    "\n",
    "\n",
    "#pca 0.80, 10 trial\n",
    "\n",
    "best par:  {'C': 0.776819910040523, 'epsilon': 0.2306284655275017, 'gamma': 0.05305715050522517, 'kernel': 0}\n",
    "best trial:  {'loss': 0.11552334382782938, 'status': 'ok'}\n",
    "{'C': 0.776819910040523, 'epsilon': 0.2306284655275017, 'gamma': 0.05305715050522517, 'kernel': 'rbf'}\n",
    "Wall time: 7min 18s\n",
    "\n",
    "\n",
    "#100\n",
    "\n",
    "Trial  2 , Params  {'C': 0.017271530916715953, 'epsilon': 0.3180427068907858, 'gamma': 0.744792439063098, 'kernel': 'rbf'}  -> [-0.01394463 -0.01468119 -0.01444505 -0.01396261 -0.0139868 ]Done. Score :  0.11918078315142942\n"
   ]
  },
  {
   "cell_type": "code",
   "execution_count": null,
   "metadata": {
    "_uuid": "edceb65e9c6b2c531525b0c41cfe3698a69119bc",
    "collapsed": true
   },
   "outputs": [],
   "source": [
    "raise Exception()"
   ]
  },
  {
   "cell_type": "code",
   "execution_count": null,
   "metadata": {
    "_uuid": "0b82f57ad94fe8f8ba7a9f3cc1c55b471366c629",
    "collapsed": true
   },
   "outputs": [],
   "source": [
    "best_params = {'C': 6.0125849233435975,\n",
    " 'epsilon': 0.018596343856883617,\n",
    " 'gamma': 0.019396603678872793,\n",
    " 'kernel': 'rbf'}"
   ]
  },
  {
   "cell_type": "raw",
   "metadata": {
    "_uuid": "a67fb90f5f934d8e617ebcad267bed001644ce05"
   },
   "source": []
  },
  {
   "cell_type": "code",
   "execution_count": null,
   "metadata": {
    "_uuid": "c23e75e097314da26875be79d364acaa136861bf",
    "collapsed": true,
    "scrolled": true
   },
   "outputs": [],
   "source": [
    "svr.steps[-1][1].set_params(**best_params)\n",
    "\n",
    "evalModelByCV(svr, X_train, y_train, scoring=\"neg_mean_squared_log_error\")\n",
    "#plot_my_learning_curves(X_train, y_train, X_test, y_test, svr, scoring=\"r2\", cv=5, n_jobs=n_jobs)"
   ]
  },
  {
   "cell_type": "code",
   "execution_count": null,
   "metadata": {
    "_uuid": "58c3d956f6f5065cd3debd3b6ca75a6b0dc23191",
    "collapsed": true
   },
   "outputs": [],
   "source": []
  },
  {
   "cell_type": "code",
   "execution_count": null,
   "metadata": {
    "_uuid": "3a4dd069c9538f0c72c11315f2fa6705ab5f4c3a",
    "collapsed": true
   },
   "outputs": [],
   "source": []
  },
  {
   "cell_type": "markdown",
   "metadata": {
    "_uuid": "e74ffb94278e528e33d500d5dbad71b63b58d26c"
   },
   "source": [
    "## lasso"
   ]
  },
  {
   "cell_type": "code",
   "execution_count": null,
   "metadata": {
    "_uuid": "d005f28a9036d9a62c25b0b715076e15709c490d",
    "collapsed": true
   },
   "outputs": [],
   "source": [
    "lasso = make_pipeline(\n",
    "    RobustScaler(),\n",
    "    Lasso()\n",
    "\n",
    ")\n",
    "\n",
    "par_space = {\n",
    "    'alpha':hp.uniform('alpha', 0, 1),\n",
    "    \n",
    "}"
   ]
  },
  {
   "cell_type": "raw",
   "metadata": {
    "_uuid": "b5fa931a603585e52499b02d1f4b08f647e6ff36"
   },
   "source": [
    "best_params = searchHyperParam(lasso, par_space, X_train, y_train, scoring=\"r2\", max_evals=max_evals, cv_size=cv_size, n_jobs=n_jobs)\n",
    "best_params"
   ]
  },
  {
   "cell_type": "code",
   "execution_count": null,
   "metadata": {
    "_uuid": "d4e0a4bf0997d06b52702ed5a205607f98f872fb",
    "collapsed": true
   },
   "outputs": [],
   "source": [
    "best_params = {'alpha': 0.03813148491610924}"
   ]
  },
  {
   "cell_type": "code",
   "execution_count": null,
   "metadata": {
    "_uuid": "0d91293fbbd850cb75c324f9d013321028092630",
    "collapsed": true,
    "scrolled": true
   },
   "outputs": [],
   "source": [
    "\n",
    "lasso.steps[-1][1].set_params(**best_params)\n",
    "\n",
    "evalModelByCV(lasso, X_train, y_train, scoring=\"neg_mean_squared_log_error\")\n",
    "#plot_my_learning_curves(X_train, y_train, X_test, y_test, lasso, scoring=\"r2\", cv=5, n_jobs=n_jobs)"
   ]
  },
  {
   "cell_type": "code",
   "execution_count": null,
   "metadata": {
    "_uuid": "38609a057209b02015ccd5e5518b8a6dcfc91bbe",
    "collapsed": true
   },
   "outputs": [],
   "source": []
  },
  {
   "cell_type": "markdown",
   "metadata": {
    "_uuid": "a87ed8d22679dd01b89a935cef69b46a5c82e062"
   },
   "source": [
    "## Elastic net"
   ]
  },
  {
   "cell_type": "code",
   "execution_count": null,
   "metadata": {
    "_uuid": "fdfc35a18e2d176d2e0fe8fbe20a97adfd4871c9",
    "collapsed": true
   },
   "outputs": [],
   "source": [
    "elasticnet = make_pipeline(\n",
    "    RobustScaler(),\n",
    "    ElasticNet()\n",
    "\n",
    ")\n",
    "par_space = {\n",
    "    'alpha':hp.uniform('alpha', 0, 1),\n",
    "    'l1_ratio':hp.uniform('l1_ratio', 0, 1),\n",
    "    \n",
    "}"
   ]
  },
  {
   "cell_type": "raw",
   "metadata": {
    "_uuid": "cc84914346c8d9691bd38f01875773f4aa7a4c45"
   },
   "source": [
    "best_params = searchHyperParam(elasticnet, par_space, X_train, y_train, scoring=\"r2\", max_evals=max_evals, cv_size=cv_size, n_jobs=n_jobs)\n",
    "best_params\n"
   ]
  },
  {
   "cell_type": "code",
   "execution_count": null,
   "metadata": {
    "_uuid": "6e8c8ca489598efca7c7a1141fae50354b204473",
    "collapsed": true
   },
   "outputs": [],
   "source": [
    "best_params = {'alpha': 0.03979354323226861, 'l1_ratio': 0.9027788528223015}"
   ]
  },
  {
   "cell_type": "code",
   "execution_count": null,
   "metadata": {
    "_uuid": "ab3bd9e867507a9a70f5cac15bba93cb3f495ae5",
    "collapsed": true
   },
   "outputs": [],
   "source": [
    "\n",
    "elasticnet.steps[-1][1].set_params(**best_params)\n",
    "\n",
    "evalModelByCV(elasticnet, X_train, y_train, scoring=\"neg_mean_squared_log_error\")\n",
    "#plot_my_learning_curves(X_train, y_train, X_test, y_test, elasticnet, scoring=\"r2\", cv=5, n_jobs=n_jobs)\n"
   ]
  },
  {
   "cell_type": "code",
   "execution_count": null,
   "metadata": {
    "_uuid": "9250c5e046cee9fb33cafddad2486fe254c528fd",
    "collapsed": true
   },
   "outputs": [],
   "source": []
  },
  {
   "cell_type": "raw",
   "metadata": {
    "_uuid": "3e1957b3e7e46479d6473a5891535579f19934e7"
   },
   "source": []
  },
  {
   "cell_type": "code",
   "execution_count": null,
   "metadata": {
    "_uuid": "5187531fff882624105fc7937b3042afdd51810b",
    "collapsed": true
   },
   "outputs": [],
   "source": []
  },
  {
   "cell_type": "markdown",
   "metadata": {
    "_uuid": "9205c29e0f304ef005cf0122dba27de1f81aa412"
   },
   "source": [
    "## kernel ridge"
   ]
  },
  {
   "cell_type": "code",
   "execution_count": null,
   "metadata": {
    "_uuid": "8cf6d741090df375f18d5fe416d0670b3f3600f0",
    "collapsed": true
   },
   "outputs": [],
   "source": [
    "krr = make_pipeline(\n",
    "        #RobustScaler(),\n",
    "        KernelRidge()\n",
    ")\n",
    "\n",
    "kernel_list = [\n",
    "    'rbf',\n",
    "#    'poly',\n",
    "    'sigmoid']\n",
    "par_space = {\n",
    "    'alpha':hp.uniform('alpha', 0, 1),\n",
    "    'gamma':hp.loguniform('gamma', -8, 2),\n",
    "    'kernel':hp.choice('kernel', kernel_list),\n",
    "    'degree':hp.randint('degree', 5),\n",
    "#    'coef0': # default value is enough\n",
    "    \n",
    "}"
   ]
  },
  {
   "cell_type": "raw",
   "metadata": {
    "_uuid": "339a23b6feea53aa345b46c79ae45b19d597f403"
   },
   "source": [
    "best_params = searchHyperParam(krr, par_space, X_train, y_train, scoring=\"r2\", max_evals=max_evals, cv_size=cv_size, n_jobs=n_jobs)\n",
    "best_params[\"kernel\"] = kernel_list[best_params[\"kernel\"]]\n",
    "best_params\n"
   ]
  },
  {
   "cell_type": "code",
   "execution_count": null,
   "metadata": {
    "_uuid": "daacbb828130fca1624095ec6a4101947cbce778",
    "collapsed": true
   },
   "outputs": [],
   "source": [
    "best_params = {'alpha': 0.06208805100456642,\n",
    " 'degree': 2,\n",
    " 'gamma': 0.000700959885815984,\n",
    " 'kernel': 'rbf'}"
   ]
  },
  {
   "cell_type": "code",
   "execution_count": null,
   "metadata": {
    "_uuid": "5c1726f2e44910ec81e3b7baf00c01f7a4db46e9",
    "collapsed": true
   },
   "outputs": [],
   "source": [
    "krr.steps[-1][1].set_params(**best_params)\n",
    "\n",
    "evalModelByCV(krr, X_train, y_train, scoring=\"neg_mean_squared_log_error\")\n",
    "#plot_my_learning_curves(X_train, y_train, X_test, y_test, krr, scoring=\"r2\", cv=5, n_jobs=n_jobs)\n"
   ]
  },
  {
   "cell_type": "code",
   "execution_count": null,
   "metadata": {
    "_uuid": "51d9ae12783ba9b3ff187c950ee346853f2ed01a",
    "collapsed": true
   },
   "outputs": [],
   "source": []
  },
  {
   "cell_type": "markdown",
   "metadata": {
    "_uuid": "badca92a332e8ce662c70eb9e89be39bb34194b4"
   },
   "source": [
    "## k neighbers"
   ]
  },
  {
   "cell_type": "code",
   "execution_count": null,
   "metadata": {
    "_uuid": "f0e2805094cbf554acc0a3e5883e5a867c6ba537",
    "collapsed": true
   },
   "outputs": [],
   "source": [
    "knr = make_pipeline(\n",
    "    #RobustScaler(),\n",
    "    KNeighborsRegressor()\n",
    ")\n",
    "\n",
    "par_space = {\n",
    "#    'n_neighbors':hp.choice('n_neighbors', [1,2,3,4,5,6,7,8,9,10]),\n",
    "#    'n_neighbors':hp.quniform('n_neighbors', 1, 10, 1),\n",
    "    'n_neighbors':hp.choice('n_neighbors', np.arange(1, 10, dtype=int))\n",
    "#    'coef0': # default value is enough\n",
    "    \n",
    "}"
   ]
  },
  {
   "cell_type": "raw",
   "metadata": {
    "_uuid": "f6696087040f0439f90a4b93ea9c7899f3d411a4"
   },
   "source": [
    "best_params = searchHyperParam(knr, par_space, X_train, y_train, scoring=\"r2\", max_evals=max_evals, cv_size=cv_size, n_jobs=n_jobs)\n",
    "best_params\n"
   ]
  },
  {
   "cell_type": "code",
   "execution_count": null,
   "metadata": {
    "_uuid": "840d31b4aa93b07056a3278fcec3ed4e278ed6b1",
    "collapsed": true
   },
   "outputs": [],
   "source": [
    "best_params = {'n_neighbors': 8}"
   ]
  },
  {
   "cell_type": "code",
   "execution_count": null,
   "metadata": {
    "_uuid": "0549b5ecee5c6ca424db931bb24e009ed70d510b",
    "collapsed": true
   },
   "outputs": [],
   "source": [
    "knr.steps[-1][1].set_params(**best_params)\n",
    "\n",
    "\n",
    "evalModelByCV(knr, X_train, y_train, scoring=\"neg_mean_squared_log_error\")\n",
    "\n",
    "#plot_my_learning_curves(X_train, y_train, X_test, y_test, knr, scoring=\"r2\", cv=5, n_jobs=n_jobs)"
   ]
  },
  {
   "cell_type": "code",
   "execution_count": null,
   "metadata": {
    "_uuid": "2b2038265b61d65bdf75fa0d15f2ae896bd36079",
    "collapsed": true
   },
   "outputs": [],
   "source": []
  },
  {
   "cell_type": "code",
   "execution_count": null,
   "metadata": {
    "_uuid": "b8106136a07c59210fed6404174b86e8e0beb0b3",
    "collapsed": true
   },
   "outputs": [],
   "source": []
  },
  {
   "cell_type": "markdown",
   "metadata": {
    "_uuid": "04bf28546741479eb80913a8a170a1fae6983118"
   },
   "source": [
    "## Random forest"
   ]
  },
  {
   "cell_type": "code",
   "execution_count": null,
   "metadata": {
    "_uuid": "659383dfa00469ed58eca5c1bfeab8216e5fc959",
    "collapsed": true
   },
   "outputs": [],
   "source": [
    "ranfore = make_pipeline(\n",
    "        #RobustScaler(),\n",
    "        RandomForestRegressor()\n",
    ")\n",
    "\n",
    "par_space = {\n",
    "    'n_estimators':hp.choice('n_estimators', np.arange(1, 100, dtype=int)),\n",
    "    'max_features':hp.choice('max_features', np.arange(1, 300, dtype=int)),\n",
    "    'max_depth':hp.choice('max_depth', np.arange(1, 300, dtype=int)),\n",
    "    'min_samples_split':hp.choice('min_samples_split', np.arange(2, 10, dtype=int)),\n",
    "    'min_samples_leaf':hp.choice('min_samples_leaf', np.arange(1, 9, dtype=int)),   \n",
    "}"
   ]
  },
  {
   "cell_type": "raw",
   "metadata": {
    "_uuid": "7fb7453de23f27a418c6f954a8d66081aecb1601"
   },
   "source": [
    "%%time\n",
    "best_params = searchHyperParam(ranfore, par_space, X_train, y_train, scoring=\"r2\", max_evals=max_evals, cv_size=cv_size, n_jobs=n_jobs)\n",
    "best_params"
   ]
  },
  {
   "cell_type": "code",
   "execution_count": null,
   "metadata": {
    "_uuid": "9a57adaec1b1761c8809761904b07cc82eafce8c",
    "collapsed": true
   },
   "outputs": [],
   "source": [
    "best_params = {'max_depth': 5,\n",
    " 'max_features': 226,\n",
    " 'min_samples_leaf': 5,\n",
    " 'min_samples_split': 3,\n",
    " 'n_estimators': 56}"
   ]
  },
  {
   "cell_type": "code",
   "execution_count": null,
   "metadata": {
    "_uuid": "c5d244ef6854e22dbb2be264b023da8a64f2c8a9",
    "collapsed": true
   },
   "outputs": [],
   "source": [
    "ranfore.steps[-1][1].set_params(**best_params)\n",
    "\n",
    "evalModelByCV(ranfore, X_train, y_train, scoring=\"neg_mean_squared_log_error\")\n",
    "#plot_my_learning_curves(X_train, y_train, X_test, y_test, ranfore, scoring=\"r2\", cv=5, n_jobs=n_jobs)\n",
    "# plot feature importance\n",
    "pd.concat((pd.DataFrame(X_train.columns, columns = ['variable']), \n",
    "           pd.DataFrame(ranfore.named_steps[\"randomforestregressor\"].feature_importances_, columns = ['importance'])), \n",
    "          axis = 1).sort_values(by='importance', ascending = False)"
   ]
  },
  {
   "cell_type": "code",
   "execution_count": null,
   "metadata": {
    "_uuid": "e7eaf31576094f3999599cea50e79bf571ba42ce",
    "collapsed": true
   },
   "outputs": [],
   "source": []
  },
  {
   "cell_type": "code",
   "execution_count": null,
   "metadata": {
    "_uuid": "d3ca2163bdd2eab3eba8b5fe38e834deeabcb330",
    "collapsed": true
   },
   "outputs": [],
   "source": []
  },
  {
   "cell_type": "markdown",
   "metadata": {
    "_uuid": "3d6dc7b72e03a6cb97cae29e679ecd98cb5136ae"
   },
   "source": [
    "## gradient boosting"
   ]
  },
  {
   "cell_type": "code",
   "execution_count": null,
   "metadata": {
    "_uuid": "8b876066b4849f14a12b35d217b17937a1ed861c",
    "collapsed": true
   },
   "outputs": [],
   "source": [
    "gboostreg = make_pipeline(\n",
    "        #RobustScaler(),\n",
    "        GradientBoostingRegressor()\n",
    ")\n",
    "\n",
    "loss_list = ['ls', 'lad', 'huber', 'quantile']\n",
    "\n",
    "par_space = {\n",
    "    'n_estimators':hp.choice('n_estimators', np.arange(1, 100, dtype=int)),\n",
    "    'learning_rate':hp.uniform('learning_rate', 0.000000001, 1.0),\n",
    "    'max_features':hp.choice('max_features', np.arange(1, 300, dtype=int)),\n",
    "    'max_depth':hp.choice('max_depth', np.arange(1, 300, dtype=int)),\n",
    "    'min_samples_split':hp.choice('min_samples_split', np.arange(2, 30, dtype=int)),\n",
    "    'min_samples_leaf':hp.choice('min_samples_leaf', np.arange(1, 29, dtype=int)),\n",
    "    'loss':hp.choice('loss', loss_list),\n",
    "    #'subsample':hp.uniform('learning_rate', 0.0, 1.0),\n",
    "    \n",
    "}\n"
   ]
  },
  {
   "cell_type": "raw",
   "metadata": {
    "_uuid": "ab2bff60da6f6caefa452927e97a8b22bd0ad2ee"
   },
   "source": [
    "%%time\n",
    "best_params = searchHyperParam(gboostreg, par_space, X_train, y_train, scoring=\"r2\", max_evals=max_evals, cv_size=cv_size, n_jobs=n_jobs)\n",
    "best_params[\"loss\"] = loss_list[best_params[\"loss\"]]\n",
    "best_params"
   ]
  },
  {
   "cell_type": "code",
   "execution_count": null,
   "metadata": {
    "_uuid": "f1b590d0cf95f5f2eac2352bb599185e84576694",
    "collapsed": true
   },
   "outputs": [],
   "source": [
    "best_params = {'learning_rate': 0.35189025799801155,\n",
    " 'loss': 'huber',\n",
    " 'max_depth': 3,\n",
    " 'max_features': 119,\n",
    " 'min_samples_leaf': 16,\n",
    " 'min_samples_split': 19,\n",
    " 'n_estimators': 48}"
   ]
  },
  {
   "cell_type": "code",
   "execution_count": null,
   "metadata": {
    "_uuid": "33e7529c1acd85b8c8b2bdb9633f4be3bdbfd703",
    "collapsed": true
   },
   "outputs": [],
   "source": [
    "gboostreg.steps[-1][1].set_params(**best_params)\n",
    "\n",
    "evalModelByCV(gboostreg, X_train, y_train, scoring=\"neg_mean_squared_log_error\")\n",
    "#plot_my_learning_curves(X_train, y_train, X_test, y_test, gboostreg, scoring=\"r2\", cv=5, n_jobs=n_jobs)\n",
    "# plot feature importance\n",
    "pd.concat((pd.DataFrame(X_train.columns, columns = ['variable']), \n",
    "           pd.DataFrame(gboostreg.named_steps[\"gradientboostingregressor\"].feature_importances_, columns = ['importance'])), \n",
    "          axis = 1).sort_values(by='importance', ascending = False)"
   ]
  },
  {
   "cell_type": "code",
   "execution_count": null,
   "metadata": {
    "_uuid": "dae320f8ab59ba4cc466ce7586f54a2508778c8b",
    "collapsed": true
   },
   "outputs": [],
   "source": []
  },
  {
   "cell_type": "code",
   "execution_count": null,
   "metadata": {
    "_uuid": "0adcae6b1ee02533047371f63ed6fcf009b8ec10",
    "collapsed": true
   },
   "outputs": [],
   "source": []
  },
  {
   "cell_type": "code",
   "execution_count": null,
   "metadata": {
    "_uuid": "55e193005be79e57e5a92dd09cc60574c1ac301b",
    "collapsed": true
   },
   "outputs": [],
   "source": []
  },
  {
   "cell_type": "markdown",
   "metadata": {
    "_uuid": "ed45a4f0f51c84449a97bf7ed5a75f6d7f9efdea"
   },
   "source": [
    "## XGBoost"
   ]
  },
  {
   "cell_type": "code",
   "execution_count": null,
   "metadata": {
    "_uuid": "00b2032403b2967a5d9f5e5176b6e6d57d5bcead",
    "collapsed": true
   },
   "outputs": [],
   "source": [
    "xgbmodel = make_pipeline(\n",
    "        #RobustScaler(),\n",
    "        XGBRegressor()\n",
    ")\n",
    "\n",
    "\n",
    "par_space = {\n",
    "    'n_estimators':hp.choice('n_estimators', np.arange(1, 100, dtype=int)),\n",
    "    'learning_rate':hp.uniform('learning_rate', 0.000000001, 1.0),\n",
    "    'max_depth':hp.choice('max_depth', np.arange(1, 300, dtype=int)), \n",
    "    'gamma':hp.uniform('gamma', 0.0, 5.0),\n",
    "    'min_child_weight':hp.uniform('min_child_weight', 0.0, 5.0),\n",
    "    'subsample': hp.uniform('subsample', 0.0, 1.0),\n",
    "    'colsample_bytree': hp.uniform('colsample_bytree', 0.0, 1.0),\n",
    "    'reg_alpha': hp.loguniform('reg_alpha', -6, 2),\n",
    "    'reg_lambda': hp.loguniform('reg_lambda', -6, 2),\n",
    "    'learning_rate': hp.uniform('learning_rate', 0.000000001, 1.0),\n",
    "}"
   ]
  },
  {
   "cell_type": "raw",
   "metadata": {
    "_uuid": "45b13d10dbb4cd48f40a93b089d1473a6d4b9176"
   },
   "source": [
    "%%time\n",
    "best_params = searchHyperParam(xgbmodel, par_space, X_train, y_train, scoring=\"r2\", max_evals=max_evals, cv_size=cv_size, n_jobs=n_jobs)\n",
    "best_params"
   ]
  },
  {
   "cell_type": "code",
   "execution_count": null,
   "metadata": {
    "_uuid": "01464b9c81b507a3cd49d2deae71babac0e3c280",
    "collapsed": true
   },
   "outputs": [],
   "source": [
    "best_params = {'colsample_bytree': 0.4708332878894328,\n",
    " 'gamma': 4.468853259609137,\n",
    " 'learning_rate': 0.05617427300476756,\n",
    " 'max_depth': 227,\n",
    " 'min_child_weight': 1.8959293704519609,\n",
    " 'n_estimators': 69,\n",
    " 'reg_alpha': 0.011073130482133953,\n",
    " 'reg_lambda': 0.00429738591644784,\n",
    " 'subsample': 0.034785099220768445}"
   ]
  },
  {
   "cell_type": "code",
   "execution_count": null,
   "metadata": {
    "_uuid": "ea6e730a40483823e56173024a45023f15ed99e1",
    "collapsed": true
   },
   "outputs": [],
   "source": [
    "xgbmodel.steps[-1][1].set_params(**best_params)\n",
    "\n",
    "evalModelByCV(xgbmodel, X_train, y_train, scoring=\"neg_mean_squared_log_error\")\n",
    "#plot_my_learning_curves(X_train, y_train, X_test, y_test, xgbmodel, scoring=\"r2\", cv=5, n_jobs=n_jobs)\n",
    "\n",
    "\n",
    "xgb.plot_importance(xgbmodel.named_steps[\"xgbregressor\"], max_num_features=15)\n",
    "plt.show()\n",
    "\n",
    "# plot feature importance\n",
    "pd.concat((pd.DataFrame(X_train.columns, columns = ['variable']), \n",
    "           pd.DataFrame(xgbmodel.named_steps[\"xgbregressor\"].feature_importances_, columns = ['importance'])), \n",
    "          axis = 1).sort_values(by='importance', ascending = False)"
   ]
  },
  {
   "cell_type": "code",
   "execution_count": null,
   "metadata": {
    "_uuid": "768fad7d06ded517ea1316430117fc72bd3307d6",
    "collapsed": true
   },
   "outputs": [],
   "source": []
  },
  {
   "cell_type": "code",
   "execution_count": null,
   "metadata": {
    "_uuid": "e894cda2ebea2e489aa7b8e6e2f1b7d81b5985de",
    "collapsed": true
   },
   "outputs": [],
   "source": []
  },
  {
   "cell_type": "markdown",
   "metadata": {
    "_uuid": "bb2df4796c3f08f28b5435e39fcda129615960fa"
   },
   "source": [
    "## LightGBM"
   ]
  },
  {
   "cell_type": "code",
   "execution_count": null,
   "metadata": {
    "_uuid": "299f3b889c4b8b0a812c154ae2094bad9575d2d1",
    "collapsed": true
   },
   "outputs": [],
   "source": [
    "lgbmodel = make_pipeline(\n",
    "        #RobustScaler(),\n",
    "        LGBMRegressor()\n",
    ")\n",
    "\n",
    "par_space = {\n",
    "    'learning_rate':hp.uniform('learning_rate', 0.000000001, 1.0),\n",
    "    'max_depth':hp.choice('max_depth', np.arange(1, 30, dtype=int)), \n",
    "    'num_leaves':hp.choice('num_leaves', np.arange(2, 10, dtype=int)),\n",
    "    'min_data_in_leaf':hp.choice('min_data_in_leaf', np.arange(1, 10, dtype=int)),\n",
    "    \n",
    "    'n_estimators':hp.choice('n_estimators', np.arange(1, 100, dtype=int)),\n",
    "    'max_bin':hp.choice('max_bin', np.arange(2, 30, dtype=int)),\n",
    "    'bagging_fraction': hp.uniform('bagging_fraction', 0.000000001, 1.0),\n",
    "    'bagging_freq': hp.randint('bagging_freq', 10),\n",
    "    'feature_fraction': hp.uniform('feature_fraction', 0.000000001, 1.0),\n",
    "    'min_sum_hessian_in_leaf': hp.loguniform('min_sum_hessian_in_leaf', -6, 2),\n",
    "}\n",
    "\n",
    "\"\"\"\n",
    "par_space = {\n",
    "    'learning_rate':hp.uniform('learning_rate', 0.000000001, 1.0),\n",
    "    'max_depth':hp.choice('max_depth', np.arange(1, 300, dtype=int)), \n",
    "    'num_leaves':hp.choice('num_leaves', np.arange(2, 100, dtype=int)),\n",
    "    'min_data_in_leaf':hp.choice('min_data_in_leaf', np.arange(1, 100, dtype=int)),\n",
    "    \n",
    "    'n_estimators':hp.choice('n_estimators', np.arange(1, 100, dtype=int)),\n",
    "    'max_bin':hp.choice('max_bin', np.arange(2, 300, dtype=int)),\n",
    "    'bagging_fraction': hp.uniform('bagging_fraction', 0.000000001, 1.0),\n",
    "    'bagging_freq': hp.randint('bagging_freq', 10),\n",
    "    'feature_fraction': hp.uniform('feature_fraction', 0.000000001, 1.0),\n",
    "    'min_sum_hessian_in_leaf': hp.loguniform('min_sum_hessian_in_leaf', -6, 2),\n",
    "}\n",
    "\"\"\""
   ]
  },
  {
   "cell_type": "code",
   "execution_count": null,
   "metadata": {
    "_uuid": "31439b9adfdfff4bf84563527eb4dfb6a91d77ac",
    "collapsed": true,
    "scrolled": false
   },
   "outputs": [],
   "source": [
    "%%time\n",
    "cv_size = 5\n",
    "max_evals = 100\n",
    "n_jobs = 1\n",
    "\n",
    "best_params = searchHyperParam(lgbmodel, par_space, X_train, y_train, scoring=\"neg_mean_squared_log_error\", max_evals=max_evals, cv_size=cv_size, n_jobs=n_jobs)\n",
    "best_params"
   ]
  },
  {
   "cell_type": "raw",
   "metadata": {
    "_uuid": "005f57f0b65637f97b985117f11898d43fb59ee7"
   },
   "source": [
    "# 100 trial\n",
    "\n",
    "\n",
    "# 5 trial\n",
    "best trial:  {'loss': 0.09970461992182392, 'status': 'ok'}\n",
    "CPU times: user 1min 53s, sys: 5.56 s, total: 1min 59s\n",
    "Wall time: 16.8 s"
   ]
  },
  {
   "cell_type": "code",
   "execution_count": null,
   "metadata": {
    "_uuid": "59f767b2f483b07964b6ae64298bddaa345d53c3",
    "collapsed": true
   },
   "outputs": [],
   "source": [
    "# used 100 max_evalus score\n",
    "\n",
    "best_params = {'bagging_fraction': 0.6488366999217055,\n",
    " 'bagging_freq': 4,\n",
    " 'feature_fraction': 0.8769912726752449,\n",
    " 'learning_rate': 0.2322285924856258,\n",
    " 'max_bin': 259,\n",
    " 'max_depth': 46,\n",
    " 'min_data_in_leaf': 34,\n",
    " 'min_sum_hessian_in_leaf': 0.011853166137307664,\n",
    " 'n_estimators': 54,\n",
    " 'num_leaves': 3}"
   ]
  },
  {
   "cell_type": "code",
   "execution_count": null,
   "metadata": {
    "_uuid": "4e0d3eea153cbaa75c1a857e32381dd1b7da11c9",
    "collapsed": true,
    "scrolled": true
   },
   "outputs": [],
   "source": [
    "lgbmodel.steps[-1][1].set_params(**best_params)\n",
    "\n",
    "\n",
    "evalModelByCV(lgbmodel, X_train, y_train, scoring=\"neg_mean_squared_log_error\")\n",
    "\n",
    "\n",
    "#plot_my_learning_curves(X_train, y_train, X_test, y_test, lgbmodel, scoring=\"r2\", cv=5, n_jobs=3)\n",
    "\n",
    "# plot feature importance\n",
    "pd.concat((pd.DataFrame(X_train.columns, columns = ['variable']), \n",
    "           pd.DataFrame(lgbmodel.named_steps[\"lgbmregressor\"].feature_importances_, columns = ['importance'])), \n",
    "          axis = 1).sort_values(by='importance', ascending = False)\n"
   ]
  },
  {
   "cell_type": "code",
   "execution_count": null,
   "metadata": {
    "_uuid": "9f6ee69a017cbf8da06c38a1a3b15ad9db4a4e0b",
    "collapsed": true
   },
   "outputs": [],
   "source": [
    "lgbmodel.fit(X_train_df, y_train_df)\n",
    "\n",
    "\n",
    "sub = pd.DataFrame()\n",
    "sub['ID'] = id_test_df\n",
    "sub['target'] = np.expm1(lgbmodel.predict(test_df))\n",
    "sub.to_csv('../output/submission.csv', index=False)\n"
   ]
  },
  {
   "cell_type": "code",
   "execution_count": null,
   "metadata": {
    "_uuid": "1537d713c2515e543f24d9795161460843d0cc80",
    "collapsed": true
   },
   "outputs": [],
   "source": []
  },
  {
   "cell_type": "code",
   "execution_count": null,
   "metadata": {
    "_uuid": "2256ac7ad8b78a762890b4eca86db366336a54b0",
    "collapsed": true
   },
   "outputs": [],
   "source": []
  },
  {
   "cell_type": "markdown",
   "metadata": {
    "_uuid": "9e3174f31cabd24cde6f6d05d0295a9eb6f7a1d3"
   },
   "source": [
    "## catboost"
   ]
  },
  {
   "cell_type": "raw",
   "metadata": {
    "_uuid": "b3ba08be2f59e7ac7e66456810716bbffead3f4d"
   },
   "source": [
    "from catboost import CatBoostRegressor\n",
    "\n",
    "print(list(obj_columns.columns.values))\n",
    "print(cat_dims)"
   ]
  },
  {
   "cell_type": "raw",
   "metadata": {
    "_uuid": "316e87a9cbab7fb6295f713b4af5dea464c9afa8"
   },
   "source": [
    "X_train_with_cat.head()"
   ]
  },
  {
   "cell_type": "raw",
   "metadata": {
    "_uuid": "043e551eb24cf2d4d1ca09e834cd619d4fa90862"
   },
   "source": [
    "catReg = CatBoostRegressor(learning_rate=1,\n",
    "                          depth=6,\n",
    "                          loss_function='RMSE')\n",
    "\n",
    "fit_model = catReg.fit(X_train_with_cat, y_train_with_cat, cat_features=cat_dims)\n"
   ]
  },
  {
   "cell_type": "code",
   "execution_count": null,
   "metadata": {
    "_uuid": "4915ff78f9784c3f8d5597ca037815dca458088f",
    "collapsed": true
   },
   "outputs": [],
   "source": []
  },
  {
   "cell_type": "code",
   "execution_count": null,
   "metadata": {
    "_uuid": "483afb75061db3843a76e3a31c2ff1e6dd5abc95",
    "collapsed": true
   },
   "outputs": [],
   "source": []
  },
  {
   "cell_type": "markdown",
   "metadata": {
    "_uuid": "084a5137ac0eaed337da8988bc5525b6bc54a606"
   },
   "source": [
    "## TPOT"
   ]
  },
  {
   "cell_type": "raw",
   "metadata": {
    "_uuid": "26bd98e8daeaa9726d272c86104adc0286089348"
   },
   "source": [
    "from tpot import TPOTRegressor\n",
    "\n",
    "tpot = TPOTRegressor(\n",
    "    generations=30, \n",
    "    population_size=10, \n",
    "    verbosity=1,\n",
    "    early_stop=10,\n",
    "    n_jobs=n_jobs,\n",
    "    scoring='r2'\n",
    "#    mutation_rate=0.5,\n",
    "#    crossover_rate=0.5,\n",
    "#    config_dict='TPOT MDR',\n",
    ")\n",
    "\n",
    "# mutation_rate: default 0.9, crossover_rate: default 0.1\n",
    "# mutation_rate=0.5, crossover_rate=0.5)\n",
    "# , config_dict='TPOT MDR' should be better, but became fast and low score...\n",
    "\n",
    "tpot.fit(X_train, y_train)\n",
    "\n",
    "print(\"test\", tpot.score(X_test, y_test))\n",
    "\n",
    "#tpot.export('tpot_'+ time.strftime(\"%Y-%m-%d-%H-%M-%S\") + '.py')"
   ]
  },
  {
   "cell_type": "code",
   "execution_count": null,
   "metadata": {
    "_uuid": "92ac9acef64699924fd510451e39b602b24958ce",
    "collapsed": true
   },
   "outputs": [],
   "source": []
  },
  {
   "cell_type": "code",
   "execution_count": null,
   "metadata": {
    "_uuid": "6d6dfe98d1eeecb44d02112c027fb6b3daf9f664",
    "collapsed": true
   },
   "outputs": [],
   "source": []
  },
  {
   "cell_type": "markdown",
   "metadata": {
    "_uuid": "b934d243cbead60935d201ad8cad33591efea5ae"
   },
   "source": [
    "\n",
    "# Stacking"
   ]
  },
  {
   "cell_type": "code",
   "execution_count": null,
   "metadata": {
    "_uuid": "56dc89d60c371f48a37044670fd37db88309d4d0",
    "collapsed": true,
    "scrolled": true
   },
   "outputs": [],
   "source": [
    "# svr, lasso, elasticnet, krr, knr, ranfore, gboostreg, xgbmodel\n",
    "\n",
    "stregr = StackingRegressor(regressors=[\n",
    "    svr,\n",
    "    lasso, \n",
    "    #elasticnet, \n",
    "    #krr, \n",
    "    #knr, \n",
    "    ranfore, \n",
    "    gboostreg, \n",
    "    xgbmodel,\n",
    "    lgbmodel,\n",
    "],\n",
    "                           meta_regressor=elasticnet)\n",
    "\n",
    "\n",
    "evalModelByCV(stregr, X_train, y_train, scoring=\"neg_mean_squared_log_error\")\n",
    "\n",
    "\n",
    "#plot_my_learning_curves(X_train, y_train, X_test, y_test, stregr, scoring=\"r2\", cv=5, n_jobs=n_jobs)\n",
    "\n"
   ]
  },
  {
   "cell_type": "code",
   "execution_count": null,
   "metadata": {
    "_uuid": "c6e05ef4eea61249c9149252633368db55427610",
    "collapsed": true,
    "scrolled": false
   },
   "outputs": [],
   "source": [
    "# https://rasbt.github.io/mlxtend/api_subpackages/mlxtend.regressor/\n",
    "stregr.coef_"
   ]
  },
  {
   "cell_type": "code",
   "execution_count": null,
   "metadata": {
    "_uuid": "a19e8d31d4cdb71fd10223003364ecae338a5fda",
    "collapsed": true
   },
   "outputs": [],
   "source": [
    "# Training the stacking classifier with all train data\n",
    "\n",
    "stregr.fit(train_df, y_train_df)"
   ]
  },
  {
   "cell_type": "code",
   "execution_count": null,
   "metadata": {
    "_uuid": "614f4d98befd44b85dee23fd790220f8956ddb44",
    "collapsed": true
   },
   "outputs": [],
   "source": []
  },
  {
   "cell_type": "code",
   "execution_count": null,
   "metadata": {
    "_uuid": "7204aa150cf5f6c8cede602a2a170f37197a21af",
    "collapsed": true
   },
   "outputs": [],
   "source": []
  },
  {
   "cell_type": "markdown",
   "metadata": {
    "_uuid": "cd46ae2a7060931fdaaa967bbcecd83ea2277543"
   },
   "source": [
    "# Make submission file\n"
   ]
  },
  {
   "cell_type": "code",
   "execution_count": null,
   "metadata": {
    "_uuid": "401db93b4f4f74f25ce6b4bb2fbfb1370b26feab",
    "collapsed": true
   },
   "outputs": [],
   "source": [
    "sub = pd.DataFrame()\n",
    "sub['ID'] = id_test_df\n",
    "sub['target'] = np.expm1(stregr.predict(test_df))\n",
    "sub.to_csv('../output/submission.csv', index=False)\n"
   ]
  },
  {
   "cell_type": "code",
   "execution_count": null,
   "metadata": {
    "_uuid": "f81b3a760a6ef8f5b237d30d9c1f6e8f7a1ce9d9",
    "collapsed": true
   },
   "outputs": [],
   "source": []
  },
  {
   "cell_type": "code",
   "execution_count": null,
   "metadata": {
    "_uuid": "916057226c2c5c3940913f2f16870cd368793b9c",
    "collapsed": true
   },
   "outputs": [],
   "source": []
  }
 ],
 "metadata": {
  "kernelspec": {
   "display_name": "Python 3",
   "language": "python",
   "name": "python3"
  },
  "language_info": {
   "codemirror_mode": {
    "name": "ipython",
    "version": 3
   },
   "file_extension": ".py",
   "mimetype": "text/x-python",
   "name": "python",
   "nbconvert_exporter": "python",
   "pygments_lexer": "ipython3",
   "version": "3.6.5"
  },
  "toc": {
   "base_numbering": 1,
   "nav_menu": {
    "height": "390px",
    "width": "474px"
   },
   "number_sections": true,
   "sideBar": true,
   "skip_h1_title": false,
   "title_cell": "Table of Contents",
   "title_sidebar": "Contents",
   "toc_cell": false,
   "toc_position": {
    "height": "calc(100% - 180px)",
    "left": "10px",
    "top": "150px",
    "width": "197px"
   },
   "toc_section_display": true,
   "toc_window_display": true
  },
  "varInspector": {
   "cols": {
    "lenName": 16,
    "lenType": 16,
    "lenVar": 40
   },
   "kernels_config": {
    "python": {
     "delete_cmd_postfix": "",
     "delete_cmd_prefix": "del ",
     "library": "var_list.py",
     "varRefreshCmd": "print(var_dic_list())"
    },
    "r": {
     "delete_cmd_postfix": ") ",
     "delete_cmd_prefix": "rm(",
     "library": "var_list.r",
     "varRefreshCmd": "cat(var_dic_list()) "
    }
   },
   "position": {
    "height": "330px",
    "left": "996px",
    "right": "30px",
    "top": "120px",
    "width": "340px"
   },
   "types_to_exclude": [
    "module",
    "function",
    "builtin_function_or_method",
    "instance",
    "_Feature"
   ],
   "window_display": false
  }
 },
 "nbformat": 4,
 "nbformat_minor": 2
}
