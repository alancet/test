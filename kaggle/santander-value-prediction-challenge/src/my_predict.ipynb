{
 "cells": [
  {
   "cell_type": "code",
   "execution_count": null,
   "metadata": {
    "_uuid": "e459ee3754132b61ab349eecdfbdd333a93b80b1",
    "collapsed": true
   },
   "outputs": [],
   "source": []
  },
  {
   "cell_type": "code",
   "execution_count": 1,
   "metadata": {
    "_uuid": "3667b38d14a7f7278c6c2c6f99cae4b1ebd74976",
    "collapsed": true
   },
   "outputs": [],
   "source": [
    "%matplotlib inline"
   ]
  },
  {
   "cell_type": "code",
   "execution_count": 2,
   "metadata": {
    "_cell_guid": "b1076dfc-b9ad-4769-8c92-a6c4dae69d19",
    "_uuid": "8f2839f25d086af736a60e9eeb907d3b93b6e0e5"
   },
   "outputs": [
    {
     "name": "stdout",
     "output_type": "stream",
     "text": [
      "['train.csv', 'sample_submission.csv', 'test.csv']\n"
     ]
    }
   ],
   "source": [
    "import numpy as np # linear algebra\n",
    "import pandas as pd # data processing, CSV file I/O (e.g. pd.read_csv)\n",
    "\n",
    "import os\n",
    "print(os.listdir(\"../input\"))\n"
   ]
  },
  {
   "cell_type": "code",
   "execution_count": 3,
   "metadata": {
    "_cell_guid": "146f2f45-7136-4a87-a674-c1ea4b89cc33",
    "_uuid": "c7ccf983dddbd502eea5fc4d380e57fc7fb7da05",
    "scrolled": true
   },
   "outputs": [
    {
     "name": "stderr",
     "output_type": "stream",
     "text": [
      "/opt/conda/lib/python3.6/site-packages/pandas_profiling/plot.py:15: UserWarning: \n",
      "This call to matplotlib.use() has no effect because the backend has already\n",
      "been chosen; matplotlib.use() must be called *before* pylab, matplotlib.pyplot,\n",
      "or matplotlib.backends is imported for the first time.\n",
      "\n",
      "The backend was *originally* set to 'module://ipykernel.pylab.backend_inline' by the following code:\n",
      "  File \"/opt/conda/lib/python3.6/runpy.py\", line 193, in _run_module_as_main\n",
      "    \"__main__\", mod_spec)\n",
      "  File \"/opt/conda/lib/python3.6/runpy.py\", line 85, in _run_code\n",
      "    exec(code, run_globals)\n",
      "  File \"/opt/conda/lib/python3.6/site-packages/ipykernel_launcher.py\", line 16, in <module>\n",
      "    app.launch_new_instance()\n",
      "  File \"/opt/conda/lib/python3.6/site-packages/traitlets/config/application.py\", line 658, in launch_instance\n",
      "    app.start()\n",
      "  File \"/opt/conda/lib/python3.6/site-packages/ipykernel/kernelapp.py\", line 477, in start\n",
      "    ioloop.IOLoop.instance().start()\n",
      "  File \"/opt/conda/lib/python3.6/site-packages/zmq/eventloop/ioloop.py\", line 177, in start\n",
      "    super(ZMQIOLoop, self).start()\n",
      "  File \"/opt/conda/lib/python3.6/site-packages/tornado/ioloop.py\", line 888, in start\n",
      "    handler_func(fd_obj, events)\n",
      "  File \"/opt/conda/lib/python3.6/site-packages/tornado/stack_context.py\", line 277, in null_wrapper\n",
      "    return fn(*args, **kwargs)\n",
      "  File \"/opt/conda/lib/python3.6/site-packages/zmq/eventloop/zmqstream.py\", line 440, in _handle_events\n",
      "    self._handle_recv()\n",
      "  File \"/opt/conda/lib/python3.6/site-packages/zmq/eventloop/zmqstream.py\", line 472, in _handle_recv\n",
      "    self._run_callback(callback, msg)\n",
      "  File \"/opt/conda/lib/python3.6/site-packages/zmq/eventloop/zmqstream.py\", line 414, in _run_callback\n",
      "    callback(*args, **kwargs)\n",
      "  File \"/opt/conda/lib/python3.6/site-packages/tornado/stack_context.py\", line 277, in null_wrapper\n",
      "    return fn(*args, **kwargs)\n",
      "  File \"/opt/conda/lib/python3.6/site-packages/ipykernel/kernelbase.py\", line 283, in dispatcher\n",
      "    return self.dispatch_shell(stream, msg)\n",
      "  File \"/opt/conda/lib/python3.6/site-packages/ipykernel/kernelbase.py\", line 235, in dispatch_shell\n",
      "    handler(stream, idents, msg)\n",
      "  File \"/opt/conda/lib/python3.6/site-packages/ipykernel/kernelbase.py\", line 399, in execute_request\n",
      "    user_expressions, allow_stdin)\n",
      "  File \"/opt/conda/lib/python3.6/site-packages/ipykernel/ipkernel.py\", line 196, in do_execute\n",
      "    res = shell.run_cell(code, store_history=store_history, silent=silent)\n",
      "  File \"/opt/conda/lib/python3.6/site-packages/ipykernel/zmqshell.py\", line 533, in run_cell\n",
      "    return super(ZMQInteractiveShell, self).run_cell(*args, **kwargs)\n",
      "  File \"/opt/conda/lib/python3.6/site-packages/IPython/core/interactiveshell.py\", line 2698, in run_cell\n",
      "    interactivity=interactivity, compiler=compiler, result=result)\n",
      "  File \"/opt/conda/lib/python3.6/site-packages/IPython/core/interactiveshell.py\", line 2808, in run_ast_nodes\n",
      "    if self.run_code(code, result):\n",
      "  File \"/opt/conda/lib/python3.6/site-packages/IPython/core/interactiveshell.py\", line 2862, in run_code\n",
      "    exec(code_obj, self.user_global_ns, self.user_ns)\n",
      "  File \"<ipython-input-1-e27d371d6baa>\", line 1, in <module>\n",
      "    get_ipython().magic('matplotlib inline')\n",
      "  File \"/opt/conda/lib/python3.6/site-packages/IPython/core/interactiveshell.py\", line 2146, in magic\n",
      "    return self.run_line_magic(magic_name, magic_arg_s)\n",
      "  File \"/opt/conda/lib/python3.6/site-packages/IPython/core/interactiveshell.py\", line 2067, in run_line_magic\n",
      "    result = fn(*args,**kwargs)\n",
      "  File \"<decorator-gen-107>\", line 2, in matplotlib\n",
      "  File \"/opt/conda/lib/python3.6/site-packages/IPython/core/magic.py\", line 187, in <lambda>\n",
      "    call = lambda f, *a, **k: f(*a, **k)\n",
      "  File \"/opt/conda/lib/python3.6/site-packages/IPython/core/magics/pylab.py\", line 99, in matplotlib\n",
      "    gui, backend = self.shell.enable_matplotlib(args.gui)\n",
      "  File \"/opt/conda/lib/python3.6/site-packages/IPython/core/interactiveshell.py\", line 2930, in enable_matplotlib\n",
      "    pt.activate_matplotlib(backend)\n",
      "  File \"/opt/conda/lib/python3.6/site-packages/IPython/core/pylabtools.py\", line 307, in activate_matplotlib\n",
      "    matplotlib.pyplot.switch_backend(backend)\n",
      "  File \"/opt/conda/lib/python3.6/site-packages/matplotlib/pyplot.py\", line 229, in switch_backend\n",
      "    matplotlib.use(newbackend, warn=False, force=True)\n",
      "  File \"/opt/conda/lib/python3.6/site-packages/matplotlib/__init__.py\", line 1305, in use\n",
      "    reload(sys.modules['matplotlib.backends'])\n",
      "  File \"/opt/conda/lib/python3.6/importlib/__init__.py\", line 166, in reload\n",
      "    _bootstrap._exec(spec, module)\n",
      "  File \"/opt/conda/lib/python3.6/site-packages/matplotlib/backends/__init__.py\", line 14, in <module>\n",
      "    line for line in traceback.format_stack()\n",
      "\n",
      "\n",
      "  matplotlib.use(BACKEND)\n"
     ]
    }
   ],
   "source": [
    "import mlxtend\n",
    "import pandas_profiling\n",
    "\n",
    "import seaborn as sns\n",
    "\n",
    "from scipy import stats\n",
    "from scipy.stats import norm, skew #for some statistics\n",
    "\n",
    "import matplotlib.pyplot as plt\n",
    "\n",
    "\n",
    "from tqdm import tqdm\n"
   ]
  },
  {
   "cell_type": "code",
   "execution_count": 4,
   "metadata": {
    "_cell_guid": "79c7e3d0-c299-4dcb-8224-4455121ee9b0",
    "_uuid": "d629ff2d2480ee46fbb7e2d37f6b5fab8052498a",
    "scrolled": false
   },
   "outputs": [
    {
     "name": "stdout",
     "output_type": "stream",
     "text": [
      "CPU times: user 3.32 s, sys: 268 ms, total: 3.58 s\n",
      "Wall time: 3.58 s\n"
     ]
    }
   ],
   "source": [
    "%%time\n",
    "train_df = pd.read_csv(\"../input/train.csv\")\n"
   ]
  },
  {
   "cell_type": "code",
   "execution_count": 5,
   "metadata": {
    "_uuid": "0c312371b3dc2d71311371d133f79c46d771a89c"
   },
   "outputs": [
    {
     "data": {
      "text/plain": [
       "(4459, 4993)"
      ]
     },
     "execution_count": 5,
     "metadata": {},
     "output_type": "execute_result"
    }
   ],
   "source": [
    "train_df.shape"
   ]
  },
  {
   "cell_type": "code",
   "execution_count": 6,
   "metadata": {
    "_uuid": "4754e1ec02444dff2ba09dc55778dab923b4d523",
    "collapsed": true
   },
   "outputs": [],
   "source": [
    "TRAIN_SIZE = train_df.shape[0]"
   ]
  },
  {
   "cell_type": "code",
   "execution_count": 7,
   "metadata": {
    "_uuid": "51edb6e160626da1ffafe62adeb6a577208c59ac"
   },
   "outputs": [
    {
     "name": "stdout",
     "output_type": "stream",
     "text": [
      "CPU times: user 3.86 s, sys: 184 ms, total: 4.04 s\n",
      "Wall time: 4.05 s\n"
     ]
    }
   ],
   "source": [
    "%%time\n",
    "test_df = pd.read_csv(\"../input/test.csv\",\n",
    "                     nrows=TRAIN_SIZE)\n"
   ]
  },
  {
   "cell_type": "raw",
   "metadata": {
    "_uuid": "37b774a251528bffdff0359e00a1f12f73eac2ea"
   },
   "source": [
    "%%time\n",
    "train_df.head()"
   ]
  },
  {
   "cell_type": "raw",
   "metadata": {
    "_cell_guid": "0ebfb2fa-2344-4c99-9d17-5ada90f22705",
    "_uuid": "bb1e12878db2f74ce89bfc913712742f31e24b25"
   },
   "source": [
    "%%time\n",
    "test_df.head()"
   ]
  },
  {
   "cell_type": "code",
   "execution_count": null,
   "metadata": {
    "_uuid": "6af23fce60b5a3eb928f7075c715343e0623ea21",
    "collapsed": true
   },
   "outputs": [],
   "source": []
  },
  {
   "cell_type": "markdown",
   "metadata": {
    "_uuid": "252d02c68bbbca9924bcb8e1f792540fd43c9ea2"
   },
   "source": [
    "# defining useful functions"
   ]
  },
  {
   "cell_type": "code",
   "execution_count": 8,
   "metadata": {
    "_uuid": "33056a35c8466ce5811f089b8b131b67f6e22bee",
    "code_folding": [
     34
    ],
    "collapsed": true
   },
   "outputs": [],
   "source": [
    "\n",
    "%matplotlib inline\n",
    "\n",
    "import os\n",
    "\n",
    "import numpy as np\n",
    "import pandas as pd\n",
    "from scipy import stats\n",
    "from scipy.stats import norm, skew #for some statistics\n",
    "\n",
    "import matplotlib.pyplot as plt\n",
    "import seaborn as sns\n",
    "\n",
    "from sklearn.model_selection import cross_val_score, train_test_split\n",
    "from sklearn.model_selection import learning_curve\n",
    "\n",
    "import mlxtend\n",
    "from mlxtend.plotting import plot_learning_curves\n",
    "\n",
    "import pandas_profiling\n",
    "\n",
    "\n",
    "\n",
    "\n",
    "\n",
    "def checkNaValues(dataframe):\n",
    "    \"\"\"check nan values in dataframe\"\"\"\n",
    "    \n",
    "    print(\"\\n# Is there any nan values?: \", dataframe.isna().all().all())\n",
    "    \n",
    "    print(\"## detail missing data ratio\")\n",
    "    #if dataframe.isna().all().all()\n",
    "    dataframe_na = (dataframe.isna().sum()/len(dataframe))*100\n",
    "    print(dataframe_na)\n",
    "    dataframe_na = dataframe_na.drop(\n",
    "        dataframe_na[dataframe_na == 0].index\n",
    "    ).sort_values(ascending=False)\n",
    "    missing_data = pd.DataFrame({'Missing Ratio':dataframe_na})\n",
    "    print(missing_data)\n",
    "    \n",
    "    \n",
    "    \"\"\"there is error. so not implemented yet\n",
    "    # just plot the rate\n",
    "    f, ax = plt.subplots(figsize=(15, 12))\n",
    "    plt.xticks(rotation='90')\n",
    "    sns.barplot(x=dataframe_na.index, y=dataframe_na.values)\n",
    "    plt.xlabel('Features', fontsize=15)\n",
    "    plt.ylabel('Percent of missing values', fontsize=15)\n",
    "    plt.title('Percent missing data by feature', fontsize=15)\n",
    "    \"\"\"\n",
    "\n",
    "    \n",
    "def checkObjTypeColumns(dataframe):\n",
    "    \"\"\"Check object dtype columns\"\"\"\n",
    "\n",
    "    print(\"\\n# object dtype columns\")\n",
    "    # object dtypeの列名からその列のデータのみを抽出\n",
    "    df_object_type = dataframe[dataframe.select_dtypes(['object']).columns]\n",
    "    #df_object_type = dataframe[[x for x in dataframe.columns if dataframe[x].dtypes == \"object\"]]\n",
    "    print(df_object_type.head())\n",
    "    #print(df_object_type.info()) # not useful info\n",
    "    print(df_object_type.describe())\n",
    "\n",
    "    \n",
    "def checkValueCounts(dataframe):\n",
    "    \"\"\"check value counts of each features and find boolean feature or not.\"\"\"\n",
    "\n",
    "    print(\"# value_counts of each feature: \")\n",
    "    for column in dataframe.columns:\n",
    "        #print(\"## \", column, \": \")\n",
    "        #print(dataframe[column].value_counts().head())\n",
    "        value_counts = dataframe[column].value_counts().shape[0]\n",
    "        if value_counts == 1:\n",
    "            print(column, \" -> single value. value count:  \", dataframe[column].value_counts().shape[0])            \n",
    "        elif value_counts == 2:\n",
    "            print(column, \" -> maybe boolean. value count:  \", dataframe[column].value_counts().shape[0])\n",
    "        else:\n",
    "            print(column, \" -> not boolean. value count:  \", dataframe[column].value_counts().shape[0])\n",
    "            \n",
    "\n",
    "def findSingleValueColmuns(dataframe):\n",
    "    \"\"\"check value counts of each features and find single value feature.\n",
    "    Such column is no meaning to learn.\n",
    "    \"\"\"\n",
    "\n",
    "    single_val_columns = []\n",
    "    for column in dataframe.columns:\n",
    "        value_counts = dataframe[column].value_counts().shape[0]\n",
    "        if value_counts == 1:\n",
    "            single_val_columns.append(column)\n",
    "    return single_val_columns\n",
    "\n",
    "            \n",
    "def checkCorrelationOfFeatures(dataframe):\n",
    "    \"\"\"check correlation matix of each features\"\"\"\n",
    "\n",
    "    # plot corr\n",
    "    print(\"\\n# correlation matrix\")\n",
    "    corrmat = dataframe.corr()\n",
    "    plt.subplots(figsize=(12,9))\n",
    "    sns.heatmap(corrmat, vmax=0.9, square=True)\n",
    "    plt.show()\n",
    "    print(corrmat)\n",
    "    print()\n",
    "    \n",
    "    corr_values = corrmat.iloc[0]\n",
    "    print(\"## highest correlation: \", corr_values.sort_values().head())\n",
    "    print(\"## lowest correlation: \", corr_values.sort_values().tail())\n",
    "\n",
    "    \n",
    "def checkSkewness(dataframe):\n",
    "    \"\"\"check skewness of each features\"\"\"\n",
    "    \n",
    "    #numeric_feats = dataframe.dtypes[all_data.dtypes != \"object\"].index\n",
    "    numeric_feats = dataframe.select_dtypes(exclude=['object'])\n",
    "    #print(numeric_feats)\n",
    "    # Check the skew of all numerical features\n",
    "    skewed_feats = numeric_feats.apply(\n",
    "        lambda x: skew(x.dropna())).sort_values(ascending=False)\n",
    "    print(\"\\n# Skew in numerical features: \\n\")\n",
    "    skewness = pd.DataFrame({'Skew' :skewed_feats})\n",
    "    print(skewness)\n",
    "    \n",
    "    return skewness\n",
    "    \n",
    "    \n",
    "def checkAllDataInfo(dataframe):\n",
    "    \"\"\"print all dataframe info\"\"\"\n",
    "\n",
    "    print(dataframe.head())\n",
    "    print(\"\\n# shape: \", dataframe.shape)\n",
    "    print(\"\\n# columns names: \", train_df.columns.values)\n",
    "    \n",
    "    print(\"\\n# df.info(): \")\n",
    "    print(dataframe.info())\n",
    "    #print(\"\\n# counts dtypes: \\n\", dataframe.dtypes.value_counts())# it is included in dataframe.info()\n",
    "\n",
    "    print(\"\\n# df.describe(): \")\n",
    "    print(dataframe.describe())\n",
    "    print()\n",
    "    \n",
    "    #print()\n",
    "    #pandas_profiling.ProfileReport(dataframe)\n",
    "    print()\n",
    "    checkNaValues(dataframe)\n",
    "    print()\n",
    "    checkObjTypeColumns(dataframe)\n",
    "    print()\n",
    "    checkValueCounts(dataframe)\n",
    "    print()\n",
    "    #checkCorrelationOfFeatures(dataframe)\n",
    "    \n",
    "    print()\n",
    "    checkSkewness(dataframe)\n",
    "    \n",
    "    \n",
    "    \n",
    "def my_plot_learning_curve(estimator, title, X, y, ylim=None, cv=None,\n",
    "                        scoring=\"r2\",\n",
    "                        n_jobs=1, train_sizes=np.linspace(.1, 1.0, 5)):\n",
    "    \"\"\"\n",
    "    Generate a simple plot of the test and training learning curve.\n",
    "\n",
    "    Parameters\n",
    "    ----------\n",
    "    estimator : object type that implements the \"fit\" and \"predict\" methods\n",
    "        An object of that type which is cloned for each validation.\n",
    "\n",
    "    title : string\n",
    "        Title for the chart.\n",
    "\n",
    "    X : array-like, shape (n_samples, n_features)\n",
    "        Training vector, where n_samples is the number of samples and\n",
    "        n_features is the number of features.\n",
    "\n",
    "    y : array-like, shape (n_samples) or (n_samples, n_features), optional\n",
    "        Target relative to X for classification or regression;\n",
    "        None for unsupervised learning.\n",
    "\n",
    "    ylim : tuple, shape (ymin, ymax), optional\n",
    "        Defines minimum and maximum yvalues plotted.\n",
    "\n",
    "    cv : int, cross-validation generator or an iterable, optional\n",
    "        Determines the cross-validation splitting strategy.\n",
    "        Possible inputs for cv are:\n",
    "          - None, to use the default 3-fold cross-validation,\n",
    "          - integer, to specify the number of folds.\n",
    "          - An object to be used as a cross-validation generator.\n",
    "          - An iterable yielding train/test splits.\n",
    "\n",
    "        For integer/None inputs, if ``y`` is binary or multiclass,\n",
    "        :class:`StratifiedKFold` used. If the estimator is not a classifier\n",
    "        or if ``y`` is neither binary nor multiclass, :class:`KFold` is used.\n",
    "\n",
    "        Refer :ref:`User Guide <cross_validation>` for the various\n",
    "        cross-validators that can be used here.\n",
    "\n",
    "    n_jobs : integer, optional\n",
    "        Number of jobs to run in parallel (default 1).\n",
    "    \"\"\"\n",
    "    plt.figure()\n",
    "    plt.title(title)\n",
    "    if ylim is not None:\n",
    "        plt.ylim(*ylim)\n",
    "    plt.xlabel(\"Training examples\")\n",
    "    plt.ylabel(\"Score\")\n",
    "    train_sizes, train_scores, test_scores = learning_curve(\n",
    "        estimator, X, y, cv=cv, scoring=scoring, n_jobs=n_jobs, train_sizes=train_sizes)\n",
    "    train_scores_mean = np.mean(train_scores, axis=1)\n",
    "    train_scores_std = np.std(train_scores, axis=1)\n",
    "    test_scores_mean = np.mean(test_scores, axis=1)\n",
    "    test_scores_std = np.std(test_scores, axis=1)\n",
    "    plt.grid()\n",
    "\n",
    "    plt.fill_between(train_sizes, train_scores_mean - train_scores_std,\n",
    "                     train_scores_mean + train_scores_std, alpha=0.1,\n",
    "                     color=\"r\")\n",
    "    plt.fill_between(train_sizes, test_scores_mean - test_scores_std,\n",
    "                     test_scores_mean + test_scores_std, alpha=0.1, color=\"g\")\n",
    "    plt.plot(train_sizes, train_scores_mean, 'o-', color=\"r\",\n",
    "             label=\"Training score\")\n",
    "    plt.plot(train_sizes, test_scores_mean, 'o-', color=\"g\",\n",
    "             label=\"Cross-validation score\")\n",
    "\n",
    "    plt.legend(loc=\"best\")\n",
    "    return plt\n",
    "\n",
    "\n",
    "\n",
    "def checkTargetInfo(dataframe, target_name=\"y\"):\n",
    "    \"\"\"print target y value info\"\"\"\n",
    " \n",
    "    # plot distribution\n",
    "    sns.distplot(train_df[target_name], fit=norm)\n",
    "    (mu, sigma) = norm.fit(train_df[target_name])\n",
    "    print(\"mu, sigma:\", mu, sigma)\n",
    "\n",
    "    plt.legend(['Normal dist. ($\\mu=$ {:.2f} and $\\sigma=$ {:.2f} )'.format(mu, sigma)],\n",
    "                loc='best')\n",
    "    plt.ylabel('Frequency')\n",
    "    plt.title('target value distribution')\n",
    "\n",
    "    \n",
    "    # plot skewness\n",
    "\n",
    "    #print(\"skewness of y\", skew(dataframe[target_name]))\n",
    "    print(\"skewness of y\", train_df[target_name].skew())\n",
    "    fig = plt.figure()\n",
    "    res = stats.probplot(train_df[target_name], plot=plt)\n",
    "    plt.show()\n",
    "\n",
    "    \n",
    "    \n",
    "def checkCorrelationOfSelectedFeatures(dataframe, columns):\n",
    "    \"\"\"check correlation matix of each features\"\"\"\n",
    "\n",
    "    # plot corr\n",
    "    print(\"\\n# correlation matrix\")\n",
    "    corrmat = dataframe[columns].corr()\n",
    "    plt.subplots(figsize=(12,9))\n",
    "    sns.heatmap(corrmat, vmax=0.9, square=True, annot=True)\n",
    "    plt.show()\n",
    "    print(corrmat)\n",
    "    \n",
    "\n",
    "    \n",
    "def splitToIdTargetFeatures(dataframe, id_name, target_name):\n",
    "    \"\"\"split train df to data, id and taret dataframes\n",
    "    \"\"\"\n",
    "    id_df = dataframe[id_name]\n",
    "    target_df = dataframe[target_name]\n",
    "    features_df = dataframe.drop([id_name, target_name], axis=1)\n",
    "    \n",
    "    return id_df, target_df, features_df\n",
    "\n",
    "\n"
   ]
  },
  {
   "cell_type": "markdown",
   "metadata": {
    "_uuid": "265f20419600ef026c3b8fe35d5ca8101e3fba63"
   },
   "source": [
    "# EDA"
   ]
  },
  {
   "cell_type": "markdown",
   "metadata": {
    "_uuid": "2ebbca87e4400693c8d2703a0aaa37dbdf02848e"
   },
   "source": [
    "## general info"
   ]
  },
  {
   "cell_type": "raw",
   "metadata": {
    "_uuid": "6c27f2a7ade9476cf76bf41a8514f256c757c9bd"
   },
   "source": [
    "%%time\n",
    "checkAllDataInfo(train_df)"
   ]
  },
  {
   "cell_type": "raw",
   "metadata": {
    "_uuid": "8c9853766c7b8ec4845bac641733fb4c794051f8"
   },
   "source": [
    "%%time\n",
    "checkAllDataInfo(test_df)"
   ]
  },
  {
   "cell_type": "code",
   "execution_count": null,
   "metadata": {
    "_uuid": "9deff4965292041304fa60b8e66935c7d3a192f2",
    "collapsed": true
   },
   "outputs": [],
   "source": []
  },
  {
   "cell_type": "raw",
   "metadata": {
    "_uuid": "04f001485387a5589f3910fe25455f922b02278c"
   },
   "source": [
    "train_df.describe()"
   ]
  },
  {
   "cell_type": "raw",
   "metadata": {
    "_uuid": "9aa1484a3a6bdc1cc44a6989d6a5a85ccee7ed49"
   },
   "source": [
    "test_df.describe()"
   ]
  },
  {
   "cell_type": "code",
   "execution_count": null,
   "metadata": {
    "_uuid": "2aaf498dfb0b840b62956795aac85c5182628d30",
    "collapsed": true
   },
   "outputs": [],
   "source": []
  },
  {
   "cell_type": "markdown",
   "metadata": {
    "_uuid": "3b4fcbab9c223df74e904a60bccec10d1ab6bf5a"
   },
   "source": [
    "## checking in details"
   ]
  },
  {
   "cell_type": "raw",
   "metadata": {
    "_uuid": "e4ea0e22459c1c243edee24fc7aaa8038beb492e"
   },
   "source": [
    "train_df.iloc[0, :].describe()"
   ]
  },
  {
   "cell_type": "raw",
   "metadata": {
    "_uuid": "88de0feb8aa6cf48dc75c5ac14048b97d8cdcc8e"
   },
   "source": [
    "for column in train_df.columns:\n",
    "    print(column, train_df[column].value_counts().shape[0])"
   ]
  },
  {
   "cell_type": "raw",
   "metadata": {
    "_uuid": "4b7c4d6f03f6b0348dcf7eaab862d7b3f415db4d"
   },
   "source": [
    "for column in train_df.columns:\n",
    "    if train_df[column].value_counts().shape[0] <= 1:\n",
    "        print(train_df[column].value_counts())\n",
    "        print()"
   ]
  },
  {
   "cell_type": "raw",
   "metadata": {
    "_uuid": "c408c7d6b66236e80f06a1e053ceccda587ce3a0"
   },
   "source": [
    "for column in train_df.columns:\n",
    "    print(train_df[column].value_counts())\n",
    "    print()"
   ]
  },
  {
   "cell_type": "raw",
   "metadata": {
    "_uuid": "5463cf6041380f4c9ef304177e1e49f780463d33"
   },
   "source": [
    "for column in train_df.columns:\n",
    "    if train_df[column].value_counts().shape[0] == 2:\n",
    "        print(train_df[column].value_counts())\n",
    "        print()"
   ]
  },
  {
   "cell_type": "code",
   "execution_count": null,
   "metadata": {
    "_uuid": "b831ac2217b12608c7558b87ff3f561d486a6962",
    "collapsed": true
   },
   "outputs": [],
   "source": []
  },
  {
   "cell_type": "code",
   "execution_count": null,
   "metadata": {
    "_uuid": "f9d01c92741f137570d75381cd043f614a7219da",
    "collapsed": true
   },
   "outputs": [],
   "source": []
  },
  {
   "cell_type": "markdown",
   "metadata": {
    "_uuid": "46cca2c7db1b434a440754067d64653906b1962f"
   },
   "source": [
    "## checkTargetInfo"
   ]
  },
  {
   "cell_type": "raw",
   "metadata": {
    "_uuid": "a76f2b7a39fcd6272a283050c56fa3dada4366c2"
   },
   "source": [
    "checkTargetInfo(train_df, target_name=\"target\")"
   ]
  },
  {
   "cell_type": "markdown",
   "metadata": {
    "_uuid": "c8c46bb335cc510cbf2d78b7c8ed44dce9a53c19"
   },
   "source": [
    "### apply logarithm transformation to tareget"
   ]
  },
  {
   "cell_type": "code",
   "execution_count": 9,
   "metadata": {
    "_uuid": "2b0b0c73d7321b007edc20f6836981ec083c3ce1",
    "scrolled": false
   },
   "outputs": [
    {
     "name": "stdout",
     "output_type": "stream",
     "text": [
      "14.490239292748585 1.7507504829494496\n"
     ]
    },
    {
     "data": {
      "image/png": "[encoded data removed]",
      "text/plain": [
       "<matplotlib.figure.Figure at 0x7f3c517da240>"
      ]
     },
     "metadata": {},
     "output_type": "display_data"
    },
    {
     "data": {
      "image/png": "[encoded data removed]",
      "text/plain": [
       "<matplotlib.figure.Figure at 0x7f3c5185d2e8>"
      ]
     },
     "metadata": {},
     "output_type": "display_data"
    }
   ],
   "source": [
    "# apply logarithm transformation\n",
    "\n",
    "train_df[\"target\"] = np.log1p(train_df[\"target\"])\n",
    "sns.distplot(train_df[\"target\"], fit=norm)\n",
    "\n",
    "(mu, sigma) = norm.fit(train_df[\"target\"])\n",
    "print(mu, sigma)\n",
    "\n",
    "plt.legend(['Normal dist. ($\\mu=$ {:.2f} and $\\sigma=$ {:.2f} )'.format(mu, sigma)],\n",
    "            loc='best')\n",
    "plt.ylabel('Frequency')\n",
    "plt.title('y distribution')\n",
    "\n",
    "fig = plt.figure()\n",
    "res = stats.probplot(train_df[\"target\"], plot=plt)\n",
    "plt.show()\n"
   ]
  },
  {
   "cell_type": "code",
   "execution_count": null,
   "metadata": {
    "_uuid": "e64999c25ecb341e5ec8083d6aa23a309b41033c",
    "collapsed": true
   },
   "outputs": [],
   "source": []
  },
  {
   "cell_type": "code",
   "execution_count": null,
   "metadata": {
    "_uuid": "19892e1e59cc54da57b466f057c9607dae04f30f",
    "collapsed": true
   },
   "outputs": [],
   "source": []
  },
  {
   "cell_type": "raw",
   "metadata": {
    "_uuid": "ced61a01d9f3243564093be7f8f2bab0152b4099"
   },
   "source": [
    "## check Correlation\n",
    "\n",
    "- if a feature have only one value, correlation become NAN.\n",
    "- so better to check correlation after dropped one value features"
   ]
  },
  {
   "cell_type": "raw",
   "metadata": {
    "_uuid": "9dcb8e7fd8f40c14d22f700e7549d2fca9af860a"
   },
   "source": [
    "    \n",
    "columns = [\"y\", \"X10\", \"X11\", \"X12\", \"X13\", \"X14\"]\n",
    "checkCorrelationOfSelectedFeatures(train_df, columns)"
   ]
  },
  {
   "cell_type": "raw",
   "metadata": {
    "_uuid": "d3cab6321d521bec8dbea6ae3bb61102c7edc68a"
   },
   "source": [
    "%%time\n",
    "corrmat = train_df.corr(method=\"spearman\")"
   ]
  },
  {
   "cell_type": "raw",
   "metadata": {
    "_uuid": "6ee3f845f00cf7c29ba03fd656d2b4e02b9d2008"
   },
   "source": [
    "corrmat.shape"
   ]
  },
  {
   "cell_type": "raw",
   "metadata": {
    "_uuid": "ea17a539bfd1e8b23fdcdde35425f96b4c504d0b"
   },
   "source": [
    "corrmat.head()"
   ]
  },
  {
   "cell_type": "raw",
   "metadata": {
    "_uuid": "004f7b29817c93421b0cda61a267efa9b0b3a498"
   },
   "source": [
    "corrmat[\"target\"].sort_values(ascending=False).head(10)"
   ]
  },
  {
   "cell_type": "raw",
   "metadata": {
    "_uuid": "c36f94c7a7d53381b6f958b97feb126f40c1f1d1"
   },
   "source": [
    "corrmat[\"target\"].sort_values(ascending=False).tail(10)"
   ]
  },
  {
   "cell_type": "raw",
   "metadata": {
    "_uuid": "eb48053fa2b4e93b1b160338fee0266b8339907e"
   },
   "source": [
    "\n",
    "corrmat = dataframe[columns].corr()\n",
    "plt.subplots(figsize=(12,9))\n",
    "sns.heatmap(corrmat, vmax=0.9, square=True, annot=True)\n",
    "plt.show()\n",
    "print(corrmat)"
   ]
  },
  {
   "cell_type": "code",
   "execution_count": null,
   "metadata": {
    "_uuid": "f3ca0e31640dcb6a5ad4034cc49a52ee98ca3f9f",
    "collapsed": true
   },
   "outputs": [],
   "source": []
  },
  {
   "cell_type": "code",
   "execution_count": null,
   "metadata": {
    "_uuid": "3ba6472c077720a06aa76e16c7c69302717f6d75",
    "collapsed": true
   },
   "outputs": [],
   "source": []
  },
  {
   "cell_type": "markdown",
   "metadata": {
    "_uuid": "6eb9700becb427f1d27118448c2b1e043b7a6c30"
   },
   "source": [
    "## pairplot\n",
    "\n",
    "- not good idea to make function\n",
    "- better to use pairplot() directly. more useful."
   ]
  },
  {
   "cell_type": "raw",
   "metadata": {
    "_uuid": "4aa1abaa2ff4417dcad9e7a71aeeb5fb4a6831de"
   },
   "source": [
    "sns.pairplot(train_df, vars=[\"y\", \"X10\", \"X11\", \"X12\", \"X13\"]) # takes too much time\n",
    "\n"
   ]
  },
  {
   "cell_type": "code",
   "execution_count": null,
   "metadata": {
    "_uuid": "d1c397b4be1706da9989c492a18537ee0b3069b9",
    "collapsed": true
   },
   "outputs": [],
   "source": []
  },
  {
   "cell_type": "markdown",
   "metadata": {
    "_uuid": "860635918f740c46fa398c096adc3d297266cb1f"
   },
   "source": [
    "## pandas_profiling"
   ]
  },
  {
   "cell_type": "raw",
   "metadata": {
    "_uuid": "20b376ea7647d19830dfb9137f9c0ffbb1e0a7ce"
   },
   "source": [
    "pandas_profiling.ProfileReport(train_df)"
   ]
  },
  {
   "cell_type": "code",
   "execution_count": null,
   "metadata": {
    "_uuid": "1e0cbd174c529c239639463a9d246fbca9cc76d5",
    "collapsed": true
   },
   "outputs": [],
   "source": []
  },
  {
   "cell_type": "code",
   "execution_count": null,
   "metadata": {
    "_uuid": "214584fd6388aa7540d1e8738be6a710b7cd413f",
    "collapsed": true
   },
   "outputs": [],
   "source": []
  },
  {
   "cell_type": "markdown",
   "metadata": {
    "_uuid": "b3f788599c2986f31a5784e4396ed13444570895"
   },
   "source": [
    "----\n",
    "\n",
    "# feature eng"
   ]
  },
  {
   "cell_type": "code",
   "execution_count": null,
   "metadata": {
    "_uuid": "97d6ce2738738434f8dea6e3f389acb60bc217a1",
    "collapsed": true
   },
   "outputs": [],
   "source": []
  },
  {
   "cell_type": "markdown",
   "metadata": {
    "_uuid": "933f8d872fd1d00146515adc1f446ffb68e9332a"
   },
   "source": []
  },
  {
   "cell_type": "markdown",
   "metadata": {
    "_uuid": "a58558e01a92e1f5ed629271b7f1a1822964dcd2"
   },
   "source": [
    "## add some features before drop some columns\n"
   ]
  },
  {
   "cell_type": "markdown",
   "metadata": {
    "_uuid": "4d092bebbdf95e599e6f357b53db19bf534b12e0"
   },
   "source": [
    "### add sum of zeros feature"
   ]
  },
  {
   "cell_type": "code",
   "execution_count": 16,
   "metadata": {
    "_uuid": "5ebbd84fec254f29bae1d9666ed36b12e809b98a",
    "collapsed": true
   },
   "outputs": [],
   "source": [
    "def add_SumZeros(train, test):\n",
    "    flist = [x for x in train.columns if not x in ['ID','target']]\n",
    "    train.insert(1, 'SumZeros', (train[flist] == 0).astype(int).sum(axis=1))\n",
    "    test.insert(1, 'SumZeros', (test[flist] == 0).astype(int).sum(axis=1))\n",
    "    return train, test\n"
   ]
  },
  {
   "cell_type": "code",
   "execution_count": 17,
   "metadata": {
    "_uuid": "f28b4d89d83b190b684e4a4b292aebf5e8f2cadb"
   },
   "outputs": [
    {
     "name": "stdout",
     "output_type": "stream",
     "text": [
      "CPU times: user 1.32 s, sys: 604 ms, total: 1.93 s\n",
      "Wall time: 1.93 s\n"
     ]
    }
   ],
   "source": [
    "%%time\n",
    "train_df, test_df = add_SumZeros(train_df, test_df)\n"
   ]
  },
  {
   "cell_type": "code",
   "execution_count": 18,
   "metadata": {
    "_uuid": "bf89c8546cbc8196dab04cc62ea02f1c478fa889",
    "scrolled": true
   },
   "outputs": [
    {
     "data": {
      "text/plain": [
       "0       4889\n",
       "1       4924\n",
       "2       4973\n",
       "3       4969\n",
       "4       4965\n",
       "5       4230\n",
       "6       4855\n",
       "7       4961\n",
       "8       4768\n",
       "9       4942\n",
       "10      4920\n",
       "11      4918\n",
       "12      4938\n",
       "13      4641\n",
       "14      4987\n",
       "15      4967\n",
       "16      4943\n",
       "17      4748\n",
       "18      4887\n",
       "19      4817\n",
       "20      4905\n",
       "21      4709\n",
       "22      4681\n",
       "23      4796\n",
       "24      4971\n",
       "25      4792\n",
       "26      4951\n",
       "27      4887\n",
       "28      4827\n",
       "29      4895\n",
       "        ... \n",
       "4429    4787\n",
       "4430    4973\n",
       "4431    4790\n",
       "4432    4980\n",
       "4433    4529\n",
       "4434    4777\n",
       "4435    4884\n",
       "4436    4867\n",
       "4437    4927\n",
       "4438    4901\n",
       "4439    4915\n",
       "4440    4782\n",
       "4441    4974\n",
       "4442    4903\n",
       "4443    3650\n",
       "4444    4948\n",
       "4445    4930\n",
       "4446    4970\n",
       "4447    4979\n",
       "4448    4933\n",
       "4449    4981\n",
       "4450    4966\n",
       "4451    4975\n",
       "4452    4986\n",
       "4453    4989\n",
       "4454    4882\n",
       "4455    4874\n",
       "4456    4799\n",
       "4457    4937\n",
       "4458    4860\n",
       "Name: SumZeros, Length: 4459, dtype: int64"
      ]
     },
     "execution_count": 18,
     "metadata": {},
     "output_type": "execute_result"
    }
   ],
   "source": [
    "train_df.SumZeros"
   ]
  },
  {
   "cell_type": "code",
   "execution_count": 19,
   "metadata": {
    "_uuid": "9bf79eac72d6bc371ca7cf4e618247109b094ce7"
   },
   "outputs": [
    {
     "data": {
      "text/plain": [
       "0       4913\n",
       "1       4979\n",
       "2       4892\n",
       "3       4871\n",
       "4       4983\n",
       "5       4969\n",
       "6       4966\n",
       "7       4984\n",
       "8       4963\n",
       "9       4843\n",
       "10      4882\n",
       "11      4988\n",
       "12      4949\n",
       "13      4968\n",
       "14      4951\n",
       "15      4694\n",
       "16      4943\n",
       "17      4886\n",
       "18      4956\n",
       "19      4931\n",
       "20      4987\n",
       "21      4972\n",
       "22      4969\n",
       "23      4983\n",
       "24      4948\n",
       "25      4920\n",
       "26      4966\n",
       "27      4937\n",
       "28      4925\n",
       "29      4971\n",
       "        ... \n",
       "4429    4943\n",
       "4430    4965\n",
       "4431    4967\n",
       "4432    4979\n",
       "4433    4977\n",
       "4434    4913\n",
       "4435    4969\n",
       "4436    4947\n",
       "4437    4952\n",
       "4438    4989\n",
       "4439    4914\n",
       "4440    4986\n",
       "4441    4989\n",
       "4442    4971\n",
       "4443    4964\n",
       "4444    4957\n",
       "4445    4959\n",
       "4446    4917\n",
       "4447    4923\n",
       "4448    4988\n",
       "4449    4982\n",
       "4450    4990\n",
       "4451    4925\n",
       "4452    4951\n",
       "4453    4979\n",
       "4454    4886\n",
       "4455    4967\n",
       "4456    4930\n",
       "4457    4961\n",
       "4458    4861\n",
       "Name: SumZeros, Length: 4459, dtype: int64"
      ]
     },
     "execution_count": 19,
     "metadata": {},
     "output_type": "execute_result"
    }
   ],
   "source": [
    "test_df.SumZeros"
   ]
  },
  {
   "cell_type": "markdown",
   "metadata": {
    "_uuid": "2442c5b1343771248dafeab9ce526dba58ad2772"
   },
   "source": [
    "### add sum of values"
   ]
  },
  {
   "cell_type": "code",
   "execution_count": 20,
   "metadata": {
    "_uuid": "cc835bde95a0f7bffe5bda5bcd6c37f4e7d77d40",
    "collapsed": true
   },
   "outputs": [],
   "source": [
    "def add_SumValues(train, test):\n",
    "    flist = [x for x in train.columns if not x in ['ID','target']]\n",
    "    \n",
    "    train.insert(1, 'SumValues', (train[flist] != 0).astype(int).sum(axis=1))\n",
    "    test.insert(1, 'SumValues', (test[flist] != 0).astype(int).sum(axis=1))\n",
    "\n",
    "    return train, test"
   ]
  },
  {
   "cell_type": "code",
   "execution_count": 21,
   "metadata": {
    "_uuid": "21a0bf4399430d2e473fe30ea31f2e0528541bee"
   },
   "outputs": [
    {
     "name": "stdout",
     "output_type": "stream",
     "text": [
      "CPU times: user 1.37 s, sys: 628 ms, total: 2 s\n",
      "Wall time: 2 s\n"
     ]
    }
   ],
   "source": [
    "%%time\n",
    "train_df, test_df = add_SumValues(train_df, test_df)\n"
   ]
  },
  {
   "cell_type": "code",
   "execution_count": 22,
   "metadata": {
    "_uuid": "d8b0b5156361ce4c83a8e913fb960db81fe0c288"
   },
   "outputs": [
    {
     "data": {
      "text/plain": [
       "0        103\n",
       "1         68\n",
       "2         19\n",
       "3         23\n",
       "4         27\n",
       "5        762\n",
       "6        137\n",
       "7         31\n",
       "8        224\n",
       "9         50\n",
       "10        72\n",
       "11        74\n",
       "12        54\n",
       "13       351\n",
       "14         5\n",
       "15        25\n",
       "16        49\n",
       "17       244\n",
       "18       105\n",
       "19       175\n",
       "20        87\n",
       "21       283\n",
       "22       311\n",
       "23       196\n",
       "24        21\n",
       "25       200\n",
       "26        41\n",
       "27       105\n",
       "28       165\n",
       "29        97\n",
       "        ... \n",
       "4429     205\n",
       "4430      19\n",
       "4431     202\n",
       "4432      12\n",
       "4433     463\n",
       "4434     215\n",
       "4435     108\n",
       "4436     125\n",
       "4437      65\n",
       "4438      91\n",
       "4439      77\n",
       "4440     210\n",
       "4441      18\n",
       "4442      89\n",
       "4443    1342\n",
       "4444      44\n",
       "4445      62\n",
       "4446      22\n",
       "4447      13\n",
       "4448      59\n",
       "4449      11\n",
       "4450      26\n",
       "4451      17\n",
       "4452       6\n",
       "4453       3\n",
       "4454     110\n",
       "4455     118\n",
       "4456     193\n",
       "4457      55\n",
       "4458     132\n",
       "Name: SumValues, Length: 4459, dtype: int64"
      ]
     },
     "execution_count": 22,
     "metadata": {},
     "output_type": "execute_result"
    }
   ],
   "source": [
    "train_df.SumValues"
   ]
  },
  {
   "cell_type": "code",
   "execution_count": 23,
   "metadata": {
    "_uuid": "65d3a1733cbe98dd68d1b81fad54fe8ff0a3f373"
   },
   "outputs": [
    {
     "data": {
      "text/plain": [
       "0        79\n",
       "1        13\n",
       "2       100\n",
       "3       121\n",
       "4         9\n",
       "5        23\n",
       "6        26\n",
       "7         8\n",
       "8        29\n",
       "9       149\n",
       "10      110\n",
       "11        4\n",
       "12       43\n",
       "13       24\n",
       "14       41\n",
       "15      298\n",
       "16       49\n",
       "17      106\n",
       "18       36\n",
       "19       61\n",
       "20        5\n",
       "21       20\n",
       "22       23\n",
       "23        9\n",
       "24       44\n",
       "25       72\n",
       "26       26\n",
       "27       55\n",
       "28       67\n",
       "29       21\n",
       "       ... \n",
       "4429     49\n",
       "4430     27\n",
       "4431     25\n",
       "4432     13\n",
       "4433     15\n",
       "4434     79\n",
       "4435     23\n",
       "4436     45\n",
       "4437     40\n",
       "4438      3\n",
       "4439     78\n",
       "4440      6\n",
       "4441      3\n",
       "4442     21\n",
       "4443     28\n",
       "4444     35\n",
       "4445     33\n",
       "4446     75\n",
       "4447     69\n",
       "4448      4\n",
       "4449     10\n",
       "4450      2\n",
       "4451     67\n",
       "4452     41\n",
       "4453     13\n",
       "4454    106\n",
       "4455     25\n",
       "4456     62\n",
       "4457     31\n",
       "4458    131\n",
       "Name: SumValues, Length: 4459, dtype: int64"
      ]
     },
     "execution_count": 23,
     "metadata": {},
     "output_type": "execute_result"
    }
   ],
   "source": [
    "test_df.SumValues"
   ]
  },
  {
   "cell_type": "code",
   "execution_count": null,
   "metadata": {
    "_uuid": "4dae7b09042d25617dca156b8070e185b9117a40",
    "collapsed": true
   },
   "outputs": [],
   "source": [
    "## add "
   ]
  },
  {
   "cell_type": "code",
   "execution_count": null,
   "metadata": {
    "_uuid": "7d1c9158c50df29f304ac141a201ce4f7542bd4d",
    "collapsed": true
   },
   "outputs": [],
   "source": []
  },
  {
   "cell_type": "code",
   "execution_count": null,
   "metadata": {
    "_uuid": "ade5135ed9b5563e445db603b9725680b4cad5c5",
    "collapsed": true
   },
   "outputs": [],
   "source": []
  },
  {
   "cell_type": "code",
   "execution_count": null,
   "metadata": {
    "_uuid": "da787897cf16fa4b89e5ccef90ef3dccc9d1e173",
    "collapsed": true
   },
   "outputs": [],
   "source": []
  },
  {
   "cell_type": "code",
   "execution_count": null,
   "metadata": {
    "_uuid": "d95b726d8875381ac9cd0f24b6d825036a349b19",
    "collapsed": true
   },
   "outputs": [],
   "source": []
  },
  {
   "cell_type": "markdown",
   "metadata": {
    "_uuid": "2e212f67e4d327b1a43c01cfe6571ed0b77bb1dc"
   },
   "source": [
    "## remove single value column"
   ]
  },
  {
   "cell_type": "code",
   "execution_count": null,
   "metadata": {
    "_uuid": "e46b09e64ff06603acaa1c9982d3873d52bf354a",
    "collapsed": true
   },
   "outputs": [],
   "source": [
    "single_val_columns = findSingleValueColmuns(train_df)"
   ]
  },
  {
   "cell_type": "raw",
   "metadata": {
    "_uuid": "a0503769c89e89766c3477aee4d5f5057d3cd49d"
   },
   "source": [
    "for column in single_val_columns:\n",
    "    print(train_df[column].value_counts())"
   ]
  },
  {
   "cell_type": "code",
   "execution_count": null,
   "metadata": {
    "_uuid": "21f4162cac5ccb61781cd22bd3722489b6a7d0fa",
    "collapsed": true,
    "scrolled": true
   },
   "outputs": [],
   "source": [
    "print(\"drop single value columns, \", len(single_val_columns), \"columns were dropped\")"
   ]
  },
  {
   "cell_type": "code",
   "execution_count": null,
   "metadata": {
    "_uuid": "bdb66f182a60b60bf1873d9f5bef84abd262fcf8",
    "collapsed": true
   },
   "outputs": [],
   "source": [
    "print(\"train_df.shape, test_df.shape\")\n",
    "print(train_df.shape, test_df.shape)\n",
    "\n",
    "train_df.drop(single_val_columns, axis=1, inplace=True)\n",
    "test_df.drop(single_val_columns, axis=1, inplace=True)\n",
    "\n",
    "print(train_df.shape, test_df.shape)"
   ]
  },
  {
   "cell_type": "code",
   "execution_count": null,
   "metadata": {
    "_uuid": "554684bde74821da2226c341256095b2ae619aa4",
    "collapsed": true
   },
   "outputs": [],
   "source": []
  },
  {
   "cell_type": "markdown",
   "metadata": {
    "_uuid": "c5ff82f216d94b10c776d857c74814972456efab"
   },
   "source": [
    "## remove dupulicate column\n",
    "\n",
    "remove if train_df data is same even if test_df data is not same.\n",
    "because if train_df data is same, it cannot learn the differece."
   ]
  },
  {
   "cell_type": "raw",
   "metadata": {
    "_uuid": "6c5a2d04b6ce7a33a3c48fd2f92c782552f2f30a"
   },
   "source": [
    "train_df[\"34ceb0081\"].equals(train_df[\"d60ddde1b\"]) # True"
   ]
  },
  {
   "cell_type": "raw",
   "metadata": {
    "_uuid": "a7263660aa7a848f6263696901af9252acb04d49"
   },
   "source": [
    "test_df[\"34ceb0081\"].equals(test_df[\"d60ddde1b\"]) # False"
   ]
  },
  {
   "cell_type": "raw",
   "metadata": {
    "_uuid": "4e52d8c27e3b93312182b735e5e247a4b9c73c24"
   },
   "source": [
    "columns = train_df.columns\n",
    "columns = columns.drop([\"ID\", \"target\"])\n",
    "columns"
   ]
  },
  {
   "cell_type": "markdown",
   "metadata": {
    "_uuid": "a8a60badf6beb88cf19bd94e3391beb3837e9236"
   },
   "source": [
    "comment out to reduce time"
   ]
  },
  {
   "cell_type": "raw",
   "metadata": {
    "_uuid": "5875f464b4f924beec1c32d9ecc4ba0a246323d8"
   },
   "source": [
    "%%time\n",
    "\n",
    "\n",
    "# Check and remove duplicate columns\n",
    "colsToRemove = []\n",
    "colsScaned = []\n",
    "dupList = {}\n",
    "\n",
    "\n",
    "#for i in tqdm(range(len(columns)-1)):\n",
    "for i in range(len(columns)-1):\n",
    "    v = train_df[columns[i]].values\n",
    "    dupCols = []\n",
    "    for j in range(i+1,len(columns)):\n",
    "        if np.array_equal(v, train_df[columns[j]].values):\n",
    "            colsToRemove.append(columns[j])\n",
    "            if columns[j] not in colsScaned:\n",
    "                dupCols.append(columns[j]) \n",
    "                colsScaned.append(columns[j])\n",
    "                dupList[columns[i]] = dupCols\n",
    "                \n",
    "                \n",
    "print(\"colsToRemove = \", colsToRemove)\n",
    "print(\"colsScaned = \", colsScaned)\n",
    "print(\"dupList = \", dupList)"
   ]
  },
  {
   "cell_type": "code",
   "execution_count": null,
   "metadata": {
    "_uuid": "484261c4c62a10d19396f2aab2e47897c6c7bf0f",
    "collapsed": true
   },
   "outputs": [],
   "source": [
    "colsToRemove =  ['d60ddde1b', 'acc5b709d', 'f333a5f60', 'f8d75792f', '912836770', 'f333a5f60']\n",
    "colsScaned =  ['d60ddde1b', 'acc5b709d', 'f333a5f60', 'f8d75792f', '912836770']\n",
    "dupList =  {'34ceb0081': ['d60ddde1b'], '8d57e2749': ['acc5b709d', 'f333a5f60'], '168b3e5bc': ['f8d75792f'], 'a765da8bc': ['912836770']}"
   ]
  },
  {
   "cell_type": "code",
   "execution_count": null,
   "metadata": {
    "_uuid": "68a31e6dc8ccdcd8ae7bd8eb95b83870531479be",
    "collapsed": true
   },
   "outputs": [],
   "source": [
    "print(\"train_df.shape, test_df.shape\")\n",
    "print(train_df.shape, test_df.shape)\n",
    "\n",
    "train_df.drop(colsToRemove, axis=1, inplace=True)\n",
    "test_df.drop(colsToRemove, axis=1, inplace=True)\n",
    "\n",
    "print(train_df.shape, test_df.shape)"
   ]
  },
  {
   "cell_type": "code",
   "execution_count": null,
   "metadata": {
    "_uuid": "75a26ee806776ad9936033ea797931feeb916f40",
    "collapsed": true
   },
   "outputs": [],
   "source": []
  },
  {
   "cell_type": "code",
   "execution_count": null,
   "metadata": {},
   "outputs": [],
   "source": []
  },
  {
   "cell_type": "markdown",
   "metadata": {
    "_uuid": "ced61a01d9f3243564093be7f8f2bab0152b4099"
   },
   "source": [
    "## check Correlation and reduce high corr features\n",
    "\n",
    "- if a feature have only one value, correlation become NAN.\n",
    "- so better to check correlation after dropped one value features"
   ]
  },
  {
   "cell_type": "raw",
   "metadata": {
    "_uuid": "9dcb8e7fd8f40c14d22f700e7549d2fca9af860a"
   },
   "source": [
    "    \n",
    "columns = [\"y\", \"X10\", \"X11\", \"X12\", \"X13\", \"X14\"]\n",
    "checkCorrelationOfSelectedFeatures(train_df, columns)"
   ]
  },
  {
   "cell_type": "code",
   "execution_count": 12,
   "metadata": {
    "_uuid": "d3cab6321d521bec8dbea6ae3bb61102c7edc68a",
    "scrolled": true
   },
   "outputs": [
    {
     "name": "stdout",
     "output_type": "stream",
     "text": [
      "CPU times: user 1h 50min 42s, sys: 1.17 s, total: 1h 50min 43s\n",
      "Wall time: 1h 50min 47s\n"
     ]
    }
   ],
   "source": [
    "%%time\n",
    "corrmat = train_df.corr(method=\"spearman\")"
   ]
  },
  {
   "cell_type": "code",
   "execution_count": 13,
   "metadata": {
    "_uuid": "6ee3f845f00cf7c29ba03fd656d2b4e02b9d2008",
    "scrolled": false
   },
   "outputs": [
    {
     "data": {
      "text/plain": [
       "(4992, 4992)"
      ]
     },
     "execution_count": 13,
     "metadata": {},
     "output_type": "execute_result"
    }
   ],
   "source": [
    "corrmat.shape"
   ]
  },
  {
   "cell_type": "code",
   "execution_count": 27,
   "metadata": {
    "_uuid": "ea17a539bfd1e8b23fdcdde35425f96b4c504d0b",
    "scrolled": false
   },
   "outputs": [
    {
     "data": {
      "text/html": [
       "<div>\n",
       "<style scoped>\n",
       "    .dataframe tbody tr th:only-of-type {\n",
       "        vertical-align: middle;\n",
       "    }\n",
       "\n",
       "    .dataframe tbody tr th {\n",
       "        vertical-align: top;\n",
       "    }\n",
       "\n",
       "    .dataframe thead th {\n",
       "        text-align: right;\n",
       "    }\n",
       "</style>\n",
       "<table border=\"1\" class=\"dataframe\">\n",
       "  <thead>\n",
       "    <tr style=\"text-align: right;\">\n",
       "      <th></th>\n",
       "      <th>target</th>\n",
       "      <th>48df886f9</th>\n",
       "      <th>0deb4b6a8</th>\n",
       "      <th>34b15f335</th>\n",
       "      <th>a8cb14b00</th>\n",
       "      <th>2f0771a37</th>\n",
       "      <th>30347e683</th>\n",
       "      <th>d08d1fbe3</th>\n",
       "      <th>6ee66e115</th>\n",
       "      <th>20aa07010</th>\n",
       "      <th>dc5a8f1d8</th>\n",
       "      <th>11d86fa6a</th>\n",
       "      <th>77c9823f2</th>\n",
       "      <th>8d6c2a0b2</th>\n",
       "      <th>4681de4fd</th>\n",
       "      <th>adf119b9a</th>\n",
       "      <th>cff75dd09</th>\n",
       "      <th>96f83a237</th>\n",
       "      <th>b8a716ebf</th>\n",
       "      <th>6c7a4567c</th>\n",
       "      <th>4fcfd2b4d</th>\n",
       "      <th>f3b9c0b95</th>\n",
       "      <th>71cebf11c</th>\n",
       "      <th>d966ac62c</th>\n",
       "      <th>68b647452</th>\n",
       "      <th>c88d108c9</th>\n",
       "      <th>ff7b471cd</th>\n",
       "      <th>d5308d8bc</th>\n",
       "      <th>0d866c3d7</th>\n",
       "      <th>bc3f77679</th>\n",
       "      <th>bd8f989f1</th>\n",
       "      <th>0eff5bf95</th>\n",
       "      <th>22ed6dba3</th>\n",
       "      <th>92b13ebba</th>\n",
       "      <th>c330f1a67</th>\n",
       "      <th>233c7c17c</th>\n",
       "      <th>2cb4d123e</th>\n",
       "      <th>eeac16933</th>\n",
       "      <th>87ffda550</th>\n",
       "      <th>822e49b95</th>\n",
       "      <th>...</th>\n",
       "      <th>969caa87a</th>\n",
       "      <th>00302fe51</th>\n",
       "      <th>1189ee335</th>\n",
       "      <th>ca04a07ca</th>\n",
       "      <th>f6f15ffa5</th>\n",
       "      <th>841704460</th>\n",
       "      <th>ea5ed6ff7</th>\n",
       "      <th>b1bb8eac3</th>\n",
       "      <th>8132d18b8</th>\n",
       "      <th>c24ea6548</th>\n",
       "      <th>cdfc2b069</th>\n",
       "      <th>2a879b4f7</th>\n",
       "      <th>6b119d8ce</th>\n",
       "      <th>98dea9e42</th>\n",
       "      <th>9f2471031</th>\n",
       "      <th>88458cb21</th>\n",
       "      <th>f40da20f4</th>\n",
       "      <th>7ad6b38bd</th>\n",
       "      <th>c901e7df1</th>\n",
       "      <th>8f55955dc</th>\n",
       "      <th>85dcc913d</th>\n",
       "      <th>5ca0b9b0c</th>\n",
       "      <th>eab8abf7a</th>\n",
       "      <th>8d8bffbae</th>\n",
       "      <th>2a1f6c7f9</th>\n",
       "      <th>9437d8b64</th>\n",
       "      <th>5831f4c76</th>\n",
       "      <th>2e84e09c5</th>\n",
       "      <th>d45fd5508</th>\n",
       "      <th>a165f5761</th>\n",
       "      <th>3ecc09859</th>\n",
       "      <th>9281abeea</th>\n",
       "      <th>8675bec0b</th>\n",
       "      <th>3a13ed79a</th>\n",
       "      <th>f677d4d13</th>\n",
       "      <th>71b203550</th>\n",
       "      <th>137efaa80</th>\n",
       "      <th>fb36b89d9</th>\n",
       "      <th>7e293fbaf</th>\n",
       "      <th>9fc776466</th>\n",
       "    </tr>\n",
       "  </thead>\n",
       "  <tbody>\n",
       "    <tr>\n",
       "      <th>target</th>\n",
       "      <td>1.000000</td>\n",
       "      <td>-0.091119</td>\n",
       "      <td>0.011424</td>\n",
       "      <td>0.001637</td>\n",
       "      <td>0.008396</td>\n",
       "      <td>0.012453</td>\n",
       "      <td>-0.041327</td>\n",
       "      <td>0.000845</td>\n",
       "      <td>-0.029482</td>\n",
       "      <td>0.073270</td>\n",
       "      <td>-0.004677</td>\n",
       "      <td>-0.052527</td>\n",
       "      <td>0.025713</td>\n",
       "      <td>0.009263</td>\n",
       "      <td>0.020584</td>\n",
       "      <td>0.043034</td>\n",
       "      <td>0.005428</td>\n",
       "      <td>-0.012779</td>\n",
       "      <td>-0.045644</td>\n",
       "      <td>-0.023326</td>\n",
       "      <td>-0.016305</td>\n",
       "      <td>0.029623</td>\n",
       "      <td>-0.022630</td>\n",
       "      <td>0.024510</td>\n",
       "      <td>0.012243</td>\n",
       "      <td>-0.025754</td>\n",
       "      <td>0.014046</td>\n",
       "      <td>NaN</td>\n",
       "      <td>-0.051988</td>\n",
       "      <td>-0.005774</td>\n",
       "      <td>0.013118</td>\n",
       "      <td>-0.014600</td>\n",
       "      <td>-0.043908</td>\n",
       "      <td>0.009267</td>\n",
       "      <td>NaN</td>\n",
       "      <td>-0.016702</td>\n",
       "      <td>0.000026</td>\n",
       "      <td>NaN</td>\n",
       "      <td>0.072787</td>\n",
       "      <td>-0.030116</td>\n",
       "      <td>...</td>\n",
       "      <td>0.013616</td>\n",
       "      <td>-0.016024</td>\n",
       "      <td>-0.034372</td>\n",
       "      <td>-0.083945</td>\n",
       "      <td>0.007098</td>\n",
       "      <td>0.016091</td>\n",
       "      <td>0.020301</td>\n",
       "      <td>0.002883</td>\n",
       "      <td>0.007206</td>\n",
       "      <td>-0.037815</td>\n",
       "      <td>-0.028778</td>\n",
       "      <td>-0.028888</td>\n",
       "      <td>0.026874</td>\n",
       "      <td>-0.010747</td>\n",
       "      <td>0.000070</td>\n",
       "      <td>-0.030295</td>\n",
       "      <td>0.001844</td>\n",
       "      <td>0.009560</td>\n",
       "      <td>0.021140</td>\n",
       "      <td>0.019779</td>\n",
       "      <td>-0.050557</td>\n",
       "      <td>0.022751</td>\n",
       "      <td>-0.010236</td>\n",
       "      <td>-0.005334</td>\n",
       "      <td>0.022224</td>\n",
       "      <td>-0.037075</td>\n",
       "      <td>-0.033407</td>\n",
       "      <td>-0.004608</td>\n",
       "      <td>0.009654</td>\n",
       "      <td>0.010799</td>\n",
       "      <td>-0.046171</td>\n",
       "      <td>-0.033835</td>\n",
       "      <td>-0.033887</td>\n",
       "      <td>0.010295</td>\n",
       "      <td>-0.021844</td>\n",
       "      <td>-0.012320</td>\n",
       "      <td>-0.009181</td>\n",
       "      <td>-0.008665</td>\n",
       "      <td>-0.020763</td>\n",
       "      <td>-0.028219</td>\n",
       "    </tr>\n",
       "    <tr>\n",
       "      <th>48df886f9</th>\n",
       "      <td>-0.091119</td>\n",
       "      <td>1.000000</td>\n",
       "      <td>-0.002815</td>\n",
       "      <td>0.103751</td>\n",
       "      <td>-0.001990</td>\n",
       "      <td>-0.003147</td>\n",
       "      <td>-0.009695</td>\n",
       "      <td>-0.003147</td>\n",
       "      <td>0.140365</td>\n",
       "      <td>0.018468</td>\n",
       "      <td>0.012951</td>\n",
       "      <td>0.032313</td>\n",
       "      <td>-0.001407</td>\n",
       "      <td>-0.003448</td>\n",
       "      <td>-0.013792</td>\n",
       "      <td>0.007757</td>\n",
       "      <td>0.018913</td>\n",
       "      <td>0.024785</td>\n",
       "      <td>0.026919</td>\n",
       "      <td>0.053076</td>\n",
       "      <td>0.023951</td>\n",
       "      <td>-0.008823</td>\n",
       "      <td>0.028694</td>\n",
       "      <td>-0.012614</td>\n",
       "      <td>-0.016340</td>\n",
       "      <td>0.092760</td>\n",
       "      <td>-0.002815</td>\n",
       "      <td>NaN</td>\n",
       "      <td>0.136418</td>\n",
       "      <td>-0.008823</td>\n",
       "      <td>0.042655</td>\n",
       "      <td>-0.004453</td>\n",
       "      <td>0.124354</td>\n",
       "      <td>-0.016968</td>\n",
       "      <td>NaN</td>\n",
       "      <td>0.043942</td>\n",
       "      <td>-0.003915</td>\n",
       "      <td>NaN</td>\n",
       "      <td>-0.012606</td>\n",
       "      <td>-0.005714</td>\n",
       "      <td>...</td>\n",
       "      <td>0.033262</td>\n",
       "      <td>0.004308</td>\n",
       "      <td>0.043486</td>\n",
       "      <td>0.200826</td>\n",
       "      <td>-0.001990</td>\n",
       "      <td>-0.012033</td>\n",
       "      <td>-0.017498</td>\n",
       "      <td>0.010685</td>\n",
       "      <td>-0.017582</td>\n",
       "      <td>0.041107</td>\n",
       "      <td>0.007462</td>\n",
       "      <td>0.000440</td>\n",
       "      <td>-0.012641</td>\n",
       "      <td>-0.002815</td>\n",
       "      <td>-0.001407</td>\n",
       "      <td>-0.005079</td>\n",
       "      <td>-0.006145</td>\n",
       "      <td>-0.014371</td>\n",
       "      <td>-0.018980</td>\n",
       "      <td>-0.004224</td>\n",
       "      <td>0.072888</td>\n",
       "      <td>-0.001407</td>\n",
       "      <td>-0.016468</td>\n",
       "      <td>0.019291</td>\n",
       "      <td>-0.008111</td>\n",
       "      <td>0.025858</td>\n",
       "      <td>-0.023401</td>\n",
       "      <td>-0.001407</td>\n",
       "      <td>-0.007986</td>\n",
       "      <td>-0.014657</td>\n",
       "      <td>0.050793</td>\n",
       "      <td>-0.007023</td>\n",
       "      <td>0.021959</td>\n",
       "      <td>-0.018409</td>\n",
       "      <td>0.159803</td>\n",
       "      <td>-0.008355</td>\n",
       "      <td>-0.005980</td>\n",
       "      <td>-0.008234</td>\n",
       "      <td>0.023135</td>\n",
       "      <td>-0.018293</td>\n",
       "    </tr>\n",
       "    <tr>\n",
       "      <th>0deb4b6a8</th>\n",
       "      <td>0.011424</td>\n",
       "      <td>-0.002815</td>\n",
       "      <td>1.000000</td>\n",
       "      <td>-0.002587</td>\n",
       "      <td>-0.000635</td>\n",
       "      <td>-0.001004</td>\n",
       "      <td>-0.003093</td>\n",
       "      <td>0.222477</td>\n",
       "      <td>-0.001004</td>\n",
       "      <td>-0.006577</td>\n",
       "      <td>-0.005046</td>\n",
       "      <td>-0.005872</td>\n",
       "      <td>-0.000449</td>\n",
       "      <td>-0.001100</td>\n",
       "      <td>-0.010848</td>\n",
       "      <td>-0.005779</td>\n",
       "      <td>-0.002665</td>\n",
       "      <td>-0.002250</td>\n",
       "      <td>0.020900</td>\n",
       "      <td>-0.002382</td>\n",
       "      <td>-0.002339</td>\n",
       "      <td>0.077240</td>\n",
       "      <td>-0.002061</td>\n",
       "      <td>-0.004024</td>\n",
       "      <td>-0.005212</td>\n",
       "      <td>-0.001490</td>\n",
       "      <td>-0.000898</td>\n",
       "      <td>NaN</td>\n",
       "      <td>0.026207</td>\n",
       "      <td>-0.002815</td>\n",
       "      <td>-0.011322</td>\n",
       "      <td>-0.001421</td>\n",
       "      <td>-0.013346</td>\n",
       "      <td>-0.008254</td>\n",
       "      <td>NaN</td>\n",
       "      <td>-0.006774</td>\n",
       "      <td>-0.005512</td>\n",
       "      <td>NaN</td>\n",
       "      <td>-0.013441</td>\n",
       "      <td>0.008781</td>\n",
       "      <td>...</td>\n",
       "      <td>-0.001854</td>\n",
       "      <td>-0.004152</td>\n",
       "      <td>-0.006758</td>\n",
       "      <td>-0.004101</td>\n",
       "      <td>-0.000635</td>\n",
       "      <td>-0.003839</td>\n",
       "      <td>-0.008394</td>\n",
       "      <td>0.015368</td>\n",
       "      <td>0.037163</td>\n",
       "      <td>-0.009380</td>\n",
       "      <td>-0.012251</td>\n",
       "      <td>-0.006791</td>\n",
       "      <td>-0.009186</td>\n",
       "      <td>-0.000898</td>\n",
       "      <td>-0.000449</td>\n",
       "      <td>-0.001620</td>\n",
       "      <td>0.113534</td>\n",
       "      <td>-0.004584</td>\n",
       "      <td>-0.006055</td>\n",
       "      <td>-0.001348</td>\n",
       "      <td>-0.004276</td>\n",
       "      <td>-0.000449</td>\n",
       "      <td>-0.005253</td>\n",
       "      <td>0.042967</td>\n",
       "      <td>-0.002587</td>\n",
       "      <td>-0.008490</td>\n",
       "      <td>0.006032</td>\n",
       "      <td>-0.000449</td>\n",
       "      <td>-0.002548</td>\n",
       "      <td>-0.004675</td>\n",
       "      <td>-0.007912</td>\n",
       "      <td>-0.006232</td>\n",
       "      <td>-0.012793</td>\n",
       "      <td>-0.005872</td>\n",
       "      <td>-0.000449</td>\n",
       "      <td>-0.002665</td>\n",
       "      <td>-0.001908</td>\n",
       "      <td>0.083316</td>\n",
       "      <td>-0.004050</td>\n",
       "      <td>-0.005835</td>\n",
       "    </tr>\n",
       "    <tr>\n",
       "      <th>34b15f335</th>\n",
       "      <td>0.001637</td>\n",
       "      <td>0.103751</td>\n",
       "      <td>-0.002587</td>\n",
       "      <td>1.000000</td>\n",
       "      <td>-0.001829</td>\n",
       "      <td>-0.002893</td>\n",
       "      <td>-0.008912</td>\n",
       "      <td>-0.002893</td>\n",
       "      <td>-0.002893</td>\n",
       "      <td>0.019102</td>\n",
       "      <td>0.017999</td>\n",
       "      <td>0.037439</td>\n",
       "      <td>0.172196</td>\n",
       "      <td>-0.003170</td>\n",
       "      <td>-0.022559</td>\n",
       "      <td>-0.016654</td>\n",
       "      <td>0.022023</td>\n",
       "      <td>-0.006484</td>\n",
       "      <td>-0.005481</td>\n",
       "      <td>-0.006864</td>\n",
       "      <td>-0.006740</td>\n",
       "      <td>-0.008111</td>\n",
       "      <td>0.032501</td>\n",
       "      <td>-0.011596</td>\n",
       "      <td>-0.015020</td>\n",
       "      <td>-0.004294</td>\n",
       "      <td>-0.002587</td>\n",
       "      <td>NaN</td>\n",
       "      <td>0.089786</td>\n",
       "      <td>-0.008111</td>\n",
       "      <td>-0.002398</td>\n",
       "      <td>-0.004094</td>\n",
       "      <td>0.013821</td>\n",
       "      <td>-0.003145</td>\n",
       "      <td>NaN</td>\n",
       "      <td>0.017236</td>\n",
       "      <td>-0.001134</td>\n",
       "      <td>NaN</td>\n",
       "      <td>0.010182</td>\n",
       "      <td>-0.006988</td>\n",
       "      <td>...</td>\n",
       "      <td>-0.005342</td>\n",
       "      <td>0.007467</td>\n",
       "      <td>-0.007759</td>\n",
       "      <td>0.084909</td>\n",
       "      <td>-0.001829</td>\n",
       "      <td>-0.011061</td>\n",
       "      <td>-0.013793</td>\n",
       "      <td>-0.004028</td>\n",
       "      <td>-0.016163</td>\n",
       "      <td>0.001244</td>\n",
       "      <td>0.025370</td>\n",
       "      <td>-0.019569</td>\n",
       "      <td>-0.026471</td>\n",
       "      <td>0.172372</td>\n",
       "      <td>-0.001293</td>\n",
       "      <td>-0.004669</td>\n",
       "      <td>-0.005648</td>\n",
       "      <td>0.004486</td>\n",
       "      <td>0.023772</td>\n",
       "      <td>-0.003883</td>\n",
       "      <td>0.024958</td>\n",
       "      <td>-0.001293</td>\n",
       "      <td>0.015614</td>\n",
       "      <td>-0.029122</td>\n",
       "      <td>-0.007456</td>\n",
       "      <td>-0.004909</td>\n",
       "      <td>-0.021524</td>\n",
       "      <td>-0.001293</td>\n",
       "      <td>-0.007341</td>\n",
       "      <td>0.021694</td>\n",
       "      <td>0.049965</td>\n",
       "      <td>-0.017959</td>\n",
       "      <td>0.007049</td>\n",
       "      <td>-0.016922</td>\n",
       "      <td>-0.001293</td>\n",
       "      <td>-0.007680</td>\n",
       "      <td>-0.005497</td>\n",
       "      <td>0.022141</td>\n",
       "      <td>-0.011670</td>\n",
       "      <td>-0.002537</td>\n",
       "    </tr>\n",
       "    <tr>\n",
       "      <th>a8cb14b00</th>\n",
       "      <td>0.008396</td>\n",
       "      <td>-0.001990</td>\n",
       "      <td>-0.000635</td>\n",
       "      <td>-0.001829</td>\n",
       "      <td>1.000000</td>\n",
       "      <td>-0.000710</td>\n",
       "      <td>-0.002186</td>\n",
       "      <td>-0.000710</td>\n",
       "      <td>-0.000710</td>\n",
       "      <td>-0.014631</td>\n",
       "      <td>-0.003567</td>\n",
       "      <td>-0.004151</td>\n",
       "      <td>-0.000317</td>\n",
       "      <td>-0.000778</td>\n",
       "      <td>0.027911</td>\n",
       "      <td>-0.004086</td>\n",
       "      <td>-0.001884</td>\n",
       "      <td>-0.001591</td>\n",
       "      <td>-0.006022</td>\n",
       "      <td>-0.001684</td>\n",
       "      <td>-0.001653</td>\n",
       "      <td>-0.001990</td>\n",
       "      <td>-0.001457</td>\n",
       "      <td>-0.002845</td>\n",
       "      <td>-0.003685</td>\n",
       "      <td>-0.001053</td>\n",
       "      <td>-0.000635</td>\n",
       "      <td>NaN</td>\n",
       "      <td>-0.005225</td>\n",
       "      <td>-0.001990</td>\n",
       "      <td>0.027751</td>\n",
       "      <td>-0.001004</td>\n",
       "      <td>0.020852</td>\n",
       "      <td>-0.005835</td>\n",
       "      <td>NaN</td>\n",
       "      <td>0.044669</td>\n",
       "      <td>-0.003897</td>\n",
       "      <td>NaN</td>\n",
       "      <td>0.020504</td>\n",
       "      <td>-0.009188</td>\n",
       "      <td>...</td>\n",
       "      <td>-0.001310</td>\n",
       "      <td>-0.002935</td>\n",
       "      <td>-0.004778</td>\n",
       "      <td>-0.002899</td>\n",
       "      <td>-0.000449</td>\n",
       "      <td>-0.002714</td>\n",
       "      <td>-0.005934</td>\n",
       "      <td>-0.007510</td>\n",
       "      <td>-0.003965</td>\n",
       "      <td>0.033072</td>\n",
       "      <td>-0.008661</td>\n",
       "      <td>0.044847</td>\n",
       "      <td>0.032698</td>\n",
       "      <td>-0.000635</td>\n",
       "      <td>-0.000317</td>\n",
       "      <td>-0.001145</td>\n",
       "      <td>-0.001386</td>\n",
       "      <td>-0.003241</td>\n",
       "      <td>-0.004280</td>\n",
       "      <td>-0.000953</td>\n",
       "      <td>0.073805</td>\n",
       "      <td>-0.000317</td>\n",
       "      <td>-0.003714</td>\n",
       "      <td>-0.007144</td>\n",
       "      <td>-0.001829</td>\n",
       "      <td>0.036004</td>\n",
       "      <td>-0.009188</td>\n",
       "      <td>-0.000317</td>\n",
       "      <td>-0.001801</td>\n",
       "      <td>-0.003305</td>\n",
       "      <td>-0.005593</td>\n",
       "      <td>-0.004406</td>\n",
       "      <td>-0.009044</td>\n",
       "      <td>-0.004151</td>\n",
       "      <td>-0.000317</td>\n",
       "      <td>-0.001884</td>\n",
       "      <td>-0.001349</td>\n",
       "      <td>-0.001857</td>\n",
       "      <td>-0.002863</td>\n",
       "      <td>-0.004125</td>\n",
       "    </tr>\n",
       "  </tbody>\n",
       "</table>\n",
       "</div>"
      ],
      "text/plain": [
       "             target  48df886f9    ...      7e293fbaf  9fc776466\n",
       "target     1.000000  -0.091119    ...      -0.020763  -0.028219\n",
       "48df886f9 -0.091119   1.000000    ...       0.023135  -0.018293\n",
       "0deb4b6a8  0.011424  -0.002815    ...      -0.004050  -0.005835\n",
       "34b15f335  0.001637   0.103751    ...      -0.011670  -0.002537\n",
       "a8cb14b00  0.008396  -0.001990    ...      -0.002863  -0.004125\n",
       "\n",
       "[5 rows x 4992 columns]"
      ]
     },
     "execution_count": 27,
     "metadata": {},
     "output_type": "execute_result"
    }
   ],
   "source": [
    "corrmat.head()"
   ]
  },
  {
   "cell_type": "code",
   "execution_count": 41,
   "metadata": {
    "_uuid": "004f7b29817c93421b0cda61a267efa9b0b3a498",
    "scrolled": false
   },
   "outputs": [
    {
     "data": {
      "text/plain": [
       "target       1.000000\n",
       "f190486d6    0.107678\n",
       "58e2e02e6    0.092589\n",
       "9fd594eec    0.085647\n",
       "e1d0e11b5    0.081320\n",
       "0d51722ca    0.077310\n",
       "63c094ba4    0.075535\n",
       "ddea5dc65    0.074479\n",
       "1c71183bb    0.074004\n",
       "20aa07010    0.073270\n",
       "Name: target, dtype: float64"
      ]
     },
     "execution_count": 41,
     "metadata": {},
     "output_type": "execute_result"
    }
   ],
   "source": [
    "corrmat[\"target\"].sort_values(ascending=False).head(10)"
   ]
  },
  {
   "cell_type": "code",
   "execution_count": 42,
   "metadata": {
    "_uuid": "c36f94c7a7d53381b6f958b97feb126f40c1f1d1"
   },
   "outputs": [
    {
     "data": {
      "text/plain": [
       "d196ca1fd   NaN\n",
       "a8e562e8e   NaN\n",
       "eb6bb7ce1   NaN\n",
       "5beff147e   NaN\n",
       "52b347cdc   NaN\n",
       "4600aadcf   NaN\n",
       "6fa0b9dab   NaN\n",
       "43d70cc4d   NaN\n",
       "408021ef8   NaN\n",
       "e29d22b59   NaN\n",
       "Name: target, dtype: float64"
      ]
     },
     "execution_count": 42,
     "metadata": {},
     "output_type": "execute_result"
    }
   ],
   "source": [
    "corrmat[\"target\"].sort_values(ascending=False).tail(10)"
   ]
  },
  {
   "cell_type": "raw",
   "metadata": {
    "_uuid": "eb48053fa2b4e93b1b160338fee0266b8339907e"
   },
   "source": [
    "\n",
    "corrmat = dataframe[columns].corr()\n",
    "plt.subplots(figsize=(12,9))\n",
    "sns.heatmap(corrmat, vmax=0.9, square=True, annot=True)\n",
    "plt.show()\n",
    "print(corrmat)"
   ]
  },
  {
   "cell_type": "code",
   "execution_count": null,
   "metadata": {},
   "outputs": [],
   "source": []
  },
  {
   "cell_type": "code",
   "execution_count": null,
   "metadata": {},
   "outputs": [],
   "source": []
  },
  {
   "cell_type": "code",
   "execution_count": null,
   "metadata": {},
   "outputs": [],
   "source": []
  },
  {
   "cell_type": "code",
   "execution_count": null,
   "metadata": {},
   "outputs": [],
   "source": []
  },
  {
   "cell_type": "code",
   "execution_count": null,
   "metadata": {},
   "outputs": [],
   "source": []
  },
  {
   "cell_type": "code",
   "execution_count": null,
   "metadata": {
    "_uuid": "8c9c174a517938f6d3d7ce82c112bff401cfce6f",
    "collapsed": true
   },
   "outputs": [],
   "source": []
  },
  {
   "cell_type": "markdown",
   "metadata": {
    "_uuid": "5117c06944c3a4456e05478a74f7a70ed60fe086"
   },
   "source": [
    "## combine train/test to all_data"
   ]
  },
  {
   "cell_type": "code",
   "execution_count": null,
   "metadata": {
    "_uuid": "3a7686e13357f1fe37e90f52cdf5398c667161ad",
    "collapsed": true
   },
   "outputs": [],
   "source": []
  },
  {
   "cell_type": "code",
   "execution_count": null,
   "metadata": {
    "_uuid": "efb76057931a075ce0f51228cef440850dd5883d",
    "collapsed": true
   },
   "outputs": [],
   "source": [
    "ntrain = train_df.shape[0]\n",
    "all_data = pd.concat((train_df, test_df)).reset_index(drop=True)\n",
    "\n",
    "all_id, all_target, all_data = splitToIdTargetFeatures(all_data, id_name=\"ID\", target_name=\"target\")\n"
   ]
  },
  {
   "cell_type": "raw",
   "metadata": {
    "_uuid": "d28110829253bbf4efa337ef61822d7be5261e6b"
   },
   "source": [
    "all_data.shape"
   ]
  },
  {
   "cell_type": "code",
   "execution_count": null,
   "metadata": {
    "_uuid": "9b89e93cb805518c6f8e6d9c286c9bce0c6edfd7",
    "collapsed": true
   },
   "outputs": [],
   "source": [
    "all_data.head()"
   ]
  },
  {
   "cell_type": "raw",
   "metadata": {
    "_uuid": "d1fb3db28e659f6efa172dc25d53e865bbe014ec"
   },
   "source": [
    "all_data.tail()"
   ]
  },
  {
   "cell_type": "code",
   "execution_count": null,
   "metadata": {
    "_uuid": "635edf0c93700223cbcc54da44c957e9b4656f37",
    "collapsed": true
   },
   "outputs": [],
   "source": [
    "all_id.head()"
   ]
  },
  {
   "cell_type": "raw",
   "metadata": {
    "_uuid": "52082f1312deaf89e0bc6dea3b8fbba19ea311ff"
   },
   "source": [
    "all_id.tail()"
   ]
  },
  {
   "cell_type": "code",
   "execution_count": null,
   "metadata": {
    "_uuid": "97ea7e7bf8cb28bb41ad3e411d3be46c96da81f9",
    "collapsed": true
   },
   "outputs": [],
   "source": [
    "all_target.head()"
   ]
  },
  {
   "cell_type": "raw",
   "metadata": {
    "_uuid": "378337eb7899636a44ae10e58443cd989cc0ccbf"
   },
   "source": [
    "all_target.tail()"
   ]
  },
  {
   "cell_type": "code",
   "execution_count": null,
   "metadata": {
    "_uuid": "4651999ba4e764b391f66cf4e747d7f0256668f5",
    "collapsed": true
   },
   "outputs": [],
   "source": []
  },
  {
   "cell_type": "markdown",
   "metadata": {
    "_uuid": "1495b61e0767575e331029fd4f48a063ff5d83e3"
   },
   "source": [
    "## skew feature"
   ]
  },
  {
   "cell_type": "code",
   "execution_count": null,
   "metadata": {
    "_uuid": "f6301835471a0cb61411d079b10b93f6d9b95fd4",
    "collapsed": true
   },
   "outputs": [],
   "source": [
    "skewness = checkSkewness(all_data)\n",
    "skewness.head(5)"
   ]
  },
  {
   "cell_type": "code",
   "execution_count": null,
   "metadata": {
    "_uuid": "991fea89962d4b5635b97d44f10de5a5aefb13e5",
    "collapsed": true
   },
   "outputs": [],
   "source": [
    "skewness.tail(5)"
   ]
  },
  {
   "cell_type": "code",
   "execution_count": null,
   "metadata": {
    "_uuid": "d01c8b71957be7098751e7393decdfda7db0c30a",
    "collapsed": true
   },
   "outputs": [],
   "source": []
  },
  {
   "cell_type": "code",
   "execution_count": null,
   "metadata": {
    "_uuid": "eb5bc8562eb6c57d2fafafa442154173fad072ff",
    "collapsed": true
   },
   "outputs": [],
   "source": []
  },
  {
   "cell_type": "raw",
   "metadata": {
    "_uuid": "5e0df80f8b19dc329076ec5bfea93239c1575251"
   },
   "source": [
    "for column in skewness.index[:5]:\n",
    "    print(column)\n",
    "    plt.subplots(figsize=(12,9))\n",
    "    sns.distplot(all_data[column], fit=norm)\n",
    "    plt.show()\n",
    "    print(\"skewness: \", skewness.loc[column, \"Skew\"])\n",
    "    print(all_data[column].value_counts())"
   ]
  },
  {
   "cell_type": "code",
   "execution_count": null,
   "metadata": {
    "_uuid": "b53ce1b6d410fa9a188d1fee079ede315d254e6a",
    "collapsed": true
   },
   "outputs": [],
   "source": []
  },
  {
   "cell_type": "raw",
   "metadata": {
    "_uuid": "3b1dfcb49c35f9f2ed3147bac4fd8f47c6d28cb7"
   },
   "source": [
    "for column in skewness.index[-10:]:\n",
    "    print(\"column: \", column)\n",
    "    plt.subplots(figsize=(12,9))\n",
    "    sns.distplot(all_data[column], fit=norm)\n",
    "    plt.show()\n",
    "    print(all_data[column].value_counts())"
   ]
  },
  {
   "cell_type": "code",
   "execution_count": null,
   "metadata": {
    "_uuid": "04c94661386207f568748826656218c4d0c001a6",
    "collapsed": true
   },
   "outputs": [],
   "source": []
  },
  {
   "cell_type": "code",
   "execution_count": null,
   "metadata": {
    "_uuid": "07288bc7d2e6ac2e5083dd8ca189d9e991a0823f",
    "collapsed": true
   },
   "outputs": [],
   "source": []
  },
  {
   "cell_type": "code",
   "execution_count": null,
   "metadata": {
    "_uuid": "41237f7acd6ad78d2483b82a102805592c2717f0",
    "collapsed": true
   },
   "outputs": [],
   "source": []
  },
  {
   "cell_type": "raw",
   "metadata": {
    "_uuid": "a3abea0303439e945a19c30d7afcd45ce8f770d6"
   },
   "source": [
    "## find boolean feature"
   ]
  },
  {
   "cell_type": "raw",
   "metadata": {
    "_uuid": "edab56e3add995549258984a237b34b7109184db"
   },
   "source": [
    "checkValueCounts(all_data)"
   ]
  },
  {
   "cell_type": "code",
   "execution_count": null,
   "metadata": {
    "_uuid": "f0cf2084bec126ea545cc19d8218dac83b44a41b",
    "collapsed": true
   },
   "outputs": [],
   "source": []
  },
  {
   "cell_type": "markdown",
   "metadata": {
    "_uuid": "971f54c3900d307e78bfa23f48685d0ff90a1835"
   },
   "source": [
    "## Box Cox Transformation of (highly) skewed features\n",
    "\n"
   ]
  },
  {
   "cell_type": "raw",
   "metadata": {
    "_uuid": "5c9305406e4b1a655bb55f05bcfa56d9b585e0c1"
   },
   "source": [
    "all_data.head()"
   ]
  },
  {
   "cell_type": "code",
   "execution_count": null,
   "metadata": {
    "_uuid": "dc2f7ab0966280465ae8c6727e929c42189668c9",
    "collapsed": true
   },
   "outputs": [],
   "source": [
    "skewnessBig = skewness[abs(skewness) > 0.75]\n",
    "print(\"feature num {}\\nskewed feature number: {}\".format(skewness.shape[0], \n",
    "                                                         skewnessBig.shape[0]))\n",
    "\n",
    "from scipy.special import boxcox1p\n",
    "\n",
    "skewed_features = skewnessBig.index\n",
    "lam = 0.15\n",
    "for feat in skewed_features:\n",
    "    all_data[feat] = boxcox1p(all_data[feat], lam)\n"
   ]
  },
  {
   "cell_type": "raw",
   "metadata": {
    "_uuid": "96063ed3f5574f368f3eae0af3b6728fa8a6bbde"
   },
   "source": [
    "all_data.head()"
   ]
  },
  {
   "cell_type": "code",
   "execution_count": null,
   "metadata": {
    "_uuid": "2fea1d856a376a625b24b20c4fd27b813e1aabf9",
    "collapsed": true
   },
   "outputs": [],
   "source": [
    "all_data.apply(\n",
    "    lambda x: skew(x.dropna())).sort_values(ascending=False)"
   ]
  },
  {
   "cell_type": "raw",
   "metadata": {
    "_uuid": "202061d4237529ea7ccbb15894ba72d5872723ac"
   },
   "source": [
    "checkValueCounts(all_data)"
   ]
  },
  {
   "cell_type": "raw",
   "metadata": {
    "_uuid": "894f3cdff38473217f8fc25456246703966b239f"
   },
   "source": [
    "all_data.iloc[0, :].value_counts()"
   ]
  },
  {
   "cell_type": "code",
   "execution_count": null,
   "metadata": {
    "_uuid": "7657911f5840322ed71b399ea606546b9ab4b492",
    "collapsed": true
   },
   "outputs": [],
   "source": []
  },
  {
   "cell_type": "markdown",
   "metadata": {
    "_uuid": "7e2e44436d22047d10a5541c43522d776fb4149a"
   },
   "source": [
    "----\n",
    "\n",
    "# prepare train/test data"
   ]
  },
  {
   "cell_type": "raw",
   "metadata": {
    "_uuid": "bc3f53667d5c5d2e3ac2705368e78250b12a4980"
   },
   "source": [
    "train_df.head()"
   ]
  },
  {
   "cell_type": "code",
   "execution_count": null,
   "metadata": {
    "_uuid": "c3055e82371f8e706524ae3cd18d4c0e626110bb",
    "collapsed": true
   },
   "outputs": [],
   "source": [
    "id_train_df, y_train_df, X_train_df = splitToIdTargetFeatures(train_df,\n",
    "                                                              id_name=\"ID\",\n",
    "                                                              target_name=\"target\")"
   ]
  },
  {
   "cell_type": "code",
   "execution_count": null,
   "metadata": {
    "_uuid": "4366e9d46021cb516bf8c07652f98c3d7addbd53",
    "collapsed": true,
    "scrolled": true
   },
   "outputs": [],
   "source": [
    "print(id_train_df.head())\n",
    "print(y_train_df.head())\n",
    "print(X_train_df.head())"
   ]
  },
  {
   "cell_type": "code",
   "execution_count": null,
   "metadata": {
    "_uuid": "85e096919e504df779736dece2ccc86a9139b69a",
    "collapsed": true
   },
   "outputs": [],
   "source": [
    "X_train, X_test, y_train, y_test = train_test_split(\n",
    "    X_train_df, y_train_df, \n",
    "    test_size=0.33, random_state=42)\n",
    "print(\"train/test data shape\", X_train.shape, X_test.shape)\n"
   ]
  },
  {
   "cell_type": "raw",
   "metadata": {
    "_uuid": "834e43e9a1a54145c8d956dedfff715ee443c787"
   },
   "source": [
    "X_train_df.head()"
   ]
  },
  {
   "cell_type": "code",
   "execution_count": null,
   "metadata": {
    "_uuid": "4e852449566448da5728214b012a38d8eefbffd9",
    "collapsed": true
   },
   "outputs": [],
   "source": []
  },
  {
   "cell_type": "code",
   "execution_count": null,
   "metadata": {
    "_uuid": "5df26cefa50c8c384b747b0bed2c72a7552894cc",
    "collapsed": true
   },
   "outputs": [],
   "source": []
  },
  {
   "cell_type": "markdown",
   "metadata": {
    "_uuid": "b19b65be531e8af2ed1e207a9cac73bdd88d2329"
   },
   "source": [
    "# base model"
   ]
  },
  {
   "cell_type": "code",
   "execution_count": null,
   "metadata": {
    "_uuid": "6e0cfa1e4ce49b26d3a4a15046ef4fc984907876",
    "collapsed": true
   },
   "outputs": [],
   "source": [
    "from sklearn.pipeline import make_pipeline\n",
    "from sklearn.preprocessing import RobustScaler\n",
    "\n",
    "from sklearn.decomposition import PCA\n",
    "\n",
    "from hyperopt import hp, tpe, Trials, fmin\n",
    "\n",
    "from sklearn.svm import SVR\n",
    "from sklearn.linear_model import ElasticNet\n",
    "from sklearn.linear_model import Lasso\n",
    "from sklearn.kernel_ridge import KernelRidge\n",
    "from sklearn.neighbors import KNeighborsRegressor\n",
    "from sklearn.ensemble import BaggingRegressor\n",
    "from sklearn.tree import DecisionTreeRegressor\n",
    "\n",
    "from sklearn.ensemble import RandomForestRegressor\n",
    "from sklearn.ensemble import GradientBoostingRegressor\n",
    "\n",
    "import xgboost as xgb\n",
    "from xgboost import XGBRegressor\n",
    "\n",
    "import lightgbm as lgb\n",
    "from lightgbm import LGBMRegressor\n",
    "\n",
    "from mlxtend.regressor import StackingRegressor"
   ]
  },
  {
   "cell_type": "markdown",
   "metadata": {
    "_uuid": "6b6b2e6579c7401f3ed54e3c987c9924d7c95d7f"
   },
   "source": [
    "## Defined find best parameter function by hyperopt module"
   ]
  },
  {
   "cell_type": "raw",
   "metadata": {
    "_uuid": "5c17d9e3dd4dbd05e4e431f875a1fcae8d00e611"
   },
   "source": [
    "model = make_pipeline(\n",
    "            RobustScaler(),\n",
    "            SVR()\n",
    ")\n"
   ]
  },
  {
   "cell_type": "raw",
   "metadata": {
    "_uuid": "131e60560bf02491d0bd82415fffe74d3235722c"
   },
   "source": [
    " model.steps[0]"
   ]
  },
  {
   "cell_type": "raw",
   "metadata": {
    "_uuid": "913f51c2d239e71dcbfaf4e1e564538b23ea5061"
   },
   "source": [
    " model.steps[1]"
   ]
  },
  {
   "cell_type": "raw",
   "metadata": {
    "_uuid": "3d5b557b5eb893363111796fa0106fe4bb1b822d"
   },
   "source": [
    " model.steps[-1]"
   ]
  },
  {
   "cell_type": "raw",
   "metadata": {
    "_uuid": "b5c315f458b7044bccf13d5bb22d4b48ee106f11"
   },
   "source": [
    "svrstep =  model.steps[-1]\n"
   ]
  },
  {
   "cell_type": "raw",
   "metadata": {
    "_uuid": "259b9836d13f919a31b2b37e7762f90a21c6a513"
   },
   "source": [
    "svrstep.set_params(**args)"
   ]
  },
  {
   "cell_type": "markdown",
   "metadata": {
    "_uuid": "7026026a95cb3183b19b9140337027346b12527d"
   },
   "source": [
    "### give model for hyperopt my funcs"
   ]
  },
  {
   "cell_type": "code",
   "execution_count": null,
   "metadata": {
    "_uuid": "ae6711d01a4e2e031c3b0d5200a7da8268f1f8ad",
    "code_folding": [],
    "collapsed": true
   },
   "outputs": [],
   "source": [
    "count_hyperopt = 0\n",
    "\n",
    "def hyperopt_objective(model, X_train, y_train, scoring=\"r2\", cv_size=5, n_jobs=3):\n",
    "    \"\"\"return objective function for hyperopt\"\"\"\n",
    "\n",
    "    def objective(args):\n",
    "        global count_hyperopt\n",
    "        print(\"Trial \", count_hyperopt, \", Params \", args, \" -> \", end=\"\")\n",
    "        \n",
    "#        print(model.steps[-1])\n",
    "        model.steps[-1][1].set_params(**args)\n",
    "\n",
    "        score = cross_val_score(model, X_train, y_train, scoring=scoring, cv=cv_size, n_jobs=n_jobs)\n",
    "        \n",
    "        print(\"Done\")\n",
    "        count_hyperopt += 1\n",
    "        \n",
    "        return -score.mean()\n",
    "\n",
    "    return objective\n",
    "\n",
    "\n",
    "\n",
    "\n",
    "\n",
    "def searchHyperParam(model, par_space, X_train, y_train, scoring=\"r2\", max_evals=100, cv_size=5, n_jobs=3):\n",
    "    \"\"\"search hyper parameter of a selected model\"\"\"\n",
    "\n",
    "    \n",
    "    global count_hyperopt\n",
    "    count_hyperopt = 0\n",
    "    \n",
    "    objective = hyperopt_objective(model, X_train, y_train, scoring=scoring, cv_size=cv_size, n_jobs=n_jobs)\n",
    "    \n",
    "    #best_params = findBestParm(objective, par_space, X_train, y_train, scoring=scoring, max_evals=max_evals)\n",
    "\n",
    "    trials = Trials()\n",
    "\n",
    "    best = fmin(\n",
    "        objective, \n",
    "        par_space, # 探索するパラメータのdictもしくはlist\n",
    "        algo=tpe.suggest, # どのロジックを利用するか、基本的にはtpe.suggestでok\n",
    "        max_evals=max_evals,\n",
    "        trials=trials,\n",
    "        #verbose=1\n",
    "    )\n",
    "    print(\"best par: \", best)\n",
    "    print(\"best trial: \", trials.best_trial[\"result\"])\n",
    "    #print(\"trials losses: \", trials.losses())\n",
    "\n",
    "    count_hyperopt = 0\n",
    "    \n",
    "    return best\n",
    "\n",
    "\n",
    "def evalModelByCV(model, X_train, y_train):\n",
    "    \"\"\"evaluate model by cross validation\"\"\"\n",
    "    \n",
    "    score = cross_val_score(model, X_train, y_train, scoring=\"r2\", cv=5)\n",
    "\n",
    "    print(\"model score: {:f} ({:f})\\n\" .format(\n",
    "        score.mean(), score.std()))\n",
    "    print(\"all scores: \", score)\n",
    "\n",
    "    \n",
    "def plot_my_learning_curves(X_train, y_train, X_test, y_test, model, scoring=\"r2\", cv=5, n_jobs=3):\n",
    "    \"\"\"plot learning curves by mlxtend and my func my_plot_learning_curve()\"\"\"\n",
    "    plot_learning_curves(X_train, y_train, X_test, y_test, \n",
    "                     model, scoring=scoring)\n",
    "    plt.show()\n",
    "    \n",
    "    title = \"Learning Curves\"\n",
    "    my_plot_learning_curve(model, title, \n",
    "                        X_train, y_train,\n",
    "                        #ylim=(0.7, 1.01), \n",
    "                        cv=cv, scoring=scoring,\n",
    "                        n_jobs=n_jobs)\n",
    "    plt.show()\n",
    "\n",
    "    \n",
    "    "
   ]
  },
  {
   "cell_type": "raw",
   "metadata": {
    "_uuid": "5863ada141c5adc910fa013f9edbef35e333f386"
   },
   "source": [
    "%%time\n",
    "# testing\n",
    "\n",
    "cv_size = 5\n",
    "max_evals = 100\n",
    "\n",
    "lgbmodel = make_pipeline(\n",
    "        #RobustScaler(),\n",
    "        LGBMRegressor()\n",
    ")\n",
    "\n",
    "par_space = {\n",
    "    'learning_rate':hp.uniform('learning_rate', 0.000000001, 1.0),\n",
    "    'max_depth':hp.choice('max_depth', np.arange(1, 300, dtype=int)), \n",
    "    'num_leaves':hp.choice('num_leaves', np.arange(2, 100, dtype=int)),\n",
    "    'min_data_in_leaf':hp.choice('min_data_in_leaf', np.arange(1, 100, dtype=int)),\n",
    "    \n",
    "    'n_estimators':hp.choice('n_estimators', np.arange(1, 100, dtype=int)),\n",
    "    'max_bin':hp.choice('max_bin', np.arange(2, 300, dtype=int)),\n",
    "    'bagging_fraction': hp.uniform('bagging_fraction', 0.000000001, 1.0),\n",
    "    'bagging_freq': hp.randint('bagging_freq', 10),\n",
    "    'feature_fraction': hp.uniform('feature_fraction', 0.000000001, 1.0),\n",
    "    'min_sum_hessian_in_leaf': hp.loguniform('min_sum_hessian_in_leaf', -6, 2),\n",
    "}\n",
    "\n",
    "best_params = searchHyperParam(lgbmodel, par_space, X_train, y_train, scoring=\"r2\", max_evals=max_evals, cv_size=cv_size, n_jobs=3)\n",
    "best_params"
   ]
  },
  {
   "cell_type": "raw",
   "metadata": {
    "_uuid": "67042ec2fc150b4cdf42a4855af9f62fef8dd62b"
   },
   "source": []
  },
  {
   "cell_type": "raw",
   "metadata": {
    "_uuid": "ee334cce346f756e34513b8727eec3a775fb5767"
   },
   "source": [
    "%%time\n",
    "# testing\n",
    "\n",
    "cv_size = 5\n",
    "max_evals = 5\n",
    "\n",
    "svr = make_pipeline(\n",
    "    PCA(n_components=10),\n",
    "    RobustScaler(),\n",
    "    SVR()\n",
    "\n",
    ")\n",
    "\n",
    "kernel_list = ['rbf', 'poly', 'sigmoid']\n",
    "par_space = {\n",
    "    'C':hp.loguniform('C', -8, 2),\n",
    "    'gamma':hp.loguniform('gamma', -8, 2),\n",
    "    'epsilon':hp.loguniform('epsilon', -8, 2),\n",
    "    'kernel':hp.choice('kernel', kernel_list)\n",
    "}\n",
    "\n",
    "\n",
    "best_params = searchHyperParam(svr, par_space, X_train, y_train, scoring=\"r2\", max_evals=max_evals, cv_size=cv_size, n_jobs=1)\n",
    "\n",
    "best_params[\"kernel\"] = kernel_list[best_params[\"kernel\"]]\n",
    "best_params"
   ]
  },
  {
   "cell_type": "raw",
   "metadata": {
    "_uuid": "564ded076ca634ce737e9d114761a3bd5eddcab1"
   },
   "source": [
    "Finally, I found why the svr doesn't finish.\n",
    "Here is the output just before the stop.\n",
    "\n",
    "Trial  0 , Params  {'C': 0.015601187011911637, 'epsilon': 0.5516972232183148, 'gamma': 0.06236609322180074, 'kernel': 'rbf'}  -> Done\n",
    "Trial  1 , Params  {'C': 0.7244447849579089, 'epsilon': 1.358464177771488, 'gamma': 0.7165688120262619, 'kernel': 'sigmoid'}  -> Done\n",
    "Trial  2 , Params  {'C': 0.006556279706811856, 'epsilon': 0.1067903873366066, 'gamma': 0.0005180756828484195, 'kernel': 'poly'}  -> \n",
    "\n",
    "The 'poly' kernel was used. Because of that, the parameters increased dramatically.\n",
    "In this time, better not to use poly.\n",
    "Of course, this param trial can be finished, I watched it. But better to not use.\n",
    "\n",
    "\n",
    "cv_size = 5\n",
    "max_evals = 10\n",
    "pca 1000\n",
    "\n",
    "\n",
    "\n",
    "cv_size = 5\n",
    "max_evals = 5\n",
    "pca 1000\n",
    "n_jobs=1\n",
    "4min 39s\n",
    "\n",
    "\n",
    "\n",
    "cv_size = 5\n",
    "max_evals = 5\n",
    "pca 1000\n",
    "n_jobs=2\n",
    "become too too slow, because of paralle proc\n",
    "\n",
    "\n",
    "\n",
    "\n",
    "cv_size = 5\n",
    "max_evals = 5\n",
    "pca 2000\n",
    "32 min\n",
    "\n",
    "cv_size = 5\n",
    "max_evals = 5\n",
    "no pca\n",
    "min => didn't finish. better to reduce feature nums"
   ]
  },
  {
   "cell_type": "raw",
   "metadata": {
    "_uuid": "0242121ad452c0dba819d13a90e238d86e95daf7"
   },
   "source": [
    "raise Exception()"
   ]
  },
  {
   "cell_type": "markdown",
   "metadata": {
    "_uuid": "9e44770d685def6adda6137db8d6b4c1b688e21d"
   },
   "source": [
    "### give model_name for hyperopt my funcs"
   ]
  },
  {
   "cell_type": "markdown",
   "metadata": {
    "_uuid": "b3a8eaa516bea8d6bd0740082b0e956280fadcd5"
   },
   "source": [
    "** NOT ACCTIVATED !!!**"
   ]
  },
  {
   "cell_type": "raw",
   "metadata": {
    "_uuid": "20708e456802c98d5288ea371d70c6158a9e57db"
   },
   "source": [
    "\n",
    "\n",
    "def hyperopt_objective(model_name, X_train, y_train, scoring=\"r2\", cv_size=5, n_jobs=3):\n",
    "    \"\"\"return objective function for hyperopt\"\"\"\n",
    "    print(\"model name: {0}\".format(model_name))\n",
    "\n",
    "    def objective(args):\n",
    "        if model_name == \"SVR\":\n",
    "            model = make_pipeline(\n",
    "                RobustScaler(),\n",
    "                SVR(**args)\n",
    "            )\n",
    "        elif model_name == \"Lasso\":\n",
    "            model = make_pipeline(\n",
    "                RobustScaler(),\n",
    "                Lasso(**args)\n",
    "            )\n",
    "        elif model_name == \"ElasticNet\":\n",
    "            model = make_pipeline(\n",
    "                RobustScaler(),\n",
    "                ElasticNet(**args)\n",
    "            )\n",
    "        elif model_name == \"KernelRidge\":\n",
    "            model = make_pipeline(\n",
    "                #RobustScaler(),\n",
    "                KernelRidge(**args)\n",
    "            )\n",
    "        elif model_name == \"KNeighborsRegressor\":\n",
    "            model = make_pipeline(\n",
    "                RobustScaler(),\n",
    "                KNeighborsRegressor(**args)\n",
    "            )\n",
    "        elif model_name == \"RandomForestRegressor\":\n",
    "            model = make_pipeline(\n",
    "                #RobustScaler(),\n",
    "                RandomForestRegressor(**args)\n",
    "            )\n",
    "        elif model_name == \"GradientBoostingRegressor\":\n",
    "            model = make_pipeline(\n",
    "                #RobustScaler(),\n",
    "                GradientBoostingRegressor(**args)\n",
    "            )\n",
    "        elif model_name == \"XGBRegressor\":\n",
    "            model = make_pipeline(\n",
    "                #RobustScaler(),\n",
    "                XGBRegressor(**args)\n",
    "            )\n",
    "        elif model_name == \"LGBMRegressor\":\n",
    "            model = make_pipeline(\n",
    "                #RobustScaler(),\n",
    "                LGBMRegressor(**args)\n",
    "            )\n",
    "            \n",
    "        else:\n",
    "            raise Exception(\"Unexpected model was specified: {0}\".format(model_name))\n",
    "\n",
    "        score = cross_val_score(model, X_train, y_train, scoring=scoring, cv=cv_size, n_jobs=n_jobs)\n",
    "        return -score.mean()\n",
    "\n",
    "    return objective\n",
    "\n",
    "\n",
    "\n",
    "\n",
    "\n",
    "def searchHyperParam(model_name, par_space, X_train, y_train, scoring=\"r2\", max_evals=100, cv_size=5, n_jobs=3):\n",
    "    \"\"\"search hyper parameter of a selected model\"\"\"\n",
    "\n",
    "    objective = hyperopt_objective(model_name, X_train, y_train, scoring=scoring, cv_size=cv_size, n_jobs=n_jobs)\n",
    "    \n",
    "    #best_params = findBestParm(objective, par_space, X_train, y_train, scoring=scoring, max_evals=max_evals)\n",
    "\n",
    "    trials = Trials()\n",
    "\n",
    "    best = fmin(\n",
    "        objective, \n",
    "        par_space, # 探索するパラメータのdictもしくはlist\n",
    "        algo=tpe.suggest, # どのロジックを利用するか、基本的にはtpe.suggestでok\n",
    "        max_evals=max_evals,\n",
    "        trials=trials,\n",
    "        verbose=1\n",
    "    )\n",
    "    print(\"best par for : \", model_name, \"-> \", best)\n",
    "    print(\"best trial: \", trials.best_trial[\"result\"])\n",
    "    #print(\"trials losses: \", trials.losses())\n",
    "    \n",
    "    return best\n",
    "\n",
    "\n",
    "def evalModelByCV(model, X_train, y_train):\n",
    "    \"\"\"evaluate model by cross validation\"\"\"\n",
    "    \n",
    "    score = cross_val_score(model, X_train, y_train, scoring=\"r2\", cv=5)\n",
    "\n",
    "    print(\"model score: {:f} ({:f})\\n\" .format(\n",
    "        score.mean(), score.std()))\n",
    "    print(\"all scores: \", score)\n",
    "\n",
    "    \n",
    "def plot_my_learning_curves(X_train, y_train, X_test, y_test, model, scoring=\"r2\", cv=5, n_jobs=3):\n",
    "    \"\"\"plot learning curves by mlxtend and my func my_plot_learning_curve()\"\"\"\n",
    "    plot_learning_curves(X_train, y_train, X_test, y_test, \n",
    "                     model, scoring=scoring)\n",
    "    plt.show()\n",
    "    \n",
    "    title = \"Learning Curves\"\n",
    "    my_plot_learning_curve(model, title, \n",
    "                        X_train, y_train,\n",
    "                        #ylim=(0.7, 1.01), \n",
    "                        cv=cv, scoring=scoring,\n",
    "                        n_jobs=n_jobs)\n",
    "    plt.show()\n",
    "\n",
    "    \n",
    "    \n"
   ]
  },
  {
   "cell_type": "markdown",
   "metadata": {
    "_uuid": "70e5733edd035eb317195a79c244d29b2a05d901"
   },
   "source": [
    "## Def hyperopt param"
   ]
  },
  {
   "cell_type": "code",
   "execution_count": null,
   "metadata": {
    "_uuid": "fce6dcf503b79b3b34fd2a9d60c65497e528be43",
    "collapsed": true
   },
   "outputs": [],
   "source": [
    "cv_size = 5\n",
    "#max_evals = 100\n",
    "max_evals = 20\n",
    "n_jobs = 1"
   ]
  },
  {
   "cell_type": "markdown",
   "metadata": {
    "_uuid": "9dc9666722289d95b04670ed2adfa3384d0b211d"
   },
   "source": [
    "## SVR"
   ]
  },
  {
   "cell_type": "code",
   "execution_count": null,
   "metadata": {
    "_uuid": "b9e465213020cda8a81698dc13ff83c0eab2d48b",
    "collapsed": true
   },
   "outputs": [],
   "source": [
    "svr = make_pipeline(\n",
    "    PCA(n_components=1000),\n",
    "    RobustScaler(),\n",
    "    SVR()\n",
    "\n",
    ")\n",
    "\n",
    "kernel_list = [\n",
    "    'rbf',\n",
    "#    'poly',\n",
    "    'sigmoid']\n",
    "par_space = {\n",
    "    'C':hp.loguniform('C', -8, 2),\n",
    "    'gamma':hp.loguniform('gamma', -8, 2),\n",
    "    'epsilon':hp.loguniform('epsilon', -8, 2),\n",
    "    'kernel':hp.choice('kernel', kernel_list)\n",
    "}\n"
   ]
  },
  {
   "cell_type": "code",
   "execution_count": null,
   "metadata": {
    "_uuid": "5f8356d746d019774ebc641851280e135a8c99bb",
    "collapsed": true,
    "scrolled": false
   },
   "outputs": [],
   "source": [
    "%%time\n",
    "best_params = searchHyperParam(svr, par_space, X_train, y_train, scoring=\"r2\", max_evals=max_evals, cv_size=cv_size, n_jobs=n_jobs)\n",
    "best_params[\"kernel\"] = kernel_list[best_params[\"kernel\"]]\n",
    "print(best_params)\n"
   ]
  },
  {
   "cell_type": "raw",
   "metadata": {
    "_uuid": "35c919eec0e748f1f5e274f728fe2a1c8e59141e"
   },
   "source": [
    "cv_size = 5\n",
    "#max_evals = 100\n",
    "max_evals = 20\n",
    "n_jobs = 1\n",
    "\n",
    "\n",
    "best par:  {'C': 3.03112783204231, 'epsilon': 0.019547937005002274, 'gamma': 0.0020099865529938114, 'kernel': 0}\n",
    "best trial:  {'loss': -0.09384630894693664, 'status': 'ok'}\n",
    "{'C': 3.03112783204231, 'epsilon': 0.019547937005002274, 'gamma': 0.0020099865529938114, 'kernel': 'rbf'}\n",
    "CPU times: user 1h 50min 46s, sys: 1h 30min 42s, total: 3h 21min 28s\n",
    "Wall time: 1h 2min 33s\n",
    "\n",
    "\n",
    "cv_size = 5\n",
    "#max_evals = 100\n",
    "max_evals = 10\n",
    "n_jobs = 1\n",
    "\n",
    "\n",
    "best par:  {'C': 4.363920992776861, 'epsilon': 0.0016568355770970559, 'gamma': 0.15878415549717873, 'kernel': 0}\n",
    "best trial:  {'loss': -0.10089305077797912, 'status': 'ok'}\n",
    "{'C': 4.363920992776861, 'epsilon': 0.0016568355770970559, 'gamma': 0.15878415549717873, 'kernel': 'rbf'}\n",
    "CPU times: user 55min 17s, sys: 46min 15s, total: 1h 41min 32s\n",
    "Wall time: 31min 9s\n",
    "\n",
    "\n",
    "\n"
   ]
  },
  {
   "cell_type": "code",
   "execution_count": null,
   "metadata": {
    "_uuid": "0b82f57ad94fe8f8ba7a9f3cc1c55b471366c629",
    "collapsed": true
   },
   "outputs": [],
   "source": [
    "best_params = {'C': 6.0125849233435975,\n",
    " 'epsilon': 0.018596343856883617,\n",
    " 'gamma': 0.019396603678872793,\n",
    " 'kernel': 'rbf'}"
   ]
  },
  {
   "cell_type": "code",
   "execution_count": null,
   "metadata": {
    "_uuid": "c23e75e097314da26875be79d364acaa136861bf",
    "collapsed": true
   },
   "outputs": [],
   "source": [
    "svr.steps[-1][1].set_params(**best_params)\n",
    "\n",
    "evalModelByCV(svr, X_train, y_train)\n",
    "plot_my_learning_curves(X_train, y_train, X_test, y_test, svr, scoring=\"r2\", cv=5, n_jobs=n_jobs)"
   ]
  },
  {
   "cell_type": "code",
   "execution_count": null,
   "metadata": {
    "_uuid": "909bccbe88e0a2a0d6ab5a9f1ee2409dbb9c3914",
    "collapsed": true
   },
   "outputs": [],
   "source": []
  },
  {
   "cell_type": "raw",
   "metadata": {
    "_uuid": "5bf3e4a9b4ee317d86ec970daf73e8518c90cb85",
    "code_folding": []
   },
   "source": [
    "# DO NOT USE !!: using old searchHyperParam()\n",
    "\n",
    "kernel_list = ['rbf', 'poly', 'sigmoid']\n",
    "par_space = {\n",
    "    'C':hp.loguniform('C', -8, 2),\n",
    "    'gamma':hp.loguniform('gamma', -8, 2),\n",
    "    'epsilon':hp.loguniform('epsilon', -8, 2),\n",
    "    'kernel':hp.choice('kernel', kernel_list)\n",
    "}\n",
    "\n",
    "\"\"\"\n",
    "def objective(args):\n",
    "    model = make_pipeline(\n",
    "        RobustScaler(),\n",
    "        SVR(**args)\n",
    "    )\n",
    "    score = cross_val_score(model, X_train, y_train, scoring=\"r2\", cv=cv_size)\n",
    "    return -score.mean()\n",
    "\n",
    "best_params = findBestParm(objective, par_space, X_train, y_train, scoring=\"r2\", max_evals=max_evals)\n",
    "\"\"\"\n",
    "\n",
    "best_params = searchHyperParam(\"SVR\", par_space, X_train, y_train, scoring=\"r2\", max_evals=max_evals, cv_size=cv_size, n_jobs=3)\n",
    "\n",
    "best_params[\"kernel\"] = kernel_list[best_params[\"kernel\"]]\n",
    "best_params"
   ]
  },
  {
   "cell_type": "raw",
   "metadata": {
    "_uuid": "252f771d6502f2ac4229745cd1e2c3d4417c98c5"
   },
   "source": [
    "best_params = {'C': 6.0125849233435975,\n",
    " 'epsilon': 0.018596343856883617,\n",
    " 'gamma': 0.019396603678872793,\n",
    " 'kernel': 'rbf'}"
   ]
  },
  {
   "cell_type": "raw",
   "metadata": {
    "_uuid": "bafd060d51f0f893d7aa7c54712514854b56ae53"
   },
   "source": [
    "# DO NOT USE !!: using old searchHyperParam()\n",
    "\n",
    "svr = make_pipeline(\n",
    "    RobustScaler(),\n",
    "    SVR(**best_params)\n",
    "\n",
    ")\n",
    "\n",
    "evalModelByCV(svr, X_train, y_train)"
   ]
  },
  {
   "cell_type": "raw",
   "metadata": {
    "_uuid": "061d4ba14ed830f98ba51645d13de9d5c238c77b"
   },
   "source": [
    "from sklearn.feature_selection import SelectFromModel\n",
    "from sklearn.ensemble import RandomForestRegressor\n",
    "select = SelectFromModel(\n",
    "    RandomForestRegressor(n_estimators=100, random_state=42),\n",
    "    threshold=\"median\")\n",
    "\n",
    "\n",
    "svr = make_pipeline(\n",
    "    select,\n",
    "    RobustScaler(),\n",
    "    SVR(**best_params)\n",
    "\n",
    ")\n",
    "\n",
    "evalModelByCV(svr, X_train, y_train)"
   ]
  },
  {
   "cell_type": "raw",
   "metadata": {
    "_uuid": "88b8912801a021ef9232edd748b6f2448b015fec"
   },
   "source": [
    "# not so good result...\n",
    "from sklearn.decomposition import PCA\n",
    "\n",
    "svr = make_pipeline(\n",
    "    #select,\n",
    "    PCA(n_components=50),\n",
    "    RobustScaler(),\n",
    "    SVR(**best_params)\n",
    "\n",
    ")\n",
    "\n",
    "evalModelByCV(svr, X_train, y_train)"
   ]
  },
  {
   "cell_type": "code",
   "execution_count": null,
   "metadata": {
    "_uuid": "58c3d956f6f5065cd3debd3b6ca75a6b0dc23191",
    "collapsed": true
   },
   "outputs": [],
   "source": []
  },
  {
   "cell_type": "code",
   "execution_count": null,
   "metadata": {
    "_uuid": "3a4dd069c9538f0c72c11315f2fa6705ab5f4c3a",
    "collapsed": true
   },
   "outputs": [],
   "source": []
  },
  {
   "cell_type": "markdown",
   "metadata": {
    "_uuid": "e74ffb94278e528e33d500d5dbad71b63b58d26c"
   },
   "source": [
    "## lasso"
   ]
  },
  {
   "cell_type": "code",
   "execution_count": null,
   "metadata": {
    "_uuid": "d005f28a9036d9a62c25b0b715076e15709c490d",
    "collapsed": true
   },
   "outputs": [],
   "source": [
    "lasso = make_pipeline(\n",
    "    RobustScaler(),\n",
    "    Lasso()\n",
    "\n",
    ")\n",
    "\n",
    "par_space = {\n",
    "    'alpha':hp.uniform('alpha', 0, 1),\n",
    "    \n",
    "}"
   ]
  },
  {
   "cell_type": "code",
   "execution_count": null,
   "metadata": {
    "_uuid": "b5fa931a603585e52499b02d1f4b08f647e6ff36",
    "collapsed": true
   },
   "outputs": [],
   "source": [
    "best_params = searchHyperParam(lasso, par_space, X_train, y_train, scoring=\"r2\", max_evals=max_evals, cv_size=cv_size, n_jobs=n_jobs)\n",
    "best_params"
   ]
  },
  {
   "cell_type": "code",
   "execution_count": null,
   "metadata": {
    "_uuid": "d4e0a4bf0997d06b52702ed5a205607f98f872fb",
    "collapsed": true
   },
   "outputs": [],
   "source": [
    "best_params = {'alpha': 0.03813148491610924}"
   ]
  },
  {
   "cell_type": "code",
   "execution_count": null,
   "metadata": {
    "_uuid": "0d91293fbbd850cb75c324f9d013321028092630",
    "collapsed": true,
    "scrolled": true
   },
   "outputs": [],
   "source": [
    "\n",
    "lasso.steps[-1][1].set_params(**best_params)\n",
    "\n",
    "evalModelByCV(lasso, X_train, y_train)\n",
    "plot_my_learning_curves(X_train, y_train, X_test, y_test, lasso, scoring=\"r2\", cv=5, n_jobs=n_jobs)"
   ]
  },
  {
   "cell_type": "raw",
   "metadata": {
    "_uuid": "763ab656b5ca50a4e8a1886a74d9085523f2870d"
   },
   "source": [
    "# DO NOT USE !!: using old searchHyperParam()\n",
    "\n",
    "par_space = {\n",
    "    'alpha':hp.uniform('alpha', 0, 1),\n",
    "    \n",
    "}\n",
    "\n",
    "\"\"\"\n",
    "def objective(args):\n",
    "    model = make_pipeline(\n",
    "        RobustScaler(),\n",
    "        Lasso(**args)\n",
    "    )\n",
    "    score = cross_val_score(model, X_train, y_train, scoring=\"r2\", cv=cv_size)\n",
    "    return -score.mean()\n",
    "\n",
    "best_params = findBestParm(objective, par_space, X_train, y_train, scoring=\"r2\", max_evals=max_evals)\n",
    "\"\"\"\n",
    "\n",
    "best_params = searchHyperParam(\"Lasso\", par_space, X_train, y_train, scoring=\"r2\", max_evals=max_evals, cv_size=cv_size, n_jobs=3)\n",
    "best_params"
   ]
  },
  {
   "cell_type": "raw",
   "metadata": {
    "_uuid": "602f3acc3c423feb0eaea5de0757f99e611ca606"
   },
   "source": [
    "best_params = {'alpha': 0.03813148491610924}"
   ]
  },
  {
   "cell_type": "raw",
   "metadata": {
    "_uuid": "33dc184f58cdfb2bd5a57ee4dfd656050fe86ed6"
   },
   "source": [
    "# DO NOT USE !!: using old searchHyperParam()\n",
    "\n",
    "lasso = make_pipeline(\n",
    "    RobustScaler(),\n",
    "    Lasso(**best_params)\n",
    "\n",
    ")\n",
    "\n",
    "evalModelByCV(lasso, X_train, y_train)\n",
    "plot_my_learning_curves(X_train, y_train, X_test, y_test, lasso, scoring=\"r2\", cv=5, n_jobs=3)"
   ]
  },
  {
   "cell_type": "raw",
   "metadata": {
    "_uuid": "b6c962a964bc4125d9b991200466d8d0104e8a6f"
   },
   "source": [
    "from sklearn.feature_selection import SelectFromModel\n",
    "from sklearn.ensemble import RandomForestRegressor\n",
    "select = SelectFromModel(\n",
    "    RandomForestRegressor(n_estimators=100, random_state=42),\n",
    "    threshold=\"median\")\n",
    "\n",
    "lasso = make_pipeline(\n",
    "    select,\n",
    "    RobustScaler(),\n",
    "    Lasso(**best_params)\n",
    "\n",
    ")\n",
    "\n",
    "evalModelByCV(lasso, X_train, y_train)\n"
   ]
  },
  {
   "cell_type": "raw",
   "metadata": {
    "_uuid": "5c5b4c80f192d6f42e41d33828635f227599b8b0"
   },
   "source": [
    "# became bad by pca\n",
    "\n",
    "from sklearn.decomposition import PCA\n",
    "\n",
    "lasso = make_pipeline(\n",
    "    PCA(n_components=200),\n",
    "    RobustScaler(),\n",
    "    Lasso(**best_params)\n",
    "\n",
    ")\n",
    "\n",
    "evalModelByCV(lasso, X_train, y_train)"
   ]
  },
  {
   "cell_type": "code",
   "execution_count": null,
   "metadata": {
    "_uuid": "38609a057209b02015ccd5e5518b8a6dcfc91bbe",
    "collapsed": true
   },
   "outputs": [],
   "source": []
  },
  {
   "cell_type": "markdown",
   "metadata": {
    "_uuid": "a87ed8d22679dd01b89a935cef69b46a5c82e062"
   },
   "source": [
    "## Elastic net"
   ]
  },
  {
   "cell_type": "code",
   "execution_count": null,
   "metadata": {
    "_uuid": "fdfc35a18e2d176d2e0fe8fbe20a97adfd4871c9",
    "collapsed": true
   },
   "outputs": [],
   "source": [
    "elasticnet = make_pipeline(\n",
    "    RobustScaler(),\n",
    "    ElasticNet()\n",
    "\n",
    ")\n",
    "par_space = {\n",
    "    'alpha':hp.uniform('alpha', 0, 1),\n",
    "    'l1_ratio':hp.uniform('l1_ratio', 0, 1),\n",
    "    \n",
    "}"
   ]
  },
  {
   "cell_type": "code",
   "execution_count": null,
   "metadata": {
    "_uuid": "cc84914346c8d9691bd38f01875773f4aa7a4c45",
    "collapsed": true
   },
   "outputs": [],
   "source": [
    "best_params = searchHyperParam(elasticnet, par_space, X_train, y_train, scoring=\"r2\", max_evals=max_evals, cv_size=cv_size, n_jobs=n_jobs)\n",
    "best_params\n"
   ]
  },
  {
   "cell_type": "code",
   "execution_count": null,
   "metadata": {
    "_uuid": "6e8c8ca489598efca7c7a1141fae50354b204473",
    "collapsed": true
   },
   "outputs": [],
   "source": [
    "best_params = {'alpha': 0.03979354323226861, 'l1_ratio': 0.9027788528223015}"
   ]
  },
  {
   "cell_type": "code",
   "execution_count": null,
   "metadata": {
    "_uuid": "ab3bd9e867507a9a70f5cac15bba93cb3f495ae5",
    "collapsed": true
   },
   "outputs": [],
   "source": [
    "\n",
    "elasticnet.steps[-1][1].set_params(**best_params)\n",
    "\n",
    "evalModelByCV(elasticnet, X_train, y_train)\n",
    "plot_my_learning_curves(X_train, y_train, X_test, y_test, elasticnet, scoring=\"r2\", cv=5, n_jobs=n_jobs)\n"
   ]
  },
  {
   "cell_type": "code",
   "execution_count": null,
   "metadata": {
    "_uuid": "9250c5e046cee9fb33cafddad2486fe254c528fd",
    "collapsed": true
   },
   "outputs": [],
   "source": []
  },
  {
   "cell_type": "raw",
   "metadata": {
    "_uuid": "f2d4d615d3b1db9e7d2fc62a6ac305d3b2150779"
   },
   "source": [
    "# DO NOT USE !!: using old searchHyperParam()\n",
    "\n",
    "\n",
    "par_space = {\n",
    "    'alpha':hp.uniform('alpha', 0, 1),\n",
    "    'l1_ratio':hp.uniform('l1_ratio', 0, 1),\n",
    "    \n",
    "}\n",
    "\"\"\"\n",
    "def objective(args):\n",
    "    model = make_pipeline(\n",
    "        RobustScaler(),\n",
    "        ElasticNet(**args)\n",
    "    )\n",
    "    score = cross_val_score(model, X_train, y_train, scoring=\"r2\", cv=cv_size)\n",
    "    return -score.mean()\n",
    "\n",
    "best_params = findBestParm(objective, par_space, X_train, y_train, scoring=\"r2\", max_evals=max_evals)\n",
    "\"\"\"\n",
    "\n",
    "best_params = searchHyperParam(\"ElasticNet\", par_space, X_train, y_train, scoring=\"r2\", max_evals=max_evals, cv_size=cv_size, n_jobs=3)\n",
    "best_params"
   ]
  },
  {
   "cell_type": "raw",
   "metadata": {
    "_uuid": "c26b88c674200ddf8f08af2291587d5748b076a9"
   },
   "source": [
    "best_params = {'alpha': 0.03979354323226861, 'l1_ratio': 0.9027788528223015}"
   ]
  },
  {
   "cell_type": "raw",
   "metadata": {
    "_uuid": "91aef8e7ee0d00d94fedf890ef63c4f1ad667ebb"
   },
   "source": [
    "# DO NOT USE !!: using old searchHyperParam()\n",
    "\n",
    "elasticnet = make_pipeline(\n",
    "    RobustScaler(),\n",
    "    ElasticNet(**best_params)\n",
    "\n",
    ")\n",
    "\n",
    "evalModelByCV(elasticnet, X_train, y_train)\n",
    "plot_my_learning_curves(X_train, y_train, X_test, y_test, elasticnet, scoring=\"r2\", cv=5, n_jobs=3)"
   ]
  },
  {
   "cell_type": "raw",
   "metadata": {
    "_uuid": "3e1957b3e7e46479d6473a5891535579f19934e7"
   },
   "source": []
  },
  {
   "cell_type": "code",
   "execution_count": null,
   "metadata": {
    "_uuid": "5187531fff882624105fc7937b3042afdd51810b",
    "collapsed": true
   },
   "outputs": [],
   "source": []
  },
  {
   "cell_type": "markdown",
   "metadata": {
    "_uuid": "9205c29e0f304ef005cf0122dba27de1f81aa412"
   },
   "source": [
    "## kernel ridge"
   ]
  },
  {
   "cell_type": "code",
   "execution_count": null,
   "metadata": {
    "_uuid": "8cf6d741090df375f18d5fe416d0670b3f3600f0",
    "collapsed": true
   },
   "outputs": [],
   "source": [
    "krr = make_pipeline(\n",
    "        #RobustScaler(),\n",
    "        KernelRidge()\n",
    ")\n",
    "\n",
    "kernel_list = [\n",
    "    'rbf',\n",
    "#    'poly',\n",
    "    'sigmoid']\n",
    "par_space = {\n",
    "    'alpha':hp.uniform('alpha', 0, 1),\n",
    "    'gamma':hp.loguniform('gamma', -8, 2),\n",
    "    'kernel':hp.choice('kernel', kernel_list),\n",
    "    'degree':hp.randint('degree', 5),\n",
    "#    'coef0': # default value is enough\n",
    "    \n",
    "}"
   ]
  },
  {
   "cell_type": "code",
   "execution_count": null,
   "metadata": {
    "_uuid": "339a23b6feea53aa345b46c79ae45b19d597f403",
    "collapsed": true
   },
   "outputs": [],
   "source": [
    "best_params = searchHyperParam(krr, par_space, X_train, y_train, scoring=\"r2\", max_evals=max_evals, cv_size=cv_size, n_jobs=n_jobs)\n",
    "best_params[\"kernel\"] = kernel_list[best_params[\"kernel\"]]\n",
    "best_params\n"
   ]
  },
  {
   "cell_type": "code",
   "execution_count": null,
   "metadata": {
    "_uuid": "daacbb828130fca1624095ec6a4101947cbce778",
    "collapsed": true
   },
   "outputs": [],
   "source": [
    "best_params = {'alpha': 0.06208805100456642,\n",
    " 'degree': 2,\n",
    " 'gamma': 0.000700959885815984,\n",
    " 'kernel': 'rbf'}"
   ]
  },
  {
   "cell_type": "code",
   "execution_count": null,
   "metadata": {
    "_uuid": "5c1726f2e44910ec81e3b7baf00c01f7a4db46e9",
    "collapsed": true
   },
   "outputs": [],
   "source": [
    "krr.steps[-1][1].set_params(**best_params)\n",
    "\n",
    "evalModelByCV(krr, X_train, y_train)\n",
    "plot_my_learning_curves(X_train, y_train, X_test, y_test, krr, scoring=\"r2\", cv=5, n_jobs=n_jobs)\n"
   ]
  },
  {
   "cell_type": "code",
   "execution_count": null,
   "metadata": {
    "_uuid": "51d9ae12783ba9b3ff187c950ee346853f2ed01a",
    "collapsed": true
   },
   "outputs": [],
   "source": []
  },
  {
   "cell_type": "raw",
   "metadata": {
    "_uuid": "51dc2a61fe00d5f4d47ce1c352dfecfe9aabb9d4"
   },
   "source": [
    "# DO NOT USE !!: using old searchHyperParam()\n",
    "\n",
    "kernel_list = ['rbf', 'poly', 'sigmoid']\n",
    "par_space = {\n",
    "    'alpha':hp.uniform('alpha', 0, 1),\n",
    "    'gamma':hp.loguniform('gamma', -8, 2),\n",
    "    'kernel':hp.choice('kernel', kernel_list),\n",
    "    'degree':hp.randint('degree', 5),\n",
    "#    'coef0': # default value is enough\n",
    "    \n",
    "}\n",
    "\"\"\"\n",
    "def objective(args):\n",
    "    model = make_pipeline(\n",
    "        #RobustScaler(),\n",
    "        KernelRidge(**args)\n",
    "    )\n",
    "    score = cross_val_score(model, X_train, y_train, scoring=\"r2\", cv=cv_size)\n",
    "    return -score.mean()\n",
    "\n",
    "best_params = findBestParm(objective, par_space, X_train, y_train, scoring=\"r2\", max_evals=max_evals)\n",
    "\"\"\"\n",
    "\n",
    "best_params = searchHyperParam(\"KernelRidge\", par_space, X_train, y_train, scoring=\"r2\", max_evals=max_evals, cv_size=cv_size, n_jobs=3)\n",
    "\n",
    "best_params[\"kernel\"] = kernel_list[best_params[\"kernel\"]]\n",
    "best_params\n",
    "\n"
   ]
  },
  {
   "cell_type": "raw",
   "metadata": {
    "_uuid": "439013b783d1491a8508e6ccbfc4663a8f8b1a64"
   },
   "source": [
    "best_params = {'alpha': 0.06208805100456642,\n",
    " 'degree': 2,\n",
    " 'gamma': 0.000700959885815984,\n",
    " 'kernel': 'rbf'}"
   ]
  },
  {
   "cell_type": "raw",
   "metadata": {
    "_uuid": "08b9aa77b97ccf926e065c670d5d63791101d379"
   },
   "source": [
    "# DO NOT USE !!: using old searchHyperParam()\n",
    "\n",
    "krr = make_pipeline(\n",
    "        #RobustScaler(),\n",
    "        KernelRidge(**best_params)\n",
    ")\n",
    "\n",
    "evalModelByCV(krr, X_train, y_train)\n",
    "\n",
    "plot_my_learning_curves(X_train, y_train, X_test, y_test, krr, scoring=\"r2\", cv=5, n_jobs=3)\n",
    "\n"
   ]
  },
  {
   "cell_type": "markdown",
   "metadata": {
    "_uuid": "badca92a332e8ce662c70eb9e89be39bb34194b4"
   },
   "source": [
    "## k neighbers"
   ]
  },
  {
   "cell_type": "code",
   "execution_count": null,
   "metadata": {
    "_uuid": "f0e2805094cbf554acc0a3e5883e5a867c6ba537",
    "collapsed": true
   },
   "outputs": [],
   "source": [
    "knr = make_pipeline(\n",
    "    #RobustScaler(),\n",
    "    KNeighborsRegressor()\n",
    ")\n",
    "\n",
    "par_space = {\n",
    "#    'n_neighbors':hp.choice('n_neighbors', [1,2,3,4,5,6,7,8,9,10]),\n",
    "#    'n_neighbors':hp.quniform('n_neighbors', 1, 10, 1),\n",
    "    'n_neighbors':hp.choice('n_neighbors', np.arange(1, 10, dtype=int))\n",
    "#    'coef0': # default value is enough\n",
    "    \n",
    "}"
   ]
  },
  {
   "cell_type": "code",
   "execution_count": null,
   "metadata": {
    "_uuid": "f6696087040f0439f90a4b93ea9c7899f3d411a4",
    "collapsed": true
   },
   "outputs": [],
   "source": [
    "best_params = searchHyperParam(knr, par_space, X_train, y_train, scoring=\"r2\", max_evals=max_evals, cv_size=cv_size, n_jobs=n_jobs)\n",
    "best_params\n"
   ]
  },
  {
   "cell_type": "code",
   "execution_count": null,
   "metadata": {
    "_uuid": "840d31b4aa93b07056a3278fcec3ed4e278ed6b1",
    "collapsed": true
   },
   "outputs": [],
   "source": [
    "best_params = {'n_neighbors': 8}"
   ]
  },
  {
   "cell_type": "code",
   "execution_count": null,
   "metadata": {
    "_uuid": "0549b5ecee5c6ca424db931bb24e009ed70d510b",
    "collapsed": true
   },
   "outputs": [],
   "source": [
    "knr.steps[-1][1].set_params(**best_params)\n",
    "\n",
    "\n",
    "evalModelByCV(knr, X_train, y_train)\n",
    "\n",
    "plot_my_learning_curves(X_train, y_train, X_test, y_test, knr, scoring=\"r2\", cv=5, n_jobs=n_jobs)"
   ]
  },
  {
   "cell_type": "code",
   "execution_count": null,
   "metadata": {
    "_uuid": "2b2038265b61d65bdf75fa0d15f2ae896bd36079",
    "collapsed": true
   },
   "outputs": [],
   "source": []
  },
  {
   "cell_type": "raw",
   "metadata": {
    "_uuid": "597f45883fdf0de2f395bb874bdcf76524414710"
   },
   "source": [
    "# DO NOT USE !!: using old searchHyperParam()\n",
    "\n",
    "par_space = {\n",
    "#    'n_neighbors':hp.choice('n_neighbors', [1,2,3,4,5,6,7,8,9,10]),\n",
    "#    'n_neighbors':hp.quniform('n_neighbors', 1, 10, 1),\n",
    "    'n_neighbors':hp.choice('n_neighbors', np.arange(1, 10, dtype=int))\n",
    "#    'coef0': # default value is enough\n",
    "    \n",
    "}\n",
    "\n",
    "best_params = searchHyperParam(\"KNeighborsRegressor\", par_space, X_train, y_train, scoring=\"r2\", max_evals=100, cv_size=cv_size, n_jobs=3)\n",
    "best_params\n",
    "\n"
   ]
  },
  {
   "cell_type": "raw",
   "metadata": {
    "_uuid": "aacfb29445579a0f269412f68b37a137807d0237"
   },
   "source": [
    "best_params = {'n_neighbors': 8}"
   ]
  },
  {
   "cell_type": "raw",
   "metadata": {
    "_uuid": "330e54fbf9ca5ff9f92ee1b16c9d7dd1d57eae25"
   },
   "source": [
    "# DO NOT USE !!: using old searchHyperParam()\n",
    "\n",
    "knr = make_pipeline(\n",
    "    #RobustScaler(),\n",
    "    KNeighborsRegressor(**best_params)\n",
    ")\n",
    "\n",
    "evalModelByCV(knr, X_train, y_train)\n",
    "\n",
    "plot_my_learning_curves(X_train, y_train, X_test, y_test, knr, scoring=\"r2\", cv=5, n_jobs=3)"
   ]
  },
  {
   "cell_type": "raw",
   "metadata": {
    "_uuid": "465e5b7360692a3d27769303d9bd6f2d3f9ae10b"
   },
   "source": [
    "from sklearn.feature_selection import SelectFromModel\n",
    "from sklearn.ensemble import RandomForestRegressor\n",
    "select = SelectFromModel(\n",
    "    RandomForestRegressor(n_estimators=100, random_state=42),\n",
    "    threshold=\"median\")\n",
    "\n",
    "knr = make_pipeline(\n",
    "    select,\n",
    "    #RobustScaler(),\n",
    "    KNeighborsRegressor(**best_params)\n",
    ")\n",
    "\n",
    "evalModelByCV(knr, X_train, y_train)\n",
    "\n",
    "plot_my_learning_curves(X_train, y_train, X_test, y_test, knr, scoring=\"r2\", cv=5, n_jobs=3)"
   ]
  },
  {
   "cell_type": "raw",
   "metadata": {
    "_uuid": "28773957fc880bc854f8f37b71310d4f21d0f506"
   },
   "source": [
    "from sklearn.decomposition import PCA\n",
    "\n",
    "knr = make_pipeline(\n",
    "    PCA(n_components=200),\n",
    "    #RobustScaler(),\n",
    "    #KNeighborsRegressor(**best_params),\n",
    "    KNeighborsRegressor(n_neighbors=30),\n",
    "    \n",
    ")\n",
    "\n",
    "evalModelByCV(knr, X_train, y_train)\n",
    "\n",
    "plot_my_learning_curves(X_train, y_train, X_test, y_test, knr, scoring=\"r2\", cv=5, n_jobs=3)"
   ]
  },
  {
   "cell_type": "code",
   "execution_count": null,
   "metadata": {
    "_uuid": "9cabb9d2221b89746f886549d2b97c63eaa04349",
    "collapsed": true
   },
   "outputs": [],
   "source": []
  },
  {
   "cell_type": "code",
   "execution_count": null,
   "metadata": {
    "_uuid": "b8106136a07c59210fed6404174b86e8e0beb0b3",
    "collapsed": true
   },
   "outputs": [],
   "source": []
  },
  {
   "cell_type": "markdown",
   "metadata": {
    "_uuid": "04bf28546741479eb80913a8a170a1fae6983118"
   },
   "source": [
    "## Random forest"
   ]
  },
  {
   "cell_type": "code",
   "execution_count": null,
   "metadata": {
    "_uuid": "659383dfa00469ed58eca5c1bfeab8216e5fc959",
    "collapsed": true
   },
   "outputs": [],
   "source": [
    "ranfore = make_pipeline(\n",
    "        #RobustScaler(),\n",
    "        RandomForestRegressor()\n",
    ")\n",
    "\n",
    "par_space = {\n",
    "    'n_estimators':hp.choice('n_estimators', np.arange(1, 100, dtype=int)),\n",
    "    'max_features':hp.choice('max_features', np.arange(1, 300, dtype=int)),\n",
    "    'max_depth':hp.choice('max_depth', np.arange(1, 300, dtype=int)),\n",
    "    'min_samples_split':hp.choice('min_samples_split', np.arange(2, 10, dtype=int)),\n",
    "    'min_samples_leaf':hp.choice('min_samples_leaf', np.arange(1, 9, dtype=int)),   \n",
    "}"
   ]
  },
  {
   "cell_type": "code",
   "execution_count": null,
   "metadata": {
    "_uuid": "7fb7453de23f27a418c6f954a8d66081aecb1601",
    "collapsed": true
   },
   "outputs": [],
   "source": [
    "best_params = searchHyperParam(ranfore, par_space, X_train, y_train, scoring=\"r2\", max_evals=max_evals, cv_size=cv_size, n_jobs=n_jobs)\n",
    "best_params"
   ]
  },
  {
   "cell_type": "code",
   "execution_count": null,
   "metadata": {
    "_uuid": "9a57adaec1b1761c8809761904b07cc82eafce8c",
    "collapsed": true
   },
   "outputs": [],
   "source": [
    "best_params = {'max_depth': 5,\n",
    " 'max_features': 226,\n",
    " 'min_samples_leaf': 5,\n",
    " 'min_samples_split': 3,\n",
    " 'n_estimators': 56}"
   ]
  },
  {
   "cell_type": "code",
   "execution_count": null,
   "metadata": {
    "_uuid": "c5d244ef6854e22dbb2be264b023da8a64f2c8a9",
    "collapsed": true
   },
   "outputs": [],
   "source": [
    "ranfore.steps[-1][1].set_params(**best_params)\n",
    "\n",
    "evalModelByCV(ranfore, X_train, y_train)\n",
    "plot_my_learning_curves(X_train, y_train, X_test, y_test, ranfore, scoring=\"r2\", cv=5, n_jobs=n_jobs)\n",
    "# plot feature importance\n",
    "pd.concat((pd.DataFrame(X_train.columns, columns = ['variable']), \n",
    "           pd.DataFrame(ranfore.named_steps[\"randomforestregressor\"].feature_importances_, columns = ['importance'])), \n",
    "          axis = 1).sort_values(by='importance', ascending = False)"
   ]
  },
  {
   "cell_type": "code",
   "execution_count": null,
   "metadata": {
    "_uuid": "e7eaf31576094f3999599cea50e79bf571ba42ce",
    "collapsed": true
   },
   "outputs": [],
   "source": []
  },
  {
   "cell_type": "raw",
   "metadata": {
    "_uuid": "f47516e0d6783bc06118a544994431b13f13130c"
   },
   "source": [
    "# DO NOT USE !!: using old searchHyperParam()\n",
    "\n",
    "par_space = {\n",
    "    'n_estimators':hp.choice('n_estimators', np.arange(1, 100, dtype=int)),\n",
    "    'max_features':hp.choice('max_features', np.arange(1, 300, dtype=int)),\n",
    "    'max_depth':hp.choice('max_depth', np.arange(1, 300, dtype=int)),\n",
    "    'min_samples_split':hp.choice('min_samples_split', np.arange(2, 10, dtype=int)),\n",
    "    'min_samples_leaf':hp.choice('min_samples_leaf', np.arange(1, 9, dtype=int)),   \n",
    "}\n",
    "\n",
    "best_params = searchHyperParam(\"RandomForestRegressor\", par_space, X_train, y_train, scoring=\"r2\", max_evals=max_evals, cv_size=cv_size, n_jobs=3)\n",
    "best_params\n",
    "\n"
   ]
  },
  {
   "cell_type": "raw",
   "metadata": {
    "_uuid": "8fe71ba9386dfdd67f7aef983060e427db4b4145"
   },
   "source": [
    "best_params = {'max_depth': 5,\n",
    " 'max_features': 226,\n",
    " 'min_samples_leaf': 5,\n",
    " 'min_samples_split': 3,\n",
    " 'n_estimators': 56}"
   ]
  },
  {
   "cell_type": "raw",
   "metadata": {
    "_uuid": "439630675235c502abd5bf1146e233a63696c528"
   },
   "source": [
    "# DO NOT USE !!: using old searchHyperParam()\n",
    "\n",
    "ranfore = make_pipeline(\n",
    "        #RobustScaler(),\n",
    "        RandomForestRegressor(**best_params)\n",
    ")\n",
    "\n",
    "evalModelByCV(ranfore, X_train, y_train)\n",
    "\n",
    "\n",
    "plot_my_learning_curves(X_train, y_train, X_test, y_test, ranfore, scoring=\"r2\", cv=5, n_jobs=3)\n",
    "\n",
    "# plot feature importance\n",
    "pd.concat((pd.DataFrame(X_train.columns, columns = ['variable']), \n",
    "           pd.DataFrame(ranfore.named_steps[\"randomforestregressor\"].feature_importances_, columns = ['importance'])), \n",
    "          axis = 1).sort_values(by='importance', ascending = False)"
   ]
  },
  {
   "cell_type": "code",
   "execution_count": null,
   "metadata": {
    "_uuid": "3671ee680d658db4cc9db2822f9ea3b79be0efbb",
    "collapsed": true
   },
   "outputs": [],
   "source": []
  },
  {
   "cell_type": "code",
   "execution_count": null,
   "metadata": {
    "_uuid": "052c14fddd354fdf08b0de84942c24544d140e90",
    "collapsed": true
   },
   "outputs": [],
   "source": []
  },
  {
   "cell_type": "code",
   "execution_count": null,
   "metadata": {
    "_uuid": "d3ca2163bdd2eab3eba8b5fe38e834deeabcb330",
    "collapsed": true
   },
   "outputs": [],
   "source": []
  },
  {
   "cell_type": "markdown",
   "metadata": {
    "_uuid": "3d6dc7b72e03a6cb97cae29e679ecd98cb5136ae"
   },
   "source": [
    "## gradient boosting"
   ]
  },
  {
   "cell_type": "code",
   "execution_count": null,
   "metadata": {
    "_uuid": "8b876066b4849f14a12b35d217b17937a1ed861c",
    "collapsed": true
   },
   "outputs": [],
   "source": [
    "gboostreg = make_pipeline(\n",
    "        #RobustScaler(),\n",
    "        GradientBoostingRegressor()\n",
    ")\n",
    "\n",
    "loss_list = ['ls', 'lad', 'huber', 'quantile']\n",
    "\n",
    "par_space = {\n",
    "    'n_estimators':hp.choice('n_estimators', np.arange(1, 100, dtype=int)),\n",
    "    'learning_rate':hp.uniform('learning_rate', 0.000000001, 1.0),\n",
    "    'max_features':hp.choice('max_features', np.arange(1, 300, dtype=int)),\n",
    "    'max_depth':hp.choice('max_depth', np.arange(1, 300, dtype=int)),\n",
    "    'min_samples_split':hp.choice('min_samples_split', np.arange(2, 30, dtype=int)),\n",
    "    'min_samples_leaf':hp.choice('min_samples_leaf', np.arange(1, 29, dtype=int)),\n",
    "    'loss':hp.choice('loss', loss_list),\n",
    "    #'subsample':hp.uniform('learning_rate', 0.0, 1.0),\n",
    "    \n",
    "}\n"
   ]
  },
  {
   "cell_type": "code",
   "execution_count": null,
   "metadata": {
    "_uuid": "ab2bff60da6f6caefa452927e97a8b22bd0ad2ee",
    "collapsed": true
   },
   "outputs": [],
   "source": [
    "best_params = searchHyperParam(gboostreg, par_space, X_train, y_train, scoring=\"r2\", max_evals=max_evals, cv_size=cv_size, n_jobs=n_jobs)\n",
    "best_params[\"loss\"] = loss_list[best_params[\"loss\"]]\n",
    "best_params"
   ]
  },
  {
   "cell_type": "code",
   "execution_count": null,
   "metadata": {
    "_uuid": "f1b590d0cf95f5f2eac2352bb599185e84576694",
    "collapsed": true
   },
   "outputs": [],
   "source": [
    "best_params = {'learning_rate': 0.35189025799801155,\n",
    " 'loss': 'huber',\n",
    " 'max_depth': 3,\n",
    " 'max_features': 119,\n",
    " 'min_samples_leaf': 16,\n",
    " 'min_samples_split': 19,\n",
    " 'n_estimators': 48}"
   ]
  },
  {
   "cell_type": "code",
   "execution_count": null,
   "metadata": {
    "_uuid": "33e7529c1acd85b8c8b2bdb9633f4be3bdbfd703",
    "collapsed": true
   },
   "outputs": [],
   "source": [
    "gboostreg.steps[-1][1].set_params(**best_params)\n",
    "\n",
    "evalModelByCV(gboostreg, X_train, y_train)\n",
    "plot_my_learning_curves(X_train, y_train, X_test, y_test, gboostreg, scoring=\"r2\", cv=5, n_jobs=n_jobs)\n",
    "# plot feature importance\n",
    "pd.concat((pd.DataFrame(X_train.columns, columns = ['variable']), \n",
    "           pd.DataFrame(gboostreg.named_steps[\"gradientboostingregressor\"].feature_importances_, columns = ['importance'])), \n",
    "          axis = 1).sort_values(by='importance', ascending = False)"
   ]
  },
  {
   "cell_type": "code",
   "execution_count": null,
   "metadata": {
    "_uuid": "dae320f8ab59ba4cc466ce7586f54a2508778c8b",
    "collapsed": true
   },
   "outputs": [],
   "source": []
  },
  {
   "cell_type": "code",
   "execution_count": null,
   "metadata": {
    "_uuid": "0adcae6b1ee02533047371f63ed6fcf009b8ec10",
    "collapsed": true
   },
   "outputs": [],
   "source": []
  },
  {
   "cell_type": "raw",
   "metadata": {
    "_uuid": "0aef57520884866723901c50a19e9e58b936fb6f"
   },
   "source": [
    "# DO NOT USE !!: using old searchHyperParam()\n",
    "\n",
    "loss_list = ['ls', 'lad', 'huber', 'quantile']\n",
    "\n",
    "par_space = {\n",
    "    'n_estimators':hp.choice('n_estimators', np.arange(1, 100, dtype=int)),\n",
    "    'learning_rate':hp.uniform('learning_rate', 0.000000001, 1.0),\n",
    "    'max_features':hp.choice('max_features', np.arange(1, 300, dtype=int)),\n",
    "    'max_depth':hp.choice('max_depth', np.arange(1, 300, dtype=int)),\n",
    "    'min_samples_split':hp.choice('min_samples_split', np.arange(2, 30, dtype=int)),\n",
    "    'min_samples_leaf':hp.choice('min_samples_leaf', np.arange(1, 29, dtype=int)),\n",
    "    'loss':hp.choice('loss', loss_list),\n",
    "    #'subsample':hp.uniform('learning_rate', 0.0, 1.0),\n",
    "    \n",
    "}\n",
    "\n",
    "best_params = searchHyperParam(\"GradientBoostingRegressor\", par_space, X_train, y_train,\n",
    "                               scoring=\"r2\", max_evals=max_evals, cv_size=cv_size, n_jobs=3)\n",
    "\n",
    "\n",
    "best_params[\"loss\"] = loss_list[best_params[\"loss\"]]\n",
    "best_params\n",
    "\n"
   ]
  },
  {
   "cell_type": "raw",
   "metadata": {
    "_uuid": "be78435f371b42affc2170757b40398c3f129cbd"
   },
   "source": [
    "best_params = {'learning_rate': 0.35189025799801155,\n",
    " 'loss': 'huber',\n",
    " 'max_depth': 3,\n",
    " 'max_features': 119,\n",
    " 'min_samples_leaf': 16,\n",
    " 'min_samples_split': 19,\n",
    " 'n_estimators': 48}"
   ]
  },
  {
   "cell_type": "raw",
   "metadata": {
    "_uuid": "d1b255ceac9627f1ba25620ee584c83746d40bdf"
   },
   "source": [
    "# DO NOT USE !!: using old searchHyperParam()\n",
    "\n",
    "gboostreg = make_pipeline(\n",
    "        #RobustScaler(),\n",
    "        GradientBoostingRegressor(**best_params)\n",
    ")\n",
    "\n",
    "\n",
    "evalModelByCV(gboostreg, X_train, y_train)\n",
    "\n",
    "plot_my_learning_curves(X_train, y_train, X_test, y_test, gboostreg, scoring=\"r2\", cv=5, n_jobs=3)\n",
    "\n",
    "# plot feature importance\n",
    "pd.concat((pd.DataFrame(X_train.columns, columns = ['variable']), \n",
    "           pd.DataFrame(gboostreg.named_steps[\"gradientboostingregressor\"].feature_importances_, columns = ['importance'])), \n",
    "          axis = 1).sort_values(by='importance', ascending = False)"
   ]
  },
  {
   "cell_type": "code",
   "execution_count": null,
   "metadata": {
    "_uuid": "f3bb6f6caff36da1746f4e67058e7ed083ba7253",
    "collapsed": true
   },
   "outputs": [],
   "source": []
  },
  {
   "cell_type": "code",
   "execution_count": null,
   "metadata": {
    "_uuid": "55e193005be79e57e5a92dd09cc60574c1ac301b",
    "collapsed": true
   },
   "outputs": [],
   "source": []
  },
  {
   "cell_type": "markdown",
   "metadata": {
    "_uuid": "ed45a4f0f51c84449a97bf7ed5a75f6d7f9efdea"
   },
   "source": [
    "## XGBoost"
   ]
  },
  {
   "cell_type": "code",
   "execution_count": null,
   "metadata": {
    "_uuid": "00b2032403b2967a5d9f5e5176b6e6d57d5bcead",
    "collapsed": true
   },
   "outputs": [],
   "source": [
    "xgbmodel = make_pipeline(\n",
    "        #RobustScaler(),\n",
    "        XGBRegressor()\n",
    ")\n",
    "\n",
    "\n",
    "par_space = {\n",
    "    'n_estimators':hp.choice('n_estimators', np.arange(1, 100, dtype=int)),\n",
    "    'learning_rate':hp.uniform('learning_rate', 0.000000001, 1.0),\n",
    "    'max_depth':hp.choice('max_depth', np.arange(1, 300, dtype=int)), \n",
    "    'gamma':hp.uniform('gamma', 0.0, 5.0),\n",
    "    'min_child_weight':hp.uniform('min_child_weight', 0.0, 5.0),\n",
    "    'subsample': hp.uniform('subsample', 0.0, 1.0),\n",
    "    'colsample_bytree': hp.uniform('colsample_bytree', 0.0, 1.0),\n",
    "    'reg_alpha': hp.loguniform('reg_alpha', -6, 2),\n",
    "    'reg_lambda': hp.loguniform('reg_lambda', -6, 2),\n",
    "    'learning_rate': hp.uniform('learning_rate', 0.000000001, 1.0),\n",
    "}"
   ]
  },
  {
   "cell_type": "code",
   "execution_count": null,
   "metadata": {
    "_uuid": "45b13d10dbb4cd48f40a93b089d1473a6d4b9176",
    "collapsed": true,
    "scrolled": false
   },
   "outputs": [],
   "source": [
    "best_params = searchHyperParam(xgbmodel, par_space, X_train, y_train, scoring=\"r2\", max_evals=max_evals, cv_size=cv_size, n_jobs=n_jobs)\n",
    "best_params"
   ]
  },
  {
   "cell_type": "code",
   "execution_count": null,
   "metadata": {
    "_uuid": "01464b9c81b507a3cd49d2deae71babac0e3c280",
    "collapsed": true
   },
   "outputs": [],
   "source": [
    "best_params = {'colsample_bytree': 0.4708332878894328,\n",
    " 'gamma': 4.468853259609137,\n",
    " 'learning_rate': 0.05617427300476756,\n",
    " 'max_depth': 227,\n",
    " 'min_child_weight': 1.8959293704519609,\n",
    " 'n_estimators': 69,\n",
    " 'reg_alpha': 0.011073130482133953,\n",
    " 'reg_lambda': 0.00429738591644784,\n",
    " 'subsample': 0.034785099220768445}"
   ]
  },
  {
   "cell_type": "code",
   "execution_count": null,
   "metadata": {
    "_uuid": "ea6e730a40483823e56173024a45023f15ed99e1",
    "collapsed": true
   },
   "outputs": [],
   "source": [
    "xgbmodel.steps[-1][1].set_params(**best_params)\n",
    "\n",
    "evalModelByCV(xgbmodel, X_train, y_train)\n",
    "plot_my_learning_curves(X_train, y_train, X_test, y_test, xgbmodel, scoring=\"r2\", cv=5, n_jobs=n_jobs)\n",
    "\n",
    "\n",
    "xgb.plot_importance(xgbmodel.named_steps[\"xgbregressor\"], max_num_features=15)\n",
    "plt.show()\n",
    "\n",
    "# plot feature importance\n",
    "pd.concat((pd.DataFrame(X_train.columns, columns = ['variable']), \n",
    "           pd.DataFrame(xgbmodel.named_steps[\"xgbregressor\"].feature_importances_, columns = ['importance'])), \n",
    "          axis = 1).sort_values(by='importance', ascending = False)"
   ]
  },
  {
   "cell_type": "code",
   "execution_count": null,
   "metadata": {
    "_uuid": "768fad7d06ded517ea1316430117fc72bd3307d6",
    "collapsed": true
   },
   "outputs": [],
   "source": []
  },
  {
   "cell_type": "raw",
   "metadata": {
    "_uuid": "416b00a91ffd9e0011dab830ae82269de26e5b9d"
   },
   "source": [
    "max_evals = 100"
   ]
  },
  {
   "cell_type": "raw",
   "metadata": {
    "_uuid": "1f37dbb4451412a7f3720fd44767f3fd769bc8ed"
   },
   "source": [
    "# DO NOT USE !!: using old searchHyperParam()\n",
    "\n",
    "par_space = {\n",
    "    'n_estimators':hp.choice('n_estimators', np.arange(1, 100, dtype=int)),\n",
    "    'learning_rate':hp.uniform('learning_rate', 0.000000001, 1.0),\n",
    "    'max_depth':hp.choice('max_depth', np.arange(1, 300, dtype=int)), \n",
    "    'gamma':hp.uniform('gamma', 0.0, 5.0),\n",
    "    'min_child_weight':hp.uniform('min_child_weight', 0.0, 5.0),\n",
    "    'subsample': hp.uniform('subsample', 0.0, 1.0),\n",
    "    'colsample_bytree': hp.uniform('colsample_bytree', 0.0, 1.0),\n",
    "    'reg_alpha': hp.loguniform('reg_alpha', -6, 2),\n",
    "    'reg_lambda': hp.loguniform('reg_lambda', -6, 2),\n",
    "}\n",
    "\n",
    "best_params = searchHyperParam(\"XGBRegressor\", par_space, X_train, y_train,\n",
    "                               scoring=\"r2\", max_evals=max_evals, cv_size=cv_size, n_jobs=3)\n",
    "best_params\n",
    "\n",
    "\n"
   ]
  },
  {
   "cell_type": "raw",
   "metadata": {
    "_uuid": "48bd5d9f9eee8e3497fa626cadecb177055c259e"
   },
   "source": [
    "# used 100 max_evalus score\n",
    "\n",
    "best_params = "
   ]
  },
  {
   "cell_type": "raw",
   "metadata": {
    "_uuid": "a0e2ca0a33c73d7f6ce3ea36c74599ff825af3c4"
   },
   "source": [
    "# DO NOT USE !!: using old searchHyperParam()\n",
    "\n",
    "\n",
    "xgbmodel = make_pipeline(\n",
    "        #RobustScaler(),\n",
    "        XGBRegressor(**best_params)\n",
    ")\n",
    "\n",
    "evalModelByCV(xgbmodel, X_train, y_train)\n",
    "\n",
    "\n",
    "plot_my_learning_curves(X_train, y_train, X_test, y_test, xgbmodel, scoring=\"r2\", cv=5, n_jobs=3)\n",
    "\n",
    "xgb.plot_importance(xgbmodel.named_steps[\"xgbregressor\"], max_num_features=15)\n",
    "plt.show()\n",
    "\n",
    "# plot feature importance\n",
    "pd.concat((pd.DataFrame(X_train.columns, columns = ['variable']), \n",
    "           pd.DataFrame(xgbmodel.named_steps[\"xgbregressor\"].feature_importances_, columns = ['importance'])), \n",
    "          axis = 1).sort_values(by='importance', ascending = False)\n"
   ]
  },
  {
   "cell_type": "code",
   "execution_count": null,
   "metadata": {
    "_uuid": "e894cda2ebea2e489aa7b8e6e2f1b7d81b5985de",
    "collapsed": true
   },
   "outputs": [],
   "source": []
  },
  {
   "cell_type": "markdown",
   "metadata": {
    "_uuid": "bb2df4796c3f08f28b5435e39fcda129615960fa"
   },
   "source": [
    "## LightGBM"
   ]
  },
  {
   "cell_type": "code",
   "execution_count": null,
   "metadata": {
    "_uuid": "299f3b889c4b8b0a812c154ae2094bad9575d2d1",
    "collapsed": true
   },
   "outputs": [],
   "source": [
    "lgbmodel = make_pipeline(\n",
    "        #RobustScaler(),\n",
    "        LGBMRegressor()\n",
    ")\n",
    "\n",
    "par_space = {\n",
    "    'learning_rate':hp.uniform('learning_rate', 0.000000001, 1.0),\n",
    "    'max_depth':hp.choice('max_depth', np.arange(1, 300, dtype=int)), \n",
    "    'num_leaves':hp.choice('num_leaves', np.arange(2, 100, dtype=int)),\n",
    "    'min_data_in_leaf':hp.choice('min_data_in_leaf', np.arange(1, 100, dtype=int)),\n",
    "    \n",
    "    'n_estimators':hp.choice('n_estimators', np.arange(1, 100, dtype=int)),\n",
    "    'max_bin':hp.choice('max_bin', np.arange(2, 300, dtype=int)),\n",
    "    'bagging_fraction': hp.uniform('bagging_fraction', 0.000000001, 1.0),\n",
    "    'bagging_freq': hp.randint('bagging_freq', 10),\n",
    "    'feature_fraction': hp.uniform('feature_fraction', 0.000000001, 1.0),\n",
    "    'min_sum_hessian_in_leaf': hp.loguniform('min_sum_hessian_in_leaf', -6, 2),\n",
    "}"
   ]
  },
  {
   "cell_type": "code",
   "execution_count": null,
   "metadata": {
    "_uuid": "31439b9adfdfff4bf84563527eb4dfb6a91d77ac",
    "collapsed": true
   },
   "outputs": [],
   "source": [
    "best_params = searchHyperParam(lgbmodel, par_space, X_train, y_train, scoring=\"r2\", max_evals=max_evals, cv_size=cv_size, n_jobs=n_jobs)\n",
    "best_params"
   ]
  },
  {
   "cell_type": "code",
   "execution_count": null,
   "metadata": {
    "_uuid": "59f767b2f483b07964b6ae64298bddaa345d53c3",
    "collapsed": true
   },
   "outputs": [],
   "source": [
    "# used 100 max_evalus score\n",
    "\n",
    "best_params = {'bagging_fraction': 0.6488366999217055,\n",
    " 'bagging_freq': 4,\n",
    " 'feature_fraction': 0.8769912726752449,\n",
    " 'learning_rate': 0.2322285924856258,\n",
    " 'max_bin': 259,\n",
    " 'max_depth': 46,\n",
    " 'min_data_in_leaf': 34,\n",
    " 'min_sum_hessian_in_leaf': 0.011853166137307664,\n",
    " 'n_estimators': 54,\n",
    " 'num_leaves': 3}"
   ]
  },
  {
   "cell_type": "code",
   "execution_count": null,
   "metadata": {
    "_uuid": "4e0d3eea153cbaa75c1a857e32381dd1b7da11c9",
    "collapsed": true
   },
   "outputs": [],
   "source": [
    "lgbmodel.steps[-1][1].set_params(**best_params)\n",
    "\n",
    "\n",
    "evalModelByCV(lgbmodel, X_train, y_train)\n",
    "\n",
    "\n",
    "plot_my_learning_curves(X_train, y_train, X_test, y_test, lgbmodel, scoring=\"r2\", cv=5, n_jobs=3)\n",
    "\n",
    "# plot feature importance\n",
    "pd.concat((pd.DataFrame(X_train.columns, columns = ['variable']), \n",
    "           pd.DataFrame(lgbmodel.named_steps[\"lgbmregressor\"].feature_importances_, columns = ['importance'])), \n",
    "          axis = 1).sort_values(by='importance', ascending = False)\n"
   ]
  },
  {
   "cell_type": "code",
   "execution_count": null,
   "metadata": {
    "_uuid": "9f6ee69a017cbf8da06c38a1a3b15ad9db4a4e0b",
    "collapsed": true
   },
   "outputs": [],
   "source": []
  },
  {
   "cell_type": "raw",
   "metadata": {
    "_uuid": "ddf46b4b7084f5f1d7c8ad748f6768bf859fb2bb"
   },
   "source": [
    "# DO NOT USE !!: using old searchHyperParam()\n",
    "\n",
    "par_space = {\n",
    "    'learning_rate':hp.uniform('learning_rate', 0.000000001, 1.0),\n",
    "    'max_depth':hp.choice('max_depth', np.arange(1, 300, dtype=int)), \n",
    "    'num_leaves':hp.choice('num_leaves', np.arange(2, 100, dtype=int)),\n",
    "    'min_data_in_leaf':hp.choice('min_data_in_leaf', np.arange(1, 100, dtype=int)),\n",
    "    \n",
    "    'n_estimators':hp.choice('n_estimators', np.arange(1, 100, dtype=int)),\n",
    "    'max_bin':hp.choice('max_bin', np.arange(2, 300, dtype=int)),\n",
    "    'bagging_fraction': hp.uniform('bagging_fraction', 0.000000001, 1.0),\n",
    "    'bagging_freq': hp.randint('bagging_freq', 10),\n",
    "    'feature_fraction': hp.uniform('feature_fraction', 0.000000001, 1.0),\n",
    "    'min_sum_hessian_in_leaf': hp.loguniform('min_sum_hessian_in_leaf', -6, 2),\n",
    "}\n",
    "\n",
    "best_params = searchHyperParam(\"LGBMRegressor\", par_space, X_train, y_train,\n",
    "                               scoring=\"r2\", max_evals=max_evals, cv_size=cv_size, n_jobs=3)\n",
    "best_params\n",
    "\n",
    "\n"
   ]
  },
  {
   "cell_type": "raw",
   "metadata": {
    "_uuid": "d37c69984cc5977578c2e6a0cb0a16644d9fa666"
   },
   "source": [
    "# 100\n",
    "model name: LGBMRegressor\n",
    "best par for :  LGBMRegressor ->  {'bagging_fraction': 0.6488366999217055, 'bagging_freq': 4, 'feature_fraction': 0.8769912726752449, 'learning_rate': 0.2322285924856258, 'max_bin': 259, 'max_depth': 46, 'min_data_in_leaf': 34, 'min_sum_hessian_in_leaf': 0.011853166137307664, 'n_estimators': 54, 'num_leaves': 3}\n",
    "best trial:  {'loss': -0.5833468828137855, 'status': 'ok'}\n",
    "\n",
    "{'bagging_fraction': 0.6488366999217055,\n",
    " 'bagging_freq': 4,\n",
    " 'feature_fraction': 0.8769912726752449,\n",
    " 'learning_rate': 0.2322285924856258,\n",
    " 'max_bin': 259,\n",
    " 'max_depth': 46,\n",
    " 'min_data_in_leaf': 34,\n",
    " 'min_sum_hessian_in_leaf': 0.011853166137307664,\n",
    " 'n_estimators': 54,\n",
    " 'num_leaves': 3}"
   ]
  },
  {
   "cell_type": "raw",
   "metadata": {
    "_uuid": "2f080421ed794ef5ea301561c1b0e37d758f3863"
   },
   "source": [
    "# 200\n"
   ]
  },
  {
   "cell_type": "raw",
   "metadata": {
    "_uuid": "a066c1fe61171f0842e3357511dde9f90db4cf4f"
   },
   "source": [
    "# 400\n",
    "\n",
    "model name: LGBMRegressor\n",
    "best par for :  LGBMRegressor ->  {'bagging_fraction': 0.8322947111297709, 'bagging_freq': 0, 'feature_fraction': 0.5810120966821016, 'learning_rate': 0.16349078748756532, 'max_bin': 225, 'max_depth': 38, 'min_data_in_leaf': 43, 'min_sum_hessian_in_leaf': 0.03261236613336883, 'n_estimators': 36, 'num_leaves': 2}\n",
    "best trial:  {'loss': -0.6001199084785085, 'status': 'ok'}\n",
    "\n",
    "{'bagging_fraction': 0.8322947111297709,\n",
    " 'bagging_freq': 0,\n",
    " 'feature_fraction': 0.5810120966821016,\n",
    " 'learning_rate': 0.16349078748756532,\n",
    " 'max_bin': 225,\n",
    " 'max_depth': 38,\n",
    " 'min_data_in_leaf': 43,\n",
    " 'min_sum_hessian_in_leaf': 0.03261236613336883,\n",
    " 'n_estimators': 36,\n",
    " 'num_leaves': 2}\n"
   ]
  },
  {
   "cell_type": "raw",
   "metadata": {
    "_uuid": "3bee479dffa7b16726ba2cbc63a2547204e5cfb2",
    "code_folding": []
   },
   "source": [
    "# used 100 max_evalus score\n",
    "\n",
    "best_params = {'bagging_fraction': 0.6488366999217055,\n",
    " 'bagging_freq': 4,\n",
    " 'feature_fraction': 0.8769912726752449,\n",
    " 'learning_rate': 0.2322285924856258,\n",
    " 'max_bin': 259,\n",
    " 'max_depth': 46,\n",
    " 'min_data_in_leaf': 34,\n",
    " 'min_sum_hessian_in_leaf': 0.011853166137307664,\n",
    " 'n_estimators': 54,\n",
    " 'num_leaves': 3}"
   ]
  },
  {
   "cell_type": "raw",
   "metadata": {
    "_uuid": "40c1b0830b00badbe9e7a0fdae3ff2cd2619bbbf"
   },
   "source": [
    "# DO NOT USE !!: using old searchHyperParam()\n",
    "\n",
    "lgbmodel = make_pipeline(\n",
    "        #RobustScaler(),\n",
    "        LGBMRegressor(**best_params)\n",
    ")\n",
    "\n",
    "evalModelByCV(lgbmodel, X_train, y_train)\n",
    "\n",
    "\n",
    "plot_my_learning_curves(X_train, y_train, X_test, y_test, lgbmodel, scoring=\"r2\", cv=5, n_jobs=3)\n",
    "\n",
    "#xgb.plot_importance(lgbmodel.named_steps[\"lgbmregressor\"], max_num_features=15)\n",
    "#plt.show()\n",
    "\n",
    "# plot feature importance\n",
    "pd.concat((pd.DataFrame(X_train.columns, columns = ['variable']), \n",
    "           pd.DataFrame(lgbmodel.named_steps[\"lgbmregressor\"].feature_importances_, columns = ['importance'])), \n",
    "          axis = 1).sort_values(by='importance', ascending = False)\n"
   ]
  },
  {
   "cell_type": "code",
   "execution_count": null,
   "metadata": {
    "_uuid": "8c82d0e96780076b0473bdb166b654ff8b4b6185",
    "collapsed": true
   },
   "outputs": [],
   "source": []
  },
  {
   "cell_type": "code",
   "execution_count": null,
   "metadata": {
    "_uuid": "7dbd20688cad8a6b9a42968676d8bf4e71fcb42e",
    "collapsed": true
   },
   "outputs": [],
   "source": []
  },
  {
   "cell_type": "code",
   "execution_count": null,
   "metadata": {
    "_uuid": "f905330878dcd2e3d1b9344d2837c6feff784f4c",
    "collapsed": true
   },
   "outputs": [],
   "source": []
  },
  {
   "cell_type": "code",
   "execution_count": null,
   "metadata": {
    "_uuid": "d7c1be0541df0d87ce49e37ae7eb7c5a546cecc3",
    "collapsed": true
   },
   "outputs": [],
   "source": []
  },
  {
   "cell_type": "code",
   "execution_count": null,
   "metadata": {
    "_uuid": "1537d713c2515e543f24d9795161460843d0cc80",
    "collapsed": true
   },
   "outputs": [],
   "source": []
  },
  {
   "cell_type": "code",
   "execution_count": null,
   "metadata": {
    "_uuid": "2256ac7ad8b78a762890b4eca86db366336a54b0",
    "collapsed": true
   },
   "outputs": [],
   "source": []
  },
  {
   "cell_type": "markdown",
   "metadata": {
    "_uuid": "45aea319ef3a2cdfc5c35d26d3b6c1624ef4279c"
   },
   "source": [
    "### tried categorical_feature, but object type is not supported yet.\n",
    "https://github.com/Microsoft/LightGBM/issues/1020"
   ]
  },
  {
   "cell_type": "raw",
   "metadata": {
    "_uuid": "1a09a538c275c4e00011c979ec20fa2b6ee80bec"
   },
   "source": [
    "obj_columns.head()"
   ]
  },
  {
   "cell_type": "raw",
   "metadata": {
    "_uuid": "516895c7f6aa5cd47a639e0116f3b4233e39735f"
   },
   "source": [
    "X_train.head()"
   ]
  },
  {
   "cell_type": "raw",
   "metadata": {
    "_uuid": "437e3da80ab9ba0553b271aeb74b05b85e5f5f85"
   },
   "source": [
    "list(obj_columns.columns.values)"
   ]
  },
  {
   "cell_type": "raw",
   "metadata": {
    "_uuid": "877b7668432bc52e6d5c29927720c257767ebbe7"
   },
   "source": [
    "model_lgb = lgb.LGBMRegressor(\n",
    "    objective='regression',\n",
    "    num_leaves=5,\n",
    "    learning_rate=0.05,\n",
    "    n_estimators=720,\n",
    "    max_bin = 55,\n",
    "    bagging_fraction = 0.8,\n",
    "    bagging_freq = 5,\n",
    "    feature_fraction = 0.2319,\n",
    "    feature_fraction_seed=9,\n",
    "    bagging_seed=9,\n",
    "    min_data_in_leaf =6,\n",
    "    min_sum_hessian_in_leaf = 11,\n",
    "#    verbose=1,\n",
    "#    n_jobs=3\n",
    ")\n",
    "score = cross_val_score(model_lgb, X_train_with_cat, y_train_with_cat, scoring=\"r2\", cv=5,\n",
    "                       #fit_params={\"categorical_feature\":list(obj_columns.columns.values)}\n",
    "                       )\n",
    "\n",
    "print(\"svr score: {0} ({1})\\n\".format(\n",
    "    score.mean(), score.std()))"
   ]
  },
  {
   "cell_type": "markdown",
   "metadata": {
    "_uuid": "9e3174f31cabd24cde6f6d05d0295a9eb6f7a1d3"
   },
   "source": [
    "## catboost"
   ]
  },
  {
   "cell_type": "code",
   "execution_count": null,
   "metadata": {
    "_uuid": "b3ba08be2f59e7ac7e66456810716bbffead3f4d",
    "collapsed": true,
    "scrolled": false
   },
   "outputs": [],
   "source": [
    "from catboost import CatBoostRegressor\n",
    "\n",
    "print(list(obj_columns.columns.values))\n",
    "print(cat_dims)"
   ]
  },
  {
   "cell_type": "code",
   "execution_count": null,
   "metadata": {
    "_uuid": "316e87a9cbab7fb6295f713b4af5dea464c9afa8",
    "collapsed": true,
    "scrolled": false
   },
   "outputs": [],
   "source": [
    "X_train_with_cat.head()"
   ]
  },
  {
   "cell_type": "code",
   "execution_count": null,
   "metadata": {
    "_uuid": "043e551eb24cf2d4d1ca09e834cd619d4fa90862",
    "collapsed": true,
    "scrolled": false
   },
   "outputs": [],
   "source": [
    "catReg = CatBoostRegressor(learning_rate=1,\n",
    "                          depth=6,\n",
    "                          loss_function='RMSE')\n",
    "\n",
    "fit_model = catReg.fit(X_train_with_cat, y_train_with_cat, cat_features=cat_dims)\n"
   ]
  },
  {
   "cell_type": "code",
   "execution_count": null,
   "metadata": {
    "_uuid": "4915ff78f9784c3f8d5597ca037815dca458088f",
    "collapsed": true
   },
   "outputs": [],
   "source": []
  },
  {
   "cell_type": "code",
   "execution_count": null,
   "metadata": {
    "_uuid": "483afb75061db3843a76e3a31c2ff1e6dd5abc95",
    "collapsed": true
   },
   "outputs": [],
   "source": []
  },
  {
   "cell_type": "markdown",
   "metadata": {
    "_uuid": "084a5137ac0eaed337da8988bc5525b6bc54a606"
   },
   "source": [
    "## TPOT"
   ]
  },
  {
   "cell_type": "raw",
   "metadata": {
    "_uuid": "26bd98e8daeaa9726d272c86104adc0286089348"
   },
   "source": [
    "from tpot import TPOTRegressor\n",
    "\n",
    "tpot = TPOTRegressor(\n",
    "    generations=30, \n",
    "    population_size=10, \n",
    "    verbosity=1,\n",
    "    early_stop=10,\n",
    "    n_jobs=n_jobs,\n",
    "    scoring='r2'\n",
    "#    mutation_rate=0.5,\n",
    "#    crossover_rate=0.5,\n",
    "#    config_dict='TPOT MDR',\n",
    ")\n",
    "\n",
    "# mutation_rate: default 0.9, crossover_rate: default 0.1\n",
    "# mutation_rate=0.5, crossover_rate=0.5)\n",
    "# , config_dict='TPOT MDR' should be better, but became fast and low score...\n",
    "\n",
    "tpot.fit(X_train, y_train)\n",
    "\n",
    "print(\"test\", tpot.score(X_test, y_test))\n",
    "\n",
    "#tpot.export('tpot_'+ time.strftime(\"%Y-%m-%d-%H-%M-%S\") + '.py')"
   ]
  },
  {
   "cell_type": "code",
   "execution_count": null,
   "metadata": {
    "_uuid": "92ac9acef64699924fd510451e39b602b24958ce",
    "collapsed": true
   },
   "outputs": [],
   "source": []
  },
  {
   "cell_type": "markdown",
   "metadata": {
    "_uuid": "66397897e5196469cf3ff5cee56acc6546f3c858"
   },
   "source": [
    "## todo\n",
    "\n",
    "how to use R2 for scoring for catboost\n",
    "\n",
    "https://tech.yandex.com/catboost/doc/dg/concepts/loss-functions-docpage/"
   ]
  },
  {
   "cell_type": "code",
   "execution_count": null,
   "metadata": {
    "_uuid": "6d6dfe98d1eeecb44d02112c027fb6b3daf9f664",
    "collapsed": true
   },
   "outputs": [],
   "source": []
  },
  {
   "cell_type": "markdown",
   "metadata": {
    "_uuid": "b934d243cbead60935d201ad8cad33591efea5ae"
   },
   "source": [
    "\n",
    "# Stacking"
   ]
  },
  {
   "cell_type": "code",
   "execution_count": null,
   "metadata": {
    "_uuid": "56dc89d60c371f48a37044670fd37db88309d4d0",
    "collapsed": true,
    "scrolled": true
   },
   "outputs": [],
   "source": [
    "# svr, lasso, elasticnet, krr, knr, ranfore, gboostreg, xgbmodel\n",
    "\n",
    "stregr = StackingRegressor(regressors=[\n",
    "    svr,\n",
    "    lasso, \n",
    "    #elasticnet, \n",
    "    #krr, \n",
    "    #knr, \n",
    "    ranfore, \n",
    "    gboostreg, \n",
    "    xgbmodel,\n",
    "    lgbmodel,\n",
    "],\n",
    "                           meta_regressor=elasticnet)\n",
    "\n",
    "\n",
    "evalModelByCV(stregr, X_train, y_train)\n",
    "\n",
    "\n",
    "plot_my_learning_curves(X_train, y_train, X_test, y_test, stregr, scoring=\"r2\", cv=5, n_jobs=n_jobs)\n",
    "\n"
   ]
  },
  {
   "cell_type": "code",
   "execution_count": null,
   "metadata": {
    "_uuid": "c6e05ef4eea61249c9149252633368db55427610",
    "collapsed": true,
    "scrolled": false
   },
   "outputs": [],
   "source": [
    "# https://rasbt.github.io/mlxtend/api_subpackages/mlxtend.regressor/\n",
    "stregr.coef_"
   ]
  },
  {
   "cell_type": "code",
   "execution_count": null,
   "metadata": {
    "_uuid": "a19e8d31d4cdb71fd10223003364ecae338a5fda",
    "collapsed": true
   },
   "outputs": [],
   "source": [
    "# Training the stacking classifier with all train data\n",
    "\n",
    "stregr.fit(train_df, y_train_df)"
   ]
  },
  {
   "cell_type": "code",
   "execution_count": null,
   "metadata": {
    "_uuid": "614f4d98befd44b85dee23fd790220f8956ddb44",
    "collapsed": true
   },
   "outputs": [],
   "source": []
  },
  {
   "cell_type": "code",
   "execution_count": null,
   "metadata": {
    "_uuid": "7204aa150cf5f6c8cede602a2a170f37197a21af",
    "collapsed": true
   },
   "outputs": [],
   "source": []
  },
  {
   "cell_type": "markdown",
   "metadata": {
    "_uuid": "cd46ae2a7060931fdaaa967bbcecd83ea2277543"
   },
   "source": [
    "# Make submission file\n",
    "https://www.kaggle.com/c/mercedes-benz-greener-manufacturing/submissions?sortBy=date&group=all&page=1"
   ]
  },
  {
   "cell_type": "code",
   "execution_count": null,
   "metadata": {
    "_uuid": "401db93b4f4f74f25ce6b4bb2fbfb1370b26feab",
    "collapsed": true
   },
   "outputs": [],
   "source": [
    "sub = pd.DataFrame()\n",
    "sub['ID'] = id_test_df\n",
    "sub['target'] = np.expm1(stregr.predict(test_df))\n",
    "sub.to_csv('../output/submission.csv', index=False)\n"
   ]
  },
  {
   "cell_type": "code",
   "execution_count": null,
   "metadata": {
    "_uuid": "f81b3a760a6ef8f5b237d30d9c1f6e8f7a1ce9d9",
    "collapsed": true
   },
   "outputs": [],
   "source": []
  },
  {
   "cell_type": "code",
   "execution_count": null,
   "metadata": {
    "_uuid": "916057226c2c5c3940913f2f16870cd368793b9c",
    "collapsed": true
   },
   "outputs": [],
   "source": []
  }
 ],
 "metadata": {
  "kernelspec": {
   "display_name": "Python 3",
   "language": "python",
   "name": "python3"
  },
  "language_info": {
   "codemirror_mode": {
    "name": "ipython",
    "version": 3
   },
   "file_extension": ".py",
   "mimetype": "text/x-python",
   "name": "python",
   "nbconvert_exporter": "python",
   "pygments_lexer": "ipython3",
   "version": "3.6.5"
  },
  "toc": {
   "base_numbering": 1,
   "nav_menu": {
    "height": "390px",
    "width": "474px"
   },
   "number_sections": true,
   "sideBar": true,
   "skip_h1_title": false,
   "title_cell": "Table of Contents",
   "title_sidebar": "Contents",
   "toc_cell": false,
   "toc_position": {
    "height": "calc(100% - 180px)",
    "left": "10px",
    "top": "150px",
    "width": "197px"
   },
   "toc_section_display": true,
   "toc_window_display": true
  },
  "varInspector": {
   "cols": {
    "lenName": 16,
    "lenType": 16,
    "lenVar": 40
   },
   "kernels_config": {
    "python": {
     "delete_cmd_postfix": "",
     "delete_cmd_prefix": "del ",
     "library": "var_list.py",
     "varRefreshCmd": "print(var_dic_list())"
    },
    "r": {
     "delete_cmd_postfix": ") ",
     "delete_cmd_prefix": "rm(",
     "library": "var_list.r",
     "varRefreshCmd": "cat(var_dic_list()) "
    }
   },
   "position": {
    "height": "330px",
    "left": "996px",
    "right": "30px",
    "top": "120px",
    "width": "340px"
   },
   "types_to_exclude": [
    "module",
    "function",
    "builtin_function_or_method",
    "instance",
    "_Feature"
   ],
   "window_display": false
  }
 },
 "nbformat": 4,
 "nbformat_minor": 2
}
