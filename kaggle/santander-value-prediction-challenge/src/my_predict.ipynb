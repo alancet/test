{
  "cells": [
    {
      "metadata": {
        "_uuid": "e459ee3754132b61ab349eecdfbdd333a93b80b1",
        "collapsed": true,
        "trusted": true
      },
      "cell_type": "code",
      "source": "",
      "execution_count": null,
      "outputs": []
    },
    {
      "metadata": {
        "_uuid": "3667b38d14a7f7278c6c2c6f99cae4b1ebd74976",
        "collapsed": true,
        "trusted": true
      },
      "cell_type": "code",
      "source": "%matplotlib inline",
      "execution_count": 1,
      "outputs": []
    },
    {
      "metadata": {
        "_cell_guid": "b1076dfc-b9ad-4769-8c92-a6c4dae69d19",
        "_uuid": "8f2839f25d086af736a60e9eeb907d3b93b6e0e5",
        "trusted": true
      },
      "cell_type": "code",
      "source": "import numpy as np # linear algebra\nimport pandas as pd # data processing, CSV file I/O (e.g. pd.read_csv)\n\nimport os\nprint(os.listdir(\"../input\"))\n",
      "execution_count": 2,
      "outputs": [
        {
          "output_type": "stream",
          "text": "['train.csv', 'sample_submission.csv', 'test.csv']\n",
          "name": "stdout"
        }
      ]
    },
    {
      "metadata": {
        "_cell_guid": "146f2f45-7136-4a87-a674-c1ea4b89cc33",
        "_uuid": "c7ccf983dddbd502eea5fc4d380e57fc7fb7da05",
        "scrolled": true,
        "trusted": true
      },
      "cell_type": "code",
      "source": "import mlxtend\nimport pandas_profiling\n\nimport seaborn as sns\n\nfrom scipy import stats\nfrom scipy.stats import norm, skew #for some statistics\n\nimport matplotlib.pyplot as plt\n\n\nfrom tqdm import tqdm\n",
      "execution_count": 3,
      "outputs": [
        {
          "output_type": "stream",
          "text": "/opt/conda/lib/python3.6/site-packages/pandas_profiling/plot.py:15: UserWarning: \nThis call to matplotlib.use() has no effect because the backend has already\nbeen chosen; matplotlib.use() must be called *before* pylab, matplotlib.pyplot,\nor matplotlib.backends is imported for the first time.\n\nThe backend was *originally* set to 'module://ipykernel.pylab.backend_inline' by the following code:\n  File \"/opt/conda/lib/python3.6/runpy.py\", line 193, in _run_module_as_main\n    \"__main__\", mod_spec)\n  File \"/opt/conda/lib/python3.6/runpy.py\", line 85, in _run_code\n    exec(code, run_globals)\n  File \"/opt/conda/lib/python3.6/site-packages/ipykernel_launcher.py\", line 16, in <module>\n    app.launch_new_instance()\n  File \"/opt/conda/lib/python3.6/site-packages/traitlets/config/application.py\", line 658, in launch_instance\n    app.start()\n  File \"/opt/conda/lib/python3.6/site-packages/ipykernel/kernelapp.py\", line 477, in start\n    ioloop.IOLoop.instance().start()\n  File \"/opt/conda/lib/python3.6/site-packages/zmq/eventloop/ioloop.py\", line 177, in start\n    super(ZMQIOLoop, self).start()\n  File \"/opt/conda/lib/python3.6/site-packages/tornado/ioloop.py\", line 888, in start\n    handler_func(fd_obj, events)\n  File \"/opt/conda/lib/python3.6/site-packages/tornado/stack_context.py\", line 277, in null_wrapper\n    return fn(*args, **kwargs)\n  File \"/opt/conda/lib/python3.6/site-packages/zmq/eventloop/zmqstream.py\", line 440, in _handle_events\n    self._handle_recv()\n  File \"/opt/conda/lib/python3.6/site-packages/zmq/eventloop/zmqstream.py\", line 472, in _handle_recv\n    self._run_callback(callback, msg)\n  File \"/opt/conda/lib/python3.6/site-packages/zmq/eventloop/zmqstream.py\", line 414, in _run_callback\n    callback(*args, **kwargs)\n  File \"/opt/conda/lib/python3.6/site-packages/tornado/stack_context.py\", line 277, in null_wrapper\n    return fn(*args, **kwargs)\n  File \"/opt/conda/lib/python3.6/site-packages/ipykernel/kernelbase.py\", line 283, in dispatcher\n    return self.dispatch_shell(stream, msg)\n  File \"/opt/conda/lib/python3.6/site-packages/ipykernel/kernelbase.py\", line 235, in dispatch_shell\n    handler(stream, idents, msg)\n  File \"/opt/conda/lib/python3.6/site-packages/ipykernel/kernelbase.py\", line 399, in execute_request\n    user_expressions, allow_stdin)\n  File \"/opt/conda/lib/python3.6/site-packages/ipykernel/ipkernel.py\", line 196, in do_execute\n    res = shell.run_cell(code, store_history=store_history, silent=silent)\n  File \"/opt/conda/lib/python3.6/site-packages/ipykernel/zmqshell.py\", line 533, in run_cell\n    return super(ZMQInteractiveShell, self).run_cell(*args, **kwargs)\n  File \"/opt/conda/lib/python3.6/site-packages/IPython/core/interactiveshell.py\", line 2698, in run_cell\n    interactivity=interactivity, compiler=compiler, result=result)\n  File \"/opt/conda/lib/python3.6/site-packages/IPython/core/interactiveshell.py\", line 2808, in run_ast_nodes\n    if self.run_code(code, result):\n  File \"/opt/conda/lib/python3.6/site-packages/IPython/core/interactiveshell.py\", line 2862, in run_code\n    exec(code_obj, self.user_global_ns, self.user_ns)\n  File \"<ipython-input-1-e27d371d6baa>\", line 1, in <module>\n    get_ipython().magic('matplotlib inline')\n  File \"/opt/conda/lib/python3.6/site-packages/IPython/core/interactiveshell.py\", line 2146, in magic\n    return self.run_line_magic(magic_name, magic_arg_s)\n  File \"/opt/conda/lib/python3.6/site-packages/IPython/core/interactiveshell.py\", line 2067, in run_line_magic\n    result = fn(*args,**kwargs)\n  File \"<decorator-gen-107>\", line 2, in matplotlib\n  File \"/opt/conda/lib/python3.6/site-packages/IPython/core/magic.py\", line 187, in <lambda>\n    call = lambda f, *a, **k: f(*a, **k)\n  File \"/opt/conda/lib/python3.6/site-packages/IPython/core/magics/pylab.py\", line 99, in matplotlib\n    gui, backend = self.shell.enable_matplotlib(args.gui)\n  File \"/opt/conda/lib/python3.6/site-packages/IPython/core/interactiveshell.py\", line 2930, in enable_matplotlib\n    pt.activate_matplotlib(backend)\n  File \"/opt/conda/lib/python3.6/site-packages/IPython/core/pylabtools.py\", line 307, in activate_matplotlib\n    matplotlib.pyplot.switch_backend(backend)\n  File \"/opt/conda/lib/python3.6/site-packages/matplotlib/pyplot.py\", line 229, in switch_backend\n    matplotlib.use(newbackend, warn=False, force=True)\n  File \"/opt/conda/lib/python3.6/site-packages/matplotlib/__init__.py\", line 1305, in use\n    reload(sys.modules['matplotlib.backends'])\n  File \"/opt/conda/lib/python3.6/importlib/__init__.py\", line 166, in reload\n    _bootstrap._exec(spec, module)\n  File \"/opt/conda/lib/python3.6/site-packages/matplotlib/backends/__init__.py\", line 14, in <module>\n    line for line in traceback.format_stack()\n\n\n  matplotlib.use(BACKEND)\n",
          "name": "stderr"
        }
      ]
    },
    {
      "metadata": {
        "_cell_guid": "79c7e3d0-c299-4dcb-8224-4455121ee9b0",
        "_uuid": "d629ff2d2480ee46fbb7e2d37f6b5fab8052498a",
        "scrolled": false,
        "trusted": true
      },
      "cell_type": "code",
      "source": "%%time\ntrain_df = pd.read_csv(\"../input/train.csv\")\n",
      "execution_count": 4,
      "outputs": [
        {
          "output_type": "stream",
          "text": "CPU times: user 3.6 s, sys: 372 ms, total: 3.97 s\nWall time: 3.97 s\n",
          "name": "stdout"
        }
      ]
    },
    {
      "metadata": {
        "_uuid": "0c312371b3dc2d71311371d133f79c46d771a89c",
        "trusted": true
      },
      "cell_type": "code",
      "source": "train_df.shape",
      "execution_count": 5,
      "outputs": [
        {
          "output_type": "execute_result",
          "execution_count": 5,
          "data": {
            "text/plain": "(4459, 4993)"
          },
          "metadata": {}
        }
      ]
    },
    {
      "metadata": {
        "_uuid": "4754e1ec02444dff2ba09dc55778dab923b4d523",
        "collapsed": true,
        "trusted": true
      },
      "cell_type": "code",
      "source": "TRAIN_SIZE = train_df.shape[0]",
      "execution_count": 6,
      "outputs": []
    },
    {
      "metadata": {
        "_uuid": "51edb6e160626da1ffafe62adeb6a577208c59ac",
        "trusted": true
      },
      "cell_type": "code",
      "source": "%%time\ntest_df = pd.read_csv(\"../input/test.csv\",\n                     nrows=TRAIN_SIZE)\n",
      "execution_count": 7,
      "outputs": [
        {
          "output_type": "stream",
          "text": "CPU times: user 4.05 s, sys: 184 ms, total: 4.23 s\nWall time: 4.23 s\n",
          "name": "stdout"
        }
      ]
    },
    {
      "metadata": {
        "_uuid": "37b774a251528bffdff0359e00a1f12f73eac2ea"
      },
      "cell_type": "raw",
      "source": "%%time\ntrain_df.head()"
    },
    {
      "metadata": {
        "_cell_guid": "0ebfb2fa-2344-4c99-9d17-5ada90f22705",
        "_uuid": "bb1e12878db2f74ce89bfc913712742f31e24b25"
      },
      "cell_type": "raw",
      "source": "%%time\ntest_df.head()"
    },
    {
      "metadata": {
        "_uuid": "6af23fce60b5a3eb928f7075c715343e0623ea21",
        "collapsed": true,
        "trusted": true
      },
      "cell_type": "code",
      "source": "",
      "execution_count": null,
      "outputs": []
    },
    {
      "metadata": {
        "_uuid": "252d02c68bbbca9924bcb8e1f792540fd43c9ea2"
      },
      "cell_type": "markdown",
      "source": "# defining useful functions"
    },
    {
      "metadata": {
        "_uuid": "33056a35c8466ce5811f089b8b131b67f6e22bee",
        "code_folding": [
          34
        ],
        "collapsed": true,
        "trusted": true
      },
      "cell_type": "code",
      "source": "\n%matplotlib inline\n\nimport os\n\nimport numpy as np\nimport pandas as pd\nfrom scipy import stats\nfrom scipy.stats import norm, skew #for some statistics\n\nimport matplotlib.pyplot as plt\nimport seaborn as sns\n\nfrom sklearn.model_selection import cross_val_score, train_test_split\nfrom sklearn.model_selection import learning_curve\n\nimport mlxtend\nfrom mlxtend.plotting import plot_learning_curves\n\nimport pandas_profiling\n\n\n\n\n\ndef checkNaValues(dataframe):\n    \"\"\"check nan values in dataframe\"\"\"\n    \n    print(\"\\n# Is there any nan values?: \", dataframe.isna().all().all())\n    \n    print(\"## detail missing data ratio\")\n    #if dataframe.isna().all().all()\n    dataframe_na = (dataframe.isna().sum()/len(dataframe))*100\n    print(dataframe_na)\n    dataframe_na = dataframe_na.drop(\n        dataframe_na[dataframe_na == 0].index\n    ).sort_values(ascending=False)\n    missing_data = pd.DataFrame({'Missing Ratio':dataframe_na})\n    print(missing_data)\n    \n    \n    \"\"\"there is error. so not implemented yet\n    # just plot the rate\n    f, ax = plt.subplots(figsize=(15, 12))\n    plt.xticks(rotation='90')\n    sns.barplot(x=dataframe_na.index, y=dataframe_na.values)\n    plt.xlabel('Features', fontsize=15)\n    plt.ylabel('Percent of missing values', fontsize=15)\n    plt.title('Percent missing data by feature', fontsize=15)\n    \"\"\"\n\n    \ndef checkObjTypeColumns(dataframe):\n    \"\"\"Check object dtype columns\"\"\"\n\n    print(\"\\n# object dtype columns\")\n    # object dtypeの列名からその列のデータのみを抽出\n    df_object_type = dataframe[dataframe.select_dtypes(['object']).columns]\n    #df_object_type = dataframe[[x for x in dataframe.columns if dataframe[x].dtypes == \"object\"]]\n    print(df_object_type.head())\n    #print(df_object_type.info()) # not useful info\n    print(df_object_type.describe())\n\n    \ndef checkValueCounts(dataframe):\n    \"\"\"check value counts of each features and find boolean feature or not.\"\"\"\n\n    print(\"# value_counts of each feature: \")\n    for column in dataframe.columns:\n        #print(\"## \", column, \": \")\n        #print(dataframe[column].value_counts().head())\n        value_counts = dataframe[column].value_counts().shape[0]\n        if value_counts == 1:\n            print(column, \" -> single value. value count:  \", dataframe[column].value_counts().shape[0])            \n        elif value_counts == 2:\n            print(column, \" -> maybe boolean. value count:  \", dataframe[column].value_counts().shape[0])\n        else:\n            print(column, \" -> not boolean. value count:  \", dataframe[column].value_counts().shape[0])\n            \n\ndef findSingleValueColmuns(dataframe):\n    \"\"\"check value counts of each features and find single value feature.\n    Such column is no meaning to learn.\n    \"\"\"\n\n    single_val_columns = []\n    for column in dataframe.columns:\n        value_counts = dataframe[column].value_counts().shape[0]\n        if value_counts == 1:\n            single_val_columns.append(column)\n    return single_val_columns\n\n            \ndef checkCorrelationOfFeatures(dataframe):\n    \"\"\"check correlation matix of each features\"\"\"\n\n    # plot corr\n    print(\"\\n# correlation matrix\")\n    corrmat = dataframe.corr()\n    plt.subplots(figsize=(12,9))\n    sns.heatmap(corrmat, vmax=0.9, square=True)\n    plt.show()\n    print(corrmat)\n    print()\n    \n    corr_values = corrmat.iloc[0]\n    print(\"## highest correlation: \", corr_values.sort_values().head())\n    print(\"## lowest correlation: \", corr_values.sort_values().tail())\n\n    \ndef checkSkewness(dataframe):\n    \"\"\"check skewness of each features\"\"\"\n    \n    #numeric_feats = dataframe.dtypes[all_data.dtypes != \"object\"].index\n    numeric_feats = dataframe.select_dtypes(exclude=['object'])\n    #print(numeric_feats)\n    # Check the skew of all numerical features\n    skewed_feats = numeric_feats.apply(\n        lambda x: skew(x.dropna())).sort_values(ascending=False)\n    print(\"\\n# Skew in numerical features: \\n\")\n    skewness = pd.DataFrame({'Skew' :skewed_feats})\n    print(skewness)\n    \n    return skewness\n    \n    \ndef checkAllDataInfo(dataframe):\n    \"\"\"print all dataframe info\"\"\"\n\n    print(dataframe.head())\n    print(\"\\n# shape: \", dataframe.shape)\n    print(\"\\n# columns names: \", train_df.columns.values)\n    \n    print(\"\\n# df.info(): \")\n    print(dataframe.info())\n    #print(\"\\n# counts dtypes: \\n\", dataframe.dtypes.value_counts())# it is included in dataframe.info()\n\n    print(\"\\n# df.describe(): \")\n    print(dataframe.describe())\n    print()\n    \n    #print()\n    #pandas_profiling.ProfileReport(dataframe)\n    print()\n    checkNaValues(dataframe)\n    print()\n    checkObjTypeColumns(dataframe)\n    print()\n    checkValueCounts(dataframe)\n    print()\n    #checkCorrelationOfFeatures(dataframe)\n    \n    print()\n    checkSkewness(dataframe)\n    \n    \n    \ndef my_plot_learning_curve(estimator, title, X, y, ylim=None, cv=None,\n                        scoring=\"r2\",\n                        n_jobs=1, train_sizes=np.linspace(.1, 1.0, 5)):\n    \"\"\"\n    Generate a simple plot of the test and training learning curve.\n\n    Parameters\n    ----------\n    estimator : object type that implements the \"fit\" and \"predict\" methods\n        An object of that type which is cloned for each validation.\n\n    title : string\n        Title for the chart.\n\n    X : array-like, shape (n_samples, n_features)\n        Training vector, where n_samples is the number of samples and\n        n_features is the number of features.\n\n    y : array-like, shape (n_samples) or (n_samples, n_features), optional\n        Target relative to X for classification or regression;\n        None for unsupervised learning.\n\n    ylim : tuple, shape (ymin, ymax), optional\n        Defines minimum and maximum yvalues plotted.\n\n    cv : int, cross-validation generator or an iterable, optional\n        Determines the cross-validation splitting strategy.\n        Possible inputs for cv are:\n          - None, to use the default 3-fold cross-validation,\n          - integer, to specify the number of folds.\n          - An object to be used as a cross-validation generator.\n          - An iterable yielding train/test splits.\n\n        For integer/None inputs, if ``y`` is binary or multiclass,\n        :class:`StratifiedKFold` used. If the estimator is not a classifier\n        or if ``y`` is neither binary nor multiclass, :class:`KFold` is used.\n\n        Refer :ref:`User Guide <cross_validation>` for the various\n        cross-validators that can be used here.\n\n    n_jobs : integer, optional\n        Number of jobs to run in parallel (default 1).\n    \"\"\"\n    plt.figure()\n    plt.title(title)\n    if ylim is not None:\n        plt.ylim(*ylim)\n    plt.xlabel(\"Training examples\")\n    plt.ylabel(\"Score\")\n    train_sizes, train_scores, test_scores = learning_curve(\n        estimator, X, y, cv=cv, scoring=scoring, n_jobs=n_jobs, train_sizes=train_sizes)\n    train_scores_mean = np.mean(train_scores, axis=1)\n    train_scores_std = np.std(train_scores, axis=1)\n    test_scores_mean = np.mean(test_scores, axis=1)\n    test_scores_std = np.std(test_scores, axis=1)\n    plt.grid()\n\n    plt.fill_between(train_sizes, train_scores_mean - train_scores_std,\n                     train_scores_mean + train_scores_std, alpha=0.1,\n                     color=\"r\")\n    plt.fill_between(train_sizes, test_scores_mean - test_scores_std,\n                     test_scores_mean + test_scores_std, alpha=0.1, color=\"g\")\n    plt.plot(train_sizes, train_scores_mean, 'o-', color=\"r\",\n             label=\"Training score\")\n    plt.plot(train_sizes, test_scores_mean, 'o-', color=\"g\",\n             label=\"Cross-validation score\")\n\n    plt.legend(loc=\"best\")\n    return plt\n\n\n\ndef checkTargetInfo(dataframe, target_name=\"y\"):\n    \"\"\"print target y value info\"\"\"\n \n    # plot distribution\n    sns.distplot(train_df[target_name], fit=norm)\n    (mu, sigma) = norm.fit(train_df[target_name])\n    print(\"mu, sigma:\", mu, sigma)\n\n    plt.legend(['Normal dist. ($\\mu=$ {:.2f} and $\\sigma=$ {:.2f} )'.format(mu, sigma)],\n                loc='best')\n    plt.ylabel('Frequency')\n    plt.title('target value distribution')\n\n    \n    # plot skewness\n\n    #print(\"skewness of y\", skew(dataframe[target_name]))\n    print(\"skewness of y\", train_df[target_name].skew())\n    fig = plt.figure()\n    res = stats.probplot(train_df[target_name], plot=plt)\n    plt.show()\n\n    \n    \ndef checkCorrelationOfSelectedFeatures(dataframe, columns):\n    \"\"\"check correlation matix of each features\"\"\"\n\n    # plot corr\n    print(\"\\n# correlation matrix\")\n    corrmat = dataframe[columns].corr()\n    plt.subplots(figsize=(12,9))\n    sns.heatmap(corrmat, vmax=0.9, square=True, annot=True)\n    plt.show()\n    print(corrmat)\n    \n\n    \ndef splitToIdTargetFeatures(dataframe, id_name, target_name):\n    \"\"\"split train df to data, id and taret dataframes\n    \"\"\"\n    id_df = dataframe[id_name]\n    target_df = dataframe[target_name]\n    features_df = dataframe.drop([id_name, target_name], axis=1)\n    \n    return id_df, target_df, features_df\n\n\n",
      "execution_count": 8,
      "outputs": []
    },
    {
      "metadata": {
        "_uuid": "265f20419600ef026c3b8fe35d5ca8101e3fba63"
      },
      "cell_type": "markdown",
      "source": "# EDA"
    },
    {
      "metadata": {
        "_uuid": "2ebbca87e4400693c8d2703a0aaa37dbdf02848e"
      },
      "cell_type": "markdown",
      "source": "## general info"
    },
    {
      "metadata": {
        "_uuid": "6c27f2a7ade9476cf76bf41a8514f256c757c9bd"
      },
      "cell_type": "raw",
      "source": "%%time\ncheckAllDataInfo(train_df)"
    },
    {
      "metadata": {
        "_uuid": "8c9853766c7b8ec4845bac641733fb4c794051f8"
      },
      "cell_type": "raw",
      "source": "%%time\ncheckAllDataInfo(test_df)"
    },
    {
      "metadata": {
        "_uuid": "9deff4965292041304fa60b8e66935c7d3a192f2",
        "collapsed": true,
        "trusted": true
      },
      "cell_type": "code",
      "source": "",
      "execution_count": null,
      "outputs": []
    },
    {
      "metadata": {
        "_uuid": "04f001485387a5589f3910fe25455f922b02278c"
      },
      "cell_type": "raw",
      "source": "train_df.describe()"
    },
    {
      "metadata": {
        "_uuid": "9aa1484a3a6bdc1cc44a6989d6a5a85ccee7ed49"
      },
      "cell_type": "raw",
      "source": "test_df.describe()"
    },
    {
      "metadata": {
        "_uuid": "2aaf498dfb0b840b62956795aac85c5182628d30",
        "collapsed": true,
        "trusted": true
      },
      "cell_type": "code",
      "source": "",
      "execution_count": null,
      "outputs": []
    },
    {
      "metadata": {
        "_uuid": "3b4fcbab9c223df74e904a60bccec10d1ab6bf5a"
      },
      "cell_type": "markdown",
      "source": "## checking in details"
    },
    {
      "metadata": {
        "_uuid": "e4ea0e22459c1c243edee24fc7aaa8038beb492e"
      },
      "cell_type": "raw",
      "source": "train_df.iloc[0, :].describe()"
    },
    {
      "metadata": {
        "_uuid": "88de0feb8aa6cf48dc75c5ac14048b97d8cdcc8e"
      },
      "cell_type": "raw",
      "source": "for column in train_df.columns:\n    print(column, train_df[column].value_counts().shape[0])"
    },
    {
      "metadata": {
        "_uuid": "4b7c4d6f03f6b0348dcf7eaab862d7b3f415db4d"
      },
      "cell_type": "raw",
      "source": "for column in train_df.columns:\n    if train_df[column].value_counts().shape[0] <= 1:\n        print(train_df[column].value_counts())\n        print()"
    },
    {
      "metadata": {
        "_uuid": "c408c7d6b66236e80f06a1e053ceccda587ce3a0"
      },
      "cell_type": "raw",
      "source": "for column in train_df.columns:\n    print(train_df[column].value_counts())\n    print()"
    },
    {
      "metadata": {
        "_uuid": "5463cf6041380f4c9ef304177e1e49f780463d33"
      },
      "cell_type": "raw",
      "source": "for column in train_df.columns:\n    if train_df[column].value_counts().shape[0] == 2:\n        print(train_df[column].value_counts())\n        print()"
    },
    {
      "metadata": {
        "_uuid": "b831ac2217b12608c7558b87ff3f561d486a6962",
        "collapsed": true,
        "trusted": true
      },
      "cell_type": "code",
      "source": "",
      "execution_count": null,
      "outputs": []
    },
    {
      "metadata": {
        "_uuid": "f9d01c92741f137570d75381cd043f614a7219da",
        "collapsed": true,
        "trusted": true
      },
      "cell_type": "code",
      "source": "",
      "execution_count": null,
      "outputs": []
    },
    {
      "metadata": {
        "_uuid": "46cca2c7db1b434a440754067d64653906b1962f"
      },
      "cell_type": "markdown",
      "source": "## checkTargetInfo"
    },
    {
      "metadata": {
        "_uuid": "a76f2b7a39fcd6272a283050c56fa3dada4366c2"
      },
      "cell_type": "raw",
      "source": "checkTargetInfo(train_df, target_name=\"target\")"
    },
    {
      "metadata": {
        "_uuid": "c8c46bb335cc510cbf2d78b7c8ed44dce9a53c19"
      },
      "cell_type": "markdown",
      "source": "### apply logarithm transformation to tareget"
    },
    {
      "metadata": {
        "_uuid": "2b0b0c73d7321b007edc20f6836981ec083c3ce1",
        "scrolled": false,
        "trusted": true
      },
      "cell_type": "code",
      "source": "# apply logarithm transformation\n\ntrain_df[\"target\"] = np.log1p(train_df[\"target\"])\nsns.distplot(train_df[\"target\"], fit=norm)\n\n(mu, sigma) = norm.fit(train_df[\"target\"])\nprint(mu, sigma)\n\nplt.legend(['Normal dist. ($\\mu=$ {:.2f} and $\\sigma=$ {:.2f} )'.format(mu, sigma)],\n            loc='best')\nplt.ylabel('Frequency')\nplt.title('y distribution')\n\nfig = plt.figure()\nres = stats.probplot(train_df[\"target\"], plot=plt)\nplt.show()\n",
      "execution_count": 9,
      "outputs": [
        {
          "output_type": "stream",
          "text": "14.490239292748585 1.7507504829494496\n",
          "name": "stdout"
        },
        {
          "output_type": "display_data",
          "data": {
            "text/plain": "<matplotlib.figure.Figure at 0x7fb7127fb080>",
            "image/png": "[encoded data removed]"
          },
          "metadata": {}
        },
        {
          "output_type": "display_data",
          "data": {
            "text/plain": "<matplotlib.figure.Figure at 0x7fb71289a320>",
            "image/png": "[encoded data removed]"
          },
          "metadata": {}
        }
      ]
    },
    {
      "metadata": {
        "_uuid": "e64999c25ecb341e5ec8083d6aa23a309b41033c",
        "collapsed": true,
        "trusted": true
      },
      "cell_type": "code",
      "source": "",
      "execution_count": null,
      "outputs": []
    },
    {
      "metadata": {
        "_uuid": "19892e1e59cc54da57b466f057c9607dae04f30f",
        "collapsed": true,
        "trusted": true
      },
      "cell_type": "code",
      "source": "",
      "execution_count": null,
      "outputs": []
    },
    {
      "metadata": {
        "_uuid": "ced61a01d9f3243564093be7f8f2bab0152b4099"
      },
      "cell_type": "raw",
      "source": "## check Correlation\n\n- if a feature have only one value, correlation become NAN.\n- so better to check correlation after dropped one value features"
    },
    {
      "metadata": {
        "_uuid": "9dcb8e7fd8f40c14d22f700e7549d2fca9af860a"
      },
      "cell_type": "raw",
      "source": "    \ncolumns = [\"y\", \"X10\", \"X11\", \"X12\", \"X13\", \"X14\"]\ncheckCorrelationOfSelectedFeatures(train_df, columns)"
    },
    {
      "metadata": {
        "_uuid": "d3cab6321d521bec8dbea6ae3bb61102c7edc68a"
      },
      "cell_type": "raw",
      "source": "%%time\ncorrmat = train_df.corr(method=\"spearman\")"
    },
    {
      "metadata": {
        "_uuid": "6ee3f845f00cf7c29ba03fd656d2b4e02b9d2008"
      },
      "cell_type": "raw",
      "source": "corrmat.shape"
    },
    {
      "metadata": {
        "_uuid": "ea17a539bfd1e8b23fdcdde35425f96b4c504d0b"
      },
      "cell_type": "raw",
      "source": "corrmat.head()"
    },
    {
      "metadata": {
        "_uuid": "004f7b29817c93421b0cda61a267efa9b0b3a498"
      },
      "cell_type": "raw",
      "source": "corrmat[\"target\"].sort_values(ascending=False).head(10)"
    },
    {
      "metadata": {
        "_uuid": "c36f94c7a7d53381b6f958b97feb126f40c1f1d1"
      },
      "cell_type": "raw",
      "source": "corrmat[\"target\"].sort_values(ascending=False).tail(10)"
    },
    {
      "metadata": {
        "_uuid": "eb48053fa2b4e93b1b160338fee0266b8339907e"
      },
      "cell_type": "raw",
      "source": "\ncorrmat = dataframe[columns].corr()\nplt.subplots(figsize=(12,9))\nsns.heatmap(corrmat, vmax=0.9, square=True, annot=True)\nplt.show()\nprint(corrmat)"
    },
    {
      "metadata": {
        "_uuid": "f3ca0e31640dcb6a5ad4034cc49a52ee98ca3f9f",
        "collapsed": true,
        "trusted": true
      },
      "cell_type": "code",
      "source": "",
      "execution_count": null,
      "outputs": []
    },
    {
      "metadata": {
        "_uuid": "3ba6472c077720a06aa76e16c7c69302717f6d75",
        "collapsed": true,
        "trusted": true
      },
      "cell_type": "code",
      "source": "",
      "execution_count": null,
      "outputs": []
    },
    {
      "metadata": {
        "_uuid": "6eb9700becb427f1d27118448c2b1e043b7a6c30"
      },
      "cell_type": "markdown",
      "source": "## pairplot\n\n- not good idea to make function\n- better to use pairplot() directly. more useful."
    },
    {
      "metadata": {
        "_uuid": "4aa1abaa2ff4417dcad9e7a71aeeb5fb4a6831de"
      },
      "cell_type": "raw",
      "source": "sns.pairplot(train_df, vars=[\"y\", \"X10\", \"X11\", \"X12\", \"X13\"]) # takes too much time\n\n"
    },
    {
      "metadata": {
        "_uuid": "d1c397b4be1706da9989c492a18537ee0b3069b9",
        "collapsed": true,
        "trusted": true
      },
      "cell_type": "code",
      "source": "",
      "execution_count": null,
      "outputs": []
    },
    {
      "metadata": {
        "_uuid": "860635918f740c46fa398c096adc3d297266cb1f"
      },
      "cell_type": "markdown",
      "source": "## pandas_profiling"
    },
    {
      "metadata": {
        "_uuid": "20b376ea7647d19830dfb9137f9c0ffbb1e0a7ce"
      },
      "cell_type": "raw",
      "source": "pandas_profiling.ProfileReport(train_df)"
    },
    {
      "metadata": {
        "_uuid": "1e0cbd174c529c239639463a9d246fbca9cc76d5",
        "collapsed": true,
        "trusted": true
      },
      "cell_type": "code",
      "source": "",
      "execution_count": null,
      "outputs": []
    },
    {
      "metadata": {
        "_uuid": "214584fd6388aa7540d1e8738be6a710b7cd413f",
        "collapsed": true,
        "trusted": true
      },
      "cell_type": "code",
      "source": "",
      "execution_count": null,
      "outputs": []
    },
    {
      "metadata": {
        "_uuid": "b3f788599c2986f31a5784e4396ed13444570895"
      },
      "cell_type": "markdown",
      "source": "----\n\n# feature eng"
    },
    {
      "metadata": {
        "_uuid": "97d6ce2738738434f8dea6e3f389acb60bc217a1",
        "collapsed": true,
        "trusted": true
      },
      "cell_type": "code",
      "source": "",
      "execution_count": null,
      "outputs": []
    },
    {
      "metadata": {
        "_uuid": "933f8d872fd1d00146515adc1f446ffb68e9332a"
      },
      "cell_type": "markdown",
      "source": ""
    },
    {
      "metadata": {
        "_uuid": "a58558e01a92e1f5ed629271b7f1a1822964dcd2"
      },
      "cell_type": "markdown",
      "source": "## add some features before drop some columns\n"
    },
    {
      "metadata": {
        "_uuid": "4d092bebbdf95e599e6f357b53db19bf534b12e0"
      },
      "cell_type": "markdown",
      "source": "### add sum of zeros feature"
    },
    {
      "metadata": {
        "_uuid": "5ebbd84fec254f29bae1d9666ed36b12e809b98a",
        "collapsed": true,
        "trusted": true
      },
      "cell_type": "code",
      "source": "def add_SumZeros(train, test):\n    flist = [x for x in train.columns if not x in ['ID','target']]\n    train.insert(1, 'SumZeros', (train[flist] == 0).astype(int).sum(axis=1))\n    test.insert(1, 'SumZeros', (test[flist] == 0).astype(int).sum(axis=1))\n    return train, test\n",
      "execution_count": 10,
      "outputs": []
    },
    {
      "metadata": {
        "_uuid": "f28b4d89d83b190b684e4a4b292aebf5e8f2cadb",
        "trusted": true
      },
      "cell_type": "code",
      "source": "%%time\ntrain_df, test_df = add_SumZeros(train_df, test_df)\n",
      "execution_count": 11,
      "outputs": [
        {
          "output_type": "stream",
          "text": "CPU times: user 1.54 s, sys: 636 ms, total: 2.18 s\nWall time: 2.06 s\n",
          "name": "stdout"
        }
      ]
    },
    {
      "metadata": {
        "_uuid": "bf89c8546cbc8196dab04cc62ea02f1c478fa889",
        "scrolled": true,
        "trusted": true
      },
      "cell_type": "code",
      "source": "train_df.SumZeros.head()",
      "execution_count": 12,
      "outputs": [
        {
          "output_type": "execute_result",
          "execution_count": 12,
          "data": {
            "text/plain": "0    4889\n1    4924\n2    4973\n3    4969\n4    4965\nName: SumZeros, dtype: int64"
          },
          "metadata": {}
        }
      ]
    },
    {
      "metadata": {
        "_uuid": "9bf79eac72d6bc371ca7cf4e618247109b094ce7",
        "trusted": true
      },
      "cell_type": "code",
      "source": "test_df.SumZeros.head()",
      "execution_count": 13,
      "outputs": [
        {
          "output_type": "execute_result",
          "execution_count": 13,
          "data": {
            "text/plain": "0    4913\n1    4979\n2    4892\n3    4871\n4    4983\nName: SumZeros, dtype: int64"
          },
          "metadata": {}
        }
      ]
    },
    {
      "metadata": {
        "_uuid": "2442c5b1343771248dafeab9ce526dba58ad2772"
      },
      "cell_type": "markdown",
      "source": "### add sum of values"
    },
    {
      "metadata": {
        "_uuid": "cc835bde95a0f7bffe5bda5bcd6c37f4e7d77d40",
        "collapsed": true,
        "trusted": true
      },
      "cell_type": "code",
      "source": "def add_SumValues(train, test):\n    flist = [x for x in train.columns if not x in ['ID','target']]\n    \n    train.insert(1, 'SumValues', (train[flist] != 0).astype(int).sum(axis=1))\n    test.insert(1, 'SumValues', (test[flist] != 0).astype(int).sum(axis=1))\n\n    return train, test",
      "execution_count": 14,
      "outputs": []
    },
    {
      "metadata": {
        "_uuid": "21a0bf4399430d2e473fe30ea31f2e0528541bee",
        "trusted": true
      },
      "cell_type": "code",
      "source": "%%time\ntrain_df, test_df = add_SumValues(train_df, test_df)\n",
      "execution_count": 15,
      "outputs": [
        {
          "output_type": "stream",
          "text": "CPU times: user 1.5 s, sys: 776 ms, total: 2.27 s\nWall time: 2.27 s\n",
          "name": "stdout"
        }
      ]
    },
    {
      "metadata": {
        "_uuid": "d8b0b5156361ce4c83a8e913fb960db81fe0c288",
        "trusted": true
      },
      "cell_type": "code",
      "source": "train_df.SumValues.head()",
      "execution_count": 16,
      "outputs": [
        {
          "output_type": "execute_result",
          "execution_count": 16,
          "data": {
            "text/plain": "0    103\n1     68\n2     19\n3     23\n4     27\nName: SumValues, dtype: int64"
          },
          "metadata": {}
        }
      ]
    },
    {
      "metadata": {
        "_uuid": "65d3a1733cbe98dd68d1b81fad54fe8ff0a3f373",
        "trusted": true
      },
      "cell_type": "code",
      "source": "test_df.SumValues.head()",
      "execution_count": 17,
      "outputs": [
        {
          "output_type": "execute_result",
          "execution_count": 17,
          "data": {
            "text/plain": "0     79\n1     13\n2    100\n3    121\n4      9\nName: SumValues, dtype: int64"
          },
          "metadata": {}
        }
      ]
    },
    {
      "metadata": {
        "_uuid": "4dae7b09042d25617dca156b8070e185b9117a40",
        "collapsed": true
      },
      "cell_type": "markdown",
      "source": "## add other Aggregates"
    },
    {
      "metadata": {
        "_uuid": "7d1c9158c50df29f304ac141a201ce4f7542bd4d",
        "collapsed": true,
        "trusted": true
      },
      "cell_type": "code",
      "source": "other_agg_list = ['Mean', 'Median', 'Mode', 'Max', 'Var', 'Std']\n\ndef add_OtherAgg(train, test):\n    flist = [x for x in train.columns if not x in ['ID','target','SumZeros','SumValues']]\n    train['Mean']   = train[flist].mean(axis=1)\n    train['Median'] = train[flist].median(axis=1)\n    train['Mode']   = train[flist].mode(axis=1)\n    train['Max']    = train[flist].max(axis=1)\n    train['Var']    = train[flist].var(axis=1)\n    train['Std']    = train[flist].std(axis=1)\n\n    test['Mean']   = test[flist].mean(axis=1)\n    test['Median'] = test[flist].median(axis=1)\n    test['Mode']   = test[flist].mode(axis=1)\n    test['Max']    = test[flist].max(axis=1)\n    test['Var']    = test[flist].var(axis=1)\n    test['Std']    = test[flist].std(axis=1)\n\n    return train, test",
      "execution_count": 18,
      "outputs": []
    },
    {
      "metadata": {
        "_uuid": "ade5135ed9b5563e445db603b9725680b4cad5c5",
        "trusted": true
      },
      "cell_type": "code",
      "source": "%%time\ntrain_df, test_df = add_OtherAgg(train_df, test_df)\n",
      "execution_count": 19,
      "outputs": [
        {
          "output_type": "stream",
          "text": "CPU times: user 15.9 s, sys: 3.73 s, total: 19.7 s\nWall time: 19.7 s\n",
          "name": "stdout"
        }
      ]
    },
    {
      "metadata": {
        "_uuid": "da787897cf16fa4b89e5ccef90ef3dccc9d1e173",
        "trusted": true,
        "scrolled": true
      },
      "cell_type": "code",
      "source": "train_df[other_agg_list].head()",
      "execution_count": 20,
      "outputs": [
        {
          "output_type": "execute_result",
          "execution_count": 20,
          "data": {
            "text/plain": "            Mean  Median      ...                Var           Std\n0  144413.611164     0.0      ...       3.031989e+12  1.741261e+06\n1  106585.186672     0.0      ...       2.338739e+12  1.529294e+06\n2   15267.481467     0.0      ...       1.098310e+11  3.314076e+05\n3    6690.175648     0.0      ...       3.020618e+10  1.737993e+05\n4   35803.245843     0.0      ...       7.195723e+11  8.482761e+05\n\n[5 rows x 6 columns]",
            "text/html": "<div>\n<style scoped>\n    .dataframe tbody tr th:only-of-type {\n        vertical-align: middle;\n    }\n\n    .dataframe tbody tr th {\n        vertical-align: top;\n    }\n\n    .dataframe thead th {\n        text-align: right;\n    }\n</style>\n<table border=\"1\" class=\"dataframe\">\n  <thead>\n    <tr style=\"text-align: right;\">\n      <th></th>\n      <th>Mean</th>\n      <th>Median</th>\n      <th>Mode</th>\n      <th>Max</th>\n      <th>Var</th>\n      <th>Std</th>\n    </tr>\n  </thead>\n  <tbody>\n    <tr>\n      <th>0</th>\n      <td>144413.611164</td>\n      <td>0.0</td>\n      <td>0.0</td>\n      <td>40000000.0</td>\n      <td>3.031989e+12</td>\n      <td>1.741261e+06</td>\n    </tr>\n    <tr>\n      <th>1</th>\n      <td>106585.186672</td>\n      <td>0.0</td>\n      <td>0.0</td>\n      <td>50000000.0</td>\n      <td>2.338739e+12</td>\n      <td>1.529294e+06</td>\n    </tr>\n    <tr>\n      <th>2</th>\n      <td>15267.481467</td>\n      <td>0.0</td>\n      <td>0.0</td>\n      <td>12000000.0</td>\n      <td>1.098310e+11</td>\n      <td>3.314076e+05</td>\n    </tr>\n    <tr>\n      <th>3</th>\n      <td>6690.175648</td>\n      <td>0.0</td>\n      <td>0.0</td>\n      <td>6000000.0</td>\n      <td>3.020618e+10</td>\n      <td>1.737993e+05</td>\n    </tr>\n    <tr>\n      <th>4</th>\n      <td>35803.245843</td>\n      <td>0.0</td>\n      <td>0.0</td>\n      <td>37662000.0</td>\n      <td>7.195723e+11</td>\n      <td>8.482761e+05</td>\n    </tr>\n  </tbody>\n</table>\n</div>"
          },
          "metadata": {}
        }
      ]
    },
    {
      "metadata": {
        "_uuid": "d95b726d8875381ac9cd0f24b6d825036a349b19",
        "trusted": true,
        "scrolled": true
      },
      "cell_type": "code",
      "source": "test_df[other_agg_list].head()",
      "execution_count": 21,
      "outputs": [
        {
          "output_type": "execute_result",
          "execution_count": 21,
          "data": {
            "text/plain": "            Mean  Median      ...                Var           Std\n0  442863.226849     0.0      ...       2.064611e+14  1.436875e+07\n1   18463.769828     0.0      ...       3.714398e+11  6.094586e+05\n2  117647.532959     0.0      ...       3.293080e+12  1.814684e+06\n3  354811.979455     0.0      ...       9.775059e+12  3.126509e+06\n4   26661.551225     0.0      ...       2.354338e+12  1.534385e+06\n\n[5 rows x 6 columns]",
            "text/html": "<div>\n<style scoped>\n    .dataframe tbody tr th:only-of-type {\n        vertical-align: middle;\n    }\n\n    .dataframe tbody tr th {\n        vertical-align: top;\n    }\n\n    .dataframe thead th {\n        text-align: right;\n    }\n</style>\n<table border=\"1\" class=\"dataframe\">\n  <thead>\n    <tr style=\"text-align: right;\">\n      <th></th>\n      <th>Mean</th>\n      <th>Median</th>\n      <th>Mode</th>\n      <th>Max</th>\n      <th>Var</th>\n      <th>Std</th>\n    </tr>\n  </thead>\n  <tbody>\n    <tr>\n      <th>0</th>\n      <td>442863.226849</td>\n      <td>0.0</td>\n      <td>0.0</td>\n      <td>9.605043e+08</td>\n      <td>2.064611e+14</td>\n      <td>1.436875e+07</td>\n    </tr>\n    <tr>\n      <th>1</th>\n      <td>18463.769828</td>\n      <td>0.0</td>\n      <td>0.0</td>\n      <td>3.176478e+07</td>\n      <td>3.714398e+11</td>\n      <td>6.094586e+05</td>\n    </tr>\n    <tr>\n      <th>2</th>\n      <td>117647.532959</td>\n      <td>0.0</td>\n      <td>0.0</td>\n      <td>8.000000e+07</td>\n      <td>3.293080e+12</td>\n      <td>1.814684e+06</td>\n    </tr>\n    <tr>\n      <th>3</th>\n      <td>354811.979455</td>\n      <td>0.0</td>\n      <td>0.0</td>\n      <td>1.000000e+08</td>\n      <td>9.775059e+12</td>\n      <td>3.126509e+06</td>\n    </tr>\n    <tr>\n      <th>4</th>\n      <td>26661.551225</td>\n      <td>0.0</td>\n      <td>0.0</td>\n      <td>1.077087e+08</td>\n      <td>2.354338e+12</td>\n      <td>1.534385e+06</td>\n    </tr>\n  </tbody>\n</table>\n</div>"
          },
          "metadata": {}
        }
      ]
    },
    {
      "metadata": {
        "trusted": true,
        "scrolled": true,
        "_uuid": "a63dfc7330bd6f52bc210ef14303371f39391574"
      },
      "cell_type": "code",
      "source": "added_cols_pls_target = [\"target\", 'SumZeros', 'SumValues']+other_agg_list\ntrain_df[added_cols_pls_target].head()",
      "execution_count": 22,
      "outputs": [
        {
          "output_type": "execute_result",
          "execution_count": 22,
          "data": {
            "text/plain": "      target  SumZeros      ...                Var           Std\n0  17.453097      4889      ...       3.031989e+12  1.741261e+06\n1  13.304687      4924      ...       2.338739e+12  1.529294e+06\n2  16.118096      4973      ...       1.098310e+11  3.314076e+05\n3  14.508658      4969      ...       3.020618e+10  1.737993e+05\n4  16.482739      4965      ...       7.195723e+11  8.482761e+05\n\n[5 rows x 9 columns]",
            "text/html": "<div>\n<style scoped>\n    .dataframe tbody tr th:only-of-type {\n        vertical-align: middle;\n    }\n\n    .dataframe tbody tr th {\n        vertical-align: top;\n    }\n\n    .dataframe thead th {\n        text-align: right;\n    }\n</style>\n<table border=\"1\" class=\"dataframe\">\n  <thead>\n    <tr style=\"text-align: right;\">\n      <th></th>\n      <th>target</th>\n      <th>SumZeros</th>\n      <th>SumValues</th>\n      <th>Mean</th>\n      <th>Median</th>\n      <th>Mode</th>\n      <th>Max</th>\n      <th>Var</th>\n      <th>Std</th>\n    </tr>\n  </thead>\n  <tbody>\n    <tr>\n      <th>0</th>\n      <td>17.453097</td>\n      <td>4889</td>\n      <td>103</td>\n      <td>144413.611164</td>\n      <td>0.0</td>\n      <td>0.0</td>\n      <td>40000000.0</td>\n      <td>3.031989e+12</td>\n      <td>1.741261e+06</td>\n    </tr>\n    <tr>\n      <th>1</th>\n      <td>13.304687</td>\n      <td>4924</td>\n      <td>68</td>\n      <td>106585.186672</td>\n      <td>0.0</td>\n      <td>0.0</td>\n      <td>50000000.0</td>\n      <td>2.338739e+12</td>\n      <td>1.529294e+06</td>\n    </tr>\n    <tr>\n      <th>2</th>\n      <td>16.118096</td>\n      <td>4973</td>\n      <td>19</td>\n      <td>15267.481467</td>\n      <td>0.0</td>\n      <td>0.0</td>\n      <td>12000000.0</td>\n      <td>1.098310e+11</td>\n      <td>3.314076e+05</td>\n    </tr>\n    <tr>\n      <th>3</th>\n      <td>14.508658</td>\n      <td>4969</td>\n      <td>23</td>\n      <td>6690.175648</td>\n      <td>0.0</td>\n      <td>0.0</td>\n      <td>6000000.0</td>\n      <td>3.020618e+10</td>\n      <td>1.737993e+05</td>\n    </tr>\n    <tr>\n      <th>4</th>\n      <td>16.482739</td>\n      <td>4965</td>\n      <td>27</td>\n      <td>35803.245843</td>\n      <td>0.0</td>\n      <td>0.0</td>\n      <td>37662000.0</td>\n      <td>7.195723e+11</td>\n      <td>8.482761e+05</td>\n    </tr>\n  </tbody>\n</table>\n</div>"
          },
          "metadata": {}
        }
      ]
    },
    {
      "metadata": {
        "trusted": true,
        "scrolled": true,
        "_uuid": "a9e00381dce579e6b236e5e3ee2fdceff5473169"
      },
      "cell_type": "code",
      "source": "corr = train_df[added_cols_pls_target].corr()\ncorr",
      "execution_count": 23,
      "outputs": [
        {
          "output_type": "execute_result",
          "execution_count": 23,
          "data": {
            "text/plain": "             target  SumZeros  SumValues    ...          Max       Var       Std\ntarget     1.000000  0.050515  -0.050515    ...     0.034356 -0.013170  0.137552\nSumZeros   0.050515  1.000000  -1.000000    ...    -0.173976 -0.119944 -0.389526\nSumValues -0.050515 -1.000000   1.000000    ...     0.173976  0.119944  0.389526\nMean       0.206092 -0.659386   0.659386    ...     0.326719  0.274386  0.691474\nMedian          NaN       NaN        NaN    ...          NaN       NaN       NaN\nMode            NaN       NaN        NaN    ...          NaN       NaN       NaN\nMax        0.034356 -0.173976   0.173976    ...     1.000000  0.947440  0.891486\nVar       -0.013170 -0.119944   0.119944    ...     0.947440  1.000000  0.814261\nStd        0.137552 -0.389526   0.389526    ...     0.891486  0.814261  1.000000\n\n[9 rows x 9 columns]",
            "text/html": "<div>\n<style scoped>\n    .dataframe tbody tr th:only-of-type {\n        vertical-align: middle;\n    }\n\n    .dataframe tbody tr th {\n        vertical-align: top;\n    }\n\n    .dataframe thead th {\n        text-align: right;\n    }\n</style>\n<table border=\"1\" class=\"dataframe\">\n  <thead>\n    <tr style=\"text-align: right;\">\n      <th></th>\n      <th>target</th>\n      <th>SumZeros</th>\n      <th>SumValues</th>\n      <th>Mean</th>\n      <th>Median</th>\n      <th>Mode</th>\n      <th>Max</th>\n      <th>Var</th>\n      <th>Std</th>\n    </tr>\n  </thead>\n  <tbody>\n    <tr>\n      <th>target</th>\n      <td>1.000000</td>\n      <td>0.050515</td>\n      <td>-0.050515</td>\n      <td>0.206092</td>\n      <td>NaN</td>\n      <td>NaN</td>\n      <td>0.034356</td>\n      <td>-0.013170</td>\n      <td>0.137552</td>\n    </tr>\n    <tr>\n      <th>SumZeros</th>\n      <td>0.050515</td>\n      <td>1.000000</td>\n      <td>-1.000000</td>\n      <td>-0.659386</td>\n      <td>NaN</td>\n      <td>NaN</td>\n      <td>-0.173976</td>\n      <td>-0.119944</td>\n      <td>-0.389526</td>\n    </tr>\n    <tr>\n      <th>SumValues</th>\n      <td>-0.050515</td>\n      <td>-1.000000</td>\n      <td>1.000000</td>\n      <td>0.659386</td>\n      <td>NaN</td>\n      <td>NaN</td>\n      <td>0.173976</td>\n      <td>0.119944</td>\n      <td>0.389526</td>\n    </tr>\n    <tr>\n      <th>Mean</th>\n      <td>0.206092</td>\n      <td>-0.659386</td>\n      <td>0.659386</td>\n      <td>1.000000</td>\n      <td>NaN</td>\n      <td>NaN</td>\n      <td>0.326719</td>\n      <td>0.274386</td>\n      <td>0.691474</td>\n    </tr>\n    <tr>\n      <th>Median</th>\n      <td>NaN</td>\n      <td>NaN</td>\n      <td>NaN</td>\n      <td>NaN</td>\n      <td>NaN</td>\n      <td>NaN</td>\n      <td>NaN</td>\n      <td>NaN</td>\n      <td>NaN</td>\n    </tr>\n    <tr>\n      <th>Mode</th>\n      <td>NaN</td>\n      <td>NaN</td>\n      <td>NaN</td>\n      <td>NaN</td>\n      <td>NaN</td>\n      <td>NaN</td>\n      <td>NaN</td>\n      <td>NaN</td>\n      <td>NaN</td>\n    </tr>\n    <tr>\n      <th>Max</th>\n      <td>0.034356</td>\n      <td>-0.173976</td>\n      <td>0.173976</td>\n      <td>0.326719</td>\n      <td>NaN</td>\n      <td>NaN</td>\n      <td>1.000000</td>\n      <td>0.947440</td>\n      <td>0.891486</td>\n    </tr>\n    <tr>\n      <th>Var</th>\n      <td>-0.013170</td>\n      <td>-0.119944</td>\n      <td>0.119944</td>\n      <td>0.274386</td>\n      <td>NaN</td>\n      <td>NaN</td>\n      <td>0.947440</td>\n      <td>1.000000</td>\n      <td>0.814261</td>\n    </tr>\n    <tr>\n      <th>Std</th>\n      <td>0.137552</td>\n      <td>-0.389526</td>\n      <td>0.389526</td>\n      <td>0.691474</td>\n      <td>NaN</td>\n      <td>NaN</td>\n      <td>0.891486</td>\n      <td>0.814261</td>\n      <td>1.000000</td>\n    </tr>\n  </tbody>\n</table>\n</div>"
          },
          "metadata": {}
        }
      ]
    },
    {
      "metadata": {
        "trusted": true,
        "_uuid": "72d8a32f065a130b70b06e6d7e884259905ac6f3"
      },
      "cell_type": "code",
      "source": "plt.subplots(figsize=(12,9))\nsns.heatmap(corr, vmax=0.9, square=True, annot=True)\nplt.show()",
      "execution_count": 24,
      "outputs": [
        {
          "output_type": "display_data",
          "data": {
            "text/plain": "<matplotlib.figure.Figure at 0x7fb7124c7128>",
            "image/png": "[encoded data removed]"
          },
          "metadata": {}
        }
      ]
    },
    {
      "metadata": {
        "trusted": true,
        "collapsed": true,
        "_uuid": "1679e358f7644c9a8f8681db625c86ca4c32ab34"
      },
      "cell_type": "code",
      "source": "",
      "execution_count": null,
      "outputs": []
    },
    {
      "metadata": {
        "trusted": true,
        "collapsed": true,
        "_uuid": "57a607ee1fefd90f1eaed3a026c87eae0135092f"
      },
      "cell_type": "code",
      "source": "",
      "execution_count": null,
      "outputs": []
    },
    {
      "metadata": {
        "trusted": true,
        "collapsed": true,
        "_uuid": "2fb4471d43d9c4d608b0a4627d2620069a5bd116"
      },
      "cell_type": "code",
      "source": "",
      "execution_count": null,
      "outputs": []
    },
    {
      "metadata": {
        "_uuid": "2e212f67e4d327b1a43c01cfe6571ed0b77bb1dc"
      },
      "cell_type": "markdown",
      "source": "## remove single value column"
    },
    {
      "metadata": {
        "_uuid": "e46b09e64ff06603acaa1c9982d3873d52bf354a",
        "collapsed": true,
        "trusted": true
      },
      "cell_type": "code",
      "source": "single_val_columns = findSingleValueColmuns(train_df)",
      "execution_count": 25,
      "outputs": []
    },
    {
      "metadata": {
        "_uuid": "a0503769c89e89766c3477aee4d5f5057d3cd49d"
      },
      "cell_type": "raw",
      "source": "for column in single_val_columns:\n    print(train_df[column].value_counts())"
    },
    {
      "metadata": {
        "_uuid": "21f4162cac5ccb61781cd22bd3722489b6a7d0fa",
        "scrolled": true,
        "trusted": true
      },
      "cell_type": "code",
      "source": "print(\"drop single value columns, \", len(single_val_columns), \"columns were dropped\")",
      "execution_count": 26,
      "outputs": [
        {
          "output_type": "stream",
          "text": "drop single value columns,  258 columns were dropped\n",
          "name": "stdout"
        }
      ]
    },
    {
      "metadata": {
        "_uuid": "bdb66f182a60b60bf1873d9f5bef84abd262fcf8",
        "trusted": true
      },
      "cell_type": "code",
      "source": "print(\"train_df.shape, test_df.shape\")\nprint(train_df.shape, test_df.shape)\n\ntrain_df.drop(single_val_columns, axis=1, inplace=True)\ntest_df.drop(single_val_columns, axis=1, inplace=True)\n\nprint(train_df.shape, test_df.shape)",
      "execution_count": 27,
      "outputs": [
        {
          "output_type": "stream",
          "text": "train_df.shape, test_df.shape\n(4459, 5001) (4459, 5000)\n(4459, 4743) (4459, 4742)\n",
          "name": "stdout"
        }
      ]
    },
    {
      "metadata": {
        "_uuid": "554684bde74821da2226c341256095b2ae619aa4",
        "collapsed": true,
        "trusted": true
      },
      "cell_type": "code",
      "source": "",
      "execution_count": null,
      "outputs": []
    },
    {
      "metadata": {
        "_uuid": "c5ff82f216d94b10c776d857c74814972456efab"
      },
      "cell_type": "markdown",
      "source": "## remove dupulicate column\n\nremove if train_df data is same even if test_df data is not same.\nbecause if train_df data is same, it cannot learn the differece."
    },
    {
      "metadata": {
        "_uuid": "6c5a2d04b6ce7a33a3c48fd2f92c782552f2f30a"
      },
      "cell_type": "raw",
      "source": "train_df[\"34ceb0081\"].equals(train_df[\"d60ddde1b\"]) # True"
    },
    {
      "metadata": {
        "_uuid": "a7263660aa7a848f6263696901af9252acb04d49"
      },
      "cell_type": "raw",
      "source": "test_df[\"34ceb0081\"].equals(test_df[\"d60ddde1b\"]) # False"
    },
    {
      "metadata": {
        "_uuid": "4e52d8c27e3b93312182b735e5e247a4b9c73c24"
      },
      "cell_type": "raw",
      "source": "columns = train_df.columns\ncolumns = columns.drop([\"ID\", \"target\"])\ncolumns"
    },
    {
      "metadata": {
        "_uuid": "a8a60badf6beb88cf19bd94e3391beb3837e9236"
      },
      "cell_type": "markdown",
      "source": "comment out to reduce time"
    },
    {
      "metadata": {
        "_uuid": "5875f464b4f924beec1c32d9ecc4ba0a246323d8"
      },
      "cell_type": "raw",
      "source": "%%time\n\n\n# Check and remove duplicate columns\ncolsToRemove = []\ncolsScaned = []\ndupList = {}\n\n\n#for i in tqdm(range(len(columns)-1)):\nfor i in range(len(columns)-1):\n    v = train_df[columns[i]].values\n    dupCols = []\n    for j in range(i+1,len(columns)):\n        if np.array_equal(v, train_df[columns[j]].values):\n            colsToRemove.append(columns[j])\n            if columns[j] not in colsScaned:\n                dupCols.append(columns[j]) \n                colsScaned.append(columns[j])\n                dupList[columns[i]] = dupCols\n                \n                \nprint(\"colsToRemove = \", colsToRemove)\nprint(\"colsScaned = \", colsScaned)\nprint(\"dupList = \", dupList)"
    },
    {
      "metadata": {
        "_uuid": "484261c4c62a10d19396f2aab2e47897c6c7bf0f",
        "collapsed": true,
        "trusted": true
      },
      "cell_type": "code",
      "source": "colsToRemove =  ['d60ddde1b', 'acc5b709d', 'f333a5f60', 'f8d75792f', '912836770', 'f333a5f60']\ncolsScaned =  ['d60ddde1b', 'acc5b709d', 'f333a5f60', 'f8d75792f', '912836770']\ndupList =  {'34ceb0081': ['d60ddde1b'], '8d57e2749': ['acc5b709d', 'f333a5f60'], '168b3e5bc': ['f8d75792f'], 'a765da8bc': ['912836770']}",
      "execution_count": 28,
      "outputs": []
    },
    {
      "metadata": {
        "_uuid": "68a31e6dc8ccdcd8ae7bd8eb95b83870531479be",
        "trusted": true
      },
      "cell_type": "code",
      "source": "print(\"train_df.shape, test_df.shape\")\nprint(train_df.shape, test_df.shape)\n\ntrain_df.drop(colsToRemove, axis=1, inplace=True)\ntest_df.drop(colsToRemove, axis=1, inplace=True)\n\nprint(train_df.shape, test_df.shape)",
      "execution_count": 29,
      "outputs": [
        {
          "output_type": "stream",
          "text": "train_df.shape, test_df.shape\n(4459, 4743) (4459, 4742)\n(4459, 4738) (4459, 4737)\n",
          "name": "stdout"
        }
      ]
    },
    {
      "metadata": {
        "_uuid": "75a26ee806776ad9936033ea797931feeb916f40",
        "collapsed": true,
        "trusted": true
      },
      "cell_type": "code",
      "source": "",
      "execution_count": null,
      "outputs": []
    },
    {
      "metadata": {
        "trusted": true,
        "collapsed": true,
        "_uuid": "a85f0ddefc618c78c0639bb888070c04a89cb9cb"
      },
      "cell_type": "code",
      "source": "",
      "execution_count": null,
      "outputs": []
    },
    {
      "metadata": {
        "_uuid": "ced61a01d9f3243564093be7f8f2bab0152b4099"
      },
      "cell_type": "markdown",
      "source": "## check Correlation and reduce high corr features\n\n- if a feature have only one value, correlation become NAN.\n- so better to check correlation after dropped one value features"
    },
    {
      "metadata": {
        "_uuid": "9dcb8e7fd8f40c14d22f700e7549d2fca9af860a"
      },
      "cell_type": "raw",
      "source": "    \ncolumns = [\"y\", \"X10\", \"X11\", \"X12\", \"X13\", \"X14\"]\ncheckCorrelationOfSelectedFeatures(train_df, columns)"
    },
    {
      "metadata": {
        "_uuid": "d3cab6321d521bec8dbea6ae3bb61102c7edc68a",
        "scrolled": false,
        "trusted": true
      },
      "cell_type": "raw",
      "source": "%%time\ncorrmat = train_df.corr(method=\"spearman\")\ncorrmat.to_csv('output/correlation.csv')"
    },
    {
      "metadata": {
        "_uuid": "004f7b29817c93421b0cda61a267efa9b0b3a498",
        "scrolled": false,
        "trusted": true
      },
      "cell_type": "raw",
      "source": "corrmat[\"target\"].sort_values(ascending=False).head(10)"
    },
    {
      "metadata": {
        "_uuid": "c36f94c7a7d53381b6f958b97feb126f40c1f1d1",
        "trusted": true
      },
      "cell_type": "raw",
      "source": "corrmat[\"target\"].sort_values(ascending=False).tail(10)"
    },
    {
      "metadata": {
        "trusted": true,
        "collapsed": true,
        "_uuid": "4d5103fef0d583527df0e68b1913d0a4a46fed11"
      },
      "cell_type": "raw",
      "source": ""
    },
    {
      "metadata": {
        "trusted": true,
        "collapsed": true,
        "_uuid": "456e11d8b26879e2ca302abc71853173c815e310"
      },
      "cell_type": "code",
      "source": "",
      "execution_count": null,
      "outputs": []
    },
    {
      "metadata": {
        "trusted": true,
        "collapsed": true,
        "_uuid": "fc302528e38ac36edd4a3031a51924d6ce02d3e3"
      },
      "cell_type": "code",
      "source": "",
      "execution_count": null,
      "outputs": []
    },
    {
      "metadata": {
        "trusted": true,
        "collapsed": true,
        "_uuid": "5223c37885377f3d5e64c0944feb092fface8892"
      },
      "cell_type": "code",
      "source": "",
      "execution_count": null,
      "outputs": []
    },
    {
      "metadata": {
        "_uuid": "8c9c174a517938f6d3d7ce82c112bff401cfce6f",
        "collapsed": true,
        "trusted": true
      },
      "cell_type": "code",
      "source": "",
      "execution_count": null,
      "outputs": []
    },
    {
      "metadata": {
        "_uuid": "5117c06944c3a4456e05478a74f7a70ed60fe086"
      },
      "cell_type": "markdown",
      "source": "## combine train/test to all_data"
    },
    {
      "metadata": {
        "_uuid": "3a7686e13357f1fe37e90f52cdf5398c667161ad",
        "collapsed": true,
        "trusted": true
      },
      "cell_type": "code",
      "source": "",
      "execution_count": null,
      "outputs": []
    },
    {
      "metadata": {
        "_uuid": "efb76057931a075ce0f51228cef440850dd5883d",
        "trusted": true
      },
      "cell_type": "code",
      "source": "ntrain = train_df.shape[0]\nall_data = pd.concat((train_df, test_df)).reset_index(drop=True)\n\nall_id, all_target, all_data = splitToIdTargetFeatures(all_data, id_name=\"ID\", target_name=\"target\")\n",
      "execution_count": 30,
      "outputs": [
        {
          "output_type": "stream",
          "text": "/opt/conda/lib/python3.6/site-packages/ipykernel_launcher.py:2: FutureWarning: Sorting because non-concatenation axis is not aligned. A future version\nof pandas will change to not sort by default.\n\nTo accept the future behavior, pass 'sort=False'.\n\nTo retain the current behavior and silence the warning, pass 'sort=True'.\n\n  \n",
          "name": "stderr"
        }
      ]
    },
    {
      "metadata": {
        "_uuid": "d28110829253bbf4efa337ef61822d7be5261e6b"
      },
      "cell_type": "raw",
      "source": "all_data.shape"
    },
    {
      "metadata": {
        "_uuid": "9b89e93cb805518c6f8e6d9c286c9bce0c6edfd7",
        "trusted": true
      },
      "cell_type": "code",
      "source": "all_data.head()",
      "execution_count": 31,
      "outputs": [
        {
          "output_type": "execute_result",
          "execution_count": 31,
          "data": {
            "text/plain": "   001476ffa  0019109c4  0022de2b3    ...      ffd50f0bf  ffdc4bcf8  ffec49dae\n0        0.0        0.0        0.0    ...            0.0        0.0        0.0\n1        0.0        0.0        0.0    ...            0.0        0.0        0.0\n2        0.0        0.0        0.0    ...            0.0        0.0        0.0\n3        0.0        0.0        0.0    ...            0.0        0.0        0.0\n4        0.0        0.0        0.0    ...            0.0        0.0        0.0\n\n[5 rows x 4736 columns]",
            "text/html": "<div>\n<style scoped>\n    .dataframe tbody tr th:only-of-type {\n        vertical-align: middle;\n    }\n\n    .dataframe tbody tr th {\n        vertical-align: top;\n    }\n\n    .dataframe thead th {\n        text-align: right;\n    }\n</style>\n<table border=\"1\" class=\"dataframe\">\n  <thead>\n    <tr style=\"text-align: right;\">\n      <th></th>\n      <th>001476ffa</th>\n      <th>0019109c4</th>\n      <th>0022de2b3</th>\n      <th>0024cd760</th>\n      <th>002d634dc</th>\n      <th>00302fe51</th>\n      <th>003da5628</th>\n      <th>006e72749</th>\n      <th>007d71f12</th>\n      <th>007ee91d1</th>\n      <th>009319104</th>\n      <th>009990be1</th>\n      <th>00b309c64</th>\n      <th>00c467392</th>\n      <th>00e87edf2</th>\n      <th>00ebe887d</th>\n      <th>00f844fea</th>\n      <th>01005e5de</th>\n      <th>0106dd950</th>\n      <th>013127235</th>\n      <th>014574363</th>\n      <th>015c3e354</th>\n      <th>01816048b</th>\n      <th>0186620d7</th>\n      <th>018ab6a80</th>\n      <th>018d6afbb</th>\n      <th>018f23166</th>\n      <th>0196d5172</th>\n      <th>01b72b3dc</th>\n      <th>01c0495f8</th>\n      <th>01c16cc5a</th>\n      <th>01f7de15d</th>\n      <th>01fdd93d3</th>\n      <th>020a817ab</th>\n      <th>0231f07ed</th>\n      <th>023bc78d8</th>\n      <th>024480f48</th>\n      <th>0247e4a94</th>\n      <th>024c577b9</th>\n      <th>025172af5</th>\n      <th>...</th>\n      <th>fe0dd1a15</th>\n      <th>fe1160758</th>\n      <th>fe28836c3</th>\n      <th>fe326ffa1</th>\n      <th>fe33df1c4</th>\n      <th>fe3fe2667</th>\n      <th>fe56ddf0f</th>\n      <th>fe5d62533</th>\n      <th>fe73d7d41</th>\n      <th>fe758841a</th>\n      <th>fe919be32</th>\n      <th>feb40ad9f</th>\n      <th>fec5644cf</th>\n      <th>fec5eaf1a</th>\n      <th>fed0df103</th>\n      <th>fed5f4046</th>\n      <th>fee2d3bf9</th>\n      <th>feeb05b3f</th>\n      <th>feed9d437</th>\n      <th>ff08cfbbe</th>\n      <th>ff1551a48</th>\n      <th>ff2c9aa8f</th>\n      <th>ff3b49c1d</th>\n      <th>ff3ebf76b</th>\n      <th>ff558c2f2</th>\n      <th>ff65215db</th>\n      <th>ff793343c</th>\n      <th>ff7b471cd</th>\n      <th>ff8561ce9</th>\n      <th>ff96b95eb</th>\n      <th>ffa45bf70</th>\n      <th>ffa6b80e2</th>\n      <th>ffa903344</th>\n      <th>ffb34b926</th>\n      <th>ffca57b7b</th>\n      <th>ffcec956f</th>\n      <th>ffd2f9409</th>\n      <th>ffd50f0bf</th>\n      <th>ffdc4bcf8</th>\n      <th>ffec49dae</th>\n    </tr>\n  </thead>\n  <tbody>\n    <tr>\n      <th>0</th>\n      <td>0.0</td>\n      <td>0.0</td>\n      <td>0.0</td>\n      <td>0.0</td>\n      <td>0.0</td>\n      <td>0.0</td>\n      <td>0.0</td>\n      <td>0.0</td>\n      <td>0.0</td>\n      <td>0.0</td>\n      <td>0.0</td>\n      <td>0.0</td>\n      <td>0.0</td>\n      <td>0.0</td>\n      <td>0.0</td>\n      <td>0.0</td>\n      <td>0.0</td>\n      <td>0.0</td>\n      <td>0.0</td>\n      <td>0.0</td>\n      <td>0.0</td>\n      <td>0.0</td>\n      <td>0.0</td>\n      <td>0.0</td>\n      <td>0.0</td>\n      <td>0.0</td>\n      <td>0.0</td>\n      <td>0.0</td>\n      <td>0.0</td>\n      <td>0.0</td>\n      <td>0.0</td>\n      <td>0.0</td>\n      <td>0.0</td>\n      <td>0.0</td>\n      <td>0.0</td>\n      <td>0.0</td>\n      <td>0.0</td>\n      <td>0.0</td>\n      <td>0.0</td>\n      <td>0.0</td>\n      <td>...</td>\n      <td>0.0</td>\n      <td>0.0</td>\n      <td>0.0</td>\n      <td>0.0</td>\n      <td>0.0</td>\n      <td>0.0</td>\n      <td>0.0</td>\n      <td>0.0</td>\n      <td>0.0</td>\n      <td>0.0</td>\n      <td>0.0</td>\n      <td>0.0</td>\n      <td>0.0</td>\n      <td>0.0</td>\n      <td>0.0</td>\n      <td>0.0</td>\n      <td>0.0</td>\n      <td>0.0</td>\n      <td>0.0</td>\n      <td>0.0</td>\n      <td>0.0</td>\n      <td>0.0</td>\n      <td>0.0</td>\n      <td>0.0</td>\n      <td>0.0</td>\n      <td>0.0</td>\n      <td>0.0</td>\n      <td>0.0</td>\n      <td>0.0</td>\n      <td>0.0</td>\n      <td>0.0</td>\n      <td>0.0</td>\n      <td>0.0</td>\n      <td>0.0</td>\n      <td>0.0</td>\n      <td>0.0</td>\n      <td>0.0</td>\n      <td>0.0</td>\n      <td>0.0</td>\n      <td>0.0</td>\n    </tr>\n    <tr>\n      <th>1</th>\n      <td>0.0</td>\n      <td>0.0</td>\n      <td>0.0</td>\n      <td>0.0</td>\n      <td>0.0</td>\n      <td>0.0</td>\n      <td>0.0</td>\n      <td>0.0</td>\n      <td>0.0</td>\n      <td>0.0</td>\n      <td>0.0</td>\n      <td>0.0</td>\n      <td>0.0</td>\n      <td>0.0</td>\n      <td>0.0</td>\n      <td>0.0</td>\n      <td>0.0</td>\n      <td>0.0</td>\n      <td>0.0</td>\n      <td>0.0</td>\n      <td>0.0</td>\n      <td>0.0</td>\n      <td>0.0</td>\n      <td>0.0</td>\n      <td>0.0</td>\n      <td>0.0</td>\n      <td>0.0</td>\n      <td>0.0</td>\n      <td>0.0</td>\n      <td>0.0</td>\n      <td>0.0</td>\n      <td>0.0</td>\n      <td>0.0</td>\n      <td>0.0</td>\n      <td>0.0</td>\n      <td>0.0</td>\n      <td>0.0</td>\n      <td>0.0</td>\n      <td>0.0</td>\n      <td>0.0</td>\n      <td>...</td>\n      <td>0.0</td>\n      <td>0.0</td>\n      <td>0.0</td>\n      <td>0.0</td>\n      <td>0.0</td>\n      <td>0.0</td>\n      <td>0.0</td>\n      <td>0.0</td>\n      <td>0.0</td>\n      <td>0.0</td>\n      <td>0.0</td>\n      <td>0.0</td>\n      <td>0.0</td>\n      <td>0.0</td>\n      <td>0.0</td>\n      <td>0.0</td>\n      <td>0.0</td>\n      <td>0.0</td>\n      <td>0.0</td>\n      <td>0.0</td>\n      <td>0.0</td>\n      <td>0.0</td>\n      <td>0.0</td>\n      <td>0.0</td>\n      <td>0.0</td>\n      <td>0.0</td>\n      <td>0.0</td>\n      <td>0.0</td>\n      <td>0.0</td>\n      <td>0.0</td>\n      <td>0.0</td>\n      <td>0.0</td>\n      <td>0.0</td>\n      <td>0.0</td>\n      <td>0.0</td>\n      <td>0.0</td>\n      <td>0.0</td>\n      <td>0.0</td>\n      <td>0.0</td>\n      <td>0.0</td>\n    </tr>\n    <tr>\n      <th>2</th>\n      <td>0.0</td>\n      <td>0.0</td>\n      <td>0.0</td>\n      <td>0.0</td>\n      <td>0.0</td>\n      <td>0.0</td>\n      <td>0.0</td>\n      <td>0.0</td>\n      <td>0.0</td>\n      <td>0.0</td>\n      <td>0.0</td>\n      <td>0.0</td>\n      <td>0.0</td>\n      <td>0.0</td>\n      <td>0.0</td>\n      <td>0.0</td>\n      <td>0.0</td>\n      <td>0.0</td>\n      <td>0.0</td>\n      <td>0.0</td>\n      <td>0.0</td>\n      <td>0.0</td>\n      <td>0.0</td>\n      <td>0.0</td>\n      <td>0.0</td>\n      <td>0.0</td>\n      <td>0.0</td>\n      <td>0.0</td>\n      <td>0.0</td>\n      <td>0.0</td>\n      <td>0.0</td>\n      <td>0.0</td>\n      <td>0.0</td>\n      <td>0.0</td>\n      <td>0.0</td>\n      <td>0.0</td>\n      <td>0.0</td>\n      <td>0.0</td>\n      <td>0.0</td>\n      <td>0.0</td>\n      <td>...</td>\n      <td>0.0</td>\n      <td>0.0</td>\n      <td>0.0</td>\n      <td>0.0</td>\n      <td>0.0</td>\n      <td>0.0</td>\n      <td>0.0</td>\n      <td>0.0</td>\n      <td>0.0</td>\n      <td>0.0</td>\n      <td>0.0</td>\n      <td>0.0</td>\n      <td>0.0</td>\n      <td>0.0</td>\n      <td>0.0</td>\n      <td>0.0</td>\n      <td>0.0</td>\n      <td>0.0</td>\n      <td>0.0</td>\n      <td>0.0</td>\n      <td>0.0</td>\n      <td>0.0</td>\n      <td>0.0</td>\n      <td>0.0</td>\n      <td>0.0</td>\n      <td>0.0</td>\n      <td>0.0</td>\n      <td>0.0</td>\n      <td>0.0</td>\n      <td>0.0</td>\n      <td>0.0</td>\n      <td>0.0</td>\n      <td>0.0</td>\n      <td>0.0</td>\n      <td>0.0</td>\n      <td>0.0</td>\n      <td>0.0</td>\n      <td>0.0</td>\n      <td>0.0</td>\n      <td>0.0</td>\n    </tr>\n    <tr>\n      <th>3</th>\n      <td>0.0</td>\n      <td>0.0</td>\n      <td>0.0</td>\n      <td>0.0</td>\n      <td>0.0</td>\n      <td>0.0</td>\n      <td>0.0</td>\n      <td>0.0</td>\n      <td>0.0</td>\n      <td>0.0</td>\n      <td>0.0</td>\n      <td>0.0</td>\n      <td>0.0</td>\n      <td>0.0</td>\n      <td>0.0</td>\n      <td>0.0</td>\n      <td>0.0</td>\n      <td>0.0</td>\n      <td>0.0</td>\n      <td>0.0</td>\n      <td>0.0</td>\n      <td>0.0</td>\n      <td>0.0</td>\n      <td>0.0</td>\n      <td>0.0</td>\n      <td>0.0</td>\n      <td>0.0</td>\n      <td>0.0</td>\n      <td>0.0</td>\n      <td>0.0</td>\n      <td>0.0</td>\n      <td>0.0</td>\n      <td>0.0</td>\n      <td>0.0</td>\n      <td>0.0</td>\n      <td>0.0</td>\n      <td>0.0</td>\n      <td>0.0</td>\n      <td>0.0</td>\n      <td>0.0</td>\n      <td>...</td>\n      <td>0.0</td>\n      <td>0.0</td>\n      <td>0.0</td>\n      <td>0.0</td>\n      <td>0.0</td>\n      <td>0.0</td>\n      <td>0.0</td>\n      <td>0.0</td>\n      <td>0.0</td>\n      <td>0.0</td>\n      <td>0.0</td>\n      <td>0.0</td>\n      <td>0.0</td>\n      <td>0.0</td>\n      <td>0.0</td>\n      <td>0.0</td>\n      <td>0.0</td>\n      <td>0.0</td>\n      <td>0.0</td>\n      <td>0.0</td>\n      <td>0.0</td>\n      <td>0.0</td>\n      <td>0.0</td>\n      <td>0.0</td>\n      <td>0.0</td>\n      <td>0.0</td>\n      <td>0.0</td>\n      <td>0.0</td>\n      <td>0.0</td>\n      <td>0.0</td>\n      <td>0.0</td>\n      <td>0.0</td>\n      <td>0.0</td>\n      <td>0.0</td>\n      <td>0.0</td>\n      <td>0.0</td>\n      <td>0.0</td>\n      <td>0.0</td>\n      <td>0.0</td>\n      <td>0.0</td>\n    </tr>\n    <tr>\n      <th>4</th>\n      <td>0.0</td>\n      <td>0.0</td>\n      <td>0.0</td>\n      <td>0.0</td>\n      <td>0.0</td>\n      <td>0.0</td>\n      <td>0.0</td>\n      <td>0.0</td>\n      <td>0.0</td>\n      <td>0.0</td>\n      <td>0.0</td>\n      <td>0.0</td>\n      <td>0.0</td>\n      <td>0.0</td>\n      <td>0.0</td>\n      <td>0.0</td>\n      <td>0.0</td>\n      <td>0.0</td>\n      <td>0.0</td>\n      <td>0.0</td>\n      <td>0.0</td>\n      <td>0.0</td>\n      <td>0.0</td>\n      <td>0.0</td>\n      <td>0.0</td>\n      <td>0.0</td>\n      <td>0.0</td>\n      <td>0.0</td>\n      <td>0.0</td>\n      <td>0.0</td>\n      <td>0.0</td>\n      <td>0.0</td>\n      <td>0.0</td>\n      <td>0.0</td>\n      <td>0.0</td>\n      <td>0.0</td>\n      <td>0.0</td>\n      <td>0.0</td>\n      <td>5400000.0</td>\n      <td>0.0</td>\n      <td>...</td>\n      <td>0.0</td>\n      <td>0.0</td>\n      <td>0.0</td>\n      <td>0.0</td>\n      <td>0.0</td>\n      <td>0.0</td>\n      <td>0.0</td>\n      <td>0.0</td>\n      <td>0.0</td>\n      <td>0.0</td>\n      <td>0.0</td>\n      <td>0.0</td>\n      <td>0.0</td>\n      <td>0.0</td>\n      <td>0.0</td>\n      <td>0.0</td>\n      <td>0.0</td>\n      <td>0.0</td>\n      <td>0.0</td>\n      <td>0.0</td>\n      <td>0.0</td>\n      <td>0.0</td>\n      <td>0.0</td>\n      <td>0.0</td>\n      <td>0.0</td>\n      <td>0.0</td>\n      <td>0.0</td>\n      <td>0.0</td>\n      <td>0.0</td>\n      <td>0.0</td>\n      <td>0.0</td>\n      <td>0.0</td>\n      <td>0.0</td>\n      <td>0.0</td>\n      <td>0.0</td>\n      <td>0.0</td>\n      <td>0.0</td>\n      <td>0.0</td>\n      <td>0.0</td>\n      <td>0.0</td>\n    </tr>\n  </tbody>\n</table>\n</div>"
          },
          "metadata": {}
        }
      ]
    },
    {
      "metadata": {
        "_uuid": "d1fb3db28e659f6efa172dc25d53e865bbe014ec"
      },
      "cell_type": "raw",
      "source": "all_data.tail()"
    },
    {
      "metadata": {
        "_uuid": "635edf0c93700223cbcc54da44c957e9b4656f37",
        "trusted": true
      },
      "cell_type": "code",
      "source": "all_id.head()",
      "execution_count": 32,
      "outputs": [
        {
          "output_type": "execute_result",
          "execution_count": 32,
          "data": {
            "text/plain": "0    000d6aaf2\n1    000fbd867\n2    0027d6b71\n3    0028cbf45\n4    002a68644\nName: ID, dtype: object"
          },
          "metadata": {}
        }
      ]
    },
    {
      "metadata": {
        "_uuid": "52082f1312deaf89e0bc6dea3b8fbba19ea311ff"
      },
      "cell_type": "raw",
      "source": "all_id.tail()"
    },
    {
      "metadata": {
        "_uuid": "97ea7e7bf8cb28bb41ad3e411d3be46c96da81f9",
        "trusted": true
      },
      "cell_type": "code",
      "source": "all_target.head()",
      "execution_count": 33,
      "outputs": [
        {
          "output_type": "execute_result",
          "execution_count": 33,
          "data": {
            "text/plain": "0    17.453097\n1    13.304687\n2    16.118096\n3    14.508658\n4    16.482739\nName: target, dtype: float64"
          },
          "metadata": {}
        }
      ]
    },
    {
      "metadata": {
        "_uuid": "378337eb7899636a44ae10e58443cd989cc0ccbf"
      },
      "cell_type": "raw",
      "source": "all_target.tail()"
    },
    {
      "metadata": {
        "_uuid": "4651999ba4e764b391f66cf4e747d7f0256668f5",
        "collapsed": true,
        "trusted": true
      },
      "cell_type": "code",
      "source": "",
      "execution_count": null,
      "outputs": []
    },
    {
      "metadata": {
        "_uuid": "1495b61e0767575e331029fd4f48a063ff5d83e3"
      },
      "cell_type": "markdown",
      "source": "## skew feature"
    },
    {
      "metadata": {
        "_uuid": "f6301835471a0cb61411d079b10b93f6d9b95fd4",
        "trusted": true
      },
      "cell_type": "code",
      "source": "skewness = checkSkewness(all_data)\nskewness.head(5)",
      "execution_count": 34,
      "outputs": [
        {
          "output_type": "stream",
          "text": "\n# Skew in numerical features: \n\n                Skew\n9685f5e16  94.347123\n28690ae0d  94.248748\n07cb6041d  94.182417\n625525b5d  94.177077\nede70bfea  94.154209\ndf6a71cc7  94.141417\n2b85882ad  94.140350\n52588de80  94.097587\n2b72620ae  94.077240\n9fa984817  94.055658\n5878b703c  94.020534\n3d23e8abd  93.963359\n3be4dad48  93.915185\n3e0e55648  93.827672\n73db5b43b  93.458314\nff7b471cd  93.288417\n99258443a  93.232439\n985f4005a  93.036880\n26b423c42  92.967400\n4ceef6dbd  92.791311\nd9ce16f1c  92.778162\n4877151a3  92.724249\ncfa552462  92.570156\n84067cfe0  92.343155\nef139d7ac  92.262692\n969d32625  92.230946\n180f8ed6e  92.225236\n2127bb611  92.195580\n578a07608  92.053592\n950b9cf2d  92.008863\n...              ...\n68a945b18   8.459370\n77deffdf0   8.451565\n4bcf15776   8.406754\n166008929   8.379911\n9de83dc23   8.354975\ncbb673163   8.348954\n935ca66a9   8.334420\nad009c8b9   8.266731\nf02ecb19c   8.246905\n1fe5d56b9   8.078025\nc0d2348b7   8.068897\nbb0ce54e9   8.055600\n861076e21   8.026097\nbd6da0cca   8.014302\na09a238d0   7.944620\nc8d582dd2   7.938768\nc10f31664   7.908122\nfb49e4212   7.738208\nStd         7.271939\n9fd594eec   7.130255\n6eef030c1   7.016338\n1702b5bf0   6.687400\nfc99f9426   6.657259\n324921c7b   6.639733\n26fc93eb7   6.614077\nf74e8f13d   6.466420\n70feb1494   5.912312\nSumValues   4.524844\nMean        4.161501\nSumZeros   -4.524844\n\n[4736 rows x 1 columns]\n",
          "name": "stdout"
        },
        {
          "output_type": "execute_result",
          "execution_count": 34,
          "data": {
            "text/plain": "                Skew\n9685f5e16  94.347123\n28690ae0d  94.248748\n07cb6041d  94.182417\n625525b5d  94.177077\nede70bfea  94.154209",
            "text/html": "<div>\n<style scoped>\n    .dataframe tbody tr th:only-of-type {\n        vertical-align: middle;\n    }\n\n    .dataframe tbody tr th {\n        vertical-align: top;\n    }\n\n    .dataframe thead th {\n        text-align: right;\n    }\n</style>\n<table border=\"1\" class=\"dataframe\">\n  <thead>\n    <tr style=\"text-align: right;\">\n      <th></th>\n      <th>Skew</th>\n    </tr>\n  </thead>\n  <tbody>\n    <tr>\n      <th>9685f5e16</th>\n      <td>94.347123</td>\n    </tr>\n    <tr>\n      <th>28690ae0d</th>\n      <td>94.248748</td>\n    </tr>\n    <tr>\n      <th>07cb6041d</th>\n      <td>94.182417</td>\n    </tr>\n    <tr>\n      <th>625525b5d</th>\n      <td>94.177077</td>\n    </tr>\n    <tr>\n      <th>ede70bfea</th>\n      <td>94.154209</td>\n    </tr>\n  </tbody>\n</table>\n</div>"
          },
          "metadata": {}
        }
      ]
    },
    {
      "metadata": {
        "_uuid": "991fea89962d4b5635b97d44f10de5a5aefb13e5",
        "trusted": true
      },
      "cell_type": "code",
      "source": "skewness.tail(5)",
      "execution_count": 35,
      "outputs": [
        {
          "output_type": "execute_result",
          "execution_count": 35,
          "data": {
            "text/plain": "               Skew\nf74e8f13d  6.466420\n70feb1494  5.912312\nSumValues  4.524844\nMean       4.161501\nSumZeros  -4.524844",
            "text/html": "<div>\n<style scoped>\n    .dataframe tbody tr th:only-of-type {\n        vertical-align: middle;\n    }\n\n    .dataframe tbody tr th {\n        vertical-align: top;\n    }\n\n    .dataframe thead th {\n        text-align: right;\n    }\n</style>\n<table border=\"1\" class=\"dataframe\">\n  <thead>\n    <tr style=\"text-align: right;\">\n      <th></th>\n      <th>Skew</th>\n    </tr>\n  </thead>\n  <tbody>\n    <tr>\n      <th>f74e8f13d</th>\n      <td>6.466420</td>\n    </tr>\n    <tr>\n      <th>70feb1494</th>\n      <td>5.912312</td>\n    </tr>\n    <tr>\n      <th>SumValues</th>\n      <td>4.524844</td>\n    </tr>\n    <tr>\n      <th>Mean</th>\n      <td>4.161501</td>\n    </tr>\n    <tr>\n      <th>SumZeros</th>\n      <td>-4.524844</td>\n    </tr>\n  </tbody>\n</table>\n</div>"
          },
          "metadata": {}
        }
      ]
    },
    {
      "metadata": {
        "_uuid": "d01c8b71957be7098751e7393decdfda7db0c30a",
        "collapsed": true,
        "trusted": true
      },
      "cell_type": "code",
      "source": "",
      "execution_count": null,
      "outputs": []
    },
    {
      "metadata": {
        "_uuid": "eb5bc8562eb6c57d2fafafa442154173fad072ff",
        "collapsed": true,
        "trusted": true
      },
      "cell_type": "code",
      "source": "",
      "execution_count": null,
      "outputs": []
    },
    {
      "metadata": {
        "_uuid": "5e0df80f8b19dc329076ec5bfea93239c1575251"
      },
      "cell_type": "raw",
      "source": "for column in skewness.index[:5]:\n    print(column)\n    plt.subplots(figsize=(12,9))\n    sns.distplot(all_data[column], fit=norm)\n    plt.show()\n    print(\"skewness: \", skewness.loc[column, \"Skew\"])\n    print(all_data[column].value_counts())"
    },
    {
      "metadata": {
        "_uuid": "b53ce1b6d410fa9a188d1fee079ede315d254e6a",
        "collapsed": true,
        "trusted": true
      },
      "cell_type": "code",
      "source": "",
      "execution_count": null,
      "outputs": []
    },
    {
      "metadata": {
        "_uuid": "3b1dfcb49c35f9f2ed3147bac4fd8f47c6d28cb7"
      },
      "cell_type": "raw",
      "source": "for column in skewness.index[-10:]:\n    print(\"column: \", column)\n    plt.subplots(figsize=(12,9))\n    sns.distplot(all_data[column], fit=norm)\n    plt.show()\n    print(all_data[column].value_counts())"
    },
    {
      "metadata": {
        "_uuid": "04c94661386207f568748826656218c4d0c001a6",
        "collapsed": true,
        "trusted": true
      },
      "cell_type": "code",
      "source": "",
      "execution_count": null,
      "outputs": []
    },
    {
      "metadata": {
        "_uuid": "07288bc7d2e6ac2e5083dd8ca189d9e991a0823f",
        "collapsed": true,
        "trusted": true
      },
      "cell_type": "code",
      "source": "",
      "execution_count": null,
      "outputs": []
    },
    {
      "metadata": {
        "_uuid": "41237f7acd6ad78d2483b82a102805592c2717f0",
        "collapsed": true,
        "trusted": true
      },
      "cell_type": "code",
      "source": "",
      "execution_count": null,
      "outputs": []
    },
    {
      "metadata": {
        "_uuid": "a3abea0303439e945a19c30d7afcd45ce8f770d6"
      },
      "cell_type": "raw",
      "source": "## find boolean feature"
    },
    {
      "metadata": {
        "_uuid": "edab56e3add995549258984a237b34b7109184db"
      },
      "cell_type": "raw",
      "source": "checkValueCounts(all_data)"
    },
    {
      "metadata": {
        "_uuid": "f0cf2084bec126ea545cc19d8218dac83b44a41b",
        "collapsed": true,
        "trusted": true
      },
      "cell_type": "code",
      "source": "",
      "execution_count": null,
      "outputs": []
    },
    {
      "metadata": {
        "_uuid": "971f54c3900d307e78bfa23f48685d0ff90a1835"
      },
      "cell_type": "markdown",
      "source": "## Box Cox Transformation of (highly) skewed features\n\n"
    },
    {
      "metadata": {
        "_uuid": "5c9305406e4b1a655bb55f05bcfa56d9b585e0c1"
      },
      "cell_type": "raw",
      "source": "all_data.head()"
    },
    {
      "metadata": {
        "_uuid": "dc2f7ab0966280465ae8c6727e929c42189668c9",
        "trusted": true
      },
      "cell_type": "code",
      "source": "skewnessBig = skewness[abs(skewness) > 0.75]\nprint(\"feature num {}\\nskewed feature number: {}\".format(skewness.shape[0], \n                                                         skewnessBig.shape[0]))\n\nfrom scipy.special import boxcox1p\n\nskewed_features = skewnessBig.index\nlam = 0.15\nfor feat in skewed_features:\n    all_data[feat] = boxcox1p(all_data[feat], lam)\n",
      "execution_count": 36,
      "outputs": [
        {
          "output_type": "stream",
          "text": "feature num 4736\nskewed feature number: 4736\n",
          "name": "stdout"
        }
      ]
    },
    {
      "metadata": {
        "_uuid": "96063ed3f5574f368f3eae0af3b6728fa8a6bbde"
      },
      "cell_type": "raw",
      "source": "all_data.head()"
    },
    {
      "metadata": {
        "_uuid": "2fea1d856a376a625b24b20c4fd27b813e1aabf9",
        "trusted": true
      },
      "cell_type": "code",
      "source": "all_data.apply(\n    lambda x: skew(x.dropna())).sort_values(ascending=False)",
      "execution_count": 37,
      "outputs": [
        {
          "output_type": "execute_result",
          "execution_count": 37,
          "data": {
            "text/plain": "81545f1e1    33.937696\n1b48a4b5b    33.531997\nacd155589    32.105840\nb5ad8afe0    32.099127\n07a53f839    31.887376\n30cef4483    31.669091\n38a5a3497    31.587850\na0a622723    31.542585\n083640132    31.408360\n4877151a3    31.253473\n4cbb46788    31.068704\n4a3da18d3    31.065376\n4c427c13e    30.644024\n3c20d1abb    30.490877\n49fea7ce7    30.378241\n22bf44001    30.214509\nf7f2e3896    30.078895\n3b583a709    30.018107\n36a131c2c    29.965794\nad327fcc0    29.923596\n9a3f53be7    29.913384\nfb5e79385    29.841790\nf13fa756f    29.649864\n0a1cce57e    29.592990\n2bc6017e1    29.476599\na37de954e    29.296004\ne851264a5    29.218739\ncfa552462    29.209828\n5355ec916    29.193011\n91389982b    29.185197\n               ...    \n2ec5b290f     1.664291\ne176a204a     1.660468\n1db387535     1.656924\n703885424     1.655820\n963a49cdc     1.655326\n58e056e12     1.654711\nb43a7cfd5     1.653519\n491b9ee45     1.653388\nf74e8f13d     1.652385\n62e59a501     1.646516\n66ace2992     1.626553\n70feb1494     1.625851\n6eef030c1     1.625384\n58232a6fb     1.625192\n324921c7b     1.617700\n5c6487af1     1.611422\n15ace8c9f     1.610297\nfb0f5dbfe     1.606658\n1702b5bf0     1.580194\n20aa07010     1.576515\neeb9cd3aa     1.568615\n9fd594eec     1.554625\n58e2e02e6     1.553824\nf190486d6     1.528897\nVar           0.362473\nSumValues     0.215662\nMean         -0.041559\nMax          -0.176416\nStd          -0.365273\nSumZeros     -5.176916\nLength: 4736, dtype: float64"
          },
          "metadata": {}
        }
      ]
    },
    {
      "metadata": {
        "_uuid": "202061d4237529ea7ccbb15894ba72d5872723ac"
      },
      "cell_type": "raw",
      "source": "checkValueCounts(all_data)"
    },
    {
      "metadata": {
        "_uuid": "894f3cdff38473217f8fc25456246703966b239f"
      },
      "cell_type": "raw",
      "source": "all_data.iloc[0, :].value_counts()"
    },
    {
      "metadata": {
        "_uuid": "7657911f5840322ed71b399ea606546b9ab4b492",
        "collapsed": true,
        "trusted": true
      },
      "cell_type": "code",
      "source": "",
      "execution_count": null,
      "outputs": []
    },
    {
      "metadata": {
        "_uuid": "7e2e44436d22047d10a5541c43522d776fb4149a"
      },
      "cell_type": "markdown",
      "source": "----\n\n# prepare train/test data"
    },
    {
      "metadata": {
        "_uuid": "bc3f53667d5c5d2e3ac2705368e78250b12a4980"
      },
      "cell_type": "raw",
      "source": "train_df.head()"
    },
    {
      "metadata": {
        "_uuid": "c3055e82371f8e706524ae3cd18d4c0e626110bb",
        "collapsed": true,
        "trusted": true
      },
      "cell_type": "code",
      "source": "id_train_df, y_train_df, X_train_df = splitToIdTargetFeatures(train_df,\n                                                              id_name=\"ID\",\n                                                              target_name=\"target\")",
      "execution_count": 38,
      "outputs": []
    },
    {
      "metadata": {
        "_uuid": "4366e9d46021cb516bf8c07652f98c3d7addbd53",
        "scrolled": true,
        "trusted": true
      },
      "cell_type": "code",
      "source": "print(id_train_df.head())\nprint(y_train_df.head())\nprint(X_train_df.head())",
      "execution_count": 39,
      "outputs": [
        {
          "output_type": "stream",
          "text": "0    000d6aaf2\n1    000fbd867\n2    0027d6b71\n3    0028cbf45\n4    002a68644\nName: ID, dtype: object\n0    17.453097\n1    13.304687\n2    16.118096\n3    14.508658\n4    16.482739\nName: target, dtype: float64\n   SumValues  SumZeros      ...                Var           Std\n0        103      4889      ...       3.031989e+12  1.741261e+06\n1         68      4924      ...       2.338739e+12  1.529294e+06\n2         19      4973      ...       1.098310e+11  3.314076e+05\n3         23      4969      ...       3.020618e+10  1.737993e+05\n4         27      4965      ...       7.195723e+11  8.482761e+05\n\n[5 rows x 4736 columns]\n",
          "name": "stdout"
        }
      ]
    },
    {
      "metadata": {
        "_uuid": "85e096919e504df779736dece2ccc86a9139b69a",
        "trusted": true
      },
      "cell_type": "code",
      "source": "X_train, X_test, y_train, y_test = train_test_split(\n    X_train_df, y_train_df, \n    test_size=0.33, random_state=42)\nprint(\"train/test data shape\", X_train.shape, X_test.shape)\n",
      "execution_count": 40,
      "outputs": [
        {
          "output_type": "stream",
          "text": "train/test data shape (2987, 4736) (1472, 4736)\n",
          "name": "stdout"
        }
      ]
    },
    {
      "metadata": {
        "_uuid": "834e43e9a1a54145c8d956dedfff715ee443c787"
      },
      "cell_type": "raw",
      "source": "X_train_df.head()"
    },
    {
      "metadata": {
        "_uuid": "4e852449566448da5728214b012a38d8eefbffd9",
        "collapsed": true,
        "trusted": true
      },
      "cell_type": "code",
      "source": "",
      "execution_count": null,
      "outputs": []
    },
    {
      "metadata": {
        "_uuid": "5df26cefa50c8c384b747b0bed2c72a7552894cc",
        "collapsed": true,
        "trusted": true
      },
      "cell_type": "code",
      "source": "",
      "execution_count": null,
      "outputs": []
    },
    {
      "metadata": {
        "_uuid": "b19b65be531e8af2ed1e207a9cac73bdd88d2329"
      },
      "cell_type": "markdown",
      "source": "# base model"
    },
    {
      "metadata": {
        "_uuid": "6e0cfa1e4ce49b26d3a4a15046ef4fc984907876",
        "collapsed": true,
        "trusted": true
      },
      "cell_type": "code",
      "source": "from sklearn.pipeline import make_pipeline\nfrom sklearn.preprocessing import RobustScaler\n\nfrom sklearn.decomposition import PCA\n\nfrom hyperopt import hp, tpe, Trials, fmin\n\nfrom sklearn.svm import SVR\nfrom sklearn.linear_model import ElasticNet\nfrom sklearn.linear_model import Lasso\nfrom sklearn.kernel_ridge import KernelRidge\nfrom sklearn.neighbors import KNeighborsRegressor\nfrom sklearn.ensemble import BaggingRegressor\nfrom sklearn.tree import DecisionTreeRegressor\n\nfrom sklearn.ensemble import RandomForestRegressor\nfrom sklearn.ensemble import GradientBoostingRegressor\n\nimport xgboost as xgb\nfrom xgboost import XGBRegressor\n\nimport lightgbm as lgb\nfrom lightgbm import LGBMRegressor\n\nfrom mlxtend.regressor import StackingRegressor",
      "execution_count": 41,
      "outputs": []
    },
    {
      "metadata": {
        "_uuid": "6b6b2e6579c7401f3ed54e3c987c9924d7c95d7f"
      },
      "cell_type": "markdown",
      "source": "## Defined find best parameter function by hyperopt module"
    },
    {
      "metadata": {
        "_uuid": "5c17d9e3dd4dbd05e4e431f875a1fcae8d00e611"
      },
      "cell_type": "raw",
      "source": "model = make_pipeline(\n            RobustScaler(),\n            SVR()\n)\n"
    },
    {
      "metadata": {
        "_uuid": "131e60560bf02491d0bd82415fffe74d3235722c"
      },
      "cell_type": "raw",
      "source": " model.steps[0]"
    },
    {
      "metadata": {
        "_uuid": "913f51c2d239e71dcbfaf4e1e564538b23ea5061"
      },
      "cell_type": "raw",
      "source": " model.steps[1]"
    },
    {
      "metadata": {
        "_uuid": "3d5b557b5eb893363111796fa0106fe4bb1b822d"
      },
      "cell_type": "raw",
      "source": " model.steps[-1]"
    },
    {
      "metadata": {
        "_uuid": "b5c315f458b7044bccf13d5bb22d4b48ee106f11"
      },
      "cell_type": "raw",
      "source": "svrstep =  model.steps[-1]\n"
    },
    {
      "metadata": {
        "_uuid": "259b9836d13f919a31b2b37e7762f90a21c6a513"
      },
      "cell_type": "raw",
      "source": "svrstep.set_params(**args)"
    },
    {
      "metadata": {
        "_uuid": "7026026a95cb3183b19b9140337027346b12527d"
      },
      "cell_type": "markdown",
      "source": "### give model for hyperopt my funcs"
    },
    {
      "metadata": {
        "_uuid": "ae6711d01a4e2e031c3b0d5200a7da8268f1f8ad",
        "code_folding": [],
        "collapsed": true,
        "trusted": true
      },
      "cell_type": "code",
      "source": "count_hyperopt = 0\n\ndef hyperopt_objective(model, X_train, y_train, scoring=\"r2\", cv_size=5, n_jobs=3):\n    \"\"\"return objective function for hyperopt\"\"\"\n\n    def objective(args):\n        global count_hyperopt\n        print(\"Trial \", count_hyperopt, \", Params \", args, \" -> \", end=\"\")\n        \n#        print(model.steps[-1])\n        model.steps[-1][1].set_params(**args)\n\n        score = cross_val_score(model, X_train, y_train, scoring=scoring, cv=cv_size, n_jobs=n_jobs)\n        \n        print(\"Done. Score : \", -score.mean())\n        count_hyperopt += 1\n        \n        return -score.mean()\n\n    return objective\n\n\n\n\n\ndef searchHyperParam(model, par_space, X_train, y_train, scoring=\"r2\", max_evals=100, cv_size=5, n_jobs=3):\n    \"\"\"search hyper parameter of a selected model\"\"\"\n\n    \n    global count_hyperopt\n    count_hyperopt = 0\n    \n    objective = hyperopt_objective(model, X_train, y_train, scoring=scoring, cv_size=cv_size, n_jobs=n_jobs)\n    \n    #best_params = findBestParm(objective, par_space, X_train, y_train, scoring=scoring, max_evals=max_evals)\n\n    trials = Trials()\n\n    best = fmin(\n        objective, \n        par_space, # 探索するパラメータのdictもしくはlist\n        algo=tpe.suggest, # どのロジックを利用するか、基本的にはtpe.suggestでok\n        max_evals=max_evals,\n        trials=trials,\n        #verbose=1\n    )\n    print(\"best par: \", best)\n    print(\"best trial: \", trials.best_trial[\"result\"])\n    #print(\"trials losses: \", trials.losses())\n\n    count_hyperopt = 0\n    \n    return best\n\n\ndef evalModelByCV(model, X_train, y_train):\n    \"\"\"evaluate model by cross validation\"\"\"\n    \n    score = cross_val_score(model, X_train, y_train, scoring=\"r2\", cv=5)\n\n    print(\"model score: {:f} ({:f})\\n\" .format(\n        score.mean(), score.std()))\n    print(\"all scores: \", score)\n\n    \ndef plot_my_learning_curves(X_train, y_train, X_test, y_test, model, scoring=\"r2\", cv=5, n_jobs=3):\n    \"\"\"plot learning curves by mlxtend and my func my_plot_learning_curve()\"\"\"\n    plot_learning_curves(X_train, y_train, X_test, y_test, \n                     model, scoring=scoring)\n    plt.show()\n    \n    title = \"Learning Curves\"\n    my_plot_learning_curve(model, title, \n                        X_train, y_train,\n                        #ylim=(0.7, 1.01), \n                        cv=cv, scoring=scoring,\n                        n_jobs=n_jobs)\n    plt.show()\n\n    \n    ",
      "execution_count": 53,
      "outputs": []
    },
    {
      "metadata": {
        "_uuid": "5863ada141c5adc910fa013f9edbef35e333f386"
      },
      "cell_type": "raw",
      "source": "%%time\n# testing\n\ncv_size = 5\nmax_evals = 100\n\nlgbmodel = make_pipeline(\n        #RobustScaler(),\n        LGBMRegressor()\n)\n\npar_space = {\n    'learning_rate':hp.uniform('learning_rate', 0.000000001, 1.0),\n    'max_depth':hp.choice('max_depth', np.arange(1, 300, dtype=int)), \n    'num_leaves':hp.choice('num_leaves', np.arange(2, 100, dtype=int)),\n    'min_data_in_leaf':hp.choice('min_data_in_leaf', np.arange(1, 100, dtype=int)),\n    \n    'n_estimators':hp.choice('n_estimators', np.arange(1, 100, dtype=int)),\n    'max_bin':hp.choice('max_bin', np.arange(2, 300, dtype=int)),\n    'bagging_fraction': hp.uniform('bagging_fraction', 0.000000001, 1.0),\n    'bagging_freq': hp.randint('bagging_freq', 10),\n    'feature_fraction': hp.uniform('feature_fraction', 0.000000001, 1.0),\n    'min_sum_hessian_in_leaf': hp.loguniform('min_sum_hessian_in_leaf', -6, 2),\n}\n\nbest_params = searchHyperParam(lgbmodel, par_space, X_train, y_train, scoring=\"r2\", max_evals=max_evals, cv_size=cv_size, n_jobs=3)\nbest_params"
    },
    {
      "metadata": {
        "_uuid": "67042ec2fc150b4cdf42a4855af9f62fef8dd62b"
      },
      "cell_type": "raw",
      "source": ""
    },
    {
      "metadata": {
        "_uuid": "ee334cce346f756e34513b8727eec3a775fb5767"
      },
      "cell_type": "raw",
      "source": "%%time\n# testing\n\ncv_size = 5\nmax_evals = 5\n\nsvr = make_pipeline(\n    PCA(n_components=10),\n    RobustScaler(),\n    SVR()\n\n)\n\nkernel_list = ['rbf', 'poly', 'sigmoid']\npar_space = {\n    'C':hp.loguniform('C', -8, 2),\n    'gamma':hp.loguniform('gamma', -8, 2),\n    'epsilon':hp.loguniform('epsilon', -8, 2),\n    'kernel':hp.choice('kernel', kernel_list)\n}\n\n\nbest_params = searchHyperParam(svr, par_space, X_train, y_train, scoring=\"r2\", max_evals=max_evals, cv_size=cv_size, n_jobs=1)\n\nbest_params[\"kernel\"] = kernel_list[best_params[\"kernel\"]]\nbest_params"
    },
    {
      "metadata": {
        "_uuid": "564ded076ca634ce737e9d114761a3bd5eddcab1"
      },
      "cell_type": "raw",
      "source": "Finally, I found why the svr doesn't finish.\nHere is the output just before the stop.\n\nTrial  0 , Params  {'C': 0.015601187011911637, 'epsilon': 0.5516972232183148, 'gamma': 0.06236609322180074, 'kernel': 'rbf'}  -> Done\nTrial  1 , Params  {'C': 0.7244447849579089, 'epsilon': 1.358464177771488, 'gamma': 0.7165688120262619, 'kernel': 'sigmoid'}  -> Done\nTrial  2 , Params  {'C': 0.006556279706811856, 'epsilon': 0.1067903873366066, 'gamma': 0.0005180756828484195, 'kernel': 'poly'}  -> \n\nThe 'poly' kernel was used. Because of that, the parameters increased dramatically.\nIn this time, better not to use poly.\nOf course, this param trial can be finished, I watched it. But better to not use.\n\n\ncv_size = 5\nmax_evals = 10\npca 1000\n\n\n\ncv_size = 5\nmax_evals = 5\npca 1000\nn_jobs=1\n4min 39s\n\n\n\ncv_size = 5\nmax_evals = 5\npca 1000\nn_jobs=2\nbecome too too slow, because of paralle proc\n\n\n\n\ncv_size = 5\nmax_evals = 5\npca 2000\n32 min\n\ncv_size = 5\nmax_evals = 5\nno pca\nmin => didn't finish. better to reduce feature nums"
    },
    {
      "metadata": {
        "_uuid": "0242121ad452c0dba819d13a90e238d86e95daf7"
      },
      "cell_type": "raw",
      "source": "raise Exception()"
    },
    {
      "metadata": {
        "_uuid": "9e44770d685def6adda6137db8d6b4c1b688e21d"
      },
      "cell_type": "markdown",
      "source": "### give model_name for hyperopt my funcs"
    },
    {
      "metadata": {
        "_uuid": "b3a8eaa516bea8d6bd0740082b0e956280fadcd5"
      },
      "cell_type": "markdown",
      "source": "** NOT ACCTIVATED !!!**"
    },
    {
      "metadata": {
        "_uuid": "20708e456802c98d5288ea371d70c6158a9e57db"
      },
      "cell_type": "raw",
      "source": "\n\ndef hyperopt_objective(model_name, X_train, y_train, scoring=\"r2\", cv_size=5, n_jobs=3):\n    \"\"\"return objective function for hyperopt\"\"\"\n    print(\"model name: {0}\".format(model_name))\n\n    def objective(args):\n        if model_name == \"SVR\":\n            model = make_pipeline(\n                RobustScaler(),\n                SVR(**args)\n            )\n        elif model_name == \"Lasso\":\n            model = make_pipeline(\n                RobustScaler(),\n                Lasso(**args)\n            )\n        elif model_name == \"ElasticNet\":\n            model = make_pipeline(\n                RobustScaler(),\n                ElasticNet(**args)\n            )\n        elif model_name == \"KernelRidge\":\n            model = make_pipeline(\n                #RobustScaler(),\n                KernelRidge(**args)\n            )\n        elif model_name == \"KNeighborsRegressor\":\n            model = make_pipeline(\n                RobustScaler(),\n                KNeighborsRegressor(**args)\n            )\n        elif model_name == \"RandomForestRegressor\":\n            model = make_pipeline(\n                #RobustScaler(),\n                RandomForestRegressor(**args)\n            )\n        elif model_name == \"GradientBoostingRegressor\":\n            model = make_pipeline(\n                #RobustScaler(),\n                GradientBoostingRegressor(**args)\n            )\n        elif model_name == \"XGBRegressor\":\n            model = make_pipeline(\n                #RobustScaler(),\n                XGBRegressor(**args)\n            )\n        elif model_name == \"LGBMRegressor\":\n            model = make_pipeline(\n                #RobustScaler(),\n                LGBMRegressor(**args)\n            )\n            \n        else:\n            raise Exception(\"Unexpected model was specified: {0}\".format(model_name))\n\n        score = cross_val_score(model, X_train, y_train, scoring=scoring, cv=cv_size, n_jobs=n_jobs)\n        return -score.mean()\n\n    return objective\n\n\n\n\n\ndef searchHyperParam(model_name, par_space, X_train, y_train, scoring=\"r2\", max_evals=100, cv_size=5, n_jobs=3):\n    \"\"\"search hyper parameter of a selected model\"\"\"\n\n    objective = hyperopt_objective(model_name, X_train, y_train, scoring=scoring, cv_size=cv_size, n_jobs=n_jobs)\n    \n    #best_params = findBestParm(objective, par_space, X_train, y_train, scoring=scoring, max_evals=max_evals)\n\n    trials = Trials()\n\n    best = fmin(\n        objective, \n        par_space, # 探索するパラメータのdictもしくはlist\n        algo=tpe.suggest, # どのロジックを利用するか、基本的にはtpe.suggestでok\n        max_evals=max_evals,\n        trials=trials,\n        verbose=1\n    )\n    print(\"best par for : \", model_name, \"-> \", best)\n    print(\"best trial: \", trials.best_trial[\"result\"])\n    #print(\"trials losses: \", trials.losses())\n    \n    return best\n\n\ndef evalModelByCV(model, X_train, y_train):\n    \"\"\"evaluate model by cross validation\"\"\"\n    \n    score = cross_val_score(model, X_train, y_train, scoring=\"r2\", cv=5)\n\n    print(\"model score: {:f} ({:f})\\n\" .format(\n        score.mean(), score.std()))\n    print(\"all scores: \", score)\n\n    \ndef plot_my_learning_curves(X_train, y_train, X_test, y_test, model, scoring=\"r2\", cv=5, n_jobs=3):\n    \"\"\"plot learning curves by mlxtend and my func my_plot_learning_curve()\"\"\"\n    plot_learning_curves(X_train, y_train, X_test, y_test, \n                     model, scoring=scoring)\n    plt.show()\n    \n    title = \"Learning Curves\"\n    my_plot_learning_curve(model, title, \n                        X_train, y_train,\n                        #ylim=(0.7, 1.01), \n                        cv=cv, scoring=scoring,\n                        n_jobs=n_jobs)\n    plt.show()\n\n    \n    \n"
    },
    {
      "metadata": {
        "_uuid": "70e5733edd035eb317195a79c244d29b2a05d901"
      },
      "cell_type": "markdown",
      "source": "## Def hyperopt param"
    },
    {
      "metadata": {
        "_uuid": "fce6dcf503b79b3b34fd2a9d60c65497e528be43",
        "collapsed": true,
        "trusted": true
      },
      "cell_type": "code",
      "source": "cv_size = 5\n#max_evals = 100\nmax_evals = 10\nn_jobs = 1",
      "execution_count": 43,
      "outputs": []
    },
    {
      "metadata": {
        "trusted": true,
        "_uuid": "a3a62da8ed38e13b5f300f646f66dda3d997b8aa"
      },
      "cell_type": "code",
      "source": "raise Exception(\"Just to stop execution\")",
      "execution_count": 44,
      "outputs": [
        {
          "output_type": "error",
          "ename": "Exception",
          "evalue": "Just to stop execution",
          "traceback": [
            "\u001b[0;31m---------------------------------------------------------------------------\u001b[0m",
            "\u001b[0;31mException\u001b[0m                                 Traceback (most recent call last)",
            "\u001b[0;32m<ipython-input-44-771466bd5da9>\u001b[0m in \u001b[0;36m<module>\u001b[0;34m()\u001b[0m\n\u001b[0;32m----> 1\u001b[0;31m \u001b[0;32mraise\u001b[0m \u001b[0mException\u001b[0m\u001b[0;34m(\u001b[0m\u001b[0;34m\"Just to stop execution\"\u001b[0m\u001b[0;34m)\u001b[0m\u001b[0;34m\u001b[0m\u001b[0m\n\u001b[0m",
            "\u001b[0;31mException\u001b[0m: Just to stop execution"
          ]
        }
      ]
    },
    {
      "metadata": {
        "_uuid": "9dc9666722289d95b04670ed2adfa3384d0b211d"
      },
      "cell_type": "markdown",
      "source": "## SVR"
    },
    {
      "metadata": {
        "_uuid": "b9e465213020cda8a81698dc13ff83c0eab2d48b",
        "collapsed": true,
        "trusted": true
      },
      "cell_type": "code",
      "source": "svr = make_pipeline(\n    PCA(n_components=1000),\n    RobustScaler(),\n    SVR()\n\n)\n\nkernel_list = [\n    'rbf',\n#    'poly',\n    'sigmoid']\npar_space = {\n    'C':hp.loguniform('C', -8, 2),\n    'gamma':hp.loguniform('gamma', -8, 2),\n    'epsilon':hp.loguniform('epsilon', -8, 2),\n    'kernel':hp.choice('kernel', kernel_list)\n}\n",
      "execution_count": null,
      "outputs": []
    },
    {
      "metadata": {
        "_uuid": "5f8356d746d019774ebc641851280e135a8c99bb",
        "scrolled": false,
        "trusted": true,
        "collapsed": true
      },
      "cell_type": "code",
      "source": "%%time\nbest_params = searchHyperParam(svr, par_space, X_train, y_train, scoring=\"r2\", max_evals=max_evals, cv_size=cv_size, n_jobs=n_jobs)\nbest_params[\"kernel\"] = kernel_list[best_params[\"kernel\"]]\nprint(best_params)\n",
      "execution_count": null,
      "outputs": []
    },
    {
      "metadata": {
        "_uuid": "35c919eec0e748f1f5e274f728fe2a1c8e59141e"
      },
      "cell_type": "raw",
      "source": "cv_size = 5\n#max_evals = 100\nmax_evals = 20\nn_jobs = 1\n\n\nbest par:  {'C': 3.03112783204231, 'epsilon': 0.019547937005002274, 'gamma': 0.0020099865529938114, 'kernel': 0}\nbest trial:  {'loss': -0.09384630894693664, 'status': 'ok'}\n{'C': 3.03112783204231, 'epsilon': 0.019547937005002274, 'gamma': 0.0020099865529938114, 'kernel': 'rbf'}\nCPU times: user 1h 50min 46s, sys: 1h 30min 42s, total: 3h 21min 28s\nWall time: 1h 2min 33s\n\n\ncv_size = 5\n#max_evals = 100\nmax_evals = 10\nn_jobs = 1\n\n\nbest par:  {'C': 4.363920992776861, 'epsilon': 0.0016568355770970559, 'gamma': 0.15878415549717873, 'kernel': 0}\nbest trial:  {'loss': -0.10089305077797912, 'status': 'ok'}\n{'C': 4.363920992776861, 'epsilon': 0.0016568355770970559, 'gamma': 0.15878415549717873, 'kernel': 'rbf'}\nCPU times: user 55min 17s, sys: 46min 15s, total: 1h 41min 32s\nWall time: 31min 9s\n\n\n\n"
    },
    {
      "metadata": {
        "_uuid": "0b82f57ad94fe8f8ba7a9f3cc1c55b471366c629",
        "collapsed": true,
        "trusted": true
      },
      "cell_type": "code",
      "source": "best_params = {'C': 6.0125849233435975,\n 'epsilon': 0.018596343856883617,\n 'gamma': 0.019396603678872793,\n 'kernel': 'rbf'}",
      "execution_count": null,
      "outputs": []
    },
    {
      "metadata": {
        "_uuid": "c23e75e097314da26875be79d364acaa136861bf",
        "trusted": true,
        "collapsed": true
      },
      "cell_type": "code",
      "source": "svr.steps[-1][1].set_params(**best_params)\n\nevalModelByCV(svr, X_train, y_train)\nplot_my_learning_curves(X_train, y_train, X_test, y_test, svr, scoring=\"r2\", cv=5, n_jobs=n_jobs)",
      "execution_count": null,
      "outputs": []
    },
    {
      "metadata": {
        "_uuid": "909bccbe88e0a2a0d6ab5a9f1ee2409dbb9c3914",
        "collapsed": true,
        "trusted": true
      },
      "cell_type": "code",
      "source": "",
      "execution_count": null,
      "outputs": []
    },
    {
      "metadata": {
        "_uuid": "5bf3e4a9b4ee317d86ec970daf73e8518c90cb85",
        "code_folding": []
      },
      "cell_type": "raw",
      "source": "# DO NOT USE !!: using old searchHyperParam()\n\nkernel_list = ['rbf', 'poly', 'sigmoid']\npar_space = {\n    'C':hp.loguniform('C', -8, 2),\n    'gamma':hp.loguniform('gamma', -8, 2),\n    'epsilon':hp.loguniform('epsilon', -8, 2),\n    'kernel':hp.choice('kernel', kernel_list)\n}\n\n\"\"\"\ndef objective(args):\n    model = make_pipeline(\n        RobustScaler(),\n        SVR(**args)\n    )\n    score = cross_val_score(model, X_train, y_train, scoring=\"r2\", cv=cv_size)\n    return -score.mean()\n\nbest_params = findBestParm(objective, par_space, X_train, y_train, scoring=\"r2\", max_evals=max_evals)\n\"\"\"\n\nbest_params = searchHyperParam(\"SVR\", par_space, X_train, y_train, scoring=\"r2\", max_evals=max_evals, cv_size=cv_size, n_jobs=3)\n\nbest_params[\"kernel\"] = kernel_list[best_params[\"kernel\"]]\nbest_params"
    },
    {
      "metadata": {
        "_uuid": "252f771d6502f2ac4229745cd1e2c3d4417c98c5"
      },
      "cell_type": "raw",
      "source": "best_params = {'C': 6.0125849233435975,\n 'epsilon': 0.018596343856883617,\n 'gamma': 0.019396603678872793,\n 'kernel': 'rbf'}"
    },
    {
      "metadata": {
        "_uuid": "bafd060d51f0f893d7aa7c54712514854b56ae53"
      },
      "cell_type": "raw",
      "source": "# DO NOT USE !!: using old searchHyperParam()\n\nsvr = make_pipeline(\n    RobustScaler(),\n    SVR(**best_params)\n\n)\n\nevalModelByCV(svr, X_train, y_train)"
    },
    {
      "metadata": {
        "_uuid": "061d4ba14ed830f98ba51645d13de9d5c238c77b"
      },
      "cell_type": "raw",
      "source": "from sklearn.feature_selection import SelectFromModel\nfrom sklearn.ensemble import RandomForestRegressor\nselect = SelectFromModel(\n    RandomForestRegressor(n_estimators=100, random_state=42),\n    threshold=\"median\")\n\n\nsvr = make_pipeline(\n    select,\n    RobustScaler(),\n    SVR(**best_params)\n\n)\n\nevalModelByCV(svr, X_train, y_train)"
    },
    {
      "metadata": {
        "_uuid": "88b8912801a021ef9232edd748b6f2448b015fec"
      },
      "cell_type": "raw",
      "source": "# not so good result...\nfrom sklearn.decomposition import PCA\n\nsvr = make_pipeline(\n    #select,\n    PCA(n_components=50),\n    RobustScaler(),\n    SVR(**best_params)\n\n)\n\nevalModelByCV(svr, X_train, y_train)"
    },
    {
      "metadata": {
        "_uuid": "58c3d956f6f5065cd3debd3b6ca75a6b0dc23191",
        "collapsed": true,
        "trusted": true
      },
      "cell_type": "code",
      "source": "",
      "execution_count": null,
      "outputs": []
    },
    {
      "metadata": {
        "_uuid": "3a4dd069c9538f0c72c11315f2fa6705ab5f4c3a",
        "collapsed": true,
        "trusted": true
      },
      "cell_type": "code",
      "source": "",
      "execution_count": null,
      "outputs": []
    },
    {
      "metadata": {
        "_uuid": "e74ffb94278e528e33d500d5dbad71b63b58d26c"
      },
      "cell_type": "markdown",
      "source": "## lasso"
    },
    {
      "metadata": {
        "_uuid": "d005f28a9036d9a62c25b0b715076e15709c490d",
        "collapsed": true,
        "trusted": true
      },
      "cell_type": "code",
      "source": "lasso = make_pipeline(\n    RobustScaler(),\n    Lasso()\n\n)\n\npar_space = {\n    'alpha':hp.uniform('alpha', 0, 1),\n    \n}",
      "execution_count": null,
      "outputs": []
    },
    {
      "metadata": {
        "_uuid": "b5fa931a603585e52499b02d1f4b08f647e6ff36",
        "collapsed": true,
        "trusted": true
      },
      "cell_type": "code",
      "source": "best_params = searchHyperParam(lasso, par_space, X_train, y_train, scoring=\"r2\", max_evals=max_evals, cv_size=cv_size, n_jobs=n_jobs)\nbest_params",
      "execution_count": null,
      "outputs": []
    },
    {
      "metadata": {
        "_uuid": "d4e0a4bf0997d06b52702ed5a205607f98f872fb",
        "collapsed": true,
        "trusted": true
      },
      "cell_type": "code",
      "source": "best_params = {'alpha': 0.03813148491610924}",
      "execution_count": null,
      "outputs": []
    },
    {
      "metadata": {
        "_uuid": "0d91293fbbd850cb75c324f9d013321028092630",
        "collapsed": true,
        "scrolled": true,
        "trusted": true
      },
      "cell_type": "code",
      "source": "\nlasso.steps[-1][1].set_params(**best_params)\n\nevalModelByCV(lasso, X_train, y_train)\nplot_my_learning_curves(X_train, y_train, X_test, y_test, lasso, scoring=\"r2\", cv=5, n_jobs=n_jobs)",
      "execution_count": null,
      "outputs": []
    },
    {
      "metadata": {
        "_uuid": "763ab656b5ca50a4e8a1886a74d9085523f2870d"
      },
      "cell_type": "raw",
      "source": "# DO NOT USE !!: using old searchHyperParam()\n\npar_space = {\n    'alpha':hp.uniform('alpha', 0, 1),\n    \n}\n\n\"\"\"\ndef objective(args):\n    model = make_pipeline(\n        RobustScaler(),\n        Lasso(**args)\n    )\n    score = cross_val_score(model, X_train, y_train, scoring=\"r2\", cv=cv_size)\n    return -score.mean()\n\nbest_params = findBestParm(objective, par_space, X_train, y_train, scoring=\"r2\", max_evals=max_evals)\n\"\"\"\n\nbest_params = searchHyperParam(\"Lasso\", par_space, X_train, y_train, scoring=\"r2\", max_evals=max_evals, cv_size=cv_size, n_jobs=3)\nbest_params"
    },
    {
      "metadata": {
        "_uuid": "602f3acc3c423feb0eaea5de0757f99e611ca606"
      },
      "cell_type": "raw",
      "source": "best_params = {'alpha': 0.03813148491610924}"
    },
    {
      "metadata": {
        "_uuid": "33dc184f58cdfb2bd5a57ee4dfd656050fe86ed6"
      },
      "cell_type": "raw",
      "source": "# DO NOT USE !!: using old searchHyperParam()\n\nlasso = make_pipeline(\n    RobustScaler(),\n    Lasso(**best_params)\n\n)\n\nevalModelByCV(lasso, X_train, y_train)\nplot_my_learning_curves(X_train, y_train, X_test, y_test, lasso, scoring=\"r2\", cv=5, n_jobs=3)"
    },
    {
      "metadata": {
        "_uuid": "b6c962a964bc4125d9b991200466d8d0104e8a6f"
      },
      "cell_type": "raw",
      "source": "from sklearn.feature_selection import SelectFromModel\nfrom sklearn.ensemble import RandomForestRegressor\nselect = SelectFromModel(\n    RandomForestRegressor(n_estimators=100, random_state=42),\n    threshold=\"median\")\n\nlasso = make_pipeline(\n    select,\n    RobustScaler(),\n    Lasso(**best_params)\n\n)\n\nevalModelByCV(lasso, X_train, y_train)\n"
    },
    {
      "metadata": {
        "_uuid": "5c5b4c80f192d6f42e41d33828635f227599b8b0"
      },
      "cell_type": "raw",
      "source": "# became bad by pca\n\nfrom sklearn.decomposition import PCA\n\nlasso = make_pipeline(\n    PCA(n_components=200),\n    RobustScaler(),\n    Lasso(**best_params)\n\n)\n\nevalModelByCV(lasso, X_train, y_train)"
    },
    {
      "metadata": {
        "_uuid": "38609a057209b02015ccd5e5518b8a6dcfc91bbe",
        "collapsed": true,
        "trusted": true
      },
      "cell_type": "code",
      "source": "",
      "execution_count": null,
      "outputs": []
    },
    {
      "metadata": {
        "_uuid": "a87ed8d22679dd01b89a935cef69b46a5c82e062"
      },
      "cell_type": "markdown",
      "source": "## Elastic net"
    },
    {
      "metadata": {
        "_uuid": "fdfc35a18e2d176d2e0fe8fbe20a97adfd4871c9",
        "collapsed": true,
        "trusted": true
      },
      "cell_type": "code",
      "source": "elasticnet = make_pipeline(\n    RobustScaler(),\n    ElasticNet()\n\n)\npar_space = {\n    'alpha':hp.uniform('alpha', 0, 1),\n    'l1_ratio':hp.uniform('l1_ratio', 0, 1),\n    \n}",
      "execution_count": null,
      "outputs": []
    },
    {
      "metadata": {
        "_uuid": "cc84914346c8d9691bd38f01875773f4aa7a4c45",
        "collapsed": true,
        "trusted": true
      },
      "cell_type": "code",
      "source": "best_params = searchHyperParam(elasticnet, par_space, X_train, y_train, scoring=\"r2\", max_evals=max_evals, cv_size=cv_size, n_jobs=n_jobs)\nbest_params\n",
      "execution_count": null,
      "outputs": []
    },
    {
      "metadata": {
        "_uuid": "6e8c8ca489598efca7c7a1141fae50354b204473",
        "collapsed": true,
        "trusted": true
      },
      "cell_type": "code",
      "source": "best_params = {'alpha': 0.03979354323226861, 'l1_ratio': 0.9027788528223015}",
      "execution_count": null,
      "outputs": []
    },
    {
      "metadata": {
        "_uuid": "ab3bd9e867507a9a70f5cac15bba93cb3f495ae5",
        "collapsed": true,
        "trusted": true
      },
      "cell_type": "code",
      "source": "\nelasticnet.steps[-1][1].set_params(**best_params)\n\nevalModelByCV(elasticnet, X_train, y_train)\nplot_my_learning_curves(X_train, y_train, X_test, y_test, elasticnet, scoring=\"r2\", cv=5, n_jobs=n_jobs)\n",
      "execution_count": null,
      "outputs": []
    },
    {
      "metadata": {
        "_uuid": "9250c5e046cee9fb33cafddad2486fe254c528fd",
        "collapsed": true,
        "trusted": true
      },
      "cell_type": "code",
      "source": "",
      "execution_count": null,
      "outputs": []
    },
    {
      "metadata": {
        "_uuid": "f2d4d615d3b1db9e7d2fc62a6ac305d3b2150779"
      },
      "cell_type": "raw",
      "source": "# DO NOT USE !!: using old searchHyperParam()\n\n\npar_space = {\n    'alpha':hp.uniform('alpha', 0, 1),\n    'l1_ratio':hp.uniform('l1_ratio', 0, 1),\n    \n}\n\"\"\"\ndef objective(args):\n    model = make_pipeline(\n        RobustScaler(),\n        ElasticNet(**args)\n    )\n    score = cross_val_score(model, X_train, y_train, scoring=\"r2\", cv=cv_size)\n    return -score.mean()\n\nbest_params = findBestParm(objective, par_space, X_train, y_train, scoring=\"r2\", max_evals=max_evals)\n\"\"\"\n\nbest_params = searchHyperParam(\"ElasticNet\", par_space, X_train, y_train, scoring=\"r2\", max_evals=max_evals, cv_size=cv_size, n_jobs=3)\nbest_params"
    },
    {
      "metadata": {
        "_uuid": "c26b88c674200ddf8f08af2291587d5748b076a9"
      },
      "cell_type": "raw",
      "source": "best_params = {'alpha': 0.03979354323226861, 'l1_ratio': 0.9027788528223015}"
    },
    {
      "metadata": {
        "_uuid": "91aef8e7ee0d00d94fedf890ef63c4f1ad667ebb"
      },
      "cell_type": "raw",
      "source": "# DO NOT USE !!: using old searchHyperParam()\n\nelasticnet = make_pipeline(\n    RobustScaler(),\n    ElasticNet(**best_params)\n\n)\n\nevalModelByCV(elasticnet, X_train, y_train)\nplot_my_learning_curves(X_train, y_train, X_test, y_test, elasticnet, scoring=\"r2\", cv=5, n_jobs=3)"
    },
    {
      "metadata": {
        "_uuid": "3e1957b3e7e46479d6473a5891535579f19934e7"
      },
      "cell_type": "raw",
      "source": ""
    },
    {
      "metadata": {
        "_uuid": "5187531fff882624105fc7937b3042afdd51810b",
        "collapsed": true,
        "trusted": true
      },
      "cell_type": "code",
      "source": "",
      "execution_count": null,
      "outputs": []
    },
    {
      "metadata": {
        "_uuid": "9205c29e0f304ef005cf0122dba27de1f81aa412"
      },
      "cell_type": "markdown",
      "source": "## kernel ridge"
    },
    {
      "metadata": {
        "_uuid": "8cf6d741090df375f18d5fe416d0670b3f3600f0",
        "collapsed": true,
        "trusted": true
      },
      "cell_type": "code",
      "source": "krr = make_pipeline(\n        #RobustScaler(),\n        KernelRidge()\n)\n\nkernel_list = [\n    'rbf',\n#    'poly',\n    'sigmoid']\npar_space = {\n    'alpha':hp.uniform('alpha', 0, 1),\n    'gamma':hp.loguniform('gamma', -8, 2),\n    'kernel':hp.choice('kernel', kernel_list),\n    'degree':hp.randint('degree', 5),\n#    'coef0': # default value is enough\n    \n}",
      "execution_count": null,
      "outputs": []
    },
    {
      "metadata": {
        "_uuid": "339a23b6feea53aa345b46c79ae45b19d597f403",
        "collapsed": true,
        "trusted": true
      },
      "cell_type": "code",
      "source": "best_params = searchHyperParam(krr, par_space, X_train, y_train, scoring=\"r2\", max_evals=max_evals, cv_size=cv_size, n_jobs=n_jobs)\nbest_params[\"kernel\"] = kernel_list[best_params[\"kernel\"]]\nbest_params\n",
      "execution_count": null,
      "outputs": []
    },
    {
      "metadata": {
        "_uuid": "daacbb828130fca1624095ec6a4101947cbce778",
        "collapsed": true,
        "trusted": true
      },
      "cell_type": "code",
      "source": "best_params = {'alpha': 0.06208805100456642,\n 'degree': 2,\n 'gamma': 0.000700959885815984,\n 'kernel': 'rbf'}",
      "execution_count": null,
      "outputs": []
    },
    {
      "metadata": {
        "_uuid": "5c1726f2e44910ec81e3b7baf00c01f7a4db46e9",
        "collapsed": true,
        "trusted": true
      },
      "cell_type": "code",
      "source": "krr.steps[-1][1].set_params(**best_params)\n\nevalModelByCV(krr, X_train, y_train)\nplot_my_learning_curves(X_train, y_train, X_test, y_test, krr, scoring=\"r2\", cv=5, n_jobs=n_jobs)\n",
      "execution_count": null,
      "outputs": []
    },
    {
      "metadata": {
        "_uuid": "51d9ae12783ba9b3ff187c950ee346853f2ed01a",
        "collapsed": true,
        "trusted": true
      },
      "cell_type": "code",
      "source": "",
      "execution_count": null,
      "outputs": []
    },
    {
      "metadata": {
        "_uuid": "51dc2a61fe00d5f4d47ce1c352dfecfe9aabb9d4"
      },
      "cell_type": "raw",
      "source": "# DO NOT USE !!: using old searchHyperParam()\n\nkernel_list = ['rbf', 'poly', 'sigmoid']\npar_space = {\n    'alpha':hp.uniform('alpha', 0, 1),\n    'gamma':hp.loguniform('gamma', -8, 2),\n    'kernel':hp.choice('kernel', kernel_list),\n    'degree':hp.randint('degree', 5),\n#    'coef0': # default value is enough\n    \n}\n\"\"\"\ndef objective(args):\n    model = make_pipeline(\n        #RobustScaler(),\n        KernelRidge(**args)\n    )\n    score = cross_val_score(model, X_train, y_train, scoring=\"r2\", cv=cv_size)\n    return -score.mean()\n\nbest_params = findBestParm(objective, par_space, X_train, y_train, scoring=\"r2\", max_evals=max_evals)\n\"\"\"\n\nbest_params = searchHyperParam(\"KernelRidge\", par_space, X_train, y_train, scoring=\"r2\", max_evals=max_evals, cv_size=cv_size, n_jobs=3)\n\nbest_params[\"kernel\"] = kernel_list[best_params[\"kernel\"]]\nbest_params\n\n"
    },
    {
      "metadata": {
        "_uuid": "439013b783d1491a8508e6ccbfc4663a8f8b1a64"
      },
      "cell_type": "raw",
      "source": "best_params = {'alpha': 0.06208805100456642,\n 'degree': 2,\n 'gamma': 0.000700959885815984,\n 'kernel': 'rbf'}"
    },
    {
      "metadata": {
        "_uuid": "08b9aa77b97ccf926e065c670d5d63791101d379"
      },
      "cell_type": "raw",
      "source": "# DO NOT USE !!: using old searchHyperParam()\n\nkrr = make_pipeline(\n        #RobustScaler(),\n        KernelRidge(**best_params)\n)\n\nevalModelByCV(krr, X_train, y_train)\n\nplot_my_learning_curves(X_train, y_train, X_test, y_test, krr, scoring=\"r2\", cv=5, n_jobs=3)\n\n"
    },
    {
      "metadata": {
        "_uuid": "badca92a332e8ce662c70eb9e89be39bb34194b4"
      },
      "cell_type": "markdown",
      "source": "## k neighbers"
    },
    {
      "metadata": {
        "_uuid": "f0e2805094cbf554acc0a3e5883e5a867c6ba537",
        "collapsed": true,
        "trusted": true
      },
      "cell_type": "code",
      "source": "knr = make_pipeline(\n    #RobustScaler(),\n    KNeighborsRegressor()\n)\n\npar_space = {\n#    'n_neighbors':hp.choice('n_neighbors', [1,2,3,4,5,6,7,8,9,10]),\n#    'n_neighbors':hp.quniform('n_neighbors', 1, 10, 1),\n    'n_neighbors':hp.choice('n_neighbors', np.arange(1, 10, dtype=int))\n#    'coef0': # default value is enough\n    \n}",
      "execution_count": null,
      "outputs": []
    },
    {
      "metadata": {
        "_uuid": "f6696087040f0439f90a4b93ea9c7899f3d411a4",
        "collapsed": true,
        "trusted": true
      },
      "cell_type": "code",
      "source": "best_params = searchHyperParam(knr, par_space, X_train, y_train, scoring=\"r2\", max_evals=max_evals, cv_size=cv_size, n_jobs=n_jobs)\nbest_params\n",
      "execution_count": null,
      "outputs": []
    },
    {
      "metadata": {
        "_uuid": "840d31b4aa93b07056a3278fcec3ed4e278ed6b1",
        "collapsed": true,
        "trusted": true
      },
      "cell_type": "code",
      "source": "best_params = {'n_neighbors': 8}",
      "execution_count": null,
      "outputs": []
    },
    {
      "metadata": {
        "_uuid": "0549b5ecee5c6ca424db931bb24e009ed70d510b",
        "collapsed": true,
        "trusted": true
      },
      "cell_type": "code",
      "source": "knr.steps[-1][1].set_params(**best_params)\n\n\nevalModelByCV(knr, X_train, y_train)\n\nplot_my_learning_curves(X_train, y_train, X_test, y_test, knr, scoring=\"r2\", cv=5, n_jobs=n_jobs)",
      "execution_count": null,
      "outputs": []
    },
    {
      "metadata": {
        "_uuid": "2b2038265b61d65bdf75fa0d15f2ae896bd36079",
        "collapsed": true,
        "trusted": true
      },
      "cell_type": "code",
      "source": "",
      "execution_count": null,
      "outputs": []
    },
    {
      "metadata": {
        "_uuid": "597f45883fdf0de2f395bb874bdcf76524414710"
      },
      "cell_type": "raw",
      "source": "# DO NOT USE !!: using old searchHyperParam()\n\npar_space = {\n#    'n_neighbors':hp.choice('n_neighbors', [1,2,3,4,5,6,7,8,9,10]),\n#    'n_neighbors':hp.quniform('n_neighbors', 1, 10, 1),\n    'n_neighbors':hp.choice('n_neighbors', np.arange(1, 10, dtype=int))\n#    'coef0': # default value is enough\n    \n}\n\nbest_params = searchHyperParam(\"KNeighborsRegressor\", par_space, X_train, y_train, scoring=\"r2\", max_evals=100, cv_size=cv_size, n_jobs=3)\nbest_params\n\n"
    },
    {
      "metadata": {
        "_uuid": "aacfb29445579a0f269412f68b37a137807d0237"
      },
      "cell_type": "raw",
      "source": "best_params = {'n_neighbors': 8}"
    },
    {
      "metadata": {
        "_uuid": "330e54fbf9ca5ff9f92ee1b16c9d7dd1d57eae25"
      },
      "cell_type": "raw",
      "source": "# DO NOT USE !!: using old searchHyperParam()\n\nknr = make_pipeline(\n    #RobustScaler(),\n    KNeighborsRegressor(**best_params)\n)\n\nevalModelByCV(knr, X_train, y_train)\n\nplot_my_learning_curves(X_train, y_train, X_test, y_test, knr, scoring=\"r2\", cv=5, n_jobs=3)"
    },
    {
      "metadata": {
        "_uuid": "465e5b7360692a3d27769303d9bd6f2d3f9ae10b"
      },
      "cell_type": "raw",
      "source": "from sklearn.feature_selection import SelectFromModel\nfrom sklearn.ensemble import RandomForestRegressor\nselect = SelectFromModel(\n    RandomForestRegressor(n_estimators=100, random_state=42),\n    threshold=\"median\")\n\nknr = make_pipeline(\n    select,\n    #RobustScaler(),\n    KNeighborsRegressor(**best_params)\n)\n\nevalModelByCV(knr, X_train, y_train)\n\nplot_my_learning_curves(X_train, y_train, X_test, y_test, knr, scoring=\"r2\", cv=5, n_jobs=3)"
    },
    {
      "metadata": {
        "_uuid": "28773957fc880bc854f8f37b71310d4f21d0f506"
      },
      "cell_type": "raw",
      "source": "from sklearn.decomposition import PCA\n\nknr = make_pipeline(\n    PCA(n_components=200),\n    #RobustScaler(),\n    #KNeighborsRegressor(**best_params),\n    KNeighborsRegressor(n_neighbors=30),\n    \n)\n\nevalModelByCV(knr, X_train, y_train)\n\nplot_my_learning_curves(X_train, y_train, X_test, y_test, knr, scoring=\"r2\", cv=5, n_jobs=3)"
    },
    {
      "metadata": {
        "_uuid": "9cabb9d2221b89746f886549d2b97c63eaa04349",
        "collapsed": true,
        "trusted": true
      },
      "cell_type": "code",
      "source": "",
      "execution_count": null,
      "outputs": []
    },
    {
      "metadata": {
        "_uuid": "b8106136a07c59210fed6404174b86e8e0beb0b3",
        "collapsed": true,
        "trusted": true
      },
      "cell_type": "code",
      "source": "",
      "execution_count": null,
      "outputs": []
    },
    {
      "metadata": {
        "_uuid": "04bf28546741479eb80913a8a170a1fae6983118"
      },
      "cell_type": "markdown",
      "source": "## Random forest"
    },
    {
      "metadata": {
        "_uuid": "659383dfa00469ed58eca5c1bfeab8216e5fc959",
        "collapsed": true,
        "trusted": true
      },
      "cell_type": "code",
      "source": "ranfore = make_pipeline(\n        #RobustScaler(),\n        RandomForestRegressor()\n)\n\npar_space = {\n    'n_estimators':hp.choice('n_estimators', np.arange(1, 100, dtype=int)),\n    'max_features':hp.choice('max_features', np.arange(1, 300, dtype=int)),\n    'max_depth':hp.choice('max_depth', np.arange(1, 300, dtype=int)),\n    'min_samples_split':hp.choice('min_samples_split', np.arange(2, 10, dtype=int)),\n    'min_samples_leaf':hp.choice('min_samples_leaf', np.arange(1, 9, dtype=int)),   \n}",
      "execution_count": 45,
      "outputs": []
    },
    {
      "metadata": {
        "_uuid": "7fb7453de23f27a418c6f954a8d66081aecb1601",
        "trusted": true
      },
      "cell_type": "code",
      "source": "%%time\nbest_params = searchHyperParam(ranfore, par_space, X_train, y_train, scoring=\"r2\", max_evals=max_evals, cv_size=cv_size, n_jobs=n_jobs)\nbest_params",
      "execution_count": 46,
      "outputs": [
        {
          "output_type": "stream",
          "text": "Trial  0 , Params  {'max_depth': 256, 'max_features': 110, 'min_samples_leaf': 2, 'min_samples_split': 4, 'n_estimators': 67}  -> Done\nTrial  1 , Params  {'max_depth': 203, 'max_features': 247, 'min_samples_leaf': 8, 'min_samples_split': 6, 'n_estimators': 12}  -> Done\nTrial  2 , Params  {'max_depth': 224, 'max_features': 299, 'min_samples_leaf': 2, 'min_samples_split': 5, 'n_estimators': 74}  -> Done\nTrial  3 , Params  {'max_depth': 157, 'max_features': 165, 'min_samples_leaf': 5, 'min_samples_split': 9, 'n_estimators': 9}  -> Done\nTrial  4 , Params  {'max_depth': 247, 'max_features': 245, 'min_samples_leaf': 7, 'min_samples_split': 8, 'n_estimators': 26}  -> Done\nTrial  5 , Params  {'max_depth': 118, 'max_features': 1, 'min_samples_leaf': 3, 'min_samples_split': 9, 'n_estimators': 46}  -> Done\nTrial  6 , Params  {'max_depth': 137, 'max_features': 238, 'min_samples_leaf': 6, 'min_samples_split': 6, 'n_estimators': 89}  -> Done\nTrial  7 , Params  {'max_depth': 244, 'max_features': 36, 'min_samples_leaf': 2, 'min_samples_split': 8, 'n_estimators': 44}  -> Done\nTrial  8 , Params  {'max_depth': 185, 'max_features': 202, 'min_samples_leaf': 1, 'min_samples_split': 5, 'n_estimators': 16}  -> Done\nTrial  9 , Params  {'max_depth': 53, 'max_features': 46, 'min_samples_leaf': 8, 'min_samples_split': 2, 'n_estimators': 33}  -> Done\nbest par:  {'max_depth': 223, 'max_features': 298, 'min_samples_leaf': 1, 'min_samples_split': 3, 'n_estimators': 73}\nbest trial:  {'loss': -0.35141903017013143, 'status': 'ok'}\nCPU times: user 2min 7s, sys: 5.98 s, total: 2min 13s\nWall time: 2min 13s\n",
          "name": "stdout"
        }
      ]
    },
    {
      "metadata": {
        "_uuid": "9a57adaec1b1761c8809761904b07cc82eafce8c",
        "collapsed": true,
        "trusted": true
      },
      "cell_type": "code",
      "source": "best_params = {'max_depth': 5,\n 'max_features': 226,\n 'min_samples_leaf': 5,\n 'min_samples_split': 3,\n 'n_estimators': 56}",
      "execution_count": null,
      "outputs": []
    },
    {
      "metadata": {
        "_uuid": "c5d244ef6854e22dbb2be264b023da8a64f2c8a9",
        "collapsed": true,
        "trusted": true
      },
      "cell_type": "code",
      "source": "ranfore.steps[-1][1].set_params(**best_params)\n\nevalModelByCV(ranfore, X_train, y_train)\nplot_my_learning_curves(X_train, y_train, X_test, y_test, ranfore, scoring=\"r2\", cv=5, n_jobs=n_jobs)\n# plot feature importance\npd.concat((pd.DataFrame(X_train.columns, columns = ['variable']), \n           pd.DataFrame(ranfore.named_steps[\"randomforestregressor\"].feature_importances_, columns = ['importance'])), \n          axis = 1).sort_values(by='importance', ascending = False)",
      "execution_count": null,
      "outputs": []
    },
    {
      "metadata": {
        "_uuid": "e7eaf31576094f3999599cea50e79bf571ba42ce",
        "collapsed": true,
        "trusted": true
      },
      "cell_type": "code",
      "source": "",
      "execution_count": null,
      "outputs": []
    },
    {
      "metadata": {
        "_uuid": "f47516e0d6783bc06118a544994431b13f13130c"
      },
      "cell_type": "raw",
      "source": "# DO NOT USE !!: using old searchHyperParam()\n\npar_space = {\n    'n_estimators':hp.choice('n_estimators', np.arange(1, 100, dtype=int)),\n    'max_features':hp.choice('max_features', np.arange(1, 300, dtype=int)),\n    'max_depth':hp.choice('max_depth', np.arange(1, 300, dtype=int)),\n    'min_samples_split':hp.choice('min_samples_split', np.arange(2, 10, dtype=int)),\n    'min_samples_leaf':hp.choice('min_samples_leaf', np.arange(1, 9, dtype=int)),   \n}\n\nbest_params = searchHyperParam(\"RandomForestRegressor\", par_space, X_train, y_train, scoring=\"r2\", max_evals=max_evals, cv_size=cv_size, n_jobs=3)\nbest_params\n\n"
    },
    {
      "metadata": {
        "_uuid": "8fe71ba9386dfdd67f7aef983060e427db4b4145"
      },
      "cell_type": "raw",
      "source": "best_params = {'max_depth': 5,\n 'max_features': 226,\n 'min_samples_leaf': 5,\n 'min_samples_split': 3,\n 'n_estimators': 56}"
    },
    {
      "metadata": {
        "_uuid": "439630675235c502abd5bf1146e233a63696c528"
      },
      "cell_type": "raw",
      "source": "# DO NOT USE !!: using old searchHyperParam()\n\nranfore = make_pipeline(\n        #RobustScaler(),\n        RandomForestRegressor(**best_params)\n)\n\nevalModelByCV(ranfore, X_train, y_train)\n\n\nplot_my_learning_curves(X_train, y_train, X_test, y_test, ranfore, scoring=\"r2\", cv=5, n_jobs=3)\n\n# plot feature importance\npd.concat((pd.DataFrame(X_train.columns, columns = ['variable']), \n           pd.DataFrame(ranfore.named_steps[\"randomforestregressor\"].feature_importances_, columns = ['importance'])), \n          axis = 1).sort_values(by='importance', ascending = False)"
    },
    {
      "metadata": {
        "_uuid": "3671ee680d658db4cc9db2822f9ea3b79be0efbb",
        "collapsed": true,
        "trusted": true
      },
      "cell_type": "code",
      "source": "",
      "execution_count": null,
      "outputs": []
    },
    {
      "metadata": {
        "_uuid": "052c14fddd354fdf08b0de84942c24544d140e90",
        "collapsed": true,
        "trusted": true
      },
      "cell_type": "code",
      "source": "",
      "execution_count": null,
      "outputs": []
    },
    {
      "metadata": {
        "_uuid": "d3ca2163bdd2eab3eba8b5fe38e834deeabcb330",
        "collapsed": true,
        "trusted": true
      },
      "cell_type": "code",
      "source": "",
      "execution_count": null,
      "outputs": []
    },
    {
      "metadata": {
        "_uuid": "3d6dc7b72e03a6cb97cae29e679ecd98cb5136ae"
      },
      "cell_type": "markdown",
      "source": "## gradient boosting"
    },
    {
      "metadata": {
        "_uuid": "8b876066b4849f14a12b35d217b17937a1ed861c",
        "collapsed": true,
        "trusted": true
      },
      "cell_type": "code",
      "source": "gboostreg = make_pipeline(\n        #RobustScaler(),\n        GradientBoostingRegressor()\n)\n\nloss_list = ['ls', 'lad', 'huber', 'quantile']\n\npar_space = {\n    'n_estimators':hp.choice('n_estimators', np.arange(1, 100, dtype=int)),\n    'learning_rate':hp.uniform('learning_rate', 0.000000001, 1.0),\n    'max_features':hp.choice('max_features', np.arange(1, 300, dtype=int)),\n    'max_depth':hp.choice('max_depth', np.arange(1, 300, dtype=int)),\n    'min_samples_split':hp.choice('min_samples_split', np.arange(2, 30, dtype=int)),\n    'min_samples_leaf':hp.choice('min_samples_leaf', np.arange(1, 29, dtype=int)),\n    'loss':hp.choice('loss', loss_list),\n    #'subsample':hp.uniform('learning_rate', 0.0, 1.0),\n    \n}\n",
      "execution_count": 47,
      "outputs": []
    },
    {
      "metadata": {
        "_uuid": "ab2bff60da6f6caefa452927e97a8b22bd0ad2ee",
        "trusted": true
      },
      "cell_type": "code",
      "source": "%%time\nbest_params = searchHyperParam(gboostreg, par_space, X_train, y_train, scoring=\"r2\", max_evals=max_evals, cv_size=cv_size, n_jobs=n_jobs)\nbest_params[\"loss\"] = loss_list[best_params[\"loss\"]]\nbest_params",
      "execution_count": 48,
      "outputs": [
        {
          "output_type": "stream",
          "text": "Trial  0 , Params  {'learning_rate': 0.9525834161213492, 'loss': 'lad', 'max_depth': 81, 'max_features': 18, 'min_samples_leaf': 15, 'min_samples_split': 12, 'n_estimators': 73}  -> Done\nTrial  1 , Params  {'learning_rate': 0.7163989927304225, 'loss': 'huber', 'max_depth': 13, 'max_features': 155, 'min_samples_leaf': 9, 'min_samples_split': 3, 'n_estimators': 95}  -> Done\nTrial  2 , Params  {'learning_rate': 0.1838404230021048, 'loss': 'ls', 'max_depth': 173, 'max_features': 72, 'min_samples_leaf': 17, 'min_samples_split': 26, 'n_estimators': 30}  -> Done\nTrial  3 , Params  {'learning_rate': 0.8260692637871501, 'loss': 'huber', 'max_depth': 226, 'max_features': 59, 'min_samples_leaf': 5, 'min_samples_split': 16, 'n_estimators': 94}  -> Done\nTrial  4 , Params  {'learning_rate': 0.13893504382711538, 'loss': 'ls', 'max_depth': 290, 'max_features': 107, 'min_samples_leaf': 10, 'min_samples_split': 9, 'n_estimators': 71}  -> Done\nTrial  5 , Params  {'learning_rate': 0.47426038691348105, 'loss': 'quantile', 'max_depth': 240, 'max_features': 60, 'min_samples_leaf': 20, 'min_samples_split': 6, 'n_estimators': 65}  -> Done\nTrial  6 , Params  {'learning_rate': 0.8502702774884258, 'loss': 'ls', 'max_depth': 8, 'max_features': 88, 'min_samples_leaf': 15, 'min_samples_split': 3, 'n_estimators': 87}  -> Done\nTrial  7 , Params  {'learning_rate': 0.022128431634744435, 'loss': 'ls', 'max_depth': 73, 'max_features': 1, 'min_samples_leaf': 24, 'min_samples_split': 20, 'n_estimators': 96}  -> Done\nTrial  8 , Params  {'learning_rate': 0.3782979612107586, 'loss': 'lad', 'max_depth': 279, 'max_features': 273, 'min_samples_leaf': 9, 'min_samples_split': 23, 'n_estimators': 47}  -> Done\nTrial  9 , Params  {'learning_rate': 0.8072391958122733, 'loss': 'quantile', 'max_depth': 50, 'max_features': 84, 'min_samples_leaf': 21, 'min_samples_split': 26, 'n_estimators': 19}  -> Done\nbest par:  {'learning_rate': 0.1838404230021048, 'loss': 0, 'max_depth': 172, 'max_features': 71, 'min_samples_leaf': 16, 'min_samples_split': 24, 'n_estimators': 29}\nbest trial:  {'loss': -0.3328100202544114, 'status': 'ok'}\nCPU times: user 5min 37s, sys: 10.2 s, total: 5min 47s\nWall time: 5min 47s\n",
          "name": "stdout"
        }
      ]
    },
    {
      "metadata": {
        "_uuid": "f1b590d0cf95f5f2eac2352bb599185e84576694",
        "collapsed": true,
        "trusted": true
      },
      "cell_type": "code",
      "source": "best_params = {'learning_rate': 0.35189025799801155,\n 'loss': 'huber',\n 'max_depth': 3,\n 'max_features': 119,\n 'min_samples_leaf': 16,\n 'min_samples_split': 19,\n 'n_estimators': 48}",
      "execution_count": null,
      "outputs": []
    },
    {
      "metadata": {
        "_uuid": "33e7529c1acd85b8c8b2bdb9633f4be3bdbfd703",
        "collapsed": true,
        "trusted": true
      },
      "cell_type": "code",
      "source": "gboostreg.steps[-1][1].set_params(**best_params)\n\nevalModelByCV(gboostreg, X_train, y_train)\nplot_my_learning_curves(X_train, y_train, X_test, y_test, gboostreg, scoring=\"r2\", cv=5, n_jobs=n_jobs)\n# plot feature importance\npd.concat((pd.DataFrame(X_train.columns, columns = ['variable']), \n           pd.DataFrame(gboostreg.named_steps[\"gradientboostingregressor\"].feature_importances_, columns = ['importance'])), \n          axis = 1).sort_values(by='importance', ascending = False)",
      "execution_count": null,
      "outputs": []
    },
    {
      "metadata": {
        "_uuid": "dae320f8ab59ba4cc466ce7586f54a2508778c8b",
        "collapsed": true,
        "trusted": true
      },
      "cell_type": "code",
      "source": "",
      "execution_count": null,
      "outputs": []
    },
    {
      "metadata": {
        "_uuid": "0adcae6b1ee02533047371f63ed6fcf009b8ec10",
        "collapsed": true,
        "trusted": true
      },
      "cell_type": "code",
      "source": "",
      "execution_count": null,
      "outputs": []
    },
    {
      "metadata": {
        "_uuid": "0aef57520884866723901c50a19e9e58b936fb6f"
      },
      "cell_type": "raw",
      "source": "# DO NOT USE !!: using old searchHyperParam()\n\nloss_list = ['ls', 'lad', 'huber', 'quantile']\n\npar_space = {\n    'n_estimators':hp.choice('n_estimators', np.arange(1, 100, dtype=int)),\n    'learning_rate':hp.uniform('learning_rate', 0.000000001, 1.0),\n    'max_features':hp.choice('max_features', np.arange(1, 300, dtype=int)),\n    'max_depth':hp.choice('max_depth', np.arange(1, 300, dtype=int)),\n    'min_samples_split':hp.choice('min_samples_split', np.arange(2, 30, dtype=int)),\n    'min_samples_leaf':hp.choice('min_samples_leaf', np.arange(1, 29, dtype=int)),\n    'loss':hp.choice('loss', loss_list),\n    #'subsample':hp.uniform('learning_rate', 0.0, 1.0),\n    \n}\n\nbest_params = searchHyperParam(\"GradientBoostingRegressor\", par_space, X_train, y_train,\n                               scoring=\"r2\", max_evals=max_evals, cv_size=cv_size, n_jobs=3)\n\n\nbest_params[\"loss\"] = loss_list[best_params[\"loss\"]]\nbest_params\n\n"
    },
    {
      "metadata": {
        "_uuid": "be78435f371b42affc2170757b40398c3f129cbd"
      },
      "cell_type": "raw",
      "source": "best_params = {'learning_rate': 0.35189025799801155,\n 'loss': 'huber',\n 'max_depth': 3,\n 'max_features': 119,\n 'min_samples_leaf': 16,\n 'min_samples_split': 19,\n 'n_estimators': 48}"
    },
    {
      "metadata": {
        "_uuid": "d1b255ceac9627f1ba25620ee584c83746d40bdf"
      },
      "cell_type": "raw",
      "source": "# DO NOT USE !!: using old searchHyperParam()\n\ngboostreg = make_pipeline(\n        #RobustScaler(),\n        GradientBoostingRegressor(**best_params)\n)\n\n\nevalModelByCV(gboostreg, X_train, y_train)\n\nplot_my_learning_curves(X_train, y_train, X_test, y_test, gboostreg, scoring=\"r2\", cv=5, n_jobs=3)\n\n# plot feature importance\npd.concat((pd.DataFrame(X_train.columns, columns = ['variable']), \n           pd.DataFrame(gboostreg.named_steps[\"gradientboostingregressor\"].feature_importances_, columns = ['importance'])), \n          axis = 1).sort_values(by='importance', ascending = False)"
    },
    {
      "metadata": {
        "_uuid": "f3bb6f6caff36da1746f4e67058e7ed083ba7253",
        "collapsed": true,
        "trusted": true
      },
      "cell_type": "code",
      "source": "",
      "execution_count": null,
      "outputs": []
    },
    {
      "metadata": {
        "_uuid": "55e193005be79e57e5a92dd09cc60574c1ac301b",
        "collapsed": true,
        "trusted": true
      },
      "cell_type": "code",
      "source": "",
      "execution_count": null,
      "outputs": []
    },
    {
      "metadata": {
        "_uuid": "ed45a4f0f51c84449a97bf7ed5a75f6d7f9efdea"
      },
      "cell_type": "markdown",
      "source": "## XGBoost"
    },
    {
      "metadata": {
        "_uuid": "00b2032403b2967a5d9f5e5176b6e6d57d5bcead",
        "collapsed": true,
        "trusted": true
      },
      "cell_type": "code",
      "source": "xgbmodel = make_pipeline(\n        #RobustScaler(),\n        XGBRegressor()\n)\n\n\npar_space = {\n    'n_estimators':hp.choice('n_estimators', np.arange(1, 100, dtype=int)),\n    'learning_rate':hp.uniform('learning_rate', 0.000000001, 1.0),\n    'max_depth':hp.choice('max_depth', np.arange(1, 300, dtype=int)), \n    'gamma':hp.uniform('gamma', 0.0, 5.0),\n    'min_child_weight':hp.uniform('min_child_weight', 0.0, 5.0),\n    'subsample': hp.uniform('subsample', 0.0, 1.0),\n    'colsample_bytree': hp.uniform('colsample_bytree', 0.0, 1.0),\n    'reg_alpha': hp.loguniform('reg_alpha', -6, 2),\n    'reg_lambda': hp.loguniform('reg_lambda', -6, 2),\n    'learning_rate': hp.uniform('learning_rate', 0.000000001, 1.0),\n}",
      "execution_count": 49,
      "outputs": []
    },
    {
      "metadata": {
        "_uuid": "45b13d10dbb4cd48f40a93b089d1473a6d4b9176",
        "scrolled": false,
        "trusted": true
      },
      "cell_type": "code",
      "source": "%%time\nbest_params = searchHyperParam(xgbmodel, par_space, X_train, y_train, scoring=\"r2\", max_evals=max_evals, cv_size=cv_size, n_jobs=n_jobs)\nbest_params",
      "execution_count": 50,
      "outputs": [
        {
          "output_type": "stream",
          "text": "Trial  0 , Params  {'colsample_bytree': 0.8103224524902177, 'gamma': 0.16559701160096973, 'learning_rate': 0.7589426331966935, 'max_depth': 256, 'min_child_weight': 4.953008174517058, 'n_estimators': 36, 'reg_alpha': 0.03128471552179454, 'reg_lambda': 0.003794269178545458, 'subsample': 0.8811640901971034}  -> ",
          "name": "stdout"
        },
        {
          "output_type": "error",
          "ename": "KeyboardInterrupt",
          "evalue": "",
          "traceback": [
            "\u001b[0;31m---------------------------------------------------------------------------\u001b[0m",
            "\u001b[0;31mKeyboardInterrupt\u001b[0m                         Traceback (most recent call last)",
            "\u001b[0;32m<timed exec>\u001b[0m in \u001b[0;36m<module>\u001b[0;34m()\u001b[0m\n",
            "\u001b[0;32m<ipython-input-42-9ab356b465ac>\u001b[0m in \u001b[0;36msearchHyperParam\u001b[0;34m(model, par_space, X_train, y_train, scoring, max_evals, cv_size, n_jobs)\u001b[0m\n\u001b[1;32m     42\u001b[0m         \u001b[0malgo\u001b[0m\u001b[0;34m=\u001b[0m\u001b[0mtpe\u001b[0m\u001b[0;34m.\u001b[0m\u001b[0msuggest\u001b[0m\u001b[0;34m,\u001b[0m \u001b[0;31m# どのロジックを利用するか、基本的にはtpe.suggestでok\u001b[0m\u001b[0;34m\u001b[0m\u001b[0m\n\u001b[1;32m     43\u001b[0m         \u001b[0mmax_evals\u001b[0m\u001b[0;34m=\u001b[0m\u001b[0mmax_evals\u001b[0m\u001b[0;34m,\u001b[0m\u001b[0;34m\u001b[0m\u001b[0m\n\u001b[0;32m---> 44\u001b[0;31m         \u001b[0mtrials\u001b[0m\u001b[0;34m=\u001b[0m\u001b[0mtrials\u001b[0m\u001b[0;34m,\u001b[0m\u001b[0;34m\u001b[0m\u001b[0m\n\u001b[0m\u001b[1;32m     45\u001b[0m         \u001b[0;31m#verbose=1\u001b[0m\u001b[0;34m\u001b[0m\u001b[0;34m\u001b[0m\u001b[0m\n\u001b[1;32m     46\u001b[0m     )\n",
            "\u001b[0;32m/opt/conda/lib/python3.6/site-packages/hyperopt/fmin.py\u001b[0m in \u001b[0;36mfmin\u001b[0;34m(fn, space, algo, max_evals, trials, rstate, allow_trials_fmin, pass_expr_memo_ctrl, catch_eval_exceptions, verbose, return_argmin)\u001b[0m\n\u001b[1;32m    305\u001b[0m             \u001b[0mverbose\u001b[0m\u001b[0;34m=\u001b[0m\u001b[0mverbose\u001b[0m\u001b[0;34m,\u001b[0m\u001b[0;34m\u001b[0m\u001b[0m\n\u001b[1;32m    306\u001b[0m             \u001b[0mcatch_eval_exceptions\u001b[0m\u001b[0;34m=\u001b[0m\u001b[0mcatch_eval_exceptions\u001b[0m\u001b[0;34m,\u001b[0m\u001b[0;34m\u001b[0m\u001b[0m\n\u001b[0;32m--> 307\u001b[0;31m             \u001b[0mreturn_argmin\u001b[0m\u001b[0;34m=\u001b[0m\u001b[0mreturn_argmin\u001b[0m\u001b[0;34m,\u001b[0m\u001b[0;34m\u001b[0m\u001b[0m\n\u001b[0m\u001b[1;32m    308\u001b[0m         )\n\u001b[1;32m    309\u001b[0m \u001b[0;34m\u001b[0m\u001b[0m\n",
            "\u001b[0;32m/opt/conda/lib/python3.6/site-packages/hyperopt/base.py\u001b[0m in \u001b[0;36mfmin\u001b[0;34m(self, fn, space, algo, max_evals, rstate, verbose, pass_expr_memo_ctrl, catch_eval_exceptions, return_argmin)\u001b[0m\n\u001b[1;32m    633\u001b[0m             \u001b[0mpass_expr_memo_ctrl\u001b[0m\u001b[0;34m=\u001b[0m\u001b[0mpass_expr_memo_ctrl\u001b[0m\u001b[0;34m,\u001b[0m\u001b[0;34m\u001b[0m\u001b[0m\n\u001b[1;32m    634\u001b[0m             \u001b[0mcatch_eval_exceptions\u001b[0m\u001b[0;34m=\u001b[0m\u001b[0mcatch_eval_exceptions\u001b[0m\u001b[0;34m,\u001b[0m\u001b[0;34m\u001b[0m\u001b[0m\n\u001b[0;32m--> 635\u001b[0;31m             return_argmin=return_argmin)\n\u001b[0m\u001b[1;32m    636\u001b[0m \u001b[0;34m\u001b[0m\u001b[0m\n\u001b[1;32m    637\u001b[0m \u001b[0;34m\u001b[0m\u001b[0m\n",
            "\u001b[0;32m/opt/conda/lib/python3.6/site-packages/hyperopt/fmin.py\u001b[0m in \u001b[0;36mfmin\u001b[0;34m(fn, space, algo, max_evals, trials, rstate, allow_trials_fmin, pass_expr_memo_ctrl, catch_eval_exceptions, verbose, return_argmin)\u001b[0m\n\u001b[1;32m    318\u001b[0m                     verbose=verbose)\n\u001b[1;32m    319\u001b[0m     \u001b[0mrval\u001b[0m\u001b[0;34m.\u001b[0m\u001b[0mcatch_eval_exceptions\u001b[0m \u001b[0;34m=\u001b[0m \u001b[0mcatch_eval_exceptions\u001b[0m\u001b[0;34m\u001b[0m\u001b[0m\n\u001b[0;32m--> 320\u001b[0;31m     \u001b[0mrval\u001b[0m\u001b[0;34m.\u001b[0m\u001b[0mexhaust\u001b[0m\u001b[0;34m(\u001b[0m\u001b[0;34m)\u001b[0m\u001b[0;34m\u001b[0m\u001b[0m\n\u001b[0m\u001b[1;32m    321\u001b[0m     \u001b[0;32mif\u001b[0m \u001b[0mreturn_argmin\u001b[0m\u001b[0;34m:\u001b[0m\u001b[0;34m\u001b[0m\u001b[0m\n\u001b[1;32m    322\u001b[0m         \u001b[0;32mreturn\u001b[0m \u001b[0mtrials\u001b[0m\u001b[0;34m.\u001b[0m\u001b[0margmin\u001b[0m\u001b[0;34m\u001b[0m\u001b[0m\n",
            "\u001b[0;32m/opt/conda/lib/python3.6/site-packages/hyperopt/fmin.py\u001b[0m in \u001b[0;36mexhaust\u001b[0;34m(self)\u001b[0m\n\u001b[1;32m    197\u001b[0m     \u001b[0;32mdef\u001b[0m \u001b[0mexhaust\u001b[0m\u001b[0;34m(\u001b[0m\u001b[0mself\u001b[0m\u001b[0;34m)\u001b[0m\u001b[0;34m:\u001b[0m\u001b[0;34m\u001b[0m\u001b[0m\n\u001b[1;32m    198\u001b[0m         \u001b[0mn_done\u001b[0m \u001b[0;34m=\u001b[0m \u001b[0mlen\u001b[0m\u001b[0;34m(\u001b[0m\u001b[0mself\u001b[0m\u001b[0;34m.\u001b[0m\u001b[0mtrials\u001b[0m\u001b[0;34m)\u001b[0m\u001b[0;34m\u001b[0m\u001b[0m\n\u001b[0;32m--> 199\u001b[0;31m         \u001b[0mself\u001b[0m\u001b[0;34m.\u001b[0m\u001b[0mrun\u001b[0m\u001b[0;34m(\u001b[0m\u001b[0mself\u001b[0m\u001b[0;34m.\u001b[0m\u001b[0mmax_evals\u001b[0m \u001b[0;34m-\u001b[0m \u001b[0mn_done\u001b[0m\u001b[0;34m,\u001b[0m \u001b[0mblock_until_done\u001b[0m\u001b[0;34m=\u001b[0m\u001b[0mself\u001b[0m\u001b[0;34m.\u001b[0m\u001b[0masync\u001b[0m\u001b[0;34m)\u001b[0m\u001b[0;34m\u001b[0m\u001b[0m\n\u001b[0m\u001b[1;32m    200\u001b[0m         \u001b[0mself\u001b[0m\u001b[0;34m.\u001b[0m\u001b[0mtrials\u001b[0m\u001b[0;34m.\u001b[0m\u001b[0mrefresh\u001b[0m\u001b[0;34m(\u001b[0m\u001b[0;34m)\u001b[0m\u001b[0;34m\u001b[0m\u001b[0m\n\u001b[1;32m    201\u001b[0m         \u001b[0;32mreturn\u001b[0m \u001b[0mself\u001b[0m\u001b[0;34m\u001b[0m\u001b[0m\n",
            "\u001b[0;32m/opt/conda/lib/python3.6/site-packages/hyperopt/fmin.py\u001b[0m in \u001b[0;36mrun\u001b[0;34m(self, N, block_until_done)\u001b[0m\n\u001b[1;32m    171\u001b[0m             \u001b[0;32melse\u001b[0m\u001b[0;34m:\u001b[0m\u001b[0;34m\u001b[0m\u001b[0m\n\u001b[1;32m    172\u001b[0m                 \u001b[0;31m# -- loop over trials and do the jobs directly\u001b[0m\u001b[0;34m\u001b[0m\u001b[0;34m\u001b[0m\u001b[0m\n\u001b[0;32m--> 173\u001b[0;31m                 \u001b[0mself\u001b[0m\u001b[0;34m.\u001b[0m\u001b[0mserial_evaluate\u001b[0m\u001b[0;34m(\u001b[0m\u001b[0;34m)\u001b[0m\u001b[0;34m\u001b[0m\u001b[0m\n\u001b[0m\u001b[1;32m    174\u001b[0m \u001b[0;34m\u001b[0m\u001b[0m\n\u001b[1;32m    175\u001b[0m             \u001b[0;32mif\u001b[0m \u001b[0mstopped\u001b[0m\u001b[0;34m:\u001b[0m\u001b[0;34m\u001b[0m\u001b[0m\n",
            "\u001b[0;32m/opt/conda/lib/python3.6/site-packages/hyperopt/fmin.py\u001b[0m in \u001b[0;36mserial_evaluate\u001b[0;34m(self, N)\u001b[0m\n\u001b[1;32m     90\u001b[0m                 \u001b[0mctrl\u001b[0m \u001b[0;34m=\u001b[0m \u001b[0mbase\u001b[0m\u001b[0;34m.\u001b[0m\u001b[0mCtrl\u001b[0m\u001b[0;34m(\u001b[0m\u001b[0mself\u001b[0m\u001b[0;34m.\u001b[0m\u001b[0mtrials\u001b[0m\u001b[0;34m,\u001b[0m \u001b[0mcurrent_trial\u001b[0m\u001b[0;34m=\u001b[0m\u001b[0mtrial\u001b[0m\u001b[0;34m)\u001b[0m\u001b[0;34m\u001b[0m\u001b[0m\n\u001b[1;32m     91\u001b[0m                 \u001b[0;32mtry\u001b[0m\u001b[0;34m:\u001b[0m\u001b[0;34m\u001b[0m\u001b[0m\n\u001b[0;32m---> 92\u001b[0;31m                     \u001b[0mresult\u001b[0m \u001b[0;34m=\u001b[0m \u001b[0mself\u001b[0m\u001b[0;34m.\u001b[0m\u001b[0mdomain\u001b[0m\u001b[0;34m.\u001b[0m\u001b[0mevaluate\u001b[0m\u001b[0;34m(\u001b[0m\u001b[0mspec\u001b[0m\u001b[0;34m,\u001b[0m \u001b[0mctrl\u001b[0m\u001b[0;34m)\u001b[0m\u001b[0;34m\u001b[0m\u001b[0m\n\u001b[0m\u001b[1;32m     93\u001b[0m                 \u001b[0;32mexcept\u001b[0m \u001b[0mException\u001b[0m \u001b[0;32mas\u001b[0m \u001b[0me\u001b[0m\u001b[0;34m:\u001b[0m\u001b[0;34m\u001b[0m\u001b[0m\n\u001b[1;32m     94\u001b[0m                     \u001b[0mlogger\u001b[0m\u001b[0;34m.\u001b[0m\u001b[0minfo\u001b[0m\u001b[0;34m(\u001b[0m\u001b[0;34m'job exception: %s'\u001b[0m \u001b[0;34m%\u001b[0m \u001b[0mstr\u001b[0m\u001b[0;34m(\u001b[0m\u001b[0me\u001b[0m\u001b[0;34m)\u001b[0m\u001b[0;34m)\u001b[0m\u001b[0;34m\u001b[0m\u001b[0m\n",
            "\u001b[0;32m/opt/conda/lib/python3.6/site-packages/hyperopt/base.py\u001b[0m in \u001b[0;36mevaluate\u001b[0;34m(self, config, ctrl, attach_attachments)\u001b[0m\n\u001b[1;32m    838\u001b[0m                 \u001b[0mmemo\u001b[0m\u001b[0;34m=\u001b[0m\u001b[0mmemo\u001b[0m\u001b[0;34m,\u001b[0m\u001b[0;34m\u001b[0m\u001b[0m\n\u001b[1;32m    839\u001b[0m                 print_node_on_error=self.rec_eval_print_node_on_error)\n\u001b[0;32m--> 840\u001b[0;31m             \u001b[0mrval\u001b[0m \u001b[0;34m=\u001b[0m \u001b[0mself\u001b[0m\u001b[0;34m.\u001b[0m\u001b[0mfn\u001b[0m\u001b[0;34m(\u001b[0m\u001b[0mpyll_rval\u001b[0m\u001b[0;34m)\u001b[0m\u001b[0;34m\u001b[0m\u001b[0m\n\u001b[0m\u001b[1;32m    841\u001b[0m \u001b[0;34m\u001b[0m\u001b[0m\n\u001b[1;32m    842\u001b[0m         \u001b[0;32mif\u001b[0m \u001b[0misinstance\u001b[0m\u001b[0;34m(\u001b[0m\u001b[0mrval\u001b[0m\u001b[0;34m,\u001b[0m \u001b[0;34m(\u001b[0m\u001b[0mfloat\u001b[0m\u001b[0;34m,\u001b[0m \u001b[0mint\u001b[0m\u001b[0;34m,\u001b[0m \u001b[0mnp\u001b[0m\u001b[0;34m.\u001b[0m\u001b[0mnumber\u001b[0m\u001b[0;34m)\u001b[0m\u001b[0;34m)\u001b[0m\u001b[0;34m:\u001b[0m\u001b[0;34m\u001b[0m\u001b[0m\n",
            "\u001b[0;32m<ipython-input-42-9ab356b465ac>\u001b[0m in \u001b[0;36mobjective\u001b[0;34m(args)\u001b[0m\n\u001b[1;32m     11\u001b[0m         \u001b[0mmodel\u001b[0m\u001b[0;34m.\u001b[0m\u001b[0msteps\u001b[0m\u001b[0;34m[\u001b[0m\u001b[0;34m-\u001b[0m\u001b[0;36m1\u001b[0m\u001b[0;34m]\u001b[0m\u001b[0;34m[\u001b[0m\u001b[0;36m1\u001b[0m\u001b[0;34m]\u001b[0m\u001b[0;34m.\u001b[0m\u001b[0mset_params\u001b[0m\u001b[0;34m(\u001b[0m\u001b[0;34m**\u001b[0m\u001b[0margs\u001b[0m\u001b[0;34m)\u001b[0m\u001b[0;34m\u001b[0m\u001b[0m\n\u001b[1;32m     12\u001b[0m \u001b[0;34m\u001b[0m\u001b[0m\n\u001b[0;32m---> 13\u001b[0;31m         \u001b[0mscore\u001b[0m \u001b[0;34m=\u001b[0m \u001b[0mcross_val_score\u001b[0m\u001b[0;34m(\u001b[0m\u001b[0mmodel\u001b[0m\u001b[0;34m,\u001b[0m \u001b[0mX_train\u001b[0m\u001b[0;34m,\u001b[0m \u001b[0my_train\u001b[0m\u001b[0;34m,\u001b[0m \u001b[0mscoring\u001b[0m\u001b[0;34m=\u001b[0m\u001b[0mscoring\u001b[0m\u001b[0;34m,\u001b[0m \u001b[0mcv\u001b[0m\u001b[0;34m=\u001b[0m\u001b[0mcv_size\u001b[0m\u001b[0;34m,\u001b[0m \u001b[0mn_jobs\u001b[0m\u001b[0;34m=\u001b[0m\u001b[0mn_jobs\u001b[0m\u001b[0;34m)\u001b[0m\u001b[0;34m\u001b[0m\u001b[0m\n\u001b[0m\u001b[1;32m     14\u001b[0m \u001b[0;34m\u001b[0m\u001b[0m\n\u001b[1;32m     15\u001b[0m         \u001b[0mprint\u001b[0m\u001b[0;34m(\u001b[0m\u001b[0;34m\"Done\"\u001b[0m\u001b[0;34m)\u001b[0m\u001b[0;34m\u001b[0m\u001b[0m\n",
            "\u001b[0;32m/opt/conda/lib/python3.6/site-packages/sklearn/model_selection/_validation.py\u001b[0m in \u001b[0;36mcross_val_score\u001b[0;34m(estimator, X, y, groups, scoring, cv, n_jobs, verbose, fit_params, pre_dispatch)\u001b[0m\n\u001b[1;32m    362\u001b[0m                                 \u001b[0mn_jobs\u001b[0m\u001b[0;34m=\u001b[0m\u001b[0mn_jobs\u001b[0m\u001b[0;34m,\u001b[0m \u001b[0mverbose\u001b[0m\u001b[0;34m=\u001b[0m\u001b[0mverbose\u001b[0m\u001b[0;34m,\u001b[0m\u001b[0;34m\u001b[0m\u001b[0m\n\u001b[1;32m    363\u001b[0m                                 \u001b[0mfit_params\u001b[0m\u001b[0;34m=\u001b[0m\u001b[0mfit_params\u001b[0m\u001b[0;34m,\u001b[0m\u001b[0;34m\u001b[0m\u001b[0m\n\u001b[0;32m--> 364\u001b[0;31m                                 pre_dispatch=pre_dispatch)\n\u001b[0m\u001b[1;32m    365\u001b[0m     \u001b[0;32mreturn\u001b[0m \u001b[0mcv_results\u001b[0m\u001b[0;34m[\u001b[0m\u001b[0;34m'test_score'\u001b[0m\u001b[0;34m]\u001b[0m\u001b[0;34m\u001b[0m\u001b[0m\n\u001b[1;32m    366\u001b[0m \u001b[0;34m\u001b[0m\u001b[0m\n",
            "\u001b[0;32m/opt/conda/lib/python3.6/site-packages/sklearn/model_selection/_validation.py\u001b[0m in \u001b[0;36mcross_validate\u001b[0;34m(estimator, X, y, groups, scoring, cv, n_jobs, verbose, fit_params, pre_dispatch, return_train_score, return_estimator)\u001b[0m\n\u001b[1;32m    217\u001b[0m             \u001b[0mfit_params\u001b[0m\u001b[0;34m,\u001b[0m \u001b[0mreturn_train_score\u001b[0m\u001b[0;34m=\u001b[0m\u001b[0mreturn_train_score\u001b[0m\u001b[0;34m,\u001b[0m\u001b[0;34m\u001b[0m\u001b[0m\n\u001b[1;32m    218\u001b[0m             return_times=True, return_estimator=return_estimator)\n\u001b[0;32m--> 219\u001b[0;31m         for train, test in cv.split(X, y, groups))\n\u001b[0m\u001b[1;32m    220\u001b[0m \u001b[0;34m\u001b[0m\u001b[0m\n\u001b[1;32m    221\u001b[0m     \u001b[0mzipped_scores\u001b[0m \u001b[0;34m=\u001b[0m \u001b[0mlist\u001b[0m\u001b[0;34m(\u001b[0m\u001b[0mzip\u001b[0m\u001b[0;34m(\u001b[0m\u001b[0;34m*\u001b[0m\u001b[0mscores\u001b[0m\u001b[0;34m)\u001b[0m\u001b[0;34m)\u001b[0m\u001b[0;34m\u001b[0m\u001b[0m\n",
            "\u001b[0;32m/opt/conda/lib/python3.6/site-packages/sklearn/externals/joblib/parallel.py\u001b[0m in \u001b[0;36m__call__\u001b[0;34m(self, iterable)\u001b[0m\n\u001b[1;32m    777\u001b[0m             \u001b[0;31m# was dispatched. In particular this covers the edge\u001b[0m\u001b[0;34m\u001b[0m\u001b[0;34m\u001b[0m\u001b[0m\n\u001b[1;32m    778\u001b[0m             \u001b[0;31m# case of Parallel used with an exhausted iterator.\u001b[0m\u001b[0;34m\u001b[0m\u001b[0;34m\u001b[0m\u001b[0m\n\u001b[0;32m--> 779\u001b[0;31m             \u001b[0;32mwhile\u001b[0m \u001b[0mself\u001b[0m\u001b[0;34m.\u001b[0m\u001b[0mdispatch_one_batch\u001b[0m\u001b[0;34m(\u001b[0m\u001b[0miterator\u001b[0m\u001b[0;34m)\u001b[0m\u001b[0;34m:\u001b[0m\u001b[0;34m\u001b[0m\u001b[0m\n\u001b[0m\u001b[1;32m    780\u001b[0m                 \u001b[0mself\u001b[0m\u001b[0;34m.\u001b[0m\u001b[0m_iterating\u001b[0m \u001b[0;34m=\u001b[0m \u001b[0;32mTrue\u001b[0m\u001b[0;34m\u001b[0m\u001b[0m\n\u001b[1;32m    781\u001b[0m             \u001b[0;32melse\u001b[0m\u001b[0;34m:\u001b[0m\u001b[0;34m\u001b[0m\u001b[0m\n",
            "\u001b[0;32m/opt/conda/lib/python3.6/site-packages/sklearn/externals/joblib/parallel.py\u001b[0m in \u001b[0;36mdispatch_one_batch\u001b[0;34m(self, iterator)\u001b[0m\n\u001b[1;32m    623\u001b[0m                 \u001b[0;32mreturn\u001b[0m \u001b[0;32mFalse\u001b[0m\u001b[0;34m\u001b[0m\u001b[0m\n\u001b[1;32m    624\u001b[0m             \u001b[0;32melse\u001b[0m\u001b[0;34m:\u001b[0m\u001b[0;34m\u001b[0m\u001b[0m\n\u001b[0;32m--> 625\u001b[0;31m                 \u001b[0mself\u001b[0m\u001b[0;34m.\u001b[0m\u001b[0m_dispatch\u001b[0m\u001b[0;34m(\u001b[0m\u001b[0mtasks\u001b[0m\u001b[0;34m)\u001b[0m\u001b[0;34m\u001b[0m\u001b[0m\n\u001b[0m\u001b[1;32m    626\u001b[0m                 \u001b[0;32mreturn\u001b[0m \u001b[0;32mTrue\u001b[0m\u001b[0;34m\u001b[0m\u001b[0m\n\u001b[1;32m    627\u001b[0m \u001b[0;34m\u001b[0m\u001b[0m\n",
            "\u001b[0;32m/opt/conda/lib/python3.6/site-packages/sklearn/externals/joblib/parallel.py\u001b[0m in \u001b[0;36m_dispatch\u001b[0;34m(self, batch)\u001b[0m\n\u001b[1;32m    586\u001b[0m         \u001b[0mdispatch_timestamp\u001b[0m \u001b[0;34m=\u001b[0m \u001b[0mtime\u001b[0m\u001b[0;34m.\u001b[0m\u001b[0mtime\u001b[0m\u001b[0;34m(\u001b[0m\u001b[0;34m)\u001b[0m\u001b[0;34m\u001b[0m\u001b[0m\n\u001b[1;32m    587\u001b[0m         \u001b[0mcb\u001b[0m \u001b[0;34m=\u001b[0m \u001b[0mBatchCompletionCallBack\u001b[0m\u001b[0;34m(\u001b[0m\u001b[0mdispatch_timestamp\u001b[0m\u001b[0;34m,\u001b[0m \u001b[0mlen\u001b[0m\u001b[0;34m(\u001b[0m\u001b[0mbatch\u001b[0m\u001b[0;34m)\u001b[0m\u001b[0;34m,\u001b[0m \u001b[0mself\u001b[0m\u001b[0;34m)\u001b[0m\u001b[0;34m\u001b[0m\u001b[0m\n\u001b[0;32m--> 588\u001b[0;31m         \u001b[0mjob\u001b[0m \u001b[0;34m=\u001b[0m \u001b[0mself\u001b[0m\u001b[0;34m.\u001b[0m\u001b[0m_backend\u001b[0m\u001b[0;34m.\u001b[0m\u001b[0mapply_async\u001b[0m\u001b[0;34m(\u001b[0m\u001b[0mbatch\u001b[0m\u001b[0;34m,\u001b[0m \u001b[0mcallback\u001b[0m\u001b[0;34m=\u001b[0m\u001b[0mcb\u001b[0m\u001b[0;34m)\u001b[0m\u001b[0;34m\u001b[0m\u001b[0m\n\u001b[0m\u001b[1;32m    589\u001b[0m         \u001b[0mself\u001b[0m\u001b[0;34m.\u001b[0m\u001b[0m_jobs\u001b[0m\u001b[0;34m.\u001b[0m\u001b[0mappend\u001b[0m\u001b[0;34m(\u001b[0m\u001b[0mjob\u001b[0m\u001b[0;34m)\u001b[0m\u001b[0;34m\u001b[0m\u001b[0m\n\u001b[1;32m    590\u001b[0m \u001b[0;34m\u001b[0m\u001b[0m\n",
            "\u001b[0;32m/opt/conda/lib/python3.6/site-packages/sklearn/externals/joblib/_parallel_backends.py\u001b[0m in \u001b[0;36mapply_async\u001b[0;34m(self, func, callback)\u001b[0m\n\u001b[1;32m    109\u001b[0m     \u001b[0;32mdef\u001b[0m \u001b[0mapply_async\u001b[0m\u001b[0;34m(\u001b[0m\u001b[0mself\u001b[0m\u001b[0;34m,\u001b[0m \u001b[0mfunc\u001b[0m\u001b[0;34m,\u001b[0m \u001b[0mcallback\u001b[0m\u001b[0;34m=\u001b[0m\u001b[0;32mNone\u001b[0m\u001b[0;34m)\u001b[0m\u001b[0;34m:\u001b[0m\u001b[0;34m\u001b[0m\u001b[0m\n\u001b[1;32m    110\u001b[0m         \u001b[0;34m\"\"\"Schedule a func to be run\"\"\"\u001b[0m\u001b[0;34m\u001b[0m\u001b[0m\n\u001b[0;32m--> 111\u001b[0;31m         \u001b[0mresult\u001b[0m \u001b[0;34m=\u001b[0m \u001b[0mImmediateResult\u001b[0m\u001b[0;34m(\u001b[0m\u001b[0mfunc\u001b[0m\u001b[0;34m)\u001b[0m\u001b[0;34m\u001b[0m\u001b[0m\n\u001b[0m\u001b[1;32m    112\u001b[0m         \u001b[0;32mif\u001b[0m \u001b[0mcallback\u001b[0m\u001b[0;34m:\u001b[0m\u001b[0;34m\u001b[0m\u001b[0m\n\u001b[1;32m    113\u001b[0m             \u001b[0mcallback\u001b[0m\u001b[0;34m(\u001b[0m\u001b[0mresult\u001b[0m\u001b[0;34m)\u001b[0m\u001b[0;34m\u001b[0m\u001b[0m\n",
            "\u001b[0;32m/opt/conda/lib/python3.6/site-packages/sklearn/externals/joblib/_parallel_backends.py\u001b[0m in \u001b[0;36m__init__\u001b[0;34m(self, batch)\u001b[0m\n\u001b[1;32m    330\u001b[0m         \u001b[0;31m# Don't delay the application, to avoid keeping the input\u001b[0m\u001b[0;34m\u001b[0m\u001b[0;34m\u001b[0m\u001b[0m\n\u001b[1;32m    331\u001b[0m         \u001b[0;31m# arguments in memory\u001b[0m\u001b[0;34m\u001b[0m\u001b[0;34m\u001b[0m\u001b[0m\n\u001b[0;32m--> 332\u001b[0;31m         \u001b[0mself\u001b[0m\u001b[0;34m.\u001b[0m\u001b[0mresults\u001b[0m \u001b[0;34m=\u001b[0m \u001b[0mbatch\u001b[0m\u001b[0;34m(\u001b[0m\u001b[0;34m)\u001b[0m\u001b[0;34m\u001b[0m\u001b[0m\n\u001b[0m\u001b[1;32m    333\u001b[0m \u001b[0;34m\u001b[0m\u001b[0m\n\u001b[1;32m    334\u001b[0m     \u001b[0;32mdef\u001b[0m \u001b[0mget\u001b[0m\u001b[0;34m(\u001b[0m\u001b[0mself\u001b[0m\u001b[0;34m)\u001b[0m\u001b[0;34m:\u001b[0m\u001b[0;34m\u001b[0m\u001b[0m\n",
            "\u001b[0;32m/opt/conda/lib/python3.6/site-packages/sklearn/externals/joblib/parallel.py\u001b[0m in \u001b[0;36m__call__\u001b[0;34m(self)\u001b[0m\n\u001b[1;32m    129\u001b[0m \u001b[0;34m\u001b[0m\u001b[0m\n\u001b[1;32m    130\u001b[0m     \u001b[0;32mdef\u001b[0m \u001b[0m__call__\u001b[0m\u001b[0;34m(\u001b[0m\u001b[0mself\u001b[0m\u001b[0;34m)\u001b[0m\u001b[0;34m:\u001b[0m\u001b[0;34m\u001b[0m\u001b[0m\n\u001b[0;32m--> 131\u001b[0;31m         \u001b[0;32mreturn\u001b[0m \u001b[0;34m[\u001b[0m\u001b[0mfunc\u001b[0m\u001b[0;34m(\u001b[0m\u001b[0;34m*\u001b[0m\u001b[0margs\u001b[0m\u001b[0;34m,\u001b[0m \u001b[0;34m**\u001b[0m\u001b[0mkwargs\u001b[0m\u001b[0;34m)\u001b[0m \u001b[0;32mfor\u001b[0m \u001b[0mfunc\u001b[0m\u001b[0;34m,\u001b[0m \u001b[0margs\u001b[0m\u001b[0;34m,\u001b[0m \u001b[0mkwargs\u001b[0m \u001b[0;32min\u001b[0m \u001b[0mself\u001b[0m\u001b[0;34m.\u001b[0m\u001b[0mitems\u001b[0m\u001b[0;34m]\u001b[0m\u001b[0;34m\u001b[0m\u001b[0m\n\u001b[0m\u001b[1;32m    132\u001b[0m \u001b[0;34m\u001b[0m\u001b[0m\n\u001b[1;32m    133\u001b[0m     \u001b[0;32mdef\u001b[0m \u001b[0m__len__\u001b[0m\u001b[0;34m(\u001b[0m\u001b[0mself\u001b[0m\u001b[0;34m)\u001b[0m\u001b[0;34m:\u001b[0m\u001b[0;34m\u001b[0m\u001b[0m\n",
            "\u001b[0;32m/opt/conda/lib/python3.6/site-packages/sklearn/externals/joblib/parallel.py\u001b[0m in \u001b[0;36m<listcomp>\u001b[0;34m(.0)\u001b[0m\n\u001b[1;32m    129\u001b[0m \u001b[0;34m\u001b[0m\u001b[0m\n\u001b[1;32m    130\u001b[0m     \u001b[0;32mdef\u001b[0m \u001b[0m__call__\u001b[0m\u001b[0;34m(\u001b[0m\u001b[0mself\u001b[0m\u001b[0;34m)\u001b[0m\u001b[0;34m:\u001b[0m\u001b[0;34m\u001b[0m\u001b[0m\n\u001b[0;32m--> 131\u001b[0;31m         \u001b[0;32mreturn\u001b[0m \u001b[0;34m[\u001b[0m\u001b[0mfunc\u001b[0m\u001b[0;34m(\u001b[0m\u001b[0;34m*\u001b[0m\u001b[0margs\u001b[0m\u001b[0;34m,\u001b[0m \u001b[0;34m**\u001b[0m\u001b[0mkwargs\u001b[0m\u001b[0;34m)\u001b[0m \u001b[0;32mfor\u001b[0m \u001b[0mfunc\u001b[0m\u001b[0;34m,\u001b[0m \u001b[0margs\u001b[0m\u001b[0;34m,\u001b[0m \u001b[0mkwargs\u001b[0m \u001b[0;32min\u001b[0m \u001b[0mself\u001b[0m\u001b[0;34m.\u001b[0m\u001b[0mitems\u001b[0m\u001b[0;34m]\u001b[0m\u001b[0;34m\u001b[0m\u001b[0m\n\u001b[0m\u001b[1;32m    132\u001b[0m \u001b[0;34m\u001b[0m\u001b[0m\n\u001b[1;32m    133\u001b[0m     \u001b[0;32mdef\u001b[0m \u001b[0m__len__\u001b[0m\u001b[0;34m(\u001b[0m\u001b[0mself\u001b[0m\u001b[0;34m)\u001b[0m\u001b[0;34m:\u001b[0m\u001b[0;34m\u001b[0m\u001b[0m\n",
            "\u001b[0;32m/opt/conda/lib/python3.6/site-packages/sklearn/model_selection/_validation.py\u001b[0m in \u001b[0;36m_fit_and_score\u001b[0;34m(estimator, X, y, scorer, train, test, verbose, parameters, fit_params, return_train_score, return_parameters, return_n_test_samples, return_times, return_estimator, error_score)\u001b[0m\n\u001b[1;32m    485\u001b[0m             \u001b[0mestimator\u001b[0m\u001b[0;34m.\u001b[0m\u001b[0mfit\u001b[0m\u001b[0;34m(\u001b[0m\u001b[0mX_train\u001b[0m\u001b[0;34m,\u001b[0m \u001b[0;34m**\u001b[0m\u001b[0mfit_params\u001b[0m\u001b[0;34m)\u001b[0m\u001b[0;34m\u001b[0m\u001b[0m\n\u001b[1;32m    486\u001b[0m         \u001b[0;32melse\u001b[0m\u001b[0;34m:\u001b[0m\u001b[0;34m\u001b[0m\u001b[0m\n\u001b[0;32m--> 487\u001b[0;31m             \u001b[0mestimator\u001b[0m\u001b[0;34m.\u001b[0m\u001b[0mfit\u001b[0m\u001b[0;34m(\u001b[0m\u001b[0mX_train\u001b[0m\u001b[0;34m,\u001b[0m \u001b[0my_train\u001b[0m\u001b[0;34m,\u001b[0m \u001b[0;34m**\u001b[0m\u001b[0mfit_params\u001b[0m\u001b[0;34m)\u001b[0m\u001b[0;34m\u001b[0m\u001b[0m\n\u001b[0m\u001b[1;32m    488\u001b[0m \u001b[0;34m\u001b[0m\u001b[0m\n\u001b[1;32m    489\u001b[0m     \u001b[0;32mexcept\u001b[0m \u001b[0mException\u001b[0m \u001b[0;32mas\u001b[0m \u001b[0me\u001b[0m\u001b[0;34m:\u001b[0m\u001b[0;34m\u001b[0m\u001b[0m\n",
            "\u001b[0;32m/opt/conda/lib/python3.6/site-packages/sklearn/pipeline.py\u001b[0m in \u001b[0;36mfit\u001b[0;34m(self, X, y, **fit_params)\u001b[0m\n\u001b[1;32m    253\u001b[0m         \u001b[0mXt\u001b[0m\u001b[0;34m,\u001b[0m \u001b[0mfit_params\u001b[0m \u001b[0;34m=\u001b[0m \u001b[0mself\u001b[0m\u001b[0;34m.\u001b[0m\u001b[0m_fit\u001b[0m\u001b[0;34m(\u001b[0m\u001b[0mX\u001b[0m\u001b[0;34m,\u001b[0m \u001b[0my\u001b[0m\u001b[0;34m,\u001b[0m \u001b[0;34m**\u001b[0m\u001b[0mfit_params\u001b[0m\u001b[0;34m)\u001b[0m\u001b[0;34m\u001b[0m\u001b[0m\n\u001b[1;32m    254\u001b[0m         \u001b[0;32mif\u001b[0m \u001b[0mself\u001b[0m\u001b[0;34m.\u001b[0m\u001b[0m_final_estimator\u001b[0m \u001b[0;32mis\u001b[0m \u001b[0;32mnot\u001b[0m \u001b[0;32mNone\u001b[0m\u001b[0;34m:\u001b[0m\u001b[0;34m\u001b[0m\u001b[0m\n\u001b[0;32m--> 255\u001b[0;31m             \u001b[0mself\u001b[0m\u001b[0;34m.\u001b[0m\u001b[0m_final_estimator\u001b[0m\u001b[0;34m.\u001b[0m\u001b[0mfit\u001b[0m\u001b[0;34m(\u001b[0m\u001b[0mXt\u001b[0m\u001b[0;34m,\u001b[0m \u001b[0my\u001b[0m\u001b[0;34m,\u001b[0m \u001b[0;34m**\u001b[0m\u001b[0mfit_params\u001b[0m\u001b[0;34m)\u001b[0m\u001b[0;34m\u001b[0m\u001b[0m\n\u001b[0m\u001b[1;32m    256\u001b[0m         \u001b[0;32mreturn\u001b[0m \u001b[0mself\u001b[0m\u001b[0;34m\u001b[0m\u001b[0m\n\u001b[1;32m    257\u001b[0m \u001b[0;34m\u001b[0m\u001b[0m\n",
            "\u001b[0;32m/opt/conda/lib/python3.6/site-packages/xgboost-0.72-py3.6.egg/xgboost/sklearn.py\u001b[0m in \u001b[0;36mfit\u001b[0;34m(self, X, y, sample_weight, eval_set, eval_metric, early_stopping_rounds, verbose, xgb_model, sample_weight_eval_set)\u001b[0m\n\u001b[1;32m    300\u001b[0m                               \u001b[0mearly_stopping_rounds\u001b[0m\u001b[0;34m=\u001b[0m\u001b[0mearly_stopping_rounds\u001b[0m\u001b[0;34m,\u001b[0m\u001b[0;34m\u001b[0m\u001b[0m\n\u001b[1;32m    301\u001b[0m                               \u001b[0mevals_result\u001b[0m\u001b[0;34m=\u001b[0m\u001b[0mevals_result\u001b[0m\u001b[0;34m,\u001b[0m \u001b[0mobj\u001b[0m\u001b[0;34m=\u001b[0m\u001b[0mobj\u001b[0m\u001b[0;34m,\u001b[0m \u001b[0mfeval\u001b[0m\u001b[0;34m=\u001b[0m\u001b[0mfeval\u001b[0m\u001b[0;34m,\u001b[0m\u001b[0;34m\u001b[0m\u001b[0m\n\u001b[0;32m--> 302\u001b[0;31m                               verbose_eval=verbose, xgb_model=xgb_model)\n\u001b[0m\u001b[1;32m    303\u001b[0m \u001b[0;34m\u001b[0m\u001b[0m\n\u001b[1;32m    304\u001b[0m         \u001b[0;32mif\u001b[0m \u001b[0mevals_result\u001b[0m\u001b[0;34m:\u001b[0m\u001b[0;34m\u001b[0m\u001b[0m\n",
            "\u001b[0;32m/opt/conda/lib/python3.6/site-packages/xgboost-0.72-py3.6.egg/xgboost/training.py\u001b[0m in \u001b[0;36mtrain\u001b[0;34m(params, dtrain, num_boost_round, evals, obj, feval, maximize, early_stopping_rounds, evals_result, verbose_eval, xgb_model, callbacks, learning_rates)\u001b[0m\n\u001b[1;32m    202\u001b[0m                            \u001b[0mevals\u001b[0m\u001b[0;34m=\u001b[0m\u001b[0mevals\u001b[0m\u001b[0;34m,\u001b[0m\u001b[0;34m\u001b[0m\u001b[0m\n\u001b[1;32m    203\u001b[0m                            \u001b[0mobj\u001b[0m\u001b[0;34m=\u001b[0m\u001b[0mobj\u001b[0m\u001b[0;34m,\u001b[0m \u001b[0mfeval\u001b[0m\u001b[0;34m=\u001b[0m\u001b[0mfeval\u001b[0m\u001b[0;34m,\u001b[0m\u001b[0;34m\u001b[0m\u001b[0m\n\u001b[0;32m--> 204\u001b[0;31m                            xgb_model=xgb_model, callbacks=callbacks)\n\u001b[0m\u001b[1;32m    205\u001b[0m \u001b[0;34m\u001b[0m\u001b[0m\n\u001b[1;32m    206\u001b[0m \u001b[0;34m\u001b[0m\u001b[0m\n",
            "\u001b[0;32m/opt/conda/lib/python3.6/site-packages/xgboost-0.72-py3.6.egg/xgboost/training.py\u001b[0m in \u001b[0;36m_train_internal\u001b[0;34m(params, dtrain, num_boost_round, evals, obj, feval, xgb_model, callbacks)\u001b[0m\n\u001b[1;32m     72\u001b[0m         \u001b[0;31m# Skip the first update if it is a recovery step.\u001b[0m\u001b[0;34m\u001b[0m\u001b[0;34m\u001b[0m\u001b[0m\n\u001b[1;32m     73\u001b[0m         \u001b[0;32mif\u001b[0m \u001b[0mversion\u001b[0m \u001b[0;34m%\u001b[0m \u001b[0;36m2\u001b[0m \u001b[0;34m==\u001b[0m \u001b[0;36m0\u001b[0m\u001b[0;34m:\u001b[0m\u001b[0;34m\u001b[0m\u001b[0m\n\u001b[0;32m---> 74\u001b[0;31m             \u001b[0mbst\u001b[0m\u001b[0;34m.\u001b[0m\u001b[0mupdate\u001b[0m\u001b[0;34m(\u001b[0m\u001b[0mdtrain\u001b[0m\u001b[0;34m,\u001b[0m \u001b[0mi\u001b[0m\u001b[0;34m,\u001b[0m \u001b[0mobj\u001b[0m\u001b[0;34m)\u001b[0m\u001b[0;34m\u001b[0m\u001b[0m\n\u001b[0m\u001b[1;32m     75\u001b[0m             \u001b[0mbst\u001b[0m\u001b[0;34m.\u001b[0m\u001b[0msave_rabit_checkpoint\u001b[0m\u001b[0;34m(\u001b[0m\u001b[0;34m)\u001b[0m\u001b[0;34m\u001b[0m\u001b[0m\n\u001b[1;32m     76\u001b[0m             \u001b[0mversion\u001b[0m \u001b[0;34m+=\u001b[0m \u001b[0;36m1\u001b[0m\u001b[0;34m\u001b[0m\u001b[0m\n",
            "\u001b[0;32m/opt/conda/lib/python3.6/site-packages/xgboost-0.72-py3.6.egg/xgboost/core.py\u001b[0m in \u001b[0;36mupdate\u001b[0;34m(self, dtrain, iteration, fobj)\u001b[0m\n\u001b[1;32m    895\u001b[0m         \u001b[0;32mif\u001b[0m \u001b[0mfobj\u001b[0m \u001b[0;32mis\u001b[0m \u001b[0;32mNone\u001b[0m\u001b[0;34m:\u001b[0m\u001b[0;34m\u001b[0m\u001b[0m\n\u001b[1;32m    896\u001b[0m             _check_call(_LIB.XGBoosterUpdateOneIter(self.handle, ctypes.c_int(iteration),\n\u001b[0;32m--> 897\u001b[0;31m                                                     dtrain.handle))\n\u001b[0m\u001b[1;32m    898\u001b[0m         \u001b[0;32melse\u001b[0m\u001b[0;34m:\u001b[0m\u001b[0;34m\u001b[0m\u001b[0m\n\u001b[1;32m    899\u001b[0m             \u001b[0mpred\u001b[0m \u001b[0;34m=\u001b[0m \u001b[0mself\u001b[0m\u001b[0;34m.\u001b[0m\u001b[0mpredict\u001b[0m\u001b[0;34m(\u001b[0m\u001b[0mdtrain\u001b[0m\u001b[0;34m)\u001b[0m\u001b[0;34m\u001b[0m\u001b[0m\n",
            "\u001b[0;31mKeyboardInterrupt\u001b[0m: "
          ]
        }
      ]
    },
    {
      "metadata": {
        "_uuid": "01464b9c81b507a3cd49d2deae71babac0e3c280",
        "collapsed": true,
        "trusted": true
      },
      "cell_type": "code",
      "source": "best_params = {'colsample_bytree': 0.4708332878894328,\n 'gamma': 4.468853259609137,\n 'learning_rate': 0.05617427300476756,\n 'max_depth': 227,\n 'min_child_weight': 1.8959293704519609,\n 'n_estimators': 69,\n 'reg_alpha': 0.011073130482133953,\n 'reg_lambda': 0.00429738591644784,\n 'subsample': 0.034785099220768445}",
      "execution_count": null,
      "outputs": []
    },
    {
      "metadata": {
        "_uuid": "ea6e730a40483823e56173024a45023f15ed99e1",
        "collapsed": true,
        "trusted": true
      },
      "cell_type": "code",
      "source": "xgbmodel.steps[-1][1].set_params(**best_params)\n\nevalModelByCV(xgbmodel, X_train, y_train)\nplot_my_learning_curves(X_train, y_train, X_test, y_test, xgbmodel, scoring=\"r2\", cv=5, n_jobs=n_jobs)\n\n\nxgb.plot_importance(xgbmodel.named_steps[\"xgbregressor\"], max_num_features=15)\nplt.show()\n\n# plot feature importance\npd.concat((pd.DataFrame(X_train.columns, columns = ['variable']), \n           pd.DataFrame(xgbmodel.named_steps[\"xgbregressor\"].feature_importances_, columns = ['importance'])), \n          axis = 1).sort_values(by='importance', ascending = False)",
      "execution_count": null,
      "outputs": []
    },
    {
      "metadata": {
        "_uuid": "768fad7d06ded517ea1316430117fc72bd3307d6",
        "collapsed": true,
        "trusted": true
      },
      "cell_type": "code",
      "source": "",
      "execution_count": null,
      "outputs": []
    },
    {
      "metadata": {
        "_uuid": "416b00a91ffd9e0011dab830ae82269de26e5b9d"
      },
      "cell_type": "raw",
      "source": "max_evals = 100"
    },
    {
      "metadata": {
        "_uuid": "1f37dbb4451412a7f3720fd44767f3fd769bc8ed"
      },
      "cell_type": "raw",
      "source": "# DO NOT USE !!: using old searchHyperParam()\n\npar_space = {\n    'n_estimators':hp.choice('n_estimators', np.arange(1, 100, dtype=int)),\n    'learning_rate':hp.uniform('learning_rate', 0.000000001, 1.0),\n    'max_depth':hp.choice('max_depth', np.arange(1, 300, dtype=int)), \n    'gamma':hp.uniform('gamma', 0.0, 5.0),\n    'min_child_weight':hp.uniform('min_child_weight', 0.0, 5.0),\n    'subsample': hp.uniform('subsample', 0.0, 1.0),\n    'colsample_bytree': hp.uniform('colsample_bytree', 0.0, 1.0),\n    'reg_alpha': hp.loguniform('reg_alpha', -6, 2),\n    'reg_lambda': hp.loguniform('reg_lambda', -6, 2),\n}\n\nbest_params = searchHyperParam(\"XGBRegressor\", par_space, X_train, y_train,\n                               scoring=\"r2\", max_evals=max_evals, cv_size=cv_size, n_jobs=3)\nbest_params\n\n\n"
    },
    {
      "metadata": {
        "_uuid": "48bd5d9f9eee8e3497fa626cadecb177055c259e"
      },
      "cell_type": "raw",
      "source": "# used 100 max_evalus score\n\nbest_params = "
    },
    {
      "metadata": {
        "_uuid": "a0e2ca0a33c73d7f6ce3ea36c74599ff825af3c4"
      },
      "cell_type": "raw",
      "source": "# DO NOT USE !!: using old searchHyperParam()\n\n\nxgbmodel = make_pipeline(\n        #RobustScaler(),\n        XGBRegressor(**best_params)\n)\n\nevalModelByCV(xgbmodel, X_train, y_train)\n\n\nplot_my_learning_curves(X_train, y_train, X_test, y_test, xgbmodel, scoring=\"r2\", cv=5, n_jobs=3)\n\nxgb.plot_importance(xgbmodel.named_steps[\"xgbregressor\"], max_num_features=15)\nplt.show()\n\n# plot feature importance\npd.concat((pd.DataFrame(X_train.columns, columns = ['variable']), \n           pd.DataFrame(xgbmodel.named_steps[\"xgbregressor\"].feature_importances_, columns = ['importance'])), \n          axis = 1).sort_values(by='importance', ascending = False)\n"
    },
    {
      "metadata": {
        "_uuid": "e894cda2ebea2e489aa7b8e6e2f1b7d81b5985de",
        "collapsed": true,
        "trusted": true
      },
      "cell_type": "code",
      "source": "",
      "execution_count": null,
      "outputs": []
    },
    {
      "metadata": {
        "_uuid": "bb2df4796c3f08f28b5435e39fcda129615960fa"
      },
      "cell_type": "markdown",
      "source": "## LightGBM"
    },
    {
      "metadata": {
        "_uuid": "299f3b889c4b8b0a812c154ae2094bad9575d2d1",
        "collapsed": true,
        "trusted": true
      },
      "cell_type": "code",
      "source": "lgbmodel = make_pipeline(\n        #RobustScaler(),\n        LGBMRegressor()\n)\n\npar_space = {\n    'learning_rate':hp.uniform('learning_rate', 0.000000001, 1.0),\n    'max_depth':hp.choice('max_depth', np.arange(1, 300, dtype=int)), \n    'num_leaves':hp.choice('num_leaves', np.arange(2, 100, dtype=int)),\n    'min_data_in_leaf':hp.choice('min_data_in_leaf', np.arange(1, 100, dtype=int)),\n    \n    'n_estimators':hp.choice('n_estimators', np.arange(1, 100, dtype=int)),\n    'max_bin':hp.choice('max_bin', np.arange(2, 300, dtype=int)),\n    'bagging_fraction': hp.uniform('bagging_fraction', 0.000000001, 1.0),\n    'bagging_freq': hp.randint('bagging_freq', 10),\n    'feature_fraction': hp.uniform('feature_fraction', 0.000000001, 1.0),\n    'min_sum_hessian_in_leaf': hp.loguniform('min_sum_hessian_in_leaf', -6, 2),\n}",
      "execution_count": 51,
      "outputs": []
    },
    {
      "metadata": {
        "_uuid": "31439b9adfdfff4bf84563527eb4dfb6a91d77ac",
        "trusted": true
      },
      "cell_type": "code",
      "source": "%%time\nbest_params = searchHyperParam(lgbmodel, par_space, X_train, y_train, scoring=\"r2\", max_evals=max_evals, cv_size=cv_size, n_jobs=n_jobs)\nbest_params",
      "execution_count": 55,
      "outputs": [
        {
          "output_type": "stream",
          "text": "Trial  0 , Params  {'bagging_fraction': 0.8084944517023983, 'bagging_freq': 7, 'feature_fraction': 0.05102494292285569, 'learning_rate': 0.7432237909221655, 'max_bin': 121, 'max_depth': 21, 'min_data_in_leaf': 81, 'min_sum_hessian_in_leaf': 2.081881249622862, 'n_estimators': 66, 'num_leaves': 49}  -> ",
          "name": "stdout"
        },
        {
          "output_type": "error",
          "ename": "OSError",
          "evalue": "[Errno 28] No space left on device",
          "traceback": [
            "\u001b[0;31m---------------------------------------------------------------------------\u001b[0m",
            "\u001b[0;31mOSError\u001b[0m                                   Traceback (most recent call last)",
            "\u001b[0;32m<timed exec>\u001b[0m in \u001b[0;36m<module>\u001b[0;34m()\u001b[0m\n",
            "\u001b[0;32m<ipython-input-53-ac9afaf754f1>\u001b[0m in \u001b[0;36msearchHyperParam\u001b[0;34m(model, par_space, X_train, y_train, scoring, max_evals, cv_size, n_jobs)\u001b[0m\n\u001b[1;32m     42\u001b[0m         \u001b[0malgo\u001b[0m\u001b[0;34m=\u001b[0m\u001b[0mtpe\u001b[0m\u001b[0;34m.\u001b[0m\u001b[0msuggest\u001b[0m\u001b[0;34m,\u001b[0m \u001b[0;31m# どのロジックを利用するか、基本的にはtpe.suggestでok\u001b[0m\u001b[0;34m\u001b[0m\u001b[0m\n\u001b[1;32m     43\u001b[0m         \u001b[0mmax_evals\u001b[0m\u001b[0;34m=\u001b[0m\u001b[0mmax_evals\u001b[0m\u001b[0;34m,\u001b[0m\u001b[0;34m\u001b[0m\u001b[0m\n\u001b[0;32m---> 44\u001b[0;31m         \u001b[0mtrials\u001b[0m\u001b[0;34m=\u001b[0m\u001b[0mtrials\u001b[0m\u001b[0;34m,\u001b[0m\u001b[0;34m\u001b[0m\u001b[0m\n\u001b[0m\u001b[1;32m     45\u001b[0m         \u001b[0;31m#verbose=1\u001b[0m\u001b[0;34m\u001b[0m\u001b[0;34m\u001b[0m\u001b[0m\n\u001b[1;32m     46\u001b[0m     )\n",
            "\u001b[0;32m/opt/conda/lib/python3.6/site-packages/hyperopt/fmin.py\u001b[0m in \u001b[0;36mfmin\u001b[0;34m(fn, space, algo, max_evals, trials, rstate, allow_trials_fmin, pass_expr_memo_ctrl, catch_eval_exceptions, verbose, return_argmin)\u001b[0m\n\u001b[1;32m    305\u001b[0m             \u001b[0mverbose\u001b[0m\u001b[0;34m=\u001b[0m\u001b[0mverbose\u001b[0m\u001b[0;34m,\u001b[0m\u001b[0;34m\u001b[0m\u001b[0m\n\u001b[1;32m    306\u001b[0m             \u001b[0mcatch_eval_exceptions\u001b[0m\u001b[0;34m=\u001b[0m\u001b[0mcatch_eval_exceptions\u001b[0m\u001b[0;34m,\u001b[0m\u001b[0;34m\u001b[0m\u001b[0m\n\u001b[0;32m--> 307\u001b[0;31m             \u001b[0mreturn_argmin\u001b[0m\u001b[0;34m=\u001b[0m\u001b[0mreturn_argmin\u001b[0m\u001b[0;34m,\u001b[0m\u001b[0;34m\u001b[0m\u001b[0m\n\u001b[0m\u001b[1;32m    308\u001b[0m         )\n\u001b[1;32m    309\u001b[0m \u001b[0;34m\u001b[0m\u001b[0m\n",
            "\u001b[0;32m/opt/conda/lib/python3.6/site-packages/hyperopt/base.py\u001b[0m in \u001b[0;36mfmin\u001b[0;34m(self, fn, space, algo, max_evals, rstate, verbose, pass_expr_memo_ctrl, catch_eval_exceptions, return_argmin)\u001b[0m\n\u001b[1;32m    633\u001b[0m             \u001b[0mpass_expr_memo_ctrl\u001b[0m\u001b[0;34m=\u001b[0m\u001b[0mpass_expr_memo_ctrl\u001b[0m\u001b[0;34m,\u001b[0m\u001b[0;34m\u001b[0m\u001b[0m\n\u001b[1;32m    634\u001b[0m             \u001b[0mcatch_eval_exceptions\u001b[0m\u001b[0;34m=\u001b[0m\u001b[0mcatch_eval_exceptions\u001b[0m\u001b[0;34m,\u001b[0m\u001b[0;34m\u001b[0m\u001b[0m\n\u001b[0;32m--> 635\u001b[0;31m             return_argmin=return_argmin)\n\u001b[0m\u001b[1;32m    636\u001b[0m \u001b[0;34m\u001b[0m\u001b[0m\n\u001b[1;32m    637\u001b[0m \u001b[0;34m\u001b[0m\u001b[0m\n",
            "\u001b[0;32m/opt/conda/lib/python3.6/site-packages/hyperopt/fmin.py\u001b[0m in \u001b[0;36mfmin\u001b[0;34m(fn, space, algo, max_evals, trials, rstate, allow_trials_fmin, pass_expr_memo_ctrl, catch_eval_exceptions, verbose, return_argmin)\u001b[0m\n\u001b[1;32m    318\u001b[0m                     verbose=verbose)\n\u001b[1;32m    319\u001b[0m     \u001b[0mrval\u001b[0m\u001b[0;34m.\u001b[0m\u001b[0mcatch_eval_exceptions\u001b[0m \u001b[0;34m=\u001b[0m \u001b[0mcatch_eval_exceptions\u001b[0m\u001b[0;34m\u001b[0m\u001b[0m\n\u001b[0;32m--> 320\u001b[0;31m     \u001b[0mrval\u001b[0m\u001b[0;34m.\u001b[0m\u001b[0mexhaust\u001b[0m\u001b[0;34m(\u001b[0m\u001b[0;34m)\u001b[0m\u001b[0;34m\u001b[0m\u001b[0m\n\u001b[0m\u001b[1;32m    321\u001b[0m     \u001b[0;32mif\u001b[0m \u001b[0mreturn_argmin\u001b[0m\u001b[0;34m:\u001b[0m\u001b[0;34m\u001b[0m\u001b[0m\n\u001b[1;32m    322\u001b[0m         \u001b[0;32mreturn\u001b[0m \u001b[0mtrials\u001b[0m\u001b[0;34m.\u001b[0m\u001b[0margmin\u001b[0m\u001b[0;34m\u001b[0m\u001b[0m\n",
            "\u001b[0;32m/opt/conda/lib/python3.6/site-packages/hyperopt/fmin.py\u001b[0m in \u001b[0;36mexhaust\u001b[0;34m(self)\u001b[0m\n\u001b[1;32m    197\u001b[0m     \u001b[0;32mdef\u001b[0m \u001b[0mexhaust\u001b[0m\u001b[0;34m(\u001b[0m\u001b[0mself\u001b[0m\u001b[0;34m)\u001b[0m\u001b[0;34m:\u001b[0m\u001b[0;34m\u001b[0m\u001b[0m\n\u001b[1;32m    198\u001b[0m         \u001b[0mn_done\u001b[0m \u001b[0;34m=\u001b[0m \u001b[0mlen\u001b[0m\u001b[0;34m(\u001b[0m\u001b[0mself\u001b[0m\u001b[0;34m.\u001b[0m\u001b[0mtrials\u001b[0m\u001b[0;34m)\u001b[0m\u001b[0;34m\u001b[0m\u001b[0m\n\u001b[0;32m--> 199\u001b[0;31m         \u001b[0mself\u001b[0m\u001b[0;34m.\u001b[0m\u001b[0mrun\u001b[0m\u001b[0;34m(\u001b[0m\u001b[0mself\u001b[0m\u001b[0;34m.\u001b[0m\u001b[0mmax_evals\u001b[0m \u001b[0;34m-\u001b[0m \u001b[0mn_done\u001b[0m\u001b[0;34m,\u001b[0m \u001b[0mblock_until_done\u001b[0m\u001b[0;34m=\u001b[0m\u001b[0mself\u001b[0m\u001b[0;34m.\u001b[0m\u001b[0masync\u001b[0m\u001b[0;34m)\u001b[0m\u001b[0;34m\u001b[0m\u001b[0m\n\u001b[0m\u001b[1;32m    200\u001b[0m         \u001b[0mself\u001b[0m\u001b[0;34m.\u001b[0m\u001b[0mtrials\u001b[0m\u001b[0;34m.\u001b[0m\u001b[0mrefresh\u001b[0m\u001b[0;34m(\u001b[0m\u001b[0;34m)\u001b[0m\u001b[0;34m\u001b[0m\u001b[0m\n\u001b[1;32m    201\u001b[0m         \u001b[0;32mreturn\u001b[0m \u001b[0mself\u001b[0m\u001b[0;34m\u001b[0m\u001b[0m\n",
            "\u001b[0;32m/opt/conda/lib/python3.6/site-packages/hyperopt/fmin.py\u001b[0m in \u001b[0;36mrun\u001b[0;34m(self, N, block_until_done)\u001b[0m\n\u001b[1;32m    171\u001b[0m             \u001b[0;32melse\u001b[0m\u001b[0;34m:\u001b[0m\u001b[0;34m\u001b[0m\u001b[0m\n\u001b[1;32m    172\u001b[0m                 \u001b[0;31m# -- loop over trials and do the jobs directly\u001b[0m\u001b[0;34m\u001b[0m\u001b[0;34m\u001b[0m\u001b[0m\n\u001b[0;32m--> 173\u001b[0;31m                 \u001b[0mself\u001b[0m\u001b[0;34m.\u001b[0m\u001b[0mserial_evaluate\u001b[0m\u001b[0;34m(\u001b[0m\u001b[0;34m)\u001b[0m\u001b[0;34m\u001b[0m\u001b[0m\n\u001b[0m\u001b[1;32m    174\u001b[0m \u001b[0;34m\u001b[0m\u001b[0m\n\u001b[1;32m    175\u001b[0m             \u001b[0;32mif\u001b[0m \u001b[0mstopped\u001b[0m\u001b[0;34m:\u001b[0m\u001b[0;34m\u001b[0m\u001b[0m\n",
            "\u001b[0;32m/opt/conda/lib/python3.6/site-packages/hyperopt/fmin.py\u001b[0m in \u001b[0;36mserial_evaluate\u001b[0;34m(self, N)\u001b[0m\n\u001b[1;32m     90\u001b[0m                 \u001b[0mctrl\u001b[0m \u001b[0;34m=\u001b[0m \u001b[0mbase\u001b[0m\u001b[0;34m.\u001b[0m\u001b[0mCtrl\u001b[0m\u001b[0;34m(\u001b[0m\u001b[0mself\u001b[0m\u001b[0;34m.\u001b[0m\u001b[0mtrials\u001b[0m\u001b[0;34m,\u001b[0m \u001b[0mcurrent_trial\u001b[0m\u001b[0;34m=\u001b[0m\u001b[0mtrial\u001b[0m\u001b[0;34m)\u001b[0m\u001b[0;34m\u001b[0m\u001b[0m\n\u001b[1;32m     91\u001b[0m                 \u001b[0;32mtry\u001b[0m\u001b[0;34m:\u001b[0m\u001b[0;34m\u001b[0m\u001b[0m\n\u001b[0;32m---> 92\u001b[0;31m                     \u001b[0mresult\u001b[0m \u001b[0;34m=\u001b[0m \u001b[0mself\u001b[0m\u001b[0;34m.\u001b[0m\u001b[0mdomain\u001b[0m\u001b[0;34m.\u001b[0m\u001b[0mevaluate\u001b[0m\u001b[0;34m(\u001b[0m\u001b[0mspec\u001b[0m\u001b[0;34m,\u001b[0m \u001b[0mctrl\u001b[0m\u001b[0;34m)\u001b[0m\u001b[0;34m\u001b[0m\u001b[0m\n\u001b[0m\u001b[1;32m     93\u001b[0m                 \u001b[0;32mexcept\u001b[0m \u001b[0mException\u001b[0m \u001b[0;32mas\u001b[0m \u001b[0me\u001b[0m\u001b[0;34m:\u001b[0m\u001b[0;34m\u001b[0m\u001b[0m\n\u001b[1;32m     94\u001b[0m                     \u001b[0mlogger\u001b[0m\u001b[0;34m.\u001b[0m\u001b[0minfo\u001b[0m\u001b[0;34m(\u001b[0m\u001b[0;34m'job exception: %s'\u001b[0m \u001b[0;34m%\u001b[0m \u001b[0mstr\u001b[0m\u001b[0;34m(\u001b[0m\u001b[0me\u001b[0m\u001b[0;34m)\u001b[0m\u001b[0;34m)\u001b[0m\u001b[0;34m\u001b[0m\u001b[0m\n",
            "\u001b[0;32m/opt/conda/lib/python3.6/site-packages/hyperopt/base.py\u001b[0m in \u001b[0;36mevaluate\u001b[0;34m(self, config, ctrl, attach_attachments)\u001b[0m\n\u001b[1;32m    838\u001b[0m                 \u001b[0mmemo\u001b[0m\u001b[0;34m=\u001b[0m\u001b[0mmemo\u001b[0m\u001b[0;34m,\u001b[0m\u001b[0;34m\u001b[0m\u001b[0m\n\u001b[1;32m    839\u001b[0m                 print_node_on_error=self.rec_eval_print_node_on_error)\n\u001b[0;32m--> 840\u001b[0;31m             \u001b[0mrval\u001b[0m \u001b[0;34m=\u001b[0m \u001b[0mself\u001b[0m\u001b[0;34m.\u001b[0m\u001b[0mfn\u001b[0m\u001b[0;34m(\u001b[0m\u001b[0mpyll_rval\u001b[0m\u001b[0;34m)\u001b[0m\u001b[0;34m\u001b[0m\u001b[0m\n\u001b[0m\u001b[1;32m    841\u001b[0m \u001b[0;34m\u001b[0m\u001b[0m\n\u001b[1;32m    842\u001b[0m         \u001b[0;32mif\u001b[0m \u001b[0misinstance\u001b[0m\u001b[0;34m(\u001b[0m\u001b[0mrval\u001b[0m\u001b[0;34m,\u001b[0m \u001b[0;34m(\u001b[0m\u001b[0mfloat\u001b[0m\u001b[0;34m,\u001b[0m \u001b[0mint\u001b[0m\u001b[0;34m,\u001b[0m \u001b[0mnp\u001b[0m\u001b[0;34m.\u001b[0m\u001b[0mnumber\u001b[0m\u001b[0;34m)\u001b[0m\u001b[0;34m)\u001b[0m\u001b[0;34m:\u001b[0m\u001b[0;34m\u001b[0m\u001b[0m\n",
            "\u001b[0;32m<ipython-input-53-ac9afaf754f1>\u001b[0m in \u001b[0;36mobjective\u001b[0;34m(args)\u001b[0m\n\u001b[1;32m     11\u001b[0m         \u001b[0mmodel\u001b[0m\u001b[0;34m.\u001b[0m\u001b[0msteps\u001b[0m\u001b[0;34m[\u001b[0m\u001b[0;34m-\u001b[0m\u001b[0;36m1\u001b[0m\u001b[0;34m]\u001b[0m\u001b[0;34m[\u001b[0m\u001b[0;36m1\u001b[0m\u001b[0;34m]\u001b[0m\u001b[0;34m.\u001b[0m\u001b[0mset_params\u001b[0m\u001b[0;34m(\u001b[0m\u001b[0;34m**\u001b[0m\u001b[0margs\u001b[0m\u001b[0;34m)\u001b[0m\u001b[0;34m\u001b[0m\u001b[0m\n\u001b[1;32m     12\u001b[0m \u001b[0;34m\u001b[0m\u001b[0m\n\u001b[0;32m---> 13\u001b[0;31m         \u001b[0mscore\u001b[0m \u001b[0;34m=\u001b[0m \u001b[0mcross_val_score\u001b[0m\u001b[0;34m(\u001b[0m\u001b[0mmodel\u001b[0m\u001b[0;34m,\u001b[0m \u001b[0mX_train\u001b[0m\u001b[0;34m,\u001b[0m \u001b[0my_train\u001b[0m\u001b[0;34m,\u001b[0m \u001b[0mscoring\u001b[0m\u001b[0;34m=\u001b[0m\u001b[0mscoring\u001b[0m\u001b[0;34m,\u001b[0m \u001b[0mcv\u001b[0m\u001b[0;34m=\u001b[0m\u001b[0mcv_size\u001b[0m\u001b[0;34m,\u001b[0m \u001b[0mn_jobs\u001b[0m\u001b[0;34m=\u001b[0m\u001b[0mn_jobs\u001b[0m\u001b[0;34m)\u001b[0m\u001b[0;34m\u001b[0m\u001b[0m\n\u001b[0m\u001b[1;32m     14\u001b[0m \u001b[0;34m\u001b[0m\u001b[0m\n\u001b[1;32m     15\u001b[0m         \u001b[0mprint\u001b[0m\u001b[0;34m(\u001b[0m\u001b[0;34m\"Done. Score : \"\u001b[0m\u001b[0;34m,\u001b[0m \u001b[0;34m-\u001b[0m\u001b[0mscore\u001b[0m\u001b[0;34m.\u001b[0m\u001b[0mmean\u001b[0m\u001b[0;34m(\u001b[0m\u001b[0;34m)\u001b[0m\u001b[0;34m)\u001b[0m\u001b[0;34m\u001b[0m\u001b[0m\n",
            "\u001b[0;32m/opt/conda/lib/python3.6/site-packages/sklearn/model_selection/_validation.py\u001b[0m in \u001b[0;36mcross_val_score\u001b[0;34m(estimator, X, y, groups, scoring, cv, n_jobs, verbose, fit_params, pre_dispatch)\u001b[0m\n\u001b[1;32m    362\u001b[0m                                 \u001b[0mn_jobs\u001b[0m\u001b[0;34m=\u001b[0m\u001b[0mn_jobs\u001b[0m\u001b[0;34m,\u001b[0m \u001b[0mverbose\u001b[0m\u001b[0;34m=\u001b[0m\u001b[0mverbose\u001b[0m\u001b[0;34m,\u001b[0m\u001b[0;34m\u001b[0m\u001b[0m\n\u001b[1;32m    363\u001b[0m                                 \u001b[0mfit_params\u001b[0m\u001b[0;34m=\u001b[0m\u001b[0mfit_params\u001b[0m\u001b[0;34m,\u001b[0m\u001b[0;34m\u001b[0m\u001b[0m\n\u001b[0;32m--> 364\u001b[0;31m                                 pre_dispatch=pre_dispatch)\n\u001b[0m\u001b[1;32m    365\u001b[0m     \u001b[0;32mreturn\u001b[0m \u001b[0mcv_results\u001b[0m\u001b[0;34m[\u001b[0m\u001b[0;34m'test_score'\u001b[0m\u001b[0;34m]\u001b[0m\u001b[0;34m\u001b[0m\u001b[0m\n\u001b[1;32m    366\u001b[0m \u001b[0;34m\u001b[0m\u001b[0m\n",
            "\u001b[0;32m/opt/conda/lib/python3.6/site-packages/sklearn/model_selection/_validation.py\u001b[0m in \u001b[0;36mcross_validate\u001b[0;34m(estimator, X, y, groups, scoring, cv, n_jobs, verbose, fit_params, pre_dispatch, return_train_score, return_estimator)\u001b[0m\n\u001b[1;32m    217\u001b[0m             \u001b[0mfit_params\u001b[0m\u001b[0;34m,\u001b[0m \u001b[0mreturn_train_score\u001b[0m\u001b[0;34m=\u001b[0m\u001b[0mreturn_train_score\u001b[0m\u001b[0;34m,\u001b[0m\u001b[0;34m\u001b[0m\u001b[0m\n\u001b[1;32m    218\u001b[0m             return_times=True, return_estimator=return_estimator)\n\u001b[0;32m--> 219\u001b[0;31m         for train, test in cv.split(X, y, groups))\n\u001b[0m\u001b[1;32m    220\u001b[0m \u001b[0;34m\u001b[0m\u001b[0m\n\u001b[1;32m    221\u001b[0m     \u001b[0mzipped_scores\u001b[0m \u001b[0;34m=\u001b[0m \u001b[0mlist\u001b[0m\u001b[0;34m(\u001b[0m\u001b[0mzip\u001b[0m\u001b[0;34m(\u001b[0m\u001b[0;34m*\u001b[0m\u001b[0mscores\u001b[0m\u001b[0;34m)\u001b[0m\u001b[0;34m)\u001b[0m\u001b[0;34m\u001b[0m\u001b[0m\n",
            "\u001b[0;32m/opt/conda/lib/python3.6/site-packages/sklearn/externals/joblib/parallel.py\u001b[0m in \u001b[0;36m__call__\u001b[0;34m(self, iterable)\u001b[0m\n\u001b[1;32m    787\u001b[0m                 \u001b[0;31m# consumption.\u001b[0m\u001b[0;34m\u001b[0m\u001b[0;34m\u001b[0m\u001b[0m\n\u001b[1;32m    788\u001b[0m                 \u001b[0mself\u001b[0m\u001b[0;34m.\u001b[0m\u001b[0m_iterating\u001b[0m \u001b[0;34m=\u001b[0m \u001b[0;32mFalse\u001b[0m\u001b[0;34m\u001b[0m\u001b[0m\n\u001b[0;32m--> 789\u001b[0;31m             \u001b[0mself\u001b[0m\u001b[0;34m.\u001b[0m\u001b[0mretrieve\u001b[0m\u001b[0;34m(\u001b[0m\u001b[0;34m)\u001b[0m\u001b[0;34m\u001b[0m\u001b[0m\n\u001b[0m\u001b[1;32m    790\u001b[0m             \u001b[0;31m# Make sure that we get a last message telling us we are done\u001b[0m\u001b[0;34m\u001b[0m\u001b[0;34m\u001b[0m\u001b[0m\n\u001b[1;32m    791\u001b[0m             \u001b[0melapsed_time\u001b[0m \u001b[0;34m=\u001b[0m \u001b[0mtime\u001b[0m\u001b[0;34m.\u001b[0m\u001b[0mtime\u001b[0m\u001b[0;34m(\u001b[0m\u001b[0;34m)\u001b[0m \u001b[0;34m-\u001b[0m \u001b[0mself\u001b[0m\u001b[0;34m.\u001b[0m\u001b[0m_start_time\u001b[0m\u001b[0;34m\u001b[0m\u001b[0m\n",
            "\u001b[0;32m/opt/conda/lib/python3.6/site-packages/sklearn/externals/joblib/parallel.py\u001b[0m in \u001b[0;36mretrieve\u001b[0;34m(self)\u001b[0m\n\u001b[1;32m    697\u001b[0m             \u001b[0;32mtry\u001b[0m\u001b[0;34m:\u001b[0m\u001b[0;34m\u001b[0m\u001b[0m\n\u001b[1;32m    698\u001b[0m                 \u001b[0;32mif\u001b[0m \u001b[0mgetattr\u001b[0m\u001b[0;34m(\u001b[0m\u001b[0mself\u001b[0m\u001b[0;34m.\u001b[0m\u001b[0m_backend\u001b[0m\u001b[0;34m,\u001b[0m \u001b[0;34m'supports_timeout'\u001b[0m\u001b[0;34m,\u001b[0m \u001b[0;32mFalse\u001b[0m\u001b[0;34m)\u001b[0m\u001b[0;34m:\u001b[0m\u001b[0;34m\u001b[0m\u001b[0m\n\u001b[0;32m--> 699\u001b[0;31m                     \u001b[0mself\u001b[0m\u001b[0;34m.\u001b[0m\u001b[0m_output\u001b[0m\u001b[0;34m.\u001b[0m\u001b[0mextend\u001b[0m\u001b[0;34m(\u001b[0m\u001b[0mjob\u001b[0m\u001b[0;34m.\u001b[0m\u001b[0mget\u001b[0m\u001b[0;34m(\u001b[0m\u001b[0mtimeout\u001b[0m\u001b[0;34m=\u001b[0m\u001b[0mself\u001b[0m\u001b[0;34m.\u001b[0m\u001b[0mtimeout\u001b[0m\u001b[0;34m)\u001b[0m\u001b[0;34m)\u001b[0m\u001b[0;34m\u001b[0m\u001b[0m\n\u001b[0m\u001b[1;32m    700\u001b[0m                 \u001b[0;32melse\u001b[0m\u001b[0;34m:\u001b[0m\u001b[0;34m\u001b[0m\u001b[0m\n\u001b[1;32m    701\u001b[0m                     \u001b[0mself\u001b[0m\u001b[0;34m.\u001b[0m\u001b[0m_output\u001b[0m\u001b[0;34m.\u001b[0m\u001b[0mextend\u001b[0m\u001b[0;34m(\u001b[0m\u001b[0mjob\u001b[0m\u001b[0;34m.\u001b[0m\u001b[0mget\u001b[0m\u001b[0;34m(\u001b[0m\u001b[0;34m)\u001b[0m\u001b[0;34m)\u001b[0m\u001b[0;34m\u001b[0m\u001b[0m\n",
            "\u001b[0;32m/opt/conda/lib/python3.6/multiprocessing/pool.py\u001b[0m in \u001b[0;36mget\u001b[0;34m(self, timeout)\u001b[0m\n\u001b[1;32m    642\u001b[0m             \u001b[0;32mreturn\u001b[0m \u001b[0mself\u001b[0m\u001b[0;34m.\u001b[0m\u001b[0m_value\u001b[0m\u001b[0;34m\u001b[0m\u001b[0m\n\u001b[1;32m    643\u001b[0m         \u001b[0;32melse\u001b[0m\u001b[0;34m:\u001b[0m\u001b[0;34m\u001b[0m\u001b[0m\n\u001b[0;32m--> 644\u001b[0;31m             \u001b[0;32mraise\u001b[0m \u001b[0mself\u001b[0m\u001b[0;34m.\u001b[0m\u001b[0m_value\u001b[0m\u001b[0;34m\u001b[0m\u001b[0m\n\u001b[0m\u001b[1;32m    645\u001b[0m \u001b[0;34m\u001b[0m\u001b[0m\n\u001b[1;32m    646\u001b[0m     \u001b[0;32mdef\u001b[0m \u001b[0m_set\u001b[0m\u001b[0;34m(\u001b[0m\u001b[0mself\u001b[0m\u001b[0;34m,\u001b[0m \u001b[0mi\u001b[0m\u001b[0;34m,\u001b[0m \u001b[0mobj\u001b[0m\u001b[0;34m)\u001b[0m\u001b[0;34m:\u001b[0m\u001b[0;34m\u001b[0m\u001b[0m\n",
            "\u001b[0;32m/opt/conda/lib/python3.6/multiprocessing/pool.py\u001b[0m in \u001b[0;36m_handle_tasks\u001b[0;34m(taskqueue, put, outqueue, pool, cache)\u001b[0m\n\u001b[1;32m    422\u001b[0m                         \u001b[0;32mbreak\u001b[0m\u001b[0;34m\u001b[0m\u001b[0m\n\u001b[1;32m    423\u001b[0m                     \u001b[0;32mtry\u001b[0m\u001b[0;34m:\u001b[0m\u001b[0;34m\u001b[0m\u001b[0m\n\u001b[0;32m--> 424\u001b[0;31m                         \u001b[0mput\u001b[0m\u001b[0;34m(\u001b[0m\u001b[0mtask\u001b[0m\u001b[0;34m)\u001b[0m\u001b[0;34m\u001b[0m\u001b[0m\n\u001b[0m\u001b[1;32m    425\u001b[0m                     \u001b[0;32mexcept\u001b[0m \u001b[0mException\u001b[0m \u001b[0;32mas\u001b[0m \u001b[0me\u001b[0m\u001b[0;34m:\u001b[0m\u001b[0;34m\u001b[0m\u001b[0m\n\u001b[1;32m    426\u001b[0m                         \u001b[0mjob\u001b[0m\u001b[0;34m,\u001b[0m \u001b[0midx\u001b[0m \u001b[0;34m=\u001b[0m \u001b[0mtask\u001b[0m\u001b[0;34m[\u001b[0m\u001b[0;34m:\u001b[0m\u001b[0;36m2\u001b[0m\u001b[0;34m]\u001b[0m\u001b[0;34m\u001b[0m\u001b[0m\n",
            "\u001b[0;32m/opt/conda/lib/python3.6/site-packages/sklearn/externals/joblib/pool.py\u001b[0m in \u001b[0;36msend\u001b[0;34m(obj)\u001b[0m\n\u001b[1;32m    369\u001b[0m             \u001b[0;32mdef\u001b[0m \u001b[0msend\u001b[0m\u001b[0;34m(\u001b[0m\u001b[0mobj\u001b[0m\u001b[0;34m)\u001b[0m\u001b[0;34m:\u001b[0m\u001b[0;34m\u001b[0m\u001b[0m\n\u001b[1;32m    370\u001b[0m                 \u001b[0mbuffer\u001b[0m \u001b[0;34m=\u001b[0m \u001b[0mBytesIO\u001b[0m\u001b[0;34m(\u001b[0m\u001b[0;34m)\u001b[0m\u001b[0;34m\u001b[0m\u001b[0m\n\u001b[0;32m--> 371\u001b[0;31m                 \u001b[0mCustomizablePickler\u001b[0m\u001b[0;34m(\u001b[0m\u001b[0mbuffer\u001b[0m\u001b[0;34m,\u001b[0m \u001b[0mself\u001b[0m\u001b[0;34m.\u001b[0m\u001b[0m_reducers\u001b[0m\u001b[0;34m)\u001b[0m\u001b[0;34m.\u001b[0m\u001b[0mdump\u001b[0m\u001b[0;34m(\u001b[0m\u001b[0mobj\u001b[0m\u001b[0;34m)\u001b[0m\u001b[0;34m\u001b[0m\u001b[0m\n\u001b[0m\u001b[1;32m    372\u001b[0m                 \u001b[0mself\u001b[0m\u001b[0;34m.\u001b[0m\u001b[0m_writer\u001b[0m\u001b[0;34m.\u001b[0m\u001b[0msend_bytes\u001b[0m\u001b[0;34m(\u001b[0m\u001b[0mbuffer\u001b[0m\u001b[0;34m.\u001b[0m\u001b[0mgetvalue\u001b[0m\u001b[0;34m(\u001b[0m\u001b[0;34m)\u001b[0m\u001b[0;34m)\u001b[0m\u001b[0;34m\u001b[0m\u001b[0m\n\u001b[1;32m    373\u001b[0m             \u001b[0mself\u001b[0m\u001b[0;34m.\u001b[0m\u001b[0m_send\u001b[0m \u001b[0;34m=\u001b[0m \u001b[0msend\u001b[0m\u001b[0;34m\u001b[0m\u001b[0m\n",
            "\u001b[0;32m/opt/conda/lib/python3.6/site-packages/sklearn/externals/joblib/pool.py\u001b[0m in \u001b[0;36m__call__\u001b[0;34m(self, a)\u001b[0m\n\u001b[1;32m    238\u001b[0m                     print(\"Memmaping (shape=%r, dtype=%s) to new file %s\" % (\n\u001b[1;32m    239\u001b[0m                         a.shape, a.dtype, filename))\n\u001b[0;32m--> 240\u001b[0;31m                 \u001b[0;32mfor\u001b[0m \u001b[0mdumped_filename\u001b[0m \u001b[0;32min\u001b[0m \u001b[0mdump\u001b[0m\u001b[0;34m(\u001b[0m\u001b[0ma\u001b[0m\u001b[0;34m,\u001b[0m \u001b[0mfilename\u001b[0m\u001b[0;34m)\u001b[0m\u001b[0;34m:\u001b[0m\u001b[0;34m\u001b[0m\u001b[0m\n\u001b[0m\u001b[1;32m    241\u001b[0m                     \u001b[0mos\u001b[0m\u001b[0;34m.\u001b[0m\u001b[0mchmod\u001b[0m\u001b[0;34m(\u001b[0m\u001b[0mdumped_filename\u001b[0m\u001b[0;34m,\u001b[0m \u001b[0mFILE_PERMISSIONS\u001b[0m\u001b[0;34m)\u001b[0m\u001b[0;34m\u001b[0m\u001b[0m\n\u001b[1;32m    242\u001b[0m \u001b[0;34m\u001b[0m\u001b[0m\n",
            "\u001b[0;32m/opt/conda/lib/python3.6/site-packages/sklearn/externals/joblib/numpy_pickle.py\u001b[0m in \u001b[0;36mdump\u001b[0;34m(value, filename, compress, protocol, cache_size)\u001b[0m\n\u001b[1;32m    482\u001b[0m     \u001b[0;32melif\u001b[0m \u001b[0mis_filename\u001b[0m\u001b[0;34m:\u001b[0m\u001b[0;34m\u001b[0m\u001b[0m\n\u001b[1;32m    483\u001b[0m         \u001b[0;32mwith\u001b[0m \u001b[0mopen\u001b[0m\u001b[0;34m(\u001b[0m\u001b[0mfilename\u001b[0m\u001b[0;34m,\u001b[0m \u001b[0;34m'wb'\u001b[0m\u001b[0;34m)\u001b[0m \u001b[0;32mas\u001b[0m \u001b[0mf\u001b[0m\u001b[0;34m:\u001b[0m\u001b[0;34m\u001b[0m\u001b[0m\n\u001b[0;32m--> 484\u001b[0;31m             \u001b[0mNumpyPickler\u001b[0m\u001b[0;34m(\u001b[0m\u001b[0mf\u001b[0m\u001b[0;34m,\u001b[0m \u001b[0mprotocol\u001b[0m\u001b[0;34m=\u001b[0m\u001b[0mprotocol\u001b[0m\u001b[0;34m)\u001b[0m\u001b[0;34m.\u001b[0m\u001b[0mdump\u001b[0m\u001b[0;34m(\u001b[0m\u001b[0mvalue\u001b[0m\u001b[0;34m)\u001b[0m\u001b[0;34m\u001b[0m\u001b[0m\n\u001b[0m\u001b[1;32m    485\u001b[0m     \u001b[0;32melse\u001b[0m\u001b[0;34m:\u001b[0m\u001b[0;34m\u001b[0m\u001b[0m\n\u001b[1;32m    486\u001b[0m         \u001b[0mNumpyPickler\u001b[0m\u001b[0;34m(\u001b[0m\u001b[0mfilename\u001b[0m\u001b[0;34m,\u001b[0m \u001b[0mprotocol\u001b[0m\u001b[0;34m=\u001b[0m\u001b[0mprotocol\u001b[0m\u001b[0;34m)\u001b[0m\u001b[0;34m.\u001b[0m\u001b[0mdump\u001b[0m\u001b[0;34m(\u001b[0m\u001b[0mvalue\u001b[0m\u001b[0;34m)\u001b[0m\u001b[0;34m\u001b[0m\u001b[0m\n",
            "\u001b[0;32m/opt/conda/lib/python3.6/pickle.py\u001b[0m in \u001b[0;36mdump\u001b[0;34m(self, obj)\u001b[0m\n\u001b[1;32m    407\u001b[0m         \u001b[0;32mif\u001b[0m \u001b[0mself\u001b[0m\u001b[0;34m.\u001b[0m\u001b[0mproto\u001b[0m \u001b[0;34m>=\u001b[0m \u001b[0;36m4\u001b[0m\u001b[0;34m:\u001b[0m\u001b[0;34m\u001b[0m\u001b[0m\n\u001b[1;32m    408\u001b[0m             \u001b[0mself\u001b[0m\u001b[0;34m.\u001b[0m\u001b[0mframer\u001b[0m\u001b[0;34m.\u001b[0m\u001b[0mstart_framing\u001b[0m\u001b[0;34m(\u001b[0m\u001b[0;34m)\u001b[0m\u001b[0;34m\u001b[0m\u001b[0m\n\u001b[0;32m--> 409\u001b[0;31m         \u001b[0mself\u001b[0m\u001b[0;34m.\u001b[0m\u001b[0msave\u001b[0m\u001b[0;34m(\u001b[0m\u001b[0mobj\u001b[0m\u001b[0;34m)\u001b[0m\u001b[0;34m\u001b[0m\u001b[0m\n\u001b[0m\u001b[1;32m    410\u001b[0m         \u001b[0mself\u001b[0m\u001b[0;34m.\u001b[0m\u001b[0mwrite\u001b[0m\u001b[0;34m(\u001b[0m\u001b[0mSTOP\u001b[0m\u001b[0;34m)\u001b[0m\u001b[0;34m\u001b[0m\u001b[0m\n\u001b[1;32m    411\u001b[0m         \u001b[0mself\u001b[0m\u001b[0;34m.\u001b[0m\u001b[0mframer\u001b[0m\u001b[0;34m.\u001b[0m\u001b[0mend_framing\u001b[0m\u001b[0;34m(\u001b[0m\u001b[0;34m)\u001b[0m\u001b[0;34m\u001b[0m\u001b[0m\n",
            "\u001b[0;32m/opt/conda/lib/python3.6/site-packages/sklearn/externals/joblib/numpy_pickle.py\u001b[0m in \u001b[0;36msave\u001b[0;34m(self, obj)\u001b[0m\n\u001b[1;32m    276\u001b[0m \u001b[0;34m\u001b[0m\u001b[0m\n\u001b[1;32m    277\u001b[0m             \u001b[0;31m# And then array bytes are written right after the wrapper.\u001b[0m\u001b[0;34m\u001b[0m\u001b[0;34m\u001b[0m\u001b[0m\n\u001b[0;32m--> 278\u001b[0;31m             \u001b[0mwrapper\u001b[0m\u001b[0;34m.\u001b[0m\u001b[0mwrite_array\u001b[0m\u001b[0;34m(\u001b[0m\u001b[0mobj\u001b[0m\u001b[0;34m,\u001b[0m \u001b[0mself\u001b[0m\u001b[0;34m)\u001b[0m\u001b[0;34m\u001b[0m\u001b[0m\n\u001b[0m\u001b[1;32m    279\u001b[0m             \u001b[0;32mreturn\u001b[0m\u001b[0;34m\u001b[0m\u001b[0m\n\u001b[1;32m    280\u001b[0m \u001b[0;34m\u001b[0m\u001b[0m\n",
            "\u001b[0;32m/opt/conda/lib/python3.6/site-packages/sklearn/externals/joblib/numpy_pickle.py\u001b[0m in \u001b[0;36mwrite_array\u001b[0;34m(self, array, pickler)\u001b[0m\n\u001b[1;32m     91\u001b[0m                                            \u001b[0mbuffersize\u001b[0m\u001b[0;34m=\u001b[0m\u001b[0mbuffersize\u001b[0m\u001b[0;34m,\u001b[0m\u001b[0;34m\u001b[0m\u001b[0m\n\u001b[1;32m     92\u001b[0m                                            order=self.order):\n\u001b[0;32m---> 93\u001b[0;31m                 \u001b[0mpickler\u001b[0m\u001b[0;34m.\u001b[0m\u001b[0mfile_handle\u001b[0m\u001b[0;34m.\u001b[0m\u001b[0mwrite\u001b[0m\u001b[0;34m(\u001b[0m\u001b[0mchunk\u001b[0m\u001b[0;34m.\u001b[0m\u001b[0mtostring\u001b[0m\u001b[0;34m(\u001b[0m\u001b[0;34m'C'\u001b[0m\u001b[0;34m)\u001b[0m\u001b[0;34m)\u001b[0m\u001b[0;34m\u001b[0m\u001b[0m\n\u001b[0m\u001b[1;32m     94\u001b[0m \u001b[0;34m\u001b[0m\u001b[0m\n\u001b[1;32m     95\u001b[0m     \u001b[0;32mdef\u001b[0m \u001b[0mread_array\u001b[0m\u001b[0;34m(\u001b[0m\u001b[0mself\u001b[0m\u001b[0;34m,\u001b[0m \u001b[0munpickler\u001b[0m\u001b[0;34m)\u001b[0m\u001b[0;34m:\u001b[0m\u001b[0;34m\u001b[0m\u001b[0m\n",
            "\u001b[0;31mOSError\u001b[0m: [Errno 28] No space left on device"
          ]
        }
      ]
    },
    {
      "metadata": {
        "_uuid": "59f767b2f483b07964b6ae64298bddaa345d53c3",
        "collapsed": true,
        "trusted": true
      },
      "cell_type": "code",
      "source": "# used 100 max_evalus score\n\nbest_params = {'bagging_fraction': 0.6488366999217055,\n 'bagging_freq': 4,\n 'feature_fraction': 0.8769912726752449,\n 'learning_rate': 0.2322285924856258,\n 'max_bin': 259,\n 'max_depth': 46,\n 'min_data_in_leaf': 34,\n 'min_sum_hessian_in_leaf': 0.011853166137307664,\n 'n_estimators': 54,\n 'num_leaves': 3}",
      "execution_count": null,
      "outputs": []
    },
    {
      "metadata": {
        "_uuid": "4e0d3eea153cbaa75c1a857e32381dd1b7da11c9",
        "collapsed": true,
        "trusted": true
      },
      "cell_type": "code",
      "source": "lgbmodel.steps[-1][1].set_params(**best_params)\n\n\nevalModelByCV(lgbmodel, X_train, y_train)\n\n\nplot_my_learning_curves(X_train, y_train, X_test, y_test, lgbmodel, scoring=\"r2\", cv=5, n_jobs=3)\n\n# plot feature importance\npd.concat((pd.DataFrame(X_train.columns, columns = ['variable']), \n           pd.DataFrame(lgbmodel.named_steps[\"lgbmregressor\"].feature_importances_, columns = ['importance'])), \n          axis = 1).sort_values(by='importance', ascending = False)\n",
      "execution_count": null,
      "outputs": []
    },
    {
      "metadata": {
        "_uuid": "9f6ee69a017cbf8da06c38a1a3b15ad9db4a4e0b",
        "collapsed": true,
        "trusted": true
      },
      "cell_type": "code",
      "source": "",
      "execution_count": null,
      "outputs": []
    },
    {
      "metadata": {
        "_uuid": "ddf46b4b7084f5f1d7c8ad748f6768bf859fb2bb"
      },
      "cell_type": "raw",
      "source": "# DO NOT USE !!: using old searchHyperParam()\n\npar_space = {\n    'learning_rate':hp.uniform('learning_rate', 0.000000001, 1.0),\n    'max_depth':hp.choice('max_depth', np.arange(1, 300, dtype=int)), \n    'num_leaves':hp.choice('num_leaves', np.arange(2, 100, dtype=int)),\n    'min_data_in_leaf':hp.choice('min_data_in_leaf', np.arange(1, 100, dtype=int)),\n    \n    'n_estimators':hp.choice('n_estimators', np.arange(1, 100, dtype=int)),\n    'max_bin':hp.choice('max_bin', np.arange(2, 300, dtype=int)),\n    'bagging_fraction': hp.uniform('bagging_fraction', 0.000000001, 1.0),\n    'bagging_freq': hp.randint('bagging_freq', 10),\n    'feature_fraction': hp.uniform('feature_fraction', 0.000000001, 1.0),\n    'min_sum_hessian_in_leaf': hp.loguniform('min_sum_hessian_in_leaf', -6, 2),\n}\n\nbest_params = searchHyperParam(\"LGBMRegressor\", par_space, X_train, y_train,\n                               scoring=\"r2\", max_evals=max_evals, cv_size=cv_size, n_jobs=3)\nbest_params\n\n\n"
    },
    {
      "metadata": {
        "_uuid": "d37c69984cc5977578c2e6a0cb0a16644d9fa666"
      },
      "cell_type": "raw",
      "source": "# 100\nmodel name: LGBMRegressor\nbest par for :  LGBMRegressor ->  {'bagging_fraction': 0.6488366999217055, 'bagging_freq': 4, 'feature_fraction': 0.8769912726752449, 'learning_rate': 0.2322285924856258, 'max_bin': 259, 'max_depth': 46, 'min_data_in_leaf': 34, 'min_sum_hessian_in_leaf': 0.011853166137307664, 'n_estimators': 54, 'num_leaves': 3}\nbest trial:  {'loss': -0.5833468828137855, 'status': 'ok'}\n\n{'bagging_fraction': 0.6488366999217055,\n 'bagging_freq': 4,\n 'feature_fraction': 0.8769912726752449,\n 'learning_rate': 0.2322285924856258,\n 'max_bin': 259,\n 'max_depth': 46,\n 'min_data_in_leaf': 34,\n 'min_sum_hessian_in_leaf': 0.011853166137307664,\n 'n_estimators': 54,\n 'num_leaves': 3}"
    },
    {
      "metadata": {
        "_uuid": "2f080421ed794ef5ea301561c1b0e37d758f3863"
      },
      "cell_type": "raw",
      "source": "# 200\n"
    },
    {
      "metadata": {
        "_uuid": "a066c1fe61171f0842e3357511dde9f90db4cf4f"
      },
      "cell_type": "raw",
      "source": "# 400\n\nmodel name: LGBMRegressor\nbest par for :  LGBMRegressor ->  {'bagging_fraction': 0.8322947111297709, 'bagging_freq': 0, 'feature_fraction': 0.5810120966821016, 'learning_rate': 0.16349078748756532, 'max_bin': 225, 'max_depth': 38, 'min_data_in_leaf': 43, 'min_sum_hessian_in_leaf': 0.03261236613336883, 'n_estimators': 36, 'num_leaves': 2}\nbest trial:  {'loss': -0.6001199084785085, 'status': 'ok'}\n\n{'bagging_fraction': 0.8322947111297709,\n 'bagging_freq': 0,\n 'feature_fraction': 0.5810120966821016,\n 'learning_rate': 0.16349078748756532,\n 'max_bin': 225,\n 'max_depth': 38,\n 'min_data_in_leaf': 43,\n 'min_sum_hessian_in_leaf': 0.03261236613336883,\n 'n_estimators': 36,\n 'num_leaves': 2}\n"
    },
    {
      "metadata": {
        "_uuid": "3bee479dffa7b16726ba2cbc63a2547204e5cfb2",
        "code_folding": []
      },
      "cell_type": "raw",
      "source": "# used 100 max_evalus score\n\nbest_params = {'bagging_fraction': 0.6488366999217055,\n 'bagging_freq': 4,\n 'feature_fraction': 0.8769912726752449,\n 'learning_rate': 0.2322285924856258,\n 'max_bin': 259,\n 'max_depth': 46,\n 'min_data_in_leaf': 34,\n 'min_sum_hessian_in_leaf': 0.011853166137307664,\n 'n_estimators': 54,\n 'num_leaves': 3}"
    },
    {
      "metadata": {
        "_uuid": "40c1b0830b00badbe9e7a0fdae3ff2cd2619bbbf"
      },
      "cell_type": "raw",
      "source": "# DO NOT USE !!: using old searchHyperParam()\n\nlgbmodel = make_pipeline(\n        #RobustScaler(),\n        LGBMRegressor(**best_params)\n)\n\nevalModelByCV(lgbmodel, X_train, y_train)\n\n\nplot_my_learning_curves(X_train, y_train, X_test, y_test, lgbmodel, scoring=\"r2\", cv=5, n_jobs=3)\n\n#xgb.plot_importance(lgbmodel.named_steps[\"lgbmregressor\"], max_num_features=15)\n#plt.show()\n\n# plot feature importance\npd.concat((pd.DataFrame(X_train.columns, columns = ['variable']), \n           pd.DataFrame(lgbmodel.named_steps[\"lgbmregressor\"].feature_importances_, columns = ['importance'])), \n          axis = 1).sort_values(by='importance', ascending = False)\n"
    },
    {
      "metadata": {
        "_uuid": "8c82d0e96780076b0473bdb166b654ff8b4b6185",
        "collapsed": true,
        "trusted": true
      },
      "cell_type": "code",
      "source": "",
      "execution_count": null,
      "outputs": []
    },
    {
      "metadata": {
        "_uuid": "7dbd20688cad8a6b9a42968676d8bf4e71fcb42e",
        "collapsed": true,
        "trusted": true
      },
      "cell_type": "code",
      "source": "",
      "execution_count": null,
      "outputs": []
    },
    {
      "metadata": {
        "_uuid": "f905330878dcd2e3d1b9344d2837c6feff784f4c",
        "collapsed": true,
        "trusted": true
      },
      "cell_type": "code",
      "source": "",
      "execution_count": null,
      "outputs": []
    },
    {
      "metadata": {
        "_uuid": "d7c1be0541df0d87ce49e37ae7eb7c5a546cecc3",
        "collapsed": true,
        "trusted": true
      },
      "cell_type": "code",
      "source": "",
      "execution_count": null,
      "outputs": []
    },
    {
      "metadata": {
        "_uuid": "1537d713c2515e543f24d9795161460843d0cc80",
        "collapsed": true,
        "trusted": true
      },
      "cell_type": "code",
      "source": "",
      "execution_count": null,
      "outputs": []
    },
    {
      "metadata": {
        "_uuid": "2256ac7ad8b78a762890b4eca86db366336a54b0",
        "collapsed": true,
        "trusted": true
      },
      "cell_type": "code",
      "source": "",
      "execution_count": null,
      "outputs": []
    },
    {
      "metadata": {
        "_uuid": "45aea319ef3a2cdfc5c35d26d3b6c1624ef4279c"
      },
      "cell_type": "markdown",
      "source": "### tried categorical_feature, but object type is not supported yet.\nhttps://github.com/Microsoft/LightGBM/issues/1020"
    },
    {
      "metadata": {
        "_uuid": "1a09a538c275c4e00011c979ec20fa2b6ee80bec"
      },
      "cell_type": "raw",
      "source": "obj_columns.head()"
    },
    {
      "metadata": {
        "_uuid": "516895c7f6aa5cd47a639e0116f3b4233e39735f"
      },
      "cell_type": "raw",
      "source": "X_train.head()"
    },
    {
      "metadata": {
        "_uuid": "437e3da80ab9ba0553b271aeb74b05b85e5f5f85"
      },
      "cell_type": "raw",
      "source": "list(obj_columns.columns.values)"
    },
    {
      "metadata": {
        "_uuid": "877b7668432bc52e6d5c29927720c257767ebbe7"
      },
      "cell_type": "raw",
      "source": "model_lgb = lgb.LGBMRegressor(\n    objective='regression',\n    num_leaves=5,\n    learning_rate=0.05,\n    n_estimators=720,\n    max_bin = 55,\n    bagging_fraction = 0.8,\n    bagging_freq = 5,\n    feature_fraction = 0.2319,\n    feature_fraction_seed=9,\n    bagging_seed=9,\n    min_data_in_leaf =6,\n    min_sum_hessian_in_leaf = 11,\n#    verbose=1,\n#    n_jobs=3\n)\nscore = cross_val_score(model_lgb, X_train_with_cat, y_train_with_cat, scoring=\"r2\", cv=5,\n                       #fit_params={\"categorical_feature\":list(obj_columns.columns.values)}\n                       )\n\nprint(\"svr score: {0} ({1})\\n\".format(\n    score.mean(), score.std()))"
    },
    {
      "metadata": {
        "_uuid": "9e3174f31cabd24cde6f6d05d0295a9eb6f7a1d3"
      },
      "cell_type": "markdown",
      "source": "## catboost"
    },
    {
      "metadata": {
        "_uuid": "b3ba08be2f59e7ac7e66456810716bbffead3f4d",
        "collapsed": true,
        "scrolled": false,
        "trusted": true
      },
      "cell_type": "code",
      "source": "from catboost import CatBoostRegressor\n\nprint(list(obj_columns.columns.values))\nprint(cat_dims)",
      "execution_count": null,
      "outputs": []
    },
    {
      "metadata": {
        "_uuid": "316e87a9cbab7fb6295f713b4af5dea464c9afa8",
        "collapsed": true,
        "scrolled": false,
        "trusted": true
      },
      "cell_type": "code",
      "source": "X_train_with_cat.head()",
      "execution_count": null,
      "outputs": []
    },
    {
      "metadata": {
        "_uuid": "043e551eb24cf2d4d1ca09e834cd619d4fa90862",
        "collapsed": true,
        "scrolled": false,
        "trusted": true
      },
      "cell_type": "code",
      "source": "catReg = CatBoostRegressor(learning_rate=1,\n                          depth=6,\n                          loss_function='RMSE')\n\nfit_model = catReg.fit(X_train_with_cat, y_train_with_cat, cat_features=cat_dims)\n",
      "execution_count": null,
      "outputs": []
    },
    {
      "metadata": {
        "_uuid": "4915ff78f9784c3f8d5597ca037815dca458088f",
        "collapsed": true,
        "trusted": true
      },
      "cell_type": "code",
      "source": "",
      "execution_count": null,
      "outputs": []
    },
    {
      "metadata": {
        "_uuid": "483afb75061db3843a76e3a31c2ff1e6dd5abc95",
        "collapsed": true,
        "trusted": true
      },
      "cell_type": "code",
      "source": "",
      "execution_count": null,
      "outputs": []
    },
    {
      "metadata": {
        "_uuid": "084a5137ac0eaed337da8988bc5525b6bc54a606"
      },
      "cell_type": "markdown",
      "source": "## TPOT"
    },
    {
      "metadata": {
        "_uuid": "26bd98e8daeaa9726d272c86104adc0286089348"
      },
      "cell_type": "raw",
      "source": "from tpot import TPOTRegressor\n\ntpot = TPOTRegressor(\n    generations=30, \n    population_size=10, \n    verbosity=1,\n    early_stop=10,\n    n_jobs=n_jobs,\n    scoring='r2'\n#    mutation_rate=0.5,\n#    crossover_rate=0.5,\n#    config_dict='TPOT MDR',\n)\n\n# mutation_rate: default 0.9, crossover_rate: default 0.1\n# mutation_rate=0.5, crossover_rate=0.5)\n# , config_dict='TPOT MDR' should be better, but became fast and low score...\n\ntpot.fit(X_train, y_train)\n\nprint(\"test\", tpot.score(X_test, y_test))\n\n#tpot.export('tpot_'+ time.strftime(\"%Y-%m-%d-%H-%M-%S\") + '.py')"
    },
    {
      "metadata": {
        "_uuid": "92ac9acef64699924fd510451e39b602b24958ce",
        "collapsed": true,
        "trusted": true
      },
      "cell_type": "code",
      "source": "",
      "execution_count": null,
      "outputs": []
    },
    {
      "metadata": {
        "_uuid": "66397897e5196469cf3ff5cee56acc6546f3c858"
      },
      "cell_type": "markdown",
      "source": "## todo\n\nhow to use R2 for scoring for catboost\n\nhttps://tech.yandex.com/catboost/doc/dg/concepts/loss-functions-docpage/"
    },
    {
      "metadata": {
        "_uuid": "6d6dfe98d1eeecb44d02112c027fb6b3daf9f664",
        "collapsed": true,
        "trusted": true
      },
      "cell_type": "code",
      "source": "",
      "execution_count": null,
      "outputs": []
    },
    {
      "metadata": {
        "_uuid": "b934d243cbead60935d201ad8cad33591efea5ae"
      },
      "cell_type": "markdown",
      "source": "\n# Stacking"
    },
    {
      "metadata": {
        "_uuid": "56dc89d60c371f48a37044670fd37db88309d4d0",
        "collapsed": true,
        "scrolled": true,
        "trusted": true
      },
      "cell_type": "code",
      "source": "# svr, lasso, elasticnet, krr, knr, ranfore, gboostreg, xgbmodel\n\nstregr = StackingRegressor(regressors=[\n    svr,\n    lasso, \n    #elasticnet, \n    #krr, \n    #knr, \n    ranfore, \n    gboostreg, \n    xgbmodel,\n    lgbmodel,\n],\n                           meta_regressor=elasticnet)\n\n\nevalModelByCV(stregr, X_train, y_train)\n\n\nplot_my_learning_curves(X_train, y_train, X_test, y_test, stregr, scoring=\"r2\", cv=5, n_jobs=n_jobs)\n\n",
      "execution_count": null,
      "outputs": []
    },
    {
      "metadata": {
        "_uuid": "c6e05ef4eea61249c9149252633368db55427610",
        "collapsed": true,
        "scrolled": false,
        "trusted": true
      },
      "cell_type": "code",
      "source": "# https://rasbt.github.io/mlxtend/api_subpackages/mlxtend.regressor/\nstregr.coef_",
      "execution_count": null,
      "outputs": []
    },
    {
      "metadata": {
        "_uuid": "a19e8d31d4cdb71fd10223003364ecae338a5fda",
        "collapsed": true,
        "trusted": true
      },
      "cell_type": "code",
      "source": "# Training the stacking classifier with all train data\n\nstregr.fit(train_df, y_train_df)",
      "execution_count": null,
      "outputs": []
    },
    {
      "metadata": {
        "_uuid": "614f4d98befd44b85dee23fd790220f8956ddb44",
        "collapsed": true,
        "trusted": true
      },
      "cell_type": "code",
      "source": "",
      "execution_count": null,
      "outputs": []
    },
    {
      "metadata": {
        "_uuid": "7204aa150cf5f6c8cede602a2a170f37197a21af",
        "collapsed": true,
        "trusted": true
      },
      "cell_type": "code",
      "source": "",
      "execution_count": null,
      "outputs": []
    },
    {
      "metadata": {
        "_uuid": "cd46ae2a7060931fdaaa967bbcecd83ea2277543"
      },
      "cell_type": "markdown",
      "source": "# Make submission file\nhttps://www.kaggle.com/c/mercedes-benz-greener-manufacturing/submissions?sortBy=date&group=all&page=1"
    },
    {
      "metadata": {
        "_uuid": "401db93b4f4f74f25ce6b4bb2fbfb1370b26feab",
        "collapsed": true,
        "trusted": true
      },
      "cell_type": "code",
      "source": "sub = pd.DataFrame()\nsub['ID'] = id_test_df\nsub['target'] = np.expm1(stregr.predict(test_df))\nsub.to_csv('../output/submission.csv', index=False)\n",
      "execution_count": null,
      "outputs": []
    },
    {
      "metadata": {
        "_uuid": "f81b3a760a6ef8f5b237d30d9c1f6e8f7a1ce9d9",
        "collapsed": true,
        "trusted": true
      },
      "cell_type": "code",
      "source": "",
      "execution_count": null,
      "outputs": []
    },
    {
      "metadata": {
        "_uuid": "916057226c2c5c3940913f2f16870cd368793b9c",
        "collapsed": true,
        "trusted": true
      },
      "cell_type": "code",
      "source": "",
      "execution_count": null,
      "outputs": []
    }
  ],
  "metadata": {
    "kernelspec": {
      "display_name": "Python 3",
      "language": "python",
      "name": "python3"
    },
    "language_info": {
      "name": "python",
      "version": "3.6.5",
      "mimetype": "text/x-python",
      "codemirror_mode": {
        "name": "ipython",
        "version": 3
      },
      "pygments_lexer": "ipython3",
      "nbconvert_exporter": "python",
      "file_extension": ".py"
    },
    "toc": {
      "base_numbering": 1,
      "nav_menu": {
        "height": "390px",
        "width": "474px"
      },
      "number_sections": true,
      "sideBar": true,
      "skip_h1_title": false,
      "title_cell": "Table of Contents",
      "title_sidebar": "Contents",
      "toc_cell": false,
      "toc_position": {
        "height": "calc(100% - 180px)",
        "left": "10px",
        "top": "150px",
        "width": "197px"
      },
      "toc_section_display": true,
      "toc_window_display": true
    },
    "varInspector": {
      "cols": {
        "lenName": 16,
        "lenType": 16,
        "lenVar": 40
      },
      "kernels_config": {
        "python": {
          "delete_cmd_postfix": "",
          "delete_cmd_prefix": "del ",
          "library": "var_list.py",
          "varRefreshCmd": "print(var_dic_list())"
        },
        "r": {
          "delete_cmd_postfix": ") ",
          "delete_cmd_prefix": "rm(",
          "library": "var_list.r",
          "varRefreshCmd": "cat(var_dic_list()) "
        }
      },
      "position": {
        "height": "330px",
        "left": "996px",
        "right": "30px",
        "top": "120px",
        "width": "340px"
      },
      "types_to_exclude": [
        "module",
        "function",
        "builtin_function_or_method",
        "instance",
        "_Feature"
      ],
      "window_display": false
    }
  },
  "nbformat": 4,
  "nbformat_minor": 1
}