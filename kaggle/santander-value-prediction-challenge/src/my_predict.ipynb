{
 "cells": [
  {
   "cell_type": "code",
   "execution_count": null,
   "metadata": {
    "_uuid": "e459ee3754132b61ab349eecdfbdd333a93b80b1",
    "collapsed": true
   },
   "outputs": [],
   "source": []
  },
  {
   "cell_type": "markdown",
   "metadata": {},
   "source": [
    "# init"
   ]
  },
  {
   "cell_type": "code",
   "execution_count": 91,
   "metadata": {
    "_uuid": "3667b38d14a7f7278c6c2c6f99cae4b1ebd74976",
    "collapsed": true
   },
   "outputs": [],
   "source": [
    "%matplotlib inline"
   ]
  },
  {
   "cell_type": "code",
   "execution_count": 92,
   "metadata": {
    "_cell_guid": "b1076dfc-b9ad-4769-8c92-a6c4dae69d19",
    "_uuid": "8f2839f25d086af736a60e9eeb907d3b93b6e0e5",
    "collapsed": true,
    "scrolled": true
   },
   "outputs": [],
   "source": [
    "import numpy as np # linear algebra\n",
    "import pandas as pd # data processing, CSV file I/O (e.g. pd.read_csv)\n"
   ]
  },
  {
   "cell_type": "code",
   "execution_count": 93,
   "metadata": {
    "_cell_guid": "146f2f45-7136-4a87-a674-c1ea4b89cc33",
    "_uuid": "c7ccf983dddbd502eea5fc4d380e57fc7fb7da05",
    "collapsed": true,
    "scrolled": false
   },
   "outputs": [],
   "source": [
    "import mlxtend\n",
    "\n",
    "import seaborn as sns\n",
    "\n",
    "from scipy import stats\n",
    "from scipy.stats import norm, skew #for some statistics\n",
    "\n",
    "import matplotlib.pyplot as plt\n",
    "\n",
    "from tqdm import tqdm\n"
   ]
  },
  {
   "cell_type": "code",
   "execution_count": 94,
   "metadata": {
    "_cell_guid": "79c7e3d0-c299-4dcb-8224-4455121ee9b0",
    "_uuid": "d629ff2d2480ee46fbb7e2d37f6b5fab8052498a",
    "collapsed": true,
    "scrolled": true
   },
   "outputs": [
    {
     "name": "stdout",
     "output_type": "stream",
     "text": [
      "CPU times: user 2.4 s, sys: 37.7 ms, total: 2.44 s\n",
      "Wall time: 2.44 s\n"
     ]
    }
   ],
   "source": [
    "%%time\n",
    "train_df = pd.read_csv(\"../input/train.csv\")\n"
   ]
  },
  {
   "cell_type": "code",
   "execution_count": 95,
   "metadata": {
    "_uuid": "4754e1ec02444dff2ba09dc55778dab923b4d523",
    "collapsed": true
   },
   "outputs": [],
   "source": [
    "TRAIN_SIZE = train_df.shape[0]"
   ]
  },
  {
   "cell_type": "code",
   "execution_count": 96,
   "metadata": {
    "_uuid": "51edb6e160626da1ffafe62adeb6a577208c59ac",
    "collapsed": true
   },
   "outputs": [
    {
     "name": "stdout",
     "output_type": "stream",
     "text": [
      "CPU times: user 30.6 s, sys: 1.27 s, total: 31.8 s\n",
      "Wall time: 33.5 s\n"
     ]
    }
   ],
   "source": [
    "%%time\n",
    "#test_df = pd.read_csv(\"../input/test.csv\", nrows=TRAIN_SIZE)\n",
    "test_df = pd.read_csv(\"../input/test.csv\")\n"
   ]
  },
  {
   "cell_type": "markdown",
   "metadata": {
    "_uuid": "252d02c68bbbca9924bcb8e1f792540fd43c9ea2"
   },
   "source": [
    "# defining useful functions"
   ]
  },
  {
   "cell_type": "code",
   "execution_count": 97,
   "metadata": {
    "_uuid": "33056a35c8466ce5811f089b8b131b67f6e22bee",
    "code_folding": [
     34
    ],
    "collapsed": true
   },
   "outputs": [],
   "source": [
    "\n",
    "%matplotlib inline\n",
    "\n",
    "import os\n",
    "\n",
    "import numpy as np\n",
    "import pandas as pd\n",
    "from scipy import stats\n",
    "from scipy.stats import norm, skew #for some statistics\n",
    "\n",
    "import matplotlib.pyplot as plt\n",
    "import seaborn as sns\n",
    "\n",
    "from sklearn.model_selection import cross_val_score, train_test_split\n",
    "from sklearn.model_selection import learning_curve\n",
    "\n",
    "import mlxtend\n",
    "from mlxtend.plotting import plot_learning_curves\n",
    "\n",
    "\n",
    "\n",
    "def checkNaValues(dataframe):\n",
    "    \"\"\"check nan values in dataframe\"\"\"\n",
    "    \n",
    "    print(\"\\n# Is there any nan values?: \", dataframe.isna().all().all())\n",
    "    \n",
    "    print(\"## detail missing data ratio\")\n",
    "    #if dataframe.isna().all().all()\n",
    "    dataframe_na = (dataframe.isna().sum()/len(dataframe))*100\n",
    "    print(dataframe_na)\n",
    "    dataframe_na = dataframe_na.drop(\n",
    "        dataframe_na[dataframe_na == 0].index\n",
    "    ).sort_values(ascending=False)\n",
    "    missing_data = pd.DataFrame({'Missing Ratio':dataframe_na})\n",
    "    print(missing_data)\n",
    "    \n",
    "    \n",
    "    \"\"\"there is error. so not implemented yet\n",
    "    # just plot the rate\n",
    "    f, ax = plt.subplots(figsize=(15, 12))\n",
    "    plt.xticks(rotation='90')\n",
    "    sns.barplot(x=dataframe_na.index, y=dataframe_na.values)\n",
    "    plt.xlabel('Features', fontsize=15)\n",
    "    plt.ylabel('Percent of missing values', fontsize=15)\n",
    "    plt.title('Percent missing data by feature', fontsize=15)\n",
    "    \"\"\"\n",
    "\n",
    "    \n",
    "def checkObjTypeColumns(dataframe):\n",
    "    \"\"\"Check object dtype columns\"\"\"\n",
    "\n",
    "    print(\"\\n# object dtype columns\")\n",
    "    # object dtypeの列名からその列のデータのみを抽出\n",
    "    df_object_type = dataframe[dataframe.select_dtypes(['object']).columns]\n",
    "    #df_object_type = dataframe[[x for x in dataframe.columns if dataframe[x].dtypes == \"object\"]]\n",
    "    print(df_object_type.head())\n",
    "    #print(df_object_type.info()) # not useful info\n",
    "    print(df_object_type.describe())\n",
    "\n",
    "    \n",
    "def checkValueCounts(dataframe):\n",
    "    \"\"\"check value counts of each features and find boolean feature or not.\"\"\"\n",
    "\n",
    "    print(\"# value_counts of each feature: \")\n",
    "    for column in dataframe.columns:\n",
    "        #print(\"## \", column, \": \")\n",
    "        #print(dataframe[column].value_counts().head())\n",
    "        value_counts = dataframe[column].value_counts().shape[0]\n",
    "        if value_counts == 1:\n",
    "            print(column, \" -> single value. value count:  \", dataframe[column].value_counts().shape[0])            \n",
    "        elif value_counts == 2:\n",
    "            print(column, \" -> maybe boolean. value count:  \", dataframe[column].value_counts().shape[0])\n",
    "        else:\n",
    "            print(column, \" -> not boolean. value count:  \", dataframe[column].value_counts().shape[0])\n",
    "            \n",
    "\n",
    "def findSingleValueColmuns(dataframe):\n",
    "    \"\"\"check value counts of each features and find single value feature.\n",
    "    Such column is no meaning to learn.\n",
    "    \"\"\"\n",
    "\n",
    "    single_val_columns = []\n",
    "    for column in dataframe.columns:\n",
    "        value_counts = dataframe[column].value_counts().shape[0]\n",
    "        if value_counts == 1:\n",
    "            single_val_columns.append(column)\n",
    "    return single_val_columns\n",
    "\n",
    "            \n",
    "def checkCorrelationOfFeatures(dataframe):\n",
    "    \"\"\"check correlation matix of each features\"\"\"\n",
    "\n",
    "    # plot corr\n",
    "    print(\"\\n# correlation matrix\")\n",
    "    corrmat = dataframe.corr()\n",
    "    plt.subplots(figsize=(12,9))\n",
    "    sns.heatmap(corrmat, vmax=0.9, square=True)\n",
    "    plt.show()\n",
    "    print(corrmat)\n",
    "    print()\n",
    "    \n",
    "    corr_values = corrmat.iloc[0]\n",
    "    print(\"## highest correlation: \", corr_values.sort_values().head())\n",
    "    print(\"## lowest correlation: \", corr_values.sort_values().tail())\n",
    "\n",
    "    \n",
    "def checkSkewness(dataframe):\n",
    "    \"\"\"check skewness of each features\"\"\"\n",
    "    \n",
    "    #numeric_feats = dataframe.dtypes[all_data.dtypes != \"object\"].index\n",
    "    numeric_feats = dataframe.select_dtypes(exclude=['object'])\n",
    "    #print(numeric_feats)\n",
    "    # Check the skew of all numerical features\n",
    "    skewed_feats = numeric_feats.apply(\n",
    "        lambda x: skew(x.dropna())).sort_values(ascending=False)\n",
    "    print(\"\\n# Skew in numerical features: \\n\")\n",
    "    skewness = pd.DataFrame({'Skew' :skewed_feats})\n",
    "    print(skewness)\n",
    "    \n",
    "    return skewness\n",
    "    \n",
    "    \n",
    "def checkAllDataInfo(dataframe):\n",
    "    \"\"\"print all dataframe info\"\"\"\n",
    "\n",
    "    print(dataframe.head())\n",
    "    print(\"\\n# shape: \", dataframe.shape)\n",
    "    print(\"\\n# columns names: \", train_df.columns.values)\n",
    "    \n",
    "    print(\"\\n# df.info(): \")\n",
    "    print(dataframe.info())\n",
    "    #print(\"\\n# counts dtypes: \\n\", dataframe.dtypes.value_counts())# it is included in dataframe.info()\n",
    "\n",
    "    print(\"\\n# df.describe(): \")\n",
    "    print(dataframe.describe())\n",
    "    print()\n",
    "    \n",
    "    #print()\n",
    "    #pandas_profiling.ProfileReport(dataframe)\n",
    "    print()\n",
    "    checkNaValues(dataframe)\n",
    "    print()\n",
    "    checkObjTypeColumns(dataframe)\n",
    "    print()\n",
    "    checkValueCounts(dataframe)\n",
    "    print()\n",
    "    #checkCorrelationOfFeatures(dataframe)\n",
    "    \n",
    "    print()\n",
    "    checkSkewness(dataframe)\n",
    "    \n",
    "    \n",
    "    \n",
    "def my_plot_learning_curve(estimator, title, X, y, ylim=None, cv=None,\n",
    "                        scoring=\"r2\",\n",
    "                        n_jobs=1, train_sizes=np.linspace(.1, 1.0, 5)):\n",
    "    \"\"\"\n",
    "    Generate a simple plot of the test and training learning curve.\n",
    "\n",
    "    Parameters\n",
    "    ----------\n",
    "    estimator : object type that implements the \"fit\" and \"predict\" methods\n",
    "        An object of that type which is cloned for each validation.\n",
    "\n",
    "    title : string\n",
    "        Title for the chart.\n",
    "\n",
    "    X : array-like, shape (n_samples, n_features)\n",
    "        Training vector, where n_samples is the number of samples and\n",
    "        n_features is the number of features.\n",
    "\n",
    "    y : array-like, shape (n_samples) or (n_samples, n_features), optional\n",
    "        Target relative to X for classification or regression;\n",
    "        None for unsupervised learning.\n",
    "\n",
    "    ylim : tuple, shape (ymin, ymax), optional\n",
    "        Defines minimum and maximum yvalues plotted.\n",
    "\n",
    "    cv : int, cross-validation generator or an iterable, optional\n",
    "        Determines the cross-validation splitting strategy.\n",
    "        Possible inputs for cv are:\n",
    "          - None, to use the default 3-fold cross-validation,\n",
    "          - integer, to specify the number of folds.\n",
    "          - An object to be used as a cross-validation generator.\n",
    "          - An iterable yielding train/test splits.\n",
    "\n",
    "        For integer/None inputs, if ``y`` is binary or multiclass,\n",
    "        :class:`StratifiedKFold` used. If the estimator is not a classifier\n",
    "        or if ``y`` is neither binary nor multiclass, :class:`KFold` is used.\n",
    "\n",
    "        Refer :ref:`User Guide <cross_validation>` for the various\n",
    "        cross-validators that can be used here.\n",
    "\n",
    "    n_jobs : integer, optional\n",
    "        Number of jobs to run in parallel (default 1).\n",
    "    \"\"\"\n",
    "    plt.figure()\n",
    "    plt.title(title)\n",
    "    if ylim is not None:\n",
    "        plt.ylim(*ylim)\n",
    "    plt.xlabel(\"Training examples\")\n",
    "    plt.ylabel(\"Score\")\n",
    "    train_sizes, train_scores, test_scores = learning_curve(\n",
    "        estimator, X, y, cv=cv, scoring=scoring, n_jobs=n_jobs, train_sizes=train_sizes)\n",
    "    train_scores_mean = np.mean(train_scores, axis=1)\n",
    "    train_scores_std = np.std(train_scores, axis=1)\n",
    "    test_scores_mean = np.mean(test_scores, axis=1)\n",
    "    test_scores_std = np.std(test_scores, axis=1)\n",
    "    plt.grid()\n",
    "\n",
    "    plt.fill_between(train_sizes, train_scores_mean - train_scores_std,\n",
    "                     train_scores_mean + train_scores_std, alpha=0.1,\n",
    "                     color=\"r\")\n",
    "    plt.fill_between(train_sizes, test_scores_mean - test_scores_std,\n",
    "                     test_scores_mean + test_scores_std, alpha=0.1, color=\"g\")\n",
    "    plt.plot(train_sizes, train_scores_mean, 'o-', color=\"r\",\n",
    "             label=\"Training score\")\n",
    "    plt.plot(train_sizes, test_scores_mean, 'o-', color=\"g\",\n",
    "             label=\"Cross-validation score\")\n",
    "\n",
    "    plt.legend(loc=\"best\")\n",
    "    return plt\n",
    "\n",
    "\n",
    "\n",
    "def checkTargetInfo(dataframe, target_name=\"y\"):\n",
    "    \"\"\"print target y value info\"\"\"\n",
    " \n",
    "    # plot distribution\n",
    "    sns.distplot(train_df[target_name], fit=norm)\n",
    "    (mu, sigma) = norm.fit(train_df[target_name])\n",
    "    print(\"mu, sigma:\", mu, sigma)\n",
    "\n",
    "    plt.legend(['Normal dist. ($\\mu=$ {:.2f} and $\\sigma=$ {:.2f} )'.format(mu, sigma)],\n",
    "                loc='best')\n",
    "    plt.ylabel('Frequency')\n",
    "    plt.title('target value distribution')\n",
    "\n",
    "    \n",
    "    # plot skewness\n",
    "\n",
    "    #print(\"skewness of y\", skew(dataframe[target_name]))\n",
    "    print(\"skewness of y\", train_df[target_name].skew())\n",
    "    fig = plt.figure()\n",
    "    res = stats.probplot(train_df[target_name], plot=plt)\n",
    "    plt.show()\n",
    "\n",
    "    \n",
    "    \n",
    "def checkCorrelationOfSelectedFeatures(dataframe, columns):\n",
    "    \"\"\"check correlation matix of each features\"\"\"\n",
    "\n",
    "    # plot corr\n",
    "    print(\"\\n# correlation matrix\")\n",
    "    corrmat = dataframe[columns].corr()\n",
    "    plt.subplots(figsize=(12,9))\n",
    "    sns.heatmap(corrmat, vmax=0.9, square=True, annot=True)\n",
    "    plt.show()\n",
    "    print(corrmat)\n",
    "    \n",
    "\n",
    "    \n",
    "def splitToIdTargetFeatures(dataframe, id_name, target_name):\n",
    "    \"\"\"split train df to data, id and taret dataframes\n",
    "    \"\"\"\n",
    "    id_df = dataframe[id_name]\n",
    "    target_df = dataframe[target_name]\n",
    "    features_df = dataframe.drop([id_name, target_name], axis=1)\n",
    "    \n",
    "    return id_df, target_df, features_df\n",
    "\n",
    "\n"
   ]
  },
  {
   "cell_type": "code",
   "execution_count": null,
   "metadata": {
    "_uuid": "2aaf498dfb0b840b62956795aac85c5182628d30",
    "collapsed": true
   },
   "outputs": [],
   "source": []
  },
  {
   "cell_type": "markdown",
   "metadata": {
    "_uuid": "c8c46bb335cc510cbf2d78b7c8ed44dce9a53c19"
   },
   "source": [
    "### apply logarithm transformation to tareget"
   ]
  },
  {
   "cell_type": "code",
   "execution_count": 98,
   "metadata": {
    "_uuid": "2b0b0c73d7321b007edc20f6836981ec083c3ce1",
    "collapsed": true,
    "scrolled": false
   },
   "outputs": [
    {
     "name": "stdout",
     "output_type": "stream",
     "text": [
      "14.490239292748585 1.7507504829494496\n"
     ]
    },
    {
     "data": {
      "image/png": "[encoded data removed]",
      "text/plain": [
       "<matplotlib.figure.Figure at 0x7fe7c88b8f98>"
      ]
     },
     "metadata": {},
     "output_type": "display_data"
    },
    {
     "data": {
      "image/png": "[encoded data removed]",
      "text/plain": [
       "<matplotlib.figure.Figure at 0x7fe7c88b82e8>"
      ]
     },
     "metadata": {},
     "output_type": "display_data"
    }
   ],
   "source": [
    "# apply logarithm transformation\n",
    "\n",
    "train_df[\"target\"] = np.log1p(train_df[\"target\"])\n",
    "sns.distplot(train_df[\"target\"], fit=norm)\n",
    "\n",
    "(mu, sigma) = norm.fit(train_df[\"target\"])\n",
    "print(mu, sigma)\n",
    "\n",
    "plt.legend(['Normal dist. ($\\mu=$ {:.2f} and $\\sigma=$ {:.2f} )'.format(mu, sigma)],\n",
    "            loc='best')\n",
    "plt.ylabel('Frequency')\n",
    "plt.title('y distribution')\n",
    "\n",
    "fig = plt.figure()\n",
    "res = stats.probplot(train_df[\"target\"], plot=plt)\n",
    "plt.show()\n"
   ]
  },
  {
   "cell_type": "markdown",
   "metadata": {
    "_uuid": "b3f788599c2986f31a5784e4396ed13444570895"
   },
   "source": [
    "----\n",
    "\n",
    "# feature eng"
   ]
  },
  {
   "cell_type": "markdown",
   "metadata": {
    "_uuid": "a58558e01a92e1f5ed629271b7f1a1822964dcd2"
   },
   "source": [
    "## add some features before drop some columns\n"
   ]
  },
  {
   "cell_type": "markdown",
   "metadata": {
    "_uuid": "4d092bebbdf95e599e6f357b53db19bf534b12e0"
   },
   "source": [
    "### add sum of zeros feature"
   ]
  },
  {
   "cell_type": "code",
   "execution_count": 99,
   "metadata": {
    "_uuid": "5ebbd84fec254f29bae1d9666ed36b12e809b98a",
    "collapsed": true
   },
   "outputs": [],
   "source": [
    "def add_SumZeros(train, test):\n",
    "    flist = [x for x in train.columns if not x in ['ID','target']]\n",
    "    train.insert(1, 'SumZeros', (train[flist] == 0).astype(int).sum(axis=1))\n",
    "    test.insert(1, 'SumZeros', (test[flist] == 0).astype(int).sum(axis=1))\n",
    "    return train, test\n"
   ]
  },
  {
   "cell_type": "code",
   "execution_count": 100,
   "metadata": {
    "_uuid": "f28b4d89d83b190b684e4a4b292aebf5e8f2cadb",
    "collapsed": true
   },
   "outputs": [
    {
     "name": "stdout",
     "output_type": "stream",
     "text": [
      "CPU times: user 5.48 s, sys: 1.25 s, total: 6.72 s\n",
      "Wall time: 6.72 s\n"
     ]
    }
   ],
   "source": [
    "%%time\n",
    "train_df, test_df = add_SumZeros(train_df, test_df)\n"
   ]
  },
  {
   "cell_type": "markdown",
   "metadata": {
    "_uuid": "2442c5b1343771248dafeab9ce526dba58ad2772"
   },
   "source": [
    "### add sum of values"
   ]
  },
  {
   "cell_type": "code",
   "execution_count": 101,
   "metadata": {
    "_uuid": "cc835bde95a0f7bffe5bda5bcd6c37f4e7d77d40",
    "collapsed": true
   },
   "outputs": [],
   "source": [
    "def add_SumValues(train, test):\n",
    "    flist = [x for x in train.columns if not x in ['ID','target']]\n",
    "    \n",
    "    train.insert(1, 'SumValues', (train[flist] != 0).astype(int).sum(axis=1))\n",
    "    test.insert(1, 'SumValues', (test[flist] != 0).astype(int).sum(axis=1))\n",
    "\n",
    "    return train, test"
   ]
  },
  {
   "cell_type": "code",
   "execution_count": 102,
   "metadata": {
    "_uuid": "21a0bf4399430d2e473fe30ea31f2e0528541bee",
    "collapsed": true
   },
   "outputs": [
    {
     "name": "stdout",
     "output_type": "stream",
     "text": [
      "CPU times: user 5.06 s, sys: 1.28 s, total: 6.34 s\n",
      "Wall time: 6.35 s\n"
     ]
    }
   ],
   "source": [
    "%%time\n",
    "train_df, test_df = add_SumValues(train_df, test_df)\n"
   ]
  },
  {
   "cell_type": "raw",
   "metadata": {},
   "source": [
    "### Add other Agg"
   ]
  },
  {
   "cell_type": "raw",
   "metadata": {
    "_uuid": "7d1c9158c50df29f304ac141a201ce4f7542bd4d"
   },
   "source": [
    "other_agg_list = ['Mean', 'Median', 'Mode', 'Max', 'Var', 'Std']\n",
    "\n",
    "def add_OtherAgg(train, test):\n",
    "    flist = [x for x in train.columns if not x in ['ID','target','SumZeros','SumValues']]\n",
    "    train['Mean']   = train[flist].mean(axis=1)\n",
    "    train['Median'] = train[flist].median(axis=1)\n",
    "    train['Mode']   = train[flist].mode(axis=1)\n",
    "    train['Max']    = train[flist].max(axis=1)\n",
    "    train['Var']    = train[flist].var(axis=1)\n",
    "    train['Std']    = train[flist].std(axis=1)\n",
    "\n",
    "    test['Mean']   = test[flist].mean(axis=1)\n",
    "    test['Median'] = test[flist].median(axis=1)\n",
    "    test['Mode']   = test[flist].mode(axis=1)\n",
    "    test['Max']    = test[flist].max(axis=1)\n",
    "    test['Var']    = test[flist].var(axis=1)\n",
    "    test['Std']    = test[flist].std(axis=1)\n",
    "\n",
    "    return train, test"
   ]
  },
  {
   "cell_type": "raw",
   "metadata": {
    "_uuid": "ade5135ed9b5563e445db603b9725680b4cad5c5"
   },
   "source": [
    "%%time\n",
    "train_df, test_df = add_OtherAgg(train_df, test_df)\n"
   ]
  },
  {
   "cell_type": "raw",
   "metadata": {
    "_uuid": "da787897cf16fa4b89e5ccef90ef3dccc9d1e173"
   },
   "source": [
    "train_df[other_agg_list].head()"
   ]
  },
  {
   "cell_type": "raw",
   "metadata": {
    "_uuid": "d95b726d8875381ac9cd0f24b6d825036a349b19"
   },
   "source": [
    "test_df[other_agg_list].head()"
   ]
  },
  {
   "cell_type": "raw",
   "metadata": {
    "_uuid": "a63dfc7330bd6f52bc210ef14303371f39391574"
   },
   "source": [
    "added_cols_pls_target = [\"target\", 'SumZeros', 'SumValues']+other_agg_list\n",
    "train_df[added_cols_pls_target].head()"
   ]
  },
  {
   "cell_type": "raw",
   "metadata": {
    "_uuid": "a9e00381dce579e6b236e5e3ee2fdceff5473169"
   },
   "source": [
    "corr = train_df[added_cols_pls_target].corr()\n",
    "corr"
   ]
  },
  {
   "cell_type": "raw",
   "metadata": {
    "_uuid": "72d8a32f065a130b70b06e6d7e884259905ac6f3"
   },
   "source": [
    "plt.subplots(figsize=(12,9))\n",
    "sns.heatmap(corr, vmax=0.9, square=True, annot=True)\n",
    "plt.show()"
   ]
  },
  {
   "cell_type": "code",
   "execution_count": null,
   "metadata": {
    "_uuid": "1679e358f7644c9a8f8681db625c86ca4c32ab34",
    "collapsed": true
   },
   "outputs": [],
   "source": []
  },
  {
   "cell_type": "code",
   "execution_count": null,
   "metadata": {
    "_uuid": "57a607ee1fefd90f1eaed3a026c87eae0135092f",
    "collapsed": true
   },
   "outputs": [],
   "source": []
  },
  {
   "cell_type": "code",
   "execution_count": null,
   "metadata": {
    "_uuid": "2fb4471d43d9c4d608b0a4627d2620069a5bd116",
    "collapsed": true
   },
   "outputs": [],
   "source": []
  },
  {
   "cell_type": "markdown",
   "metadata": {
    "_uuid": "2e212f67e4d327b1a43c01cfe6571ed0b77bb1dc"
   },
   "source": [
    "## remove single value column"
   ]
  },
  {
   "cell_type": "code",
   "execution_count": 103,
   "metadata": {
    "_uuid": "e46b09e64ff06603acaa1c9982d3873d52bf354a",
    "collapsed": true
   },
   "outputs": [],
   "source": [
    "single_val_columns = findSingleValueColmuns(train_df)"
   ]
  },
  {
   "cell_type": "raw",
   "metadata": {
    "_uuid": "a0503769c89e89766c3477aee4d5f5057d3cd49d"
   },
   "source": [
    "for column in single_val_columns:\n",
    "    print(train_df[column].value_counts())"
   ]
  },
  {
   "cell_type": "code",
   "execution_count": 104,
   "metadata": {
    "_uuid": "21f4162cac5ccb61781cd22bd3722489b6a7d0fa",
    "collapsed": true,
    "scrolled": true
   },
   "outputs": [
    {
     "name": "stdout",
     "output_type": "stream",
     "text": [
      "drop single value columns,  256 columns were dropped\n"
     ]
    }
   ],
   "source": [
    "print(\"drop single value columns, \", len(single_val_columns), \"columns were dropped\")"
   ]
  },
  {
   "cell_type": "code",
   "execution_count": 105,
   "metadata": {
    "_uuid": "bdb66f182a60b60bf1873d9f5bef84abd262fcf8",
    "collapsed": true
   },
   "outputs": [
    {
     "name": "stdout",
     "output_type": "stream",
     "text": [
      "train_df.shape, test_df.shape\n",
      "(4459, 4995) (49342, 4994)\n",
      "(4459, 4739) (49342, 4738)\n"
     ]
    }
   ],
   "source": [
    "print(\"train_df.shape, test_df.shape\")\n",
    "print(train_df.shape, test_df.shape)\n",
    "\n",
    "train_df.drop(single_val_columns, axis=1, inplace=True)\n",
    "test_df.drop(single_val_columns, axis=1, inplace=True)\n",
    "\n",
    "print(train_df.shape, test_df.shape)"
   ]
  },
  {
   "cell_type": "code",
   "execution_count": null,
   "metadata": {
    "_uuid": "554684bde74821da2226c341256095b2ae619aa4",
    "collapsed": true
   },
   "outputs": [],
   "source": []
  },
  {
   "cell_type": "markdown",
   "metadata": {
    "_uuid": "c5ff82f216d94b10c776d857c74814972456efab"
   },
   "source": [
    "## remove dupulicate column\n",
    "\n",
    "remove if train_df data is same even if test_df data is not same.\n",
    "because if train_df data is same, it cannot learn the differece."
   ]
  },
  {
   "cell_type": "raw",
   "metadata": {
    "_uuid": "4e52d8c27e3b93312182b735e5e247a4b9c73c24"
   },
   "source": [
    "columns = train_df.columns\n",
    "columns = columns.drop([\"ID\", \"target\"])\n",
    "columns"
   ]
  },
  {
   "cell_type": "markdown",
   "metadata": {
    "_uuid": "a8a60badf6beb88cf19bd94e3391beb3837e9236"
   },
   "source": [
    "comment out to reduce time"
   ]
  },
  {
   "cell_type": "raw",
   "metadata": {
    "_uuid": "5875f464b4f924beec1c32d9ecc4ba0a246323d8"
   },
   "source": [
    "%%time\n",
    "\n",
    "\n",
    "# Check and remove duplicate columns\n",
    "colsToRemove = []\n",
    "colsScaned = []\n",
    "dupList = {}\n",
    "\n",
    "\n",
    "#for i in tqdm(range(len(columns)-1)):\n",
    "for i in range(len(columns)-1):\n",
    "    v = train_df[columns[i]].values\n",
    "    dupCols = []\n",
    "    for j in range(i+1,len(columns)):\n",
    "        if np.array_equal(v, train_df[columns[j]].values):\n",
    "            colsToRemove.append(columns[j])\n",
    "            if columns[j] not in colsScaned:\n",
    "                dupCols.append(columns[j]) \n",
    "                colsScaned.append(columns[j])\n",
    "                dupList[columns[i]] = dupCols\n",
    "                \n",
    "                \n",
    "print(\"colsToRemove = \", colsToRemove)\n",
    "print(\"colsScaned = \", colsScaned)\n",
    "print(\"dupList = \", dupList)"
   ]
  },
  {
   "cell_type": "code",
   "execution_count": 106,
   "metadata": {
    "_uuid": "484261c4c62a10d19396f2aab2e47897c6c7bf0f",
    "collapsed": true
   },
   "outputs": [],
   "source": [
    "colsToRemove =  ['d60ddde1b', 'acc5b709d', 'f333a5f60', 'f8d75792f', '912836770', 'f333a5f60']\n",
    "colsScaned =  ['d60ddde1b', 'acc5b709d', 'f333a5f60', 'f8d75792f', '912836770']\n",
    "dupList =  {'34ceb0081': ['d60ddde1b'], '8d57e2749': ['acc5b709d', 'f333a5f60'], '168b3e5bc': ['f8d75792f'], 'a765da8bc': ['912836770']}"
   ]
  },
  {
   "cell_type": "code",
   "execution_count": 107,
   "metadata": {
    "_uuid": "68a31e6dc8ccdcd8ae7bd8eb95b83870531479be",
    "collapsed": true
   },
   "outputs": [
    {
     "name": "stdout",
     "output_type": "stream",
     "text": [
      "train_df.shape, test_df.shape\n",
      "(4459, 4739) (49342, 4738)\n",
      "(4459, 4734) (49342, 4733)\n"
     ]
    }
   ],
   "source": [
    "print(\"train_df.shape, test_df.shape\")\n",
    "print(train_df.shape, test_df.shape)\n",
    "\n",
    "train_df.drop(colsToRemove, axis=1, inplace=True)\n",
    "test_df.drop(colsToRemove, axis=1, inplace=True)\n",
    "\n",
    "print(train_df.shape, test_df.shape)"
   ]
  },
  {
   "cell_type": "code",
   "execution_count": null,
   "metadata": {
    "_uuid": "75a26ee806776ad9936033ea797931feeb916f40",
    "collapsed": true
   },
   "outputs": [],
   "source": []
  },
  {
   "cell_type": "markdown",
   "metadata": {
    "_uuid": "ced61a01d9f3243564093be7f8f2bab0152b4099"
   },
   "source": [
    "## check Correlation and reduce high corr features\n",
    "\n",
    "- if a feature have only one value, correlation become NAN.\n",
    "- so better to check correlation after dropped one value features"
   ]
  },
  {
   "cell_type": "raw",
   "metadata": {
    "_uuid": "9dcb8e7fd8f40c14d22f700e7549d2fca9af860a"
   },
   "source": [
    "    \n",
    "columns = [\"y\", \"X10\", \"X11\", \"X12\", \"X13\", \"X14\"]\n",
    "checkCorrelationOfSelectedFeatures(train_df, columns)"
   ]
  },
  {
   "cell_type": "raw",
   "metadata": {
    "_uuid": "d3cab6321d521bec8dbea6ae3bb61102c7edc68a"
   },
   "source": [
    "%%time\n",
    "corrmat = train_df.corr(method=\"spearman\")\n",
    "corrmat.to_csv('../output/correlation.csv')"
   ]
  },
  {
   "cell_type": "raw",
   "metadata": {
    "_uuid": "004f7b29817c93421b0cda61a267efa9b0b3a498"
   },
   "source": [
    "corrmat[\"target\"].sort_values(ascending=False).head(10)"
   ]
  },
  {
   "cell_type": "raw",
   "metadata": {
    "_uuid": "c36f94c7a7d53381b6f958b97feb126f40c1f1d1"
   },
   "source": [
    "corrmat[\"target\"].sort_values(ascending=False).tail(10)"
   ]
  },
  {
   "cell_type": "code",
   "execution_count": null,
   "metadata": {
    "_uuid": "a85f0ddefc618c78c0639bb888070c04a89cb9cb",
    "collapsed": true
   },
   "outputs": [],
   "source": []
  },
  {
   "cell_type": "code",
   "execution_count": null,
   "metadata": {
    "_uuid": "5223c37885377f3d5e64c0944feb092fface8892",
    "collapsed": true
   },
   "outputs": [],
   "source": []
  },
  {
   "cell_type": "code",
   "execution_count": null,
   "metadata": {
    "_uuid": "8c9c174a517938f6d3d7ce82c112bff401cfce6f",
    "collapsed": true
   },
   "outputs": [],
   "source": []
  },
  {
   "cell_type": "markdown",
   "metadata": {
    "_uuid": "5117c06944c3a4456e05478a74f7a70ed60fe086"
   },
   "source": [
    "## combine train/test to all_data"
   ]
  },
  {
   "cell_type": "code",
   "execution_count": null,
   "metadata": {
    "_uuid": "3a7686e13357f1fe37e90f52cdf5398c667161ad",
    "collapsed": true
   },
   "outputs": [],
   "source": []
  },
  {
   "cell_type": "code",
   "execution_count": 108,
   "metadata": {
    "_uuid": "efb76057931a075ce0f51228cef440850dd5883d",
    "collapsed": true
   },
   "outputs": [],
   "source": [
    "ntrain = train_df.shape[0]\n",
    "all_data = pd.concat((train_df, test_df)).reset_index(drop=True)\n",
    "\n",
    "all_id, all_target, all_data = splitToIdTargetFeatures(all_data, id_name=\"ID\", target_name=\"target\")\n"
   ]
  },
  {
   "cell_type": "raw",
   "metadata": {
    "_uuid": "d28110829253bbf4efa337ef61822d7be5261e6b"
   },
   "source": [
    "all_data.shape"
   ]
  },
  {
   "cell_type": "code",
   "execution_count": 109,
   "metadata": {
    "_uuid": "9b89e93cb805518c6f8e6d9c286c9bce0c6edfd7",
    "collapsed": true
   },
   "outputs": [
    {
     "data": {
      "text/html": [
       "<div>\n",
       "<style scoped>\n",
       "    .dataframe tbody tr th:only-of-type {\n",
       "        vertical-align: middle;\n",
       "    }\n",
       "\n",
       "    .dataframe tbody tr th {\n",
       "        vertical-align: top;\n",
       "    }\n",
       "\n",
       "    .dataframe thead th {\n",
       "        text-align: right;\n",
       "    }\n",
       "</style>\n",
       "<table border=\"1\" class=\"dataframe\">\n",
       "  <thead>\n",
       "    <tr style=\"text-align: right;\">\n",
       "      <th></th>\n",
       "      <th>001476ffa</th>\n",
       "      <th>0019109c4</th>\n",
       "      <th>0022de2b3</th>\n",
       "      <th>0024cd760</th>\n",
       "      <th>002d634dc</th>\n",
       "      <th>00302fe51</th>\n",
       "      <th>003da5628</th>\n",
       "      <th>006e72749</th>\n",
       "      <th>007d71f12</th>\n",
       "      <th>007ee91d1</th>\n",
       "      <th>...</th>\n",
       "      <th>ffa45bf70</th>\n",
       "      <th>ffa6b80e2</th>\n",
       "      <th>ffa903344</th>\n",
       "      <th>ffb34b926</th>\n",
       "      <th>ffca57b7b</th>\n",
       "      <th>ffcec956f</th>\n",
       "      <th>ffd2f9409</th>\n",
       "      <th>ffd50f0bf</th>\n",
       "      <th>ffdc4bcf8</th>\n",
       "      <th>ffec49dae</th>\n",
       "    </tr>\n",
       "  </thead>\n",
       "  <tbody>\n",
       "    <tr>\n",
       "      <th>0</th>\n",
       "      <td>0.0</td>\n",
       "      <td>0.0</td>\n",
       "      <td>0.0</td>\n",
       "      <td>0.0</td>\n",
       "      <td>0.0</td>\n",
       "      <td>0.0</td>\n",
       "      <td>0.0</td>\n",
       "      <td>0.0</td>\n",
       "      <td>0.0</td>\n",
       "      <td>0.0</td>\n",
       "      <td>...</td>\n",
       "      <td>0.0</td>\n",
       "      <td>0.0</td>\n",
       "      <td>0.0</td>\n",
       "      <td>0.0</td>\n",
       "      <td>0.0</td>\n",
       "      <td>0.0</td>\n",
       "      <td>0.0</td>\n",
       "      <td>0.0</td>\n",
       "      <td>0.0</td>\n",
       "      <td>0.0</td>\n",
       "    </tr>\n",
       "    <tr>\n",
       "      <th>1</th>\n",
       "      <td>0.0</td>\n",
       "      <td>0.0</td>\n",
       "      <td>0.0</td>\n",
       "      <td>0.0</td>\n",
       "      <td>0.0</td>\n",
       "      <td>0.0</td>\n",
       "      <td>0.0</td>\n",
       "      <td>0.0</td>\n",
       "      <td>0.0</td>\n",
       "      <td>0.0</td>\n",
       "      <td>...</td>\n",
       "      <td>0.0</td>\n",
       "      <td>0.0</td>\n",
       "      <td>0.0</td>\n",
       "      <td>0.0</td>\n",
       "      <td>0.0</td>\n",
       "      <td>0.0</td>\n",
       "      <td>0.0</td>\n",
       "      <td>0.0</td>\n",
       "      <td>0.0</td>\n",
       "      <td>0.0</td>\n",
       "    </tr>\n",
       "    <tr>\n",
       "      <th>2</th>\n",
       "      <td>0.0</td>\n",
       "      <td>0.0</td>\n",
       "      <td>0.0</td>\n",
       "      <td>0.0</td>\n",
       "      <td>0.0</td>\n",
       "      <td>0.0</td>\n",
       "      <td>0.0</td>\n",
       "      <td>0.0</td>\n",
       "      <td>0.0</td>\n",
       "      <td>0.0</td>\n",
       "      <td>...</td>\n",
       "      <td>0.0</td>\n",
       "      <td>0.0</td>\n",
       "      <td>0.0</td>\n",
       "      <td>0.0</td>\n",
       "      <td>0.0</td>\n",
       "      <td>0.0</td>\n",
       "      <td>0.0</td>\n",
       "      <td>0.0</td>\n",
       "      <td>0.0</td>\n",
       "      <td>0.0</td>\n",
       "    </tr>\n",
       "    <tr>\n",
       "      <th>3</th>\n",
       "      <td>0.0</td>\n",
       "      <td>0.0</td>\n",
       "      <td>0.0</td>\n",
       "      <td>0.0</td>\n",
       "      <td>0.0</td>\n",
       "      <td>0.0</td>\n",
       "      <td>0.0</td>\n",
       "      <td>0.0</td>\n",
       "      <td>0.0</td>\n",
       "      <td>0.0</td>\n",
       "      <td>...</td>\n",
       "      <td>0.0</td>\n",
       "      <td>0.0</td>\n",
       "      <td>0.0</td>\n",
       "      <td>0.0</td>\n",
       "      <td>0.0</td>\n",
       "      <td>0.0</td>\n",
       "      <td>0.0</td>\n",
       "      <td>0.0</td>\n",
       "      <td>0.0</td>\n",
       "      <td>0.0</td>\n",
       "    </tr>\n",
       "    <tr>\n",
       "      <th>4</th>\n",
       "      <td>0.0</td>\n",
       "      <td>0.0</td>\n",
       "      <td>0.0</td>\n",
       "      <td>0.0</td>\n",
       "      <td>0.0</td>\n",
       "      <td>0.0</td>\n",
       "      <td>0.0</td>\n",
       "      <td>0.0</td>\n",
       "      <td>0.0</td>\n",
       "      <td>0.0</td>\n",
       "      <td>...</td>\n",
       "      <td>0.0</td>\n",
       "      <td>0.0</td>\n",
       "      <td>0.0</td>\n",
       "      <td>0.0</td>\n",
       "      <td>0.0</td>\n",
       "      <td>0.0</td>\n",
       "      <td>0.0</td>\n",
       "      <td>0.0</td>\n",
       "      <td>0.0</td>\n",
       "      <td>0.0</td>\n",
       "    </tr>\n",
       "  </tbody>\n",
       "</table>\n",
       "<p>5 rows × 4732 columns</p>\n",
       "</div>"
      ],
      "text/plain": [
       "   001476ffa  0019109c4  0022de2b3  0024cd760  002d634dc  00302fe51  \\\n",
       "0        0.0        0.0        0.0        0.0        0.0        0.0   \n",
       "1        0.0        0.0        0.0        0.0        0.0        0.0   \n",
       "2        0.0        0.0        0.0        0.0        0.0        0.0   \n",
       "3        0.0        0.0        0.0        0.0        0.0        0.0   \n",
       "4        0.0        0.0        0.0        0.0        0.0        0.0   \n",
       "\n",
       "   003da5628  006e72749  007d71f12  007ee91d1    ...      ffa45bf70  \\\n",
       "0        0.0        0.0        0.0        0.0    ...            0.0   \n",
       "1        0.0        0.0        0.0        0.0    ...            0.0   \n",
       "2        0.0        0.0        0.0        0.0    ...            0.0   \n",
       "3        0.0        0.0        0.0        0.0    ...            0.0   \n",
       "4        0.0        0.0        0.0        0.0    ...            0.0   \n",
       "\n",
       "   ffa6b80e2  ffa903344  ffb34b926  ffca57b7b  ffcec956f  ffd2f9409  \\\n",
       "0        0.0        0.0        0.0        0.0        0.0        0.0   \n",
       "1        0.0        0.0        0.0        0.0        0.0        0.0   \n",
       "2        0.0        0.0        0.0        0.0        0.0        0.0   \n",
       "3        0.0        0.0        0.0        0.0        0.0        0.0   \n",
       "4        0.0        0.0        0.0        0.0        0.0        0.0   \n",
       "\n",
       "   ffd50f0bf  ffdc4bcf8  ffec49dae  \n",
       "0        0.0        0.0        0.0  \n",
       "1        0.0        0.0        0.0  \n",
       "2        0.0        0.0        0.0  \n",
       "3        0.0        0.0        0.0  \n",
       "4        0.0        0.0        0.0  \n",
       "\n",
       "[5 rows x 4732 columns]"
      ]
     },
     "execution_count": 109,
     "metadata": {},
     "output_type": "execute_result"
    }
   ],
   "source": [
    "all_data.head()"
   ]
  },
  {
   "cell_type": "code",
   "execution_count": 110,
   "metadata": {
    "_uuid": "635edf0c93700223cbcc54da44c957e9b4656f37",
    "collapsed": true
   },
   "outputs": [
    {
     "data": {
      "text/plain": [
       "0    000d6aaf2\n",
       "1    000fbd867\n",
       "2    0027d6b71\n",
       "3    0028cbf45\n",
       "4    002a68644\n",
       "Name: ID, dtype: object"
      ]
     },
     "execution_count": 110,
     "metadata": {},
     "output_type": "execute_result"
    }
   ],
   "source": [
    "all_id.head()"
   ]
  },
  {
   "cell_type": "code",
   "execution_count": 111,
   "metadata": {
    "_uuid": "97ea7e7bf8cb28bb41ad3e411d3be46c96da81f9",
    "collapsed": true
   },
   "outputs": [
    {
     "data": {
      "text/plain": [
       "0    17.453097\n",
       "1    13.304687\n",
       "2    16.118096\n",
       "3    14.508658\n",
       "4    16.482739\n",
       "Name: target, dtype: float64"
      ]
     },
     "execution_count": 111,
     "metadata": {},
     "output_type": "execute_result"
    }
   ],
   "source": [
    "all_target.head()"
   ]
  },
  {
   "cell_type": "code",
   "execution_count": null,
   "metadata": {
    "_uuid": "4651999ba4e764b391f66cf4e747d7f0256668f5",
    "collapsed": true
   },
   "outputs": [],
   "source": []
  },
  {
   "cell_type": "markdown",
   "metadata": {
    "_uuid": "1495b61e0767575e331029fd4f48a063ff5d83e3"
   },
   "source": [
    "## skew feature"
   ]
  },
  {
   "cell_type": "code",
   "execution_count": 112,
   "metadata": {
    "_uuid": "f6301835471a0cb61411d079b10b93f6d9b95fd4",
    "collapsed": true
   },
   "outputs": [
    {
     "name": "stdout",
     "output_type": "stream",
     "text": [
      "\n",
      "# Skew in numerical features: \n",
      "\n",
      "                 Skew\n",
      "55e30b08f  230.972695\n",
      "455b51392  230.303813\n",
      "28690ae0d  229.500405\n",
      "470cea05f  228.828795\n",
      "1614f0f84  228.321276\n",
      "39896d3dd  228.283309\n",
      "ed0860a34  228.027306\n",
      "fe33df1c4  227.844080\n",
      "f7f2e3896  227.770747\n",
      "5c7eb01b4  227.529761\n",
      "940c3b22f  227.508794\n",
      "ba480f343  227.433911\n",
      "3be4dad48  226.675191\n",
      "6eebf3ca4  226.649999\n",
      "2b85882ad  226.363073\n",
      "6dcac05e7  226.121022\n",
      "b3bfbc1fa  225.886324\n",
      "5878b703c  225.658195\n",
      "e9f57e5c6  225.650265\n",
      "e325dec5e  225.598943\n",
      "9685f5e16  225.467673\n",
      "1b41a7ee2  225.438692\n",
      "95bbebdd4  225.083708\n",
      "907e76fa9  225.064555\n",
      "8706aa459  224.786776\n",
      "cf3841208  224.726568\n",
      "e2c21c4bc  224.713659\n",
      "07cb6041d  224.652034\n",
      "625525b5d  223.478113\n",
      "bf8150471  223.452716\n",
      "...               ...\n",
      "bd6da0cca   12.633321\n",
      "1db387535   12.518029\n",
      "324921c7b   12.396595\n",
      "02861e414   12.310006\n",
      "f02ecb19c   12.288267\n",
      "70feb1494   12.160715\n",
      "20aa07010   12.081955\n",
      "5c6487af1   11.971548\n",
      "1702b5bf0   11.822818\n",
      "58e056e12   11.784932\n",
      "58e2e02e6   11.678142\n",
      "b43a7cfd5   11.549897\n",
      "024c577b9   11.488526\n",
      "58232a6fb   11.405308\n",
      "f74e8f13d   11.401261\n",
      "eeb9cd3aa   11.388772\n",
      "ea772e115   11.098454\n",
      "bb0ce54e9   10.946994\n",
      "ad009c8b9   10.934049\n",
      "15ace8c9f   10.883168\n",
      "241f0f867   10.736248\n",
      "0572565c2   10.663482\n",
      "fb0f5dbfe   10.497856\n",
      "6eef030c1   10.340127\n",
      "6619d81fc    9.929579\n",
      "fb49e4212    9.867583\n",
      "e176a204a    9.795367\n",
      "f190486d6    9.356704\n",
      "SumValues    4.782394\n",
      "SumZeros    -4.782394\n",
      "\n",
      "[4732 rows x 1 columns]\n"
     ]
    }
   ],
   "source": [
    "skewness = checkSkewness(all_data)"
   ]
  },
  {
   "cell_type": "raw",
   "metadata": {
    "_uuid": "5e0df80f8b19dc329076ec5bfea93239c1575251"
   },
   "source": [
    "for column in skewness.index[:5]:\n",
    "    print(column)\n",
    "    plt.subplots(figsize=(12,9))\n",
    "    sns.distplot(all_data[column], fit=norm)\n",
    "    plt.show()\n",
    "    print(\"skewness: \", skewness.loc[column, \"Skew\"])\n",
    "    print(all_data[column].value_counts())"
   ]
  },
  {
   "cell_type": "raw",
   "metadata": {
    "_uuid": "3b1dfcb49c35f9f2ed3147bac4fd8f47c6d28cb7"
   },
   "source": [
    "for column in skewness.index[-10:]:\n",
    "    print(\"column: \", column)\n",
    "    plt.subplots(figsize=(12,9))\n",
    "    sns.distplot(all_data[column], fit=norm)\n",
    "    plt.show()\n",
    "    print(all_data[column].value_counts())"
   ]
  },
  {
   "cell_type": "code",
   "execution_count": null,
   "metadata": {
    "_uuid": "41237f7acd6ad78d2483b82a102805592c2717f0",
    "collapsed": true
   },
   "outputs": [],
   "source": []
  },
  {
   "cell_type": "raw",
   "metadata": {
    "_uuid": "a3abea0303439e945a19c30d7afcd45ce8f770d6"
   },
   "source": [
    "## find boolean feature"
   ]
  },
  {
   "cell_type": "raw",
   "metadata": {
    "_uuid": "edab56e3add995549258984a237b34b7109184db"
   },
   "source": [
    "checkValueCounts(all_data)"
   ]
  },
  {
   "cell_type": "code",
   "execution_count": null,
   "metadata": {
    "_uuid": "f0cf2084bec126ea545cc19d8218dac83b44a41b",
    "collapsed": true
   },
   "outputs": [],
   "source": []
  },
  {
   "cell_type": "markdown",
   "metadata": {
    "_uuid": "971f54c3900d307e78bfa23f48685d0ff90a1835"
   },
   "source": [
    "## Box Cox Transformation of (highly) skewed features\n",
    "\n"
   ]
  },
  {
   "cell_type": "raw",
   "metadata": {
    "_uuid": "5c9305406e4b1a655bb55f05bcfa56d9b585e0c1"
   },
   "source": [
    "all_data.head()"
   ]
  },
  {
   "cell_type": "code",
   "execution_count": 113,
   "metadata": {
    "_uuid": "dc2f7ab0966280465ae8c6727e929c42189668c9",
    "collapsed": true
   },
   "outputs": [
    {
     "name": "stdout",
     "output_type": "stream",
     "text": [
      "feature num 4732\n",
      "skewed feature number: 4732\n"
     ]
    }
   ],
   "source": [
    "skewnessBig = skewness[abs(skewness) > 0.75]\n",
    "print(\"feature num {}\\nskewed feature number: {}\".format(skewness.shape[0], \n",
    "                                                         skewnessBig.shape[0]))\n",
    "\n",
    "from scipy.special import boxcox1p\n",
    "\n",
    "skewed_features = skewnessBig.index\n",
    "lam = 0.15\n",
    "for feat in skewed_features:\n",
    "    all_data[feat] = boxcox1p(all_data[feat], lam)\n"
   ]
  },
  {
   "cell_type": "raw",
   "metadata": {
    "_uuid": "96063ed3f5574f368f3eae0af3b6728fa8a6bbde"
   },
   "source": [
    "all_data.head()"
   ]
  },
  {
   "cell_type": "code",
   "execution_count": 114,
   "metadata": {
    "_uuid": "2fea1d856a376a625b24b20c4fd27b813e1aabf9",
    "collapsed": true,
    "scrolled": true
   },
   "outputs": [
    {
     "data": {
      "text/plain": [
       "76c1e9617    20.916623\n",
       "770d3a11c    20.809959\n",
       "969d32625    20.743804\n",
       "73a32cd05    20.653370\n",
       "ae82c2c99    20.505281\n",
       "d0e4129cb    20.486538\n",
       "5a1183b8c    20.398902\n",
       "1b6c8debf    20.355429\n",
       "f30ab5791    20.321998\n",
       "f9a30f20a    20.250894\n",
       "05d95861b    20.139686\n",
       "eeae7ad90    20.084553\n",
       "f66c58ca7    20.067168\n",
       "47d17d395    20.065222\n",
       "2f0771a37    20.063393\n",
       "59de861ff    20.055486\n",
       "2ce7f870e    20.051543\n",
       "7cc424ffd    20.036406\n",
       "a77d3eb03    20.020546\n",
       "8c00634d1    20.008166\n",
       "8d57e2749    19.982841\n",
       "1b48a4b5b    19.976724\n",
       "38a5a3497    19.952202\n",
       "0c5eaf8a7    19.914078\n",
       "96fec9b38    19.910162\n",
       "c6d27ddbb    19.870155\n",
       "bacadce94    19.858987\n",
       "de23dceb1    19.847348\n",
       "f49c1d119    19.829011\n",
       "cf6038b0f    19.825276\n",
       "               ...    \n",
       "e176a204a     2.421524\n",
       "70feb1494     2.394977\n",
       "1931ccfdd     2.392523\n",
       "703885424     2.364293\n",
       "26fc93eb7     2.356486\n",
       "963a49cdc     2.344261\n",
       "5c6487af1     2.320992\n",
       "66ace2992     2.317843\n",
       "f74e8f13d     2.310005\n",
       "241f0f867     2.294695\n",
       "2ec5b290f     2.285333\n",
       "fb49e4212     2.279526\n",
       "62e59a501     2.278538\n",
       "d6bb78916     2.258060\n",
       "b43a7cfd5     2.252335\n",
       "324921c7b     2.250519\n",
       "58232a6fb     2.249385\n",
       "1702b5bf0     2.241272\n",
       "024c577b9     2.235238\n",
       "58e056e12     2.214082\n",
       "20aa07010     2.190442\n",
       "fb0f5dbfe     2.172095\n",
       "6eef030c1     2.167906\n",
       "15ace8c9f     2.167066\n",
       "9fd594eec     2.135531\n",
       "58e2e02e6     2.133853\n",
       "eeb9cd3aa     2.132216\n",
       "f190486d6     2.079078\n",
       "SumValues     0.309491\n",
       "SumZeros     -5.453644\n",
       "Length: 4732, dtype: float64"
      ]
     },
     "execution_count": 114,
     "metadata": {},
     "output_type": "execute_result"
    }
   ],
   "source": [
    "all_data.apply(\n",
    "    lambda x: skew(x.dropna())).sort_values(ascending=False)"
   ]
  },
  {
   "cell_type": "raw",
   "metadata": {
    "_uuid": "202061d4237529ea7ccbb15894ba72d5872723ac"
   },
   "source": [
    "checkValueCounts(all_data)"
   ]
  },
  {
   "cell_type": "raw",
   "metadata": {
    "_uuid": "894f3cdff38473217f8fc25456246703966b239f"
   },
   "source": [
    "all_data.iloc[0, :].value_counts()"
   ]
  },
  {
   "cell_type": "code",
   "execution_count": null,
   "metadata": {
    "_uuid": "7657911f5840322ed71b399ea606546b9ab4b492",
    "collapsed": true
   },
   "outputs": [],
   "source": []
  },
  {
   "cell_type": "markdown",
   "metadata": {
    "_uuid": "7e2e44436d22047d10a5541c43522d776fb4149a"
   },
   "source": [
    "----\n",
    "\n",
    "# prepare train/test data"
   ]
  },
  {
   "cell_type": "raw",
   "metadata": {
    "_uuid": "bc3f53667d5c5d2e3ac2705368e78250b12a4980"
   },
   "source": [
    "train_df.head()"
   ]
  },
  {
   "cell_type": "code",
   "execution_count": 115,
   "metadata": {
    "_uuid": "c3055e82371f8e706524ae3cd18d4c0e626110bb",
    "collapsed": true
   },
   "outputs": [],
   "source": [
    "id_train_df, y_train_df, X_train_df = splitToIdTargetFeatures(train_df,\n",
    "                                                              id_name=\"ID\",\n",
    "                                                              target_name=\"target\")"
   ]
  },
  {
   "cell_type": "code",
   "execution_count": 116,
   "metadata": {
    "_uuid": "4366e9d46021cb516bf8c07652f98c3d7addbd53",
    "collapsed": true,
    "scrolled": true
   },
   "outputs": [
    {
     "name": "stdout",
     "output_type": "stream",
     "text": [
      "0    000d6aaf2\n",
      "1    000fbd867\n",
      "2    0027d6b71\n",
      "3    0028cbf45\n",
      "4    002a68644\n",
      "Name: ID, dtype: object\n",
      "0    17.453097\n",
      "1    13.304687\n",
      "2    16.118096\n",
      "3    14.508658\n",
      "4    16.482739\n",
      "Name: target, dtype: float64\n",
      "   SumValues  SumZeros  48df886f9  0deb4b6a8  34b15f335  a8cb14b00  2f0771a37  \\\n",
      "0        103      4889        0.0          0        0.0          0          0   \n",
      "1         68      4924        0.0          0        0.0          0          0   \n",
      "2         19      4973        0.0          0        0.0          0          0   \n",
      "3         23      4969        0.0          0        0.0          0          0   \n",
      "4         27      4965        0.0          0        0.0          0          0   \n",
      "\n",
      "   30347e683  d08d1fbe3  6ee66e115    ...      3ecc09859  9281abeea  \\\n",
      "0          0          0          0    ...            0.0        0.0   \n",
      "1          0          0          0    ...            0.0        0.0   \n",
      "2          0          0          0    ...            0.0        0.0   \n",
      "3          0          0          0    ...            0.0        0.0   \n",
      "4          0          0          0    ...            0.0        0.0   \n",
      "\n",
      "   8675bec0b  3a13ed79a  f677d4d13  71b203550  137efaa80  fb36b89d9  \\\n",
      "0        0.0          0          0          0          0          0   \n",
      "1        0.0          0          0          0          0          0   \n",
      "2        0.0          0          0          0          0          0   \n",
      "3        0.0          0          0          0          0          0   \n",
      "4        0.0          0          0          0          0          0   \n",
      "\n",
      "   7e293fbaf  9fc776466  \n",
      "0          0          0  \n",
      "1          0          0  \n",
      "2          0          0  \n",
      "3          0          0  \n",
      "4          0          0  \n",
      "\n",
      "[5 rows x 4732 columns]\n"
     ]
    }
   ],
   "source": [
    "print(id_train_df.head())\n",
    "print(y_train_df.head())\n",
    "print(X_train_df.head())"
   ]
  },
  {
   "cell_type": "code",
   "execution_count": 117,
   "metadata": {
    "_uuid": "85e096919e504df779736dece2ccc86a9139b69a",
    "collapsed": true
   },
   "outputs": [
    {
     "name": "stdout",
     "output_type": "stream",
     "text": [
      "train/test data shape (2987, 4732) (1472, 4732)\n"
     ]
    }
   ],
   "source": [
    "X_train, X_test, y_train, y_test = train_test_split(\n",
    "    X_train_df, y_train_df, \n",
    "    test_size=0.33, random_state=42)\n",
    "print(\"train/test data shape\", X_train.shape, X_test.shape)\n"
   ]
  },
  {
   "cell_type": "raw",
   "metadata": {
    "_uuid": "834e43e9a1a54145c8d956dedfff715ee443c787"
   },
   "source": [
    "X_train_df.head()"
   ]
  },
  {
   "cell_type": "code",
   "execution_count": 118,
   "metadata": {
    "_uuid": "4e852449566448da5728214b012a38d8eefbffd9",
    "collapsed": true
   },
   "outputs": [],
   "source": [
    "id_test_df = test_df[\"ID\"]\n",
    "test_df.drop([\"ID\"], axis=1, inplace=True)"
   ]
  },
  {
   "cell_type": "code",
   "execution_count": 119,
   "metadata": {
    "_uuid": "dea939dff01ec1c050cfb25f6bdb54934c9fc1d1",
    "collapsed": true,
    "scrolled": true
   },
   "outputs": [
    {
     "data": {
      "text/html": [
       "<div>\n",
       "<style scoped>\n",
       "    .dataframe tbody tr th:only-of-type {\n",
       "        vertical-align: middle;\n",
       "    }\n",
       "\n",
       "    .dataframe tbody tr th {\n",
       "        vertical-align: top;\n",
       "    }\n",
       "\n",
       "    .dataframe thead th {\n",
       "        text-align: right;\n",
       "    }\n",
       "</style>\n",
       "<table border=\"1\" class=\"dataframe\">\n",
       "  <thead>\n",
       "    <tr style=\"text-align: right;\">\n",
       "      <th></th>\n",
       "      <th>SumValues</th>\n",
       "      <th>SumZeros</th>\n",
       "      <th>48df886f9</th>\n",
       "      <th>0deb4b6a8</th>\n",
       "      <th>34b15f335</th>\n",
       "      <th>a8cb14b00</th>\n",
       "      <th>2f0771a37</th>\n",
       "      <th>30347e683</th>\n",
       "      <th>d08d1fbe3</th>\n",
       "      <th>6ee66e115</th>\n",
       "      <th>...</th>\n",
       "      <th>3ecc09859</th>\n",
       "      <th>9281abeea</th>\n",
       "      <th>8675bec0b</th>\n",
       "      <th>3a13ed79a</th>\n",
       "      <th>f677d4d13</th>\n",
       "      <th>71b203550</th>\n",
       "      <th>137efaa80</th>\n",
       "      <th>fb36b89d9</th>\n",
       "      <th>7e293fbaf</th>\n",
       "      <th>9fc776466</th>\n",
       "    </tr>\n",
       "  </thead>\n",
       "  <tbody>\n",
       "    <tr>\n",
       "      <th>0</th>\n",
       "      <td>79</td>\n",
       "      <td>4913</td>\n",
       "      <td>0.0</td>\n",
       "      <td>0.0</td>\n",
       "      <td>0.0</td>\n",
       "      <td>0.0</td>\n",
       "      <td>0.0</td>\n",
       "      <td>0.0</td>\n",
       "      <td>0.0</td>\n",
       "      <td>0.0</td>\n",
       "      <td>...</td>\n",
       "      <td>0.0</td>\n",
       "      <td>0.0</td>\n",
       "      <td>0.0</td>\n",
       "      <td>0.0</td>\n",
       "      <td>0.0</td>\n",
       "      <td>0.0</td>\n",
       "      <td>0.0</td>\n",
       "      <td>0.0</td>\n",
       "      <td>0.0</td>\n",
       "      <td>0.0</td>\n",
       "    </tr>\n",
       "    <tr>\n",
       "      <th>1</th>\n",
       "      <td>13</td>\n",
       "      <td>4979</td>\n",
       "      <td>0.0</td>\n",
       "      <td>0.0</td>\n",
       "      <td>0.0</td>\n",
       "      <td>0.0</td>\n",
       "      <td>0.0</td>\n",
       "      <td>0.0</td>\n",
       "      <td>0.0</td>\n",
       "      <td>0.0</td>\n",
       "      <td>...</td>\n",
       "      <td>0.0</td>\n",
       "      <td>0.0</td>\n",
       "      <td>0.0</td>\n",
       "      <td>0.0</td>\n",
       "      <td>0.0</td>\n",
       "      <td>0.0</td>\n",
       "      <td>0.0</td>\n",
       "      <td>0.0</td>\n",
       "      <td>0.0</td>\n",
       "      <td>0.0</td>\n",
       "    </tr>\n",
       "    <tr>\n",
       "      <th>2</th>\n",
       "      <td>100</td>\n",
       "      <td>4892</td>\n",
       "      <td>0.0</td>\n",
       "      <td>0.0</td>\n",
       "      <td>0.0</td>\n",
       "      <td>0.0</td>\n",
       "      <td>0.0</td>\n",
       "      <td>0.0</td>\n",
       "      <td>0.0</td>\n",
       "      <td>0.0</td>\n",
       "      <td>...</td>\n",
       "      <td>0.0</td>\n",
       "      <td>0.0</td>\n",
       "      <td>0.0</td>\n",
       "      <td>0.0</td>\n",
       "      <td>0.0</td>\n",
       "      <td>0.0</td>\n",
       "      <td>0.0</td>\n",
       "      <td>0.0</td>\n",
       "      <td>0.0</td>\n",
       "      <td>0.0</td>\n",
       "    </tr>\n",
       "    <tr>\n",
       "      <th>3</th>\n",
       "      <td>121</td>\n",
       "      <td>4871</td>\n",
       "      <td>0.0</td>\n",
       "      <td>0.0</td>\n",
       "      <td>0.0</td>\n",
       "      <td>0.0</td>\n",
       "      <td>0.0</td>\n",
       "      <td>0.0</td>\n",
       "      <td>0.0</td>\n",
       "      <td>0.0</td>\n",
       "      <td>...</td>\n",
       "      <td>0.0</td>\n",
       "      <td>0.0</td>\n",
       "      <td>0.0</td>\n",
       "      <td>0.0</td>\n",
       "      <td>0.0</td>\n",
       "      <td>0.0</td>\n",
       "      <td>0.0</td>\n",
       "      <td>0.0</td>\n",
       "      <td>0.0</td>\n",
       "      <td>0.0</td>\n",
       "    </tr>\n",
       "    <tr>\n",
       "      <th>4</th>\n",
       "      <td>9</td>\n",
       "      <td>4983</td>\n",
       "      <td>0.0</td>\n",
       "      <td>0.0</td>\n",
       "      <td>0.0</td>\n",
       "      <td>0.0</td>\n",
       "      <td>0.0</td>\n",
       "      <td>0.0</td>\n",
       "      <td>0.0</td>\n",
       "      <td>0.0</td>\n",
       "      <td>...</td>\n",
       "      <td>0.0</td>\n",
       "      <td>0.0</td>\n",
       "      <td>0.0</td>\n",
       "      <td>0.0</td>\n",
       "      <td>0.0</td>\n",
       "      <td>0.0</td>\n",
       "      <td>0.0</td>\n",
       "      <td>0.0</td>\n",
       "      <td>0.0</td>\n",
       "      <td>0.0</td>\n",
       "    </tr>\n",
       "  </tbody>\n",
       "</table>\n",
       "<p>5 rows × 4732 columns</p>\n",
       "</div>"
      ],
      "text/plain": [
       "   SumValues  SumZeros  48df886f9  0deb4b6a8  34b15f335  a8cb14b00  2f0771a37  \\\n",
       "0         79      4913        0.0        0.0        0.0        0.0        0.0   \n",
       "1         13      4979        0.0        0.0        0.0        0.0        0.0   \n",
       "2        100      4892        0.0        0.0        0.0        0.0        0.0   \n",
       "3        121      4871        0.0        0.0        0.0        0.0        0.0   \n",
       "4          9      4983        0.0        0.0        0.0        0.0        0.0   \n",
       "\n",
       "   30347e683  d08d1fbe3  6ee66e115    ...      3ecc09859  9281abeea  \\\n",
       "0        0.0        0.0        0.0    ...            0.0        0.0   \n",
       "1        0.0        0.0        0.0    ...            0.0        0.0   \n",
       "2        0.0        0.0        0.0    ...            0.0        0.0   \n",
       "3        0.0        0.0        0.0    ...            0.0        0.0   \n",
       "4        0.0        0.0        0.0    ...            0.0        0.0   \n",
       "\n",
       "   8675bec0b  3a13ed79a  f677d4d13  71b203550  137efaa80  fb36b89d9  \\\n",
       "0        0.0        0.0        0.0        0.0        0.0        0.0   \n",
       "1        0.0        0.0        0.0        0.0        0.0        0.0   \n",
       "2        0.0        0.0        0.0        0.0        0.0        0.0   \n",
       "3        0.0        0.0        0.0        0.0        0.0        0.0   \n",
       "4        0.0        0.0        0.0        0.0        0.0        0.0   \n",
       "\n",
       "   7e293fbaf  9fc776466  \n",
       "0        0.0        0.0  \n",
       "1        0.0        0.0  \n",
       "2        0.0        0.0  \n",
       "3        0.0        0.0  \n",
       "4        0.0        0.0  \n",
       "\n",
       "[5 rows x 4732 columns]"
      ]
     },
     "execution_count": 119,
     "metadata": {},
     "output_type": "execute_result"
    }
   ],
   "source": [
    "test_df.head()"
   ]
  },
  {
   "cell_type": "code",
   "execution_count": 120,
   "metadata": {
    "_uuid": "009467eb6a25fc9c5c568e0118f9e5ea668d3ad1",
    "collapsed": true
   },
   "outputs": [
    {
     "data": {
      "text/plain": [
       "0    000137c73\n",
       "1    00021489f\n",
       "2    0004d7953\n",
       "3    00056a333\n",
       "4    00056d8eb\n",
       "Name: ID, dtype: object"
      ]
     },
     "execution_count": 120,
     "metadata": {},
     "output_type": "execute_result"
    }
   ],
   "source": [
    "id_test_df.head()"
   ]
  },
  {
   "cell_type": "code",
   "execution_count": null,
   "metadata": {
    "_uuid": "8375bf41d4c9e6fbac856a732019a95e1c4bd741",
    "collapsed": true
   },
   "outputs": [],
   "source": []
  },
  {
   "cell_type": "markdown",
   "metadata": {
    "_uuid": "b19b65be531e8af2ed1e207a9cac73bdd88d2329"
   },
   "source": [
    "# base model"
   ]
  },
  {
   "cell_type": "code",
   "execution_count": 68,
   "metadata": {
    "_uuid": "6e0cfa1e4ce49b26d3a4a15046ef4fc984907876",
    "collapsed": true
   },
   "outputs": [],
   "source": [
    "from sklearn.pipeline import make_pipeline\n",
    "from sklearn.preprocessing import RobustScaler\n",
    "\n",
    "from sklearn.decomposition import PCA\n",
    "from sklearn.decomposition import TruncatedSVD\n",
    "from sklearn.decomposition import NMF\n",
    "from sklearn.manifold import TSNE\n",
    "\n",
    "from hyperopt import hp, tpe, Trials, fmin\n",
    "\n",
    "from sklearn.svm import SVR\n",
    "from sklearn.linear_model import ElasticNet\n",
    "from sklearn.linear_model import Lasso\n",
    "from sklearn.kernel_ridge import KernelRidge\n",
    "from sklearn.neighbors import KNeighborsRegressor\n",
    "from sklearn.ensemble import BaggingRegressor\n",
    "from sklearn.tree import DecisionTreeRegressor\n",
    "\n",
    "from sklearn.ensemble import RandomForestRegressor\n",
    "from sklearn.ensemble import GradientBoostingRegressor\n",
    "\n",
    "\n",
    "\n",
    "import lightgbm as lgb\n",
    "from lightgbm import LGBMRegressor\n",
    "\n",
    "from mlxtend.regressor import StackingRegressor"
   ]
  },
  {
   "cell_type": "code",
   "execution_count": 69,
   "metadata": {},
   "outputs": [],
   "source": [
    "import xgboost as xgb\n",
    "from xgboost import XGBRegressor"
   ]
  },
  {
   "cell_type": "markdown",
   "metadata": {
    "_uuid": "6b6b2e6579c7401f3ed54e3c987c9924d7c95d7f"
   },
   "source": [
    "## Defined find best parameter function by hyperopt module"
   ]
  },
  {
   "cell_type": "markdown",
   "metadata": {
    "_uuid": "7026026a95cb3183b19b9140337027346b12527d"
   },
   "source": [
    "### give model for hyperopt my funcs"
   ]
  },
  {
   "cell_type": "raw",
   "metadata": {},
   "source": [
    "def rmsle_func(ground_truth, predictions):\n",
    "    diff = np.abs(ground_truth - predictions).max()\n",
    "    return np.log(1 + diff)\n",
    "\n",
    "loss  = make_scorer(my_custom_loss_func, greater_is_better=False)"
   ]
  },
  {
   "cell_type": "code",
   "execution_count": 82,
   "metadata": {
    "_uuid": "ae6711d01a4e2e031c3b0d5200a7da8268f1f8ad",
    "code_folding": [],
    "collapsed": true
   },
   "outputs": [],
   "source": [
    "count_hyperopt = 0\n",
    "\n",
    "def hyperopt_objective(model, X_train, y_train, scoring=\"neg_mean_squared_error\", cv_size=5, n_jobs=3):\n",
    "    \"\"\"return objective function for hyperopt\"\"\"\n",
    "\n",
    "    def objective(args):\n",
    "        global count_hyperopt\n",
    "        print(\"Trial \", count_hyperopt, \", Params \", args, \" -> \", end=\"\")\n",
    "        \n",
    "#        print(model.steps[-1])\n",
    "        model.steps[-1][1].set_params(**args)\n",
    "\n",
    "        score = cross_val_score(model, X_train, y_train, scoring=scoring, cv=cv_size, n_jobs=n_jobs)\n",
    "        #print(score, end=\"\")\n",
    "        \n",
    "        mean_score = np.sqrt(-score.mean())\n",
    "        \n",
    "        print(\"Done. Score : \", mean_score)\n",
    "        count_hyperopt += 1\n",
    "  \n",
    "        return mean_score\n",
    "\n",
    "    return objective\n",
    "\n",
    "\n",
    "\n",
    "\n",
    "\n",
    "def searchHyperParam(model, par_space, X_train, y_train, scoring=\"r2\", max_evals=100, cv_size=5, n_jobs=3):\n",
    "    \"\"\"search hyper parameter of a selected model\"\"\"\n",
    "\n",
    "    \n",
    "    global count_hyperopt\n",
    "    count_hyperopt = 0\n",
    "    \n",
    "    objective = hyperopt_objective(model, X_train, y_train, scoring=scoring, cv_size=cv_size, n_jobs=n_jobs)\n",
    "    \n",
    "    #best_params = findBestParm(objective, par_space, X_train, y_train, scoring=scoring, max_evals=max_evals)\n",
    "\n",
    "    trials = Trials()\n",
    "\n",
    "    best = fmin(\n",
    "        objective, \n",
    "        par_space, # 探索するパラメータのdictもしくはlist\n",
    "        algo=tpe.suggest, # どのロジックを利用するか、基本的にはtpe.suggestでok\n",
    "        max_evals=max_evals,\n",
    "        trials=trials,\n",
    "        #verbose=1\n",
    "    )\n",
    "    print(\"best par: \", best)\n",
    "    print(\"best trial: \", trials.best_trial[\"result\"])\n",
    "    #print(\"trials losses: \", trials.losses())\n",
    "\n",
    "    count_hyperopt = 0\n",
    "    \n",
    "    return best\n",
    "\n",
    "\n",
    "def evalModelByCV(model, X_train, y_train, scoring=\"neg_mean_squared_error\"):\n",
    "    \"\"\"evaluate model by cross validation\"\"\"\n",
    "    \n",
    "    score = cross_val_score(model, X_train, y_train, scoring=scoring, cv=5)\n",
    "\n",
    "    print(\"model score: {:f} ({:f})\\n\" .format(\n",
    "        np.sqrt(-score.mean()), np.sqrt(score.std())))\n",
    "    print(\"all scores: \", np.sqrt(-score))\n",
    "\n",
    "    \n",
    "def plot_my_learning_curves(X_train, y_train, X_test, y_test, model, scoring=\"neg_mean_squared_error\", cv=5, n_jobs=3):\n",
    "    \"\"\"plot learning curves by mlxtend and my func my_plot_learning_curve()\"\"\"\n",
    "    plot_learning_curves(X_train, y_train, X_test, y_test, \n",
    "                     model, scoring=scoring)\n",
    "    plt.show()\n",
    "    \n",
    "    title = \"Learning Curves\"\n",
    "    my_plot_learning_curve(model, title, \n",
    "                        X_train, y_train,\n",
    "                        #ylim=(0.7, 1.01), \n",
    "                        cv=cv, scoring=scoring,\n",
    "                        n_jobs=n_jobs)\n",
    "    plt.show()\n",
    "\n",
    "    \n",
    "    "
   ]
  },
  {
   "cell_type": "raw",
   "metadata": {
    "_uuid": "67042ec2fc150b4cdf42a4855af9f62fef8dd62b"
   },
   "source": []
  },
  {
   "cell_type": "raw",
   "metadata": {
    "_uuid": "564ded076ca634ce737e9d114761a3bd5eddcab1"
   },
   "source": [
    "Finally, I found why the svr doesn't finish.\n",
    "Here is the output just before the stop.\n",
    "\n",
    "Trial  0 , Params  {'C': 0.015601187011911637, 'epsilon': 0.5516972232183148, 'gamma': 0.06236609322180074, 'kernel': 'rbf'}  -> Done\n",
    "Trial  1 , Params  {'C': 0.7244447849579089, 'epsilon': 1.358464177771488, 'gamma': 0.7165688120262619, 'kernel': 'sigmoid'}  -> Done\n",
    "Trial  2 , Params  {'C': 0.006556279706811856, 'epsilon': 0.1067903873366066, 'gamma': 0.0005180756828484195, 'kernel': 'poly'}  -> \n",
    "\n",
    "The 'poly' kernel was used. Because of that, the parameters increased dramatically.\n",
    "In this time, better not to use poly.\n",
    "Of course, this param trial can be finished, I watched it. But better to not use.\n",
    "\n"
   ]
  },
  {
   "cell_type": "raw",
   "metadata": {
    "_uuid": "0242121ad452c0dba819d13a90e238d86e95daf7"
   },
   "source": [
    "raise Exception()"
   ]
  },
  {
   "cell_type": "markdown",
   "metadata": {
    "_uuid": "70e5733edd035eb317195a79c244d29b2a05d901"
   },
   "source": [
    "## Def hyperopt param"
   ]
  },
  {
   "cell_type": "code",
   "execution_count": 72,
   "metadata": {
    "_uuid": "fce6dcf503b79b3b34fd2a9d60c65497e528be43",
    "collapsed": true
   },
   "outputs": [],
   "source": [
    "cv_size = 5\n",
    "#max_evals = 100\n",
    "max_evals = 100\n",
    "n_jobs = 1"
   ]
  },
  {
   "cell_type": "raw",
   "metadata": {
    "_uuid": "a3a62da8ed38e13b5f300f646f66dda3d997b8aa"
   },
   "source": [
    "raise Exception(\"Just to stop execution\")"
   ]
  },
  {
   "cell_type": "markdown",
   "metadata": {
    "_uuid": "9dc9666722289d95b04670ed2adfa3384d0b211d"
   },
   "source": [
    "## SVR"
   ]
  },
  {
   "cell_type": "code",
   "execution_count": 128,
   "metadata": {
    "_uuid": "b9e465213020cda8a81698dc13ff83c0eab2d48b",
    "collapsed": true
   },
   "outputs": [],
   "source": [
    "svr = make_pipeline(\n",
    "#    PCA(n_components=0.95),\n",
    "    PCA(n_components=0.80),\n",
    "#    NMF(n_components=100),\n",
    "#    TruncatedSVD(n_components=390),\n",
    "#    TruncatedSVD(n_components=100),\n",
    "    \n",
    "    RobustScaler(),\n",
    "    SVR()\n",
    "\n",
    ")\n",
    "\n",
    "kernel_list = [\n",
    "    'rbf',\n",
    "#    'poly',\n",
    "    'sigmoid']\n",
    "par_space = {\n",
    "    'C':hp.loguniform('C', -8, 2),\n",
    "    'gamma':hp.loguniform('gamma', -8, 2),\n",
    "    'epsilon':hp.loguniform('epsilon', -8, 2),\n",
    "    'kernel':hp.choice('kernel', kernel_list)\n",
    "}\n"
   ]
  },
  {
   "cell_type": "code",
   "execution_count": 131,
   "metadata": {
    "_uuid": "5f8356d746d019774ebc641851280e135a8c99bb",
    "collapsed": true,
    "scrolled": true
   },
   "outputs": [
    {
     "name": "stdout",
     "output_type": "stream",
     "text": [
      "Trial  0 , Params  {'C': 0.6794066224258608, 'epsilon': 1.5491535040310338, 'gamma': 0.03270518052809234, 'kernel': 'rbf'}  -> Done. Score :  1.6676846555881206\n",
      "Trial  1 , Params  {'C': 2.2179431996413643, 'epsilon': 0.001884757498512622, 'gamma': 0.06952742977221454, 'kernel': 'rbf'}  -> Done. Score :  1.662874027692422\n",
      "Trial  2 , Params  {'C': 0.0040446085527191256, 'epsilon': 4.350937387723153, 'gamma': 0.550018102445849, 'kernel': 'sigmoid'}  -> Done. Score :  1.8481928233030267\n",
      "Trial  3 , Params  {'C': 0.00035199930443301653, 'epsilon': 4.775700499494674, 'gamma': 5.61322617049704, 'kernel': 'rbf'}  -> Done. Score :  1.8481928233030267\n",
      "Trial  4 , Params  {'C': 0.0008217013839487398, 'epsilon': 0.0682363768429789, 'gamma': 0.08715889279028245, 'kernel': 'sigmoid'}  -> Done. Score :  1.7325094668475758\n",
      "Trial  5 , Params  {'C': 0.014577138822770466, 'epsilon': 0.8545665595526436, 'gamma': 0.582492099011849, 'kernel': 'sigmoid'}  -> Done. Score :  2.9600780952711534\n",
      "Trial  6 , Params  {'C': 0.46803455759727186, 'epsilon': 0.03207337620577418, 'gamma': 5.2050989530896405, 'kernel': 'sigmoid'}  -> Done. Score :  100.91292444197151\n",
      "Trial  7 , Params  {'C': 0.0012558726446724392, 'epsilon': 0.24341440460980823, 'gamma': 0.000770607065147638, 'kernel': 'rbf'}  -> Done. Score :  1.7541949355458266\n",
      "Trial  8 , Params  {'C': 0.046234509432601475, 'epsilon': 5.139968186980861, 'gamma': 0.01220228934771405, 'kernel': 'sigmoid'}  -> Done. Score :  1.8481928233030267\n",
      "Trial  9 , Params  {'C': 4.915955509224259, 'epsilon': 1.2058883041194717, 'gamma': 0.0007887924891606019, 'kernel': 'rbf'}  -> Done. Score :  1.6383186391531066\n",
      "Trial  10 , Params  {'C': 0.045903887081868704, 'epsilon': 0.23742451686244403, 'gamma': 1.1723260952676786, 'kernel': 'rbf'}  -> Done. Score :  1.6776783352074744\n",
      "Trial  11 , Params  {'C': 0.6284513911410977, 'epsilon': 0.15275423103852961, 'gamma': 0.16427880157468028, 'kernel': 'sigmoid'}  -> Done. Score :  123.74535800941544\n",
      "Trial  12 , Params  {'C': 0.00519858205529182, 'epsilon': 0.0013097382976774167, 'gamma': 0.02252739026955085, 'kernel': 'rbf'}  -> Done. Score :  1.720201059616549\n",
      "Trial  13 , Params  {'C': 0.0006152603056735242, 'epsilon': 4.461303331684296, 'gamma': 0.000357574365477536, 'kernel': 'rbf'}  -> Done. Score :  1.8481928233030267\n",
      "Trial  14 , Params  {'C': 0.004106066247468261, 'epsilon': 0.15675087739297214, 'gamma': 0.004268747378998759, 'kernel': 'rbf'}  -> Done. Score :  1.7319869854679106\n",
      "Trial  15 , Params  {'C': 0.997442851245979, 'epsilon': 0.002766726639003739, 'gamma': 0.0012908710168561687, 'kernel': 'rbf'}  -> Done. Score :  1.6349564405207608\n",
      "Trial  16 , Params  {'C': 0.008316762663165878, 'epsilon': 2.851589024236663, 'gamma': 0.021002579812429444, 'kernel': 'sigmoid'}  -> Done. Score :  1.7710321306795613\n",
      "Trial  17 , Params  {'C': 0.023527224981115286, 'epsilon': 0.05272897342027778, 'gamma': 0.021244399063558576, 'kernel': 'sigmoid'}  -> Done. Score :  2.859154279947911\n",
      "Trial  18 , Params  {'C': 0.003106271156850059, 'epsilon': 0.006404776422400656, 'gamma': 0.646201211541409, 'kernel': 'sigmoid'}  -> Done. Score :  1.692141579257034\n",
      "Trial  19 , Params  {'C': 0.02328134441232992, 'epsilon': 0.05926963298761401, 'gamma': 0.0028640309452196196, 'kernel': 'sigmoid'}  -> Done. Score :  1.9392527839388471\n",
      "Trial  20 , Params  {'C': 5.935740733847542, 'epsilon': 0.0005399685856304947, 'gamma': 0.0011904609945554135, 'kernel': 'rbf'}  -> Done. Score :  1.6464549348045303\n",
      "Trial  21 , Params  {'C': 0.2128747768347763, 'epsilon': 0.007504957067363824, 'gamma': 0.00036410109409941996, 'kernel': 'rbf'}  -> Done. Score :  1.6812802769862558\n",
      "Trial  22 , Params  {'C': 7.2855302334015954, 'epsilon': 0.009099386691806035, 'gamma': 0.004978896871148584, 'kernel': 'rbf'}  -> Done. Score :  1.6604140883932557\n",
      "Trial  23 , Params  {'C': 2.750920236695114, 'epsilon': 0.7237779600869636, 'gamma': 0.0012369492814752624, 'kernel': 'rbf'}  -> Done. Score :  1.6270817059476235\n",
      "Trial  24 , Params  {'C': 1.8971225342559555, 'epsilon': 0.00041297361702213403, 'gamma': 0.0015639491368711438, 'kernel': 'rbf'}  -> Done. Score :  1.6360710018686015\n",
      "Trial  25 , Params  {'C': 0.20502582867312408, 'epsilon': 0.017712643742535034, 'gamma': 0.006956497724782273, 'kernel': 'rbf'}  -> Done. Score :  1.6712782558479744\n",
      "Trial  26 , Params  {'C': 1.7959022108724687, 'epsilon': 0.002068559273780043, 'gamma': 0.002020356581538851, 'kernel': 'rbf'}  -> Done. Score :  1.6353609261540953\n",
      "Trial  27 , Params  {'C': 0.16070179427468484, 'epsilon': 0.5970354607035322, 'gamma': 0.00039589118067901916, 'kernel': 'rbf'}  -> Done. Score :  1.6866946257886608\n",
      "Trial  28 , Params  {'C': 1.092990206062324, 'epsilon': 0.5938676261260988, 'gamma': 0.008761698521120501, 'kernel': 'rbf'}  -> Done. Score :  1.6414943283598917\n",
      "Trial  29 , Params  {'C': 0.08848936235983525, 'epsilon': 0.0006846145207457213, 'gamma': 0.0006793891061988711, 'kernel': 'rbf'}  -> Done. Score :  1.6950140223307966\n",
      "Trial  30 , Params  {'C': 3.1672121268676965, 'epsilon': 0.0032392934645279464, 'gamma': 0.039033482906751245, 'kernel': 'rbf'}  -> Done. Score :  1.660965657714863\n",
      "Trial  31 , Params  {'C': 0.42304464506566253, 'epsilon': 1.8520032682118082, 'gamma': 0.15830707550864914, 'kernel': 'rbf'}  -> Done. Score :  1.6669758772253573\n",
      "Trial  32 , Params  {'C': 1.0016112033177302, 'epsilon': 0.018979619705717703, 'gamma': 0.0033728281923246606, 'kernel': 'rbf'}  -> Done. Score :  1.6376310135786525\n",
      "Trial  33 , Params  {'C': 3.2768422502134986, 'epsilon': 0.00090470126883868, 'gamma': 0.06261617725458477, 'kernel': 'rbf'}  -> Done. Score :  1.662324367228876\n",
      "Trial  34 , Params  {'C': 0.11073251398538421, 'epsilon': 0.004182786481274697, 'gamma': 0.013124234036117495, 'kernel': 'rbf'}  -> Done. Score :  1.686663996403482\n",
      "Trial  35 , Params  {'C': 1.1487942557967954, 'epsilon': 0.11867290834121388, 'gamma': 0.0012455512172503285, 'kernel': 'rbf'}  -> Done. Score :  1.6341957843079664\n",
      "Trial  36 , Params  {'C': 0.302610358375884, 'epsilon': 0.10027875700773997, 'gamma': 0.0005516853734923205, 'kernel': 'rbf'}  -> Done. Score :  1.6639912346244699\n",
      "Trial  37 , Params  {'C': 3.507949527823256, 'epsilon': 0.2983744417194838, 'gamma': 0.12584817200893048, 'kernel': 'rbf'}  -> Done. Score :  1.6644591962771136\n",
      "Trial  38 , Params  {'C': 1.459441553727075, 'epsilon': 0.47699472074617366, 'gamma': 3.6278059087672814, 'kernel': 'rbf'}  -> Done. Score :  1.6666371586513904\n",
      "Trial  39 , Params  {'C': 7.387875097040728, 'epsilon': 2.0055121524919333, 'gamma': 0.0021935505345931808, 'kernel': 'rbf'}  -> Done. Score :  1.6597832149898513\n",
      "Trial  40 , Params  {'C': 0.49445353646306517, 'epsilon': 0.8856439893595777, 'gamma': 0.0009264347203758324, 'kernel': 'sigmoid'}  -> Done. Score :  21.30526554116258\n",
      "Trial  41 , Params  {'C': 0.06770960594267131, 'epsilon': 0.038942102486680445, 'gamma': 0.36974064399444095, 'kernel': 'rbf'}  -> Done. Score :  1.6739208407243833\n",
      "Trial  42 , Params  {'C': 0.7536964016259123, 'epsilon': 7.277141026157537, 'gamma': 0.00613910127259308, 'kernel': 'sigmoid'}  -> Done. Score :  1.8481928233030267\n",
      "Trial  43 , Params  {'C': 4.407475855742636, 'epsilon': 0.0992666359400799, 'gamma': 0.011580453191375158, 'kernel': 'rbf'}  -> Done. Score :  1.6523303761432644\n",
      "Trial  44 , Params  {'C': 0.3252673997411962, 'epsilon': 0.3800657205557943, 'gamma': 0.28328094125514697, 'kernel': 'rbf'}  -> Done. Score :  1.6685413768043436\n",
      "Trial  45 , Params  {'C': 2.44278869120796, 'epsilon': 0.02659332435336346, 'gamma': 0.03201019419658164, 'kernel': 'rbf'}  -> Done. Score :  1.6614385053995606\n",
      "Trial  46 , Params  {'C': 0.027544623153239616, 'epsilon': 0.17225589505125025, 'gamma': 0.0026231612615928396, 'kernel': 'sigmoid'}  -> Done. Score :  2.046437840655799\n",
      "Trial  47 , Params  {'C': 0.0016014050099613054, 'epsilon': 3.135821094824852, 'gamma': 0.0004315804998460919, 'kernel': 'rbf'}  -> Done. Score :  1.807203387669921\n",
      "Trial  48 , Params  {'C': 0.6988342909886305, 'epsilon': 1.2445968038730877, 'gamma': 0.08520042507665003, 'kernel': 'sigmoid'}  -> Done. Score :  126.70278412897908\n",
      "Trial  49 , Params  {'C': 0.010105103078307986, 'epsilon': 0.1097416419365485, 'gamma': 0.9511956792033495, 'kernel': 'rbf'}  -> Done. Score :  1.6939791180530321\n",
      "Trial  50 , Params  {'C': 0.1178524156603628, 'epsilon': 6.509585937665517, 'gamma': 2.3652973457493887, 'kernel': 'rbf'}  -> Done. Score :  1.8481928233030267\n",
      "Trial  51 , Params  {'C': 0.05235359148031272, 'epsilon': 0.22030403928051376, 'gamma': 0.0010117123838011824, 'kernel': 'sigmoid'}  -> Done. Score :  2.361560887211867\n",
      "Trial  52 , Params  {'C': 1.3827922960014896, 'epsilon': 0.9467893084555643, 'gamma': 0.0016575333565070276, 'kernel': 'rbf'}  -> Done. Score :  1.623484236154724\n",
      "Trial  53 , Params  {'C': 4.996330711132692, 'epsilon': 3.6229734968557525, 'gamma': 0.0041570493985251394, 'kernel': 'rbf'}  -> Done. Score :  1.8481928233030267\n",
      "Trial  54 , Params  {'C': 0.0004921542580650051, 'epsilon': 0.971623460334566, 'gamma': 0.014568315226817122, 'kernel': 'rbf'}  -> Done. Score :  1.7489301578215288\n",
      "Trial  55 , Params  {'C': 2.4088446884178327, 'epsilon': 2.0792782852477663, 'gamma': 0.001967786544598781, 'kernel': 'sigmoid'}  -> Done. Score :  146.1729186999106\n",
      "Trial  56 , Params  {'C': 0.21773781959240213, 'epsilon': 5.2390117724423595, 'gamma': 0.0499153096254513, 'kernel': 'rbf'}  -> Done. Score :  1.8481928233030274\n",
      "Trial  57 , Params  {'C': 0.01534322867356415, 'epsilon': 0.0730850600340707, 'gamma': 0.0005917349356671891, 'kernel': 'rbf'}  -> Done. Score :  1.7224902038443743\n",
      "Trial  58 , Params  {'C': 0.03897314907317366, 'epsilon': 1.3780704126915138, 'gamma': 0.009647834030804853, 'kernel': 'sigmoid'}  -> Done. Score :  3.4759342728108313\n",
      "Trial  59 , Params  {'C': 1.3896610722601452, 'epsilon': 0.33738459983158203, 'gamma': 0.020979582222252553, 'kernel': 'rbf'}  -> Done. Score :  1.6570375792625096\n",
      "Trial  60 , Params  {'C': 6.619661426973321, 'epsilon': 0.012292752890681664, 'gamma': 0.0065518740871015006, 'kernel': 'rbf'}  -> "
     ]
    },
    {
     "ename": "KeyboardInterrupt",
     "evalue": "",
     "output_type": "error",
     "traceback": [
      "\u001b[0;31m---------------------------------------------------------------------------\u001b[0m",
      "\u001b[0;31mKeyboardInterrupt\u001b[0m                         Traceback (most recent call last)",
      "\u001b[0;32m<timed exec>\u001b[0m in \u001b[0;36m<module>\u001b[0;34m()\u001b[0m\n",
      "\u001b[0;32m<ipython-input-82-f0eebce2a568>\u001b[0m in \u001b[0;36msearchHyperParam\u001b[0;34m(model, par_space, X_train, y_train, scoring, max_evals, cv_size, n_jobs)\u001b[0m\n\u001b[1;32m     45\u001b[0m         \u001b[0malgo\u001b[0m\u001b[0;34m=\u001b[0m\u001b[0mtpe\u001b[0m\u001b[0;34m.\u001b[0m\u001b[0msuggest\u001b[0m\u001b[0;34m,\u001b[0m \u001b[0;31m# どのロジックを利用するか、基本的にはtpe.suggestでok\u001b[0m\u001b[0;34m\u001b[0m\u001b[0m\n\u001b[1;32m     46\u001b[0m         \u001b[0mmax_evals\u001b[0m\u001b[0;34m=\u001b[0m\u001b[0mmax_evals\u001b[0m\u001b[0;34m,\u001b[0m\u001b[0;34m\u001b[0m\u001b[0m\n\u001b[0;32m---> 47\u001b[0;31m         \u001b[0mtrials\u001b[0m\u001b[0;34m=\u001b[0m\u001b[0mtrials\u001b[0m\u001b[0;34m,\u001b[0m\u001b[0;34m\u001b[0m\u001b[0m\n\u001b[0m\u001b[1;32m     48\u001b[0m         \u001b[0;31m#verbose=1\u001b[0m\u001b[0;34m\u001b[0m\u001b[0;34m\u001b[0m\u001b[0m\n\u001b[1;32m     49\u001b[0m     )\n",
      "\u001b[0;32m~/anaconda3/lib/python3.6/site-packages/hyperopt/fmin.py\u001b[0m in \u001b[0;36mfmin\u001b[0;34m(fn, space, algo, max_evals, trials, rstate, allow_trials_fmin, pass_expr_memo_ctrl, catch_eval_exceptions, verbose, return_argmin)\u001b[0m\n\u001b[1;32m    305\u001b[0m             \u001b[0mverbose\u001b[0m\u001b[0;34m=\u001b[0m\u001b[0mverbose\u001b[0m\u001b[0;34m,\u001b[0m\u001b[0;34m\u001b[0m\u001b[0m\n\u001b[1;32m    306\u001b[0m             \u001b[0mcatch_eval_exceptions\u001b[0m\u001b[0;34m=\u001b[0m\u001b[0mcatch_eval_exceptions\u001b[0m\u001b[0;34m,\u001b[0m\u001b[0;34m\u001b[0m\u001b[0m\n\u001b[0;32m--> 307\u001b[0;31m             \u001b[0mreturn_argmin\u001b[0m\u001b[0;34m=\u001b[0m\u001b[0mreturn_argmin\u001b[0m\u001b[0;34m,\u001b[0m\u001b[0;34m\u001b[0m\u001b[0m\n\u001b[0m\u001b[1;32m    308\u001b[0m         )\n\u001b[1;32m    309\u001b[0m \u001b[0;34m\u001b[0m\u001b[0m\n",
      "\u001b[0;32m~/anaconda3/lib/python3.6/site-packages/hyperopt/base.py\u001b[0m in \u001b[0;36mfmin\u001b[0;34m(self, fn, space, algo, max_evals, rstate, verbose, pass_expr_memo_ctrl, catch_eval_exceptions, return_argmin)\u001b[0m\n\u001b[1;32m    633\u001b[0m             \u001b[0mpass_expr_memo_ctrl\u001b[0m\u001b[0;34m=\u001b[0m\u001b[0mpass_expr_memo_ctrl\u001b[0m\u001b[0;34m,\u001b[0m\u001b[0;34m\u001b[0m\u001b[0m\n\u001b[1;32m    634\u001b[0m             \u001b[0mcatch_eval_exceptions\u001b[0m\u001b[0;34m=\u001b[0m\u001b[0mcatch_eval_exceptions\u001b[0m\u001b[0;34m,\u001b[0m\u001b[0;34m\u001b[0m\u001b[0m\n\u001b[0;32m--> 635\u001b[0;31m             return_argmin=return_argmin)\n\u001b[0m\u001b[1;32m    636\u001b[0m \u001b[0;34m\u001b[0m\u001b[0m\n\u001b[1;32m    637\u001b[0m \u001b[0;34m\u001b[0m\u001b[0m\n",
      "\u001b[0;32m~/anaconda3/lib/python3.6/site-packages/hyperopt/fmin.py\u001b[0m in \u001b[0;36mfmin\u001b[0;34m(fn, space, algo, max_evals, trials, rstate, allow_trials_fmin, pass_expr_memo_ctrl, catch_eval_exceptions, verbose, return_argmin)\u001b[0m\n\u001b[1;32m    318\u001b[0m                     verbose=verbose)\n\u001b[1;32m    319\u001b[0m     \u001b[0mrval\u001b[0m\u001b[0;34m.\u001b[0m\u001b[0mcatch_eval_exceptions\u001b[0m \u001b[0;34m=\u001b[0m \u001b[0mcatch_eval_exceptions\u001b[0m\u001b[0;34m\u001b[0m\u001b[0m\n\u001b[0;32m--> 320\u001b[0;31m     \u001b[0mrval\u001b[0m\u001b[0;34m.\u001b[0m\u001b[0mexhaust\u001b[0m\u001b[0;34m(\u001b[0m\u001b[0;34m)\u001b[0m\u001b[0;34m\u001b[0m\u001b[0m\n\u001b[0m\u001b[1;32m    321\u001b[0m     \u001b[0;32mif\u001b[0m \u001b[0mreturn_argmin\u001b[0m\u001b[0;34m:\u001b[0m\u001b[0;34m\u001b[0m\u001b[0m\n\u001b[1;32m    322\u001b[0m         \u001b[0;32mreturn\u001b[0m \u001b[0mtrials\u001b[0m\u001b[0;34m.\u001b[0m\u001b[0margmin\u001b[0m\u001b[0;34m\u001b[0m\u001b[0m\n",
      "\u001b[0;32m~/anaconda3/lib/python3.6/site-packages/hyperopt/fmin.py\u001b[0m in \u001b[0;36mexhaust\u001b[0;34m(self)\u001b[0m\n\u001b[1;32m    197\u001b[0m     \u001b[0;32mdef\u001b[0m \u001b[0mexhaust\u001b[0m\u001b[0;34m(\u001b[0m\u001b[0mself\u001b[0m\u001b[0;34m)\u001b[0m\u001b[0;34m:\u001b[0m\u001b[0;34m\u001b[0m\u001b[0m\n\u001b[1;32m    198\u001b[0m         \u001b[0mn_done\u001b[0m \u001b[0;34m=\u001b[0m \u001b[0mlen\u001b[0m\u001b[0;34m(\u001b[0m\u001b[0mself\u001b[0m\u001b[0;34m.\u001b[0m\u001b[0mtrials\u001b[0m\u001b[0;34m)\u001b[0m\u001b[0;34m\u001b[0m\u001b[0m\n\u001b[0;32m--> 199\u001b[0;31m         \u001b[0mself\u001b[0m\u001b[0;34m.\u001b[0m\u001b[0mrun\u001b[0m\u001b[0;34m(\u001b[0m\u001b[0mself\u001b[0m\u001b[0;34m.\u001b[0m\u001b[0mmax_evals\u001b[0m \u001b[0;34m-\u001b[0m \u001b[0mn_done\u001b[0m\u001b[0;34m,\u001b[0m \u001b[0mblock_until_done\u001b[0m\u001b[0;34m=\u001b[0m\u001b[0mself\u001b[0m\u001b[0;34m.\u001b[0m\u001b[0masync\u001b[0m\u001b[0;34m)\u001b[0m\u001b[0;34m\u001b[0m\u001b[0m\n\u001b[0m\u001b[1;32m    200\u001b[0m         \u001b[0mself\u001b[0m\u001b[0;34m.\u001b[0m\u001b[0mtrials\u001b[0m\u001b[0;34m.\u001b[0m\u001b[0mrefresh\u001b[0m\u001b[0;34m(\u001b[0m\u001b[0;34m)\u001b[0m\u001b[0;34m\u001b[0m\u001b[0m\n\u001b[1;32m    201\u001b[0m         \u001b[0;32mreturn\u001b[0m \u001b[0mself\u001b[0m\u001b[0;34m\u001b[0m\u001b[0m\n",
      "\u001b[0;32m~/anaconda3/lib/python3.6/site-packages/hyperopt/fmin.py\u001b[0m in \u001b[0;36mrun\u001b[0;34m(self, N, block_until_done)\u001b[0m\n\u001b[1;32m    171\u001b[0m             \u001b[0;32melse\u001b[0m\u001b[0;34m:\u001b[0m\u001b[0;34m\u001b[0m\u001b[0m\n\u001b[1;32m    172\u001b[0m                 \u001b[0;31m# -- loop over trials and do the jobs directly\u001b[0m\u001b[0;34m\u001b[0m\u001b[0;34m\u001b[0m\u001b[0m\n\u001b[0;32m--> 173\u001b[0;31m                 \u001b[0mself\u001b[0m\u001b[0;34m.\u001b[0m\u001b[0mserial_evaluate\u001b[0m\u001b[0;34m(\u001b[0m\u001b[0;34m)\u001b[0m\u001b[0;34m\u001b[0m\u001b[0m\n\u001b[0m\u001b[1;32m    174\u001b[0m \u001b[0;34m\u001b[0m\u001b[0m\n\u001b[1;32m    175\u001b[0m             \u001b[0;32mif\u001b[0m \u001b[0mstopped\u001b[0m\u001b[0;34m:\u001b[0m\u001b[0;34m\u001b[0m\u001b[0m\n",
      "\u001b[0;32m~/anaconda3/lib/python3.6/site-packages/hyperopt/fmin.py\u001b[0m in \u001b[0;36mserial_evaluate\u001b[0;34m(self, N)\u001b[0m\n\u001b[1;32m     90\u001b[0m                 \u001b[0mctrl\u001b[0m \u001b[0;34m=\u001b[0m \u001b[0mbase\u001b[0m\u001b[0;34m.\u001b[0m\u001b[0mCtrl\u001b[0m\u001b[0;34m(\u001b[0m\u001b[0mself\u001b[0m\u001b[0;34m.\u001b[0m\u001b[0mtrials\u001b[0m\u001b[0;34m,\u001b[0m \u001b[0mcurrent_trial\u001b[0m\u001b[0;34m=\u001b[0m\u001b[0mtrial\u001b[0m\u001b[0;34m)\u001b[0m\u001b[0;34m\u001b[0m\u001b[0m\n\u001b[1;32m     91\u001b[0m                 \u001b[0;32mtry\u001b[0m\u001b[0;34m:\u001b[0m\u001b[0;34m\u001b[0m\u001b[0m\n\u001b[0;32m---> 92\u001b[0;31m                     \u001b[0mresult\u001b[0m \u001b[0;34m=\u001b[0m \u001b[0mself\u001b[0m\u001b[0;34m.\u001b[0m\u001b[0mdomain\u001b[0m\u001b[0;34m.\u001b[0m\u001b[0mevaluate\u001b[0m\u001b[0;34m(\u001b[0m\u001b[0mspec\u001b[0m\u001b[0;34m,\u001b[0m \u001b[0mctrl\u001b[0m\u001b[0;34m)\u001b[0m\u001b[0;34m\u001b[0m\u001b[0m\n\u001b[0m\u001b[1;32m     93\u001b[0m                 \u001b[0;32mexcept\u001b[0m \u001b[0mException\u001b[0m \u001b[0;32mas\u001b[0m \u001b[0me\u001b[0m\u001b[0;34m:\u001b[0m\u001b[0;34m\u001b[0m\u001b[0m\n\u001b[1;32m     94\u001b[0m                     \u001b[0mlogger\u001b[0m\u001b[0;34m.\u001b[0m\u001b[0minfo\u001b[0m\u001b[0;34m(\u001b[0m\u001b[0;34m'job exception: %s'\u001b[0m \u001b[0;34m%\u001b[0m \u001b[0mstr\u001b[0m\u001b[0;34m(\u001b[0m\u001b[0me\u001b[0m\u001b[0;34m)\u001b[0m\u001b[0;34m)\u001b[0m\u001b[0;34m\u001b[0m\u001b[0m\n",
      "\u001b[0;32m~/anaconda3/lib/python3.6/site-packages/hyperopt/base.py\u001b[0m in \u001b[0;36mevaluate\u001b[0;34m(self, config, ctrl, attach_attachments)\u001b[0m\n\u001b[1;32m    838\u001b[0m                 \u001b[0mmemo\u001b[0m\u001b[0;34m=\u001b[0m\u001b[0mmemo\u001b[0m\u001b[0;34m,\u001b[0m\u001b[0;34m\u001b[0m\u001b[0m\n\u001b[1;32m    839\u001b[0m                 print_node_on_error=self.rec_eval_print_node_on_error)\n\u001b[0;32m--> 840\u001b[0;31m             \u001b[0mrval\u001b[0m \u001b[0;34m=\u001b[0m \u001b[0mself\u001b[0m\u001b[0;34m.\u001b[0m\u001b[0mfn\u001b[0m\u001b[0;34m(\u001b[0m\u001b[0mpyll_rval\u001b[0m\u001b[0;34m)\u001b[0m\u001b[0;34m\u001b[0m\u001b[0m\n\u001b[0m\u001b[1;32m    841\u001b[0m \u001b[0;34m\u001b[0m\u001b[0m\n\u001b[1;32m    842\u001b[0m         \u001b[0;32mif\u001b[0m \u001b[0misinstance\u001b[0m\u001b[0;34m(\u001b[0m\u001b[0mrval\u001b[0m\u001b[0;34m,\u001b[0m \u001b[0;34m(\u001b[0m\u001b[0mfloat\u001b[0m\u001b[0;34m,\u001b[0m \u001b[0mint\u001b[0m\u001b[0;34m,\u001b[0m \u001b[0mnp\u001b[0m\u001b[0;34m.\u001b[0m\u001b[0mnumber\u001b[0m\u001b[0;34m)\u001b[0m\u001b[0;34m)\u001b[0m\u001b[0;34m:\u001b[0m\u001b[0;34m\u001b[0m\u001b[0m\n",
      "\u001b[0;32m<ipython-input-82-f0eebce2a568>\u001b[0m in \u001b[0;36mobjective\u001b[0;34m(args)\u001b[0m\n\u001b[1;32m     11\u001b[0m         \u001b[0mmodel\u001b[0m\u001b[0;34m.\u001b[0m\u001b[0msteps\u001b[0m\u001b[0;34m[\u001b[0m\u001b[0;34m-\u001b[0m\u001b[0;36m1\u001b[0m\u001b[0;34m]\u001b[0m\u001b[0;34m[\u001b[0m\u001b[0;36m1\u001b[0m\u001b[0;34m]\u001b[0m\u001b[0;34m.\u001b[0m\u001b[0mset_params\u001b[0m\u001b[0;34m(\u001b[0m\u001b[0;34m**\u001b[0m\u001b[0margs\u001b[0m\u001b[0;34m)\u001b[0m\u001b[0;34m\u001b[0m\u001b[0m\n\u001b[1;32m     12\u001b[0m \u001b[0;34m\u001b[0m\u001b[0m\n\u001b[0;32m---> 13\u001b[0;31m         \u001b[0mscore\u001b[0m \u001b[0;34m=\u001b[0m \u001b[0mcross_val_score\u001b[0m\u001b[0;34m(\u001b[0m\u001b[0mmodel\u001b[0m\u001b[0;34m,\u001b[0m \u001b[0mX_train\u001b[0m\u001b[0;34m,\u001b[0m \u001b[0my_train\u001b[0m\u001b[0;34m,\u001b[0m \u001b[0mscoring\u001b[0m\u001b[0;34m=\u001b[0m\u001b[0mscoring\u001b[0m\u001b[0;34m,\u001b[0m \u001b[0mcv\u001b[0m\u001b[0;34m=\u001b[0m\u001b[0mcv_size\u001b[0m\u001b[0;34m,\u001b[0m \u001b[0mn_jobs\u001b[0m\u001b[0;34m=\u001b[0m\u001b[0mn_jobs\u001b[0m\u001b[0;34m)\u001b[0m\u001b[0;34m\u001b[0m\u001b[0m\n\u001b[0m\u001b[1;32m     14\u001b[0m         \u001b[0;31m#print(score, end=\"\")\u001b[0m\u001b[0;34m\u001b[0m\u001b[0;34m\u001b[0m\u001b[0m\n\u001b[1;32m     15\u001b[0m \u001b[0;34m\u001b[0m\u001b[0m\n",
      "\u001b[0;32m~/.local/lib/python3.6/site-packages/sklearn/model_selection/_validation.py\u001b[0m in \u001b[0;36mcross_val_score\u001b[0;34m(estimator, X, y, groups, scoring, cv, n_jobs, verbose, fit_params, pre_dispatch)\u001b[0m\n\u001b[1;32m    340\u001b[0m                                 \u001b[0mn_jobs\u001b[0m\u001b[0;34m=\u001b[0m\u001b[0mn_jobs\u001b[0m\u001b[0;34m,\u001b[0m \u001b[0mverbose\u001b[0m\u001b[0;34m=\u001b[0m\u001b[0mverbose\u001b[0m\u001b[0;34m,\u001b[0m\u001b[0;34m\u001b[0m\u001b[0m\n\u001b[1;32m    341\u001b[0m                                 \u001b[0mfit_params\u001b[0m\u001b[0;34m=\u001b[0m\u001b[0mfit_params\u001b[0m\u001b[0;34m,\u001b[0m\u001b[0;34m\u001b[0m\u001b[0m\n\u001b[0;32m--> 342\u001b[0;31m                                 pre_dispatch=pre_dispatch)\n\u001b[0m\u001b[1;32m    343\u001b[0m     \u001b[0;32mreturn\u001b[0m \u001b[0mcv_results\u001b[0m\u001b[0;34m[\u001b[0m\u001b[0;34m'test_score'\u001b[0m\u001b[0;34m]\u001b[0m\u001b[0;34m\u001b[0m\u001b[0m\n\u001b[1;32m    344\u001b[0m \u001b[0;34m\u001b[0m\u001b[0m\n",
      "\u001b[0;32m~/.local/lib/python3.6/site-packages/sklearn/model_selection/_validation.py\u001b[0m in \u001b[0;36mcross_validate\u001b[0;34m(estimator, X, y, groups, scoring, cv, n_jobs, verbose, fit_params, pre_dispatch, return_train_score)\u001b[0m\n\u001b[1;32m    204\u001b[0m             \u001b[0mfit_params\u001b[0m\u001b[0;34m,\u001b[0m \u001b[0mreturn_train_score\u001b[0m\u001b[0;34m=\u001b[0m\u001b[0mreturn_train_score\u001b[0m\u001b[0;34m,\u001b[0m\u001b[0;34m\u001b[0m\u001b[0m\n\u001b[1;32m    205\u001b[0m             return_times=True)\n\u001b[0;32m--> 206\u001b[0;31m         for train, test in cv.split(X, y, groups))\n\u001b[0m\u001b[1;32m    207\u001b[0m \u001b[0;34m\u001b[0m\u001b[0m\n\u001b[1;32m    208\u001b[0m     \u001b[0;32mif\u001b[0m \u001b[0mreturn_train_score\u001b[0m\u001b[0;34m:\u001b[0m\u001b[0;34m\u001b[0m\u001b[0m\n",
      "\u001b[0;32m~/.local/lib/python3.6/site-packages/sklearn/externals/joblib/parallel.py\u001b[0m in \u001b[0;36m__call__\u001b[0;34m(self, iterable)\u001b[0m\n\u001b[1;32m    777\u001b[0m             \u001b[0;31m# was dispatched. In particular this covers the edge\u001b[0m\u001b[0;34m\u001b[0m\u001b[0;34m\u001b[0m\u001b[0m\n\u001b[1;32m    778\u001b[0m             \u001b[0;31m# case of Parallel used with an exhausted iterator.\u001b[0m\u001b[0;34m\u001b[0m\u001b[0;34m\u001b[0m\u001b[0m\n\u001b[0;32m--> 779\u001b[0;31m             \u001b[0;32mwhile\u001b[0m \u001b[0mself\u001b[0m\u001b[0;34m.\u001b[0m\u001b[0mdispatch_one_batch\u001b[0m\u001b[0;34m(\u001b[0m\u001b[0miterator\u001b[0m\u001b[0;34m)\u001b[0m\u001b[0;34m:\u001b[0m\u001b[0;34m\u001b[0m\u001b[0m\n\u001b[0m\u001b[1;32m    780\u001b[0m                 \u001b[0mself\u001b[0m\u001b[0;34m.\u001b[0m\u001b[0m_iterating\u001b[0m \u001b[0;34m=\u001b[0m \u001b[0;32mTrue\u001b[0m\u001b[0;34m\u001b[0m\u001b[0m\n\u001b[1;32m    781\u001b[0m             \u001b[0;32melse\u001b[0m\u001b[0;34m:\u001b[0m\u001b[0;34m\u001b[0m\u001b[0m\n",
      "\u001b[0;32m~/.local/lib/python3.6/site-packages/sklearn/externals/joblib/parallel.py\u001b[0m in \u001b[0;36mdispatch_one_batch\u001b[0;34m(self, iterator)\u001b[0m\n\u001b[1;32m    623\u001b[0m                 \u001b[0;32mreturn\u001b[0m \u001b[0;32mFalse\u001b[0m\u001b[0;34m\u001b[0m\u001b[0m\n\u001b[1;32m    624\u001b[0m             \u001b[0;32melse\u001b[0m\u001b[0;34m:\u001b[0m\u001b[0;34m\u001b[0m\u001b[0m\n\u001b[0;32m--> 625\u001b[0;31m                 \u001b[0mself\u001b[0m\u001b[0;34m.\u001b[0m\u001b[0m_dispatch\u001b[0m\u001b[0;34m(\u001b[0m\u001b[0mtasks\u001b[0m\u001b[0;34m)\u001b[0m\u001b[0;34m\u001b[0m\u001b[0m\n\u001b[0m\u001b[1;32m    626\u001b[0m                 \u001b[0;32mreturn\u001b[0m \u001b[0;32mTrue\u001b[0m\u001b[0;34m\u001b[0m\u001b[0m\n\u001b[1;32m    627\u001b[0m \u001b[0;34m\u001b[0m\u001b[0m\n",
      "\u001b[0;32m~/.local/lib/python3.6/site-packages/sklearn/externals/joblib/parallel.py\u001b[0m in \u001b[0;36m_dispatch\u001b[0;34m(self, batch)\u001b[0m\n\u001b[1;32m    586\u001b[0m         \u001b[0mdispatch_timestamp\u001b[0m \u001b[0;34m=\u001b[0m \u001b[0mtime\u001b[0m\u001b[0;34m.\u001b[0m\u001b[0mtime\u001b[0m\u001b[0;34m(\u001b[0m\u001b[0;34m)\u001b[0m\u001b[0;34m\u001b[0m\u001b[0m\n\u001b[1;32m    587\u001b[0m         \u001b[0mcb\u001b[0m \u001b[0;34m=\u001b[0m \u001b[0mBatchCompletionCallBack\u001b[0m\u001b[0;34m(\u001b[0m\u001b[0mdispatch_timestamp\u001b[0m\u001b[0;34m,\u001b[0m \u001b[0mlen\u001b[0m\u001b[0;34m(\u001b[0m\u001b[0mbatch\u001b[0m\u001b[0;34m)\u001b[0m\u001b[0;34m,\u001b[0m \u001b[0mself\u001b[0m\u001b[0;34m)\u001b[0m\u001b[0;34m\u001b[0m\u001b[0m\n\u001b[0;32m--> 588\u001b[0;31m         \u001b[0mjob\u001b[0m \u001b[0;34m=\u001b[0m \u001b[0mself\u001b[0m\u001b[0;34m.\u001b[0m\u001b[0m_backend\u001b[0m\u001b[0;34m.\u001b[0m\u001b[0mapply_async\u001b[0m\u001b[0;34m(\u001b[0m\u001b[0mbatch\u001b[0m\u001b[0;34m,\u001b[0m \u001b[0mcallback\u001b[0m\u001b[0;34m=\u001b[0m\u001b[0mcb\u001b[0m\u001b[0;34m)\u001b[0m\u001b[0;34m\u001b[0m\u001b[0m\n\u001b[0m\u001b[1;32m    589\u001b[0m         \u001b[0mself\u001b[0m\u001b[0;34m.\u001b[0m\u001b[0m_jobs\u001b[0m\u001b[0;34m.\u001b[0m\u001b[0mappend\u001b[0m\u001b[0;34m(\u001b[0m\u001b[0mjob\u001b[0m\u001b[0;34m)\u001b[0m\u001b[0;34m\u001b[0m\u001b[0m\n\u001b[1;32m    590\u001b[0m \u001b[0;34m\u001b[0m\u001b[0m\n",
      "\u001b[0;32m~/.local/lib/python3.6/site-packages/sklearn/externals/joblib/_parallel_backends.py\u001b[0m in \u001b[0;36mapply_async\u001b[0;34m(self, func, callback)\u001b[0m\n\u001b[1;32m    109\u001b[0m     \u001b[0;32mdef\u001b[0m \u001b[0mapply_async\u001b[0m\u001b[0;34m(\u001b[0m\u001b[0mself\u001b[0m\u001b[0;34m,\u001b[0m \u001b[0mfunc\u001b[0m\u001b[0;34m,\u001b[0m \u001b[0mcallback\u001b[0m\u001b[0;34m=\u001b[0m\u001b[0;32mNone\u001b[0m\u001b[0;34m)\u001b[0m\u001b[0;34m:\u001b[0m\u001b[0;34m\u001b[0m\u001b[0m\n\u001b[1;32m    110\u001b[0m         \u001b[0;34m\"\"\"Schedule a func to be run\"\"\"\u001b[0m\u001b[0;34m\u001b[0m\u001b[0m\n\u001b[0;32m--> 111\u001b[0;31m         \u001b[0mresult\u001b[0m \u001b[0;34m=\u001b[0m \u001b[0mImmediateResult\u001b[0m\u001b[0;34m(\u001b[0m\u001b[0mfunc\u001b[0m\u001b[0;34m)\u001b[0m\u001b[0;34m\u001b[0m\u001b[0m\n\u001b[0m\u001b[1;32m    112\u001b[0m         \u001b[0;32mif\u001b[0m \u001b[0mcallback\u001b[0m\u001b[0;34m:\u001b[0m\u001b[0;34m\u001b[0m\u001b[0m\n\u001b[1;32m    113\u001b[0m             \u001b[0mcallback\u001b[0m\u001b[0;34m(\u001b[0m\u001b[0mresult\u001b[0m\u001b[0;34m)\u001b[0m\u001b[0;34m\u001b[0m\u001b[0m\n",
      "\u001b[0;32m~/.local/lib/python3.6/site-packages/sklearn/externals/joblib/_parallel_backends.py\u001b[0m in \u001b[0;36m__init__\u001b[0;34m(self, batch)\u001b[0m\n\u001b[1;32m    330\u001b[0m         \u001b[0;31m# Don't delay the application, to avoid keeping the input\u001b[0m\u001b[0;34m\u001b[0m\u001b[0;34m\u001b[0m\u001b[0m\n\u001b[1;32m    331\u001b[0m         \u001b[0;31m# arguments in memory\u001b[0m\u001b[0;34m\u001b[0m\u001b[0;34m\u001b[0m\u001b[0m\n\u001b[0;32m--> 332\u001b[0;31m         \u001b[0mself\u001b[0m\u001b[0;34m.\u001b[0m\u001b[0mresults\u001b[0m \u001b[0;34m=\u001b[0m \u001b[0mbatch\u001b[0m\u001b[0;34m(\u001b[0m\u001b[0;34m)\u001b[0m\u001b[0;34m\u001b[0m\u001b[0m\n\u001b[0m\u001b[1;32m    333\u001b[0m \u001b[0;34m\u001b[0m\u001b[0m\n\u001b[1;32m    334\u001b[0m     \u001b[0;32mdef\u001b[0m \u001b[0mget\u001b[0m\u001b[0;34m(\u001b[0m\u001b[0mself\u001b[0m\u001b[0;34m)\u001b[0m\u001b[0;34m:\u001b[0m\u001b[0;34m\u001b[0m\u001b[0m\n",
      "\u001b[0;32m~/.local/lib/python3.6/site-packages/sklearn/externals/joblib/parallel.py\u001b[0m in \u001b[0;36m__call__\u001b[0;34m(self)\u001b[0m\n\u001b[1;32m    129\u001b[0m \u001b[0;34m\u001b[0m\u001b[0m\n\u001b[1;32m    130\u001b[0m     \u001b[0;32mdef\u001b[0m \u001b[0m__call__\u001b[0m\u001b[0;34m(\u001b[0m\u001b[0mself\u001b[0m\u001b[0;34m)\u001b[0m\u001b[0;34m:\u001b[0m\u001b[0;34m\u001b[0m\u001b[0m\n\u001b[0;32m--> 131\u001b[0;31m         \u001b[0;32mreturn\u001b[0m \u001b[0;34m[\u001b[0m\u001b[0mfunc\u001b[0m\u001b[0;34m(\u001b[0m\u001b[0;34m*\u001b[0m\u001b[0margs\u001b[0m\u001b[0;34m,\u001b[0m \u001b[0;34m**\u001b[0m\u001b[0mkwargs\u001b[0m\u001b[0;34m)\u001b[0m \u001b[0;32mfor\u001b[0m \u001b[0mfunc\u001b[0m\u001b[0;34m,\u001b[0m \u001b[0margs\u001b[0m\u001b[0;34m,\u001b[0m \u001b[0mkwargs\u001b[0m \u001b[0;32min\u001b[0m \u001b[0mself\u001b[0m\u001b[0;34m.\u001b[0m\u001b[0mitems\u001b[0m\u001b[0;34m]\u001b[0m\u001b[0;34m\u001b[0m\u001b[0m\n\u001b[0m\u001b[1;32m    132\u001b[0m \u001b[0;34m\u001b[0m\u001b[0m\n\u001b[1;32m    133\u001b[0m     \u001b[0;32mdef\u001b[0m \u001b[0m__len__\u001b[0m\u001b[0;34m(\u001b[0m\u001b[0mself\u001b[0m\u001b[0;34m)\u001b[0m\u001b[0;34m:\u001b[0m\u001b[0;34m\u001b[0m\u001b[0m\n",
      "\u001b[0;32m~/.local/lib/python3.6/site-packages/sklearn/externals/joblib/parallel.py\u001b[0m in \u001b[0;36m<listcomp>\u001b[0;34m(.0)\u001b[0m\n\u001b[1;32m    129\u001b[0m \u001b[0;34m\u001b[0m\u001b[0m\n\u001b[1;32m    130\u001b[0m     \u001b[0;32mdef\u001b[0m \u001b[0m__call__\u001b[0m\u001b[0;34m(\u001b[0m\u001b[0mself\u001b[0m\u001b[0;34m)\u001b[0m\u001b[0;34m:\u001b[0m\u001b[0;34m\u001b[0m\u001b[0m\n\u001b[0;32m--> 131\u001b[0;31m         \u001b[0;32mreturn\u001b[0m \u001b[0;34m[\u001b[0m\u001b[0mfunc\u001b[0m\u001b[0;34m(\u001b[0m\u001b[0;34m*\u001b[0m\u001b[0margs\u001b[0m\u001b[0;34m,\u001b[0m \u001b[0;34m**\u001b[0m\u001b[0mkwargs\u001b[0m\u001b[0;34m)\u001b[0m \u001b[0;32mfor\u001b[0m \u001b[0mfunc\u001b[0m\u001b[0;34m,\u001b[0m \u001b[0margs\u001b[0m\u001b[0;34m,\u001b[0m \u001b[0mkwargs\u001b[0m \u001b[0;32min\u001b[0m \u001b[0mself\u001b[0m\u001b[0;34m.\u001b[0m\u001b[0mitems\u001b[0m\u001b[0;34m]\u001b[0m\u001b[0;34m\u001b[0m\u001b[0m\n\u001b[0m\u001b[1;32m    132\u001b[0m \u001b[0;34m\u001b[0m\u001b[0m\n\u001b[1;32m    133\u001b[0m     \u001b[0;32mdef\u001b[0m \u001b[0m__len__\u001b[0m\u001b[0;34m(\u001b[0m\u001b[0mself\u001b[0m\u001b[0;34m)\u001b[0m\u001b[0;34m:\u001b[0m\u001b[0;34m\u001b[0m\u001b[0m\n",
      "\u001b[0;32m~/.local/lib/python3.6/site-packages/sklearn/model_selection/_validation.py\u001b[0m in \u001b[0;36m_fit_and_score\u001b[0;34m(estimator, X, y, scorer, train, test, verbose, parameters, fit_params, return_train_score, return_parameters, return_n_test_samples, return_times, error_score)\u001b[0m\n\u001b[1;32m    456\u001b[0m             \u001b[0mestimator\u001b[0m\u001b[0;34m.\u001b[0m\u001b[0mfit\u001b[0m\u001b[0;34m(\u001b[0m\u001b[0mX_train\u001b[0m\u001b[0;34m,\u001b[0m \u001b[0;34m**\u001b[0m\u001b[0mfit_params\u001b[0m\u001b[0;34m)\u001b[0m\u001b[0;34m\u001b[0m\u001b[0m\n\u001b[1;32m    457\u001b[0m         \u001b[0;32melse\u001b[0m\u001b[0;34m:\u001b[0m\u001b[0;34m\u001b[0m\u001b[0m\n\u001b[0;32m--> 458\u001b[0;31m             \u001b[0mestimator\u001b[0m\u001b[0;34m.\u001b[0m\u001b[0mfit\u001b[0m\u001b[0;34m(\u001b[0m\u001b[0mX_train\u001b[0m\u001b[0;34m,\u001b[0m \u001b[0my_train\u001b[0m\u001b[0;34m,\u001b[0m \u001b[0;34m**\u001b[0m\u001b[0mfit_params\u001b[0m\u001b[0;34m)\u001b[0m\u001b[0;34m\u001b[0m\u001b[0m\n\u001b[0m\u001b[1;32m    459\u001b[0m \u001b[0;34m\u001b[0m\u001b[0m\n\u001b[1;32m    460\u001b[0m     \u001b[0;32mexcept\u001b[0m \u001b[0mException\u001b[0m \u001b[0;32mas\u001b[0m \u001b[0me\u001b[0m\u001b[0;34m:\u001b[0m\u001b[0;34m\u001b[0m\u001b[0m\n",
      "\u001b[0;32m~/.local/lib/python3.6/site-packages/sklearn/pipeline.py\u001b[0m in \u001b[0;36mfit\u001b[0;34m(self, X, y, **fit_params)\u001b[0m\n\u001b[1;32m    246\u001b[0m             \u001b[0mThis\u001b[0m \u001b[0mestimator\u001b[0m\u001b[0;34m\u001b[0m\u001b[0m\n\u001b[1;32m    247\u001b[0m         \"\"\"\n\u001b[0;32m--> 248\u001b[0;31m         \u001b[0mXt\u001b[0m\u001b[0;34m,\u001b[0m \u001b[0mfit_params\u001b[0m \u001b[0;34m=\u001b[0m \u001b[0mself\u001b[0m\u001b[0;34m.\u001b[0m\u001b[0m_fit\u001b[0m\u001b[0;34m(\u001b[0m\u001b[0mX\u001b[0m\u001b[0;34m,\u001b[0m \u001b[0my\u001b[0m\u001b[0;34m,\u001b[0m \u001b[0;34m**\u001b[0m\u001b[0mfit_params\u001b[0m\u001b[0;34m)\u001b[0m\u001b[0;34m\u001b[0m\u001b[0m\n\u001b[0m\u001b[1;32m    249\u001b[0m         \u001b[0;32mif\u001b[0m \u001b[0mself\u001b[0m\u001b[0;34m.\u001b[0m\u001b[0m_final_estimator\u001b[0m \u001b[0;32mis\u001b[0m \u001b[0;32mnot\u001b[0m \u001b[0;32mNone\u001b[0m\u001b[0;34m:\u001b[0m\u001b[0;34m\u001b[0m\u001b[0m\n\u001b[1;32m    250\u001b[0m             \u001b[0mself\u001b[0m\u001b[0;34m.\u001b[0m\u001b[0m_final_estimator\u001b[0m\u001b[0;34m.\u001b[0m\u001b[0mfit\u001b[0m\u001b[0;34m(\u001b[0m\u001b[0mXt\u001b[0m\u001b[0;34m,\u001b[0m \u001b[0my\u001b[0m\u001b[0;34m,\u001b[0m \u001b[0;34m**\u001b[0m\u001b[0mfit_params\u001b[0m\u001b[0;34m)\u001b[0m\u001b[0;34m\u001b[0m\u001b[0m\n",
      "\u001b[0;32m~/.local/lib/python3.6/site-packages/sklearn/pipeline.py\u001b[0m in \u001b[0;36m_fit\u001b[0;34m(self, X, y, **fit_params)\u001b[0m\n\u001b[1;32m    211\u001b[0m                 Xt, fitted_transformer = fit_transform_one_cached(\n\u001b[1;32m    212\u001b[0m                     \u001b[0mcloned_transformer\u001b[0m\u001b[0;34m,\u001b[0m \u001b[0;32mNone\u001b[0m\u001b[0;34m,\u001b[0m \u001b[0mXt\u001b[0m\u001b[0;34m,\u001b[0m \u001b[0my\u001b[0m\u001b[0;34m,\u001b[0m\u001b[0;34m\u001b[0m\u001b[0m\n\u001b[0;32m--> 213\u001b[0;31m                     **fit_params_steps[name])\n\u001b[0m\u001b[1;32m    214\u001b[0m                 \u001b[0;31m# Replace the transformer of the step with the fitted\u001b[0m\u001b[0;34m\u001b[0m\u001b[0;34m\u001b[0m\u001b[0m\n\u001b[1;32m    215\u001b[0m                 \u001b[0;31m# transformer. This is necessary when loading the transformer\u001b[0m\u001b[0;34m\u001b[0m\u001b[0;34m\u001b[0m\u001b[0m\n",
      "\u001b[0;32m~/.local/lib/python3.6/site-packages/sklearn/externals/joblib/memory.py\u001b[0m in \u001b[0;36m__call__\u001b[0;34m(self, *args, **kwargs)\u001b[0m\n\u001b[1;32m    360\u001b[0m \u001b[0;34m\u001b[0m\u001b[0m\n\u001b[1;32m    361\u001b[0m     \u001b[0;32mdef\u001b[0m \u001b[0m__call__\u001b[0m\u001b[0;34m(\u001b[0m\u001b[0mself\u001b[0m\u001b[0;34m,\u001b[0m \u001b[0;34m*\u001b[0m\u001b[0margs\u001b[0m\u001b[0;34m,\u001b[0m \u001b[0;34m**\u001b[0m\u001b[0mkwargs\u001b[0m\u001b[0;34m)\u001b[0m\u001b[0;34m:\u001b[0m\u001b[0;34m\u001b[0m\u001b[0m\n\u001b[0;32m--> 362\u001b[0;31m         \u001b[0;32mreturn\u001b[0m \u001b[0mself\u001b[0m\u001b[0;34m.\u001b[0m\u001b[0mfunc\u001b[0m\u001b[0;34m(\u001b[0m\u001b[0;34m*\u001b[0m\u001b[0margs\u001b[0m\u001b[0;34m,\u001b[0m \u001b[0;34m**\u001b[0m\u001b[0mkwargs\u001b[0m\u001b[0;34m)\u001b[0m\u001b[0;34m\u001b[0m\u001b[0m\n\u001b[0m\u001b[1;32m    363\u001b[0m \u001b[0;34m\u001b[0m\u001b[0m\n\u001b[1;32m    364\u001b[0m     \u001b[0;32mdef\u001b[0m \u001b[0mcall_and_shelve\u001b[0m\u001b[0;34m(\u001b[0m\u001b[0mself\u001b[0m\u001b[0;34m,\u001b[0m \u001b[0;34m*\u001b[0m\u001b[0margs\u001b[0m\u001b[0;34m,\u001b[0m \u001b[0;34m**\u001b[0m\u001b[0mkwargs\u001b[0m\u001b[0;34m)\u001b[0m\u001b[0;34m:\u001b[0m\u001b[0;34m\u001b[0m\u001b[0m\n",
      "\u001b[0;32m~/.local/lib/python3.6/site-packages/sklearn/pipeline.py\u001b[0m in \u001b[0;36m_fit_transform_one\u001b[0;34m(transformer, weight, X, y, **fit_params)\u001b[0m\n\u001b[1;32m    579\u001b[0m                        **fit_params):\n\u001b[1;32m    580\u001b[0m     \u001b[0;32mif\u001b[0m \u001b[0mhasattr\u001b[0m\u001b[0;34m(\u001b[0m\u001b[0mtransformer\u001b[0m\u001b[0;34m,\u001b[0m \u001b[0;34m'fit_transform'\u001b[0m\u001b[0;34m)\u001b[0m\u001b[0;34m:\u001b[0m\u001b[0;34m\u001b[0m\u001b[0m\n\u001b[0;32m--> 581\u001b[0;31m         \u001b[0mres\u001b[0m \u001b[0;34m=\u001b[0m \u001b[0mtransformer\u001b[0m\u001b[0;34m.\u001b[0m\u001b[0mfit_transform\u001b[0m\u001b[0;34m(\u001b[0m\u001b[0mX\u001b[0m\u001b[0;34m,\u001b[0m \u001b[0my\u001b[0m\u001b[0;34m,\u001b[0m \u001b[0;34m**\u001b[0m\u001b[0mfit_params\u001b[0m\u001b[0;34m)\u001b[0m\u001b[0;34m\u001b[0m\u001b[0m\n\u001b[0m\u001b[1;32m    582\u001b[0m     \u001b[0;32melse\u001b[0m\u001b[0;34m:\u001b[0m\u001b[0;34m\u001b[0m\u001b[0m\n\u001b[1;32m    583\u001b[0m         \u001b[0mres\u001b[0m \u001b[0;34m=\u001b[0m \u001b[0mtransformer\u001b[0m\u001b[0;34m.\u001b[0m\u001b[0mfit\u001b[0m\u001b[0;34m(\u001b[0m\u001b[0mX\u001b[0m\u001b[0;34m,\u001b[0m \u001b[0my\u001b[0m\u001b[0;34m,\u001b[0m \u001b[0;34m**\u001b[0m\u001b[0mfit_params\u001b[0m\u001b[0;34m)\u001b[0m\u001b[0;34m.\u001b[0m\u001b[0mtransform\u001b[0m\u001b[0;34m(\u001b[0m\u001b[0mX\u001b[0m\u001b[0;34m)\u001b[0m\u001b[0;34m\u001b[0m\u001b[0m\n",
      "\u001b[0;32m~/.local/lib/python3.6/site-packages/sklearn/decomposition/pca.py\u001b[0m in \u001b[0;36mfit_transform\u001b[0;34m(self, X, y)\u001b[0m\n\u001b[1;32m    346\u001b[0m \u001b[0;34m\u001b[0m\u001b[0m\n\u001b[1;32m    347\u001b[0m         \"\"\"\n\u001b[0;32m--> 348\u001b[0;31m         \u001b[0mU\u001b[0m\u001b[0;34m,\u001b[0m \u001b[0mS\u001b[0m\u001b[0;34m,\u001b[0m \u001b[0mV\u001b[0m \u001b[0;34m=\u001b[0m \u001b[0mself\u001b[0m\u001b[0;34m.\u001b[0m\u001b[0m_fit\u001b[0m\u001b[0;34m(\u001b[0m\u001b[0mX\u001b[0m\u001b[0;34m)\u001b[0m\u001b[0;34m\u001b[0m\u001b[0m\n\u001b[0m\u001b[1;32m    349\u001b[0m         \u001b[0mU\u001b[0m \u001b[0;34m=\u001b[0m \u001b[0mU\u001b[0m\u001b[0;34m[\u001b[0m\u001b[0;34m:\u001b[0m\u001b[0;34m,\u001b[0m \u001b[0;34m:\u001b[0m\u001b[0mself\u001b[0m\u001b[0;34m.\u001b[0m\u001b[0mn_components_\u001b[0m\u001b[0;34m]\u001b[0m\u001b[0;34m\u001b[0m\u001b[0m\n\u001b[1;32m    350\u001b[0m \u001b[0;34m\u001b[0m\u001b[0m\n",
      "\u001b[0;32m~/.local/lib/python3.6/site-packages/sklearn/decomposition/pca.py\u001b[0m in \u001b[0;36m_fit\u001b[0;34m(self, X)\u001b[0m\n\u001b[1;32m    390\u001b[0m         \u001b[0;31m# Call different fits for either full or truncated SVD\u001b[0m\u001b[0;34m\u001b[0m\u001b[0;34m\u001b[0m\u001b[0m\n\u001b[1;32m    391\u001b[0m         \u001b[0;32mif\u001b[0m \u001b[0msvd_solver\u001b[0m \u001b[0;34m==\u001b[0m \u001b[0;34m'full'\u001b[0m\u001b[0;34m:\u001b[0m\u001b[0;34m\u001b[0m\u001b[0m\n\u001b[0;32m--> 392\u001b[0;31m             \u001b[0;32mreturn\u001b[0m \u001b[0mself\u001b[0m\u001b[0;34m.\u001b[0m\u001b[0m_fit_full\u001b[0m\u001b[0;34m(\u001b[0m\u001b[0mX\u001b[0m\u001b[0;34m,\u001b[0m \u001b[0mn_components\u001b[0m\u001b[0;34m)\u001b[0m\u001b[0;34m\u001b[0m\u001b[0m\n\u001b[0m\u001b[1;32m    393\u001b[0m         \u001b[0;32melif\u001b[0m \u001b[0msvd_solver\u001b[0m \u001b[0;32min\u001b[0m \u001b[0;34m[\u001b[0m\u001b[0;34m'arpack'\u001b[0m\u001b[0;34m,\u001b[0m \u001b[0;34m'randomized'\u001b[0m\u001b[0;34m]\u001b[0m\u001b[0;34m:\u001b[0m\u001b[0;34m\u001b[0m\u001b[0m\n\u001b[1;32m    394\u001b[0m             \u001b[0;32mreturn\u001b[0m \u001b[0mself\u001b[0m\u001b[0;34m.\u001b[0m\u001b[0m_fit_truncated\u001b[0m\u001b[0;34m(\u001b[0m\u001b[0mX\u001b[0m\u001b[0;34m,\u001b[0m \u001b[0mn_components\u001b[0m\u001b[0;34m,\u001b[0m \u001b[0msvd_solver\u001b[0m\u001b[0;34m)\u001b[0m\u001b[0;34m\u001b[0m\u001b[0m\n",
      "\u001b[0;32m~/.local/lib/python3.6/site-packages/sklearn/decomposition/pca.py\u001b[0m in \u001b[0;36m_fit_full\u001b[0;34m(self, X, n_components)\u001b[0m\n\u001b[1;32m    414\u001b[0m         \u001b[0mX\u001b[0m \u001b[0;34m-=\u001b[0m \u001b[0mself\u001b[0m\u001b[0;34m.\u001b[0m\u001b[0mmean_\u001b[0m\u001b[0;34m\u001b[0m\u001b[0m\n\u001b[1;32m    415\u001b[0m \u001b[0;34m\u001b[0m\u001b[0m\n\u001b[0;32m--> 416\u001b[0;31m         \u001b[0mU\u001b[0m\u001b[0;34m,\u001b[0m \u001b[0mS\u001b[0m\u001b[0;34m,\u001b[0m \u001b[0mV\u001b[0m \u001b[0;34m=\u001b[0m \u001b[0mlinalg\u001b[0m\u001b[0;34m.\u001b[0m\u001b[0msvd\u001b[0m\u001b[0;34m(\u001b[0m\u001b[0mX\u001b[0m\u001b[0;34m,\u001b[0m \u001b[0mfull_matrices\u001b[0m\u001b[0;34m=\u001b[0m\u001b[0;32mFalse\u001b[0m\u001b[0;34m)\u001b[0m\u001b[0;34m\u001b[0m\u001b[0m\n\u001b[0m\u001b[1;32m    417\u001b[0m         \u001b[0;31m# flip eigenvectors' sign to enforce deterministic output\u001b[0m\u001b[0;34m\u001b[0m\u001b[0;34m\u001b[0m\u001b[0m\n\u001b[1;32m    418\u001b[0m         \u001b[0mU\u001b[0m\u001b[0;34m,\u001b[0m \u001b[0mV\u001b[0m \u001b[0;34m=\u001b[0m \u001b[0msvd_flip\u001b[0m\u001b[0;34m(\u001b[0m\u001b[0mU\u001b[0m\u001b[0;34m,\u001b[0m \u001b[0mV\u001b[0m\u001b[0;34m)\u001b[0m\u001b[0;34m\u001b[0m\u001b[0m\n",
      "\u001b[0;32m~/anaconda3/lib/python3.6/site-packages/scipy/linalg/decomp_svd.py\u001b[0m in \u001b[0;36msvd\u001b[0;34m(a, full_matrices, compute_uv, overwrite_a, check_finite, lapack_driver)\u001b[0m\n\u001b[1;32m    127\u001b[0m     \u001b[0;31m# perform decomposition\u001b[0m\u001b[0;34m\u001b[0m\u001b[0;34m\u001b[0m\u001b[0m\n\u001b[1;32m    128\u001b[0m     u, s, v, info = gesXd(a1, compute_uv=compute_uv, lwork=lwork,\n\u001b[0;32m--> 129\u001b[0;31m                           full_matrices=full_matrices, overwrite_a=overwrite_a)\n\u001b[0m\u001b[1;32m    130\u001b[0m \u001b[0;34m\u001b[0m\u001b[0m\n\u001b[1;32m    131\u001b[0m     \u001b[0;32mif\u001b[0m \u001b[0minfo\u001b[0m \u001b[0;34m>\u001b[0m \u001b[0;36m0\u001b[0m\u001b[0;34m:\u001b[0m\u001b[0;34m\u001b[0m\u001b[0m\n",
      "\u001b[0;31mKeyboardInterrupt\u001b[0m: "
     ]
    }
   ],
   "source": [
    "%%time\n",
    "best_params = searchHyperParam(svr, par_space, X_train, y_train, scoring=\"neg_mean_squared_error\", max_evals=max_evals, cv_size=cv_size, n_jobs=n_jobs)\n",
    "best_params[\"kernel\"] = kernel_list[best_params[\"kernel\"]]\n",
    "print(best_params)\n"
   ]
  },
  {
   "cell_type": "raw",
   "metadata": {
    "_uuid": "11997de5f59be2f6f04a16a152c1c245289ed319"
   },
   "source": [
    "#pca 0.80, 100 trial\n",
    "\n",
    "\n",
    "\n",
    "#pca 0.80, 10 trial\n",
    "\n",
    "best par:  {'C': 0.776819910040523, 'epsilon': 0.2306284655275017, 'gamma': 0.05305715050522517, 'kernel': 0}\n",
    "best trial:  {'loss': 0.11552334382782938, 'status': 'ok'}\n",
    "{'C': 0.776819910040523, 'epsilon': 0.2306284655275017, 'gamma': 0.05305715050522517, 'kernel': 'rbf'}\n",
    "Wall time: 7min 18s\n",
    "\n",
    "\n",
    "#100\n",
    "\n",
    "Trial  2 , Params  {'C': 0.017271530916715953, 'epsilon': 0.3180427068907858, 'gamma': 0.744792439063098, 'kernel': 'rbf'}  -> [-0.01394463 -0.01468119 -0.01444505 -0.01396261 -0.0139868 ]Done. Score :  0.11918078315142942\n"
   ]
  },
  {
   "cell_type": "code",
   "execution_count": null,
   "metadata": {
    "_uuid": "edceb65e9c6b2c531525b0c41cfe3698a69119bc",
    "collapsed": true
   },
   "outputs": [],
   "source": [
    "raise Exception()"
   ]
  },
  {
   "cell_type": "code",
   "execution_count": null,
   "metadata": {
    "_uuid": "0b82f57ad94fe8f8ba7a9f3cc1c55b471366c629",
    "collapsed": true
   },
   "outputs": [],
   "source": [
    "best_params = {'C': 6.0125849233435975,\n",
    " 'epsilon': 0.018596343856883617,\n",
    " 'gamma': 0.019396603678872793,\n",
    " 'kernel': 'rbf'}"
   ]
  },
  {
   "cell_type": "raw",
   "metadata": {
    "_uuid": "a67fb90f5f934d8e617ebcad267bed001644ce05"
   },
   "source": []
  },
  {
   "cell_type": "code",
   "execution_count": null,
   "metadata": {
    "_uuid": "c23e75e097314da26875be79d364acaa136861bf",
    "collapsed": true,
    "scrolled": true
   },
   "outputs": [],
   "source": [
    "svr.steps[-1][1].set_params(**best_params)\n",
    "\n",
    "evalModelByCV(svr, X_train, y_train, scoring=\"neg_mean_squared_error\")\n",
    "#plot_my_learning_curves(X_train, y_train, X_test, y_test, svr, scoring=\"r2\", cv=5, n_jobs=n_jobs)"
   ]
  },
  {
   "cell_type": "code",
   "execution_count": null,
   "metadata": {
    "_uuid": "58c3d956f6f5065cd3debd3b6ca75a6b0dc23191",
    "collapsed": true
   },
   "outputs": [],
   "source": []
  },
  {
   "cell_type": "code",
   "execution_count": null,
   "metadata": {
    "_uuid": "3a4dd069c9538f0c72c11315f2fa6705ab5f4c3a",
    "collapsed": true
   },
   "outputs": [],
   "source": []
  },
  {
   "cell_type": "markdown",
   "metadata": {
    "_uuid": "e74ffb94278e528e33d500d5dbad71b63b58d26c"
   },
   "source": [
    "## lasso"
   ]
  },
  {
   "cell_type": "code",
   "execution_count": null,
   "metadata": {
    "_uuid": "d005f28a9036d9a62c25b0b715076e15709c490d",
    "collapsed": true
   },
   "outputs": [],
   "source": [
    "lasso = make_pipeline(\n",
    "    RobustScaler(),\n",
    "    Lasso()\n",
    "\n",
    ")\n",
    "\n",
    "par_space = {\n",
    "    'alpha':hp.uniform('alpha', 0, 1),\n",
    "    \n",
    "}"
   ]
  },
  {
   "cell_type": "raw",
   "metadata": {
    "_uuid": "b5fa931a603585e52499b02d1f4b08f647e6ff36"
   },
   "source": [
    "best_params = searchHyperParam(lasso, par_space, X_train, y_train, scoring=\"r2\", max_evals=max_evals, cv_size=cv_size, n_jobs=n_jobs)\n",
    "best_params"
   ]
  },
  {
   "cell_type": "code",
   "execution_count": null,
   "metadata": {
    "_uuid": "d4e0a4bf0997d06b52702ed5a205607f98f872fb",
    "collapsed": true
   },
   "outputs": [],
   "source": [
    "best_params = {'alpha': 0.03813148491610924}"
   ]
  },
  {
   "cell_type": "code",
   "execution_count": null,
   "metadata": {
    "_uuid": "0d91293fbbd850cb75c324f9d013321028092630",
    "collapsed": true,
    "scrolled": true
   },
   "outputs": [],
   "source": [
    "\n",
    "lasso.steps[-1][1].set_params(**best_params)\n",
    "\n",
    "evalModelByCV(lasso, X_train, y_train, scoring=\"neg_mean_squared_error\")\n",
    "#plot_my_learning_curves(X_train, y_train, X_test, y_test, lasso, scoring=\"r2\", cv=5, n_jobs=n_jobs)"
   ]
  },
  {
   "cell_type": "code",
   "execution_count": null,
   "metadata": {
    "_uuid": "38609a057209b02015ccd5e5518b8a6dcfc91bbe",
    "collapsed": true
   },
   "outputs": [],
   "source": []
  },
  {
   "cell_type": "markdown",
   "metadata": {
    "_uuid": "a87ed8d22679dd01b89a935cef69b46a5c82e062"
   },
   "source": [
    "## Elastic net"
   ]
  },
  {
   "cell_type": "code",
   "execution_count": null,
   "metadata": {
    "_uuid": "fdfc35a18e2d176d2e0fe8fbe20a97adfd4871c9",
    "collapsed": true
   },
   "outputs": [],
   "source": [
    "elasticnet = make_pipeline(\n",
    "    RobustScaler(),\n",
    "    ElasticNet()\n",
    "\n",
    ")\n",
    "par_space = {\n",
    "    'alpha':hp.uniform('alpha', 0, 1),\n",
    "    'l1_ratio':hp.uniform('l1_ratio', 0, 1),\n",
    "    \n",
    "}"
   ]
  },
  {
   "cell_type": "raw",
   "metadata": {
    "_uuid": "cc84914346c8d9691bd38f01875773f4aa7a4c45"
   },
   "source": [
    "best_params = searchHyperParam(elasticnet, par_space, X_train, y_train, scoring=\"r2\", max_evals=max_evals, cv_size=cv_size, n_jobs=n_jobs)\n",
    "best_params\n"
   ]
  },
  {
   "cell_type": "code",
   "execution_count": null,
   "metadata": {
    "_uuid": "6e8c8ca489598efca7c7a1141fae50354b204473",
    "collapsed": true
   },
   "outputs": [],
   "source": [
    "best_params = {'alpha': 0.03979354323226861, 'l1_ratio': 0.9027788528223015}"
   ]
  },
  {
   "cell_type": "code",
   "execution_count": null,
   "metadata": {
    "_uuid": "ab3bd9e867507a9a70f5cac15bba93cb3f495ae5",
    "collapsed": true
   },
   "outputs": [],
   "source": [
    "\n",
    "elasticnet.steps[-1][1].set_params(**best_params)\n",
    "\n",
    "evalModelByCV(elasticnet, X_train, y_train, scoring=\"neg_mean_squared_error\")\n",
    "#plot_my_learning_curves(X_train, y_train, X_test, y_test, elasticnet, scoring=\"r2\", cv=5, n_jobs=n_jobs)\n"
   ]
  },
  {
   "cell_type": "code",
   "execution_count": null,
   "metadata": {
    "_uuid": "9250c5e046cee9fb33cafddad2486fe254c528fd",
    "collapsed": true
   },
   "outputs": [],
   "source": []
  },
  {
   "cell_type": "raw",
   "metadata": {
    "_uuid": "3e1957b3e7e46479d6473a5891535579f19934e7"
   },
   "source": []
  },
  {
   "cell_type": "code",
   "execution_count": null,
   "metadata": {
    "_uuid": "5187531fff882624105fc7937b3042afdd51810b",
    "collapsed": true
   },
   "outputs": [],
   "source": []
  },
  {
   "cell_type": "markdown",
   "metadata": {
    "_uuid": "9205c29e0f304ef005cf0122dba27de1f81aa412"
   },
   "source": [
    "## kernel ridge"
   ]
  },
  {
   "cell_type": "code",
   "execution_count": null,
   "metadata": {
    "_uuid": "8cf6d741090df375f18d5fe416d0670b3f3600f0",
    "collapsed": true
   },
   "outputs": [],
   "source": [
    "krr = make_pipeline(\n",
    "        #RobustScaler(),\n",
    "        KernelRidge()\n",
    ")\n",
    "\n",
    "kernel_list = [\n",
    "    'rbf',\n",
    "#    'poly',\n",
    "    'sigmoid']\n",
    "par_space = {\n",
    "    'alpha':hp.uniform('alpha', 0, 1),\n",
    "    'gamma':hp.loguniform('gamma', -8, 2),\n",
    "    'kernel':hp.choice('kernel', kernel_list),\n",
    "    'degree':hp.randint('degree', 5),\n",
    "#    'coef0': # default value is enough\n",
    "    \n",
    "}"
   ]
  },
  {
   "cell_type": "raw",
   "metadata": {
    "_uuid": "339a23b6feea53aa345b46c79ae45b19d597f403"
   },
   "source": [
    "best_params = searchHyperParam(krr, par_space, X_train, y_train, scoring=\"r2\", max_evals=max_evals, cv_size=cv_size, n_jobs=n_jobs)\n",
    "best_params[\"kernel\"] = kernel_list[best_params[\"kernel\"]]\n",
    "best_params\n"
   ]
  },
  {
   "cell_type": "code",
   "execution_count": null,
   "metadata": {
    "_uuid": "daacbb828130fca1624095ec6a4101947cbce778",
    "collapsed": true
   },
   "outputs": [],
   "source": [
    "best_params = {'alpha': 0.06208805100456642,\n",
    " 'degree': 2,\n",
    " 'gamma': 0.000700959885815984,\n",
    " 'kernel': 'rbf'}"
   ]
  },
  {
   "cell_type": "code",
   "execution_count": null,
   "metadata": {
    "_uuid": "5c1726f2e44910ec81e3b7baf00c01f7a4db46e9",
    "collapsed": true
   },
   "outputs": [],
   "source": [
    "krr.steps[-1][1].set_params(**best_params)\n",
    "\n",
    "evalModelByCV(krr, X_train, y_train, scoring=\"neg_mean_squared_log_error\")\n",
    "#plot_my_learning_curves(X_train, y_train, X_test, y_test, krr, scoring=\"r2\", cv=5, n_jobs=n_jobs)\n"
   ]
  },
  {
   "cell_type": "code",
   "execution_count": null,
   "metadata": {
    "_uuid": "51d9ae12783ba9b3ff187c950ee346853f2ed01a",
    "collapsed": true
   },
   "outputs": [],
   "source": []
  },
  {
   "cell_type": "markdown",
   "metadata": {
    "_uuid": "badca92a332e8ce662c70eb9e89be39bb34194b4"
   },
   "source": [
    "## k neighbers"
   ]
  },
  {
   "cell_type": "code",
   "execution_count": null,
   "metadata": {
    "_uuid": "f0e2805094cbf554acc0a3e5883e5a867c6ba537",
    "collapsed": true
   },
   "outputs": [],
   "source": [
    "knr = make_pipeline(\n",
    "    #RobustScaler(),\n",
    "    KNeighborsRegressor()\n",
    ")\n",
    "\n",
    "par_space = {\n",
    "#    'n_neighbors':hp.choice('n_neighbors', [1,2,3,4,5,6,7,8,9,10]),\n",
    "#    'n_neighbors':hp.quniform('n_neighbors', 1, 10, 1),\n",
    "    'n_neighbors':hp.choice('n_neighbors', np.arange(1, 10, dtype=int))\n",
    "#    'coef0': # default value is enough\n",
    "    \n",
    "}"
   ]
  },
  {
   "cell_type": "raw",
   "metadata": {
    "_uuid": "f6696087040f0439f90a4b93ea9c7899f3d411a4"
   },
   "source": [
    "best_params = searchHyperParam(knr, par_space, X_train, y_train, scoring=\"r2\", max_evals=max_evals, cv_size=cv_size, n_jobs=n_jobs)\n",
    "best_params\n"
   ]
  },
  {
   "cell_type": "code",
   "execution_count": null,
   "metadata": {
    "_uuid": "840d31b4aa93b07056a3278fcec3ed4e278ed6b1",
    "collapsed": true
   },
   "outputs": [],
   "source": [
    "best_params = {'n_neighbors': 8}"
   ]
  },
  {
   "cell_type": "code",
   "execution_count": null,
   "metadata": {
    "_uuid": "0549b5ecee5c6ca424db931bb24e009ed70d510b",
    "collapsed": true
   },
   "outputs": [],
   "source": [
    "knr.steps[-1][1].set_params(**best_params)\n",
    "\n",
    "\n",
    "evalModelByCV(knr, X_train, y_train, scoring=\"neg_mean_squared_error\")\n",
    "\n",
    "#plot_my_learning_curves(X_train, y_train, X_test, y_test, knr, scoring=\"r2\", cv=5, n_jobs=n_jobs)"
   ]
  },
  {
   "cell_type": "code",
   "execution_count": null,
   "metadata": {
    "_uuid": "2b2038265b61d65bdf75fa0d15f2ae896bd36079",
    "collapsed": true
   },
   "outputs": [],
   "source": []
  },
  {
   "cell_type": "code",
   "execution_count": null,
   "metadata": {
    "_uuid": "b8106136a07c59210fed6404174b86e8e0beb0b3",
    "collapsed": true
   },
   "outputs": [],
   "source": []
  },
  {
   "cell_type": "markdown",
   "metadata": {
    "_uuid": "04bf28546741479eb80913a8a170a1fae6983118"
   },
   "source": [
    "## Random forest"
   ]
  },
  {
   "cell_type": "code",
   "execution_count": null,
   "metadata": {
    "_uuid": "659383dfa00469ed58eca5c1bfeab8216e5fc959",
    "collapsed": true
   },
   "outputs": [],
   "source": [
    "ranfore = make_pipeline(\n",
    "        #RobustScaler(),\n",
    "        RandomForestRegressor()\n",
    ")\n",
    "\n",
    "par_space = {\n",
    "    'n_estimators':hp.choice('n_estimators', np.arange(1, 100, dtype=int)),\n",
    "    'max_features':hp.choice('max_features', np.arange(1, 300, dtype=int)),\n",
    "    'max_depth':hp.choice('max_depth', np.arange(1, 300, dtype=int)),\n",
    "    'min_samples_split':hp.choice('min_samples_split', np.arange(2, 10, dtype=int)),\n",
    "    'min_samples_leaf':hp.choice('min_samples_leaf', np.arange(1, 9, dtype=int)),   \n",
    "}"
   ]
  },
  {
   "cell_type": "raw",
   "metadata": {
    "_uuid": "7fb7453de23f27a418c6f954a8d66081aecb1601"
   },
   "source": [
    "%%time\n",
    "best_params = searchHyperParam(ranfore, par_space, X_train, y_train, scoring=\"r2\", max_evals=max_evals, cv_size=cv_size, n_jobs=n_jobs)\n",
    "best_params"
   ]
  },
  {
   "cell_type": "code",
   "execution_count": null,
   "metadata": {
    "_uuid": "9a57adaec1b1761c8809761904b07cc82eafce8c",
    "collapsed": true
   },
   "outputs": [],
   "source": [
    "best_params = {'max_depth': 5,\n",
    " 'max_features': 226,\n",
    " 'min_samples_leaf': 5,\n",
    " 'min_samples_split': 3,\n",
    " 'n_estimators': 56}"
   ]
  },
  {
   "cell_type": "code",
   "execution_count": null,
   "metadata": {
    "_uuid": "c5d244ef6854e22dbb2be264b023da8a64f2c8a9",
    "collapsed": true
   },
   "outputs": [],
   "source": [
    "ranfore.steps[-1][1].set_params(**best_params)\n",
    "\n",
    "evalModelByCV(ranfore, X_train, y_train, scoring=\"neg_mean_squared_error\")\n",
    "#plot_my_learning_curves(X_train, y_train, X_test, y_test, ranfore, scoring=\"r2\", cv=5, n_jobs=n_jobs)\n",
    "# plot feature importance\n",
    "pd.concat((pd.DataFrame(X_train.columns, columns = ['variable']), \n",
    "           pd.DataFrame(ranfore.named_steps[\"randomforestregressor\"].feature_importances_, columns = ['importance'])), \n",
    "          axis = 1).sort_values(by='importance', ascending = False)"
   ]
  },
  {
   "cell_type": "code",
   "execution_count": null,
   "metadata": {
    "_uuid": "e7eaf31576094f3999599cea50e79bf571ba42ce",
    "collapsed": true
   },
   "outputs": [],
   "source": []
  },
  {
   "cell_type": "code",
   "execution_count": null,
   "metadata": {
    "_uuid": "d3ca2163bdd2eab3eba8b5fe38e834deeabcb330",
    "collapsed": true
   },
   "outputs": [],
   "source": []
  },
  {
   "cell_type": "markdown",
   "metadata": {
    "_uuid": "3d6dc7b72e03a6cb97cae29e679ecd98cb5136ae"
   },
   "source": [
    "## gradient boosting"
   ]
  },
  {
   "cell_type": "code",
   "execution_count": null,
   "metadata": {
    "_uuid": "8b876066b4849f14a12b35d217b17937a1ed861c",
    "collapsed": true
   },
   "outputs": [],
   "source": [
    "gboostreg = make_pipeline(\n",
    "        #RobustScaler(),\n",
    "        GradientBoostingRegressor()\n",
    ")\n",
    "\n",
    "loss_list = ['ls', 'lad', 'huber', 'quantile']\n",
    "\n",
    "par_space = {\n",
    "    'n_estimators':hp.choice('n_estimators', np.arange(1, 100, dtype=int)),\n",
    "    'learning_rate':hp.uniform('learning_rate', 0.000000001, 1.0),\n",
    "    'max_features':hp.choice('max_features', np.arange(1, 300, dtype=int)),\n",
    "    'max_depth':hp.choice('max_depth', np.arange(1, 300, dtype=int)),\n",
    "    'min_samples_split':hp.choice('min_samples_split', np.arange(2, 30, dtype=int)),\n",
    "    'min_samples_leaf':hp.choice('min_samples_leaf', np.arange(1, 29, dtype=int)),\n",
    "    'loss':hp.choice('loss', loss_list),\n",
    "    #'subsample':hp.uniform('learning_rate', 0.0, 1.0),\n",
    "    \n",
    "}\n"
   ]
  },
  {
   "cell_type": "raw",
   "metadata": {
    "_uuid": "ab2bff60da6f6caefa452927e97a8b22bd0ad2ee"
   },
   "source": [
    "%%time\n",
    "best_params = searchHyperParam(gboostreg, par_space, X_train, y_train, scoring=\"r2\", max_evals=max_evals, cv_size=cv_size, n_jobs=n_jobs)\n",
    "best_params[\"loss\"] = loss_list[best_params[\"loss\"]]\n",
    "best_params"
   ]
  },
  {
   "cell_type": "code",
   "execution_count": null,
   "metadata": {
    "_uuid": "f1b590d0cf95f5f2eac2352bb599185e84576694",
    "collapsed": true
   },
   "outputs": [],
   "source": [
    "best_params = {'learning_rate': 0.35189025799801155,\n",
    " 'loss': 'huber',\n",
    " 'max_depth': 3,\n",
    " 'max_features': 119,\n",
    " 'min_samples_leaf': 16,\n",
    " 'min_samples_split': 19,\n",
    " 'n_estimators': 48}"
   ]
  },
  {
   "cell_type": "code",
   "execution_count": null,
   "metadata": {
    "_uuid": "33e7529c1acd85b8c8b2bdb9633f4be3bdbfd703",
    "collapsed": true
   },
   "outputs": [],
   "source": [
    "gboostreg.steps[-1][1].set_params(**best_params)\n",
    "\n",
    "evalModelByCV(gboostreg, X_train, y_train, scoring=\"neg_mean_squared_error\")\n",
    "#plot_my_learning_curves(X_train, y_train, X_test, y_test, gboostreg, scoring=\"r2\", cv=5, n_jobs=n_jobs)\n",
    "# plot feature importance\n",
    "pd.concat((pd.DataFrame(X_train.columns, columns = ['variable']), \n",
    "           pd.DataFrame(gboostreg.named_steps[\"gradientboostingregressor\"].feature_importances_, columns = ['importance'])), \n",
    "          axis = 1).sort_values(by='importance', ascending = False)"
   ]
  },
  {
   "cell_type": "code",
   "execution_count": null,
   "metadata": {
    "_uuid": "dae320f8ab59ba4cc466ce7586f54a2508778c8b",
    "collapsed": true
   },
   "outputs": [],
   "source": []
  },
  {
   "cell_type": "code",
   "execution_count": null,
   "metadata": {
    "_uuid": "0adcae6b1ee02533047371f63ed6fcf009b8ec10",
    "collapsed": true
   },
   "outputs": [],
   "source": []
  },
  {
   "cell_type": "code",
   "execution_count": null,
   "metadata": {
    "_uuid": "55e193005be79e57e5a92dd09cc60574c1ac301b",
    "collapsed": true
   },
   "outputs": [],
   "source": []
  },
  {
   "cell_type": "markdown",
   "metadata": {
    "_uuid": "ed45a4f0f51c84449a97bf7ed5a75f6d7f9efdea"
   },
   "source": [
    "## XGBoost"
   ]
  },
  {
   "cell_type": "code",
   "execution_count": null,
   "metadata": {
    "_uuid": "00b2032403b2967a5d9f5e5176b6e6d57d5bcead",
    "collapsed": true
   },
   "outputs": [],
   "source": [
    "xgbmodel = make_pipeline(\n",
    "        #RobustScaler(),\n",
    "        XGBRegressor()\n",
    ")\n",
    "\n",
    "\n",
    "par_space = {\n",
    "    'n_estimators':hp.choice('n_estimators', np.arange(1, 100, dtype=int)),\n",
    "    'learning_rate':hp.uniform('learning_rate', 0.000000001, 1.0),\n",
    "    'max_depth':hp.choice('max_depth', np.arange(1, 300, dtype=int)), \n",
    "    'gamma':hp.uniform('gamma', 0.0, 5.0),\n",
    "    'min_child_weight':hp.uniform('min_child_weight', 0.0, 5.0),\n",
    "    'subsample': hp.uniform('subsample', 0.0, 1.0),\n",
    "    'colsample_bytree': hp.uniform('colsample_bytree', 0.0, 1.0),\n",
    "    'reg_alpha': hp.loguniform('reg_alpha', -6, 2),\n",
    "    'reg_lambda': hp.loguniform('reg_lambda', -6, 2),\n",
    "    'learning_rate': hp.uniform('learning_rate', 0.000000001, 1.0),\n",
    "}"
   ]
  },
  {
   "cell_type": "raw",
   "metadata": {
    "_uuid": "45b13d10dbb4cd48f40a93b089d1473a6d4b9176"
   },
   "source": [
    "%%time\n",
    "best_params = searchHyperParam(xgbmodel, par_space, X_train, y_train, scoring=\"r2\", max_evals=max_evals, cv_size=cv_size, n_jobs=n_jobs)\n",
    "best_params"
   ]
  },
  {
   "cell_type": "code",
   "execution_count": null,
   "metadata": {
    "_uuid": "01464b9c81b507a3cd49d2deae71babac0e3c280",
    "collapsed": true
   },
   "outputs": [],
   "source": [
    "best_params = {'colsample_bytree': 0.4708332878894328,\n",
    " 'gamma': 4.468853259609137,\n",
    " 'learning_rate': 0.05617427300476756,\n",
    " 'max_depth': 227,\n",
    " 'min_child_weight': 1.8959293704519609,\n",
    " 'n_estimators': 69,\n",
    " 'reg_alpha': 0.011073130482133953,\n",
    " 'reg_lambda': 0.00429738591644784,\n",
    " 'subsample': 0.034785099220768445}"
   ]
  },
  {
   "cell_type": "code",
   "execution_count": null,
   "metadata": {
    "_uuid": "ea6e730a40483823e56173024a45023f15ed99e1",
    "collapsed": true
   },
   "outputs": [],
   "source": [
    "xgbmodel.steps[-1][1].set_params(**best_params)\n",
    "\n",
    "evalModelByCV(xgbmodel, X_train, y_train, scoring=\"neg_mean_squared_error\")\n",
    "#plot_my_learning_curves(X_train, y_train, X_test, y_test, xgbmodel, scoring=\"r2\", cv=5, n_jobs=n_jobs)\n",
    "\n",
    "\n",
    "xgb.plot_importance(xgbmodel.named_steps[\"xgbregressor\"], max_num_features=15)\n",
    "plt.show()\n",
    "\n",
    "# plot feature importance\n",
    "pd.concat((pd.DataFrame(X_train.columns, columns = ['variable']), \n",
    "           pd.DataFrame(xgbmodel.named_steps[\"xgbregressor\"].feature_importances_, columns = ['importance'])), \n",
    "          axis = 1).sort_values(by='importance', ascending = False)"
   ]
  },
  {
   "cell_type": "code",
   "execution_count": null,
   "metadata": {
    "_uuid": "768fad7d06ded517ea1316430117fc72bd3307d6",
    "collapsed": true
   },
   "outputs": [],
   "source": []
  },
  {
   "cell_type": "code",
   "execution_count": null,
   "metadata": {
    "_uuid": "e894cda2ebea2e489aa7b8e6e2f1b7d81b5985de",
    "collapsed": true
   },
   "outputs": [],
   "source": []
  },
  {
   "cell_type": "markdown",
   "metadata": {
    "_uuid": "bb2df4796c3f08f28b5435e39fcda129615960fa"
   },
   "source": [
    "## LightGBM"
   ]
  },
  {
   "cell_type": "code",
   "execution_count": 83,
   "metadata": {
    "_uuid": "299f3b889c4b8b0a812c154ae2094bad9575d2d1",
    "collapsed": true
   },
   "outputs": [
    {
     "data": {
      "text/plain": [
       "\"\\npar_space = {\\n    'learning_rate':hp.uniform('learning_rate', 0.000000001, 1.0),\\n    'max_depth':hp.choice('max_depth', np.arange(1, 300, dtype=int)), \\n    'num_leaves':hp.choice('num_leaves', np.arange(2, 100, dtype=int)),\\n    'min_data_in_leaf':hp.choice('min_data_in_leaf', np.arange(1, 100, dtype=int)),\\n    \\n    'n_estimators':hp.choice('n_estimators', np.arange(1, 100, dtype=int)),\\n    'max_bin':hp.choice('max_bin', np.arange(2, 300, dtype=int)),\\n    'bagging_fraction': hp.uniform('bagging_fraction', 0.000000001, 1.0),\\n    'bagging_freq': hp.randint('bagging_freq', 10),\\n    'feature_fraction': hp.uniform('feature_fraction', 0.000000001, 1.0),\\n    'min_sum_hessian_in_leaf': hp.loguniform('min_sum_hessian_in_leaf', -6, 2),\\n}\\n\""
      ]
     },
     "execution_count": 83,
     "metadata": {},
     "output_type": "execute_result"
    }
   ],
   "source": [
    "lgbmodel = make_pipeline(\n",
    "        #RobustScaler(),\n",
    "        LGBMRegressor()\n",
    ")\n",
    "\n",
    "par_space = {\n",
    "    'learning_rate':hp.uniform('learning_rate', 0.000000001, 1.0),\n",
    "    'max_depth':hp.choice('max_depth', np.arange(1, 30, dtype=int)), \n",
    "    'num_leaves':hp.choice('num_leaves', np.arange(2, 10, dtype=int)),\n",
    "    'min_data_in_leaf':hp.choice('min_data_in_leaf', np.arange(1, 10, dtype=int)),\n",
    "    \n",
    "    'n_estimators':hp.choice('n_estimators', np.arange(1, 100, dtype=int)),\n",
    "    'max_bin':hp.choice('max_bin', np.arange(2, 30, dtype=int)),\n",
    "    'bagging_fraction': hp.uniform('bagging_fraction', 0.000000001, 1.0),\n",
    "    'bagging_freq': hp.randint('bagging_freq', 10),\n",
    "    'feature_fraction': hp.uniform('feature_fraction', 0.000000001, 1.0),\n",
    "    'min_sum_hessian_in_leaf': hp.loguniform('min_sum_hessian_in_leaf', -6, 2),\n",
    "}\n",
    "\n",
    "\"\"\"\n",
    "par_space = {\n",
    "    'learning_rate':hp.uniform('learning_rate', 0.000000001, 1.0),\n",
    "    'max_depth':hp.choice('max_depth', np.arange(1, 300, dtype=int)), \n",
    "    'num_leaves':hp.choice('num_leaves', np.arange(2, 100, dtype=int)),\n",
    "    'min_data_in_leaf':hp.choice('min_data_in_leaf', np.arange(1, 100, dtype=int)),\n",
    "    \n",
    "    'n_estimators':hp.choice('n_estimators', np.arange(1, 100, dtype=int)),\n",
    "    'max_bin':hp.choice('max_bin', np.arange(2, 300, dtype=int)),\n",
    "    'bagging_fraction': hp.uniform('bagging_fraction', 0.000000001, 1.0),\n",
    "    'bagging_freq': hp.randint('bagging_freq', 10),\n",
    "    'feature_fraction': hp.uniform('feature_fraction', 0.000000001, 1.0),\n",
    "    'min_sum_hessian_in_leaf': hp.loguniform('min_sum_hessian_in_leaf', -6, 2),\n",
    "}\n",
    "\"\"\""
   ]
  },
  {
   "cell_type": "code",
   "execution_count": 84,
   "metadata": {
    "_uuid": "31439b9adfdfff4bf84563527eb4dfb6a91d77ac",
    "collapsed": true,
    "scrolled": false
   },
   "outputs": [
    {
     "name": "stdout",
     "output_type": "stream",
     "text": [
      "Trial  0 , Params  {'bagging_fraction': 0.7448767973247651, 'bagging_freq': 9, 'feature_fraction': 0.7133657280700453, 'learning_rate': 0.5510473395246991, 'max_bin': 14, 'max_depth': 25, 'min_data_in_leaf': 4, 'min_sum_hessian_in_leaf': 1.1812150966364148, 'n_estimators': 36, 'num_leaves': 2}  -> Done. Score :  1.5960468117864863\n",
      "Trial  1 , Params  {'bagging_fraction': 0.15543558637275434, 'bagging_freq': 6, 'feature_fraction': 0.9558612641364349, 'learning_rate': 0.6908705477847313, 'max_bin': 15, 'max_depth': 3, 'min_data_in_leaf': 9, 'min_sum_hessian_in_leaf': 1.493570164462953, 'n_estimators': 75, 'num_leaves': 8}  -> Done. Score :  3.1209062733496515\n",
      "Trial  2 , Params  {'bagging_fraction': 0.9778380210901455, 'bagging_freq': 8, 'feature_fraction': 0.40070068775866446, 'learning_rate': 0.37785570536993396, 'max_bin': 9, 'max_depth': 3, 'min_data_in_leaf': 6, 'min_sum_hessian_in_leaf': 0.1614621686443674, 'n_estimators': 16, 'num_leaves': 8}  -> Done. Score :  1.5435037336805644\n",
      "Trial  3 , Params  {'bagging_fraction': 0.4088974684709212, 'bagging_freq': 0, 'feature_fraction': 0.1565741983195237, 'learning_rate': 0.4123404700182508, 'max_bin': 17, 'max_depth': 17, 'min_data_in_leaf': 5, 'min_sum_hessian_in_leaf': 0.004592496502215024, 'n_estimators': 79, 'num_leaves': 4}  -> Done. Score :  1.548220166168477\n",
      "Trial  4 , Params  {'bagging_fraction': 0.7635366755924962, 'bagging_freq': 8, 'feature_fraction': 0.811562553088482, 'learning_rate': 0.8465772289741279, 'max_bin': 19, 'max_depth': 21, 'min_data_in_leaf': 4, 'min_sum_hessian_in_leaf': 4.457744546247074, 'n_estimators': 88, 'num_leaves': 4}  -> Done. Score :  1.8797515309787407\n",
      "Trial  5 , Params  {'bagging_fraction': 0.33035454815616555, 'bagging_freq': 9, 'feature_fraction': 0.46604435657856014, 'learning_rate': 0.06265373749422949, 'max_bin': 10, 'max_depth': 14, 'min_data_in_leaf': 2, 'min_sum_hessian_in_leaf': 0.002700924076601916, 'n_estimators': 43, 'num_leaves': 3}  -> Done. Score :  1.6065505994264453\n",
      "Trial  6 , Params  {'bagging_fraction': 0.05803521160242948, 'bagging_freq': 0, 'feature_fraction': 0.8777656785917219, 'learning_rate': 0.517518530861816, 'max_bin': 4, 'max_depth': 10, 'min_data_in_leaf': 3, 'min_sum_hessian_in_leaf': 1.4018398002741126, 'n_estimators': 17, 'num_leaves': 7}  -> Done. Score :  1.5674448335086089\n",
      "Trial  7 , Params  {'bagging_fraction': 0.6710857669992475, 'bagging_freq': 0, 'feature_fraction': 0.5728721303343658, 'learning_rate': 0.14109599102687292, 'max_bin': 24, 'max_depth': 27, 'min_data_in_leaf': 3, 'min_sum_hessian_in_leaf': 5.66650728512355, 'n_estimators': 97, 'num_leaves': 4}  -> Done. Score :  1.5097941892855313\n",
      "Trial  8 , Params  {'bagging_fraction': 0.2436032720750525, 'bagging_freq': 8, 'feature_fraction': 0.1798691384664213, 'learning_rate': 0.43210892218041813, 'max_bin': 23, 'max_depth': 25, 'min_data_in_leaf': 2, 'min_sum_hessian_in_leaf': 0.4232098132751305, 'n_estimators': 19, 'num_leaves': 4}  -> Done. Score :  1.646771452921959\n",
      "Trial  9 , Params  {'bagging_fraction': 0.49192978524266195, 'bagging_freq': 7, 'feature_fraction': 0.9961549521493639, 'learning_rate': 0.08536194367775021, 'max_bin': 12, 'max_depth': 5, 'min_data_in_leaf': 8, 'min_sum_hessian_in_leaf': 7.31016027552472, 'n_estimators': 38, 'num_leaves': 5}  -> Done. Score :  1.5485099974618262\n",
      "Trial  10 , Params  {'bagging_fraction': 0.3103959977181523, 'bagging_freq': 1, 'feature_fraction': 0.6063357741761705, 'learning_rate': 0.3627905811727901, 'max_bin': 9, 'max_depth': 28, 'min_data_in_leaf': 6, 'min_sum_hessian_in_leaf': 0.28569733418546334, 'n_estimators': 7, 'num_leaves': 4}  -> Done. Score :  1.6216938010306197\n",
      "Trial  11 , Params  {'bagging_fraction': 0.8053907049887347, 'bagging_freq': 0, 'feature_fraction': 0.3941258724431605, 'learning_rate': 0.3611174514817994, 'max_bin': 21, 'max_depth': 10, 'min_data_in_leaf': 8, 'min_sum_hessian_in_leaf': 0.030917841559071388, 'n_estimators': 73, 'num_leaves': 4}  -> Done. Score :  1.5244848094116341\n",
      "Trial  12 , Params  {'bagging_fraction': 0.7477016206347928, 'bagging_freq': 0, 'feature_fraction': 0.9736242874533059, 'learning_rate': 0.48374779431638637, 'max_bin': 28, 'max_depth': 6, 'min_data_in_leaf': 3, 'min_sum_hessian_in_leaf': 0.21677670078463326, 'n_estimators': 52, 'num_leaves': 4}  -> Done. Score :  1.5581046805443781\n",
      "Trial  13 , Params  {'bagging_fraction': 0.23110076607170102, 'bagging_freq': 1, 'feature_fraction': 0.5263563579135059, 'learning_rate': 0.8496235550920139, 'max_bin': 23, 'max_depth': 1, 'min_data_in_leaf': 4, 'min_sum_hessian_in_leaf': 0.4941733016558107, 'n_estimators': 85, 'num_leaves': 3}  -> Done. Score :  2.196777608476133\n",
      "Trial  14 , Params  {'bagging_fraction': 0.38304009800066685, 'bagging_freq': 1, 'feature_fraction': 0.6922897398893055, 'learning_rate': 0.35970080983803426, 'max_bin': 9, 'max_depth': 10, 'min_data_in_leaf': 5, 'min_sum_hessian_in_leaf': 4.063778620795831, 'n_estimators': 30, 'num_leaves': 2}  -> Done. Score :  1.6014923067134146\n",
      "Trial  15 , Params  {'bagging_fraction': 0.13995717845983668, 'bagging_freq': 2, 'feature_fraction': 0.35594228289728364, 'learning_rate': 0.4255174489083803, 'max_bin': 19, 'max_depth': 3, 'min_data_in_leaf': 7, 'min_sum_hessian_in_leaf': 0.07616160756240828, 'n_estimators': 80, 'num_leaves': 5}  -> Done. Score :  2.1716016689044086\n",
      "Trial  16 , Params  {'bagging_fraction': 0.10385574212982894, 'bagging_freq': 9, 'feature_fraction': 0.5771244225558768, 'learning_rate': 0.18387997866792435, 'max_bin': 27, 'max_depth': 20, 'min_data_in_leaf': 9, 'min_sum_hessian_in_leaf': 2.952149267742489, 'n_estimators': 52, 'num_leaves': 4}  -> Done. Score :  1.606479984975963\n",
      "Trial  17 , Params  {'bagging_fraction': 0.7587918051229968, 'bagging_freq': 4, 'feature_fraction': 0.29662434982768915, 'learning_rate': 0.19171103396734543, 'max_bin': 17, 'max_depth': 26, 'min_data_in_leaf': 6, 'min_sum_hessian_in_leaf': 3.2789552895525076, 'n_estimators': 3, 'num_leaves': 9}  -> Done. Score :  1.6437020670007954\n",
      "Trial  18 , Params  {'bagging_fraction': 0.982492503284832, 'bagging_freq': 1, 'feature_fraction': 0.7093602335606132, 'learning_rate': 0.41672247332565154, 'max_bin': 10, 'max_depth': 11, 'min_data_in_leaf': 3, 'min_sum_hessian_in_leaf': 0.06704479756168329, 'n_estimators': 77, 'num_leaves': 5}  -> Done. Score :  1.555533115488127\n",
      "Trial  19 , Params  {'bagging_fraction': 0.46702504872823747, 'bagging_freq': 9, 'feature_fraction': 0.21388215362285615, 'learning_rate': 0.17801037058163077, 'max_bin': 4, 'max_depth': 10, 'min_data_in_leaf': 8, 'min_sum_hessian_in_leaf': 0.45447939326346615, 'n_estimators': 31, 'num_leaves': 7}  -> Done. Score :  1.525530500088674\n",
      "Trial  20 , Params  {'bagging_fraction': 0.6042574471914257, 'bagging_freq': 3, 'feature_fraction': 0.4567703331056211, 'learning_rate': 0.2684623599796574, 'max_bin': 21, 'max_depth': 2, 'min_data_in_leaf': 1, 'min_sum_hessian_in_leaf': 0.017317743312627015, 'n_estimators': 97, 'num_leaves': 6}  -> Done. Score :  1.5491606327433949\n",
      "Trial  21 , Params  {'bagging_fraction': 0.6081260351374076, 'bagging_freq': 5, 'feature_fraction': 0.03720680601828591, 'learning_rate': 0.01455619269675501, 'max_bin': 24, 'max_depth': 13, 'min_data_in_leaf': 8, 'min_sum_hessian_in_leaf': 0.016777775665273602, 'n_estimators': 73, 'num_leaves': 9}  -> Done. Score :  1.6149008773882805\n",
      "Trial  22 , Params  {'bagging_fraction': 0.8967507615508015, 'bagging_freq': 0, 'feature_fraction': 0.03311577211401984, 'learning_rate': 0.6223964191896803, 'max_bin': 25, 'max_depth': 27, 'min_data_in_leaf': 1, 'min_sum_hessian_in_leaf': 0.019809678641816684, 'n_estimators': 84, 'num_leaves': 6}  -> Done. Score :  1.6491362619548644\n",
      "Trial  23 , Params  {'bagging_fraction': 0.6284598149747986, 'bagging_freq': 0, 'feature_fraction': 0.27338004404921157, 'learning_rate': 0.2717327312577926, 'max_bin': 20, 'max_depth': 24, 'min_data_in_leaf': 3, 'min_sum_hessian_in_leaf': 0.045722297536604756, 'n_estimators': 98, 'num_leaves': 4}  -> Done. Score :  1.5297544273144812\n",
      "Trial  24 , Params  {'bagging_fraction': 0.8576840792508111, 'bagging_freq': 0, 'feature_fraction': 0.6174973511039249, 'learning_rate': 0.2807520322396946, 'max_bin': 5, 'max_depth': 22, 'min_data_in_leaf': 7, 'min_sum_hessian_in_leaf': 0.007320414570171033, 'n_estimators': 42, 'num_leaves': 4}  -> Done. Score :  1.530826168713483\n",
      "Trial  25 , Params  {'bagging_fraction': 0.6798273093436762, 'bagging_freq': 6, 'feature_fraction': 0.41091079176931367, 'learning_rate': 0.10224442019631796, 'max_bin': 21, 'max_depth': 8, 'min_data_in_leaf': 8, 'min_sum_hessian_in_leaf': 0.00966532790684649, 'n_estimators': 83, 'num_leaves': 7}  -> Done. Score :  1.4975731451681593\n",
      "Trial  26 , Params  {'bagging_fraction': 0.575272883038602, 'bagging_freq': 6, 'feature_fraction': 0.8012296743981623, 'learning_rate': 0.9749592067315714, 'max_bin': 24, 'max_depth': 4, 'min_data_in_leaf': 3, 'min_sum_hessian_in_leaf': 0.008021838199599202, 'n_estimators': 86, 'num_leaves': 6}  -> Done. Score :  2.3501306066014753\n",
      "Trial  27 , Params  {'bagging_fraction': 0.5591945276899105, 'bagging_freq': 6, 'feature_fraction': 0.5372190101858594, 'learning_rate': 0.07288547660420075, 'max_bin': 22, 'max_depth': 8, 'min_data_in_leaf': 8, 'min_sum_hessian_in_leaf': 0.002697265562185834, 'n_estimators': 94, 'num_leaves': 7}  -> Done. Score :  1.4953662100853553\n",
      "Trial  28 , Params  {'bagging_fraction': 0.6832639266573584, 'bagging_freq': 6, 'feature_fraction': 0.10956059107912086, 'learning_rate': 0.03663853093779842, 'max_bin': 22, 'max_depth': 8, 'min_data_in_leaf': 8, 'min_sum_hessian_in_leaf': 0.0029796770648940073, 'n_estimators': 94, 'num_leaves': 7}  -> Done. Score :  1.5123671335123565\n",
      "Trial  29 , Params  {'bagging_fraction': 0.5445705996827138, 'bagging_freq': 6, 'feature_fraction': 0.31720315465024307, 'learning_rate': 0.10427007817603542, 'max_bin': 13, 'max_depth': 8, 'min_data_in_leaf': 8, 'min_sum_hessian_in_leaf': 0.008346666234114564, 'n_estimators': 83, 'num_leaves': 7}  -> Done. Score :  1.4946202524393803\n",
      "Trial  30 , Params  {'bagging_fraction': 0.5492623694942358, 'bagging_freq': 6, 'feature_fraction': 0.30484466425868834, 'learning_rate': 0.0005237495097757255, 'max_bin': 13, 'max_depth': 19, 'min_data_in_leaf': 8, 'min_sum_hessian_in_leaf': 0.0043394921735095725, 'n_estimators': 48, 'num_leaves': 7}  -> Done. Score :  1.747113865915812\n",
      "Trial  31 , Params  {'bagging_fraction': 0.5210287822660247, 'bagging_freq': 6, 'feature_fraction': 0.510176826820886, 'learning_rate': 0.6085107660129273, 'max_bin': 22, 'max_depth': 12, 'min_data_in_leaf': 9, 'min_sum_hessian_in_leaf': 0.003945762455271916, 'n_estimators': 69, 'num_leaves': 7}  -> Done. Score :  1.8417811226368457\n",
      "Trial  32 , Params  {'bagging_fraction': 0.41891137401092915, 'bagging_freq': 7, 'feature_fraction': 0.6590534140097222, 'learning_rate': 0.24756860749278914, 'max_bin': 13, 'max_depth': 18, 'min_data_in_leaf': 8, 'min_sum_hessian_in_leaf': 0.11341018303996012, 'n_estimators': 53, 'num_leaves': 8}  -> Done. Score :  1.5636705892387401\n",
      "Trial  33 , Params  {'bagging_fraction': 0.4634756864611773, 'bagging_freq': 2, 'feature_fraction': 0.1082355243444279, 'learning_rate': 0.7552144471475946, 'max_bin': 2, 'max_depth': 16, 'min_data_in_leaf': 5, 'min_sum_hessian_in_leaf': 0.009564796431278099, 'n_estimators': 13, 'num_leaves': 2}  -> Done. Score :  1.7413325793481051\n",
      "Trial  34 , Params  {'bagging_fraction': 0.358340307561523, 'bagging_freq': 3, 'feature_fraction': 0.24457954719369202, 'learning_rate': 0.10833638671432447, 'max_bin': 18, 'max_depth': 23, 'min_data_in_leaf': 4, 'min_sum_hessian_in_leaf': 0.030798283789691076, 'n_estimators': 89, 'num_leaves': 7}  -> Done. Score :  1.5085010346167151\n",
      "Trial  35 , Params  {'bagging_fraction': 0.9153923723086862, 'bagging_freq': 4, 'feature_fraction': 0.786779708747561, 'learning_rate': 0.009949866934202967, 'max_bin': 7, 'max_depth': 8, 'min_data_in_leaf': 2, 'min_sum_hessian_in_leaf': 0.0025749212156392074, 'n_estimators': 28, 'num_leaves': 8}  -> Done. Score :  1.6972912327801999\n",
      "Trial  36 , Params  {'bagging_fraction': 0.2699484492937179, 'bagging_freq': 5, 'feature_fraction': 0.35108198200466634, 'learning_rate': 0.31107239548060783, 'max_bin': 29, 'max_depth': 9, 'min_data_in_leaf': 1, 'min_sum_hessian_in_leaf': 0.00559268501998746, 'n_estimators': 71, 'num_leaves': 7}  -> Done. Score :  1.7382329133316572\n",
      "Trial  37 , Params  {'bagging_fraction': 0.8222593239168985, 'bagging_freq': 6, 'feature_fraction': 0.8740359415213481, 'learning_rate': 0.2074232248595876, 'max_bin': 16, 'max_depth': 15, 'min_data_in_leaf': 8, 'min_sum_hessian_in_leaf': 0.012141540695176959, 'n_estimators': 39, 'num_leaves': 3}  -> Done. Score :  1.5572561537291139\n",
      "Trial  38 , Params  {'bagging_fraction': 0.40919624457447606, 'bagging_freq': 6, 'feature_fraction': 0.4647723005946161, 'learning_rate': 0.12308376181962642, 'max_bin': 26, 'max_depth': 7, 'min_data_in_leaf': 6, 'min_sum_hessian_in_leaf': 0.7872650425152316, 'n_estimators': 87, 'num_leaves': 7}  -> Done. Score :  1.5110013501431958\n",
      "Trial  39 , Params  {'bagging_fraction': 0.18905405664563163, 'bagging_freq': 8, 'feature_fraction': 0.5263949954210886, 'learning_rate': 0.49238472259599697, 'max_bin': 11, 'max_depth': 8, 'min_data_in_leaf': 7, 'min_sum_hessian_in_leaf': 0.030090868923851398, 'n_estimators': 61, 'num_leaves': 9}  -> Done. Score :  2.2300585219330293\n",
      "Trial  40 , Params  {'bagging_fraction': 0.706718301400113, 'bagging_freq': 6, 'feature_fraction': 0.12359881224643371, 'learning_rate': 0.061534314271852644, 'max_bin': 3, 'max_depth': 29, 'min_data_in_leaf': 9, 'min_sum_hessian_in_leaf': 0.12891119602899065, 'n_estimators': 54, 'num_leaves': 2}  -> Done. Score :  1.6659103015075125\n",
      "Trial  41 , Params  {'bagging_fraction': 0.3110666232284731, 'bagging_freq': 7, 'feature_fraction': 0.7535349548655059, 'learning_rate': 0.5600951532934334, 'max_bin': 8, 'max_depth': 17, 'min_data_in_leaf': 2, 'min_sum_hessian_in_leaf': 0.002656379612686935, 'n_estimators': 14, 'num_leaves': 7}  -> Done. Score :  1.7273909072581821\n",
      "Trial  42 , Params  {'bagging_fraction': 0.5251932262351059, 'bagging_freq': 3, 'feature_fraction': 0.8673307210429644, 'learning_rate': 0.997413056220047, 'max_bin': 6, 'max_depth': 14, 'min_data_in_leaf': 8, 'min_sum_hessian_in_leaf': 0.0056997041215851646, 'n_estimators': 20, 'num_leaves': 8}  -> Done. Score :  2.117372488249167\n",
      "Trial  43 , Params  {'bagging_fraction': 0.01301046813266038, 'bagging_freq': 8, 'feature_fraction': 0.42209256028132774, 'learning_rate': 0.33093497475823075, 'max_bin': 14, 'max_depth': 5, 'min_data_in_leaf': 5, 'min_sum_hessian_in_leaf': 0.05030918780536804, 'n_estimators': 78, 'num_leaves': 3}  -> Done. Score :  2.467881718955587\n",
      "Trial  44 , Params  {'bagging_fraction': 0.6401296905064552, 'bagging_freq': 4, 'feature_fraction': 0.33335115362715995, 'learning_rate': 0.7259138290544296, 'max_bin': 13, 'max_depth': 25, 'min_data_in_leaf': 4, 'min_sum_hessian_in_leaf': 0.013427260809120448, 'n_estimators': 32, 'num_leaves': 7}  -> Done. Score :  1.7873732056155585\n",
      "Trial  45 , Params  {'bagging_fraction': 0.4581757704383246, 'bagging_freq': 2, 'feature_fraction': 0.6362064042825422, 'learning_rate': 0.15970330067375188, 'max_bin': 15, 'max_depth': 21, 'min_data_in_leaf': 8, 'min_sum_hessian_in_leaf': 0.024877794931319055, 'n_estimators': 92, 'num_leaves': 5}  -> Done. Score :  1.5333774381298604\n",
      "Trial  46 , Params  {'bagging_fraction': 0.7207685386006224, 'bagging_freq': 6, 'feature_fraction': 0.18544068329737395, 'learning_rate': 0.8956357838997657, 'max_bin': 22, 'max_depth': 28, 'min_data_in_leaf': 8, 'min_sum_hessian_in_leaf': 0.0038510726339753523, 'n_estimators': 49, 'num_leaves': 7}  -> Done. Score :  1.9053796540285466\n",
      "Trial  47 , Params  {'bagging_fraction': 0.5667566387550039, 'bagging_freq': 5, 'feature_fraction': 0.5527746170227953, 'learning_rate': 0.22966850382120568, 'max_bin': 12, 'max_depth': 8, 'min_data_in_leaf': 6, 'min_sum_hessian_in_leaf': 0.29707925857300727, 'n_estimators': 27, 'num_leaves': 2}  -> Done. Score :  1.6232538766446232\n",
      "Trial  48 , Params  {'bagging_fraction': 0.7844071387313482, 'bagging_freq': 9, 'feature_fraction': 0.3808285624349573, 'learning_rate': 0.06251580553590905, 'max_bin': 16, 'max_depth': 6, 'min_data_in_leaf': 2, 'min_sum_hessian_in_leaf': 0.07659428521435695, 'n_estimators': 10, 'num_leaves': 9}  -> Done. Score :  1.6391125080950053\n",
      "Trial  49 , Params  {'bagging_fraction': 0.3428269883571299, 'bagging_freq': 6, 'feature_fraction': 0.4744853747878317, 'learning_rate': 0.39049718074724205, 'max_bin': 28, 'max_depth': 1, 'min_data_in_leaf': 7, 'min_sum_hessian_in_leaf': 1.0361935290443054, 'n_estimators': 57, 'num_leaves': 3}  -> Done. Score :  1.591133239112782\n",
      "Trial  50 , Params  {'bagging_fraction': 0.28410775330250837, 'bagging_freq': 7, 'feature_fraction': 0.671279073158433, 'learning_rate': 0.4512665265898177, 'max_bin': 17, 'max_depth': 11, 'min_data_in_leaf': 9, 'min_sum_hessian_in_leaf': 0.18745875480553315, 'n_estimators': 90, 'num_leaves': 6}  -> Done. Score :  1.9068559553403766\n",
      "Trial  51 , Params  {'bagging_fraction': 0.18829270594092817, 'bagging_freq': 2, 'feature_fraction': 0.9462841849626997, 'learning_rate': 0.5430444468721768, 'max_bin': 27, 'max_depth': 20, 'min_data_in_leaf': 4, 'min_sum_hessian_in_leaf': 0.0062982642196892005, 'n_estimators': 83, 'num_leaves': 5}  -> Done. Score :  2.6715948572610326\n",
      "Trial  52 , Params  {'bagging_fraction': 0.4902374513291058, 'bagging_freq': 1, 'feature_fraction': 0.5825546312171557, 'learning_rate': 0.14084800242513662, 'max_bin': 23, 'max_depth': 3, 'min_data_in_leaf': 5, 'min_sum_hessian_in_leaf': 0.0032933524411397435, 'n_estimators': 81, 'num_leaves': 7}  -> Done. Score :  1.5169205188995216\n",
      "Trial  53 , Params  {'bagging_fraction': 0.9197607013447417, 'bagging_freq': 8, 'feature_fraction': 0.7524407891561675, 'learning_rate': 0.3240996292897588, 'max_bin': 19, 'max_depth': 2, 'min_data_in_leaf': 1, 'min_sum_hessian_in_leaf': 0.01343708931323604, 'n_estimators': 66, 'num_leaves': 8}  -> Done. Score :  1.5584877756608002\n",
      "Trial  54 , Params  {'bagging_fraction': 0.377507750689998, 'bagging_freq': 9, 'feature_fraction': 0.2471794769990917, 'learning_rate': 0.6435623887433201, 'max_bin': 10, 'max_depth': 26, 'min_data_in_leaf': 8, 'min_sum_hessian_in_leaf': 0.04683487875741384, 'n_estimators': 45, 'num_leaves': 7}  -> Done. Score :  1.8800910243730962\n",
      "Trial  55 , Params  {'bagging_fraction': 0.6406930949293251, 'bagging_freq': 4, 'feature_fraction': 0.06426626483160663, 'learning_rate': 0.03732531936844209, 'max_bin': 25, 'max_depth': 13, 'min_data_in_leaf': 8, 'min_sum_hessian_in_leaf': 0.005013769845227388, 'n_estimators': 44, 'num_leaves': 9}  -> Done. Score :  1.5640520116439318\n",
      "Trial  56 , Params  {'bagging_fraction': 0.8400185853798192, 'bagging_freq': 6, 'feature_fraction': 0.915449167065123, 'learning_rate': 0.22511094026958794, 'max_bin': 9, 'max_depth': 24, 'min_data_in_leaf': 3, 'min_sum_hessian_in_leaf': 2.316320907701748, 'n_estimators': 94, 'num_leaves': 6}  -> Done. Score :  1.5181703736180072\n",
      "Trial  57 , Params  {'bagging_fraction': 0.43468345180104745, 'bagging_freq': 3, 'feature_fraction': 0.42698795336202067, 'learning_rate': 0.08570150488700362, 'max_bin': 20, 'max_depth': 4, 'min_data_in_leaf': 6, 'min_sum_hessian_in_leaf': 0.08978829422679702, 'n_estimators': 40, 'num_leaves': 5}  -> Done. Score :  1.5403388773644615\n",
      "Trial  58 , Params  {'bagging_fraction': 0.5935855564699627, 'bagging_freq': 5, 'feature_fraction': 0.31182508924320973, 'learning_rate': 0.46991828741521974, 'max_bin': 4, 'max_depth': 19, 'min_data_in_leaf': 8, 'min_sum_hessian_in_leaf': 0.019391374669272696, 'n_estimators': 56, 'num_leaves': 2}  -> Done. Score :  1.5867676974030593\n",
      "Trial  59 , Params  {'bagging_fraction': 0.07600183774713454, 'bagging_freq': 6, 'feature_fraction': 0.1795677082602663, 'learning_rate': 0.8195027929505949, 'max_bin': 22, 'max_depth': 8, 'min_data_in_leaf': 7, 'min_sum_hessian_in_leaf': 0.6352348020317888, 'n_estimators': 34, 'num_leaves': 7}  -> Done. Score :  3.43766951561195\n",
      "Trial  60 , Params  {'bagging_fraction': 0.8687063051699595, 'bagging_freq': 6, 'feature_fraction': 0.8336858924081696, 'learning_rate': 0.16717345675901185, 'max_bin': 5, 'max_depth': 22, 'min_data_in_leaf': 2, 'min_sum_hessian_in_leaf': 0.009482976435869726, 'n_estimators': 70, 'num_leaves': 3}  -> Done. Score :  1.5326065195172887\n",
      "Trial  61 , Params  {'bagging_fraction': 0.7927375557121799, 'bagging_freq': 1, 'feature_fraction': 0.2718311471633597, 'learning_rate': 0.280574058592448, 'max_bin': 13, 'max_depth': 27, 'min_data_in_leaf': 1, 'min_sum_hessian_in_leaf': 0.2833230438333515, 'n_estimators': 93, 'num_leaves': 4}  -> Done. Score :  1.5316998777877975\n",
      "Trial  62 , Params  {'bagging_fraction': 0.9574636993332324, 'bagging_freq': 7, 'feature_fraction': 0.7268511335628435, 'learning_rate': 0.03644562183193204, 'max_bin': 2, 'max_depth': 12, 'min_data_in_leaf': 8, 'min_sum_hessian_in_leaf': 0.022379611704505843, 'n_estimators': 21, 'num_leaves': 7}  -> Done. Score :  1.7114027854018705\n",
      "Trial  63 , Params  {'bagging_fraction': 0.5243489804905048, 'bagging_freq': 0, 'feature_fraction': 0.5466494367036182, 'learning_rate': 0.13770159903721324, 'max_bin': 18, 'max_depth': 16, 'min_data_in_leaf': 9, 'min_sum_hessian_in_leaf': 6.822486159609423, 'n_estimators': 1, 'num_leaves': 7}  -> Done. Score :  1.7263044512232402\n",
      "Trial  64 , Params  {'bagging_fraction': 0.731140281174185, 'bagging_freq': 9, 'feature_fraction': 0.3776878947355037, 'learning_rate': 0.30685252284740827, 'max_bin': 7, 'max_depth': 15, 'min_data_in_leaf': 4, 'min_sum_hessian_in_leaf': 0.037166142044864334, 'n_estimators': 62, 'num_leaves': 8}  -> Done. Score :  1.5539559014334414\n",
      "Trial  65 , Params  {'bagging_fraction': 0.6735822649230766, 'bagging_freq': 6, 'feature_fraction': 0.430807972460234, 'learning_rate': 0.08768390617828464, 'max_bin': 21, 'max_depth': 8, 'min_data_in_leaf': 8, 'min_sum_hessian_in_leaf': 0.010060126082515636, 'n_estimators': 2, 'num_leaves': 7}  -> Done. Score :  1.717771887266628\n",
      "Trial  66 , Params  {'bagging_fraction': 0.7000078282270414, 'bagging_freq': 6, 'feature_fraction': 0.4944689495449882, 'learning_rate': 0.0005427449926664885, 'max_bin': 21, 'max_depth': 8, 'min_data_in_leaf': 8, 'min_sum_hessian_in_leaf': 0.007061872994145826, 'n_estimators': 83, 'num_leaves': 7}  -> Done. Score :  1.7426147623108772\n",
      "Trial  67 , Params  {'bagging_fraction': 0.6568136669900336, 'bagging_freq': 6, 'feature_fraction': 0.39434597409849126, 'learning_rate': 0.18867017663549787, 'max_bin': 29, 'max_depth': 18, 'min_data_in_leaf': 8, 'min_sum_hessian_in_leaf': 0.0034663278369730147, 'n_estimators': 35, 'num_leaves': 7}  -> Done. Score :  1.509620279813686\n",
      "Trial  68 , Params  {'bagging_fraction': 0.7491224066072846, 'bagging_freq': 6, 'feature_fraction': 0.5863138877176565, 'learning_rate': 0.3882623482790691, 'max_bin': 21, 'max_depth': 9, 'min_data_in_leaf': 8, 'min_sum_hessian_in_leaf': 0.01581332438554695, 'n_estimators': 11, 'num_leaves': 7}  -> Done. Score :  1.5381990410956587\n",
      "Trial  69 , Params  {'bagging_fraction': 0.5564509211203791, 'bagging_freq': 6, 'feature_fraction': 0.20975501956587622, 'learning_rate': 0.11082185475138608, 'max_bin': 8, 'max_depth': 23, 'min_data_in_leaf': 8, 'min_sum_hessian_in_leaf': 0.004542113214297154, 'n_estimators': 74, 'num_leaves': 7}  -> Done. Score :  1.5016818459827324\n",
      "Trial  70 , Params  {'bagging_fraction': 0.6136862829910246, 'bagging_freq': 6, 'feature_fraction': 0.4945560254130611, 'learning_rate': 0.2539307499932736, 'max_bin': 26, 'max_depth': 8, 'min_data_in_leaf': 3, 'min_sum_hessian_in_leaf': 0.05774289589341402, 'n_estimators': 51, 'num_leaves': 6}  -> Done. Score :  1.5439109120313221\n",
      "Trial  71 , Params  {'bagging_fraction': 0.5911287227238494, 'bagging_freq': 2, 'feature_fraction': 0.6255874878191043, 'learning_rate': 0.3546055218583932, 'max_bin': 3, 'max_depth': 7, 'min_data_in_leaf': 5, 'min_sum_hessian_in_leaf': 0.002544598037317482, 'n_estimators': 99, 'num_leaves': 7}  -> Done. Score :  1.6550404593513148\n",
      "Trial  72 , Params  {'bagging_fraction': 0.4999948048630444, 'bagging_freq': 4, 'feature_fraction': 0.33335892102744935, 'learning_rate': 0.09412773012727649, 'max_bin': 11, 'max_depth': 29, 'min_data_in_leaf': 8, 'min_sum_hessian_in_leaf': 0.008533235273068221, 'n_estimators': 96, 'num_leaves': 9}  -> Done. Score :  1.4953848299776855\n",
      "Trial  73 , Params  {'bagging_fraction': 0.4915962211305932, 'bagging_freq': 4, 'feature_fraction': 0.4460688539902226, 'learning_rate': 0.031184041320395248, 'max_bin': 6, 'max_depth': 29, 'min_data_in_leaf': 8, 'min_sum_hessian_in_leaf': 0.025063601166690708, 'n_estimators': 33, 'num_leaves': 9}  -> Done. Score :  1.603899273107471\n",
      "Trial  74 , Params  {'bagging_fraction': 0.3903800677745988, 'bagging_freq': 4, 'feature_fraction': 0.22792558446729647, 'learning_rate': 0.20382323150774895, 'max_bin': 14, 'max_depth': 29, 'min_data_in_leaf': 6, 'min_sum_hessian_in_leaf': 0.035828630626287127, 'n_estimators': 25, 'num_leaves': 9}  -> Done. Score :  1.5271551582652956\n",
      "Trial  75 , Params  {'bagging_fraction': 0.4378803471087522, 'bagging_freq': 4, 'feature_fraction': 0.14056908441961663, 'learning_rate': 0.1615490170623946, 'max_bin': 11, 'max_depth': 21, 'min_data_in_leaf': 8, 'min_sum_hessian_in_leaf': 0.011390561486804542, 'n_estimators': 96, 'num_leaves': 9}  -> Done. Score :  1.528516569691647\n",
      "Trial  76 , Params  {'bagging_fraction': 0.2628737979824843, 'bagging_freq': 4, 'feature_fraction': 0.3328008333030674, 'learning_rate': 0.0003387590223768444, 'max_bin': 11, 'max_depth': 29, 'min_data_in_leaf': 1, 'min_sum_hessian_in_leaf': 0.007504441711071402, 'n_estimators': 26, 'num_leaves': 9}  -> Done. Score :  1.7499549520007138\n",
      "Trial  77 , Params  {'bagging_fraction': 0.5395472739084565, 'bagging_freq': 3, 'feature_fraction': 0.002444741840953002, 'learning_rate': 0.06807703034574687, 'max_bin': 15, 'max_depth': 14, 'min_data_in_leaf': 7, 'min_sum_hessian_in_leaf': 0.0972471998598936, 'n_estimators': 37, 'num_leaves': 9}  -> Done. Score :  1.639834783101847\n",
      "Trial  78 , Params  {'bagging_fraction': 0.21707059245437266, 'bagging_freq': 8, 'feature_fraction': 0.28265523013594956, 'learning_rate': 0.23321559911087664, 'max_bin': 11, 'max_depth': 17, 'min_data_in_leaf': 2, 'min_sum_hessian_in_leaf': 0.00863086691501868, 'n_estimators': 72, 'num_leaves': 4}  -> Done. Score :  1.6008041447443824\n",
      "Trial  79 , Params  {'bagging_fraction': 0.32403386959762326, 'bagging_freq': 4, 'feature_fraction': 0.0592407794005711, 'learning_rate': 0.42689347811796513, 'max_bin': 22, 'max_depth': 25, 'min_data_in_leaf': 9, 'min_sum_hessian_in_leaf': 0.1445030681384336, 'n_estimators': 63, 'num_leaves': 2}  -> Done. Score :  1.6225748107407043\n",
      "Trial  80 , Params  {'bagging_fraction': 0.49987604070577574, 'bagging_freq': 1, 'feature_fraction': 0.3646964957469153, 'learning_rate': 0.5223369486873095, 'max_bin': 28, 'max_depth': 5, 'min_data_in_leaf': 8, 'min_sum_hessian_in_leaf': 0.0030084434530873072, 'n_estimators': 58, 'num_leaves': 5}  -> Done. Score :  1.7130958642548768\n",
      "Trial  81 , Params  {'bagging_fraction': 0.13649731113941393, 'bagging_freq': 5, 'feature_fraction': 0.5206700738934404, 'learning_rate': 0.29890662255452216, 'max_bin': 13, 'max_depth': 28, 'min_data_in_leaf': 3, 'min_sum_hessian_in_leaf': 0.015591262019196932, 'n_estimators': 9, 'num_leaves': 9}  -> Done. Score :  1.6421287004375476\n",
      "Trial  82 , Params  {'bagging_fraction': 0.4677687191980357, 'bagging_freq': 4, 'feature_fraction': 0.3297849138776672, 'learning_rate': 0.12887982943869625, 'max_bin': 24, 'max_depth': 6, 'min_data_in_leaf': 5, 'min_sum_hessian_in_leaf': 0.004756342448223668, 'n_estimators': 96, 'num_leaves': 3}  -> Done. Score :  1.536710961778277\n",
      "Trial  83 , Params  {'bagging_fraction': 0.3771432654865651, 'bagging_freq': 0, 'feature_fraction': 0.6529779910911324, 'learning_rate': 0.34154470360733596, 'max_bin': 12, 'max_depth': 10, 'min_data_in_leaf': 4, 'min_sum_hessian_in_leaf': 0.005982337090360792, 'n_estimators': 82, 'num_leaves': 9}  -> Done. Score :  1.5355965020543019\n",
      "Trial  84 , Params  {'bagging_fraction': 0.34653617064182596, 'bagging_freq': 7, 'feature_fraction': 0.2526556671649577, 'learning_rate': 0.05767451671886126, 'max_bin': 27, 'max_depth': 1, 'min_data_in_leaf': 8, 'min_sum_hessian_in_leaf': 0.0657575343188331, 'n_estimators': 15, 'num_leaves': 8}  -> Done. Score :  1.7094395647108467\n",
      "Trial  85 , Params  {'bagging_fraction': 0.7765289184262301, 'bagging_freq': 9, 'feature_fraction': 0.08971289246702735, 'learning_rate': 0.5821959736853738, 'max_bin': 17, 'max_depth': 11, 'min_data_in_leaf': 8, 'min_sum_hessian_in_leaf': 0.002485525955321303, 'n_estimators': 55, 'num_leaves': 6}  -> Done. Score :  1.629926006658134\n",
      "Trial  86 , Params  {'bagging_fraction': 0.2957384083241559, 'bagging_freq': 8, 'feature_fraction': 0.15530118974625287, 'learning_rate': 0.9269794962539243, 'max_bin': 25, 'max_depth': 20, 'min_data_in_leaf': 6, 'min_sum_hessian_in_leaf': 1.678235114585676, 'n_estimators': 5, 'num_leaves': 4}  -> Done. Score :  1.7216427347445766\n",
      "Trial  87 , Params  {'bagging_fraction': 0.5720372591791345, 'bagging_freq': 2, 'feature_fraction': 0.3999227277973707, 'learning_rate': 0.10279797515025108, 'max_bin': 19, 'max_depth': 26, 'min_data_in_leaf': 8, 'min_sum_hessian_in_leaf': 0.0035597608792856997, 'n_estimators': 60, 'num_leaves': 5}  -> Done. Score :  1.5164059688811735\n",
      "Trial  88 , Params  {'bagging_fraction': 0.3994899177762962, 'bagging_freq': 3, 'feature_fraction': 0.5558979209430412, 'learning_rate': 0.21170904485241854, 'max_bin': 11, 'max_depth': 3, 'min_data_in_leaf': 7, 'min_sum_hessian_in_leaf': 0.01365169873709194, 'n_estimators': 95, 'num_leaves': 2}  -> Done. Score :  1.56098532066346\n",
      "Trial  89 , Params  {'bagging_fraction': 0.6149508767062539, 'bagging_freq': 5, 'feature_fraction': 0.6846874789447464, 'learning_rate': 0.1556231721803385, 'max_bin': 23, 'max_depth': 13, 'min_data_in_leaf': 1, 'min_sum_hessian_in_leaf': 0.03764631765258533, 'n_estimators': 50, 'num_leaves': 3}  -> Done. Score :  1.552535766302397\n",
      "Trial  90 , Params  {'bagging_fraction': 0.42007808245703837, 'bagging_freq': 1, 'feature_fraction': 0.20098960192661097, 'learning_rate': 0.24942236550226682, 'max_bin': 22, 'max_depth': 24, 'min_data_in_leaf': 2, 'min_sum_hessian_in_leaf': 0.025984814805381215, 'n_estimators': 46, 'num_leaves': 9}  -> Done. Score :  1.5577855266845058\n",
      "Trial  91 , Params  {'bagging_fraction': 0.5387784476553168, 'bagging_freq': 4, 'feature_fraction': 0.4728503640867245, 'learning_rate': 0.01430280860042081, 'max_bin': 10, 'max_depth': 4, 'min_data_in_leaf': 9, 'min_sum_hessian_in_leaf': 0.011294652444051902, 'n_estimators': 8, 'num_leaves': 8}  -> Done. Score :  1.7306176686517925\n",
      "Trial  92 , Params  {'bagging_fraction': 0.7007027088719324, 'bagging_freq': 7, 'feature_fraction': 0.6001781326266102, 'learning_rate': 0.45108766155001817, 'max_bin': 20, 'max_depth': 2, 'min_data_in_leaf': 8, 'min_sum_hessian_in_leaf': 0.006737132871531745, 'n_estimators': 65, 'num_leaves': 6}  -> Done. Score :  1.5747820209433228\n",
      "Trial  93 , Params  {'bagging_fraction': 0.6509108954538675, 'bagging_freq': 0, 'feature_fraction': 0.29801243682550227, 'learning_rate': 0.17861706987007192, 'max_bin': 13, 'max_depth': 29, 'min_data_in_leaf': 5, 'min_sum_hessian_in_leaf': 0.019818633280418718, 'n_estimators': 29, 'num_leaves': 7}  -> Done. Score :  1.509128488313043\n",
      "Trial  94 , Params  {'bagging_fraction': 0.4547431294915628, 'bagging_freq': 6, 'feature_fraction': 0.44778780927171474, 'learning_rate': 0.6886757295670322, 'max_bin': 4, 'max_depth': 19, 'min_data_in_leaf': 4, 'min_sum_hessian_in_leaf': 0.20960455343733017, 'n_estimators': 64, 'num_leaves': 4}  -> Done. Score :  1.8642790306793686\n",
      "Trial  95 , Params  {'bagging_fraction': 0.815020043362616, 'bagging_freq': 9, 'feature_fraction': 0.1707417628594885, 'learning_rate': 0.3992326330853259, 'max_bin': 16, 'max_depth': 27, 'min_data_in_leaf': 3, 'min_sum_hessian_in_leaf': 0.0052677335470774815, 'n_estimators': 12, 'num_leaves': 2}  -> Done. Score :  1.643692832271825\n",
      "Trial  96 , Params  {'bagging_fraction': 0.48115229023630474, 'bagging_freq': 2, 'feature_fraction': 0.7202310572415966, 'learning_rate': 0.07965774721416302, 'max_bin': 9, 'max_depth': 22, 'min_data_in_leaf': 8, 'min_sum_hessian_in_leaf': 0.004301273842731605, 'n_estimators': 23, 'num_leaves': 9}  -> Done. Score :  1.541814886830178\n",
      "Trial  97 , Params  {'bagging_fraction': 0.5139401870107464, 'bagging_freq': 4, 'feature_fraction': 0.3547995355831505, 'learning_rate': 0.285787098718114, 'max_bin': 5, 'max_depth': 12, 'min_data_in_leaf': 6, 'min_sum_hessian_in_leaf': 0.0029748677917564173, 'n_estimators': 59, 'num_leaves': 7}  -> Done. Score :  1.5552542122224156\n",
      "Trial  98 , Params  {'bagging_fraction': 0.5906561615594336, 'bagging_freq': 6, 'feature_fraction': 0.5329021217389773, 'learning_rate': 0.03131613317395736, 'max_bin': 2, 'max_depth': 16, 'min_data_in_leaf': 8, 'min_sum_hessian_in_leaf': 0.042050623171464366, 'n_estimators': 4, 'num_leaves': 5}  -> Done. Score :  1.7437147301214404\n",
      "Trial  99 , Params  {'bagging_fraction': 0.7283347776467963, 'bagging_freq': 8, 'feature_fraction': 0.48953474678734643, 'learning_rate': 0.12242349759124735, 'max_bin': 18, 'max_depth': 8, 'min_data_in_leaf': 7, 'min_sum_hessian_in_leaf': 0.05303987648374468, 'n_estimators': 76, 'num_leaves': 3}  -> Done. Score :  1.537897770312571\n",
      "best par:  {'bagging_fraction': 0.5445705996827138, 'bagging_freq': 6, 'feature_fraction': 0.31720315465024307, 'learning_rate': 0.10427007817603542, 'max_bin': 11, 'max_depth': 7, 'min_data_in_leaf': 7, 'min_sum_hessian_in_leaf': 0.008346666234114564, 'n_estimators': 82, 'num_leaves': 5}\n",
      "best trial:  {'loss': 1.4946202524393803, 'status': 'ok'}\n",
      "CPU times: user 47min 52s, sys: 3min 8s, total: 51min\n",
      "Wall time: 8min 27s\n"
     ]
    }
   ],
   "source": [
    "%%time\n",
    "cv_size = 5\n",
    "max_evals = 100\n",
    "n_jobs = 1\n",
    "\n",
    "best_params = searchHyperParam(lgbmodel, par_space, X_train, y_train, scoring=\"neg_mean_squared_error\", max_evals=max_evals, cv_size=cv_size, n_jobs=n_jobs)\n",
    "best_params"
   ]
  },
  {
   "cell_type": "raw",
   "metadata": {
    "_uuid": "005f57f0b65637f97b985117f11898d43fb59ee7"
   },
   "source": [
    "# 100 trial\n",
    "best par:  {'bagging_fraction': 0.5445705996827138, 'bagging_freq': 6, 'feature_fraction': 0.31720315465024307, 'learning_rate': 0.10427007817603542, 'max_bin': 11, 'max_depth': 7, 'min_data_in_leaf': 7, 'min_sum_hessian_in_leaf': 0.008346666234114564, 'n_estimators': 82, 'num_leaves': 5}\n",
    "best trial:  {'loss': 1.4946202524393803, 'status': 'ok'}\n",
    "CPU times: user 47min 52s, sys: 3min 8s, total: 51min\n",
    "Wall time: 8min 27s\n"
   ]
  },
  {
   "cell_type": "code",
   "execution_count": 123,
   "metadata": {
    "_uuid": "59f767b2f483b07964b6ae64298bddaa345d53c3",
    "collapsed": true
   },
   "outputs": [],
   "source": [
    "# used 100 max_evalus score\n",
    "\n",
    "best_params = {'bagging_fraction': 0.5445705996827138, 'bagging_freq': 6, 'feature_fraction': 0.31720315465024307, 'learning_rate': 0.10427007817603542, 'max_bin': 11, 'max_depth': 7, 'min_data_in_leaf': 7, 'min_sum_hessian_in_leaf': 0.008346666234114564, 'n_estimators': 82, 'num_leaves': 5}"
   ]
  },
  {
   "cell_type": "code",
   "execution_count": 124,
   "metadata": {
    "_uuid": "4e0d3eea153cbaa75c1a857e32381dd1b7da11c9",
    "collapsed": true,
    "scrolled": true
   },
   "outputs": [
    {
     "name": "stdout",
     "output_type": "stream",
     "text": [
      "model score: 1.515794 (0.285795)\n",
      "\n",
      "all scores:  [1.50023349 1.55824524 1.53563789 1.49386061 1.48980575]\n"
     ]
    }
   ],
   "source": [
    "lgbmodel.steps[-1][1].set_params(**best_params)\n",
    "\n",
    "\n",
    "evalModelByCV(lgbmodel, X_train, y_train, scoring=\"neg_mean_squared_error\")\n",
    "\n",
    "\n",
    "#plot_my_learning_curves(X_train, y_train, X_test, y_test, lgbmodel, scoring=\"r2\", cv=5, n_jobs=3)\n",
    "\n"
   ]
  },
  {
   "cell_type": "code",
   "execution_count": 125,
   "metadata": {
    "_uuid": "9f6ee69a017cbf8da06c38a1a3b15ad9db4a4e0b",
    "collapsed": true
   },
   "outputs": [],
   "source": [
    "lgbmodel.fit(X_train_df, y_train_df)\n",
    "\n",
    "\n",
    "sub = pd.DataFrame()\n",
    "sub['ID'] = id_test_df\n",
    "sub['target'] = np.expm1(lgbmodel.predict(test_df))\n",
    "sub.to_csv('../output/submission.csv', index=False)\n"
   ]
  },
  {
   "cell_type": "code",
   "execution_count": null,
   "metadata": {},
   "outputs": [],
   "source": []
  },
  {
   "cell_type": "code",
   "execution_count": 126,
   "metadata": {},
   "outputs": [
    {
     "data": {
      "text/html": [
       "<div>\n",
       "<style scoped>\n",
       "    .dataframe tbody tr th:only-of-type {\n",
       "        vertical-align: middle;\n",
       "    }\n",
       "\n",
       "    .dataframe tbody tr th {\n",
       "        vertical-align: top;\n",
       "    }\n",
       "\n",
       "    .dataframe thead th {\n",
       "        text-align: right;\n",
       "    }\n",
       "</style>\n",
       "<table border=\"1\" class=\"dataframe\">\n",
       "  <thead>\n",
       "    <tr style=\"text-align: right;\">\n",
       "      <th></th>\n",
       "      <th>variable</th>\n",
       "      <th>importance</th>\n",
       "    </tr>\n",
       "  </thead>\n",
       "  <tbody>\n",
       "    <tr>\n",
       "      <th>4133</th>\n",
       "      <td>f190486d6</td>\n",
       "      <td>14</td>\n",
       "    </tr>\n",
       "    <tr>\n",
       "      <th>3469</th>\n",
       "      <td>eeb9cd3aa</td>\n",
       "      <td>11</td>\n",
       "    </tr>\n",
       "    <tr>\n",
       "      <th>4023</th>\n",
       "      <td>15ace8c9f</td>\n",
       "      <td>10</td>\n",
       "    </tr>\n",
       "    <tr>\n",
       "      <th>2380</th>\n",
       "      <td>58e2e02e6</td>\n",
       "      <td>9</td>\n",
       "    </tr>\n",
       "    <tr>\n",
       "      <th>3225</th>\n",
       "      <td>ced6a7e91</td>\n",
       "      <td>8</td>\n",
       "    </tr>\n",
       "    <tr>\n",
       "      <th>1</th>\n",
       "      <td>SumZeros</td>\n",
       "      <td>6</td>\n",
       "    </tr>\n",
       "    <tr>\n",
       "      <th>836</th>\n",
       "      <td>6eef030c1</td>\n",
       "      <td>6</td>\n",
       "    </tr>\n",
       "    <tr>\n",
       "      <th>2084</th>\n",
       "      <td>58e056e12</td>\n",
       "      <td>6</td>\n",
       "    </tr>\n",
       "    <tr>\n",
       "      <th>2618</th>\n",
       "      <td>9fd594eec</td>\n",
       "      <td>5</td>\n",
       "    </tr>\n",
       "    <tr>\n",
       "      <th>3574</th>\n",
       "      <td>58232a6fb</td>\n",
       "      <td>5</td>\n",
       "    </tr>\n",
       "    <tr>\n",
       "      <th>0</th>\n",
       "      <td>SumValues</td>\n",
       "      <td>5</td>\n",
       "    </tr>\n",
       "    <tr>\n",
       "      <th>1410</th>\n",
       "      <td>b98f3e0d7</td>\n",
       "      <td>4</td>\n",
       "    </tr>\n",
       "    <tr>\n",
       "      <th>626</th>\n",
       "      <td>0c9462c08</td>\n",
       "      <td>4</td>\n",
       "    </tr>\n",
       "    <tr>\n",
       "      <th>1382</th>\n",
       "      <td>6cf7866c1</td>\n",
       "      <td>4</td>\n",
       "    </tr>\n",
       "    <tr>\n",
       "      <th>4235</th>\n",
       "      <td>f514fdb2e</td>\n",
       "      <td>4</td>\n",
       "    </tr>\n",
       "    <tr>\n",
       "      <th>3870</th>\n",
       "      <td>2288333b4</td>\n",
       "      <td>4</td>\n",
       "    </tr>\n",
       "    <tr>\n",
       "      <th>10</th>\n",
       "      <td>20aa07010</td>\n",
       "      <td>4</td>\n",
       "    </tr>\n",
       "    <tr>\n",
       "      <th>1461</th>\n",
       "      <td>b43a7cfd5</td>\n",
       "      <td>4</td>\n",
       "    </tr>\n",
       "    <tr>\n",
       "      <th>4434</th>\n",
       "      <td>609784003</td>\n",
       "      <td>3</td>\n",
       "    </tr>\n",
       "    <tr>\n",
       "      <th>4034</th>\n",
       "      <td>5b714cd7a</td>\n",
       "      <td>3</td>\n",
       "    </tr>\n",
       "    <tr>\n",
       "      <th>428</th>\n",
       "      <td>ff3ebf76b</td>\n",
       "      <td>3</td>\n",
       "    </tr>\n",
       "    <tr>\n",
       "      <th>3664</th>\n",
       "      <td>491b9ee45</td>\n",
       "      <td>3</td>\n",
       "    </tr>\n",
       "    <tr>\n",
       "      <th>413</th>\n",
       "      <td>a6e871369</td>\n",
       "      <td>2</td>\n",
       "    </tr>\n",
       "    <tr>\n",
       "      <th>4028</th>\n",
       "      <td>82f715995</td>\n",
       "      <td>2</td>\n",
       "    </tr>\n",
       "    <tr>\n",
       "      <th>1552</th>\n",
       "      <td>26ab20ff9</td>\n",
       "      <td>2</td>\n",
       "    </tr>\n",
       "    <tr>\n",
       "      <th>3986</th>\n",
       "      <td>45f6d00da</td>\n",
       "      <td>2</td>\n",
       "    </tr>\n",
       "    <tr>\n",
       "      <th>2309</th>\n",
       "      <td>16b532cdc</td>\n",
       "      <td>2</td>\n",
       "    </tr>\n",
       "    <tr>\n",
       "      <th>1880</th>\n",
       "      <td>277ef93fc</td>\n",
       "      <td>2</td>\n",
       "    </tr>\n",
       "    <tr>\n",
       "      <th>3636</th>\n",
       "      <td>20604ed8f</td>\n",
       "      <td>2</td>\n",
       "    </tr>\n",
       "    <tr>\n",
       "      <th>2058</th>\n",
       "      <td>715fa74a4</td>\n",
       "      <td>2</td>\n",
       "    </tr>\n",
       "    <tr>\n",
       "      <th>...</th>\n",
       "      <td>...</td>\n",
       "      <td>...</td>\n",
       "    </tr>\n",
       "    <tr>\n",
       "      <th>1599</th>\n",
       "      <td>936dc3bc4</td>\n",
       "      <td>0</td>\n",
       "    </tr>\n",
       "    <tr>\n",
       "      <th>1598</th>\n",
       "      <td>dd84674d0</td>\n",
       "      <td>0</td>\n",
       "    </tr>\n",
       "    <tr>\n",
       "      <th>1597</th>\n",
       "      <td>b794c5b62</td>\n",
       "      <td>0</td>\n",
       "    </tr>\n",
       "    <tr>\n",
       "      <th>1595</th>\n",
       "      <td>78c57d7cd</td>\n",
       "      <td>0</td>\n",
       "    </tr>\n",
       "    <tr>\n",
       "      <th>1604</th>\n",
       "      <td>3c27b0b28</td>\n",
       "      <td>0</td>\n",
       "    </tr>\n",
       "    <tr>\n",
       "      <th>1594</th>\n",
       "      <td>225fa9d61</td>\n",
       "      <td>0</td>\n",
       "    </tr>\n",
       "    <tr>\n",
       "      <th>1593</th>\n",
       "      <td>c5aa7c575</td>\n",
       "      <td>0</td>\n",
       "    </tr>\n",
       "    <tr>\n",
       "      <th>1592</th>\n",
       "      <td>6dae32858</td>\n",
       "      <td>0</td>\n",
       "    </tr>\n",
       "    <tr>\n",
       "      <th>1591</th>\n",
       "      <td>1930cefda</td>\n",
       "      <td>0</td>\n",
       "    </tr>\n",
       "    <tr>\n",
       "      <th>1590</th>\n",
       "      <td>7af000ac2</td>\n",
       "      <td>0</td>\n",
       "    </tr>\n",
       "    <tr>\n",
       "      <th>1589</th>\n",
       "      <td>f0aa40974</td>\n",
       "      <td>0</td>\n",
       "    </tr>\n",
       "    <tr>\n",
       "      <th>1603</th>\n",
       "      <td>249e3ab39</td>\n",
       "      <td>0</td>\n",
       "    </tr>\n",
       "    <tr>\n",
       "      <th>1605</th>\n",
       "      <td>d8e951a15</td>\n",
       "      <td>0</td>\n",
       "    </tr>\n",
       "    <tr>\n",
       "      <th>1622</th>\n",
       "      <td>5c832ca64</td>\n",
       "      <td>0</td>\n",
       "    </tr>\n",
       "    <tr>\n",
       "      <th>1614</th>\n",
       "      <td>45713ba5f</td>\n",
       "      <td>0</td>\n",
       "    </tr>\n",
       "    <tr>\n",
       "      <th>1620</th>\n",
       "      <td>9dcbf8c83</td>\n",
       "      <td>0</td>\n",
       "    </tr>\n",
       "    <tr>\n",
       "      <th>1619</th>\n",
       "      <td>044c7e993</td>\n",
       "      <td>0</td>\n",
       "    </tr>\n",
       "    <tr>\n",
       "      <th>1618</th>\n",
       "      <td>2a7787202</td>\n",
       "      <td>0</td>\n",
       "    </tr>\n",
       "    <tr>\n",
       "      <th>1617</th>\n",
       "      <td>589a5c62a</td>\n",
       "      <td>0</td>\n",
       "    </tr>\n",
       "    <tr>\n",
       "      <th>1616</th>\n",
       "      <td>533d88707</td>\n",
       "      <td>0</td>\n",
       "    </tr>\n",
       "    <tr>\n",
       "      <th>1615</th>\n",
       "      <td>fb9a4b46d</td>\n",
       "      <td>0</td>\n",
       "    </tr>\n",
       "    <tr>\n",
       "      <th>1613</th>\n",
       "      <td>87e9b19f9</td>\n",
       "      <td>0</td>\n",
       "    </tr>\n",
       "    <tr>\n",
       "      <th>1606</th>\n",
       "      <td>b4cfe861f</td>\n",
       "      <td>0</td>\n",
       "    </tr>\n",
       "    <tr>\n",
       "      <th>1612</th>\n",
       "      <td>44b0a78e7</td>\n",
       "      <td>0</td>\n",
       "    </tr>\n",
       "    <tr>\n",
       "      <th>1611</th>\n",
       "      <td>0f7ae26ce</td>\n",
       "      <td>0</td>\n",
       "    </tr>\n",
       "    <tr>\n",
       "      <th>1610</th>\n",
       "      <td>474a2c5a2</td>\n",
       "      <td>0</td>\n",
       "    </tr>\n",
       "    <tr>\n",
       "      <th>1609</th>\n",
       "      <td>78144b68c</td>\n",
       "      <td>0</td>\n",
       "    </tr>\n",
       "    <tr>\n",
       "      <th>1608</th>\n",
       "      <td>d83a59765</td>\n",
       "      <td>0</td>\n",
       "    </tr>\n",
       "    <tr>\n",
       "      <th>1607</th>\n",
       "      <td>d3245937e</td>\n",
       "      <td>0</td>\n",
       "    </tr>\n",
       "    <tr>\n",
       "      <th>4731</th>\n",
       "      <td>9fc776466</td>\n",
       "      <td>0</td>\n",
       "    </tr>\n",
       "  </tbody>\n",
       "</table>\n",
       "<p>4732 rows × 2 columns</p>\n",
       "</div>"
      ],
      "text/plain": [
       "       variable  importance\n",
       "4133  f190486d6          14\n",
       "3469  eeb9cd3aa          11\n",
       "4023  15ace8c9f          10\n",
       "2380  58e2e02e6           9\n",
       "3225  ced6a7e91           8\n",
       "1      SumZeros           6\n",
       "836   6eef030c1           6\n",
       "2084  58e056e12           6\n",
       "2618  9fd594eec           5\n",
       "3574  58232a6fb           5\n",
       "0     SumValues           5\n",
       "1410  b98f3e0d7           4\n",
       "626   0c9462c08           4\n",
       "1382  6cf7866c1           4\n",
       "4235  f514fdb2e           4\n",
       "3870  2288333b4           4\n",
       "10    20aa07010           4\n",
       "1461  b43a7cfd5           4\n",
       "4434  609784003           3\n",
       "4034  5b714cd7a           3\n",
       "428   ff3ebf76b           3\n",
       "3664  491b9ee45           3\n",
       "413   a6e871369           2\n",
       "4028  82f715995           2\n",
       "1552  26ab20ff9           2\n",
       "3986  45f6d00da           2\n",
       "2309  16b532cdc           2\n",
       "1880  277ef93fc           2\n",
       "3636  20604ed8f           2\n",
       "2058  715fa74a4           2\n",
       "...         ...         ...\n",
       "1599  936dc3bc4           0\n",
       "1598  dd84674d0           0\n",
       "1597  b794c5b62           0\n",
       "1595  78c57d7cd           0\n",
       "1604  3c27b0b28           0\n",
       "1594  225fa9d61           0\n",
       "1593  c5aa7c575           0\n",
       "1592  6dae32858           0\n",
       "1591  1930cefda           0\n",
       "1590  7af000ac2           0\n",
       "1589  f0aa40974           0\n",
       "1603  249e3ab39           0\n",
       "1605  d8e951a15           0\n",
       "1622  5c832ca64           0\n",
       "1614  45713ba5f           0\n",
       "1620  9dcbf8c83           0\n",
       "1619  044c7e993           0\n",
       "1618  2a7787202           0\n",
       "1617  589a5c62a           0\n",
       "1616  533d88707           0\n",
       "1615  fb9a4b46d           0\n",
       "1613  87e9b19f9           0\n",
       "1606  b4cfe861f           0\n",
       "1612  44b0a78e7           0\n",
       "1611  0f7ae26ce           0\n",
       "1610  474a2c5a2           0\n",
       "1609  78144b68c           0\n",
       "1608  d83a59765           0\n",
       "1607  d3245937e           0\n",
       "4731  9fc776466           0\n",
       "\n",
       "[4732 rows x 2 columns]"
      ]
     },
     "execution_count": 126,
     "metadata": {},
     "output_type": "execute_result"
    }
   ],
   "source": [
    "# plot feature importance\n",
    "pd.concat((pd.DataFrame(X_train.columns, columns = ['variable']), \n",
    "           pd.DataFrame(lgbmodel.named_steps[\"lgbmregressor\"].feature_importances_, columns = ['importance'])), \n",
    "          axis = 1).sort_values(by='importance', ascending = False)\n"
   ]
  },
  {
   "cell_type": "code",
   "execution_count": null,
   "metadata": {
    "_uuid": "1537d713c2515e543f24d9795161460843d0cc80",
    "collapsed": true
   },
   "outputs": [],
   "source": []
  },
  {
   "cell_type": "code",
   "execution_count": null,
   "metadata": {
    "_uuid": "2256ac7ad8b78a762890b4eca86db366336a54b0",
    "collapsed": true
   },
   "outputs": [],
   "source": []
  },
  {
   "cell_type": "markdown",
   "metadata": {
    "_uuid": "9e3174f31cabd24cde6f6d05d0295a9eb6f7a1d3"
   },
   "source": [
    "## catboost"
   ]
  },
  {
   "cell_type": "raw",
   "metadata": {
    "_uuid": "b3ba08be2f59e7ac7e66456810716bbffead3f4d"
   },
   "source": [
    "from catboost import CatBoostRegressor\n",
    "\n",
    "print(list(obj_columns.columns.values))\n",
    "print(cat_dims)"
   ]
  },
  {
   "cell_type": "raw",
   "metadata": {
    "_uuid": "316e87a9cbab7fb6295f713b4af5dea464c9afa8"
   },
   "source": [
    "X_train_with_cat.head()"
   ]
  },
  {
   "cell_type": "raw",
   "metadata": {
    "_uuid": "043e551eb24cf2d4d1ca09e834cd619d4fa90862"
   },
   "source": [
    "catReg = CatBoostRegressor(learning_rate=1,\n",
    "                          depth=6,\n",
    "                          loss_function='RMSE')\n",
    "\n",
    "fit_model = catReg.fit(X_train_with_cat, y_train_with_cat, cat_features=cat_dims)\n"
   ]
  },
  {
   "cell_type": "code",
   "execution_count": null,
   "metadata": {
    "_uuid": "4915ff78f9784c3f8d5597ca037815dca458088f",
    "collapsed": true
   },
   "outputs": [],
   "source": []
  },
  {
   "cell_type": "code",
   "execution_count": null,
   "metadata": {
    "_uuid": "483afb75061db3843a76e3a31c2ff1e6dd5abc95",
    "collapsed": true
   },
   "outputs": [],
   "source": []
  },
  {
   "cell_type": "markdown",
   "metadata": {
    "_uuid": "084a5137ac0eaed337da8988bc5525b6bc54a606"
   },
   "source": [
    "## TPOT"
   ]
  },
  {
   "cell_type": "raw",
   "metadata": {
    "_uuid": "26bd98e8daeaa9726d272c86104adc0286089348"
   },
   "source": [
    "from tpot import TPOTRegressor\n",
    "\n",
    "tpot = TPOTRegressor(\n",
    "    generations=30, \n",
    "    population_size=10, \n",
    "    verbosity=1,\n",
    "    early_stop=10,\n",
    "    n_jobs=n_jobs,\n",
    "    scoring='r2'\n",
    "#    mutation_rate=0.5,\n",
    "#    crossover_rate=0.5,\n",
    "#    config_dict='TPOT MDR',\n",
    ")\n",
    "\n",
    "# mutation_rate: default 0.9, crossover_rate: default 0.1\n",
    "# mutation_rate=0.5, crossover_rate=0.5)\n",
    "# , config_dict='TPOT MDR' should be better, but became fast and low score...\n",
    "\n",
    "tpot.fit(X_train, y_train)\n",
    "\n",
    "print(\"test\", tpot.score(X_test, y_test))\n",
    "\n",
    "#tpot.export('tpot_'+ time.strftime(\"%Y-%m-%d-%H-%M-%S\") + '.py')"
   ]
  },
  {
   "cell_type": "code",
   "execution_count": null,
   "metadata": {
    "_uuid": "92ac9acef64699924fd510451e39b602b24958ce",
    "collapsed": true
   },
   "outputs": [],
   "source": []
  },
  {
   "cell_type": "code",
   "execution_count": null,
   "metadata": {
    "_uuid": "6d6dfe98d1eeecb44d02112c027fb6b3daf9f664",
    "collapsed": true
   },
   "outputs": [],
   "source": []
  },
  {
   "cell_type": "markdown",
   "metadata": {
    "_uuid": "b934d243cbead60935d201ad8cad33591efea5ae"
   },
   "source": [
    "\n",
    "# Stacking"
   ]
  },
  {
   "cell_type": "code",
   "execution_count": null,
   "metadata": {
    "_uuid": "56dc89d60c371f48a37044670fd37db88309d4d0",
    "collapsed": true,
    "scrolled": true
   },
   "outputs": [],
   "source": [
    "# svr, lasso, elasticnet, krr, knr, ranfore, gboostreg, xgbmodel\n",
    "\n",
    "stregr = StackingRegressor(regressors=[\n",
    "    svr,\n",
    "    lasso, \n",
    "    #elasticnet, \n",
    "    #krr, \n",
    "    #knr, \n",
    "    ranfore, \n",
    "    gboostreg, \n",
    "    xgbmodel,\n",
    "    lgbmodel,\n",
    "],\n",
    "                           meta_regressor=elasticnet)\n",
    "\n",
    "\n",
    "evalModelByCV(stregr, X_train, y_train, scoring=\"neg_mean_squared_error\")\n",
    "\n",
    "\n",
    "#plot_my_learning_curves(X_train, y_train, X_test, y_test, stregr, scoring=\"r2\", cv=5, n_jobs=n_jobs)\n",
    "\n"
   ]
  },
  {
   "cell_type": "code",
   "execution_count": null,
   "metadata": {
    "_uuid": "c6e05ef4eea61249c9149252633368db55427610",
    "collapsed": true,
    "scrolled": false
   },
   "outputs": [],
   "source": [
    "# https://rasbt.github.io/mlxtend/api_subpackages/mlxtend.regressor/\n",
    "stregr.coef_"
   ]
  },
  {
   "cell_type": "code",
   "execution_count": null,
   "metadata": {
    "_uuid": "a19e8d31d4cdb71fd10223003364ecae338a5fda",
    "collapsed": true
   },
   "outputs": [],
   "source": [
    "# Training the stacking classifier with all train data\n",
    "\n",
    "stregr.fit(train_df, y_train_df)"
   ]
  },
  {
   "cell_type": "code",
   "execution_count": null,
   "metadata": {
    "_uuid": "614f4d98befd44b85dee23fd790220f8956ddb44",
    "collapsed": true
   },
   "outputs": [],
   "source": []
  },
  {
   "cell_type": "code",
   "execution_count": null,
   "metadata": {
    "_uuid": "7204aa150cf5f6c8cede602a2a170f37197a21af",
    "collapsed": true
   },
   "outputs": [],
   "source": []
  },
  {
   "cell_type": "markdown",
   "metadata": {
    "_uuid": "cd46ae2a7060931fdaaa967bbcecd83ea2277543"
   },
   "source": [
    "# Make submission file\n"
   ]
  },
  {
   "cell_type": "code",
   "execution_count": null,
   "metadata": {
    "_uuid": "401db93b4f4f74f25ce6b4bb2fbfb1370b26feab",
    "collapsed": true
   },
   "outputs": [],
   "source": [
    "sub = pd.DataFrame()\n",
    "sub['ID'] = id_test_df\n",
    "sub['target'] = np.expm1(stregr.predict(test_df))\n",
    "sub.to_csv('../output/submission.csv', index=False)\n"
   ]
  },
  {
   "cell_type": "code",
   "execution_count": null,
   "metadata": {
    "_uuid": "f81b3a760a6ef8f5b237d30d9c1f6e8f7a1ce9d9",
    "collapsed": true
   },
   "outputs": [],
   "source": []
  },
  {
   "cell_type": "code",
   "execution_count": null,
   "metadata": {
    "_uuid": "916057226c2c5c3940913f2f16870cd368793b9c",
    "collapsed": true
   },
   "outputs": [],
   "source": []
  }
 ],
 "metadata": {
  "kernelspec": {
   "display_name": "Python 3",
   "language": "python",
   "name": "python3"
  },
  "language_info": {
   "codemirror_mode": {
    "name": "ipython",
    "version": 3
   },
   "file_extension": ".py",
   "mimetype": "text/x-python",
   "name": "python",
   "nbconvert_exporter": "python",
   "pygments_lexer": "ipython3",
   "version": "3.6.5"
  },
  "toc": {
   "base_numbering": 1,
   "nav_menu": {
    "height": "390px",
    "width": "474px"
   },
   "number_sections": true,
   "sideBar": true,
   "skip_h1_title": false,
   "title_cell": "Table of Contents",
   "title_sidebar": "Contents",
   "toc_cell": false,
   "toc_position": {
    "height": "calc(100% - 180px)",
    "left": "10px",
    "top": "150px",
    "width": "197px"
   },
   "toc_section_display": true,
   "toc_window_display": true
  },
  "varInspector": {
   "cols": {
    "lenName": 16,
    "lenType": 16,
    "lenVar": 40
   },
   "kernels_config": {
    "python": {
     "delete_cmd_postfix": "",
     "delete_cmd_prefix": "del ",
     "library": "var_list.py",
     "varRefreshCmd": "print(var_dic_list())"
    },
    "r": {
     "delete_cmd_postfix": ") ",
     "delete_cmd_prefix": "rm(",
     "library": "var_list.r",
     "varRefreshCmd": "cat(var_dic_list()) "
    }
   },
   "position": {
    "height": "330px",
    "left": "996px",
    "right": "30px",
    "top": "120px",
    "width": "340px"
   },
   "types_to_exclude": [
    "module",
    "function",
    "builtin_function_or_method",
    "instance",
    "_Feature"
   ],
   "window_display": false
  }
 },
 "nbformat": 4,
 "nbformat_minor": 2
}
