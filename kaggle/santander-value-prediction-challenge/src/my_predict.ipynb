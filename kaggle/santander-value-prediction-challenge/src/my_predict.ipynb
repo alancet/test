{
  "cells": [
    {
      "metadata": {
        "_uuid": "e459ee3754132b61ab349eecdfbdd333a93b80b1",
        "collapsed": true,
        "trusted": true
      },
      "cell_type": "code",
      "source": "",
      "execution_count": null,
      "outputs": []
    },
    {
      "metadata": {
        "_uuid": "3667b38d14a7f7278c6c2c6f99cae4b1ebd74976",
        "collapsed": true,
        "trusted": true
      },
      "cell_type": "code",
      "source": "%matplotlib inline",
      "execution_count": null,
      "outputs": []
    },
    {
      "metadata": {
        "_cell_guid": "b1076dfc-b9ad-4769-8c92-a6c4dae69d19",
        "_uuid": "8f2839f25d086af736a60e9eeb907d3b93b6e0e5",
        "trusted": true,
        "scrolled": true,
        "collapsed": true
      },
      "cell_type": "code",
      "source": "import numpy as np # linear algebra\nimport pandas as pd # data processing, CSV file I/O (e.g. pd.read_csv)\n\nimport os\nprint(os.listdir(\"../input\"))\n",
      "execution_count": null,
      "outputs": []
    },
    {
      "metadata": {
        "_cell_guid": "146f2f45-7136-4a87-a674-c1ea4b89cc33",
        "_uuid": "c7ccf983dddbd502eea5fc4d380e57fc7fb7da05",
        "scrolled": false,
        "trusted": true,
        "collapsed": true
      },
      "cell_type": "code",
      "source": "import mlxtend\nimport pandas_profiling\n\nimport seaborn as sns\n\nfrom scipy import stats\nfrom scipy.stats import norm, skew #for some statistics\n\nimport matplotlib.pyplot as plt\n\n\nfrom tqdm import tqdm\n",
      "execution_count": null,
      "outputs": []
    },
    {
      "metadata": {
        "_cell_guid": "79c7e3d0-c299-4dcb-8224-4455121ee9b0",
        "_uuid": "d629ff2d2480ee46fbb7e2d37f6b5fab8052498a",
        "scrolled": true,
        "trusted": true,
        "collapsed": true
      },
      "cell_type": "code",
      "source": "%%time\ntrain_df = pd.read_csv(\"../input/train.csv\")\n",
      "execution_count": null,
      "outputs": []
    },
    {
      "metadata": {
        "_uuid": "0c312371b3dc2d71311371d133f79c46d771a89c",
        "trusted": true,
        "collapsed": true
      },
      "cell_type": "code",
      "source": "train_df.shape",
      "execution_count": null,
      "outputs": []
    },
    {
      "metadata": {
        "_uuid": "4754e1ec02444dff2ba09dc55778dab923b4d523",
        "collapsed": true,
        "trusted": true
      },
      "cell_type": "code",
      "source": "TRAIN_SIZE = train_df.shape[0]",
      "execution_count": null,
      "outputs": []
    },
    {
      "metadata": {
        "_uuid": "51edb6e160626da1ffafe62adeb6a577208c59ac",
        "trusted": true,
        "collapsed": true
      },
      "cell_type": "code",
      "source": "%%time\n#test_df = pd.read_csv(\"../input/test.csv\", nrows=TRAIN_SIZE)\ntest_df = pd.read_csv(\"../input/test.csv\")\n",
      "execution_count": null,
      "outputs": []
    },
    {
      "metadata": {
        "_uuid": "37b774a251528bffdff0359e00a1f12f73eac2ea"
      },
      "cell_type": "raw",
      "source": "%%time\ntrain_df.head()"
    },
    {
      "metadata": {
        "_cell_guid": "0ebfb2fa-2344-4c99-9d17-5ada90f22705",
        "_uuid": "bb1e12878db2f74ce89bfc913712742f31e24b25"
      },
      "cell_type": "raw",
      "source": "%%time\ntest_df.head()"
    },
    {
      "metadata": {
        "_uuid": "6af23fce60b5a3eb928f7075c715343e0623ea21",
        "collapsed": true,
        "trusted": true
      },
      "cell_type": "code",
      "source": "",
      "execution_count": null,
      "outputs": []
    },
    {
      "metadata": {
        "_uuid": "252d02c68bbbca9924bcb8e1f792540fd43c9ea2"
      },
      "cell_type": "markdown",
      "source": "# defining useful functions"
    },
    {
      "metadata": {
        "_uuid": "33056a35c8466ce5811f089b8b131b67f6e22bee",
        "code_folding": [
          34
        ],
        "collapsed": true,
        "trusted": true
      },
      "cell_type": "code",
      "source": "\n%matplotlib inline\n\nimport os\n\nimport numpy as np\nimport pandas as pd\nfrom scipy import stats\nfrom scipy.stats import norm, skew #for some statistics\n\nimport matplotlib.pyplot as plt\nimport seaborn as sns\n\nfrom sklearn.model_selection import cross_val_score, train_test_split\nfrom sklearn.model_selection import learning_curve\n\nimport mlxtend\nfrom mlxtend.plotting import plot_learning_curves\n\nimport pandas_profiling\n\n\n\n\n\ndef checkNaValues(dataframe):\n    \"\"\"check nan values in dataframe\"\"\"\n    \n    print(\"\\n# Is there any nan values?: \", dataframe.isna().all().all())\n    \n    print(\"## detail missing data ratio\")\n    #if dataframe.isna().all().all()\n    dataframe_na = (dataframe.isna().sum()/len(dataframe))*100\n    print(dataframe_na)\n    dataframe_na = dataframe_na.drop(\n        dataframe_na[dataframe_na == 0].index\n    ).sort_values(ascending=False)\n    missing_data = pd.DataFrame({'Missing Ratio':dataframe_na})\n    print(missing_data)\n    \n    \n    \"\"\"there is error. so not implemented yet\n    # just plot the rate\n    f, ax = plt.subplots(figsize=(15, 12))\n    plt.xticks(rotation='90')\n    sns.barplot(x=dataframe_na.index, y=dataframe_na.values)\n    plt.xlabel('Features', fontsize=15)\n    plt.ylabel('Percent of missing values', fontsize=15)\n    plt.title('Percent missing data by feature', fontsize=15)\n    \"\"\"\n\n    \ndef checkObjTypeColumns(dataframe):\n    \"\"\"Check object dtype columns\"\"\"\n\n    print(\"\\n# object dtype columns\")\n    # object dtypeの列名からその列のデータのみを抽出\n    df_object_type = dataframe[dataframe.select_dtypes(['object']).columns]\n    #df_object_type = dataframe[[x for x in dataframe.columns if dataframe[x].dtypes == \"object\"]]\n    print(df_object_type.head())\n    #print(df_object_type.info()) # not useful info\n    print(df_object_type.describe())\n\n    \ndef checkValueCounts(dataframe):\n    \"\"\"check value counts of each features and find boolean feature or not.\"\"\"\n\n    print(\"# value_counts of each feature: \")\n    for column in dataframe.columns:\n        #print(\"## \", column, \": \")\n        #print(dataframe[column].value_counts().head())\n        value_counts = dataframe[column].value_counts().shape[0]\n        if value_counts == 1:\n            print(column, \" -> single value. value count:  \", dataframe[column].value_counts().shape[0])            \n        elif value_counts == 2:\n            print(column, \" -> maybe boolean. value count:  \", dataframe[column].value_counts().shape[0])\n        else:\n            print(column, \" -> not boolean. value count:  \", dataframe[column].value_counts().shape[0])\n            \n\ndef findSingleValueColmuns(dataframe):\n    \"\"\"check value counts of each features and find single value feature.\n    Such column is no meaning to learn.\n    \"\"\"\n\n    single_val_columns = []\n    for column in dataframe.columns:\n        value_counts = dataframe[column].value_counts().shape[0]\n        if value_counts == 1:\n            single_val_columns.append(column)\n    return single_val_columns\n\n            \ndef checkCorrelationOfFeatures(dataframe):\n    \"\"\"check correlation matix of each features\"\"\"\n\n    # plot corr\n    print(\"\\n# correlation matrix\")\n    corrmat = dataframe.corr()\n    plt.subplots(figsize=(12,9))\n    sns.heatmap(corrmat, vmax=0.9, square=True)\n    plt.show()\n    print(corrmat)\n    print()\n    \n    corr_values = corrmat.iloc[0]\n    print(\"## highest correlation: \", corr_values.sort_values().head())\n    print(\"## lowest correlation: \", corr_values.sort_values().tail())\n\n    \ndef checkSkewness(dataframe):\n    \"\"\"check skewness of each features\"\"\"\n    \n    #numeric_feats = dataframe.dtypes[all_data.dtypes != \"object\"].index\n    numeric_feats = dataframe.select_dtypes(exclude=['object'])\n    #print(numeric_feats)\n    # Check the skew of all numerical features\n    skewed_feats = numeric_feats.apply(\n        lambda x: skew(x.dropna())).sort_values(ascending=False)\n    print(\"\\n# Skew in numerical features: \\n\")\n    skewness = pd.DataFrame({'Skew' :skewed_feats})\n    print(skewness)\n    \n    return skewness\n    \n    \ndef checkAllDataInfo(dataframe):\n    \"\"\"print all dataframe info\"\"\"\n\n    print(dataframe.head())\n    print(\"\\n# shape: \", dataframe.shape)\n    print(\"\\n# columns names: \", train_df.columns.values)\n    \n    print(\"\\n# df.info(): \")\n    print(dataframe.info())\n    #print(\"\\n# counts dtypes: \\n\", dataframe.dtypes.value_counts())# it is included in dataframe.info()\n\n    print(\"\\n# df.describe(): \")\n    print(dataframe.describe())\n    print()\n    \n    #print()\n    #pandas_profiling.ProfileReport(dataframe)\n    print()\n    checkNaValues(dataframe)\n    print()\n    checkObjTypeColumns(dataframe)\n    print()\n    checkValueCounts(dataframe)\n    print()\n    #checkCorrelationOfFeatures(dataframe)\n    \n    print()\n    checkSkewness(dataframe)\n    \n    \n    \ndef my_plot_learning_curve(estimator, title, X, y, ylim=None, cv=None,\n                        scoring=\"r2\",\n                        n_jobs=1, train_sizes=np.linspace(.1, 1.0, 5)):\n    \"\"\"\n    Generate a simple plot of the test and training learning curve.\n\n    Parameters\n    ----------\n    estimator : object type that implements the \"fit\" and \"predict\" methods\n        An object of that type which is cloned for each validation.\n\n    title : string\n        Title for the chart.\n\n    X : array-like, shape (n_samples, n_features)\n        Training vector, where n_samples is the number of samples and\n        n_features is the number of features.\n\n    y : array-like, shape (n_samples) or (n_samples, n_features), optional\n        Target relative to X for classification or regression;\n        None for unsupervised learning.\n\n    ylim : tuple, shape (ymin, ymax), optional\n        Defines minimum and maximum yvalues plotted.\n\n    cv : int, cross-validation generator or an iterable, optional\n        Determines the cross-validation splitting strategy.\n        Possible inputs for cv are:\n          - None, to use the default 3-fold cross-validation,\n          - integer, to specify the number of folds.\n          - An object to be used as a cross-validation generator.\n          - An iterable yielding train/test splits.\n\n        For integer/None inputs, if ``y`` is binary or multiclass,\n        :class:`StratifiedKFold` used. If the estimator is not a classifier\n        or if ``y`` is neither binary nor multiclass, :class:`KFold` is used.\n\n        Refer :ref:`User Guide <cross_validation>` for the various\n        cross-validators that can be used here.\n\n    n_jobs : integer, optional\n        Number of jobs to run in parallel (default 1).\n    \"\"\"\n    plt.figure()\n    plt.title(title)\n    if ylim is not None:\n        plt.ylim(*ylim)\n    plt.xlabel(\"Training examples\")\n    plt.ylabel(\"Score\")\n    train_sizes, train_scores, test_scores = learning_curve(\n        estimator, X, y, cv=cv, scoring=scoring, n_jobs=n_jobs, train_sizes=train_sizes)\n    train_scores_mean = np.mean(train_scores, axis=1)\n    train_scores_std = np.std(train_scores, axis=1)\n    test_scores_mean = np.mean(test_scores, axis=1)\n    test_scores_std = np.std(test_scores, axis=1)\n    plt.grid()\n\n    plt.fill_between(train_sizes, train_scores_mean - train_scores_std,\n                     train_scores_mean + train_scores_std, alpha=0.1,\n                     color=\"r\")\n    plt.fill_between(train_sizes, test_scores_mean - test_scores_std,\n                     test_scores_mean + test_scores_std, alpha=0.1, color=\"g\")\n    plt.plot(train_sizes, train_scores_mean, 'o-', color=\"r\",\n             label=\"Training score\")\n    plt.plot(train_sizes, test_scores_mean, 'o-', color=\"g\",\n             label=\"Cross-validation score\")\n\n    plt.legend(loc=\"best\")\n    return plt\n\n\n\ndef checkTargetInfo(dataframe, target_name=\"y\"):\n    \"\"\"print target y value info\"\"\"\n \n    # plot distribution\n    sns.distplot(train_df[target_name], fit=norm)\n    (mu, sigma) = norm.fit(train_df[target_name])\n    print(\"mu, sigma:\", mu, sigma)\n\n    plt.legend(['Normal dist. ($\\mu=$ {:.2f} and $\\sigma=$ {:.2f} )'.format(mu, sigma)],\n                loc='best')\n    plt.ylabel('Frequency')\n    plt.title('target value distribution')\n\n    \n    # plot skewness\n\n    #print(\"skewness of y\", skew(dataframe[target_name]))\n    print(\"skewness of y\", train_df[target_name].skew())\n    fig = plt.figure()\n    res = stats.probplot(train_df[target_name], plot=plt)\n    plt.show()\n\n    \n    \ndef checkCorrelationOfSelectedFeatures(dataframe, columns):\n    \"\"\"check correlation matix of each features\"\"\"\n\n    # plot corr\n    print(\"\\n# correlation matrix\")\n    corrmat = dataframe[columns].corr()\n    plt.subplots(figsize=(12,9))\n    sns.heatmap(corrmat, vmax=0.9, square=True, annot=True)\n    plt.show()\n    print(corrmat)\n    \n\n    \ndef splitToIdTargetFeatures(dataframe, id_name, target_name):\n    \"\"\"split train df to data, id and taret dataframes\n    \"\"\"\n    id_df = dataframe[id_name]\n    target_df = dataframe[target_name]\n    features_df = dataframe.drop([id_name, target_name], axis=1)\n    \n    return id_df, target_df, features_df\n\n\n",
      "execution_count": null,
      "outputs": []
    },
    {
      "metadata": {
        "_uuid": "265f20419600ef026c3b8fe35d5ca8101e3fba63"
      },
      "cell_type": "markdown",
      "source": "# EDA"
    },
    {
      "metadata": {
        "_uuid": "2ebbca87e4400693c8d2703a0aaa37dbdf02848e"
      },
      "cell_type": "markdown",
      "source": "## general info"
    },
    {
      "metadata": {
        "_uuid": "6c27f2a7ade9476cf76bf41a8514f256c757c9bd"
      },
      "cell_type": "raw",
      "source": "%%time\ncheckAllDataInfo(train_df)"
    },
    {
      "metadata": {
        "_uuid": "8c9853766c7b8ec4845bac641733fb4c794051f8"
      },
      "cell_type": "raw",
      "source": "%%time\ncheckAllDataInfo(test_df)"
    },
    {
      "metadata": {
        "_uuid": "9deff4965292041304fa60b8e66935c7d3a192f2",
        "collapsed": true,
        "trusted": true
      },
      "cell_type": "code",
      "source": "",
      "execution_count": null,
      "outputs": []
    },
    {
      "metadata": {
        "_uuid": "04f001485387a5589f3910fe25455f922b02278c"
      },
      "cell_type": "raw",
      "source": "train_df.describe()"
    },
    {
      "metadata": {
        "_uuid": "9aa1484a3a6bdc1cc44a6989d6a5a85ccee7ed49"
      },
      "cell_type": "raw",
      "source": "test_df.describe()"
    },
    {
      "metadata": {
        "_uuid": "2aaf498dfb0b840b62956795aac85c5182628d30",
        "collapsed": true,
        "trusted": true
      },
      "cell_type": "code",
      "source": "",
      "execution_count": null,
      "outputs": []
    },
    {
      "metadata": {
        "_uuid": "3b4fcbab9c223df74e904a60bccec10d1ab6bf5a"
      },
      "cell_type": "markdown",
      "source": "## checking in details"
    },
    {
      "metadata": {
        "_uuid": "e4ea0e22459c1c243edee24fc7aaa8038beb492e"
      },
      "cell_type": "raw",
      "source": "train_df.iloc[0, :].describe()"
    },
    {
      "metadata": {
        "_uuid": "88de0feb8aa6cf48dc75c5ac14048b97d8cdcc8e"
      },
      "cell_type": "raw",
      "source": "for column in train_df.columns:\n    print(column, train_df[column].value_counts().shape[0])"
    },
    {
      "metadata": {
        "_uuid": "4b7c4d6f03f6b0348dcf7eaab862d7b3f415db4d"
      },
      "cell_type": "raw",
      "source": "for column in train_df.columns:\n    if train_df[column].value_counts().shape[0] <= 1:\n        print(train_df[column].value_counts())\n        print()"
    },
    {
      "metadata": {
        "_uuid": "c408c7d6b66236e80f06a1e053ceccda587ce3a0"
      },
      "cell_type": "raw",
      "source": "for column in train_df.columns:\n    print(train_df[column].value_counts())\n    print()"
    },
    {
      "metadata": {
        "_uuid": "5463cf6041380f4c9ef304177e1e49f780463d33"
      },
      "cell_type": "raw",
      "source": "for column in train_df.columns:\n    if train_df[column].value_counts().shape[0] == 2:\n        print(train_df[column].value_counts())\n        print()"
    },
    {
      "metadata": {
        "_uuid": "b831ac2217b12608c7558b87ff3f561d486a6962",
        "collapsed": true,
        "trusted": true
      },
      "cell_type": "code",
      "source": "",
      "execution_count": null,
      "outputs": []
    },
    {
      "metadata": {
        "_uuid": "f9d01c92741f137570d75381cd043f614a7219da",
        "collapsed": true,
        "trusted": true
      },
      "cell_type": "code",
      "source": "",
      "execution_count": null,
      "outputs": []
    },
    {
      "metadata": {
        "_uuid": "46cca2c7db1b434a440754067d64653906b1962f"
      },
      "cell_type": "markdown",
      "source": "## checkTargetInfo"
    },
    {
      "metadata": {
        "_uuid": "a76f2b7a39fcd6272a283050c56fa3dada4366c2"
      },
      "cell_type": "raw",
      "source": "checkTargetInfo(train_df, target_name=\"target\")"
    },
    {
      "metadata": {
        "_uuid": "c8c46bb335cc510cbf2d78b7c8ed44dce9a53c19"
      },
      "cell_type": "markdown",
      "source": "### apply logarithm transformation to tareget"
    },
    {
      "metadata": {
        "_uuid": "2b0b0c73d7321b007edc20f6836981ec083c3ce1",
        "scrolled": false,
        "trusted": true,
        "collapsed": true
      },
      "cell_type": "code",
      "source": "# apply logarithm transformation\n\ntrain_df[\"target\"] = np.log1p(train_df[\"target\"])\nsns.distplot(train_df[\"target\"], fit=norm)\n\n(mu, sigma) = norm.fit(train_df[\"target\"])\nprint(mu, sigma)\n\nplt.legend(['Normal dist. ($\\mu=$ {:.2f} and $\\sigma=$ {:.2f} )'.format(mu, sigma)],\n            loc='best')\nplt.ylabel('Frequency')\nplt.title('y distribution')\n\nfig = plt.figure()\nres = stats.probplot(train_df[\"target\"], plot=plt)\nplt.show()\n",
      "execution_count": null,
      "outputs": []
    },
    {
      "metadata": {
        "_uuid": "e64999c25ecb341e5ec8083d6aa23a309b41033c",
        "collapsed": true,
        "trusted": true
      },
      "cell_type": "code",
      "source": "",
      "execution_count": null,
      "outputs": []
    },
    {
      "metadata": {
        "_uuid": "19892e1e59cc54da57b466f057c9607dae04f30f",
        "collapsed": true,
        "trusted": true
      },
      "cell_type": "code",
      "source": "",
      "execution_count": null,
      "outputs": []
    },
    {
      "metadata": {
        "_uuid": "ced61a01d9f3243564093be7f8f2bab0152b4099"
      },
      "cell_type": "raw",
      "source": "## check Correlation\n\n- if a feature have only one value, correlation become NAN.\n- so better to check correlation after dropped one value features"
    },
    {
      "metadata": {
        "_uuid": "9dcb8e7fd8f40c14d22f700e7549d2fca9af860a"
      },
      "cell_type": "raw",
      "source": "    \ncolumns = [\"y\", \"X10\", \"X11\", \"X12\", \"X13\", \"X14\"]\ncheckCorrelationOfSelectedFeatures(train_df, columns)"
    },
    {
      "metadata": {
        "_uuid": "d3cab6321d521bec8dbea6ae3bb61102c7edc68a"
      },
      "cell_type": "raw",
      "source": "%%time\ncorrmat = train_df.corr(method=\"spearman\")"
    },
    {
      "metadata": {
        "_uuid": "6ee3f845f00cf7c29ba03fd656d2b4e02b9d2008"
      },
      "cell_type": "raw",
      "source": "corrmat.shape"
    },
    {
      "metadata": {
        "_uuid": "ea17a539bfd1e8b23fdcdde35425f96b4c504d0b"
      },
      "cell_type": "raw",
      "source": "corrmat.head()"
    },
    {
      "metadata": {
        "_uuid": "004f7b29817c93421b0cda61a267efa9b0b3a498"
      },
      "cell_type": "raw",
      "source": "corrmat[\"target\"].sort_values(ascending=False).head(10)"
    },
    {
      "metadata": {
        "_uuid": "c36f94c7a7d53381b6f958b97feb126f40c1f1d1"
      },
      "cell_type": "raw",
      "source": "corrmat[\"target\"].sort_values(ascending=False).tail(10)"
    },
    {
      "metadata": {
        "_uuid": "eb48053fa2b4e93b1b160338fee0266b8339907e"
      },
      "cell_type": "raw",
      "source": "\ncorrmat = dataframe[columns].corr()\nplt.subplots(figsize=(12,9))\nsns.heatmap(corrmat, vmax=0.9, square=True, annot=True)\nplt.show()\nprint(corrmat)"
    },
    {
      "metadata": {
        "_uuid": "f3ca0e31640dcb6a5ad4034cc49a52ee98ca3f9f",
        "collapsed": true,
        "trusted": true
      },
      "cell_type": "code",
      "source": "",
      "execution_count": null,
      "outputs": []
    },
    {
      "metadata": {
        "_uuid": "3ba6472c077720a06aa76e16c7c69302717f6d75",
        "collapsed": true,
        "trusted": true
      },
      "cell_type": "code",
      "source": "",
      "execution_count": null,
      "outputs": []
    },
    {
      "metadata": {
        "_uuid": "6eb9700becb427f1d27118448c2b1e043b7a6c30"
      },
      "cell_type": "markdown",
      "source": "## pairplot\n\n- not good idea to make function\n- better to use pairplot() directly. more useful."
    },
    {
      "metadata": {
        "_uuid": "4aa1abaa2ff4417dcad9e7a71aeeb5fb4a6831de"
      },
      "cell_type": "raw",
      "source": "sns.pairplot(train_df, vars=[\"y\", \"X10\", \"X11\", \"X12\", \"X13\"]) # takes too much time\n\n"
    },
    {
      "metadata": {
        "_uuid": "d1c397b4be1706da9989c492a18537ee0b3069b9",
        "collapsed": true,
        "trusted": true
      },
      "cell_type": "code",
      "source": "",
      "execution_count": null,
      "outputs": []
    },
    {
      "metadata": {
        "_uuid": "860635918f740c46fa398c096adc3d297266cb1f"
      },
      "cell_type": "markdown",
      "source": "## pandas_profiling"
    },
    {
      "metadata": {
        "_uuid": "20b376ea7647d19830dfb9137f9c0ffbb1e0a7ce"
      },
      "cell_type": "raw",
      "source": "pandas_profiling.ProfileReport(train_df)"
    },
    {
      "metadata": {
        "_uuid": "1e0cbd174c529c239639463a9d246fbca9cc76d5",
        "collapsed": true,
        "trusted": true
      },
      "cell_type": "code",
      "source": "",
      "execution_count": null,
      "outputs": []
    },
    {
      "metadata": {
        "_uuid": "214584fd6388aa7540d1e8738be6a710b7cd413f",
        "collapsed": true,
        "trusted": true
      },
      "cell_type": "code",
      "source": "",
      "execution_count": null,
      "outputs": []
    },
    {
      "metadata": {
        "_uuid": "b3f788599c2986f31a5784e4396ed13444570895"
      },
      "cell_type": "markdown",
      "source": "----\n\n# feature eng"
    },
    {
      "metadata": {
        "_uuid": "97d6ce2738738434f8dea6e3f389acb60bc217a1",
        "collapsed": true,
        "trusted": true
      },
      "cell_type": "code",
      "source": "",
      "execution_count": null,
      "outputs": []
    },
    {
      "metadata": {
        "_uuid": "933f8d872fd1d00146515adc1f446ffb68e9332a"
      },
      "cell_type": "markdown",
      "source": ""
    },
    {
      "metadata": {
        "_uuid": "a58558e01a92e1f5ed629271b7f1a1822964dcd2"
      },
      "cell_type": "markdown",
      "source": "## add some features before drop some columns\n"
    },
    {
      "metadata": {
        "_uuid": "4d092bebbdf95e599e6f357b53db19bf534b12e0"
      },
      "cell_type": "markdown",
      "source": "### add sum of zeros feature"
    },
    {
      "metadata": {
        "_uuid": "5ebbd84fec254f29bae1d9666ed36b12e809b98a",
        "collapsed": true,
        "trusted": true
      },
      "cell_type": "code",
      "source": "def add_SumZeros(train, test):\n    flist = [x for x in train.columns if not x in ['ID','target']]\n    train.insert(1, 'SumZeros', (train[flist] == 0).astype(int).sum(axis=1))\n    test.insert(1, 'SumZeros', (test[flist] == 0).astype(int).sum(axis=1))\n    return train, test\n",
      "execution_count": null,
      "outputs": []
    },
    {
      "metadata": {
        "_uuid": "f28b4d89d83b190b684e4a4b292aebf5e8f2cadb",
        "trusted": true,
        "collapsed": true
      },
      "cell_type": "code",
      "source": "%%time\ntrain_df, test_df = add_SumZeros(train_df, test_df)\n",
      "execution_count": null,
      "outputs": []
    },
    {
      "metadata": {
        "_uuid": "bf89c8546cbc8196dab04cc62ea02f1c478fa889",
        "scrolled": true,
        "trusted": true,
        "collapsed": true
      },
      "cell_type": "code",
      "source": "train_df.SumZeros.head()",
      "execution_count": null,
      "outputs": []
    },
    {
      "metadata": {
        "_uuid": "9bf79eac72d6bc371ca7cf4e618247109b094ce7",
        "trusted": true,
        "collapsed": true
      },
      "cell_type": "code",
      "source": "test_df.SumZeros.head()",
      "execution_count": null,
      "outputs": []
    },
    {
      "metadata": {
        "_uuid": "2442c5b1343771248dafeab9ce526dba58ad2772"
      },
      "cell_type": "markdown",
      "source": "### add sum of values"
    },
    {
      "metadata": {
        "_uuid": "cc835bde95a0f7bffe5bda5bcd6c37f4e7d77d40",
        "collapsed": true,
        "trusted": true
      },
      "cell_type": "code",
      "source": "def add_SumValues(train, test):\n    flist = [x for x in train.columns if not x in ['ID','target']]\n    \n    train.insert(1, 'SumValues', (train[flist] != 0).astype(int).sum(axis=1))\n    test.insert(1, 'SumValues', (test[flist] != 0).astype(int).sum(axis=1))\n\n    return train, test",
      "execution_count": null,
      "outputs": []
    },
    {
      "metadata": {
        "_uuid": "21a0bf4399430d2e473fe30ea31f2e0528541bee",
        "trusted": true,
        "collapsed": true
      },
      "cell_type": "code",
      "source": "%%time\ntrain_df, test_df = add_SumValues(train_df, test_df)\n",
      "execution_count": null,
      "outputs": []
    },
    {
      "metadata": {
        "_uuid": "d8b0b5156361ce4c83a8e913fb960db81fe0c288",
        "trusted": true,
        "collapsed": true
      },
      "cell_type": "code",
      "source": "train_df.SumValues.head()",
      "execution_count": null,
      "outputs": []
    },
    {
      "metadata": {
        "_uuid": "65d3a1733cbe98dd68d1b81fad54fe8ff0a3f373",
        "trusted": true,
        "collapsed": true
      },
      "cell_type": "code",
      "source": "test_df.SumValues.head()",
      "execution_count": null,
      "outputs": []
    },
    {
      "metadata": {
        "_uuid": "4dae7b09042d25617dca156b8070e185b9117a40"
      },
      "cell_type": "markdown",
      "source": "## add other Aggregates"
    },
    {
      "metadata": {
        "_uuid": "7d1c9158c50df29f304ac141a201ce4f7542bd4d",
        "collapsed": true,
        "trusted": true
      },
      "cell_type": "code",
      "source": "other_agg_list = ['Mean', 'Median', 'Mode', 'Max', 'Var', 'Std']\n\ndef add_OtherAgg(train, test):\n    flist = [x for x in train.columns if not x in ['ID','target','SumZeros','SumValues']]\n    train['Mean']   = train[flist].mean(axis=1)\n    train['Median'] = train[flist].median(axis=1)\n    train['Mode']   = train[flist].mode(axis=1)\n    train['Max']    = train[flist].max(axis=1)\n    train['Var']    = train[flist].var(axis=1)\n    train['Std']    = train[flist].std(axis=1)\n\n    test['Mean']   = test[flist].mean(axis=1)\n    test['Median'] = test[flist].median(axis=1)\n    test['Mode']   = test[flist].mode(axis=1)\n    test['Max']    = test[flist].max(axis=1)\n    test['Var']    = test[flist].var(axis=1)\n    test['Std']    = test[flist].std(axis=1)\n\n    return train, test",
      "execution_count": null,
      "outputs": []
    },
    {
      "metadata": {
        "_uuid": "ade5135ed9b5563e445db603b9725680b4cad5c5",
        "trusted": true,
        "collapsed": true
      },
      "cell_type": "code",
      "source": "%%time\ntrain_df, test_df = add_OtherAgg(train_df, test_df)\n",
      "execution_count": null,
      "outputs": []
    },
    {
      "metadata": {
        "_uuid": "da787897cf16fa4b89e5ccef90ef3dccc9d1e173",
        "scrolled": true,
        "trusted": true,
        "collapsed": true
      },
      "cell_type": "code",
      "source": "train_df[other_agg_list].head()",
      "execution_count": null,
      "outputs": []
    },
    {
      "metadata": {
        "_uuid": "d95b726d8875381ac9cd0f24b6d825036a349b19",
        "scrolled": true,
        "trusted": true,
        "collapsed": true
      },
      "cell_type": "code",
      "source": "test_df[other_agg_list].head()",
      "execution_count": null,
      "outputs": []
    },
    {
      "metadata": {
        "_uuid": "a63dfc7330bd6f52bc210ef14303371f39391574",
        "scrolled": true,
        "trusted": true,
        "collapsed": true
      },
      "cell_type": "code",
      "source": "added_cols_pls_target = [\"target\", 'SumZeros', 'SumValues']+other_agg_list\ntrain_df[added_cols_pls_target].head()",
      "execution_count": null,
      "outputs": []
    },
    {
      "metadata": {
        "_uuid": "a9e00381dce579e6b236e5e3ee2fdceff5473169",
        "scrolled": true,
        "trusted": true,
        "collapsed": true
      },
      "cell_type": "code",
      "source": "corr = train_df[added_cols_pls_target].corr()\ncorr",
      "execution_count": null,
      "outputs": []
    },
    {
      "metadata": {
        "_uuid": "72d8a32f065a130b70b06e6d7e884259905ac6f3",
        "trusted": true,
        "collapsed": true
      },
      "cell_type": "code",
      "source": "plt.subplots(figsize=(12,9))\nsns.heatmap(corr, vmax=0.9, square=True, annot=True)\nplt.show()",
      "execution_count": null,
      "outputs": []
    },
    {
      "metadata": {
        "_uuid": "1679e358f7644c9a8f8681db625c86ca4c32ab34",
        "collapsed": true,
        "trusted": true
      },
      "cell_type": "code",
      "source": "",
      "execution_count": null,
      "outputs": []
    },
    {
      "metadata": {
        "_uuid": "57a607ee1fefd90f1eaed3a026c87eae0135092f",
        "collapsed": true,
        "trusted": true
      },
      "cell_type": "code",
      "source": "",
      "execution_count": null,
      "outputs": []
    },
    {
      "metadata": {
        "_uuid": "2fb4471d43d9c4d608b0a4627d2620069a5bd116",
        "collapsed": true,
        "trusted": true
      },
      "cell_type": "code",
      "source": "",
      "execution_count": null,
      "outputs": []
    },
    {
      "metadata": {
        "_uuid": "2e212f67e4d327b1a43c01cfe6571ed0b77bb1dc"
      },
      "cell_type": "markdown",
      "source": "## remove single value column"
    },
    {
      "metadata": {
        "_uuid": "e46b09e64ff06603acaa1c9982d3873d52bf354a",
        "collapsed": true,
        "trusted": true
      },
      "cell_type": "code",
      "source": "single_val_columns = findSingleValueColmuns(train_df)",
      "execution_count": null,
      "outputs": []
    },
    {
      "metadata": {
        "_uuid": "a0503769c89e89766c3477aee4d5f5057d3cd49d"
      },
      "cell_type": "raw",
      "source": "for column in single_val_columns:\n    print(train_df[column].value_counts())"
    },
    {
      "metadata": {
        "_uuid": "21f4162cac5ccb61781cd22bd3722489b6a7d0fa",
        "scrolled": true,
        "trusted": true,
        "collapsed": true
      },
      "cell_type": "code",
      "source": "print(\"drop single value columns, \", len(single_val_columns), \"columns were dropped\")",
      "execution_count": null,
      "outputs": []
    },
    {
      "metadata": {
        "_uuid": "bdb66f182a60b60bf1873d9f5bef84abd262fcf8",
        "trusted": true,
        "collapsed": true
      },
      "cell_type": "code",
      "source": "print(\"train_df.shape, test_df.shape\")\nprint(train_df.shape, test_df.shape)\n\ntrain_df.drop(single_val_columns, axis=1, inplace=True)\ntest_df.drop(single_val_columns, axis=1, inplace=True)\n\nprint(train_df.shape, test_df.shape)",
      "execution_count": null,
      "outputs": []
    },
    {
      "metadata": {
        "_uuid": "554684bde74821da2226c341256095b2ae619aa4",
        "collapsed": true,
        "trusted": true
      },
      "cell_type": "code",
      "source": "",
      "execution_count": null,
      "outputs": []
    },
    {
      "metadata": {
        "_uuid": "c5ff82f216d94b10c776d857c74814972456efab"
      },
      "cell_type": "markdown",
      "source": "## remove dupulicate column\n\nremove if train_df data is same even if test_df data is not same.\nbecause if train_df data is same, it cannot learn the differece."
    },
    {
      "metadata": {
        "_uuid": "6c5a2d04b6ce7a33a3c48fd2f92c782552f2f30a"
      },
      "cell_type": "raw",
      "source": "train_df[\"34ceb0081\"].equals(train_df[\"d60ddde1b\"]) # True"
    },
    {
      "metadata": {
        "_uuid": "a7263660aa7a848f6263696901af9252acb04d49"
      },
      "cell_type": "raw",
      "source": "test_df[\"34ceb0081\"].equals(test_df[\"d60ddde1b\"]) # False"
    },
    {
      "metadata": {
        "_uuid": "4e52d8c27e3b93312182b735e5e247a4b9c73c24"
      },
      "cell_type": "raw",
      "source": "columns = train_df.columns\ncolumns = columns.drop([\"ID\", \"target\"])\ncolumns"
    },
    {
      "metadata": {
        "_uuid": "a8a60badf6beb88cf19bd94e3391beb3837e9236"
      },
      "cell_type": "markdown",
      "source": "comment out to reduce time"
    },
    {
      "metadata": {
        "_uuid": "5875f464b4f924beec1c32d9ecc4ba0a246323d8"
      },
      "cell_type": "raw",
      "source": "%%time\n\n\n# Check and remove duplicate columns\ncolsToRemove = []\ncolsScaned = []\ndupList = {}\n\n\n#for i in tqdm(range(len(columns)-1)):\nfor i in range(len(columns)-1):\n    v = train_df[columns[i]].values\n    dupCols = []\n    for j in range(i+1,len(columns)):\n        if np.array_equal(v, train_df[columns[j]].values):\n            colsToRemove.append(columns[j])\n            if columns[j] not in colsScaned:\n                dupCols.append(columns[j]) \n                colsScaned.append(columns[j])\n                dupList[columns[i]] = dupCols\n                \n                \nprint(\"colsToRemove = \", colsToRemove)\nprint(\"colsScaned = \", colsScaned)\nprint(\"dupList = \", dupList)"
    },
    {
      "metadata": {
        "_uuid": "484261c4c62a10d19396f2aab2e47897c6c7bf0f",
        "collapsed": true,
        "trusted": true
      },
      "cell_type": "code",
      "source": "colsToRemove =  ['d60ddde1b', 'acc5b709d', 'f333a5f60', 'f8d75792f', '912836770', 'f333a5f60']\ncolsScaned =  ['d60ddde1b', 'acc5b709d', 'f333a5f60', 'f8d75792f', '912836770']\ndupList =  {'34ceb0081': ['d60ddde1b'], '8d57e2749': ['acc5b709d', 'f333a5f60'], '168b3e5bc': ['f8d75792f'], 'a765da8bc': ['912836770']}",
      "execution_count": null,
      "outputs": []
    },
    {
      "metadata": {
        "_uuid": "68a31e6dc8ccdcd8ae7bd8eb95b83870531479be",
        "trusted": true,
        "collapsed": true
      },
      "cell_type": "code",
      "source": "print(\"train_df.shape, test_df.shape\")\nprint(train_df.shape, test_df.shape)\n\ntrain_df.drop(colsToRemove, axis=1, inplace=True)\ntest_df.drop(colsToRemove, axis=1, inplace=True)\n\nprint(train_df.shape, test_df.shape)",
      "execution_count": null,
      "outputs": []
    },
    {
      "metadata": {
        "_uuid": "75a26ee806776ad9936033ea797931feeb916f40",
        "collapsed": true,
        "trusted": true
      },
      "cell_type": "code",
      "source": "",
      "execution_count": null,
      "outputs": []
    },
    {
      "metadata": {
        "_uuid": "a85f0ddefc618c78c0639bb888070c04a89cb9cb",
        "collapsed": true,
        "trusted": true
      },
      "cell_type": "code",
      "source": "",
      "execution_count": null,
      "outputs": []
    },
    {
      "metadata": {
        "_uuid": "ced61a01d9f3243564093be7f8f2bab0152b4099"
      },
      "cell_type": "markdown",
      "source": "## check Correlation and reduce high corr features\n\n- if a feature have only one value, correlation become NAN.\n- so better to check correlation after dropped one value features"
    },
    {
      "metadata": {
        "_uuid": "9dcb8e7fd8f40c14d22f700e7549d2fca9af860a"
      },
      "cell_type": "raw",
      "source": "    \ncolumns = [\"y\", \"X10\", \"X11\", \"X12\", \"X13\", \"X14\"]\ncheckCorrelationOfSelectedFeatures(train_df, columns)"
    },
    {
      "metadata": {
        "_uuid": "d3cab6321d521bec8dbea6ae3bb61102c7edc68a"
      },
      "cell_type": "raw",
      "source": "%%time\ncorrmat = train_df.corr(method=\"spearman\")\ncorrmat.to_csv('../output/correlation.csv')"
    },
    {
      "metadata": {
        "_uuid": "004f7b29817c93421b0cda61a267efa9b0b3a498"
      },
      "cell_type": "raw",
      "source": "corrmat[\"target\"].sort_values(ascending=False).head(10)"
    },
    {
      "metadata": {
        "_uuid": "c36f94c7a7d53381b6f958b97feb126f40c1f1d1"
      },
      "cell_type": "raw",
      "source": "corrmat[\"target\"].sort_values(ascending=False).tail(10)"
    },
    {
      "metadata": {
        "_uuid": "4d5103fef0d583527df0e68b1913d0a4a46fed11"
      },
      "cell_type": "raw",
      "source": ""
    },
    {
      "metadata": {
        "_uuid": "456e11d8b26879e2ca302abc71853173c815e310",
        "collapsed": true,
        "trusted": true
      },
      "cell_type": "code",
      "source": "",
      "execution_count": null,
      "outputs": []
    },
    {
      "metadata": {
        "_uuid": "fc302528e38ac36edd4a3031a51924d6ce02d3e3",
        "collapsed": true,
        "trusted": true
      },
      "cell_type": "code",
      "source": "",
      "execution_count": null,
      "outputs": []
    },
    {
      "metadata": {
        "_uuid": "5223c37885377f3d5e64c0944feb092fface8892",
        "collapsed": true,
        "trusted": true
      },
      "cell_type": "code",
      "source": "",
      "execution_count": null,
      "outputs": []
    },
    {
      "metadata": {
        "_uuid": "8c9c174a517938f6d3d7ce82c112bff401cfce6f",
        "collapsed": true,
        "trusted": true
      },
      "cell_type": "code",
      "source": "",
      "execution_count": null,
      "outputs": []
    },
    {
      "metadata": {
        "_uuid": "5117c06944c3a4456e05478a74f7a70ed60fe086"
      },
      "cell_type": "markdown",
      "source": "## combine train/test to all_data"
    },
    {
      "metadata": {
        "_uuid": "3a7686e13357f1fe37e90f52cdf5398c667161ad",
        "collapsed": true,
        "trusted": true
      },
      "cell_type": "code",
      "source": "",
      "execution_count": null,
      "outputs": []
    },
    {
      "metadata": {
        "_uuid": "efb76057931a075ce0f51228cef440850dd5883d",
        "trusted": true,
        "collapsed": true
      },
      "cell_type": "code",
      "source": "ntrain = train_df.shape[0]\nall_data = pd.concat((train_df, test_df)).reset_index(drop=True)\n\nall_id, all_target, all_data = splitToIdTargetFeatures(all_data, id_name=\"ID\", target_name=\"target\")\n",
      "execution_count": null,
      "outputs": []
    },
    {
      "metadata": {
        "_uuid": "d28110829253bbf4efa337ef61822d7be5261e6b"
      },
      "cell_type": "raw",
      "source": "all_data.shape"
    },
    {
      "metadata": {
        "_uuid": "9b89e93cb805518c6f8e6d9c286c9bce0c6edfd7",
        "trusted": true,
        "collapsed": true
      },
      "cell_type": "code",
      "source": "all_data.head()",
      "execution_count": null,
      "outputs": []
    },
    {
      "metadata": {
        "_uuid": "d1fb3db28e659f6efa172dc25d53e865bbe014ec"
      },
      "cell_type": "raw",
      "source": "all_data.tail()"
    },
    {
      "metadata": {
        "_uuid": "635edf0c93700223cbcc54da44c957e9b4656f37",
        "trusted": true,
        "collapsed": true
      },
      "cell_type": "code",
      "source": "all_id.head()",
      "execution_count": null,
      "outputs": []
    },
    {
      "metadata": {
        "_uuid": "52082f1312deaf89e0bc6dea3b8fbba19ea311ff"
      },
      "cell_type": "raw",
      "source": "all_id.tail()"
    },
    {
      "metadata": {
        "_uuid": "97ea7e7bf8cb28bb41ad3e411d3be46c96da81f9",
        "trusted": true,
        "collapsed": true
      },
      "cell_type": "code",
      "source": "all_target.head()",
      "execution_count": null,
      "outputs": []
    },
    {
      "metadata": {
        "_uuid": "378337eb7899636a44ae10e58443cd989cc0ccbf"
      },
      "cell_type": "raw",
      "source": "all_target.tail()"
    },
    {
      "metadata": {
        "_uuid": "4651999ba4e764b391f66cf4e747d7f0256668f5",
        "collapsed": true,
        "trusted": true
      },
      "cell_type": "code",
      "source": "",
      "execution_count": null,
      "outputs": []
    },
    {
      "metadata": {
        "_uuid": "1495b61e0767575e331029fd4f48a063ff5d83e3"
      },
      "cell_type": "markdown",
      "source": "## skew feature"
    },
    {
      "metadata": {
        "_uuid": "f6301835471a0cb61411d079b10b93f6d9b95fd4",
        "trusted": true,
        "collapsed": true
      },
      "cell_type": "code",
      "source": "skewness = checkSkewness(all_data)\nskewness.head(5)",
      "execution_count": null,
      "outputs": []
    },
    {
      "metadata": {
        "_uuid": "991fea89962d4b5635b97d44f10de5a5aefb13e5",
        "trusted": true,
        "collapsed": true
      },
      "cell_type": "code",
      "source": "skewness.tail(5)",
      "execution_count": null,
      "outputs": []
    },
    {
      "metadata": {
        "_uuid": "d01c8b71957be7098751e7393decdfda7db0c30a",
        "collapsed": true,
        "trusted": true
      },
      "cell_type": "code",
      "source": "",
      "execution_count": null,
      "outputs": []
    },
    {
      "metadata": {
        "_uuid": "eb5bc8562eb6c57d2fafafa442154173fad072ff",
        "collapsed": true,
        "trusted": true
      },
      "cell_type": "code",
      "source": "",
      "execution_count": null,
      "outputs": []
    },
    {
      "metadata": {
        "_uuid": "5e0df80f8b19dc329076ec5bfea93239c1575251"
      },
      "cell_type": "raw",
      "source": "for column in skewness.index[:5]:\n    print(column)\n    plt.subplots(figsize=(12,9))\n    sns.distplot(all_data[column], fit=norm)\n    plt.show()\n    print(\"skewness: \", skewness.loc[column, \"Skew\"])\n    print(all_data[column].value_counts())"
    },
    {
      "metadata": {
        "_uuid": "b53ce1b6d410fa9a188d1fee079ede315d254e6a",
        "collapsed": true,
        "trusted": true
      },
      "cell_type": "code",
      "source": "",
      "execution_count": null,
      "outputs": []
    },
    {
      "metadata": {
        "_uuid": "3b1dfcb49c35f9f2ed3147bac4fd8f47c6d28cb7"
      },
      "cell_type": "raw",
      "source": "for column in skewness.index[-10:]:\n    print(\"column: \", column)\n    plt.subplots(figsize=(12,9))\n    sns.distplot(all_data[column], fit=norm)\n    plt.show()\n    print(all_data[column].value_counts())"
    },
    {
      "metadata": {
        "_uuid": "04c94661386207f568748826656218c4d0c001a6",
        "collapsed": true,
        "trusted": true
      },
      "cell_type": "code",
      "source": "",
      "execution_count": null,
      "outputs": []
    },
    {
      "metadata": {
        "_uuid": "07288bc7d2e6ac2e5083dd8ca189d9e991a0823f",
        "collapsed": true,
        "trusted": true
      },
      "cell_type": "code",
      "source": "",
      "execution_count": null,
      "outputs": []
    },
    {
      "metadata": {
        "_uuid": "41237f7acd6ad78d2483b82a102805592c2717f0",
        "collapsed": true,
        "trusted": true
      },
      "cell_type": "code",
      "source": "",
      "execution_count": null,
      "outputs": []
    },
    {
      "metadata": {
        "_uuid": "a3abea0303439e945a19c30d7afcd45ce8f770d6"
      },
      "cell_type": "raw",
      "source": "## find boolean feature"
    },
    {
      "metadata": {
        "_uuid": "edab56e3add995549258984a237b34b7109184db"
      },
      "cell_type": "raw",
      "source": "checkValueCounts(all_data)"
    },
    {
      "metadata": {
        "_uuid": "f0cf2084bec126ea545cc19d8218dac83b44a41b",
        "collapsed": true,
        "trusted": true
      },
      "cell_type": "code",
      "source": "",
      "execution_count": null,
      "outputs": []
    },
    {
      "metadata": {
        "_uuid": "971f54c3900d307e78bfa23f48685d0ff90a1835"
      },
      "cell_type": "markdown",
      "source": "## Box Cox Transformation of (highly) skewed features\n\n"
    },
    {
      "metadata": {
        "_uuid": "5c9305406e4b1a655bb55f05bcfa56d9b585e0c1"
      },
      "cell_type": "raw",
      "source": "all_data.head()"
    },
    {
      "metadata": {
        "_uuid": "dc2f7ab0966280465ae8c6727e929c42189668c9",
        "trusted": true,
        "collapsed": true
      },
      "cell_type": "code",
      "source": "skewnessBig = skewness[abs(skewness) > 0.75]\nprint(\"feature num {}\\nskewed feature number: {}\".format(skewness.shape[0], \n                                                         skewnessBig.shape[0]))\n\nfrom scipy.special import boxcox1p\n\nskewed_features = skewnessBig.index\nlam = 0.15\nfor feat in skewed_features:\n    all_data[feat] = boxcox1p(all_data[feat], lam)\n",
      "execution_count": null,
      "outputs": []
    },
    {
      "metadata": {
        "_uuid": "96063ed3f5574f368f3eae0af3b6728fa8a6bbde"
      },
      "cell_type": "raw",
      "source": "all_data.head()"
    },
    {
      "metadata": {
        "_uuid": "2fea1d856a376a625b24b20c4fd27b813e1aabf9",
        "trusted": true,
        "scrolled": true,
        "collapsed": true
      },
      "cell_type": "code",
      "source": "all_data.apply(\n    lambda x: skew(x.dropna())).sort_values(ascending=False)",
      "execution_count": null,
      "outputs": []
    },
    {
      "metadata": {
        "_uuid": "202061d4237529ea7ccbb15894ba72d5872723ac"
      },
      "cell_type": "raw",
      "source": "checkValueCounts(all_data)"
    },
    {
      "metadata": {
        "_uuid": "894f3cdff38473217f8fc25456246703966b239f"
      },
      "cell_type": "raw",
      "source": "all_data.iloc[0, :].value_counts()"
    },
    {
      "metadata": {
        "_uuid": "7657911f5840322ed71b399ea606546b9ab4b492",
        "collapsed": true,
        "trusted": true
      },
      "cell_type": "code",
      "source": "",
      "execution_count": null,
      "outputs": []
    },
    {
      "metadata": {
        "_uuid": "7e2e44436d22047d10a5541c43522d776fb4149a"
      },
      "cell_type": "markdown",
      "source": "----\n\n# prepare train/test data"
    },
    {
      "metadata": {
        "_uuid": "bc3f53667d5c5d2e3ac2705368e78250b12a4980"
      },
      "cell_type": "raw",
      "source": "train_df.head()"
    },
    {
      "metadata": {
        "_uuid": "c3055e82371f8e706524ae3cd18d4c0e626110bb",
        "collapsed": true,
        "trusted": true
      },
      "cell_type": "code",
      "source": "id_train_df, y_train_df, X_train_df = splitToIdTargetFeatures(train_df,\n                                                              id_name=\"ID\",\n                                                              target_name=\"target\")",
      "execution_count": null,
      "outputs": []
    },
    {
      "metadata": {
        "_uuid": "4366e9d46021cb516bf8c07652f98c3d7addbd53",
        "scrolled": true,
        "trusted": true,
        "collapsed": true
      },
      "cell_type": "code",
      "source": "print(id_train_df.head())\nprint(y_train_df.head())\nprint(X_train_df.head())",
      "execution_count": null,
      "outputs": []
    },
    {
      "metadata": {
        "_uuid": "85e096919e504df779736dece2ccc86a9139b69a",
        "trusted": true,
        "collapsed": true
      },
      "cell_type": "code",
      "source": "X_train, X_test, y_train, y_test = train_test_split(\n    X_train_df, y_train_df, \n    test_size=0.33, random_state=42)\nprint(\"train/test data shape\", X_train.shape, X_test.shape)\n",
      "execution_count": null,
      "outputs": []
    },
    {
      "metadata": {
        "_uuid": "834e43e9a1a54145c8d956dedfff715ee443c787"
      },
      "cell_type": "raw",
      "source": "X_train_df.head()"
    },
    {
      "metadata": {
        "_uuid": "4e852449566448da5728214b012a38d8eefbffd9",
        "trusted": true,
        "collapsed": true
      },
      "cell_type": "code",
      "source": "id_test_df = test_df[\"ID\"]\ntest_df.drop([\"ID\"], axis=1, inplace=True)",
      "execution_count": null,
      "outputs": []
    },
    {
      "metadata": {
        "trusted": true,
        "scrolled": true,
        "_uuid": "dea939dff01ec1c050cfb25f6bdb54934c9fc1d1",
        "collapsed": true
      },
      "cell_type": "code",
      "source": "test_df.head()",
      "execution_count": null,
      "outputs": []
    },
    {
      "metadata": {
        "trusted": true,
        "_uuid": "009467eb6a25fc9c5c568e0118f9e5ea668d3ad1",
        "collapsed": true
      },
      "cell_type": "code",
      "source": "id_test_df.head()",
      "execution_count": null,
      "outputs": []
    },
    {
      "metadata": {
        "trusted": true,
        "collapsed": true,
        "_uuid": "8375bf41d4c9e6fbac856a732019a95e1c4bd741"
      },
      "cell_type": "code",
      "source": "",
      "execution_count": null,
      "outputs": []
    },
    {
      "metadata": {
        "_uuid": "b19b65be531e8af2ed1e207a9cac73bdd88d2329"
      },
      "cell_type": "markdown",
      "source": "# base model"
    },
    {
      "metadata": {
        "_uuid": "6e0cfa1e4ce49b26d3a4a15046ef4fc984907876",
        "collapsed": true,
        "trusted": true
      },
      "cell_type": "code",
      "source": "from sklearn.pipeline import make_pipeline\nfrom sklearn.preprocessing import RobustScaler\n\nfrom sklearn.decomposition import PCA\nfrom sklearn.decomposition import TruncatedSVD\nfrom sklearn.decomposition import NMF\nfrom sklearn.manifold import TSNE\n\nfrom hyperopt import hp, tpe, Trials, fmin\n\nfrom sklearn.svm import SVR\nfrom sklearn.linear_model import ElasticNet\nfrom sklearn.linear_model import Lasso\nfrom sklearn.kernel_ridge import KernelRidge\nfrom sklearn.neighbors import KNeighborsRegressor\nfrom sklearn.ensemble import BaggingRegressor\nfrom sklearn.tree import DecisionTreeRegressor\n\nfrom sklearn.ensemble import RandomForestRegressor\nfrom sklearn.ensemble import GradientBoostingRegressor\n\nimport xgboost as xgb\nfrom xgboost import XGBRegressor\n\nimport lightgbm as lgb\nfrom lightgbm import LGBMRegressor\n\nfrom mlxtend.regressor import StackingRegressor",
      "execution_count": null,
      "outputs": []
    },
    {
      "metadata": {
        "_uuid": "6b6b2e6579c7401f3ed54e3c987c9924d7c95d7f"
      },
      "cell_type": "markdown",
      "source": "## Defined find best parameter function by hyperopt module"
    },
    {
      "metadata": {
        "_uuid": "7026026a95cb3183b19b9140337027346b12527d"
      },
      "cell_type": "markdown",
      "source": "### give model for hyperopt my funcs"
    },
    {
      "metadata": {
        "_uuid": "ae6711d01a4e2e031c3b0d5200a7da8268f1f8ad",
        "code_folding": [],
        "trusted": true,
        "collapsed": true
      },
      "cell_type": "code",
      "source": "count_hyperopt = 0\n\ndef hyperopt_objective(model, X_train, y_train, scoring=\"neg_mean_squared_log_error\", cv_size=5, n_jobs=3):\n    \"\"\"return objective function for hyperopt\"\"\"\n\n    def objective(args):\n        global count_hyperopt\n        print(\"Trial \", count_hyperopt, \", Params \", args, \" -> \", end=\"\")\n        \n#        print(model.steps[-1])\n        model.steps[-1][1].set_params(**args)\n\n        score = cross_val_score(model, X_train, y_train, scoring=scoring, cv=cv_size, n_jobs=n_jobs)\n        print(score, end=\"\")\n        \n        print(\"Done. Score : \", np.sqrt(-score.mean()))\n        count_hyperopt += 1\n  \n        return np.sqrt(-score.mean())\n\n    return objective\n\n\n\n\n\ndef searchHyperParam(model, par_space, X_train, y_train, scoring=\"r2\", max_evals=100, cv_size=5, n_jobs=3):\n    \"\"\"search hyper parameter of a selected model\"\"\"\n\n    \n    global count_hyperopt\n    count_hyperopt = 0\n    \n    objective = hyperopt_objective(model, X_train, y_train, scoring=scoring, cv_size=cv_size, n_jobs=n_jobs)\n    \n    #best_params = findBestParm(objective, par_space, X_train, y_train, scoring=scoring, max_evals=max_evals)\n\n    trials = Trials()\n\n    best = fmin(\n        objective, \n        par_space, # 探索するパラメータのdictもしくはlist\n        algo=tpe.suggest, # どのロジックを利用するか、基本的にはtpe.suggestでok\n        max_evals=max_evals,\n        trials=trials,\n        #verbose=1\n    )\n    print(\"best par: \", best)\n    print(\"best trial: \", trials.best_trial[\"result\"])\n    #print(\"trials losses: \", trials.losses())\n\n    count_hyperopt = 0\n    \n    return best\n\n\ndef evalModelByCV(model, X_train, y_train, scoring=\"neg_mean_squared_log_error\"):\n    \"\"\"evaluate model by cross validation\"\"\"\n    \n    score = cross_val_score(model, X_train, y_train, scoring=scoring, cv=5)\n\n    print(\"model score: {:f} ({:f})\\n\" .format(\n        score.mean(), score.std()))\n    print(\"all scores: \", score)\n\n    \ndef plot_my_learning_curves(X_train, y_train, X_test, y_test, model, scoring=\"r2\", cv=5, n_jobs=3):\n    \"\"\"plot learning curves by mlxtend and my func my_plot_learning_curve()\"\"\"\n    plot_learning_curves(X_train, y_train, X_test, y_test, \n                     model, scoring=scoring)\n    plt.show()\n    \n    title = \"Learning Curves\"\n    my_plot_learning_curve(model, title, \n                        X_train, y_train,\n                        #ylim=(0.7, 1.01), \n                        cv=cv, scoring=scoring,\n                        n_jobs=n_jobs)\n    plt.show()\n\n    \n    ",
      "execution_count": null,
      "outputs": []
    },
    {
      "metadata": {
        "_uuid": "67042ec2fc150b4cdf42a4855af9f62fef8dd62b"
      },
      "cell_type": "raw",
      "source": ""
    },
    {
      "metadata": {
        "_uuid": "564ded076ca634ce737e9d114761a3bd5eddcab1"
      },
      "cell_type": "raw",
      "source": "Finally, I found why the svr doesn't finish.\nHere is the output just before the stop.\n\nTrial  0 , Params  {'C': 0.015601187011911637, 'epsilon': 0.5516972232183148, 'gamma': 0.06236609322180074, 'kernel': 'rbf'}  -> Done\nTrial  1 , Params  {'C': 0.7244447849579089, 'epsilon': 1.358464177771488, 'gamma': 0.7165688120262619, 'kernel': 'sigmoid'}  -> Done\nTrial  2 , Params  {'C': 0.006556279706811856, 'epsilon': 0.1067903873366066, 'gamma': 0.0005180756828484195, 'kernel': 'poly'}  -> \n\nThe 'poly' kernel was used. Because of that, the parameters increased dramatically.\nIn this time, better not to use poly.\nOf course, this param trial can be finished, I watched it. But better to not use.\n\n"
    },
    {
      "metadata": {
        "_uuid": "0242121ad452c0dba819d13a90e238d86e95daf7"
      },
      "cell_type": "raw",
      "source": "raise Exception()"
    },
    {
      "metadata": {
        "_uuid": "70e5733edd035eb317195a79c244d29b2a05d901"
      },
      "cell_type": "markdown",
      "source": "## Def hyperopt param"
    },
    {
      "metadata": {
        "_uuid": "fce6dcf503b79b3b34fd2a9d60c65497e528be43",
        "collapsed": true,
        "trusted": true
      },
      "cell_type": "code",
      "source": "cv_size = 5\n#max_evals = 100\nmax_evals = 10\nn_jobs = 1",
      "execution_count": null,
      "outputs": []
    },
    {
      "metadata": {
        "_uuid": "a3a62da8ed38e13b5f300f646f66dda3d997b8aa",
        "trusted": true,
        "collapsed": true
      },
      "cell_type": "code",
      "source": "raise Exception(\"Just to stop execution\")",
      "execution_count": null,
      "outputs": []
    },
    {
      "metadata": {
        "_uuid": "9dc9666722289d95b04670ed2adfa3384d0b211d"
      },
      "cell_type": "markdown",
      "source": "## SVR"
    },
    {
      "metadata": {
        "_uuid": "b9e465213020cda8a81698dc13ff83c0eab2d48b",
        "collapsed": true,
        "trusted": true
      },
      "cell_type": "code",
      "source": "svr = make_pipeline(\n    PCA(n_components=0.80),\n#    NMF(n_components=100),\n#    TruncatedSVD(n_components=390),\n#    TruncatedSVD(n_components=100),\n    \n    RobustScaler(),\n    SVR()\n\n)\n\nkernel_list = [\n    'rbf',\n#    'poly',\n    'sigmoid']\npar_space = {\n    'C':hp.loguniform('C', -8, 2),\n    'gamma':hp.loguniform('gamma', -8, 2),\n    'epsilon':hp.loguniform('epsilon', -8, 2),\n    'kernel':hp.choice('kernel', kernel_list)\n}\n",
      "execution_count": null,
      "outputs": []
    },
    {
      "metadata": {
        "_uuid": "5f8356d746d019774ebc641851280e135a8c99bb",
        "trusted": true,
        "scrolled": true,
        "collapsed": true
      },
      "cell_type": "code",
      "source": "%%time\nbest_params = searchHyperParam(svr, par_space, X_train, y_train, scoring=\"neg_mean_squared_log_error\", max_evals=max_evals, cv_size=cv_size, n_jobs=n_jobs)\nbest_params[\"kernel\"] = kernel_list[best_params[\"kernel\"]]\nprint(best_params)\n",
      "execution_count": null,
      "outputs": []
    },
    {
      "metadata": {
        "_uuid": "11997de5f59be2f6f04a16a152c1c245289ed319"
      },
      "cell_type": "raw",
      "source": "100\n\nTrial  2 , Params  {'C': 0.017271530916715953, 'epsilon': 0.3180427068907858, 'gamma': 0.744792439063098, 'kernel': 'rbf'}  -> [-0.01394463 -0.01468119 -0.01444505 -0.01396261 -0.0139868 ]Done. Score :  0.11918078315142942\n"
    },
    {
      "metadata": {
        "trusted": true,
        "_uuid": "edceb65e9c6b2c531525b0c41cfe3698a69119bc",
        "collapsed": true
      },
      "cell_type": "code",
      "source": "raise Exception()",
      "execution_count": null,
      "outputs": []
    },
    {
      "metadata": {
        "_uuid": "0b82f57ad94fe8f8ba7a9f3cc1c55b471366c629",
        "collapsed": true,
        "trusted": true
      },
      "cell_type": "code",
      "source": "best_params = {'C': 6.0125849233435975,\n 'epsilon': 0.018596343856883617,\n 'gamma': 0.019396603678872793,\n 'kernel': 'rbf'}",
      "execution_count": null,
      "outputs": []
    },
    {
      "metadata": {
        "_uuid": "a67fb90f5f934d8e617ebcad267bed001644ce05"
      },
      "cell_type": "raw",
      "source": ""
    },
    {
      "metadata": {
        "_uuid": "c23e75e097314da26875be79d364acaa136861bf",
        "scrolled": true,
        "trusted": true,
        "collapsed": true
      },
      "cell_type": "code",
      "source": "svr.steps[-1][1].set_params(**best_params)\n\nevalModelByCV(svr, X_train, y_train, scoring=\"neg_mean_squared_log_error\")\n#plot_my_learning_curves(X_train, y_train, X_test, y_test, svr, scoring=\"r2\", cv=5, n_jobs=n_jobs)",
      "execution_count": null,
      "outputs": []
    },
    {
      "metadata": {
        "_uuid": "58c3d956f6f5065cd3debd3b6ca75a6b0dc23191",
        "collapsed": true,
        "trusted": true
      },
      "cell_type": "code",
      "source": "",
      "execution_count": null,
      "outputs": []
    },
    {
      "metadata": {
        "_uuid": "3a4dd069c9538f0c72c11315f2fa6705ab5f4c3a",
        "collapsed": true,
        "trusted": true
      },
      "cell_type": "code",
      "source": "",
      "execution_count": null,
      "outputs": []
    },
    {
      "metadata": {
        "_uuid": "e74ffb94278e528e33d500d5dbad71b63b58d26c"
      },
      "cell_type": "markdown",
      "source": "## lasso"
    },
    {
      "metadata": {
        "_uuid": "d005f28a9036d9a62c25b0b715076e15709c490d",
        "collapsed": true,
        "trusted": true
      },
      "cell_type": "code",
      "source": "lasso = make_pipeline(\n    RobustScaler(),\n    Lasso()\n\n)\n\npar_space = {\n    'alpha':hp.uniform('alpha', 0, 1),\n    \n}",
      "execution_count": null,
      "outputs": []
    },
    {
      "metadata": {
        "_uuid": "b5fa931a603585e52499b02d1f4b08f647e6ff36"
      },
      "cell_type": "raw",
      "source": "best_params = searchHyperParam(lasso, par_space, X_train, y_train, scoring=\"r2\", max_evals=max_evals, cv_size=cv_size, n_jobs=n_jobs)\nbest_params"
    },
    {
      "metadata": {
        "_uuid": "d4e0a4bf0997d06b52702ed5a205607f98f872fb",
        "collapsed": true,
        "trusted": true
      },
      "cell_type": "code",
      "source": "best_params = {'alpha': 0.03813148491610924}",
      "execution_count": null,
      "outputs": []
    },
    {
      "metadata": {
        "_uuid": "0d91293fbbd850cb75c324f9d013321028092630",
        "scrolled": true,
        "trusted": true,
        "collapsed": true
      },
      "cell_type": "code",
      "source": "\nlasso.steps[-1][1].set_params(**best_params)\n\nevalModelByCV(lasso, X_train, y_train, scoring=\"neg_mean_squared_log_error\")\n#plot_my_learning_curves(X_train, y_train, X_test, y_test, lasso, scoring=\"r2\", cv=5, n_jobs=n_jobs)",
      "execution_count": null,
      "outputs": []
    },
    {
      "metadata": {
        "_uuid": "38609a057209b02015ccd5e5518b8a6dcfc91bbe",
        "collapsed": true,
        "trusted": true
      },
      "cell_type": "code",
      "source": "",
      "execution_count": null,
      "outputs": []
    },
    {
      "metadata": {
        "_uuid": "a87ed8d22679dd01b89a935cef69b46a5c82e062"
      },
      "cell_type": "markdown",
      "source": "## Elastic net"
    },
    {
      "metadata": {
        "_uuid": "fdfc35a18e2d176d2e0fe8fbe20a97adfd4871c9",
        "collapsed": true,
        "trusted": true
      },
      "cell_type": "code",
      "source": "elasticnet = make_pipeline(\n    RobustScaler(),\n    ElasticNet()\n\n)\npar_space = {\n    'alpha':hp.uniform('alpha', 0, 1),\n    'l1_ratio':hp.uniform('l1_ratio', 0, 1),\n    \n}",
      "execution_count": null,
      "outputs": []
    },
    {
      "metadata": {
        "_uuid": "cc84914346c8d9691bd38f01875773f4aa7a4c45"
      },
      "cell_type": "raw",
      "source": "best_params = searchHyperParam(elasticnet, par_space, X_train, y_train, scoring=\"r2\", max_evals=max_evals, cv_size=cv_size, n_jobs=n_jobs)\nbest_params\n"
    },
    {
      "metadata": {
        "_uuid": "6e8c8ca489598efca7c7a1141fae50354b204473",
        "collapsed": true,
        "trusted": true
      },
      "cell_type": "code",
      "source": "best_params = {'alpha': 0.03979354323226861, 'l1_ratio': 0.9027788528223015}",
      "execution_count": null,
      "outputs": []
    },
    {
      "metadata": {
        "_uuid": "ab3bd9e867507a9a70f5cac15bba93cb3f495ae5",
        "trusted": true,
        "collapsed": true
      },
      "cell_type": "code",
      "source": "\nelasticnet.steps[-1][1].set_params(**best_params)\n\nevalModelByCV(elasticnet, X_train, y_train, scoring=\"neg_mean_squared_log_error\")\n#plot_my_learning_curves(X_train, y_train, X_test, y_test, elasticnet, scoring=\"r2\", cv=5, n_jobs=n_jobs)\n",
      "execution_count": null,
      "outputs": []
    },
    {
      "metadata": {
        "_uuid": "9250c5e046cee9fb33cafddad2486fe254c528fd",
        "collapsed": true,
        "trusted": true
      },
      "cell_type": "code",
      "source": "",
      "execution_count": null,
      "outputs": []
    },
    {
      "metadata": {
        "_uuid": "3e1957b3e7e46479d6473a5891535579f19934e7"
      },
      "cell_type": "raw",
      "source": ""
    },
    {
      "metadata": {
        "_uuid": "5187531fff882624105fc7937b3042afdd51810b",
        "collapsed": true,
        "trusted": true
      },
      "cell_type": "code",
      "source": "",
      "execution_count": null,
      "outputs": []
    },
    {
      "metadata": {
        "_uuid": "9205c29e0f304ef005cf0122dba27de1f81aa412"
      },
      "cell_type": "markdown",
      "source": "## kernel ridge"
    },
    {
      "metadata": {
        "_uuid": "8cf6d741090df375f18d5fe416d0670b3f3600f0",
        "collapsed": true,
        "trusted": true
      },
      "cell_type": "code",
      "source": "krr = make_pipeline(\n        #RobustScaler(),\n        KernelRidge()\n)\n\nkernel_list = [\n    'rbf',\n#    'poly',\n    'sigmoid']\npar_space = {\n    'alpha':hp.uniform('alpha', 0, 1),\n    'gamma':hp.loguniform('gamma', -8, 2),\n    'kernel':hp.choice('kernel', kernel_list),\n    'degree':hp.randint('degree', 5),\n#    'coef0': # default value is enough\n    \n}",
      "execution_count": null,
      "outputs": []
    },
    {
      "metadata": {
        "_uuid": "339a23b6feea53aa345b46c79ae45b19d597f403"
      },
      "cell_type": "raw",
      "source": "best_params = searchHyperParam(krr, par_space, X_train, y_train, scoring=\"r2\", max_evals=max_evals, cv_size=cv_size, n_jobs=n_jobs)\nbest_params[\"kernel\"] = kernel_list[best_params[\"kernel\"]]\nbest_params\n"
    },
    {
      "metadata": {
        "_uuid": "daacbb828130fca1624095ec6a4101947cbce778",
        "collapsed": true,
        "trusted": true
      },
      "cell_type": "code",
      "source": "best_params = {'alpha': 0.06208805100456642,\n 'degree': 2,\n 'gamma': 0.000700959885815984,\n 'kernel': 'rbf'}",
      "execution_count": null,
      "outputs": []
    },
    {
      "metadata": {
        "_uuid": "5c1726f2e44910ec81e3b7baf00c01f7a4db46e9",
        "collapsed": true,
        "trusted": true
      },
      "cell_type": "code",
      "source": "krr.steps[-1][1].set_params(**best_params)\n\nevalModelByCV(krr, X_train, y_train, scoring=\"neg_mean_squared_log_error\")\n#plot_my_learning_curves(X_train, y_train, X_test, y_test, krr, scoring=\"r2\", cv=5, n_jobs=n_jobs)\n",
      "execution_count": null,
      "outputs": []
    },
    {
      "metadata": {
        "_uuid": "51d9ae12783ba9b3ff187c950ee346853f2ed01a",
        "collapsed": true,
        "trusted": true
      },
      "cell_type": "code",
      "source": "",
      "execution_count": null,
      "outputs": []
    },
    {
      "metadata": {
        "_uuid": "badca92a332e8ce662c70eb9e89be39bb34194b4"
      },
      "cell_type": "markdown",
      "source": "## k neighbers"
    },
    {
      "metadata": {
        "_uuid": "f0e2805094cbf554acc0a3e5883e5a867c6ba537",
        "collapsed": true,
        "trusted": true
      },
      "cell_type": "code",
      "source": "knr = make_pipeline(\n    #RobustScaler(),\n    KNeighborsRegressor()\n)\n\npar_space = {\n#    'n_neighbors':hp.choice('n_neighbors', [1,2,3,4,5,6,7,8,9,10]),\n#    'n_neighbors':hp.quniform('n_neighbors', 1, 10, 1),\n    'n_neighbors':hp.choice('n_neighbors', np.arange(1, 10, dtype=int))\n#    'coef0': # default value is enough\n    \n}",
      "execution_count": null,
      "outputs": []
    },
    {
      "metadata": {
        "_uuid": "f6696087040f0439f90a4b93ea9c7899f3d411a4"
      },
      "cell_type": "raw",
      "source": "best_params = searchHyperParam(knr, par_space, X_train, y_train, scoring=\"r2\", max_evals=max_evals, cv_size=cv_size, n_jobs=n_jobs)\nbest_params\n"
    },
    {
      "metadata": {
        "_uuid": "840d31b4aa93b07056a3278fcec3ed4e278ed6b1",
        "collapsed": true,
        "trusted": true
      },
      "cell_type": "code",
      "source": "best_params = {'n_neighbors': 8}",
      "execution_count": null,
      "outputs": []
    },
    {
      "metadata": {
        "_uuid": "0549b5ecee5c6ca424db931bb24e009ed70d510b",
        "collapsed": true,
        "trusted": true
      },
      "cell_type": "code",
      "source": "knr.steps[-1][1].set_params(**best_params)\n\n\nevalModelByCV(knr, X_train, y_train, scoring=\"neg_mean_squared_log_error\")\n\n#plot_my_learning_curves(X_train, y_train, X_test, y_test, knr, scoring=\"r2\", cv=5, n_jobs=n_jobs)",
      "execution_count": null,
      "outputs": []
    },
    {
      "metadata": {
        "_uuid": "2b2038265b61d65bdf75fa0d15f2ae896bd36079",
        "collapsed": true,
        "trusted": true
      },
      "cell_type": "code",
      "source": "",
      "execution_count": null,
      "outputs": []
    },
    {
      "metadata": {
        "_uuid": "b8106136a07c59210fed6404174b86e8e0beb0b3",
        "collapsed": true,
        "trusted": true
      },
      "cell_type": "code",
      "source": "",
      "execution_count": null,
      "outputs": []
    },
    {
      "metadata": {
        "_uuid": "04bf28546741479eb80913a8a170a1fae6983118"
      },
      "cell_type": "markdown",
      "source": "## Random forest"
    },
    {
      "metadata": {
        "_uuid": "659383dfa00469ed58eca5c1bfeab8216e5fc959",
        "collapsed": true,
        "trusted": true
      },
      "cell_type": "code",
      "source": "ranfore = make_pipeline(\n        #RobustScaler(),\n        RandomForestRegressor()\n)\n\npar_space = {\n    'n_estimators':hp.choice('n_estimators', np.arange(1, 100, dtype=int)),\n    'max_features':hp.choice('max_features', np.arange(1, 300, dtype=int)),\n    'max_depth':hp.choice('max_depth', np.arange(1, 300, dtype=int)),\n    'min_samples_split':hp.choice('min_samples_split', np.arange(2, 10, dtype=int)),\n    'min_samples_leaf':hp.choice('min_samples_leaf', np.arange(1, 9, dtype=int)),   \n}",
      "execution_count": null,
      "outputs": []
    },
    {
      "metadata": {
        "_uuid": "7fb7453de23f27a418c6f954a8d66081aecb1601"
      },
      "cell_type": "raw",
      "source": "%%time\nbest_params = searchHyperParam(ranfore, par_space, X_train, y_train, scoring=\"r2\", max_evals=max_evals, cv_size=cv_size, n_jobs=n_jobs)\nbest_params"
    },
    {
      "metadata": {
        "_uuid": "9a57adaec1b1761c8809761904b07cc82eafce8c",
        "collapsed": true,
        "trusted": true
      },
      "cell_type": "code",
      "source": "best_params = {'max_depth': 5,\n 'max_features': 226,\n 'min_samples_leaf': 5,\n 'min_samples_split': 3,\n 'n_estimators': 56}",
      "execution_count": null,
      "outputs": []
    },
    {
      "metadata": {
        "_uuid": "c5d244ef6854e22dbb2be264b023da8a64f2c8a9",
        "collapsed": true,
        "trusted": true
      },
      "cell_type": "code",
      "source": "ranfore.steps[-1][1].set_params(**best_params)\n\nevalModelByCV(ranfore, X_train, y_train, scoring=\"neg_mean_squared_log_error\")\n#plot_my_learning_curves(X_train, y_train, X_test, y_test, ranfore, scoring=\"r2\", cv=5, n_jobs=n_jobs)\n# plot feature importance\npd.concat((pd.DataFrame(X_train.columns, columns = ['variable']), \n           pd.DataFrame(ranfore.named_steps[\"randomforestregressor\"].feature_importances_, columns = ['importance'])), \n          axis = 1).sort_values(by='importance', ascending = False)",
      "execution_count": null,
      "outputs": []
    },
    {
      "metadata": {
        "_uuid": "e7eaf31576094f3999599cea50e79bf571ba42ce",
        "collapsed": true,
        "trusted": true
      },
      "cell_type": "code",
      "source": "",
      "execution_count": null,
      "outputs": []
    },
    {
      "metadata": {
        "_uuid": "d3ca2163bdd2eab3eba8b5fe38e834deeabcb330",
        "collapsed": true,
        "trusted": true
      },
      "cell_type": "code",
      "source": "",
      "execution_count": null,
      "outputs": []
    },
    {
      "metadata": {
        "_uuid": "3d6dc7b72e03a6cb97cae29e679ecd98cb5136ae"
      },
      "cell_type": "markdown",
      "source": "## gradient boosting"
    },
    {
      "metadata": {
        "_uuid": "8b876066b4849f14a12b35d217b17937a1ed861c",
        "collapsed": true,
        "trusted": true
      },
      "cell_type": "code",
      "source": "gboostreg = make_pipeline(\n        #RobustScaler(),\n        GradientBoostingRegressor()\n)\n\nloss_list = ['ls', 'lad', 'huber', 'quantile']\n\npar_space = {\n    'n_estimators':hp.choice('n_estimators', np.arange(1, 100, dtype=int)),\n    'learning_rate':hp.uniform('learning_rate', 0.000000001, 1.0),\n    'max_features':hp.choice('max_features', np.arange(1, 300, dtype=int)),\n    'max_depth':hp.choice('max_depth', np.arange(1, 300, dtype=int)),\n    'min_samples_split':hp.choice('min_samples_split', np.arange(2, 30, dtype=int)),\n    'min_samples_leaf':hp.choice('min_samples_leaf', np.arange(1, 29, dtype=int)),\n    'loss':hp.choice('loss', loss_list),\n    #'subsample':hp.uniform('learning_rate', 0.0, 1.0),\n    \n}\n",
      "execution_count": null,
      "outputs": []
    },
    {
      "metadata": {
        "_uuid": "ab2bff60da6f6caefa452927e97a8b22bd0ad2ee"
      },
      "cell_type": "raw",
      "source": "%%time\nbest_params = searchHyperParam(gboostreg, par_space, X_train, y_train, scoring=\"r2\", max_evals=max_evals, cv_size=cv_size, n_jobs=n_jobs)\nbest_params[\"loss\"] = loss_list[best_params[\"loss\"]]\nbest_params"
    },
    {
      "metadata": {
        "_uuid": "f1b590d0cf95f5f2eac2352bb599185e84576694",
        "collapsed": true,
        "trusted": true
      },
      "cell_type": "code",
      "source": "best_params = {'learning_rate': 0.35189025799801155,\n 'loss': 'huber',\n 'max_depth': 3,\n 'max_features': 119,\n 'min_samples_leaf': 16,\n 'min_samples_split': 19,\n 'n_estimators': 48}",
      "execution_count": null,
      "outputs": []
    },
    {
      "metadata": {
        "_uuid": "33e7529c1acd85b8c8b2bdb9633f4be3bdbfd703",
        "collapsed": true,
        "trusted": true
      },
      "cell_type": "code",
      "source": "gboostreg.steps[-1][1].set_params(**best_params)\n\nevalModelByCV(gboostreg, X_train, y_train, scoring=\"neg_mean_squared_log_error\")\n#plot_my_learning_curves(X_train, y_train, X_test, y_test, gboostreg, scoring=\"r2\", cv=5, n_jobs=n_jobs)\n# plot feature importance\npd.concat((pd.DataFrame(X_train.columns, columns = ['variable']), \n           pd.DataFrame(gboostreg.named_steps[\"gradientboostingregressor\"].feature_importances_, columns = ['importance'])), \n          axis = 1).sort_values(by='importance', ascending = False)",
      "execution_count": null,
      "outputs": []
    },
    {
      "metadata": {
        "_uuid": "dae320f8ab59ba4cc466ce7586f54a2508778c8b",
        "collapsed": true,
        "trusted": true
      },
      "cell_type": "code",
      "source": "",
      "execution_count": null,
      "outputs": []
    },
    {
      "metadata": {
        "_uuid": "0adcae6b1ee02533047371f63ed6fcf009b8ec10",
        "collapsed": true,
        "trusted": true
      },
      "cell_type": "code",
      "source": "",
      "execution_count": null,
      "outputs": []
    },
    {
      "metadata": {
        "_uuid": "55e193005be79e57e5a92dd09cc60574c1ac301b",
        "collapsed": true,
        "trusted": true
      },
      "cell_type": "code",
      "source": "",
      "execution_count": null,
      "outputs": []
    },
    {
      "metadata": {
        "_uuid": "ed45a4f0f51c84449a97bf7ed5a75f6d7f9efdea"
      },
      "cell_type": "markdown",
      "source": "## XGBoost"
    },
    {
      "metadata": {
        "_uuid": "00b2032403b2967a5d9f5e5176b6e6d57d5bcead",
        "collapsed": true,
        "trusted": true
      },
      "cell_type": "code",
      "source": "xgbmodel = make_pipeline(\n        #RobustScaler(),\n        XGBRegressor()\n)\n\n\npar_space = {\n    'n_estimators':hp.choice('n_estimators', np.arange(1, 100, dtype=int)),\n    'learning_rate':hp.uniform('learning_rate', 0.000000001, 1.0),\n    'max_depth':hp.choice('max_depth', np.arange(1, 300, dtype=int)), \n    'gamma':hp.uniform('gamma', 0.0, 5.0),\n    'min_child_weight':hp.uniform('min_child_weight', 0.0, 5.0),\n    'subsample': hp.uniform('subsample', 0.0, 1.0),\n    'colsample_bytree': hp.uniform('colsample_bytree', 0.0, 1.0),\n    'reg_alpha': hp.loguniform('reg_alpha', -6, 2),\n    'reg_lambda': hp.loguniform('reg_lambda', -6, 2),\n    'learning_rate': hp.uniform('learning_rate', 0.000000001, 1.0),\n}",
      "execution_count": null,
      "outputs": []
    },
    {
      "metadata": {
        "_uuid": "45b13d10dbb4cd48f40a93b089d1473a6d4b9176"
      },
      "cell_type": "raw",
      "source": "%%time\nbest_params = searchHyperParam(xgbmodel, par_space, X_train, y_train, scoring=\"r2\", max_evals=max_evals, cv_size=cv_size, n_jobs=n_jobs)\nbest_params"
    },
    {
      "metadata": {
        "_uuid": "01464b9c81b507a3cd49d2deae71babac0e3c280",
        "collapsed": true,
        "trusted": true
      },
      "cell_type": "code",
      "source": "best_params = {'colsample_bytree': 0.4708332878894328,\n 'gamma': 4.468853259609137,\n 'learning_rate': 0.05617427300476756,\n 'max_depth': 227,\n 'min_child_weight': 1.8959293704519609,\n 'n_estimators': 69,\n 'reg_alpha': 0.011073130482133953,\n 'reg_lambda': 0.00429738591644784,\n 'subsample': 0.034785099220768445}",
      "execution_count": null,
      "outputs": []
    },
    {
      "metadata": {
        "_uuid": "ea6e730a40483823e56173024a45023f15ed99e1",
        "collapsed": true,
        "trusted": true
      },
      "cell_type": "code",
      "source": "xgbmodel.steps[-1][1].set_params(**best_params)\n\nevalModelByCV(xgbmodel, X_train, y_train, scoring=\"neg_mean_squared_log_error\")\n#plot_my_learning_curves(X_train, y_train, X_test, y_test, xgbmodel, scoring=\"r2\", cv=5, n_jobs=n_jobs)\n\n\nxgb.plot_importance(xgbmodel.named_steps[\"xgbregressor\"], max_num_features=15)\nplt.show()\n\n# plot feature importance\npd.concat((pd.DataFrame(X_train.columns, columns = ['variable']), \n           pd.DataFrame(xgbmodel.named_steps[\"xgbregressor\"].feature_importances_, columns = ['importance'])), \n          axis = 1).sort_values(by='importance', ascending = False)",
      "execution_count": null,
      "outputs": []
    },
    {
      "metadata": {
        "_uuid": "768fad7d06ded517ea1316430117fc72bd3307d6",
        "collapsed": true,
        "trusted": true
      },
      "cell_type": "code",
      "source": "",
      "execution_count": null,
      "outputs": []
    },
    {
      "metadata": {
        "_uuid": "e894cda2ebea2e489aa7b8e6e2f1b7d81b5985de",
        "collapsed": true,
        "trusted": true
      },
      "cell_type": "code",
      "source": "",
      "execution_count": null,
      "outputs": []
    },
    {
      "metadata": {
        "_uuid": "bb2df4796c3f08f28b5435e39fcda129615960fa"
      },
      "cell_type": "markdown",
      "source": "## LightGBM"
    },
    {
      "metadata": {
        "_uuid": "299f3b889c4b8b0a812c154ae2094bad9575d2d1",
        "trusted": true,
        "collapsed": true
      },
      "cell_type": "code",
      "source": "lgbmodel = make_pipeline(\n        #RobustScaler(),\n        LGBMRegressor()\n)\n\npar_space = {\n    'learning_rate':hp.uniform('learning_rate', 0.000000001, 1.0),\n    'max_depth':hp.choice('max_depth', np.arange(1, 30, dtype=int)), \n    'num_leaves':hp.choice('num_leaves', np.arange(2, 10, dtype=int)),\n    'min_data_in_leaf':hp.choice('min_data_in_leaf', np.arange(1, 10, dtype=int)),\n    \n    'n_estimators':hp.choice('n_estimators', np.arange(1, 100, dtype=int)),\n    'max_bin':hp.choice('max_bin', np.arange(2, 30, dtype=int)),\n    'bagging_fraction': hp.uniform('bagging_fraction', 0.000000001, 1.0),\n    'bagging_freq': hp.randint('bagging_freq', 10),\n    'feature_fraction': hp.uniform('feature_fraction', 0.000000001, 1.0),\n    'min_sum_hessian_in_leaf': hp.loguniform('min_sum_hessian_in_leaf', -6, 2),\n}\n\n\"\"\"\npar_space = {\n    'learning_rate':hp.uniform('learning_rate', 0.000000001, 1.0),\n    'max_depth':hp.choice('max_depth', np.arange(1, 300, dtype=int)), \n    'num_leaves':hp.choice('num_leaves', np.arange(2, 100, dtype=int)),\n    'min_data_in_leaf':hp.choice('min_data_in_leaf', np.arange(1, 100, dtype=int)),\n    \n    'n_estimators':hp.choice('n_estimators', np.arange(1, 100, dtype=int)),\n    'max_bin':hp.choice('max_bin', np.arange(2, 300, dtype=int)),\n    'bagging_fraction': hp.uniform('bagging_fraction', 0.000000001, 1.0),\n    'bagging_freq': hp.randint('bagging_freq', 10),\n    'feature_fraction': hp.uniform('feature_fraction', 0.000000001, 1.0),\n    'min_sum_hessian_in_leaf': hp.loguniform('min_sum_hessian_in_leaf', -6, 2),\n}\n\"\"\"",
      "execution_count": null,
      "outputs": []
    },
    {
      "metadata": {
        "_uuid": "31439b9adfdfff4bf84563527eb4dfb6a91d77ac",
        "scrolled": false,
        "trusted": true,
        "collapsed": true
      },
      "cell_type": "code",
      "source": "%%time\ncv_size = 5\nmax_evals = 100\nn_jobs = 1\n\nbest_params = searchHyperParam(lgbmodel, par_space, X_train, y_train, scoring=\"neg_mean_squared_log_error\", max_evals=max_evals, cv_size=cv_size, n_jobs=n_jobs)\nbest_params",
      "execution_count": null,
      "outputs": []
    },
    {
      "metadata": {
        "_uuid": "005f57f0b65637f97b985117f11898d43fb59ee7"
      },
      "cell_type": "raw",
      "source": "# 100 trial\n\n\n# 5 trial\nbest trial:  {'loss': 0.09970461992182392, 'status': 'ok'}\nCPU times: user 1min 53s, sys: 5.56 s, total: 1min 59s\nWall time: 16.8 s"
    },
    {
      "metadata": {
        "_uuid": "59f767b2f483b07964b6ae64298bddaa345d53c3",
        "collapsed": true,
        "trusted": true
      },
      "cell_type": "code",
      "source": "# used 100 max_evalus score\n\nbest_params = {'bagging_fraction': 0.6488366999217055,\n 'bagging_freq': 4,\n 'feature_fraction': 0.8769912726752449,\n 'learning_rate': 0.2322285924856258,\n 'max_bin': 259,\n 'max_depth': 46,\n 'min_data_in_leaf': 34,\n 'min_sum_hessian_in_leaf': 0.011853166137307664,\n 'n_estimators': 54,\n 'num_leaves': 3}",
      "execution_count": null,
      "outputs": []
    },
    {
      "metadata": {
        "_uuid": "4e0d3eea153cbaa75c1a857e32381dd1b7da11c9",
        "trusted": true,
        "scrolled": true,
        "collapsed": true
      },
      "cell_type": "code",
      "source": "lgbmodel.steps[-1][1].set_params(**best_params)\n\n\nevalModelByCV(lgbmodel, X_train, y_train, scoring=\"neg_mean_squared_log_error\")\n\n\n#plot_my_learning_curves(X_train, y_train, X_test, y_test, lgbmodel, scoring=\"r2\", cv=5, n_jobs=3)\n\n# plot feature importance\npd.concat((pd.DataFrame(X_train.columns, columns = ['variable']), \n           pd.DataFrame(lgbmodel.named_steps[\"lgbmregressor\"].feature_importances_, columns = ['importance'])), \n          axis = 1).sort_values(by='importance', ascending = False)\n",
      "execution_count": null,
      "outputs": []
    },
    {
      "metadata": {
        "_uuid": "9f6ee69a017cbf8da06c38a1a3b15ad9db4a4e0b",
        "trusted": true,
        "collapsed": true
      },
      "cell_type": "code",
      "source": "lgbmodel.fit(X_train_df, y_train_df)\n\n\nsub = pd.DataFrame()\nsub['ID'] = id_test_df\nsub['target'] = np.expm1(lgbmodel.predict(test_df))\nsub.to_csv('../output/submission.csv', index=False)\n",
      "execution_count": null,
      "outputs": []
    },
    {
      "metadata": {
        "_uuid": "1537d713c2515e543f24d9795161460843d0cc80",
        "collapsed": true,
        "trusted": true
      },
      "cell_type": "code",
      "source": "",
      "execution_count": null,
      "outputs": []
    },
    {
      "metadata": {
        "_uuid": "2256ac7ad8b78a762890b4eca86db366336a54b0",
        "collapsed": true,
        "trusted": true
      },
      "cell_type": "code",
      "source": "",
      "execution_count": null,
      "outputs": []
    },
    {
      "metadata": {
        "_uuid": "9e3174f31cabd24cde6f6d05d0295a9eb6f7a1d3"
      },
      "cell_type": "markdown",
      "source": "## catboost"
    },
    {
      "metadata": {
        "_uuid": "b3ba08be2f59e7ac7e66456810716bbffead3f4d"
      },
      "cell_type": "raw",
      "source": "from catboost import CatBoostRegressor\n\nprint(list(obj_columns.columns.values))\nprint(cat_dims)"
    },
    {
      "metadata": {
        "_uuid": "316e87a9cbab7fb6295f713b4af5dea464c9afa8"
      },
      "cell_type": "raw",
      "source": "X_train_with_cat.head()"
    },
    {
      "metadata": {
        "_uuid": "043e551eb24cf2d4d1ca09e834cd619d4fa90862"
      },
      "cell_type": "raw",
      "source": "catReg = CatBoostRegressor(learning_rate=1,\n                          depth=6,\n                          loss_function='RMSE')\n\nfit_model = catReg.fit(X_train_with_cat, y_train_with_cat, cat_features=cat_dims)\n"
    },
    {
      "metadata": {
        "_uuid": "4915ff78f9784c3f8d5597ca037815dca458088f",
        "collapsed": true,
        "trusted": true
      },
      "cell_type": "code",
      "source": "",
      "execution_count": null,
      "outputs": []
    },
    {
      "metadata": {
        "_uuid": "483afb75061db3843a76e3a31c2ff1e6dd5abc95",
        "collapsed": true,
        "trusted": true
      },
      "cell_type": "code",
      "source": "",
      "execution_count": null,
      "outputs": []
    },
    {
      "metadata": {
        "_uuid": "084a5137ac0eaed337da8988bc5525b6bc54a606"
      },
      "cell_type": "markdown",
      "source": "## TPOT"
    },
    {
      "metadata": {
        "_uuid": "26bd98e8daeaa9726d272c86104adc0286089348"
      },
      "cell_type": "raw",
      "source": "from tpot import TPOTRegressor\n\ntpot = TPOTRegressor(\n    generations=30, \n    population_size=10, \n    verbosity=1,\n    early_stop=10,\n    n_jobs=n_jobs,\n    scoring='r2'\n#    mutation_rate=0.5,\n#    crossover_rate=0.5,\n#    config_dict='TPOT MDR',\n)\n\n# mutation_rate: default 0.9, crossover_rate: default 0.1\n# mutation_rate=0.5, crossover_rate=0.5)\n# , config_dict='TPOT MDR' should be better, but became fast and low score...\n\ntpot.fit(X_train, y_train)\n\nprint(\"test\", tpot.score(X_test, y_test))\n\n#tpot.export('tpot_'+ time.strftime(\"%Y-%m-%d-%H-%M-%S\") + '.py')"
    },
    {
      "metadata": {
        "_uuid": "92ac9acef64699924fd510451e39b602b24958ce",
        "collapsed": true,
        "trusted": true
      },
      "cell_type": "code",
      "source": "",
      "execution_count": null,
      "outputs": []
    },
    {
      "metadata": {
        "_uuid": "6d6dfe98d1eeecb44d02112c027fb6b3daf9f664",
        "collapsed": true,
        "trusted": true
      },
      "cell_type": "code",
      "source": "",
      "execution_count": null,
      "outputs": []
    },
    {
      "metadata": {
        "_uuid": "b934d243cbead60935d201ad8cad33591efea5ae"
      },
      "cell_type": "markdown",
      "source": "\n# Stacking"
    },
    {
      "metadata": {
        "_uuid": "56dc89d60c371f48a37044670fd37db88309d4d0",
        "collapsed": true,
        "scrolled": true,
        "trusted": true
      },
      "cell_type": "code",
      "source": "# svr, lasso, elasticnet, krr, knr, ranfore, gboostreg, xgbmodel\n\nstregr = StackingRegressor(regressors=[\n    svr,\n    lasso, \n    #elasticnet, \n    #krr, \n    #knr, \n    ranfore, \n    gboostreg, \n    xgbmodel,\n    lgbmodel,\n],\n                           meta_regressor=elasticnet)\n\n\nevalModelByCV(stregr, X_train, y_train, scoring=\"neg_mean_squared_log_error\")\n\n\n#plot_my_learning_curves(X_train, y_train, X_test, y_test, stregr, scoring=\"r2\", cv=5, n_jobs=n_jobs)\n\n",
      "execution_count": null,
      "outputs": []
    },
    {
      "metadata": {
        "_uuid": "c6e05ef4eea61249c9149252633368db55427610",
        "collapsed": true,
        "scrolled": false,
        "trusted": true
      },
      "cell_type": "code",
      "source": "# https://rasbt.github.io/mlxtend/api_subpackages/mlxtend.regressor/\nstregr.coef_",
      "execution_count": null,
      "outputs": []
    },
    {
      "metadata": {
        "_uuid": "a19e8d31d4cdb71fd10223003364ecae338a5fda",
        "collapsed": true,
        "trusted": true
      },
      "cell_type": "code",
      "source": "# Training the stacking classifier with all train data\n\nstregr.fit(train_df, y_train_df)",
      "execution_count": null,
      "outputs": []
    },
    {
      "metadata": {
        "_uuid": "614f4d98befd44b85dee23fd790220f8956ddb44",
        "collapsed": true,
        "trusted": true
      },
      "cell_type": "code",
      "source": "",
      "execution_count": null,
      "outputs": []
    },
    {
      "metadata": {
        "_uuid": "7204aa150cf5f6c8cede602a2a170f37197a21af",
        "collapsed": true,
        "trusted": true
      },
      "cell_type": "code",
      "source": "",
      "execution_count": null,
      "outputs": []
    },
    {
      "metadata": {
        "_uuid": "cd46ae2a7060931fdaaa967bbcecd83ea2277543"
      },
      "cell_type": "markdown",
      "source": "# Make submission file\n"
    },
    {
      "metadata": {
        "_uuid": "401db93b4f4f74f25ce6b4bb2fbfb1370b26feab",
        "collapsed": true,
        "trusted": true
      },
      "cell_type": "code",
      "source": "sub = pd.DataFrame()\nsub['ID'] = id_test_df\nsub['target'] = np.expm1(stregr.predict(test_df))\nsub.to_csv('../output/submission.csv', index=False)\n",
      "execution_count": null,
      "outputs": []
    },
    {
      "metadata": {
        "_uuid": "f81b3a760a6ef8f5b237d30d9c1f6e8f7a1ce9d9",
        "collapsed": true,
        "trusted": true
      },
      "cell_type": "code",
      "source": "",
      "execution_count": null,
      "outputs": []
    },
    {
      "metadata": {
        "_uuid": "916057226c2c5c3940913f2f16870cd368793b9c",
        "collapsed": true,
        "trusted": true
      },
      "cell_type": "code",
      "source": "",
      "execution_count": null,
      "outputs": []
    }
  ],
  "metadata": {
    "kernelspec": {
      "display_name": "Python 3",
      "language": "python",
      "name": "python3"
    },
    "language_info": {
      "name": "python",
      "version": "3.6.5",
      "mimetype": "text/x-python",
      "codemirror_mode": {
        "name": "ipython",
        "version": 3
      },
      "pygments_lexer": "ipython3",
      "nbconvert_exporter": "python",
      "file_extension": ".py"
    },
    "toc": {
      "base_numbering": 1,
      "nav_menu": {
        "height": "390px",
        "width": "474px"
      },
      "number_sections": true,
      "sideBar": true,
      "skip_h1_title": false,
      "title_cell": "Table of Contents",
      "title_sidebar": "Contents",
      "toc_cell": false,
      "toc_position": {
        "height": "calc(100% - 180px)",
        "left": "10px",
        "top": "150px",
        "width": "197px"
      },
      "toc_section_display": true,
      "toc_window_display": true
    },
    "varInspector": {
      "cols": {
        "lenName": 16,
        "lenType": 16,
        "lenVar": 40
      },
      "kernels_config": {
        "python": {
          "delete_cmd_postfix": "",
          "delete_cmd_prefix": "del ",
          "library": "var_list.py",
          "varRefreshCmd": "print(var_dic_list())"
        },
        "r": {
          "delete_cmd_postfix": ") ",
          "delete_cmd_prefix": "rm(",
          "library": "var_list.r",
          "varRefreshCmd": "cat(var_dic_list()) "
        }
      },
      "position": {
        "height": "330px",
        "left": "996px",
        "right": "30px",
        "top": "120px",
        "width": "340px"
      },
      "types_to_exclude": [
        "module",
        "function",
        "builtin_function_or_method",
        "instance",
        "_Feature"
      ],
      "window_display": false
    }
  },
  "nbformat": 4,
  "nbformat_minor": 1
}